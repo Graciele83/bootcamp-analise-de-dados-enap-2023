{
 "cells": [
  {
   "cell_type": "markdown",
   "id": "31f25970-1945-4166-8471-3730f6877495",
   "metadata": {},
   "source": [
    "# Exercícios: Aspectos Nativos de Python 🐍"
   ]
  },
  {
   "cell_type": "markdown",
   "id": "3c23a603-478e-48f9-a25e-42f015a30a2c",
   "metadata": {},
   "source": [
    "### Utilizando Métodos de Objetos"
   ]
  },
  {
   "cell_type": "markdown",
   "id": "827e15c2-1058-45ed-8c68-d6703e92d583",
   "metadata": {},
   "source": [
    "Na aula de hoje foram apresentados alguns tipos de objetos em Python:\n",
    "<table>\n",
    "    <tr><th>Nome</th><th>Tipo de Dados</th></tr>\n",
    "    <tr><td><b>str</b></td><td>Cadeia de caracteres (ex: \"Penso, logo existo\")</td></tr>\n",
    "    <tr><td><b>int</b></td><td>Números inteiros (ex: 2023)</td></tr>\n",
    "    <tr><td><b>float</b></td><td>Números não-inteiros. (ex: 3,1416)\n",
    "</td></tr>    \n",
    "\n",
    "</table>\n",
    "\n",
    "O método ,<code>dir()</code> pode ser utilizado para listar os métodos disponíveis em cada umd deles.\n",
    "Defina uma variável do tipo str e liste os métodos disponíveis."
   ]
  },
  {
   "cell_type": "code",
   "execution_count": 1,
   "id": "407f2dda-32b6-4e55-8a79-cfb7350f15a0",
   "metadata": {
    "tags": []
   },
   "outputs": [
    {
     "data": {
      "text/plain": [
       "['__add__',\n",
       " '__class__',\n",
       " '__contains__',\n",
       " '__delattr__',\n",
       " '__dir__',\n",
       " '__doc__',\n",
       " '__eq__',\n",
       " '__format__',\n",
       " '__ge__',\n",
       " '__getattribute__',\n",
       " '__getitem__',\n",
       " '__getnewargs__',\n",
       " '__getstate__',\n",
       " '__gt__',\n",
       " '__hash__',\n",
       " '__init__',\n",
       " '__init_subclass__',\n",
       " '__iter__',\n",
       " '__le__',\n",
       " '__len__',\n",
       " '__lt__',\n",
       " '__mod__',\n",
       " '__mul__',\n",
       " '__ne__',\n",
       " '__new__',\n",
       " '__reduce__',\n",
       " '__reduce_ex__',\n",
       " '__repr__',\n",
       " '__rmod__',\n",
       " '__rmul__',\n",
       " '__setattr__',\n",
       " '__sizeof__',\n",
       " '__str__',\n",
       " '__subclasshook__',\n",
       " 'capitalize',\n",
       " 'casefold',\n",
       " 'center',\n",
       " 'count',\n",
       " 'encode',\n",
       " 'endswith',\n",
       " 'expandtabs',\n",
       " 'find',\n",
       " 'format',\n",
       " 'format_map',\n",
       " 'index',\n",
       " 'isalnum',\n",
       " 'isalpha',\n",
       " 'isascii',\n",
       " 'isdecimal',\n",
       " 'isdigit',\n",
       " 'isidentifier',\n",
       " 'islower',\n",
       " 'isnumeric',\n",
       " 'isprintable',\n",
       " 'isspace',\n",
       " 'istitle',\n",
       " 'isupper',\n",
       " 'join',\n",
       " 'ljust',\n",
       " 'lower',\n",
       " 'lstrip',\n",
       " 'maketrans',\n",
       " 'partition',\n",
       " 'removeprefix',\n",
       " 'removesuffix',\n",
       " 'replace',\n",
       " 'rfind',\n",
       " 'rindex',\n",
       " 'rjust',\n",
       " 'rpartition',\n",
       " 'rsplit',\n",
       " 'rstrip',\n",
       " 'split',\n",
       " 'splitlines',\n",
       " 'startswith',\n",
       " 'strip',\n",
       " 'swapcase',\n",
       " 'title',\n",
       " 'translate',\n",
       " 'upper',\n",
       " 'zfill']"
      ]
     },
     "execution_count": 1,
     "metadata": {},
     "output_type": "execute_result"
    }
   ],
   "source": [
    "dir(\"texto\")"
   ]
  },
  {
   "cell_type": "markdown",
   "id": "93c46833-bf04-4420-973c-bb579b62a990",
   "metadata": {
    "tags": []
   },
   "source": [
    "## Utilizando a Ajuda do Python\n",
    "Dentre os métodos listados para um objeto do tipo \"str\", existe um método chamado startswith().<br>\n",
    "Utilize a função help() para exibir instruções sobre o funcionamento do método str.startswith()."
   ]
  },
  {
   "cell_type": "code",
   "execution_count": 2,
   "id": "13565c78-15db-4aae-831c-90ab951d6485",
   "metadata": {
    "tags": []
   },
   "outputs": [
    {
     "name": "stdout",
     "output_type": "stream",
     "text": [
      "Help on method_descriptor:\n",
      "\n",
      "startswith(...)\n",
      "    S.startswith(prefix[, start[, end]]) -> bool\n",
      "    \n",
      "    Return True if S starts with the specified prefix, False otherwise.\n",
      "    With optional start, test S beginning at that position.\n",
      "    With optional end, stop comparing S at that position.\n",
      "    prefix can also be a tuple of strings to try.\n",
      "\n"
     ]
    }
   ],
   "source": [
    "help(str.startswith)"
   ]
  },
  {
   "cell_type": "markdown",
   "id": "682c1a58-4ccf-4672-b724-d89a197ba61d",
   "metadata": {
    "tags": []
   },
   "source": [
    "Como visto, a função <b>startswith()</b> retorna verdadeiro caso a string testada inicie com o prefixo informado no parâmetro.<br>\n",
    "Ela pode ser utilizada para testar uma condição, por exemplo:\n",
    "<code>\n",
    "    pais = \"Brasil\"\n",
    "    print(pais.startswith(\"B\"))\n",
    "    >> True\n",
    "</code>"
   ]
  },
  {
   "cell_type": "markdown",
   "id": "6fe8afe7-13e8-49a8-8fac-890780a1e811",
   "metadata": {
    "tags": []
   },
   "source": [
    "## Percorrendo uma Coleção e Testando uma Condição\n",
    "\n",
    "Em Python, é possível percorrer uma coleção utilizando um iterador:\n",
    "<code>\n",
    "    for item in [1,2,3,4,5]:\n",
    "        print(item**2) ## Imprime o quadrado dos números da coleção\n",
    "</code>\n",
    "O fluxo do programa pode ser modificado com base em uma condição por meio das palavras-chave <b>if/then/else</b>.<br>\n",
    "Sabendo que o método <b>dir()</b> retorna uma coleção de strings, construa um iterador para imprimir somente os métodos da classe string cujos nomes  se iniciam pelo prefixo \"s\"."
   ]
  },
  {
   "cell_type": "code",
   "execution_count": 3,
   "id": "b792e887-3cc2-40d1-8501-c198ce3d1c5a",
   "metadata": {
    "tags": []
   },
   "outputs": [
    {
     "name": "stdout",
     "output_type": "stream",
     "text": [
      "split\n",
      "splitlines\n",
      "startswith\n",
      "strip\n",
      "swapcase\n"
     ]
    }
   ],
   "source": [
    "for item in dir(\"a\"):\n",
    "    if item.startswith(\"s\"):\n",
    "        print(item)"
   ]
  },
  {
   "cell_type": "markdown",
   "id": "087a347e-ac1c-43ee-ad64-342b876cdaab",
   "metadata": {
    "tags": []
   },
   "source": [
    "### Conversão de Tipos de Dados"
   ]
  },
  {
   "cell_type": "markdown",
   "id": "381ff346-9966-4ef6-82ec-7c071d6db7eb",
   "metadata": {
    "tags": []
   },
   "source": [
    "O tipo de dado em Python define quais operações podem ser realizadas com determinado objeto, além do comportamento dos operadores sobre os objetos.<br>\n",
    "Por essa razão é importante que os dados, que normalmente são disponibilizados em formato de texto, sejam convertidos para os tipos corretos.<br>\n",
    "Execute o código abaixo e observe o  comportamento dos operadores em diferentes tipos de dados:"
   ]
  },
  {
   "cell_type": "code",
   "execution_count": 4,
   "id": "9f8edaaa-6b01-438c-acb4-5f36a2a67027",
   "metadata": {
    "tags": []
   },
   "outputs": [
    {
     "name": "stdout",
     "output_type": "stream",
     "text": [
      "Tipo Textual\n",
      "txt+txt = 123123\n",
      "txt*3 = 123123123\n",
      "\n",
      "Tipo Numérico\n",
      "num+num: 246 \n",
      "num*3: 369\n"
     ]
    }
   ],
   "source": [
    "txt = \"123\"\n",
    "num = 123\n",
    "print('Tipo Textual')\n",
    "print(f'txt+txt = {txt+txt}')\n",
    "print(f'txt*3 = {txt*3}')\n",
    "print('\\nTipo Numérico')\n",
    "print(f'num+num: {num+num} ')\n",
    "print(f'num*3: {num*3}')"
   ]
  },
  {
   "cell_type": "markdown",
   "id": "a9a10e69-6798-4af0-8541-e645939ac64d",
   "metadata": {
    "tags": []
   },
   "source": [
    "Um dos formatos de dados frequentemente utilizados na troca de dados é o texto separado por vírgulas, normalmente referido pela sigla em inglês CSV.<br>\n",
    "O método <b>split()</b> permite converter um texto delimitado em uma coleção de valores para serem processados.<br>\n",
    "É necessário, no entanto, realizar a conversão dos valores para o tipo adequado antes de realizar o processamento desejado.<br>\n",
    "Dada variável de texto texto a seguir, escreva um programa para calcular a soma dos números nela presentes utilizando a função split e um iterador. Utilize o comando help(str.split) para verificar os parâmetros da função."
   ]
  },
  {
   "cell_type": "code",
   "execution_count": 5,
   "id": "d0e06116-c203-431b-b6cf-6572a4bc10b8",
   "metadata": {},
   "outputs": [],
   "source": [
    "linha = '14,58,134,8,22,54,73,91'"
   ]
  },
  {
   "cell_type": "code",
   "execution_count": 6,
   "id": "32c3fdbe-7951-4572-9d63-b55abb8d64b2",
   "metadata": {
    "tags": []
   },
   "outputs": [
    {
     "name": "stdout",
     "output_type": "stream",
     "text": [
      "454\n"
     ]
    }
   ],
   "source": [
    "soma = 0\n",
    "for n in linha.split(','):\n",
    "    soma += int(n)\n",
    "print(soma)"
   ]
  },
  {
   "cell_type": "markdown",
   "id": "c9e73cae-05da-43c0-8a51-ba4495a6b4d5",
   "metadata": {
    "tags": []
   },
   "source": [
    "É bastante comum que as bases de dados em formato texto possuam valores faltantes ou nulos. Os valores ausentes podem ser representados de diversas maneiras. É comum encontrar valores textuais tais como 'N/A', 'NULL' ou ' '.<br>\n",
    "Modifique o código do exercício anterior de modo que a soma seja realizada ainda que presente valores nulos, utilizando o método isdigit().<br>\n",
    "Por fim, imprima a média dos valores presentes na seguinte linha:"
   ]
  },
  {
   "cell_type": "code",
   "execution_count": 7,
   "id": "9a741d2b-aef2-4f17-b6b4-9303f1b32f6a",
   "metadata": {},
   "outputs": [],
   "source": [
    "linha = '14,58,N/A,134,8,NULL,22,54,\" \",73,91'"
   ]
  },
  {
   "cell_type": "code",
   "execution_count": 8,
   "id": "ebe75d42-fa9f-48a0-80d7-59cb4c92ae5b",
   "metadata": {
    "tags": []
   },
   "outputs": [
    {
     "name": "stdout",
     "output_type": "stream",
     "text": [
      "Soma dos valores:454 \n",
      "Média dos valores:56.75\n"
     ]
    }
   ],
   "source": [
    "soma = 0\n",
    "valores = 0\n",
    "for n in linha.split(','):\n",
    "    if(n.isdigit()):\n",
    "        soma += int(n)\n",
    "        valores +=1\n",
    "print(f'Soma dos valores:{soma} ')\n",
    "print(f'Média dos valores:{soma/valores}')"
   ]
  },
  {
   "cell_type": "markdown",
   "id": "9b79dab6-ff54-47f9-adae-d7afff571839",
   "metadata": {
    "tags": []
   },
   "source": [
    "### Trabalhando com Horas e Datas"
   ]
  },
  {
   "cell_type": "markdown",
   "id": "fa46d110-a2bd-4ee9-9691-f8f65814fa32",
   "metadata": {
    "tags": []
   },
   "source": [
    "#### Anos Bissextos"
   ]
  },
  {
   "cell_type": "markdown",
   "id": "d85711df-00ea-4823-8305-ea2dffc9a4bc",
   "metadata": {
    "tags": []
   },
   "source": [
    "As operações envolvendo intervalos de tempo e datas seguem regras próprias que envolvem calendário, finais de semana, fuso-horário, e diversas unidades de tempo simultâneamente como anos, meses, dias, horas, minutos e segundos.<br>\n",
    "Um ano é bissexto se:<br>\n",
    "    1. for divisível por 400 ou<br>\n",
    "    2. se for divisível por 4 mas não por 100.<br>\n",
    "Bissextos: 2004, 2020, 2024, 2000, 2400\n",
    "Não bissextos: 1900, 2100, 2200, 2001, 2002, 2003\n",
    "\n",
    "Escreva um loop para imprimir os anos bissextos da lista:"
   ]
  },
  {
   "cell_type": "code",
   "execution_count": 9,
   "id": "e13ff708-9533-43a1-a2e2-d3a1ed9710b0",
   "metadata": {},
   "outputs": [],
   "source": [
    "anos = [1900,2000,2004,2100,2200,2400]"
   ]
  },
  {
   "cell_type": "code",
   "execution_count": 1,
   "id": "699db338-843f-45d1-9935-4122b4bea54b",
   "metadata": {
    "tags": []
   },
   "outputs": [
    {
     "name": "stdout",
     "output_type": "stream",
     "text": [
      "2000\n",
      "2004\n",
      "2400\n"
     ]
    }
   ],
   "source": [
    "anos = [1900,2000,2004,2100,2200,2400]\n",
    "for n in anos:\n",
    "    if(n%400)==0:\n",
    "        print(n)\n",
    "    elif n%4==0 and not n%100==0:\n",
    "        print(n)"
   ]
  },
  {
   "cell_type": "markdown",
   "id": "7be87697-1cbb-4cb1-9751-ad8631a1f124",
   "metadata": {},
   "source": [
    "#### Utilizando o módulo datetime - Tempo de Vida"
   ]
  },
  {
   "cell_type": "markdown",
   "id": "30203627-7652-4488-a081-0938bd761cd1",
   "metadata": {},
   "source": [
    "O cálculo do número de dias entre duas datas deve, portanto, levar em conta a presença de anos bissextos no intervalo.<br>\n",
    "Para lidar com essas e outras complexidades, Python conta com o módulo <b>datetime</b>.<br>\n",
    "Importe os tipos <b>date</b> e <b>deltatime</b> para os próximos exercícios:\n",
    "<code>\n",
    "    from datetime import date, timedelta\n",
    "</code>\n",
    "Utilizando os métodos do módulo, calcule o total de dias e de segundos vividos por você desde seu nascimento.<br>\n",
    "Consulte a <a href='https://docs.python.org/3/library/datetime.html'>documentação</a> do módulo para localizar as funções necessárias tais como a que retorna a data atual e a que converte datas no formato ISO."
   ]
  },
  {
   "cell_type": "code",
   "execution_count": 3,
   "id": "da85d689-b73c-4e2b-b1b5-4112407f6877",
   "metadata": {
    "scrolled": true,
    "tags": []
   },
   "outputs": [
    {
     "name": "stdout",
     "output_type": "stream",
     "text": [
      "275 days, 16:38:23.527685\n",
      "23819903.527685\n"
     ]
    }
   ],
   "source": [
    "from datetime import date, timedelta, datetime\n",
    "hoje = datetime.now()\n",
    "nascimento = datetime.fromisoformat('2023-01-01')\n",
    "diferenca=hoje-nascimento\n",
    "print(diferenca)\n",
    "print(diferenca.total_seconds())"
   ]
  },
  {
   "cell_type": "markdown",
   "id": "f31b347e-1c39-4c57-b949-9acf7287c208",
   "metadata": {},
   "source": [
    "#### Utilizando o módulo datetime - Terremotos"
   ]
  },
  {
   "cell_type": "markdown",
   "id": "7d1a344b-eb1b-4f50-ae5a-71c678596137",
   "metadata": {},
   "source": [
    "A Califórnia é um estado americano com intensa atividade sísmica. Veja: https://en.wikipedia.org/wiki/List_of_earthquakes_in_California<br>\n",
    "Dada a lista de datas de terremotos a seguir, ordenada em ordem decrescente, imprima o intevalo de tempo entre eles em dias.<br>\n",
    "Calcule e imprima o prazo médio entre os terremotos."
   ]
  },
  {
   "cell_type": "code",
   "execution_count": 5,
   "id": "046e4161-3bb2-4e92-a7f4-de7129c81661",
   "metadata": {
    "tags": []
   },
   "outputs": [],
   "source": [
    "datas_csv = '2022-12-20,2019-07-05,2019-07-04,2014-08-24,2014-03-28,2010-04-04,2010-01-09,2008-07-29,2007-10-30,\\\n",
    "2003-12-22,2000-09-03,1999-10-16,1994-01-17,1992-06-28,1992-06-28,1992-04-26,1992-04-26,1992-04-25,\\\n",
    "1992-04-22,1991-06-28,1990-02-28,1989-10-17,1989-08-08,1987-11-24,1987-11-23,1987-10-01,1986-07-21,\\\n",
    "1986-07-13,1986-07-08,1984-04-24,1983-05-02,1981-04-26,1980-11-08,1980-05-25,1980-01-26,1980-01-24,\\\n",
    "1979-10-15,1979-08-06,1978-08-13,1975-08-01,1973-02-21,1971-02-09,1969-10-01,1969-10-01,1968-04-08,\\\n",
    "1957-03-22,1954-12-21,1952-08-22,1952-07-21,1948-12-04,1941-11-14,1941-06-30,1940-05-18,1933-03-10,\\\n",
    "1932-06-06,1927-11-04,1925-06-29,1923-01-22,1920-06-21,1918-04-21,1915-06-22,1906-04-18'"
   ]
  },
  {
   "cell_type": "code",
   "execution_count": 6,
   "id": "33bbfabb-3073-4708-8314-1d0ef4b6d395",
   "metadata": {
    "tags": []
   },
   "outputs": [
    {
     "name": "stdout",
     "output_type": "stream",
     "text": [
      "[1264, 1, 1775, 149, 1454, 85, 529, 273, 1408, 1205, 323, 2098, 568, 0, 63, 0, 1, 3, 299, 485, 134, 70, 623, 1, 53, 437, 8, 5, 805, 358, 736, 169, 167, 120, 2, 101, 70, 358, 1108, 891, 743, 496, 0, 541, 4035, 822, 851, 32, 1325, 2577, 137, 408, 2626, 277, 1676, 858, 889, 945, 792, 1034, 3352]\n",
      "Intervalo Médio: 698.6065573770492 dias\n"
     ]
    }
   ],
   "source": [
    "from datetime import date, timedelta\n",
    "inicial = 0;\n",
    "intervalos = []\n",
    "for data in datas_csv.split(','):\n",
    "    data = date.fromisoformat(data)\n",
    "    if inicial != 0:\n",
    "        delta = inicial-data\n",
    "        intervalos += [delta.days]\n",
    "    inicial = data\n",
    "print(intervalos)\n",
    "print(f'Intervalo Médio: {sum(intervalos)/len(intervalos)} dias')"
   ]
  },
  {
   "cell_type": "markdown",
   "id": "ae8ab604-065d-4a6d-b961-d5edb2c591d7",
   "metadata": {
    "tags": []
   },
   "source": [
    "Calcule quantos dias se passaram entre o último terremoto e hoje."
   ]
  },
  {
   "cell_type": "code",
   "execution_count": 7,
   "id": "f48e1ae5-731e-4ff8-932a-85fb0c3f6829",
   "metadata": {
    "tags": []
   },
   "outputs": [
    {
     "data": {
      "text/plain": [
       "287"
      ]
     },
     "execution_count": 7,
     "metadata": {},
     "output_type": "execute_result"
    }
   ],
   "source": [
    "ultimo_terremoto =  date.fromisoformat(datas_csv.split(',')[0])\n",
    "(date.today() - ultimo_terremoto).days"
   ]
  }
 ],
 "metadata": {
  "kernelspec": {
   "display_name": "Python 3 (ipykernel)",
   "language": "python",
   "name": "python3"
  },
  "language_info": {
   "codemirror_mode": {
    "name": "ipython",
    "version": 3
   },
   "file_extension": ".py",
   "mimetype": "text/x-python",
   "name": "python",
   "nbconvert_exporter": "python",
   "pygments_lexer": "ipython3",
   "version": "3.11.3"
  }
 },
 "nbformat": 4,
 "nbformat_minor": 5
}
