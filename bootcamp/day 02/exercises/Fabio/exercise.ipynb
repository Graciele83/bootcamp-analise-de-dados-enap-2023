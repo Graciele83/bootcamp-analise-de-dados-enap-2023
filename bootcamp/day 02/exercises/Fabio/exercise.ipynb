{
 "cells": [
  {
   "cell_type": "markdown",
   "metadata": {},
   "source": [
    "# Aspectos Nativos de Python - Parte 1"
   ]
  },
  {
   "cell_type": "markdown",
   "metadata": {},
   "source": [
    "## Investigue e comente o output dos códigos abaixo, antes de rodar as células:"
   ]
  },
  {
   "cell_type": "code",
   "execution_count": null,
   "metadata": {
    "scrolled": false
   },
   "outputs": [],
   "source": [
    "(2 > 3) or (15 < 20)"
   ]
  },
  {
   "cell_type": "code",
   "execution_count": null,
   "metadata": {
    "scrolled": false
   },
   "outputs": [],
   "source": [
    "(3 == 3.0) and (10 >= 11)"
   ]
  },
  {
   "cell_type": "code",
   "execution_count": null,
   "metadata": {
    "scrolled": true
   },
   "outputs": [],
   "source": [
    "(not False) ^ (True)"
   ]
  },
  {
   "cell_type": "code",
   "execution_count": null,
   "metadata": {},
   "outputs": [],
   "source": [
    "if (1):\n",
    "    print(\"Alô!\")\n",
    "\n",
    "if (0):\n",
    "    print(\"Oi!\")\n",
    "    \n",
    "if([]):\n",
    "    print(\"Ei!\")  \n",
    "    \n",
    "if not (''):\n",
    "    print(\"Olá!\")  "
   ]
  },
  {
   "cell_type": "code",
   "execution_count": null,
   "metadata": {
    "scrolled": true
   },
   "outputs": [],
   "source": [
    "lista_a = [2, 4, 6, 8]\n",
    "lista_b = lista_a\n",
    "lista_a.remove(6)\n",
    "print(lista_b)"
   ]
  },
  {
   "cell_type": "code",
   "execution_count": null,
   "metadata": {
    "scrolled": true
   },
   "outputs": [],
   "source": [
    "a, b = 5, 10\n",
    "a, b = 20, a + b\n",
    "print(f\"valor de a: {a}\")\n",
    "print(f\"valor de b: {b}\")"
   ]
  },
  {
   "cell_type": "markdown",
   "metadata": {},
   "source": [
    "## *For* e *while*"
   ]
  },
  {
   "cell_type": "markdown",
   "metadata": {},
   "source": [
    "Crie código que retorne todos os números de 1 e 100 divisíveis por 7 usando *for loop* e, em seguida, usando *while*."
   ]
  },
  {
   "cell_type": "code",
   "execution_count": null,
   "metadata": {},
   "outputs": [],
   "source": []
  },
  {
   "cell_type": "code",
   "execution_count": null,
   "metadata": {},
   "outputs": [],
   "source": []
  },
  {
   "cell_type": "markdown",
   "metadata": {},
   "source": [
    "Crie um código que reproduza o padrão de números a seguir."
   ]
  },
  {
   "cell_type": "markdown",
   "metadata": {},
   "source": [
    "5 4 3 2 1 0 <br>\n",
    "4 3 2 1 0 <br>\n",
    "3 2 1 0 <br>\n",
    "2 1 0 <br>\n",
    "1 0 <br>\n",
    "0 <br>"
   ]
  },
  {
   "cell_type": "markdown",
   "metadata": {},
   "source": [
    "*dica*: lembre-se que você pode usar um *for loop* dentro de um *for loop*. \n",
    "\n",
    "*dica 2*: a função **print()** aceita o argumento *end*, que tem por padrão uma quebra de linha (\\n)."
   ]
  },
  {
   "cell_type": "code",
   "execution_count": null,
   "metadata": {
    "scrolled": true
   },
   "outputs": [],
   "source": []
  },
  {
   "cell_type": "markdown",
   "metadata": {},
   "source": [
    "## Explorando as estatísticas brasileiras de comércio exterior"
   ]
  },
  {
   "cell_type": "markdown",
   "metadata": {},
   "source": [
    "A ferramenta ComexStat (http://comexstat.mdic.gov.br/pt/geral) permite a criação de consultas aos dados de comércio exterior em diversos níveis de detalhamento. Podemos, por exemplo, checar rapidamente os principais destinos das exportações brasileiras. "
   ]
  },
  {
   "cell_type": "code",
   "execution_count": null,
   "metadata": {},
   "outputs": [],
   "source": [
    "# Dados de 2022\n",
    "paises_destino = [\"China\", \"Estados Unidos\", \"Argentina\", \"Países Baixos (Holanda)\", \"Espanha\"]\n",
    "valor_bilhoes_usd = [89.427, 37.437, 15.344, 11.927, 9.747]"
   ]
  },
  {
   "cell_type": "markdown",
   "metadata": {},
   "source": [
    "Vamos escrever um ranking dos principais destinos das exportações brasileiras em 2022. Crie um código que retorne, para cada país da lista, a expressão \"[posição] lugar: [país] - US$ [valor] bilhões\", usando uma casa decimal de precisão. \n",
    "\n",
    "Exemplo: \"1º lugar: China - US$ 89.4 bilhões\"."
   ]
  },
  {
   "cell_type": "code",
   "execution_count": null,
   "metadata": {
    "scrolled": true
   },
   "outputs": [],
   "source": []
  }
 ],
 "metadata": {
  "kernelspec": {
   "display_name": "Python 3",
   "language": "python",
   "name": "python3"
  },
  "language_info": {
   "codemirror_mode": {
    "name": "ipython",
    "version": 3
   },
   "file_extension": ".py",
   "mimetype": "text/x-python",
   "name": "python",
   "nbconvert_exporter": "python",
   "pygments_lexer": "ipython3",
   "version": "3.7.3"
  },
  "toc": {
   "base_numbering": 1,
   "nav_menu": {},
   "number_sections": true,
   "sideBar": true,
   "skip_h1_title": false,
   "title_cell": "Table of Contents",
   "title_sidebar": "Contents",
   "toc_cell": false,
   "toc_position": {},
   "toc_section_display": true,
   "toc_window_display": false
  }
 },
 "nbformat": 4,
 "nbformat_minor": 5
}
