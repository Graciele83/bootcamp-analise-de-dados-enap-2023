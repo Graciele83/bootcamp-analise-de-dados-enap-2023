{
 "cells": [
  {
   "cell_type": "markdown",
   "id": "5e02f661",
   "metadata": {},
   "source": [
    "# Aspectos Nativos de Python - Parte 1"
   ]
  },
  {
   "cell_type": "markdown",
   "id": "539369e5",
   "metadata": {},
   "source": [
    "## Investigue e comente o output dos códigos abaixo, antes de rodar as células:"
   ]
  },
  {
   "cell_type": "code",
   "execution_count": null,
   "id": "ec74e961",
   "metadata": {
    "scrolled": false
   },
   "outputs": [],
   "source": [
    "(2 > 3) or (15 < 20)"
   ]
  },
  {
   "cell_type": "code",
   "execution_count": null,
   "id": "38e2d229",
   "metadata": {
    "scrolled": false
   },
   "outputs": [],
   "source": [
    "(3 == 3.0) and (10 >= 11)"
   ]
  },
  {
   "cell_type": "code",
   "execution_count": null,
   "id": "b9e071a5",
   "metadata": {
    "scrolled": true
   },
   "outputs": [],
   "source": [
    "(not False) ^ (True)"
   ]
  },
  {
   "cell_type": "code",
   "execution_count": null,
   "id": "352481b9",
   "metadata": {},
   "outputs": [],
   "source": [
    "if (1):\n",
    "    print(\"Alô!\")\n",
    "\n",
    "if (0):\n",
    "    print(\"Oi!\")\n",
    "    \n",
    "if([]):\n",
    "    print(\"Ei!\")  \n",
    "    \n",
    "if not (''):\n",
    "    print(\"Olá!\")  "
   ]
  },
  {
   "cell_type": "code",
   "execution_count": null,
   "id": "41d07ff3",
   "metadata": {
    "scrolled": true
   },
   "outputs": [],
   "source": [
    "lista_a = [2, 4, 6, 8]\n",
    "lista_b = lista_a\n",
    "lista_a.remove(6)\n",
    "print(lista_b)"
   ]
  },
  {
   "cell_type": "code",
   "execution_count": null,
   "id": "e824320b",
   "metadata": {
    "scrolled": true
   },
   "outputs": [],
   "source": [
    "a, b = 5, 10\n",
    "a, b = 20, a + b\n",
    "print(f\"valor de a: {a}\")\n",
    "print(f\"valor de b: {b}\")"
   ]
  },
  {
   "cell_type": "markdown",
   "id": "ffec4ebc",
   "metadata": {},
   "source": [
    "## *For* e *while*"
   ]
  },
  {
   "cell_type": "markdown",
   "id": "fbcbc257",
   "metadata": {},
   "source": [
    "Crie código que retorne todos os números de 1 e 100 divisíveis por 7 usando *for loop* e, em seguida, usando *while*."
   ]
  },
  {
   "cell_type": "code",
   "execution_count": null,
   "id": "91d66ff9",
   "metadata": {},
   "outputs": [],
   "source": []
  },
  {
   "cell_type": "code",
   "execution_count": null,
   "id": "6ca64523",
   "metadata": {},
   "outputs": [],
   "source": []
  },
  {
   "cell_type": "markdown",
   "id": "6773508b",
   "metadata": {},
   "source": [
    "Crie um código que reproduza o padrão de números a seguir (ignore os caracteres #).  "
   ]
  },
  {
   "cell_type": "code",
   "execution_count": null,
   "id": "dafc397d",
   "metadata": {},
   "outputs": [],
   "source": [
    "# 5 4 3 2 1 0 \n",
    "# 4 3 2 1 0 \n",
    "# 3 2 1 0\n",
    "# 2 1 0\n",
    "# 1 0\n",
    "# 0"
   ]
  },
  {
   "cell_type": "markdown",
   "id": "5f24bc24",
   "metadata": {},
   "source": [
    "*dica*: lembre-se que você pode usar um *for loop* dentro de um *for loop*. \n",
    "\n",
    "*dica 2*: a função **print()** aceita o argumento *end*, que tem por padrão uma quebra de linha (\\n)."
   ]
  },
  {
   "cell_type": "code",
   "execution_count": 3,
   "id": "0988bed6",
   "metadata": {},
   "outputs": [
    {
     "name": "stdout",
     "output_type": "stream",
     "text": [
      "5 4 3 2 1 0 \n",
      "4 3 2 1 0 \n",
      "3 2 1 0 \n",
      "2 1 0 \n",
      "1 0 \n",
      "0 \n"
     ]
    }
   ],
   "source": [
    "for i in range(5, -1, -1):\n",
    "    #print(i)\n",
    "    for j in range(i, -1, -1):\n",
    "        print(j, end = \" \")\n",
    "    print('')"
   ]
  },
  {
   "cell_type": "markdown",
   "id": "4901f832",
   "metadata": {},
   "source": [
    "## Explorando as estatísticas brasileiras de comércio exterior"
   ]
  },
  {
   "cell_type": "markdown",
   "id": "d5c54090",
   "metadata": {},
   "source": [
    "A ferramenta ComexStat (http://comexstat.mdic.gov.br/pt/geral) permite a criação de consultas aos dados de comércio exterior em diversos níveis de detalhamento. Podemos, por exemplo, checar rapidamente os principais destinos das exportações brasileiras. "
   ]
  },
  {
   "cell_type": "code",
   "execution_count": 5,
   "id": "5d2f33ab",
   "metadata": {},
   "outputs": [],
   "source": [
    "# Dados de 2022\n",
    "paises_destino = [\"China\", \"Estados Unidos\", \"Argentina\", \"Países Baixos (Holanda)\", \"Espanha\"]\n",
    "valor_bilhoes_usd = [89.427, 37.437, 15.344, 11.927, 9.747]"
   ]
  },
  {
   "cell_type": "markdown",
   "id": "301e494d",
   "metadata": {},
   "source": [
    "Vamos escrever um ranking dos principais destinos das exportações brasileiras em 2022. Crie um código que retorne, para cada país da lista, a expressão \"[posição] lugar: [país] - US$ [valor] bilhões\", usando uma casa decimal de precisão. \n",
    "\n",
    "Exemplo: \"1º lugar: China - US$ 89,4 bilhões\"."
   ]
  },
  {
   "cell_type": "code",
   "execution_count": 26,
   "id": "10368cb2",
   "metadata": {},
   "outputs": [
    {
     "name": "stdout",
     "output_type": "stream",
     "text": [
      "1 lugar: China -  89,4 bilhões\n",
      "2 lugar: Estados Unidos -  37,4 bilhões\n",
      "3 lugar: Argentina -  15,3 bilhões\n",
      "4 lugar: Países Baixos (Holanda) -  11,9 bilhões\n",
      "5 lugar: Espanha -  9,7 bilhões\n"
     ]
    }
   ],
   "source": [
    "for i in range(len(paises_destino)):\n",
    "    print(f'{i + 1} lugar: {paises_destino[i]} - ', f'{valor_bilhoes_usd[i]:.1f}'.replace('.', ','), 'bilhões')"
   ]
  }
 ],
 "metadata": {
  "kernelspec": {
   "display_name": "Python 3 (ipykernel)",
   "language": "python",
   "name": "python3"
  },
  "language_info": {
   "codemirror_mode": {
    "name": "ipython",
    "version": 3
   },
   "file_extension": ".py",
   "mimetype": "text/x-python",
   "name": "python",
   "nbconvert_exporter": "python",
   "pygments_lexer": "ipython3",
   "version": "3.7.3"
  },
  "toc": {
   "base_numbering": 1,
   "nav_menu": {},
   "number_sections": true,
   "sideBar": true,
   "skip_h1_title": false,
   "title_cell": "Table of Contents",
   "title_sidebar": "Contents",
   "toc_cell": false,
   "toc_position": {},
   "toc_section_display": true,
   "toc_window_display": false
  }
 },
 "nbformat": 4,
 "nbformat_minor": 5
}
