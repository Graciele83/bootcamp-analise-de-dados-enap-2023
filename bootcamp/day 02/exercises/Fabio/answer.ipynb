{
 "cells": [
  {
   "cell_type": "markdown",
   "id": "1171b878",
   "metadata": {},
   "source": [
    "# Aspectos Nativos de Python - Parte 1"
   ]
  },
  {
   "cell_type": "markdown",
   "id": "9350f353",
   "metadata": {},
   "source": [
    "## Investigue e comente o output dos códigos abaixo, antes de rodar as células:"
   ]
  },
  {
   "cell_type": "code",
   "execution_count": null,
   "id": "ae5882b1",
   "metadata": {
    "scrolled": false
   },
   "outputs": [],
   "source": [
    "(2 > 3) or (15 < 20)"
   ]
  },
  {
   "cell_type": "code",
   "execution_count": null,
   "id": "33c1bef7",
   "metadata": {},
   "outputs": [],
   "source": [
    "# Output: True \n",
    "# uma expressão falsa OU uma expressão verdadeira"
   ]
  },
  {
   "cell_type": "code",
   "execution_count": null,
   "id": "3e7969bf",
   "metadata": {
    "scrolled": false
   },
   "outputs": [],
   "source": [
    "(3 == 3.0) and (10 >= 11)"
   ]
  },
  {
   "cell_type": "code",
   "execution_count": null,
   "id": "d44fbd3a",
   "metadata": {},
   "outputs": [],
   "source": [
    "# Output: False\n",
    "# uma expressão verdadeira E uma expressão falsa"
   ]
  },
  {
   "cell_type": "code",
   "execution_count": null,
   "id": "d16c8d34",
   "metadata": {
    "scrolled": true
   },
   "outputs": [],
   "source": [
    "(not False) ^ (True)"
   ]
  },
  {
   "cell_type": "code",
   "execution_count": null,
   "id": "2bebc93e",
   "metadata": {},
   "outputs": [],
   "source": [
    "# Output: False\n",
    "# duas expressões verdadeiras retornam falso em um \"ou exclusivo\""
   ]
  },
  {
   "cell_type": "code",
   "execution_count": null,
   "id": "f59d2e40",
   "metadata": {},
   "outputs": [],
   "source": [
    "if (1):\n",
    "    print(\"Alô!\")\n",
    "\n",
    "if (0):\n",
    "    print(\"Oi!\")\n",
    "    \n",
    "if([]):\n",
    "    print(\"Ei!\")  \n",
    "    \n",
    "if not (''):\n",
    "    print(\"Olá!\")  "
   ]
  },
  {
   "cell_type": "code",
   "execution_count": null,
   "id": "84d51d45",
   "metadata": {},
   "outputs": [],
   "source": [
    "# Output: \n",
    "# Alô!\n",
    "# Olá!\n",
    "\n",
    "# Em Python existem valores que são equivalentes a True ou False no contexto de uma condição.\n",
    "# 0, 0.0, '' (string vazia), lista vazia, dicionário vazio, etc, são considerados False\n",
    "# Demais são considerados True "
   ]
  },
  {
   "cell_type": "code",
   "execution_count": null,
   "id": "8f254bd0",
   "metadata": {
    "scrolled": true
   },
   "outputs": [],
   "source": [
    "lista_a = [2, 4, 6, 8]\n",
    "lista_b = lista_a\n",
    "lista_a.remove(6)\n",
    "print(lista_b)"
   ]
  },
  {
   "cell_type": "code",
   "execution_count": null,
   "id": "dfd0d947",
   "metadata": {},
   "outputs": [],
   "source": [
    "# Output: [2, 4, 8]\n",
    "\n",
    "# Ao criarmos a lista [2, 4, 6, 8], o nome (lista_a) aponta para esse objeto na memória\n",
    "# Em 'lista_b = lista_a', atribuímos mais um nome (lista_b) ao mesmo objeto, não criamos uma cópia dele. \n",
    "# Portanto, alterando o objeto nomeado lista_a, também alteramos o objeto nomeado lista_b."
   ]
  },
  {
   "cell_type": "code",
   "execution_count": null,
   "id": "ca56ee1a",
   "metadata": {
    "scrolled": true
   },
   "outputs": [],
   "source": [
    "a, b = 5, 10\n",
    "a, b = 20, a + b\n",
    "print(f\"valor de a: {a}\")\n",
    "print(f\"valor de b: {b}\")"
   ]
  },
  {
   "cell_type": "code",
   "execution_count": null,
   "id": "f7a732c0",
   "metadata": {},
   "outputs": [],
   "source": [
    "# Output: \n",
    "# valor de a: 20\n",
    "# valor de b: 15\n",
    "\n",
    "# ao atribuirmos novos valores a 'a' e 'b' na segunda linha, Python primeiro computa as expressões no lado direito do assignment\n",
    "# em seguida atualiza os valores das variáveis\n",
    "# portanto o 'a' na expressão 'a + b' é considerado com o primeiro valor atribuido (5)."
   ]
  },
  {
   "cell_type": "markdown",
   "id": "ba01c4c1",
   "metadata": {},
   "source": [
    "## *For* e *while*"
   ]
  },
  {
   "cell_type": "markdown",
   "id": "9b06921e",
   "metadata": {},
   "source": [
    "Crie código que retorne todos os números de 1 e 100 divisíveis por 7 usando *for loop* e, em seguida, com *while*."
   ]
  },
  {
   "cell_type": "code",
   "execution_count": null,
   "id": "e5e8bdb1",
   "metadata": {
    "scrolled": false
   },
   "outputs": [],
   "source": [
    "for n in range(1, 101):\n",
    "    if n % 7 == 0:\n",
    "        print(n, end = \" \")"
   ]
  },
  {
   "cell_type": "code",
   "execution_count": null,
   "id": "0b542eab",
   "metadata": {
    "scrolled": true
   },
   "outputs": [],
   "source": [
    "n = 1\n",
    "while n <= 100:\n",
    "    if n % 7 == 0:\n",
    "        print(n, end = \" \")\n",
    "    n += 1"
   ]
  },
  {
   "cell_type": "markdown",
   "id": "92d96e6d",
   "metadata": {},
   "source": [
    "Crie um código que reproduza o padrão de números a seguir.  "
   ]
  },
  {
   "cell_type": "markdown",
   "id": "9c9c5dfc",
   "metadata": {},
   "source": [
    "5 4 3 2 1 0 <br>\n",
    "4 3 2 1 0 <br>\n",
    "3 2 1 0 <br>\n",
    "2 1 0 <br>\n",
    "1 0 <br>\n",
    "0 <br>"
   ]
  },
  {
   "cell_type": "markdown",
   "id": "5d5cab95",
   "metadata": {},
   "source": [
    "*dica*: lembre-se que você pode usar um *for loop* dentro de um *for loop*. \n",
    "\n",
    "*dica 2*: a função **print()** aceita o argumento *end*, que tem por padrão uma quebra de linha (\\n)."
   ]
  },
  {
   "cell_type": "code",
   "execution_count": null,
   "id": "68500779",
   "metadata": {
    "scrolled": true
   },
   "outputs": [],
   "source": [
    "for i in range(5, -1, -1):\n",
    "    for j in range(i, -1, -1):\n",
    "            print(j, end = \" \")\n",
    "    print(\"\")"
   ]
  },
  {
   "cell_type": "markdown",
   "id": "b55b7df4",
   "metadata": {},
   "source": [
    "## Explorando as estatísticas brasileiras de comércio exterior"
   ]
  },
  {
   "cell_type": "markdown",
   "id": "f2501b9d",
   "metadata": {},
   "source": [
    "A ferramenta ComexStat (http://comexstat.mdic.gov.br/pt/geral) permite a criação de consultas aos dados de comércio exterior em diversos níveis de detalhamento. Podemos, por exemplo, checar rapidamente os principais destinos das exportações brasileiras."
   ]
  },
  {
   "cell_type": "code",
   "execution_count": null,
   "id": "8b6d3522",
   "metadata": {},
   "outputs": [],
   "source": [
    "# Dados de 2022\n",
    "paises_destino = [\"China\", \"Estados Unidos\", \"Argentina\", \"Países Baixos (Holanda)\", \"Espanha\"]\n",
    "valor_bilhoes_usd = [89.427, 37.437, 15.344, 11.927, 9.747]"
   ]
  },
  {
   "cell_type": "markdown",
   "id": "d24b66cf",
   "metadata": {},
   "source": [
    "Vamos escrever um ranking dos principais destinos das exportações brasileiras em 2022. Crie um código que retorne, para cada país da lista, a expressão \"[posição] lugar: [país] - US$ [valor] bilhões\", usando uma casa decimal. \n",
    "\n",
    "Exemplo: \"1º lugar: China - US$ 89.4 bilhões\"."
   ]
  },
  {
   "cell_type": "code",
   "execution_count": null,
   "id": "5d080c74",
   "metadata": {
    "scrolled": true
   },
   "outputs": [],
   "source": [
    "for i in range(len(paises_destino)):\n",
    "    print(f\"{i + 1}º lugar: {paises_destino[i]} - US$ {valor_bilhoes_usd[i]:.1f} bilhões\")"
   ]
  }
 ],
 "metadata": {
  "kernelspec": {
   "display_name": "Python 3 (ipykernel)",
   "language": "python",
   "name": "python3"
  },
  "language_info": {
   "codemirror_mode": {
    "name": "ipython",
    "version": 3
   },
   "file_extension": ".py",
   "mimetype": "text/x-python",
   "name": "python",
   "nbconvert_exporter": "python",
   "pygments_lexer": "ipython3",
   "version": "3.7.3"
  },
  "toc": {
   "base_numbering": 1,
   "nav_menu": {},
   "number_sections": true,
   "sideBar": true,
   "skip_h1_title": false,
   "title_cell": "Table of Contents",
   "title_sidebar": "Contents",
   "toc_cell": false,
   "toc_position": {},
   "toc_section_display": true,
   "toc_window_display": false
  }
 },
 "nbformat": 4,
 "nbformat_minor": 5
}
