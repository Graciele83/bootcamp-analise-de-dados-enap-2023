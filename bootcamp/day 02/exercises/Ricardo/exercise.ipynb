{
 "cells": [
  {
   "cell_type": "markdown",
   "id": "6d8f294d",
   "metadata": {},
   "source": [
    "# Exercícios: Aspectos Nativos de Python 🐍"
   ]
  },
  {
   "cell_type": "markdown",
   "id": "dbdb5821",
   "metadata": {},
   "source": [
    "## Manipulação de variáveis e funções básicas"
   ]
  },
  {
   "cell_type": "markdown",
   "id": "8046bdf6",
   "metadata": {},
   "source": [
    "Na aula de hoje, você aprendeu sobre tipos de variáveis e como utilizar funções básicas do Python. Responda aos exercícios conforme as instruções."
   ]
  },
  {
   "cell_type": "markdown",
   "id": "170842cb",
   "metadata": {},
   "source": [
    "😇 **Exercício 1**: Olá mundo!\n",
    "1. Crie duas variáveis chamadas `nome` e `sobrenome` e atribua o seu nome e o seu sobrenome a elas, respectivamente."
   ]
  },
  {
   "cell_type": "code",
   "execution_count": null,
   "id": "186cb91b",
   "metadata": {},
   "outputs": [],
   "source": []
  },
  {
   "cell_type": "markdown",
   "id": "dfe1a65e",
   "metadata": {},
   "source": [
    "2. Utilize funções de manipulação de *strings* para capitalizar a primeira letra do seu nome e transformar em maiúsculas todas as letras do seu sobrenome."
   ]
  },
  {
   "cell_type": "code",
   "execution_count": null,
   "id": "1a1e4cdb",
   "metadata": {},
   "outputs": [],
   "source": []
  },
  {
   "cell_type": "markdown",
   "id": "ad95e98f",
   "metadata": {},
   "source": [
    "3. Imprima, na mesma linha, a seguinte frase, utilizando o conteúdo das variáveis nos locais indicados:\n",
    "<br><br> Olá Mundo! Meu nome é `sobrenome`, `nome` `sobrenome`"
   ]
  },
  {
   "cell_type": "code",
   "execution_count": null,
   "id": "8ed9957a",
   "metadata": {},
   "outputs": [],
   "source": []
  },
  {
   "cell_type": "markdown",
   "id": "904c245a",
   "metadata": {},
   "source": [
    "4. Agora... Troque os valores de `nome` e `sobrenome` sem usar variáveis adicionais! Imprima os valores de `nome` e `sobrenome` para se certificar de que elas foram trocadas."
   ]
  },
  {
   "cell_type": "code",
   "execution_count": null,
   "id": "1e0e3c08",
   "metadata": {},
   "outputs": [],
   "source": []
  },
  {
   "cell_type": "markdown",
   "id": "cf86407c",
   "metadata": {},
   "source": [
    "## Estruturas de repetição"
   ]
  },
  {
   "cell_type": "markdown",
   "id": "20de4342",
   "metadata": {},
   "source": [
    "😇 **Exercício 2**: Irmãozinho chato!"
   ]
  },
  {
   "cell_type": "markdown",
   "id": "48f546ca",
   "metadata": {},
   "source": [
    "Crie um pequeno código que simule aquele irmãozinho irritante! O código deverá ler da entrada uma frase inteira do tipo *Sai do meu quarto!* e imprimir a mesma frase com as palavras `nhem nhem! :-P` no final. A brincadeira deverá continuar até que o usuário digite 'mamãe!', ou seja, quando o usuário digitar 'mamae!', o código deverá finalizar sem a repetição da última frase. Exemplo de execução do código:\n",
    "\n",
    "<br>\n",
    "<br> Entrada: Sai do meu quarto!\n",
    "<br> Sai do meu quarto! nhem nhem! :-P\n",
    "<br> Entrada: Vou chamar a mamãe!\n",
    "<br> Vou chamar a mamãe! nhem nhem! :-P\n",
    "<br> Entrada: mamãe!\n"
   ]
  },
  {
   "cell_type": "code",
   "execution_count": null,
   "id": "b48c0d43",
   "metadata": {},
   "outputs": [],
   "source": []
  },
  {
   "cell_type": "code",
   "execution_count": null,
   "id": "91b99ca4",
   "metadata": {},
   "outputs": [],
   "source": []
  },
  {
   "cell_type": "markdown",
   "id": "02d23698",
   "metadata": {},
   "source": [
    "😯 **Exercício 3**: Analizador de sequência de números"
   ]
  },
  {
   "cell_type": "markdown",
   "id": "ac81b157",
   "metadata": {},
   "source": [
    "Escreva um programa que analise uma sequência de números para identificar certas características. O programa deverá ser capaz de detectar se a sequência é *crescente*, *decrescente*, ou *sem padrão*. Ele também deve calcular a média dos números lidos e determinar quantos números estão acima e abaixo da média."
   ]
  },
  {
   "cell_type": "markdown",
   "id": "57e8ab6d",
   "metadata": {},
   "source": [
    "Passo 1: Pergunte ao usuário o número **n** de elementos que ele deseja na sequência."
   ]
  },
  {
   "cell_type": "code",
   "execution_count": 17,
   "id": "af541aae",
   "metadata": {},
   "outputs": [
    {
     "name": "stdin",
     "output_type": "stream",
     "text": [
      "Digite o número de elementos desejados:  10\n"
     ]
    }
   ],
   "source": [
    "n = int(input('Digite o número de elementos desejados: '))"
   ]
  },
  {
   "cell_type": "markdown",
   "id": "b3cb88f0",
   "metadata": {},
   "source": [
    "Passo 2: Usando uma estrutura de repetição, solicite ao usuário para prover **n** números de entrada, um a um. Armazene esses números em uma lista.\n",
    "<br>\n",
    "*Dica*: Para adicionar elementos a uma lista, utilize a função **append()**."
   ]
  },
  {
   "cell_type": "code",
   "execution_count": 18,
   "id": "51fd87d3",
   "metadata": {},
   "outputs": [
    {
     "name": "stdin",
     "output_type": "stream",
     "text": [
      "Digite o número 1:  5\n",
      "Digite o número 2:  6\n",
      "Digite o número 3:  7\n",
      "Digite o número 4:  8\n",
      "Digite o número 5:  9\n",
      "Digite o número 6:  10\n",
      "Digite o número 7:  11\n",
      "Digite o número 8:  12\n",
      "Digite o número 9:  13\n",
      "Digite o número 10:  14\n"
     ]
    }
   ],
   "source": [
    "seq = [] # começamos criando uma lista vazia\n",
    "for i in range(n): # lista de zero a n, exceto n\n",
    "    temp = int(input(f'Digite o número {i+1}: '))\n",
    "    seq.append(temp)"
   ]
  },
  {
   "cell_type": "code",
   "execution_count": 19,
   "id": "c85b248b-9c1c-4c38-ba3e-99073b949ae0",
   "metadata": {},
   "outputs": [
    {
     "name": "stdin",
     "output_type": "stream",
     "text": [
      "Digite o 1º número:  5\n",
      "Digite o 2º número:  7\n",
      "Digite o 3º número:  9\n",
      "Digite o 4º número:  75\n",
      "Digite o 5º número:  89\n",
      "Digite o 6º número:  111\n",
      "Digite o 7º número:  112\n",
      "Digite o 8º número:  113\n",
      "Digite o 9º número:  145\n",
      "Digite o 10º número:  156\n"
     ]
    }
   ],
   "source": [
    "seq = []\n",
    "\n",
    "for i in range(n): # lista de zero a n, exceto n\n",
    "    numero = int(input(f\"Digite o {i + 1}º número: \"))\n",
    "    seq.append(numero)"
   ]
  },
  {
   "cell_type": "markdown",
   "id": "b6dfe453",
   "metadata": {},
   "source": [
    "Passo 3: Analise a sequência de números para determinar se ela é *crescente*, *decrescente* ou *sem padrão*. \n",
    "<br>\n",
    "*Dica*: Use estruturas condicionais para determinar se a sequência é crescente ou decrescente."
   ]
  },
  {
   "cell_type": "code",
   "execution_count": 20,
   "id": "38f06f0c",
   "metadata": {},
   "outputs": [
    {
     "name": "stdout",
     "output_type": "stream",
     "text": [
      "A sequência é crescente.\n"
     ]
    }
   ],
   "source": [
    "#Usando a função sorted do Python.\n",
    "if seq == sorted(seq):\n",
    "    print('A sequência é crescente.')\n",
    "elif seq == sorted(seq,reverse=True):\n",
    "    print('A sequência é decrescente.')\n",
    "else:\n",
    "    print('A sequência não tem padrão.')"
   ]
  },
  {
   "cell_type": "markdown",
   "id": "3c803ecb",
   "metadata": {},
   "source": [
    "Passo 4: Calcule a média da sequência de números."
   ]
  },
  {
   "cell_type": "code",
   "execution_count": 21,
   "id": "1a2e2ad6",
   "metadata": {},
   "outputs": [
    {
     "data": {
      "text/plain": [
       "82.2"
      ]
     },
     "execution_count": 21,
     "metadata": {},
     "output_type": "execute_result"
    }
   ],
   "source": [
    "seq\n",
    "media = sum(seq)/len(seq)\n",
    "media"
   ]
  },
  {
   "cell_type": "markdown",
   "id": "79ebf5d5",
   "metadata": {},
   "source": [
    "Passo 5: Determine as quantidades de números acima e abaixo da média."
   ]
  },
  {
   "cell_type": "code",
   "execution_count": 24,
   "id": "efb17299",
   "metadata": {},
   "outputs": [
    {
     "name": "stdout",
     "output_type": "stream",
     "text": [
      "6\n",
      "4\n"
     ]
    }
   ],
   "source": [
    "acima = 0\n",
    "abaixo = 0\n",
    "for n in seq:\n",
    "    if n > media:\n",
    "        acima= acima+1\n",
    "    elif n < media:\n",
    "        abaixo +=1\n",
    "print(acima)\n",
    "print(abaixo)"
   ]
  },
  {
   "cell_type": "markdown",
   "id": "eb8ad3ce",
   "metadata": {},
   "source": [
    "Passo 6: Imprima os resultados.\n",
    "<br></br>\n",
    "Exemplo: Se o usuario entrar os números **4,5,6,7,8**, as seguintes saidas deverao ser impressas:\n",
    "<br></br>\n",
    "A sequência é crescente. A média da sequência é 6.0. Existem 2 números abaixo da média e 2 números acima da média."
   ]
  },
  {
   "cell_type": "code",
   "execution_count": null,
   "id": "fe43ff44",
   "metadata": {},
   "outputs": [],
   "source": []
  },
  {
   "cell_type": "markdown",
   "id": "d83da4af",
   "metadata": {},
   "source": [
    "## 🤯 Desafio! Sequência de Collatz"
   ]
  },
  {
   "cell_type": "markdown",
   "id": "f83303aa",
   "metadata": {},
   "source": [
    "A sequência de Collatz é uma sequência de números definida da seguinte forma: Comece com qualquer número inteiro positivo **n**. Se **n** é par, divida-o por 2; se **n** é ímpar, multiplique-o por 3 e adicione 1. Repita o processo com o novo valor de **n**, terminando a sequência quando **n = 1**.\n",
    "<br>\n",
    "\n",
    "O objetivo desse desafio é explorar as propriedades e padrões dentro de uma sequência de Collatz para números inteiros até um determinado limite **m**.\n",
    "<br></br>\n",
    "**Problema**: Dada uma sequência de números positivos de 1 a **m**:\n",
    "1. Gere a sequência de Collatz para cada um dos números da sequência.\n",
    "2. Determine qual o número da sequência produz a sequência de Collatz mais longa.\n",
    "3. Calcule o tamanho médio das sequências de Collatz para números da sequência dada.\n",
    "4. Dado um número específico **k**, verifique quantas sequências passam por este número antes de atingir 1.\n"
   ]
  },
  {
   "cell_type": "markdown",
   "id": "8af1b514",
   "metadata": {},
   "source": [
    "Passo 1: Solicite ao usuário o limite **m** da sequência."
   ]
  },
  {
   "cell_type": "code",
   "execution_count": null,
   "id": "033ab12c",
   "metadata": {},
   "outputs": [],
   "source": []
  },
  {
   "cell_type": "markdown",
   "id": "23b9dcea",
   "metadata": {},
   "source": [
    "Passo 2: Gere a sequência de Collatz para cada número de 1 a **m**. Armazene o tamanho de cada sequência."
   ]
  },
  {
   "cell_type": "code",
   "execution_count": null,
   "id": "19e0be2e",
   "metadata": {},
   "outputs": [],
   "source": []
  },
  {
   "cell_type": "markdown",
   "id": "cff6a24a",
   "metadata": {},
   "source": [
    "Passo 3: Determine qual número produz a sequência mais longa e o tamanho médio das sequências."
   ]
  },
  {
   "cell_type": "code",
   "execution_count": null,
   "id": "82e88f46",
   "metadata": {},
   "outputs": [],
   "source": []
  },
  {
   "cell_type": "markdown",
   "id": "8bfa2d6d",
   "metadata": {},
   "source": [
    "Passo 4: Solicite ao usuário um número **k** qualquer e verifique se alguma sequência passa por esse número."
   ]
  },
  {
   "cell_type": "code",
   "execution_count": null,
   "id": "fe17901b",
   "metadata": {},
   "outputs": [],
   "source": []
  },
  {
   "cell_type": "markdown",
   "id": "b838c649",
   "metadata": {},
   "source": [
    "Passo 5: Imprima os resultados.\n",
    "<br></br>\n",
    "Exemplo: \n",
    "<br></br>(Entrada) \n",
    "<br></br>Forneça o limite da sequência (m): **1000**\n",
    "<br></br>Forneça um número (k) para verificar se ele está em alguma sequência: **524**\n",
    "<br></br>(Saída) \n",
    "<br></br>O número 871 produz a sequência de Collatz mais longa, de tamanho 179.\n",
    "<br></br>A média de tamanho das sequências de Collatz produzidas para números até 1000 é 62,8. \n",
    "<br></br>O número 524 aparece em 14 sequências."
   ]
  },
  {
   "cell_type": "code",
   "execution_count": null,
   "id": "7f80ff87",
   "metadata": {},
   "outputs": [],
   "source": []
  }
 ],
 "metadata": {
  "kernelspec": {
   "display_name": "Python 3 (ipykernel)",
   "language": "python",
   "name": "python3"
  },
  "language_info": {
   "codemirror_mode": {
    "name": "ipython",
    "version": 3
   },
   "file_extension": ".py",
   "mimetype": "text/x-python",
   "name": "python",
   "nbconvert_exporter": "python",
   "pygments_lexer": "ipython3",
   "version": "3.11.5"
  },
  "toc": {
   "base_numbering": 1,
   "nav_menu": {},
   "number_sections": true,
   "sideBar": true,
   "skip_h1_title": false,
   "title_cell": "Table of Contents",
   "title_sidebar": "Contents",
   "toc_cell": false,
   "toc_position": {},
   "toc_section_display": true,
   "toc_window_display": false
  }
 },
 "nbformat": 4,
 "nbformat_minor": 5
}
