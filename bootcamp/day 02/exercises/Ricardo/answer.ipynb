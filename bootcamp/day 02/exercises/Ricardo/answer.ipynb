{
 "cells": [
  {
   "cell_type": "markdown",
   "id": "6d8f294d",
   "metadata": {},
   "source": [
    "# Exercícios: Aspectos Nativos de Python 🐍"
   ]
  },
  {
   "cell_type": "markdown",
   "id": "dbdb5821",
   "metadata": {},
   "source": [
    "## Manipulação de variáveis e funções básicas"
   ]
  },
  {
   "cell_type": "markdown",
   "id": "8046bdf6",
   "metadata": {},
   "source": [
    "Na aula de hoje, você aprendeu sobre tipos de variáveis e como utilizar funções básicas do Python. Responda aos exercícios conforme as instruções."
   ]
  },
  {
   "cell_type": "markdown",
   "id": "170842cb",
   "metadata": {},
   "source": [
    "😇 **Exercício 1**: Olá mundo!\n",
    "1. Crie duas variáveis chamadas `nome` e `sobrenome` e atribua o seu nome e o seu sobrenome a elas, respectivamente."
   ]
  },
  {
   "cell_type": "code",
   "execution_count": 1,
   "id": "186cb91b",
   "metadata": {},
   "outputs": [],
   "source": [
    "nome = 'kalina'\n",
    "sobrenome = 'porto'"
   ]
  },
  {
   "cell_type": "markdown",
   "id": "dfe1a65e",
   "metadata": {},
   "source": [
    "2. Utilize funções de manipulação de *strings* para capitalizar a primeira letra do seu nome e transformar em maiúsculas todas as letras do seu sobrenome."
   ]
  },
  {
   "cell_type": "code",
   "execution_count": 8,
   "id": "1a1e4cdb",
   "metadata": {},
   "outputs": [],
   "source": [
    "nome = nome.capitalize()\n",
    "sobrenome = sobrenome.upper()"
   ]
  },
  {
   "cell_type": "markdown",
   "id": "ad95e98f",
   "metadata": {},
   "source": [
    "3. Imprima, na mesma linha, a seguinte frase, utilizando o conteúdo das variáveis nos locais indicados:\n",
    "<br><br> Olá Mundo! Meu nome é `sobrenome`, `nome` `sobrenome`"
   ]
  },
  {
   "cell_type": "code",
   "execution_count": 9,
   "id": "8ed9957a",
   "metadata": {},
   "outputs": [
    {
     "name": "stdout",
     "output_type": "stream",
     "text": [
      "Olá mundo! Meu nome é PORTO, Kalina PORTO\n"
     ]
    }
   ],
   "source": [
    "print(f'Olá mundo! Meu nome é {sobrenome}, {nome} {sobrenome}')"
   ]
  },
  {
   "cell_type": "markdown",
   "id": "904c245a",
   "metadata": {},
   "source": [
    "4. Agora... Troque os valores de `nome` e `sobrenome` sem usar variáveis adicionais! Imprima os valores de `nome` e `sobrenome` para se certificar de que elas foram trocadas."
   ]
  },
  {
   "cell_type": "code",
   "execution_count": 10,
   "id": "1e0e3c08",
   "metadata": {},
   "outputs": [
    {
     "name": "stdout",
     "output_type": "stream",
     "text": [
      "nome = PORTO, sobrenome = Kalina\n"
     ]
    }
   ],
   "source": [
    "nome, sobrenome = sobrenome, nome\n",
    "print(f'nome = {nome}, sobrenome = {sobrenome}')"
   ]
  },
  {
   "cell_type": "markdown",
   "id": "cf86407c",
   "metadata": {},
   "source": [
    "## Estruturas de repetição"
   ]
  },
  {
   "cell_type": "markdown",
   "id": "20de4342",
   "metadata": {},
   "source": [
    "😇 **Exercício 2**: Irmãozinho chato!"
   ]
  },
  {
   "cell_type": "markdown",
   "id": "48f546ca",
   "metadata": {},
   "source": [
    "Crie um pequeno código que simule aquele irmãozinho irritante! O código deverá ler da entrada uma frase inteira do tipo *Sai do meu quarto!* e imprimir a mesma frase com as palavras `nhem nhem! :-P` no final. A brincadeira deverá continuar até que o usuário digite 'mamãe!', ou seja, quando o usuário digitar 'mamae!', o código deverá finalizar sem a repetição da última frase. Exemplo de execução do código:\n",
    "\n",
    "<br>\n",
    "<br> Entrada: Sai do meu quarto!\n",
    "<br> Sai do meu quarto! nhem nhem! :-P\n",
    "<br> Entrada: Vou chamar a mamãe!\n",
    "<br> Vou chamar a mamãe! nhem nhem! :-P\n",
    "<br> Entrada: mamãe!\n"
   ]
  },
  {
   "cell_type": "code",
   "execution_count": 12,
   "id": "b48c0d43",
   "metadata": {},
   "outputs": [
    {
     "name": "stdout",
     "output_type": "stream",
     "text": [
      "Diga algo: sai daqui!\n",
      "sai daqui! nhem nhem! :-P\n",
      "Diga algo: mamãe!\n"
     ]
    }
   ],
   "source": [
    "entrada = input('Diga algo: ')\n",
    "while(entrada != 'mamãe!'):\n",
    "    print(f'{entrada} nhem nhem! :-P')\n",
    "    entrada = input('Diga algo: ')"
   ]
  },
  {
   "cell_type": "markdown",
   "id": "02d23698",
   "metadata": {},
   "source": [
    "😯 **Exercício 3**: Analizador de sequência de números"
   ]
  },
  {
   "cell_type": "markdown",
   "id": "ac81b157",
   "metadata": {},
   "source": [
    "Escreva um programa que analise uma sequência de números inteiros para identificar certas características. O programa deverá ser capaz de detectar se a sequência é *crescente*, *decrescente*, ou *sem padrão*. Ele também deve calcular a média dos números lidos e determinar quantos números estão acima e abaixo da média."
   ]
  },
  {
   "cell_type": "markdown",
   "id": "57e8ab6d",
   "metadata": {},
   "source": [
    "Passo 1: Pergunte ao usuário o número **n** de elementos que ele deseja na sequência."
   ]
  },
  {
   "cell_type": "code",
   "execution_count": 32,
   "id": "af541aae",
   "metadata": {},
   "outputs": [
    {
     "name": "stdout",
     "output_type": "stream",
     "text": [
      "Digite o número de elementos desejados: 5\n"
     ]
    }
   ],
   "source": [
    "n = int(input('Digite o número de elementos desejados: '))"
   ]
  },
  {
   "cell_type": "markdown",
   "id": "b3cb88f0",
   "metadata": {},
   "source": [
    "Passo 2: Usando uma estrutura de repetição, solicite ao usuário para prover **n** números de entrada, um a um. Armazene esses números em uma lista.\n",
    "<br>\n",
    "*Dica*: Para adicionar elementos a uma lista, utilize a função **append()**."
   ]
  },
  {
   "cell_type": "code",
   "execution_count": 33,
   "id": "51fd87d3",
   "metadata": {},
   "outputs": [
    {
     "name": "stdout",
     "output_type": "stream",
     "text": [
      "Digite o número 1: 4\n",
      "Digite o número 2: 5\n",
      "Digite o número 3: 6\n",
      "Digite o número 4: 7\n",
      "Digite o número 5: 8\n"
     ]
    }
   ],
   "source": [
    "seq = []\n",
    "for i in range(n):\n",
    "    temp = int(input(f'Digite o número {i+1}: '))\n",
    "    seq.append(temp)"
   ]
  },
  {
   "cell_type": "markdown",
   "id": "b6dfe453",
   "metadata": {},
   "source": [
    "Passo 3: Analise a sequência de números para determinar se ela é *crescente*, *decrescente* ou *sem padrão*. \n",
    "<br>\n",
    "*Dica*: Use estruturas condicionais para determinar se a sequência é crescente ou decrescente."
   ]
  },
  {
   "cell_type": "code",
   "execution_count": 34,
   "id": "38f06f0c",
   "metadata": {},
   "outputs": [
    {
     "name": "stdout",
     "output_type": "stream",
     "text": [
      "A sequência é crescente.\n"
     ]
    }
   ],
   "source": [
    "#Usando a função sorted do Python.\n",
    "if seq == sorted(seq):\n",
    "    print('A sequência é crescente.')\n",
    "elif seq == sorted(seq,reverse=True):\n",
    "    print('A sequência é decrescente.')\n",
    "else:\n",
    "    print('A sequência não tem padrão.')"
   ]
  },
  {
   "cell_type": "markdown",
   "id": "3c803ecb",
   "metadata": {},
   "source": [
    "Passo 4: Calcule a média da sequência de números e imprima o resultado."
   ]
  },
  {
   "cell_type": "code",
   "execution_count": 35,
   "id": "1a2e2ad6",
   "metadata": {},
   "outputs": [
    {
     "name": "stdout",
     "output_type": "stream",
     "text": [
      "A média da sequência é 6.00\n"
     ]
    }
   ],
   "source": [
    "media = sum(seq)/n\n",
    "print(f'A média da sequência é {media:.2f}')"
   ]
  },
  {
   "cell_type": "markdown",
   "id": "79ebf5d5",
   "metadata": {},
   "source": [
    "Passo 5: Determine as quantidades de números acima e abaixo da média e imprima os resultados."
   ]
  },
  {
   "cell_type": "code",
   "execution_count": 36,
   "id": "efb17299",
   "metadata": {},
   "outputs": [
    {
     "name": "stdout",
     "output_type": "stream",
     "text": [
      "Existem 2 números abaixo da média.\n",
      "Existem 2 números acima da média.\n"
     ]
    }
   ],
   "source": [
    "abaixo_media = 0\n",
    "acima_media = 0\n",
    "for i in seq:\n",
    "    if i < media:\n",
    "        abaixo_media +=1\n",
    "    elif i > media:\n",
    "        acima_media +=1\n",
    "print(f'Existem {abaixo_media} números abaixo da média.')\n",
    "print(f'Existem {acima_media} números acima da média.')"
   ]
  },
  {
   "cell_type": "code",
   "execution_count": null,
   "id": "fe43ff44",
   "metadata": {},
   "outputs": [],
   "source": []
  },
  {
   "cell_type": "markdown",
   "id": "d83da4af",
   "metadata": {},
   "source": [
    "## 🤯 Desafio! Sequência de Collatz"
   ]
  },
  {
   "cell_type": "markdown",
   "id": "f83303aa",
   "metadata": {},
   "source": [
    "A sequência de Collatz é uma sequência de números definida da seguinte forma: Comece com qualquer número inteiro positivo **n**. Se **n** é par, divida-o por 2; se **n** é ímpar, multiplique-o por 3 e adicione 1. Repita o processo com o novo valor de **n**, terminando a sequência quando **n = 1**.\n",
    "<br>\n",
    "\n",
    "O objetivo desse desafio é explorar as propriedades e padrões dentro de uma sequência de Collatz para números inteiros até um determinado limite **m**.\n",
    "<br></br>\n",
    "**Problema**: Dada uma sequência de números positivos de 1 a **m**:\n",
    "1. Gere a sequência de Collatz para cada um dos números da sequência.\n",
    "2. Determine qual o número da sequência produz a sequência de Collatz mais longa.\n",
    "3. Calcule o tamanho médio das sequências de Collatz para números da sequência dada.\n",
    "4. Dado um número específico **k**, verifique quantas sequências passam por este número antes de atingir 1.\n"
   ]
  },
  {
   "cell_type": "markdown",
   "id": "8af1b514",
   "metadata": {},
   "source": [
    "Passo 1: Solicite ao usuário o limite **m** da sequência."
   ]
  },
  {
   "cell_type": "code",
   "execution_count": 38,
   "id": "033ab12c",
   "metadata": {},
   "outputs": [
    {
     "name": "stdout",
     "output_type": "stream",
     "text": [
      "Forneça o limite da sequência (m): 1000\n"
     ]
    }
   ],
   "source": [
    "# Get input values\n",
    "m = int(input(\"Forneça o limite da sequência (m): \"))"
   ]
  },
  {
   "cell_type": "markdown",
   "id": "23b9dcea",
   "metadata": {},
   "source": [
    "Passo 2: Gere a sequência de Collatz para cada número de 1 a **m**. Armazene o tamanho de cada sequência."
   ]
  },
  {
   "cell_type": "code",
   "execution_count": 45,
   "id": "19e0be2e",
   "metadata": {},
   "outputs": [],
   "source": [
    "seq_mais_longa = 0\n",
    "num_seq_mais_longa = 0\n",
    "tam_total = 0\n",
    "\n",
    "for i in range(1, m+1):\n",
    "    n = i\n",
    "    tam = 0\n",
    "    \n",
    "    while n != 1:\n",
    "        if n % 2 == 0:\n",
    "            n = n // 2\n",
    "        else:\n",
    "            n = 3 * n + 1\n",
    "        tam += 1\n",
    "\n",
    "    tam_total += tam\n",
    "\n",
    "    if tam > seq_mais_longa:\n",
    "        seq_mais_longa = tam\n",
    "        num_seq_mais_longa = i"
   ]
  },
  {
   "cell_type": "markdown",
   "id": "cff6a24a",
   "metadata": {},
   "source": [
    "Passo 3: Determine qual número produz a sequência mais longa e o tamanho médio das sequências."
   ]
  },
  {
   "cell_type": "code",
   "execution_count": 46,
   "id": "82e88f46",
   "metadata": {},
   "outputs": [],
   "source": [
    "tam_medio = tam_total / m"
   ]
  },
  {
   "cell_type": "markdown",
   "id": "8bfa2d6d",
   "metadata": {},
   "source": [
    "Passo 4: Solicite ao usuário um número **k** qualquer e verifique se alguma sequência passa por esse número."
   ]
  },
  {
   "cell_type": "code",
   "execution_count": 47,
   "id": "fe17901b",
   "metadata": {},
   "outputs": [
    {
     "name": "stdout",
     "output_type": "stream",
     "text": [
      "Forneça um número (k) para verificar se ele está em alguma sequência: 524\n"
     ]
    }
   ],
   "source": [
    "k = int(input(\"Forneça um número (k) para verificar se ele está em alguma sequência: \"))"
   ]
  },
  {
   "cell_type": "code",
   "execution_count": 48,
   "id": "f27ea2a6",
   "metadata": {},
   "outputs": [],
   "source": [
    "k_count = 0\n",
    "\n",
    "for i in range(1, m+1):\n",
    "    n = i\n",
    "    \n",
    "    while n != 1:\n",
    "        if n == k:\n",
    "            k_count += 1\n",
    "            break\n",
    "        if n % 2 == 0:\n",
    "            n = n // 2\n",
    "        else:\n",
    "            n = 3 * n + 1"
   ]
  },
  {
   "cell_type": "markdown",
   "id": "b838c649",
   "metadata": {},
   "source": [
    "Passo 5: Imprima os resultados.\n",
    "<br></br>\n",
    "Exemplo: \n",
    "<br></br>(Entrada) \n",
    "<br></br>Forneça o limite da sequência (m): **1000**\n",
    "<br></br>Forneça um número (k) para verificar se ele está em alguma sequência: **524**\n",
    "<br></br>(Saída) \n",
    "<br></br>O número 871 produz a sequência de Collatz mais longa, de tamanho 179.\n",
    "<br></br>A média de tamanho das sequências de Collatz produzidas para números até 1000 é 62,8. \n",
    "<br></br>O número 524 aparece em 14 sequências."
   ]
  },
  {
   "cell_type": "code",
   "execution_count": 49,
   "id": "7f80ff87",
   "metadata": {},
   "outputs": [
    {
     "name": "stdout",
     "output_type": "stream",
     "text": [
      "O número 871 produz a sequência de Collatz mais longa, com tamanho 178.\n",
      "A média de tamanho das sequências de Collatz produzidas para números até 1000 is 59.542.\n",
      "O número 524 aparece em 14 sequências.\n"
     ]
    }
   ],
   "source": [
    "# Print results\n",
    "print(f\"O número {num_seq_mais_longa} produz a sequência de Collatz mais longa, com tamanho {seq_mais_longa}.\")\n",
    "print(f\"A média de tamanho das sequências de Collatz produzidas para números até {m} is {tam_medio:.3f}.\")\n",
    "print(f\"O número {k} aparece em {k_count} sequências.\")\n"
   ]
  }
 ],
 "metadata": {
  "kernelspec": {
   "display_name": "Python 3 (ipykernel)",
   "language": "python",
   "name": "python3"
  },
  "language_info": {
   "codemirror_mode": {
    "name": "ipython",
    "version": 3
   },
   "file_extension": ".py",
   "mimetype": "text/x-python",
   "name": "python",
   "nbconvert_exporter": "python",
   "pygments_lexer": "ipython3",
   "version": "3.11.3"
  },
  "toc": {
   "base_numbering": 1,
   "nav_menu": {},
   "number_sections": true,
   "sideBar": true,
   "skip_h1_title": false,
   "title_cell": "Table of Contents",
   "title_sidebar": "Contents",
   "toc_cell": false,
   "toc_position": {},
   "toc_section_display": true,
   "toc_window_display": false
  }
 },
 "nbformat": 4,
 "nbformat_minor": 5
}
