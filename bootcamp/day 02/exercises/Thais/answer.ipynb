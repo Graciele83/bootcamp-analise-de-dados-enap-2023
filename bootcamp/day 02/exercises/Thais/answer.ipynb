{
 "cells": [
  {
   "cell_type": "markdown",
   "id": "ea384b71",
   "metadata": {},
   "source": [
    "# Exercícios - Introdução"
   ]
  },
  {
   "cell_type": "markdown",
   "id": "4ec706f6",
   "metadata": {},
   "source": [
    "# 1- Variáveis\n",
    "\n",
    "Crie uma variável de nome 'pais' e atribua a ela o nome de um país que você goste. "
   ]
  },
  {
   "cell_type": "code",
   "execution_count": 2,
   "id": "e51f7961",
   "metadata": {},
   "outputs": [
    {
     "name": "stdout",
     "output_type": "stream",
     "text": [
      "EUA\n"
     ]
    }
   ],
   "source": [
    "pais = \"EUA\"\n",
    "print(pais)"
   ]
  },
  {
   "cell_type": "markdown",
   "id": "6effee80",
   "metadata": {},
   "source": [
    "Qual o tipo dessa variável?"
   ]
  },
  {
   "cell_type": "code",
   "execution_count": 3,
   "id": "7687ca83",
   "metadata": {},
   "outputs": [
    {
     "data": {
      "text/plain": [
       "str"
      ]
     },
     "execution_count": 3,
     "metadata": {},
     "output_type": "execute_result"
    }
   ],
   "source": [
    "type(pais)"
   ]
  },
  {
   "cell_type": "markdown",
   "id": "a73842e7",
   "metadata": {},
   "source": [
    "Crie uma variável de nome IDH e atribua a ela o IDH do país escolhido (procure no google). "
   ]
  },
  {
   "cell_type": "code",
   "execution_count": 5,
   "id": "57f5dd7e",
   "metadata": {},
   "outputs": [
    {
     "name": "stdout",
     "output_type": "stream",
     "text": [
      "0.9\n"
     ]
    }
   ],
   "source": [
    "idh = 0.9\n",
    "print (idh)"
   ]
  },
  {
   "cell_type": "markdown",
   "id": "93caba8a",
   "metadata": {},
   "source": [
    "Qual o tipo dessa variável?"
   ]
  },
  {
   "cell_type": "code",
   "execution_count": 6,
   "id": "493988b9",
   "metadata": {},
   "outputs": [
    {
     "data": {
      "text/plain": [
       "float"
      ]
     },
     "execution_count": 6,
     "metadata": {},
     "output_type": "execute_result"
    }
   ],
   "source": [
    "type(idh)"
   ]
  },
  {
   "cell_type": "markdown",
   "id": "9212b62f",
   "metadata": {},
   "source": [
    "Faça uma interpolação para formar a seguinte frase com o nome do país e seu idh escolhidos anteriormente:\n",
    "\n",
    "'pais' possui um IDH de 'idh'"
   ]
  },
  {
   "cell_type": "code",
   "execution_count": 8,
   "id": "84c8c2ea",
   "metadata": {},
   "outputs": [
    {
     "name": "stdout",
     "output_type": "stream",
     "text": [
      "EUA possui um IDH de 0.9\n"
     ]
    }
   ],
   "source": [
    "    # Interpolation\n",
    "print(f\"{pais} possui um IDH de {idh}\")"
   ]
  },
  {
   "cell_type": "markdown",
   "id": "c8d9bba0",
   "metadata": {},
   "source": [
    "Faça o mesmo, usando concatenação"
   ]
  },
  {
   "cell_type": "code",
   "execution_count": 11,
   "id": "8fbf0aa8",
   "metadata": {},
   "outputs": [
    {
     "name": "stdout",
     "output_type": "stream",
     "text": [
      "EUA possui um IDH de 0.9\n"
     ]
    }
   ],
   "source": [
    "print(pais + \" possui um IDH de \" + str(idh))"
   ]
  },
  {
   "cell_type": "markdown",
   "id": "39bf17c5",
   "metadata": {},
   "source": [
    "# 2- Tipos de Dados\n",
    "\n",
    "Qual o tipo de dado de cada variável abaixo (int, float, str, list...)"
   ]
  },
  {
   "cell_type": "code",
   "execution_count": 3,
   "id": "ebb5418b",
   "metadata": {},
   "outputs": [],
   "source": [
    "país = 'EUA'\n",
    "idh = 0.9\n",
    "pop_em_milhoes = 332\n",
    "idade = 18\n",
    "maior_de_idade = (idade >= 18)"
   ]
  },
  {
   "cell_type": "code",
   "execution_count": 4,
   "id": "930d3769",
   "metadata": {},
   "outputs": [
    {
     "data": {
      "text/plain": [
       "str"
      ]
     },
     "execution_count": 4,
     "metadata": {},
     "output_type": "execute_result"
    }
   ],
   "source": [
    "type(país)"
   ]
  },
  {
   "cell_type": "code",
   "execution_count": 5,
   "id": "86c19bd3",
   "metadata": {},
   "outputs": [
    {
     "data": {
      "text/plain": [
       "float"
      ]
     },
     "execution_count": 5,
     "metadata": {},
     "output_type": "execute_result"
    }
   ],
   "source": [
    "type(idh)"
   ]
  },
  {
   "cell_type": "code",
   "execution_count": 6,
   "id": "faeb37d0",
   "metadata": {},
   "outputs": [
    {
     "data": {
      "text/plain": [
       "int"
      ]
     },
     "execution_count": 6,
     "metadata": {},
     "output_type": "execute_result"
    }
   ],
   "source": [
    "type(pop_em_milhoes)"
   ]
  },
  {
   "cell_type": "code",
   "execution_count": 9,
   "id": "497e23bc",
   "metadata": {},
   "outputs": [
    {
     "data": {
      "text/plain": [
       "bool"
      ]
     },
     "execution_count": 9,
     "metadata": {},
     "output_type": "execute_result"
    }
   ],
   "source": [
    "type(maior_de_idade)"
   ]
  },
  {
   "cell_type": "markdown",
   "id": "c94050b4",
   "metadata": {},
   "source": [
    "# 3- If, elif, else\n",
    "\n"
   ]
  },
  {
   "cell_type": "markdown",
   "id": "975d97b1",
   "metadata": {},
   "source": [
    " Crie um código que recebe do usuário (por meio da função input) o número do orgão/entidade vinculada de determinado orçamento (conforme tabela abaixo) e imprime para o usuário o nome do seu orgão superior. São eles:\n",
    "\n",
    " - se o numero do orgão/entidade começa com 26: 'Ministério da Educação'\n",
    " - se o numero do orgão/entidade começa com 36: 'Ministério da Saúde'\n",
    " - se o numero do orgão/entidade começa com 25: 'Ministério da Fazenda'\n",
    " - qqr outro : 'outros'\n",
    " \n",
    " \n",
    " Teste se seu código funciona para os orgãos superiores de cada orgão/entidade abaixo"
   ]
  },
  {
   "cell_type": "code",
   "execution_count": 2,
   "id": "db27ba09",
   "metadata": {},
   "outputs": [
    {
     "data": {
      "text/html": [
       "<img src=\"https://github.com/thaissalzer/thaissalzer/raw/a753a8dfb5b978862f4f190b90175dd73b53e132/exercicio_%20orgao.png\"/>"
      ],
      "text/plain": [
       "<IPython.core.display.Image object>"
      ]
     },
     "execution_count": 2,
     "metadata": {},
     "output_type": "execute_result"
    }
   ],
   "source": [
    "from IPython.display import Image\n",
    "url = \"https://github.com/thaissalzer/thaissalzer/raw/a753a8dfb5b978862f4f190b90175dd73b53e132/exercicio_%20orgao.png\"\n",
    "Image(url=url)"
   ]
  },
  {
   "cell_type": "code",
   "execution_count": 9,
   "id": "20a935c4",
   "metadata": {},
   "outputs": [
    {
     "name": "stdout",
     "output_type": "stream",
     "text": [
      "Qual é o número do orgão/entidade vinculada que deseja encontrar? 36000\n",
      "Ministério da Saúde\n"
     ]
    }
   ],
   "source": [
    "numero = input('Qual é o número do orgão/entidade vinculada que deseja encontrar? ')\n",
    "if numero.startswith('26'):\n",
    "    print(\"Ministério da Educação\")\n",
    "elif numero.startswith('36'):\n",
    "    print(\"Ministério da Saúde\")\n",
    "elif numero.startswith('25'):\n",
    "    print(\"Ministério da Fazenda\")\n",
    "else:\n",
    "    print('outros')"
   ]
  },
  {
   "cell_type": "code",
   "execution_count": null,
   "id": "ee20016c",
   "metadata": {},
   "outputs": [],
   "source": []
  },
  {
   "cell_type": "markdown",
   "id": "6ae7a86d",
   "metadata": {},
   "source": [
    "# 4- FOR\n",
    "\n",
    "Calcule a soma de todos os números positivos inteiros multiplos de 3 ou de 5 que são menores que 1000."
   ]
  },
  {
   "cell_type": "code",
   "execution_count": 2,
   "id": "c9f97ce6",
   "metadata": {},
   "outputs": [
    {
     "name": "stdout",
     "output_type": "stream",
     "text": [
      "233168\n"
     ]
    }
   ],
   "source": [
    "total = 0\n",
    "for i in range(1, 1000):\n",
    "    if i % 3 ==0 or i% 5 ==0:\n",
    "        total += i\n",
    "print(total)"
   ]
  },
  {
   "cell_type": "code",
   "execution_count": null,
   "id": "43b03165",
   "metadata": {},
   "outputs": [],
   "source": []
  }
 ],
 "metadata": {
  "kernelspec": {
   "display_name": "Python 3 (ipykernel)",
   "language": "python",
   "name": "python3"
  },
  "language_info": {
   "codemirror_mode": {
    "name": "ipython",
    "version": 3
   },
   "file_extension": ".py",
   "mimetype": "text/x-python",
   "name": "python",
   "nbconvert_exporter": "python",
   "pygments_lexer": "ipython3",
   "version": "3.9.13"
  }
 },
 "nbformat": 4,
 "nbformat_minor": 5
}
