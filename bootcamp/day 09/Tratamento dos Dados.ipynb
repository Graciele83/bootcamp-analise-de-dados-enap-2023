{
 "cells": [
  {
   "cell_type": "markdown",
   "id": "6b9fc76e-1c03-47f6-bad9-d1eb1b2c2431",
   "metadata": {
    "slideshow": {
     "slide_type": "slide"
    },
    "tags": []
   },
   "source": [
    "# Tratamento dos Dados 🪢"
   ]
  },
  {
   "cell_type": "markdown",
   "id": "1ebfbe05-6f83-4bbc-b300-a037008874a3",
   "metadata": {
    "slideshow": {
     "slide_type": "-"
    },
    "tags": []
   },
   "source": [
    "## Sumário da Aula"
   ]
  },
  {
   "cell_type": "markdown",
   "id": "0e8dd76c-5e2b-4951-af86-2e80cd526f33",
   "metadata": {
    "slideshow": {
     "slide_type": "-"
    }
   },
   "source": [
    "<ul>\n",
    "    <li>Aspectos de Tratamento dos Dados 🪢</li>\n",
    "    <li>Junção, Mescla e Concatenação 🥇</li>\n",
    "    <li>Pivoteamento 🥈</li>\n",
    "</ul>"
   ]
  },
  {
   "cell_type": "markdown",
   "id": "5e109124-97bf-42bc-8f99-9e120b251887",
   "metadata": {
    "slideshow": {
     "slide_type": "-"
    },
    "tags": []
   },
   "source": [
    "### Biblioteca Principal 📚: pandas"
   ]
  },
  {
   "cell_type": "markdown",
   "id": "7eff3e08-b0ed-4628-adc4-019afd8aa68c",
   "metadata": {
    "slideshow": {
     "slide_type": "-"
    }
   },
   "source": [
    "<img src=\"https://pandas.pydata.org/docs/_static/pandas.svg\" width=\"100\" style=\"float: right;\">"
   ]
  },
  {
   "cell_type": "code",
   "execution_count": 1,
   "id": "24bddba2-2ca6-4abf-84a6-801a5fd1d60e",
   "metadata": {
    "slideshow": {
     "slide_type": "-"
    }
   },
   "outputs": [],
   "source": [
    "import pandas as pd"
   ]
  },
  {
   "cell_type": "markdown",
   "id": "15880846-540b-4ecb-94d4-a82ec71de272",
   "metadata": {
    "slideshow": {
     "slide_type": "slide"
    },
    "tags": []
   },
   "source": [
    "## Aspectos de Tratamento dos Dados 🪢"
   ]
  },
  {
   "cell_type": "markdown",
   "id": "005dab65-e935-41fd-995a-7044135565a3",
   "metadata": {
    "slideshow": {
     "slide_type": "-"
    },
    "tags": []
   },
   "source": [
    "### Indexação Hierárquica"
   ]
  },
  {
   "cell_type": "markdown",
   "id": "12c6a936-6221-44bb-a678-9ae773a5238e",
   "metadata": {
    "slideshow": {
     "slide_type": "-"
    }
   },
   "source": [
    "<ul>\n",
    "    <li>Dados podem estar espalhados em distintas fontes de dados; ou dispostos em formatos pouco fáceis de analisar</li>\n",
    "    <li>Para contornar esta dificuldade, vamos fazer uso da indexação hierárquica para:\n",
    "        <ul>\n",
    "            <li>habilitar o uso de dois ou mais níveis de índice para cada eixo; e</li>\n",
    "            <li>permitir trabalhar com dados em dimensão superior a 2 ainda que disposto em formato bidimensional.</li>\n",
    "</ul>"
   ]
  },
  {
   "cell_type": "markdown",
   "id": "655d2376-2393-4b74-9eb2-5b2334aee1a3",
   "metadata": {
    "slideshow": {
     "slide_type": "subslide"
    }
   },
   "source": [
    "<pre><img src=\"figs/2d-shot-table.png\" width=\"250px\" style=\"margin-left: auto; margin-right: auto;\"><img src=\"figs/3d-shot-cube.png\" width=\"200px\" style=\"margin-left: auto; margin-right: auto;\"><img src=\"figs/2d-shot-cube.png\" width=\"200px\" style=\"margin-left: auto; margin-right: auto;\"></pre>"
   ]
  },
  {
   "cell_type": "markdown",
   "id": "f607121c-4f4d-4099-b7ae-ba43366cc9da",
   "metadata": {
    "slideshow": {
     "slide_type": "-"
    },
    "tags": []
   },
   "source": [
    "👉 Referência: <a href='https://pandas.pydata.org/'>pandas.pydata.org</a>"
   ]
  },
  {
   "cell_type": "markdown",
   "id": "81dfa44f-0660-486e-b6a7-a57cab74f60a",
   "metadata": {
    "slideshow": {
     "slide_type": "-"
    }
   },
   "source": [
    "👉 Pandas <a href='https://pandas.pydata.org/Pandas_Cheat_Sheet.pdf'>cheat sheet</a>"
   ]
  },
  {
   "cell_type": "markdown",
   "id": "6b0b6b97-7988-415a-aef2-8d202dec0010",
   "metadata": {
    "slideshow": {
     "slide_type": "subslide"
    },
    "tags": []
   },
   "source": [
    "#### Indexação Hierárquica em Series 🎞️"
   ]
  },
  {
   "cell_type": "markdown",
   "id": "bb6209e4-566c-4b20-84b4-a86751421c23",
   "metadata": {
    "slideshow": {
     "slide_type": "-"
    }
   },
   "source": [
    "<pre>Você pode ter índice hierárquico em Series -- nas linhas, naturalmente</pre>"
   ]
  },
  {
   "cell_type": "code",
   "execution_count": 2,
   "id": "097a4bad-f0b3-475b-81b2-a94c4e6bb703",
   "metadata": {
    "slideshow": {
     "slide_type": "-"
    }
   },
   "outputs": [
    {
     "data": {
      "text/plain": [
       "a  1     7\n",
       "   2     1\n",
       "   3    23\n",
       "b  1    21\n",
       "   3    16\n",
       "c  1    29\n",
       "   2     2\n",
       "d  2    12\n",
       "   3    13\n",
       "dtype: int64"
      ]
     },
     "execution_count": 2,
     "metadata": {},
     "output_type": "execute_result"
    }
   ],
   "source": [
    "from random import sample\n",
    "data = pd.Series(sample(range(30), 9),\n",
    "                 index=[[\"a\", \"a\", \"a\", \"b\", \"b\", \"c\", \"c\", \"d\", \"d\"],\n",
    "                        [1, 2, 3, 1, 3, 1, 2, 2, 3]])\n",
    "data"
   ]
  },
  {
   "cell_type": "code",
   "execution_count": 3,
   "id": "2f498543-95f6-4191-ba91-622880a74430",
   "metadata": {
    "slideshow": {
     "slide_type": "subslide"
    }
   },
   "outputs": [
    {
     "data": {
      "text/plain": [
       "MultiIndex([('a', 1),\n",
       "            ('a', 2),\n",
       "            ('a', 3),\n",
       "            ('b', 1),\n",
       "            ('b', 3),\n",
       "            ('c', 1),\n",
       "            ('c', 2),\n",
       "            ('d', 2),\n",
       "            ('d', 3)],\n",
       "           )"
      ]
     },
     "execution_count": 3,
     "metadata": {},
     "output_type": "execute_result"
    }
   ],
   "source": [
    "data.index"
   ]
  },
  {
   "cell_type": "markdown",
   "id": "2e47b3f4-f22b-4237-a63f-f7ca67fd31e2",
   "metadata": {
    "slideshow": {
     "slide_type": "subslide"
    }
   },
   "source": [
    "<pre>Você pode acessar elementos específicos do primeiro nível hierárquico...</pre>"
   ]
  },
  {
   "cell_type": "code",
   "execution_count": 4,
   "id": "e1f27489-fbf0-4451-9d31-d98a1ea8e888",
   "metadata": {
    "slideshow": {
     "slide_type": "-"
    }
   },
   "outputs": [
    {
     "data": {
      "text/plain": [
       "1    21\n",
       "3    16\n",
       "dtype: int64"
      ]
     },
     "execution_count": 4,
     "metadata": {},
     "output_type": "execute_result"
    }
   ],
   "source": [
    "data.loc['b']"
   ]
  },
  {
   "cell_type": "code",
   "execution_count": 5,
   "id": "4284848c-7349-4ab8-bf63-9ca866e10b33",
   "metadata": {
    "slideshow": {
     "slide_type": "-"
    }
   },
   "outputs": [
    {
     "data": {
      "text/plain": [
       "b  1    21\n",
       "   3    16\n",
       "d  2    12\n",
       "   3    13\n",
       "dtype: int64"
      ]
     },
     "execution_count": 5,
     "metadata": {},
     "output_type": "execute_result"
    }
   ],
   "source": [
    "data.loc[['b', 'd']]"
   ]
  },
  {
   "cell_type": "markdown",
   "id": "33a92ade-9661-4530-9dfc-6f8874f7dbeb",
   "metadata": {
    "slideshow": {
     "slide_type": "subslide"
    }
   },
   "source": [
    "<pre>..., bem como elementos específicos do segundo nível hierárquico.</pre>"
   ]
  },
  {
   "cell_type": "code",
   "execution_count": 6,
   "id": "b6aa7310-5c02-441b-a3eb-3316302f8bdd",
   "metadata": {
    "slideshow": {
     "slide_type": "-"
    }
   },
   "outputs": [
    {
     "data": {
      "text/plain": [
       "b  1    21\n",
       "   3    16\n",
       "d  2    12\n",
       "   3    13\n",
       "dtype: int64"
      ]
     },
     "execution_count": 6,
     "metadata": {},
     "output_type": "execute_result"
    }
   ],
   "source": [
    "data.loc[['b', 'd'], [1,2,3]]"
   ]
  },
  {
   "cell_type": "markdown",
   "id": "c193d762-4274-47f3-90eb-c4a55ad4fade",
   "metadata": {
    "slideshow": {
     "slide_type": "-"
    }
   },
   "source": [
    "<pre>Você pode \"desempilhar\" um nível do índice hierárquico e o colocar como colunas em um DataFrame 📽️</pre>"
   ]
  },
  {
   "cell_type": "code",
   "execution_count": 7,
   "id": "2b48045a-22f3-4d85-b41c-db632efdf45e",
   "metadata": {
    "slideshow": {
     "slide_type": "-"
    }
   },
   "outputs": [
    {
     "data": {
      "text/html": [
       "<div>\n",
       "<style scoped>\n",
       "    .dataframe tbody tr th:only-of-type {\n",
       "        vertical-align: middle;\n",
       "    }\n",
       "\n",
       "    .dataframe tbody tr th {\n",
       "        vertical-align: top;\n",
       "    }\n",
       "\n",
       "    .dataframe thead th {\n",
       "        text-align: right;\n",
       "    }\n",
       "</style>\n",
       "<table border=\"1\" class=\"dataframe\">\n",
       "  <thead>\n",
       "    <tr style=\"text-align: right;\">\n",
       "      <th></th>\n",
       "      <th>1</th>\n",
       "      <th>2</th>\n",
       "      <th>3</th>\n",
       "    </tr>\n",
       "  </thead>\n",
       "  <tbody>\n",
       "    <tr>\n",
       "      <th>a</th>\n",
       "      <td>7.0</td>\n",
       "      <td>1.0</td>\n",
       "      <td>23.0</td>\n",
       "    </tr>\n",
       "    <tr>\n",
       "      <th>b</th>\n",
       "      <td>21.0</td>\n",
       "      <td>NaN</td>\n",
       "      <td>16.0</td>\n",
       "    </tr>\n",
       "    <tr>\n",
       "      <th>c</th>\n",
       "      <td>29.0</td>\n",
       "      <td>2.0</td>\n",
       "      <td>NaN</td>\n",
       "    </tr>\n",
       "    <tr>\n",
       "      <th>d</th>\n",
       "      <td>NaN</td>\n",
       "      <td>12.0</td>\n",
       "      <td>13.0</td>\n",
       "    </tr>\n",
       "  </tbody>\n",
       "</table>\n",
       "</div>"
      ],
      "text/plain": [
       "      1     2     3\n",
       "a   7.0   1.0  23.0\n",
       "b  21.0   NaN  16.0\n",
       "c  29.0   2.0   NaN\n",
       "d   NaN  12.0  13.0"
      ]
     },
     "execution_count": 7,
     "metadata": {},
     "output_type": "execute_result"
    }
   ],
   "source": [
    "data = data.unstack()\n",
    "data"
   ]
  },
  {
   "cell_type": "markdown",
   "id": "7b1e1c2e-5ab3-4d9c-a6ca-0f7098704f52",
   "metadata": {
    "slideshow": {
     "slide_type": "subslide"
    }
   },
   "source": [
    "<pre>Você pode \"empilhar\" as colunas e as colocar como um nível do índice hierárquico</pre>"
   ]
  },
  {
   "cell_type": "code",
   "execution_count": 8,
   "id": "13f3b3d2-736b-4501-80f9-9b76a1c27429",
   "metadata": {
    "slideshow": {
     "slide_type": "-"
    }
   },
   "outputs": [
    {
     "data": {
      "text/plain": [
       "a  1     7.0\n",
       "   2     1.0\n",
       "   3    23.0\n",
       "b  1    21.0\n",
       "   3    16.0\n",
       "c  1    29.0\n",
       "   2     2.0\n",
       "d  2    12.0\n",
       "   3    13.0\n",
       "dtype: float64"
      ]
     },
     "execution_count": 8,
     "metadata": {},
     "output_type": "execute_result"
    }
   ],
   "source": [
    "data = data.stack()\n",
    "data"
   ]
  },
  {
   "cell_type": "markdown",
   "id": "fbced103-2d6f-4dee-abde-48c05ca3bad1",
   "metadata": {
    "slideshow": {
     "slide_type": "subslide"
    },
    "tags": []
   },
   "source": [
    "#### Indexação Hierárquica em DataFrame 📽️"
   ]
  },
  {
   "cell_type": "markdown",
   "id": "0cb9c5f5-f380-4ac2-9f67-34712b741950",
   "metadata": {
    "slideshow": {
     "slide_type": "-"
    }
   },
   "source": [
    "<pre>Você pode ter índice hierárquico tanto em linhas <u>quanto em colunas</u></pre>"
   ]
  },
  {
   "cell_type": "code",
   "execution_count": 9,
   "id": "47c13fe4-4740-4fff-87f5-f3aedd0f20ad",
   "metadata": {
    "slideshow": {
     "slide_type": "-"
    }
   },
   "outputs": [
    {
     "data": {
      "text/html": [
       "<div>\n",
       "<style scoped>\n",
       "    .dataframe tbody tr th:only-of-type {\n",
       "        vertical-align: middle;\n",
       "    }\n",
       "\n",
       "    .dataframe tbody tr th {\n",
       "        vertical-align: top;\n",
       "    }\n",
       "\n",
       "    .dataframe thead tr th {\n",
       "        text-align: left;\n",
       "    }\n",
       "</style>\n",
       "<table border=\"1\" class=\"dataframe\">\n",
       "  <thead>\n",
       "    <tr>\n",
       "      <th></th>\n",
       "      <th></th>\n",
       "      <th colspan=\"2\" halign=\"left\">Ohio</th>\n",
       "      <th>Colorado</th>\n",
       "    </tr>\n",
       "    <tr>\n",
       "      <th></th>\n",
       "      <th></th>\n",
       "      <th>Green</th>\n",
       "      <th>Red</th>\n",
       "      <th>Green</th>\n",
       "    </tr>\n",
       "  </thead>\n",
       "  <tbody>\n",
       "    <tr>\n",
       "      <th rowspan=\"2\" valign=\"top\">a</th>\n",
       "      <th>1</th>\n",
       "      <td>0</td>\n",
       "      <td>1</td>\n",
       "      <td>2</td>\n",
       "    </tr>\n",
       "    <tr>\n",
       "      <th>2</th>\n",
       "      <td>3</td>\n",
       "      <td>4</td>\n",
       "      <td>5</td>\n",
       "    </tr>\n",
       "    <tr>\n",
       "      <th rowspan=\"2\" valign=\"top\">b</th>\n",
       "      <th>1</th>\n",
       "      <td>6</td>\n",
       "      <td>7</td>\n",
       "      <td>8</td>\n",
       "    </tr>\n",
       "    <tr>\n",
       "      <th>2</th>\n",
       "      <td>9</td>\n",
       "      <td>10</td>\n",
       "      <td>11</td>\n",
       "    </tr>\n",
       "  </tbody>\n",
       "</table>\n",
       "</div>"
      ],
      "text/plain": [
       "     Ohio     Colorado\n",
       "    Green Red    Green\n",
       "a 1     0   1        2\n",
       "  2     3   4        5\n",
       "b 1     6   7        8\n",
       "  2     9  10       11"
      ]
     },
     "execution_count": 9,
     "metadata": {},
     "output_type": "execute_result"
    }
   ],
   "source": [
    "frame = pd.DataFrame([[0, 1, 2],[3, 4, 5],[6, 7, 8],[9, 10, 11]],\n",
    "                     index=[[\"a\", \"a\", \"b\", \"b\"], [1, 2, 1, 2]],\n",
    "                     columns=[[\"Ohio\", \"Ohio\", \"Colorado\"], \n",
    "                              [\"Green\", \"Red\", \"Green\"]])\n",
    "frame"
   ]
  },
  {
   "cell_type": "markdown",
   "id": "f31ee2b7-05e4-48d5-b9ed-d6d8f5708b17",
   "metadata": {
    "slideshow": {
     "slide_type": "subslide"
    }
   },
   "source": [
    "<pre>Você pode atribuir nomes aos índices hierárquicos das linhas e das colunas</pre>"
   ]
  },
  {
   "cell_type": "code",
   "execution_count": 10,
   "id": "29a1c025-ff2a-46c9-9d9a-bbc88f609bdc",
   "metadata": {
    "slideshow": {
     "slide_type": "-"
    }
   },
   "outputs": [
    {
     "data": {
      "text/html": [
       "<div>\n",
       "<style scoped>\n",
       "    .dataframe tbody tr th:only-of-type {\n",
       "        vertical-align: middle;\n",
       "    }\n",
       "\n",
       "    .dataframe tbody tr th {\n",
       "        vertical-align: top;\n",
       "    }\n",
       "\n",
       "    .dataframe thead tr th {\n",
       "        text-align: left;\n",
       "    }\n",
       "\n",
       "    .dataframe thead tr:last-of-type th {\n",
       "        text-align: right;\n",
       "    }\n",
       "</style>\n",
       "<table border=\"1\" class=\"dataframe\">\n",
       "  <thead>\n",
       "    <tr>\n",
       "      <th></th>\n",
       "      <th>state</th>\n",
       "      <th colspan=\"2\" halign=\"left\">Ohio</th>\n",
       "      <th>Colorado</th>\n",
       "    </tr>\n",
       "    <tr>\n",
       "      <th></th>\n",
       "      <th>color</th>\n",
       "      <th>Green</th>\n",
       "      <th>Red</th>\n",
       "      <th>Green</th>\n",
       "    </tr>\n",
       "    <tr>\n",
       "      <th>key1</th>\n",
       "      <th>key2</th>\n",
       "      <th></th>\n",
       "      <th></th>\n",
       "      <th></th>\n",
       "    </tr>\n",
       "  </thead>\n",
       "  <tbody>\n",
       "    <tr>\n",
       "      <th rowspan=\"2\" valign=\"top\">a</th>\n",
       "      <th>1</th>\n",
       "      <td>0</td>\n",
       "      <td>1</td>\n",
       "      <td>2</td>\n",
       "    </tr>\n",
       "    <tr>\n",
       "      <th>2</th>\n",
       "      <td>3</td>\n",
       "      <td>4</td>\n",
       "      <td>5</td>\n",
       "    </tr>\n",
       "    <tr>\n",
       "      <th rowspan=\"2\" valign=\"top\">b</th>\n",
       "      <th>1</th>\n",
       "      <td>6</td>\n",
       "      <td>7</td>\n",
       "      <td>8</td>\n",
       "    </tr>\n",
       "    <tr>\n",
       "      <th>2</th>\n",
       "      <td>9</td>\n",
       "      <td>10</td>\n",
       "      <td>11</td>\n",
       "    </tr>\n",
       "  </tbody>\n",
       "</table>\n",
       "</div>"
      ],
      "text/plain": [
       "state      Ohio     Colorado\n",
       "color     Green Red    Green\n",
       "key1 key2                   \n",
       "a    1        0   1        2\n",
       "     2        3   4        5\n",
       "b    1        6   7        8\n",
       "     2        9  10       11"
      ]
     },
     "execution_count": 10,
     "metadata": {},
     "output_type": "execute_result"
    }
   ],
   "source": [
    "frame.index.names = [\"key1\", \"key2\"]\n",
    "frame.columns.names = [\"state\", \"color\"]\n",
    "frame"
   ]
  },
  {
   "cell_type": "markdown",
   "id": "b8fda407-9ceb-4b35-a728-09df63b46c77",
   "metadata": {
    "slideshow": {
     "slide_type": "-"
    }
   },
   "source": [
    "<pre>Você pode contar os níveis dos índices hierárquicos das linhas e das colunas</pre>"
   ]
  },
  {
   "cell_type": "code",
   "execution_count": 11,
   "id": "ebc65aad-315c-4f10-8c2a-1bd41340ad38",
   "metadata": {
    "slideshow": {
     "slide_type": "-"
    }
   },
   "outputs": [
    {
     "data": {
      "text/plain": [
       "(2, 2)"
      ]
     },
     "execution_count": 11,
     "metadata": {},
     "output_type": "execute_result"
    }
   ],
   "source": [
    "frame.index.nlevels, frame.columns.nlevels"
   ]
  },
  {
   "cell_type": "markdown",
   "id": "c7253b33-cb14-4b37-94ea-674be4d8dd59",
   "metadata": {
    "slideshow": {
     "slide_type": "subslide"
    }
   },
   "source": [
    "<pre>Você pode acessar elementos específicos do primeiro nível do índice hierárquico das linhas...</pre>"
   ]
  },
  {
   "cell_type": "code",
   "execution_count": 12,
   "id": "de264915-f924-4ed3-bcf8-ce46537c44f9",
   "metadata": {
    "slideshow": {
     "slide_type": "-"
    }
   },
   "outputs": [
    {
     "data": {
      "text/html": [
       "<div>\n",
       "<style scoped>\n",
       "    .dataframe tbody tr th:only-of-type {\n",
       "        vertical-align: middle;\n",
       "    }\n",
       "\n",
       "    .dataframe tbody tr th {\n",
       "        vertical-align: top;\n",
       "    }\n",
       "\n",
       "    .dataframe thead tr th {\n",
       "        text-align: left;\n",
       "    }\n",
       "\n",
       "    .dataframe thead tr:last-of-type th {\n",
       "        text-align: right;\n",
       "    }\n",
       "</style>\n",
       "<table border=\"1\" class=\"dataframe\">\n",
       "  <thead>\n",
       "    <tr>\n",
       "      <th>state</th>\n",
       "      <th colspan=\"2\" halign=\"left\">Ohio</th>\n",
       "      <th>Colorado</th>\n",
       "    </tr>\n",
       "    <tr>\n",
       "      <th>color</th>\n",
       "      <th>Green</th>\n",
       "      <th>Red</th>\n",
       "      <th>Green</th>\n",
       "    </tr>\n",
       "    <tr>\n",
       "      <th>key2</th>\n",
       "      <th></th>\n",
       "      <th></th>\n",
       "      <th></th>\n",
       "    </tr>\n",
       "  </thead>\n",
       "  <tbody>\n",
       "    <tr>\n",
       "      <th>1</th>\n",
       "      <td>0</td>\n",
       "      <td>1</td>\n",
       "      <td>2</td>\n",
       "    </tr>\n",
       "    <tr>\n",
       "      <th>2</th>\n",
       "      <td>3</td>\n",
       "      <td>4</td>\n",
       "      <td>5</td>\n",
       "    </tr>\n",
       "  </tbody>\n",
       "</table>\n",
       "</div>"
      ],
      "text/plain": [
       "state  Ohio     Colorado\n",
       "color Green Red    Green\n",
       "key2                    \n",
       "1         0   1        2\n",
       "2         3   4        5"
      ]
     },
     "execution_count": 12,
     "metadata": {},
     "output_type": "execute_result"
    }
   ],
   "source": [
    "frame.loc['a']"
   ]
  },
  {
   "cell_type": "markdown",
   "id": "c915a423-cbd7-4532-a65b-9f065816fd58",
   "metadata": {
    "slideshow": {
     "slide_type": "-"
    }
   },
   "source": [
    "<pre>..., bem como elementos específicos do primeiro nível do índice hierárquico das colunas</pre>"
   ]
  },
  {
   "cell_type": "code",
   "execution_count": 13,
   "id": "48f1976a-82f1-47ee-a33b-e03e9095e5a1",
   "metadata": {
    "slideshow": {
     "slide_type": "-"
    }
   },
   "outputs": [
    {
     "data": {
      "text/html": [
       "<div>\n",
       "<style scoped>\n",
       "    .dataframe tbody tr th:only-of-type {\n",
       "        vertical-align: middle;\n",
       "    }\n",
       "\n",
       "    .dataframe tbody tr th {\n",
       "        vertical-align: top;\n",
       "    }\n",
       "\n",
       "    .dataframe thead tr th {\n",
       "        text-align: left;\n",
       "    }\n",
       "\n",
       "    .dataframe thead tr:last-of-type th {\n",
       "        text-align: right;\n",
       "    }\n",
       "</style>\n",
       "<table border=\"1\" class=\"dataframe\">\n",
       "  <thead>\n",
       "    <tr>\n",
       "      <th></th>\n",
       "      <th>state</th>\n",
       "      <th colspan=\"2\" halign=\"left\">Ohio</th>\n",
       "    </tr>\n",
       "    <tr>\n",
       "      <th></th>\n",
       "      <th>color</th>\n",
       "      <th>Green</th>\n",
       "      <th>Red</th>\n",
       "    </tr>\n",
       "    <tr>\n",
       "      <th>key1</th>\n",
       "      <th>key2</th>\n",
       "      <th></th>\n",
       "      <th></th>\n",
       "    </tr>\n",
       "  </thead>\n",
       "  <tbody>\n",
       "    <tr>\n",
       "      <th rowspan=\"2\" valign=\"top\">a</th>\n",
       "      <th>1</th>\n",
       "      <td>0</td>\n",
       "      <td>1</td>\n",
       "    </tr>\n",
       "    <tr>\n",
       "      <th>2</th>\n",
       "      <td>3</td>\n",
       "      <td>4</td>\n",
       "    </tr>\n",
       "  </tbody>\n",
       "</table>\n",
       "</div>"
      ],
      "text/plain": [
       "state      Ohio    \n",
       "color     Green Red\n",
       "key1 key2          \n",
       "a    1        0   1\n",
       "     2        3   4"
      ]
     },
     "execution_count": 13,
     "metadata": {},
     "output_type": "execute_result"
    }
   ],
   "source": [
    "frame.loc[['a'],['Ohio']]"
   ]
  },
  {
   "cell_type": "markdown",
   "id": "eb49d518-e1fd-463c-ba91-322f39183426",
   "metadata": {
    "slideshow": {
     "slide_type": "subslide"
    },
    "tags": []
   },
   "source": [
    "#### Reorganização e Ordenação dos Níveis da Indexação Hierárquica "
   ]
  },
  {
   "cell_type": "code",
   "execution_count": 14,
   "id": "7d13dfc6-6a0d-41a9-988b-11348cc61d34",
   "metadata": {
    "slideshow": {
     "slide_type": "-"
    }
   },
   "outputs": [
    {
     "data": {
      "text/html": [
       "<div>\n",
       "<style scoped>\n",
       "    .dataframe tbody tr th:only-of-type {\n",
       "        vertical-align: middle;\n",
       "    }\n",
       "\n",
       "    .dataframe tbody tr th {\n",
       "        vertical-align: top;\n",
       "    }\n",
       "\n",
       "    .dataframe thead tr th {\n",
       "        text-align: left;\n",
       "    }\n",
       "\n",
       "    .dataframe thead tr:last-of-type th {\n",
       "        text-align: right;\n",
       "    }\n",
       "</style>\n",
       "<table border=\"1\" class=\"dataframe\">\n",
       "  <thead>\n",
       "    <tr>\n",
       "      <th></th>\n",
       "      <th>state</th>\n",
       "      <th colspan=\"2\" halign=\"left\">Ohio</th>\n",
       "      <th>Colorado</th>\n",
       "    </tr>\n",
       "    <tr>\n",
       "      <th></th>\n",
       "      <th>color</th>\n",
       "      <th>Green</th>\n",
       "      <th>Red</th>\n",
       "      <th>Green</th>\n",
       "    </tr>\n",
       "    <tr>\n",
       "      <th>key1</th>\n",
       "      <th>key2</th>\n",
       "      <th></th>\n",
       "      <th></th>\n",
       "      <th></th>\n",
       "    </tr>\n",
       "  </thead>\n",
       "  <tbody>\n",
       "    <tr>\n",
       "      <th rowspan=\"2\" valign=\"top\">a</th>\n",
       "      <th>1</th>\n",
       "      <td>0</td>\n",
       "      <td>1</td>\n",
       "      <td>2</td>\n",
       "    </tr>\n",
       "    <tr>\n",
       "      <th>2</th>\n",
       "      <td>3</td>\n",
       "      <td>4</td>\n",
       "      <td>5</td>\n",
       "    </tr>\n",
       "    <tr>\n",
       "      <th rowspan=\"2\" valign=\"top\">b</th>\n",
       "      <th>1</th>\n",
       "      <td>6</td>\n",
       "      <td>7</td>\n",
       "      <td>8</td>\n",
       "    </tr>\n",
       "    <tr>\n",
       "      <th>2</th>\n",
       "      <td>9</td>\n",
       "      <td>10</td>\n",
       "      <td>11</td>\n",
       "    </tr>\n",
       "  </tbody>\n",
       "</table>\n",
       "</div>"
      ],
      "text/plain": [
       "state      Ohio     Colorado\n",
       "color     Green Red    Green\n",
       "key1 key2                   \n",
       "a    1        0   1        2\n",
       "     2        3   4        5\n",
       "b    1        6   7        8\n",
       "     2        9  10       11"
      ]
     },
     "execution_count": 14,
     "metadata": {},
     "output_type": "execute_result"
    }
   ],
   "source": [
    "frame"
   ]
  },
  {
   "cell_type": "markdown",
   "id": "ecb4181c-ca40-41a5-91a9-abf391b13574",
   "metadata": {
    "slideshow": {
     "slide_type": "-"
    }
   },
   "source": [
    "<pre>Você pode reorganizar os níveis do índice hierárquico das linhas...</pre>"
   ]
  },
  {
   "cell_type": "code",
   "execution_count": 15,
   "id": "b7a5cf59-411b-4a0b-96e3-c81452532f5b",
   "metadata": {
    "slideshow": {
     "slide_type": "-"
    }
   },
   "outputs": [
    {
     "data": {
      "text/html": [
       "<div>\n",
       "<style scoped>\n",
       "    .dataframe tbody tr th:only-of-type {\n",
       "        vertical-align: middle;\n",
       "    }\n",
       "\n",
       "    .dataframe tbody tr th {\n",
       "        vertical-align: top;\n",
       "    }\n",
       "\n",
       "    .dataframe thead tr th {\n",
       "        text-align: left;\n",
       "    }\n",
       "\n",
       "    .dataframe thead tr:last-of-type th {\n",
       "        text-align: right;\n",
       "    }\n",
       "</style>\n",
       "<table border=\"1\" class=\"dataframe\">\n",
       "  <thead>\n",
       "    <tr>\n",
       "      <th></th>\n",
       "      <th>state</th>\n",
       "      <th colspan=\"2\" halign=\"left\">Ohio</th>\n",
       "      <th>Colorado</th>\n",
       "    </tr>\n",
       "    <tr>\n",
       "      <th></th>\n",
       "      <th>color</th>\n",
       "      <th>Green</th>\n",
       "      <th>Red</th>\n",
       "      <th>Green</th>\n",
       "    </tr>\n",
       "    <tr>\n",
       "      <th>key2</th>\n",
       "      <th>key1</th>\n",
       "      <th></th>\n",
       "      <th></th>\n",
       "      <th></th>\n",
       "    </tr>\n",
       "  </thead>\n",
       "  <tbody>\n",
       "    <tr>\n",
       "      <th>1</th>\n",
       "      <th>a</th>\n",
       "      <td>0</td>\n",
       "      <td>1</td>\n",
       "      <td>2</td>\n",
       "    </tr>\n",
       "    <tr>\n",
       "      <th>2</th>\n",
       "      <th>a</th>\n",
       "      <td>3</td>\n",
       "      <td>4</td>\n",
       "      <td>5</td>\n",
       "    </tr>\n",
       "    <tr>\n",
       "      <th>1</th>\n",
       "      <th>b</th>\n",
       "      <td>6</td>\n",
       "      <td>7</td>\n",
       "      <td>8</td>\n",
       "    </tr>\n",
       "    <tr>\n",
       "      <th>2</th>\n",
       "      <th>b</th>\n",
       "      <td>9</td>\n",
       "      <td>10</td>\n",
       "      <td>11</td>\n",
       "    </tr>\n",
       "  </tbody>\n",
       "</table>\n",
       "</div>"
      ],
      "text/plain": [
       "state      Ohio     Colorado\n",
       "color     Green Red    Green\n",
       "key2 key1                   \n",
       "1    a        0   1        2\n",
       "2    a        3   4        5\n",
       "1    b        6   7        8\n",
       "2    b        9  10       11"
      ]
     },
     "execution_count": 15,
     "metadata": {},
     "output_type": "execute_result"
    }
   ],
   "source": [
    "frame = frame.swaplevel(\"key1\", \"key2\")\n",
    "frame"
   ]
  },
  {
   "cell_type": "markdown",
   "id": "94937458-3c72-4a3f-8947-bbebd9067f2d",
   "metadata": {
    "slideshow": {
     "slide_type": "subslide"
    }
   },
   "source": [
    "<pre>..., bem como ordenar lexicograficamente todos os níveis do índice hierárquico das linhas,</pre>"
   ]
  },
  {
   "cell_type": "code",
   "execution_count": 16,
   "id": "85fab9be-58ce-4812-a2c7-1458c52fda25",
   "metadata": {
    "slideshow": {
     "slide_type": "-"
    }
   },
   "outputs": [
    {
     "data": {
      "text/html": [
       "<div>\n",
       "<style scoped>\n",
       "    .dataframe tbody tr th:only-of-type {\n",
       "        vertical-align: middle;\n",
       "    }\n",
       "\n",
       "    .dataframe tbody tr th {\n",
       "        vertical-align: top;\n",
       "    }\n",
       "\n",
       "    .dataframe thead tr th {\n",
       "        text-align: left;\n",
       "    }\n",
       "\n",
       "    .dataframe thead tr:last-of-type th {\n",
       "        text-align: right;\n",
       "    }\n",
       "</style>\n",
       "<table border=\"1\" class=\"dataframe\">\n",
       "  <thead>\n",
       "    <tr>\n",
       "      <th></th>\n",
       "      <th>state</th>\n",
       "      <th colspan=\"2\" halign=\"left\">Ohio</th>\n",
       "      <th>Colorado</th>\n",
       "    </tr>\n",
       "    <tr>\n",
       "      <th></th>\n",
       "      <th>color</th>\n",
       "      <th>Green</th>\n",
       "      <th>Red</th>\n",
       "      <th>Green</th>\n",
       "    </tr>\n",
       "    <tr>\n",
       "      <th>key2</th>\n",
       "      <th>key1</th>\n",
       "      <th></th>\n",
       "      <th></th>\n",
       "      <th></th>\n",
       "    </tr>\n",
       "  </thead>\n",
       "  <tbody>\n",
       "    <tr>\n",
       "      <th rowspan=\"2\" valign=\"top\">1</th>\n",
       "      <th>a</th>\n",
       "      <td>0</td>\n",
       "      <td>1</td>\n",
       "      <td>2</td>\n",
       "    </tr>\n",
       "    <tr>\n",
       "      <th>b</th>\n",
       "      <td>6</td>\n",
       "      <td>7</td>\n",
       "      <td>8</td>\n",
       "    </tr>\n",
       "    <tr>\n",
       "      <th rowspan=\"2\" valign=\"top\">2</th>\n",
       "      <th>a</th>\n",
       "      <td>3</td>\n",
       "      <td>4</td>\n",
       "      <td>5</td>\n",
       "    </tr>\n",
       "    <tr>\n",
       "      <th>b</th>\n",
       "      <td>9</td>\n",
       "      <td>10</td>\n",
       "      <td>11</td>\n",
       "    </tr>\n",
       "  </tbody>\n",
       "</table>\n",
       "</div>"
      ],
      "text/plain": [
       "state      Ohio     Colorado\n",
       "color     Green Red    Green\n",
       "key2 key1                   \n",
       "1    a        0   1        2\n",
       "     b        6   7        8\n",
       "2    a        3   4        5\n",
       "     b        9  10       11"
      ]
     },
     "execution_count": 16,
     "metadata": {},
     "output_type": "execute_result"
    }
   ],
   "source": [
    "frame.sort_index()"
   ]
  },
  {
   "cell_type": "markdown",
   "id": "964241ca-f9f3-4546-9736-131ce495a54c",
   "metadata": {
    "slideshow": {
     "slide_type": "-"
    }
   },
   "source": [
    "<pre>... ou ordenar lexicograficamente apenas um nível específico do índice hierárquico das linhas.</pre>"
   ]
  },
  {
   "cell_type": "code",
   "execution_count": 17,
   "id": "8f0db7e8-6d04-487a-a291-33e1e17af7d5",
   "metadata": {
    "slideshow": {
     "slide_type": "-"
    }
   },
   "outputs": [
    {
     "data": {
      "text/html": [
       "<div>\n",
       "<style scoped>\n",
       "    .dataframe tbody tr th:only-of-type {\n",
       "        vertical-align: middle;\n",
       "    }\n",
       "\n",
       "    .dataframe tbody tr th {\n",
       "        vertical-align: top;\n",
       "    }\n",
       "\n",
       "    .dataframe thead tr th {\n",
       "        text-align: left;\n",
       "    }\n",
       "\n",
       "    .dataframe thead tr:last-of-type th {\n",
       "        text-align: right;\n",
       "    }\n",
       "</style>\n",
       "<table border=\"1\" class=\"dataframe\">\n",
       "  <thead>\n",
       "    <tr>\n",
       "      <th></th>\n",
       "      <th>state</th>\n",
       "      <th colspan=\"2\" halign=\"left\">Ohio</th>\n",
       "      <th>Colorado</th>\n",
       "    </tr>\n",
       "    <tr>\n",
       "      <th></th>\n",
       "      <th>color</th>\n",
       "      <th>Green</th>\n",
       "      <th>Red</th>\n",
       "      <th>Green</th>\n",
       "    </tr>\n",
       "    <tr>\n",
       "      <th>key2</th>\n",
       "      <th>key1</th>\n",
       "      <th></th>\n",
       "      <th></th>\n",
       "      <th></th>\n",
       "    </tr>\n",
       "  </thead>\n",
       "  <tbody>\n",
       "    <tr>\n",
       "      <th>2</th>\n",
       "      <th>b</th>\n",
       "      <td>9</td>\n",
       "      <td>10</td>\n",
       "      <td>11</td>\n",
       "    </tr>\n",
       "    <tr>\n",
       "      <th>1</th>\n",
       "      <th>b</th>\n",
       "      <td>6</td>\n",
       "      <td>7</td>\n",
       "      <td>8</td>\n",
       "    </tr>\n",
       "    <tr>\n",
       "      <th>2</th>\n",
       "      <th>a</th>\n",
       "      <td>3</td>\n",
       "      <td>4</td>\n",
       "      <td>5</td>\n",
       "    </tr>\n",
       "    <tr>\n",
       "      <th>1</th>\n",
       "      <th>a</th>\n",
       "      <td>0</td>\n",
       "      <td>1</td>\n",
       "      <td>2</td>\n",
       "    </tr>\n",
       "  </tbody>\n",
       "</table>\n",
       "</div>"
      ],
      "text/plain": [
       "state      Ohio     Colorado\n",
       "color     Green Red    Green\n",
       "key2 key1                   \n",
       "2    b        9  10       11\n",
       "1    b        6   7        8\n",
       "2    a        3   4        5\n",
       "1    a        0   1        2"
      ]
     },
     "execution_count": 17,
     "metadata": {},
     "output_type": "execute_result"
    }
   ],
   "source": [
    "frame.sort_index(level=1, ascending=False)"
   ]
  },
  {
   "cell_type": "markdown",
   "id": "aa8e8235-c9c1-42d9-9ad4-060e584228c9",
   "metadata": {
    "slideshow": {
     "slide_type": "subslide"
    }
   },
   "source": [
    "<pre>🍒 🎂 Você pode também reorganizar ou ordenar lexicograficamente os níveis do índice hierárquico das colunas</pre>"
   ]
  },
  {
   "cell_type": "code",
   "execution_count": 18,
   "id": "7b14b573-fe1f-43ac-bae5-ac4932752777",
   "metadata": {
    "slideshow": {
     "slide_type": "-"
    }
   },
   "outputs": [
    {
     "data": {
      "text/html": [
       "<div>\n",
       "<style scoped>\n",
       "    .dataframe tbody tr th:only-of-type {\n",
       "        vertical-align: middle;\n",
       "    }\n",
       "\n",
       "    .dataframe tbody tr th {\n",
       "        vertical-align: top;\n",
       "    }\n",
       "\n",
       "    .dataframe thead tr th {\n",
       "        text-align: left;\n",
       "    }\n",
       "\n",
       "    .dataframe thead tr:last-of-type th {\n",
       "        text-align: right;\n",
       "    }\n",
       "</style>\n",
       "<table border=\"1\" class=\"dataframe\">\n",
       "  <thead>\n",
       "    <tr>\n",
       "      <th></th>\n",
       "      <th>color</th>\n",
       "      <th>Green</th>\n",
       "      <th>Red</th>\n",
       "      <th>Green</th>\n",
       "    </tr>\n",
       "    <tr>\n",
       "      <th></th>\n",
       "      <th>state</th>\n",
       "      <th>Ohio</th>\n",
       "      <th>Ohio</th>\n",
       "      <th>Colorado</th>\n",
       "    </tr>\n",
       "    <tr>\n",
       "      <th>key2</th>\n",
       "      <th>key1</th>\n",
       "      <th></th>\n",
       "      <th></th>\n",
       "      <th></th>\n",
       "    </tr>\n",
       "  </thead>\n",
       "  <tbody>\n",
       "    <tr>\n",
       "      <th>1</th>\n",
       "      <th>a</th>\n",
       "      <td>0</td>\n",
       "      <td>1</td>\n",
       "      <td>2</td>\n",
       "    </tr>\n",
       "    <tr>\n",
       "      <th>2</th>\n",
       "      <th>a</th>\n",
       "      <td>3</td>\n",
       "      <td>4</td>\n",
       "      <td>5</td>\n",
       "    </tr>\n",
       "    <tr>\n",
       "      <th>1</th>\n",
       "      <th>b</th>\n",
       "      <td>6</td>\n",
       "      <td>7</td>\n",
       "      <td>8</td>\n",
       "    </tr>\n",
       "    <tr>\n",
       "      <th>2</th>\n",
       "      <th>b</th>\n",
       "      <td>9</td>\n",
       "      <td>10</td>\n",
       "      <td>11</td>\n",
       "    </tr>\n",
       "  </tbody>\n",
       "</table>\n",
       "</div>"
      ],
      "text/plain": [
       "color     Green  Red    Green\n",
       "state      Ohio Ohio Colorado\n",
       "key2 key1                    \n",
       "1    a        0    1        2\n",
       "2    a        3    4        5\n",
       "1    b        6    7        8\n",
       "2    b        9   10       11"
      ]
     },
     "execution_count": 18,
     "metadata": {},
     "output_type": "execute_result"
    }
   ],
   "source": [
    "frame.swaplevel(\"state\", \"color\", axis='columns')"
   ]
  },
  {
   "cell_type": "code",
   "execution_count": 19,
   "id": "ed8f499f-2a54-407b-9c17-17bf1da935c4",
   "metadata": {
    "slideshow": {
     "slide_type": "subslide"
    }
   },
   "outputs": [
    {
     "data": {
      "text/html": [
       "<div>\n",
       "<style scoped>\n",
       "    .dataframe tbody tr th:only-of-type {\n",
       "        vertical-align: middle;\n",
       "    }\n",
       "\n",
       "    .dataframe tbody tr th {\n",
       "        vertical-align: top;\n",
       "    }\n",
       "\n",
       "    .dataframe thead tr th {\n",
       "        text-align: left;\n",
       "    }\n",
       "\n",
       "    .dataframe thead tr:last-of-type th {\n",
       "        text-align: right;\n",
       "    }\n",
       "</style>\n",
       "<table border=\"1\" class=\"dataframe\">\n",
       "  <thead>\n",
       "    <tr>\n",
       "      <th></th>\n",
       "      <th>state</th>\n",
       "      <th>Colorado</th>\n",
       "      <th colspan=\"2\" halign=\"left\">Ohio</th>\n",
       "    </tr>\n",
       "    <tr>\n",
       "      <th></th>\n",
       "      <th>color</th>\n",
       "      <th>Green</th>\n",
       "      <th>Green</th>\n",
       "      <th>Red</th>\n",
       "    </tr>\n",
       "    <tr>\n",
       "      <th>key2</th>\n",
       "      <th>key1</th>\n",
       "      <th></th>\n",
       "      <th></th>\n",
       "      <th></th>\n",
       "    </tr>\n",
       "  </thead>\n",
       "  <tbody>\n",
       "    <tr>\n",
       "      <th>1</th>\n",
       "      <th>a</th>\n",
       "      <td>2</td>\n",
       "      <td>0</td>\n",
       "      <td>1</td>\n",
       "    </tr>\n",
       "    <tr>\n",
       "      <th>2</th>\n",
       "      <th>a</th>\n",
       "      <td>5</td>\n",
       "      <td>3</td>\n",
       "      <td>4</td>\n",
       "    </tr>\n",
       "    <tr>\n",
       "      <th>1</th>\n",
       "      <th>b</th>\n",
       "      <td>8</td>\n",
       "      <td>6</td>\n",
       "      <td>7</td>\n",
       "    </tr>\n",
       "    <tr>\n",
       "      <th>2</th>\n",
       "      <th>b</th>\n",
       "      <td>11</td>\n",
       "      <td>9</td>\n",
       "      <td>10</td>\n",
       "    </tr>\n",
       "  </tbody>\n",
       "</table>\n",
       "</div>"
      ],
      "text/plain": [
       "state     Colorado  Ohio    \n",
       "color        Green Green Red\n",
       "key2 key1                   \n",
       "1    a           2     0   1\n",
       "2    a           5     3   4\n",
       "1    b           8     6   7\n",
       "2    b          11     9  10"
      ]
     },
     "execution_count": 19,
     "metadata": {},
     "output_type": "execute_result"
    }
   ],
   "source": [
    "frame.sort_index(axis='columns')"
   ]
  },
  {
   "cell_type": "code",
   "execution_count": 20,
   "id": "b29ff23b-233e-47db-bfa5-67543bd70c4d",
   "metadata": {
    "slideshow": {
     "slide_type": "-"
    }
   },
   "outputs": [
    {
     "data": {
      "text/html": [
       "<div>\n",
       "<style scoped>\n",
       "    .dataframe tbody tr th:only-of-type {\n",
       "        vertical-align: middle;\n",
       "    }\n",
       "\n",
       "    .dataframe tbody tr th {\n",
       "        vertical-align: top;\n",
       "    }\n",
       "\n",
       "    .dataframe thead tr th {\n",
       "        text-align: left;\n",
       "    }\n",
       "\n",
       "    .dataframe thead tr:last-of-type th {\n",
       "        text-align: right;\n",
       "    }\n",
       "</style>\n",
       "<table border=\"1\" class=\"dataframe\">\n",
       "  <thead>\n",
       "    <tr>\n",
       "      <th></th>\n",
       "      <th>state</th>\n",
       "      <th colspan=\"2\" halign=\"left\">Ohio</th>\n",
       "      <th>Colorado</th>\n",
       "    </tr>\n",
       "    <tr>\n",
       "      <th></th>\n",
       "      <th>color</th>\n",
       "      <th>Red</th>\n",
       "      <th>Green</th>\n",
       "      <th>Green</th>\n",
       "    </tr>\n",
       "    <tr>\n",
       "      <th>key2</th>\n",
       "      <th>key1</th>\n",
       "      <th></th>\n",
       "      <th></th>\n",
       "      <th></th>\n",
       "    </tr>\n",
       "  </thead>\n",
       "  <tbody>\n",
       "    <tr>\n",
       "      <th>1</th>\n",
       "      <th>a</th>\n",
       "      <td>1</td>\n",
       "      <td>0</td>\n",
       "      <td>2</td>\n",
       "    </tr>\n",
       "    <tr>\n",
       "      <th>2</th>\n",
       "      <th>a</th>\n",
       "      <td>4</td>\n",
       "      <td>3</td>\n",
       "      <td>5</td>\n",
       "    </tr>\n",
       "    <tr>\n",
       "      <th>1</th>\n",
       "      <th>b</th>\n",
       "      <td>7</td>\n",
       "      <td>6</td>\n",
       "      <td>8</td>\n",
       "    </tr>\n",
       "    <tr>\n",
       "      <th>2</th>\n",
       "      <th>b</th>\n",
       "      <td>10</td>\n",
       "      <td>9</td>\n",
       "      <td>11</td>\n",
       "    </tr>\n",
       "  </tbody>\n",
       "</table>\n",
       "</div>"
      ],
      "text/plain": [
       "state     Ohio       Colorado\n",
       "color      Red Green    Green\n",
       "key2 key1                    \n",
       "1    a       1     0        2\n",
       "2    a       4     3        5\n",
       "1    b       7     6        8\n",
       "2    b      10     9       11"
      ]
     },
     "execution_count": 20,
     "metadata": {},
     "output_type": "execute_result"
    }
   ],
   "source": [
    "frame.sort_index(axis='columns', level=1, ascending=False)"
   ]
  },
  {
   "cell_type": "markdown",
   "id": "ff7cbd35-c251-4496-88e4-9fe1ff571249",
   "metadata": {
    "slideshow": {
     "slide_type": "subslide"
    },
    "tags": []
   },
   "source": [
    "#### Indexando com algumas colunas de um DataFrame"
   ]
  },
  {
   "cell_type": "markdown",
   "id": "b9c815e6-91f2-4575-8bb9-82382722de57",
   "metadata": {
    "slideshow": {
     "slide_type": "-"
    }
   },
   "source": [
    "<pre>Lembra que você pode \"empilhar\" as colunas e as colocar como um nível do índice hierárquico?</pre>"
   ]
  },
  {
   "cell_type": "markdown",
   "id": "8d619523-8c4a-44d3-b172-729cb4d8ca34",
   "metadata": {
    "slideshow": {
     "slide_type": "-"
    }
   },
   "source": [
    "<pre>Você pode também transformar um conjunto de 'n' colunas em 'n' níveis hierárquicos...</pre>"
   ]
  },
  {
   "cell_type": "code",
   "execution_count": 21,
   "id": "152f8352-1328-46cc-a009-db153bafe2ed",
   "metadata": {
    "slideshow": {
     "slide_type": "subslide"
    }
   },
   "outputs": [
    {
     "data": {
      "text/html": [
       "<div>\n",
       "<style scoped>\n",
       "    .dataframe tbody tr th:only-of-type {\n",
       "        vertical-align: middle;\n",
       "    }\n",
       "\n",
       "    .dataframe tbody tr th {\n",
       "        vertical-align: top;\n",
       "    }\n",
       "\n",
       "    .dataframe thead th {\n",
       "        text-align: right;\n",
       "    }\n",
       "</style>\n",
       "<table border=\"1\" class=\"dataframe\">\n",
       "  <thead>\n",
       "    <tr style=\"text-align: right;\">\n",
       "      <th></th>\n",
       "      <th>a</th>\n",
       "      <th>b</th>\n",
       "      <th>c</th>\n",
       "      <th>d</th>\n",
       "    </tr>\n",
       "  </thead>\n",
       "  <tbody>\n",
       "    <tr>\n",
       "      <th>0</th>\n",
       "      <td>0</td>\n",
       "      <td>7</td>\n",
       "      <td>one</td>\n",
       "      <td>0</td>\n",
       "    </tr>\n",
       "    <tr>\n",
       "      <th>1</th>\n",
       "      <td>1</td>\n",
       "      <td>6</td>\n",
       "      <td>one</td>\n",
       "      <td>1</td>\n",
       "    </tr>\n",
       "    <tr>\n",
       "      <th>2</th>\n",
       "      <td>2</td>\n",
       "      <td>5</td>\n",
       "      <td>one</td>\n",
       "      <td>2</td>\n",
       "    </tr>\n",
       "    <tr>\n",
       "      <th>3</th>\n",
       "      <td>3</td>\n",
       "      <td>4</td>\n",
       "      <td>two</td>\n",
       "      <td>0</td>\n",
       "    </tr>\n",
       "    <tr>\n",
       "      <th>4</th>\n",
       "      <td>4</td>\n",
       "      <td>3</td>\n",
       "      <td>two</td>\n",
       "      <td>1</td>\n",
       "    </tr>\n",
       "    <tr>\n",
       "      <th>5</th>\n",
       "      <td>5</td>\n",
       "      <td>2</td>\n",
       "      <td>two</td>\n",
       "      <td>2</td>\n",
       "    </tr>\n",
       "    <tr>\n",
       "      <th>6</th>\n",
       "      <td>6</td>\n",
       "      <td>1</td>\n",
       "      <td>two</td>\n",
       "      <td>3</td>\n",
       "    </tr>\n",
       "  </tbody>\n",
       "</table>\n",
       "</div>"
      ],
      "text/plain": [
       "   a  b    c  d\n",
       "0  0  7  one  0\n",
       "1  1  6  one  1\n",
       "2  2  5  one  2\n",
       "3  3  4  two  0\n",
       "4  4  3  two  1\n",
       "5  5  2  two  2\n",
       "6  6  1  two  3"
      ]
     },
     "execution_count": 21,
     "metadata": {},
     "output_type": "execute_result"
    }
   ],
   "source": [
    "frame = pd.DataFrame({\"a\": range(7),\n",
    "                      \"b\": range(7, 0, -1),\n",
    "                      \"c\": [\"one\", \"one\", \"one\", \n",
    "                            \"two\", \"two\", \"two\", \"two\"],\n",
    "                      \"d\": [0, 1, 2, 0, 1, 2, 3]})\n",
    "frame"
   ]
  },
  {
   "cell_type": "code",
   "execution_count": 22,
   "id": "6916a768-69ed-4389-893a-c9a5a6b74f1f",
   "metadata": {
    "slideshow": {
     "slide_type": "subslide"
    }
   },
   "outputs": [
    {
     "data": {
      "text/html": [
       "<div>\n",
       "<style scoped>\n",
       "    .dataframe tbody tr th:only-of-type {\n",
       "        vertical-align: middle;\n",
       "    }\n",
       "\n",
       "    .dataframe tbody tr th {\n",
       "        vertical-align: top;\n",
       "    }\n",
       "\n",
       "    .dataframe thead th {\n",
       "        text-align: right;\n",
       "    }\n",
       "</style>\n",
       "<table border=\"1\" class=\"dataframe\">\n",
       "  <thead>\n",
       "    <tr style=\"text-align: right;\">\n",
       "      <th></th>\n",
       "      <th></th>\n",
       "      <th>a</th>\n",
       "      <th>b</th>\n",
       "    </tr>\n",
       "    <tr>\n",
       "      <th>c</th>\n",
       "      <th>d</th>\n",
       "      <th></th>\n",
       "      <th></th>\n",
       "    </tr>\n",
       "  </thead>\n",
       "  <tbody>\n",
       "    <tr>\n",
       "      <th rowspan=\"3\" valign=\"top\">one</th>\n",
       "      <th>0</th>\n",
       "      <td>0</td>\n",
       "      <td>7</td>\n",
       "    </tr>\n",
       "    <tr>\n",
       "      <th>1</th>\n",
       "      <td>1</td>\n",
       "      <td>6</td>\n",
       "    </tr>\n",
       "    <tr>\n",
       "      <th>2</th>\n",
       "      <td>2</td>\n",
       "      <td>5</td>\n",
       "    </tr>\n",
       "    <tr>\n",
       "      <th rowspan=\"4\" valign=\"top\">two</th>\n",
       "      <th>0</th>\n",
       "      <td>3</td>\n",
       "      <td>4</td>\n",
       "    </tr>\n",
       "    <tr>\n",
       "      <th>1</th>\n",
       "      <td>4</td>\n",
       "      <td>3</td>\n",
       "    </tr>\n",
       "    <tr>\n",
       "      <th>2</th>\n",
       "      <td>5</td>\n",
       "      <td>2</td>\n",
       "    </tr>\n",
       "    <tr>\n",
       "      <th>3</th>\n",
       "      <td>6</td>\n",
       "      <td>1</td>\n",
       "    </tr>\n",
       "  </tbody>\n",
       "</table>\n",
       "</div>"
      ],
      "text/plain": [
       "       a  b\n",
       "c   d      \n",
       "one 0  0  7\n",
       "    1  1  6\n",
       "    2  2  5\n",
       "two 0  3  4\n",
       "    1  4  3\n",
       "    2  5  2\n",
       "    3  6  1"
      ]
     },
     "execution_count": 22,
     "metadata": {},
     "output_type": "execute_result"
    }
   ],
   "source": [
    "frame = frame.set_index([\"c\", \"d\"])\n",
    "frame"
   ]
  },
  {
   "cell_type": "markdown",
   "id": "3b269a6d-2295-4950-b073-ef8240275930",
   "metadata": {
    "slideshow": {
     "slide_type": "subslide"
    }
   },
   "source": [
    "<pre>... e transformar 'n' níveis hierárquicos em um conjunto de 'n'</pre>"
   ]
  },
  {
   "cell_type": "code",
   "execution_count": 23,
   "id": "573be5b8-77ba-4c1f-bfc2-32f21e4272ef",
   "metadata": {
    "slideshow": {
     "slide_type": "-"
    }
   },
   "outputs": [
    {
     "data": {
      "text/html": [
       "<div>\n",
       "<style scoped>\n",
       "    .dataframe tbody tr th:only-of-type {\n",
       "        vertical-align: middle;\n",
       "    }\n",
       "\n",
       "    .dataframe tbody tr th {\n",
       "        vertical-align: top;\n",
       "    }\n",
       "\n",
       "    .dataframe thead th {\n",
       "        text-align: right;\n",
       "    }\n",
       "</style>\n",
       "<table border=\"1\" class=\"dataframe\">\n",
       "  <thead>\n",
       "    <tr style=\"text-align: right;\">\n",
       "      <th></th>\n",
       "      <th>c</th>\n",
       "      <th>d</th>\n",
       "      <th>a</th>\n",
       "      <th>b</th>\n",
       "    </tr>\n",
       "  </thead>\n",
       "  <tbody>\n",
       "    <tr>\n",
       "      <th>0</th>\n",
       "      <td>one</td>\n",
       "      <td>0</td>\n",
       "      <td>0</td>\n",
       "      <td>7</td>\n",
       "    </tr>\n",
       "    <tr>\n",
       "      <th>1</th>\n",
       "      <td>one</td>\n",
       "      <td>1</td>\n",
       "      <td>1</td>\n",
       "      <td>6</td>\n",
       "    </tr>\n",
       "    <tr>\n",
       "      <th>2</th>\n",
       "      <td>one</td>\n",
       "      <td>2</td>\n",
       "      <td>2</td>\n",
       "      <td>5</td>\n",
       "    </tr>\n",
       "    <tr>\n",
       "      <th>3</th>\n",
       "      <td>two</td>\n",
       "      <td>0</td>\n",
       "      <td>3</td>\n",
       "      <td>4</td>\n",
       "    </tr>\n",
       "    <tr>\n",
       "      <th>4</th>\n",
       "      <td>two</td>\n",
       "      <td>1</td>\n",
       "      <td>4</td>\n",
       "      <td>3</td>\n",
       "    </tr>\n",
       "    <tr>\n",
       "      <th>5</th>\n",
       "      <td>two</td>\n",
       "      <td>2</td>\n",
       "      <td>5</td>\n",
       "      <td>2</td>\n",
       "    </tr>\n",
       "    <tr>\n",
       "      <th>6</th>\n",
       "      <td>two</td>\n",
       "      <td>3</td>\n",
       "      <td>6</td>\n",
       "      <td>1</td>\n",
       "    </tr>\n",
       "  </tbody>\n",
       "</table>\n",
       "</div>"
      ],
      "text/plain": [
       "     c  d  a  b\n",
       "0  one  0  0  7\n",
       "1  one  1  1  6\n",
       "2  one  2  2  5\n",
       "3  two  0  3  4\n",
       "4  two  1  4  3\n",
       "5  two  2  5  2\n",
       "6  two  3  6  1"
      ]
     },
     "execution_count": 23,
     "metadata": {},
     "output_type": "execute_result"
    }
   ],
   "source": [
    "frame = frame.reset_index()\n",
    "frame"
   ]
  },
  {
   "cell_type": "markdown",
   "id": "576ba49f-6f4d-4c3d-b253-7083ff03368f",
   "metadata": {
    "slideshow": {
     "slide_type": "slide"
    },
    "tags": []
   },
   "source": [
    "## Junção, Mescla e Concatenação 🥇"
   ]
  },
  {
   "cell_type": "markdown",
   "id": "eb6cde77-a502-4053-85e3-88bc22693453",
   "metadata": {
    "slideshow": {
     "slide_type": "-"
    }
   },
   "source": [
    "Os dados de objetos pandas podem ser combinados conforme as operações a seguir."
   ]
  },
  {
   "cell_type": "markdown",
   "id": "98e78ee7-4c0e-4d78-aa7d-dfb49f645953",
   "metadata": {
    "slideshow": {
     "slide_type": "-"
    }
   },
   "source": [
    "<table>\n",
    "    <tr><th>Opção</th><th>Descrição</th></tr>\n",
    "    <tr><td>pandas.merge</td><td>Conecta linhas em DataFrames com base em uma ou mais chaves. Essa operação será conhecida dos usuários de SQL ou de outros bancos de dados relacionais, pois ela implementa as operações de junção (join) dos bancos de dados</td></tr>\n",
    "    <tr><td>pandas.concat</td><td>Concatena ou \"empilha\" objetos ao longo de um eixo</td></tr>\n",
    "</table>"
   ]
  },
  {
   "cell_type": "markdown",
   "id": "aa43e99f-0524-4ffd-9c61-adad35b58977",
   "metadata": {
    "slideshow": {
     "slide_type": "subslide"
    },
    "tags": []
   },
   "source": [
    "### Junção"
   ]
  },
  {
   "cell_type": "code",
   "execution_count": 24,
   "id": "6a3e5c53-b0f5-4c3a-affc-3b1cc13c233f",
   "metadata": {
    "slideshow": {
     "slide_type": "-"
    }
   },
   "outputs": [],
   "source": [
    "infectados = pd.DataFrame([['ce', 'fortaleza', 10, 1], \\\n",
    "                           ['rj', 'rio de janeiro', 20, 2], \\\n",
    "                           ['df', 'brasília', 30, 3]], \\\n",
    "                          columns=['estado', 'municipio', \n",
    "                                   'casos', 'óbitos'])\n",
    "\n",
    "vacinados = pd.DataFrame([['ce', 'fortaleza', 100], \\\n",
    "                          ['rj', 'rio de janeiro', 200], \\\n",
    "                          ['rn', 'natal', 300]], \\\n",
    "                         columns=['estado', 'municipio', \n",
    "                                  'habitantes vacinados'])"
   ]
  },
  {
   "cell_type": "markdown",
   "id": "cedd15b3-bae3-40bc-a577-cf26adf820ce",
   "metadata": {
    "slideshow": {
     "slide_type": "subslide"
    }
   },
   "source": [
    "#### Inner Join"
   ]
  },
  {
   "cell_type": "markdown",
   "id": "4454ee61-2e39-4726-bc37-dc8b9fb51889",
   "metadata": {
    "slideshow": {
     "slide_type": "-"
    }
   },
   "source": [
    "<pre>Inner join utiliza somente as combinacões de chaves observadas nas duas tabelas sendo combinadas</pre>"
   ]
  },
  {
   "cell_type": "markdown",
   "id": "812d5e1e-a19a-45b7-8c66-56b94f118466",
   "metadata": {
    "slideshow": {
     "slide_type": "-"
    }
   },
   "source": [
    "<table>\n",
    "    <tr><th>Tabela à Esquerda</th><th>Tabela à Direita</th><th>Inner Join</th></tr>\n",
    "    <tr>\n",
    "        <td>\n",
    "            <table border=\"1\">\n",
    "              <thead>\n",
    "                <tr>\n",
    "                  <th></th>\n",
    "                  <th>estado</th>\n",
    "                  <th>municipio</th>\n",
    "                  <th>casos</th>\n",
    "                  <th>óbitos</th>\n",
    "                </tr>\n",
    "              </thead>\n",
    "              <tbody>\n",
    "                <tr>\n",
    "                  <th>0</th>\n",
    "                  <td bgcolor='green'>ce</td>\n",
    "                  <td bgcolor='green'>fortaleza</td>\n",
    "                  <td bgcolor='yellow'>10</td>\n",
    "                  <td bgcolor='yellow'>1</td>\n",
    "                </tr>\n",
    "                <tr>\n",
    "                  <th>1</th>\n",
    "                  <td bgcolor='green'>rj</td>\n",
    "                  <td bgcolor='green'>rio de janeiro</td>\n",
    "                  <td bgcolor='yellow'>20</td>\n",
    "                  <td bgcolor='yellow'>2</td>\n",
    "                </tr>\n",
    "                <tr>\n",
    "                  <th>2</th>\n",
    "                  <td bgcolor='gray'>df</td>\n",
    "                  <td bgcolor='gray'>brasília</td>\n",
    "                  <td bgcolor='gray'>30</td>\n",
    "                  <td bgcolor='gray'>3</td>\n",
    "                </tr>\n",
    "              </tbody>\n",
    "            </table>\n",
    "        </td>\n",
    "        <td>\n",
    "            <table border=\"1\">\n",
    "              <thead>\n",
    "                <tr>\n",
    "                  <th></th>\n",
    "                  <th>estado</th>\n",
    "                  <th>municipio</th>\n",
    "                  <th>habitantes vacinados</th>\n",
    "                </tr>\n",
    "              </thead>\n",
    "              <tbody>\n",
    "                <tr>\n",
    "                  <th>0</th>\n",
    "                  <td bgcolor='green'>ce</td>\n",
    "                  <td bgcolor='green'>fortaleza</td>\n",
    "                  <td bgcolor='orange'>100</td>\n",
    "                </tr>\n",
    "                <tr>\n",
    "                  <th>1</th>\n",
    "                  <td bgcolor='green'>rj</td>\n",
    "                  <td bgcolor='green'>rio de janeiro</td>\n",
    "                  <td bgcolor='orange'>200</td>\n",
    "                </tr>\n",
    "                <tr>\n",
    "                  <th>2</th>\n",
    "                  <td bgcolor='pink'>rn</td>\n",
    "                  <td bgcolor='pink'>natal</td>\n",
    "                  <td bgcolor='pink'>300</td>\n",
    "                </tr>\n",
    "              </tbody>\n",
    "            </table>\n",
    "        </td>\n",
    "        <td>\n",
    "            <table border=\"1\">\n",
    "              <thead>\n",
    "                <tr>\n",
    "                  <th></th>\n",
    "                  <th>estado</th>\n",
    "                  <th>municipio</th>\n",
    "                  <th>casos</th>\n",
    "                  <th>óbitos</th>\n",
    "                  <th>habitantes vacinados</th>\n",
    "                </tr>\n",
    "              </thead>\n",
    "              <tbody>\n",
    "                <tr>\n",
    "                  <th>0</th>\n",
    "                  <td bgcolor='green'>ce</td>\n",
    "                  <td bgcolor='green'>fortaleza</td>\n",
    "                  <td bgcolor='yellow'>10</td>\n",
    "                  <td bgcolor='yellow'>1</td>\n",
    "                  <td bgcolor='orange'>100.0</td>\n",
    "                </tr>\n",
    "                <tr>\n",
    "                  <th>1</th>\n",
    "                  <td bgcolor='green'>rj</td>\n",
    "                  <td bgcolor='green'>rio de janeiro</td>\n",
    "                  <td bgcolor='yellow'>20</td>\n",
    "                  <td bgcolor='yellow'>2</td>\n",
    "                  <td bgcolor='orange'>200.0</td>\n",
    "                </tr>\n",
    "              </tbody>\n",
    "            </table>\n",
    "        </td>\n",
    "    </tr>\n",
    "</table>"
   ]
  },
  {
   "cell_type": "code",
   "execution_count": 25,
   "id": "11e2fd6a-b5fc-457c-9e2d-5e3310ce7b52",
   "metadata": {
    "slideshow": {
     "slide_type": "-"
    }
   },
   "outputs": [
    {
     "data": {
      "text/html": [
       "<div>\n",
       "<style scoped>\n",
       "    .dataframe tbody tr th:only-of-type {\n",
       "        vertical-align: middle;\n",
       "    }\n",
       "\n",
       "    .dataframe tbody tr th {\n",
       "        vertical-align: top;\n",
       "    }\n",
       "\n",
       "    .dataframe thead th {\n",
       "        text-align: right;\n",
       "    }\n",
       "</style>\n",
       "<table border=\"1\" class=\"dataframe\">\n",
       "  <thead>\n",
       "    <tr style=\"text-align: right;\">\n",
       "      <th></th>\n",
       "      <th>estado</th>\n",
       "      <th>municipio</th>\n",
       "      <th>casos</th>\n",
       "      <th>óbitos</th>\n",
       "      <th>habitantes vacinados</th>\n",
       "    </tr>\n",
       "  </thead>\n",
       "  <tbody>\n",
       "    <tr>\n",
       "      <th>0</th>\n",
       "      <td>ce</td>\n",
       "      <td>fortaleza</td>\n",
       "      <td>10</td>\n",
       "      <td>1</td>\n",
       "      <td>100</td>\n",
       "    </tr>\n",
       "    <tr>\n",
       "      <th>1</th>\n",
       "      <td>rj</td>\n",
       "      <td>rio de janeiro</td>\n",
       "      <td>20</td>\n",
       "      <td>2</td>\n",
       "      <td>200</td>\n",
       "    </tr>\n",
       "  </tbody>\n",
       "</table>\n",
       "</div>"
      ],
      "text/plain": [
       "  estado       municipio  casos  óbitos  habitantes vacinados\n",
       "0     ce       fortaleza     10       1                   100\n",
       "1     rj  rio de janeiro     20       2                   200"
      ]
     },
     "execution_count": 25,
     "metadata": {},
     "output_type": "execute_result"
    }
   ],
   "source": [
    "pd.merge(infectados, vacinados, how='inner')"
   ]
  },
  {
   "cell_type": "markdown",
   "id": "da9047cd-24b2-4ef4-84e1-3abd97c53b48",
   "metadata": {
    "slideshow": {
     "slide_type": "subslide"
    }
   },
   "source": [
    "#### Left Outer Join"
   ]
  },
  {
   "cell_type": "markdown",
   "id": "b19ce776-d1cf-4c5d-87bf-cea856a0c08d",
   "metadata": {
    "slideshow": {
     "slide_type": "-"
    }
   },
   "source": [
    "<pre>Left Outer Join utiliza todas as combinacões de chaves encontradas na tabela à esquerda</pre>"
   ]
  },
  {
   "cell_type": "markdown",
   "id": "06039a42-4cf5-497c-bfde-8a26a111b04a",
   "metadata": {
    "slideshow": {
     "slide_type": "-"
    }
   },
   "source": [
    "<table>\n",
    "    <tr><th>Tabela à Esquerda</th><th>Tabela à Direita</th><th>Left Outer Join</th></tr>\n",
    "    <tr>\n",
    "        <td>\n",
    "            <table border=\"1\">\n",
    "              <thead>\n",
    "                <tr>\n",
    "                  <th></th>\n",
    "                  <th>estado</th>\n",
    "                  <th>municipio</th>\n",
    "                  <th>casos</th>\n",
    "                  <th>óbitos</th>\n",
    "                </tr>\n",
    "              </thead>\n",
    "              <tbody>\n",
    "                <tr>\n",
    "                  <th>0</th>\n",
    "                  <td bgcolor='green'>ce</td>\n",
    "                  <td bgcolor='green'>fortaleza</td>\n",
    "                  <td bgcolor='yellow'>10</td>\n",
    "                  <td bgcolor='yellow'>1</td>\n",
    "                </tr>\n",
    "                <tr>\n",
    "                  <th>1</th>\n",
    "                  <td bgcolor='green'>rj</td>\n",
    "                  <td bgcolor='green'>rio de janeiro</td>\n",
    "                  <td bgcolor='yellow'>20</td>\n",
    "                  <td bgcolor='yellow'>2</td>\n",
    "                </tr>\n",
    "                <tr>\n",
    "                  <th>2</th>\n",
    "                  <td bgcolor='gray'>df</td>\n",
    "                  <td bgcolor='gray'>brasília</td>\n",
    "                  <td bgcolor='gray'>30</td>\n",
    "                  <td bgcolor='gray'>3</td>\n",
    "                </tr>\n",
    "              </tbody>\n",
    "            </table>\n",
    "        </td>\n",
    "        <td>\n",
    "            <table border=\"1\">\n",
    "              <thead>\n",
    "                <tr>\n",
    "                  <th></th>\n",
    "                  <th>estado</th>\n",
    "                  <th>municipio</th>\n",
    "                  <th>habitantes vacinados</th>\n",
    "                </tr>\n",
    "              </thead>\n",
    "              <tbody>\n",
    "                <tr>\n",
    "                  <th>0</th>\n",
    "                  <td bgcolor='green'>ce</td>\n",
    "                  <td bgcolor='green'>fortaleza</td>\n",
    "                  <td bgcolor='orange'>100</td>\n",
    "                </tr>\n",
    "                <tr>\n",
    "                  <th>1</th>\n",
    "                  <td bgcolor='green'>rj</td>\n",
    "                  <td bgcolor='green'>rio de janeiro</td>\n",
    "                  <td bgcolor='orange'>200</td>\n",
    "                </tr>\n",
    "                <tr>\n",
    "                  <th>2</th>\n",
    "                  <td bgcolor='pink'>rn</td>\n",
    "                  <td bgcolor='pink'>natal</td>\n",
    "                  <td bgcolor='pink'>300</td>\n",
    "                </tr>\n",
    "              </tbody>\n",
    "            </table>\n",
    "        </td>\n",
    "        <td>\n",
    "            <table border=\"1\">\n",
    "              <thead>\n",
    "                <tr>\n",
    "                  <th></th>\n",
    "                  <th>estado</th>\n",
    "                  <th>municipio</th>\n",
    "                  <th>casos</th>\n",
    "                  <th>óbitos</th>\n",
    "                  <th>habitantes vacinados</th>\n",
    "                </tr>\n",
    "              </thead>\n",
    "              <tbody>\n",
    "                <tr>\n",
    "                  <th>0</th>\n",
    "                  <td bgcolor='green'>ce</td>\n",
    "                  <td bgcolor='green'>fortaleza</td>\n",
    "                  <td bgcolor='yellow'>10</td>\n",
    "                  <td bgcolor='yellow'>1</td>\n",
    "                  <td bgcolor='orange'>100.0</td>\n",
    "                </tr>\n",
    "                <tr>\n",
    "                  <th>1</th>\n",
    "                  <td bgcolor='green'>rj</td>\n",
    "                  <td bgcolor='green'>rio de janeiro</td>\n",
    "                  <td bgcolor='yellow'>20</td>\n",
    "                  <td bgcolor='yellow'>2</td>\n",
    "                  <td bgcolor='orange'>200.0</td>\n",
    "                </tr>\n",
    "                <tr>\n",
    "                  <th>2</th>\n",
    "                  <td bgcolor='gray'>df</td>\n",
    "                  <td bgcolor='gray'>brasília</td>\n",
    "                  <td bgcolor='gray'>30</td>\n",
    "                  <td bgcolor='gray'>3</td>\n",
    "                  <td bgcolor='gray'>NaN</td>\n",
    "                </tr>\n",
    "              </tbody>\n",
    "            </table>\n",
    "        </td>\n",
    "    </tr>\n",
    "</table>"
   ]
  },
  {
   "cell_type": "code",
   "execution_count": 26,
   "id": "ac6c7a2c-90f2-425f-aeeb-b551148ff084",
   "metadata": {
    "slideshow": {
     "slide_type": "-"
    }
   },
   "outputs": [
    {
     "data": {
      "text/html": [
       "<div>\n",
       "<style scoped>\n",
       "    .dataframe tbody tr th:only-of-type {\n",
       "        vertical-align: middle;\n",
       "    }\n",
       "\n",
       "    .dataframe tbody tr th {\n",
       "        vertical-align: top;\n",
       "    }\n",
       "\n",
       "    .dataframe thead th {\n",
       "        text-align: right;\n",
       "    }\n",
       "</style>\n",
       "<table border=\"1\" class=\"dataframe\">\n",
       "  <thead>\n",
       "    <tr style=\"text-align: right;\">\n",
       "      <th></th>\n",
       "      <th>estado</th>\n",
       "      <th>municipio</th>\n",
       "      <th>casos</th>\n",
       "      <th>óbitos</th>\n",
       "      <th>habitantes vacinados</th>\n",
       "    </tr>\n",
       "  </thead>\n",
       "  <tbody>\n",
       "    <tr>\n",
       "      <th>0</th>\n",
       "      <td>ce</td>\n",
       "      <td>fortaleza</td>\n",
       "      <td>10</td>\n",
       "      <td>1</td>\n",
       "      <td>100.0</td>\n",
       "    </tr>\n",
       "    <tr>\n",
       "      <th>1</th>\n",
       "      <td>rj</td>\n",
       "      <td>rio de janeiro</td>\n",
       "      <td>20</td>\n",
       "      <td>2</td>\n",
       "      <td>200.0</td>\n",
       "    </tr>\n",
       "    <tr>\n",
       "      <th>2</th>\n",
       "      <td>df</td>\n",
       "      <td>brasília</td>\n",
       "      <td>30</td>\n",
       "      <td>3</td>\n",
       "      <td>NaN</td>\n",
       "    </tr>\n",
       "  </tbody>\n",
       "</table>\n",
       "</div>"
      ],
      "text/plain": [
       "  estado       municipio  casos  óbitos  habitantes vacinados\n",
       "0     ce       fortaleza     10       1                 100.0\n",
       "1     rj  rio de janeiro     20       2                 200.0\n",
       "2     df        brasília     30       3                   NaN"
      ]
     },
     "execution_count": 26,
     "metadata": {},
     "output_type": "execute_result"
    }
   ],
   "source": [
    "pd.merge(infectados, vacinados, how='left')"
   ]
  },
  {
   "cell_type": "markdown",
   "id": "896ea4d6-3cd9-442b-ab65-d5059fd7be25",
   "metadata": {
    "slideshow": {
     "slide_type": "subslide"
    }
   },
   "source": [
    "#### Right Outer Join"
   ]
  },
  {
   "cell_type": "markdown",
   "id": "e571490c-1dfb-48c1-8c4c-ccdbfc188b6c",
   "metadata": {
    "slideshow": {
     "slide_type": "-"
    }
   },
   "source": [
    "<pre>Right Outer Join utiliza todas as combinacões de chaves encontradas na tabela à direita</pre>"
   ]
  },
  {
   "cell_type": "markdown",
   "id": "1ed91b96-0b42-4ec8-b6f2-a372a9f75760",
   "metadata": {
    "slideshow": {
     "slide_type": "-"
    }
   },
   "source": [
    "<table>\n",
    "    <tr><th>Tabela à Esquerda</th><th>Tabela à Direita</th><th>Left Outer Join</th></tr>\n",
    "    <tr>\n",
    "        <td>\n",
    "            <table border=\"1\">\n",
    "              <thead>\n",
    "                <tr>\n",
    "                  <th></th>\n",
    "                  <th>estado</th>\n",
    "                  <th>municipio</th>\n",
    "                  <th>casos</th>\n",
    "                  <th>óbitos</th>\n",
    "                </tr>\n",
    "              </thead>\n",
    "              <tbody>\n",
    "                <tr>\n",
    "                  <th>0</th>\n",
    "                  <td bgcolor='green'>ce</td>\n",
    "                  <td bgcolor='green'>fortaleza</td>\n",
    "                  <td bgcolor='yellow'>10</td>\n",
    "                  <td bgcolor='yellow'>1</td>\n",
    "                </tr>\n",
    "                <tr>\n",
    "                  <th>1</th>\n",
    "                  <td bgcolor='green'>rj</td>\n",
    "                  <td bgcolor='green'>rio de janeiro</td>\n",
    "                  <td bgcolor='yellow'>20</td>\n",
    "                  <td bgcolor='yellow'>2</td>\n",
    "                </tr>\n",
    "                <tr>\n",
    "                  <th>2</th>\n",
    "                  <td bgcolor='gray'>df</td>\n",
    "                  <td bgcolor='gray'>brasília</td>\n",
    "                  <td bgcolor='gray'>30</td>\n",
    "                  <td bgcolor='gray'>3</td>\n",
    "                </tr>\n",
    "              </tbody>\n",
    "            </table>\n",
    "        </td>\n",
    "        <td>\n",
    "            <table border=\"1\">\n",
    "              <thead>\n",
    "                <tr>\n",
    "                  <th></th>\n",
    "                  <th>estado</th>\n",
    "                  <th>municipio</th>\n",
    "                  <th>habitantes vacinados</th>\n",
    "                </tr>\n",
    "              </thead>\n",
    "              <tbody>\n",
    "                <tr>\n",
    "                  <th>0</th>\n",
    "                  <td bgcolor='green'>ce</td>\n",
    "                  <td bgcolor='green'>fortaleza</td>\n",
    "                  <td bgcolor='orange'>100</td>\n",
    "                </tr>\n",
    "                <tr>\n",
    "                  <th>1</th>\n",
    "                  <td bgcolor='green'>rj</td>\n",
    "                  <td bgcolor='green'>rio de janeiro</td>\n",
    "                  <td bgcolor='orange'>200</td>\n",
    "                </tr>\n",
    "                <tr>\n",
    "                  <th>2</th>\n",
    "                  <td bgcolor='pink'>rn</td>\n",
    "                  <td bgcolor='pink'>natal</td>\n",
    "                  <td bgcolor='pink'>300</td>\n",
    "                </tr>\n",
    "              </tbody>\n",
    "            </table>\n",
    "        </td>\n",
    "        <td>\n",
    "            <table border=\"1\">\n",
    "              <thead>\n",
    "                <tr>\n",
    "                  <th></th>\n",
    "                  <th>estado</th>\n",
    "                  <th>municipio</th>\n",
    "                  <th>casos</th>\n",
    "                  <th>óbitos</th>\n",
    "                  <th>habitantes vacinados</th>\n",
    "                </tr>\n",
    "              </thead>\n",
    "              <tbody>\n",
    "                <tr>\n",
    "                  <th>0</th>\n",
    "                  <td bgcolor='green'>ce</td>\n",
    "                  <td bgcolor='green'>fortaleza</td>\n",
    "                  <td bgcolor='yellow'>10.0</td>\n",
    "                  <td bgcolor='yellow'>1.0</td>\n",
    "                  <td bgcolor='orange'>100</td>\n",
    "                </tr>\n",
    "                <tr>\n",
    "                  <th>1</th>\n",
    "                  <td bgcolor='green'>rj</td>\n",
    "                  <td bgcolor='green'>rio de janeiro</td>\n",
    "                  <td bgcolor='yellow'>20.0</td>\n",
    "                  <td bgcolor='yellow'>2.0</td>\n",
    "                  <td bgcolor='orange'>200</td>\n",
    "                </tr>\n",
    "                <tr>\n",
    "                  <th>2</th>\n",
    "                  <td bgcolor='pink'>rn</td>\n",
    "                  <td bgcolor='pink'>natal</td>\n",
    "                  <td bgcolor='pink'>NaN</td>\n",
    "                  <td bgcolor='pink'>NaN</td>\n",
    "                  <td bgcolor='pink'>300</td>\n",
    "                </tr>\n",
    "              </tbody>\n",
    "            </table>\n",
    "        </td>\n",
    "    </tr>\n",
    "</table>"
   ]
  },
  {
   "cell_type": "code",
   "execution_count": 27,
   "id": "c732aac5-970e-4ac5-aba8-f8b5ddc54cb7",
   "metadata": {
    "slideshow": {
     "slide_type": "-"
    }
   },
   "outputs": [
    {
     "data": {
      "text/html": [
       "<div>\n",
       "<style scoped>\n",
       "    .dataframe tbody tr th:only-of-type {\n",
       "        vertical-align: middle;\n",
       "    }\n",
       "\n",
       "    .dataframe tbody tr th {\n",
       "        vertical-align: top;\n",
       "    }\n",
       "\n",
       "    .dataframe thead th {\n",
       "        text-align: right;\n",
       "    }\n",
       "</style>\n",
       "<table border=\"1\" class=\"dataframe\">\n",
       "  <thead>\n",
       "    <tr style=\"text-align: right;\">\n",
       "      <th></th>\n",
       "      <th>estado</th>\n",
       "      <th>municipio</th>\n",
       "      <th>casos</th>\n",
       "      <th>óbitos</th>\n",
       "      <th>habitantes vacinados</th>\n",
       "    </tr>\n",
       "  </thead>\n",
       "  <tbody>\n",
       "    <tr>\n",
       "      <th>0</th>\n",
       "      <td>ce</td>\n",
       "      <td>fortaleza</td>\n",
       "      <td>10.0</td>\n",
       "      <td>1.0</td>\n",
       "      <td>100</td>\n",
       "    </tr>\n",
       "    <tr>\n",
       "      <th>1</th>\n",
       "      <td>rj</td>\n",
       "      <td>rio de janeiro</td>\n",
       "      <td>20.0</td>\n",
       "      <td>2.0</td>\n",
       "      <td>200</td>\n",
       "    </tr>\n",
       "    <tr>\n",
       "      <th>2</th>\n",
       "      <td>rn</td>\n",
       "      <td>natal</td>\n",
       "      <td>NaN</td>\n",
       "      <td>NaN</td>\n",
       "      <td>300</td>\n",
       "    </tr>\n",
       "  </tbody>\n",
       "</table>\n",
       "</div>"
      ],
      "text/plain": [
       "  estado       municipio  casos  óbitos  habitantes vacinados\n",
       "0     ce       fortaleza   10.0     1.0                   100\n",
       "1     rj  rio de janeiro   20.0     2.0                   200\n",
       "2     rn           natal    NaN     NaN                   300"
      ]
     },
     "execution_count": 27,
     "metadata": {},
     "output_type": "execute_result"
    }
   ],
   "source": [
    "pd.merge(infectados, vacinados, how='right')"
   ]
  },
  {
   "cell_type": "markdown",
   "id": "9c9a9110-9f56-4739-a901-640778fd1099",
   "metadata": {
    "slideshow": {
     "slide_type": "subslide"
    }
   },
   "source": [
    "#### Outer Join"
   ]
  },
  {
   "cell_type": "markdown",
   "id": "40bea195-0bb1-43f9-b882-8d428ea779fe",
   "metadata": {
    "slideshow": {
     "slide_type": "-"
    }
   },
   "source": [
    "<pre>Outer Join utiliza todas as combinacões de chaves observadas nas duas tabelas em conjunto</pre>"
   ]
  },
  {
   "cell_type": "markdown",
   "id": "4f03bf77-a828-4f12-9a11-37a27eb2048b",
   "metadata": {
    "slideshow": {
     "slide_type": "-"
    }
   },
   "source": [
    "<table>\n",
    "    <tr><th>Tabela à Esquerda</th><th>Tabela à Direita</th><th>Outer Join</th></tr>\n",
    "    <tr>\n",
    "        <td>\n",
    "            <table border=\"1\">\n",
    "              <thead>\n",
    "                <tr>\n",
    "                  <th></th>\n",
    "                  <th>estado</th>\n",
    "                  <th>municipio</th>\n",
    "                  <th>casos</th>\n",
    "                  <th>óbitos</th>\n",
    "                </tr>\n",
    "              </thead>\n",
    "              <tbody>\n",
    "                <tr>\n",
    "                  <th>0</th>\n",
    "                  <td bgcolor='green'>ce</td>\n",
    "                  <td bgcolor='green'>fortaleza</td>\n",
    "                  <td bgcolor='yellow'>10</td>\n",
    "                  <td bgcolor='yellow'>1</td>\n",
    "                </tr>\n",
    "                <tr>\n",
    "                  <th>1</th>\n",
    "                  <td bgcolor='green'>rj</td>\n",
    "                  <td bgcolor='green'>rio de janeiro</td>\n",
    "                  <td bgcolor='yellow'>20</td>\n",
    "                  <td bgcolor='yellow'>2</td>\n",
    "                </tr>\n",
    "                <tr>\n",
    "                  <th>2</th>\n",
    "                  <td bgcolor='gray'>df</td>\n",
    "                  <td bgcolor='gray'>brasília</td>\n",
    "                  <td bgcolor='gray'>30</td>\n",
    "                  <td bgcolor='gray'>3</td>\n",
    "                </tr>\n",
    "              </tbody>\n",
    "            </table>\n",
    "        </td>\n",
    "        <td>\n",
    "            <table border=\"1\">\n",
    "              <thead>\n",
    "                <tr>\n",
    "                  <th></th>\n",
    "                  <th>estado</th>\n",
    "                  <th>municipio</th>\n",
    "                  <th>habitantes vacinados</th>\n",
    "                </tr>\n",
    "              </thead>\n",
    "              <tbody>\n",
    "                <tr>\n",
    "                  <th>0</th>\n",
    "                  <td bgcolor='green'>ce</td>\n",
    "                  <td bgcolor='green'>fortaleza</td>\n",
    "                  <td bgcolor='orange'>100</td>\n",
    "                </tr>\n",
    "                <tr>\n",
    "                  <th>1</th>\n",
    "                  <td bgcolor='green'>rj</td>\n",
    "                  <td bgcolor='green'>rio de janeiro</td>\n",
    "                  <td bgcolor='orange'>200</td>\n",
    "                </tr>\n",
    "                <tr>\n",
    "                  <th>2</th>\n",
    "                  <td bgcolor='pink'>rn</td>\n",
    "                  <td bgcolor='pink'>natal</td>\n",
    "                  <td bgcolor='pink'>300</td>\n",
    "                </tr>\n",
    "              </tbody>\n",
    "            </table>\n",
    "        </td>\n",
    "        <td>\n",
    "            <table border=\"1\">\n",
    "              <thead>\n",
    "                <tr>\n",
    "                  <th></th>\n",
    "                  <th>estado</th>\n",
    "                  <th>municipio</th>\n",
    "                  <th>casos</th>\n",
    "                  <th>óbitos</th>\n",
    "                  <th>habitantes vacinados</th>\n",
    "                </tr>\n",
    "              </thead>\n",
    "              <tbody>\n",
    "                <tr>\n",
    "                  <th>0</th>\n",
    "                  <td bgcolor='green'>ce</td>\n",
    "                  <td bgcolor='green'>fortaleza</td>\n",
    "                  <td bgcolor='yellow'>10</td>\n",
    "                  <td bgcolor='yellow'>1</td>\n",
    "                  <td bgcolor='orange'>100</td>\n",
    "                </tr>\n",
    "                <tr>\n",
    "                  <th>1</th>\n",
    "                  <td bgcolor='green'>rj</td>\n",
    "                  <td bgcolor='green'>rio de janeiro</td>\n",
    "                  <td bgcolor='yellow'>20.0</td>\n",
    "                  <td bgcolor='yellow'>2.0</td>\n",
    "                  <td bgcolor='orange'>200.0</td>\n",
    "                </tr>\n",
    "                <tr>\n",
    "                  <th>2</th>\n",
    "                  <td bgcolor='gray'>df</td>\n",
    "                  <td bgcolor='gray'>brasilia</td>\n",
    "                  <td bgcolor='gray'>30.0</td>\n",
    "                  <td bgcolor='gray'>3.0</td>\n",
    "                  <td bgcolor='gray'>NaN</td>\n",
    "                </tr>\n",
    "                <tr>\n",
    "                  <th>3</th>\n",
    "                  <td bgcolor='pink'>rn</td>\n",
    "                  <td bgcolor='pink'>natal</td>\n",
    "                  <td bgcolor='pink'>NaN</td>\n",
    "                  <td bgcolor='pink'>NaN</td>\n",
    "                  <td bgcolor='pink'>300.0</td>\n",
    "                </tr>\n",
    "              </tbody>\n",
    "            </table>\n",
    "        </td>\n",
    "    </tr>\n",
    "</table>"
   ]
  },
  {
   "cell_type": "code",
   "execution_count": 28,
   "id": "e36161a2-dbc3-4771-b572-fcf3fbe48ce4",
   "metadata": {
    "slideshow": {
     "slide_type": "-"
    }
   },
   "outputs": [
    {
     "data": {
      "text/html": [
       "<div>\n",
       "<style scoped>\n",
       "    .dataframe tbody tr th:only-of-type {\n",
       "        vertical-align: middle;\n",
       "    }\n",
       "\n",
       "    .dataframe tbody tr th {\n",
       "        vertical-align: top;\n",
       "    }\n",
       "\n",
       "    .dataframe thead th {\n",
       "        text-align: right;\n",
       "    }\n",
       "</style>\n",
       "<table border=\"1\" class=\"dataframe\">\n",
       "  <thead>\n",
       "    <tr style=\"text-align: right;\">\n",
       "      <th></th>\n",
       "      <th>estado</th>\n",
       "      <th>municipio</th>\n",
       "      <th>casos</th>\n",
       "      <th>óbitos</th>\n",
       "      <th>habitantes vacinados</th>\n",
       "    </tr>\n",
       "  </thead>\n",
       "  <tbody>\n",
       "    <tr>\n",
       "      <th>0</th>\n",
       "      <td>ce</td>\n",
       "      <td>fortaleza</td>\n",
       "      <td>10.0</td>\n",
       "      <td>1.0</td>\n",
       "      <td>100.0</td>\n",
       "    </tr>\n",
       "    <tr>\n",
       "      <th>1</th>\n",
       "      <td>rj</td>\n",
       "      <td>rio de janeiro</td>\n",
       "      <td>20.0</td>\n",
       "      <td>2.0</td>\n",
       "      <td>200.0</td>\n",
       "    </tr>\n",
       "    <tr>\n",
       "      <th>2</th>\n",
       "      <td>df</td>\n",
       "      <td>brasília</td>\n",
       "      <td>30.0</td>\n",
       "      <td>3.0</td>\n",
       "      <td>NaN</td>\n",
       "    </tr>\n",
       "    <tr>\n",
       "      <th>3</th>\n",
       "      <td>rn</td>\n",
       "      <td>natal</td>\n",
       "      <td>NaN</td>\n",
       "      <td>NaN</td>\n",
       "      <td>300.0</td>\n",
       "    </tr>\n",
       "  </tbody>\n",
       "</table>\n",
       "</div>"
      ],
      "text/plain": [
       "  estado       municipio  casos  óbitos  habitantes vacinados\n",
       "0     ce       fortaleza   10.0     1.0                 100.0\n",
       "1     rj  rio de janeiro   20.0     2.0                 200.0\n",
       "2     df        brasília   30.0     3.0                   NaN\n",
       "3     rn           natal    NaN     NaN                 300.0"
      ]
     },
     "execution_count": 28,
     "metadata": {},
     "output_type": "execute_result"
    }
   ],
   "source": [
    "pd.merge(infectados, vacinados, how='outer')"
   ]
  },
  {
   "cell_type": "markdown",
   "id": "2caaf6ef-e863-4e09-8d6d-73df903a4dc4",
   "metadata": {
    "slideshow": {
     "slide_type": "subslide"
    },
    "tags": []
   },
   "source": [
    "#### Quadro-resumo das opções de junção"
   ]
  },
  {
   "cell_type": "markdown",
   "id": "73c98136-9985-4e5d-a0df-39ecb31edb68",
   "metadata": {
    "slideshow": {
     "slide_type": "-"
    }
   },
   "source": [
    "<table>\n",
    "    <tr><th>Opção</th><th>Comportamento</th></tr>\n",
    "    <tr><td>how='inner'</td><td>Utiliza somente as combinacões de chaves observadas nas duas tabelas sendo combinadas</td></tr>\n",
    "    <tr><td>how='left'</td><td>Utiliza todas as combinacões de chaves encontradas na tabela à esquerda</td></tr>\n",
    "    <tr><td>how='right'</td><td>Utiliza todas as combinacões de chaves encontradas na tabela à direita</td></tr>\n",
    "    <tr><td>how='outer'</td><td>Utiliza todas as combinacões de chaves observadas nas duas tabelas em conjunto</td></tr>\n",
    "</table>"
   ]
  },
  {
   "cell_type": "markdown",
   "id": "25b29d73-f7c0-4903-8da1-855e59856438",
   "metadata": {
    "slideshow": {
     "slide_type": "subslide"
    }
   },
   "source": [
    "<img src='https://i.stack.imgur.com/VUkfU.gif' width='600px' style='margin-left: auto; margin-right: auto;'>"
   ]
  },
  {
   "cell_type": "markdown",
   "id": "66eeb9bb-286b-47e8-9d37-23860b68b421",
   "metadata": {
    "slideshow": {
     "slide_type": "-"
    }
   },
   "source": [
    "👉 dica: a(s) chave(s) pode(m) ser inferida(s) a partir do contexto da interseção entre as tabelas, mas também pode(m) ser especificada(s) com o parâmetro <i>on</i>"
   ]
  },
  {
   "cell_type": "markdown",
   "id": "351c5890-781c-40b9-a763-2e35be517bf7",
   "metadata": {
    "slideshow": {
     "slide_type": "subslide"
    },
    "tags": []
   },
   "source": [
    "### Mescla"
   ]
  },
  {
   "cell_type": "code",
   "execution_count": 29,
   "id": "ba5c5fc7-1020-44a6-9cdb-8b1fe6c3769c",
   "metadata": {
    "slideshow": {
     "slide_type": "-"
    },
    "tags": []
   },
   "outputs": [
    {
     "data": {
      "text/html": [
       "<div>\n",
       "<style scoped>\n",
       "    .dataframe tbody tr th:only-of-type {\n",
       "        vertical-align: middle;\n",
       "    }\n",
       "\n",
       "    .dataframe tbody tr th {\n",
       "        vertical-align: top;\n",
       "    }\n",
       "\n",
       "    .dataframe thead th {\n",
       "        text-align: right;\n",
       "    }\n",
       "</style>\n",
       "<table border=\"1\" class=\"dataframe\">\n",
       "  <thead>\n",
       "    <tr style=\"text-align: right;\">\n",
       "      <th></th>\n",
       "      <th>estado</th>\n",
       "      <th>municipio</th>\n",
       "      <th>casos</th>\n",
       "      <th>óbitos</th>\n",
       "      <th>habitantes vacinados</th>\n",
       "    </tr>\n",
       "  </thead>\n",
       "  <tbody>\n",
       "    <tr>\n",
       "      <th>0</th>\n",
       "      <td>ce</td>\n",
       "      <td>fortaleza</td>\n",
       "      <td>10</td>\n",
       "      <td>1</td>\n",
       "      <td>100</td>\n",
       "    </tr>\n",
       "    <tr>\n",
       "      <th>1</th>\n",
       "      <td>rj</td>\n",
       "      <td>rio de janeiro</td>\n",
       "      <td>20</td>\n",
       "      <td>2</td>\n",
       "      <td>200</td>\n",
       "    </tr>\n",
       "  </tbody>\n",
       "</table>\n",
       "</div>"
      ],
      "text/plain": [
       "  estado       municipio  casos  óbitos  habitantes vacinados\n",
       "0     ce       fortaleza     10       1                   100\n",
       "1     rj  rio de janeiro     20       2                   200"
      ]
     },
     "execution_count": 29,
     "metadata": {},
     "output_type": "execute_result"
    }
   ],
   "source": [
    "pd.merge(infectados, vacinados, \n",
    "         on=['estado', 'municipio'], how='inner')"
   ]
  },
  {
   "cell_type": "markdown",
   "id": "0a0cadf5-5a75-4371-93b2-27873e0544b5",
   "metadata": {
    "slideshow": {
     "slide_type": "-"
    }
   },
   "source": [
    "👉 mais dica: caso a(s) chave(s) não possa(m) ser inferida(s), com nomes diferentes de coluna, deve-se especificá-la(s) com os parâmetros <i>left_on</i> e <i>right_on</i>"
   ]
  },
  {
   "cell_type": "code",
   "execution_count": 30,
   "id": "bd061f31-118f-498b-8bb4-d956d0955607",
   "metadata": {
    "slideshow": {
     "slide_type": "-"
    }
   },
   "outputs": [
    {
     "data": {
      "text/html": [
       "<div>\n",
       "<style scoped>\n",
       "    .dataframe tbody tr th:only-of-type {\n",
       "        vertical-align: middle;\n",
       "    }\n",
       "\n",
       "    .dataframe tbody tr th {\n",
       "        vertical-align: top;\n",
       "    }\n",
       "\n",
       "    .dataframe thead th {\n",
       "        text-align: right;\n",
       "    }\n",
       "</style>\n",
       "<table border=\"1\" class=\"dataframe\">\n",
       "  <thead>\n",
       "    <tr style=\"text-align: right;\">\n",
       "      <th></th>\n",
       "      <th>estado</th>\n",
       "      <th>municipio</th>\n",
       "      <th>casos</th>\n",
       "      <th>óbitos</th>\n",
       "      <th>habitantes vacinados</th>\n",
       "    </tr>\n",
       "  </thead>\n",
       "  <tbody>\n",
       "    <tr>\n",
       "      <th>0</th>\n",
       "      <td>ce</td>\n",
       "      <td>fortaleza</td>\n",
       "      <td>10</td>\n",
       "      <td>1</td>\n",
       "      <td>100</td>\n",
       "    </tr>\n",
       "    <tr>\n",
       "      <th>1</th>\n",
       "      <td>rj</td>\n",
       "      <td>rio de janeiro</td>\n",
       "      <td>20</td>\n",
       "      <td>2</td>\n",
       "      <td>200</td>\n",
       "    </tr>\n",
       "  </tbody>\n",
       "</table>\n",
       "</div>"
      ],
      "text/plain": [
       "  estado       municipio  casos  óbitos  habitantes vacinados\n",
       "0     ce       fortaleza     10       1                   100\n",
       "1     rj  rio de janeiro     20       2                   200"
      ]
     },
     "execution_count": 30,
     "metadata": {},
     "output_type": "execute_result"
    }
   ],
   "source": [
    "pd.merge(infectados, vacinados, left_on=['estado', 'municipio'], \n",
    "         right_on=['estado', 'municipio'],  how='inner')"
   ]
  },
  {
   "cell_type": "markdown",
   "id": "0b08bb82-e910-4171-ba1e-ecd80103c8c9",
   "metadata": {
    "slideshow": {
     "slide_type": "subslide"
    }
   },
   "source": [
    "<pre>🍒 🎂 Você pode também combinar duas tabelas com a operação de junção na presença de índice hierárquico (<i>join</i>)</pre>"
   ]
  },
  {
   "cell_type": "code",
   "execution_count": 31,
   "id": "ca58432b-34cb-4df4-97d0-ac58b40282db",
   "metadata": {
    "slideshow": {
     "slide_type": "-"
    }
   },
   "outputs": [
    {
     "data": {
      "text/html": [
       "<div>\n",
       "<style scoped>\n",
       "    .dataframe tbody tr th:only-of-type {\n",
       "        vertical-align: middle;\n",
       "    }\n",
       "\n",
       "    .dataframe tbody tr th {\n",
       "        vertical-align: top;\n",
       "    }\n",
       "\n",
       "    .dataframe thead th {\n",
       "        text-align: right;\n",
       "    }\n",
       "</style>\n",
       "<table border=\"1\" class=\"dataframe\">\n",
       "  <thead>\n",
       "    <tr style=\"text-align: right;\">\n",
       "      <th></th>\n",
       "      <th></th>\n",
       "      <th>casos</th>\n",
       "      <th>óbitos</th>\n",
       "    </tr>\n",
       "    <tr>\n",
       "      <th>estado</th>\n",
       "      <th>municipio</th>\n",
       "      <th></th>\n",
       "      <th></th>\n",
       "    </tr>\n",
       "  </thead>\n",
       "  <tbody>\n",
       "    <tr>\n",
       "      <th>ce</th>\n",
       "      <th>fortaleza</th>\n",
       "      <td>10</td>\n",
       "      <td>1</td>\n",
       "    </tr>\n",
       "    <tr>\n",
       "      <th>rj</th>\n",
       "      <th>rio de janeiro</th>\n",
       "      <td>20</td>\n",
       "      <td>2</td>\n",
       "    </tr>\n",
       "    <tr>\n",
       "      <th>df</th>\n",
       "      <th>brasília</th>\n",
       "      <td>30</td>\n",
       "      <td>3</td>\n",
       "    </tr>\n",
       "  </tbody>\n",
       "</table>\n",
       "</div>"
      ],
      "text/plain": [
       "                       casos  óbitos\n",
       "estado municipio                    \n",
       "ce     fortaleza          10       1\n",
       "rj     rio de janeiro     20       2\n",
       "df     brasília           30       3"
      ]
     },
     "execution_count": 31,
     "metadata": {},
     "output_type": "execute_result"
    }
   ],
   "source": [
    "infectados = infectados.set_index(['estado', 'municipio'])\n",
    "infectados"
   ]
  },
  {
   "cell_type": "code",
   "execution_count": 32,
   "id": "e88fb31c-a529-457f-b22f-3e63f495853d",
   "metadata": {
    "slideshow": {
     "slide_type": "-"
    }
   },
   "outputs": [
    {
     "data": {
      "text/html": [
       "<div>\n",
       "<style scoped>\n",
       "    .dataframe tbody tr th:only-of-type {\n",
       "        vertical-align: middle;\n",
       "    }\n",
       "\n",
       "    .dataframe tbody tr th {\n",
       "        vertical-align: top;\n",
       "    }\n",
       "\n",
       "    .dataframe thead th {\n",
       "        text-align: right;\n",
       "    }\n",
       "</style>\n",
       "<table border=\"1\" class=\"dataframe\">\n",
       "  <thead>\n",
       "    <tr style=\"text-align: right;\">\n",
       "      <th></th>\n",
       "      <th></th>\n",
       "      <th>habitantes vacinados</th>\n",
       "    </tr>\n",
       "    <tr>\n",
       "      <th>estado</th>\n",
       "      <th>municipio</th>\n",
       "      <th></th>\n",
       "    </tr>\n",
       "  </thead>\n",
       "  <tbody>\n",
       "    <tr>\n",
       "      <th>ce</th>\n",
       "      <th>fortaleza</th>\n",
       "      <td>100</td>\n",
       "    </tr>\n",
       "    <tr>\n",
       "      <th>rj</th>\n",
       "      <th>rio de janeiro</th>\n",
       "      <td>200</td>\n",
       "    </tr>\n",
       "    <tr>\n",
       "      <th>rn</th>\n",
       "      <th>natal</th>\n",
       "      <td>300</td>\n",
       "    </tr>\n",
       "  </tbody>\n",
       "</table>\n",
       "</div>"
      ],
      "text/plain": [
       "                       habitantes vacinados\n",
       "estado municipio                           \n",
       "ce     fortaleza                        100\n",
       "rj     rio de janeiro                   200\n",
       "rn     natal                            300"
      ]
     },
     "execution_count": 32,
     "metadata": {},
     "output_type": "execute_result"
    }
   ],
   "source": [
    "vacinados = vacinados.set_index(['estado', 'municipio'])\n",
    "vacinados"
   ]
  },
  {
   "cell_type": "code",
   "execution_count": 33,
   "id": "6321ce85-9a78-417f-8f3f-616c9f62114b",
   "metadata": {
    "slideshow": {
     "slide_type": "subslide"
    }
   },
   "outputs": [
    {
     "data": {
      "text/html": [
       "<div>\n",
       "<style scoped>\n",
       "    .dataframe tbody tr th:only-of-type {\n",
       "        vertical-align: middle;\n",
       "    }\n",
       "\n",
       "    .dataframe tbody tr th {\n",
       "        vertical-align: top;\n",
       "    }\n",
       "\n",
       "    .dataframe thead th {\n",
       "        text-align: right;\n",
       "    }\n",
       "</style>\n",
       "<table border=\"1\" class=\"dataframe\">\n",
       "  <thead>\n",
       "    <tr style=\"text-align: right;\">\n",
       "      <th></th>\n",
       "      <th></th>\n",
       "      <th>casos</th>\n",
       "      <th>óbitos</th>\n",
       "      <th>habitantes vacinados</th>\n",
       "    </tr>\n",
       "    <tr>\n",
       "      <th>estado</th>\n",
       "      <th>municipio</th>\n",
       "      <th></th>\n",
       "      <th></th>\n",
       "      <th></th>\n",
       "    </tr>\n",
       "  </thead>\n",
       "  <tbody>\n",
       "    <tr>\n",
       "      <th>ce</th>\n",
       "      <th>fortaleza</th>\n",
       "      <td>10</td>\n",
       "      <td>1</td>\n",
       "      <td>100</td>\n",
       "    </tr>\n",
       "    <tr>\n",
       "      <th>rj</th>\n",
       "      <th>rio de janeiro</th>\n",
       "      <td>20</td>\n",
       "      <td>2</td>\n",
       "      <td>200</td>\n",
       "    </tr>\n",
       "  </tbody>\n",
       "</table>\n",
       "</div>"
      ],
      "text/plain": [
       "                       casos  óbitos  habitantes vacinados\n",
       "estado municipio                                          \n",
       "ce     fortaleza          10       1                   100\n",
       "rj     rio de janeiro     20       2                   200"
      ]
     },
     "execution_count": 33,
     "metadata": {},
     "output_type": "execute_result"
    }
   ],
   "source": [
    "infectados.join(vacinados, how='inner')"
   ]
  },
  {
   "cell_type": "code",
   "execution_count": 34,
   "id": "7f1fa746-f255-41f5-b63e-3728b7a35323",
   "metadata": {
    "slideshow": {
     "slide_type": "-"
    }
   },
   "outputs": [
    {
     "data": {
      "text/html": [
       "<div>\n",
       "<style scoped>\n",
       "    .dataframe tbody tr th:only-of-type {\n",
       "        vertical-align: middle;\n",
       "    }\n",
       "\n",
       "    .dataframe tbody tr th {\n",
       "        vertical-align: top;\n",
       "    }\n",
       "\n",
       "    .dataframe thead th {\n",
       "        text-align: right;\n",
       "    }\n",
       "</style>\n",
       "<table border=\"1\" class=\"dataframe\">\n",
       "  <thead>\n",
       "    <tr style=\"text-align: right;\">\n",
       "      <th></th>\n",
       "      <th></th>\n",
       "      <th>casos</th>\n",
       "      <th>óbitos</th>\n",
       "      <th>habitantes vacinados</th>\n",
       "    </tr>\n",
       "    <tr>\n",
       "      <th>estado</th>\n",
       "      <th>municipio</th>\n",
       "      <th></th>\n",
       "      <th></th>\n",
       "      <th></th>\n",
       "    </tr>\n",
       "  </thead>\n",
       "  <tbody>\n",
       "    <tr>\n",
       "      <th>ce</th>\n",
       "      <th>fortaleza</th>\n",
       "      <td>10</td>\n",
       "      <td>1</td>\n",
       "      <td>100.0</td>\n",
       "    </tr>\n",
       "    <tr>\n",
       "      <th>rj</th>\n",
       "      <th>rio de janeiro</th>\n",
       "      <td>20</td>\n",
       "      <td>2</td>\n",
       "      <td>200.0</td>\n",
       "    </tr>\n",
       "    <tr>\n",
       "      <th>df</th>\n",
       "      <th>brasília</th>\n",
       "      <td>30</td>\n",
       "      <td>3</td>\n",
       "      <td>NaN</td>\n",
       "    </tr>\n",
       "  </tbody>\n",
       "</table>\n",
       "</div>"
      ],
      "text/plain": [
       "                       casos  óbitos  habitantes vacinados\n",
       "estado municipio                                          \n",
       "ce     fortaleza          10       1                 100.0\n",
       "rj     rio de janeiro     20       2                 200.0\n",
       "df     brasília           30       3                   NaN"
      ]
     },
     "execution_count": 34,
     "metadata": {},
     "output_type": "execute_result"
    }
   ],
   "source": [
    "infectados.join(vacinados, how='left')"
   ]
  },
  {
   "cell_type": "code",
   "execution_count": 35,
   "id": "4c60ddbb-0b89-4eb0-9be2-700fbed49955",
   "metadata": {
    "slideshow": {
     "slide_type": "-"
    }
   },
   "outputs": [
    {
     "data": {
      "text/html": [
       "<div>\n",
       "<style scoped>\n",
       "    .dataframe tbody tr th:only-of-type {\n",
       "        vertical-align: middle;\n",
       "    }\n",
       "\n",
       "    .dataframe tbody tr th {\n",
       "        vertical-align: top;\n",
       "    }\n",
       "\n",
       "    .dataframe thead th {\n",
       "        text-align: right;\n",
       "    }\n",
       "</style>\n",
       "<table border=\"1\" class=\"dataframe\">\n",
       "  <thead>\n",
       "    <tr style=\"text-align: right;\">\n",
       "      <th></th>\n",
       "      <th></th>\n",
       "      <th>casos</th>\n",
       "      <th>óbitos</th>\n",
       "      <th>habitantes vacinados</th>\n",
       "    </tr>\n",
       "    <tr>\n",
       "      <th>estado</th>\n",
       "      <th>municipio</th>\n",
       "      <th></th>\n",
       "      <th></th>\n",
       "      <th></th>\n",
       "    </tr>\n",
       "  </thead>\n",
       "  <tbody>\n",
       "    <tr>\n",
       "      <th>ce</th>\n",
       "      <th>fortaleza</th>\n",
       "      <td>10.0</td>\n",
       "      <td>1.0</td>\n",
       "      <td>100</td>\n",
       "    </tr>\n",
       "    <tr>\n",
       "      <th>rj</th>\n",
       "      <th>rio de janeiro</th>\n",
       "      <td>20.0</td>\n",
       "      <td>2.0</td>\n",
       "      <td>200</td>\n",
       "    </tr>\n",
       "    <tr>\n",
       "      <th>rn</th>\n",
       "      <th>natal</th>\n",
       "      <td>NaN</td>\n",
       "      <td>NaN</td>\n",
       "      <td>300</td>\n",
       "    </tr>\n",
       "  </tbody>\n",
       "</table>\n",
       "</div>"
      ],
      "text/plain": [
       "                       casos  óbitos  habitantes vacinados\n",
       "estado municipio                                          \n",
       "ce     fortaleza        10.0     1.0                   100\n",
       "rj     rio de janeiro   20.0     2.0                   200\n",
       "rn     natal             NaN     NaN                   300"
      ]
     },
     "execution_count": 35,
     "metadata": {},
     "output_type": "execute_result"
    }
   ],
   "source": [
    "infectados.join(vacinados, how='right')"
   ]
  },
  {
   "cell_type": "code",
   "execution_count": 36,
   "id": "ea2a7934-087e-464e-a351-ae6e1773bf5a",
   "metadata": {
    "slideshow": {
     "slide_type": "subslide"
    }
   },
   "outputs": [
    {
     "data": {
      "text/html": [
       "<div>\n",
       "<style scoped>\n",
       "    .dataframe tbody tr th:only-of-type {\n",
       "        vertical-align: middle;\n",
       "    }\n",
       "\n",
       "    .dataframe tbody tr th {\n",
       "        vertical-align: top;\n",
       "    }\n",
       "\n",
       "    .dataframe thead th {\n",
       "        text-align: right;\n",
       "    }\n",
       "</style>\n",
       "<table border=\"1\" class=\"dataframe\">\n",
       "  <thead>\n",
       "    <tr style=\"text-align: right;\">\n",
       "      <th></th>\n",
       "      <th></th>\n",
       "      <th>casos</th>\n",
       "      <th>óbitos</th>\n",
       "      <th>habitantes vacinados</th>\n",
       "    </tr>\n",
       "    <tr>\n",
       "      <th>estado</th>\n",
       "      <th>municipio</th>\n",
       "      <th></th>\n",
       "      <th></th>\n",
       "      <th></th>\n",
       "    </tr>\n",
       "  </thead>\n",
       "  <tbody>\n",
       "    <tr>\n",
       "      <th>ce</th>\n",
       "      <th>fortaleza</th>\n",
       "      <td>10.0</td>\n",
       "      <td>1.0</td>\n",
       "      <td>100.0</td>\n",
       "    </tr>\n",
       "    <tr>\n",
       "      <th>df</th>\n",
       "      <th>brasília</th>\n",
       "      <td>30.0</td>\n",
       "      <td>3.0</td>\n",
       "      <td>NaN</td>\n",
       "    </tr>\n",
       "    <tr>\n",
       "      <th>rj</th>\n",
       "      <th>rio de janeiro</th>\n",
       "      <td>20.0</td>\n",
       "      <td>2.0</td>\n",
       "      <td>200.0</td>\n",
       "    </tr>\n",
       "    <tr>\n",
       "      <th>rn</th>\n",
       "      <th>natal</th>\n",
       "      <td>NaN</td>\n",
       "      <td>NaN</td>\n",
       "      <td>300.0</td>\n",
       "    </tr>\n",
       "  </tbody>\n",
       "</table>\n",
       "</div>"
      ],
      "text/plain": [
       "                       casos  óbitos  habitantes vacinados\n",
       "estado municipio                                          \n",
       "ce     fortaleza        10.0     1.0                 100.0\n",
       "df     brasília         30.0     3.0                   NaN\n",
       "rj     rio de janeiro   20.0     2.0                 200.0\n",
       "rn     natal             NaN     NaN                 300.0"
      ]
     },
     "execution_count": 36,
     "metadata": {},
     "output_type": "execute_result"
    }
   ],
   "source": [
    "infectados.join(vacinados, how='outer')"
   ]
  },
  {
   "cell_type": "markdown",
   "id": "78f53f14-1826-42e3-a02d-765a7494e796",
   "metadata": {
    "slideshow": {
     "slide_type": "subslide"
    },
    "tags": []
   },
   "source": [
    "### Concatenação"
   ]
  },
  {
   "cell_type": "markdown",
   "id": "a2b429ba-bf40-4061-8d18-0d84c2d02713",
   "metadata": {
    "slideshow": {
     "slide_type": "-"
    }
   },
   "source": [
    "<pre>Você pode empilhar ao longo das linhas com uma tabela em cima da outra (alinhando os índices das colunas)...</pre>"
   ]
  },
  {
   "cell_type": "markdown",
   "id": "b9fc768d-111f-4686-b7d7-52ceb737414f",
   "metadata": {
    "slideshow": {
     "slide_type": "-"
    }
   },
   "source": [
    "<table>\n",
    "    <tr><th>Tabelas Acima e Abaixo</th><th>Tabelas Concatenadas</th></tr>\n",
    "    <tr>\n",
    "        <td>\n",
    "            <table border=\"1\">\n",
    "              <thead>\n",
    "                <tr>\n",
    "                  <th></th>\n",
    "                  <th>estado</th>\n",
    "                  <th>municipio</th>\n",
    "                  <th>casos</th>\n",
    "                  <th>óbitos</th>\n",
    "                </tr>\n",
    "              </thead>\n",
    "              <tbody>\n",
    "                <tr>\n",
    "                  <th>0</th>\n",
    "                  <td bgcolor='green'>ce</td>\n",
    "                  <td bgcolor='green'>fortaleza</td>\n",
    "                  <td bgcolor='yellow'>10</td>\n",
    "                  <td bgcolor='yellow'>1</td>\n",
    "                </tr>\n",
    "                <tr>\n",
    "                  <th>1</th>\n",
    "                  <td bgcolor='green'>rj</td>\n",
    "                  <td bgcolor='green'>rio de janeiro</td>\n",
    "                  <td bgcolor='yellow'>20</td>\n",
    "                  <td bgcolor='yellow'>2</td>\n",
    "                </tr>\n",
    "                <tr>\n",
    "                  <th>2</th>\n",
    "                  <td bgcolor='gray'>df</td>\n",
    "                  <td bgcolor='gray'>brasília</td>\n",
    "                  <td bgcolor='gray'>30</td>\n",
    "                  <td bgcolor='gray'>3</td>\n",
    "                </tr>\n",
    "              </tbody>\n",
    "            </table>\n",
    "            <br />\n",
    "            <table border=\"1\">\n",
    "              <thead>\n",
    "                <tr>\n",
    "                  <th></th>\n",
    "                  <th>estado</th>\n",
    "                  <th>municipio</th>\n",
    "                  <th>habitantes vacinados</th>\n",
    "                </tr>\n",
    "              </thead>\n",
    "              <tbody>\n",
    "                <tr>\n",
    "                  <th>0</th>\n",
    "                  <td bgcolor='green'>ce</td>\n",
    "                  <td bgcolor='green'>fortaleza</td>\n",
    "                  <td bgcolor='orange'>100</td>\n",
    "                </tr>\n",
    "                <tr>\n",
    "                  <th>1</th>\n",
    "                  <td bgcolor='green'>rj</td>\n",
    "                  <td bgcolor='green'>rio de janeiro</td>\n",
    "                  <td bgcolor='orange'>200</td>\n",
    "                </tr>\n",
    "                <tr>\n",
    "                  <th>2</th>\n",
    "                  <td bgcolor='pink'>df</td>\n",
    "                  <td bgcolor='pink'>natal</td>\n",
    "                  <td bgcolor='pink'>300</td>\n",
    "                </tr>\n",
    "              </tbody>\n",
    "            </table>\n",
    "        </td>\n",
    "        <td>\n",
    "            <table border=\"1\">\n",
    "              <thead>\n",
    "                <tr>\n",
    "                  <th></th>\n",
    "                  <th>estado</th>\n",
    "                  <th>municipio</th>\n",
    "                  <th>casos</th>\n",
    "                  <th>óbitos</th>\n",
    "                  <th>habitantes vacinados</th>\n",
    "                </tr>\n",
    "              </thead>\n",
    "              <tbody>\n",
    "                <tr>\n",
    "                  <th>0</th>\n",
    "                  <td bgcolor='green'>ce</td>\n",
    "                  <td bgcolor='green'>fortaleza</td>\n",
    "                  <td bgcolor='yellow'>10.0</td>\n",
    "                  <td bgcolor='yellow'>1.0</td>\n",
    "                  <td>NaN</td>\n",
    "                </tr>\n",
    "                <tr>\n",
    "                  <th>1</th>\n",
    "                  <td bgcolor='green'>rj</td>\n",
    "                  <td bgcolor='green'>rio de janeiro</td>\n",
    "                  <td bgcolor='yellow'>20.0</td>\n",
    "                  <td bgcolor='yellow'>2.0</td>\n",
    "                  <td>NaN</td>\n",
    "                </tr>\n",
    "                <tr>\n",
    "                  <th>2</th>\n",
    "                  <td bgcolor='gray'>df</td>\n",
    "                  <td bgcolor='gray'>brasilia</td>\n",
    "                  <td bgcolor='gray'>30.0</td>\n",
    "                  <td bgcolor='gray'>3.0</td>\n",
    "                  <td>NaN</td>\n",
    "                </tr>\n",
    "                <tr>\n",
    "                  <th>3</th>\n",
    "                  <td bgcolor='green'>ce</td>\n",
    "                  <td bgcolor='green'>fortaleza</td>\n",
    "                  <td>NaN</td>\n",
    "                  <td>NaN</td>\n",
    "                  <td bgcolor='orange'>100.0</td>\n",
    "                </tr>\n",
    "                <tr>\n",
    "                  <th>4</th>\n",
    "                  <td bgcolor='green'>rj</td>\n",
    "                  <td bgcolor='green'>rio de janeiro</td>\n",
    "                  <td>NaN</td>\n",
    "                  <td>NaN</td>\n",
    "                  <td bgcolor='orange'>200.0</td>\n",
    "                </tr>\n",
    "                <tr>\n",
    "                  <th>5</th>\n",
    "                  <td bgcolor='pink'>rn</td>\n",
    "                  <td bgcolor='pink'>natal</td>\n",
    "                  <td>NaN</td>\n",
    "                  <td>NaN</td>\n",
    "                  <td bgcolor='pink'>300.0</td>\n",
    "                </tr>\n",
    "              </tbody>\n",
    "            </table>\n",
    "        </td>\n",
    "    </tr>\n",
    "</table>"
   ]
  },
  {
   "cell_type": "code",
   "execution_count": 37,
   "id": "1d4087f7-f0b4-474a-a285-72a224330bb5",
   "metadata": {
    "slideshow": {
     "slide_type": "subslide"
    }
   },
   "outputs": [
    {
     "data": {
      "text/html": [
       "<div>\n",
       "<style scoped>\n",
       "    .dataframe tbody tr th:only-of-type {\n",
       "        vertical-align: middle;\n",
       "    }\n",
       "\n",
       "    .dataframe tbody tr th {\n",
       "        vertical-align: top;\n",
       "    }\n",
       "\n",
       "    .dataframe thead th {\n",
       "        text-align: right;\n",
       "    }\n",
       "</style>\n",
       "<table border=\"1\" class=\"dataframe\">\n",
       "  <thead>\n",
       "    <tr style=\"text-align: right;\">\n",
       "      <th></th>\n",
       "      <th></th>\n",
       "      <th>casos</th>\n",
       "      <th>óbitos</th>\n",
       "      <th>habitantes vacinados</th>\n",
       "    </tr>\n",
       "    <tr>\n",
       "      <th>estado</th>\n",
       "      <th>municipio</th>\n",
       "      <th></th>\n",
       "      <th></th>\n",
       "      <th></th>\n",
       "    </tr>\n",
       "  </thead>\n",
       "  <tbody>\n",
       "    <tr>\n",
       "      <th>ce</th>\n",
       "      <th>fortaleza</th>\n",
       "      <td>10.0</td>\n",
       "      <td>1.0</td>\n",
       "      <td>NaN</td>\n",
       "    </tr>\n",
       "    <tr>\n",
       "      <th>rj</th>\n",
       "      <th>rio de janeiro</th>\n",
       "      <td>20.0</td>\n",
       "      <td>2.0</td>\n",
       "      <td>NaN</td>\n",
       "    </tr>\n",
       "    <tr>\n",
       "      <th>df</th>\n",
       "      <th>brasília</th>\n",
       "      <td>30.0</td>\n",
       "      <td>3.0</td>\n",
       "      <td>NaN</td>\n",
       "    </tr>\n",
       "    <tr>\n",
       "      <th>ce</th>\n",
       "      <th>fortaleza</th>\n",
       "      <td>NaN</td>\n",
       "      <td>NaN</td>\n",
       "      <td>100.0</td>\n",
       "    </tr>\n",
       "    <tr>\n",
       "      <th>rj</th>\n",
       "      <th>rio de janeiro</th>\n",
       "      <td>NaN</td>\n",
       "      <td>NaN</td>\n",
       "      <td>200.0</td>\n",
       "    </tr>\n",
       "    <tr>\n",
       "      <th>rn</th>\n",
       "      <th>natal</th>\n",
       "      <td>NaN</td>\n",
       "      <td>NaN</td>\n",
       "      <td>300.0</td>\n",
       "    </tr>\n",
       "  </tbody>\n",
       "</table>\n",
       "</div>"
      ],
      "text/plain": [
       "                       casos  óbitos  habitantes vacinados\n",
       "estado municipio                                          \n",
       "ce     fortaleza        10.0     1.0                   NaN\n",
       "rj     rio de janeiro   20.0     2.0                   NaN\n",
       "df     brasília         30.0     3.0                   NaN\n",
       "ce     fortaleza         NaN     NaN                 100.0\n",
       "rj     rio de janeiro    NaN     NaN                 200.0\n",
       "rn     natal             NaN     NaN                 300.0"
      ]
     },
     "execution_count": 37,
     "metadata": {},
     "output_type": "execute_result"
    }
   ],
   "source": [
    "pd.concat([infectados, vacinados], axis='index')"
   ]
  },
  {
   "cell_type": "markdown",
   "id": "48f56855-71b2-4617-81cd-c3ae6073886a",
   "metadata": {
    "slideshow": {
     "slide_type": "subslide"
    }
   },
   "source": [
    "<pre>... bem como pode ao longo das colunas com uma tabela após a outra (alinhando os índices das linhas)...</pre>"
   ]
  },
  {
   "cell_type": "markdown",
   "id": "5411e6e1-fbde-44ae-9a88-59c7406b0c29",
   "metadata": {
    "slideshow": {
     "slide_type": "-"
    }
   },
   "source": [
    "<table>\n",
    "    <tr><th>Tabela à Esquerda</th><th>Tabela à Direita</th><th>Tabelas Concatenadas</th></tr>\n",
    "    <tr>\n",
    "        <td>\n",
    "            <table border=\"1\">\n",
    "              <thead>\n",
    "                <tr>\n",
    "                  <th></th>\n",
    "                  <th>estado</th>\n",
    "                  <th>municipio</th>\n",
    "                  <th>casos</th>\n",
    "                  <th>óbitos</th>\n",
    "                </tr>\n",
    "              </thead>\n",
    "              <tbody>\n",
    "                <tr>\n",
    "                  <th>0</th>\n",
    "                  <td bgcolor='green'>ce</td>\n",
    "                  <td bgcolor='green'>fortaleza</td>\n",
    "                  <td bgcolor='yellow'>10</td>\n",
    "                  <td bgcolor='yellow'>1</td>\n",
    "                </tr>\n",
    "                <tr>\n",
    "                  <th>1</th>\n",
    "                  <td bgcolor='green'>rj</td>\n",
    "                  <td bgcolor='green'>rio de janeiro</td>\n",
    "                  <td bgcolor='yellow'>20</td>\n",
    "                  <td bgcolor='yellow'>2</td>\n",
    "                </tr>\n",
    "                <tr>\n",
    "                  <th>2</th>\n",
    "                  <td bgcolor='gray'>df</td>\n",
    "                  <td bgcolor='gray'>brasília</td>\n",
    "                  <td bgcolor='gray'>30</td>\n",
    "                  <td bgcolor='gray'>3</td>\n",
    "                </tr>\n",
    "              </tbody>\n",
    "            </table>\n",
    "        </td>\n",
    "        <td>\n",
    "            <table border=\"1\">\n",
    "              <thead>\n",
    "                <tr>\n",
    "                  <th></th>\n",
    "                  <th>estado</th>\n",
    "                  <th>municipio</th>\n",
    "                  <th>habitantes vacinados</th>\n",
    "                </tr>\n",
    "              </thead>\n",
    "              <tbody>\n",
    "                <tr>\n",
    "                  <th>0</th>\n",
    "                  <td bgcolor='green'>ce</td>\n",
    "                  <td bgcolor='green'>fortaleza</td>\n",
    "                  <td bgcolor='orange'>100</td>\n",
    "                </tr>\n",
    "                <tr>\n",
    "                  <th>1</th>\n",
    "                  <td bgcolor='green'>rj</td>\n",
    "                  <td bgcolor='green'>rio de janeiro</td>\n",
    "                  <td bgcolor='orange'>200</td>\n",
    "                </tr>\n",
    "                <tr>\n",
    "                  <th>2</th>\n",
    "                  <td bgcolor='pink'>df</td>\n",
    "                  <td bgcolor='pink'>natal</td>\n",
    "                  <td bgcolor='pink'>300</td>\n",
    "                </tr>\n",
    "              </tbody>\n",
    "            </table>\n",
    "        </td>\n",
    "        <td>\n",
    "            <table border=\"1\">\n",
    "              <thead>\n",
    "                <tr>\n",
    "                  <th></th>\n",
    "                  <th>estado</th>\n",
    "                  <th>municipio</th>\n",
    "                  <th>casos</th>\n",
    "                  <th>óbitos</th>\n",
    "                  <th>habitantes vacinados</th>\n",
    "                </tr>\n",
    "              </thead>\n",
    "              <tbody>\n",
    "                <tr>\n",
    "                  <th>0</th>\n",
    "                  <td bgcolor='green'>ce</td>\n",
    "                  <td bgcolor='green'>fortaleza</td>\n",
    "                  <td bgcolor='yellow'>10.0</td>\n",
    "                  <td bgcolor='yellow'>1.0</td>\n",
    "                  <td bgcolor='orange'>100.0</td>\n",
    "                </tr>\n",
    "                <tr>\n",
    "                  <th>1</th>\n",
    "                  <td bgcolor='green'>rj</td>\n",
    "                  <td bgcolor='green'>rio de janeiro</td>\n",
    "                  <td bgcolor='yellow'>20.0</td>\n",
    "                  <td bgcolor='yellow'>2.0</td>\n",
    "                  <td bgcolor='orange'>200.0</td>\n",
    "                </tr>\n",
    "                <tr>\n",
    "                  <th>2</th>\n",
    "                  <td bgcolor='gray'>df</td>\n",
    "                  <td bgcolor='gray'>brasilia</td>\n",
    "                  <td bgcolor='gray'>30.0</td>\n",
    "                  <td bgcolor='gray'>3.0</td>\n",
    "                  <td bgcolor='gray'>NaN</td>\n",
    "                </tr>\n",
    "                <tr>\n",
    "                  <th>3</th>\n",
    "                  <td bgcolor='pink'>rn</td>\n",
    "                  <td bgcolor='pink'>natal</td>\n",
    "                  <td bgcolor='pink'>NaN</td>\n",
    "                  <td bgcolor='pink'>NaN</td>\n",
    "                  <td bgcolor='pink'>300.0</td>\n",
    "                </tr>\n",
    "              </tbody>\n",
    "            </table>\n",
    "        </td>\n",
    "    </tr>\n",
    "</table>"
   ]
  },
  {
   "cell_type": "code",
   "execution_count": 38,
   "id": "087909aa-2c2e-4608-b369-0ce8ab0a4661",
   "metadata": {
    "slideshow": {
     "slide_type": "-"
    }
   },
   "outputs": [
    {
     "data": {
      "text/html": [
       "<div>\n",
       "<style scoped>\n",
       "    .dataframe tbody tr th:only-of-type {\n",
       "        vertical-align: middle;\n",
       "    }\n",
       "\n",
       "    .dataframe tbody tr th {\n",
       "        vertical-align: top;\n",
       "    }\n",
       "\n",
       "    .dataframe thead th {\n",
       "        text-align: right;\n",
       "    }\n",
       "</style>\n",
       "<table border=\"1\" class=\"dataframe\">\n",
       "  <thead>\n",
       "    <tr style=\"text-align: right;\">\n",
       "      <th></th>\n",
       "      <th></th>\n",
       "      <th>casos</th>\n",
       "      <th>óbitos</th>\n",
       "      <th>habitantes vacinados</th>\n",
       "    </tr>\n",
       "    <tr>\n",
       "      <th>estado</th>\n",
       "      <th>municipio</th>\n",
       "      <th></th>\n",
       "      <th></th>\n",
       "      <th></th>\n",
       "    </tr>\n",
       "  </thead>\n",
       "  <tbody>\n",
       "    <tr>\n",
       "      <th>ce</th>\n",
       "      <th>fortaleza</th>\n",
       "      <td>10.0</td>\n",
       "      <td>1.0</td>\n",
       "      <td>100.0</td>\n",
       "    </tr>\n",
       "    <tr>\n",
       "      <th>rj</th>\n",
       "      <th>rio de janeiro</th>\n",
       "      <td>20.0</td>\n",
       "      <td>2.0</td>\n",
       "      <td>200.0</td>\n",
       "    </tr>\n",
       "    <tr>\n",
       "      <th>df</th>\n",
       "      <th>brasília</th>\n",
       "      <td>30.0</td>\n",
       "      <td>3.0</td>\n",
       "      <td>NaN</td>\n",
       "    </tr>\n",
       "    <tr>\n",
       "      <th>rn</th>\n",
       "      <th>natal</th>\n",
       "      <td>NaN</td>\n",
       "      <td>NaN</td>\n",
       "      <td>300.0</td>\n",
       "    </tr>\n",
       "  </tbody>\n",
       "</table>\n",
       "</div>"
      ],
      "text/plain": [
       "                       casos  óbitos  habitantes vacinados\n",
       "estado municipio                                          \n",
       "ce     fortaleza        10.0     1.0                 100.0\n",
       "rj     rio de janeiro   20.0     2.0                 200.0\n",
       "df     brasília         30.0     3.0                   NaN\n",
       "rn     natal             NaN     NaN                 300.0"
      ]
     },
     "execution_count": 38,
     "metadata": {},
     "output_type": "execute_result"
    }
   ],
   "source": [
    "pd.concat([infectados, vacinados], axis='columns')"
   ]
  },
  {
   "cell_type": "markdown",
   "id": "0df937c6-4243-45c4-abd3-ecc7d9b8c519",
   "metadata": {
    "slideshow": {
     "slide_type": "subslide"
    },
    "tags": []
   },
   "source": [
    "#### Extra! Fontes de Dados 🚰 ➕ Limpeza e Preparação dos Dados 🏗️ ➕ Tratamento dos Dados 🪢 em 1 linha!"
   ]
  },
  {
   "cell_type": "code",
   "execution_count": 39,
   "id": "4cc528e0-037e-4892-9164-4bb7f0eeaffa",
   "metadata": {
    "slideshow": {
     "slide_type": "-"
    }
   },
   "outputs": [],
   "source": [
    "import os\n",
    "folderpath = os.path.join(os.getcwd(), os.pardir, \n",
    "                          'project', 'data', 'tmp')\n",
    "folderpath = os.path.abspath(folderpath)"
   ]
  },
  {
   "cell_type": "code",
   "execution_count": 40,
   "id": "63a006e3-f1d4-431f-8634-d1f65999cdc1",
   "metadata": {
    "slideshow": {
     "slide_type": "-"
    }
   },
   "outputs": [],
   "source": [
    "filepath = os.path.join(os.getcwd(), os.pardir, 'project', \n",
    "                        'data', 'clean', \n",
    "                        'ALL_HIST_PAINEL_COVID.json')\n",
    "filepath = os.path.abspath(filepath)"
   ]
  },
  {
   "cell_type": "code",
   "execution_count": 41,
   "id": "3523b6e6-5503-4154-aa03-a8ceb41bba81",
   "metadata": {
    "slideshow": {
     "slide_type": "-"
    }
   },
   "outputs": [],
   "source": [
    "pd.concat(\\\n",
    "          [pd.read_csv(\\\n",
    "                       os.path.join(folderpath, file), \\\n",
    "                       on_bad_lines='warn', \\\n",
    "                       sep=';') \\\n",
    "           for file in os.listdir(folderpath) \\\n",
    "           if file.startswith('HIST_PAINEL_COVID') and file.endswith('.csv')]\\\n",
    "         )[['codmun', 'data', 'casosNovos', 'obitosNovos', 'populacaoTCU2019']].\\\n",
    "reset_index(drop=True).\\\n",
    "to_json(filepath)"
   ]
  },
  {
   "cell_type": "markdown",
   "id": "680ade20-3b27-4a44-b9f5-4fe1b20882e9",
   "metadata": {
    "slideshow": {
     "slide_type": "slide"
    },
    "tags": []
   },
   "source": [
    "## Pivoteamento 🥈"
   ]
  },
  {
   "cell_type": "markdown",
   "id": "3939d141-6291-4831-86d4-9ac156e6ea42",
   "metadata": {
    "slideshow": {
     "slide_type": "-"
    }
   },
   "source": [
    "<table>\n",
    "    <tr><th>Formato Longo é Melhor para Armazenar</th><th>Formato Largo é Melhor para Analisar</th></tr>\n",
    "    <tr>\n",
    "        <td>\n",
    "            <table border=\"1\">\n",
    "              <thead>\n",
    "                <tr>\n",
    "                  <th></th>\n",
    "                  <th></th>\n",
    "                  <th></th>\n",
    "                  <th>variável</th>\n",
    "                  <th>valor</th>\n",
    "                </tr>\n",
    "                <tr>\n",
    "                  <th>0</th>\n",
    "                  <th>estado</th>\n",
    "                  <th>municipio</th>\n",
    "                  <th></th>\n",
    "                  <th></th>\n",
    "                </tr>\n",
    "              </thead>\n",
    "              <tbody>\n",
    "                <tr>\n",
    "                  <th>1</th>\n",
    "                  <td>ce</td>\n",
    "                  <td>fortaleza</td>\n",
    "                  <td>casos</td>\n",
    "                  <td>10.0</td>\n",
    "                </tr>\n",
    "                <tr>\n",
    "                  <th>2</th>\n",
    "                  <td>rj</td>\n",
    "                  <td>rio de janeiro</td>\n",
    "                  <td>óbitos</td>\n",
    "                  <td>2.0</td>\n",
    "                </tr>\n",
    "                <tr>\n",
    "                  <th>3</th>\n",
    "                  <td>df</td>\n",
    "                  <td>brasília</td>\n",
    "                  <td>óbitos</td>\n",
    "                  <td>3.0</td>\n",
    "                </tr>\n",
    "                <tr>\n",
    "                  <th>4</th>\n",
    "                  <td>rn</td>\n",
    "                  <td>natal</td>\n",
    "                  <td>habitantes vacinados</td>\n",
    "                  <td>300.0</td>\n",
    "                </tr>\n",
    "              </tbody>\n",
    "            </table>\n",
    "        </td>\n",
    "        <td>\n",
    "            <table border=\"1\">\n",
    "              <thead>\n",
    "                <tr>\n",
    "                  <th></th>\n",
    "                  <th>estado</th>\n",
    "                  <th>municipio</th>\n",
    "                  <th>casos</th>\n",
    "                  <th>óbitos</th>\n",
    "                  <th>habitantes vacinados</th>\n",
    "                </tr>\n",
    "              </thead>\n",
    "              <tbody>\n",
    "                <tr>\n",
    "                  <th>0</th>\n",
    "                  <td>ce</td>\n",
    "                  <td>fortaleza</td>\n",
    "                  <td>10.0</td>\n",
    "                  <td>NaN</td>\n",
    "                  <td>NaN</td>\n",
    "                </tr>\n",
    "                <tr>\n",
    "                  <th>1</th>\n",
    "                  <td>rj</td>\n",
    "                  <td>rio de janeiro</td>\n",
    "                  <td>NaN</td>\n",
    "                  <td>2.0</td>\n",
    "                  <td>NaN</td>\n",
    "                </tr>\n",
    "                <tr>\n",
    "                  <th>2</th>\n",
    "                  <td>df</td>\n",
    "                  <td>brasilia</td>\n",
    "                  <td>NaN</td>\n",
    "                  <td>3.0</td>\n",
    "                  <td>NaN</td>\n",
    "                </tr>\n",
    "                <tr>\n",
    "                  <th>3</th>\n",
    "                  <td>rn</td>\n",
    "                  <td>natal</td>\n",
    "                  <td>NaN</td>\n",
    "                  <td>NaN</td>\n",
    "                  <td>300.0</td>\n",
    "                </tr>\n",
    "              </tbody>\n",
    "            </table>\n",
    "        </td>\n",
    "    </tr>\n",
    "</table>"
   ]
  },
  {
   "cell_type": "markdown",
   "id": "cb6b0b08-6e47-4b7b-9cb7-8b2d540c4126",
   "metadata": {
    "slideshow": {
     "slide_type": "-"
    }
   },
   "source": [
    "👉 dica: pivotear é uma palavra difícil, correto? Vamos simplificar.\n",
    "<ul>\n",
    "    <li>formato longo: tem muitas linhas para designar uma linha por atributo;</li>\n",
    "    <li>formato largo: tem muitas colunas para designar uma coluna por atributo.</li>\n",
    "</ul>\n",
    "\n",
    "Dito isto, pivoteamento de formato longo em formato largo se faz <i>transformando linhas em colunas</i>;\n",
    "\n",
    "Simetricamente, pivoteamento de formato largo em formato longo se faz <i>transformando colunas em linhas</i>."
   ]
  },
  {
   "cell_type": "markdown",
   "id": "90632e47-237c-4a1d-872e-5985ef2f307c",
   "metadata": {
    "slideshow": {
     "slide_type": "subslide"
    },
    "tags": []
   },
   "source": [
    "### Pivoteamento do Formato Longo em Formato Largo"
   ]
  },
  {
   "cell_type": "markdown",
   "id": "c7de7225-6d80-4cc7-b1f2-edf9d327519a",
   "metadata": {
    "slideshow": {
     "slide_type": "-"
    }
   },
   "source": [
    "👉 dica: lembre-se que o pivoteamento de formato longo em formato largo se dá transformando linhas em colunas"
   ]
  },
  {
   "cell_type": "code",
   "execution_count": 42,
   "id": "cbaf310b-77bc-45aa-8f86-a09de663d175",
   "metadata": {
    "slideshow": {
     "slide_type": "-"
    }
   },
   "outputs": [],
   "source": [
    "formato_longo = pd.DataFrame([['ce', 'fortaleza', 'casos', 10.0],\n",
    "                              ['rj', 'rio de janeiro', 'óbitos', 2.0],\n",
    "                              ['df', 'brasília', 'óbitos', 3.0],\n",
    "                              ['rn', 'natal', \n",
    "                               'habitantes vacinados', 300.0]],\n",
    "                             columns=['estado', 'municipio', \n",
    "                                      'variável', 'valor'])"
   ]
  },
  {
   "cell_type": "code",
   "execution_count": 43,
   "id": "64303d4c-07e7-46ef-8cc8-a96ddecf5c98",
   "metadata": {
    "slideshow": {
     "slide_type": "-"
    }
   },
   "outputs": [
    {
     "data": {
      "text/html": [
       "<div>\n",
       "<style scoped>\n",
       "    .dataframe tbody tr th:only-of-type {\n",
       "        vertical-align: middle;\n",
       "    }\n",
       "\n",
       "    .dataframe tbody tr th {\n",
       "        vertical-align: top;\n",
       "    }\n",
       "\n",
       "    .dataframe thead th {\n",
       "        text-align: right;\n",
       "    }\n",
       "</style>\n",
       "<table border=\"1\" class=\"dataframe\">\n",
       "  <thead>\n",
       "    <tr style=\"text-align: right;\">\n",
       "      <th></th>\n",
       "      <th>estado</th>\n",
       "      <th>municipio</th>\n",
       "      <th>variável</th>\n",
       "      <th>valor</th>\n",
       "    </tr>\n",
       "  </thead>\n",
       "  <tbody>\n",
       "    <tr>\n",
       "      <th>0</th>\n",
       "      <td>ce</td>\n",
       "      <td>fortaleza</td>\n",
       "      <td>casos</td>\n",
       "      <td>10.0</td>\n",
       "    </tr>\n",
       "    <tr>\n",
       "      <th>1</th>\n",
       "      <td>rj</td>\n",
       "      <td>rio de janeiro</td>\n",
       "      <td>óbitos</td>\n",
       "      <td>2.0</td>\n",
       "    </tr>\n",
       "    <tr>\n",
       "      <th>2</th>\n",
       "      <td>df</td>\n",
       "      <td>brasília</td>\n",
       "      <td>óbitos</td>\n",
       "      <td>3.0</td>\n",
       "    </tr>\n",
       "    <tr>\n",
       "      <th>3</th>\n",
       "      <td>rn</td>\n",
       "      <td>natal</td>\n",
       "      <td>habitantes vacinados</td>\n",
       "      <td>300.0</td>\n",
       "    </tr>\n",
       "  </tbody>\n",
       "</table>\n",
       "</div>"
      ],
      "text/plain": [
       "  estado       municipio              variável  valor\n",
       "0     ce       fortaleza                 casos   10.0\n",
       "1     rj  rio de janeiro                óbitos    2.0\n",
       "2     df        brasília                óbitos    3.0\n",
       "3     rn           natal  habitantes vacinados  300.0"
      ]
     },
     "execution_count": 43,
     "metadata": {},
     "output_type": "execute_result"
    }
   ],
   "source": [
    "formato_longo"
   ]
  },
  {
   "cell_type": "code",
   "execution_count": 44,
   "id": "75373f20-aaaf-445d-855f-09d8417884ae",
   "metadata": {
    "slideshow": {
     "slide_type": "subslide"
    }
   },
   "outputs": [
    {
     "data": {
      "text/html": [
       "<div>\n",
       "<style scoped>\n",
       "    .dataframe tbody tr th:only-of-type {\n",
       "        vertical-align: middle;\n",
       "    }\n",
       "\n",
       "    .dataframe tbody tr th {\n",
       "        vertical-align: top;\n",
       "    }\n",
       "\n",
       "    .dataframe thead th {\n",
       "        text-align: right;\n",
       "    }\n",
       "</style>\n",
       "<table border=\"1\" class=\"dataframe\">\n",
       "  <thead>\n",
       "    <tr style=\"text-align: right;\">\n",
       "      <th></th>\n",
       "      <th>variável</th>\n",
       "      <th>casos</th>\n",
       "      <th>habitantes vacinados</th>\n",
       "      <th>óbitos</th>\n",
       "    </tr>\n",
       "    <tr>\n",
       "      <th>estado</th>\n",
       "      <th>municipio</th>\n",
       "      <th></th>\n",
       "      <th></th>\n",
       "      <th></th>\n",
       "    </tr>\n",
       "  </thead>\n",
       "  <tbody>\n",
       "    <tr>\n",
       "      <th>ce</th>\n",
       "      <th>fortaleza</th>\n",
       "      <td>10.0</td>\n",
       "      <td>NaN</td>\n",
       "      <td>NaN</td>\n",
       "    </tr>\n",
       "    <tr>\n",
       "      <th>df</th>\n",
       "      <th>brasília</th>\n",
       "      <td>NaN</td>\n",
       "      <td>NaN</td>\n",
       "      <td>3.0</td>\n",
       "    </tr>\n",
       "    <tr>\n",
       "      <th>rj</th>\n",
       "      <th>rio de janeiro</th>\n",
       "      <td>NaN</td>\n",
       "      <td>NaN</td>\n",
       "      <td>2.0</td>\n",
       "    </tr>\n",
       "    <tr>\n",
       "      <th>rn</th>\n",
       "      <th>natal</th>\n",
       "      <td>NaN</td>\n",
       "      <td>300.0</td>\n",
       "      <td>NaN</td>\n",
       "    </tr>\n",
       "  </tbody>\n",
       "</table>\n",
       "</div>"
      ],
      "text/plain": [
       "variável               casos  habitantes vacinados  óbitos\n",
       "estado municipio                                          \n",
       "ce     fortaleza        10.0                   NaN     NaN\n",
       "df     brasília          NaN                   NaN     3.0\n",
       "rj     rio de janeiro    NaN                   NaN     2.0\n",
       "rn     natal             NaN                 300.0     NaN"
      ]
     },
     "execution_count": 44,
     "metadata": {},
     "output_type": "execute_result"
    }
   ],
   "source": [
    "formato_longo.pivot(index=['estado', 'municipio'], \n",
    "                    columns='variável', values='valor')"
   ]
  },
  {
   "cell_type": "markdown",
   "id": "25ebfc1d-c134-4b0d-b425-3a2229cf23dd",
   "metadata": {
    "slideshow": {
     "slide_type": "subslide"
    },
    "tags": []
   },
   "source": [
    "### Pivoteamento do Formato Largo em Formato Longo"
   ]
  },
  {
   "cell_type": "markdown",
   "id": "5d12583f-f54b-4b23-ad33-b110fe775d1b",
   "metadata": {
    "slideshow": {
     "slide_type": "-"
    }
   },
   "source": [
    "👉 dica: lembre-se que o pivoteamento de formato largo em formato longo se dá transformando colunas em linhas"
   ]
  },
  {
   "cell_type": "code",
   "execution_count": 45,
   "id": "9e85d34d-ddce-4f12-8c97-1fcd2ebc2cbd",
   "metadata": {
    "slideshow": {
     "slide_type": "-"
    }
   },
   "outputs": [],
   "source": [
    "formato_largo = pd.DataFrame([['ce', 'fortaleza', 10.0, None, None],\n",
    "                              ['df', 'brasília', None, None, 3.0],\n",
    "                              ['rj', 'rio de janeiro', \n",
    "                               None, None, 2.0],\n",
    "                              ['rn', 'natal', None, 300.0, None]],\n",
    "                             columns=['estado', 'municipio', \n",
    "                                      'casos', 'habitantes vacinados', \n",
    "                                      'óbitos'])"
   ]
  },
  {
   "cell_type": "code",
   "execution_count": 46,
   "id": "2d129340-1118-4ba4-a479-77de360a56d2",
   "metadata": {
    "slideshow": {
     "slide_type": "-"
    }
   },
   "outputs": [
    {
     "data": {
      "text/html": [
       "<div>\n",
       "<style scoped>\n",
       "    .dataframe tbody tr th:only-of-type {\n",
       "        vertical-align: middle;\n",
       "    }\n",
       "\n",
       "    .dataframe tbody tr th {\n",
       "        vertical-align: top;\n",
       "    }\n",
       "\n",
       "    .dataframe thead th {\n",
       "        text-align: right;\n",
       "    }\n",
       "</style>\n",
       "<table border=\"1\" class=\"dataframe\">\n",
       "  <thead>\n",
       "    <tr style=\"text-align: right;\">\n",
       "      <th></th>\n",
       "      <th>estado</th>\n",
       "      <th>municipio</th>\n",
       "      <th>casos</th>\n",
       "      <th>habitantes vacinados</th>\n",
       "      <th>óbitos</th>\n",
       "    </tr>\n",
       "  </thead>\n",
       "  <tbody>\n",
       "    <tr>\n",
       "      <th>0</th>\n",
       "      <td>ce</td>\n",
       "      <td>fortaleza</td>\n",
       "      <td>10.0</td>\n",
       "      <td>NaN</td>\n",
       "      <td>NaN</td>\n",
       "    </tr>\n",
       "    <tr>\n",
       "      <th>1</th>\n",
       "      <td>df</td>\n",
       "      <td>brasília</td>\n",
       "      <td>NaN</td>\n",
       "      <td>NaN</td>\n",
       "      <td>3.0</td>\n",
       "    </tr>\n",
       "    <tr>\n",
       "      <th>2</th>\n",
       "      <td>rj</td>\n",
       "      <td>rio de janeiro</td>\n",
       "      <td>NaN</td>\n",
       "      <td>NaN</td>\n",
       "      <td>2.0</td>\n",
       "    </tr>\n",
       "    <tr>\n",
       "      <th>3</th>\n",
       "      <td>rn</td>\n",
       "      <td>natal</td>\n",
       "      <td>NaN</td>\n",
       "      <td>300.0</td>\n",
       "      <td>NaN</td>\n",
       "    </tr>\n",
       "  </tbody>\n",
       "</table>\n",
       "</div>"
      ],
      "text/plain": [
       "  estado       municipio  casos  habitantes vacinados  óbitos\n",
       "0     ce       fortaleza   10.0                   NaN     NaN\n",
       "1     df        brasília    NaN                   NaN     3.0\n",
       "2     rj  rio de janeiro    NaN                   NaN     2.0\n",
       "3     rn           natal    NaN                 300.0     NaN"
      ]
     },
     "execution_count": 46,
     "metadata": {},
     "output_type": "execute_result"
    }
   ],
   "source": [
    "formato_largo"
   ]
  },
  {
   "cell_type": "code",
   "execution_count": 47,
   "id": "43cad796-8abc-4e3a-a0bc-250b7bf49dbc",
   "metadata": {
    "slideshow": {
     "slide_type": "subslide"
    }
   },
   "outputs": [
    {
     "data": {
      "text/html": [
       "<div>\n",
       "<style scoped>\n",
       "    .dataframe tbody tr th:only-of-type {\n",
       "        vertical-align: middle;\n",
       "    }\n",
       "\n",
       "    .dataframe tbody tr th {\n",
       "        vertical-align: top;\n",
       "    }\n",
       "\n",
       "    .dataframe thead th {\n",
       "        text-align: right;\n",
       "    }\n",
       "</style>\n",
       "<table border=\"1\" class=\"dataframe\">\n",
       "  <thead>\n",
       "    <tr style=\"text-align: right;\">\n",
       "      <th></th>\n",
       "      <th>estado</th>\n",
       "      <th>municipio</th>\n",
       "      <th>variável</th>\n",
       "      <th>valor</th>\n",
       "    </tr>\n",
       "  </thead>\n",
       "  <tbody>\n",
       "    <tr>\n",
       "      <th>0</th>\n",
       "      <td>ce</td>\n",
       "      <td>fortaleza</td>\n",
       "      <td>casos</td>\n",
       "      <td>10.0</td>\n",
       "    </tr>\n",
       "    <tr>\n",
       "      <th>7</th>\n",
       "      <td>rn</td>\n",
       "      <td>natal</td>\n",
       "      <td>habitantes vacinados</td>\n",
       "      <td>300.0</td>\n",
       "    </tr>\n",
       "    <tr>\n",
       "      <th>9</th>\n",
       "      <td>df</td>\n",
       "      <td>brasília</td>\n",
       "      <td>óbitos</td>\n",
       "      <td>3.0</td>\n",
       "    </tr>\n",
       "    <tr>\n",
       "      <th>10</th>\n",
       "      <td>rj</td>\n",
       "      <td>rio de janeiro</td>\n",
       "      <td>óbitos</td>\n",
       "      <td>2.0</td>\n",
       "    </tr>\n",
       "  </tbody>\n",
       "</table>\n",
       "</div>"
      ],
      "text/plain": [
       "   estado       municipio              variável  valor\n",
       "0      ce       fortaleza                 casos   10.0\n",
       "7      rn           natal  habitantes vacinados  300.0\n",
       "9      df        brasília                óbitos    3.0\n",
       "10     rj  rio de janeiro                óbitos    2.0"
      ]
     },
     "execution_count": 47,
     "metadata": {},
     "output_type": "execute_result"
    }
   ],
   "source": [
    "formato_largo.melt(id_vars=['estado', 'municipio'], \n",
    "                   var_name='variável', \n",
    "                   value_name='valor').dropna()"
   ]
  },
  {
   "cell_type": "markdown",
   "id": "cf36fb11-7aea-44fd-937e-a4a9a7f7e386",
   "metadata": {
    "slideshow": {
     "slide_type": "subslide"
    },
    "tags": []
   },
   "source": [
    "#### Extra! Fontes de Dados 🚰 ➕ Pivoteamento 🥈"
   ]
  },
  {
   "cell_type": "code",
   "execution_count": 48,
   "id": "fe3c7e25-b80e-4f1e-a070-2ee208a45cf7",
   "metadata": {
    "slideshow": {
     "slide_type": "-"
    }
   },
   "outputs": [],
   "source": [
    "import os\n",
    "filepath = os.path.join(os.getcwd(), os.pardir, 'project', 'data', \n",
    "                        'clean', 'estados_caracteristicas.json')\n",
    "estados_caracteristicas = pd.read_json(filepath)"
   ]
  },
  {
   "cell_type": "code",
   "execution_count": 49,
   "id": "c795c472-bb5d-4af0-bcdf-18a06ad8d409",
   "metadata": {},
   "outputs": [
    {
     "data": {
      "text/html": [
       "<div>\n",
       "<style scoped>\n",
       "    .dataframe tbody tr th:only-of-type {\n",
       "        vertical-align: middle;\n",
       "    }\n",
       "\n",
       "    .dataframe tbody tr th {\n",
       "        vertical-align: top;\n",
       "    }\n",
       "\n",
       "    .dataframe thead th {\n",
       "        text-align: right;\n",
       "    }\n",
       "</style>\n",
       "<table border=\"1\" class=\"dataframe\">\n",
       "  <thead>\n",
       "    <tr style=\"text-align: right;\">\n",
       "      <th></th>\n",
       "      <th>state_state</th>\n",
       "      <th>characteristics_label</th>\n",
       "      <th>characteristics_value</th>\n",
       "    </tr>\n",
       "  </thead>\n",
       "  <tbody>\n",
       "    <tr>\n",
       "      <th>0</th>\n",
       "      <td>ro</td>\n",
       "      <td>Governador</td>\n",
       "      <td>MARCOS JOSÉ ROCHA DOS SANTOS</td>\n",
       "    </tr>\n",
       "    <tr>\n",
       "      <th>1</th>\n",
       "      <td>ro</td>\n",
       "      <td>Capital</td>\n",
       "      <td>Porto Velho</td>\n",
       "    </tr>\n",
       "    <tr>\n",
       "      <th>2</th>\n",
       "      <td>ro</td>\n",
       "      <td>Gentílico</td>\n",
       "      <td>rondoniense ou rondoniano</td>\n",
       "    </tr>\n",
       "    <tr>\n",
       "      <th>3</th>\n",
       "      <td>ro</td>\n",
       "      <td>Área Territorial</td>\n",
       "      <td>237.754,172 km²</td>\n",
       "    </tr>\n",
       "    <tr>\n",
       "      <th>4</th>\n",
       "      <td>ro</td>\n",
       "      <td>População residente</td>\n",
       "      <td>1.581.016 pessoas</td>\n",
       "    </tr>\n",
       "    <tr>\n",
       "      <th>...</th>\n",
       "      <td>...</td>\n",
       "      <td>...</td>\n",
       "      <td>...</td>\n",
       "    </tr>\n",
       "    <tr>\n",
       "      <th>319</th>\n",
       "      <td>df</td>\n",
       "      <td>IDHÍndice de desenvolvimento humano</td>\n",
       "      <td>0,814</td>\n",
       "    </tr>\n",
       "    <tr>\n",
       "      <th>320</th>\n",
       "      <td>df</td>\n",
       "      <td>Receitas realizadas</td>\n",
       "      <td>23.812.211,27 R$ (×1000)</td>\n",
       "    </tr>\n",
       "    <tr>\n",
       "      <th>321</th>\n",
       "      <td>df</td>\n",
       "      <td>Despesas empenhadas</td>\n",
       "      <td>21.990.464,68 R$ (×1000)</td>\n",
       "    </tr>\n",
       "    <tr>\n",
       "      <th>322</th>\n",
       "      <td>df</td>\n",
       "      <td>Rendimento mensal domiciliar per capita</td>\n",
       "      <td>2.913 R$</td>\n",
       "    </tr>\n",
       "    <tr>\n",
       "      <th>323</th>\n",
       "      <td>df</td>\n",
       "      <td>Total de veículos</td>\n",
       "      <td>2.021.627 veículos</td>\n",
       "    </tr>\n",
       "  </tbody>\n",
       "</table>\n",
       "<p>324 rows × 3 columns</p>\n",
       "</div>"
      ],
      "text/plain": [
       "    state_state                    characteristics_label  \\\n",
       "0            ro                               Governador   \n",
       "1            ro                                  Capital   \n",
       "2            ro                                Gentílico   \n",
       "3            ro                         Área Territorial   \n",
       "4            ro                      População residente   \n",
       "..          ...                                      ...   \n",
       "319          df     IDHÍndice de desenvolvimento humano   \n",
       "320          df                      Receitas realizadas   \n",
       "321          df                      Despesas empenhadas   \n",
       "322          df  Rendimento mensal domiciliar per capita   \n",
       "323          df                        Total de veículos   \n",
       "\n",
       "             characteristics_value  \n",
       "0    MARCOS JOSÉ ROCHA DOS SANTOS   \n",
       "1                     Porto Velho   \n",
       "2       rondoniense ou rondoniano   \n",
       "3                  237.754,172 km²  \n",
       "4                1.581.016 pessoas  \n",
       "..                             ...  \n",
       "319                         0,814   \n",
       "320       23.812.211,27 R$ (×1000)  \n",
       "321       21.990.464,68 R$ (×1000)  \n",
       "322                       2.913 R$  \n",
       "323             2.021.627 veículos  \n",
       "\n",
       "[324 rows x 3 columns]"
      ]
     },
     "execution_count": 49,
     "metadata": {},
     "output_type": "execute_result"
    }
   ],
   "source": [
    "estados_caracteristicas"
   ]
  },
  {
   "cell_type": "code",
   "execution_count": 50,
   "id": "8f25a684-abf7-4b23-9df1-ac772bb7a3e9",
   "metadata": {
    "slideshow": {
     "slide_type": "subslide"
    }
   },
   "outputs": [
    {
     "data": {
      "text/html": [
       "<div>\n",
       "<style scoped>\n",
       "    .dataframe tbody tr th:only-of-type {\n",
       "        vertical-align: middle;\n",
       "    }\n",
       "\n",
       "    .dataframe tbody tr th {\n",
       "        vertical-align: top;\n",
       "    }\n",
       "\n",
       "    .dataframe thead th {\n",
       "        text-align: right;\n",
       "    }\n",
       "</style>\n",
       "<table border=\"1\" class=\"dataframe\">\n",
       "  <thead>\n",
       "    <tr style=\"text-align: right;\">\n",
       "      <th>characteristics_label</th>\n",
       "      <th>Capital</th>\n",
       "      <th>Densidade demográfica</th>\n",
       "      <th>Despesas empenhadas</th>\n",
       "      <th>Gentílico</th>\n",
       "      <th>Governador</th>\n",
       "      <th>IDHÍndice de desenvolvimento humano</th>\n",
       "      <th>Matrículas no ensino fundamental</th>\n",
       "      <th>População residente</th>\n",
       "      <th>Receitas realizadas</th>\n",
       "      <th>Rendimento mensal domiciliar per capita</th>\n",
       "      <th>Total de veículos</th>\n",
       "      <th>Área Territorial</th>\n",
       "    </tr>\n",
       "    <tr>\n",
       "      <th>state_state</th>\n",
       "      <th></th>\n",
       "      <th></th>\n",
       "      <th></th>\n",
       "      <th></th>\n",
       "      <th></th>\n",
       "      <th></th>\n",
       "      <th></th>\n",
       "      <th></th>\n",
       "      <th></th>\n",
       "      <th></th>\n",
       "      <th></th>\n",
       "      <th></th>\n",
       "    </tr>\n",
       "  </thead>\n",
       "  <tbody>\n",
       "    <tr>\n",
       "      <th>ac</th>\n",
       "      <td>Rio Branco</td>\n",
       "      <td>5,06 hab/km²</td>\n",
       "      <td>6.084.416,81 R$ (×1000)</td>\n",
       "      <td>acriano</td>\n",
       "      <td>GLADSON DE LIMA CAMELI</td>\n",
       "      <td>0,71</td>\n",
       "      <td>153.015 matrículas</td>\n",
       "      <td>830.026 pessoas</td>\n",
       "      <td>6.632.883,11 R$ (×1000)</td>\n",
       "      <td>1.038 R$</td>\n",
       "      <td>334.377 veículos</td>\n",
       "      <td>164.173,429 km²</td>\n",
       "    </tr>\n",
       "    <tr>\n",
       "      <th>al</th>\n",
       "      <td>Maceió</td>\n",
       "      <td>112,38 hab/km²</td>\n",
       "      <td>10.460.634,92 R$ (×1000)</td>\n",
       "      <td>alagoano</td>\n",
       "      <td>PAULO SURUAGY DO AMARAL DANTAS</td>\n",
       "      <td>0,684</td>\n",
       "      <td>458.782 matrículas</td>\n",
       "      <td>3.127.511 pessoas</td>\n",
       "      <td>11.950.438,46 R$ (×1000)</td>\n",
       "      <td>935 R$</td>\n",
       "      <td>1.034.187 veículos</td>\n",
       "      <td>27.830,661 km²</td>\n",
       "    </tr>\n",
       "    <tr>\n",
       "      <th>am</th>\n",
       "      <td>Manaus</td>\n",
       "      <td>2,53 hab/km²</td>\n",
       "      <td>15.324.896,56 R$ (×1000)</td>\n",
       "      <td>amazonense</td>\n",
       "      <td>WILSON MIRANDA LIMA</td>\n",
       "      <td>0,7</td>\n",
       "      <td>702.763 matrículas</td>\n",
       "      <td>3.941.175 pessoas</td>\n",
       "      <td>17.328.459,43 R$ (×1000)</td>\n",
       "      <td>965 R$</td>\n",
       "      <td>1.069.794 veículos</td>\n",
       "      <td>1.559.255,881 km²</td>\n",
       "    </tr>\n",
       "    <tr>\n",
       "      <th>ap</th>\n",
       "      <td>Macapá</td>\n",
       "      <td>5,15 hab/km²</td>\n",
       "      <td>4.224.464,09 R$ (×1000)</td>\n",
       "      <td>amapaense</td>\n",
       "      <td>CLÉCIO LUÍS VILHENA VIEIRA</td>\n",
       "      <td>0,688</td>\n",
       "      <td>133.839 matrículas</td>\n",
       "      <td>733.508 pessoas</td>\n",
       "      <td>5.396.417,14 R$ (×1000)</td>\n",
       "      <td>1.177 R$</td>\n",
       "      <td>232.691 veículos</td>\n",
       "      <td>142.470,762 km²</td>\n",
       "    </tr>\n",
       "    <tr>\n",
       "      <th>ba</th>\n",
       "      <td>Salvador</td>\n",
       "      <td>25,03 hab/km²</td>\n",
       "      <td>45.570.160,00 R$ (×1000)</td>\n",
       "      <td>baiano</td>\n",
       "      <td>JERÔNIMO RODRIGUES SOUZA</td>\n",
       "      <td>0,691</td>\n",
       "      <td>1.946.957 matrículas</td>\n",
       "      <td>14.136.417 pessoas</td>\n",
       "      <td>50.191.003,24 R$ (×1000)</td>\n",
       "      <td>1.010 R$</td>\n",
       "      <td>4.887.673 veículos</td>\n",
       "      <td>564.760,429 km²</td>\n",
       "    </tr>\n",
       "    <tr>\n",
       "      <th>ce</th>\n",
       "      <td>Fortaleza</td>\n",
       "      <td>59,05 hab/km²</td>\n",
       "      <td>24.608.352,18 R$ (×1000)</td>\n",
       "      <td>cearense</td>\n",
       "      <td>ELMANO DE FREITAS DA COSTA</td>\n",
       "      <td>0,734</td>\n",
       "      <td>1.161.434 matrículas</td>\n",
       "      <td>8.791.688 pessoas</td>\n",
       "      <td>28.420.222,47 R$ (×1000)</td>\n",
       "      <td>1.050 R$</td>\n",
       "      <td>3.625.994 veículos</td>\n",
       "      <td>148.894,447 km²</td>\n",
       "    </tr>\n",
       "    <tr>\n",
       "      <th>df</th>\n",
       "      <td>Brasília</td>\n",
       "      <td>489,01 hab/km²</td>\n",
       "      <td>21.990.464,68 R$ (×1000)</td>\n",
       "      <td>brasiliense</td>\n",
       "      <td>IBANEIS ROCHA BARROS JÚNIOR</td>\n",
       "      <td>0,814</td>\n",
       "      <td>369.128 matrículas</td>\n",
       "      <td>2.817.068 pessoas</td>\n",
       "      <td>23.812.211,27 R$ (×1000)</td>\n",
       "      <td>2.913 R$</td>\n",
       "      <td>2.021.627 veículos</td>\n",
       "      <td>5.760,784 km²</td>\n",
       "    </tr>\n",
       "    <tr>\n",
       "      <th>es</th>\n",
       "      <td>Vitória</td>\n",
       "      <td>83,20 hab/km²</td>\n",
       "      <td>14.392.338,00 R$ (×1000)</td>\n",
       "      <td>capixaba ou espírito-santense</td>\n",
       "      <td>JOSÉ RENATO CASAGRANDE</td>\n",
       "      <td>0,771</td>\n",
       "      <td>503.003 matrículas</td>\n",
       "      <td>3.833.486 pessoas</td>\n",
       "      <td>19.685.616,74 R$ (×1000)</td>\n",
       "      <td>1.723 R$</td>\n",
       "      <td>2.248.960 veículos</td>\n",
       "      <td>46.074,448 km²</td>\n",
       "    </tr>\n",
       "    <tr>\n",
       "      <th>go</th>\n",
       "      <td>Goiânia</td>\n",
       "      <td>20,74 hab/km²</td>\n",
       "      <td>24.248.380,34 R$ (×1000)</td>\n",
       "      <td>goiano</td>\n",
       "      <td>RONALDO RAMOS CAIADO</td>\n",
       "      <td>0,737</td>\n",
       "      <td>855.021 matrículas</td>\n",
       "      <td>7.055.228 pessoas</td>\n",
       "      <td>37.885.335,17 R$ (×1000)</td>\n",
       "      <td>1.619 R$</td>\n",
       "      <td>4.542.235 veículos</td>\n",
       "      <td>340.242,859 km²</td>\n",
       "    </tr>\n",
       "    <tr>\n",
       "      <th>ma</th>\n",
       "      <td>São Luís</td>\n",
       "      <td>20,55 hab/km²</td>\n",
       "      <td>17.627.170,76 R$ (×1000)</td>\n",
       "      <td>maranhense</td>\n",
       "      <td>CARLOS ORLEANS BRANDÃO JÚNIOR</td>\n",
       "      <td>0,676</td>\n",
       "      <td>1.112.636 matrículas</td>\n",
       "      <td>6.775.152 pessoas</td>\n",
       "      <td>18.503.261,35 R$ (×1000)</td>\n",
       "      <td>814 R$</td>\n",
       "      <td>2.031.236 veículos</td>\n",
       "      <td>329.651,496 km²</td>\n",
       "    </tr>\n",
       "    <tr>\n",
       "      <th>mg</th>\n",
       "      <td>Belo Horizonte</td>\n",
       "      <td>35,02 hab/km²</td>\n",
       "      <td>98.391.669,16 R$ (×1000)</td>\n",
       "      <td>mineiro</td>\n",
       "      <td>ROMEU ZEMA NETO</td>\n",
       "      <td>0,774</td>\n",
       "      <td>2.407.107 matrículas</td>\n",
       "      <td>20.538.718 pessoas</td>\n",
       "      <td>97.199.823,16 R$ (×1000)</td>\n",
       "      <td>1.529 R$</td>\n",
       "      <td>13.028.883 veículos</td>\n",
       "      <td>586.513,983 km²</td>\n",
       "    </tr>\n",
       "    <tr>\n",
       "      <th>ms</th>\n",
       "      <td>Campo Grande</td>\n",
       "      <td>7,72 hab/km²</td>\n",
       "      <td>14.506.915,37 R$ (×1000)</td>\n",
       "      <td>sul-mato-grossense ou mato-grossense-do-sul</td>\n",
       "      <td>EDUARDO CORREA RIEDEL</td>\n",
       "      <td>0,742</td>\n",
       "      <td>391.975 matrículas</td>\n",
       "      <td>2.756.700 pessoas</td>\n",
       "      <td>16.396.655,77 R$ (×1000)</td>\n",
       "      <td>1.839 R$</td>\n",
       "      <td>1.824.708 veículos</td>\n",
       "      <td>357.142,082 km²</td>\n",
       "    </tr>\n",
       "    <tr>\n",
       "      <th>mt</th>\n",
       "      <td>Cuiabá</td>\n",
       "      <td>4,05 hab/km²</td>\n",
       "      <td>18.187.363,27 R$ (×1000)</td>\n",
       "      <td>mato-grossense</td>\n",
       "      <td>MAURO MENDES FERREIRA</td>\n",
       "      <td>0,736</td>\n",
       "      <td>486.568 matrículas</td>\n",
       "      <td>3.658.813 pessoas</td>\n",
       "      <td>23.958.528,84 R$ (×1000)</td>\n",
       "      <td>1.674 R$</td>\n",
       "      <td>2.568.240 veículos</td>\n",
       "      <td>903.208,361 km²</td>\n",
       "    </tr>\n",
       "    <tr>\n",
       "      <th>pa</th>\n",
       "      <td>Belém</td>\n",
       "      <td>6,51 hab/km²</td>\n",
       "      <td>22.533.470,05 R$ (×1000)</td>\n",
       "      <td>paraense</td>\n",
       "      <td>HELDER ZAHLUTH BARBALHO</td>\n",
       "      <td>0,69</td>\n",
       "      <td>1.389.983 matrículas</td>\n",
       "      <td>8.116.132 pessoas</td>\n",
       "      <td>25.849.446,10 R$ (×1000)</td>\n",
       "      <td>1.061 R$</td>\n",
       "      <td>2.478.988 veículos</td>\n",
       "      <td>1.245.870,704 km²</td>\n",
       "    </tr>\n",
       "    <tr>\n",
       "      <th>pb</th>\n",
       "      <td>João Pessoa</td>\n",
       "      <td>70,39 hab/km²</td>\n",
       "      <td>10.074.700,04 R$ (×1000)</td>\n",
       "      <td>paraibano</td>\n",
       "      <td>JOÃO AZEVEDO LINS FILHO</td>\n",
       "      <td>0,698</td>\n",
       "      <td>540.919 matrículas</td>\n",
       "      <td>3.974.495 pessoas</td>\n",
       "      <td>13.097.005,32 R$ (×1000)</td>\n",
       "      <td>1.096 R$</td>\n",
       "      <td>1.523.167 veículos</td>\n",
       "      <td>56.467,242 km²</td>\n",
       "    </tr>\n",
       "    <tr>\n",
       "      <th>pe</th>\n",
       "      <td>Recife</td>\n",
       "      <td>92,37 hab/km²</td>\n",
       "      <td>33.320.486,44 R$ (×1000)</td>\n",
       "      <td>pernambucano</td>\n",
       "      <td>RAQUEL TEIXEIRA LYRA LUCENA</td>\n",
       "      <td>0,719</td>\n",
       "      <td>1.249.850 matrículas</td>\n",
       "      <td>9.058.155 pessoas</td>\n",
       "      <td>35.746.028,97 R$ (×1000)</td>\n",
       "      <td>1.010 R$</td>\n",
       "      <td>3.439.164 veículos</td>\n",
       "      <td>98.067,877 km²</td>\n",
       "    </tr>\n",
       "    <tr>\n",
       "      <th>pi</th>\n",
       "      <td>Teresina</td>\n",
       "      <td>12,99 hab/km²</td>\n",
       "      <td>9.676.736,32 R$ (×1000)</td>\n",
       "      <td>piauiense</td>\n",
       "      <td>RAFAEL TAJRA FONTELES</td>\n",
       "      <td>0,69</td>\n",
       "      <td>459.871 matrículas</td>\n",
       "      <td>3.269.200 pessoas</td>\n",
       "      <td>12.124.215,62 R$ (×1000)</td>\n",
       "      <td>1.110 R$</td>\n",
       "      <td>1.385.426 veículos</td>\n",
       "      <td>251.755,481 km²</td>\n",
       "    </tr>\n",
       "    <tr>\n",
       "      <th>pr</th>\n",
       "      <td>Curitiba</td>\n",
       "      <td>57,42 hab/km²</td>\n",
       "      <td>55.534.402,97 R$ (×1000)</td>\n",
       "      <td>paranaense</td>\n",
       "      <td>CARLOS ROBERTO MASSA JUNIOR</td>\n",
       "      <td>0,769</td>\n",
       "      <td>1.348.296 matrículas</td>\n",
       "      <td>11.443.208 pessoas</td>\n",
       "      <td>60.163.576,12 R$ (×1000)</td>\n",
       "      <td>1.846 R$</td>\n",
       "      <td>8.575.905 veículos</td>\n",
       "      <td>199.298,981 km²</td>\n",
       "    </tr>\n",
       "    <tr>\n",
       "      <th>rj</th>\n",
       "      <td>Rio de Janeiro</td>\n",
       "      <td>366,96 hab/km²</td>\n",
       "      <td>67.965.548,70 R$ (×1000)</td>\n",
       "      <td>fluminense</td>\n",
       "      <td>CLÁUDIO BOMFIM DE CASTRO E SILVA</td>\n",
       "      <td>0,762</td>\n",
       "      <td>1.945.408 matrículas</td>\n",
       "      <td>16.054.524 pessoas</td>\n",
       "      <td>78.488.140,79 R$ (×1000)</td>\n",
       "      <td>1.971 R$</td>\n",
       "      <td>7.475.503 veículos</td>\n",
       "      <td>43.750,425 km²</td>\n",
       "    </tr>\n",
       "    <tr>\n",
       "      <th>rn</th>\n",
       "      <td>Natal</td>\n",
       "      <td>62,53 hab/km²</td>\n",
       "      <td>11.330.957,55 R$ (×1000)</td>\n",
       "      <td>potiguar, norte-rio-grandense, rio-grandense-d...</td>\n",
       "      <td>MARIA DE FATIMA BEZERRA</td>\n",
       "      <td>0,728</td>\n",
       "      <td>447.692 matrículas</td>\n",
       "      <td>3.302.406 pessoas</td>\n",
       "      <td>13.527.552,73 R$ (×1000)</td>\n",
       "      <td>1.267 R$</td>\n",
       "      <td>1.495.094 veículos</td>\n",
       "      <td>52.809,599 km²</td>\n",
       "    </tr>\n",
       "    <tr>\n",
       "      <th>ro</th>\n",
       "      <td>Porto Velho</td>\n",
       "      <td>6,65 hab/km²</td>\n",
       "      <td>7.085.530,02 R$ (×1000)</td>\n",
       "      <td>rondoniense ou rondoniano</td>\n",
       "      <td>MARCOS JOSÉ ROCHA DOS SANTOS</td>\n",
       "      <td>0,7</td>\n",
       "      <td>244.815 matrículas</td>\n",
       "      <td>1.581.016 pessoas</td>\n",
       "      <td>9.122.310,72 R$ (×1000)</td>\n",
       "      <td>1.365 R$</td>\n",
       "      <td>1.154.287 veículos</td>\n",
       "      <td>237.754,172 km²</td>\n",
       "    </tr>\n",
       "    <tr>\n",
       "      <th>rr</th>\n",
       "      <td>Boa Vista</td>\n",
       "      <td>2,85 hab/km²</td>\n",
       "      <td>3.865.094,27 R$ (×1000)</td>\n",
       "      <td>roraimense</td>\n",
       "      <td>ANTONIO OLIVERIO GARCIA DE ALMEIDA</td>\n",
       "      <td>0,699</td>\n",
       "      <td>103.123 matrículas</td>\n",
       "      <td>636.303 pessoas</td>\n",
       "      <td>4.266.318,55 R$ (×1000)</td>\n",
       "      <td>1.242 R$</td>\n",
       "      <td>263.345 veículos</td>\n",
       "      <td>223.644,530 km²</td>\n",
       "    </tr>\n",
       "    <tr>\n",
       "      <th>rs</th>\n",
       "      <td>Porto Alegre</td>\n",
       "      <td>38,62 hab/km²</td>\n",
       "      <td>62.476.279,34 R$ (×1000)</td>\n",
       "      <td>gaúcho ou sul-rio-grandense</td>\n",
       "      <td>EDUARDO FIGUEIREDO CAVALHEIRO LEITE</td>\n",
       "      <td>0,771</td>\n",
       "      <td>1.257.992 matrículas</td>\n",
       "      <td>10.880.506 pessoas</td>\n",
       "      <td>66.397.468,18 R$ (×1000)</td>\n",
       "      <td>2.087 R$</td>\n",
       "      <td>7.869.630 veículos</td>\n",
       "      <td>281.707,151 km²</td>\n",
       "    </tr>\n",
       "    <tr>\n",
       "      <th>sc</th>\n",
       "      <td>Florianópolis</td>\n",
       "      <td>79,49 hab/km²</td>\n",
       "      <td>25.595.103,38 R$ (×1000)</td>\n",
       "      <td>catarinense ou barriga-verde</td>\n",
       "      <td>JORGINHO DOS SANTOS MELLO</td>\n",
       "      <td>0,792</td>\n",
       "      <td>900.240 matrículas</td>\n",
       "      <td>7.609.601 pessoas</td>\n",
       "      <td>34.696.772,82 R$ (×1000)</td>\n",
       "      <td>2.018 R$</td>\n",
       "      <td>5.974.106 veículos</td>\n",
       "      <td>95.730,690 km²</td>\n",
       "    </tr>\n",
       "    <tr>\n",
       "      <th>se</th>\n",
       "      <td>Aracaju</td>\n",
       "      <td>100,72 hab/km²</td>\n",
       "      <td>8.494.927,20 R$ (×1000)</td>\n",
       "      <td>sergipano ou sergipense</td>\n",
       "      <td>FÁBIO CRUZ MITIDIERI</td>\n",
       "      <td>0,702</td>\n",
       "      <td>320.638 matrículas</td>\n",
       "      <td>2.209.558 pessoas</td>\n",
       "      <td>10.145.046,95 R$ (×1000)</td>\n",
       "      <td>1.187 R$</td>\n",
       "      <td>907.388 veículos</td>\n",
       "      <td>21.938,188 km²</td>\n",
       "    </tr>\n",
       "    <tr>\n",
       "      <th>sp</th>\n",
       "      <td>São Paulo</td>\n",
       "      <td>178,96 hab/km²</td>\n",
       "      <td>231.982.243,69 R$ (×1000)</td>\n",
       "      <td>paulista</td>\n",
       "      <td>TARCISIO GOMES DE FREITAS</td>\n",
       "      <td>0,806</td>\n",
       "      <td>5.396.803 matrículas</td>\n",
       "      <td>44.420.459 pessoas</td>\n",
       "      <td>232.822.496,57 R$ (×1000)</td>\n",
       "      <td>2.148 R$</td>\n",
       "      <td>32.293.191 veículos</td>\n",
       "      <td>248.219,485 km²</td>\n",
       "    </tr>\n",
       "    <tr>\n",
       "      <th>to</th>\n",
       "      <td>Palmas</td>\n",
       "      <td>5,45 hab/km²</td>\n",
       "      <td>8.929.456,44 R$ (×1000)</td>\n",
       "      <td>tocantinense</td>\n",
       "      <td>WANDERLEI BARBOSA CASTRO</td>\n",
       "      <td>0,731</td>\n",
       "      <td>227.743 matrículas</td>\n",
       "      <td>1.511.459 pessoas</td>\n",
       "      <td>10.305.099,01 R$ (×1000)</td>\n",
       "      <td>1.379 R$</td>\n",
       "      <td>830.733 veículos</td>\n",
       "      <td>277.423,627 km²</td>\n",
       "    </tr>\n",
       "  </tbody>\n",
       "</table>\n",
       "</div>"
      ],
      "text/plain": [
       "characteristics_label          Capital Densidade demográfica  \\\n",
       "state_state                                                    \n",
       "ac                         Rio Branco           5,06 hab/km²   \n",
       "al                             Maceió         112,38 hab/km²   \n",
       "am                             Manaus           2,53 hab/km²   \n",
       "ap                             Macapá           5,15 hab/km²   \n",
       "ba                           Salvador          25,03 hab/km²   \n",
       "ce                          Fortaleza          59,05 hab/km²   \n",
       "df                           Brasília         489,01 hab/km²   \n",
       "es                            Vitória          83,20 hab/km²   \n",
       "go                            Goiânia          20,74 hab/km²   \n",
       "ma                           São Luís          20,55 hab/km²   \n",
       "mg                     Belo Horizonte          35,02 hab/km²   \n",
       "ms                       Campo Grande           7,72 hab/km²   \n",
       "mt                             Cuiabá           4,05 hab/km²   \n",
       "pa                              Belém           6,51 hab/km²   \n",
       "pb                        João Pessoa          70,39 hab/km²   \n",
       "pe                             Recife          92,37 hab/km²   \n",
       "pi                           Teresina          12,99 hab/km²   \n",
       "pr                           Curitiba          57,42 hab/km²   \n",
       "rj                     Rio de Janeiro         366,96 hab/km²   \n",
       "rn                              Natal          62,53 hab/km²   \n",
       "ro                        Porto Velho           6,65 hab/km²   \n",
       "rr                          Boa Vista           2,85 hab/km²   \n",
       "rs                       Porto Alegre          38,62 hab/km²   \n",
       "sc                      Florianópolis          79,49 hab/km²   \n",
       "se                            Aracaju         100,72 hab/km²   \n",
       "sp                          São Paulo         178,96 hab/km²   \n",
       "to                             Palmas           5,45 hab/km²   \n",
       "\n",
       "characteristics_label        Despesas empenhadas  \\\n",
       "state_state                                        \n",
       "ac                       6.084.416,81 R$ (×1000)   \n",
       "al                      10.460.634,92 R$ (×1000)   \n",
       "am                      15.324.896,56 R$ (×1000)   \n",
       "ap                       4.224.464,09 R$ (×1000)   \n",
       "ba                      45.570.160,00 R$ (×1000)   \n",
       "ce                      24.608.352,18 R$ (×1000)   \n",
       "df                      21.990.464,68 R$ (×1000)   \n",
       "es                      14.392.338,00 R$ (×1000)   \n",
       "go                      24.248.380,34 R$ (×1000)   \n",
       "ma                      17.627.170,76 R$ (×1000)   \n",
       "mg                      98.391.669,16 R$ (×1000)   \n",
       "ms                      14.506.915,37 R$ (×1000)   \n",
       "mt                      18.187.363,27 R$ (×1000)   \n",
       "pa                      22.533.470,05 R$ (×1000)   \n",
       "pb                      10.074.700,04 R$ (×1000)   \n",
       "pe                      33.320.486,44 R$ (×1000)   \n",
       "pi                       9.676.736,32 R$ (×1000)   \n",
       "pr                      55.534.402,97 R$ (×1000)   \n",
       "rj                      67.965.548,70 R$ (×1000)   \n",
       "rn                      11.330.957,55 R$ (×1000)   \n",
       "ro                       7.085.530,02 R$ (×1000)   \n",
       "rr                       3.865.094,27 R$ (×1000)   \n",
       "rs                      62.476.279,34 R$ (×1000)   \n",
       "sc                      25.595.103,38 R$ (×1000)   \n",
       "se                       8.494.927,20 R$ (×1000)   \n",
       "sp                     231.982.243,69 R$ (×1000)   \n",
       "to                       8.929.456,44 R$ (×1000)   \n",
       "\n",
       "characteristics_label                                          Gentílico  \\\n",
       "state_state                                                                \n",
       "ac                                                              acriano    \n",
       "al                                                             alagoano    \n",
       "am                                                           amazonense    \n",
       "ap                                                            amapaense    \n",
       "ba                                                               baiano    \n",
       "ce                                                             cearense    \n",
       "df                                                          brasiliense    \n",
       "es                                        capixaba ou espírito-santense    \n",
       "go                                                               goiano    \n",
       "ma                                                           maranhense    \n",
       "mg                                                              mineiro    \n",
       "ms                          sul-mato-grossense ou mato-grossense-do-sul    \n",
       "mt                                                       mato-grossense    \n",
       "pa                                                             paraense    \n",
       "pb                                                            paraibano    \n",
       "pe                                                         pernambucano    \n",
       "pi                                                            piauiense    \n",
       "pr                                                           paranaense    \n",
       "rj                                                           fluminense    \n",
       "rn                     potiguar, norte-rio-grandense, rio-grandense-d...   \n",
       "ro                                            rondoniense ou rondoniano    \n",
       "rr                                                           roraimense    \n",
       "rs                                          gaúcho ou sul-rio-grandense    \n",
       "sc                                         catarinense ou barriga-verde    \n",
       "se                                              sergipano ou sergipense    \n",
       "sp                                                             paulista    \n",
       "to                                                         tocantinense    \n",
       "\n",
       "characteristics_label                            Governador  \\\n",
       "state_state                                                   \n",
       "ac                                  GLADSON DE LIMA CAMELI    \n",
       "al                          PAULO SURUAGY DO AMARAL DANTAS    \n",
       "am                                     WILSON MIRANDA LIMA    \n",
       "ap                              CLÉCIO LUÍS VILHENA VIEIRA    \n",
       "ba                                JERÔNIMO RODRIGUES SOUZA    \n",
       "ce                              ELMANO DE FREITAS DA COSTA    \n",
       "df                             IBANEIS ROCHA BARROS JÚNIOR    \n",
       "es                                  JOSÉ RENATO CASAGRANDE    \n",
       "go                                    RONALDO RAMOS CAIADO    \n",
       "ma                           CARLOS ORLEANS BRANDÃO JÚNIOR    \n",
       "mg                                         ROMEU ZEMA NETO    \n",
       "ms                                   EDUARDO CORREA RIEDEL    \n",
       "mt                                   MAURO MENDES FERREIRA    \n",
       "pa                                 HELDER ZAHLUTH BARBALHO    \n",
       "pb                                 JOÃO AZEVEDO LINS FILHO    \n",
       "pe                             RAQUEL TEIXEIRA LYRA LUCENA    \n",
       "pi                                   RAFAEL TAJRA FONTELES    \n",
       "pr                             CARLOS ROBERTO MASSA JUNIOR    \n",
       "rj                        CLÁUDIO BOMFIM DE CASTRO E SILVA    \n",
       "rn                                 MARIA DE FATIMA BEZERRA    \n",
       "ro                            MARCOS JOSÉ ROCHA DOS SANTOS    \n",
       "rr                      ANTONIO OLIVERIO GARCIA DE ALMEIDA    \n",
       "rs                     EDUARDO FIGUEIREDO CAVALHEIRO LEITE    \n",
       "sc                               JORGINHO DOS SANTOS MELLO    \n",
       "se                                    FÁBIO CRUZ MITIDIERI    \n",
       "sp                               TARCISIO GOMES DE FREITAS    \n",
       "to                                WANDERLEI BARBOSA CASTRO    \n",
       "\n",
       "characteristics_label IDHÍndice de desenvolvimento humano  \\\n",
       "state_state                                                  \n",
       "ac                                                   0,71    \n",
       "al                                                  0,684    \n",
       "am                                                    0,7    \n",
       "ap                                                  0,688    \n",
       "ba                                                  0,691    \n",
       "ce                                                  0,734    \n",
       "df                                                  0,814    \n",
       "es                                                  0,771    \n",
       "go                                                  0,737    \n",
       "ma                                                  0,676    \n",
       "mg                                                  0,774    \n",
       "ms                                                  0,742    \n",
       "mt                                                  0,736    \n",
       "pa                                                   0,69    \n",
       "pb                                                  0,698    \n",
       "pe                                                  0,719    \n",
       "pi                                                   0,69    \n",
       "pr                                                  0,769    \n",
       "rj                                                  0,762    \n",
       "rn                                                  0,728    \n",
       "ro                                                    0,7    \n",
       "rr                                                  0,699    \n",
       "rs                                                  0,771    \n",
       "sc                                                  0,792    \n",
       "se                                                  0,702    \n",
       "sp                                                  0,806    \n",
       "to                                                  0,731    \n",
       "\n",
       "characteristics_label Matrículas no ensino fundamental População residente  \\\n",
       "state_state                                                                   \n",
       "ac                                   153.015 matrículas     830.026 pessoas   \n",
       "al                                   458.782 matrículas   3.127.511 pessoas   \n",
       "am                                   702.763 matrículas   3.941.175 pessoas   \n",
       "ap                                   133.839 matrículas     733.508 pessoas   \n",
       "ba                                 1.946.957 matrículas  14.136.417 pessoas   \n",
       "ce                                 1.161.434 matrículas   8.791.688 pessoas   \n",
       "df                                   369.128 matrículas   2.817.068 pessoas   \n",
       "es                                   503.003 matrículas   3.833.486 pessoas   \n",
       "go                                   855.021 matrículas   7.055.228 pessoas   \n",
       "ma                                 1.112.636 matrículas   6.775.152 pessoas   \n",
       "mg                                 2.407.107 matrículas  20.538.718 pessoas   \n",
       "ms                                   391.975 matrículas   2.756.700 pessoas   \n",
       "mt                                   486.568 matrículas   3.658.813 pessoas   \n",
       "pa                                 1.389.983 matrículas   8.116.132 pessoas   \n",
       "pb                                   540.919 matrículas   3.974.495 pessoas   \n",
       "pe                                 1.249.850 matrículas   9.058.155 pessoas   \n",
       "pi                                   459.871 matrículas   3.269.200 pessoas   \n",
       "pr                                 1.348.296 matrículas  11.443.208 pessoas   \n",
       "rj                                 1.945.408 matrículas  16.054.524 pessoas   \n",
       "rn                                   447.692 matrículas   3.302.406 pessoas   \n",
       "ro                                   244.815 matrículas   1.581.016 pessoas   \n",
       "rr                                   103.123 matrículas     636.303 pessoas   \n",
       "rs                                 1.257.992 matrículas  10.880.506 pessoas   \n",
       "sc                                   900.240 matrículas   7.609.601 pessoas   \n",
       "se                                   320.638 matrículas   2.209.558 pessoas   \n",
       "sp                                 5.396.803 matrículas  44.420.459 pessoas   \n",
       "to                                   227.743 matrículas   1.511.459 pessoas   \n",
       "\n",
       "characteristics_label        Receitas realizadas  \\\n",
       "state_state                                        \n",
       "ac                       6.632.883,11 R$ (×1000)   \n",
       "al                      11.950.438,46 R$ (×1000)   \n",
       "am                      17.328.459,43 R$ (×1000)   \n",
       "ap                       5.396.417,14 R$ (×1000)   \n",
       "ba                      50.191.003,24 R$ (×1000)   \n",
       "ce                      28.420.222,47 R$ (×1000)   \n",
       "df                      23.812.211,27 R$ (×1000)   \n",
       "es                      19.685.616,74 R$ (×1000)   \n",
       "go                      37.885.335,17 R$ (×1000)   \n",
       "ma                      18.503.261,35 R$ (×1000)   \n",
       "mg                      97.199.823,16 R$ (×1000)   \n",
       "ms                      16.396.655,77 R$ (×1000)   \n",
       "mt                      23.958.528,84 R$ (×1000)   \n",
       "pa                      25.849.446,10 R$ (×1000)   \n",
       "pb                      13.097.005,32 R$ (×1000)   \n",
       "pe                      35.746.028,97 R$ (×1000)   \n",
       "pi                      12.124.215,62 R$ (×1000)   \n",
       "pr                      60.163.576,12 R$ (×1000)   \n",
       "rj                      78.488.140,79 R$ (×1000)   \n",
       "rn                      13.527.552,73 R$ (×1000)   \n",
       "ro                       9.122.310,72 R$ (×1000)   \n",
       "rr                       4.266.318,55 R$ (×1000)   \n",
       "rs                      66.397.468,18 R$ (×1000)   \n",
       "sc                      34.696.772,82 R$ (×1000)   \n",
       "se                      10.145.046,95 R$ (×1000)   \n",
       "sp                     232.822.496,57 R$ (×1000)   \n",
       "to                      10.305.099,01 R$ (×1000)   \n",
       "\n",
       "characteristics_label Rendimento mensal domiciliar per capita  \\\n",
       "state_state                                                     \n",
       "ac                                                   1.038 R$   \n",
       "al                                                     935 R$   \n",
       "am                                                     965 R$   \n",
       "ap                                                   1.177 R$   \n",
       "ba                                                   1.010 R$   \n",
       "ce                                                   1.050 R$   \n",
       "df                                                   2.913 R$   \n",
       "es                                                   1.723 R$   \n",
       "go                                                   1.619 R$   \n",
       "ma                                                     814 R$   \n",
       "mg                                                   1.529 R$   \n",
       "ms                                                   1.839 R$   \n",
       "mt                                                   1.674 R$   \n",
       "pa                                                   1.061 R$   \n",
       "pb                                                   1.096 R$   \n",
       "pe                                                   1.010 R$   \n",
       "pi                                                   1.110 R$   \n",
       "pr                                                   1.846 R$   \n",
       "rj                                                   1.971 R$   \n",
       "rn                                                   1.267 R$   \n",
       "ro                                                   1.365 R$   \n",
       "rr                                                   1.242 R$   \n",
       "rs                                                   2.087 R$   \n",
       "sc                                                   2.018 R$   \n",
       "se                                                   1.187 R$   \n",
       "sp                                                   2.148 R$   \n",
       "to                                                   1.379 R$   \n",
       "\n",
       "characteristics_label    Total de veículos   Área Territorial  \n",
       "state_state                                                    \n",
       "ac                        334.377 veículos    164.173,429 km²  \n",
       "al                      1.034.187 veículos     27.830,661 km²  \n",
       "am                      1.069.794 veículos  1.559.255,881 km²  \n",
       "ap                        232.691 veículos    142.470,762 km²  \n",
       "ba                      4.887.673 veículos    564.760,429 km²  \n",
       "ce                      3.625.994 veículos    148.894,447 km²  \n",
       "df                      2.021.627 veículos      5.760,784 km²  \n",
       "es                      2.248.960 veículos     46.074,448 km²  \n",
       "go                      4.542.235 veículos    340.242,859 km²  \n",
       "ma                      2.031.236 veículos    329.651,496 km²  \n",
       "mg                     13.028.883 veículos    586.513,983 km²  \n",
       "ms                      1.824.708 veículos    357.142,082 km²  \n",
       "mt                      2.568.240 veículos    903.208,361 km²  \n",
       "pa                      2.478.988 veículos  1.245.870,704 km²  \n",
       "pb                      1.523.167 veículos     56.467,242 km²  \n",
       "pe                      3.439.164 veículos     98.067,877 km²  \n",
       "pi                      1.385.426 veículos    251.755,481 km²  \n",
       "pr                      8.575.905 veículos    199.298,981 km²  \n",
       "rj                      7.475.503 veículos     43.750,425 km²  \n",
       "rn                      1.495.094 veículos     52.809,599 km²  \n",
       "ro                      1.154.287 veículos    237.754,172 km²  \n",
       "rr                        263.345 veículos    223.644,530 km²  \n",
       "rs                      7.869.630 veículos    281.707,151 km²  \n",
       "sc                      5.974.106 veículos     95.730,690 km²  \n",
       "se                        907.388 veículos     21.938,188 km²  \n",
       "sp                     32.293.191 veículos    248.219,485 km²  \n",
       "to                        830.733 veículos    277.423,627 km²  "
      ]
     },
     "execution_count": 50,
     "metadata": {},
     "output_type": "execute_result"
    }
   ],
   "source": [
    "estados_caracteristicas.pivot(index='state_state', \n",
    "                              columns='characteristics_label', \n",
    "                              values='characteristics_value')"
   ]
  },
  {
   "cell_type": "markdown",
   "id": "087895aa-f5ce-410f-8816-04a8762177e9",
   "metadata": {
    "editable": true,
    "slideshow": {
     "slide_type": "slide"
    },
    "tags": []
   },
   "source": [
    "<font size=7><center><code>Executem todo este caderno...</code></center></font>\n",
    "\n",
    "<font size=7><center><code>... bem como o caderno Juntando as Peças</code></center></font>"
   ]
  }
 ],
 "metadata": {
  "celltoolbar": "Slideshow",
  "kernelspec": {
   "display_name": "Python 3 (ipykernel)",
   "language": "python",
   "name": "python3"
  },
  "language_info": {
   "codemirror_mode": {
    "name": "ipython",
    "version": 3
   },
   "file_extension": ".py",
   "mimetype": "text/x-python",
   "name": "python",
   "nbconvert_exporter": "python",
   "pygments_lexer": "ipython3",
   "version": "3.11.2"
  },
  "toc": {
   "base_numbering": 1,
   "nav_menu": {},
   "number_sections": true,
   "sideBar": true,
   "skip_h1_title": false,
   "title_cell": "Table of Contents",
   "title_sidebar": "Contents",
   "toc_cell": false,
   "toc_position": {},
   "toc_section_display": true,
   "toc_window_display": false
  }
 },
 "nbformat": 4,
 "nbformat_minor": 5
}
