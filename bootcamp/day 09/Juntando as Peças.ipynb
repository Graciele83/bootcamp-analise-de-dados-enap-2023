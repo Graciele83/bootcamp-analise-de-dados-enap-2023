{
 "cells": [
  {
   "cell_type": "markdown",
   "id": "87ac5850-e411-4e9e-8187-90b52a250e8e",
   "metadata": {},
   "source": [
    "# Juntando as Peças 🧩"
   ]
  },
  {
   "cell_type": "markdown",
   "id": "11cc2bee-ac2d-473a-bb2a-33cda9030f00",
   "metadata": {
    "slideshow": {
     "slide_type": "subslide"
    },
    "tags": []
   },
   "source": [
    "## (Fontes de Dados 🚰 ➕ Tratamento dos Dados 🪢) <sup>Alto Desempenho 🚀 🧞‍♂️</sup>"
   ]
  },
  {
   "cell_type": "markdown",
   "id": "5fa999c9-bb7a-469d-8ea7-c54a0b7b9ecf",
   "metadata": {
    "slideshow": {
     "slide_type": "-"
    },
    "tags": []
   },
   "source": [
    "### Funções Auxiliares"
   ]
  },
  {
   "cell_type": "code",
   "execution_count": 1,
   "id": "b6f6194e-fd31-438a-9202-02134b5b2e40",
   "metadata": {
    "slideshow": {
     "slide_type": "-"
    }
   },
   "outputs": [],
   "source": [
    "import os, pandas as pd, re\n",
    "from datetime import date\n",
    "\n",
    "def build_path(subfolder = 'clean'):\n",
    "    folderpath = os.path.join(os.getcwd(), os.pardir, \n",
    "                              'project', 'data', subfolder)\n",
    "    folderpath = os.path.abspath(folderpath)\n",
    "    if not os.path.exists(folderpath): \n",
    "        os.makedirs(folderpath)\n",
    "    return folderpath\n",
    "\n",
    "def load_data():\n",
    "    data = {}   \n",
    "    folderpath = build_path()\n",
    "    for filename in os.listdir(folderpath):\n",
    "        if filename.endswith('.json'):\n",
    "            filepath = os.path.join(build_path(), filename)\n",
    "            data[filename.split('.')[0]] = pd.read_json(filepath)\n",
    "    return data\n",
    "\n",
    "def merge_state_vaccine_shot(data):\n",
    "    vacinacao_estados = pd.merge(data['estados_codigos'],\n",
    "                                 data['estados_georreferenciamento'],\n",
    "                                 left_on='id',\n",
    "                                 right_on='codigo_uf',\n",
    "                                 how='inner')\n",
    "\n",
    "    vacinacao_estados = pd.merge(vacinacao_estados,\n",
    "                                 data['estados_vacinacao'],\n",
    "                                 left_on='sigla',\n",
    "                                 right_on='estado_key',\n",
    "                                 how='inner')\n",
    "\n",
    "    vacinacao_estados = vacinacao_estados.drop(columns=['estado_key', 'sigla', 'codigo_uf'])\n",
    "\n",
    "    vacinacao_estados['vacinacao_key'] = \\\n",
    "        pd.to_datetime(vacinacao_estados['vacinacao_key'], unit='ms').dt.date\n",
    "\n",
    "    vacinacao_estados = vacinacao_estados[date(2020, 1, 1) < vacinacao_estados['vacinacao_key']]\n",
    "    vacinacao_estados = vacinacao_estados[vacinacao_estados['vacinacao_key'] < date.today()]\n",
    "    vacinacao_estados = vacinacao_estados.sort_values(by=['vacinacao_key'])\n",
    "    return vacinacao_estados\n",
    "\n",
    "def merge_city_vaccine_shot(data):\n",
    "    vacinacao_municipios = pd.merge(data['municipios_codigos'],\n",
    "                                 data['municipios_georreferenciamento'],\n",
    "                                 left_on='id',\n",
    "                                 right_on='codigo_ibge',\n",
    "                                 how='inner')\n",
    "\n",
    "    vacinacao_municipios['codigo_ibge'] = \\\n",
    "        vacinacao_municipios['codigo_ibge'].astype(str).str[:-1].astype(int)\n",
    "\n",
    "    vacinacao_municipios = pd.merge(vacinacao_municipios,\n",
    "                                    data['municipios_vacinacao'],\n",
    "                                    left_on='codigo_ibge',\n",
    "                                    right_on='municipio_key',\n",
    "                                    how='left')\n",
    "\n",
    "    vacinacao_municipios = vacinacao_municipios.drop(columns=['id', 'municipio_key'])\n",
    "\n",
    "    vacinacao_municipios['vacinacao_key'] = \\\n",
    "        pd.to_datetime(vacinacao_municipios['vacinacao_key'], unit='ms', errors='ignore').dt.date\n",
    "\n",
    "    vacinacao_municipios = vacinacao_municipios[date(2020, 1, 1) < vacinacao_municipios['vacinacao_key']]\n",
    "    vacinacao_municipios = vacinacao_municipios[vacinacao_municipios['vacinacao_key'] < date.today()]\n",
    "    vacinacao_municipios = vacinacao_municipios.sort_values(by=['vacinacao_key'])\n",
    "    return vacinacao_municipios\n",
    "\n",
    "def merge_city_infecction(data):\n",
    "    infeccoes_municipios = pd.merge(data['municipios_codigos'],\n",
    "                                    data['municipios_georreferenciamento'],\n",
    "                                    left_on='id',\n",
    "                                    right_on='codigo_ibge',\n",
    "                                    how='inner')\n",
    "\n",
    "    infeccoes_municipios['codigo_ibge'] = \\\n",
    "        infeccoes_municipios['codigo_ibge'].astype(str).str[:-1].astype(int)\n",
    "\n",
    "    infeccoes_municipios = pd.merge(infeccoes_municipios,\n",
    "                                    data['ALL_HIST_PAINEL_COVID'],\n",
    "                                    left_on='codigo_ibge',\n",
    "                                    right_on='codmun',\n",
    "                                    how='inner')\n",
    "\n",
    "    infeccoes_municipios = infeccoes_municipios.drop(columns=['id', 'codmun'])\n",
    "    infeccoes_municipios = infeccoes_municipios.sort_values(by=['codigo_ibge', 'data'])\n",
    "    infeccoes_municipios = infeccoes_municipios[infeccoes_municipios['obitosNovos'] >= 0]\n",
    "    return infeccoes_municipios\n",
    "\n",
    "def merge_state_infections_characteristics(data):\n",
    "    covid_infections_by_city = \\\n",
    "        data['ALL_HIST_PAINEL_COVID'].groupby('codmun').agg({'casosNovos': 'sum', 'obitosNovos': 'sum'})\n",
    "    covid_infections_by_city['codestado'] = covid_infections_by_city.index.astype('str').str.slice(0,2)\n",
    "    covid_infections_by_city['regiao'] = covid_infections_by_city.index.astype('str').str.slice(0,1)\n",
    "    covid_infections_by_city['regiao'] = covid_infections_by_city['regiao'].map(\n",
    "        {'1': 'Norte', '2': 'Nordeste', '3': 'Sudeste', '4': 'Sul', '5': 'Centro-Oeste'}\n",
    "    )\n",
    "    covid_infections_by_city['codestado'] = covid_infections_by_city['codestado'].astype('int')\n",
    "    covid_infections_by_state = \\\n",
    "        covid_infections_by_city.groupby('codestado').\\\n",
    "            agg({'casosNovos': 'sum', 'obitosNovos': 'sum', 'regiao': 'first'})\n",
    "    \n",
    "    estados_caracteristicas = data['estados_caracteristicas'].pivot(index='state_state', \n",
    "                                                                    columns='characteristics_label', \n",
    "                                                                    values='characteristics_value')\n",
    "    \n",
    "    estados_caracteristicas.index = estados_caracteristicas.index.str.upper()\n",
    "    estados_caracteristicas['População residente'] = \\\n",
    "        estados_caracteristicas['População residente'].\\\n",
    "            map(lambda x: re.sub('\\D', '', x)).astype('int')\n",
    "    estados_caracteristicas['Densidade demográfica'] = \\\n",
    "        estados_caracteristicas['Densidade demográfica'].\\\n",
    "            map(lambda x: x.replace(',', '.').rstrip(' hab/km²')).astype('float')\n",
    "    estados_caracteristicas['IDH'] = \\\n",
    "        estados_caracteristicas['IDHÍndice de desenvolvimento humano'].\\\n",
    "            map(lambda x: x.replace(',', '.')).astype('float')\n",
    "    estados_caracteristicas['Total de veículos'] = \\\n",
    "        estados_caracteristicas['Total de veículos'].\\\n",
    "            map(lambda x: x.replace('.', '').rstrip(' veículos')).astype('int')\n",
    "    estados_caracteristicas['Veículos per capita'] = \\\n",
    "        estados_caracteristicas['Total de veículos']/estados_caracteristicas['População residente']\n",
    "    estados_caracteristicas['Rendimento mensal domiciliar per capita'] = \\\n",
    "        estados_caracteristicas['Rendimento mensal domiciliar per capita'].\\\n",
    "            map(lambda x: x.replace('.', '').rstrip(' R$')).astype('int')\n",
    "  \n",
    "    estados_caracteristicas = pd.merge(estados_caracteristicas,\n",
    "                                       data['estados_codigos'],\n",
    "                                       left_on='state_state',\n",
    "                                       right_on='sigla',\n",
    "                                       how='inner')\n",
    "    \n",
    "    estados_caracteristicas = pd.merge(estados_caracteristicas,\n",
    "                                       covid_infections_by_state,\n",
    "                                       left_on='id',\n",
    "                                       right_on='codestado',\n",
    "                                       how='inner')\n",
    "    \n",
    "    estados_caracteristicas['TaxaLetalidade'] = \\\n",
    "        estados_caracteristicas['obitosNovos']/estados_caracteristicas['casosNovos']\n",
    "    \n",
    "    estados_caracteristicas = \\\n",
    "        estados_caracteristicas[['id', 'nome', 'regiao', 'Densidade demográfica', \n",
    "                                 'IDH', 'Rendimento mensal domiciliar per capita', \\\n",
    "                                 'Veículos per capita', 'TaxaLetalidade']]\n",
    "\n",
    "    return estados_caracteristicas\n",
    "\n",
    "def save_merged_data(df, filename='city_infecction.json'):\n",
    "    filepath = os.path.join(build_path('merge'), filename)\n",
    "    df.to_json(filepath)"
   ]
  },
  {
   "cell_type": "markdown",
   "id": "26771e9f-6a52-4055-b82a-d66ae99afdb8",
   "metadata": {},
   "source": [
    "### Código"
   ]
  },
  {
   "cell_type": "code",
   "execution_count": 2,
   "id": "3de9aca3-eacf-4b1d-96b5-ab20e28bf5ff",
   "metadata": {
    "editable": true,
    "slideshow": {
     "slide_type": "subslide"
    },
    "tags": []
   },
   "outputs": [],
   "source": [
    "data = load_data()\n",
    "\n",
    "state_vaccine_shot_df = merge_state_vaccine_shot(data)\n",
    "city_vaccine_shot_df = merge_city_vaccine_shot(data)\n",
    "city_infecction_df = merge_city_infecction(data)\n",
    "state_infections_characteristics_df = merge_state_infections_characteristics(data)\n",
    "\n",
    "save_merged_data(state_vaccine_shot_df, filename='state_vaccine_shot.json')\n",
    "save_merged_data(city_vaccine_shot_df, filename='city_vaccine_shot.json')\n",
    "save_merged_data(city_infecction_df, filename='city_infecction.json')\n",
    "save_merged_data(state_infections_characteristics_df, \n",
    "                 filename='state_infections_characteristics.json')"
   ]
  }
 ],
 "metadata": {
  "celltoolbar": "Slideshow",
  "kernelspec": {
   "display_name": "Python 3 (ipykernel)",
   "language": "python",
   "name": "python3"
  },
  "language_info": {
   "codemirror_mode": {
    "name": "ipython",
    "version": 3
   },
   "file_extension": ".py",
   "mimetype": "text/x-python",
   "name": "python",
   "nbconvert_exporter": "python",
   "pygments_lexer": "ipython3",
   "version": "3.11.2"
  },
  "toc": {
   "base_numbering": 1,
   "nav_menu": {},
   "number_sections": true,
   "sideBar": true,
   "skip_h1_title": false,
   "title_cell": "Table of Contents",
   "title_sidebar": "Contents",
   "toc_cell": false,
   "toc_position": {},
   "toc_section_display": true,
   "toc_window_display": false
  }
 },
 "nbformat": 4,
 "nbformat_minor": 5
}
