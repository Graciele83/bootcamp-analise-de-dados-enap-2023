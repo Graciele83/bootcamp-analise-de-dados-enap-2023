{
 "cells": [
  {
   "cell_type": "markdown",
   "id": "6f16e426-5640-40ab-9f4c-f2335f441a86",
   "metadata": {
    "slideshow": {
     "slide_type": "slide"
    },
    "tags": []
   },
   "source": [
    "# Juntando as Peças 🧩"
   ]
  },
  {
   "cell_type": "markdown",
   "id": "9f8969be-f36c-4163-9738-2543a392a588",
   "metadata": {
    "slideshow": {
     "slide_type": "-"
    },
    "tags": []
   },
   "source": [
    "## (Fontes de Dados 🚰 ➕ Manipulação 🪡 ➕ Análise de Dados 🕵🏽) <sup>Alto Desempenho 🚀 🧞‍♂️</sup>"
   ]
  },
  {
   "cell_type": "markdown",
   "id": "c70afe77-b798-4a7a-8f1c-b25d3cfbc067",
   "metadata": {
    "slideshow": {
     "slide_type": "-"
    },
    "tags": []
   },
   "source": [
    "### Funções Auxiliares"
   ]
  },
  {
   "cell_type": "code",
   "execution_count": 1,
   "id": "947262fc-a00d-4dd5-9ee5-8aa589c9acab",
   "metadata": {},
   "outputs": [
    {
     "name": "stdout",
     "output_type": "stream",
     "text": [
      "\n",
      "\u001b[1m[\u001b[0m\u001b[34;49mnotice\u001b[0m\u001b[1;39;49m]\u001b[0m\u001b[39;49m A new release of pip available: \u001b[0m\u001b[31;49m22.3.1\u001b[0m\u001b[39;49m -> \u001b[0m\u001b[32;49m23.2.1\u001b[0m\n",
      "\u001b[1m[\u001b[0m\u001b[34;49mnotice\u001b[0m\u001b[1;39;49m]\u001b[0m\u001b[39;49m To update, run: \u001b[0m\u001b[32;49mpython3.11 -m pip install --upgrade pip\u001b[0m\n"
     ]
    }
   ],
   "source": [
    "!pip install --upgrade pandas --quiet"
   ]
  },
  {
   "cell_type": "code",
   "execution_count": 2,
   "id": "52f2b595-aacc-4fbe-87c2-1f01f8f1b056",
   "metadata": {
    "slideshow": {
     "slide_type": "-"
    }
   },
   "outputs": [],
   "source": [
    "import os, json, sqlite3, pandas as pd"
   ]
  },
  {
   "cell_type": "code",
   "execution_count": 3,
   "id": "9ac38b18-c024-416b-a7da-31cde49acb72",
   "metadata": {
    "slideshow": {
     "slide_type": "-"
    }
   },
   "outputs": [],
   "source": [
    "def build_path(subfolder = 'raw'):\n",
    "    folderpath = os.path.join(os.getcwd(), os.pardir, \n",
    "                              'project', 'data', subfolder)\n",
    "    folderpath = os.path.abspath(folderpath)\n",
    "    if not os.path.exists(folderpath):\n",
    "        os.makedirs(folderpath)\n",
    "    return folderpath"
   ]
  },
  {
   "cell_type": "markdown",
   "id": "906fdf2b-d7eb-4ccc-8d24-72ab1f0be01b",
   "metadata": {
    "slideshow": {
     "slide_type": "subslide"
    }
   },
   "source": [
    "#### csv"
   ]
  },
  {
   "cell_type": "code",
   "execution_count": 4,
   "id": "932ae6fc-25ab-4875-8fae-a33621493a82",
   "metadata": {
    "slideshow": {
     "slide_type": "-"
    }
   },
   "outputs": [],
   "source": [
    "def get_estados_georreferenciamento(\n",
    "        filename='estados_georreferenciamento.csv'):\n",
    "    filepath = os.path.join(build_path(), filename)\n",
    "    \n",
    "    return pd.read_csv(filepath)\n",
    "\n",
    "def get_municipios_georreferenciamento(\n",
    "        filename='municipios_georreferenciamento.csv'):\n",
    "    filepath = os.path.join(build_path(), filename)\n",
    "    return pd.read_csv(filepath)\n",
    "\n",
    "def get_covid_infections_and_deaths(\n",
    "        filename='ALL_HIST_PAINEL_COVID.csv'):\n",
    "    filepath = os.path.join(build_path(), filename)\n",
    "    \n",
    "    return pd.read_csv(filepath, sep=';', parse_dates = ['data'],\\\n",
    "                       dtype={'codmun': 'Int64', \\\n",
    "                              'codRegiaoSaude': 'Int64', \\\n",
    "                              'populacaoTCU2019': 'Int64', \\\n",
    "                              'casosAcumulado': 'Int64', \\\n",
    "                              'Recuperadosnovos': 'Int64', \\\n",
    "                              'emAcompanhamentoNovos': 'Int64', \\\n",
    "                              'interior/metropolitana': 'Int64'}, \\\n",
    "                       encoding='utf-8')"
   ]
  },
  {
   "cell_type": "markdown",
   "id": "1ad994c5-ec7b-4791-a276-27b958ee0b3b",
   "metadata": {
    "slideshow": {
     "slide_type": "subslide"
    }
   },
   "source": [
    "#### json"
   ]
  },
  {
   "cell_type": "code",
   "execution_count": 5,
   "id": "aca6caab-00f6-4287-9cb7-a1a971744177",
   "metadata": {
    "slideshow": {
     "slide_type": "subslide"
    }
   },
   "outputs": [],
   "source": [
    "#fail\n",
    "def get_estados_codigos(filename='estados_codigos.json'):\n",
    "    filepath = os.path.join(build_path(), filename)\n",
    "    \n",
    "    return pd.read_json(filepath)\n",
    "\n",
    "#solution\n",
    "def get_estados_codigos(filename='estados_codigos.json'):\n",
    "    filepath = os.path.join(build_path(), filename)\n",
    "    \n",
    "    with open(filepath) as jsonfile:\n",
    "        return pd.json_normalize(json.load(jsonfile))\n",
    "\n",
    "#fail\n",
    "def get_estados_caracteristicas(filename='estados_caracteristicas.json'):\n",
    "    filepath = os.path.join(build_path(), filename)\n",
    "\n",
    "    return pd.read_json(filepath)\n",
    "\n",
    "#solution\n",
    "def get_estados_caracteristicas(filename='estados_caracteristicas.json'):\n",
    "    filepath = os.path.join(build_path(), filename)\n",
    "\n",
    "    with open(filepath) as jsonfile:\n",
    "        return pd.json_normalize(json.load(jsonfile), \\\n",
    "                                 record_path='characteristics', \\\n",
    "                                 record_prefix='characteristics_', \\\n",
    "                                 meta='state',\\\n",
    "                                 meta_prefix='state_')\n",
    "\n",
    "#big fail\n",
    "def get_estados_vacinacao(filename='estados_vacinacao.json'):\n",
    "    filepath = os.path.join(build_path(), filename)\n",
    "\n",
    "    return pd.read_json(filepath)\n",
    "\n",
    "#solution\n",
    "def get_estados_vacinacao(filename='estados_vacinacao.json'):\n",
    "    filepath = os.path.join(build_path(), filename)\n",
    "\n",
    "    with open(filepath) as jsonfile:\n",
    "        df = pd.json_normalize(json.load(jsonfile)['Paciente_Estado']['buckets'], \\\n",
    "                               record_path=['Data_Aplicacao_Vacina', ['buckets']], \\\n",
    "                               meta=['key', 'doc_count'], \\\n",
    "                               record_prefix='vacinacao_', \\\n",
    "                               meta_prefix='estado_').convert_dtypes()\n",
    "        df['vacinacao_key'] = pd.to_datetime(df['vacinacao_key'], unit='ms')\n",
    "        return df\n",
    "\n",
    "#big fail\n",
    "def get_municipios_vacinacao(filename='municipios_vacinacao.json'):\n",
    "    filepath = os.path.join(build_path(), filename)\n",
    "\n",
    "    return pd.read_json(filepath)\n",
    "\n",
    "#solution\n",
    "def get_municipios_vacinacao(filename='municipios_vacinacao.json'):\n",
    "    filepath = os.path.join(build_path(), filename)\n",
    "\n",
    "    with open(filepath) as jsonfile:\n",
    "        df = pd.json_normalize(json.load(jsonfile)['Paciente_Municipio']['buckets'], \\\n",
    "                               record_path=['Data_Aplicacao_Vacina', ['buckets']], \\\n",
    "                               meta=['key', 'doc_count'], \\\n",
    "                               record_prefix='vacinacao_', \\\n",
    "                               meta_prefix='municipio_',).convert_dtypes()\n",
    "        df['vacinacao_key'] = pd.to_datetime(df['vacinacao_key'], unit='ms')\n",
    "        return df"
   ]
  },
  {
   "cell_type": "markdown",
   "id": "700f5138-b811-49fa-ae96-589c54edfd59",
   "metadata": {
    "slideshow": {
     "slide_type": "subslide"
    }
   },
   "source": [
    "#### sqlite"
   ]
  },
  {
   "cell_type": "code",
   "execution_count": 6,
   "id": "74dc53f4-0ccd-4882-b9f2-5a0b649f4834",
   "metadata": {
    "slideshow": {
     "slide_type": "-"
    }
   },
   "outputs": [],
   "source": [
    "def get_municipios_codigos(filename='municipios_codigos.db'):\n",
    "    filepath = os.path.join(build_path(), filename)\n",
    "\n",
    "    conn = sqlite3.connect(filepath)\n",
    "    municipios_codigos = pd.read_sql_query('select * from ibge', conn, index_col='id')\n",
    "\n",
    "    return municipios_codigos"
   ]
  },
  {
   "cell_type": "markdown",
   "id": "9c81fac7-14fb-452e-8d1c-c0d99fa93c60",
   "metadata": {},
   "source": [
    "### Descrição dos Dados 🎲🕵️‍♀️"
   ]
  },
  {
   "cell_type": "markdown",
   "id": "6538679b-3947-4e95-8f7c-9c506ef0b181",
   "metadata": {
    "slideshow": {
     "slide_type": "subslide"
    }
   },
   "source": [
    "#### Dados de Georreferenciamento"
   ]
  },
  {
   "cell_type": "markdown",
   "id": "c8fb4c2a-e4f7-44a4-971a-7e422da808c0",
   "metadata": {
    "slideshow": {
     "slide_type": "-"
    }
   },
   "source": [
    "##### Unidades Federativas"
   ]
  },
  {
   "cell_type": "code",
   "execution_count": 7,
   "id": "ce6af9f7-ee1c-426f-b58d-54ebe550c50f",
   "metadata": {
    "slideshow": {
     "slide_type": "-"
    }
   },
   "outputs": [],
   "source": [
    "estados_georreferenciamento = get_estados_georreferenciamento()"
   ]
  },
  {
   "cell_type": "code",
   "execution_count": 8,
   "id": "e842a260-f6f9-4360-a85c-9ce9431b718d",
   "metadata": {
    "slideshow": {
     "slide_type": "-"
    }
   },
   "outputs": [
    {
     "data": {
      "text/html": [
       "<div>\n",
       "<style scoped>\n",
       "    .dataframe tbody tr th:only-of-type {\n",
       "        vertical-align: middle;\n",
       "    }\n",
       "\n",
       "    .dataframe tbody tr th {\n",
       "        vertical-align: top;\n",
       "    }\n",
       "\n",
       "    .dataframe thead th {\n",
       "        text-align: right;\n",
       "    }\n",
       "</style>\n",
       "<table border=\"1\" class=\"dataframe\">\n",
       "  <thead>\n",
       "    <tr style=\"text-align: right;\">\n",
       "      <th></th>\n",
       "      <th>codigo_uf</th>\n",
       "      <th>uf</th>\n",
       "      <th>nome</th>\n",
       "      <th>latitude</th>\n",
       "      <th>longitude</th>\n",
       "      <th>regiao</th>\n",
       "    </tr>\n",
       "  </thead>\n",
       "  <tbody>\n",
       "    <tr>\n",
       "      <th>0</th>\n",
       "      <td>11</td>\n",
       "      <td>RO</td>\n",
       "      <td>Rondônia</td>\n",
       "      <td>-10.83</td>\n",
       "      <td>-63.34</td>\n",
       "      <td>Norte</td>\n",
       "    </tr>\n",
       "    <tr>\n",
       "      <th>1</th>\n",
       "      <td>12</td>\n",
       "      <td>AC</td>\n",
       "      <td>Acre</td>\n",
       "      <td>-8.77</td>\n",
       "      <td>-70.55</td>\n",
       "      <td>Norte</td>\n",
       "    </tr>\n",
       "    <tr>\n",
       "      <th>2</th>\n",
       "      <td>13</td>\n",
       "      <td>AM</td>\n",
       "      <td>Amazonas</td>\n",
       "      <td>-3.47</td>\n",
       "      <td>-65.10</td>\n",
       "      <td>Norte</td>\n",
       "    </tr>\n",
       "    <tr>\n",
       "      <th>3</th>\n",
       "      <td>14</td>\n",
       "      <td>RR</td>\n",
       "      <td>Roraima</td>\n",
       "      <td>1.99</td>\n",
       "      <td>-61.33</td>\n",
       "      <td>Norte</td>\n",
       "    </tr>\n",
       "    <tr>\n",
       "      <th>4</th>\n",
       "      <td>15</td>\n",
       "      <td>PA</td>\n",
       "      <td>Pará</td>\n",
       "      <td>-3.79</td>\n",
       "      <td>-52.48</td>\n",
       "      <td>Norte</td>\n",
       "    </tr>\n",
       "  </tbody>\n",
       "</table>\n",
       "</div>"
      ],
      "text/plain": [
       "   codigo_uf  uf      nome  latitude  longitude regiao\n",
       "0         11  RO  Rondônia    -10.83     -63.34  Norte\n",
       "1         12  AC      Acre     -8.77     -70.55  Norte\n",
       "2         13  AM  Amazonas     -3.47     -65.10  Norte\n",
       "3         14  RR   Roraima      1.99     -61.33  Norte\n",
       "4         15  PA      Pará     -3.79     -52.48  Norte"
      ]
     },
     "execution_count": 8,
     "metadata": {},
     "output_type": "execute_result"
    }
   ],
   "source": [
    "estados_georreferenciamento.head()"
   ]
  },
  {
   "cell_type": "code",
   "execution_count": 9,
   "id": "f4f21950-565a-4ab7-90eb-93bc8454baae",
   "metadata": {
    "slideshow": {
     "slide_type": "subslide"
    }
   },
   "outputs": [
    {
     "data": {
      "text/plain": [
       "codigo_uf      int64\n",
       "uf            object\n",
       "nome          object\n",
       "latitude     float64\n",
       "longitude    float64\n",
       "regiao        object\n",
       "dtype: object"
      ]
     },
     "execution_count": 9,
     "metadata": {},
     "output_type": "execute_result"
    }
   ],
   "source": [
    "estados_georreferenciamento.dtypes"
   ]
  },
  {
   "cell_type": "code",
   "execution_count": 10,
   "id": "1b1f51e3-0729-4cb6-bd6a-6654eebfcf4b",
   "metadata": {
    "slideshow": {
     "slide_type": "-"
    }
   },
   "outputs": [
    {
     "data": {
      "text/html": [
       "<div>\n",
       "<style scoped>\n",
       "    .dataframe tbody tr th:only-of-type {\n",
       "        vertical-align: middle;\n",
       "    }\n",
       "\n",
       "    .dataframe tbody tr th {\n",
       "        vertical-align: top;\n",
       "    }\n",
       "\n",
       "    .dataframe thead th {\n",
       "        text-align: right;\n",
       "    }\n",
       "</style>\n",
       "<table border=\"1\" class=\"dataframe\">\n",
       "  <thead>\n",
       "    <tr style=\"text-align: right;\">\n",
       "      <th></th>\n",
       "      <th>codigo_uf</th>\n",
       "      <th>latitude</th>\n",
       "      <th>longitude</th>\n",
       "    </tr>\n",
       "  </thead>\n",
       "  <tbody>\n",
       "    <tr>\n",
       "      <th>count</th>\n",
       "      <td>27.000000</td>\n",
       "      <td>27.000000</td>\n",
       "      <td>27.000000</td>\n",
       "    </tr>\n",
       "    <tr>\n",
       "      <th>mean</th>\n",
       "      <td>29.111111</td>\n",
       "      <td>-12.381111</td>\n",
       "      <td>-48.410370</td>\n",
       "    </tr>\n",
       "    <tr>\n",
       "      <th>std</th>\n",
       "      <td>13.024631</td>\n",
       "      <td>8.476122</td>\n",
       "      <td>9.291479</td>\n",
       "    </tr>\n",
       "    <tr>\n",
       "      <th>min</th>\n",
       "      <td>11.000000</td>\n",
       "      <td>-30.170000</td>\n",
       "      <td>-70.550000</td>\n",
       "    </tr>\n",
       "    <tr>\n",
       "      <th>25%</th>\n",
       "      <td>19.000000</td>\n",
       "      <td>-18.645000</td>\n",
       "      <td>-52.990000</td>\n",
       "    </tr>\n",
       "    <tr>\n",
       "      <th>50%</th>\n",
       "      <td>27.000000</td>\n",
       "      <td>-10.570000</td>\n",
       "      <td>-48.260000</td>\n",
       "    </tr>\n",
       "    <tr>\n",
       "      <th>75%</th>\n",
       "      <td>38.000000</td>\n",
       "      <td>-6.205000</td>\n",
       "      <td>-41.025000</td>\n",
       "    </tr>\n",
       "    <tr>\n",
       "      <th>max</th>\n",
       "      <td>53.000000</td>\n",
       "      <td>1.990000</td>\n",
       "      <td>-36.590000</td>\n",
       "    </tr>\n",
       "  </tbody>\n",
       "</table>\n",
       "</div>"
      ],
      "text/plain": [
       "       codigo_uf   latitude  longitude\n",
       "count  27.000000  27.000000  27.000000\n",
       "mean   29.111111 -12.381111 -48.410370\n",
       "std    13.024631   8.476122   9.291479\n",
       "min    11.000000 -30.170000 -70.550000\n",
       "25%    19.000000 -18.645000 -52.990000\n",
       "50%    27.000000 -10.570000 -48.260000\n",
       "75%    38.000000  -6.205000 -41.025000\n",
       "max    53.000000   1.990000 -36.590000"
      ]
     },
     "execution_count": 10,
     "metadata": {},
     "output_type": "execute_result"
    }
   ],
   "source": [
    "estados_georreferenciamento.describe()"
   ]
  },
  {
   "cell_type": "markdown",
   "id": "ef800975-64eb-44f9-bb9d-b6bd52529ed9",
   "metadata": {
    "slideshow": {
     "slide_type": "subslide"
    }
   },
   "source": [
    "##### Municípios"
   ]
  },
  {
   "cell_type": "code",
   "execution_count": 11,
   "id": "1af6f97a-e5ee-41fc-840b-96acae8a7cc0",
   "metadata": {
    "slideshow": {
     "slide_type": "-"
    }
   },
   "outputs": [],
   "source": [
    "municipios_georreferenciamento = get_municipios_georreferenciamento()"
   ]
  },
  {
   "cell_type": "code",
   "execution_count": 12,
   "id": "91213c56-c19d-48e2-a373-2d276feef795",
   "metadata": {
    "slideshow": {
     "slide_type": "-"
    }
   },
   "outputs": [
    {
     "data": {
      "text/html": [
       "<div>\n",
       "<style scoped>\n",
       "    .dataframe tbody tr th:only-of-type {\n",
       "        vertical-align: middle;\n",
       "    }\n",
       "\n",
       "    .dataframe tbody tr th {\n",
       "        vertical-align: top;\n",
       "    }\n",
       "\n",
       "    .dataframe thead th {\n",
       "        text-align: right;\n",
       "    }\n",
       "</style>\n",
       "<table border=\"1\" class=\"dataframe\">\n",
       "  <thead>\n",
       "    <tr style=\"text-align: right;\">\n",
       "      <th></th>\n",
       "      <th>codigo_ibge</th>\n",
       "      <th>nome</th>\n",
       "      <th>latitude</th>\n",
       "      <th>longitude</th>\n",
       "      <th>capital</th>\n",
       "      <th>codigo_uf</th>\n",
       "      <th>siafi_id</th>\n",
       "      <th>ddd</th>\n",
       "      <th>fuso_horario</th>\n",
       "    </tr>\n",
       "  </thead>\n",
       "  <tbody>\n",
       "    <tr>\n",
       "      <th>0</th>\n",
       "      <td>5200050</td>\n",
       "      <td>Abadia de Goiás</td>\n",
       "      <td>-16.75730</td>\n",
       "      <td>-49.4412</td>\n",
       "      <td>0</td>\n",
       "      <td>52</td>\n",
       "      <td>1050</td>\n",
       "      <td>62</td>\n",
       "      <td>America/Sao_Paulo</td>\n",
       "    </tr>\n",
       "    <tr>\n",
       "      <th>1</th>\n",
       "      <td>3100104</td>\n",
       "      <td>Abadia dos Dourados</td>\n",
       "      <td>-18.48310</td>\n",
       "      <td>-47.3916</td>\n",
       "      <td>0</td>\n",
       "      <td>31</td>\n",
       "      <td>4001</td>\n",
       "      <td>34</td>\n",
       "      <td>America/Sao_Paulo</td>\n",
       "    </tr>\n",
       "    <tr>\n",
       "      <th>2</th>\n",
       "      <td>5200100</td>\n",
       "      <td>Abadiânia</td>\n",
       "      <td>-16.19700</td>\n",
       "      <td>-48.7057</td>\n",
       "      <td>0</td>\n",
       "      <td>52</td>\n",
       "      <td>9201</td>\n",
       "      <td>62</td>\n",
       "      <td>America/Sao_Paulo</td>\n",
       "    </tr>\n",
       "    <tr>\n",
       "      <th>3</th>\n",
       "      <td>3100203</td>\n",
       "      <td>Abaeté</td>\n",
       "      <td>-19.15510</td>\n",
       "      <td>-45.4444</td>\n",
       "      <td>0</td>\n",
       "      <td>31</td>\n",
       "      <td>4003</td>\n",
       "      <td>37</td>\n",
       "      <td>America/Sao_Paulo</td>\n",
       "    </tr>\n",
       "    <tr>\n",
       "      <th>4</th>\n",
       "      <td>1500107</td>\n",
       "      <td>Abaetetuba</td>\n",
       "      <td>-1.72183</td>\n",
       "      <td>-48.8788</td>\n",
       "      <td>0</td>\n",
       "      <td>15</td>\n",
       "      <td>401</td>\n",
       "      <td>91</td>\n",
       "      <td>America/Sao_Paulo</td>\n",
       "    </tr>\n",
       "  </tbody>\n",
       "</table>\n",
       "</div>"
      ],
      "text/plain": [
       "   codigo_ibge                 nome  latitude  longitude  capital  codigo_uf  \\\n",
       "0      5200050      Abadia de Goiás -16.75730   -49.4412        0         52   \n",
       "1      3100104  Abadia dos Dourados -18.48310   -47.3916        0         31   \n",
       "2      5200100            Abadiânia -16.19700   -48.7057        0         52   \n",
       "3      3100203               Abaeté -19.15510   -45.4444        0         31   \n",
       "4      1500107           Abaetetuba  -1.72183   -48.8788        0         15   \n",
       "\n",
       "   siafi_id  ddd       fuso_horario  \n",
       "0      1050   62  America/Sao_Paulo  \n",
       "1      4001   34  America/Sao_Paulo  \n",
       "2      9201   62  America/Sao_Paulo  \n",
       "3      4003   37  America/Sao_Paulo  \n",
       "4       401   91  America/Sao_Paulo  "
      ]
     },
     "execution_count": 12,
     "metadata": {},
     "output_type": "execute_result"
    }
   ],
   "source": [
    "municipios_georreferenciamento.head()"
   ]
  },
  {
   "cell_type": "code",
   "execution_count": 13,
   "id": "f0c24aef-1e4c-4753-a8b3-8a0c8c250c2e",
   "metadata": {
    "slideshow": {
     "slide_type": "subslide"
    }
   },
   "outputs": [
    {
     "data": {
      "text/plain": [
       "codigo_ibge       int64\n",
       "nome             object\n",
       "latitude        float64\n",
       "longitude       float64\n",
       "capital           int64\n",
       "codigo_uf         int64\n",
       "siafi_id          int64\n",
       "ddd               int64\n",
       "fuso_horario     object\n",
       "dtype: object"
      ]
     },
     "execution_count": 13,
     "metadata": {},
     "output_type": "execute_result"
    }
   ],
   "source": [
    "municipios_georreferenciamento.dtypes"
   ]
  },
  {
   "cell_type": "code",
   "execution_count": 14,
   "id": "7dfb2dcc-0616-4c0c-943b-2d065771d794",
   "metadata": {
    "slideshow": {
     "slide_type": "-"
    }
   },
   "outputs": [
    {
     "data": {
      "text/html": [
       "<div>\n",
       "<style scoped>\n",
       "    .dataframe tbody tr th:only-of-type {\n",
       "        vertical-align: middle;\n",
       "    }\n",
       "\n",
       "    .dataframe tbody tr th {\n",
       "        vertical-align: top;\n",
       "    }\n",
       "\n",
       "    .dataframe thead th {\n",
       "        text-align: right;\n",
       "    }\n",
       "</style>\n",
       "<table border=\"1\" class=\"dataframe\">\n",
       "  <thead>\n",
       "    <tr style=\"text-align: right;\">\n",
       "      <th></th>\n",
       "      <th>codigo_ibge</th>\n",
       "      <th>latitude</th>\n",
       "      <th>longitude</th>\n",
       "      <th>capital</th>\n",
       "      <th>codigo_uf</th>\n",
       "      <th>siafi_id</th>\n",
       "      <th>ddd</th>\n",
       "    </tr>\n",
       "  </thead>\n",
       "  <tbody>\n",
       "    <tr>\n",
       "      <th>count</th>\n",
       "      <td>5.570000e+03</td>\n",
       "      <td>5570.000000</td>\n",
       "      <td>5570.000000</td>\n",
       "      <td>5570.000000</td>\n",
       "      <td>5570.000000</td>\n",
       "      <td>5570.000000</td>\n",
       "      <td>5570.000000</td>\n",
       "    </tr>\n",
       "    <tr>\n",
       "      <th>mean</th>\n",
       "      <td>3.253591e+06</td>\n",
       "      <td>-16.449101</td>\n",
       "      <td>-46.231012</td>\n",
       "      <td>0.004847</td>\n",
       "      <td>32.377738</td>\n",
       "      <td>4519.878276</td>\n",
       "      <td>57.099461</td>\n",
       "    </tr>\n",
       "    <tr>\n",
       "      <th>std</th>\n",
       "      <td>9.849103e+05</td>\n",
       "      <td>8.287274</td>\n",
       "      <td>6.408578</td>\n",
       "      <td>0.069461</td>\n",
       "      <td>9.833862</td>\n",
       "      <td>3050.156056</td>\n",
       "      <td>25.422750</td>\n",
       "    </tr>\n",
       "    <tr>\n",
       "      <th>min</th>\n",
       "      <td>1.100015e+06</td>\n",
       "      <td>-33.686600</td>\n",
       "      <td>-72.899700</td>\n",
       "      <td>0.000000</td>\n",
       "      <td>11.000000</td>\n",
       "      <td>1.000000</td>\n",
       "      <td>11.000000</td>\n",
       "    </tr>\n",
       "    <tr>\n",
       "      <th>25%</th>\n",
       "      <td>2.512126e+06</td>\n",
       "      <td>-22.843875</td>\n",
       "      <td>-50.878525</td>\n",
       "      <td>0.000000</td>\n",
       "      <td>25.000000</td>\n",
       "      <td>1595.500000</td>\n",
       "      <td>35.000000</td>\n",
       "    </tr>\n",
       "    <tr>\n",
       "      <th>50%</th>\n",
       "      <td>3.146280e+06</td>\n",
       "      <td>-18.094300</td>\n",
       "      <td>-46.523200</td>\n",
       "      <td>0.000000</td>\n",
       "      <td>31.000000</td>\n",
       "      <td>4382.000000</td>\n",
       "      <td>55.000000</td>\n",
       "    </tr>\n",
       "    <tr>\n",
       "      <th>75%</th>\n",
       "      <td>4.119190e+06</td>\n",
       "      <td>-8.496445</td>\n",
       "      <td>-41.410775</td>\n",
       "      <td>0.000000</td>\n",
       "      <td>41.000000</td>\n",
       "      <td>7180.500000</td>\n",
       "      <td>82.000000</td>\n",
       "    </tr>\n",
       "    <tr>\n",
       "      <th>max</th>\n",
       "      <td>5.300108e+06</td>\n",
       "      <td>4.603140</td>\n",
       "      <td>-32.410700</td>\n",
       "      <td>1.000000</td>\n",
       "      <td>53.000000</td>\n",
       "      <td>9997.000000</td>\n",
       "      <td>99.000000</td>\n",
       "    </tr>\n",
       "  </tbody>\n",
       "</table>\n",
       "</div>"
      ],
      "text/plain": [
       "        codigo_ibge     latitude    longitude      capital    codigo_uf  \\\n",
       "count  5.570000e+03  5570.000000  5570.000000  5570.000000  5570.000000   \n",
       "mean   3.253591e+06   -16.449101   -46.231012     0.004847    32.377738   \n",
       "std    9.849103e+05     8.287274     6.408578     0.069461     9.833862   \n",
       "min    1.100015e+06   -33.686600   -72.899700     0.000000    11.000000   \n",
       "25%    2.512126e+06   -22.843875   -50.878525     0.000000    25.000000   \n",
       "50%    3.146280e+06   -18.094300   -46.523200     0.000000    31.000000   \n",
       "75%    4.119190e+06    -8.496445   -41.410775     0.000000    41.000000   \n",
       "max    5.300108e+06     4.603140   -32.410700     1.000000    53.000000   \n",
       "\n",
       "          siafi_id          ddd  \n",
       "count  5570.000000  5570.000000  \n",
       "mean   4519.878276    57.099461  \n",
       "std    3050.156056    25.422750  \n",
       "min       1.000000    11.000000  \n",
       "25%    1595.500000    35.000000  \n",
       "50%    4382.000000    55.000000  \n",
       "75%    7180.500000    82.000000  \n",
       "max    9997.000000    99.000000  "
      ]
     },
     "execution_count": 14,
     "metadata": {},
     "output_type": "execute_result"
    }
   ],
   "source": [
    "municipios_georreferenciamento.describe()"
   ]
  },
  {
   "cell_type": "markdown",
   "id": "fc055bc2-e0d8-4b6a-97dd-78f0fb9887d6",
   "metadata": {
    "slideshow": {
     "slide_type": "subslide"
    }
   },
   "source": [
    "#### Dados de Casos e Óbitos por Covid-19 no Brasil"
   ]
  },
  {
   "cell_type": "code",
   "execution_count": 15,
   "id": "3ac40a04-8866-4f57-b672-d7dc470bea10",
   "metadata": {
    "slideshow": {
     "slide_type": "-"
    }
   },
   "outputs": [],
   "source": [
    "covid_infections_and_deaths = get_covid_infections_and_deaths()"
   ]
  },
  {
   "cell_type": "code",
   "execution_count": 16,
   "id": "27eda10c-9df4-46d9-b94d-ec62663b6152",
   "metadata": {
    "slideshow": {
     "slide_type": "-"
    }
   },
   "outputs": [
    {
     "data": {
      "text/html": [
       "<div>\n",
       "<style scoped>\n",
       "    .dataframe tbody tr th:only-of-type {\n",
       "        vertical-align: middle;\n",
       "    }\n",
       "\n",
       "    .dataframe tbody tr th {\n",
       "        vertical-align: top;\n",
       "    }\n",
       "\n",
       "    .dataframe thead th {\n",
       "        text-align: right;\n",
       "    }\n",
       "</style>\n",
       "<table border=\"1\" class=\"dataframe\">\n",
       "  <thead>\n",
       "    <tr style=\"text-align: right;\">\n",
       "      <th></th>\n",
       "      <th>regiao</th>\n",
       "      <th>estado</th>\n",
       "      <th>municipio</th>\n",
       "      <th>coduf</th>\n",
       "      <th>codmun</th>\n",
       "      <th>codRegiaoSaude</th>\n",
       "      <th>nomeRegiaoSaude</th>\n",
       "      <th>data</th>\n",
       "      <th>semanaEpi</th>\n",
       "      <th>populacaoTCU2019</th>\n",
       "      <th>casosAcumulado</th>\n",
       "      <th>casosNovos</th>\n",
       "      <th>obitosAcumulado</th>\n",
       "      <th>obitosNovos</th>\n",
       "      <th>Recuperadosnovos</th>\n",
       "      <th>emAcompanhamentoNovos</th>\n",
       "      <th>interior/metropolitana</th>\n",
       "    </tr>\n",
       "  </thead>\n",
       "  <tbody>\n",
       "    <tr>\n",
       "      <th>0</th>\n",
       "      <td>Brasil</td>\n",
       "      <td>NaN</td>\n",
       "      <td>NaN</td>\n",
       "      <td>76</td>\n",
       "      <td>&lt;NA&gt;</td>\n",
       "      <td>&lt;NA&gt;</td>\n",
       "      <td>NaN</td>\n",
       "      <td>2020-08-01</td>\n",
       "      <td>31</td>\n",
       "      <td>210147125</td>\n",
       "      <td>2707877</td>\n",
       "      <td>45392</td>\n",
       "      <td>93563</td>\n",
       "      <td>1088</td>\n",
       "      <td>1865729</td>\n",
       "      <td>748585</td>\n",
       "      <td>&lt;NA&gt;</td>\n",
       "    </tr>\n",
       "    <tr>\n",
       "      <th>1</th>\n",
       "      <td>Brasil</td>\n",
       "      <td>NaN</td>\n",
       "      <td>NaN</td>\n",
       "      <td>76</td>\n",
       "      <td>&lt;NA&gt;</td>\n",
       "      <td>&lt;NA&gt;</td>\n",
       "      <td>NaN</td>\n",
       "      <td>2020-08-02</td>\n",
       "      <td>32</td>\n",
       "      <td>210147125</td>\n",
       "      <td>2733677</td>\n",
       "      <td>25800</td>\n",
       "      <td>94104</td>\n",
       "      <td>541</td>\n",
       "      <td>1883677</td>\n",
       "      <td>755896</td>\n",
       "      <td>&lt;NA&gt;</td>\n",
       "    </tr>\n",
       "    <tr>\n",
       "      <th>2</th>\n",
       "      <td>Brasil</td>\n",
       "      <td>NaN</td>\n",
       "      <td>NaN</td>\n",
       "      <td>76</td>\n",
       "      <td>&lt;NA&gt;</td>\n",
       "      <td>&lt;NA&gt;</td>\n",
       "      <td>NaN</td>\n",
       "      <td>2020-08-03</td>\n",
       "      <td>32</td>\n",
       "      <td>210147125</td>\n",
       "      <td>2750318</td>\n",
       "      <td>16641</td>\n",
       "      <td>94665</td>\n",
       "      <td>561</td>\n",
       "      <td>1912319</td>\n",
       "      <td>743334</td>\n",
       "      <td>&lt;NA&gt;</td>\n",
       "    </tr>\n",
       "    <tr>\n",
       "      <th>3</th>\n",
       "      <td>Brasil</td>\n",
       "      <td>NaN</td>\n",
       "      <td>NaN</td>\n",
       "      <td>76</td>\n",
       "      <td>&lt;NA&gt;</td>\n",
       "      <td>&lt;NA&gt;</td>\n",
       "      <td>NaN</td>\n",
       "      <td>2020-08-04</td>\n",
       "      <td>32</td>\n",
       "      <td>210147125</td>\n",
       "      <td>2801921</td>\n",
       "      <td>51603</td>\n",
       "      <td>95819</td>\n",
       "      <td>1154</td>\n",
       "      <td>1970767</td>\n",
       "      <td>735335</td>\n",
       "      <td>&lt;NA&gt;</td>\n",
       "    </tr>\n",
       "    <tr>\n",
       "      <th>4</th>\n",
       "      <td>Brasil</td>\n",
       "      <td>NaN</td>\n",
       "      <td>NaN</td>\n",
       "      <td>76</td>\n",
       "      <td>&lt;NA&gt;</td>\n",
       "      <td>&lt;NA&gt;</td>\n",
       "      <td>NaN</td>\n",
       "      <td>2020-08-05</td>\n",
       "      <td>32</td>\n",
       "      <td>210147125</td>\n",
       "      <td>2857597</td>\n",
       "      <td>55676</td>\n",
       "      <td>97240</td>\n",
       "      <td>1421</td>\n",
       "      <td>2020637</td>\n",
       "      <td>741180</td>\n",
       "      <td>&lt;NA&gt;</td>\n",
       "    </tr>\n",
       "  </tbody>\n",
       "</table>\n",
       "</div>"
      ],
      "text/plain": [
       "   regiao estado municipio  coduf  codmun  codRegiaoSaude nomeRegiaoSaude  \\\n",
       "0  Brasil    NaN       NaN     76    <NA>            <NA>             NaN   \n",
       "1  Brasil    NaN       NaN     76    <NA>            <NA>             NaN   \n",
       "2  Brasil    NaN       NaN     76    <NA>            <NA>             NaN   \n",
       "3  Brasil    NaN       NaN     76    <NA>            <NA>             NaN   \n",
       "4  Brasil    NaN       NaN     76    <NA>            <NA>             NaN   \n",
       "\n",
       "        data  semanaEpi  populacaoTCU2019  casosAcumulado  casosNovos  \\\n",
       "0 2020-08-01         31         210147125         2707877       45392   \n",
       "1 2020-08-02         32         210147125         2733677       25800   \n",
       "2 2020-08-03         32         210147125         2750318       16641   \n",
       "3 2020-08-04         32         210147125         2801921       51603   \n",
       "4 2020-08-05         32         210147125         2857597       55676   \n",
       "\n",
       "   obitosAcumulado  obitosNovos  Recuperadosnovos  emAcompanhamentoNovos  \\\n",
       "0            93563         1088           1865729                 748585   \n",
       "1            94104          541           1883677                 755896   \n",
       "2            94665          561           1912319                 743334   \n",
       "3            95819         1154           1970767                 735335   \n",
       "4            97240         1421           2020637                 741180   \n",
       "\n",
       "   interior/metropolitana  \n",
       "0                    <NA>  \n",
       "1                    <NA>  \n",
       "2                    <NA>  \n",
       "3                    <NA>  \n",
       "4                    <NA>  "
      ]
     },
     "execution_count": 16,
     "metadata": {},
     "output_type": "execute_result"
    }
   ],
   "source": [
    "covid_infections_and_deaths.head()"
   ]
  },
  {
   "cell_type": "code",
   "execution_count": 17,
   "id": "5d43ac45-42e6-45a8-973f-3cb78d07f9d6",
   "metadata": {
    "slideshow": {
     "slide_type": "subslide"
    }
   },
   "outputs": [
    {
     "data": {
      "text/plain": [
       "regiao                            object\n",
       "estado                            object\n",
       "municipio                         object\n",
       "coduf                              int64\n",
       "codmun                             Int64\n",
       "codRegiaoSaude                     Int64\n",
       "nomeRegiaoSaude                   object\n",
       "data                      datetime64[ns]\n",
       "semanaEpi                          int64\n",
       "populacaoTCU2019                   Int64\n",
       "casosAcumulado                     Int64\n",
       "casosNovos                         int64\n",
       "obitosAcumulado                    int64\n",
       "obitosNovos                        int64\n",
       "Recuperadosnovos                   Int64\n",
       "emAcompanhamentoNovos              Int64\n",
       "interior/metropolitana             Int64\n",
       "dtype: object"
      ]
     },
     "execution_count": 17,
     "metadata": {},
     "output_type": "execute_result"
    }
   ],
   "source": [
    "covid_infections_and_deaths.dtypes"
   ]
  },
  {
   "cell_type": "code",
   "execution_count": 18,
   "id": "e4187ba1-168c-4b6d-91a2-03c6956cb2dc",
   "metadata": {
    "slideshow": {
     "slide_type": "subslide"
    }
   },
   "outputs": [
    {
     "data": {
      "text/html": [
       "<div>\n",
       "<style scoped>\n",
       "    .dataframe tbody tr th:only-of-type {\n",
       "        vertical-align: middle;\n",
       "    }\n",
       "\n",
       "    .dataframe tbody tr th {\n",
       "        vertical-align: top;\n",
       "    }\n",
       "\n",
       "    .dataframe thead th {\n",
       "        text-align: right;\n",
       "    }\n",
       "</style>\n",
       "<table border=\"1\" class=\"dataframe\">\n",
       "  <thead>\n",
       "    <tr style=\"text-align: right;\">\n",
       "      <th></th>\n",
       "      <th>coduf</th>\n",
       "      <th>codmun</th>\n",
       "      <th>codRegiaoSaude</th>\n",
       "      <th>data</th>\n",
       "      <th>semanaEpi</th>\n",
       "      <th>populacaoTCU2019</th>\n",
       "      <th>casosAcumulado</th>\n",
       "      <th>casosNovos</th>\n",
       "      <th>obitosAcumulado</th>\n",
       "      <th>obitosNovos</th>\n",
       "      <th>Recuperadosnovos</th>\n",
       "      <th>emAcompanhamentoNovos</th>\n",
       "      <th>interior/metropolitana</th>\n",
       "    </tr>\n",
       "  </thead>\n",
       "  <tbody>\n",
       "    <tr>\n",
       "      <th>count</th>\n",
       "      <td>7.271854e+06</td>\n",
       "      <td>7234754.0</td>\n",
       "      <td>7207580.0</td>\n",
       "      <td>7271854</td>\n",
       "      <td>7.271854e+06</td>\n",
       "      <td>7244680.0</td>\n",
       "      <td>7271854.0</td>\n",
       "      <td>7.271854e+06</td>\n",
       "      <td>7.271854e+06</td>\n",
       "      <td>7.271854e+06</td>\n",
       "      <td>1324.0</td>\n",
       "      <td>1324.0</td>\n",
       "      <td>7207580.0</td>\n",
       "    </tr>\n",
       "    <tr>\n",
       "      <th>mean</th>\n",
       "      <td>3.236020e+01</td>\n",
       "      <td>325258.01413</td>\n",
       "      <td>32403.123698</td>\n",
       "      <td>2022-01-02 10:06:07.585595392</td>\n",
       "      <td>2.673846e+01</td>\n",
       "      <td>114403.984855</td>\n",
       "      <td>12088.290272</td>\n",
       "      <td>1.561497e+01</td>\n",
       "      <td>2.640036e+02</td>\n",
       "      <td>2.913186e-01</td>\n",
       "      <td>21099156.385952</td>\n",
       "      <td>512267.851964</td>\n",
       "      <td>0.0693</td>\n",
       "    </tr>\n",
       "    <tr>\n",
       "      <th>min</th>\n",
       "      <td>1.100000e+01</td>\n",
       "      <td>110000.0</td>\n",
       "      <td>11001.0</td>\n",
       "      <td>2020-02-25 00:00:00</td>\n",
       "      <td>1.000000e+00</td>\n",
       "      <td>781.0</td>\n",
       "      <td>0.0</td>\n",
       "      <td>-3.368370e+05</td>\n",
       "      <td>0.000000e+00</td>\n",
       "      <td>-9.114000e+03</td>\n",
       "      <td>0.0</td>\n",
       "      <td>-6206.0</td>\n",
       "      <td>0.0</td>\n",
       "    </tr>\n",
       "    <tr>\n",
       "      <th>25%</th>\n",
       "      <td>2.500000e+01</td>\n",
       "      <td>251200.0</td>\n",
       "      <td>25010.0</td>\n",
       "      <td>2021-02-13 00:00:00</td>\n",
       "      <td>1.500000e+01</td>\n",
       "      <td>5474.0</td>\n",
       "      <td>286.0</td>\n",
       "      <td>0.000000e+00</td>\n",
       "      <td>5.000000e+00</td>\n",
       "      <td>0.000000e+00</td>\n",
       "      <td>7502146.25</td>\n",
       "      <td>121936.25</td>\n",
       "      <td>0.0</td>\n",
       "    </tr>\n",
       "    <tr>\n",
       "      <th>50%</th>\n",
       "      <td>3.100000e+01</td>\n",
       "      <td>314610.0</td>\n",
       "      <td>31059.0</td>\n",
       "      <td>2022-01-02 00:00:00</td>\n",
       "      <td>2.700000e+01</td>\n",
       "      <td>11695.0</td>\n",
       "      <td>884.0</td>\n",
       "      <td>0.000000e+00</td>\n",
       "      <td>1.500000e+01</td>\n",
       "      <td>0.000000e+00</td>\n",
       "      <td>21473002.0</td>\n",
       "      <td>395619.5</td>\n",
       "      <td>0.0</td>\n",
       "    </tr>\n",
       "    <tr>\n",
       "      <th>75%</th>\n",
       "      <td>4.100000e+01</td>\n",
       "      <td>411915.0</td>\n",
       "      <td>41015.0</td>\n",
       "      <td>2022-11-22 00:00:00</td>\n",
       "      <td>3.800000e+01</td>\n",
       "      <td>25765.0</td>\n",
       "      <td>2443.0</td>\n",
       "      <td>1.000000e+00</td>\n",
       "      <td>4.200000e+01</td>\n",
       "      <td>0.000000e+00</td>\n",
       "      <td>34126544.75</td>\n",
       "      <td>738947.25</td>\n",
       "      <td>0.0</td>\n",
       "    </tr>\n",
       "    <tr>\n",
       "      <th>max</th>\n",
       "      <td>7.600000e+01</td>\n",
       "      <td>530010.0</td>\n",
       "      <td>53001.0</td>\n",
       "      <td>2023-10-11 00:00:00</td>\n",
       "      <td>5.300000e+01</td>\n",
       "      <td>210147125.0</td>\n",
       "      <td>37849919.0</td>\n",
       "      <td>3.369590e+05</td>\n",
       "      <td>7.061420e+05</td>\n",
       "      <td>9.115000e+03</td>\n",
       "      <td>37104058.0</td>\n",
       "      <td>11232608.0</td>\n",
       "      <td>1.0</td>\n",
       "    </tr>\n",
       "    <tr>\n",
       "      <th>std</th>\n",
       "      <td>9.874132e+00</td>\n",
       "      <td>98535.03101</td>\n",
       "      <td>9836.341989</td>\n",
       "      <td>NaN</td>\n",
       "      <td>1.427105e+01</td>\n",
       "      <td>2969868.733786</td>\n",
       "      <td>363200.396715</td>\n",
       "      <td>7.216812e+02</td>\n",
       "      <td>7.759715e+03</td>\n",
       "      <td>1.668868e+01</td>\n",
       "      <td>13325444.310171</td>\n",
       "      <td>584092.153503</td>\n",
       "      <td>0.253963</td>\n",
       "    </tr>\n",
       "  </tbody>\n",
       "</table>\n",
       "</div>"
      ],
      "text/plain": [
       "              coduf        codmun  codRegiaoSaude  \\\n",
       "count  7.271854e+06     7234754.0       7207580.0   \n",
       "mean   3.236020e+01  325258.01413    32403.123698   \n",
       "min    1.100000e+01      110000.0         11001.0   \n",
       "25%    2.500000e+01      251200.0         25010.0   \n",
       "50%    3.100000e+01      314610.0         31059.0   \n",
       "75%    4.100000e+01      411915.0         41015.0   \n",
       "max    7.600000e+01      530010.0         53001.0   \n",
       "std    9.874132e+00   98535.03101     9836.341989   \n",
       "\n",
       "                                data     semanaEpi  populacaoTCU2019  \\\n",
       "count                        7271854  7.271854e+06         7244680.0   \n",
       "mean   2022-01-02 10:06:07.585595392  2.673846e+01     114403.984855   \n",
       "min              2020-02-25 00:00:00  1.000000e+00             781.0   \n",
       "25%              2021-02-13 00:00:00  1.500000e+01            5474.0   \n",
       "50%              2022-01-02 00:00:00  2.700000e+01           11695.0   \n",
       "75%              2022-11-22 00:00:00  3.800000e+01           25765.0   \n",
       "max              2023-10-11 00:00:00  5.300000e+01       210147125.0   \n",
       "std                              NaN  1.427105e+01    2969868.733786   \n",
       "\n",
       "       casosAcumulado    casosNovos  obitosAcumulado   obitosNovos  \\\n",
       "count       7271854.0  7.271854e+06     7.271854e+06  7.271854e+06   \n",
       "mean     12088.290272  1.561497e+01     2.640036e+02  2.913186e-01   \n",
       "min               0.0 -3.368370e+05     0.000000e+00 -9.114000e+03   \n",
       "25%             286.0  0.000000e+00     5.000000e+00  0.000000e+00   \n",
       "50%             884.0  0.000000e+00     1.500000e+01  0.000000e+00   \n",
       "75%            2443.0  1.000000e+00     4.200000e+01  0.000000e+00   \n",
       "max        37849919.0  3.369590e+05     7.061420e+05  9.115000e+03   \n",
       "std     363200.396715  7.216812e+02     7.759715e+03  1.668868e+01   \n",
       "\n",
       "       Recuperadosnovos  emAcompanhamentoNovos  interior/metropolitana  \n",
       "count            1324.0                 1324.0               7207580.0  \n",
       "mean    21099156.385952          512267.851964                  0.0693  \n",
       "min                 0.0                -6206.0                     0.0  \n",
       "25%          7502146.25              121936.25                     0.0  \n",
       "50%          21473002.0               395619.5                     0.0  \n",
       "75%         34126544.75              738947.25                     0.0  \n",
       "max          37104058.0             11232608.0                     1.0  \n",
       "std     13325444.310171          584092.153503                0.253963  "
      ]
     },
     "execution_count": 18,
     "metadata": {},
     "output_type": "execute_result"
    }
   ],
   "source": [
    "covid_infections_and_deaths.describe()"
   ]
  },
  {
   "cell_type": "markdown",
   "id": "cc22c316-457e-4dfd-a12c-e9d11931890b",
   "metadata": {
    "slideshow": {
     "slide_type": "subslide"
    }
   },
   "source": [
    "##### Características das Unidades da Federação"
   ]
  },
  {
   "cell_type": "code",
   "execution_count": 19,
   "id": "09592071-5ee5-4294-9d55-4bf664457eda",
   "metadata": {
    "slideshow": {
     "slide_type": "-"
    }
   },
   "outputs": [],
   "source": [
    "estados_caracteristicas = get_estados_caracteristicas()"
   ]
  },
  {
   "cell_type": "code",
   "execution_count": 20,
   "id": "791275ff-2319-4ca6-8773-6d6ee5da3bfd",
   "metadata": {
    "slideshow": {
     "slide_type": "-"
    }
   },
   "outputs": [
    {
     "data": {
      "text/html": [
       "<div>\n",
       "<style scoped>\n",
       "    .dataframe tbody tr th:only-of-type {\n",
       "        vertical-align: middle;\n",
       "    }\n",
       "\n",
       "    .dataframe tbody tr th {\n",
       "        vertical-align: top;\n",
       "    }\n",
       "\n",
       "    .dataframe thead th {\n",
       "        text-align: right;\n",
       "    }\n",
       "</style>\n",
       "<table border=\"1\" class=\"dataframe\">\n",
       "  <thead>\n",
       "    <tr style=\"text-align: right;\">\n",
       "      <th></th>\n",
       "      <th>characteristics_label</th>\n",
       "      <th>characteristics_value</th>\n",
       "      <th>characteristics_measure</th>\n",
       "      <th>state_state</th>\n",
       "    </tr>\n",
       "  </thead>\n",
       "  <tbody>\n",
       "    <tr>\n",
       "      <th>0</th>\n",
       "      <td>Governador</td>\n",
       "      <td>MARCOS JOSÉ ROCHA DOS SANTOS</td>\n",
       "      <td></td>\n",
       "      <td>ro</td>\n",
       "    </tr>\n",
       "    <tr>\n",
       "      <th>1</th>\n",
       "      <td>Capital</td>\n",
       "      <td>Porto Velho</td>\n",
       "      <td></td>\n",
       "      <td>ro</td>\n",
       "    </tr>\n",
       "    <tr>\n",
       "      <th>2</th>\n",
       "      <td>Gentílico</td>\n",
       "      <td>rondoniense ou rondoniano</td>\n",
       "      <td></td>\n",
       "      <td>ro</td>\n",
       "    </tr>\n",
       "    <tr>\n",
       "      <th>3</th>\n",
       "      <td>Área Territorial</td>\n",
       "      <td>237.754,172</td>\n",
       "      <td>km²</td>\n",
       "      <td>ro</td>\n",
       "    </tr>\n",
       "    <tr>\n",
       "      <th>4</th>\n",
       "      <td>População residente</td>\n",
       "      <td>1.581.016</td>\n",
       "      <td>pessoas</td>\n",
       "      <td>ro</td>\n",
       "    </tr>\n",
       "  </tbody>\n",
       "</table>\n",
       "</div>"
      ],
      "text/plain": [
       "  characteristics_label         characteristics_value characteristics_measure  \\\n",
       "0            Governador  MARCOS JOSÉ ROCHA DOS SANTOS                           \n",
       "1               Capital                   Porto Velho                           \n",
       "2             Gentílico     rondoniense ou rondoniano                           \n",
       "3      Área Territorial                   237.754,172                     km²   \n",
       "4   População residente                     1.581.016                 pessoas   \n",
       "\n",
       "  state_state  \n",
       "0          ro  \n",
       "1          ro  \n",
       "2          ro  \n",
       "3          ro  \n",
       "4          ro  "
      ]
     },
     "execution_count": 20,
     "metadata": {},
     "output_type": "execute_result"
    }
   ],
   "source": [
    "estados_caracteristicas.head()"
   ]
  },
  {
   "cell_type": "code",
   "execution_count": 21,
   "id": "e2609089-df56-47c5-827d-29b1c3378292",
   "metadata": {
    "slideshow": {
     "slide_type": "subslide"
    }
   },
   "outputs": [
    {
     "data": {
      "text/plain": [
       "characteristics_label      object\n",
       "characteristics_value      object\n",
       "characteristics_measure    object\n",
       "state_state                object\n",
       "dtype: object"
      ]
     },
     "execution_count": 21,
     "metadata": {},
     "output_type": "execute_result"
    }
   ],
   "source": [
    "estados_caracteristicas.dtypes"
   ]
  },
  {
   "cell_type": "code",
   "execution_count": 22,
   "id": "b7fd7915-ff30-4b9a-ad0d-d861029204fb",
   "metadata": {
    "slideshow": {
     "slide_type": "-"
    }
   },
   "outputs": [
    {
     "data": {
      "text/html": [
       "<div>\n",
       "<style scoped>\n",
       "    .dataframe tbody tr th:only-of-type {\n",
       "        vertical-align: middle;\n",
       "    }\n",
       "\n",
       "    .dataframe tbody tr th {\n",
       "        vertical-align: top;\n",
       "    }\n",
       "\n",
       "    .dataframe thead th {\n",
       "        text-align: right;\n",
       "    }\n",
       "</style>\n",
       "<table border=\"1\" class=\"dataframe\">\n",
       "  <thead>\n",
       "    <tr style=\"text-align: right;\">\n",
       "      <th></th>\n",
       "      <th>characteristics_label</th>\n",
       "      <th>characteristics_value</th>\n",
       "      <th>characteristics_measure</th>\n",
       "      <th>state_state</th>\n",
       "    </tr>\n",
       "  </thead>\n",
       "  <tbody>\n",
       "    <tr>\n",
       "      <th>count</th>\n",
       "      <td>324</td>\n",
       "      <td>324</td>\n",
       "      <td>324</td>\n",
       "      <td>324</td>\n",
       "    </tr>\n",
       "    <tr>\n",
       "      <th>unique</th>\n",
       "      <td>12</td>\n",
       "      <td>320</td>\n",
       "      <td>8</td>\n",
       "      <td>27</td>\n",
       "    </tr>\n",
       "    <tr>\n",
       "      <th>top</th>\n",
       "      <td>Governador</td>\n",
       "      <td>1.010</td>\n",
       "      <td></td>\n",
       "      <td>ro</td>\n",
       "    </tr>\n",
       "    <tr>\n",
       "      <th>freq</th>\n",
       "      <td>27</td>\n",
       "      <td>2</td>\n",
       "      <td>108</td>\n",
       "      <td>12</td>\n",
       "    </tr>\n",
       "  </tbody>\n",
       "</table>\n",
       "</div>"
      ],
      "text/plain": [
       "       characteristics_label characteristics_value characteristics_measure  \\\n",
       "count                    324                   324                     324   \n",
       "unique                    12                   320                       8   \n",
       "top               Governador                 1.010                           \n",
       "freq                      27                     2                     108   \n",
       "\n",
       "       state_state  \n",
       "count          324  \n",
       "unique          27  \n",
       "top             ro  \n",
       "freq            12  "
      ]
     },
     "execution_count": 22,
     "metadata": {},
     "output_type": "execute_result"
    }
   ],
   "source": [
    "estados_caracteristicas.describe()"
   ]
  },
  {
   "cell_type": "markdown",
   "id": "fe67e98f-f914-46b1-9eb9-acbe7c00977a",
   "metadata": {
    "slideshow": {
     "slide_type": "subslide"
    }
   },
   "source": [
    "#### Dados de Vacinação"
   ]
  },
  {
   "cell_type": "markdown",
   "id": "d38145e0-b021-4add-8085-b19c38561847",
   "metadata": {
    "slideshow": {
     "slide_type": "-"
    }
   },
   "source": [
    "##### Unidades Federativas"
   ]
  },
  {
   "cell_type": "code",
   "execution_count": 23,
   "id": "f8f32fdd-4940-4fdc-96f1-7b2042cddf92",
   "metadata": {
    "slideshow": {
     "slide_type": "-"
    }
   },
   "outputs": [],
   "source": [
    "estados_vacinacao = get_estados_vacinacao()"
   ]
  },
  {
   "cell_type": "code",
   "execution_count": 24,
   "id": "98fa6050-a33c-4dba-9ad2-89962720deaf",
   "metadata": {
    "slideshow": {
     "slide_type": "-"
    }
   },
   "outputs": [
    {
     "data": {
      "text/html": [
       "<div>\n",
       "<style scoped>\n",
       "    .dataframe tbody tr th:only-of-type {\n",
       "        vertical-align: middle;\n",
       "    }\n",
       "\n",
       "    .dataframe tbody tr th {\n",
       "        vertical-align: top;\n",
       "    }\n",
       "\n",
       "    .dataframe thead th {\n",
       "        text-align: right;\n",
       "    }\n",
       "</style>\n",
       "<table border=\"1\" class=\"dataframe\">\n",
       "  <thead>\n",
       "    <tr style=\"text-align: right;\">\n",
       "      <th></th>\n",
       "      <th>vacinacao_key_as_string</th>\n",
       "      <th>vacinacao_key</th>\n",
       "      <th>vacinacao_doc_count</th>\n",
       "      <th>estado_key</th>\n",
       "      <th>estado_doc_count</th>\n",
       "    </tr>\n",
       "  </thead>\n",
       "  <tbody>\n",
       "    <tr>\n",
       "      <th>0</th>\n",
       "      <td>2023-10-11T00:00:00.000Z</td>\n",
       "      <td>2023-10-11</td>\n",
       "      <td>1996</td>\n",
       "      <td>SP</td>\n",
       "      <td>167920785</td>\n",
       "    </tr>\n",
       "    <tr>\n",
       "      <th>1</th>\n",
       "      <td>2023-10-10T00:00:00.000Z</td>\n",
       "      <td>2023-10-10</td>\n",
       "      <td>2723</td>\n",
       "      <td>SP</td>\n",
       "      <td>167920785</td>\n",
       "    </tr>\n",
       "    <tr>\n",
       "      <th>2</th>\n",
       "      <td>2023-10-09T00:00:00.000Z</td>\n",
       "      <td>2023-10-09</td>\n",
       "      <td>3186</td>\n",
       "      <td>SP</td>\n",
       "      <td>167920785</td>\n",
       "    </tr>\n",
       "    <tr>\n",
       "      <th>3</th>\n",
       "      <td>2023-10-08T00:00:00.000Z</td>\n",
       "      <td>2023-10-08</td>\n",
       "      <td>28</td>\n",
       "      <td>SP</td>\n",
       "      <td>167920785</td>\n",
       "    </tr>\n",
       "    <tr>\n",
       "      <th>4</th>\n",
       "      <td>2023-10-07T00:00:00.000Z</td>\n",
       "      <td>2023-10-07</td>\n",
       "      <td>19734</td>\n",
       "      <td>SP</td>\n",
       "      <td>167920785</td>\n",
       "    </tr>\n",
       "  </tbody>\n",
       "</table>\n",
       "</div>"
      ],
      "text/plain": [
       "    vacinacao_key_as_string vacinacao_key  vacinacao_doc_count estado_key  \\\n",
       "0  2023-10-11T00:00:00.000Z    2023-10-11                 1996         SP   \n",
       "1  2023-10-10T00:00:00.000Z    2023-10-10                 2723         SP   \n",
       "2  2023-10-09T00:00:00.000Z    2023-10-09                 3186         SP   \n",
       "3  2023-10-08T00:00:00.000Z    2023-10-08                   28         SP   \n",
       "4  2023-10-07T00:00:00.000Z    2023-10-07                19734         SP   \n",
       "\n",
       "   estado_doc_count  \n",
       "0         167920785  \n",
       "1         167920785  \n",
       "2         167920785  \n",
       "3         167920785  \n",
       "4         167920785  "
      ]
     },
     "execution_count": 24,
     "metadata": {},
     "output_type": "execute_result"
    }
   ],
   "source": [
    "estados_vacinacao.head()"
   ]
  },
  {
   "cell_type": "code",
   "execution_count": 25,
   "id": "f9da68fd-87fa-420f-8eaa-3dc3a4ace717",
   "metadata": {
    "slideshow": {
     "slide_type": "subslide"
    }
   },
   "outputs": [
    {
     "data": {
      "text/plain": [
       "vacinacao_key_as_string    string[python]\n",
       "vacinacao_key              datetime64[ms]\n",
       "vacinacao_doc_count                 Int64\n",
       "estado_key                 string[python]\n",
       "estado_doc_count                    Int64\n",
       "dtype: object"
      ]
     },
     "execution_count": 25,
     "metadata": {},
     "output_type": "execute_result"
    }
   ],
   "source": [
    "estados_vacinacao.dtypes"
   ]
  },
  {
   "cell_type": "code",
   "execution_count": 26,
   "id": "c2d202a8-2c7c-4c3c-b851-ef122c4f1c0b",
   "metadata": {
    "slideshow": {
     "slide_type": "-"
    },
    "tags": []
   },
   "outputs": [
    {
     "data": {
      "text/html": [
       "<div>\n",
       "<style scoped>\n",
       "    .dataframe tbody tr th:only-of-type {\n",
       "        vertical-align: middle;\n",
       "    }\n",
       "\n",
       "    .dataframe tbody tr th {\n",
       "        vertical-align: top;\n",
       "    }\n",
       "\n",
       "    .dataframe thead th {\n",
       "        text-align: right;\n",
       "    }\n",
       "</style>\n",
       "<table border=\"1\" class=\"dataframe\">\n",
       "  <thead>\n",
       "    <tr style=\"text-align: right;\">\n",
       "      <th></th>\n",
       "      <th>vacinacao_key</th>\n",
       "      <th>vacinacao_doc_count</th>\n",
       "      <th>estado_doc_count</th>\n",
       "    </tr>\n",
       "  </thead>\n",
       "  <tbody>\n",
       "    <tr>\n",
       "      <th>count</th>\n",
       "      <td>30764</td>\n",
       "      <td>30764.0</td>\n",
       "      <td>30764.0</td>\n",
       "    </tr>\n",
       "    <tr>\n",
       "      <th>mean</th>\n",
       "      <td>2021-04-17 22:37:25.845000</td>\n",
       "      <td>18841.48404</td>\n",
       "      <td>23492394.759069</td>\n",
       "    </tr>\n",
       "    <tr>\n",
       "      <th>min</th>\n",
       "      <td>1899-12-30 00:00:00</td>\n",
       "      <td>1.0</td>\n",
       "      <td>1665428.0</td>\n",
       "    </tr>\n",
       "    <tr>\n",
       "      <th>25%</th>\n",
       "      <td>2021-06-05 00:00:00</td>\n",
       "      <td>244.0</td>\n",
       "      <td>7395969.0</td>\n",
       "    </tr>\n",
       "    <tr>\n",
       "      <th>50%</th>\n",
       "      <td>2022-03-17 00:00:00</td>\n",
       "      <td>3438.0</td>\n",
       "      <td>11228172.0</td>\n",
       "    </tr>\n",
       "    <tr>\n",
       "      <th>75%</th>\n",
       "      <td>2022-12-27 00:00:00</td>\n",
       "      <td>16077.25</td>\n",
       "      <td>29897599.0</td>\n",
       "    </tr>\n",
       "    <tr>\n",
       "      <th>max</th>\n",
       "      <td>2023-10-11 00:00:00</td>\n",
       "      <td>1418737.0</td>\n",
       "      <td>167920785.0</td>\n",
       "    </tr>\n",
       "    <tr>\n",
       "      <th>std</th>\n",
       "      <td>NaN</td>\n",
       "      <td>51165.719939</td>\n",
       "      <td>33642764.602491</td>\n",
       "    </tr>\n",
       "  </tbody>\n",
       "</table>\n",
       "</div>"
      ],
      "text/plain": [
       "                    vacinacao_key  vacinacao_doc_count  estado_doc_count\n",
       "count                       30764              30764.0           30764.0\n",
       "mean   2021-04-17 22:37:25.845000          18841.48404   23492394.759069\n",
       "min           1899-12-30 00:00:00                  1.0         1665428.0\n",
       "25%           2021-06-05 00:00:00                244.0         7395969.0\n",
       "50%           2022-03-17 00:00:00               3438.0        11228172.0\n",
       "75%           2022-12-27 00:00:00             16077.25        29897599.0\n",
       "max           2023-10-11 00:00:00            1418737.0       167920785.0\n",
       "std                           NaN         51165.719939   33642764.602491"
      ]
     },
     "execution_count": 26,
     "metadata": {},
     "output_type": "execute_result"
    }
   ],
   "source": [
    "estados_vacinacao.describe()"
   ]
  },
  {
   "cell_type": "markdown",
   "id": "96b87381-0677-4bed-bdd6-800bfbd70fb8",
   "metadata": {
    "slideshow": {
     "slide_type": "subslide"
    }
   },
   "source": [
    "##### Municípios"
   ]
  },
  {
   "cell_type": "code",
   "execution_count": 27,
   "id": "4ee10d4b-4635-4e0c-9abb-e64b991b0aec",
   "metadata": {
    "slideshow": {
     "slide_type": "-"
    }
   },
   "outputs": [],
   "source": [
    "municipios_vacinacao = get_municipios_vacinacao()"
   ]
  },
  {
   "cell_type": "code",
   "execution_count": 28,
   "id": "a6166156-fddb-4262-8db9-4fc142775e99",
   "metadata": {
    "slideshow": {
     "slide_type": "-"
    }
   },
   "outputs": [
    {
     "data": {
      "text/html": [
       "<div>\n",
       "<style scoped>\n",
       "    .dataframe tbody tr th:only-of-type {\n",
       "        vertical-align: middle;\n",
       "    }\n",
       "\n",
       "    .dataframe tbody tr th {\n",
       "        vertical-align: top;\n",
       "    }\n",
       "\n",
       "    .dataframe thead th {\n",
       "        text-align: right;\n",
       "    }\n",
       "</style>\n",
       "<table border=\"1\" class=\"dataframe\">\n",
       "  <thead>\n",
       "    <tr style=\"text-align: right;\">\n",
       "      <th></th>\n",
       "      <th>vacinacao_key_as_string</th>\n",
       "      <th>vacinacao_key</th>\n",
       "      <th>vacinacao_doc_count</th>\n",
       "      <th>municipio_key</th>\n",
       "      <th>municipio_doc_count</th>\n",
       "    </tr>\n",
       "  </thead>\n",
       "  <tbody>\n",
       "    <tr>\n",
       "      <th>0</th>\n",
       "      <td>2023-10-11T00:00:00.000Z</td>\n",
       "      <td>2023-10-11</td>\n",
       "      <td>451</td>\n",
       "      <td>355030</td>\n",
       "      <td>46503474</td>\n",
       "    </tr>\n",
       "    <tr>\n",
       "      <th>1</th>\n",
       "      <td>2023-10-10T00:00:00.000Z</td>\n",
       "      <td>2023-10-10</td>\n",
       "      <td>711</td>\n",
       "      <td>355030</td>\n",
       "      <td>46503474</td>\n",
       "    </tr>\n",
       "    <tr>\n",
       "      <th>2</th>\n",
       "      <td>2023-10-09T00:00:00.000Z</td>\n",
       "      <td>2023-10-09</td>\n",
       "      <td>982</td>\n",
       "      <td>355030</td>\n",
       "      <td>46503474</td>\n",
       "    </tr>\n",
       "    <tr>\n",
       "      <th>3</th>\n",
       "      <td>2023-10-08T00:00:00.000Z</td>\n",
       "      <td>2023-10-08</td>\n",
       "      <td>18</td>\n",
       "      <td>355030</td>\n",
       "      <td>46503474</td>\n",
       "    </tr>\n",
       "    <tr>\n",
       "      <th>4</th>\n",
       "      <td>2023-10-07T00:00:00.000Z</td>\n",
       "      <td>2023-10-07</td>\n",
       "      <td>4278</td>\n",
       "      <td>355030</td>\n",
       "      <td>46503474</td>\n",
       "    </tr>\n",
       "  </tbody>\n",
       "</table>\n",
       "</div>"
      ],
      "text/plain": [
       "    vacinacao_key_as_string vacinacao_key  vacinacao_doc_count municipio_key  \\\n",
       "0  2023-10-11T00:00:00.000Z    2023-10-11                  451        355030   \n",
       "1  2023-10-10T00:00:00.000Z    2023-10-10                  711        355030   \n",
       "2  2023-10-09T00:00:00.000Z    2023-10-09                  982        355030   \n",
       "3  2023-10-08T00:00:00.000Z    2023-10-08                   18        355030   \n",
       "4  2023-10-07T00:00:00.000Z    2023-10-07                 4278        355030   \n",
       "\n",
       "   municipio_doc_count  \n",
       "0             46503474  \n",
       "1             46503474  \n",
       "2             46503474  \n",
       "3             46503474  \n",
       "4             46503474  "
      ]
     },
     "execution_count": 28,
     "metadata": {},
     "output_type": "execute_result"
    }
   ],
   "source": [
    "municipios_vacinacao.head()"
   ]
  },
  {
   "cell_type": "code",
   "execution_count": 29,
   "id": "64080bb3-1a2e-48b2-b884-deb815cae218",
   "metadata": {
    "slideshow": {
     "slide_type": "subslide"
    }
   },
   "outputs": [
    {
     "data": {
      "text/plain": [
       "vacinacao_key_as_string    string[python]\n",
       "vacinacao_key              datetime64[ms]\n",
       "vacinacao_doc_count                 Int64\n",
       "municipio_key              string[python]\n",
       "municipio_doc_count                 Int64\n",
       "dtype: object"
      ]
     },
     "execution_count": 29,
     "metadata": {},
     "output_type": "execute_result"
    }
   ],
   "source": [
    "municipios_vacinacao.dtypes"
   ]
  },
  {
   "cell_type": "code",
   "execution_count": 30,
   "id": "e08e265e-2586-45cd-a753-a68ad40a5be8",
   "metadata": {
    "slideshow": {
     "slide_type": "-"
    }
   },
   "outputs": [
    {
     "data": {
      "text/html": [
       "<div>\n",
       "<style scoped>\n",
       "    .dataframe tbody tr th:only-of-type {\n",
       "        vertical-align: middle;\n",
       "    }\n",
       "\n",
       "    .dataframe tbody tr th {\n",
       "        vertical-align: top;\n",
       "    }\n",
       "\n",
       "    .dataframe thead th {\n",
       "        text-align: right;\n",
       "    }\n",
       "</style>\n",
       "<table border=\"1\" class=\"dataframe\">\n",
       "  <thead>\n",
       "    <tr style=\"text-align: right;\">\n",
       "      <th></th>\n",
       "      <th>vacinacao_key</th>\n",
       "      <th>vacinacao_doc_count</th>\n",
       "      <th>municipio_doc_count</th>\n",
       "    </tr>\n",
       "  </thead>\n",
       "  <tbody>\n",
       "    <tr>\n",
       "      <th>count</th>\n",
       "      <td>62159</td>\n",
       "      <td>62159.0</td>\n",
       "      <td>62159.0</td>\n",
       "    </tr>\n",
       "    <tr>\n",
       "      <th>mean</th>\n",
       "      <td>2022-02-20 21:04:25.313000</td>\n",
       "      <td>3483.797841</td>\n",
       "      <td>3820674.17748</td>\n",
       "    </tr>\n",
       "    <tr>\n",
       "      <th>min</th>\n",
       "      <td>1900-08-21 00:00:00</td>\n",
       "      <td>1.0</td>\n",
       "      <td>1154510.0</td>\n",
       "    </tr>\n",
       "    <tr>\n",
       "      <th>25%</th>\n",
       "      <td>2021-08-01 00:00:00</td>\n",
       "      <td>81.0</td>\n",
       "      <td>1383084.0</td>\n",
       "    </tr>\n",
       "    <tr>\n",
       "      <th>50%</th>\n",
       "      <td>2022-04-17 00:00:00</td>\n",
       "      <td>983.0</td>\n",
       "      <td>1963638.0</td>\n",
       "    </tr>\n",
       "    <tr>\n",
       "      <th>75%</th>\n",
       "      <td>2023-01-06 00:00:00</td>\n",
       "      <td>3436.0</td>\n",
       "      <td>3138390.0</td>\n",
       "    </tr>\n",
       "    <tr>\n",
       "      <th>max</th>\n",
       "      <td>2023-10-11 00:00:00</td>\n",
       "      <td>316423.0</td>\n",
       "      <td>46503474.0</td>\n",
       "    </tr>\n",
       "    <tr>\n",
       "      <th>std</th>\n",
       "      <td>NaN</td>\n",
       "      <td>10329.912266</td>\n",
       "      <td>6623652.504356</td>\n",
       "    </tr>\n",
       "  </tbody>\n",
       "</table>\n",
       "</div>"
      ],
      "text/plain": [
       "                    vacinacao_key  vacinacao_doc_count  municipio_doc_count\n",
       "count                       62159              62159.0              62159.0\n",
       "mean   2022-02-20 21:04:25.313000          3483.797841        3820674.17748\n",
       "min           1900-08-21 00:00:00                  1.0            1154510.0\n",
       "25%           2021-08-01 00:00:00                 81.0            1383084.0\n",
       "50%           2022-04-17 00:00:00                983.0            1963638.0\n",
       "75%           2023-01-06 00:00:00               3436.0            3138390.0\n",
       "max           2023-10-11 00:00:00             316423.0           46503474.0\n",
       "std                           NaN         10329.912266       6623652.504356"
      ]
     },
     "execution_count": 30,
     "metadata": {},
     "output_type": "execute_result"
    }
   ],
   "source": [
    "municipios_vacinacao.describe()"
   ]
  },
  {
   "cell_type": "markdown",
   "id": "4534de26-2cb5-4a5c-b0b6-45ad6423d8d0",
   "metadata": {
    "slideshow": {
     "slide_type": "subslide"
    }
   },
   "source": [
    "#### Dados de Códigos do IBGE"
   ]
  },
  {
   "cell_type": "markdown",
   "id": "28471d34-c089-4165-86db-7c3f84ff4904",
   "metadata": {
    "slideshow": {
     "slide_type": "-"
    }
   },
   "source": [
    "##### Unidades Federativas"
   ]
  },
  {
   "cell_type": "code",
   "execution_count": 31,
   "id": "4fa2e1ae-6595-460a-ae14-6af858950ccc",
   "metadata": {
    "slideshow": {
     "slide_type": "-"
    }
   },
   "outputs": [],
   "source": [
    "estados_codigos = get_estados_codigos()"
   ]
  },
  {
   "cell_type": "code",
   "execution_count": 32,
   "id": "1f1c4ef8-6938-4ce8-b500-bb816c572abb",
   "metadata": {
    "slideshow": {
     "slide_type": "-"
    }
   },
   "outputs": [
    {
     "data": {
      "text/html": [
       "<div>\n",
       "<style scoped>\n",
       "    .dataframe tbody tr th:only-of-type {\n",
       "        vertical-align: middle;\n",
       "    }\n",
       "\n",
       "    .dataframe tbody tr th {\n",
       "        vertical-align: top;\n",
       "    }\n",
       "\n",
       "    .dataframe thead th {\n",
       "        text-align: right;\n",
       "    }\n",
       "</style>\n",
       "<table border=\"1\" class=\"dataframe\">\n",
       "  <thead>\n",
       "    <tr style=\"text-align: right;\">\n",
       "      <th></th>\n",
       "      <th>id</th>\n",
       "      <th>sigla</th>\n",
       "      <th>nome</th>\n",
       "      <th>regiao.id</th>\n",
       "      <th>regiao.sigla</th>\n",
       "      <th>regiao.nome</th>\n",
       "    </tr>\n",
       "  </thead>\n",
       "  <tbody>\n",
       "    <tr>\n",
       "      <th>0</th>\n",
       "      <td>11</td>\n",
       "      <td>RO</td>\n",
       "      <td>Rondônia</td>\n",
       "      <td>1</td>\n",
       "      <td>N</td>\n",
       "      <td>Norte</td>\n",
       "    </tr>\n",
       "    <tr>\n",
       "      <th>1</th>\n",
       "      <td>12</td>\n",
       "      <td>AC</td>\n",
       "      <td>Acre</td>\n",
       "      <td>1</td>\n",
       "      <td>N</td>\n",
       "      <td>Norte</td>\n",
       "    </tr>\n",
       "    <tr>\n",
       "      <th>2</th>\n",
       "      <td>13</td>\n",
       "      <td>AM</td>\n",
       "      <td>Amazonas</td>\n",
       "      <td>1</td>\n",
       "      <td>N</td>\n",
       "      <td>Norte</td>\n",
       "    </tr>\n",
       "    <tr>\n",
       "      <th>3</th>\n",
       "      <td>14</td>\n",
       "      <td>RR</td>\n",
       "      <td>Roraima</td>\n",
       "      <td>1</td>\n",
       "      <td>N</td>\n",
       "      <td>Norte</td>\n",
       "    </tr>\n",
       "    <tr>\n",
       "      <th>4</th>\n",
       "      <td>15</td>\n",
       "      <td>PA</td>\n",
       "      <td>Pará</td>\n",
       "      <td>1</td>\n",
       "      <td>N</td>\n",
       "      <td>Norte</td>\n",
       "    </tr>\n",
       "  </tbody>\n",
       "</table>\n",
       "</div>"
      ],
      "text/plain": [
       "   id sigla      nome  regiao.id regiao.sigla regiao.nome\n",
       "0  11    RO  Rondônia          1            N       Norte\n",
       "1  12    AC      Acre          1            N       Norte\n",
       "2  13    AM  Amazonas          1            N       Norte\n",
       "3  14    RR   Roraima          1            N       Norte\n",
       "4  15    PA      Pará          1            N       Norte"
      ]
     },
     "execution_count": 32,
     "metadata": {},
     "output_type": "execute_result"
    }
   ],
   "source": [
    "estados_codigos.head()"
   ]
  },
  {
   "cell_type": "code",
   "execution_count": 33,
   "id": "d272ee18-84f6-4d3a-9d65-356a02d603b1",
   "metadata": {
    "slideshow": {
     "slide_type": "subslide"
    }
   },
   "outputs": [
    {
     "data": {
      "text/plain": [
       "id               int64\n",
       "sigla           object\n",
       "nome            object\n",
       "regiao.id        int64\n",
       "regiao.sigla    object\n",
       "regiao.nome     object\n",
       "dtype: object"
      ]
     },
     "execution_count": 33,
     "metadata": {},
     "output_type": "execute_result"
    }
   ],
   "source": [
    "estados_codigos.dtypes"
   ]
  },
  {
   "cell_type": "code",
   "execution_count": 34,
   "id": "4ed725a5-7137-46e8-a2f5-28c167fd13a2",
   "metadata": {
    "slideshow": {
     "slide_type": "-"
    }
   },
   "outputs": [
    {
     "data": {
      "text/html": [
       "<div>\n",
       "<style scoped>\n",
       "    .dataframe tbody tr th:only-of-type {\n",
       "        vertical-align: middle;\n",
       "    }\n",
       "\n",
       "    .dataframe tbody tr th {\n",
       "        vertical-align: top;\n",
       "    }\n",
       "\n",
       "    .dataframe thead th {\n",
       "        text-align: right;\n",
       "    }\n",
       "</style>\n",
       "<table border=\"1\" class=\"dataframe\">\n",
       "  <thead>\n",
       "    <tr style=\"text-align: right;\">\n",
       "      <th></th>\n",
       "      <th>id</th>\n",
       "      <th>regiao.id</th>\n",
       "    </tr>\n",
       "  </thead>\n",
       "  <tbody>\n",
       "    <tr>\n",
       "      <th>count</th>\n",
       "      <td>27.000000</td>\n",
       "      <td>27.000000</td>\n",
       "    </tr>\n",
       "    <tr>\n",
       "      <th>mean</th>\n",
       "      <td>29.111111</td>\n",
       "      <td>2.555556</td>\n",
       "    </tr>\n",
       "    <tr>\n",
       "      <th>std</th>\n",
       "      <td>13.024631</td>\n",
       "      <td>1.395965</td>\n",
       "    </tr>\n",
       "    <tr>\n",
       "      <th>min</th>\n",
       "      <td>11.000000</td>\n",
       "      <td>1.000000</td>\n",
       "    </tr>\n",
       "    <tr>\n",
       "      <th>25%</th>\n",
       "      <td>19.000000</td>\n",
       "      <td>1.500000</td>\n",
       "    </tr>\n",
       "    <tr>\n",
       "      <th>50%</th>\n",
       "      <td>27.000000</td>\n",
       "      <td>2.000000</td>\n",
       "    </tr>\n",
       "    <tr>\n",
       "      <th>75%</th>\n",
       "      <td>38.000000</td>\n",
       "      <td>3.500000</td>\n",
       "    </tr>\n",
       "    <tr>\n",
       "      <th>max</th>\n",
       "      <td>53.000000</td>\n",
       "      <td>5.000000</td>\n",
       "    </tr>\n",
       "  </tbody>\n",
       "</table>\n",
       "</div>"
      ],
      "text/plain": [
       "              id  regiao.id\n",
       "count  27.000000  27.000000\n",
       "mean   29.111111   2.555556\n",
       "std    13.024631   1.395965\n",
       "min    11.000000   1.000000\n",
       "25%    19.000000   1.500000\n",
       "50%    27.000000   2.000000\n",
       "75%    38.000000   3.500000\n",
       "max    53.000000   5.000000"
      ]
     },
     "execution_count": 34,
     "metadata": {},
     "output_type": "execute_result"
    }
   ],
   "source": [
    "estados_codigos.describe()"
   ]
  },
  {
   "cell_type": "markdown",
   "id": "e0573d30-f8f8-425f-b7f5-e697d60a57aa",
   "metadata": {
    "slideshow": {
     "slide_type": "subslide"
    }
   },
   "source": [
    "##### Municípios"
   ]
  },
  {
   "cell_type": "code",
   "execution_count": 35,
   "id": "e58745fe-2f6a-4ff8-aad7-4616e761645d",
   "metadata": {
    "slideshow": {
     "slide_type": "-"
    }
   },
   "outputs": [],
   "source": [
    "municipios_codigos = get_municipios_codigos()"
   ]
  },
  {
   "cell_type": "code",
   "execution_count": 36,
   "id": "95be96f4-7b02-4dc2-8aa7-7031bd0f3066",
   "metadata": {
    "slideshow": {
     "slide_type": "-"
    }
   },
   "outputs": [
    {
     "data": {
      "text/html": [
       "<div>\n",
       "<style scoped>\n",
       "    .dataframe tbody tr th:only-of-type {\n",
       "        vertical-align: middle;\n",
       "    }\n",
       "\n",
       "    .dataframe tbody tr th {\n",
       "        vertical-align: top;\n",
       "    }\n",
       "\n",
       "    .dataframe thead th {\n",
       "        text-align: right;\n",
       "    }\n",
       "</style>\n",
       "<table border=\"1\" class=\"dataframe\">\n",
       "  <thead>\n",
       "    <tr style=\"text-align: right;\">\n",
       "      <th></th>\n",
       "      <th>state</th>\n",
       "      <th>city</th>\n",
       "    </tr>\n",
       "    <tr>\n",
       "      <th>id</th>\n",
       "      <th></th>\n",
       "      <th></th>\n",
       "    </tr>\n",
       "  </thead>\n",
       "  <tbody>\n",
       "    <tr>\n",
       "      <th>1100015</th>\n",
       "      <td>RO</td>\n",
       "      <td>Alta Floresta D''Oeste</td>\n",
       "    </tr>\n",
       "    <tr>\n",
       "      <th>1100379</th>\n",
       "      <td>RO</td>\n",
       "      <td>Alto Alegre dos Parecis</td>\n",
       "    </tr>\n",
       "    <tr>\n",
       "      <th>1100403</th>\n",
       "      <td>RO</td>\n",
       "      <td>Alto Paraíso</td>\n",
       "    </tr>\n",
       "    <tr>\n",
       "      <th>1100346</th>\n",
       "      <td>RO</td>\n",
       "      <td>Alvorada D''Oeste</td>\n",
       "    </tr>\n",
       "    <tr>\n",
       "      <th>1100023</th>\n",
       "      <td>RO</td>\n",
       "      <td>Ariquemes</td>\n",
       "    </tr>\n",
       "  </tbody>\n",
       "</table>\n",
       "</div>"
      ],
      "text/plain": [
       "        state                     city\n",
       "id                                    \n",
       "1100015    RO   Alta Floresta D''Oeste\n",
       "1100379    RO  Alto Alegre dos Parecis\n",
       "1100403    RO             Alto Paraíso\n",
       "1100346    RO        Alvorada D''Oeste\n",
       "1100023    RO                Ariquemes"
      ]
     },
     "execution_count": 36,
     "metadata": {},
     "output_type": "execute_result"
    }
   ],
   "source": [
    "municipios_codigos.head()"
   ]
  },
  {
   "cell_type": "code",
   "execution_count": 37,
   "id": "497f5a8c-d97c-40b9-a21c-5c98b37e0b45",
   "metadata": {
    "slideshow": {
     "slide_type": "subslide"
    }
   },
   "outputs": [
    {
     "data": {
      "text/plain": [
       "state    object\n",
       "city     object\n",
       "dtype: object"
      ]
     },
     "execution_count": 37,
     "metadata": {},
     "output_type": "execute_result"
    }
   ],
   "source": [
    "municipios_codigos.dtypes"
   ]
  },
  {
   "cell_type": "code",
   "execution_count": 38,
   "id": "e83135fb-9fcc-4abb-80fc-0d54c6f40243",
   "metadata": {
    "slideshow": {
     "slide_type": "-"
    },
    "tags": []
   },
   "outputs": [
    {
     "data": {
      "text/html": [
       "<div>\n",
       "<style scoped>\n",
       "    .dataframe tbody tr th:only-of-type {\n",
       "        vertical-align: middle;\n",
       "    }\n",
       "\n",
       "    .dataframe tbody tr th {\n",
       "        vertical-align: top;\n",
       "    }\n",
       "\n",
       "    .dataframe thead th {\n",
       "        text-align: right;\n",
       "    }\n",
       "</style>\n",
       "<table border=\"1\" class=\"dataframe\">\n",
       "  <thead>\n",
       "    <tr style=\"text-align: right;\">\n",
       "      <th></th>\n",
       "      <th>state</th>\n",
       "      <th>city</th>\n",
       "    </tr>\n",
       "  </thead>\n",
       "  <tbody>\n",
       "    <tr>\n",
       "      <th>count</th>\n",
       "      <td>5570</td>\n",
       "      <td>5570</td>\n",
       "    </tr>\n",
       "    <tr>\n",
       "      <th>unique</th>\n",
       "      <td>27</td>\n",
       "      <td>5298</td>\n",
       "    </tr>\n",
       "    <tr>\n",
       "      <th>top</th>\n",
       "      <td>MG</td>\n",
       "      <td>Bom Jesus</td>\n",
       "    </tr>\n",
       "    <tr>\n",
       "      <th>freq</th>\n",
       "      <td>853</td>\n",
       "      <td>5</td>\n",
       "    </tr>\n",
       "  </tbody>\n",
       "</table>\n",
       "</div>"
      ],
      "text/plain": [
       "       state       city\n",
       "count   5570       5570\n",
       "unique    27       5298\n",
       "top       MG  Bom Jesus\n",
       "freq     853          5"
      ]
     },
     "execution_count": 38,
     "metadata": {},
     "output_type": "execute_result"
    }
   ],
   "source": [
    "municipios_codigos.describe()"
   ]
  }
 ],
 "metadata": {
  "celltoolbar": "Slideshow",
  "kernelspec": {
   "display_name": "Python 3 (ipykernel)",
   "language": "python",
   "name": "python3"
  },
  "language_info": {
   "codemirror_mode": {
    "name": "ipython",
    "version": 3
   },
   "file_extension": ".py",
   "mimetype": "text/x-python",
   "name": "python",
   "nbconvert_exporter": "python",
   "pygments_lexer": "ipython3",
   "version": "3.11.2"
  },
  "toc": {
   "base_numbering": 1,
   "nav_menu": {},
   "number_sections": true,
   "sideBar": true,
   "skip_h1_title": false,
   "title_cell": "Table of Contents",
   "title_sidebar": "Contents",
   "toc_cell": false,
   "toc_position": {},
   "toc_section_display": true,
   "toc_window_display": false
  }
 },
 "nbformat": 4,
 "nbformat_minor": 5
}
