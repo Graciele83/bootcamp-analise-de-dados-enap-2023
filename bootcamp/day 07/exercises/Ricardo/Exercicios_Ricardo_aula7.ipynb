{
 "cells": [
  {
   "cell_type": "markdown",
   "id": "cc2c700b",
   "metadata": {},
   "source": [
    "# Crie um dataframe com o arquivo csv indicado\n",
    "\n",
    "Vamos trabalhar com informações da RAIS\n",
    "\n",
    "RAIS é um Registro Administrativo, com periodicidade anual, que possui informações sobre os trabalhadores do mercado de trabalho formal brasileiro e seus empregos. Esse registro foi criado com o objetivo de obter informações destinadas ao controle de trabalhadores no Brasil e dos registros relativos ao FGTS (Fundo de Garantia por Tempo de Serviço). \n",
    "\n",
    "A RAIS abrange mais de 95% do mercado de trabalho formal brasileiro, de forma a representar todo o território nacional sendo, desta forma, análoga ao censo do mercado de trabalho formal brasileiro.\n",
    "\n",
    "Foi extraída uma amostra de 1% referente ao ano de 2008"
   ]
  },
  {
   "cell_type": "code",
   "execution_count": null,
   "id": "d2282953",
   "metadata": {},
   "outputs": [],
   "source": [
    "import pandas as pd\n",
    "url= ('https://github.com/thaissalzer/thaissalzer/blob/d712d416e5ad901113d52ffc0c23fd7e1366c044/salarios_RAIS.csv?raw=true')\n",
    "df= pd.read_csv(url)\n",
    "df.head()"
   ]
  },
  {
   "cell_type": "markdown",
   "id": "1cde3981",
   "metadata": {},
   "source": [
    "Cada linha representa um trabalhador.\n",
    "Cada coluna é uma variável.\n",
    "\n",
    "Identifique quantos trabalhadores temos na nossa amostra e quantas variáveis?"
   ]
  },
  {
   "cell_type": "code",
   "execution_count": null,
   "id": "9595a48e",
   "metadata": {},
   "outputs": [],
   "source": []
  },
  {
   "cell_type": "markdown",
   "id": "40b953f5",
   "metadata": {},
   "source": [
    "As variáveis extraídas desta base de dados que vamos utilizar são: \n",
    "    \n",
    "    \n",
    "    uf_08 = unidade federativa\n",
    "    \n",
    "    rg_m_mte_08 = região metropolitana\n",
    "\n",
    "    genero_08 = genero\n",
    "    \n",
    "    fx_etaria_08 = faixa etária\n",
    "    \n",
    "    grau_inst_08 = escolaridade\n",
    "\n",
    "    tamestab_08 = tamanho do estabelecimento que trabalha\n",
    "    \n",
    "    rem_dezem_08 = rendimento em dezembro em salários mínimos\n",
    "    \n",
    "    temp_empr_08 = tempo de emprego\n",
    "    \n",
    "\n",
    "# Exclua as variáveis que não usaremos e renomeie as demais com nomes mais amigáveis "
   ]
  },
  {
   "cell_type": "code",
   "execution_count": null,
   "id": "f4ab960c",
   "metadata": {},
   "outputs": [],
   "source": []
  },
  {
   "cell_type": "code",
   "execution_count": null,
   "id": "b252cf75",
   "metadata": {},
   "outputs": [],
   "source": []
  },
  {
   "cell_type": "markdown",
   "id": "81057d4a",
   "metadata": {},
   "source": [
    "## Crie uma nova variável no seu dataframe, de nome \"salario\", que represente o salário, em reais, do trabalhador\n",
    "A variável rem_dezem representa o número de salários mínimos que o trabalhador recebia em dezembro de 2008.\n",
    "\n",
    "Em 2008, o salário mínimo valia R$ 415\n",
    "\n"
   ]
  },
  {
   "cell_type": "code",
   "execution_count": null,
   "id": "f4d64802",
   "metadata": {},
   "outputs": [],
   "source": []
  },
  {
   "cell_type": "markdown",
   "id": "c765d691",
   "metadata": {},
   "source": [
    "# Qual era a média salarial dos trabalhadores formais em dezembro de 2008?"
   ]
  },
  {
   "cell_type": "code",
   "execution_count": null,
   "id": "b4cb656d",
   "metadata": {},
   "outputs": [],
   "source": []
  },
  {
   "cell_type": "markdown",
   "id": "99147dc7",
   "metadata": {},
   "source": [
    "# Qual é o maior e o menor salário em dezembro de 2008?"
   ]
  },
  {
   "cell_type": "code",
   "execution_count": null,
   "id": "4a5dd24d",
   "metadata": {},
   "outputs": [],
   "source": []
  },
  {
   "cell_type": "code",
   "execution_count": null,
   "id": "a0e5a18e",
   "metadata": {},
   "outputs": [],
   "source": []
  },
  {
   "cell_type": "markdown",
   "id": "4109f03e",
   "metadata": {},
   "source": [
    "# produza o resumo estatístico dos seus dados usando df.describe()"
   ]
  },
  {
   "cell_type": "code",
   "execution_count": null,
   "id": "b1c04365",
   "metadata": {},
   "outputs": [],
   "source": []
  },
  {
   "cell_type": "markdown",
   "id": "31a32a2b",
   "metadata": {},
   "source": [
    "# Por que você acha que nem todas as variáveis vieram no resumo estatístico?"
   ]
  },
  {
   "cell_type": "code",
   "execution_count": null,
   "id": "a12acc23",
   "metadata": {},
   "outputs": [],
   "source": []
  },
  {
   "cell_type": "markdown",
   "id": "8a15781a",
   "metadata": {},
   "source": [
    "# Crie um Dataframe apenas com mulheres (genero = FEMININO)"
   ]
  },
  {
   "cell_type": "code",
   "execution_count": null,
   "id": "271dd303",
   "metadata": {},
   "outputs": [],
   "source": []
  },
  {
   "cell_type": "markdown",
   "id": "13414999",
   "metadata": {},
   "source": [
    "## produza o resumo estatístico dos dados apenas de mulheres usando df.describe()\n",
    "## Qual a média salarial das mulheres ?"
   ]
  },
  {
   "cell_type": "code",
   "execution_count": null,
   "id": "71644e52",
   "metadata": {},
   "outputs": [],
   "source": []
  },
  {
   "cell_type": "markdown",
   "id": "a90fbce1",
   "metadata": {},
   "source": [
    "## Qual a média salarial dos homens ? Como você poderia analisar esse dado, comparativamente com a média salarial das mulheres?"
   ]
  },
  {
   "cell_type": "code",
   "execution_count": null,
   "id": "a8dd9f51",
   "metadata": {},
   "outputs": [],
   "source": []
  },
  {
   "cell_type": "code",
   "execution_count": null,
   "id": "03bcf243",
   "metadata": {},
   "outputs": [],
   "source": []
  },
  {
   "cell_type": "markdown",
   "id": "248dd7b1",
   "metadata": {},
   "source": [
    "# Extra - se tiver tempo e disposição, analise os demais dados\n"
   ]
  },
  {
   "cell_type": "code",
   "execution_count": null,
   "id": "4e21c226",
   "metadata": {},
   "outputs": [],
   "source": []
  },
  {
   "cell_type": "markdown",
   "id": "8aaa9225",
   "metadata": {},
   "source": [
    "## Analise as médias salariais por escolaridade. Como você analisaria esse dado?"
   ]
  },
  {
   "cell_type": "code",
   "execution_count": null,
   "id": "98f77e61",
   "metadata": {},
   "outputs": [],
   "source": []
  },
  {
   "cell_type": "markdown",
   "id": "6438a5ba",
   "metadata": {},
   "source": [
    "## Analise as médias salariais por faixa etária. Como você analisaria esse dado?"
   ]
  },
  {
   "cell_type": "code",
   "execution_count": null,
   "id": "158993b5",
   "metadata": {},
   "outputs": [],
   "source": []
  },
  {
   "cell_type": "markdown",
   "id": "3376a2c7",
   "metadata": {},
   "source": [
    "## Analise as médias salariais por tamanho do estabelecimento. Como você analisaria esse dado?\n"
   ]
  },
  {
   "cell_type": "code",
   "execution_count": null,
   "id": "afcd02b7",
   "metadata": {},
   "outputs": [],
   "source": []
  },
  {
   "cell_type": "markdown",
   "id": "30053771",
   "metadata": {},
   "source": [
    "## Analise as médias salariais por UF. Como você analisaria esse dado?"
   ]
  },
  {
   "cell_type": "code",
   "execution_count": null,
   "id": "117811b5",
   "metadata": {},
   "outputs": [],
   "source": []
  },
  {
   "cell_type": "code",
   "execution_count": null,
   "id": "a843a37a",
   "metadata": {},
   "outputs": [],
   "source": []
  },
  {
   "cell_type": "code",
   "execution_count": null,
   "id": "7bcf8141",
   "metadata": {},
   "outputs": [],
   "source": []
  },
  {
   "cell_type": "code",
   "execution_count": null,
   "id": "8fbcd1f1",
   "metadata": {},
   "outputs": [],
   "source": []
  },
  {
   "cell_type": "code",
   "execution_count": null,
   "id": "8692adbd",
   "metadata": {},
   "outputs": [],
   "source": []
  }
 ],
 "metadata": {
  "kernelspec": {
   "display_name": "Python 3 (ipykernel)",
   "language": "python",
   "name": "python3"
  },
  "language_info": {
   "codemirror_mode": {
    "name": "ipython",
    "version": 3
   },
   "file_extension": ".py",
   "mimetype": "text/x-python",
   "name": "python",
   "nbconvert_exporter": "python",
   "pygments_lexer": "ipython3",
   "version": "3.9.13"
  }
 },
 "nbformat": 4,
 "nbformat_minor": 5
}
