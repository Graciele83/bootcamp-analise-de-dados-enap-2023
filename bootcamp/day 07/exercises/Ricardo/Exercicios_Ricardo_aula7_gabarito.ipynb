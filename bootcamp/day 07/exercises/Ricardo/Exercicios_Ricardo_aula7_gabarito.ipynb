{
 "cells": [
  {
   "cell_type": "markdown",
   "id": "cc2c700b",
   "metadata": {},
   "source": [
    "# Crie um dataframe com o arquivo csv indicado\n",
    "\n",
    "Vamos trabalhar com informações da RAIS\n",
    "\n",
    "RAIS é um Registro Administrativo, com periodicidade anual, que possui informações sobre os trabalhadores do mercado de trabalho formal brasileiro e seus empregos. Esse registro foi criado com o objetivo de obter informações destinadas ao controle de trabalhadores no Brasil e dos registros relativos ao FGTS (Fundo de Garantia por Tempo de Serviço). \n",
    "\n",
    "A RAIS abrange mais de 95% do mercado de trabalho formal brasileiro, de forma a representar todo o território nacional sendo, desta forma, análoga ao censo do mercado de trabalho formal brasileiro.\n",
    "\n",
    "Foi extraída uma amostra de 1% referente ao ano de 2008"
   ]
  },
  {
   "cell_type": "code",
   "execution_count": 1,
   "id": "d2282953",
   "metadata": {},
   "outputs": [
    {
     "data": {
      "text/html": [
       "<div>\n",
       "<style scoped>\n",
       "    .dataframe tbody tr th:only-of-type {\n",
       "        vertical-align: middle;\n",
       "    }\n",
       "\n",
       "    .dataframe tbody tr th {\n",
       "        vertical-align: top;\n",
       "    }\n",
       "\n",
       "    .dataframe thead th {\n",
       "        text-align: right;\n",
       "    }\n",
       "</style>\n",
       "<table border=\"1\" class=\"dataframe\">\n",
       "  <thead>\n",
       "    <tr style=\"text-align: right;\">\n",
       "      <th></th>\n",
       "      <th>Unnamed: 0</th>\n",
       "      <th>uf_08</th>\n",
       "      <th>rg_m_mte_08</th>\n",
       "      <th>municipio_08</th>\n",
       "      <th>sc_cnae95_08</th>\n",
       "      <th>genero_08</th>\n",
       "      <th>fx_etaria_08</th>\n",
       "      <th>grau_inst_08</th>\n",
       "      <th>grgrup_oc_08</th>\n",
       "      <th>tamestab_08</th>\n",
       "      <th>rem_dezem_08</th>\n",
       "      <th>temp_empr_08</th>\n",
       "    </tr>\n",
       "  </thead>\n",
       "  <tbody>\n",
       "    <tr>\n",
       "      <th>0</th>\n",
       "      <td>0</td>\n",
       "      <td>CE</td>\n",
       "      <td>FORTALEZA</td>\n",
       "      <td>MUN23.0440</td>\n",
       "      <td>SECAO L</td>\n",
       "      <td>MASCULINO</td>\n",
       "      <td>50 A 64</td>\n",
       "      <td>SUP. COMP</td>\n",
       "      <td>GR GRUP  2</td>\n",
       "      <td>1000 OU MAIS</td>\n",
       "      <td>3.46</td>\n",
       "      <td>317.20001</td>\n",
       "    </tr>\n",
       "    <tr>\n",
       "      <th>1</th>\n",
       "      <td>1</td>\n",
       "      <td>SP</td>\n",
       "      <td>SAO PAULO</td>\n",
       "      <td>MUN35.5030</td>\n",
       "      <td>SECAO J</td>\n",
       "      <td>MASCULINO</td>\n",
       "      <td>50 A 64</td>\n",
       "      <td>SUP. COMP</td>\n",
       "      <td>GR GRUP  4</td>\n",
       "      <td>1000 OU MAIS</td>\n",
       "      <td>13.25</td>\n",
       "      <td>18.10000</td>\n",
       "    </tr>\n",
       "    <tr>\n",
       "      <th>2</th>\n",
       "      <td>2</td>\n",
       "      <td>RS</td>\n",
       "      <td>PORTO ALEGRE</td>\n",
       "      <td>MUN43.1490</td>\n",
       "      <td>SECAO L</td>\n",
       "      <td>MASCULINO</td>\n",
       "      <td>50 A 64</td>\n",
       "      <td>SUP. COMP</td>\n",
       "      <td>GR GRUP  3</td>\n",
       "      <td>1000 OU MAIS</td>\n",
       "      <td>7.40</td>\n",
       "      <td>274.00000</td>\n",
       "    </tr>\n",
       "    <tr>\n",
       "      <th>3</th>\n",
       "      <td>3</td>\n",
       "      <td>RS</td>\n",
       "      <td>OUTROS</td>\n",
       "      <td>MUN43.1750</td>\n",
       "      <td>SECAO M</td>\n",
       "      <td>MASCULINO</td>\n",
       "      <td>50 A 64</td>\n",
       "      <td>SUP. COMP</td>\n",
       "      <td>GR GRUP  2</td>\n",
       "      <td>DE 100 A 249</td>\n",
       "      <td>10.39</td>\n",
       "      <td>273.79999</td>\n",
       "    </tr>\n",
       "    <tr>\n",
       "      <th>4</th>\n",
       "      <td>4</td>\n",
       "      <td>PA</td>\n",
       "      <td>BELEM</td>\n",
       "      <td>MUN15.0140</td>\n",
       "      <td>SECAO M</td>\n",
       "      <td>MASCULINO</td>\n",
       "      <td>50 A 64</td>\n",
       "      <td>SUP. COMP</td>\n",
       "      <td>GR GRUP  2</td>\n",
       "      <td>1000 OU MAIS</td>\n",
       "      <td>4.38</td>\n",
       "      <td>423.10001</td>\n",
       "    </tr>\n",
       "  </tbody>\n",
       "</table>\n",
       "</div>"
      ],
      "text/plain": [
       "   Unnamed: 0 uf_08   rg_m_mte_08 municipio_08 sc_cnae95_08  genero_08  \\\n",
       "0           0    CE     FORTALEZA   MUN23.0440      SECAO L  MASCULINO   \n",
       "1           1    SP     SAO PAULO   MUN35.5030      SECAO J  MASCULINO   \n",
       "2           2    RS  PORTO ALEGRE   MUN43.1490      SECAO L  MASCULINO   \n",
       "3           3    RS        OUTROS   MUN43.1750      SECAO M  MASCULINO   \n",
       "4           4    PA         BELEM   MUN15.0140      SECAO M  MASCULINO   \n",
       "\n",
       "  fx_etaria_08 grau_inst_08 grgrup_oc_08   tamestab_08  rem_dezem_08  \\\n",
       "0      50 A 64    SUP. COMP   GR GRUP  2  1000 OU MAIS          3.46   \n",
       "1      50 A 64    SUP. COMP   GR GRUP  4  1000 OU MAIS         13.25   \n",
       "2      50 A 64    SUP. COMP   GR GRUP  3  1000 OU MAIS          7.40   \n",
       "3      50 A 64    SUP. COMP   GR GRUP  2  DE 100 A 249         10.39   \n",
       "4      50 A 64    SUP. COMP   GR GRUP  2  1000 OU MAIS          4.38   \n",
       "\n",
       "   temp_empr_08  \n",
       "0     317.20001  \n",
       "1      18.10000  \n",
       "2     274.00000  \n",
       "3     273.79999  \n",
       "4     423.10001  "
      ]
     },
     "execution_count": 1,
     "metadata": {},
     "output_type": "execute_result"
    }
   ],
   "source": [
    "import pandas as pd\n",
    "url= ('https://github.com/thaissalzer/thaissalzer/blob/d712d416e5ad901113d52ffc0c23fd7e1366c044/salarios_RAIS.csv?raw=true')\n",
    "df= pd.read_csv(url)\n",
    "df.head()"
   ]
  },
  {
   "cell_type": "markdown",
   "id": "1cde3981",
   "metadata": {},
   "source": [
    "Cada linha representa um trabalhador.\n",
    "Cada coluna é uma variável.\n",
    "\n",
    "Identifique quantos trabalhadores temos na nossa amostra e quantas variáveis?"
   ]
  },
  {
   "cell_type": "code",
   "execution_count": 2,
   "id": "9595a48e",
   "metadata": {},
   "outputs": [
    {
     "data": {
      "text/plain": [
       "(43024, 12)"
      ]
     },
     "execution_count": 2,
     "metadata": {},
     "output_type": "execute_result"
    }
   ],
   "source": [
    "df.shape"
   ]
  },
  {
   "cell_type": "markdown",
   "id": "40b953f5",
   "metadata": {},
   "source": [
    "As variáveis extraídas desta base de dados que vamos utilizar são: \n",
    "    \n",
    "    \n",
    "    uf_08 = unidade federativa\n",
    "    \n",
    "    rg_m_mte_08 = região metropolitana\n",
    "\n",
    "    genero_08 = genero\n",
    "    \n",
    "    fx_etaria_08 = faixa etária\n",
    "    \n",
    "    grau_inst_08 = escolaridade\n",
    "\n",
    "    tamestab_08 = tamanho do estabelecimento que trabalha\n",
    "    \n",
    "    rem_dezem_08 = rendimento em dezembro em salários mínimos\n",
    "    \n",
    "    temp_empr_08 = tempo de emprego\n",
    "    \n",
    "\n",
    "# Exclua as variáveis que não usaremos e renomeie as demais com nomes mais amigáveis \n",
    "\n",
    "Informação que não te ajuda, te atrapalha e ocupa espaço!"
   ]
  },
  {
   "cell_type": "code",
   "execution_count": 3,
   "id": "f4ab960c",
   "metadata": {},
   "outputs": [],
   "source": [
    "# excluindo variáveis que não utilizaremos\n",
    "df = df.drop(columns=['Unnamed: 0','municipio_08','sc_cnae95_08', 'grgrup_oc_08', 'rg_m_mte_08' ])"
   ]
  },
  {
   "cell_type": "code",
   "execution_count": 4,
   "id": "b252cf75",
   "metadata": {},
   "outputs": [
    {
     "data": {
      "text/html": [
       "<div>\n",
       "<style scoped>\n",
       "    .dataframe tbody tr th:only-of-type {\n",
       "        vertical-align: middle;\n",
       "    }\n",
       "\n",
       "    .dataframe tbody tr th {\n",
       "        vertical-align: top;\n",
       "    }\n",
       "\n",
       "    .dataframe thead th {\n",
       "        text-align: right;\n",
       "    }\n",
       "</style>\n",
       "<table border=\"1\" class=\"dataframe\">\n",
       "  <thead>\n",
       "    <tr style=\"text-align: right;\">\n",
       "      <th></th>\n",
       "      <th>uf</th>\n",
       "      <th>genero</th>\n",
       "      <th>fx_etaria</th>\n",
       "      <th>escolaridade</th>\n",
       "      <th>tamestab</th>\n",
       "      <th>rem_dezem</th>\n",
       "      <th>temp_empr</th>\n",
       "    </tr>\n",
       "  </thead>\n",
       "  <tbody>\n",
       "    <tr>\n",
       "      <th>0</th>\n",
       "      <td>CE</td>\n",
       "      <td>MASCULINO</td>\n",
       "      <td>50 A 64</td>\n",
       "      <td>SUP. COMP</td>\n",
       "      <td>1000 OU MAIS</td>\n",
       "      <td>3.46</td>\n",
       "      <td>317.20001</td>\n",
       "    </tr>\n",
       "    <tr>\n",
       "      <th>1</th>\n",
       "      <td>SP</td>\n",
       "      <td>MASCULINO</td>\n",
       "      <td>50 A 64</td>\n",
       "      <td>SUP. COMP</td>\n",
       "      <td>1000 OU MAIS</td>\n",
       "      <td>13.25</td>\n",
       "      <td>18.10000</td>\n",
       "    </tr>\n",
       "    <tr>\n",
       "      <th>2</th>\n",
       "      <td>RS</td>\n",
       "      <td>MASCULINO</td>\n",
       "      <td>50 A 64</td>\n",
       "      <td>SUP. COMP</td>\n",
       "      <td>1000 OU MAIS</td>\n",
       "      <td>7.40</td>\n",
       "      <td>274.00000</td>\n",
       "    </tr>\n",
       "    <tr>\n",
       "      <th>3</th>\n",
       "      <td>RS</td>\n",
       "      <td>MASCULINO</td>\n",
       "      <td>50 A 64</td>\n",
       "      <td>SUP. COMP</td>\n",
       "      <td>DE 100 A 249</td>\n",
       "      <td>10.39</td>\n",
       "      <td>273.79999</td>\n",
       "    </tr>\n",
       "    <tr>\n",
       "      <th>4</th>\n",
       "      <td>PA</td>\n",
       "      <td>MASCULINO</td>\n",
       "      <td>50 A 64</td>\n",
       "      <td>SUP. COMP</td>\n",
       "      <td>1000 OU MAIS</td>\n",
       "      <td>4.38</td>\n",
       "      <td>423.10001</td>\n",
       "    </tr>\n",
       "    <tr>\n",
       "      <th>...</th>\n",
       "      <td>...</td>\n",
       "      <td>...</td>\n",
       "      <td>...</td>\n",
       "      <td>...</td>\n",
       "      <td>...</td>\n",
       "      <td>...</td>\n",
       "      <td>...</td>\n",
       "    </tr>\n",
       "    <tr>\n",
       "      <th>43019</th>\n",
       "      <td>SP</td>\n",
       "      <td>FEMININO</td>\n",
       "      <td>40 A 49</td>\n",
       "      <td>MEDIO COMPL</td>\n",
       "      <td>1000 OU MAIS</td>\n",
       "      <td>4.73</td>\n",
       "      <td>190.70000</td>\n",
       "    </tr>\n",
       "    <tr>\n",
       "      <th>43020</th>\n",
       "      <td>SP</td>\n",
       "      <td>FEMININO</td>\n",
       "      <td>40 A 49</td>\n",
       "      <td>MEDIO COMPL</td>\n",
       "      <td>1000 OU MAIS</td>\n",
       "      <td>0.60</td>\n",
       "      <td>180.10001</td>\n",
       "    </tr>\n",
       "    <tr>\n",
       "      <th>43021</th>\n",
       "      <td>SP</td>\n",
       "      <td>MASCULINO</td>\n",
       "      <td>50 A 64</td>\n",
       "      <td>SUP. COMP</td>\n",
       "      <td>1000 OU MAIS</td>\n",
       "      <td>2.85</td>\n",
       "      <td>173.39999</td>\n",
       "    </tr>\n",
       "    <tr>\n",
       "      <th>43022</th>\n",
       "      <td>SP</td>\n",
       "      <td>MASCULINO</td>\n",
       "      <td>50 A 64</td>\n",
       "      <td>MEDIO COMPL</td>\n",
       "      <td>1000 OU MAIS</td>\n",
       "      <td>6.34</td>\n",
       "      <td>173.60001</td>\n",
       "    </tr>\n",
       "    <tr>\n",
       "      <th>43023</th>\n",
       "      <td>SP</td>\n",
       "      <td>FEMININO</td>\n",
       "      <td>40 A 49</td>\n",
       "      <td>MEDIO COMPL</td>\n",
       "      <td>1000 OU MAIS</td>\n",
       "      <td>3.69</td>\n",
       "      <td>172.00000</td>\n",
       "    </tr>\n",
       "  </tbody>\n",
       "</table>\n",
       "<p>43024 rows × 7 columns</p>\n",
       "</div>"
      ],
      "text/plain": [
       "       uf     genero fx_etaria escolaridade      tamestab  rem_dezem  \\\n",
       "0      CE  MASCULINO   50 A 64    SUP. COMP  1000 OU MAIS       3.46   \n",
       "1      SP  MASCULINO   50 A 64    SUP. COMP  1000 OU MAIS      13.25   \n",
       "2      RS  MASCULINO   50 A 64    SUP. COMP  1000 OU MAIS       7.40   \n",
       "3      RS  MASCULINO   50 A 64    SUP. COMP  DE 100 A 249      10.39   \n",
       "4      PA  MASCULINO   50 A 64    SUP. COMP  1000 OU MAIS       4.38   \n",
       "...    ..        ...       ...          ...           ...        ...   \n",
       "43019  SP   FEMININO   40 A 49  MEDIO COMPL  1000 OU MAIS       4.73   \n",
       "43020  SP   FEMININO   40 A 49  MEDIO COMPL  1000 OU MAIS       0.60   \n",
       "43021  SP  MASCULINO   50 A 64    SUP. COMP  1000 OU MAIS       2.85   \n",
       "43022  SP  MASCULINO   50 A 64  MEDIO COMPL  1000 OU MAIS       6.34   \n",
       "43023  SP   FEMININO   40 A 49  MEDIO COMPL  1000 OU MAIS       3.69   \n",
       "\n",
       "       temp_empr  \n",
       "0      317.20001  \n",
       "1       18.10000  \n",
       "2      274.00000  \n",
       "3      273.79999  \n",
       "4      423.10001  \n",
       "...          ...  \n",
       "43019  190.70000  \n",
       "43020  180.10001  \n",
       "43021  173.39999  \n",
       "43022  173.60001  \n",
       "43023  172.00000  \n",
       "\n",
       "[43024 rows x 7 columns]"
      ]
     },
     "execution_count": 4,
     "metadata": {},
     "output_type": "execute_result"
    }
   ],
   "source": [
    "#renomeando as demais variáveis\n",
    "df = df.rename(columns={\n",
    "    \"uf_08\": \"uf\",\n",
    "    \"genero_08\":\"genero\",\n",
    "    \"temp_empr_08\":\"temp_empr\",\n",
    "    \"fx_etaria_08\": \"fx_etaria\",\n",
    "    \"grau_inst_08\": \"escolaridade\",\n",
    "    \"tamestab_08\": \"tamestab\",\n",
    "    \"rem_dezem_08\": \"rem_dezem\"})\n",
    "df"
   ]
  },
  {
   "cell_type": "markdown",
   "id": "81057d4a",
   "metadata": {},
   "source": [
    "## Crie uma nova variável no seu dataframe, de nome \"salario\", que represente o salário, em reais, do trabalhador\n",
    "A variável rem_dezem representa o número de salários mínimos que o trabalhador recebia em dezembro de 2008.\n",
    "\n",
    "Em 2008, o salário mínimo valia R$ 415\n",
    "\n"
   ]
  },
  {
   "cell_type": "code",
   "execution_count": 5,
   "id": "f4d64802",
   "metadata": {},
   "outputs": [],
   "source": [
    "df = df.assign(salario=df['rem_dezem'] * 415)"
   ]
  },
  {
   "cell_type": "markdown",
   "id": "c765d691",
   "metadata": {},
   "source": [
    "# Qual era a média salarial dos trabalhadores formais em dezembro de 2008?"
   ]
  },
  {
   "cell_type": "code",
   "execution_count": 6,
   "id": "b4cb656d",
   "metadata": {},
   "outputs": [
    {
     "data": {
      "text/plain": [
       "2672.3268309323507"
      ]
     },
     "execution_count": 6,
     "metadata": {},
     "output_type": "execute_result"
    }
   ],
   "source": [
    "df['salario'].mean()"
   ]
  },
  {
   "cell_type": "markdown",
   "id": "99147dc7",
   "metadata": {},
   "source": [
    "# Qual é o maior e o menor salário em dezembro de 2008?"
   ]
  },
  {
   "cell_type": "code",
   "execution_count": 7,
   "id": "4a5dd24d",
   "metadata": {},
   "outputs": [
    {
     "data": {
      "text/plain": [
       "61764.450000000004"
      ]
     },
     "execution_count": 7,
     "metadata": {},
     "output_type": "execute_result"
    }
   ],
   "source": [
    "df['salario'].max()"
   ]
  },
  {
   "cell_type": "code",
   "execution_count": 8,
   "id": "a0e5a18e",
   "metadata": {},
   "outputs": [
    {
     "data": {
      "text/plain": [
       "128.65"
      ]
     },
     "execution_count": 8,
     "metadata": {},
     "output_type": "execute_result"
    }
   ],
   "source": [
    "df['salario'].min()"
   ]
  },
  {
   "cell_type": "markdown",
   "id": "4109f03e",
   "metadata": {},
   "source": [
    "# produza o resumo estatístico dos seus dados usando df.describe()"
   ]
  },
  {
   "cell_type": "code",
   "execution_count": 9,
   "id": "b1c04365",
   "metadata": {},
   "outputs": [
    {
     "data": {
      "text/html": [
       "<div>\n",
       "<style scoped>\n",
       "    .dataframe tbody tr th:only-of-type {\n",
       "        vertical-align: middle;\n",
       "    }\n",
       "\n",
       "    .dataframe tbody tr th {\n",
       "        vertical-align: top;\n",
       "    }\n",
       "\n",
       "    .dataframe thead th {\n",
       "        text-align: right;\n",
       "    }\n",
       "</style>\n",
       "<table border=\"1\" class=\"dataframe\">\n",
       "  <thead>\n",
       "    <tr style=\"text-align: right;\">\n",
       "      <th></th>\n",
       "      <th>rem_dezem</th>\n",
       "      <th>temp_empr</th>\n",
       "      <th>salario</th>\n",
       "    </tr>\n",
       "  </thead>\n",
       "  <tbody>\n",
       "    <tr>\n",
       "      <th>count</th>\n",
       "      <td>43024.000000</td>\n",
       "      <td>43024.000000</td>\n",
       "      <td>43024.000000</td>\n",
       "    </tr>\n",
       "    <tr>\n",
       "      <th>mean</th>\n",
       "      <td>6.439342</td>\n",
       "      <td>192.825407</td>\n",
       "      <td>2672.326831</td>\n",
       "    </tr>\n",
       "    <tr>\n",
       "      <th>std</th>\n",
       "      <td>8.135861</td>\n",
       "      <td>103.153222</td>\n",
       "      <td>3376.382496</td>\n",
       "    </tr>\n",
       "    <tr>\n",
       "      <th>min</th>\n",
       "      <td>0.310000</td>\n",
       "      <td>0.000000</td>\n",
       "      <td>128.650000</td>\n",
       "    </tr>\n",
       "    <tr>\n",
       "      <th>25%</th>\n",
       "      <td>2.110000</td>\n",
       "      <td>121.775000</td>\n",
       "      <td>875.649959</td>\n",
       "    </tr>\n",
       "    <tr>\n",
       "      <th>50%</th>\n",
       "      <td>3.820000</td>\n",
       "      <td>195.600010</td>\n",
       "      <td>1585.299959</td>\n",
       "    </tr>\n",
       "    <tr>\n",
       "      <th>75%</th>\n",
       "      <td>7.120000</td>\n",
       "      <td>265.100010</td>\n",
       "      <td>2954.799958</td>\n",
       "    </tr>\n",
       "    <tr>\n",
       "      <th>max</th>\n",
       "      <td>148.830000</td>\n",
       "      <td>603.700010</td>\n",
       "      <td>61764.450000</td>\n",
       "    </tr>\n",
       "  </tbody>\n",
       "</table>\n",
       "</div>"
      ],
      "text/plain": [
       "          rem_dezem     temp_empr       salario\n",
       "count  43024.000000  43024.000000  43024.000000\n",
       "mean       6.439342    192.825407   2672.326831\n",
       "std        8.135861    103.153222   3376.382496\n",
       "min        0.310000      0.000000    128.650000\n",
       "25%        2.110000    121.775000    875.649959\n",
       "50%        3.820000    195.600010   1585.299959\n",
       "75%        7.120000    265.100010   2954.799958\n",
       "max      148.830000    603.700010  61764.450000"
      ]
     },
     "execution_count": 9,
     "metadata": {},
     "output_type": "execute_result"
    }
   ],
   "source": [
    "df.describe()"
   ]
  },
  {
   "cell_type": "markdown",
   "id": "31a32a2b",
   "metadata": {},
   "source": [
    "# Por que você acha que nem todas as variáveis vieram no resumo estatístico?"
   ]
  },
  {
   "cell_type": "code",
   "execution_count": 10,
   "id": "a12acc23",
   "metadata": {},
   "outputs": [],
   "source": [
    "# Porque na função 'describe()' são apresentadas apenas as colunas numéricas"
   ]
  },
  {
   "cell_type": "markdown",
   "id": "eaa2a0de",
   "metadata": {},
   "source": [
    "# Crie um Dataframe apenas com mulheres (genero = FEMININO)"
   ]
  },
  {
   "cell_type": "code",
   "execution_count": 11,
   "id": "9e13140b",
   "metadata": {},
   "outputs": [],
   "source": [
    "df_mulheres = df.loc[df['genero'] == 'FEMININO']"
   ]
  },
  {
   "cell_type": "markdown",
   "id": "f514e877",
   "metadata": {},
   "source": [
    "## produza o resumo estatístico dos dados apenas de mulheres usando df.describe()\n",
    "## Qual a média salarial das mulheres ?"
   ]
  },
  {
   "cell_type": "code",
   "execution_count": 12,
   "id": "028cb590",
   "metadata": {},
   "outputs": [
    {
     "data": {
      "text/html": [
       "<div>\n",
       "<style scoped>\n",
       "    .dataframe tbody tr th:only-of-type {\n",
       "        vertical-align: middle;\n",
       "    }\n",
       "\n",
       "    .dataframe tbody tr th {\n",
       "        vertical-align: top;\n",
       "    }\n",
       "\n",
       "    .dataframe thead th {\n",
       "        text-align: right;\n",
       "    }\n",
       "</style>\n",
       "<table border=\"1\" class=\"dataframe\">\n",
       "  <thead>\n",
       "    <tr style=\"text-align: right;\">\n",
       "      <th></th>\n",
       "      <th>rem_dezem</th>\n",
       "      <th>temp_empr</th>\n",
       "      <th>salario</th>\n",
       "    </tr>\n",
       "  </thead>\n",
       "  <tbody>\n",
       "    <tr>\n",
       "      <th>count</th>\n",
       "      <td>20377.000000</td>\n",
       "      <td>20377.000000</td>\n",
       "      <td>20377.000000</td>\n",
       "    </tr>\n",
       "    <tr>\n",
       "      <th>mean</th>\n",
       "      <td>5.558617</td>\n",
       "      <td>205.830218</td>\n",
       "      <td>2306.825879</td>\n",
       "    </tr>\n",
       "    <tr>\n",
       "      <th>std</th>\n",
       "      <td>6.971179</td>\n",
       "      <td>96.879275</td>\n",
       "      <td>2893.039287</td>\n",
       "    </tr>\n",
       "    <tr>\n",
       "      <th>min</th>\n",
       "      <td>0.340000</td>\n",
       "      <td>0.000000</td>\n",
       "      <td>141.100000</td>\n",
       "    </tr>\n",
       "    <tr>\n",
       "      <th>25%</th>\n",
       "      <td>1.910000</td>\n",
       "      <td>155.200000</td>\n",
       "      <td>792.650000</td>\n",
       "    </tr>\n",
       "    <tr>\n",
       "      <th>50%</th>\n",
       "      <td>3.420000</td>\n",
       "      <td>206.899990</td>\n",
       "      <td>1419.300042</td>\n",
       "    </tr>\n",
       "    <tr>\n",
       "      <th>75%</th>\n",
       "      <td>6.210000</td>\n",
       "      <td>272.799990</td>\n",
       "      <td>2577.150000</td>\n",
       "    </tr>\n",
       "    <tr>\n",
       "      <th>max</th>\n",
       "      <td>117.530000</td>\n",
       "      <td>603.700010</td>\n",
       "      <td>48774.950000</td>\n",
       "    </tr>\n",
       "  </tbody>\n",
       "</table>\n",
       "</div>"
      ],
      "text/plain": [
       "          rem_dezem     temp_empr       salario\n",
       "count  20377.000000  20377.000000  20377.000000\n",
       "mean       5.558617    205.830218   2306.825879\n",
       "std        6.971179     96.879275   2893.039287\n",
       "min        0.340000      0.000000    141.100000\n",
       "25%        1.910000    155.200000    792.650000\n",
       "50%        3.420000    206.899990   1419.300042\n",
       "75%        6.210000    272.799990   2577.150000\n",
       "max      117.530000    603.700010  48774.950000"
      ]
     },
     "execution_count": 12,
     "metadata": {},
     "output_type": "execute_result"
    }
   ],
   "source": [
    "df_mulheres.describe()"
   ]
  },
  {
   "cell_type": "code",
   "execution_count": 13,
   "id": "8b3f31c6",
   "metadata": {},
   "outputs": [
    {
     "data": {
      "text/plain": [
       "2306.825879013076"
      ]
     },
     "execution_count": 13,
     "metadata": {},
     "output_type": "execute_result"
    }
   ],
   "source": [
    "df_mulheres['salario'].mean()"
   ]
  },
  {
   "cell_type": "markdown",
   "id": "079d325f",
   "metadata": {},
   "source": [
    "## Qual a média salarial dos homens ? Como você poderia analisar esse dado, comparativamente com a média salarial das mulheres?"
   ]
  },
  {
   "cell_type": "code",
   "execution_count": 14,
   "id": "3655471e",
   "metadata": {},
   "outputs": [
    {
     "data": {
      "text/plain": [
       "3001.1921507212433"
      ]
     },
     "execution_count": 14,
     "metadata": {},
     "output_type": "execute_result"
    }
   ],
   "source": [
    "df_homens = df.loc[df['genero'] == 'MASCULINO']\n",
    "df_homens['salario'].mean()"
   ]
  },
  {
   "cell_type": "code",
   "execution_count": 15,
   "id": "e2df9b87",
   "metadata": {},
   "outputs": [
    {
     "data": {
      "text/plain": [
       "genero\n",
       "FEMININO     2306.825879\n",
       "MASCULINO    3001.192151\n",
       "Name: salario, dtype: float64"
      ]
     },
     "execution_count": 15,
     "metadata": {},
     "output_type": "execute_result"
    }
   ],
   "source": [
    "# outras possíveis soluções\n",
    "df[df['genero'] == 'FEMININO']['salario'].mean()\n",
    "df.groupby('genero')['salario'].mean()\n"
   ]
  },
  {
   "cell_type": "code",
   "execution_count": null,
   "id": "d6f740df",
   "metadata": {},
   "outputs": [],
   "source": []
  },
  {
   "cell_type": "markdown",
   "id": "813afa10",
   "metadata": {},
   "source": [
    "# Extra - se tiver tempo e disposição, analise os demais dados"
   ]
  },
  {
   "cell_type": "markdown",
   "id": "8aaa9225",
   "metadata": {},
   "source": [
    "## Analise as médias salariais por escolaridade. Como você analisaria esse dado?"
   ]
  },
  {
   "cell_type": "code",
   "execution_count": 28,
   "id": "0ca8af4f-f7fb-40a7-9628-f3b8303b7141",
   "metadata": {},
   "outputs": [
    {
     "data": {
      "text/plain": [
       "escolaridade\n",
       "5.A CO FUND     1221.274479\n",
       "6. A 9. FUND    1384.580328\n",
       "ATE 5.A INC     1166.281098\n",
       "FUND COMPL      1578.011251\n",
       "MEDIO COMPL     2266.440913\n",
       "MEDIO INCOMP    1774.039644\n",
       "SUP. COMP       4663.164201\n",
       "SUP. INCOMP     3385.052780\n",
       "Name: salario, dtype: float64"
      ]
     },
     "execution_count": 28,
     "metadata": {},
     "output_type": "execute_result"
    }
   ],
   "source": [
    "# apresentando a lista de forma mais simples com a média\n",
    "df.groupby('escolaridade')['salario'].mean()"
   ]
  },
  {
   "cell_type": "code",
   "execution_count": 32,
   "id": "98f77e61",
   "metadata": {},
   "outputs": [
    {
     "data": {
      "text/plain": [
       "escolaridade\n",
       "ATE 5.A INC     1166.281098\n",
       "5.A CO FUND     1221.274479\n",
       "6. A 9. FUND    1384.580328\n",
       "FUND COMPL      1578.011251\n",
       "MEDIO INCOMP    1774.039644\n",
       "MEDIO COMPL     2266.440913\n",
       "SUP. INCOMP     3385.052780\n",
       "SUP. COMP       4663.164201\n",
       "Name: salario, dtype: float64"
      ]
     },
     "execution_count": 32,
     "metadata": {},
     "output_type": "execute_result"
    }
   ],
   "source": [
    "# outra forma de exibir:\n",
    "# no comando abaixo ele extrai a média de cada grupo (até a função mean) e\n",
    "# em seguida ordena pela primeira coluna depois da coluna de índice \n",
    "# (com a função sort_values(axis=0))\n",
    "df.groupby('escolaridade')['salario'].mean().sort_values(axis=0)"
   ]
  },
  {
   "cell_type": "code",
   "execution_count": 33,
   "id": "fd13dff4-a565-4b22-af18-f3f96e36f86a",
   "metadata": {},
   "outputs": [
    {
     "data": {
      "text/html": [
       "<div>\n",
       "<style scoped>\n",
       "    .dataframe tbody tr th:only-of-type {\n",
       "        vertical-align: middle;\n",
       "    }\n",
       "\n",
       "    .dataframe tbody tr th {\n",
       "        vertical-align: top;\n",
       "    }\n",
       "\n",
       "    .dataframe thead th {\n",
       "        text-align: right;\n",
       "    }\n",
       "</style>\n",
       "<table border=\"1\" class=\"dataframe\">\n",
       "  <thead>\n",
       "    <tr style=\"text-align: right;\">\n",
       "      <th></th>\n",
       "      <th>uf</th>\n",
       "      <th>salario</th>\n",
       "    </tr>\n",
       "  </thead>\n",
       "  <tbody>\n",
       "    <tr>\n",
       "      <th>16</th>\n",
       "      <td>PI</td>\n",
       "      <td>1576.058402</td>\n",
       "    </tr>\n",
       "    <tr>\n",
       "      <th>9</th>\n",
       "      <td>MA</td>\n",
       "      <td>1783.199360</td>\n",
       "    </tr>\n",
       "    <tr>\n",
       "      <th>24</th>\n",
       "      <td>SE</td>\n",
       "      <td>1798.715574</td>\n",
       "    </tr>\n",
       "    <tr>\n",
       "      <th>14</th>\n",
       "      <td>PB</td>\n",
       "      <td>1871.538351</td>\n",
       "    </tr>\n",
       "    <tr>\n",
       "      <th>15</th>\n",
       "      <td>PE</td>\n",
       "      <td>1891.859376</td>\n",
       "    </tr>\n",
       "    <tr>\n",
       "      <th>0</th>\n",
       "      <td>AC</td>\n",
       "      <td>1901.996875</td>\n",
       "    </tr>\n",
       "    <tr>\n",
       "      <th>1</th>\n",
       "      <td>AL</td>\n",
       "      <td>1938.250394</td>\n",
       "    </tr>\n",
       "    <tr>\n",
       "      <th>19</th>\n",
       "      <td>RN</td>\n",
       "      <td>1954.314953</td>\n",
       "    </tr>\n",
       "    <tr>\n",
       "      <th>4</th>\n",
       "      <td>BA</td>\n",
       "      <td>2088.436970</td>\n",
       "    </tr>\n",
       "    <tr>\n",
       "      <th>10</th>\n",
       "      <td>MG</td>\n",
       "      <td>2218.119985</td>\n",
       "    </tr>\n",
       "    <tr>\n",
       "      <th>8</th>\n",
       "      <td>GO</td>\n",
       "      <td>2254.517035</td>\n",
       "    </tr>\n",
       "    <tr>\n",
       "      <th>5</th>\n",
       "      <td>CE</td>\n",
       "      <td>2301.380320</td>\n",
       "    </tr>\n",
       "    <tr>\n",
       "      <th>12</th>\n",
       "      <td>MT</td>\n",
       "      <td>2304.424307</td>\n",
       "    </tr>\n",
       "    <tr>\n",
       "      <th>13</th>\n",
       "      <td>PA</td>\n",
       "      <td>2349.773960</td>\n",
       "    </tr>\n",
       "    <tr>\n",
       "      <th>26</th>\n",
       "      <td>TO</td>\n",
       "      <td>2438.487763</td>\n",
       "    </tr>\n",
       "    <tr>\n",
       "      <th>21</th>\n",
       "      <td>RR</td>\n",
       "      <td>2560.846432</td>\n",
       "    </tr>\n",
       "    <tr>\n",
       "      <th>17</th>\n",
       "      <td>PR</td>\n",
       "      <td>2561.049621</td>\n",
       "    </tr>\n",
       "    <tr>\n",
       "      <th>20</th>\n",
       "      <td>RO</td>\n",
       "      <td>2561.401287</td>\n",
       "    </tr>\n",
       "    <tr>\n",
       "      <th>22</th>\n",
       "      <td>RS</td>\n",
       "      <td>2601.979683</td>\n",
       "    </tr>\n",
       "    <tr>\n",
       "      <th>23</th>\n",
       "      <td>SC</td>\n",
       "      <td>2611.617231</td>\n",
       "    </tr>\n",
       "    <tr>\n",
       "      <th>11</th>\n",
       "      <td>MS</td>\n",
       "      <td>2632.681840</td>\n",
       "    </tr>\n",
       "    <tr>\n",
       "      <th>7</th>\n",
       "      <td>ES</td>\n",
       "      <td>2652.757035</td>\n",
       "    </tr>\n",
       "    <tr>\n",
       "      <th>18</th>\n",
       "      <td>RJ</td>\n",
       "      <td>2725.695817</td>\n",
       "    </tr>\n",
       "    <tr>\n",
       "      <th>2</th>\n",
       "      <td>AM</td>\n",
       "      <td>2875.375106</td>\n",
       "    </tr>\n",
       "    <tr>\n",
       "      <th>3</th>\n",
       "      <td>AP</td>\n",
       "      <td>3056.605861</td>\n",
       "    </tr>\n",
       "    <tr>\n",
       "      <th>25</th>\n",
       "      <td>SP</td>\n",
       "      <td>3109.548814</td>\n",
       "    </tr>\n",
       "    <tr>\n",
       "      <th>6</th>\n",
       "      <td>DF</td>\n",
       "      <td>6117.452590</td>\n",
       "    </tr>\n",
       "  </tbody>\n",
       "</table>\n",
       "</div>"
      ],
      "text/plain": [
       "    uf      salario\n",
       "16  PI  1576.058402\n",
       "9   MA  1783.199360\n",
       "24  SE  1798.715574\n",
       "14  PB  1871.538351\n",
       "15  PE  1891.859376\n",
       "0   AC  1901.996875\n",
       "1   AL  1938.250394\n",
       "19  RN  1954.314953\n",
       "4   BA  2088.436970\n",
       "10  MG  2218.119985\n",
       "8   GO  2254.517035\n",
       "5   CE  2301.380320\n",
       "12  MT  2304.424307\n",
       "13  PA  2349.773960\n",
       "26  TO  2438.487763\n",
       "21  RR  2560.846432\n",
       "17  PR  2561.049621\n",
       "20  RO  2561.401287\n",
       "22  RS  2601.979683\n",
       "23  SC  2611.617231\n",
       "11  MS  2632.681840\n",
       "7   ES  2652.757035\n",
       "18  RJ  2725.695817\n",
       "2   AM  2875.375106\n",
       "3   AP  3056.605861\n",
       "25  SP  3109.548814\n",
       "6   DF  6117.452590"
      ]
     },
     "execution_count": 33,
     "metadata": {},
     "output_type": "execute_result"
    }
   ],
   "source": [
    "# outra forma de exibir:\n",
    "# no comando abaixo ele extrai a média de cada grupo (até a função mean) e\n",
    "# em seguida ordena pela coluna com nome 'salario' \n",
    "# (com a função sort_values(by='salario'))\n",
    "df.groupby('uf')['salario'].mean().reset_index().sort_values(by='salario')"
   ]
  },
  {
   "cell_type": "markdown",
   "id": "6438a5ba",
   "metadata": {},
   "source": [
    "## Analise as médias salariais por faixa etária. Como você analisaria esse dado?"
   ]
  },
  {
   "cell_type": "code",
   "execution_count": 34,
   "id": "158993b5",
   "metadata": {},
   "outputs": [
    {
     "data": {
      "text/plain": [
       "fx_etaria\n",
       "18 A 24     657.083333\n",
       "25 A 29    1053.810468\n",
       "30 A 39    2253.153156\n",
       "40 A 49    2772.889461\n",
       "50 A 64    2787.516515\n",
       "Name: salario, dtype: float64"
      ]
     },
     "execution_count": 34,
     "metadata": {},
     "output_type": "execute_result"
    }
   ],
   "source": [
    "df.groupby('fx_etaria')['salario'].mean().sort_values(axis=0)"
   ]
  },
  {
   "cell_type": "markdown",
   "id": "3376a2c7",
   "metadata": {},
   "source": [
    "## Analise as médias salariais por tamanho do estabelecimento. Como você analisaria esse dado?\n"
   ]
  },
  {
   "cell_type": "code",
   "execution_count": 35,
   "id": "afcd02b7",
   "metadata": {},
   "outputs": [
    {
     "data": {
      "text/plain": [
       "tamestab\n",
       "ATE 4           1151.220192\n",
       "DE 5 A 9        1589.225674\n",
       "DE 10 A 19      2043.524051\n",
       "DE 20 A 49      2336.029933\n",
       "DE 50 A 99      2418.347990\n",
       "DE 250 A 499    2616.906363\n",
       "DE 100 A 249    2709.340309\n",
       "DE 500 A 999    2864.502187\n",
       "1000 OU MAIS    2953.659941\n",
       "Name: salario, dtype: float64"
      ]
     },
     "execution_count": 35,
     "metadata": {},
     "output_type": "execute_result"
    }
   ],
   "source": [
    "df.groupby('tamestab')['salario'].mean().sort_values(axis=0)"
   ]
  },
  {
   "cell_type": "markdown",
   "id": "30053771",
   "metadata": {},
   "source": [
    "## Analise as médias salariais por UF. Como você analisaria esse dado?"
   ]
  },
  {
   "cell_type": "code",
   "execution_count": 36,
   "id": "117811b5",
   "metadata": {},
   "outputs": [
    {
     "data": {
      "text/plain": [
       "uf\n",
       "PI    1576.058402\n",
       "MA    1783.199360\n",
       "SE    1798.715574\n",
       "PB    1871.538351\n",
       "PE    1891.859376\n",
       "AC    1901.996875\n",
       "AL    1938.250394\n",
       "RN    1954.314953\n",
       "BA    2088.436970\n",
       "MG    2218.119985\n",
       "GO    2254.517035\n",
       "CE    2301.380320\n",
       "MT    2304.424307\n",
       "PA    2349.773960\n",
       "TO    2438.487763\n",
       "RR    2560.846432\n",
       "PR    2561.049621\n",
       "RO    2561.401287\n",
       "RS    2601.979683\n",
       "SC    2611.617231\n",
       "MS    2632.681840\n",
       "ES    2652.757035\n",
       "RJ    2725.695817\n",
       "AM    2875.375106\n",
       "AP    3056.605861\n",
       "SP    3109.548814\n",
       "DF    6117.452590\n",
       "Name: salario, dtype: float64"
      ]
     },
     "execution_count": 36,
     "metadata": {},
     "output_type": "execute_result"
    }
   ],
   "source": [
    "df.groupby('uf')['salario'].mean().sort_values(axis=0)"
   ]
  },
  {
   "cell_type": "code",
   "execution_count": null,
   "id": "a843a37a",
   "metadata": {},
   "outputs": [],
   "source": []
  }
 ],
 "metadata": {
  "kernelspec": {
   "display_name": "Python 3 (ipykernel)",
   "language": "python",
   "name": "python3"
  },
  "language_info": {
   "codemirror_mode": {
    "name": "ipython",
    "version": 3
   },
   "file_extension": ".py",
   "mimetype": "text/x-python",
   "name": "python",
   "nbconvert_exporter": "python",
   "pygments_lexer": "ipython3",
   "version": "3.11.5"
  }
 },
 "nbformat": 4,
 "nbformat_minor": 5
}
