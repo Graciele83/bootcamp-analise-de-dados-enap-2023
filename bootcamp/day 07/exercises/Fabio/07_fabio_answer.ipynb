{
 "cells": [
  {
   "cell_type": "markdown",
   "id": "93aa458b",
   "metadata": {},
   "source": [
    "# Explorando estatísticas de gênero do Banco Mundial"
   ]
  },
  {
   "cell_type": "markdown",
   "id": "98d61d23",
   "metadata": {},
   "source": [
    "Nas aulas anteriores, acessamos fontes de dados criando, nós mesmos, funções ou rotinas de consulta a suas API. \n",
    "\n",
    "Algumas fontes, no entanto, oferecem bibliotecas para facilitar as definições de parâmetros e criação de consultas, integrando-as mais suavemente ao nosso código.\n",
    "\n",
    "O Banco Mundial oferece biblioteca em Python para consultas aos seus bancos de dados:\n",
    "\n",
    "https://pypi.org/project/wbgapi/\n",
    "\n",
    "https://blogs.worldbank.org/opendata/introducing-wbgapi-new-python-package-accessing-world-bank-data"
   ]
  },
  {
   "cell_type": "code",
   "execution_count": null,
   "id": "6157f5f6",
   "metadata": {},
   "outputs": [],
   "source": [
    "# !pip install wbgapi"
   ]
  },
  {
   "cell_type": "code",
   "execution_count": null,
   "id": "7b550475",
   "metadata": {
    "tags": []
   },
   "outputs": [],
   "source": [
    "import wbgapi as wb\n",
    "import pandas as pd"
   ]
  },
  {
   "cell_type": "markdown",
   "id": "64cfc8e1",
   "metadata": {},
   "source": [
    "Podemos listas as diversas fontes de dados disponíveis com a seguinte função:"
   ]
  },
  {
   "cell_type": "code",
   "execution_count": null,
   "id": "5cd31fcf",
   "metadata": {
    "tags": []
   },
   "outputs": [],
   "source": [
    "wb.source.info()"
   ]
  },
  {
   "cell_type": "markdown",
   "id": "5292a923",
   "metadata": {},
   "source": [
    "Vamos consultas as séries de dados do banco \"Gender Statistics\":"
   ]
  },
  {
   "cell_type": "code",
   "execution_count": null,
   "id": "b2224678",
   "metadata": {},
   "outputs": [],
   "source": [
    "wb.series.info(db=14)"
   ]
  },
  {
   "cell_type": "markdown",
   "id": "ba65ff78",
   "metadata": {},
   "source": [
    "As tabelas 'SL.TLF.ACTI.FE.ZS' e 'SL.TLF.ACTI.MA.ZS' referem-se à parcela da população feminina e masculina, respectivamente, de 15 a 64 anos que integra a força de trabalho \n",
    "\n",
    "A função de consulta 'wb.data.DataFrame()' retorna, por padrão, um Pandas DataFrame em que os índices são o código ISO3 de país, região ou grupo de renda, e as colunas são anos. \n",
    "\n",
    "Vamos consultar as séries indicadas restringindo o período a um só ano, e transformá-las em Pandas Series."
   ]
  },
  {
   "cell_type": "code",
   "execution_count": null,
   "id": "062176cf",
   "metadata": {
    "scrolled": true
   },
   "outputs": [],
   "source": [
    "female_labor_force = wb.data.DataFrame('SL.TLF.ACTI.FE.ZS', time = 2019).squeeze()\n",
    "male_labor_force = wb.data.DataFrame('SL.TLF.ACTI.MA.ZS', time = 2019).squeeze()"
   ]
  },
  {
   "cell_type": "code",
   "execution_count": null,
   "id": "58949326",
   "metadata": {},
   "outputs": [],
   "source": [
    "female_labor_force"
   ]
  },
  {
   "cell_type": "markdown",
   "id": "571b5e68",
   "metadata": {},
   "source": [
    "Retorne a taxa de participação na força de trabalho feminina e masculina para o Brasil (código \"BRA\") e para mundo (código \"WLD\")."
   ]
  },
  {
   "cell_type": "code",
   "execution_count": null,
   "id": "e9dd39cc",
   "metadata": {},
   "outputs": [],
   "source": [
    "income_info"
   ]
  },
  {
   "cell_type": "code",
   "execution_count": null,
   "id": "10cbccdb",
   "metadata": {
    "scrolled": true
   },
   "outputs": [],
   "source": [
    "female_labor_force[income_levels]"
   ]
  },
  {
   "cell_type": "code",
   "execution_count": null,
   "id": "b97ffd9c",
   "metadata": {},
   "outputs": [],
   "source": [
    "print(f\"Participação feminina no Brasil: {female_labor_force['BRA']:.2f}%\")\n",
    "print(f\"Participação masculina no Brasil: {male_labor_force['BRA']:.2f}%\")\n",
    "      \n",
    "print(f\"Participação feminina no mundo: {female_labor_force['WLD']:.2f}%\")\n",
    "print(f\"Participação masculina no mundo: {male_labor_force['WLD']:.2f}%\")"
   ]
  },
  {
   "cell_type": "markdown",
   "id": "237f2621",
   "metadata": {},
   "source": [
    "Como vimos, as linhas e índices da série incluem tanto países como agregações por região e grupo de renda. Antes de prosseguir com a análise, vamos separá-los."
   ]
  },
  {
   "cell_type": "code",
   "execution_count": null,
   "id": "bcf83245",
   "metadata": {
    "scrolled": true
   },
   "outputs": [],
   "source": [
    "economy_info = wb.economy.info()\n",
    "region_info = wb.region.info()\n",
    "income_info = wb.income.info()"
   ]
  },
  {
   "cell_type": "code",
   "execution_count": null,
   "id": "3528c5bf",
   "metadata": {},
   "outputs": [],
   "source": [
    "country_codes = [pais.get('id') \n",
    "                 for pais in economy_info.items\n",
    "                 if pais.get('region') != ''] # códigos que não são países têm o campo region e income em branco\n",
    "\n",
    "income_levels = [item.get('id') for item in income_info.items]"
   ]
  },
  {
   "cell_type": "code",
   "execution_count": null,
   "id": "bfd78c81",
   "metadata": {},
   "outputs": [],
   "source": [
    "income_levels"
   ]
  },
  {
   "cell_type": "code",
   "execution_count": null,
   "id": "584fc26b",
   "metadata": {},
   "outputs": [],
   "source": [
    "paises_info = [{'id': pais.get('id'),\n",
    "                'name': pais.get('value'),\n",
    "                'region': pais.get('region'),\n",
    "                'income_level': pais.get('incomeLevel')}\n",
    "                for pais in economy_info.items \n",
    "                if pais.get(\"region\") != \"\"]"
   ]
  },
  {
   "cell_type": "markdown",
   "id": "cd69f3f9",
   "metadata": {},
   "source": [
    "Com os objetos que já temos, crie a série female_labor_force_income e male_labor_force_income, subconjuntos das séries completas onde os índices são somente os códigos dos grupos de renda.\n",
    "\n",
    "Em seguida, crie as séries female_labor_force_country e male_labor_force_country, somente com códigos de países."
   ]
  },
  {
   "cell_type": "code",
   "execution_count": null,
   "id": "761736b7",
   "metadata": {},
   "outputs": [],
   "source": [
    "female_labor_force_income = female_labor_force[income_levels]\n",
    "male_labor_force_income = male_labor_force[income_levels]"
   ]
  },
  {
   "cell_type": "code",
   "execution_count": null,
   "id": "073fd2b1",
   "metadata": {},
   "outputs": [],
   "source": [
    "female_labor_force_country = female_labor_force[country_codes]\n",
    "male_labor_force_country = male_labor_force[country_codes]"
   ]
  },
  {
   "cell_type": "markdown",
   "id": "9e9a575d",
   "metadata": {},
   "source": [
    "Agora junte as séries em dois DataFrames: um com as participações feminina e masculina por grupo de renda, outro por país. Adicione também, em cada DataFrame, uma coluna com a diferença entre as taxas."
   ]
  },
  {
   "cell_type": "code",
   "execution_count": null,
   "id": "881a1598",
   "metadata": {},
   "outputs": [],
   "source": [
    "labor_force_income = pd.DataFrame({\"female_rate\": female_labor_force_income,\n",
    "                                   \"male_rate\": male_labor_force_income,\n",
    "                                   \"rate_gap\": male_labor_force_income - female_labor_force_income})"
   ]
  },
  {
   "cell_type": "code",
   "execution_count": null,
   "id": "4f828eca",
   "metadata": {},
   "outputs": [],
   "source": [
    "labor_force_income"
   ]
  },
  {
   "cell_type": "code",
   "execution_count": null,
   "id": "88ff854d",
   "metadata": {},
   "outputs": [],
   "source": [
    "labor_force_income.describe()"
   ]
  },
  {
   "cell_type": "code",
   "execution_count": null,
   "id": "f6f12083",
   "metadata": {},
   "outputs": [],
   "source": [
    "type(male_labor_force_country - female_labor_force_country)"
   ]
  },
  {
   "cell_type": "code",
   "execution_count": null,
   "id": "2a9e5d88",
   "metadata": {},
   "outputs": [],
   "source": [
    "labor_force_country = pd.DataFrame({\"female_rate\": female_labor_force_country,\n",
    "                                    \"male_rate\": male_labor_force_country,\n",
    "                                    \"rate_gap\": male_labor_force_country - female_labor_force_country})"
   ]
  },
  {
   "cell_type": "code",
   "execution_count": null,
   "id": "ef26d35a",
   "metadata": {},
   "outputs": [],
   "source": [
    "labor_force_country"
   ]
  },
  {
   "cell_type": "markdown",
   "id": "d0ae9559",
   "metadata": {},
   "source": [
    "Encontre a média, mediana, mínimo e máximo das participações e da diferença, dentre os países."
   ]
  },
  {
   "cell_type": "code",
   "execution_count": null,
   "id": "32388a7a",
   "metadata": {
    "scrolled": true
   },
   "outputs": [],
   "source": [
    "labor_force_country.mean()"
   ]
  },
  {
   "cell_type": "code",
   "execution_count": null,
   "id": "103083ea",
   "metadata": {
    "scrolled": true
   },
   "outputs": [],
   "source": [
    "labor_force_country.median(axis = \"index\")"
   ]
  },
  {
   "cell_type": "code",
   "execution_count": null,
   "id": "3dac4158",
   "metadata": {},
   "outputs": [],
   "source": [
    "labor_force_country.max(axis = \"index\")"
   ]
  },
  {
   "cell_type": "code",
   "execution_count": null,
   "id": "e2173545",
   "metadata": {},
   "outputs": [],
   "source": [
    "labor_force_country.min(axis = \"index\")"
   ]
  },
  {
   "cell_type": "code",
   "execution_count": null,
   "id": "c163b8d0",
   "metadata": {},
   "outputs": [],
   "source": [
    "labor_force_income['rate_gap'].min()"
   ]
  },
  {
   "cell_type": "code",
   "execution_count": null,
   "id": "3a8788a4",
   "metadata": {},
   "outputs": [],
   "source": [
    "labor_force_income.loc[labor_force_income['rate_gap'] == labor_force_income['rate_gap'].max()]"
   ]
  },
  {
   "cell_type": "markdown",
   "id": "362c4c68",
   "metadata": {},
   "source": [
    "Encontre qual o grupo de renda com menor diferença entre as taxas de participação na força de trabalho."
   ]
  },
  {
   "cell_type": "code",
   "execution_count": null,
   "id": "6cf34f05",
   "metadata": {
    "scrolled": true
   },
   "outputs": [],
   "source": [
    "labor_force_income['rate_gap'].idxmin()"
   ]
  },
  {
   "cell_type": "markdown",
   "id": "b0900001",
   "metadata": {},
   "source": [
    "Encontre a média da taxa de participação feminina na força de trabalho entre os países Brasil, Argentina, Uruguai e Paraguai, e entre os países Canadá e Estados Unidos."
   ]
  },
  {
   "cell_type": "code",
   "execution_count": null,
   "id": "0e9984de",
   "metadata": {},
   "outputs": [],
   "source": [
    "[pais.get('id') \n",
    " for pais in paises_info \n",
    " if pais.get('name') in ['Brazil', 'Argentina', 'Uruguay', 'Paraguay']]"
   ]
  },
  {
   "cell_type": "code",
   "execution_count": null,
   "id": "75f90af4",
   "metadata": {},
   "outputs": [],
   "source": [
    "female_labor_force_country[['BRA', 'ARG', 'URY', 'PRY']].mean()"
   ]
  },
  {
   "cell_type": "code",
   "execution_count": null,
   "id": "b6ddd0b1",
   "metadata": {
    "scrolled": true
   },
   "outputs": [],
   "source": [
    "female_labor_force_country[['USA', 'CAN']].mean()"
   ]
  }
 ],
 "metadata": {
  "kernelspec": {
   "display_name": "Python 3 (ipykernel)",
   "language": "python",
   "name": "python3"
  },
  "language_info": {
   "codemirror_mode": {
    "name": "ipython",
    "version": 3
   },
   "file_extension": ".py",
   "mimetype": "text/x-python",
   "name": "python",
   "nbconvert_exporter": "python",
   "pygments_lexer": "ipython3",
   "version": "3.11.5"
  },
  "toc": {
   "base_numbering": 1,
   "nav_menu": {},
   "number_sections": true,
   "sideBar": true,
   "skip_h1_title": false,
   "title_cell": "Table of Contents",
   "title_sidebar": "Contents",
   "toc_cell": false,
   "toc_position": {},
   "toc_section_display": true,
   "toc_window_display": false
  }
 },
 "nbformat": 4,
 "nbformat_minor": 5
}
