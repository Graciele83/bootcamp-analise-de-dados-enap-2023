{
 "cells": [
  {
   "cell_type": "markdown",
   "id": "0aafea2d",
   "metadata": {},
   "source": [
    "# Explorando estatísticas de gênero do Banco Mundial"
   ]
  },
  {
   "cell_type": "markdown",
   "id": "c6c26429",
   "metadata": {},
   "source": [
    "Nas aulas anteriores, acessamos fontes de dados criando, nós mesmos, funções ou rotinas de consulta a suas API. \n",
    "\n",
    "Algumas fontes, no entanto, oferecem bibliotecas para facilitar as definições de parâmetros e criação de consultas, integrando-as mais suavemente ao nosso código.\n",
    "\n",
    "O Banco Mundial oferece biblioteca em Python para consultas aos seus bancos de dados:\n",
    "\n",
    "https://pypi.org/project/wbgapi/\n",
    "\n",
    "https://blogs.worldbank.org/opendata/introducing-wbgapi-new-python-package-accessing-world-bank-data"
   ]
  },
  {
   "cell_type": "code",
   "execution_count": null,
   "id": "5d37ce9e",
   "metadata": {},
   "outputs": [],
   "source": [
    "# !pip install wbgapi"
   ]
  },
  {
   "cell_type": "code",
   "execution_count": null,
   "id": "2f46d5f8",
   "metadata": {},
   "outputs": [],
   "source": [
    "import wbgapi as wb\n",
    "import pandas as pd"
   ]
  },
  {
   "cell_type": "markdown",
   "id": "2ff7e2a5",
   "metadata": {},
   "source": [
    "Podemos listas as diversas fontes de dados disponíveis com a seguinte função:"
   ]
  },
  {
   "cell_type": "code",
   "execution_count": null,
   "id": "d32a2a45",
   "metadata": {
    "scrolled": true
   },
   "outputs": [],
   "source": [
    "wb.source.info()"
   ]
  },
  {
   "cell_type": "markdown",
   "id": "384e63fd",
   "metadata": {},
   "source": [
    "Vamos consultas as séries de dados do banco \"Gender Statistics\":"
   ]
  },
  {
   "cell_type": "code",
   "execution_count": null,
   "id": "38c0bb76",
   "metadata": {
    "scrolled": true
   },
   "outputs": [],
   "source": [
    "wb.series.info(db=14)"
   ]
  },
  {
   "cell_type": "markdown",
   "id": "5b615b1d",
   "metadata": {},
   "source": [
    "As tabelas 'SL.TLF.ACTI.FE.ZS' e 'SL.TLF.ACTI.MA.ZS' referem-se à parcela da população feminina e masculina, respectivamente, de 15 a 64 anos que integra a força de trabalho \n",
    "\n",
    "A função de consulta 'wb.data.DataFrame()' retorna, por padrão, um Pandas DataFrame em que os índices são o código ISO3 de país, região ou grupo de renda, e as colunas são anos. \n",
    "\n",
    "Vamos consultar as séries indicadas restringindo o período a um só ano, e transformá-las em Pandas Series."
   ]
  },
  {
   "cell_type": "code",
   "execution_count": null,
   "id": "86299144",
   "metadata": {
    "scrolled": true
   },
   "outputs": [],
   "source": [
    "female_labor_force = wb.data.DataFrame('SL.TLF.ACTI.FE.ZS', time = 2019).squeeze()\n",
    "male_labor_force = wb.data.DataFrame('SL.TLF.ACTI.MA.ZS', time = 2019).squeeze()"
   ]
  },
  {
   "cell_type": "markdown",
   "id": "1967acd6",
   "metadata": {},
   "source": [
    "Retorne a taxa de participação na força de trabalho feminina e masculina para o Brasil (código \"BRA\") e para mundo (código \"WLD\")."
   ]
  },
  {
   "cell_type": "code",
   "execution_count": null,
   "id": "a3d30455",
   "metadata": {},
   "outputs": [],
   "source": []
  },
  {
   "cell_type": "markdown",
   "id": "b2f8d7a7",
   "metadata": {},
   "source": [
    "Como vimos, as linhas e índices da série incluem tanto países como agregações por região e grupo de renda. Antes de prosseguir com a análise, vamos separá-los."
   ]
  },
  {
   "cell_type": "code",
   "execution_count": null,
   "id": "c5d73764",
   "metadata": {
    "scrolled": true
   },
   "outputs": [],
   "source": [
    "economy_info = wb.economy.info()\n",
    "region_info = wb.region.info()\n",
    "income_info = wb.income.info()"
   ]
  },
  {
   "cell_type": "code",
   "execution_count": null,
   "id": "181c697d",
   "metadata": {},
   "outputs": [],
   "source": [
    "country_codes = [pais.get('id') \n",
    "                 for pais in economy_info.items\n",
    "                 if pais.get('region') != ''] # códigos que não são países têm o campo region e income em branco\n",
    "\n",
    "income_levels = [item.get('id') for item in income_info.items]"
   ]
  },
  {
   "cell_type": "code",
   "execution_count": null,
   "id": "97a6c121",
   "metadata": {},
   "outputs": [],
   "source": [
    "paises_info = [{'id': pais.get('id'),\n",
    "                'name': pais.get('value'),\n",
    "                'region': pais.get('region'),\n",
    "                'income_level': pais.get('incomeLevel')}\n",
    "                for pais in economy_info.items \n",
    "                if pais.get(\"region\") != \"\"]"
   ]
  },
  {
   "cell_type": "markdown",
   "id": "b67c65c0",
   "metadata": {},
   "source": [
    "Com os objetos que já temos, crie a série female_labor_force_income e male_labor_force_income, subconjuntos das séries completas onde os índices são somente os códigos dos grupos de renda.\n",
    "\n",
    "Em seguida, crie as séries female_labor_force_country e male_labor_force_country, somente com códigos de países."
   ]
  },
  {
   "cell_type": "code",
   "execution_count": null,
   "id": "ed37bf5c",
   "metadata": {},
   "outputs": [],
   "source": []
  },
  {
   "cell_type": "code",
   "execution_count": null,
   "id": "49a2a367",
   "metadata": {},
   "outputs": [],
   "source": []
  },
  {
   "cell_type": "markdown",
   "id": "4cf8b7f8",
   "metadata": {},
   "source": [
    "Agora junte as séries em dois DataFrames: um com as participações feminina e masculina por grupo de renda, outro por país. Adicione também, em cada DataFrame, uma coluna com a diferença entre as taxas."
   ]
  },
  {
   "cell_type": "code",
   "execution_count": null,
   "id": "3eb36292",
   "metadata": {},
   "outputs": [],
   "source": []
  },
  {
   "cell_type": "code",
   "execution_count": null,
   "id": "7fce94fe",
   "metadata": {},
   "outputs": [],
   "source": []
  },
  {
   "cell_type": "markdown",
   "id": "29f818d1",
   "metadata": {},
   "source": [
    "Encontre a média, mediana, mínimo e máximo das participações e da diferença, dentre os países."
   ]
  },
  {
   "cell_type": "code",
   "execution_count": null,
   "id": "b3fefb8a",
   "metadata": {
    "scrolled": false
   },
   "outputs": [],
   "source": []
  },
  {
   "cell_type": "code",
   "execution_count": null,
   "id": "1065e2ab",
   "metadata": {
    "scrolled": false
   },
   "outputs": [],
   "source": []
  },
  {
   "cell_type": "code",
   "execution_count": null,
   "id": "4c91bb51",
   "metadata": {
    "scrolled": true
   },
   "outputs": [],
   "source": []
  },
  {
   "cell_type": "code",
   "execution_count": null,
   "id": "5a11c4b6",
   "metadata": {
    "scrolled": true
   },
   "outputs": [],
   "source": []
  },
  {
   "cell_type": "markdown",
   "id": "796f6862",
   "metadata": {},
   "source": [
    "Encontre qual o grupo de renda com menor diferença entre as taxas de participação na força de trabalho."
   ]
  },
  {
   "cell_type": "code",
   "execution_count": null,
   "id": "abd69fa4",
   "metadata": {},
   "outputs": [],
   "source": []
  },
  {
   "cell_type": "markdown",
   "id": "e5c6eb8e",
   "metadata": {},
   "source": [
    "Encontre a média da taxa de participação feminina na força de trabalho entre os países Brasil, Argentina, Uruguai e Paraguai, e entre os países Canadá e Estados Unidos."
   ]
  },
  {
   "cell_type": "code",
   "execution_count": null,
   "id": "dad07afa",
   "metadata": {},
   "outputs": [],
   "source": []
  },
  {
   "cell_type": "code",
   "execution_count": null,
   "id": "ddefa9a0",
   "metadata": {
    "scrolled": true
   },
   "outputs": [],
   "source": []
  }
 ],
 "metadata": {
  "kernelspec": {
   "display_name": "Python 3 (ipykernel)",
   "language": "python",
   "name": "python3"
  },
  "language_info": {
   "codemirror_mode": {
    "name": "ipython",
    "version": 3
   },
   "file_extension": ".py",
   "mimetype": "text/x-python",
   "name": "python",
   "nbconvert_exporter": "python",
   "pygments_lexer": "ipython3",
   "version": "3.11.5"
  },
  "toc": {
   "base_numbering": 1,
   "nav_menu": {},
   "number_sections": true,
   "sideBar": true,
   "skip_h1_title": false,
   "title_cell": "Table of Contents",
   "title_sidebar": "Contents",
   "toc_cell": false,
   "toc_position": {},
   "toc_section_display": true,
   "toc_window_display": false
  }
 },
 "nbformat": 4,
 "nbformat_minor": 5
}
