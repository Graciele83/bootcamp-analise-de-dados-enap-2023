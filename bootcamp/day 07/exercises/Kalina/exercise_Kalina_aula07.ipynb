{
 "cells": [
  {
   "cell_type": "markdown",
   "id": "f773e7bb",
   "metadata": {},
   "source": [
    "# Exercícios - Análise de Dados 🕵🏽 🎲 em Alto Desempenho 🚀 🧞‍♂️"
   ]
  },
  {
   "cell_type": "markdown",
   "id": "ed98d27a",
   "metadata": {},
   "source": [
    "## Manipulando dados do Titanic \n",
    "\n",
    "### Importando e examinando os dados\n",
    "\n",
    "Carregue um arquivo .csv em um DataFrame e execute as seguintes ações:\n",
    "1. Examine as 5 primeiras linhas e as 5 últimas linhas.\n",
    "2. Visualize a informação básica sobre o DataFrame, incluindo o número de valores não nulos, os tipos dos dados das colunas e o quanto de memória o DataFrame utiliza.\n",
    "3. Use a função **describe()** para visualizar o resumo estatístico dos dados.\n",
    "\n",
    "Use o conjunto de dados do \"Titanic\", um dataset famoso no aprendizado de *machine learning* e estatística, disponível na seguinte url:\n",
    "\n",
    "```\n",
    "url = \"https://raw.githubusercontent.com/datasciencedojo/datasets/master/titanic.csv\"\n",
    "```"
   ]
  },
  {
   "cell_type": "code",
   "execution_count": 10,
   "id": "2970e090",
   "metadata": {},
   "outputs": [
    {
     "name": "stdout",
     "output_type": "stream",
     "text": [
      "--2023-09-21 20:33:55--  https://raw.githubusercontent.com/datasciencedojo/datasets/master/titanic.csv\n",
      "Resolving raw.githubusercontent.com (raw.githubusercontent.com)... 2606:50c0:8000::154, 2606:50c0:8002::154, 2606:50c0:8003::154, ...\n",
      "Connecting to raw.githubusercontent.com (raw.githubusercontent.com)|2606:50c0:8000::154|:443... connected.\n",
      "HTTP request sent, awaiting response... 200 OK\n",
      "Length: 60302 (59K) [text/plain]\n",
      "Saving to: ‘titanic.csv’\n",
      "\n",
      "titanic.csv         100%[===================>]  58.89K  --.-KB/s    in 0.01s   \n",
      "\n",
      "2023-09-21 20:33:55 (5.84 MB/s) - ‘titanic.csv’ saved [60302/60302]\n",
      "\n"
     ]
    }
   ],
   "source": [
    "#caso queira baixar o arquivo .csv para a sua maquina\n",
    "!wget \"https://raw.githubusercontent.com/datasciencedojo/datasets/master/titanic.csv\""
   ]
  },
  {
   "cell_type": "code",
   "execution_count": null,
   "id": "8206d9a7",
   "metadata": {},
   "outputs": [],
   "source": []
  },
  {
   "cell_type": "markdown",
   "id": "69eaa819",
   "metadata": {},
   "source": [
    "### Indexação e *slicing*\n",
    "\n",
    "Utilizando o dataframe contendo dados do Titanic, realize as seguintes operações:\n",
    "1. Selecione uma coluna pelo seu nome e visualize o seu conteúdo.\n",
    "2. Selecione múltiplas colunas pelos seus nomes e visualize o seu conteúdo.\n",
    "3. Filtre as linhas do dataframe em que os passageiros eram crianças, ou seja, tinham idade menor ou igual a 12.\n",
    "3. Use a função **iloc** para selecionar o intervalo de linhas [10,20]."
   ]
  },
  {
   "cell_type": "code",
   "execution_count": null,
   "id": "e789768e",
   "metadata": {},
   "outputs": [],
   "source": []
  },
  {
   "cell_type": "markdown",
   "id": "9ede87e2",
   "metadata": {},
   "source": [
    "### Operações básicas sobre os dados"
   ]
  },
  {
   "cell_type": "markdown",
   "id": "841c40ba",
   "metadata": {},
   "source": [
    "Realize as seguintes operações:\n",
    "1. Encontre os valores de passagem mais baratos e mais caros pagos pelos passageiros do Titanic. Use as funções **idxmin()** e **idxmax()** para tal.\n",
    "2. Calcule a média de idade dos passageiros do Titanic.\n",
    "\n",
    "Confira sua resposta com a saída da função **describe()**."
   ]
  },
  {
   "cell_type": "code",
   "execution_count": null,
   "id": "36c10182",
   "metadata": {},
   "outputs": [],
   "source": []
  },
  {
   "cell_type": "markdown",
   "id": "7af34ce6",
   "metadata": {},
   "source": [
    "### Operações básicas sobre o DataFrame"
   ]
  },
  {
   "cell_type": "markdown",
   "id": "5f911132",
   "metadata": {},
   "source": [
    "Realize as seguintes operações sobre o dataframe contendo dados do Titanic.\n",
    "\n",
    "1. Você percebe que as colunas **SibSp**, **Parch**, **Cabin**, **Ticket** e **Embarked** não contribuem para a sua análise dos dados do conjunto. Exclua essas colunas do dataframe.\n",
    "2. Também acha que os nomes das colunas não estão legais. Mude os nomes das colunas do inglês para o português."
   ]
  },
  {
   "cell_type": "code",
   "execution_count": null,
   "id": "bc5946cb",
   "metadata": {},
   "outputs": [],
   "source": []
  }
 ],
 "metadata": {
  "kernelspec": {
   "display_name": "Python 3 (ipykernel)",
   "language": "python",
   "name": "python3"
  },
  "language_info": {
   "codemirror_mode": {
    "name": "ipython",
    "version": 3
   },
   "file_extension": ".py",
   "mimetype": "text/x-python",
   "name": "python",
   "nbconvert_exporter": "python",
   "pygments_lexer": "ipython3",
   "version": "3.11.3"
  },
  "toc": {
   "base_numbering": 1,
   "nav_menu": {},
   "number_sections": true,
   "sideBar": true,
   "skip_h1_title": false,
   "title_cell": "Table of Contents",
   "title_sidebar": "Contents",
   "toc_cell": false,
   "toc_position": {},
   "toc_section_display": true,
   "toc_window_display": false
  }
 },
 "nbformat": 4,
 "nbformat_minor": 5
}
