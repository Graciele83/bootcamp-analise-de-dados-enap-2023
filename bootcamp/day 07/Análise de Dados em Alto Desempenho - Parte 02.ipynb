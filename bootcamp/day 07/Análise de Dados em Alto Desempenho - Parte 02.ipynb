{
 "cells": [
  {
   "cell_type": "markdown",
   "id": "21b7143c-702e-46aa-8a19-9d7a194673c2",
   "metadata": {
    "slideshow": {
     "slide_type": "slide"
    }
   },
   "source": [
    "# Análise de Dados 🕵🏽 🎲 em Alto Desempenho 🚀 🧞‍♂️"
   ]
  },
  {
   "cell_type": "markdown",
   "id": "654c608d-808f-44c3-90a0-468700721989",
   "metadata": {
    "slideshow": {
     "slide_type": "subslide"
    },
    "tags": []
   },
   "source": [
    "## Sumário da Aula"
   ]
  },
  {
   "cell_type": "markdown",
   "id": "5b1667af-6b6c-46b8-b573-4545807ee361",
   "metadata": {
    "slideshow": {
     "slide_type": "-"
    }
   },
   "source": [
    "<ul>\n",
    "    <li>Pandas 🐼</li>\n",
    "    <ul>\n",
    "        <li>Recapitulando Aspectos do Pandas 🐼</li>\n",
    "        <li>DataFrame 📽️</li>\n",
    "        <li>Descrição dos Dados ✍️ 🎲</li>\n",
    "    </ul>\n",
    "    <li>Juntando as Peças 🧩</li>\n",
    "    <ul>\n",
    "        <li>(Fontes de Dados 🚰 ➕ Manipulação 🪡 ➕ Análise de Dados 🕵🏽) <sup>Alto Desempenho 🚀 🧞‍♂️</li>\n",
    "    </ul>\n",
    "</ul>"
   ]
  },
  {
   "cell_type": "markdown",
   "id": "77c52ca4-b2ca-4d96-831c-942f93121b28",
   "metadata": {
    "slideshow": {
     "slide_type": "slide"
    },
    "tags": []
   },
   "source": [
    "## Pandas 🐼"
   ]
  },
  {
   "cell_type": "markdown",
   "id": "c7dea01e-e9c7-42c8-adb0-78f5f84e8c65",
   "metadata": {
    "slideshow": {
     "slide_type": "-"
    },
    "tags": []
   },
   "source": [
    "### Biblioteca Principal 📚: pandas"
   ]
  },
  {
   "cell_type": "markdown",
   "id": "f0724d30-9465-420e-a535-0aa39eeb08ba",
   "metadata": {
    "slideshow": {
     "slide_type": "-"
    }
   },
   "source": [
    "<img src=\"https://pandas.pydata.org/docs/_static/pandas.svg\" width=\"100\" style=\"float: right;\">"
   ]
  },
  {
   "cell_type": "code",
   "execution_count": 1,
   "id": "e37c9feb-a5ef-411d-b386-87fe32c12fa9",
   "metadata": {
    "slideshow": {
     "slide_type": "-"
    }
   },
   "outputs": [],
   "source": [
    "!pip install --upgrade pandas --quiet"
   ]
  },
  {
   "cell_type": "code",
   "execution_count": 2,
   "id": "e9880581-a67e-480b-bc53-9d6dba1e6791",
   "metadata": {
    "slideshow": {
     "slide_type": "-"
    }
   },
   "outputs": [],
   "source": [
    "import pandas as pd"
   ]
  },
  {
   "cell_type": "markdown",
   "id": "104a797b-b23b-4732-826f-be23a5c3bc79",
   "metadata": {
    "slideshow": {
     "slide_type": "subslide"
    },
    "tags": []
   },
   "source": [
    "### Recapitulando Aspectos do Pandas 🐼"
   ]
  },
  {
   "cell_type": "markdown",
   "id": "45d82c0c-df1a-44ca-9953-2265f4710d0b",
   "metadata": {
    "slideshow": {
     "slide_type": "-"
    }
   },
   "source": [
    "<ul>\n",
    "    <li>Análise de Dados 🕵🏽 🎲 em Alto Desempenho 🚀 🧞‍♂️</li>\n",
    "    <li>Frequentemente utilizado com bibliotecas:\n",
    "        <ul>\n",
    "            <li>de computação numérica, e.g. NumPy, SciPy;</li>\n",
    "            <li>analíticas, e.g. como statsmodels e scikit-learn</li>\n",
    "            <li>de visualização de dados, e.g. matplotlib e seaborn.</li>\n",
    "        </ul>\n",
    "    </li>\n",
    "    <li>Adota o estilo idiomático de Computação Vetorizada 🧮 do NumPy, especialmente:\n",
    "        <ul>\n",
    "            <li>função baseada em vetores (<i>arrays</i>)</li>\n",
    "            <li>preferência por processamento de dados sem laços <i>for</i></li>\n",
    "        </ul>\n",
    "    </li>\n",
    "    <li>No entanto, há uma diferença significativa:\n",
    "        <ul>\n",
    "            <li>Pandas é desenhado para trabalhar com dados tabulares e heterogêneos; e</li>\n",
    "            <li>NumPy é desenhado para trabalhar com dados numéricos homogêneos.</li>\n",
    "        </ul>\n",
    "    </li>\n",
    "    <li>É maduro, aplicável em um vasto cenário de casos de usos reais e tem uma comunidade com mais de 2500 colaboradores</li>\n",
    "</ul>"
   ]
  },
  {
   "cell_type": "markdown",
   "id": "1d9f035e-3ce7-4c75-b1f6-3e803326a251",
   "metadata": {
    "slideshow": {
     "slide_type": "-"
    }
   },
   "source": [
    "👉 Referência: <a href='https://pandas.pydata.org/'>pandas.pydata.org</a>"
   ]
  },
  {
   "cell_type": "markdown",
   "id": "5b76be5f-319f-4f46-8fdf-9c732b82621e",
   "metadata": {
    "slideshow": {
     "slide_type": "-"
    }
   },
   "source": [
    "👉 Pandas <a href='https://pandas.pydata.org/Pandas_Cheat_Sheet.pdf'>cheat sheet</a>"
   ]
  },
  {
   "cell_type": "markdown",
   "id": "ba260f5d-4a61-4727-ac7d-946e88db350f",
   "metadata": {
    "slideshow": {
     "slide_type": "slide"
    },
    "tags": []
   },
   "source": [
    "### DataFrame 📽️"
   ]
  },
  {
   "cell_type": "markdown",
   "id": "47a80e66-747f-4611-8975-227dbb59cf7a",
   "metadata": {
    "slideshow": {
     "slide_type": "-"
    }
   },
   "source": [
    "<ul>\n",
    "    <li>Objeto de <b>duas</b> dimensões equivalente ao <b>2D ndarray</b> do NumPy</li>\n",
    "    <ul>\n",
    "        <li>contém uma coleção de colunas ordenadas; onde</li>\n",
    "        <ul>\n",
    "            <li> cada coluna pode conter diferentes tipos de dados (numérico, string, booleano, entre outros)</li>\n",
    "        </ul>\n",
    "        <li>dois vetores (<i>arrays</i>) de rótulos chamados de índice de linha e índice de coluna</li>\n",
    "    </ul>\n",
    "</ul>"
   ]
  },
  {
   "cell_type": "markdown",
   "id": "8bbb8e95-4760-44cd-974e-5028633127bd",
   "metadata": {
    "slideshow": {
     "slide_type": "-"
    }
   },
   "source": [
    "<img src=\"https://www.w3resource.com/w3r_images/pandas-series-image.svg\" style=\"margin-left: auto; margin-right: auto;\">"
   ]
  },
  {
   "cell_type": "markdown",
   "id": "3ed12695-4b18-4a6c-9f52-e0bf23f20d3f",
   "metadata": {
    "slideshow": {
     "slide_type": "-"
    }
   },
   "source": [
    "👉 Referência: <a href='https://pandas.pydata.org/pandas-docs/stable/reference/api/pandas.DataFrame.html'>pandas.DataFrame</a>"
   ]
  },
  {
   "cell_type": "markdown",
   "id": "43baca6f-81a6-4cd5-ad44-7ad1c970d268",
   "metadata": {
    "slideshow": {
     "slide_type": "subslide"
    }
   },
   "source": [
    "<pre>Você pode criar um DataFrame a partir de um dicionário de listas...</pre>"
   ]
  },
  {
   "cell_type": "code",
   "execution_count": 3,
   "id": "69a49b3b-a2bb-4a2f-b857-bc8f8b565c71",
   "metadata": {
    "slideshow": {
     "slide_type": "-"
    }
   },
   "outputs": [
    {
     "data": {
      "text/html": [
       "<div>\n",
       "<style scoped>\n",
       "    .dataframe tbody tr th:only-of-type {\n",
       "        vertical-align: middle;\n",
       "    }\n",
       "\n",
       "    .dataframe tbody tr th {\n",
       "        vertical-align: top;\n",
       "    }\n",
       "\n",
       "    .dataframe thead th {\n",
       "        text-align: right;\n",
       "    }\n",
       "</style>\n",
       "<table border=\"1\" class=\"dataframe\">\n",
       "  <thead>\n",
       "    <tr style=\"text-align: right;\">\n",
       "      <th></th>\n",
       "      <th>state</th>\n",
       "      <th>year</th>\n",
       "      <th>pop</th>\n",
       "    </tr>\n",
       "  </thead>\n",
       "  <tbody>\n",
       "    <tr>\n",
       "      <th>0</th>\n",
       "      <td>Ohio</td>\n",
       "      <td>2000</td>\n",
       "      <td>1.5</td>\n",
       "    </tr>\n",
       "    <tr>\n",
       "      <th>1</th>\n",
       "      <td>Ohio</td>\n",
       "      <td>2001</td>\n",
       "      <td>1.7</td>\n",
       "    </tr>\n",
       "    <tr>\n",
       "      <th>2</th>\n",
       "      <td>Ohio</td>\n",
       "      <td>2002</td>\n",
       "      <td>3.6</td>\n",
       "    </tr>\n",
       "    <tr>\n",
       "      <th>3</th>\n",
       "      <td>Nevada</td>\n",
       "      <td>2001</td>\n",
       "      <td>2.4</td>\n",
       "    </tr>\n",
       "    <tr>\n",
       "      <th>4</th>\n",
       "      <td>Nevada</td>\n",
       "      <td>2002</td>\n",
       "      <td>2.9</td>\n",
       "    </tr>\n",
       "    <tr>\n",
       "      <th>5</th>\n",
       "      <td>Nevada</td>\n",
       "      <td>2003</td>\n",
       "      <td>3.2</td>\n",
       "    </tr>\n",
       "  </tbody>\n",
       "</table>\n",
       "</div>"
      ],
      "text/plain": [
       "    state  year  pop\n",
       "0    Ohio  2000  1.5\n",
       "1    Ohio  2001  1.7\n",
       "2    Ohio  2002  3.6\n",
       "3  Nevada  2001  2.4\n",
       "4  Nevada  2002  2.9\n",
       "5  Nevada  2003  3.2"
      ]
     },
     "execution_count": 3,
     "metadata": {},
     "output_type": "execute_result"
    }
   ],
   "source": [
    "data = {\"state\": [\"Ohio\", \"Ohio\", \"Ohio\", \n",
    "                  \"Nevada\", \"Nevada\", \"Nevada\"],\n",
    "        \"year\": [2000, 2001, 2002, 2001, 2002, 2003],\n",
    "        \"pop\": [1.5, 1.7, 3.6, 2.4, 2.9, 3.2]}\n",
    "\n",
    "frame = pd.DataFrame(data)\n",
    "frame"
   ]
  },
  {
   "cell_type": "markdown",
   "id": "2e17624c-aa99-4067-9e01-4da9a7bb1553",
   "metadata": {
    "slideshow": {
     "slide_type": "subslide"
    },
    "tags": []
   },
   "source": [
    "<pre>... ou a partir de um dicionário de dicionários</pre>"
   ]
  },
  {
   "cell_type": "markdown",
   "id": "f3710c5a-e857-4982-9a31-14d04e7b45f1",
   "metadata": {
    "slideshow": {
     "slide_type": "-"
    },
    "tags": []
   },
   "source": [
    "👉 dica: as chaves externas serão os nomes das colunas e as chaves internas serão os nomes das linhas"
   ]
  },
  {
   "cell_type": "code",
   "execution_count": 4,
   "id": "75f881a8-ce45-40a9-a387-8e80456c6426",
   "metadata": {
    "slideshow": {
     "slide_type": "-"
    }
   },
   "outputs": [
    {
     "data": {
      "text/html": [
       "<div>\n",
       "<style scoped>\n",
       "    .dataframe tbody tr th:only-of-type {\n",
       "        vertical-align: middle;\n",
       "    }\n",
       "\n",
       "    .dataframe tbody tr th {\n",
       "        vertical-align: top;\n",
       "    }\n",
       "\n",
       "    .dataframe thead th {\n",
       "        text-align: right;\n",
       "    }\n",
       "</style>\n",
       "<table border=\"1\" class=\"dataframe\">\n",
       "  <thead>\n",
       "    <tr style=\"text-align: right;\">\n",
       "      <th></th>\n",
       "      <th>Ohio</th>\n",
       "      <th>Nevada</th>\n",
       "    </tr>\n",
       "  </thead>\n",
       "  <tbody>\n",
       "    <tr>\n",
       "      <th>2000</th>\n",
       "      <td>1.5</td>\n",
       "      <td>NaN</td>\n",
       "    </tr>\n",
       "    <tr>\n",
       "      <th>2001</th>\n",
       "      <td>1.7</td>\n",
       "      <td>2.4</td>\n",
       "    </tr>\n",
       "    <tr>\n",
       "      <th>2002</th>\n",
       "      <td>3.6</td>\n",
       "      <td>2.9</td>\n",
       "    </tr>\n",
       "  </tbody>\n",
       "</table>\n",
       "</div>"
      ],
      "text/plain": [
       "      Ohio  Nevada\n",
       "2000   1.5     NaN\n",
       "2001   1.7     2.4\n",
       "2002   3.6     2.9"
      ]
     },
     "execution_count": 4,
     "metadata": {},
     "output_type": "execute_result"
    }
   ],
   "source": [
    "pd.DataFrame({\"Ohio\": {2000: 1.5, 2001: 1.7, 2002: 3.6},\n",
    "              \"Nevada\": {2001: 2.4, 2002: 2.9}})"
   ]
  },
  {
   "cell_type": "markdown",
   "id": "d8339c57-49a6-4bba-b3a4-63f4a9a7965e",
   "metadata": {
    "slideshow": {
     "slide_type": "subslide"
    }
   },
   "source": [
    "<pre>Você pode mostrar apenas as primeiras linhas (ou as últimas linhas) de um DataFrame</pre>"
   ]
  },
  {
   "cell_type": "code",
   "execution_count": 5,
   "id": "da706532-ad7a-4596-a7e5-abd231489148",
   "metadata": {
    "slideshow": {
     "slide_type": "-"
    }
   },
   "outputs": [
    {
     "data": {
      "text/html": [
       "<div>\n",
       "<style scoped>\n",
       "    .dataframe tbody tr th:only-of-type {\n",
       "        vertical-align: middle;\n",
       "    }\n",
       "\n",
       "    .dataframe tbody tr th {\n",
       "        vertical-align: top;\n",
       "    }\n",
       "\n",
       "    .dataframe thead th {\n",
       "        text-align: right;\n",
       "    }\n",
       "</style>\n",
       "<table border=\"1\" class=\"dataframe\">\n",
       "  <thead>\n",
       "    <tr style=\"text-align: right;\">\n",
       "      <th></th>\n",
       "      <th>state</th>\n",
       "      <th>year</th>\n",
       "      <th>pop</th>\n",
       "    </tr>\n",
       "  </thead>\n",
       "  <tbody>\n",
       "    <tr>\n",
       "      <th>0</th>\n",
       "      <td>Ohio</td>\n",
       "      <td>2000</td>\n",
       "      <td>1.5</td>\n",
       "    </tr>\n",
       "    <tr>\n",
       "      <th>1</th>\n",
       "      <td>Ohio</td>\n",
       "      <td>2001</td>\n",
       "      <td>1.7</td>\n",
       "    </tr>\n",
       "    <tr>\n",
       "      <th>2</th>\n",
       "      <td>Ohio</td>\n",
       "      <td>2002</td>\n",
       "      <td>3.6</td>\n",
       "    </tr>\n",
       "    <tr>\n",
       "      <th>3</th>\n",
       "      <td>Nevada</td>\n",
       "      <td>2001</td>\n",
       "      <td>2.4</td>\n",
       "    </tr>\n",
       "    <tr>\n",
       "      <th>4</th>\n",
       "      <td>Nevada</td>\n",
       "      <td>2002</td>\n",
       "      <td>2.9</td>\n",
       "    </tr>\n",
       "  </tbody>\n",
       "</table>\n",
       "</div>"
      ],
      "text/plain": [
       "    state  year  pop\n",
       "0    Ohio  2000  1.5\n",
       "1    Ohio  2001  1.7\n",
       "2    Ohio  2002  3.6\n",
       "3  Nevada  2001  2.4\n",
       "4  Nevada  2002  2.9"
      ]
     },
     "execution_count": 5,
     "metadata": {},
     "output_type": "execute_result"
    }
   ],
   "source": [
    "frame.head()"
   ]
  },
  {
   "cell_type": "code",
   "execution_count": 6,
   "id": "4f11c229-5186-4ed3-b69e-e8531d430265",
   "metadata": {
    "slideshow": {
     "slide_type": "-"
    }
   },
   "outputs": [
    {
     "data": {
      "text/html": [
       "<div>\n",
       "<style scoped>\n",
       "    .dataframe tbody tr th:only-of-type {\n",
       "        vertical-align: middle;\n",
       "    }\n",
       "\n",
       "    .dataframe tbody tr th {\n",
       "        vertical-align: top;\n",
       "    }\n",
       "\n",
       "    .dataframe thead th {\n",
       "        text-align: right;\n",
       "    }\n",
       "</style>\n",
       "<table border=\"1\" class=\"dataframe\">\n",
       "  <thead>\n",
       "    <tr style=\"text-align: right;\">\n",
       "      <th></th>\n",
       "      <th>state</th>\n",
       "      <th>year</th>\n",
       "      <th>pop</th>\n",
       "    </tr>\n",
       "  </thead>\n",
       "  <tbody>\n",
       "    <tr>\n",
       "      <th>1</th>\n",
       "      <td>Ohio</td>\n",
       "      <td>2001</td>\n",
       "      <td>1.7</td>\n",
       "    </tr>\n",
       "    <tr>\n",
       "      <th>2</th>\n",
       "      <td>Ohio</td>\n",
       "      <td>2002</td>\n",
       "      <td>3.6</td>\n",
       "    </tr>\n",
       "    <tr>\n",
       "      <th>3</th>\n",
       "      <td>Nevada</td>\n",
       "      <td>2001</td>\n",
       "      <td>2.4</td>\n",
       "    </tr>\n",
       "    <tr>\n",
       "      <th>4</th>\n",
       "      <td>Nevada</td>\n",
       "      <td>2002</td>\n",
       "      <td>2.9</td>\n",
       "    </tr>\n",
       "    <tr>\n",
       "      <th>5</th>\n",
       "      <td>Nevada</td>\n",
       "      <td>2003</td>\n",
       "      <td>3.2</td>\n",
       "    </tr>\n",
       "  </tbody>\n",
       "</table>\n",
       "</div>"
      ],
      "text/plain": [
       "    state  year  pop\n",
       "1    Ohio  2001  1.7\n",
       "2    Ohio  2002  3.6\n",
       "3  Nevada  2001  2.4\n",
       "4  Nevada  2002  2.9\n",
       "5  Nevada  2003  3.2"
      ]
     },
     "execution_count": 6,
     "metadata": {},
     "output_type": "execute_result"
    }
   ],
   "source": [
    "frame.tail()"
   ]
  },
  {
   "cell_type": "markdown",
   "id": "e9cab74c-4fd7-4a7d-b18a-36fc85846fb0",
   "metadata": {
    "slideshow": {
     "slide_type": "subslide"
    }
   },
   "source": [
    "<pre>Você pode ordenar as colunas de um DataFrame ao especificar a ordem/sequência desejada</pre>"
   ]
  },
  {
   "cell_type": "code",
   "execution_count": 7,
   "id": "cfb2608c-729a-4e47-812a-a37d12177cff",
   "metadata": {
    "slideshow": {
     "slide_type": "-"
    }
   },
   "outputs": [
    {
     "data": {
      "text/html": [
       "<div>\n",
       "<style scoped>\n",
       "    .dataframe tbody tr th:only-of-type {\n",
       "        vertical-align: middle;\n",
       "    }\n",
       "\n",
       "    .dataframe tbody tr th {\n",
       "        vertical-align: top;\n",
       "    }\n",
       "\n",
       "    .dataframe thead th {\n",
       "        text-align: right;\n",
       "    }\n",
       "</style>\n",
       "<table border=\"1\" class=\"dataframe\">\n",
       "  <thead>\n",
       "    <tr style=\"text-align: right;\">\n",
       "      <th></th>\n",
       "      <th>year</th>\n",
       "      <th>state</th>\n",
       "      <th>pop</th>\n",
       "    </tr>\n",
       "  </thead>\n",
       "  <tbody>\n",
       "    <tr>\n",
       "      <th>0</th>\n",
       "      <td>2000</td>\n",
       "      <td>Ohio</td>\n",
       "      <td>1.5</td>\n",
       "    </tr>\n",
       "    <tr>\n",
       "      <th>1</th>\n",
       "      <td>2001</td>\n",
       "      <td>Ohio</td>\n",
       "      <td>1.7</td>\n",
       "    </tr>\n",
       "    <tr>\n",
       "      <th>2</th>\n",
       "      <td>2002</td>\n",
       "      <td>Ohio</td>\n",
       "      <td>3.6</td>\n",
       "    </tr>\n",
       "    <tr>\n",
       "      <th>3</th>\n",
       "      <td>2001</td>\n",
       "      <td>Nevada</td>\n",
       "      <td>2.4</td>\n",
       "    </tr>\n",
       "    <tr>\n",
       "      <th>4</th>\n",
       "      <td>2002</td>\n",
       "      <td>Nevada</td>\n",
       "      <td>2.9</td>\n",
       "    </tr>\n",
       "    <tr>\n",
       "      <th>5</th>\n",
       "      <td>2003</td>\n",
       "      <td>Nevada</td>\n",
       "      <td>3.2</td>\n",
       "    </tr>\n",
       "  </tbody>\n",
       "</table>\n",
       "</div>"
      ],
      "text/plain": [
       "   year   state  pop\n",
       "0  2000    Ohio  1.5\n",
       "1  2001    Ohio  1.7\n",
       "2  2002    Ohio  3.6\n",
       "3  2001  Nevada  2.4\n",
       "4  2002  Nevada  2.9\n",
       "5  2003  Nevada  3.2"
      ]
     },
     "execution_count": 7,
     "metadata": {},
     "output_type": "execute_result"
    }
   ],
   "source": [
    "frame = pd.DataFrame(data, columns=[\"year\", \"state\", \"pop\"])\n",
    "frame"
   ]
  },
  {
   "cell_type": "markdown",
   "id": "c6cdcdd0-8737-4b9c-91c0-237e41a7e3ce",
   "metadata": {
    "slideshow": {
     "slide_type": "subslide"
    }
   },
   "source": [
    "<pre>Você pode recuperar uma coluna do DataFrame como uma Serie</pre>"
   ]
  },
  {
   "cell_type": "markdown",
   "id": "7481edd2-d24f-4545-8f68-52e3144e3c5e",
   "metadata": {
    "slideshow": {
     "slide_type": "-"
    }
   },
   "source": [
    "👉 dica: habitue-se a usar a notação entre colchetes <b>[ ]</b> porque a notação com ponto <b>.</b> não funciona para colunas com espaço"
   ]
  },
  {
   "cell_type": "code",
   "execution_count": 8,
   "id": "ca7037fe-2b94-459e-96d6-c64d162a6f6a",
   "metadata": {
    "slideshow": {
     "slide_type": "-"
    }
   },
   "outputs": [
    {
     "data": {
      "text/plain": [
       "0      Ohio\n",
       "1      Ohio\n",
       "2      Ohio\n",
       "3    Nevada\n",
       "4    Nevada\n",
       "5    Nevada\n",
       "Name: state, dtype: object"
      ]
     },
     "execution_count": 8,
     "metadata": {},
     "output_type": "execute_result"
    }
   ],
   "source": [
    "frame['state']"
   ]
  },
  {
   "cell_type": "code",
   "execution_count": 9,
   "id": "ebd3855c-939d-441b-8e7c-26493282e7e9",
   "metadata": {
    "slideshow": {
     "slide_type": "-"
    }
   },
   "outputs": [
    {
     "data": {
      "text/plain": [
       "0      Ohio\n",
       "1      Ohio\n",
       "2      Ohio\n",
       "3    Nevada\n",
       "4    Nevada\n",
       "5    Nevada\n",
       "Name: state, dtype: object"
      ]
     },
     "execution_count": 9,
     "metadata": {},
     "output_type": "execute_result"
    }
   ],
   "source": [
    "frame.state"
   ]
  },
  {
   "cell_type": "markdown",
   "id": "3df4d083-b080-41d9-a864-2a1528c5edca",
   "metadata": {
    "slideshow": {
     "slide_type": "subslide"
    }
   },
   "source": [
    "<pre>Você pode recuperar uma linha do DataFrame como uma Serie</pre>"
   ]
  },
  {
   "cell_type": "code",
   "execution_count": 10,
   "id": "22b83838-872b-453e-a4e7-580b5fa72d92",
   "metadata": {
    "slideshow": {
     "slide_type": "-"
    }
   },
   "outputs": [
    {
     "data": {
      "text/plain": [
       "year     2000\n",
       "state    Ohio\n",
       "pop       1.5\n",
       "Name: 0, dtype: object"
      ]
     },
     "execution_count": 10,
     "metadata": {},
     "output_type": "execute_result"
    }
   ],
   "source": [
    "frame.loc[0]"
   ]
  },
  {
   "cell_type": "code",
   "execution_count": 11,
   "id": "b04a0db2-012c-47e0-b78d-96c81a441058",
   "metadata": {
    "slideshow": {
     "slide_type": "-"
    }
   },
   "outputs": [
    {
     "data": {
      "text/plain": [
       "year     2000\n",
       "state    Ohio\n",
       "pop       1.5\n",
       "Name: 0, dtype: object"
      ]
     },
     "execution_count": 11,
     "metadata": {},
     "output_type": "execute_result"
    }
   ],
   "source": [
    "frame.iloc[0]"
   ]
  },
  {
   "cell_type": "markdown",
   "id": "50215f48-ce00-486c-8162-d7bfb2c43930",
   "metadata": {
    "slideshow": {
     "slide_type": "subslide"
    }
   },
   "source": [
    "<pre>Você pode inserir ou modificar uma coluna do DataFrame utilizando a operação de atribuição</pre>"
   ]
  },
  {
   "cell_type": "markdown",
   "id": "257cbee5-3ba9-4479-ab66-3c74e3d17806",
   "metadata": {
    "slideshow": {
     "slide_type": "-"
    }
   },
   "source": [
    "👉 dica: ao atribuir valores a uma coluna que não existe, ela será automaticamente criada com os valores designados"
   ]
  },
  {
   "cell_type": "code",
   "execution_count": 12,
   "id": "46bb78c6-7809-4ebe-8ae3-cd96bd3dac59",
   "metadata": {
    "slideshow": {
     "slide_type": "-"
    }
   },
   "outputs": [
    {
     "data": {
      "text/html": [
       "<div>\n",
       "<style scoped>\n",
       "    .dataframe tbody tr th:only-of-type {\n",
       "        vertical-align: middle;\n",
       "    }\n",
       "\n",
       "    .dataframe tbody tr th {\n",
       "        vertical-align: top;\n",
       "    }\n",
       "\n",
       "    .dataframe thead th {\n",
       "        text-align: right;\n",
       "    }\n",
       "</style>\n",
       "<table border=\"1\" class=\"dataframe\">\n",
       "  <thead>\n",
       "    <tr style=\"text-align: right;\">\n",
       "      <th></th>\n",
       "      <th>year</th>\n",
       "      <th>state</th>\n",
       "      <th>pop</th>\n",
       "      <th>debt</th>\n",
       "    </tr>\n",
       "  </thead>\n",
       "  <tbody>\n",
       "    <tr>\n",
       "      <th>0</th>\n",
       "      <td>2000</td>\n",
       "      <td>Ohio</td>\n",
       "      <td>1.5</td>\n",
       "      <td>16.5</td>\n",
       "    </tr>\n",
       "    <tr>\n",
       "      <th>1</th>\n",
       "      <td>2001</td>\n",
       "      <td>Ohio</td>\n",
       "      <td>1.7</td>\n",
       "      <td>16.5</td>\n",
       "    </tr>\n",
       "    <tr>\n",
       "      <th>2</th>\n",
       "      <td>2002</td>\n",
       "      <td>Ohio</td>\n",
       "      <td>3.6</td>\n",
       "      <td>16.5</td>\n",
       "    </tr>\n",
       "    <tr>\n",
       "      <th>3</th>\n",
       "      <td>2001</td>\n",
       "      <td>Nevada</td>\n",
       "      <td>2.4</td>\n",
       "      <td>16.5</td>\n",
       "    </tr>\n",
       "    <tr>\n",
       "      <th>4</th>\n",
       "      <td>2002</td>\n",
       "      <td>Nevada</td>\n",
       "      <td>2.9</td>\n",
       "      <td>16.5</td>\n",
       "    </tr>\n",
       "    <tr>\n",
       "      <th>5</th>\n",
       "      <td>2003</td>\n",
       "      <td>Nevada</td>\n",
       "      <td>3.2</td>\n",
       "      <td>16.5</td>\n",
       "    </tr>\n",
       "  </tbody>\n",
       "</table>\n",
       "</div>"
      ],
      "text/plain": [
       "   year   state  pop  debt\n",
       "0  2000    Ohio  1.5  16.5\n",
       "1  2001    Ohio  1.7  16.5\n",
       "2  2002    Ohio  3.6  16.5\n",
       "3  2001  Nevada  2.4  16.5\n",
       "4  2002  Nevada  2.9  16.5\n",
       "5  2003  Nevada  3.2  16.5"
      ]
     },
     "execution_count": 12,
     "metadata": {},
     "output_type": "execute_result"
    }
   ],
   "source": [
    "frame['debt'] = 16.5\n",
    "frame"
   ]
  },
  {
   "cell_type": "code",
   "execution_count": 13,
   "id": "cca28004-d3f7-4555-b2d6-065e5a8871f7",
   "metadata": {
    "slideshow": {
     "slide_type": "subslide"
    }
   },
   "outputs": [
    {
     "data": {
      "text/html": [
       "<div>\n",
       "<style scoped>\n",
       "    .dataframe tbody tr th:only-of-type {\n",
       "        vertical-align: middle;\n",
       "    }\n",
       "\n",
       "    .dataframe tbody tr th {\n",
       "        vertical-align: top;\n",
       "    }\n",
       "\n",
       "    .dataframe thead th {\n",
       "        text-align: right;\n",
       "    }\n",
       "</style>\n",
       "<table border=\"1\" class=\"dataframe\">\n",
       "  <thead>\n",
       "    <tr style=\"text-align: right;\">\n",
       "      <th></th>\n",
       "      <th>year</th>\n",
       "      <th>state</th>\n",
       "      <th>pop</th>\n",
       "      <th>debt</th>\n",
       "    </tr>\n",
       "  </thead>\n",
       "  <tbody>\n",
       "    <tr>\n",
       "      <th>0</th>\n",
       "      <td>2000</td>\n",
       "      <td>Ohio</td>\n",
       "      <td>1.5</td>\n",
       "      <td>0</td>\n",
       "    </tr>\n",
       "    <tr>\n",
       "      <th>1</th>\n",
       "      <td>2001</td>\n",
       "      <td>Ohio</td>\n",
       "      <td>1.7</td>\n",
       "      <td>1</td>\n",
       "    </tr>\n",
       "    <tr>\n",
       "      <th>2</th>\n",
       "      <td>2002</td>\n",
       "      <td>Ohio</td>\n",
       "      <td>3.6</td>\n",
       "      <td>2</td>\n",
       "    </tr>\n",
       "    <tr>\n",
       "      <th>3</th>\n",
       "      <td>2001</td>\n",
       "      <td>Nevada</td>\n",
       "      <td>2.4</td>\n",
       "      <td>3</td>\n",
       "    </tr>\n",
       "    <tr>\n",
       "      <th>4</th>\n",
       "      <td>2002</td>\n",
       "      <td>Nevada</td>\n",
       "      <td>2.9</td>\n",
       "      <td>4</td>\n",
       "    </tr>\n",
       "    <tr>\n",
       "      <th>5</th>\n",
       "      <td>2003</td>\n",
       "      <td>Nevada</td>\n",
       "      <td>3.2</td>\n",
       "      <td>5</td>\n",
       "    </tr>\n",
       "  </tbody>\n",
       "</table>\n",
       "</div>"
      ],
      "text/plain": [
       "   year   state  pop  debt\n",
       "0  2000    Ohio  1.5     0\n",
       "1  2001    Ohio  1.7     1\n",
       "2  2002    Ohio  3.6     2\n",
       "3  2001  Nevada  2.4     3\n",
       "4  2002  Nevada  2.9     4\n",
       "5  2003  Nevada  3.2     5"
      ]
     },
     "execution_count": 13,
     "metadata": {},
     "output_type": "execute_result"
    }
   ],
   "source": [
    "frame[\"debt\"] = range(6)\n",
    "frame"
   ]
  },
  {
   "cell_type": "markdown",
   "id": "6d098e16-194b-4adc-be4b-18436c5b6c82",
   "metadata": {
    "slideshow": {
     "slide_type": "subslide"
    }
   },
   "source": [
    "<pre>Você pode excluir colunas da mesma forma que em um dicionário</pre>"
   ]
  },
  {
   "cell_type": "code",
   "execution_count": 14,
   "id": "0c5f4b38-391a-4eac-99ca-461d3816e1a3",
   "metadata": {
    "slideshow": {
     "slide_type": "-"
    }
   },
   "outputs": [],
   "source": [
    "keep_debt_safe = frame['debt']"
   ]
  },
  {
   "cell_type": "code",
   "execution_count": 15,
   "id": "4f6ad901-8ac3-4fd4-9b7e-1e8081d4a46a",
   "metadata": {
    "slideshow": {
     "slide_type": "-"
    }
   },
   "outputs": [
    {
     "data": {
      "text/html": [
       "<div>\n",
       "<style scoped>\n",
       "    .dataframe tbody tr th:only-of-type {\n",
       "        vertical-align: middle;\n",
       "    }\n",
       "\n",
       "    .dataframe tbody tr th {\n",
       "        vertical-align: top;\n",
       "    }\n",
       "\n",
       "    .dataframe thead th {\n",
       "        text-align: right;\n",
       "    }\n",
       "</style>\n",
       "<table border=\"1\" class=\"dataframe\">\n",
       "  <thead>\n",
       "    <tr style=\"text-align: right;\">\n",
       "      <th></th>\n",
       "      <th>year</th>\n",
       "      <th>state</th>\n",
       "      <th>pop</th>\n",
       "    </tr>\n",
       "  </thead>\n",
       "  <tbody>\n",
       "    <tr>\n",
       "      <th>0</th>\n",
       "      <td>2000</td>\n",
       "      <td>Ohio</td>\n",
       "      <td>1.5</td>\n",
       "    </tr>\n",
       "    <tr>\n",
       "      <th>1</th>\n",
       "      <td>2001</td>\n",
       "      <td>Ohio</td>\n",
       "      <td>1.7</td>\n",
       "    </tr>\n",
       "    <tr>\n",
       "      <th>2</th>\n",
       "      <td>2002</td>\n",
       "      <td>Ohio</td>\n",
       "      <td>3.6</td>\n",
       "    </tr>\n",
       "    <tr>\n",
       "      <th>3</th>\n",
       "      <td>2001</td>\n",
       "      <td>Nevada</td>\n",
       "      <td>2.4</td>\n",
       "    </tr>\n",
       "    <tr>\n",
       "      <th>4</th>\n",
       "      <td>2002</td>\n",
       "      <td>Nevada</td>\n",
       "      <td>2.9</td>\n",
       "    </tr>\n",
       "    <tr>\n",
       "      <th>5</th>\n",
       "      <td>2003</td>\n",
       "      <td>Nevada</td>\n",
       "      <td>3.2</td>\n",
       "    </tr>\n",
       "  </tbody>\n",
       "</table>\n",
       "</div>"
      ],
      "text/plain": [
       "   year   state  pop\n",
       "0  2000    Ohio  1.5\n",
       "1  2001    Ohio  1.7\n",
       "2  2002    Ohio  3.6\n",
       "3  2001  Nevada  2.4\n",
       "4  2002  Nevada  2.9\n",
       "5  2003  Nevada  3.2"
      ]
     },
     "execution_count": 15,
     "metadata": {},
     "output_type": "execute_result"
    }
   ],
   "source": [
    "del frame['debt']\n",
    "frame"
   ]
  },
  {
   "cell_type": "code",
   "execution_count": 16,
   "id": "f65dc2f0-0899-47a9-b880-589702e9c8c4",
   "metadata": {
    "slideshow": {
     "slide_type": "-"
    }
   },
   "outputs": [],
   "source": [
    "frame['debt'] = keep_debt_safe"
   ]
  },
  {
   "cell_type": "markdown",
   "id": "c7dafebb-4358-4998-a0e8-66fe3ec35686",
   "metadata": {
    "slideshow": {
     "slide_type": "subslide"
    }
   },
   "source": [
    "<pre>Você pode transpor um DataFrame (trocar linhas por colunas e vice-versa)</pre>"
   ]
  },
  {
   "cell_type": "markdown",
   "id": "eb7c9297-3bc0-4804-89c9-01a3f6d83d7b",
   "metadata": {
    "slideshow": {
     "slide_type": "-"
    }
   },
   "source": [
    "👉 dica: ao transpor, você pode perder a informação do tipo de dados da coluna; portanto, cuidado."
   ]
  },
  {
   "cell_type": "code",
   "execution_count": 17,
   "id": "a17135c0-b1f7-49bb-828a-014453703c75",
   "metadata": {
    "slideshow": {
     "slide_type": "-"
    }
   },
   "outputs": [
    {
     "data": {
      "text/html": [
       "<div>\n",
       "<style scoped>\n",
       "    .dataframe tbody tr th:only-of-type {\n",
       "        vertical-align: middle;\n",
       "    }\n",
       "\n",
       "    .dataframe tbody tr th {\n",
       "        vertical-align: top;\n",
       "    }\n",
       "\n",
       "    .dataframe thead th {\n",
       "        text-align: right;\n",
       "    }\n",
       "</style>\n",
       "<table border=\"1\" class=\"dataframe\">\n",
       "  <thead>\n",
       "    <tr style=\"text-align: right;\">\n",
       "      <th></th>\n",
       "      <th>0</th>\n",
       "      <th>1</th>\n",
       "      <th>2</th>\n",
       "      <th>3</th>\n",
       "      <th>4</th>\n",
       "      <th>5</th>\n",
       "    </tr>\n",
       "  </thead>\n",
       "  <tbody>\n",
       "    <tr>\n",
       "      <th>year</th>\n",
       "      <td>2000</td>\n",
       "      <td>2001</td>\n",
       "      <td>2002</td>\n",
       "      <td>2001</td>\n",
       "      <td>2002</td>\n",
       "      <td>2003</td>\n",
       "    </tr>\n",
       "    <tr>\n",
       "      <th>state</th>\n",
       "      <td>Ohio</td>\n",
       "      <td>Ohio</td>\n",
       "      <td>Ohio</td>\n",
       "      <td>Nevada</td>\n",
       "      <td>Nevada</td>\n",
       "      <td>Nevada</td>\n",
       "    </tr>\n",
       "    <tr>\n",
       "      <th>pop</th>\n",
       "      <td>1.5</td>\n",
       "      <td>1.7</td>\n",
       "      <td>3.6</td>\n",
       "      <td>2.4</td>\n",
       "      <td>2.9</td>\n",
       "      <td>3.2</td>\n",
       "    </tr>\n",
       "    <tr>\n",
       "      <th>debt</th>\n",
       "      <td>0</td>\n",
       "      <td>1</td>\n",
       "      <td>2</td>\n",
       "      <td>3</td>\n",
       "      <td>4</td>\n",
       "      <td>5</td>\n",
       "    </tr>\n",
       "  </tbody>\n",
       "</table>\n",
       "</div>"
      ],
      "text/plain": [
       "          0     1     2       3       4       5\n",
       "year   2000  2001  2002    2001    2002    2003\n",
       "state  Ohio  Ohio  Ohio  Nevada  Nevada  Nevada\n",
       "pop     1.5   1.7   3.6     2.4     2.9     3.2\n",
       "debt      0     1     2       3       4       5"
      ]
     },
     "execution_count": 17,
     "metadata": {},
     "output_type": "execute_result"
    }
   ],
   "source": [
    "frame.T"
   ]
  },
  {
   "cell_type": "markdown",
   "id": "e608e16a-9fea-4211-a52a-85b651769e88",
   "metadata": {
    "slideshow": {
     "slide_type": "subslide"
    }
   },
   "source": [
    "<pre>Você pode acessar os valores do DataFrame por meio do atribute <i>values</i></pre>"
   ]
  },
  {
   "cell_type": "markdown",
   "id": "88afc341-82ac-4d8d-975b-f0dc562db7c3",
   "metadata": {
    "slideshow": {
     "slide_type": "-"
    }
   },
   "source": [
    "👉 dica: curiosamente (ou não) os valores vem em um objeto <b>2D ndarray</b> do NumPy"
   ]
  },
  {
   "cell_type": "code",
   "execution_count": 18,
   "id": "8efcadee-d3c3-4be3-a71d-bf98e7022c5c",
   "metadata": {
    "slideshow": {
     "slide_type": "-"
    }
   },
   "outputs": [
    {
     "data": {
      "text/plain": [
       "array([[2000, 'Ohio', 1.5, 0],\n",
       "       [2001, 'Ohio', 1.7, 1],\n",
       "       [2002, 'Ohio', 3.6, 2],\n",
       "       [2001, 'Nevada', 2.4, 3],\n",
       "       [2002, 'Nevada', 2.9, 4],\n",
       "       [2003, 'Nevada', 3.2, 5]], dtype=object)"
      ]
     },
     "execution_count": 18,
     "metadata": {},
     "output_type": "execute_result"
    }
   ],
   "source": [
    "frame.values"
   ]
  },
  {
   "cell_type": "code",
   "execution_count": 19,
   "id": "494a35ad-dd2a-45a1-8411-848f368cc101",
   "metadata": {
    "slideshow": {
     "slide_type": "-"
    }
   },
   "outputs": [
    {
     "data": {
      "text/plain": [
       "numpy.ndarray"
      ]
     },
     "execution_count": 19,
     "metadata": {},
     "output_type": "execute_result"
    }
   ],
   "source": [
    "type(frame.values)"
   ]
  },
  {
   "cell_type": "markdown",
   "id": "d649adb1-5c94-45cf-b2e8-1161906b7d82",
   "metadata": {
    "slideshow": {
     "slide_type": "subslide"
    }
   },
   "source": [
    "<pre>Você pode remover uma linha ou uma coluna do DataFrame </pre>"
   ]
  },
  {
   "cell_type": "code",
   "execution_count": 20,
   "id": "dd3e5d3b-71c7-47a0-9fe5-210e3561c596",
   "metadata": {
    "slideshow": {
     "slide_type": "-"
    }
   },
   "outputs": [
    {
     "data": {
      "text/html": [
       "<div>\n",
       "<style scoped>\n",
       "    .dataframe tbody tr th:only-of-type {\n",
       "        vertical-align: middle;\n",
       "    }\n",
       "\n",
       "    .dataframe tbody tr th {\n",
       "        vertical-align: top;\n",
       "    }\n",
       "\n",
       "    .dataframe thead th {\n",
       "        text-align: right;\n",
       "    }\n",
       "</style>\n",
       "<table border=\"1\" class=\"dataframe\">\n",
       "  <thead>\n",
       "    <tr style=\"text-align: right;\">\n",
       "      <th></th>\n",
       "      <th>year</th>\n",
       "      <th>state</th>\n",
       "      <th>pop</th>\n",
       "      <th>debt</th>\n",
       "    </tr>\n",
       "  </thead>\n",
       "  <tbody>\n",
       "    <tr>\n",
       "      <th>1</th>\n",
       "      <td>2001</td>\n",
       "      <td>Ohio</td>\n",
       "      <td>1.7</td>\n",
       "      <td>1</td>\n",
       "    </tr>\n",
       "    <tr>\n",
       "      <th>2</th>\n",
       "      <td>2002</td>\n",
       "      <td>Ohio</td>\n",
       "      <td>3.6</td>\n",
       "      <td>2</td>\n",
       "    </tr>\n",
       "    <tr>\n",
       "      <th>3</th>\n",
       "      <td>2001</td>\n",
       "      <td>Nevada</td>\n",
       "      <td>2.4</td>\n",
       "      <td>3</td>\n",
       "    </tr>\n",
       "    <tr>\n",
       "      <th>4</th>\n",
       "      <td>2002</td>\n",
       "      <td>Nevada</td>\n",
       "      <td>2.9</td>\n",
       "      <td>4</td>\n",
       "    </tr>\n",
       "  </tbody>\n",
       "</table>\n",
       "</div>"
      ],
      "text/plain": [
       "   year   state  pop  debt\n",
       "1  2001    Ohio  1.7     1\n",
       "2  2002    Ohio  3.6     2\n",
       "3  2001  Nevada  2.4     3\n",
       "4  2002  Nevada  2.9     4"
      ]
     },
     "execution_count": 20,
     "metadata": {},
     "output_type": "execute_result"
    }
   ],
   "source": [
    "frame = frame.drop(index=[0, 5])\n",
    "frame"
   ]
  },
  {
   "cell_type": "code",
   "execution_count": 21,
   "id": "953b2137-782a-4feb-ab8e-49ad3567ba56",
   "metadata": {
    "slideshow": {
     "slide_type": "-"
    }
   },
   "outputs": [
    {
     "data": {
      "text/html": [
       "<div>\n",
       "<style scoped>\n",
       "    .dataframe tbody tr th:only-of-type {\n",
       "        vertical-align: middle;\n",
       "    }\n",
       "\n",
       "    .dataframe tbody tr th {\n",
       "        vertical-align: top;\n",
       "    }\n",
       "\n",
       "    .dataframe thead th {\n",
       "        text-align: right;\n",
       "    }\n",
       "</style>\n",
       "<table border=\"1\" class=\"dataframe\">\n",
       "  <thead>\n",
       "    <tr style=\"text-align: right;\">\n",
       "      <th></th>\n",
       "      <th>year</th>\n",
       "      <th>state</th>\n",
       "      <th>pop</th>\n",
       "    </tr>\n",
       "  </thead>\n",
       "  <tbody>\n",
       "    <tr>\n",
       "      <th>1</th>\n",
       "      <td>2001</td>\n",
       "      <td>Ohio</td>\n",
       "      <td>1.7</td>\n",
       "    </tr>\n",
       "    <tr>\n",
       "      <th>2</th>\n",
       "      <td>2002</td>\n",
       "      <td>Ohio</td>\n",
       "      <td>3.6</td>\n",
       "    </tr>\n",
       "    <tr>\n",
       "      <th>3</th>\n",
       "      <td>2001</td>\n",
       "      <td>Nevada</td>\n",
       "      <td>2.4</td>\n",
       "    </tr>\n",
       "    <tr>\n",
       "      <th>4</th>\n",
       "      <td>2002</td>\n",
       "      <td>Nevada</td>\n",
       "      <td>2.9</td>\n",
       "    </tr>\n",
       "  </tbody>\n",
       "</table>\n",
       "</div>"
      ],
      "text/plain": [
       "   year   state  pop\n",
       "1  2001    Ohio  1.7\n",
       "2  2002    Ohio  3.6\n",
       "3  2001  Nevada  2.4\n",
       "4  2002  Nevada  2.9"
      ]
     },
     "execution_count": 21,
     "metadata": {},
     "output_type": "execute_result"
    }
   ],
   "source": [
    "frame = frame.drop(columns=['debt'])\n",
    "frame"
   ]
  },
  {
   "cell_type": "markdown",
   "id": "1cd2ee4f-cbc8-4c8a-ae5d-acc0d1c5f615",
   "metadata": {
    "slideshow": {
     "slide_type": "subslide"
    }
   },
   "source": [
    "<pre>Você pode atribuir nomes aos índices e às colunas</pre>"
   ]
  },
  {
   "cell_type": "code",
   "execution_count": 22,
   "id": "cd194a2e-4557-418a-a3b0-7ca0acfb8975",
   "metadata": {
    "slideshow": {
     "slide_type": "-"
    },
    "tags": []
   },
   "outputs": [
    {
     "data": {
      "text/html": [
       "<div>\n",
       "<style scoped>\n",
       "    .dataframe tbody tr th:only-of-type {\n",
       "        vertical-align: middle;\n",
       "    }\n",
       "\n",
       "    .dataframe tbody tr th {\n",
       "        vertical-align: top;\n",
       "    }\n",
       "\n",
       "    .dataframe thead th {\n",
       "        text-align: right;\n",
       "    }\n",
       "</style>\n",
       "<table border=\"1\" class=\"dataframe\">\n",
       "  <thead>\n",
       "    <tr style=\"text-align: right;\">\n",
       "      <th></th>\n",
       "      <th>ano</th>\n",
       "      <th>estado</th>\n",
       "      <th>pop</th>\n",
       "    </tr>\n",
       "  </thead>\n",
       "  <tbody>\n",
       "    <tr>\n",
       "      <th>um</th>\n",
       "      <td>2001</td>\n",
       "      <td>Ohio</td>\n",
       "      <td>1.7</td>\n",
       "    </tr>\n",
       "    <tr>\n",
       "      <th>dois</th>\n",
       "      <td>2002</td>\n",
       "      <td>Ohio</td>\n",
       "      <td>3.6</td>\n",
       "    </tr>\n",
       "    <tr>\n",
       "      <th>três</th>\n",
       "      <td>2001</td>\n",
       "      <td>Nevada</td>\n",
       "      <td>2.4</td>\n",
       "    </tr>\n",
       "    <tr>\n",
       "      <th>quatro</th>\n",
       "      <td>2002</td>\n",
       "      <td>Nevada</td>\n",
       "      <td>2.9</td>\n",
       "    </tr>\n",
       "  </tbody>\n",
       "</table>\n",
       "</div>"
      ],
      "text/plain": [
       "         ano  estado  pop\n",
       "um      2001    Ohio  1.7\n",
       "dois    2002    Ohio  3.6\n",
       "três    2001  Nevada  2.4\n",
       "quatro  2002  Nevada  2.9"
      ]
     },
     "execution_count": 22,
     "metadata": {},
     "output_type": "execute_result"
    }
   ],
   "source": [
    "frame = frame.rename(columns={'year': 'ano', 'state': 'estado'}, \n",
    "                     index={0: 'zero', 1: 'um', 2: 'dois', \n",
    "                            3: 'três', 4: 'quatro'})\n",
    "frame"
   ]
  },
  {
   "cell_type": "markdown",
   "id": "280e7896-29af-483a-ab31-625fd5ad1083",
   "metadata": {
    "slideshow": {
     "slide_type": "slide"
    },
    "tags": []
   },
   "source": [
    "### Descrição dos Dados ✍️ 🎲"
   ]
  },
  {
   "cell_type": "markdown",
   "id": "0eafada3-d56a-45e0-9ba9-2e35868df305",
   "metadata": {
    "slideshow": {
     "slide_type": "-"
    }
   },
   "source": [
    "<ul>\n",
    "    <li>Objetos pandas vêm com um conjunto de métodos matemáticos e estatísticos comuns</li>\n",
    "    <li>Os métodos do pandas podem tratar nativamente dados <i>NA</i><br />(diferentemente dos mesmos métodos encontrados em NumPy)</li>\n",
    "</ul>"
   ]
  },
  {
   "cell_type": "code",
   "execution_count": 23,
   "id": "e7f32b05-293c-4fb7-8730-e09721327f5b",
   "metadata": {
    "slideshow": {
     "slide_type": "subslide"
    }
   },
   "outputs": [
    {
     "data": {
      "text/html": [
       "<div>\n",
       "<style scoped>\n",
       "    .dataframe tbody tr th:only-of-type {\n",
       "        vertical-align: middle;\n",
       "    }\n",
       "\n",
       "    .dataframe tbody tr th {\n",
       "        vertical-align: top;\n",
       "    }\n",
       "\n",
       "    .dataframe thead th {\n",
       "        text-align: right;\n",
       "    }\n",
       "</style>\n",
       "<table border=\"1\" class=\"dataframe\">\n",
       "  <thead>\n",
       "    <tr style=\"text-align: right;\">\n",
       "      <th></th>\n",
       "      <th>one</th>\n",
       "      <th>two</th>\n",
       "    </tr>\n",
       "  </thead>\n",
       "  <tbody>\n",
       "    <tr>\n",
       "      <th>a</th>\n",
       "      <td>1.40</td>\n",
       "      <td>NaN</td>\n",
       "    </tr>\n",
       "    <tr>\n",
       "      <th>b</th>\n",
       "      <td>7.10</td>\n",
       "      <td>-4.5</td>\n",
       "    </tr>\n",
       "    <tr>\n",
       "      <th>c</th>\n",
       "      <td>NaN</td>\n",
       "      <td>NaN</td>\n",
       "    </tr>\n",
       "    <tr>\n",
       "      <th>d</th>\n",
       "      <td>0.75</td>\n",
       "      <td>-1.3</td>\n",
       "    </tr>\n",
       "  </tbody>\n",
       "</table>\n",
       "</div>"
      ],
      "text/plain": [
       "    one  two\n",
       "a  1.40  NaN\n",
       "b  7.10 -4.5\n",
       "c   NaN  NaN\n",
       "d  0.75 -1.3"
      ]
     },
     "execution_count": 23,
     "metadata": {},
     "output_type": "execute_result"
    }
   ],
   "source": [
    "from numpy import nan\n",
    "df = pd.DataFrame([[1.4, nan], [7.1, -4.5], \n",
    "                   [nan, nan], [0.75, -1.3]], \\\n",
    "                  index=[\"a\", \"b\", \"c\", \"d\"], \\\n",
    "                  columns=[\"one\", \"two\"])\n",
    "df"
   ]
  },
  {
   "cell_type": "markdown",
   "id": "da2dadee-8fed-4913-8841-43623329660d",
   "metadata": {
    "slideshow": {
     "slide_type": "subslide"
    }
   },
   "source": [
    "<pre>Você pode obter a soma dos valores das colunas...</pre>"
   ]
  },
  {
   "cell_type": "markdown",
   "id": "0d75d68b-01fb-4846-895b-a256b2464219",
   "metadata": {
    "slideshow": {
     "slide_type": "-"
    }
   },
   "source": [
    "<ul>\n",
    "    <li>quando a coluna inteira contém apenas valores <i>NA</i>, a soma é <b>zero</b>; </li>\n",
    "    <li>nos demais casos, o(s) valor(es) <i>NA</i> é(são) descartado(s) para fins de soma.</li>\n",
    "</ul>"
   ]
  },
  {
   "cell_type": "markdown",
   "id": "04ec4836-70d3-4bc2-8778-64488db7cc9b",
   "metadata": {
    "slideshow": {
     "slide_type": "-"
    }
   },
   "source": [
    "👉 dica: com o parâmetro <i>skipna=False</i>, na presença de ao menos um valor ausente/indisponível, o resultado da soma é ausente/indisponível."
   ]
  },
  {
   "cell_type": "code",
   "execution_count": 24,
   "id": "eec50fc8-3ffa-4eb7-9574-0b70f2f0546b",
   "metadata": {
    "slideshow": {
     "slide_type": "-"
    }
   },
   "outputs": [
    {
     "data": {
      "text/plain": [
       "one    9.25\n",
       "two   -5.80\n",
       "dtype: float64"
      ]
     },
     "execution_count": 24,
     "metadata": {},
     "output_type": "execute_result"
    }
   ],
   "source": [
    "df.sum(axis='index')"
   ]
  },
  {
   "cell_type": "code",
   "execution_count": 25,
   "id": "77011f48-0073-4ccd-ab7a-e6e686f3dba6",
   "metadata": {
    "slideshow": {
     "slide_type": "-"
    }
   },
   "outputs": [
    {
     "data": {
      "text/plain": [
       "one   NaN\n",
       "two   NaN\n",
       "dtype: float64"
      ]
     },
     "execution_count": 25,
     "metadata": {},
     "output_type": "execute_result"
    }
   ],
   "source": [
    "df.sum(axis='index', skipna=False)"
   ]
  },
  {
   "cell_type": "markdown",
   "id": "0f7eca8e-970d-4691-a8a3-1972cd9d13bc",
   "metadata": {
    "slideshow": {
     "slide_type": "subslide"
    }
   },
   "source": [
    "<pre>... bem como obter a soma dos valores das linhas</pre>"
   ]
  },
  {
   "cell_type": "markdown",
   "id": "5a4cf8b7-ba74-42ed-9e21-17b126ebbce1",
   "metadata": {
    "slideshow": {
     "slide_type": "-"
    }
   },
   "source": [
    "<ul>\n",
    "    <li>quando a linha inteira contém apenas valores <i>NA</i>, a soma é <b>zero</b>; </li>\n",
    "    <li>nos demais casos, o(s) valor(es) <i>NA</i> é(são) descartado(s) para fins de soma.</li>\n",
    "</ul>"
   ]
  },
  {
   "cell_type": "markdown",
   "id": "dc94c198-73f8-43dc-a42a-636d025d3994",
   "metadata": {
    "slideshow": {
     "slide_type": "-"
    }
   },
   "source": [
    "👉 dica: com o parâmetro <i>skipna=False</i>, na presença de ao menos um valor ausente/indisponível, o resultado da soma é ausente/indisponível."
   ]
  },
  {
   "cell_type": "code",
   "execution_count": 26,
   "id": "5d40b373-2aed-4098-9b13-4441d48507d6",
   "metadata": {
    "slideshow": {
     "slide_type": "-"
    }
   },
   "outputs": [
    {
     "data": {
      "text/plain": [
       "a    1.40\n",
       "b    2.60\n",
       "c    0.00\n",
       "d   -0.55\n",
       "dtype: float64"
      ]
     },
     "execution_count": 26,
     "metadata": {},
     "output_type": "execute_result"
    }
   ],
   "source": [
    "df.sum(axis=\"columns\")"
   ]
  },
  {
   "cell_type": "code",
   "execution_count": 27,
   "id": "eeb2678c-125c-48a3-a7ae-f38cee83d669",
   "metadata": {
    "slideshow": {
     "slide_type": "-"
    }
   },
   "outputs": [
    {
     "data": {
      "text/plain": [
       "a     NaN\n",
       "b    2.60\n",
       "c     NaN\n",
       "d   -0.55\n",
       "dtype: float64"
      ]
     },
     "execution_count": 27,
     "metadata": {},
     "output_type": "execute_result"
    }
   ],
   "source": [
    "df.sum(axis=\"columns\", skipna=False)"
   ]
  },
  {
   "cell_type": "markdown",
   "id": "8a4c6d2d-c945-43a2-9ba6-9497fcf95d0f",
   "metadata": {
    "slideshow": {
     "slide_type": "subslide"
    }
   },
   "source": [
    "<pre>Você pode obter a média aritmética dos valores das colunas (e linhas)</pre>"
   ]
  },
  {
   "cell_type": "markdown",
   "id": "bf5b6e26-60e4-4a86-9bef-4ed618c5fc4c",
   "metadata": {
    "slideshow": {
     "slide_type": "-"
    }
   },
   "source": [
    "<ul>\n",
    "    <li>quando a coluna (ou linha) inteira contém apenas valores <i>NA</i>, a média é <b>ausente/indisponível</b>; </li>\n",
    "    <li>nos demais casos, o(s) valor(es) <i>NA</i> é(são) descartado(s) para fins de média.</li>\n",
    "</ul>"
   ]
  },
  {
   "cell_type": "markdown",
   "id": "0b2d9193-ef32-474e-aecf-0b3051310cc6",
   "metadata": {
    "slideshow": {
     "slide_type": "-"
    }
   },
   "source": [
    "👉 dica: lembre-se que os métodos do pandas podem tratar nativamente dados <i>NA</i> com o <i>skipna</i>"
   ]
  },
  {
   "cell_type": "code",
   "execution_count": 28,
   "id": "994255b7-52e7-4493-8e0e-25d82c486df0",
   "metadata": {
    "slideshow": {
     "slide_type": "-"
    }
   },
   "outputs": [
    {
     "data": {
      "text/plain": [
       "one    3.083333\n",
       "two   -2.900000\n",
       "dtype: float64"
      ]
     },
     "execution_count": 28,
     "metadata": {},
     "output_type": "execute_result"
    }
   ],
   "source": [
    "df.mean(axis=\"index\")"
   ]
  },
  {
   "cell_type": "code",
   "execution_count": 29,
   "id": "a698e50a-d489-40ca-a4bb-799b4665b3d5",
   "metadata": {
    "slideshow": {
     "slide_type": "-"
    }
   },
   "outputs": [
    {
     "data": {
      "text/plain": [
       "a    1.400\n",
       "b    1.300\n",
       "c      NaN\n",
       "d   -0.275\n",
       "dtype: float64"
      ]
     },
     "execution_count": 29,
     "metadata": {},
     "output_type": "execute_result"
    }
   ],
   "source": [
    "df.mean(axis=\"columns\")"
   ]
  },
  {
   "cell_type": "markdown",
   "id": "f501ce8a-86ab-4241-98a9-1dcbd58c777d",
   "metadata": {
    "slideshow": {
     "slide_type": "subslide"
    }
   },
   "source": [
    "<pre>Você pode usar métodos de estatística indireta, e.g. obter o índice com menor (resp. maior) valor</pre>"
   ]
  },
  {
   "cell_type": "code",
   "execution_count": 30,
   "id": "0f0c0d71-ebde-41df-a3cf-3dab1e9aa7c1",
   "metadata": {
    "slideshow": {
     "slide_type": "-"
    }
   },
   "outputs": [
    {
     "data": {
      "text/plain": [
       "one    d\n",
       "two    b\n",
       "dtype: object"
      ]
     },
     "execution_count": 30,
     "metadata": {},
     "output_type": "execute_result"
    }
   ],
   "source": [
    "df.idxmin(axis='index')"
   ]
  },
  {
   "cell_type": "code",
   "execution_count": 31,
   "id": "2f70fc83-41cf-42ef-b50b-b9edbd7c912f",
   "metadata": {
    "slideshow": {
     "slide_type": "-"
    }
   },
   "outputs": [
    {
     "data": {
      "text/plain": [
       "one    b\n",
       "two    d\n",
       "dtype: object"
      ]
     },
     "execution_count": 31,
     "metadata": {},
     "output_type": "execute_result"
    }
   ],
   "source": [
    "df.idxmax(axis='index')"
   ]
  },
  {
   "cell_type": "markdown",
   "id": "ab9712e3-e9e3-4876-9e8a-2a0fffbdc397",
   "metadata": {
    "slideshow": {
     "slide_type": "subslide"
    }
   },
   "source": [
    "<pre>Você pode calcular valores acumulados</pre>"
   ]
  },
  {
   "cell_type": "code",
   "execution_count": 32,
   "id": "8c4730d3-4d43-4b15-b34c-b424e4884bbc",
   "metadata": {
    "slideshow": {
     "slide_type": "-"
    }
   },
   "outputs": [
    {
     "data": {
      "text/html": [
       "<div>\n",
       "<style scoped>\n",
       "    .dataframe tbody tr th:only-of-type {\n",
       "        vertical-align: middle;\n",
       "    }\n",
       "\n",
       "    .dataframe tbody tr th {\n",
       "        vertical-align: top;\n",
       "    }\n",
       "\n",
       "    .dataframe thead th {\n",
       "        text-align: right;\n",
       "    }\n",
       "</style>\n",
       "<table border=\"1\" class=\"dataframe\">\n",
       "  <thead>\n",
       "    <tr style=\"text-align: right;\">\n",
       "      <th></th>\n",
       "      <th>one</th>\n",
       "      <th>two</th>\n",
       "    </tr>\n",
       "  </thead>\n",
       "  <tbody>\n",
       "    <tr>\n",
       "      <th>a</th>\n",
       "      <td>1.40</td>\n",
       "      <td>NaN</td>\n",
       "    </tr>\n",
       "    <tr>\n",
       "      <th>b</th>\n",
       "      <td>8.50</td>\n",
       "      <td>-4.5</td>\n",
       "    </tr>\n",
       "    <tr>\n",
       "      <th>c</th>\n",
       "      <td>NaN</td>\n",
       "      <td>NaN</td>\n",
       "    </tr>\n",
       "    <tr>\n",
       "      <th>d</th>\n",
       "      <td>9.25</td>\n",
       "      <td>-5.8</td>\n",
       "    </tr>\n",
       "  </tbody>\n",
       "</table>\n",
       "</div>"
      ],
      "text/plain": [
       "    one  two\n",
       "a  1.40  NaN\n",
       "b  8.50 -4.5\n",
       "c   NaN  NaN\n",
       "d  9.25 -5.8"
      ]
     },
     "execution_count": 32,
     "metadata": {},
     "output_type": "execute_result"
    }
   ],
   "source": [
    "df.cumsum(axis='index')"
   ]
  },
  {
   "cell_type": "markdown",
   "id": "7dd1ce7e-4d46-45fd-b0da-c739318cd954",
   "metadata": {
    "slideshow": {
     "slide_type": "subslide"
    }
   },
   "source": [
    "<pre>Você pode produzir um resumo estatístico dos seus dados</pre>"
   ]
  },
  {
   "cell_type": "markdown",
   "id": "ef52765f-8b13-4c8b-9665-17359a0c6a7b",
   "metadata": {
    "slideshow": {
     "slide_type": "-"
    }
   },
   "source": [
    "👉 dica: aqui não temos o parâmetro <i>axis</i>, então use a transposta para produzir o resumo estatístico das linhas"
   ]
  },
  {
   "cell_type": "code",
   "execution_count": 33,
   "id": "bd83b907-8544-4a81-b7c8-832e4be17739",
   "metadata": {
    "slideshow": {
     "slide_type": "-"
    }
   },
   "outputs": [
    {
     "data": {
      "text/html": [
       "<div>\n",
       "<style scoped>\n",
       "    .dataframe tbody tr th:only-of-type {\n",
       "        vertical-align: middle;\n",
       "    }\n",
       "\n",
       "    .dataframe tbody tr th {\n",
       "        vertical-align: top;\n",
       "    }\n",
       "\n",
       "    .dataframe thead th {\n",
       "        text-align: right;\n",
       "    }\n",
       "</style>\n",
       "<table border=\"1\" class=\"dataframe\">\n",
       "  <thead>\n",
       "    <tr style=\"text-align: right;\">\n",
       "      <th></th>\n",
       "      <th>one</th>\n",
       "      <th>two</th>\n",
       "    </tr>\n",
       "  </thead>\n",
       "  <tbody>\n",
       "    <tr>\n",
       "      <th>count</th>\n",
       "      <td>3.000000</td>\n",
       "      <td>2.000000</td>\n",
       "    </tr>\n",
       "    <tr>\n",
       "      <th>mean</th>\n",
       "      <td>3.083333</td>\n",
       "      <td>-2.900000</td>\n",
       "    </tr>\n",
       "    <tr>\n",
       "      <th>std</th>\n",
       "      <td>3.493685</td>\n",
       "      <td>2.262742</td>\n",
       "    </tr>\n",
       "    <tr>\n",
       "      <th>min</th>\n",
       "      <td>0.750000</td>\n",
       "      <td>-4.500000</td>\n",
       "    </tr>\n",
       "    <tr>\n",
       "      <th>25%</th>\n",
       "      <td>1.075000</td>\n",
       "      <td>-3.700000</td>\n",
       "    </tr>\n",
       "    <tr>\n",
       "      <th>50%</th>\n",
       "      <td>1.400000</td>\n",
       "      <td>-2.900000</td>\n",
       "    </tr>\n",
       "    <tr>\n",
       "      <th>75%</th>\n",
       "      <td>4.250000</td>\n",
       "      <td>-2.100000</td>\n",
       "    </tr>\n",
       "    <tr>\n",
       "      <th>max</th>\n",
       "      <td>7.100000</td>\n",
       "      <td>-1.300000</td>\n",
       "    </tr>\n",
       "  </tbody>\n",
       "</table>\n",
       "</div>"
      ],
      "text/plain": [
       "            one       two\n",
       "count  3.000000  2.000000\n",
       "mean   3.083333 -2.900000\n",
       "std    3.493685  2.262742\n",
       "min    0.750000 -4.500000\n",
       "25%    1.075000 -3.700000\n",
       "50%    1.400000 -2.900000\n",
       "75%    4.250000 -2.100000\n",
       "max    7.100000 -1.300000"
      ]
     },
     "execution_count": 33,
     "metadata": {},
     "output_type": "execute_result"
    }
   ],
   "source": [
    "df.describe()"
   ]
  },
  {
   "cell_type": "code",
   "execution_count": 34,
   "id": "885bb375-477a-47aa-844c-19a3e343a277",
   "metadata": {
    "slideshow": {
     "slide_type": "subslide"
    }
   },
   "outputs": [
    {
     "data": {
      "text/html": [
       "<div>\n",
       "<style scoped>\n",
       "    .dataframe tbody tr th:only-of-type {\n",
       "        vertical-align: middle;\n",
       "    }\n",
       "\n",
       "    .dataframe tbody tr th {\n",
       "        vertical-align: top;\n",
       "    }\n",
       "\n",
       "    .dataframe thead th {\n",
       "        text-align: right;\n",
       "    }\n",
       "</style>\n",
       "<table border=\"1\" class=\"dataframe\">\n",
       "  <thead>\n",
       "    <tr style=\"text-align: right;\">\n",
       "      <th></th>\n",
       "      <th>a</th>\n",
       "      <th>b</th>\n",
       "      <th>c</th>\n",
       "      <th>d</th>\n",
       "    </tr>\n",
       "  </thead>\n",
       "  <tbody>\n",
       "    <tr>\n",
       "      <th>count</th>\n",
       "      <td>1.0</td>\n",
       "      <td>2.000000</td>\n",
       "      <td>0.0</td>\n",
       "      <td>2.000000</td>\n",
       "    </tr>\n",
       "    <tr>\n",
       "      <th>mean</th>\n",
       "      <td>1.4</td>\n",
       "      <td>1.300000</td>\n",
       "      <td>NaN</td>\n",
       "      <td>-0.275000</td>\n",
       "    </tr>\n",
       "    <tr>\n",
       "      <th>std</th>\n",
       "      <td>NaN</td>\n",
       "      <td>8.202439</td>\n",
       "      <td>NaN</td>\n",
       "      <td>1.449569</td>\n",
       "    </tr>\n",
       "    <tr>\n",
       "      <th>min</th>\n",
       "      <td>1.4</td>\n",
       "      <td>-4.500000</td>\n",
       "      <td>NaN</td>\n",
       "      <td>-1.300000</td>\n",
       "    </tr>\n",
       "    <tr>\n",
       "      <th>25%</th>\n",
       "      <td>1.4</td>\n",
       "      <td>-1.600000</td>\n",
       "      <td>NaN</td>\n",
       "      <td>-0.787500</td>\n",
       "    </tr>\n",
       "    <tr>\n",
       "      <th>50%</th>\n",
       "      <td>1.4</td>\n",
       "      <td>1.300000</td>\n",
       "      <td>NaN</td>\n",
       "      <td>-0.275000</td>\n",
       "    </tr>\n",
       "    <tr>\n",
       "      <th>75%</th>\n",
       "      <td>1.4</td>\n",
       "      <td>4.200000</td>\n",
       "      <td>NaN</td>\n",
       "      <td>0.237500</td>\n",
       "    </tr>\n",
       "    <tr>\n",
       "      <th>max</th>\n",
       "      <td>1.4</td>\n",
       "      <td>7.100000</td>\n",
       "      <td>NaN</td>\n",
       "      <td>0.750000</td>\n",
       "    </tr>\n",
       "  </tbody>\n",
       "</table>\n",
       "</div>"
      ],
      "text/plain": [
       "         a         b    c         d\n",
       "count  1.0  2.000000  0.0  2.000000\n",
       "mean   1.4  1.300000  NaN -0.275000\n",
       "std    NaN  8.202439  NaN  1.449569\n",
       "min    1.4 -4.500000  NaN -1.300000\n",
       "25%    1.4 -1.600000  NaN -0.787500\n",
       "50%    1.4  1.300000  NaN -0.275000\n",
       "75%    1.4  4.200000  NaN  0.237500\n",
       "max    1.4  7.100000  NaN  0.750000"
      ]
     },
     "execution_count": 34,
     "metadata": {},
     "output_type": "execute_result"
    }
   ],
   "source": [
    "df.T.describe()"
   ]
  },
  {
   "cell_type": "markdown",
   "id": "1bd2c383-147e-4bf6-9b04-dd47697ac713",
   "metadata": {
    "slideshow": {
     "slide_type": "subslide"
    }
   },
   "source": [
    "<pre>🍒 🎂 Você pode produzir um resumo estatístico dos seus dados (mesmo quando não são numéricos!)</pre>"
   ]
  },
  {
   "cell_type": "code",
   "execution_count": 35,
   "id": "41282051-fe0c-4fdd-bf92-868175ba0ecc",
   "metadata": {
    "slideshow": {
     "slide_type": "-"
    }
   },
   "outputs": [
    {
     "data": {
      "text/plain": [
       "0     a\n",
       "1     a\n",
       "2     b\n",
       "3     c\n",
       "4     a\n",
       "5     a\n",
       "6     b\n",
       "7     c\n",
       "8     a\n",
       "9     a\n",
       "10    b\n",
       "11    c\n",
       "12    a\n",
       "13    a\n",
       "14    b\n",
       "15    c\n",
       "dtype: object"
      ]
     },
     "execution_count": 35,
     "metadata": {},
     "output_type": "execute_result"
    }
   ],
   "source": [
    "df = pd.Series([\"a\", \"a\", \"b\", \"c\"] * 4)\n",
    "df"
   ]
  },
  {
   "cell_type": "code",
   "execution_count": 36,
   "id": "424658fe-5be2-49ff-a241-578585c3ab9f",
   "metadata": {
    "slideshow": {
     "slide_type": "-"
    }
   },
   "outputs": [
    {
     "data": {
      "text/plain": [
       "count     16\n",
       "unique     3\n",
       "top        a\n",
       "freq       8\n",
       "dtype: object"
      ]
     },
     "execution_count": 36,
     "metadata": {},
     "output_type": "execute_result"
    }
   ],
   "source": [
    "df.describe()"
   ]
  },
  {
   "cell_type": "markdown",
   "id": "5c439af1-5f2a-4298-bf86-d77dc18df5ce",
   "metadata": {
    "slideshow": {
     "slide_type": "subslide"
    },
    "tags": []
   },
   "source": [
    "#### Quadro-resumo dos métodos de descrição dos dados"
   ]
  },
  {
   "cell_type": "markdown",
   "id": "5c3fa516-a41e-48fe-b4cc-e0f0bf23bafd",
   "metadata": {
    "slideshow": {
     "slide_type": "-"
    }
   },
   "source": [
    "<table>\n",
    "    <tr><th>Método</th><th>Descrição</th></tr>\n",
    "    <tr><td>count</td><td>Número de valores presentes e disponíveis</td></tr>\n",
    "    <tr><td>describe</td><td>Resumo estatístico dos dados</td></tr>\n",
    "    <tr><td>min, max</td><td>Calcula os valores mínimo e máximo</td></tr>\n",
    "    <tr><td>argmin, argmax</td><td>Computa localizações de índice (inteiros) em que o valor mínimo ou máximo é obtido, respectivamente</td></tr>\n",
    "    <tr><td>not</td><td>disponível em objetos DataFrame</td></tr>\n",
    "    <tr><td>idxmin, idxmax</td><td>Computa rótulos de índice nos quais o valor mínimo ou máximo é obtido, respectivamente</td></tr>\n",
    "    <tr><td>quantile</td><td>Calcula o quantil da amostra variando de 0 a 1 (padrão: 0,5)</td></tr>\n",
    "    <tr><td>sum</td><td>Soma dos valores</td></tr>\n",
    "    <tr><td>mean</td><td>Média aritmética dos valores</td></tr>\n",
    "    <tr><td>median</td><td>Mediana aritmética (quantil de 50%) dos valores</td></tr>\n",
    "    <tr><td>mad</td><td>Desvio absoluto médio do valor médio</td></tr>\n",
    "    <tr><td>prod</td><td>Produto de todos os valores</td></tr>\n",
    "    <tr><td>var</td><td>Variância dos valores</td></tr>\n",
    "    <tr><td>std</td><td>Desvio padrão dos valores</td></tr>\n",
    "    <tr><td>skew</td><td>Assimetria (terceiro momento) dos valores</td></tr>\n",
    "    <tr><td>kurt</td><td>Curtose (quarto momento) dos valores</td></tr>\n",
    "    <tr><td>cumsum</td><td>Soma cumulativa de valores</td></tr>\n",
    "    <tr><td>cummin, cummax</td><td>Mínimo e máximo cumulativo de valores, respectivamente</td></tr>\n",
    "    <tr><td>cumprod</td><td>Produto cumulativo de valores</td></tr>\n",
    "    <tr><td>diff</td><td>Calcula a primeira diferença aritmética (útil para séries temporais)</td></tr>\n",
    "    <tr><td>pct_change</td><td>Calcula as alterações percentuais</td></tr>\n",
    "</table>"
   ]
  },
  {
   "cell_type": "markdown",
   "id": "6f16e426-5640-40ab-9f4c-f2335f441a86",
   "metadata": {
    "slideshow": {
     "slide_type": "slide"
    },
    "tags": []
   },
   "source": [
    "## Juntando as Peças 🧩"
   ]
  },
  {
   "cell_type": "markdown",
   "id": "9f8969be-f36c-4163-9738-2543a392a588",
   "metadata": {
    "slideshow": {
     "slide_type": "-"
    },
    "tags": []
   },
   "source": [
    "### (Fontes de Dados 🚰 ➕ Manipulação 🪡 ➕ Análise de Dados 🕵🏽) <sup>Alto Desempenho 🚀 🧞‍♂️</sup>"
   ]
  },
  {
   "cell_type": "markdown",
   "id": "c70afe77-b798-4a7a-8f1c-b25d3cfbc067",
   "metadata": {
    "slideshow": {
     "slide_type": "-"
    },
    "tags": []
   },
   "source": [
    "#### Funções Auxiliares"
   ]
  },
  {
   "cell_type": "code",
   "execution_count": 37,
   "id": "52f2b595-aacc-4fbe-87c2-1f01f8f1b056",
   "metadata": {
    "slideshow": {
     "slide_type": "-"
    }
   },
   "outputs": [],
   "source": [
    "import os, json, sqlite3, pandas as pd"
   ]
  },
  {
   "cell_type": "code",
   "execution_count": 38,
   "id": "9ac38b18-c024-416b-a7da-31cde49acb72",
   "metadata": {
    "slideshow": {
     "slide_type": "-"
    }
   },
   "outputs": [],
   "source": [
    "def build_path(subfolder = 'raw'):\n",
    "    folderpath = os.path.join(os.getcwd(), os.pardir, \n",
    "                              'project', 'data', subfolder)\n",
    "    folderpath = os.path.abspath(folderpath)\n",
    "    if not os.path.exists(folderpath):\n",
    "        os.makedirs(folderpath)\n",
    "    return folderpath"
   ]
  },
  {
   "cell_type": "markdown",
   "id": "906fdf2b-d7eb-4ccc-8d24-72ab1f0be01b",
   "metadata": {
    "slideshow": {
     "slide_type": "subslide"
    }
   },
   "source": [
    "#### csv"
   ]
  },
  {
   "cell_type": "code",
   "execution_count": 39,
   "id": "c7227b30-64f0-4f0a-85a6-63c57412edcc",
   "metadata": {
    "slideshow": {
     "slide_type": "-"
    }
   },
   "outputs": [],
   "source": [
    "def get_estados_georreferenciamento(\n",
    "        filename='estados_georreferenciamento.csv'):\n",
    "    filepath = os.path.join(build_path(), filename)\n",
    "    \n",
    "    return pd.read_csv(filepath)"
   ]
  },
  {
   "cell_type": "code",
   "execution_count": 40,
   "id": "561a361d-6ee7-4a8c-b8a8-77f18422592f",
   "metadata": {
    "slideshow": {
     "slide_type": "-"
    }
   },
   "outputs": [],
   "source": [
    "def get_municipios_georreferenciamento(\n",
    "        filename='municipios_georreferenciamento.csv'):\n",
    "    filepath = os.path.join(build_path(), filename)\n",
    "    \n",
    "    return pd.read_csv(filepath)"
   ]
  },
  {
   "cell_type": "code",
   "execution_count": 41,
   "id": "e531ed80-e0ef-4c58-98ca-44a88e6bdfe1",
   "metadata": {
    "slideshow": {
     "slide_type": "-"
    }
   },
   "outputs": [],
   "source": [
    "def get_covid_infections_and_deaths(\n",
    "        filename='ALL_HIST_PAINEL_COVID.csv'):\n",
    "    filepath = os.path.join(build_path(), filename)\n",
    "    \n",
    "    return pd.read_csv(filepath, sep=';', parse_dates = ['data'],\\\n",
    "                       dtype={'codmun': 'Int64', \\\n",
    "                              'codRegiaoSaude': 'Int64', \\\n",
    "                              'populacaoTCU2019': 'Int64', \\\n",
    "                              'casosAcumulado': 'Int64', \\\n",
    "                              'Recuperadosnovos': 'Int64', \\\n",
    "                              'emAcompanhamentoNovos': 'Int64', \\\n",
    "                              'interior/metropolitana': 'Int64'}, \\\n",
    "                       encoding='utf-8')"
   ]
  },
  {
   "cell_type": "markdown",
   "id": "6538679b-3947-4e95-8f7c-9c506ef0b181",
   "metadata": {
    "slideshow": {
     "slide_type": "subslide"
    }
   },
   "source": [
    "#### Informações de Georreferenciamento"
   ]
  },
  {
   "cell_type": "markdown",
   "id": "c8fb4c2a-e4f7-44a4-971a-7e422da808c0",
   "metadata": {
    "slideshow": {
     "slide_type": "-"
    }
   },
   "source": [
    "##### Unidades Federativas"
   ]
  },
  {
   "cell_type": "code",
   "execution_count": 42,
   "id": "ce6af9f7-ee1c-426f-b58d-54ebe550c50f",
   "metadata": {
    "slideshow": {
     "slide_type": "-"
    }
   },
   "outputs": [],
   "source": [
    "estados_georreferenciamento = get_estados_georreferenciamento()"
   ]
  },
  {
   "cell_type": "code",
   "execution_count": 43,
   "id": "e842a260-f6f9-4360-a85c-9ce9431b718d",
   "metadata": {
    "slideshow": {
     "slide_type": "-"
    }
   },
   "outputs": [
    {
     "data": {
      "text/html": [
       "<div>\n",
       "<style scoped>\n",
       "    .dataframe tbody tr th:only-of-type {\n",
       "        vertical-align: middle;\n",
       "    }\n",
       "\n",
       "    .dataframe tbody tr th {\n",
       "        vertical-align: top;\n",
       "    }\n",
       "\n",
       "    .dataframe thead th {\n",
       "        text-align: right;\n",
       "    }\n",
       "</style>\n",
       "<table border=\"1\" class=\"dataframe\">\n",
       "  <thead>\n",
       "    <tr style=\"text-align: right;\">\n",
       "      <th></th>\n",
       "      <th>codigo_uf</th>\n",
       "      <th>uf</th>\n",
       "      <th>nome</th>\n",
       "      <th>latitude</th>\n",
       "      <th>longitude</th>\n",
       "      <th>regiao</th>\n",
       "    </tr>\n",
       "  </thead>\n",
       "  <tbody>\n",
       "    <tr>\n",
       "      <th>0</th>\n",
       "      <td>11</td>\n",
       "      <td>RO</td>\n",
       "      <td>Rondônia</td>\n",
       "      <td>-10.83</td>\n",
       "      <td>-63.34</td>\n",
       "      <td>Norte</td>\n",
       "    </tr>\n",
       "    <tr>\n",
       "      <th>1</th>\n",
       "      <td>12</td>\n",
       "      <td>AC</td>\n",
       "      <td>Acre</td>\n",
       "      <td>-8.77</td>\n",
       "      <td>-70.55</td>\n",
       "      <td>Norte</td>\n",
       "    </tr>\n",
       "    <tr>\n",
       "      <th>2</th>\n",
       "      <td>13</td>\n",
       "      <td>AM</td>\n",
       "      <td>Amazonas</td>\n",
       "      <td>-3.47</td>\n",
       "      <td>-65.10</td>\n",
       "      <td>Norte</td>\n",
       "    </tr>\n",
       "    <tr>\n",
       "      <th>3</th>\n",
       "      <td>14</td>\n",
       "      <td>RR</td>\n",
       "      <td>Roraima</td>\n",
       "      <td>1.99</td>\n",
       "      <td>-61.33</td>\n",
       "      <td>Norte</td>\n",
       "    </tr>\n",
       "    <tr>\n",
       "      <th>4</th>\n",
       "      <td>15</td>\n",
       "      <td>PA</td>\n",
       "      <td>Pará</td>\n",
       "      <td>-3.79</td>\n",
       "      <td>-52.48</td>\n",
       "      <td>Norte</td>\n",
       "    </tr>\n",
       "  </tbody>\n",
       "</table>\n",
       "</div>"
      ],
      "text/plain": [
       "   codigo_uf  uf      nome  latitude  longitude regiao\n",
       "0         11  RO  Rondônia    -10.83     -63.34  Norte\n",
       "1         12  AC      Acre     -8.77     -70.55  Norte\n",
       "2         13  AM  Amazonas     -3.47     -65.10  Norte\n",
       "3         14  RR   Roraima      1.99     -61.33  Norte\n",
       "4         15  PA      Pará     -3.79     -52.48  Norte"
      ]
     },
     "execution_count": 43,
     "metadata": {},
     "output_type": "execute_result"
    }
   ],
   "source": [
    "estados_georreferenciamento.head()"
   ]
  },
  {
   "cell_type": "code",
   "execution_count": 44,
   "id": "f4f21950-565a-4ab7-90eb-93bc8454baae",
   "metadata": {
    "slideshow": {
     "slide_type": "subslide"
    }
   },
   "outputs": [
    {
     "data": {
      "text/plain": [
       "codigo_uf      int64\n",
       "uf            object\n",
       "nome          object\n",
       "latitude     float64\n",
       "longitude    float64\n",
       "regiao        object\n",
       "dtype: object"
      ]
     },
     "execution_count": 44,
     "metadata": {},
     "output_type": "execute_result"
    }
   ],
   "source": [
    "estados_georreferenciamento.dtypes"
   ]
  },
  {
   "cell_type": "code",
   "execution_count": 45,
   "id": "1b1f51e3-0729-4cb6-bd6a-6654eebfcf4b",
   "metadata": {
    "slideshow": {
     "slide_type": "-"
    }
   },
   "outputs": [
    {
     "data": {
      "text/html": [
       "<div>\n",
       "<style scoped>\n",
       "    .dataframe tbody tr th:only-of-type {\n",
       "        vertical-align: middle;\n",
       "    }\n",
       "\n",
       "    .dataframe tbody tr th {\n",
       "        vertical-align: top;\n",
       "    }\n",
       "\n",
       "    .dataframe thead th {\n",
       "        text-align: right;\n",
       "    }\n",
       "</style>\n",
       "<table border=\"1\" class=\"dataframe\">\n",
       "  <thead>\n",
       "    <tr style=\"text-align: right;\">\n",
       "      <th></th>\n",
       "      <th>codigo_uf</th>\n",
       "      <th>latitude</th>\n",
       "      <th>longitude</th>\n",
       "    </tr>\n",
       "  </thead>\n",
       "  <tbody>\n",
       "    <tr>\n",
       "      <th>count</th>\n",
       "      <td>27.000000</td>\n",
       "      <td>27.000000</td>\n",
       "      <td>27.000000</td>\n",
       "    </tr>\n",
       "    <tr>\n",
       "      <th>mean</th>\n",
       "      <td>29.111111</td>\n",
       "      <td>-12.381111</td>\n",
       "      <td>-48.410370</td>\n",
       "    </tr>\n",
       "    <tr>\n",
       "      <th>std</th>\n",
       "      <td>13.024631</td>\n",
       "      <td>8.476122</td>\n",
       "      <td>9.291479</td>\n",
       "    </tr>\n",
       "    <tr>\n",
       "      <th>min</th>\n",
       "      <td>11.000000</td>\n",
       "      <td>-30.170000</td>\n",
       "      <td>-70.550000</td>\n",
       "    </tr>\n",
       "    <tr>\n",
       "      <th>25%</th>\n",
       "      <td>19.000000</td>\n",
       "      <td>-18.645000</td>\n",
       "      <td>-52.990000</td>\n",
       "    </tr>\n",
       "    <tr>\n",
       "      <th>50%</th>\n",
       "      <td>27.000000</td>\n",
       "      <td>-10.570000</td>\n",
       "      <td>-48.260000</td>\n",
       "    </tr>\n",
       "    <tr>\n",
       "      <th>75%</th>\n",
       "      <td>38.000000</td>\n",
       "      <td>-6.205000</td>\n",
       "      <td>-41.025000</td>\n",
       "    </tr>\n",
       "    <tr>\n",
       "      <th>max</th>\n",
       "      <td>53.000000</td>\n",
       "      <td>1.990000</td>\n",
       "      <td>-36.590000</td>\n",
       "    </tr>\n",
       "  </tbody>\n",
       "</table>\n",
       "</div>"
      ],
      "text/plain": [
       "       codigo_uf   latitude  longitude\n",
       "count  27.000000  27.000000  27.000000\n",
       "mean   29.111111 -12.381111 -48.410370\n",
       "std    13.024631   8.476122   9.291479\n",
       "min    11.000000 -30.170000 -70.550000\n",
       "25%    19.000000 -18.645000 -52.990000\n",
       "50%    27.000000 -10.570000 -48.260000\n",
       "75%    38.000000  -6.205000 -41.025000\n",
       "max    53.000000   1.990000 -36.590000"
      ]
     },
     "execution_count": 45,
     "metadata": {},
     "output_type": "execute_result"
    }
   ],
   "source": [
    "estados_georreferenciamento.describe()"
   ]
  },
  {
   "cell_type": "markdown",
   "id": "ef800975-64eb-44f9-bb9d-b6bd52529ed9",
   "metadata": {
    "slideshow": {
     "slide_type": "subslide"
    }
   },
   "source": [
    "##### Municípios"
   ]
  },
  {
   "cell_type": "code",
   "execution_count": 46,
   "id": "1af6f97a-e5ee-41fc-840b-96acae8a7cc0",
   "metadata": {
    "slideshow": {
     "slide_type": "-"
    }
   },
   "outputs": [],
   "source": [
    "municipios_georreferenciamento = get_municipios_georreferenciamento()"
   ]
  },
  {
   "cell_type": "code",
   "execution_count": 47,
   "id": "91213c56-c19d-48e2-a373-2d276feef795",
   "metadata": {
    "slideshow": {
     "slide_type": "-"
    }
   },
   "outputs": [
    {
     "data": {
      "text/html": [
       "<div>\n",
       "<style scoped>\n",
       "    .dataframe tbody tr th:only-of-type {\n",
       "        vertical-align: middle;\n",
       "    }\n",
       "\n",
       "    .dataframe tbody tr th {\n",
       "        vertical-align: top;\n",
       "    }\n",
       "\n",
       "    .dataframe thead th {\n",
       "        text-align: right;\n",
       "    }\n",
       "</style>\n",
       "<table border=\"1\" class=\"dataframe\">\n",
       "  <thead>\n",
       "    <tr style=\"text-align: right;\">\n",
       "      <th></th>\n",
       "      <th>codigo_ibge</th>\n",
       "      <th>nome</th>\n",
       "      <th>latitude</th>\n",
       "      <th>longitude</th>\n",
       "      <th>capital</th>\n",
       "      <th>codigo_uf</th>\n",
       "      <th>siafi_id</th>\n",
       "      <th>ddd</th>\n",
       "      <th>fuso_horario</th>\n",
       "    </tr>\n",
       "  </thead>\n",
       "  <tbody>\n",
       "    <tr>\n",
       "      <th>0</th>\n",
       "      <td>5200050</td>\n",
       "      <td>Abadia de Goiás</td>\n",
       "      <td>-16.75730</td>\n",
       "      <td>-49.4412</td>\n",
       "      <td>0</td>\n",
       "      <td>52</td>\n",
       "      <td>1050</td>\n",
       "      <td>62</td>\n",
       "      <td>America/Sao_Paulo</td>\n",
       "    </tr>\n",
       "    <tr>\n",
       "      <th>1</th>\n",
       "      <td>3100104</td>\n",
       "      <td>Abadia dos Dourados</td>\n",
       "      <td>-18.48310</td>\n",
       "      <td>-47.3916</td>\n",
       "      <td>0</td>\n",
       "      <td>31</td>\n",
       "      <td>4001</td>\n",
       "      <td>34</td>\n",
       "      <td>America/Sao_Paulo</td>\n",
       "    </tr>\n",
       "    <tr>\n",
       "      <th>2</th>\n",
       "      <td>5200100</td>\n",
       "      <td>Abadiânia</td>\n",
       "      <td>-16.19700</td>\n",
       "      <td>-48.7057</td>\n",
       "      <td>0</td>\n",
       "      <td>52</td>\n",
       "      <td>9201</td>\n",
       "      <td>62</td>\n",
       "      <td>America/Sao_Paulo</td>\n",
       "    </tr>\n",
       "    <tr>\n",
       "      <th>3</th>\n",
       "      <td>3100203</td>\n",
       "      <td>Abaeté</td>\n",
       "      <td>-19.15510</td>\n",
       "      <td>-45.4444</td>\n",
       "      <td>0</td>\n",
       "      <td>31</td>\n",
       "      <td>4003</td>\n",
       "      <td>37</td>\n",
       "      <td>America/Sao_Paulo</td>\n",
       "    </tr>\n",
       "    <tr>\n",
       "      <th>4</th>\n",
       "      <td>1500107</td>\n",
       "      <td>Abaetetuba</td>\n",
       "      <td>-1.72183</td>\n",
       "      <td>-48.8788</td>\n",
       "      <td>0</td>\n",
       "      <td>15</td>\n",
       "      <td>401</td>\n",
       "      <td>91</td>\n",
       "      <td>America/Sao_Paulo</td>\n",
       "    </tr>\n",
       "  </tbody>\n",
       "</table>\n",
       "</div>"
      ],
      "text/plain": [
       "   codigo_ibge                 nome  latitude  longitude  capital  codigo_uf  \\\n",
       "0      5200050      Abadia de Goiás -16.75730   -49.4412        0         52   \n",
       "1      3100104  Abadia dos Dourados -18.48310   -47.3916        0         31   \n",
       "2      5200100            Abadiânia -16.19700   -48.7057        0         52   \n",
       "3      3100203               Abaeté -19.15510   -45.4444        0         31   \n",
       "4      1500107           Abaetetuba  -1.72183   -48.8788        0         15   \n",
       "\n",
       "   siafi_id  ddd       fuso_horario  \n",
       "0      1050   62  America/Sao_Paulo  \n",
       "1      4001   34  America/Sao_Paulo  \n",
       "2      9201   62  America/Sao_Paulo  \n",
       "3      4003   37  America/Sao_Paulo  \n",
       "4       401   91  America/Sao_Paulo  "
      ]
     },
     "execution_count": 47,
     "metadata": {},
     "output_type": "execute_result"
    }
   ],
   "source": [
    "municipios_georreferenciamento.head()"
   ]
  },
  {
   "cell_type": "code",
   "execution_count": 48,
   "id": "f0c24aef-1e4c-4753-a8b3-8a0c8c250c2e",
   "metadata": {
    "slideshow": {
     "slide_type": "subslide"
    }
   },
   "outputs": [
    {
     "data": {
      "text/plain": [
       "codigo_ibge       int64\n",
       "nome             object\n",
       "latitude        float64\n",
       "longitude       float64\n",
       "capital           int64\n",
       "codigo_uf         int64\n",
       "siafi_id          int64\n",
       "ddd               int64\n",
       "fuso_horario     object\n",
       "dtype: object"
      ]
     },
     "execution_count": 48,
     "metadata": {},
     "output_type": "execute_result"
    }
   ],
   "source": [
    "municipios_georreferenciamento.dtypes"
   ]
  },
  {
   "cell_type": "code",
   "execution_count": 49,
   "id": "7dfb2dcc-0616-4c0c-943b-2d065771d794",
   "metadata": {
    "slideshow": {
     "slide_type": "-"
    }
   },
   "outputs": [
    {
     "data": {
      "text/html": [
       "<div>\n",
       "<style scoped>\n",
       "    .dataframe tbody tr th:only-of-type {\n",
       "        vertical-align: middle;\n",
       "    }\n",
       "\n",
       "    .dataframe tbody tr th {\n",
       "        vertical-align: top;\n",
       "    }\n",
       "\n",
       "    .dataframe thead th {\n",
       "        text-align: right;\n",
       "    }\n",
       "</style>\n",
       "<table border=\"1\" class=\"dataframe\">\n",
       "  <thead>\n",
       "    <tr style=\"text-align: right;\">\n",
       "      <th></th>\n",
       "      <th>codigo_ibge</th>\n",
       "      <th>latitude</th>\n",
       "      <th>longitude</th>\n",
       "      <th>capital</th>\n",
       "      <th>codigo_uf</th>\n",
       "      <th>siafi_id</th>\n",
       "      <th>ddd</th>\n",
       "    </tr>\n",
       "  </thead>\n",
       "  <tbody>\n",
       "    <tr>\n",
       "      <th>count</th>\n",
       "      <td>5.570000e+03</td>\n",
       "      <td>5570.000000</td>\n",
       "      <td>5570.000000</td>\n",
       "      <td>5570.000000</td>\n",
       "      <td>5570.000000</td>\n",
       "      <td>5570.000000</td>\n",
       "      <td>5570.000000</td>\n",
       "    </tr>\n",
       "    <tr>\n",
       "      <th>mean</th>\n",
       "      <td>3.253591e+06</td>\n",
       "      <td>-16.449101</td>\n",
       "      <td>-46.231012</td>\n",
       "      <td>0.004847</td>\n",
       "      <td>32.377738</td>\n",
       "      <td>4519.878276</td>\n",
       "      <td>57.099461</td>\n",
       "    </tr>\n",
       "    <tr>\n",
       "      <th>std</th>\n",
       "      <td>9.849103e+05</td>\n",
       "      <td>8.287274</td>\n",
       "      <td>6.408578</td>\n",
       "      <td>0.069461</td>\n",
       "      <td>9.833862</td>\n",
       "      <td>3050.156056</td>\n",
       "      <td>25.422750</td>\n",
       "    </tr>\n",
       "    <tr>\n",
       "      <th>min</th>\n",
       "      <td>1.100015e+06</td>\n",
       "      <td>-33.686600</td>\n",
       "      <td>-72.899700</td>\n",
       "      <td>0.000000</td>\n",
       "      <td>11.000000</td>\n",
       "      <td>1.000000</td>\n",
       "      <td>11.000000</td>\n",
       "    </tr>\n",
       "    <tr>\n",
       "      <th>25%</th>\n",
       "      <td>2.512126e+06</td>\n",
       "      <td>-22.843875</td>\n",
       "      <td>-50.878525</td>\n",
       "      <td>0.000000</td>\n",
       "      <td>25.000000</td>\n",
       "      <td>1595.500000</td>\n",
       "      <td>35.000000</td>\n",
       "    </tr>\n",
       "    <tr>\n",
       "      <th>50%</th>\n",
       "      <td>3.146280e+06</td>\n",
       "      <td>-18.094300</td>\n",
       "      <td>-46.523200</td>\n",
       "      <td>0.000000</td>\n",
       "      <td>31.000000</td>\n",
       "      <td>4382.000000</td>\n",
       "      <td>55.000000</td>\n",
       "    </tr>\n",
       "    <tr>\n",
       "      <th>75%</th>\n",
       "      <td>4.119190e+06</td>\n",
       "      <td>-8.496445</td>\n",
       "      <td>-41.410775</td>\n",
       "      <td>0.000000</td>\n",
       "      <td>41.000000</td>\n",
       "      <td>7180.500000</td>\n",
       "      <td>82.000000</td>\n",
       "    </tr>\n",
       "    <tr>\n",
       "      <th>max</th>\n",
       "      <td>5.300108e+06</td>\n",
       "      <td>4.603140</td>\n",
       "      <td>-32.410700</td>\n",
       "      <td>1.000000</td>\n",
       "      <td>53.000000</td>\n",
       "      <td>9997.000000</td>\n",
       "      <td>99.000000</td>\n",
       "    </tr>\n",
       "  </tbody>\n",
       "</table>\n",
       "</div>"
      ],
      "text/plain": [
       "        codigo_ibge     latitude    longitude      capital    codigo_uf  \\\n",
       "count  5.570000e+03  5570.000000  5570.000000  5570.000000  5570.000000   \n",
       "mean   3.253591e+06   -16.449101   -46.231012     0.004847    32.377738   \n",
       "std    9.849103e+05     8.287274     6.408578     0.069461     9.833862   \n",
       "min    1.100015e+06   -33.686600   -72.899700     0.000000    11.000000   \n",
       "25%    2.512126e+06   -22.843875   -50.878525     0.000000    25.000000   \n",
       "50%    3.146280e+06   -18.094300   -46.523200     0.000000    31.000000   \n",
       "75%    4.119190e+06    -8.496445   -41.410775     0.000000    41.000000   \n",
       "max    5.300108e+06     4.603140   -32.410700     1.000000    53.000000   \n",
       "\n",
       "          siafi_id          ddd  \n",
       "count  5570.000000  5570.000000  \n",
       "mean   4519.878276    57.099461  \n",
       "std    3050.156056    25.422750  \n",
       "min       1.000000    11.000000  \n",
       "25%    1595.500000    35.000000  \n",
       "50%    4382.000000    55.000000  \n",
       "75%    7180.500000    82.000000  \n",
       "max    9997.000000    99.000000  "
      ]
     },
     "execution_count": 49,
     "metadata": {},
     "output_type": "execute_result"
    }
   ],
   "source": [
    "municipios_georreferenciamento.describe()"
   ]
  },
  {
   "cell_type": "markdown",
   "id": "fc055bc2-e0d8-4b6a-97dd-78f0fb9887d6",
   "metadata": {
    "slideshow": {
     "slide_type": "subslide"
    }
   },
   "source": [
    "#### Informações de Casos e Óbitos por Covid-19 no Brasil"
   ]
  },
  {
   "cell_type": "code",
   "execution_count": 50,
   "id": "3ac40a04-8866-4f57-b672-d7dc470bea10",
   "metadata": {
    "slideshow": {
     "slide_type": "-"
    }
   },
   "outputs": [],
   "source": [
    "covid_infections_and_deaths = get_covid_infections_and_deaths()"
   ]
  },
  {
   "cell_type": "code",
   "execution_count": 51,
   "id": "27eda10c-9df4-46d9-b94d-ec62663b6152",
   "metadata": {
    "slideshow": {
     "slide_type": "-"
    }
   },
   "outputs": [
    {
     "data": {
      "text/html": [
       "<div>\n",
       "<style scoped>\n",
       "    .dataframe tbody tr th:only-of-type {\n",
       "        vertical-align: middle;\n",
       "    }\n",
       "\n",
       "    .dataframe tbody tr th {\n",
       "        vertical-align: top;\n",
       "    }\n",
       "\n",
       "    .dataframe thead th {\n",
       "        text-align: right;\n",
       "    }\n",
       "</style>\n",
       "<table border=\"1\" class=\"dataframe\">\n",
       "  <thead>\n",
       "    <tr style=\"text-align: right;\">\n",
       "      <th></th>\n",
       "      <th>regiao</th>\n",
       "      <th>estado</th>\n",
       "      <th>municipio</th>\n",
       "      <th>coduf</th>\n",
       "      <th>codmun</th>\n",
       "      <th>codRegiaoSaude</th>\n",
       "      <th>nomeRegiaoSaude</th>\n",
       "      <th>data</th>\n",
       "      <th>semanaEpi</th>\n",
       "      <th>populacaoTCU2019</th>\n",
       "      <th>casosAcumulado</th>\n",
       "      <th>casosNovos</th>\n",
       "      <th>obitosAcumulado</th>\n",
       "      <th>obitosNovos</th>\n",
       "      <th>Recuperadosnovos</th>\n",
       "      <th>emAcompanhamentoNovos</th>\n",
       "      <th>interior/metropolitana</th>\n",
       "    </tr>\n",
       "  </thead>\n",
       "  <tbody>\n",
       "    <tr>\n",
       "      <th>0</th>\n",
       "      <td>Brasil</td>\n",
       "      <td>NaN</td>\n",
       "      <td>NaN</td>\n",
       "      <td>76</td>\n",
       "      <td>&lt;NA&gt;</td>\n",
       "      <td>&lt;NA&gt;</td>\n",
       "      <td>NaN</td>\n",
       "      <td>2023-07-01</td>\n",
       "      <td>26</td>\n",
       "      <td>210147125</td>\n",
       "      <td>37682660</td>\n",
       "      <td>11240</td>\n",
       "      <td>704159</td>\n",
       "      <td>195</td>\n",
       "      <td>36943287</td>\n",
       "      <td>35214</td>\n",
       "      <td>&lt;NA&gt;</td>\n",
       "    </tr>\n",
       "    <tr>\n",
       "      <th>1</th>\n",
       "      <td>Brasil</td>\n",
       "      <td>NaN</td>\n",
       "      <td>NaN</td>\n",
       "      <td>76</td>\n",
       "      <td>&lt;NA&gt;</td>\n",
       "      <td>&lt;NA&gt;</td>\n",
       "      <td>NaN</td>\n",
       "      <td>2023-07-02</td>\n",
       "      <td>27</td>\n",
       "      <td>210147125</td>\n",
       "      <td>37682660</td>\n",
       "      <td>0</td>\n",
       "      <td>704159</td>\n",
       "      <td>0</td>\n",
       "      <td>36939608</td>\n",
       "      <td>38893</td>\n",
       "      <td>&lt;NA&gt;</td>\n",
       "    </tr>\n",
       "    <tr>\n",
       "      <th>2</th>\n",
       "      <td>Brasil</td>\n",
       "      <td>NaN</td>\n",
       "      <td>NaN</td>\n",
       "      <td>76</td>\n",
       "      <td>&lt;NA&gt;</td>\n",
       "      <td>&lt;NA&gt;</td>\n",
       "      <td>NaN</td>\n",
       "      <td>2023-07-03</td>\n",
       "      <td>27</td>\n",
       "      <td>210147125</td>\n",
       "      <td>37682660</td>\n",
       "      <td>0</td>\n",
       "      <td>704159</td>\n",
       "      <td>0</td>\n",
       "      <td>36935925</td>\n",
       "      <td>42576</td>\n",
       "      <td>&lt;NA&gt;</td>\n",
       "    </tr>\n",
       "    <tr>\n",
       "      <th>3</th>\n",
       "      <td>Brasil</td>\n",
       "      <td>NaN</td>\n",
       "      <td>NaN</td>\n",
       "      <td>76</td>\n",
       "      <td>&lt;NA&gt;</td>\n",
       "      <td>&lt;NA&gt;</td>\n",
       "      <td>NaN</td>\n",
       "      <td>2023-07-04</td>\n",
       "      <td>27</td>\n",
       "      <td>210147125</td>\n",
       "      <td>37682660</td>\n",
       "      <td>0</td>\n",
       "      <td>704159</td>\n",
       "      <td>0</td>\n",
       "      <td>36935925</td>\n",
       "      <td>42576</td>\n",
       "      <td>&lt;NA&gt;</td>\n",
       "    </tr>\n",
       "    <tr>\n",
       "      <th>4</th>\n",
       "      <td>Brasil</td>\n",
       "      <td>NaN</td>\n",
       "      <td>NaN</td>\n",
       "      <td>76</td>\n",
       "      <td>&lt;NA&gt;</td>\n",
       "      <td>&lt;NA&gt;</td>\n",
       "      <td>NaN</td>\n",
       "      <td>2023-07-05</td>\n",
       "      <td>27</td>\n",
       "      <td>210147125</td>\n",
       "      <td>37682660</td>\n",
       "      <td>0</td>\n",
       "      <td>704159</td>\n",
       "      <td>0</td>\n",
       "      <td>36941392</td>\n",
       "      <td>37109</td>\n",
       "      <td>&lt;NA&gt;</td>\n",
       "    </tr>\n",
       "  </tbody>\n",
       "</table>\n",
       "</div>"
      ],
      "text/plain": [
       "   regiao estado municipio  coduf  codmun  codRegiaoSaude nomeRegiaoSaude  \\\n",
       "0  Brasil    NaN       NaN     76    <NA>            <NA>             NaN   \n",
       "1  Brasil    NaN       NaN     76    <NA>            <NA>             NaN   \n",
       "2  Brasil    NaN       NaN     76    <NA>            <NA>             NaN   \n",
       "3  Brasil    NaN       NaN     76    <NA>            <NA>             NaN   \n",
       "4  Brasil    NaN       NaN     76    <NA>            <NA>             NaN   \n",
       "\n",
       "        data  semanaEpi  populacaoTCU2019  casosAcumulado  casosNovos  \\\n",
       "0 2023-07-01         26         210147125        37682660       11240   \n",
       "1 2023-07-02         27         210147125        37682660           0   \n",
       "2 2023-07-03         27         210147125        37682660           0   \n",
       "3 2023-07-04         27         210147125        37682660           0   \n",
       "4 2023-07-05         27         210147125        37682660           0   \n",
       "\n",
       "   obitosAcumulado  obitosNovos  Recuperadosnovos  emAcompanhamentoNovos  \\\n",
       "0           704159          195          36943287                  35214   \n",
       "1           704159            0          36939608                  38893   \n",
       "2           704159            0          36935925                  42576   \n",
       "3           704159            0          36935925                  42576   \n",
       "4           704159            0          36941392                  37109   \n",
       "\n",
       "   interior/metropolitana  \n",
       "0                    <NA>  \n",
       "1                    <NA>  \n",
       "2                    <NA>  \n",
       "3                    <NA>  \n",
       "4                    <NA>  "
      ]
     },
     "execution_count": 51,
     "metadata": {},
     "output_type": "execute_result"
    }
   ],
   "source": [
    "covid_infections_and_deaths.head()"
   ]
  },
  {
   "cell_type": "code",
   "execution_count": 52,
   "id": "5d43ac45-42e6-45a8-973f-3cb78d07f9d6",
   "metadata": {
    "slideshow": {
     "slide_type": "subslide"
    }
   },
   "outputs": [
    {
     "data": {
      "text/plain": [
       "regiao                            object\n",
       "estado                            object\n",
       "municipio                         object\n",
       "coduf                              int64\n",
       "codmun                             Int64\n",
       "codRegiaoSaude                     Int64\n",
       "nomeRegiaoSaude                   object\n",
       "data                      datetime64[ns]\n",
       "semanaEpi                          int64\n",
       "populacaoTCU2019                   Int64\n",
       "casosAcumulado                     Int64\n",
       "casosNovos                         int64\n",
       "obitosAcumulado                    int64\n",
       "obitosNovos                        int64\n",
       "Recuperadosnovos                   Int64\n",
       "emAcompanhamentoNovos              Int64\n",
       "interior/metropolitana             Int64\n",
       "dtype: object"
      ]
     },
     "execution_count": 52,
     "metadata": {},
     "output_type": "execute_result"
    }
   ],
   "source": [
    "covid_infections_and_deaths.dtypes"
   ]
  },
  {
   "cell_type": "code",
   "execution_count": 53,
   "id": "e4187ba1-168c-4b6d-91a2-03c6956cb2dc",
   "metadata": {
    "slideshow": {
     "slide_type": "subslide"
    }
   },
   "outputs": [
    {
     "data": {
      "text/html": [
       "<div>\n",
       "<style scoped>\n",
       "    .dataframe tbody tr th:only-of-type {\n",
       "        vertical-align: middle;\n",
       "    }\n",
       "\n",
       "    .dataframe tbody tr th {\n",
       "        vertical-align: top;\n",
       "    }\n",
       "\n",
       "    .dataframe thead th {\n",
       "        text-align: right;\n",
       "    }\n",
       "</style>\n",
       "<table border=\"1\" class=\"dataframe\">\n",
       "  <thead>\n",
       "    <tr style=\"text-align: right;\">\n",
       "      <th></th>\n",
       "      <th>coduf</th>\n",
       "      <th>codmun</th>\n",
       "      <th>codRegiaoSaude</th>\n",
       "      <th>data</th>\n",
       "      <th>semanaEpi</th>\n",
       "      <th>populacaoTCU2019</th>\n",
       "      <th>casosAcumulado</th>\n",
       "      <th>casosNovos</th>\n",
       "      <th>obitosAcumulado</th>\n",
       "      <th>obitosNovos</th>\n",
       "      <th>Recuperadosnovos</th>\n",
       "      <th>emAcompanhamentoNovos</th>\n",
       "      <th>interior/metropolitana</th>\n",
       "    </tr>\n",
       "  </thead>\n",
       "  <tbody>\n",
       "    <tr>\n",
       "      <th>count</th>\n",
       "      <td>7.193188e+06</td>\n",
       "      <td>7156480.0</td>\n",
       "      <td>7129600.0</td>\n",
       "      <td>7193188</td>\n",
       "      <td>7.193188e+06</td>\n",
       "      <td>7166308.0</td>\n",
       "      <td>7193188.0</td>\n",
       "      <td>7.193188e+06</td>\n",
       "      <td>7.193188e+06</td>\n",
       "      <td>7.193188e+06</td>\n",
       "      <td>1310.0</td>\n",
       "      <td>1310.0</td>\n",
       "      <td>7129600.0</td>\n",
       "    </tr>\n",
       "    <tr>\n",
       "      <th>mean</th>\n",
       "      <td>3.236019e+01</td>\n",
       "      <td>325258.01413</td>\n",
       "      <td>32403.123698</td>\n",
       "      <td>2021-12-26 10:06:05.846130944</td>\n",
       "      <td>2.659265e+01</td>\n",
       "      <td>114423.505346</td>\n",
       "      <td>11999.598133</td>\n",
       "      <td>1.576365e+01</td>\n",
       "      <td>2.627686e+02</td>\n",
       "      <td>2.943514e-01</td>\n",
       "      <td>20928346.324427</td>\n",
       "      <td>517280.235878</td>\n",
       "      <td>0.0693</td>\n",
       "    </tr>\n",
       "    <tr>\n",
       "      <th>min</th>\n",
       "      <td>1.100000e+01</td>\n",
       "      <td>110000.0</td>\n",
       "      <td>11001.0</td>\n",
       "      <td>2020-02-25 00:00:00</td>\n",
       "      <td>1.000000e+00</td>\n",
       "      <td>781.0</td>\n",
       "      <td>0.0</td>\n",
       "      <td>-3.368370e+05</td>\n",
       "      <td>0.000000e+00</td>\n",
       "      <td>-9.114000e+03</td>\n",
       "      <td>0.0</td>\n",
       "      <td>-6206.0</td>\n",
       "      <td>0.0</td>\n",
       "    </tr>\n",
       "    <tr>\n",
       "      <th>25%</th>\n",
       "      <td>2.500000e+01</td>\n",
       "      <td>251200.0</td>\n",
       "      <td>25010.0</td>\n",
       "      <td>2021-02-09 00:00:00</td>\n",
       "      <td>1.500000e+01</td>\n",
       "      <td>5474.0</td>\n",
       "      <td>281.0</td>\n",
       "      <td>0.000000e+00</td>\n",
       "      <td>5.000000e+00</td>\n",
       "      <td>0.000000e+00</td>\n",
       "      <td>7368230.25</td>\n",
       "      <td>127228.25</td>\n",
       "      <td>0.0</td>\n",
       "    </tr>\n",
       "    <tr>\n",
       "      <th>50%</th>\n",
       "      <td>3.100000e+01</td>\n",
       "      <td>314610.0</td>\n",
       "      <td>31059.0</td>\n",
       "      <td>2021-12-26 00:00:00</td>\n",
       "      <td>2.700000e+01</td>\n",
       "      <td>11695.0</td>\n",
       "      <td>875.0</td>\n",
       "      <td>0.000000e+00</td>\n",
       "      <td>1.400000e+01</td>\n",
       "      <td>0.000000e+00</td>\n",
       "      <td>21413060.5</td>\n",
       "      <td>399018.0</td>\n",
       "      <td>0.0</td>\n",
       "    </tr>\n",
       "    <tr>\n",
       "      <th>75%</th>\n",
       "      <td>4.100000e+01</td>\n",
       "      <td>411915.0</td>\n",
       "      <td>41015.0</td>\n",
       "      <td>2022-11-11 00:00:00</td>\n",
       "      <td>3.800000e+01</td>\n",
       "      <td>25765.0</td>\n",
       "      <td>2423.0</td>\n",
       "      <td>1.000000e+00</td>\n",
       "      <td>4.200000e+01</td>\n",
       "      <td>0.000000e+00</td>\n",
       "      <td>34067346.25</td>\n",
       "      <td>743322.25</td>\n",
       "      <td>0.0</td>\n",
       "    </tr>\n",
       "    <tr>\n",
       "      <th>max</th>\n",
       "      <td>7.600000e+01</td>\n",
       "      <td>530010.0</td>\n",
       "      <td>53001.0</td>\n",
       "      <td>2023-09-27 00:00:00</td>\n",
       "      <td>5.300000e+01</td>\n",
       "      <td>210147125.0</td>\n",
       "      <td>37796956.0</td>\n",
       "      <td>3.369590e+05</td>\n",
       "      <td>7.057750e+05</td>\n",
       "      <td>9.115000e+03</td>\n",
       "      <td>37091152.0</td>\n",
       "      <td>11232608.0</td>\n",
       "      <td>1.0</td>\n",
       "    </tr>\n",
       "    <tr>\n",
       "      <th>std</th>\n",
       "      <td>9.874141e+00</td>\n",
       "      <td>98535.031084</td>\n",
       "      <td>9836.341996</td>\n",
       "      <td>NaN</td>\n",
       "      <td>1.428004e+01</td>\n",
       "      <td>2970244.401195</td>\n",
       "      <td>361036.997732</td>\n",
       "      <td>7.254447e+02</td>\n",
       "      <td>7.732456e+03</td>\n",
       "      <td>1.677708e+01</td>\n",
       "      <td>13293052.750054</td>\n",
       "      <td>585175.189635</td>\n",
       "      <td>0.253963</td>\n",
       "    </tr>\n",
       "  </tbody>\n",
       "</table>\n",
       "</div>"
      ],
      "text/plain": [
       "              coduf        codmun  codRegiaoSaude  \\\n",
       "count  7.193188e+06     7156480.0       7129600.0   \n",
       "mean   3.236019e+01  325258.01413    32403.123698   \n",
       "min    1.100000e+01      110000.0         11001.0   \n",
       "25%    2.500000e+01      251200.0         25010.0   \n",
       "50%    3.100000e+01      314610.0         31059.0   \n",
       "75%    4.100000e+01      411915.0         41015.0   \n",
       "max    7.600000e+01      530010.0         53001.0   \n",
       "std    9.874141e+00  98535.031084     9836.341996   \n",
       "\n",
       "                                data     semanaEpi  populacaoTCU2019  \\\n",
       "count                        7193188  7.193188e+06         7166308.0   \n",
       "mean   2021-12-26 10:06:05.846130944  2.659265e+01     114423.505346   \n",
       "min              2020-02-25 00:00:00  1.000000e+00             781.0   \n",
       "25%              2021-02-09 00:00:00  1.500000e+01            5474.0   \n",
       "50%              2021-12-26 00:00:00  2.700000e+01           11695.0   \n",
       "75%              2022-11-11 00:00:00  3.800000e+01           25765.0   \n",
       "max              2023-09-27 00:00:00  5.300000e+01       210147125.0   \n",
       "std                              NaN  1.428004e+01    2970244.401195   \n",
       "\n",
       "       casosAcumulado    casosNovos  obitosAcumulado   obitosNovos  \\\n",
       "count       7193188.0  7.193188e+06     7.193188e+06  7.193188e+06   \n",
       "mean     11999.598133  1.576365e+01     2.627686e+02  2.943514e-01   \n",
       "min               0.0 -3.368370e+05     0.000000e+00 -9.114000e+03   \n",
       "25%             281.0  0.000000e+00     5.000000e+00  0.000000e+00   \n",
       "50%             875.0  0.000000e+00     1.400000e+01  0.000000e+00   \n",
       "75%            2423.0  1.000000e+00     4.200000e+01  0.000000e+00   \n",
       "max        37796956.0  3.369590e+05     7.057750e+05  9.115000e+03   \n",
       "std     361036.997732  7.254447e+02     7.732456e+03  1.677708e+01   \n",
       "\n",
       "       Recuperadosnovos  emAcompanhamentoNovos  interior/metropolitana  \n",
       "count            1310.0                 1310.0               7129600.0  \n",
       "mean    20928346.324427          517280.235878                  0.0693  \n",
       "min                 0.0                -6206.0                     0.0  \n",
       "25%          7368230.25              127228.25                     0.0  \n",
       "50%          21413060.5               399018.0                     0.0  \n",
       "75%         34067346.25              743322.25                     0.0  \n",
       "max          37091152.0             11232608.0                     1.0  \n",
       "std     13293052.750054          585175.189635                0.253963  "
      ]
     },
     "execution_count": 53,
     "metadata": {},
     "output_type": "execute_result"
    }
   ],
   "source": [
    "covid_infections_and_deaths.describe()"
   ]
  },
  {
   "cell_type": "markdown",
   "id": "1ad994c5-ec7b-4791-a276-27b958ee0b3b",
   "metadata": {
    "slideshow": {
     "slide_type": "subslide"
    }
   },
   "source": [
    "#### json"
   ]
  },
  {
   "cell_type": "code",
   "execution_count": 54,
   "id": "7fc966d4-d3f9-4187-bdab-35f896f9ac99",
   "metadata": {
    "slideshow": {
     "slide_type": "-"
    }
   },
   "outputs": [],
   "source": [
    "#fail\n",
    "def get_estados_codigos(filename='estados_codigos.json'):\n",
    "    filepath = os.path.join(build_path(), filename)\n",
    "    \n",
    "    return pd.read_json(filepath)\n",
    "\n",
    "#solution\n",
    "def get_estados_codigos(filename='estados_codigos.json'):\n",
    "    filepath = os.path.join(build_path(), filename)\n",
    "    \n",
    "    with open(filepath) as jsonfile:\n",
    "        return pd.json_normalize(json.load(jsonfile))"
   ]
  },
  {
   "cell_type": "code",
   "execution_count": 55,
   "id": "0c3adddf-458c-46f4-91ba-724968db3bff",
   "metadata": {
    "slideshow": {
     "slide_type": "subslide"
    }
   },
   "outputs": [],
   "source": [
    "#fail\n",
    "def get_estados_caracteristicas(filename='estados_caracteristicas.json'):\n",
    "    filepath = os.path.join(build_path(), filename)\n",
    "\n",
    "    return pd.read_json(filepath)\n",
    "\n",
    "#solution\n",
    "def get_estados_caracteristicas(filename='estados_caracteristicas.json'):\n",
    "    filepath = os.path.join(build_path(), filename)\n",
    "\n",
    "    with open(filepath) as jsonfile:\n",
    "        return pd.json_normalize(json.load(jsonfile), \\\n",
    "                                 record_path='characteristics', \\\n",
    "                                 record_prefix='characteristics_', \\\n",
    "                                 meta='state',\\\n",
    "                                 meta_prefix='state_')"
   ]
  },
  {
   "cell_type": "code",
   "execution_count": 56,
   "id": "439ab471-0d1d-4f92-be93-03936e513b25",
   "metadata": {
    "slideshow": {
     "slide_type": "subslide"
    }
   },
   "outputs": [],
   "source": [
    "#big fail\n",
    "def get_estados_vacinacao(filename='estados_vacinacao.json'):\n",
    "    filepath = os.path.join(build_path(), filename)\n",
    "\n",
    "    return pd.read_json(filepath)\n",
    "\n",
    "#solution\n",
    "def get_estados_vacinacao(filename='estados_vacinacao.json'):\n",
    "    filepath = os.path.join(build_path(), filename)\n",
    "\n",
    "    with open(filepath) as jsonfile:\n",
    "        df = pd.json_normalize(json.load(jsonfile)['Paciente_Estado']['buckets'], \\\n",
    "                               record_path=['Data_Aplicacao_Vacina', ['buckets']], \\\n",
    "                               meta=['key', 'doc_count'], \\\n",
    "                               record_prefix='vacinacao_', \\\n",
    "                               meta_prefix='estado_').convert_dtypes()\n",
    "        df['vacinacao_key'] = pd.to_datetime(df['vacinacao_key'], unit='ms')\n",
    "        return df"
   ]
  },
  {
   "cell_type": "code",
   "execution_count": 57,
   "id": "ff89f8fb-37fd-4c48-b532-9d8b34cc4878",
   "metadata": {
    "slideshow": {
     "slide_type": "subslide"
    }
   },
   "outputs": [],
   "source": [
    "#big fail\n",
    "def get_municipios_vacinacao(filename='municipios_vacinacao.json'):\n",
    "    filepath = os.path.join(build_path(), filename)\n",
    "\n",
    "    return pd.read_json(filepath)\n",
    "\n",
    "#solution\n",
    "def get_municipios_vacinacao(filename='municipios_vacinacao.json'):\n",
    "    filepath = os.path.join(build_path(), filename)\n",
    "\n",
    "    with open(filepath) as jsonfile:\n",
    "        df = pd.json_normalize(json.load(jsonfile)['Paciente_Municipio']['buckets'], \\\n",
    "                               record_path=['Data_Aplicacao_Vacina', ['buckets']], \\\n",
    "                               meta=['key', 'doc_count'], \\\n",
    "                               record_prefix='vacinacao_', \\\n",
    "                               meta_prefix='municipio_',).convert_dtypes()\n",
    "        df['vacinacao_key'] = pd.to_datetime(df['vacinacao_key'], unit='ms')\n",
    "        return df"
   ]
  },
  {
   "cell_type": "markdown",
   "id": "cc22c316-457e-4dfd-a12c-e9d11931890b",
   "metadata": {
    "slideshow": {
     "slide_type": "subslide"
    }
   },
   "source": [
    "##### Características das Unidades da Federação"
   ]
  },
  {
   "cell_type": "code",
   "execution_count": 58,
   "id": "09592071-5ee5-4294-9d55-4bf664457eda",
   "metadata": {
    "slideshow": {
     "slide_type": "-"
    }
   },
   "outputs": [],
   "source": [
    "estados_caracteristicas = get_estados_caracteristicas()"
   ]
  },
  {
   "cell_type": "code",
   "execution_count": 59,
   "id": "791275ff-2319-4ca6-8773-6d6ee5da3bfd",
   "metadata": {
    "slideshow": {
     "slide_type": "-"
    }
   },
   "outputs": [
    {
     "data": {
      "text/html": [
       "<div>\n",
       "<style scoped>\n",
       "    .dataframe tbody tr th:only-of-type {\n",
       "        vertical-align: middle;\n",
       "    }\n",
       "\n",
       "    .dataframe tbody tr th {\n",
       "        vertical-align: top;\n",
       "    }\n",
       "\n",
       "    .dataframe thead th {\n",
       "        text-align: right;\n",
       "    }\n",
       "</style>\n",
       "<table border=\"1\" class=\"dataframe\">\n",
       "  <thead>\n",
       "    <tr style=\"text-align: right;\">\n",
       "      <th></th>\n",
       "      <th>characteristics_label</th>\n",
       "      <th>characteristics_value</th>\n",
       "      <th>characteristics_measure</th>\n",
       "      <th>state_state</th>\n",
       "    </tr>\n",
       "  </thead>\n",
       "  <tbody>\n",
       "    <tr>\n",
       "      <th>0</th>\n",
       "      <td>Governador</td>\n",
       "      <td>MARCOS JOSÉ ROCHA DOS SANTOS</td>\n",
       "      <td></td>\n",
       "      <td>ro</td>\n",
       "    </tr>\n",
       "    <tr>\n",
       "      <th>1</th>\n",
       "      <td>Capital</td>\n",
       "      <td>Porto Velho</td>\n",
       "      <td></td>\n",
       "      <td>ro</td>\n",
       "    </tr>\n",
       "    <tr>\n",
       "      <th>2</th>\n",
       "      <td>Gentílico</td>\n",
       "      <td>rondoniense ou rondoniano</td>\n",
       "      <td></td>\n",
       "      <td>ro</td>\n",
       "    </tr>\n",
       "    <tr>\n",
       "      <th>3</th>\n",
       "      <td>Área Territorial</td>\n",
       "      <td>237.754,172</td>\n",
       "      <td>km²</td>\n",
       "      <td>ro</td>\n",
       "    </tr>\n",
       "    <tr>\n",
       "      <th>4</th>\n",
       "      <td>População residente</td>\n",
       "      <td>1.581.016</td>\n",
       "      <td>pessoas</td>\n",
       "      <td>ro</td>\n",
       "    </tr>\n",
       "  </tbody>\n",
       "</table>\n",
       "</div>"
      ],
      "text/plain": [
       "  characteristics_label         characteristics_value characteristics_measure  \\\n",
       "0            Governador  MARCOS JOSÉ ROCHA DOS SANTOS                           \n",
       "1               Capital                   Porto Velho                           \n",
       "2             Gentílico     rondoniense ou rondoniano                           \n",
       "3      Área Territorial                   237.754,172                     km²   \n",
       "4   População residente                     1.581.016                 pessoas   \n",
       "\n",
       "  state_state  \n",
       "0          ro  \n",
       "1          ro  \n",
       "2          ro  \n",
       "3          ro  \n",
       "4          ro  "
      ]
     },
     "execution_count": 59,
     "metadata": {},
     "output_type": "execute_result"
    }
   ],
   "source": [
    "estados_caracteristicas.head()"
   ]
  },
  {
   "cell_type": "code",
   "execution_count": 60,
   "id": "e2609089-df56-47c5-827d-29b1c3378292",
   "metadata": {
    "slideshow": {
     "slide_type": "subslide"
    }
   },
   "outputs": [
    {
     "data": {
      "text/plain": [
       "characteristics_label      object\n",
       "characteristics_value      object\n",
       "characteristics_measure    object\n",
       "state_state                object\n",
       "dtype: object"
      ]
     },
     "execution_count": 60,
     "metadata": {},
     "output_type": "execute_result"
    }
   ],
   "source": [
    "estados_caracteristicas.dtypes"
   ]
  },
  {
   "cell_type": "code",
   "execution_count": 61,
   "id": "b7fd7915-ff30-4b9a-ad0d-d861029204fb",
   "metadata": {
    "slideshow": {
     "slide_type": "-"
    }
   },
   "outputs": [
    {
     "data": {
      "text/html": [
       "<div>\n",
       "<style scoped>\n",
       "    .dataframe tbody tr th:only-of-type {\n",
       "        vertical-align: middle;\n",
       "    }\n",
       "\n",
       "    .dataframe tbody tr th {\n",
       "        vertical-align: top;\n",
       "    }\n",
       "\n",
       "    .dataframe thead th {\n",
       "        text-align: right;\n",
       "    }\n",
       "</style>\n",
       "<table border=\"1\" class=\"dataframe\">\n",
       "  <thead>\n",
       "    <tr style=\"text-align: right;\">\n",
       "      <th></th>\n",
       "      <th>characteristics_label</th>\n",
       "      <th>characteristics_value</th>\n",
       "      <th>characteristics_measure</th>\n",
       "      <th>state_state</th>\n",
       "    </tr>\n",
       "  </thead>\n",
       "  <tbody>\n",
       "    <tr>\n",
       "      <th>count</th>\n",
       "      <td>324</td>\n",
       "      <td>324</td>\n",
       "      <td>324</td>\n",
       "      <td>324</td>\n",
       "    </tr>\n",
       "    <tr>\n",
       "      <th>unique</th>\n",
       "      <td>12</td>\n",
       "      <td>320</td>\n",
       "      <td>8</td>\n",
       "      <td>27</td>\n",
       "    </tr>\n",
       "    <tr>\n",
       "      <th>top</th>\n",
       "      <td>Governador</td>\n",
       "      <td>1.010</td>\n",
       "      <td></td>\n",
       "      <td>ro</td>\n",
       "    </tr>\n",
       "    <tr>\n",
       "      <th>freq</th>\n",
       "      <td>27</td>\n",
       "      <td>2</td>\n",
       "      <td>108</td>\n",
       "      <td>12</td>\n",
       "    </tr>\n",
       "  </tbody>\n",
       "</table>\n",
       "</div>"
      ],
      "text/plain": [
       "       characteristics_label characteristics_value characteristics_measure  \\\n",
       "count                    324                   324                     324   \n",
       "unique                    12                   320                       8   \n",
       "top               Governador                 1.010                           \n",
       "freq                      27                     2                     108   \n",
       "\n",
       "       state_state  \n",
       "count          324  \n",
       "unique          27  \n",
       "top             ro  \n",
       "freq            12  "
      ]
     },
     "execution_count": 61,
     "metadata": {},
     "output_type": "execute_result"
    }
   ],
   "source": [
    "estados_caracteristicas.describe()"
   ]
  },
  {
   "cell_type": "markdown",
   "id": "fe67e98f-f914-46b1-9eb9-acbe7c00977a",
   "metadata": {
    "slideshow": {
     "slide_type": "subslide"
    }
   },
   "source": [
    "#### Dados de Vacinação"
   ]
  },
  {
   "cell_type": "markdown",
   "id": "d38145e0-b021-4add-8085-b19c38561847",
   "metadata": {
    "slideshow": {
     "slide_type": "-"
    }
   },
   "source": [
    "##### Unidades Federativas"
   ]
  },
  {
   "cell_type": "code",
   "execution_count": 62,
   "id": "f8f32fdd-4940-4fdc-96f1-7b2042cddf92",
   "metadata": {
    "slideshow": {
     "slide_type": "-"
    }
   },
   "outputs": [],
   "source": [
    "estados_vacinacao = get_estados_vacinacao()"
   ]
  },
  {
   "cell_type": "code",
   "execution_count": 63,
   "id": "98fa6050-a33c-4dba-9ad2-89962720deaf",
   "metadata": {
    "slideshow": {
     "slide_type": "-"
    }
   },
   "outputs": [
    {
     "data": {
      "text/html": [
       "<div>\n",
       "<style scoped>\n",
       "    .dataframe tbody tr th:only-of-type {\n",
       "        vertical-align: middle;\n",
       "    }\n",
       "\n",
       "    .dataframe tbody tr th {\n",
       "        vertical-align: top;\n",
       "    }\n",
       "\n",
       "    .dataframe thead th {\n",
       "        text-align: right;\n",
       "    }\n",
       "</style>\n",
       "<table border=\"1\" class=\"dataframe\">\n",
       "  <thead>\n",
       "    <tr style=\"text-align: right;\">\n",
       "      <th></th>\n",
       "      <th>vacinacao_key_as_string</th>\n",
       "      <th>vacinacao_key</th>\n",
       "      <th>vacinacao_doc_count</th>\n",
       "      <th>estado_key</th>\n",
       "      <th>estado_doc_count</th>\n",
       "    </tr>\n",
       "  </thead>\n",
       "  <tbody>\n",
       "    <tr>\n",
       "      <th>0</th>\n",
       "      <td>2023-09-27T00:00:00.000Z</td>\n",
       "      <td>2023-09-27</td>\n",
       "      <td>1804</td>\n",
       "      <td>SP</td>\n",
       "      <td>167868829</td>\n",
       "    </tr>\n",
       "    <tr>\n",
       "      <th>1</th>\n",
       "      <td>2023-09-26T00:00:00.000Z</td>\n",
       "      <td>2023-09-26</td>\n",
       "      <td>2081</td>\n",
       "      <td>SP</td>\n",
       "      <td>167868829</td>\n",
       "    </tr>\n",
       "    <tr>\n",
       "      <th>2</th>\n",
       "      <td>2023-09-25T00:00:00.000Z</td>\n",
       "      <td>2023-09-25</td>\n",
       "      <td>1968</td>\n",
       "      <td>SP</td>\n",
       "      <td>167868829</td>\n",
       "    </tr>\n",
       "    <tr>\n",
       "      <th>3</th>\n",
       "      <td>2023-09-24T00:00:00.000Z</td>\n",
       "      <td>2023-09-24</td>\n",
       "      <td>5</td>\n",
       "      <td>SP</td>\n",
       "      <td>167868829</td>\n",
       "    </tr>\n",
       "    <tr>\n",
       "      <th>4</th>\n",
       "      <td>2023-09-23T00:00:00.000Z</td>\n",
       "      <td>2023-09-23</td>\n",
       "      <td>400</td>\n",
       "      <td>SP</td>\n",
       "      <td>167868829</td>\n",
       "    </tr>\n",
       "  </tbody>\n",
       "</table>\n",
       "</div>"
      ],
      "text/plain": [
       "    vacinacao_key_as_string vacinacao_key  vacinacao_doc_count estado_key  \\\n",
       "0  2023-09-27T00:00:00.000Z    2023-09-27                 1804         SP   \n",
       "1  2023-09-26T00:00:00.000Z    2023-09-26                 2081         SP   \n",
       "2  2023-09-25T00:00:00.000Z    2023-09-25                 1968         SP   \n",
       "3  2023-09-24T00:00:00.000Z    2023-09-24                    5         SP   \n",
       "4  2023-09-23T00:00:00.000Z    2023-09-23                  400         SP   \n",
       "\n",
       "   estado_doc_count  \n",
       "0         167868829  \n",
       "1         167868829  \n",
       "2         167868829  \n",
       "3         167868829  \n",
       "4         167868829  "
      ]
     },
     "execution_count": 63,
     "metadata": {},
     "output_type": "execute_result"
    }
   ],
   "source": [
    "estados_vacinacao.head()"
   ]
  },
  {
   "cell_type": "code",
   "execution_count": 64,
   "id": "f9da68fd-87fa-420f-8eaa-3dc3a4ace717",
   "metadata": {
    "slideshow": {
     "slide_type": "subslide"
    }
   },
   "outputs": [
    {
     "data": {
      "text/plain": [
       "vacinacao_key_as_string    string[python]\n",
       "vacinacao_key              datetime64[ms]\n",
       "vacinacao_doc_count                 Int64\n",
       "estado_key                 string[python]\n",
       "estado_doc_count                    Int64\n",
       "dtype: object"
      ]
     },
     "execution_count": 64,
     "metadata": {},
     "output_type": "execute_result"
    }
   ],
   "source": [
    "estados_vacinacao.dtypes"
   ]
  },
  {
   "cell_type": "code",
   "execution_count": 65,
   "id": "c2d202a8-2c7c-4c3c-b851-ef122c4f1c0b",
   "metadata": {
    "slideshow": {
     "slide_type": "-"
    },
    "tags": []
   },
   "outputs": [
    {
     "data": {
      "text/html": [
       "<div>\n",
       "<style scoped>\n",
       "    .dataframe tbody tr th:only-of-type {\n",
       "        vertical-align: middle;\n",
       "    }\n",
       "\n",
       "    .dataframe tbody tr th {\n",
       "        vertical-align: top;\n",
       "    }\n",
       "\n",
       "    .dataframe thead th {\n",
       "        text-align: right;\n",
       "    }\n",
       "</style>\n",
       "<table border=\"1\" class=\"dataframe\">\n",
       "  <thead>\n",
       "    <tr style=\"text-align: right;\">\n",
       "      <th></th>\n",
       "      <th>vacinacao_key</th>\n",
       "      <th>vacinacao_doc_count</th>\n",
       "      <th>estado_doc_count</th>\n",
       "    </tr>\n",
       "  </thead>\n",
       "  <tbody>\n",
       "    <tr>\n",
       "      <th>count</th>\n",
       "      <td>30386</td>\n",
       "      <td>30386.0</td>\n",
       "      <td>30386.0</td>\n",
       "    </tr>\n",
       "    <tr>\n",
       "      <th>mean</th>\n",
       "      <td>2021-04-06 20:43:28.359000</td>\n",
       "      <td>19069.044231</td>\n",
       "      <td>23504207.3938</td>\n",
       "    </tr>\n",
       "    <tr>\n",
       "      <th>min</th>\n",
       "      <td>1899-12-30 00:00:00</td>\n",
       "      <td>1.0</td>\n",
       "      <td>1663183.0</td>\n",
       "    </tr>\n",
       "    <tr>\n",
       "      <th>25%</th>\n",
       "      <td>2021-06-01 00:00:00</td>\n",
       "      <td>252.0</td>\n",
       "      <td>7393061.0</td>\n",
       "    </tr>\n",
       "    <tr>\n",
       "      <th>50%</th>\n",
       "      <td>2022-03-10 00:00:00</td>\n",
       "      <td>3583.5</td>\n",
       "      <td>11222771.0</td>\n",
       "    </tr>\n",
       "    <tr>\n",
       "      <th>75%</th>\n",
       "      <td>2022-12-16 00:00:00</td>\n",
       "      <td>16356.0</td>\n",
       "      <td>29892356.0</td>\n",
       "    </tr>\n",
       "    <tr>\n",
       "      <th>max</th>\n",
       "      <td>2023-09-27 00:00:00</td>\n",
       "      <td>1418733.0</td>\n",
       "      <td>167868829.0</td>\n",
       "    </tr>\n",
       "    <tr>\n",
       "      <th>std</th>\n",
       "      <td>NaN</td>\n",
       "      <td>51441.317067</td>\n",
       "      <td>33654814.375997</td>\n",
       "    </tr>\n",
       "  </tbody>\n",
       "</table>\n",
       "</div>"
      ],
      "text/plain": [
       "                    vacinacao_key  vacinacao_doc_count  estado_doc_count\n",
       "count                       30386              30386.0           30386.0\n",
       "mean   2021-04-06 20:43:28.359000         19069.044231     23504207.3938\n",
       "min           1899-12-30 00:00:00                  1.0         1663183.0\n",
       "25%           2021-06-01 00:00:00                252.0         7393061.0\n",
       "50%           2022-03-10 00:00:00               3583.5        11222771.0\n",
       "75%           2022-12-16 00:00:00              16356.0        29892356.0\n",
       "max           2023-09-27 00:00:00            1418733.0       167868829.0\n",
       "std                           NaN         51441.317067   33654814.375997"
      ]
     },
     "execution_count": 65,
     "metadata": {},
     "output_type": "execute_result"
    }
   ],
   "source": [
    "estados_vacinacao.describe()"
   ]
  },
  {
   "cell_type": "markdown",
   "id": "96b87381-0677-4bed-bdd6-800bfbd70fb8",
   "metadata": {
    "slideshow": {
     "slide_type": "subslide"
    }
   },
   "source": [
    "##### Municípios"
   ]
  },
  {
   "cell_type": "code",
   "execution_count": 66,
   "id": "4ee10d4b-4635-4e0c-9abb-e64b991b0aec",
   "metadata": {
    "slideshow": {
     "slide_type": "-"
    }
   },
   "outputs": [],
   "source": [
    "municipios_vacinacao = get_municipios_vacinacao()"
   ]
  },
  {
   "cell_type": "code",
   "execution_count": 67,
   "id": "a6166156-fddb-4262-8db9-4fc142775e99",
   "metadata": {
    "slideshow": {
     "slide_type": "-"
    }
   },
   "outputs": [
    {
     "data": {
      "text/html": [
       "<div>\n",
       "<style scoped>\n",
       "    .dataframe tbody tr th:only-of-type {\n",
       "        vertical-align: middle;\n",
       "    }\n",
       "\n",
       "    .dataframe tbody tr th {\n",
       "        vertical-align: top;\n",
       "    }\n",
       "\n",
       "    .dataframe thead th {\n",
       "        text-align: right;\n",
       "    }\n",
       "</style>\n",
       "<table border=\"1\" class=\"dataframe\">\n",
       "  <thead>\n",
       "    <tr style=\"text-align: right;\">\n",
       "      <th></th>\n",
       "      <th>vacinacao_key_as_string</th>\n",
       "      <th>vacinacao_key</th>\n",
       "      <th>vacinacao_doc_count</th>\n",
       "      <th>municipio_key</th>\n",
       "      <th>municipio_doc_count</th>\n",
       "    </tr>\n",
       "  </thead>\n",
       "  <tbody>\n",
       "    <tr>\n",
       "      <th>0</th>\n",
       "      <td>2023-09-27T00:00:00.000Z</td>\n",
       "      <td>2023-09-27</td>\n",
       "      <td>361</td>\n",
       "      <td>355030</td>\n",
       "      <td>46490089</td>\n",
       "    </tr>\n",
       "    <tr>\n",
       "      <th>1</th>\n",
       "      <td>2023-09-26T00:00:00.000Z</td>\n",
       "      <td>2023-09-26</td>\n",
       "      <td>595</td>\n",
       "      <td>355030</td>\n",
       "      <td>46490089</td>\n",
       "    </tr>\n",
       "    <tr>\n",
       "      <th>2</th>\n",
       "      <td>2023-09-25T00:00:00.000Z</td>\n",
       "      <td>2023-09-25</td>\n",
       "      <td>615</td>\n",
       "      <td>355030</td>\n",
       "      <td>46490089</td>\n",
       "    </tr>\n",
       "    <tr>\n",
       "      <th>3</th>\n",
       "      <td>2023-09-23T00:00:00.000Z</td>\n",
       "      <td>2023-09-23</td>\n",
       "      <td>112</td>\n",
       "      <td>355030</td>\n",
       "      <td>46490089</td>\n",
       "    </tr>\n",
       "    <tr>\n",
       "      <th>4</th>\n",
       "      <td>2023-09-22T00:00:00.000Z</td>\n",
       "      <td>2023-09-22</td>\n",
       "      <td>659</td>\n",
       "      <td>355030</td>\n",
       "      <td>46490089</td>\n",
       "    </tr>\n",
       "  </tbody>\n",
       "</table>\n",
       "</div>"
      ],
      "text/plain": [
       "    vacinacao_key_as_string vacinacao_key  vacinacao_doc_count municipio_key  \\\n",
       "0  2023-09-27T00:00:00.000Z    2023-09-27                  361        355030   \n",
       "1  2023-09-26T00:00:00.000Z    2023-09-26                  595        355030   \n",
       "2  2023-09-25T00:00:00.000Z    2023-09-25                  615        355030   \n",
       "3  2023-09-23T00:00:00.000Z    2023-09-23                  112        355030   \n",
       "4  2023-09-22T00:00:00.000Z    2023-09-22                  659        355030   \n",
       "\n",
       "   municipio_doc_count  \n",
       "0             46490089  \n",
       "1             46490089  \n",
       "2             46490089  \n",
       "3             46490089  \n",
       "4             46490089  "
      ]
     },
     "execution_count": 67,
     "metadata": {},
     "output_type": "execute_result"
    }
   ],
   "source": [
    "municipios_vacinacao.head()"
   ]
  },
  {
   "cell_type": "code",
   "execution_count": 68,
   "id": "64080bb3-1a2e-48b2-b884-deb815cae218",
   "metadata": {
    "slideshow": {
     "slide_type": "subslide"
    }
   },
   "outputs": [
    {
     "data": {
      "text/plain": [
       "vacinacao_key_as_string    string[python]\n",
       "vacinacao_key              datetime64[ms]\n",
       "vacinacao_doc_count                 Int64\n",
       "municipio_key              string[python]\n",
       "municipio_doc_count                 Int64\n",
       "dtype: object"
      ]
     },
     "execution_count": 68,
     "metadata": {},
     "output_type": "execute_result"
    }
   ],
   "source": [
    "municipios_vacinacao.dtypes"
   ]
  },
  {
   "cell_type": "code",
   "execution_count": 69,
   "id": "e08e265e-2586-45cd-a753-a68ad40a5be8",
   "metadata": {
    "slideshow": {
     "slide_type": "-"
    }
   },
   "outputs": [
    {
     "data": {
      "text/html": [
       "<div>\n",
       "<style scoped>\n",
       "    .dataframe tbody tr th:only-of-type {\n",
       "        vertical-align: middle;\n",
       "    }\n",
       "\n",
       "    .dataframe tbody tr th {\n",
       "        vertical-align: top;\n",
       "    }\n",
       "\n",
       "    .dataframe thead th {\n",
       "        text-align: right;\n",
       "    }\n",
       "</style>\n",
       "<table border=\"1\" class=\"dataframe\">\n",
       "  <thead>\n",
       "    <tr style=\"text-align: right;\">\n",
       "      <th></th>\n",
       "      <th>vacinacao_key</th>\n",
       "      <th>vacinacao_doc_count</th>\n",
       "      <th>municipio_doc_count</th>\n",
       "    </tr>\n",
       "  </thead>\n",
       "  <tbody>\n",
       "    <tr>\n",
       "      <th>count</th>\n",
       "      <td>61362</td>\n",
       "      <td>61362.0</td>\n",
       "      <td>61362.0</td>\n",
       "    </tr>\n",
       "    <tr>\n",
       "      <th>mean</th>\n",
       "      <td>2022-02-13 06:35:00.088000</td>\n",
       "      <td>3527.839722</td>\n",
       "      <td>3821753.401291</td>\n",
       "    </tr>\n",
       "    <tr>\n",
       "      <th>min</th>\n",
       "      <td>1900-08-21 00:00:00</td>\n",
       "      <td>1.0</td>\n",
       "      <td>1154376.0</td>\n",
       "    </tr>\n",
       "    <tr>\n",
       "      <th>25%</th>\n",
       "      <td>2021-07-29 00:00:00</td>\n",
       "      <td>91.0</td>\n",
       "      <td>1382455.0</td>\n",
       "    </tr>\n",
       "    <tr>\n",
       "      <th>50%</th>\n",
       "      <td>2022-04-11 00:00:00</td>\n",
       "      <td>1022.5</td>\n",
       "      <td>2017416.0</td>\n",
       "    </tr>\n",
       "    <tr>\n",
       "      <th>75%</th>\n",
       "      <td>2022-12-26 00:00:00</td>\n",
       "      <td>3484.0</td>\n",
       "      <td>3392438.0</td>\n",
       "    </tr>\n",
       "    <tr>\n",
       "      <th>max</th>\n",
       "      <td>2023-09-27 00:00:00</td>\n",
       "      <td>316422.0</td>\n",
       "      <td>46490089.0</td>\n",
       "    </tr>\n",
       "    <tr>\n",
       "      <th>std</th>\n",
       "      <td>NaN</td>\n",
       "      <td>10389.366483</td>\n",
       "      <td>6626675.520003</td>\n",
       "    </tr>\n",
       "  </tbody>\n",
       "</table>\n",
       "</div>"
      ],
      "text/plain": [
       "                    vacinacao_key  vacinacao_doc_count  municipio_doc_count\n",
       "count                       61362              61362.0              61362.0\n",
       "mean   2022-02-13 06:35:00.088000          3527.839722       3821753.401291\n",
       "min           1900-08-21 00:00:00                  1.0            1154376.0\n",
       "25%           2021-07-29 00:00:00                 91.0            1382455.0\n",
       "50%           2022-04-11 00:00:00               1022.5            2017416.0\n",
       "75%           2022-12-26 00:00:00               3484.0            3392438.0\n",
       "max           2023-09-27 00:00:00             316422.0           46490089.0\n",
       "std                           NaN         10389.366483       6626675.520003"
      ]
     },
     "execution_count": 69,
     "metadata": {},
     "output_type": "execute_result"
    }
   ],
   "source": [
    "municipios_vacinacao.describe()"
   ]
  },
  {
   "cell_type": "markdown",
   "id": "700f5138-b811-49fa-ae96-589c54edfd59",
   "metadata": {
    "slideshow": {
     "slide_type": "subslide"
    }
   },
   "source": [
    "#### sqlite"
   ]
  },
  {
   "cell_type": "code",
   "execution_count": 70,
   "id": "74dc53f4-0ccd-4882-b9f2-5a0b649f4834",
   "metadata": {
    "slideshow": {
     "slide_type": "-"
    }
   },
   "outputs": [],
   "source": [
    "def get_municipios_codigos(filename='municipios_codigos.db'):\n",
    "    filepath = os.path.join(build_path(), filename)\n",
    "\n",
    "    conn = sqlite3.connect(filepath)\n",
    "    municipios_codigos = pd.read_sql_query('select * from ibge', conn, index_col='id')\n",
    "\n",
    "    return municipios_codigos"
   ]
  },
  {
   "cell_type": "markdown",
   "id": "4534de26-2cb5-4a5c-b0b6-45ad6423d8d0",
   "metadata": {
    "slideshow": {
     "slide_type": "subslide"
    }
   },
   "source": [
    "#### Código do IBGE"
   ]
  },
  {
   "cell_type": "markdown",
   "id": "28471d34-c089-4165-86db-7c3f84ff4904",
   "metadata": {
    "slideshow": {
     "slide_type": "-"
    }
   },
   "source": [
    "##### Unidades Federativas"
   ]
  },
  {
   "cell_type": "code",
   "execution_count": 71,
   "id": "4fa2e1ae-6595-460a-ae14-6af858950ccc",
   "metadata": {
    "slideshow": {
     "slide_type": "-"
    }
   },
   "outputs": [],
   "source": [
    "estados_codigos = get_estados_codigos()"
   ]
  },
  {
   "cell_type": "code",
   "execution_count": 72,
   "id": "1f1c4ef8-6938-4ce8-b500-bb816c572abb",
   "metadata": {
    "slideshow": {
     "slide_type": "-"
    }
   },
   "outputs": [
    {
     "data": {
      "text/html": [
       "<div>\n",
       "<style scoped>\n",
       "    .dataframe tbody tr th:only-of-type {\n",
       "        vertical-align: middle;\n",
       "    }\n",
       "\n",
       "    .dataframe tbody tr th {\n",
       "        vertical-align: top;\n",
       "    }\n",
       "\n",
       "    .dataframe thead th {\n",
       "        text-align: right;\n",
       "    }\n",
       "</style>\n",
       "<table border=\"1\" class=\"dataframe\">\n",
       "  <thead>\n",
       "    <tr style=\"text-align: right;\">\n",
       "      <th></th>\n",
       "      <th>id</th>\n",
       "      <th>sigla</th>\n",
       "      <th>nome</th>\n",
       "      <th>regiao.id</th>\n",
       "      <th>regiao.sigla</th>\n",
       "      <th>regiao.nome</th>\n",
       "    </tr>\n",
       "  </thead>\n",
       "  <tbody>\n",
       "    <tr>\n",
       "      <th>0</th>\n",
       "      <td>11</td>\n",
       "      <td>RO</td>\n",
       "      <td>Rondônia</td>\n",
       "      <td>1</td>\n",
       "      <td>N</td>\n",
       "      <td>Norte</td>\n",
       "    </tr>\n",
       "    <tr>\n",
       "      <th>1</th>\n",
       "      <td>12</td>\n",
       "      <td>AC</td>\n",
       "      <td>Acre</td>\n",
       "      <td>1</td>\n",
       "      <td>N</td>\n",
       "      <td>Norte</td>\n",
       "    </tr>\n",
       "    <tr>\n",
       "      <th>2</th>\n",
       "      <td>13</td>\n",
       "      <td>AM</td>\n",
       "      <td>Amazonas</td>\n",
       "      <td>1</td>\n",
       "      <td>N</td>\n",
       "      <td>Norte</td>\n",
       "    </tr>\n",
       "    <tr>\n",
       "      <th>3</th>\n",
       "      <td>14</td>\n",
       "      <td>RR</td>\n",
       "      <td>Roraima</td>\n",
       "      <td>1</td>\n",
       "      <td>N</td>\n",
       "      <td>Norte</td>\n",
       "    </tr>\n",
       "    <tr>\n",
       "      <th>4</th>\n",
       "      <td>15</td>\n",
       "      <td>PA</td>\n",
       "      <td>Pará</td>\n",
       "      <td>1</td>\n",
       "      <td>N</td>\n",
       "      <td>Norte</td>\n",
       "    </tr>\n",
       "  </tbody>\n",
       "</table>\n",
       "</div>"
      ],
      "text/plain": [
       "   id sigla      nome  regiao.id regiao.sigla regiao.nome\n",
       "0  11    RO  Rondônia          1            N       Norte\n",
       "1  12    AC      Acre          1            N       Norte\n",
       "2  13    AM  Amazonas          1            N       Norte\n",
       "3  14    RR   Roraima          1            N       Norte\n",
       "4  15    PA      Pará          1            N       Norte"
      ]
     },
     "execution_count": 72,
     "metadata": {},
     "output_type": "execute_result"
    }
   ],
   "source": [
    "estados_codigos.head()"
   ]
  },
  {
   "cell_type": "code",
   "execution_count": 73,
   "id": "d272ee18-84f6-4d3a-9d65-356a02d603b1",
   "metadata": {
    "slideshow": {
     "slide_type": "subslide"
    }
   },
   "outputs": [
    {
     "data": {
      "text/plain": [
       "id               int64\n",
       "sigla           object\n",
       "nome            object\n",
       "regiao.id        int64\n",
       "regiao.sigla    object\n",
       "regiao.nome     object\n",
       "dtype: object"
      ]
     },
     "execution_count": 73,
     "metadata": {},
     "output_type": "execute_result"
    }
   ],
   "source": [
    "estados_codigos.dtypes"
   ]
  },
  {
   "cell_type": "code",
   "execution_count": 74,
   "id": "4ed725a5-7137-46e8-a2f5-28c167fd13a2",
   "metadata": {
    "slideshow": {
     "slide_type": "-"
    }
   },
   "outputs": [
    {
     "data": {
      "text/html": [
       "<div>\n",
       "<style scoped>\n",
       "    .dataframe tbody tr th:only-of-type {\n",
       "        vertical-align: middle;\n",
       "    }\n",
       "\n",
       "    .dataframe tbody tr th {\n",
       "        vertical-align: top;\n",
       "    }\n",
       "\n",
       "    .dataframe thead th {\n",
       "        text-align: right;\n",
       "    }\n",
       "</style>\n",
       "<table border=\"1\" class=\"dataframe\">\n",
       "  <thead>\n",
       "    <tr style=\"text-align: right;\">\n",
       "      <th></th>\n",
       "      <th>id</th>\n",
       "      <th>regiao.id</th>\n",
       "    </tr>\n",
       "  </thead>\n",
       "  <tbody>\n",
       "    <tr>\n",
       "      <th>count</th>\n",
       "      <td>27.000000</td>\n",
       "      <td>27.000000</td>\n",
       "    </tr>\n",
       "    <tr>\n",
       "      <th>mean</th>\n",
       "      <td>29.111111</td>\n",
       "      <td>2.555556</td>\n",
       "    </tr>\n",
       "    <tr>\n",
       "      <th>std</th>\n",
       "      <td>13.024631</td>\n",
       "      <td>1.395965</td>\n",
       "    </tr>\n",
       "    <tr>\n",
       "      <th>min</th>\n",
       "      <td>11.000000</td>\n",
       "      <td>1.000000</td>\n",
       "    </tr>\n",
       "    <tr>\n",
       "      <th>25%</th>\n",
       "      <td>19.000000</td>\n",
       "      <td>1.500000</td>\n",
       "    </tr>\n",
       "    <tr>\n",
       "      <th>50%</th>\n",
       "      <td>27.000000</td>\n",
       "      <td>2.000000</td>\n",
       "    </tr>\n",
       "    <tr>\n",
       "      <th>75%</th>\n",
       "      <td>38.000000</td>\n",
       "      <td>3.500000</td>\n",
       "    </tr>\n",
       "    <tr>\n",
       "      <th>max</th>\n",
       "      <td>53.000000</td>\n",
       "      <td>5.000000</td>\n",
       "    </tr>\n",
       "  </tbody>\n",
       "</table>\n",
       "</div>"
      ],
      "text/plain": [
       "              id  regiao.id\n",
       "count  27.000000  27.000000\n",
       "mean   29.111111   2.555556\n",
       "std    13.024631   1.395965\n",
       "min    11.000000   1.000000\n",
       "25%    19.000000   1.500000\n",
       "50%    27.000000   2.000000\n",
       "75%    38.000000   3.500000\n",
       "max    53.000000   5.000000"
      ]
     },
     "execution_count": 74,
     "metadata": {},
     "output_type": "execute_result"
    }
   ],
   "source": [
    "estados_codigos.describe()"
   ]
  },
  {
   "cell_type": "markdown",
   "id": "e0573d30-f8f8-425f-b7f5-e697d60a57aa",
   "metadata": {
    "slideshow": {
     "slide_type": "subslide"
    }
   },
   "source": [
    "##### Municípios"
   ]
  },
  {
   "cell_type": "code",
   "execution_count": 75,
   "id": "e58745fe-2f6a-4ff8-aad7-4616e761645d",
   "metadata": {
    "slideshow": {
     "slide_type": "-"
    }
   },
   "outputs": [],
   "source": [
    "municipios_codigos = get_municipios_codigos()"
   ]
  },
  {
   "cell_type": "code",
   "execution_count": 76,
   "id": "95be96f4-7b02-4dc2-8aa7-7031bd0f3066",
   "metadata": {
    "slideshow": {
     "slide_type": "-"
    }
   },
   "outputs": [
    {
     "data": {
      "text/html": [
       "<div>\n",
       "<style scoped>\n",
       "    .dataframe tbody tr th:only-of-type {\n",
       "        vertical-align: middle;\n",
       "    }\n",
       "\n",
       "    .dataframe tbody tr th {\n",
       "        vertical-align: top;\n",
       "    }\n",
       "\n",
       "    .dataframe thead th {\n",
       "        text-align: right;\n",
       "    }\n",
       "</style>\n",
       "<table border=\"1\" class=\"dataframe\">\n",
       "  <thead>\n",
       "    <tr style=\"text-align: right;\">\n",
       "      <th></th>\n",
       "      <th>state</th>\n",
       "      <th>city</th>\n",
       "    </tr>\n",
       "    <tr>\n",
       "      <th>id</th>\n",
       "      <th></th>\n",
       "      <th></th>\n",
       "    </tr>\n",
       "  </thead>\n",
       "  <tbody>\n",
       "    <tr>\n",
       "      <th>1100015</th>\n",
       "      <td>RO</td>\n",
       "      <td>Alta Floresta D''Oeste</td>\n",
       "    </tr>\n",
       "    <tr>\n",
       "      <th>1100379</th>\n",
       "      <td>RO</td>\n",
       "      <td>Alto Alegre dos Parecis</td>\n",
       "    </tr>\n",
       "    <tr>\n",
       "      <th>1100403</th>\n",
       "      <td>RO</td>\n",
       "      <td>Alto Paraíso</td>\n",
       "    </tr>\n",
       "    <tr>\n",
       "      <th>1100346</th>\n",
       "      <td>RO</td>\n",
       "      <td>Alvorada D''Oeste</td>\n",
       "    </tr>\n",
       "    <tr>\n",
       "      <th>1100023</th>\n",
       "      <td>RO</td>\n",
       "      <td>Ariquemes</td>\n",
       "    </tr>\n",
       "  </tbody>\n",
       "</table>\n",
       "</div>"
      ],
      "text/plain": [
       "        state                     city\n",
       "id                                    \n",
       "1100015    RO   Alta Floresta D''Oeste\n",
       "1100379    RO  Alto Alegre dos Parecis\n",
       "1100403    RO             Alto Paraíso\n",
       "1100346    RO        Alvorada D''Oeste\n",
       "1100023    RO                Ariquemes"
      ]
     },
     "execution_count": 76,
     "metadata": {},
     "output_type": "execute_result"
    }
   ],
   "source": [
    "municipios_codigos.head()"
   ]
  },
  {
   "cell_type": "code",
   "execution_count": 77,
   "id": "497f5a8c-d97c-40b9-a21c-5c98b37e0b45",
   "metadata": {
    "slideshow": {
     "slide_type": "subslide"
    }
   },
   "outputs": [
    {
     "data": {
      "text/plain": [
       "state    object\n",
       "city     object\n",
       "dtype: object"
      ]
     },
     "execution_count": 77,
     "metadata": {},
     "output_type": "execute_result"
    }
   ],
   "source": [
    "municipios_codigos.dtypes"
   ]
  },
  {
   "cell_type": "code",
   "execution_count": 78,
   "id": "e83135fb-9fcc-4abb-80fc-0d54c6f40243",
   "metadata": {
    "slideshow": {
     "slide_type": "-"
    },
    "tags": []
   },
   "outputs": [
    {
     "data": {
      "text/html": [
       "<div>\n",
       "<style scoped>\n",
       "    .dataframe tbody tr th:only-of-type {\n",
       "        vertical-align: middle;\n",
       "    }\n",
       "\n",
       "    .dataframe tbody tr th {\n",
       "        vertical-align: top;\n",
       "    }\n",
       "\n",
       "    .dataframe thead th {\n",
       "        text-align: right;\n",
       "    }\n",
       "</style>\n",
       "<table border=\"1\" class=\"dataframe\">\n",
       "  <thead>\n",
       "    <tr style=\"text-align: right;\">\n",
       "      <th></th>\n",
       "      <th>state</th>\n",
       "      <th>city</th>\n",
       "    </tr>\n",
       "  </thead>\n",
       "  <tbody>\n",
       "    <tr>\n",
       "      <th>count</th>\n",
       "      <td>5570</td>\n",
       "      <td>5570</td>\n",
       "    </tr>\n",
       "    <tr>\n",
       "      <th>unique</th>\n",
       "      <td>27</td>\n",
       "      <td>5298</td>\n",
       "    </tr>\n",
       "    <tr>\n",
       "      <th>top</th>\n",
       "      <td>MG</td>\n",
       "      <td>Bom Jesus</td>\n",
       "    </tr>\n",
       "    <tr>\n",
       "      <th>freq</th>\n",
       "      <td>853</td>\n",
       "      <td>5</td>\n",
       "    </tr>\n",
       "  </tbody>\n",
       "</table>\n",
       "</div>"
      ],
      "text/plain": [
       "       state       city\n",
       "count   5570       5570\n",
       "unique    27       5298\n",
       "top       MG  Bom Jesus\n",
       "freq     853          5"
      ]
     },
     "execution_count": 78,
     "metadata": {},
     "output_type": "execute_result"
    }
   ],
   "source": [
    "municipios_codigos.describe()"
   ]
  }
 ],
 "metadata": {
  "celltoolbar": "Slideshow",
  "kernelspec": {
   "display_name": "Python 3 (ipykernel)",
   "language": "python",
   "name": "python3"
  },
  "language_info": {
   "codemirror_mode": {
    "name": "ipython",
    "version": 3
   },
   "file_extension": ".py",
   "mimetype": "text/x-python",
   "name": "python",
   "nbconvert_exporter": "python",
   "pygments_lexer": "ipython3",
   "version": "3.10.6"
  },
  "toc": {
   "base_numbering": 1,
   "nav_menu": {},
   "number_sections": true,
   "sideBar": true,
   "skip_h1_title": false,
   "title_cell": "Table of Contents",
   "title_sidebar": "Contents",
   "toc_cell": false,
   "toc_position": {},
   "toc_section_display": true,
   "toc_window_display": false
  }
 },
 "nbformat": 4,
 "nbformat_minor": 5
}
