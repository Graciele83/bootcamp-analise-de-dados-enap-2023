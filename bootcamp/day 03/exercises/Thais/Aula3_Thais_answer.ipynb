{
 "cells": [
  {
   "cell_type": "markdown",
   "id": "4d6f0f3b",
   "metadata": {},
   "source": [
    "# Lista"
   ]
  },
  {
   "cell_type": "markdown",
   "id": "5db7bc96",
   "metadata": {},
   "source": [
    "Crie uma lista de nome \"maiores_PIB\" com os nomes dos 4 países que apresentam os maiores PIBs do mundo. Pesquise no google as informações, quando necessário."
   ]
  },
  {
   "cell_type": "code",
   "execution_count": 2,
   "id": "0e0e99b7",
   "metadata": {},
   "outputs": [
    {
     "data": {
      "text/plain": [
       "['EUA', 'China', 'Japão', 'Alemanha']"
      ]
     },
     "execution_count": 2,
     "metadata": {},
     "output_type": "execute_result"
    }
   ],
   "source": [
    "maiores_PIB = ['EUA', 'China', 'Japão', 'Alemanha']\n",
    "maiores_PIB"
   ]
  },
  {
   "cell_type": "markdown",
   "id": "4adc6447",
   "metadata": {},
   "source": [
    "Adicione na lista o 5o país com maior PIB. De um print da lista para checar como ela ficou."
   ]
  },
  {
   "cell_type": "code",
   "execution_count": 3,
   "id": "21df1582",
   "metadata": {},
   "outputs": [],
   "source": [
    "maiores_PIB.append('Reino Unido')"
   ]
  },
  {
   "cell_type": "code",
   "execution_count": 4,
   "id": "27336c90",
   "metadata": {},
   "outputs": [
    {
     "data": {
      "text/plain": [
       "['EUA', 'China', 'Japão', 'Alemanha', 'Reino Unido']"
      ]
     },
     "execution_count": 4,
     "metadata": {},
     "output_type": "execute_result"
    }
   ],
   "source": [
    "maiores_PIB"
   ]
  },
  {
   "cell_type": "markdown",
   "id": "e9239633",
   "metadata": {},
   "source": [
    "Supondo que o Brasil ultrapassou o 5o colocado (5o elemento da lista), substitua o 5o colocado pelo Brasil na lista"
   ]
  },
  {
   "cell_type": "code",
   "execution_count": 5,
   "id": "4202237e",
   "metadata": {},
   "outputs": [
    {
     "name": "stdout",
     "output_type": "stream",
     "text": [
      "['EUA', 'China', 'Japão', 'Alemanha', 'Brasil']\n"
     ]
    }
   ],
   "source": [
    "maiores_PIB[4]= 'Brasil'\n",
    "print(maiores_PIB)"
   ]
  },
  {
   "cell_type": "markdown",
   "id": "8f2a7df4",
   "metadata": {},
   "source": [
    "Exclua o Brasil da lista"
   ]
  },
  {
   "cell_type": "code",
   "execution_count": 6,
   "id": "4e60fdf7",
   "metadata": {},
   "outputs": [
    {
     "name": "stdout",
     "output_type": "stream",
     "text": [
      "['EUA', 'China', 'Japão', 'Alemanha']\n"
     ]
    }
   ],
   "source": [
    "maiores_PIB.remove('Brasil')\n",
    "print(maiores_PIB)"
   ]
  },
  {
   "cell_type": "markdown",
   "id": "bde392c6",
   "metadata": {},
   "source": [
    "# Dicionários"
   ]
  },
  {
   "cell_type": "markdown",
   "id": "6eb3b940",
   "metadata": {},
   "source": [
    "Crie a variável 'país' com um dicionário contendo informações sobre os EUA. O dicionário deve conter as chaves 'nome' (com o nome do país como seu valor) e 'idh' (com o idh do país como seu valor)"
   ]
  },
  {
   "cell_type": "code",
   "execution_count": 1,
   "id": "6e1787b0",
   "metadata": {},
   "outputs": [
    {
     "name": "stdout",
     "output_type": "stream",
     "text": [
      "{'nome': 'EUA', 'idh': 0.9}\n"
     ]
    }
   ],
   "source": [
    "país = { 'nome': 'EUA', 'idh':0.9 }\n",
    "print(país)"
   ]
  },
  {
   "cell_type": "markdown",
   "id": "cbfd9cf9",
   "metadata": {},
   "source": [
    "Adicione a chave 'pibpc' ao dicionário com o valor do pib per capta do pais"
   ]
  },
  {
   "cell_type": "code",
   "execution_count": 2,
   "id": "c49672a0",
   "metadata": {},
   "outputs": [],
   "source": [
    "país['pibpc']= 63123"
   ]
  },
  {
   "cell_type": "code",
   "execution_count": 3,
   "id": "a3b94efc",
   "metadata": {},
   "outputs": [
    {
     "data": {
      "text/plain": [
       "{'nome': 'EUA', 'idh': 0.9, 'pibpc': 63123}"
      ]
     },
     "execution_count": 3,
     "metadata": {},
     "output_type": "execute_result"
    }
   ],
   "source": [
    "país"
   ]
  },
  {
   "cell_type": "markdown",
   "id": "b5b169f5",
   "metadata": {},
   "source": [
    "Crie uma lista vazia de nome 'países'"
   ]
  },
  {
   "cell_type": "code",
   "execution_count": 4,
   "id": "24fd297d",
   "metadata": {},
   "outputs": [],
   "source": [
    "países = []"
   ]
  },
  {
   "cell_type": "markdown",
   "id": "365fbbd7",
   "metadata": {},
   "source": [
    "Adicione a variável 'país' criada na lista"
   ]
  },
  {
   "cell_type": "code",
   "execution_count": 6,
   "id": "63276883",
   "metadata": {},
   "outputs": [],
   "source": [
    "países.append(país)"
   ]
  },
  {
   "cell_type": "markdown",
   "id": "e62325f7",
   "metadata": {},
   "source": [
    "Adicione informações de mais um país (Brasil) na lista"
   ]
  },
  {
   "cell_type": "code",
   "execution_count": 7,
   "id": "c4e7e465",
   "metadata": {},
   "outputs": [],
   "source": [
    "países.append({'nome': 'Brasil', 'idh': 0.77, 'pibpc': 6797})"
   ]
  },
  {
   "cell_type": "code",
   "execution_count": 8,
   "id": "abc10279",
   "metadata": {},
   "outputs": [
    {
     "data": {
      "text/plain": [
       "[{'nome': 'EUA', 'idh': 0.9, 'pibpc': 63123},\n",
       " {'nome': 'Brasil', 'idh': 0.77, 'pibpc': 6797}]"
      ]
     },
     "execution_count": 8,
     "metadata": {},
     "output_type": "execute_result"
    }
   ],
   "source": [
    "países"
   ]
  },
  {
   "cell_type": "markdown",
   "id": "74f10501",
   "metadata": {},
   "source": [
    "Usando for loop, print, para cada país as frase no modelo abaixo :\n",
    "\n",
    "Brasil é um país com pib per capta de 6797 e idh igual a 0.77\n",
    "\n",
    "EUA é um país com ..."
   ]
  },
  {
   "cell_type": "code",
   "execution_count": 9,
   "id": "8040879b",
   "metadata": {},
   "outputs": [
    {
     "name": "stdout",
     "output_type": "stream",
     "text": [
      "EUA é um país com pib per capta de 63123 e idh igual a 0.9\n",
      "Brasil é um país com pib per capta de 6797 e idh igual a 0.77\n"
     ]
    }
   ],
   "source": [
    "for país in países:\n",
    "    print(f\"{país['nome']} é um país com pib per capta de {país['pibpc']} e idh igual a {país['idh']}\")"
   ]
  },
  {
   "cell_type": "markdown",
   "id": "4d04ea99",
   "metadata": {},
   "source": [
    "# Tipos de dados"
   ]
  },
  {
   "cell_type": "markdown",
   "id": "51b5a99c",
   "metadata": {},
   "source": [
    "Qual o tipo de dado das variáveis criadas país e países?"
   ]
  },
  {
   "cell_type": "code",
   "execution_count": 10,
   "id": "1deceffe",
   "metadata": {},
   "outputs": [
    {
     "data": {
      "text/plain": [
       "dict"
      ]
     },
     "execution_count": 10,
     "metadata": {},
     "output_type": "execute_result"
    }
   ],
   "source": [
    "type(país)"
   ]
  },
  {
   "cell_type": "code",
   "execution_count": 11,
   "id": "6ac7210a",
   "metadata": {},
   "outputs": [
    {
     "data": {
      "text/plain": [
       "list"
      ]
     },
     "execution_count": 11,
     "metadata": {},
     "output_type": "execute_result"
    }
   ],
   "source": [
    "type(países)"
   ]
  },
  {
   "cell_type": "markdown",
   "id": "7cad953e",
   "metadata": {},
   "source": [
    "# Funções"
   ]
  },
  {
   "cell_type": "markdown",
   "id": "f79b9c37",
   "metadata": {},
   "source": [
    "Crie uma função 'imposto' que calcula o preço do imposto de determinado produto. Esse imposto equivale a 28% \n",
    "do valor do produto.\n",
    "\n",
    "Suponha que o preço do produto é 1000, qual seria seu imposto?"
   ]
  },
  {
   "cell_type": "code",
   "execution_count": 12,
   "id": "6565205b",
   "metadata": {},
   "outputs": [],
   "source": [
    "def imposto (p):\n",
    "    return p* 0.28"
   ]
  },
  {
   "cell_type": "code",
   "execution_count": 13,
   "id": "41ac375c",
   "metadata": {},
   "outputs": [
    {
     "data": {
      "text/plain": [
       "280.0"
      ]
     },
     "execution_count": 13,
     "metadata": {},
     "output_type": "execute_result"
    }
   ],
   "source": [
    "p=1000\n",
    "imposto(p)"
   ]
  },
  {
   "cell_type": "markdown",
   "id": "a4a4697b",
   "metadata": {},
   "source": [
    " Você utilizou a função lambda para fazer isso? Se não, como ficaria utilizando a função lambda?a\n"
   ]
  },
  {
   "cell_type": "markdown",
   "id": "c0f648d6-3a2c-45da-971b-efa30c5ce3af",
   "metadata": {},
   "source": [
    "<pre>As funções anônimas são funções em Python que podem ser definidas sem um nome formal.</pre>\n",
    "\n",
    " - Não tem nome (anonima)\n",
    "\n",
    " - costuma ter 1 linha"
   ]
  },
  {
   "cell_type": "code",
   "execution_count": 14,
   "id": "015870ab",
   "metadata": {},
   "outputs": [
    {
     "data": {
      "text/plain": [
       "280.0"
      ]
     },
     "execution_count": 14,
     "metadata": {},
     "output_type": "execute_result"
    }
   ],
   "source": [
    "#formato variável = lambda argumento: expressao\n",
    "#def imposto (p):\n",
    " #   return p* 0.28\n",
    "\n",
    "imposto2 = lambda p: p*0.28 \n",
    "imposto2(p)"
   ]
  },
  {
   "cell_type": "markdown",
   "id": "681d234f",
   "metadata": {},
   "source": [
    "Calcule, agora o imposto da lista de preços abaixo:\n",
    "\n",
    "preços = [1000, 500, 280, 360]\n",
    "\n",
    "dica: você pode usar a função map"
   ]
  },
  {
   "cell_type": "code",
   "execution_count": 9,
   "id": "dcd310ca",
   "metadata": {},
   "outputs": [
    {
     "name": "stdout",
     "output_type": "stream",
     "text": [
      "[280.0, 140.0, 78.4, 100.80000000000001]\n"
     ]
    }
   ],
   "source": [
    "preços = [1000, 500, 280, 360]\n",
    "\n",
    "impostos = list(map(lambda p:p*0.28, preços))\n",
    "print(impostos)\n",
    "\n"
   ]
  },
  {
   "cell_type": "code",
   "execution_count": 6,
   "id": "94c55031-1b0c-46ea-96d7-e46a9e9365ec",
   "metadata": {},
   "outputs": [
    {
     "name": "stdout",
     "output_type": "stream",
     "text": [
      "[280.0, 140.0, 78.4, 100.80000000000001]\n"
     ]
    }
   ],
   "source": [
    "# Outra forma:\n",
    "\n",
    "def imposto (p):\n",
    "    return p* 0.28\n",
    "\n",
    "# Crie uma lista de números\n",
    "precos = [1000, 500, 280, 360]\n",
    "\n",
    "# Use a função map() para aplicar a função dobrar a cada elemento da lista\n",
    "resultado = map(imposto, precos)\n",
    "\n",
    "# Converta o objeto map em uma lista para visualizar os resultados\n",
    "resultado_lista = list(resultado)\n",
    "\n",
    "print(resultado_lista)"
   ]
  },
  {
   "cell_type": "code",
   "execution_count": 10,
   "id": "b5a858d1-34c1-4d2c-bedc-29f968100c0e",
   "metadata": {},
   "outputs": [],
   "source": [
    "valores_formatados = [f'{valor:.2f}' for valor in resultado_lista]"
   ]
  },
  {
   "cell_type": "code",
   "execution_count": 11,
   "id": "bcb11487",
   "metadata": {},
   "outputs": [
    {
     "data": {
      "text/plain": [
       "['280.00', '140.00', '78.40', '100.80']"
      ]
     },
     "execution_count": 11,
     "metadata": {},
     "output_type": "execute_result"
    }
   ],
   "source": [
    "valores_formatados"
   ]
  },
  {
   "cell_type": "code",
   "execution_count": null,
   "id": "e0e403ea-8508-4eb5-9a3c-e75d91d8d279",
   "metadata": {},
   "outputs": [],
   "source": []
  }
 ],
 "metadata": {
  "kernelspec": {
   "display_name": "Python 3 (ipykernel)",
   "language": "python",
   "name": "python3"
  },
  "language_info": {
   "codemirror_mode": {
    "name": "ipython",
    "version": 3
   },
   "file_extension": ".py",
   "mimetype": "text/x-python",
   "name": "python",
   "nbconvert_exporter": "python",
   "pygments_lexer": "ipython3",
   "version": "3.11.5"
  }
 },
 "nbformat": 4,
 "nbformat_minor": 5
}
