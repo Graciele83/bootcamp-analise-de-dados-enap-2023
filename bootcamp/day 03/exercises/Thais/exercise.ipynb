{
 "cells": [
  {
   "cell_type": "markdown",
   "id": "4d6f0f3b",
   "metadata": {},
   "source": [
    "# Lista"
   ]
  },
  {
   "cell_type": "markdown",
   "id": "5db7bc96",
   "metadata": {},
   "source": [
    "Crie uma lista de nome \"maiores_PIB\" com os nomes dos 4 países que apresentam os maiores PIBs do mundo. Pesquise no google as informações, quando necessário."
   ]
  },
  {
   "cell_type": "code",
   "execution_count": null,
   "id": "bd58be2d",
   "metadata": {},
   "outputs": [],
   "source": []
  },
  {
   "cell_type": "markdown",
   "id": "4adc6447",
   "metadata": {},
   "source": [
    "Adicione na lista o 5o país com maior PIB. De um print da lista para checar como ela ficou."
   ]
  },
  {
   "cell_type": "code",
   "execution_count": null,
   "id": "21df1582",
   "metadata": {},
   "outputs": [],
   "source": []
  },
  {
   "cell_type": "code",
   "execution_count": null,
   "id": "27336c90",
   "metadata": {},
   "outputs": [],
   "source": []
  },
  {
   "cell_type": "markdown",
   "id": "e9239633",
   "metadata": {},
   "source": [
    "Supondo que o Brasil ultrapassou o 5o colocado (5o elemento da lista), substitua o 5o colocado pelo Brasil na lista"
   ]
  },
  {
   "cell_type": "code",
   "execution_count": null,
   "id": "4202237e",
   "metadata": {},
   "outputs": [],
   "source": [
    "\n"
   ]
  },
  {
   "cell_type": "markdown",
   "id": "8f2a7df4",
   "metadata": {},
   "source": [
    "Exclua o Brasil da lista"
   ]
  },
  {
   "cell_type": "code",
   "execution_count": null,
   "id": "4e60fdf7",
   "metadata": {},
   "outputs": [],
   "source": [
    "\n"
   ]
  },
  {
   "cell_type": "markdown",
   "id": "bde392c6",
   "metadata": {},
   "source": [
    "# Dicionários"
   ]
  },
  {
   "cell_type": "markdown",
   "id": "6eb3b940",
   "metadata": {},
   "source": [
    "Crie a variável 'país' com um dicionário contendo informações sobre os EUA. O dicionário deve conter as chaves 'nome' (com o nome do país como seu valor) e 'idh' (com o idh do país como seu valor)"
   ]
  },
  {
   "cell_type": "code",
   "execution_count": null,
   "id": "6e1787b0",
   "metadata": {},
   "outputs": [],
   "source": []
  },
  {
   "cell_type": "markdown",
   "id": "cbfd9cf9",
   "metadata": {},
   "source": [
    "Adicione a chave 'pibpc' ao dicionário com o valor do pib per capta do pais"
   ]
  },
  {
   "cell_type": "code",
   "execution_count": null,
   "id": "c49672a0",
   "metadata": {},
   "outputs": [],
   "source": []
  },
  {
   "cell_type": "code",
   "execution_count": null,
   "id": "a3b94efc",
   "metadata": {},
   "outputs": [],
   "source": []
  },
  {
   "cell_type": "markdown",
   "id": "b5b169f5",
   "metadata": {},
   "source": [
    "Crie uma lista vazia de nome 'países'"
   ]
  },
  {
   "cell_type": "code",
   "execution_count": null,
   "id": "24fd297d",
   "metadata": {},
   "outputs": [],
   "source": []
  },
  {
   "cell_type": "markdown",
   "id": "365fbbd7",
   "metadata": {},
   "source": [
    "Adicione a variável 'país' criada na lista. Você pode usar \"append\"."
   ]
  },
  {
   "cell_type": "code",
   "execution_count": null,
   "id": "63276883",
   "metadata": {},
   "outputs": [],
   "source": []
  },
  {
   "cell_type": "markdown",
   "id": "cf859e7f",
   "metadata": {},
   "source": [
    "Adicione informações de mais um país (ex: Brasil) na lista. Você deve inserir na lista mais um dicionário com as chaves 'nome', 'idh' e 'pibpc', e seus respectivos valores para esse novo país.  No fim teremos uma lista com 2 dicionários."
   ]
  },
  {
   "cell_type": "code",
   "execution_count": null,
   "id": "c4e7e465",
   "metadata": {},
   "outputs": [],
   "source": []
  },
  {
   "cell_type": "code",
   "execution_count": null,
   "id": "abc10279",
   "metadata": {},
   "outputs": [],
   "source": []
  },
  {
   "cell_type": "markdown",
   "id": "74f10501",
   "metadata": {},
   "source": [
    "Usando for loop, crie um código que imprima, para cada país da lista criada as frase no modelo abaixo :\n",
    "\n",
    "Brasil é um país com pib per capta de 6797 e idh igual a 0.77\n",
    "\n",
    "EUA é um país com ..."
   ]
  },
  {
   "cell_type": "code",
   "execution_count": null,
   "id": "8040879b",
   "metadata": {},
   "outputs": [],
   "source": []
  },
  {
   "cell_type": "markdown",
   "id": "4d04ea99",
   "metadata": {},
   "source": [
    "# Tipos de dados"
   ]
  },
  {
   "cell_type": "markdown",
   "id": "51b5a99c",
   "metadata": {},
   "source": [
    "Qual o tipo de dado das variáveis criadas país e países?"
   ]
  },
  {
   "cell_type": "code",
   "execution_count": null,
   "id": "1deceffe",
   "metadata": {},
   "outputs": [],
   "source": []
  },
  {
   "cell_type": "code",
   "execution_count": null,
   "id": "6ac7210a",
   "metadata": {},
   "outputs": [],
   "source": []
  },
  {
   "cell_type": "markdown",
   "id": "7cad953e",
   "metadata": {},
   "source": [
    "# Funções"
   ]
  },
  {
   "cell_type": "markdown",
   "id": "f79b9c37",
   "metadata": {},
   "source": [
    "Crie uma função 'imposto' que recebe o preço 'p' do produto e calcula o valor do imposto desse produto. Esse imposto equivale a 28% do preço do produto.\n",
    "\n",
    "Suponha que o preço do produto é 1000, qual seria seu imposto?"
   ]
  },
  {
   "cell_type": "code",
   "execution_count": null,
   "id": "6565205b",
   "metadata": {},
   "outputs": [],
   "source": []
  },
  {
   "cell_type": "code",
   "execution_count": null,
   "id": "41ac375c",
   "metadata": {},
   "outputs": [],
   "source": []
  },
  {
   "cell_type": "markdown",
   "id": "a4a4697b",
   "metadata": {},
   "source": [
    " Você utilizou a função lambda para fazer isso? Se não, como ficaria utilizando a função lambda?"
   ]
  },
  {
   "cell_type": "code",
   "execution_count": null,
   "id": "015870ab",
   "metadata": {},
   "outputs": [],
   "source": []
  },
  {
   "cell_type": "markdown",
   "id": "681d234f",
   "metadata": {},
   "source": [
    "Calcule, agora o imposto da lista de preços abaixo:\n",
    "\n",
    "preços = [1000, 500, 280, 360]\n",
    "\n",
    "dica: você pode usar a função map"
   ]
  },
  {
   "cell_type": "code",
   "execution_count": null,
   "id": "dcd310ca",
   "metadata": {},
   "outputs": [],
   "source": []
  },
  {
   "cell_type": "code",
   "execution_count": null,
   "id": "bcb11487",
   "metadata": {},
   "outputs": [],
   "source": []
  }
 ],
 "metadata": {
  "kernelspec": {
   "display_name": "Python 3 (ipykernel)",
   "language": "python",
   "name": "python3"
  },
  "language_info": {
   "codemirror_mode": {
    "name": "ipython",
    "version": 3
   },
   "file_extension": ".py",
   "mimetype": "text/x-python",
   "name": "python",
   "nbconvert_exporter": "python",
   "pygments_lexer": "ipython3",
   "version": "3.11.5"
  }
 },
 "nbformat": 4,
 "nbformat_minor": 5
}
