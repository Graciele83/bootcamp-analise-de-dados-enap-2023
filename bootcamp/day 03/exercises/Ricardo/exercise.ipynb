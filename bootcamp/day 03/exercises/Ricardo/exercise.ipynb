{
 "cells": [
  {
   "cell_type": "markdown",
   "id": "698f022e",
   "metadata": {},
   "source": [
    "# Exercícios: Aspectos Nativos de Python 🐍 "
   ]
  },
  {
   "cell_type": "markdown",
   "id": "e227558b",
   "metadata": {},
   "source": [
    "## 😇 Lista e Tuplas"
   ]
  },
  {
   "cell_type": "markdown",
   "id": "7b93abe6",
   "metadata": {},
   "source": [
    "1. Crie uma lista chamada *frutas* contendo as seguintes frutas: \"maçã\", \"banana\", \"laranja\", \"manga\" e \"uva\". Acesse e imprima o terceiro elemento da lista."
   ]
  },
  {
   "cell_type": "code",
   "execution_count": null,
   "id": "531e01fc",
   "metadata": {},
   "outputs": [],
   "source": []
  },
  {
   "cell_type": "markdown",
   "id": "fe60513e",
   "metadata": {},
   "source": [
    "2. Altere o valor do segundo elemento para \"kiwi\". Imprima novamente a lista para verificar a alteração."
   ]
  },
  {
   "cell_type": "code",
   "execution_count": null,
   "id": "f50167c5",
   "metadata": {},
   "outputs": [],
   "source": []
  },
  {
   "cell_type": "markdown",
   "id": "45911cde",
   "metadata": {},
   "source": [
    "3. Converta a lista frutas para uma tupla chamada *tupla_frutas* e tente alterar o valor do primeiro elemento. O que acontece?"
   ]
  },
  {
   "cell_type": "code",
   "execution_count": null,
   "id": "3d1865ee",
   "metadata": {},
   "outputs": [],
   "source": []
  },
  {
   "cell_type": "markdown",
   "id": "bbb1e11d",
   "metadata": {},
   "source": [
    "## 😇 Funções e manipulação de dicionários"
   ]
  },
  {
   "cell_type": "markdown",
   "id": "d77b888a",
   "metadata": {},
   "source": [
    "1. Crie um dicionário chamado *estudantes* onde as chaves são nomes de estudantes e os valores são suas respectivas idades."
   ]
  },
  {
   "cell_type": "code",
   "execution_count": null,
   "id": "0b3dae11",
   "metadata": {},
   "outputs": [],
   "source": []
  },
  {
   "cell_type": "markdown",
   "id": "3954e5bb",
   "metadata": {},
   "source": [
    "2. Crie uma função chamada *adiciona_estudante* que recebe o dicionário, um nome e uma idade, e adiciona esse estudante ao dicionário."
   ]
  },
  {
   "cell_type": "code",
   "execution_count": null,
   "id": "59d4bef9",
   "metadata": {},
   "outputs": [],
   "source": []
  },
  {
   "cell_type": "markdown",
   "id": "cd1f6a0c",
   "metadata": {},
   "source": [
    "3. Crie uma função *idade_estudante* que recebe o dicionário e um nome, e retorna a idade do estudante com aquele nome. Se o estudante não estiver no dicionário, a função deve retornar \"Estudante não encontrado\"."
   ]
  },
  {
   "cell_type": "code",
   "execution_count": null,
   "id": "5b71eba9",
   "metadata": {},
   "outputs": [],
   "source": []
  },
  {
   "cell_type": "markdown",
   "id": "af02e12f",
   "metadata": {},
   "source": [
    "## 🛒 MyShop"
   ]
  },
  {
   "cell_type": "markdown",
   "id": "2264e19c",
   "metadata": {},
   "source": [
    "Neste exercício, você irá criar um programa que simulará um aplicativo de compras de um supermercado utilizando o conhecimento adquirido hoje durante a aula!\n",
    "\n",
    "Os seguintes requisitos deverão ser implementados em seu aplicativo:\n",
    "1. O aplicativo deverá mostrar um menu com as seguintes opções:\n",
    "<br>- Ver lista de produtos\n",
    "<br>- Adicionar produto ao carrinho\n",
    "<br>- Ver carrinho\n",
    "<br>- Comprar\n",
    "<br>- Sair\n",
    "2. Use uma lista para armazenar os produtos disponíveis e seus preços.\n",
    "3. Use outra lista para armazenar os produtos adicionados ao carrinho.\n",
    "4. Implemente tratamento de erros para gerenciar as entradas incorretas do seu usuário."
   ]
  },
  {
   "cell_type": "markdown",
   "id": "25aea315",
   "metadata": {},
   "source": [
    "Passo 1: Crie uma lista de dicionários para armazenar os produtos e seus preços. Cada dicionário deverá conter o nome e o preço do produto. Popule a lista com alguns produtos."
   ]
  },
  {
   "cell_type": "code",
   "execution_count": null,
   "id": "0acc954a",
   "metadata": {},
   "outputs": [],
   "source": []
  },
  {
   "cell_type": "markdown",
   "id": "db9b895f",
   "metadata": {},
   "source": [
    "🤩 **BONUS**: Essa é para quem quer um pequeno desafio... Crie uma função **carregar_produtos()**, que lerá o arquivo *lista_produtos.csv*, localizado na pasta './data/', e retornará a lista de produtos com seus preços.\n",
    "<br>*Dica*: O arquivo está em formato .csv. Você poderá utilizar o módulo *csv*, nativo do Python, para ler o seu conteúdo."
   ]
  },
  {
   "cell_type": "code",
   "execution_count": null,
   "id": "cd4a91dd",
   "metadata": {},
   "outputs": [],
   "source": []
  },
  {
   "cell_type": "markdown",
   "id": "7203e68e",
   "metadata": {},
   "source": [
    "Passo 2: Crie uma função denominada **mostrar_menu** que imprima as opções do menu ao usuário."
   ]
  },
  {
   "cell_type": "code",
   "execution_count": null,
   "id": "c3c39f3b",
   "metadata": {},
   "outputs": [],
   "source": []
  },
  {
   "cell_type": "markdown",
   "id": "6c1f8fc9",
   "metadata": {},
   "source": [
    "Passo 3: Crie uma função denominada **ver_produtos** que imprima os produtos disponíveis, com seus preços, para o usuário."
   ]
  },
  {
   "cell_type": "code",
   "execution_count": null,
   "id": "d91d0718",
   "metadata": {},
   "outputs": [],
   "source": []
  },
  {
   "cell_type": "markdown",
   "id": "6bb59108",
   "metadata": {},
   "source": [
    "🌶️ **Bônus**: Quer colocar pimenta nesse passo? Uma lista de produtos pode ser muito longa para mostrar ao usuário numa tacada só! Que tal utilizar geradores, que você aprendeu durante a aula, para mostrar 5 produtos da lista de cada vez? 🤩 Quer tentar? Primeiro, defina a função que conterá o gerador e devolverá uma lista de produtos de tamanho 5 (ou o tamanho que você quiser, bastando passá-lo como parâmetro!) e, em seguida, implementar a função **ver_produtos**, que chamará a função que contém o gerador. Você poderá solicitar ao usuário que pressione a letra 'p' para listar os próximos produtos, ou 's' se desejar sair da função."
   ]
  },
  {
   "cell_type": "code",
   "execution_count": null,
   "id": "79b24c16",
   "metadata": {},
   "outputs": [],
   "source": []
  },
  {
   "cell_type": "code",
   "execution_count": null,
   "id": "3a5db960",
   "metadata": {},
   "outputs": [],
   "source": []
  },
  {
   "cell_type": "code",
   "execution_count": null,
   "id": "da9a2f84",
   "metadata": {},
   "outputs": [],
   "source": []
  },
  {
   "cell_type": "markdown",
   "id": "d184ee19",
   "metadata": {},
   "source": [
    "Passo 4: Adicionar produtos ao carrinho. Primeiro, crie uma lista vazia com o nome *carrinho* para armazenar os produtos adicionados pelo usuário. Em seguida, defina uma função **adicionar_ao_carrinho**, que solicitará ao usuário o nome do produto que ele deseja comprar. A função deverá adicionar o produto, junto com seu preço, ao carrinho, e deverá informar uma mensagem de erro ao usuário caso o produto não esteja disponível."
   ]
  },
  {
   "cell_type": "code",
   "execution_count": null,
   "id": "37f875f4",
   "metadata": {},
   "outputs": [],
   "source": []
  },
  {
   "cell_type": "markdown",
   "id": "5aef2bab",
   "metadata": {},
   "source": [
    "Passo 5: Criar a função para ver o carrinho. Defina uma função denominada **ver_carrinho** que mostrará ao usuário os produtos no carrinho com seu preço total."
   ]
  },
  {
   "cell_type": "code",
   "execution_count": null,
   "id": "c0bd049f",
   "metadata": {},
   "outputs": [],
   "source": []
  },
  {
   "cell_type": "markdown",
   "id": "00c261b0",
   "metadata": {},
   "source": [
    "Passo 6: Crie a função **comprar**. Ela deverá mostrar ao usuário o conteúdo do carrinho e o preço total da compra, e perguntá-lo se deseja proceder com a compra. Se ele responder 'Sim', a função deverá mostrar a mensagem \"Compra realizada com sucesso!\" e esvaziar o carrinho; se ele responder 'Não', a função deverá retornar ao menu principal."
   ]
  },
  {
   "cell_type": "code",
   "execution_count": null,
   "id": "c85ef945",
   "metadata": {},
   "outputs": [],
   "source": []
  },
  {
   "cell_type": "code",
   "execution_count": null,
   "id": "ece1d4aa",
   "metadata": {},
   "outputs": [],
   "source": []
  },
  {
   "cell_type": "markdown",
   "id": "0246da94",
   "metadata": {},
   "source": [
    "💃🏻 Passo final! Agora, junte tudo em uma função **main()**, que deverá implementar uma estrutura de repetição que irá mostrar o menu principal até que o usuário escolha a opção 'Sair'."
   ]
  },
  {
   "cell_type": "code",
   "execution_count": null,
   "id": "7cf5e839",
   "metadata": {},
   "outputs": [],
   "source": []
  },
  {
   "cell_type": "code",
   "execution_count": null,
   "id": "c09cbd4b",
   "metadata": {},
   "outputs": [],
   "source": []
  }
 ],
 "metadata": {
  "kernelspec": {
   "display_name": "enap",
   "language": "python",
   "name": "enap"
  },
  "language_info": {
   "codemirror_mode": {
    "name": "ipython",
    "version": 3
   },
   "file_extension": ".py",
   "mimetype": "text/x-python",
   "name": "python",
   "nbconvert_exporter": "python",
   "pygments_lexer": "ipython3",
   "version": "3.10.6"
  },
  "toc": {
   "base_numbering": 1,
   "nav_menu": {},
   "number_sections": true,
   "sideBar": true,
   "skip_h1_title": false,
   "title_cell": "Table of Contents",
   "title_sidebar": "Contents",
   "toc_cell": false,
   "toc_position": {},
   "toc_section_display": true,
   "toc_window_display": false
  }
 },
 "nbformat": 4,
 "nbformat_minor": 5
}
