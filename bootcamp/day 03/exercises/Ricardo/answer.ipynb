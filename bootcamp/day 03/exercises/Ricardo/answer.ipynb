{
 "cells": [
  {
   "cell_type": "markdown",
   "id": "698f022e",
   "metadata": {},
   "source": [
    "# Exercícios: Aspectos Nativos de Python 🐍 "
   ]
  },
  {
   "cell_type": "markdown",
   "id": "e227558b",
   "metadata": {},
   "source": [
    "## 😇 Lista e Tuplas"
   ]
  },
  {
   "cell_type": "markdown",
   "id": "7b93abe6",
   "metadata": {},
   "source": [
    "1. Crie uma lista chamada *frutas* contendo as seguintes frutas: \"maçã\", \"banana\", \"laranja\", \"manga\" e \"uva\". Acesse e imprima o terceiro elemento da lista."
   ]
  },
  {
   "cell_type": "code",
   "execution_count": 32,
   "id": "531e01fc",
   "metadata": {},
   "outputs": [],
   "source": [
    "frutas = [\"maçã\", \"banana\", \"laranja\", \"manga\", \"uva\"]"
   ]
  },
  {
   "cell_type": "markdown",
   "id": "fe60513e",
   "metadata": {},
   "source": [
    "2. Altere o valor do segundo elemento para \"kiwi\". Imprima novamente a lista para verificar a alteração."
   ]
  },
  {
   "cell_type": "code",
   "execution_count": 33,
   "id": "85146a98",
   "metadata": {},
   "outputs": [
    {
     "data": {
      "text/plain": [
       "['maçã', 'banana', 'kiwi', 'manga', 'uva']"
      ]
     },
     "execution_count": 33,
     "metadata": {},
     "output_type": "execute_result"
    }
   ],
   "source": [
    "frutas[2] = \"kiwi\"\n",
    "frutas"
   ]
  },
  {
   "cell_type": "markdown",
   "id": "45911cde",
   "metadata": {},
   "source": [
    "3. Converta a lista frutas para uma tupla chamada *tupla_frutas* e tente alterar o valor do primeiro elemento. O que acontece?"
   ]
  },
  {
   "cell_type": "code",
   "execution_count": 34,
   "id": "56d39978",
   "metadata": {},
   "outputs": [
    {
     "data": {
      "text/plain": [
       "('maçã', 'banana', 'kiwi', 'manga', 'uva')"
      ]
     },
     "execution_count": 34,
     "metadata": {},
     "output_type": "execute_result"
    }
   ],
   "source": [
    "tupla_frutas = tuple(frutas)\n",
    "tupla_frutas"
   ]
  },
  {
   "cell_type": "code",
   "execution_count": 35,
   "id": "3de4dbb0",
   "metadata": {},
   "outputs": [
    {
     "ename": "TypeError",
     "evalue": "'tuple' object does not support item assignment",
     "output_type": "error",
     "traceback": [
      "\u001b[0;31m---------------------------------------------------------------------------\u001b[0m",
      "\u001b[0;31mTypeError\u001b[0m                                 Traceback (most recent call last)",
      "Cell \u001b[0;32mIn[35], line 1\u001b[0m\n\u001b[0;32m----> 1\u001b[0m \u001b[43mtupla_frutas\u001b[49m\u001b[43m[\u001b[49m\u001b[38;5;241;43m0\u001b[39;49m\u001b[43m]\u001b[49m \u001b[38;5;241m=\u001b[39m \u001b[38;5;124m'\u001b[39m\u001b[38;5;124mabacaxi\u001b[39m\u001b[38;5;124m'\u001b[39m\n",
      "\u001b[0;31mTypeError\u001b[0m: 'tuple' object does not support item assignment"
     ]
    }
   ],
   "source": [
    "tupla_frutas[0] = 'abacaxi'"
   ]
  },
  {
   "cell_type": "markdown",
   "id": "bbb1e11d",
   "metadata": {},
   "source": [
    "## 😇 Funções e manipulação de dicionários"
   ]
  },
  {
   "cell_type": "markdown",
   "id": "d77b888a",
   "metadata": {},
   "source": [
    "1. Crie um dicionário chamado *estudantes* onde as chaves são nomes de estudantes e os valores são suas respectivas idades."
   ]
  },
  {
   "cell_type": "code",
   "execution_count": 36,
   "id": "0fb819f9",
   "metadata": {},
   "outputs": [],
   "source": [
    "estudantes = {'João': 13, 'Maria': 13, 'Julia': 12, 'Adriano': 10}"
   ]
  },
  {
   "cell_type": "markdown",
   "id": "3954e5bb",
   "metadata": {},
   "source": [
    "2. Crie uma função chamada *adiciona_estudante* que recebe o dicionário, um nome e uma idade, e adiciona esse estudante ao dicionário."
   ]
  },
  {
   "cell_type": "code",
   "execution_count": 37,
   "id": "154f6fb6",
   "metadata": {},
   "outputs": [],
   "source": [
    "def adiciona_estudante(estudantes, nome, idade):\n",
    "    if estudantes.get(nome):\n",
    "        print('Já existe estudante com esse nome.')\n",
    "        return\n",
    "    estudantes[nome] = idade"
   ]
  },
  {
   "cell_type": "code",
   "execution_count": 38,
   "id": "2cc23144",
   "metadata": {},
   "outputs": [],
   "source": [
    "adiciona_estudante(estudantes,'Ines',10)"
   ]
  },
  {
   "cell_type": "code",
   "execution_count": 39,
   "id": "4c4fa8ee",
   "metadata": {},
   "outputs": [
    {
     "data": {
      "text/plain": [
       "{'João': 13, 'Maria': 13, 'Julia': 12, 'Adriano': 10, 'Ines': 10}"
      ]
     },
     "execution_count": 39,
     "metadata": {},
     "output_type": "execute_result"
    }
   ],
   "source": [
    "estudantes"
   ]
  },
  {
   "cell_type": "markdown",
   "id": "cd1f6a0c",
   "metadata": {},
   "source": [
    "3. Crie uma função *idade_estudante* que recebe o dicionário e um nome, e retorna a idade do estudante com aquele nome. Se o estudante não estiver no dicionário, a função deve retornar \"Estudante não encontrado\"."
   ]
  },
  {
   "cell_type": "code",
   "execution_count": 40,
   "id": "38275897",
   "metadata": {},
   "outputs": [],
   "source": [
    "def idade_estudante(estudantes,nome):\n",
    "    idade = estudantes.get(nome)\n",
    "    if idade:\n",
    "        return idade\n",
    "    else:\n",
    "        return f\"Estudante {nome} não encontrado.\""
   ]
  },
  {
   "cell_type": "code",
   "execution_count": 42,
   "id": "aa3f3963",
   "metadata": {},
   "outputs": [
    {
     "data": {
      "text/plain": [
       "13"
      ]
     },
     "execution_count": 42,
     "metadata": {},
     "output_type": "execute_result"
    }
   ],
   "source": [
    "idade_estudante(estudantes,'Maria')"
   ]
  },
  {
   "cell_type": "code",
   "execution_count": 43,
   "id": "21ccecd2",
   "metadata": {},
   "outputs": [
    {
     "data": {
      "text/plain": [
       "'Estudante Clara não encontrado.'"
      ]
     },
     "execution_count": 43,
     "metadata": {},
     "output_type": "execute_result"
    }
   ],
   "source": [
    "idade_estudante(estudantes,'Clara')"
   ]
  },
  {
   "cell_type": "markdown",
   "id": "af02e12f",
   "metadata": {},
   "source": [
    "## 🛒 MyShop"
   ]
  },
  {
   "cell_type": "markdown",
   "id": "2264e19c",
   "metadata": {},
   "source": [
    "Neste exercício, você irá criar um programa que simulará um aplicativo de compras de um supermercado utilizando o conhecimento adquirido hoje durante a aula!\n",
    "\n",
    "Os seguintes requisitos deverão ser implementados em seu aplicativo:\n",
    "1. O aplicativo deverá mostrar um menu com as seguintes opções:\n",
    "<br>- Ver lista de produtos\n",
    "<br>- Adicionar produto ao carrinho\n",
    "<br>- Ver carrinho\n",
    "<br>- Comprar\n",
    "<br>- Sair\n",
    "2. Use uma lista para armazenar os produtos disponíveis e seus preços.\n",
    "3. Use outra lista para armazenar os produtos adicionados ao carrinho.\n",
    "4. Implemente tratamento de erros para gerenciar as entradas incorretas do seu usuário."
   ]
  },
  {
   "cell_type": "markdown",
   "id": "25aea315",
   "metadata": {},
   "source": [
    "Passo 1: Crie uma lista de dicionários para armazenar os produtos e seus preços. Cada dicionário deverá conter o nome e o preço do produto. Popule a lista com alguns produtos."
   ]
  },
  {
   "cell_type": "code",
   "execution_count": 44,
   "id": "ff2c2289",
   "metadata": {},
   "outputs": [],
   "source": [
    "lista_produtos = [\n",
    "    {\"item\": \"Leite\", \"preco\": 1.50},\n",
    "    {\"item\": \"Pão\", \"preco\": 0.80},\n",
    "    {\"item\": \"Ovos\", \"preco\": 2.00},\n",
    "    # ... Adicione mais produtos se desejar!\n",
    "]"
   ]
  },
  {
   "cell_type": "markdown",
   "id": "db9b895f",
   "metadata": {},
   "source": [
    "🤩 **BONUS**: Essa é para quem quer um pequeno desafio... Crie uma função **carregar_produtos()**, que lerá o arquivo *lista_produtos.csv*, localizado na pasta './data/', e retornará a lista de produtos com seus preços.\n",
    "<br>*Dica*: O arquivo está em formato .csv. Você poderá utilizar o módulo *csv*, nativo do Python, para ler o seu conteúdo."
   ]
  },
  {
   "cell_type": "code",
   "execution_count": 45,
   "id": "705d2507",
   "metadata": {},
   "outputs": [],
   "source": [
    "import csv\n",
    "\n",
    "def carregar_produtos():\n",
    "    filename = './data/lista_produtos.csv'\n",
    "    lista_produtos = []\n",
    "    with open(filename, mode='r', encoding='utf-8') as file:\n",
    "        reader = csv.DictReader(file)\n",
    "        for row in reader:\n",
    "            produto = row['Item']\n",
    "            try:\n",
    "                preco = float(row['Preço'])\n",
    "                lista_produtos.append({'item': produto, 'preço': preco})\n",
    "            except ValueError:\n",
    "                print(f\"Falha ao converter o preço para {produto} para um número real. Valor: {row['Preço']}\")\n",
    "            \n",
    "\n",
    "        return lista_produtos"
   ]
  },
  {
   "cell_type": "code",
   "execution_count": 46,
   "id": "b27a2d02",
   "metadata": {},
   "outputs": [],
   "source": [
    "lista_produtos = carregar_produtos()"
   ]
  },
  {
   "cell_type": "code",
   "execution_count": 47,
   "id": "9e6bd187",
   "metadata": {},
   "outputs": [
    {
     "data": {
      "text/plain": [
       "[{'item': 'Arroz', 'preço': 10.5},\n",
       " {'item': 'Feijão', 'preço': 7.3},\n",
       " {'item': 'Açúcar', 'preço': 3.0},\n",
       " {'item': 'Sal', 'preço': 2.5},\n",
       " {'item': 'Café', 'preço': 11.0},\n",
       " {'item': 'Chá', 'preço': 8.5},\n",
       " {'item': 'Óleo', 'preço': 12.4},\n",
       " {'item': 'Farinha', 'preço': 4.0},\n",
       " {'item': 'Milho', 'preço': 6.2},\n",
       " {'item': 'Azeite', 'preço': 20.3},\n",
       " {'item': 'Leite', 'preço': 3.8},\n",
       " {'item': 'Ovos', 'preço': 12.0},\n",
       " {'item': 'Tomate', 'preço': 5.9},\n",
       " {'item': 'Batata', 'preço': 4.5},\n",
       " {'item': 'Cenoura', 'preço': 3.7},\n",
       " {'item': 'Alface', 'preço': 2.8},\n",
       " {'item': 'Pão', 'preço': 5.0},\n",
       " {'item': 'Queijo', 'preço': 18.0},\n",
       " {'item': 'Presunto', 'preço': 14.5},\n",
       " {'item': 'Frango', 'preço': 17.3},\n",
       " {'item': 'Peixe', 'preço': 26.5},\n",
       " {'item': 'Carne', 'preço': 32.0},\n",
       " {'item': 'Laranja', 'preço': 6.0},\n",
       " {'item': 'Banana', 'preço': 5.2},\n",
       " {'item': 'Maçã', 'preço': 8.0},\n",
       " {'item': 'Uva', 'preço': 10.3},\n",
       " {'item': 'Manga', 'preço': 7.4},\n",
       " {'item': 'Morango', 'preço': 12.5},\n",
       " {'item': 'Chocolate', 'preço': 15.0},\n",
       " {'item': 'Biscoito', 'preço': 8.7}]"
      ]
     },
     "execution_count": 47,
     "metadata": {},
     "output_type": "execute_result"
    }
   ],
   "source": [
    "lista_produtos"
   ]
  },
  {
   "cell_type": "markdown",
   "id": "7203e68e",
   "metadata": {},
   "source": [
    "Passo 2: Crie uma função denominada **mostrar_menu** que imprima as opções do menu ao usuário."
   ]
  },
  {
   "cell_type": "code",
   "execution_count": 48,
   "id": "a981d17d",
   "metadata": {},
   "outputs": [],
   "source": [
    "def mostrar_menu():\n",
    "    print(\"Opções do menu:\")\n",
    "    print(\"1. Ver produtos\")\n",
    "    print(\"2. Adicionar produto ao carrinho\")\n",
    "    print(\"3. Ver carrinho\")\n",
    "    print(\"4. Comprar\")\n",
    "    print(\"5. Sair\")"
   ]
  },
  {
   "cell_type": "markdown",
   "id": "6c1f8fc9",
   "metadata": {},
   "source": [
    "Passo 3: Crie uma função denominada **ver_produtos** que imprima os produtos disponíveis, com seus preços, para o usuário."
   ]
  },
  {
   "cell_type": "code",
   "execution_count": 49,
   "id": "0214c7ff",
   "metadata": {},
   "outputs": [],
   "source": [
    "def ver_produtos(lista_produtos):\n",
    "    print(\"Produtos disponíveis:\")\n",
    "    for produto in lista_produtos:\n",
    "        print(f\"{produto['item']}: R${produto['preço']:.2f}\")"
   ]
  },
  {
   "cell_type": "code",
   "execution_count": 50,
   "id": "7c20d156",
   "metadata": {},
   "outputs": [
    {
     "name": "stdout",
     "output_type": "stream",
     "text": [
      "Produtos disponíveis:\n",
      "Arroz: R$10.50\n",
      "Feijão: R$7.30\n",
      "Açúcar: R$3.00\n",
      "Sal: R$2.50\n",
      "Café: R$11.00\n",
      "Chá: R$8.50\n",
      "Óleo: R$12.40\n",
      "Farinha: R$4.00\n",
      "Milho: R$6.20\n",
      "Azeite: R$20.30\n",
      "Leite: R$3.80\n",
      "Ovos: R$12.00\n",
      "Tomate: R$5.90\n",
      "Batata: R$4.50\n",
      "Cenoura: R$3.70\n",
      "Alface: R$2.80\n",
      "Pão: R$5.00\n",
      "Queijo: R$18.00\n",
      "Presunto: R$14.50\n",
      "Frango: R$17.30\n",
      "Peixe: R$26.50\n",
      "Carne: R$32.00\n",
      "Laranja: R$6.00\n",
      "Banana: R$5.20\n",
      "Maçã: R$8.00\n",
      "Uva: R$10.30\n",
      "Manga: R$7.40\n",
      "Morango: R$12.50\n",
      "Chocolate: R$15.00\n",
      "Biscoito: R$8.70\n"
     ]
    }
   ],
   "source": [
    "ver_produtos(lista_produtos)"
   ]
  },
  {
   "cell_type": "markdown",
   "id": "6bb59108",
   "metadata": {},
   "source": [
    "🌶️ **Bônus**: Quer colocar pimenta nesse passo? Uma lista de produtos pode ser muito longa para mostrar ao usuário numa tacada só! Que tal utilizar geradores, que você aprendeu durante a aula, para mostrar 5 produtos da lista de cada vez? 🤩 Quer tentar? Primeiro, defina a função que conterá o gerador e devolverá uma lista de produtos de tamanho 5 (ou o tamanho que você quiser, bastando passá-lo como parâmetro!) e, em seguida, implementar a função **ver_produtos**, que chamará a função que contém o gerador. Você poderá solicitar ao usuário que pressione a letra 'p' para listar os próximos produtos, ou 's' se desejar sair da função."
   ]
  },
  {
   "cell_type": "code",
   "execution_count": 51,
   "id": "a4d11a43",
   "metadata": {},
   "outputs": [],
   "source": [
    "def gerar_grupos_produtos(produtos, tam_grupo=5):\n",
    "    \"\"\"\n",
    "    Gera grupos sucessivos de produtos de tamanho = tam_grupo.\n",
    "    \"\"\"\n",
    "    for i in range(0, len(produtos), tam_grupo):\n",
    "        yield produtos[i:i + tam_grupo]"
   ]
  },
  {
   "cell_type": "code",
   "execution_count": 52,
   "id": "cd34686d",
   "metadata": {},
   "outputs": [],
   "source": [
    "def ver_grupos_produtos(lista_produtos):\n",
    "    grupo_produtos = gerar_grupos_produtos(lista_produtos)\n",
    "    for grupo in grupo_produtos:\n",
    "        for produto in grupo:\n",
    "            print(f\"{produto['item']}: R${produto['preço']:.2f}\")\n",
    "        \n",
    "        comando = input(\"Pressione qualquer tecla para ver o próximo grupo de produtos ou \\'s' para sair: \").lower()\n",
    "        if comando == 's':\n",
    "            break"
   ]
  },
  {
   "cell_type": "code",
   "execution_count": 53,
   "id": "8d2d5fe0",
   "metadata": {},
   "outputs": [
    {
     "name": "stdout",
     "output_type": "stream",
     "text": [
      "Arroz: R$10.50\n",
      "Feijão: R$7.30\n",
      "Açúcar: R$3.00\n",
      "Sal: R$2.50\n",
      "Café: R$11.00\n",
      "Pressione qualquer tecla para ver o próximo grupo de produtos ou 's' para sair: \n",
      "Chá: R$8.50\n",
      "Óleo: R$12.40\n",
      "Farinha: R$4.00\n",
      "Milho: R$6.20\n",
      "Azeite: R$20.30\n",
      "Pressione qualquer tecla para ver o próximo grupo de produtos ou 's' para sair: s\n"
     ]
    }
   ],
   "source": [
    "ver_grupos_produtos(lista_produtos)"
   ]
  },
  {
   "cell_type": "markdown",
   "id": "d184ee19",
   "metadata": {},
   "source": [
    "Passo 4: Adicionar produtos ao carrinho. Primeiro, crie uma lista vazia com o nome *carrinho* para armazenar os produtos adicionados pelo usuário. Em seguida, defina uma função **adicionar_ao_carrinho**, que solicitará ao usuário o nome do produto que ele deseja comprar. A função deverá adicionar o produto, junto com seu preço, ao carrinho, e deverá informar uma mensagem de erro ao usuário caso o produto não esteja disponível."
   ]
  },
  {
   "cell_type": "code",
   "execution_count": 54,
   "id": "b59f5009",
   "metadata": {},
   "outputs": [],
   "source": [
    "def adicionar_ao_carrinho(lista_produtos, carrinho):\n",
    "    # Solicitar ao usuário o nome do produto que ele quer comprar.\n",
    "    nome_produto = input(\"Digite o nome do produto que você deseja adicionar ao carrinho \")\n",
    "    \n",
    "    # Encontrar o produto na lista de produtos disponíveis, usando função lambda.\n",
    "    produto = next((p for p in lista_produtos if p[\"item\"] == nome_produto), None)\n",
    "    \n",
    "    # Check if product was found\n",
    "    if produto:\n",
    "        carrinho.append(produto)\n",
    "        print(f\"{produto['item']} foi adicionado ao carrinho!\")\n",
    "    else:\n",
    "        print(f\"Erro: {nome_produto} não encontrado!\")\n",
    "\n"
   ]
  },
  {
   "cell_type": "code",
   "execution_count": 57,
   "id": "d69781ff",
   "metadata": {},
   "outputs": [
    {
     "name": "stdout",
     "output_type": "stream",
     "text": [
      "Digite o nome do produto que você deseja adicionar ao carrinho Sal\n",
      "Sal foi adicionado ao carrinho!\n"
     ]
    }
   ],
   "source": [
    "carrinho = []\n",
    "adicionar_ao_carrinho(lista_produtos,carrinho)"
   ]
  },
  {
   "cell_type": "code",
   "execution_count": 58,
   "id": "a71f2954",
   "metadata": {},
   "outputs": [
    {
     "data": {
      "text/plain": [
       "[{'item': 'Sal', 'preço': 2.5}]"
      ]
     },
     "execution_count": 58,
     "metadata": {},
     "output_type": "execute_result"
    }
   ],
   "source": [
    "carrinho"
   ]
  },
  {
   "cell_type": "markdown",
   "id": "5aef2bab",
   "metadata": {},
   "source": [
    "Passo 5: Criar a função para ver o carrinho. Defina uma função denominada **ver_carrinho** que mostrará ao usuário os produtos no carrinho com seu preço total."
   ]
  },
  {
   "cell_type": "code",
   "execution_count": 59,
   "id": "72fca0ba",
   "metadata": {},
   "outputs": [],
   "source": [
    "def ver_carrinho(carrinho):\n",
    "    if not carrinho:\n",
    "        print(\"Seu carrinho está vazio.\")\n",
    "        return\n",
    "\n",
    "    print(\"Produtos em seu carrinho:\")\n",
    "    for produto in carrinho:\n",
    "        print(f\"{produto['item']}: R${produto['preço']:.2f}\")\n",
    "    \n",
    "    # Calcular o total do carrinho\n",
    "    preco_total = sum(item['preço'] for item in carrinho)\n",
    "    print(f\"Preço total: ${preco_total:.2f}\")"
   ]
  },
  {
   "cell_type": "code",
   "execution_count": 60,
   "id": "20fbbed1",
   "metadata": {},
   "outputs": [
    {
     "name": "stdout",
     "output_type": "stream",
     "text": [
      "Produtos em seu carrinho:\n",
      "Sal: R$2.50\n",
      "Preço total: $2.50\n"
     ]
    }
   ],
   "source": [
    "ver_carrinho(carrinho)"
   ]
  },
  {
   "cell_type": "code",
   "execution_count": null,
   "id": "c0bd049f",
   "metadata": {},
   "outputs": [],
   "source": []
  },
  {
   "cell_type": "markdown",
   "id": "00c261b0",
   "metadata": {},
   "source": [
    "Passo 6: Crie a função **comprar**. Ela deverá mostrar ao usuário o conteúdo do carrinho e o preço total da compra, e perguntá-lo se deseja proceder com a compra. Se ele responder 'Sim', a função deverá mostrar a mensagem \"Compra realizada com sucesso!\" e esvaziar o carrinho; se ele responder 'Não', a função deverá retornar ao menu principal."
   ]
  },
  {
   "cell_type": "code",
   "execution_count": 61,
   "id": "fa64d9f7",
   "metadata": {},
   "outputs": [],
   "source": [
    "def comprar(carrinho):\n",
    "    if not carrinho:\n",
    "        print(\"Carrinho vazio\")\n",
    "        return\n",
    "    \n",
    "    ver_carrinho(carrinho)\n",
    "    # pergunta ao usuário se ele deseja proceder com a compra.\n",
    "    decisao = input(\"Você deseja proceder com a compra? (S/N): \").lower()\n",
    "\n",
    "    if decisao == 's':\n",
    "        print(\"Compra realizada com sucesso!\")\n",
    "        carrinho.clear()  # limpa o carrinho\n",
    "    else:\n",
    "        print(\"Retornando ao menu principal.\")"
   ]
  },
  {
   "cell_type": "code",
   "execution_count": 62,
   "id": "1872926a",
   "metadata": {},
   "outputs": [
    {
     "name": "stdout",
     "output_type": "stream",
     "text": [
      "Produtos em seu carrinho:\n",
      "Sal: R$2.50\n",
      "Preço total: $2.50\n",
      "Você deseja proceder com a compra? (S/N): n\n",
      "Retornando ao menu principal.\n"
     ]
    }
   ],
   "source": [
    "comprar(carrinho)"
   ]
  },
  {
   "cell_type": "code",
   "execution_count": 63,
   "id": "001adfe4",
   "metadata": {},
   "outputs": [
    {
     "data": {
      "text/plain": [
       "[{'item': 'Sal', 'preço': 2.5}]"
      ]
     },
     "execution_count": 63,
     "metadata": {},
     "output_type": "execute_result"
    }
   ],
   "source": [
    "carrinho"
   ]
  },
  {
   "cell_type": "markdown",
   "id": "0246da94",
   "metadata": {},
   "source": [
    "💃🏻 Passo final! Agora, junte tudo em uma função **main()**, que deverá implementar uma estrutura de repetição que irá mostrar o menu principal até que o usuário escolha a opção 'Sair'."
   ]
  },
  {
   "cell_type": "code",
   "execution_count": 64,
   "id": "f92523d3",
   "metadata": {},
   "outputs": [],
   "source": [
    "def main():\n",
    "    carrinho = []\n",
    "    lista_produtos = carregar_produtos()\n",
    "    while True:\n",
    "        # mostra o menu principal\n",
    "        mostrar_menu()\n",
    "\n",
    "        # Leia a opção do usuário.\n",
    "        try:\n",
    "            opcao = int(input(\"Escolha uma opção (1-5): \"))\n",
    "\n",
    "            if opcao == 1:\n",
    "                ver_grupos_produtos(lista_produtos)\n",
    "            elif opcao == 2:\n",
    "                adicionar_ao_carrinho(lista_produtos,carrinho)\n",
    "            elif opcao == 3:\n",
    "                ver_carrinho(carrinho)\n",
    "            elif opcao == 4:\n",
    "                comprar(carrinho)\n",
    "            elif opcao == 5:\n",
    "                print(\"Obrigado por comprar conosco! Até logo!\")\n",
    "                break\n",
    "            else:\n",
    "                print(\"Opção inválida! Por favor escolha um número de 1 a 5.\")\n",
    "\n",
    "        except ValueError:\n",
    "            print(\"Por favor entre um número válido.\")\n",
    "        except Exception as e:\n",
    "            print(f\"Ocorreu um erro: {e}\")"
   ]
  },
  {
   "cell_type": "code",
   "execution_count": 65,
   "id": "b302ee6b",
   "metadata": {},
   "outputs": [
    {
     "name": "stdout",
     "output_type": "stream",
     "text": [
      "Opções do menu:\n",
      "1. Ver produtos\n",
      "2. Adicionar produto ao carrinho\n",
      "3. Ver carrinho\n",
      "4. Comprar\n",
      "5. Sair\n",
      "Escolha uma opção (1-5): 1\n",
      "Arroz: R$10.50\n",
      "Feijão: R$7.30\n",
      "Açúcar: R$3.00\n",
      "Sal: R$2.50\n",
      "Café: R$11.00\n",
      "Pressione qualquer tecla para ver o próximo grupo de produtos ou 's' para sair: s\n",
      "Opções do menu:\n",
      "1. Ver produtos\n",
      "2. Adicionar produto ao carrinho\n",
      "3. Ver carrinho\n",
      "4. Comprar\n",
      "5. Sair\n",
      "Escolha uma opção (1-5): 2\n",
      "Digite o nome do produto que você deseja adicionar ao carrinho Arroz\n",
      "Arroz foi adicionado ao carrinho!\n",
      "Opções do menu:\n",
      "1. Ver produtos\n",
      "2. Adicionar produto ao carrinho\n",
      "3. Ver carrinho\n",
      "4. Comprar\n",
      "5. Sair\n",
      "Escolha uma opção (1-5): 2\n",
      "Digite o nome do produto que você deseja adicionar ao carrinho Sal\n",
      "Sal foi adicionado ao carrinho!\n",
      "Opções do menu:\n",
      "1. Ver produtos\n",
      "2. Adicionar produto ao carrinho\n",
      "3. Ver carrinho\n",
      "4. Comprar\n",
      "5. Sair\n",
      "Escolha uma opção (1-5): 3\n",
      "Produtos em seu carrinho:\n",
      "Arroz: R$10.50\n",
      "Sal: R$2.50\n",
      "Preço total: $13.00\n",
      "Opções do menu:\n",
      "1. Ver produtos\n",
      "2. Adicionar produto ao carrinho\n",
      "3. Ver carrinho\n",
      "4. Comprar\n",
      "5. Sair\n",
      "Escolha uma opção (1-5): 4\n",
      "Produtos em seu carrinho:\n",
      "Arroz: R$10.50\n",
      "Sal: R$2.50\n",
      "Preço total: $13.00\n",
      "Você deseja proceder com a compra? (S/N): n\n",
      "Retornando ao menu principal.\n",
      "Opções do menu:\n",
      "1. Ver produtos\n",
      "2. Adicionar produto ao carrinho\n",
      "3. Ver carrinho\n",
      "4. Comprar\n",
      "5. Sair\n",
      "Escolha uma opção (1-5): 4\n",
      "Produtos em seu carrinho:\n",
      "Arroz: R$10.50\n",
      "Sal: R$2.50\n",
      "Preço total: $13.00\n",
      "Você deseja proceder com a compra? (S/N): s\n",
      "Compra realizada com sucesso!\n",
      "Opções do menu:\n",
      "1. Ver produtos\n",
      "2. Adicionar produto ao carrinho\n",
      "3. Ver carrinho\n",
      "4. Comprar\n",
      "5. Sair\n",
      "Escolha uma opção (1-5): 1\n",
      "Arroz: R$10.50\n",
      "Feijão: R$7.30\n",
      "Açúcar: R$3.00\n",
      "Sal: R$2.50\n",
      "Café: R$11.00\n",
      "Pressione qualquer tecla para ver o próximo grupo de produtos ou 's' para sair: 5\n",
      "Chá: R$8.50\n",
      "Óleo: R$12.40\n",
      "Farinha: R$4.00\n",
      "Milho: R$6.20\n",
      "Azeite: R$20.30\n",
      "Pressione qualquer tecla para ver o próximo grupo de produtos ou 's' para sair: s\n",
      "Opções do menu:\n",
      "1. Ver produtos\n",
      "2. Adicionar produto ao carrinho\n",
      "3. Ver carrinho\n",
      "4. Comprar\n",
      "5. Sair\n",
      "Escolha uma opção (1-5): 5\n",
      "Obrigado por comprar conosco! Até logo!\n"
     ]
    }
   ],
   "source": [
    "main()"
   ]
  },
  {
   "cell_type": "code",
   "execution_count": null,
   "id": "c09cbd4b",
   "metadata": {},
   "outputs": [],
   "source": []
  }
 ],
 "metadata": {
  "kernelspec": {
   "display_name": "enap",
   "language": "python",
   "name": "enap"
  },
  "language_info": {
   "codemirror_mode": {
    "name": "ipython",
    "version": 3
   },
   "file_extension": ".py",
   "mimetype": "text/x-python",
   "name": "python",
   "nbconvert_exporter": "python",
   "pygments_lexer": "ipython3",
   "version": "3.10.6"
  },
  "toc": {
   "base_numbering": 1,
   "nav_menu": {},
   "number_sections": true,
   "sideBar": true,
   "skip_h1_title": false,
   "title_cell": "Table of Contents",
   "title_sidebar": "Contents",
   "toc_cell": false,
   "toc_position": {},
   "toc_section_display": true,
   "toc_window_display": false
  }
 },
 "nbformat": 4,
 "nbformat_minor": 5
}
