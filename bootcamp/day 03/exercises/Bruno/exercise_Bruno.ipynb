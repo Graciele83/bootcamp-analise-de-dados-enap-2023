{
 "cells": [
  {
   "cell_type": "markdown",
   "id": "31f25970-1945-4166-8471-3730f6877495",
   "metadata": {},
   "source": [
    "# Exercícios: Aspectos Nativos de Python 🐍- Parte 2"
   ]
  },
  {
   "cell_type": "markdown",
   "id": "3c23a603-478e-48f9-a25e-42f015a30a2c",
   "metadata": {},
   "source": [
    "### Estruturas de Dados"
   ]
  },
  {
   "cell_type": "markdown",
   "id": "827e15c2-1058-45ed-8c68-d6703e92d583",
   "metadata": {},
   "source": [
    "Na aula de hoje foram apresentadas a seguintes estruturas de dados da linguagem Python:\n",
    "<table>\n",
    "    <tr><th>Estrutura de Dados</th><th>Notação</th><th>Função de Conversão</th></tr>\n",
    "    <tr><td>Tupla</td><td><b>(</b>elemento_1, elemento_2<b>)</b></td><td>tuple()</td></tr>\n",
    "    <tr><td>Lista</td><td><b>[</b>elemento_1, elemento_2<b>]</b></td><td>list()</td></tr>\n",
    "    <tr><td>Conjunto</td><td><b>{</b>elemento_1, elemento_2<b>}</b></td><td>set()</td></tr>\n",
    "    <tr><td>Dicionário</td><td><b>{</b>elemento_1_chave: elemento_1_valor, elemento_1_chave: elemento_2_valor<b>}</b></td><td>dict(mapping)</td></tr>\n",
    "</table>\n",
    "\n",
    "Também foi introduzida uma sintaxe simplificada para criação de coleções:<br>\n",
    "<table>\n",
    "<tr><th colspan='2'>Sintaxe para Geração de Dados</th><th></th></tr>\n",
    "<tr><th>Loop</th><th>Simplificada</th></tr>\n",
    "<tr><td>\n",
    "<code>\n",
    "squares = []<br>\n",
    "for i in range(10):<br>\n",
    "    squares.append(i * i)\n",
    "</code>\n",
    "</td><td>\n",
    "<code>squares = [i*i for i in range(10)]</code>\n",
    "</td></tr>\n",
    "</table>\n",
    "\n",
    "Para praticar o uso dessas estruturas de dados vamos utilizar a seguinte lista contendo valores separados por vírgulas:"
   ]
  },
  {
   "cell_type": "code",
   "execution_count": null,
   "id": "d718446d-8938-4277-8ccd-c7cd0381c1aa",
   "metadata": {
    "tags": []
   },
   "outputs": [],
   "source": [
    "lista_precos= [ 'morango,27', 'manga,13', 'mamão,19','maçã,18','marmelo,5','mangaba,11','macadâmia,30','melancia,23','melão,3','morango,27','maracujá,20',\n",
    "'mexerica,9','mirtilo,26','maçã,18','marmelo,5','morango,27']"
   ]
  },
  {
   "cell_type": "markdown",
   "id": "2de56f05-9bc1-4087-bf55-fb42953a59c1",
   "metadata": {
    "tags": []
   },
   "source": [
    "### Aplicação de Estruturas de Dados"
   ]
  },
  {
   "cell_type": "markdown",
   "id": "35c15d7d-b1b5-4d8d-a7b1-253a1732dc67",
   "metadata": {
    "tags": []
   },
   "source": [
    "#### Lista e Ordenação\n",
    "\n",
    "Para que possamos realizar cálculos envolvendo os preços existentes na lista é necessário convertê-los para o tipo <code>int</code>.<br>\n",
    "Crie uma nova lista em que os itens sejam formados pelo nome do produto e seu preço convertido para inteiro.\n",
    "Imprima a lista de produtos em ordem decrescente de preços.<br>\n",
    "Calcule a soma dos preços de todos os itens presentes na lista de itens distintos:"
   ]
  },
  {
   "cell_type": "code",
   "execution_count": null,
   "id": "692bd7c0-b455-4309-b8b7-bc06106479f9",
   "metadata": {
    "tags": []
   },
   "outputs": [],
   "source": []
  },
  {
   "cell_type": "markdown",
   "id": "25cb1ef8-02d8-4c22-80ea-6507766b19f5",
   "metadata": {},
   "source": [
    "#### Dicionários e Contagem\n",
    "Um dicionário é uma estrutura de dados que no formato chave/valor.<br>\n",
    "Construa e imprima um dicionário com base na lista de preços em que a chave seja o nome da fruta e o valor armazene a frequência com que aparece na lista."
   ]
  },
  {
   "cell_type": "code",
   "execution_count": null,
   "id": "3736c89b-baf4-413a-8f1b-a3d5675c7f90",
   "metadata": {
    "tags": []
   },
   "outputs": [],
   "source": []
  },
  {
   "cell_type": "markdown",
   "id": "31c01f40",
   "metadata": {},
   "source": [
    "Imprima uma lista das chaves do dicionário gerado que possuam frequência maior que 1."
   ]
  },
  {
   "cell_type": "code",
   "execution_count": null,
   "id": "8c02c651",
   "metadata": {},
   "outputs": [],
   "source": []
  },
  {
   "cell_type": "markdown",
   "id": "3e6d9615-a368-4e87-b7cb-6da0a2190925",
   "metadata": {},
   "source": [
    "#### Conjuntos\n",
    "Como evidenciado na saída do exercício anterior, a lista de preços fornecida possui itens repetidos.<br>\n",
    "Em diversos contextos, valores repetidos não devem estar presentes em uma base de dados. Para eliminá-los, pode-se utilizar a estrutura de dados conjunto.\n",
    "Obtenha o conjunto formado pelos valores distintos da lista de preços e calcule o valor total de todos os itens distintos da lista."
   ]
  },
  {
   "cell_type": "code",
   "execution_count": null,
   "id": "58e09f91-2702-4140-9162-f8eb32ad2f4f",
   "metadata": {
    "tags": []
   },
   "outputs": [],
   "source": []
  },
  {
   "cell_type": "markdown",
   "id": "32dce031",
   "metadata": {},
   "source": [
    "#### Dicionário para Mapeamento\n",
    "Um dicionário pode ser utilizado para mapear uma lista de chaves em seus valores correspondentes.<br>\n",
    "Utilizando um dicionário formado pela lista de preços, calcule e imprima o valor dos seguintes pedidos:<br>\n",
    "<code>pedidos = [['mamão','morango','maçã'],['macadâmia','mangaba'],['manga','marmelo']]</code>"
   ]
  },
  {
   "cell_type": "code",
   "execution_count": null,
   "id": "ae7acc46",
   "metadata": {},
   "outputs": [],
   "source": []
  },
  {
   "cell_type": "markdown",
   "id": "939220c5",
   "metadata": {},
   "source": [
    "## Funções e Exceções"
   ]
  },
  {
   "cell_type": "markdown",
   "id": "019d489d",
   "metadata": {},
   "source": [
    "\n",
    "#### Definindo uma função\n",
    "Escreva uma função que, dado o dicionário formato {produto:preço} e uma lista produtos, retorne o valor do pedido.\n",
    "Teste a função utilizando os seguintes parâmetros:"
   ]
  },
  {
   "cell_type": "code",
   "execution_count": null,
   "id": "a2a42f96",
   "metadata": {},
   "outputs": [],
   "source": []
  },
  {
   "cell_type": "code",
   "execution_count": null,
   "id": "071697d1",
   "metadata": {},
   "outputs": [],
   "source": []
  },
  {
   "cell_type": "markdown",
   "id": "bb0da02a",
   "metadata": {},
   "source": [
    "#### Tratando uma Exceção\n",
    "\n",
    "Caso a chave consultada não esteja presente no dicionário, uma exceção do tipo KeyError é lançada.<br>\n",
    "Modifique o código da função tratar a exceção KeyError imprimindo a mensagem \"Erro: Produto não identificado\" e retornando o valor -1.<br>\n",
    "Execute novamente a função com os parâmetros: (precos,pedido2)"
   ]
  },
  {
   "cell_type": "code",
   "execution_count": null,
   "id": "fb2e69cd",
   "metadata": {},
   "outputs": [],
   "source": []
  },
  {
   "cell_type": "markdown",
   "id": "761cc912",
   "metadata": {},
   "source": [
    "#### Função de Cifragem com Dicionário\n",
    "\n",
    "Construa uma função que retorne o texto passado como parâmetro para um alfabeto em ordem invertida, isso é substituindo a letra A->Z, B->Y, sucessivamente<br>\n",
    "Utilize um dicionário para mapear as letras do alfabeto e as seguintes listas:<br>\n",
    "<code>\n",
    "letras_maiusculas = [chr(ord('A') + i) for i in range(26)]<br>\n",
    "letras_minusculas = [chr(ord('a') + i) for i in range(26)]\n",
    "</code>\n",
    "\n",
    "Utilize a função para cifrar e imprimir a seguinte mensagem:<br>\n",
    "<code>\n",
    "mensagem = 'Vamos Programar, Pessoal!'\n",
    "</code>\n"
   ]
  },
  {
   "cell_type": "code",
   "execution_count": null,
   "id": "8ae95cbd",
   "metadata": {},
   "outputs": [],
   "source": []
  }
 ],
 "metadata": {
  "kernelspec": {
   "display_name": "Python 3 (ipykernel)",
   "language": "python",
   "name": "python3"
  },
  "language_info": {
   "codemirror_mode": {
    "name": "ipython",
    "version": 3
   },
   "file_extension": ".py",
   "mimetype": "text/x-python",
   "name": "python",
   "nbconvert_exporter": "python",
   "pygments_lexer": "ipython3",
   "version": "3.11.3"
  }
 },
 "nbformat": 4,
 "nbformat_minor": 5
}
