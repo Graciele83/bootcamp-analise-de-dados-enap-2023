{
 "cells": [
  {
   "cell_type": "markdown",
   "id": "5b007b46",
   "metadata": {},
   "source": [
    "# Aspectos Nativos de Python - Parte 2"
   ]
  },
  {
   "cell_type": "markdown",
   "id": "f4221c4f",
   "metadata": {},
   "source": [
    "## Listas"
   ]
  },
  {
   "cell_type": "code",
   "execution_count": null,
   "id": "5d94df42",
   "metadata": {},
   "outputs": [],
   "source": [
    "beatles = [\"John\", \"Paul\", \"George\", \"Ringo\"]"
   ]
  },
  {
   "cell_type": "markdown",
   "id": "6979208e",
   "metadata": {},
   "source": [
    "Retorne a lista **beatles** invertida."
   ]
  },
  {
   "cell_type": "code",
   "execution_count": null,
   "id": "487c7b91",
   "metadata": {
    "scrolled": true
   },
   "outputs": [],
   "source": []
  },
  {
   "cell_type": "markdown",
   "id": "e65edcd0",
   "metadata": {},
   "source": [
    "Retorne a lista **beatles** com o nome de cada Beatle invertido."
   ]
  },
  {
   "cell_type": "code",
   "execution_count": null,
   "id": "364520f0",
   "metadata": {
    "scrolled": false
   },
   "outputs": [],
   "source": []
  },
  {
   "cell_type": "markdown",
   "id": "cfcea403",
   "metadata": {},
   "source": [
    "Usando fatiamento e step, retorne uma lista com apenas Paul e Ringo"
   ]
  },
  {
   "cell_type": "code",
   "execution_count": null,
   "id": "625ac041",
   "metadata": {
    "scrolled": true
   },
   "outputs": [],
   "source": []
  },
  {
   "cell_type": "markdown",
   "id": "7a6f57de",
   "metadata": {},
   "source": [
    "Em apenas uma linha inverta, na lista original, as posições de John e Ringo."
   ]
  },
  {
   "cell_type": "code",
   "execution_count": null,
   "id": "aa3ef913",
   "metadata": {},
   "outputs": [],
   "source": []
  },
  {
   "cell_type": "code",
   "execution_count": null,
   "id": "3f49de4c",
   "metadata": {
    "scrolled": true
   },
   "outputs": [],
   "source": []
  },
  {
   "cell_type": "markdown",
   "id": "2b96e60d",
   "metadata": {},
   "source": [
    "## Explorando as estatísticas brasileiras de comércio exterior"
   ]
  },
  {
   "cell_type": "markdown",
   "id": "e960bceb",
   "metadata": {},
   "source": [
    "Na aula anterior fizemos um exercício com os principais destinos das exportações brasileiras. Vamos conferir as principais origens das importações brasileiras."
   ]
  },
  {
   "cell_type": "code",
   "execution_count": null,
   "id": "d687e921",
   "metadata": {},
   "outputs": [],
   "source": [
    "# Dados de 2022\n",
    "paises_origem = [\"China\", \"Estados Unidos\", \"Argentina\", \"Alemanha\", \"Índia\", \"Rússia\", \"Itália\", \"Coréia do Sul\", \"Arábia Saudita\", \"Japão\"]\n",
    "valor_bilhoes_usd = [60.744, 51.304, 13.100, 12.208, 8.850, 7.853, 5.569, 5.463, 5.306, 5.300]"
   ]
  },
  {
   "cell_type": "markdown",
   "id": "480cc114",
   "metadata": {},
   "source": [
    "Usando a função enumerate, apresente a lista numerada das top 10 origens. Por exemplo:\n",
    "\n",
    "1 - China\n",
    "\n",
    "2 - Estados Unidos\n",
    "\n",
    "3 - Argentina\n",
    "\n",
    "..."
   ]
  },
  {
   "cell_type": "code",
   "execution_count": null,
   "id": "75362a39",
   "metadata": {
    "scrolled": true
   },
   "outputs": [],
   "source": []
  },
  {
   "cell_type": "markdown",
   "id": "7154ca1a",
   "metadata": {},
   "source": [
    "Junte estas duas listas em um dicionário em que a *chave* é o nome do país e o *valor* é o valor em bilhões de dólares. Restrinja este novo dicionário aos países que exportaram mais de 10 bilhões de dólares para o Brasil em 2022."
   ]
  },
  {
   "cell_type": "code",
   "execution_count": null,
   "id": "5407e2b9",
   "metadata": {},
   "outputs": [],
   "source": []
  },
  {
   "cell_type": "markdown",
   "id": "832c56a3",
   "metadata": {},
   "source": [
    "Agora crie um programa em que o usuário tenha que adivinhar e digitar, um por vez, os nomes destas principais origens das importações brasileiras (acima de US$ 10 bilhões)."
   ]
  },
  {
   "cell_type": "code",
   "execution_count": null,
   "id": "b9b85cd9",
   "metadata": {
    "scrolled": true
   },
   "outputs": [],
   "source": []
  },
  {
   "cell_type": "markdown",
   "id": "e81f7e4f",
   "metadata": {},
   "source": [
    "## Desafio opcional - manipulando listas"
   ]
  },
  {
   "cell_type": "markdown",
   "id": "371e4a79",
   "metadata": {},
   "source": [
    "Uma matriz pode ser representada como uma lista aninhada. Veja a matriz 2 x 5 abaixo:"
   ]
  },
  {
   "cell_type": "code",
   "execution_count": null,
   "id": "2f81f3e3",
   "metadata": {},
   "outputs": [],
   "source": [
    "matriz = [[1, 2, 3, 4, 5],\n",
    "          [5, 6, 7, 8, 9]]"
   ]
  },
  {
   "cell_type": "markdown",
   "id": "24fa75cb",
   "metadata": {},
   "source": [
    "Uma matriz pode ser transposta trocando ordenadamente de posição suas linhas por suas colunas. Por exemplo, a transposta da matriz acima é representada assim:\n"
   ]
  },
  {
   "cell_type": "code",
   "execution_count": null,
   "id": "0eef409c",
   "metadata": {},
   "outputs": [],
   "source": [
    "transposta = [[1, 5],\n",
    "              [2, 6],\n",
    "              [3, 7],\n",
    "              [4, 8],\n",
    "              [5, 9]]"
   ]
  },
  {
   "cell_type": "markdown",
   "id": "b32f2843",
   "metadata": {},
   "source": [
    "Cria uma função que transponha uma dada matriz. "
   ]
  },
  {
   "cell_type": "code",
   "execution_count": null,
   "id": "f13881a4",
   "metadata": {},
   "outputs": [],
   "source": []
  },
  {
   "cell_type": "markdown",
   "id": "396274f8",
   "metadata": {},
   "source": [
    "Teste sua função com as matrizes a seguir:"
   ]
  },
  {
   "cell_type": "code",
   "execution_count": null,
   "id": "d07421c7",
   "metadata": {},
   "outputs": [],
   "source": [
    "letras = [['a', 'b', 'c', 'd'],\n",
    "          ['e', 'f', 'g', 'j'],\n",
    "          ['i', 'j', 'k', 'l']]\n",
    "\n",
    "telefone = [[1, 2 ,3],\n",
    "            [4, 5, 6],\n",
    "            [7, 8, 9]]"
   ]
  }
 ],
 "metadata": {
  "kernelspec": {
   "display_name": "Python 3 (ipykernel)",
   "language": "python",
   "name": "python3"
  },
  "language_info": {
   "codemirror_mode": {
    "name": "ipython",
    "version": 3
   },
   "file_extension": ".py",
   "mimetype": "text/x-python",
   "name": "python",
   "nbconvert_exporter": "python",
   "pygments_lexer": "ipython3",
   "version": "3.7.3"
  },
  "toc": {
   "base_numbering": 1,
   "nav_menu": {},
   "number_sections": true,
   "sideBar": true,
   "skip_h1_title": false,
   "title_cell": "Table of Contents",
   "title_sidebar": "Contents",
   "toc_cell": false,
   "toc_position": {},
   "toc_section_display": true,
   "toc_window_display": false
  }
 },
 "nbformat": 4,
 "nbformat_minor": 5
}
