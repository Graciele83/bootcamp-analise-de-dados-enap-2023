{
 "cells": [
  {
   "cell_type": "markdown",
   "id": "85491661-df8a-45d6-9a6b-bb29a6d62931",
   "metadata": {},
   "source": [
    "### Notebook que usamos na aula de hoje (4/10), day 3, conforme pedido de algumas.\n",
    "\n",
    "Recomendo que usem a apresentação da aula para estudo, pois ele ficou um pouco bagunçado."
   ]
  },
  {
   "cell_type": "code",
   "execution_count": 1,
   "id": "8e88f586-9d7b-4d8a-94b2-31ebae562280",
   "metadata": {},
   "outputs": [],
   "source": [
    "# Revisão de parte do dia anterior"
   ]
  },
  {
   "cell_type": "code",
   "execution_count": 2,
   "id": "36f60512-01b8-4e89-a264-13925b0475fd",
   "metadata": {},
   "outputs": [],
   "source": [
    "nome= 'thais'"
   ]
  },
  {
   "cell_type": "code",
   "execution_count": 3,
   "id": "59e5c2d2-cf1b-4356-9207-8157ebb63888",
   "metadata": {},
   "outputs": [
    {
     "data": {
      "text/plain": [
       "str"
      ]
     },
     "execution_count": 3,
     "metadata": {},
     "output_type": "execute_result"
    }
   ],
   "source": [
    "type(nome)"
   ]
  },
  {
   "cell_type": "code",
   "execution_count": 4,
   "id": "670a8107-9174-450f-b56f-00b28d912adf",
   "metadata": {},
   "outputs": [
    {
     "data": {
      "text/plain": [
       "int"
      ]
     },
     "execution_count": 4,
     "metadata": {},
     "output_type": "execute_result"
    }
   ],
   "source": [
    "numero = 5\n",
    "type(numero)"
   ]
  },
  {
   "cell_type": "code",
   "execution_count": 5,
   "id": "049ee2dc-9305-44a0-9899-e099d0ee623f",
   "metadata": {},
   "outputs": [
    {
     "data": {
      "text/plain": [
       "True"
      ]
     },
     "execution_count": 5,
     "metadata": {},
     "output_type": "execute_result"
    }
   ],
   "source": [
    "nome.startswith('t')"
   ]
  },
  {
   "cell_type": "code",
   "execution_count": 113,
   "id": "5febaace-d227-4586-bd86-593743551042",
   "metadata": {},
   "outputs": [],
   "source": [
    "# Agora vamos entrar na aula de hoje, iniciando outro tipo de dados: listas"
   ]
  },
  {
   "cell_type": "code",
   "execution_count": 6,
   "id": "709943d9-79e4-4062-99f3-0096443d69f4",
   "metadata": {},
   "outputs": [],
   "source": [
    "BRICS = ['Brasil', 'Russia', 'India', 'China', 'Africa do Sul']"
   ]
  },
  {
   "cell_type": "code",
   "execution_count": 7,
   "id": "6a4747c5-4d66-4142-bc2a-1cd104fcf82a",
   "metadata": {},
   "outputs": [
    {
     "data": {
      "text/plain": [
       "5"
      ]
     },
     "execution_count": 7,
     "metadata": {},
     "output_type": "execute_result"
    }
   ],
   "source": [
    "len(BRICS)"
   ]
  },
  {
   "cell_type": "code",
   "execution_count": 8,
   "id": "54edb1af-2b4a-44e9-9851-d22306b0243e",
   "metadata": {},
   "outputs": [
    {
     "data": {
      "text/plain": [
       "'Brasil'"
      ]
     },
     "execution_count": 8,
     "metadata": {},
     "output_type": "execute_result"
    }
   ],
   "source": [
    "BRICS[0]"
   ]
  },
  {
   "cell_type": "code",
   "execution_count": 9,
   "id": "37ea0854-3560-44d0-abfc-20939914f6a0",
   "metadata": {},
   "outputs": [
    {
     "data": {
      "text/plain": [
       "'Russia'"
      ]
     },
     "execution_count": 9,
     "metadata": {},
     "output_type": "execute_result"
    }
   ],
   "source": [
    "BRICS[1]"
   ]
  },
  {
   "cell_type": "code",
   "execution_count": 10,
   "id": "43698a3a-83c6-4d33-b036-3c59137912fd",
   "metadata": {},
   "outputs": [],
   "source": [
    "BRICS[1] = \"Egito\""
   ]
  },
  {
   "cell_type": "code",
   "execution_count": 11,
   "id": "2c8e7825-1337-46fc-985e-b235224dbf70",
   "metadata": {},
   "outputs": [
    {
     "data": {
      "text/plain": [
       "['Brasil', 'Egito', 'India', 'China', 'Africa do Sul']"
      ]
     },
     "execution_count": 11,
     "metadata": {},
     "output_type": "execute_result"
    }
   ],
   "source": [
    "BRICS"
   ]
  },
  {
   "cell_type": "code",
   "execution_count": 12,
   "id": "1418775c-6965-4c69-bbd2-6ed79a9c2aa2",
   "metadata": {},
   "outputs": [],
   "source": [
    "BRICS.append('Russia')\n"
   ]
  },
  {
   "cell_type": "code",
   "execution_count": 14,
   "id": "4bed3398-920a-4443-b879-d3b037248841",
   "metadata": {},
   "outputs": [
    {
     "data": {
      "text/plain": [
       "['Brasil', 'Egito', 'India', 'China', 'Africa do Sul', 'Russia']"
      ]
     },
     "execution_count": 14,
     "metadata": {},
     "output_type": "execute_result"
    }
   ],
   "source": [
    "BRICS"
   ]
  },
  {
   "cell_type": "code",
   "execution_count": 15,
   "id": "ecacbbee-b79d-4e62-9db7-e64bacae9c16",
   "metadata": {},
   "outputs": [
    {
     "data": {
      "text/plain": [
       "['Brasil', 'Russia', 'Egito', 'India', 'China', 'Africa do Sul', 'Russia']"
      ]
     },
     "execution_count": 15,
     "metadata": {},
     "output_type": "execute_result"
    }
   ],
   "source": [
    "BRICS.insert(1, 'Russia')\n",
    "BRICS"
   ]
  },
  {
   "cell_type": "code",
   "execution_count": 16,
   "id": "b9c8bc9d-10de-4b2f-8162-a2b741581b3d",
   "metadata": {},
   "outputs": [
    {
     "data": {
      "text/plain": [
       "['Brasil', 'Russia', 'Egito', 'India', 'China', 'Africa do Sul', 'Russia']"
      ]
     },
     "execution_count": 16,
     "metadata": {},
     "output_type": "execute_result"
    }
   ],
   "source": [
    "BRICS"
   ]
  },
  {
   "cell_type": "code",
   "execution_count": 17,
   "id": "85e37277-0183-4f50-9f01-4ed3c2fa2d7f",
   "metadata": {},
   "outputs": [],
   "source": [
    "BRICS.remove('India')"
   ]
  },
  {
   "cell_type": "code",
   "execution_count": 18,
   "id": "8047221a-1595-439d-8a2d-a7fed3dc1dfd",
   "metadata": {},
   "outputs": [
    {
     "data": {
      "text/plain": [
       "['Brasil', 'Russia', 'Egito', 'China', 'Africa do Sul', 'Russia']"
      ]
     },
     "execution_count": 18,
     "metadata": {},
     "output_type": "execute_result"
    }
   ],
   "source": [
    "BRICS"
   ]
  },
  {
   "cell_type": "code",
   "execution_count": 19,
   "id": "2062f823-c28f-405e-9288-72b7d4c2c153",
   "metadata": {},
   "outputs": [
    {
     "data": {
      "text/plain": [
       "['Brasil', 'Russia', 'India', 'China', 'Africa do Sul', 'Russia']"
      ]
     },
     "execution_count": 19,
     "metadata": {},
     "output_type": "execute_result"
    }
   ],
   "source": [
    "BRICS = ['Brasil', 'Russia', 'India', 'China', 'Africa do Sul', 'Russia']\n",
    "BRICS"
   ]
  },
  {
   "cell_type": "code",
   "execution_count": 20,
   "id": "4bdd3105-c875-4a32-afac-d37f2e6169f9",
   "metadata": {},
   "outputs": [
    {
     "data": {
      "text/plain": [
       "['Brasil', 'Russia', 'China', 'Africa do Sul', 'Russia']"
      ]
     },
     "execution_count": 20,
     "metadata": {},
     "output_type": "execute_result"
    }
   ],
   "source": [
    "BRICS.pop(2)\n",
    "BRICS"
   ]
  },
  {
   "cell_type": "code",
   "execution_count": 21,
   "id": "ed22edd2-d83a-47e3-a60a-59dbdad98d26",
   "metadata": {},
   "outputs": [
    {
     "data": {
      "text/plain": [
       "['Brasil', 'China', 'Africa do Sul', 'Russia']"
      ]
     },
     "execution_count": 21,
     "metadata": {},
     "output_type": "execute_result"
    }
   ],
   "source": [
    "BRICS.remove('Russia')\n",
    "BRICS"
   ]
  },
  {
   "cell_type": "code",
   "execution_count": 22,
   "id": "dec581fe-f0db-49a0-ab39-015f742ed847",
   "metadata": {},
   "outputs": [
    {
     "data": {
      "text/plain": [
       "'China'"
      ]
     },
     "execution_count": 22,
     "metadata": {},
     "output_type": "execute_result"
    }
   ],
   "source": [
    "BRICS = BRICS[1]\n",
    "BRICS"
   ]
  },
  {
   "cell_type": "code",
   "execution_count": 23,
   "id": "eea7a597-28fc-49e3-88f4-1927dd88fb9c",
   "metadata": {},
   "outputs": [],
   "source": [
    "BRICS= ['Brasil', 'Russia', 'China', 'Africa do Sul', 'Russia']"
   ]
  },
  {
   "cell_type": "code",
   "execution_count": 24,
   "id": "a7defd56-1b81-41ff-9102-6896eaf6ccfb",
   "metadata": {},
   "outputs": [],
   "source": [
    "BRICS.sort()"
   ]
  },
  {
   "cell_type": "code",
   "execution_count": 25,
   "id": "f51d4b87-380b-4e94-a1da-527de3e4611c",
   "metadata": {},
   "outputs": [
    {
     "data": {
      "text/plain": [
       "['Africa do Sul', 'Brasil', 'China', 'Russia', 'Russia']"
      ]
     },
     "execution_count": 25,
     "metadata": {},
     "output_type": "execute_result"
    }
   ],
   "source": [
    "BRICS"
   ]
  },
  {
   "cell_type": "code",
   "execution_count": 26,
   "id": "bfa31b7f-7871-4b3c-8ea0-146a2d846360",
   "metadata": {},
   "outputs": [
    {
     "data": {
      "text/plain": [
       "['Brasil', 'Russia', 'India', 'China', 'Africa do Sul']"
      ]
     },
     "execution_count": 26,
     "metadata": {},
     "output_type": "execute_result"
    }
   ],
   "source": [
    "BRICS = [ 'Brasil', 'Russia', 'India', 'China', 'Africa do Sul']\n",
    "BRICS"
   ]
  },
  {
   "cell_type": "code",
   "execution_count": 29,
   "id": "ed6a3176-f747-46bd-8295-a04245095b00",
   "metadata": {},
   "outputs": [],
   "source": [
    "# Fatiamento"
   ]
  },
  {
   "cell_type": "code",
   "execution_count": 27,
   "id": "9b294d4a-564f-45ab-8082-dcbfa913e072",
   "metadata": {},
   "outputs": [
    {
     "data": {
      "text/plain": [
       "['Brasil', 'Russia', 'India', 'China', 'Africa do Sul']"
      ]
     },
     "execution_count": 27,
     "metadata": {},
     "output_type": "execute_result"
    }
   ],
   "source": [
    "BRICS[:]"
   ]
  },
  {
   "cell_type": "code",
   "execution_count": 28,
   "id": "c66f661f-ee1f-4a82-9fbb-477fd047bdba",
   "metadata": {},
   "outputs": [
    {
     "data": {
      "text/plain": [
       "['Russia', 'India', 'China', 'Africa do Sul']"
      ]
     },
     "execution_count": 28,
     "metadata": {},
     "output_type": "execute_result"
    }
   ],
   "source": [
    "BRICS[-4:]"
   ]
  },
  {
   "cell_type": "code",
   "execution_count": null,
   "id": "8cae8af3-7a38-4d53-acae-4c96eb989f3a",
   "metadata": {},
   "outputs": [],
   "source": [
    "BRICS"
   ]
  },
  {
   "cell_type": "code",
   "execution_count": null,
   "id": "c5a015fa-db60-4002-85c0-9d941ccb01f7",
   "metadata": {},
   "outputs": [],
   "source": [
    "BRICS*2"
   ]
  },
  {
   "cell_type": "code",
   "execution_count": 30,
   "id": "e2c562a9-bf73-4c3e-8f90-3cfbac2b33fe",
   "metadata": {},
   "outputs": [],
   "source": [
    "# Tuplas"
   ]
  },
  {
   "cell_type": "code",
   "execution_count": 32,
   "id": "a5ff5ca4-7cb4-4d59-9106-72a340dec165",
   "metadata": {},
   "outputs": [],
   "source": [
    "tup_BRICS = ('Brasil', 'Russia', 'India', 'China', 'Africa do Sul')\n"
   ]
  },
  {
   "cell_type": "code",
   "execution_count": 33,
   "id": "24415e75-effd-4658-97e6-7df85b768923",
   "metadata": {},
   "outputs": [
    {
     "data": {
      "text/plain": [
       "['__add__',\n",
       " '__class__',\n",
       " '__class_getitem__',\n",
       " '__contains__',\n",
       " '__delattr__',\n",
       " '__dir__',\n",
       " '__doc__',\n",
       " '__eq__',\n",
       " '__format__',\n",
       " '__ge__',\n",
       " '__getattribute__',\n",
       " '__getitem__',\n",
       " '__getnewargs__',\n",
       " '__getstate__',\n",
       " '__gt__',\n",
       " '__hash__',\n",
       " '__init__',\n",
       " '__init_subclass__',\n",
       " '__iter__',\n",
       " '__le__',\n",
       " '__len__',\n",
       " '__lt__',\n",
       " '__mul__',\n",
       " '__ne__',\n",
       " '__new__',\n",
       " '__reduce__',\n",
       " '__reduce_ex__',\n",
       " '__repr__',\n",
       " '__rmul__',\n",
       " '__setattr__',\n",
       " '__sizeof__',\n",
       " '__str__',\n",
       " '__subclasshook__',\n",
       " 'count',\n",
       " 'index']"
      ]
     },
     "execution_count": 33,
     "metadata": {},
     "output_type": "execute_result"
    }
   ],
   "source": [
    "dir(tup_BRICS)"
   ]
  },
  {
   "cell_type": "code",
   "execution_count": 34,
   "id": "beccdbac-4e31-4256-ae5c-cc15d0be6d67",
   "metadata": {},
   "outputs": [
    {
     "data": {
      "text/plain": [
       "5"
      ]
     },
     "execution_count": 34,
     "metadata": {},
     "output_type": "execute_result"
    }
   ],
   "source": [
    "len(tup_BRICS)"
   ]
  },
  {
   "cell_type": "code",
   "execution_count": 35,
   "id": "6a543449-7363-48a8-946b-65370a37f620",
   "metadata": {},
   "outputs": [
    {
     "ename": "TypeError",
     "evalue": "'tuple' object does not support item assignment",
     "output_type": "error",
     "traceback": [
      "\u001b[1;31m---------------------------------------------------------------------------\u001b[0m",
      "\u001b[1;31mTypeError\u001b[0m                                 Traceback (most recent call last)",
      "Cell \u001b[1;32mIn[35], line 1\u001b[0m\n\u001b[1;32m----> 1\u001b[0m \u001b[43mtup_BRICS\u001b[49m\u001b[43m[\u001b[49m\u001b[38;5;241;43m0\u001b[39;49m\u001b[43m]\u001b[49m\u001b[38;5;241m=\u001b[39m \u001b[38;5;124m'\u001b[39m\u001b[38;5;124mEgito\u001b[39m\u001b[38;5;124m'\u001b[39m\n",
      "\u001b[1;31mTypeError\u001b[0m: 'tuple' object does not support item assignment"
     ]
    }
   ],
   "source": [
    "tup_BRICS[0]= 'Egito'"
   ]
  },
  {
   "cell_type": "code",
   "execution_count": 36,
   "id": "9daa7436-4a6d-4395-a018-86779df2e214",
   "metadata": {},
   "outputs": [],
   "source": [
    "tup_BRICS = (('Brasil', 'Russia', 'India', 'China', 'Africa do Sul'),\n",
    " ('Arabia Saudita', 'Egito', 'Argentina', 'Irã'))"
   ]
  },
  {
   "cell_type": "code",
   "execution_count": 37,
   "id": "c07ed4ca-7641-489f-9fd4-d03fffb44a23",
   "metadata": {},
   "outputs": [
    {
     "data": {
      "text/plain": [
       "2"
      ]
     },
     "execution_count": 37,
     "metadata": {},
     "output_type": "execute_result"
    }
   ],
   "source": [
    "len(tup_BRICS)"
   ]
  },
  {
   "cell_type": "code",
   "execution_count": 38,
   "id": "5e731543-28b0-4eee-b2e4-165da3541bc3",
   "metadata": {},
   "outputs": [
    {
     "data": {
      "text/plain": [
       "'Brasil'"
      ]
     },
     "execution_count": 38,
     "metadata": {},
     "output_type": "execute_result"
    }
   ],
   "source": [
    "tup_BRICS[0][0]"
   ]
  },
  {
   "cell_type": "code",
   "execution_count": 39,
   "id": "e3409523-6987-490a-902c-656ab2484a3a",
   "metadata": {},
   "outputs": [],
   "source": [
    "tupla = ('a', 'b') "
   ]
  },
  {
   "cell_type": "code",
   "execution_count": 40,
   "id": "03f6a4bb-8d05-4851-b567-87d635978de0",
   "metadata": {},
   "outputs": [
    {
     "ename": "TypeError",
     "evalue": "'tuple' object does not support item assignment",
     "output_type": "error",
     "traceback": [
      "\u001b[1;31m---------------------------------------------------------------------------\u001b[0m",
      "\u001b[1;31mTypeError\u001b[0m                                 Traceback (most recent call last)",
      "Cell \u001b[1;32mIn[40], line 1\u001b[0m\n\u001b[1;32m----> 1\u001b[0m \u001b[43mtupla\u001b[49m\u001b[43m[\u001b[49m\u001b[38;5;241;43m1\u001b[39;49m\u001b[43m]\u001b[49m\u001b[38;5;241m=\u001b[39m \u001b[38;5;124m'\u001b[39m\u001b[38;5;124mc\u001b[39m\u001b[38;5;124m'\u001b[39m\n",
      "\u001b[1;31mTypeError\u001b[0m: 'tuple' object does not support item assignment"
     ]
    }
   ],
   "source": [
    "tupla[1]= 'c'"
   ]
  },
  {
   "cell_type": "code",
   "execution_count": 41,
   "id": "c7e8f463-251f-46aa-8c52-90fae02088ae",
   "metadata": {},
   "outputs": [],
   "source": [
    "(a, b, c) = 4, 5, (6, 7)\n"
   ]
  },
  {
   "cell_type": "code",
   "execution_count": 42,
   "id": "3af0e837-85bd-49f5-9462-ff16d6d23f9c",
   "metadata": {},
   "outputs": [
    {
     "data": {
      "text/plain": [
       "4"
      ]
     },
     "execution_count": 42,
     "metadata": {},
     "output_type": "execute_result"
    }
   ],
   "source": [
    "a"
   ]
  },
  {
   "cell_type": "code",
   "execution_count": 43,
   "id": "470582fa-e124-41b9-9d1e-fcf2d7aab75c",
   "metadata": {},
   "outputs": [
    {
     "data": {
      "text/plain": [
       "(6, 7)"
      ]
     },
     "execution_count": 43,
     "metadata": {},
     "output_type": "execute_result"
    }
   ],
   "source": [
    "c"
   ]
  },
  {
   "cell_type": "code",
   "execution_count": 44,
   "id": "9397f6b0-0be6-4713-a070-d309731067a7",
   "metadata": {},
   "outputs": [
    {
     "data": {
      "text/plain": [
       "5"
      ]
     },
     "execution_count": 44,
     "metadata": {},
     "output_type": "execute_result"
    }
   ],
   "source": [
    "b"
   ]
  },
  {
   "cell_type": "code",
   "execution_count": 45,
   "id": "18be61b8-872f-4981-97ac-fd9eae1c4e36",
   "metadata": {},
   "outputs": [],
   "source": [
    "a=5"
   ]
  },
  {
   "cell_type": "code",
   "execution_count": 46,
   "id": "65f5dbd2-b5cd-4b55-b909-5bb920fbfe4f",
   "metadata": {},
   "outputs": [],
   "source": [
    "def max_min(lista):\n",
    "    return max(lista), min(lista)"
   ]
  },
  {
   "cell_type": "code",
   "execution_count": 47,
   "id": "5bfd32f8-2a30-449c-9b1e-36c3264ae88c",
   "metadata": {},
   "outputs": [],
   "source": [
    "(maximo, minimo) = max_min((-1,0,1,2,3,4,5))\n"
   ]
  },
  {
   "cell_type": "code",
   "execution_count": 48,
   "id": "3f897a52-5d0c-44c5-bc84-4f35f2b54e9f",
   "metadata": {},
   "outputs": [
    {
     "data": {
      "text/plain": [
       "5"
      ]
     },
     "execution_count": 48,
     "metadata": {},
     "output_type": "execute_result"
    }
   ],
   "source": [
    "maximo"
   ]
  },
  {
   "cell_type": "code",
   "execution_count": 49,
   "id": "b0aa8dd1-b4d6-419b-951c-b575079ca8e2",
   "metadata": {},
   "outputs": [
    {
     "data": {
      "text/plain": [
       "-1"
      ]
     },
     "execution_count": 49,
     "metadata": {},
     "output_type": "execute_result"
    }
   ],
   "source": [
    "minimo"
   ]
  },
  {
   "cell_type": "code",
   "execution_count": 50,
   "id": "3408973e-e772-4788-80ca-a797756b4d09",
   "metadata": {},
   "outputs": [],
   "source": [
    "(a, b, c) = 4, 5, (6, 7)\n"
   ]
  },
  {
   "cell_type": "code",
   "execution_count": 51,
   "id": "05350db2-5bf1-4f23-9779-22f8acd3db4c",
   "metadata": {},
   "outputs": [
    {
     "data": {
      "text/plain": [
       "4"
      ]
     },
     "execution_count": 51,
     "metadata": {},
     "output_type": "execute_result"
    }
   ],
   "source": [
    "a"
   ]
  },
  {
   "cell_type": "code",
   "execution_count": 52,
   "id": "14b5359f-2346-424f-95bb-15b696e49fa7",
   "metadata": {},
   "outputs": [
    {
     "data": {
      "text/plain": [
       "5"
      ]
     },
     "execution_count": 52,
     "metadata": {},
     "output_type": "execute_result"
    }
   ],
   "source": [
    "b"
   ]
  },
  {
   "cell_type": "code",
   "execution_count": 53,
   "id": "ad61b41d-3084-4a1b-86c5-469cf9f199d0",
   "metadata": {},
   "outputs": [
    {
     "data": {
      "text/plain": [
       "(6, 7)"
      ]
     },
     "execution_count": 53,
     "metadata": {},
     "output_type": "execute_result"
    }
   ],
   "source": [
    "c"
   ]
  },
  {
   "cell_type": "code",
   "execution_count": 54,
   "id": "6fe35bd2-4c53-47a7-aff7-9efdef65c92d",
   "metadata": {},
   "outputs": [],
   "source": [
    "# Dicionários"
   ]
  },
  {
   "cell_type": "code",
   "execution_count": 55,
   "id": "9c21634d-1b84-4877-9ca7-934e01029e41",
   "metadata": {},
   "outputs": [],
   "source": [
    "populacao = {10: 38.25, 'Brasil': 214.3}"
   ]
  },
  {
   "cell_type": "code",
   "execution_count": 56,
   "id": "6e5aa938-ceb4-424b-a10c-3b37d76a32d3",
   "metadata": {},
   "outputs": [
    {
     "data": {
      "text/plain": [
       "{10: 38.25, 'Brasil': 214.3}"
      ]
     },
     "execution_count": 56,
     "metadata": {},
     "output_type": "execute_result"
    }
   ],
   "source": [
    "populacao"
   ]
  },
  {
   "cell_type": "code",
   "execution_count": 57,
   "id": "d190ea36-628c-423b-ace1-4c0e5c9530f2",
   "metadata": {},
   "outputs": [
    {
     "data": {
      "text/plain": [
       "2"
      ]
     },
     "execution_count": 57,
     "metadata": {},
     "output_type": "execute_result"
    }
   ],
   "source": [
    "len(populacao)"
   ]
  },
  {
   "cell_type": "code",
   "execution_count": 58,
   "id": "6b2e10e2-8f72-48ab-9c36-d35e3305cf40",
   "metadata": {},
   "outputs": [
    {
     "ename": "KeyError",
     "evalue": "'Canada'",
     "output_type": "error",
     "traceback": [
      "\u001b[1;31m---------------------------------------------------------------------------\u001b[0m",
      "\u001b[1;31mKeyError\u001b[0m                                  Traceback (most recent call last)",
      "Cell \u001b[1;32mIn[58], line 1\u001b[0m\n\u001b[1;32m----> 1\u001b[0m \u001b[43mpopulacao\u001b[49m\u001b[43m[\u001b[49m\u001b[38;5;124;43m'\u001b[39;49m\u001b[38;5;124;43mCanada\u001b[39;49m\u001b[38;5;124;43m'\u001b[39;49m\u001b[43m]\u001b[49m\n",
      "\u001b[1;31mKeyError\u001b[0m: 'Canada'"
     ]
    }
   ],
   "source": [
    "populacao['Canada']"
   ]
  },
  {
   "cell_type": "code",
   "execution_count": 59,
   "id": "13156316-40e7-4318-b091-01b5d5e38994",
   "metadata": {},
   "outputs": [
    {
     "data": {
      "text/plain": [
       "'não encontramos!'"
      ]
     },
     "execution_count": 59,
     "metadata": {},
     "output_type": "execute_result"
    }
   ],
   "source": [
    "populacao.get('Japao', 'não encontramos!')\n"
   ]
  },
  {
   "cell_type": "code",
   "execution_count": 60,
   "id": "838def88-07aa-404b-982f-bf64e67f12f1",
   "metadata": {},
   "outputs": [
    {
     "data": {
      "text/plain": [
       "{10: 38.25, 'Brasil': 214.3}"
      ]
     },
     "execution_count": 60,
     "metadata": {},
     "output_type": "execute_result"
    }
   ],
   "source": [
    "populacao"
   ]
  },
  {
   "cell_type": "code",
   "execution_count": 61,
   "id": "bc514c01-8b34-409b-a31e-4956825d8731",
   "metadata": {},
   "outputs": [
    {
     "data": {
      "text/plain": [
       "{10: 38.25, 'Brasil': 264.3}"
      ]
     },
     "execution_count": 61,
     "metadata": {},
     "output_type": "execute_result"
    }
   ],
   "source": [
    "populacao['Brasil'] +=50\n",
    "populacao"
   ]
  },
  {
   "cell_type": "code",
   "execution_count": 62,
   "id": "692f5fe1-45f2-4a85-9eca-8040cc13a55e",
   "metadata": {},
   "outputs": [
    {
     "data": {
      "text/plain": [
       "{10: 38.25, 'Brasil': 264.3, 'EUA': '331.9 milhões', 'pais': 'qualquer valor'}"
      ]
     },
     "execution_count": 62,
     "metadata": {},
     "output_type": "execute_result"
    }
   ],
   "source": [
    "populacao['EUA'] = '331.9 milhões'\n",
    "populacao['pais'] = 'qualquer valor'\n",
    "populacao"
   ]
  },
  {
   "cell_type": "code",
   "execution_count": 63,
   "id": "3a84d6c8-21df-4afa-a41c-51521ad9121c",
   "metadata": {},
   "outputs": [
    {
     "data": {
      "text/plain": [
       "'331.9 milhões'"
      ]
     },
     "execution_count": 63,
     "metadata": {},
     "output_type": "execute_result"
    }
   ],
   "source": [
    "populacao['EUA']"
   ]
  },
  {
   "cell_type": "code",
   "execution_count": 64,
   "id": "4660ee13-541c-4dce-8716-aeb5867122d1",
   "metadata": {},
   "outputs": [
    {
     "data": {
      "text/plain": [
       "{10: 38.25, 'Brasil': 264.3, 'EUA': '331.9 milhões'}"
      ]
     },
     "execution_count": 64,
     "metadata": {},
     "output_type": "execute_result"
    }
   ],
   "source": [
    "del populacao['pais']\n",
    "populacao"
   ]
  },
  {
   "cell_type": "code",
   "execution_count": 65,
   "id": "2b69355f-8852-44ed-ad4d-0aa4a986f1c1",
   "metadata": {},
   "outputs": [
    {
     "data": {
      "text/plain": [
       "{10: 38.25, 'Brasil': 264.3, 'EUA': '331.9 milhões'}"
      ]
     },
     "execution_count": 65,
     "metadata": {},
     "output_type": "execute_result"
    }
   ],
   "source": [
    "populacao"
   ]
  },
  {
   "cell_type": "code",
   "execution_count": 66,
   "id": "f267113a-dba0-407a-88d7-59b068474888",
   "metadata": {},
   "outputs": [
    {
     "data": {
      "text/plain": [
       "264.3"
      ]
     },
     "execution_count": 66,
     "metadata": {},
     "output_type": "execute_result"
    }
   ],
   "source": [
    "populacao['Brasil']"
   ]
  },
  {
   "cell_type": "code",
   "execution_count": 67,
   "id": "891d3074-2ed5-4318-9551-7ab6822c07c9",
   "metadata": {},
   "outputs": [
    {
     "data": {
      "text/plain": [
       "False"
      ]
     },
     "execution_count": 67,
     "metadata": {},
     "output_type": "execute_result"
    }
   ],
   "source": [
    "214.3 in populacao"
   ]
  },
  {
   "cell_type": "code",
   "execution_count": 69,
   "id": "2711a03f-8aaa-488e-82dc-c93312081b2d",
   "metadata": {},
   "outputs": [],
   "source": [
    "# maior complexidade no dicionário"
   ]
  },
  {
   "cell_type": "code",
   "execution_count": 68,
   "id": "62fdc9db-911a-4456-97f0-69fc36fabfd8",
   "metadata": {},
   "outputs": [
    {
     "data": {
      "text/plain": [
       "{'Brasil': {'populacao': '214.3 milhões', 'lingua': 'portugues'},\n",
       " 'Canada': {'populacao': '38.25 milhões', 'lingua': 'ingles'}}"
      ]
     },
     "execution_count": 68,
     "metadata": {},
     "output_type": "execute_result"
    }
   ],
   "source": [
    "paises = {\n",
    "    'Brasil':{\n",
    "        'populacao':'214.3 milhões',\n",
    "        'lingua': 'portugues'\n",
    "        },\n",
    "    'Canada': {\n",
    "        'populacao':'38.25 milhões',\n",
    "        'lingua':'ingles'\n",
    "        }\n",
    "}\n",
    "paises"
   ]
  },
  {
   "cell_type": "code",
   "execution_count": 70,
   "id": "d6516c73-48f9-4e19-a903-5cddc206de69",
   "metadata": {},
   "outputs": [
    {
     "data": {
      "text/plain": [
       "'portugues'"
      ]
     },
     "execution_count": 70,
     "metadata": {},
     "output_type": "execute_result"
    }
   ],
   "source": [
    "paises['Brasil']['lingua']"
   ]
  },
  {
   "cell_type": "code",
   "execution_count": 71,
   "id": "370895b4-704b-4cde-a930-377c993f87fb",
   "metadata": {},
   "outputs": [
    {
     "data": {
      "text/plain": [
       "['__class__',\n",
       " '__class_getitem__',\n",
       " '__contains__',\n",
       " '__delattr__',\n",
       " '__delitem__',\n",
       " '__dir__',\n",
       " '__doc__',\n",
       " '__eq__',\n",
       " '__format__',\n",
       " '__ge__',\n",
       " '__getattribute__',\n",
       " '__getitem__',\n",
       " '__getstate__',\n",
       " '__gt__',\n",
       " '__hash__',\n",
       " '__init__',\n",
       " '__init_subclass__',\n",
       " '__ior__',\n",
       " '__iter__',\n",
       " '__le__',\n",
       " '__len__',\n",
       " '__lt__',\n",
       " '__ne__',\n",
       " '__new__',\n",
       " '__or__',\n",
       " '__reduce__',\n",
       " '__reduce_ex__',\n",
       " '__repr__',\n",
       " '__reversed__',\n",
       " '__ror__',\n",
       " '__setattr__',\n",
       " '__setitem__',\n",
       " '__sizeof__',\n",
       " '__str__',\n",
       " '__subclasshook__',\n",
       " 'clear',\n",
       " 'copy',\n",
       " 'fromkeys',\n",
       " 'get',\n",
       " 'items',\n",
       " 'keys',\n",
       " 'pop',\n",
       " 'popitem',\n",
       " 'setdefault',\n",
       " 'update',\n",
       " 'values']"
      ]
     },
     "execution_count": 71,
     "metadata": {},
     "output_type": "execute_result"
    }
   ],
   "source": [
    "dir(paises)"
   ]
  },
  {
   "cell_type": "code",
   "execution_count": 72,
   "id": "d639a44f-9055-48c2-bd52-e7456c06ee06",
   "metadata": {},
   "outputs": [
    {
     "data": {
      "text/plain": [
       "{'Brasil': {'populacao': '214.3 milhões', 'lingua': 'portugues'},\n",
       " 'Canada': {'populacao': '38.25 milhões', 'lingua': ['ingles', 'frances']}}"
      ]
     },
     "execution_count": 72,
     "metadata": {},
     "output_type": "execute_result"
    }
   ],
   "source": [
    "paises = {\n",
    "    'Brasil':{\n",
    "        'populacao':'214.3 milhões',\n",
    "        'lingua': 'portugues'\n",
    "        },\n",
    "    'Canada': {\n",
    "        'populacao':'38.25 milhões',\n",
    "        'lingua': ['ingles', 'frances']\n",
    "        }\n",
    "}\n",
    "paises"
   ]
  },
  {
   "cell_type": "code",
   "execution_count": 73,
   "id": "41970785-2ca7-47ea-8ebc-f4701b6f4d4a",
   "metadata": {},
   "outputs": [
    {
     "data": {
      "text/plain": [
       "'ingles'"
      ]
     },
     "execution_count": 73,
     "metadata": {},
     "output_type": "execute_result"
    }
   ],
   "source": [
    "paises['Canada']['lingua'][0]"
   ]
  },
  {
   "cell_type": "code",
   "execution_count": null,
   "id": "e380e3ac-0a8e-4096-9e68-e462d485ae22",
   "metadata": {},
   "outputs": [],
   "source": [
    "# CONJUNTOS"
   ]
  },
  {
   "cell_type": "code",
   "execution_count": 76,
   "id": "f328062d-022a-47ba-b8d3-c47e3d7d34f0",
   "metadata": {},
   "outputs": [],
   "source": [
    "# Não podemos criar assim pois seria um dicionário vazio\n",
    "a = { }"
   ]
  },
  {
   "cell_type": "code",
   "execution_count": 77,
   "id": "b8189b0a-8437-4702-9ed1-babe0313bdbe",
   "metadata": {},
   "outputs": [
    {
     "data": {
      "text/plain": [
       "dict"
      ]
     },
     "execution_count": 77,
     "metadata": {},
     "output_type": "execute_result"
    }
   ],
   "source": [
    "type(a)"
   ]
  },
  {
   "cell_type": "code",
   "execution_count": 78,
   "id": "51ecd801-4883-415c-a092-4d62386af63e",
   "metadata": {},
   "outputs": [
    {
     "data": {
      "text/plain": [
       "set"
      ]
     },
     "execution_count": 78,
     "metadata": {},
     "output_type": "execute_result"
    }
   ],
   "source": [
    "#conjunto vazio\n",
    "b = set()\n",
    "type(b)"
   ]
  },
  {
   "cell_type": "code",
   "execution_count": 79,
   "id": "7cab8c7a-55af-47f0-ad21-39d46aeeac09",
   "metadata": {},
   "outputs": [
    {
     "data": {
      "text/plain": [
       "set"
      ]
     },
     "execution_count": 79,
     "metadata": {},
     "output_type": "execute_result"
    }
   ],
   "source": [
    "s1 = {'Brasil', 'Russia', 'India', 'China', 'Africa do Sul'}\n",
    "type(s1)"
   ]
  },
  {
   "cell_type": "code",
   "execution_count": 80,
   "id": "1674cade-aac7-428d-b942-3183ae91e070",
   "metadata": {},
   "outputs": [
    {
     "data": {
      "text/plain": [
       "{1, 2, 3, 4, 5}"
      ]
     },
     "execution_count": 80,
     "metadata": {},
     "output_type": "execute_result"
    }
   ],
   "source": [
    "a = {1, 2, 3, 4, 5, 5}\n",
    "a"
   ]
  },
  {
   "cell_type": "code",
   "execution_count": 84,
   "id": "cc2a5411-7360-496f-961f-b5841de42cdd",
   "metadata": {},
   "outputs": [],
   "source": [
    "# Conjuntos aceitam outros tipos de dados\n",
    "a = {'a', '2'}\n",
    "b = {'c'}"
   ]
  },
  {
   "cell_type": "code",
   "execution_count": 85,
   "id": "43f26e37-e1b7-4820-92e0-b6e8aaae09a8",
   "metadata": {},
   "outputs": [
    {
     "data": {
      "text/plain": [
       "{'2', 'a', 'c'}"
      ]
     },
     "execution_count": 85,
     "metadata": {},
     "output_type": "execute_result"
    }
   ],
   "source": [
    "a.union(b)\n"
   ]
  },
  {
   "cell_type": "code",
   "execution_count": 86,
   "id": "692eeadc-d1a2-48b2-bc82-eef70a2c6b45",
   "metadata": {},
   "outputs": [],
   "source": [
    "populacao = { \"a\": 100} #dicionario"
   ]
  },
  {
   "cell_type": "code",
   "execution_count": 87,
   "id": "8ed25d01-7803-430d-bcbf-3d7347b58844",
   "metadata": {},
   "outputs": [
    {
     "name": "stdout",
     "output_type": "stream",
     "text": [
      "1 Brasil\n",
      "2 Russia\n",
      "3 India\n",
      "4 China\n",
      "5 Africa do Sul\n"
     ]
    }
   ],
   "source": [
    "#encoding\n",
    "\n",
    "lista = ['Brasil', 'Russia', 'India', 'China', 'Africa do Sul']\n",
    "for index, i in enumerate(lista):\n",
    "    print(index+1, i)"
   ]
  },
  {
   "cell_type": "code",
   "execution_count": 88,
   "id": "4cc32821-7b45-4f43-a0e9-b5b2aa9d76e9",
   "metadata": {},
   "outputs": [
    {
     "name": "stdout",
     "output_type": "stream",
     "text": [
      "0 10\n",
      "1 20\n",
      "2 30\n",
      "3 40\n"
     ]
    }
   ],
   "source": [
    "for index, value in enumerate((10,20,30,40)):\n",
    "    print(index, value)"
   ]
  },
  {
   "cell_type": "code",
   "execution_count": 89,
   "id": "45cec4d2-0c16-4bdc-a545-49078df3079d",
   "metadata": {},
   "outputs": [],
   "source": [
    "tupla= (7, 1, 2, 6, 0, 3, 2)\n"
   ]
  },
  {
   "cell_type": "code",
   "execution_count": 90,
   "id": "9b54a447-efcf-4fff-ab5e-0821989cd126",
   "metadata": {},
   "outputs": [
    {
     "data": {
      "text/plain": [
       "[0, 1, 2, 2, 3, 6, 7]"
      ]
     },
     "execution_count": 90,
     "metadata": {},
     "output_type": "execute_result"
    }
   ],
   "source": [
    "# sorted X .sort()\n",
    "sorted(tupla)\n"
   ]
  },
  {
   "cell_type": "code",
   "execution_count": 91,
   "id": "049aba32-d7d7-4cb8-96df-b1b04edc352a",
   "metadata": {},
   "outputs": [
    {
     "data": {
      "text/plain": [
       "(7, 1, 2, 6, 0, 3, 2)"
      ]
     },
     "execution_count": 91,
     "metadata": {},
     "output_type": "execute_result"
    }
   ],
   "source": [
    "tupla"
   ]
  },
  {
   "cell_type": "code",
   "execution_count": 92,
   "id": "c32f511e-15fe-49a9-947a-2a7e833690be",
   "metadata": {},
   "outputs": [],
   "source": [
    "variavel = \"a\""
   ]
  },
  {
   "cell_type": "code",
   "execution_count": 93,
   "id": "8d7b3c95-bb19-4de3-a05f-42ddf49390d0",
   "metadata": {},
   "outputs": [
    {
     "data": {
      "text/plain": [
       "'A'"
      ]
     },
     "execution_count": 93,
     "metadata": {},
     "output_type": "execute_result"
    }
   ],
   "source": [
    "variavel.upper()"
   ]
  },
  {
   "cell_type": "code",
   "execution_count": 95,
   "id": "15e8bdae-6931-4091-9bd9-f67815bcffa5",
   "metadata": {},
   "outputs": [],
   "source": [
    "#Reversed"
   ]
  },
  {
   "cell_type": "code",
   "execution_count": 99,
   "id": "146de167-3897-4269-ad6f-e3e7fc3929ad",
   "metadata": {},
   "outputs": [
    {
     "name": "stdout",
     "output_type": "stream",
     "text": [
      "s\n",
      "i\n",
      "a\n",
      "h\n",
      "t\n"
     ]
    }
   ],
   "source": [
    "for c in reversed('thais'):\n",
    "    print(c)"
   ]
  },
  {
   "cell_type": "code",
   "execution_count": 100,
   "id": "dfc9aa08-604f-4825-bd2c-6cfb87132c39",
   "metadata": {},
   "outputs": [
    {
     "name": "stdout",
     "output_type": "stream",
     "text": [
      "siaht"
     ]
    }
   ],
   "source": [
    "# uso do end\n",
    "for c in reversed('thais'):\n",
    "    print(c, end='')"
   ]
  },
  {
   "cell_type": "code",
   "execution_count": 101,
   "id": "8f656b0a-81c8-4889-ac5c-7ca9ad522e9c",
   "metadata": {},
   "outputs": [
    {
     "name": "stdout",
     "output_type": "stream",
     "text": [
      "0 1 2 2 3 6 7 "
     ]
    }
   ],
   "source": [
    "lista = [0, 1, 2, 2, 3, 6, 7]\n",
    "for i in lista:\n",
    "    print (i, end=' ')"
   ]
  },
  {
   "cell_type": "code",
   "execution_count": 103,
   "id": "c9bfdfdb-5cd9-4f9e-80ca-473b9f5d3b07",
   "metadata": {},
   "outputs": [],
   "source": [
    "# Funções"
   ]
  },
  {
   "cell_type": "code",
   "execution_count": 104,
   "id": "d86daa58-391a-4cab-a182-95781f422586",
   "metadata": {},
   "outputs": [],
   "source": [
    "def soma_valores(x, y):\n",
    "    return x + y"
   ]
  },
  {
   "cell_type": "code",
   "execution_count": 105,
   "id": "72e41953-c1ef-4c1b-9bcd-291841be22b1",
   "metadata": {},
   "outputs": [
    {
     "data": {
      "text/plain": [
       "5"
      ]
     },
     "execution_count": 105,
     "metadata": {},
     "output_type": "execute_result"
    }
   ],
   "source": [
    "soma_valores(2,3)"
   ]
  },
  {
   "cell_type": "code",
   "execution_count": 107,
   "id": "dc4c315c-6a62-4c2a-8f4b-fcf8d9dac319",
   "metadata": {},
   "outputs": [],
   "source": [
    "# função do calculo_imc\n",
    "def calculo_imc(peso,altura=1.7):\n",
    "    imc= peso/(altura*altura)\n",
    "    return imc"
   ]
  },
  {
   "cell_type": "code",
   "execution_count": 108,
   "id": "26dc86c6-d7ef-4acd-8fb4-b6ce75ae824b",
   "metadata": {},
   "outputs": [
    {
     "data": {
      "text/plain": [
       "15.235457063711912"
      ]
     },
     "execution_count": 108,
     "metadata": {},
     "output_type": "execute_result"
    }
   ],
   "source": [
    "calculo_imc(55,1.9)"
   ]
  },
  {
   "cell_type": "code",
   "execution_count": null,
   "id": "8390821d-c73c-4b10-8051-a9b62601b6a0",
   "metadata": {},
   "outputs": [],
   "source": [
    "# Escopo Global X Local\n",
    "# cuidado com o uso do escopo global "
   ]
  },
  {
   "cell_type": "code",
   "execution_count": 109,
   "id": "0d427c14-5c9f-4f7a-8b59-e352cc2c3733",
   "metadata": {},
   "outputs": [
    {
     "name": "stdout",
     "output_type": "stream",
     "text": [
      "[4, 5, 6, 7, 8, 9]\n"
     ]
    }
   ],
   "source": [
    "# escopo local\n",
    "a = [1, 2, 3]\n",
    "\n",
    "def func():\n",
    "    a = [4, 5, 6]\n",
    "    a.extend([7,8,9])\n",
    "    print(a)\n",
    "    \n",
    "func()"
   ]
  },
  {
   "cell_type": "code",
   "execution_count": 110,
   "id": "57023379-033f-4174-acc5-6bceb0a9afca",
   "metadata": {},
   "outputs": [
    {
     "data": {
      "text/plain": [
       "[1, 2, 3]"
      ]
     },
     "execution_count": 110,
     "metadata": {},
     "output_type": "execute_result"
    }
   ],
   "source": [
    "a"
   ]
  },
  {
   "cell_type": "code",
   "execution_count": 111,
   "id": "38e5e61d-b1a9-4091-8744-165d68a08bd3",
   "metadata": {},
   "outputs": [
    {
     "name": "stdout",
     "output_type": "stream",
     "text": [
      "[4, 5, 6, 7, 8, 9]\n"
     ]
    }
   ],
   "source": [
    "# escopo global\n",
    "a = [1, 2, 3]\n",
    "\n",
    "def func():\n",
    "    global a\n",
    "    a = [4, 5, 6]\n",
    "    a.extend([7,8,9])\n",
    "    print(a)\n",
    "    \n",
    "func()"
   ]
  },
  {
   "cell_type": "code",
   "execution_count": 112,
   "id": "67c53e16-9351-4c4f-8578-e3861118fee0",
   "metadata": {},
   "outputs": [
    {
     "data": {
      "text/plain": [
       "[4, 5, 6, 7, 8, 9]"
      ]
     },
     "execution_count": 112,
     "metadata": {},
     "output_type": "execute_result"
    }
   ],
   "source": [
    "a"
   ]
  },
  {
   "cell_type": "code",
   "execution_count": null,
   "id": "8407a94d-d7df-4bf9-8c76-59d54e47eccb",
   "metadata": {},
   "outputs": [],
   "source": []
  }
 ],
 "metadata": {
  "kernelspec": {
   "display_name": "Python 3 (ipykernel)",
   "language": "python",
   "name": "python3"
  },
  "language_info": {
   "codemirror_mode": {
    "name": "ipython",
    "version": 3
   },
   "file_extension": ".py",
   "mimetype": "text/x-python",
   "name": "python",
   "nbconvert_exporter": "python",
   "pygments_lexer": "ipython3",
   "version": "3.11.5"
  }
 },
 "nbformat": 4,
 "nbformat_minor": 5
}
