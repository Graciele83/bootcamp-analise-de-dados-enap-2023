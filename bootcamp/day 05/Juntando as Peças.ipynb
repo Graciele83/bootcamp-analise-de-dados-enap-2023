{
 "cells": [
  {
   "cell_type": "markdown",
   "id": "3232bfff-9aeb-4256-ab92-07e6692b11d0",
   "metadata": {
    "slideshow": {
     "slide_type": "slide"
    },
    "tags": []
   },
   "source": [
    "# Juntando as Peças 🧩"
   ]
  },
  {
   "cell_type": "markdown",
   "id": "48da4c41-ba67-4928-9383-0390fb3a6539",
   "metadata": {
    "slideshow": {
     "slide_type": "subslide"
    }
   },
   "source": [
    "## Raspagem de Dados ✂️"
   ]
  },
  {
   "cell_type": "markdown",
   "id": "26bc19b5-1920-4f51-9a85-dc8cfb637357",
   "metadata": {},
   "source": [
    "### Características dos Estados"
   ]
  },
  {
   "cell_type": "markdown",
   "id": "6ab8b42a-eaa3-42ec-9af7-dde60adbfa0b",
   "metadata": {},
   "source": [
    "<pre>Vamos baixar os dados das características dos estados para o nosso sistema de arquivos... nós os utilizaremos no decorrer das aulas!</pre>"
   ]
  },
  {
   "cell_type": "markdown",
   "id": "224d0cc5-f337-41b6-aa9d-c35b2d1aed63",
   "metadata": {},
   "source": [
    "👉 dados de <a href='https://www.ibge.gov.br/cidades-e-estados/'>características dos estados brasileiros</a>"
   ]
  },
  {
   "cell_type": "markdown",
   "id": "a367af93-d4af-4cab-964d-033d29382c27",
   "metadata": {
    "slideshow": {
     "slide_type": "skip"
    }
   },
   "source": [
    "#### Funções Auxiliares"
   ]
  },
  {
   "cell_type": "code",
   "execution_count": 1,
   "id": "df6f6c20-6622-437e-98bf-eb48dbaa7f02",
   "metadata": {
    "slideshow": {
     "slide_type": "-"
    }
   },
   "outputs": [],
   "source": [
    "import os, json, requests\n",
    "from bs4 import BeautifulSoup\n",
    "import requests, urllib3, ssl\n",
    "\n",
    "def build_path(subfolder = 'raw'):\n",
    "    folderpath = os.path.join(os.getcwd(), os.pardir, \n",
    "                              'project', 'data', subfolder)\n",
    "    folderpath = os.path.abspath(folderpath)\n",
    "    if not os.path.exists(folderpath): os.makedirs(folderpath)\n",
    "    return folderpath\n",
    "\n",
    "\"\"\"\n",
    "workaround para contornar a exceção: \\\n",
    "    SSLError: [SSL: UNSAFE_LEGACY_RENEGOTIATION_DISABLED] \\\n",
    "    unsafe legacy renegotiation disabled (_ssl.c:997)\n",
    "\n",
    "é possível considerando que estamos tratando apenas de dados públicos\n",
    "\"\"\"\n",
    "\n",
    "class CustomHttpAdapter (requests.adapters.HTTPAdapter):\n",
    "    def __init__(self, ssl_context=None, **kwargs):\n",
    "        self.ssl_context = ssl_context\n",
    "        super().__init__(**kwargs)\n",
    "    def init_poolmanager(self, connections, maxsize, block=False):\n",
    "        self.poolmanager = urllib3.poolmanager.PoolManager(\n",
    "            num_pools=connections, maxsize=maxsize,\n",
    "            block=block, ssl_context=self.ssl_context)\n",
    "\n",
    "def get_legacy_session():\n",
    "    ctx = ssl.create_default_context(ssl.Purpose.SERVER_AUTH)\n",
    "    ctx.options |= 0x4  # OP_LEGACY_SERVER_CONNECT\n",
    "    session = requests.session()\n",
    "    session.mount('https://', CustomHttpAdapter(ctx))\n",
    "    return session\n",
    "\n",
    "def scrape_from_internet(url, lower_state):\n",
    "    URL_STATE = f'{url}/{lower_state}.html'\n",
    "    try:\n",
    "        response = requests.get(f'{URL_STATE}')\n",
    "    except requests.exceptions.SSLError:\n",
    "        response = get_legacy_session().get(f'{URL_STATE}')\n",
    "    return response.content\n",
    "\n",
    "def html_indicators(content):\n",
    "    indicators_soup = BeautifulSoup(content, 'html.parser')\n",
    "    all_indicators = indicators_soup.find_all('div', \n",
    "                                              class_='indicador')\n",
    "    return all_indicators\n",
    "\n",
    "def parse_indicator(indicator):\n",
    "    label = indicator.find('div', class_='ind-label')\n",
    "    value = indicator.find('p', class_='ind-value').get_text(strip=False)\n",
    "    measure = indicator.find('span', class_='indicador-unidade')\n",
    "    measure = measure.get_text(strip=True) if measure else '\\xa0'\n",
    "\n",
    "    return {'label': label.get_text(strip=True), \\\n",
    "            'value': [x.strip() for x in value.split(measure)][0], \\\n",
    "            'measure': measure.strip()}\n",
    "\n",
    "def parse_indicators(all_indicators):\n",
    "    list_of_indicators = []\n",
    "\n",
    "    for indicator in all_indicators:\n",
    "        list_of_indicators.append(parse_indicator(indicator))\n",
    "        \n",
    "    return list_of_indicators\n",
    "\n",
    "def parse_page(url, lower_state):\n",
    "    content = scrape_from_internet(url, lower_state)\n",
    "    all_indicators = html_indicators(content)\n",
    "    return parse_indicators(all_indicators)\n",
    "\n",
    "def access_pages_and_save(url, input_filename, output_filename):\n",
    "\n",
    "    folderpath = build_path()\n",
    "    inputpath = os.path.join(folderpath, input_filename)\n",
    "\n",
    "    lower_states = []\n",
    "    with open(inputpath) as jsonfile:\n",
    "        json_states = json.load(jsonfile)\n",
    "        for json_state in json_states:\n",
    "            lower_state = json_state['sigla'].lower()\n",
    "            lower_states.append(lower_state)        \n",
    "\n",
    "    json_states_characteristics = []\n",
    "    for lower_state in lower_states:\n",
    "        json_states_characteristics.append(\\\n",
    "            {'state': lower_state,\\\n",
    "             'characteristics': parse_page(url, lower_state)})\n",
    "\n",
    "    outputpath = os.path.join(folderpath, output_filename)\n",
    "    with open(outputpath, mode='w') as jsonfile:\n",
    "        json.dump(json_states_characteristics, jsonfile)"
   ]
  },
  {
   "cell_type": "markdown",
   "id": "19a4fa97",
   "metadata": {
    "slideshow": {
     "slide_type": "subslide"
    }
   },
   "source": [
    "#### Código"
   ]
  },
  {
   "cell_type": "code",
   "execution_count": 2,
   "id": "6645c312-f88b-46f4-8075-830564d56d3d",
   "metadata": {
    "slideshow": {
     "slide_type": "-"
    }
   },
   "outputs": [],
   "source": [
    "access_pages_and_save(url = 'https://ibge.gov.br/cidades-e-estados',\n",
    "                      input_filename = 'estados_codigos.json',\n",
    "                      output_filename = 'estados_caracteristicas.json')"
   ]
  },
  {
   "cell_type": "markdown",
   "id": "a99217a8-02a0-4c96-88dd-a518c20b8890",
   "metadata": {},
   "source": [
    "### Dados de casos e óbitos por covid-19"
   ]
  },
  {
   "cell_type": "markdown",
   "id": "8e8fe912-efde-4063-ab0b-5d5378c300b1",
   "metadata": {
    "slideshow": {
     "slide_type": "-"
    }
   },
   "source": [
    "<pre>Vamos baixar os dados de casos e óbitos por covid-19 no Brasil para o nosso sistema de arquivos... nós os utilizaremos no decorrer das aulas!</pre>"
   ]
  },
  {
   "cell_type": "markdown",
   "id": "4b60b5ed-5a5a-44ce-9990-8b8cb1e2e40d",
   "metadata": {},
   "source": [
    "👉 dados de <a href='https://covid.saude.gov.br/'>casos e óbitos por covid-19 no Brasil</a>"
   ]
  },
  {
   "cell_type": "markdown",
   "id": "f1f8d719-1490-4aed-9d26-89f4ea4ef78e",
   "metadata": {
    "slideshow": {
     "slide_type": "-"
    }
   },
   "source": [
    "#### Funções Auxiliares"
   ]
  },
  {
   "cell_type": "code",
   "execution_count": 3,
   "id": "28617d58-d055-4d7c-bb79-b10f84e4e0ec",
   "metadata": {},
   "outputs": [
    {
     "name": "stdout",
     "output_type": "stream",
     "text": [
      "\n",
      "\u001b[1m[\u001b[0m\u001b[34;49mnotice\u001b[0m\u001b[1;39;49m]\u001b[0m\u001b[39;49m A new release of pip available: \u001b[0m\u001b[31;49m22.3.1\u001b[0m\u001b[39;49m -> \u001b[0m\u001b[32;49m23.2.1\u001b[0m\n",
      "\u001b[1m[\u001b[0m\u001b[34;49mnotice\u001b[0m\u001b[1;39;49m]\u001b[0m\u001b[39;49m To update, run: \u001b[0m\u001b[32;49mpython3.11 -m pip install --upgrade pip\u001b[0m\n"
     ]
    }
   ],
   "source": [
    "!pip install --upgrade selenium --quiet"
   ]
  },
  {
   "cell_type": "code",
   "execution_count": 4,
   "id": "241d1321-be08-4d37-ac82-f64af0b1c86f",
   "metadata": {
    "slideshow": {
     "slide_type": "-"
    }
   },
   "outputs": [],
   "source": [
    "import os, time, csv\n",
    "from zipfile import ZipFile\n",
    "from selenium import webdriver\n",
    "from selenium.webdriver.chrome.options import Options\n",
    "from selenium.webdriver.common.by import By"
   ]
  },
  {
   "cell_type": "code",
   "execution_count": 5,
   "id": "59a1c137-46c6-45cb-ac21-28120e6b8a37",
   "metadata": {
    "slideshow": {
     "slide_type": "-"
    }
   },
   "outputs": [],
   "source": [
    "def file_exists(filename_start = 'HIST_PAINEL_COVID'):\n",
    "    folderpath = build_path('tmp')\n",
    "    compressed_filepath = None\n",
    "\n",
    "    for file in os.listdir(folderpath):\n",
    "        if file.startswith(filename_start) and file.endswith('.zip'):\n",
    "            compressed_filepath = os.path.join(folderpath, file)\n",
    "    \n",
    "    return compressed_filepath\n",
    "\n",
    "def open_browser_and_save(url = 'https://covid.saude.gov.br/',\n",
    "                          filename_start = 'HIST_PAINEL_COVID'):\n",
    "    folderpath = build_path('tmp')\n",
    "\n",
    "    #trecho incluído para limpar a pasta tmp\n",
    "    for file in os.listdir(folderpath):\n",
    "        if file.startswith('HIST_PAINEL_COVID'):\n",
    "            filepath = os.path.join(folderpath, file)\n",
    "            os.remove(filepath)\n",
    "    \n",
    "    options = Options()\n",
    "    prefs = {'download.default_directory' : folderpath}\n",
    "    options.add_experimental_option('prefs', prefs)\n",
    "    driver = webdriver.Chrome(options=options)\n",
    "    driver.get(url)\n",
    "\n",
    "    button = driver.find_element(By.XPATH,\n",
    "                                 \"//*[contains(text(), 'Arquivo CSV')]\")\n",
    "    time.sleep(2)\n",
    "    button.click()\n",
    "\n",
    "    #código aperfeiçoado para fechar a janela no fim do download\n",
    "    compressed_filepath = None\n",
    "    while compressed_filepath is None:\n",
    "        time.sleep(1)\n",
    "        compressed_filepath = file_exists()\n",
    "\n",
    "    driver.close()\n",
    "    \n",
    "    return compressed_filepath\n",
    "\n",
    "def extract_folder(compressed_filepath, \n",
    "                   filename_start = 'HIST_PAINEL_COVID'):\n",
    "    compressed_folderpath = os.path.split(compressed_filepath)[0]\n",
    "    \n",
    "    if compressed_filepath.endswith('.zip'):\n",
    "        with ZipFile(compressed_filepath, 'r') as file:\n",
    "            file.extractall(path=compressed_folderpath)\n",
    "            file.close()\n",
    "\n",
    "    os.remove(compressed_filepath)\n",
    "\n",
    "def concatenate_datasets(filename_start = 'HIST_PAINEL_COVID'):\n",
    "    folderpath = build_path('tmp')\n",
    "\n",
    "    header, rows = None, []\n",
    "    for file in os.listdir(folderpath):\n",
    "        if file.startswith(filename_start) and file.endswith('.csv'):\n",
    "            filepath = os.path.join(folderpath, file)\n",
    "            with open(filepath, encoding='utf-8') as csvfile:\n",
    "                csvreader = csv.DictReader(csvfile, delimiter=';')\n",
    "                header = csvreader.fieldnames\n",
    "                for row in csvreader: rows.append(row)\n",
    "            #os.remove(filepath)\n",
    "\n",
    "    folderpath = build_path('raw')\n",
    "    filepath = os.path.join(folderpath, 'ALL_' + filename_start + '.csv')\n",
    "    with open(filepath, 'w', newline='', encoding='utf-8') as csvfile:\n",
    "        writer = csv.DictWriter(csvfile, fieldnames=header, delimiter=';')\n",
    "        writer.writeheader()\n",
    "        for row in rows: writer.writerow(row)"
   ]
  },
  {
   "cell_type": "markdown",
   "id": "bfb935cb-f6dc-4d26-9f9c-0d7591e331b2",
   "metadata": {
    "slideshow": {
     "slide_type": "subslide"
    }
   },
   "source": [
    "#### Código"
   ]
  },
  {
   "cell_type": "code",
   "execution_count": 6,
   "id": "ae773415-3cef-4796-b529-8eaf35ee2bc1",
   "metadata": {
    "slideshow": {
     "slide_type": "-"
    }
   },
   "outputs": [],
   "source": [
    "compressed_filepath = open_browser_and_save()\n",
    "extract_folder(compressed_filepath)\n",
    "concatenate_datasets()"
   ]
  },
  {
   "cell_type": "markdown",
   "id": "e231ac87-b546-47e1-948d-2a0b757a3874",
   "metadata": {
    "slideshow": {
     "slide_type": "slide"
    }
   },
   "source": [
    "## API 📝"
   ]
  },
  {
   "cell_type": "markdown",
   "id": "5acb1bc4-43ba-4ec2-af7e-980e3b8ea8dd",
   "metadata": {},
   "source": [
    "### Dados de Vacinação contra covid-19"
   ]
  },
  {
   "cell_type": "markdown",
   "id": "0486b158-d70c-4860-a679-36f86f0cf79d",
   "metadata": {},
   "source": [
    "<pre>Vamos baixar os dados de vacinação para covid-19 para o nosso sistema de arquivos... nós os utilizaremos no decorrer das aulas!</pre>"
   ]
  },
  {
   "cell_type": "markdown",
   "id": "7626ec13-f9c5-40de-8486-8cb0ee9dfbdc",
   "metadata": {},
   "source": [
    "👉 dados de <a href='https://servicos-datasus.saude.gov.br/detalhe/CddynnsgE2'>imunização contra covid-19 no Brasil</a>"
   ]
  },
  {
   "cell_type": "markdown",
   "id": "9327024d-56e0-4adb-adbb-58fd5d96d736",
   "metadata": {
    "slideshow": {
     "slide_type": "subslide"
    }
   },
   "source": [
    "#### Função Auxiliar"
   ]
  },
  {
   "cell_type": "code",
   "execution_count": 7,
   "id": "c5005e63-f64a-415d-a1db-330e20f78a4c",
   "metadata": {},
   "outputs": [
    {
     "name": "stdout",
     "output_type": "stream",
     "text": [
      "\n",
      "\u001b[1m[\u001b[0m\u001b[34;49mnotice\u001b[0m\u001b[1;39;49m]\u001b[0m\u001b[39;49m A new release of pip available: \u001b[0m\u001b[31;49m22.3.1\u001b[0m\u001b[39;49m -> \u001b[0m\u001b[32;49m23.2.1\u001b[0m\n",
      "\u001b[1m[\u001b[0m\u001b[34;49mnotice\u001b[0m\u001b[1;39;49m]\u001b[0m\u001b[39;49m To update, run: \u001b[0m\u001b[32;49mpython3.11 -m pip install --upgrade pip\u001b[0m\n"
     ]
    }
   ],
   "source": [
    "!pip install --upgrade elasticsearch --quiet"
   ]
  },
  {
   "cell_type": "code",
   "execution_count": 8,
   "id": "e6a329e5-fae5-49a4-9d8f-9969bead8ef9",
   "metadata": {
    "slideshow": {
     "slide_type": "-"
    }
   },
   "outputs": [],
   "source": [
    "import os, json\n",
    "from elasticsearch import Elasticsearch"
   ]
  },
  {
   "cell_type": "code",
   "execution_count": 9,
   "id": "5c3cf39b-6aff-4c0d-aabc-55c996d87807",
   "metadata": {
    "slideshow": {
     "slide_type": "-"
    }
   },
   "outputs": [],
   "source": [
    "def access_elasticsearch_and_save(url, filename):\n",
    "    folderpath = build_path()\n",
    "    filepath = os.path.join(folderpath, filename)\n",
    "    \n",
    "    es = Elasticsearch([{'scheme': 'https', 'host': url, 'port': 443}], \\\n",
    "                       basic_auth=('imunizacao_public', \n",
    "                                   'qlto5t&7r_@+#Tlstigi'),\n",
    "                       request_timeout=60)\n",
    "\n",
    "    #apenas cidades acima de 300k habitantes estão no índice\n",
    "    #quando consulta mais de 83 municípios, \n",
    "    #a API apresenta a exceção \"ApiError\"\n",
    "    \n",
    "    aggs = {\n",
    "        'Paciente_Estado' if 'estado' in filename else 'Paciente_Municipio': {\n",
    "            'terms': {'field': 'paciente_endereco_uf' if 'estado' in filename else 'paciente_endereco_coIbgeMunicipio', \n",
    "                      'min_doc_count': 1, \n",
    "                      'order': {'_count': 'desc'},\n",
    "                      'size': 27 if 'estados' in filename else 60},\n",
    "            'aggs': {\n",
    "                'Data_Aplicacao_Vacina': {\n",
    "                    'date_histogram': {'field': 'vacina_dataAplicacao', \n",
    "                                       'calendar_interval': 'day', \n",
    "                                       'min_doc_count': 1, \n",
    "                                       'order': {'_key': 'desc'}},\n",
    "                }\n",
    "            }\n",
    "        }\n",
    "    }\n",
    "\n",
    "    res = es.search(size = 0, aggs = aggs)\n",
    "\n",
    "    with open(filepath, mode='w') as jsonfile:\n",
    "        json.dump(res['aggregations'], jsonfile)"
   ]
  },
  {
   "cell_type": "markdown",
   "id": "7f71f23e-d2a2-4948-9d64-af4dfbb986b9",
   "metadata": {},
   "source": [
    "#### Código"
   ]
  },
  {
   "cell_type": "code",
   "execution_count": 10,
   "id": "64b386a9-dd2e-4373-ac8d-9a7374107d7e",
   "metadata": {
    "slideshow": {
     "slide_type": "subslide"
    },
    "tags": []
   },
   "outputs": [],
   "source": [
    "access_elasticsearch_and_save('imunizacao-es.saude.gov.br', \n",
    "                              'estados_vacinacao.json')"
   ]
  },
  {
   "cell_type": "code",
   "execution_count": 11,
   "id": "8798d35a-18f7-4bf9-a1f1-be77b87eb2af",
   "metadata": {
    "slideshow": {
     "slide_type": "-"
    }
   },
   "outputs": [],
   "source": [
    "access_elasticsearch_and_save('imunizacao-es.saude.gov.br', \n",
    "                              'municipios_vacinacao.json')"
   ]
  }
 ],
 "metadata": {
  "celltoolbar": "Slideshow",
  "kernelspec": {
   "display_name": "Python 3 (ipykernel)",
   "language": "python",
   "name": "python3"
  },
  "language_info": {
   "codemirror_mode": {
    "name": "ipython",
    "version": 3
   },
   "file_extension": ".py",
   "mimetype": "text/x-python",
   "name": "python",
   "nbconvert_exporter": "python",
   "pygments_lexer": "ipython3",
   "version": "3.11.2"
  },
  "toc": {
   "base_numbering": 1,
   "nav_menu": {},
   "number_sections": true,
   "sideBar": true,
   "skip_h1_title": false,
   "title_cell": "Table of Contents",
   "title_sidebar": "Contents",
   "toc_cell": false,
   "toc_position": {},
   "toc_section_display": true,
   "toc_window_display": false
  }
 },
 "nbformat": 4,
 "nbformat_minor": 5
}
