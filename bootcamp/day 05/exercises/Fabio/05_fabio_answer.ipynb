{
 "cells": [
  {
   "cell_type": "markdown",
   "id": "ff4bf5af",
   "metadata": {},
   "source": [
    "# Explorando as estatísticas de comércio exterior brasileiras"
   ]
  },
  {
   "cell_type": "markdown",
   "id": "55b8a657",
   "metadata": {},
   "source": [
    "Na aula anterior, procuramos e investigamos os links para download das bases de dados anuais de comércio exterior.\n",
    "\n",
    "Agora, vamos buscar os links para diretamente da estrutura html da página.\n",
    "\n",
    "Usando a biblioteca BeautifulSoup, crie uma lista com todos os links para download de arquivo .csv da página."
   ]
  },
  {
   "cell_type": "code",
   "execution_count": 2,
   "id": "3b27c586",
   "metadata": {},
   "outputs": [],
   "source": [
    "from bs4 import BeautifulSoup\n",
    "import requests\n",
    "\n",
    "url = 'https://www.gov.br/produtividade-e-comercio-exterior/pt-br/assuntos/comercio-exterior/estatisticas/base-de-dados-bruta'\n",
    "response = requests.get(url)\n",
    "soup = BeautifulSoup(response.text, \"html.parser\")"
   ]
  },
  {
   "cell_type": "code",
   "execution_count": 3,
   "id": "174a154b",
   "metadata": {},
   "outputs": [],
   "source": [
    "links = [a.get(\"href\") for a in soup.find_all(\"a\")\n",
    "         if a.get(\"href\")\n",
    "         and \".csv\" in a.get(\"href\")]"
   ]
  },
  {
   "cell_type": "code",
   "execution_count": 4,
   "id": "6e27c594",
   "metadata": {},
   "outputs": [],
   "source": [
    "soup = BeautifulSoup(response.text, \"html.parser\")"
   ]
  },
  {
   "cell_type": "markdown",
   "id": "a1c6b072",
   "metadata": {},
   "source": [
    "A partir desta lista de links, crie uma lista com os nomes dos arquivos .csv."
   ]
  },
  {
   "cell_type": "code",
   "execution_count": null,
   "id": "188bb33c",
   "metadata": {},
   "outputs": [],
   "source": [
    "arquivos = [link.split('/')[-1] for link in links] "
   ]
  },
  {
   "cell_type": "markdown",
   "id": "996e0881",
   "metadata": {},
   "source": [
    "Vamos precisar baixar algumas tabelas de correlação para podermos avançar na exploração dos dados de comércio exterior brasileiros. \n",
    "\n",
    "Na aula passada nós baixamos e salvamos os arquivos acessando diretamente os links usando o método **get** da biblioteca requests. \n",
    "\n",
    "Hoje vamos praticar o uso da ferramenta Selenium. Vamos criar uma rotina para automatizar o download de algumas tabelas da página. \n",
    "\n",
    "O código a seguir carrega os pacotes necessários, define o *url*, e inicia uma sessão no navegador Chrome. \n",
    "Em seguida, o Selenium recarrega a página para desativar a sobretela que direciona ao login, e clica no botão para aceitar os cookies, caso ele tenha aparecido."
   ]
  },
  {
   "cell_type": "code",
   "execution_count": null,
   "id": "925bf49d",
   "metadata": {},
   "outputs": [],
   "source": [
    "import os, time\n",
    "from selenium import webdriver\n",
    "from selenium.webdriver.chrome.options import Options\n",
    "from selenium.webdriver.common.by import By\n",
    "\n",
    "url = 'https://www.gov.br/produtividade-e-comercio-exterior/pt-br/assuntos/comercio-exterior/estatisticas/base-de-dados-bruta'\n",
    "folderpath = os.path.join(os.getcwd(), \"data/\")\n",
    "\n",
    "options = Options()\n",
    "prefs = {'download.default_directory' : folderpath}\n",
    "options.add_experimental_option('prefs', prefs)\n",
    "\n",
    "driver = webdriver.Chrome() \n",
    "\n",
    "driver.get(url)\n",
    "driver.refresh()\n",
    "\n",
    "if driver.find_element(By.CLASS_NAME, \"btn-accept\").is_displayed(): \n",
    "    driver.find_element(By.CLASS_NAME, \"btn-accept\").click()"
   ]
  },
  {
   "cell_type": "markdown",
   "id": "f59192d7",
   "metadata": {},
   "source": [
    "Agora é sua vez. Dê sequência ao código para que ele encontre na página os arquivos pelo seu XPATH (lembre-se do [cheat sheet](https://devhints.io/xpath) que vimos na aula de hoje), clique para fazer download e aguarde um segundo antes de seguir para o próximo arquivo."
   ]
  },
  {
   "cell_type": "code",
   "execution_count": null,
   "id": "d88f950d",
   "metadata": {},
   "outputs": [],
   "source": [
    "arquivos = ['NCM.csv', 'NCM_SH.csv', 'PAIS.csv', 'PAIS_BLOCO.csv']"
   ]
  },
  {
   "cell_type": "code",
   "execution_count": null,
   "id": "e2f56946",
   "metadata": {},
   "outputs": [],
   "source": [
    "for arquivo in arquivos:\n",
    "    driver.find_element(By.XPATH, f\"//a[contains(@href, '{arquivo}')]\").click()\n",
    "    time.sleep(1)"
   ]
  }
 ],
 "metadata": {
  "kernelspec": {
   "display_name": "Python 3 (ipykernel)",
   "language": "python",
   "name": "python3"
  },
  "language_info": {
   "codemirror_mode": {
    "name": "ipython",
    "version": 3
   },
   "file_extension": ".py",
   "mimetype": "text/x-python",
   "name": "python",
   "nbconvert_exporter": "python",
   "pygments_lexer": "ipython3",
   "version": "3.11.5"
  },
  "toc": {
   "base_numbering": 1,
   "nav_menu": {},
   "number_sections": true,
   "sideBar": true,
   "skip_h1_title": false,
   "title_cell": "Table of Contents",
   "title_sidebar": "Contents",
   "toc_cell": false,
   "toc_position": {},
   "toc_section_display": true,
   "toc_window_display": false
  }
 },
 "nbformat": 4,
 "nbformat_minor": 5
}
