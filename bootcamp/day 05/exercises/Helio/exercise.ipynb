{
 "cells": [
  {
   "cell_type": "markdown",
   "id": "61c606c7",
   "metadata": {},
   "source": [
    "# Exercícios - Fontes de Dados - Parte 2 💾 "
   ]
  },
  {
   "cell_type": "markdown",
   "id": "0747c590",
   "metadata": {},
   "source": [
    "## Web Scraping da lista das maiores cidades do Wikipedia\n",
    "\n",
    "O objetivo deste exercício é extrair da Wikipedia a lista das maiores cidades do mundo e sua população estimada, e organizar os dados para análises posteriores.\n",
    "\n",
    "A Wikipedia tem uma página intitulada \"Lista das cidades mais populosas do mundo\", que provê uma lista das cidades mais populosas do mundo e o tamanho da sua população. A sua tarefa é escrever um *script* para \"raspar\" esta página e extrair as seguintes informações:\n",
    "1. Nome da cidade\n",
    "2. População estimada em 2018 (de acordo com dados da ONU)\n",
    "3. País onde se situa a cidade\n",
    "\n",
    "Após raspar os dados, crie um arquivo do tipo .csv com o seguinte cabeçalho:\n",
    "\n",
    "```\n",
    "Cidade,População,País\n",
    "```\n",
    "\n",
    "Armazene os dados raspados neste arquivo."
   ]
  },
  {
   "cell_type": "markdown",
   "id": "c4349fd3",
   "metadata": {},
   "source": [
    "*Dicas*: Inspecione a página da Wikipedia antes usando as ferramentas do desenvolvedor em seu *web browser* para entender a estrutura da tabela e as tags que contêm os dados de que você necessita.\n",
    "\n",
    "Recursos:\n",
    "\n",
    "Lista das cidades mais populosas do mundo: https://pt.wikipedia.org/wiki/Lista_das_cidades_mais_populosas_do_mundo\n",
    "\n",
    "Documentação da biblioteca BeautifulSoup: https://pypi.org/project/beautifulsoup4/"
   ]
  },
  {
   "cell_type": "code",
   "execution_count": null,
   "id": "90e39193-0dee-4ca1-829b-e536fca99aab",
   "metadata": {},
   "outputs": [],
   "source": []
  },
  {
   "cell_type": "markdown",
   "id": "200b5db7",
   "metadata": {},
   "source": [
    "## 🌶️ Desafio! De 👀 nas despesas do Governo Federal"
   ]
  },
  {
   "cell_type": "markdown",
   "id": "25d09d32",
   "metadata": {},
   "source": [
    "Já vimos, na aula passada, como acessar os dados de despesas dos deputados federais através do portal **Dados Abertos** da Câmara dos Deputados. Nós vamos agora prepara um *dataset* para analisar as despesas por função do Governo Federal. Apesar dos dados estarem em um portal de dados abertos, que também provê APIs para acessá-los, vamos utilizar também a técnica de *webscraping* para acessar e baixar os datasets para que possamos exercitar bem esse método."
   ]
  },
  {
   "cell_type": "markdown",
   "id": "001fcb7a-e134-47ed-8023-cfcb04c25dd6",
   "metadata": {},
   "source": [
    "O objetivo deste exercício é extrair do portal Tesouro Transparente as bases de despesas por Função do Governo Central, segundo a classificação COFOG (não se preocupe por enquanto com essa classificação). Você deverá buscar e baixar as últimas 3 bases disponíveis para análises posteriores. A função para baixar o arquivo em sua máquina local já foi dada.\n",
    "\n",
    "⚠️ Atenção! Baixe somente os arquivos do tipo .csv.\n",
    "\n",
    "*Dicas*: \n",
    "1. Inspecione a página dos datasets antes usando as ferramentas do desenvolvedor em seu *web browser* para entender a estrutura da página e as tags que contêm os arquivos de que você necessita.\n",
    "\n",
    "2. Insira um timer de 60s depois do download de cada arquivo para evitar bloqueio do servidor (vai que ele acha que você o está atacando... 🧐)\n",
    "\n",
    "Recursos:\n",
    "\n",
    "Url das bases de dados: https://www.tesourotransparente.gov.br/ckan/dataset/despesas-por-funcao-do-governo-central-classificacao-cofog"
   ]
  },
  {
   "cell_type": "code",
   "execution_count": 83,
   "id": "4f5ef36e-53a2-4c2a-acbf-5ecbef1c3b38",
   "metadata": {},
   "outputs": [],
   "source": [
    "import os\n",
    "\n",
    "def baixar_arquivo(url, local_filename=None):\n",
    "    \"\"\"Baixa e salva o arquivo de uma url.\"\"\"\n",
    "    # Se o nome do arquivo não foi passado como parâmetro, extrair da url.\n",
    "    if local_filename is None:\n",
    "        local_filename = os.path.join(\"./data\", url.split('/')[-1])\n",
    "\n",
    "    #verifica se arquivo já foi baixado\n",
    "    if os.path.exists(local_filename):\n",
    "        print(f'Arquivo {local_filename} já baixado!')\n",
    "        return None\n",
    "    else:\n",
    "        print('Solicitando arquivo do servidor.')\n",
    "        response = requests.get(url, stream=True)\n",
    "        response.raise_for_status()\n",
    "\n",
    "        with open(local_filename, 'wb') as f:\n",
    "            print(f\"Baixando arquivo da url: {url}\")\n",
    "            for chunk in response.iter_content(chunk_size=8192): \n",
    "                f.write(chunk)\n",
    "            return \"Arquivo baixado!\"\n",
    "\n",
    "def eh_arquivo_csv(link):\n",
    "    \"\"\"Verifica se arquivo é do tipo .csv.\"\"\"\n",
    "    term_link = link[len(link)-3:]\n",
    "    if term_link == 'csv':\n",
    "        return True\n",
    "    return False"
   ]
  },
  {
   "cell_type": "code",
   "execution_count": null,
   "id": "350c74ea-fd83-481e-b221-959a6bc46eb5",
   "metadata": {},
   "outputs": [],
   "source": []
  }
 ],
 "metadata": {
  "kernelspec": {
   "display_name": "enap",
   "language": "python",
   "name": "enap"
  },
  "language_info": {
   "codemirror_mode": {
    "name": "ipython",
    "version": 3
   },
   "file_extension": ".py",
   "mimetype": "text/x-python",
   "name": "python",
   "nbconvert_exporter": "python",
   "pygments_lexer": "ipython3",
   "version": "3.10.6"
  },
  "toc": {
   "base_numbering": 1,
   "nav_menu": {},
   "number_sections": true,
   "sideBar": true,
   "skip_h1_title": false,
   "title_cell": "Table of Contents",
   "title_sidebar": "Contents",
   "toc_cell": false,
   "toc_position": {},
   "toc_section_display": true,
   "toc_window_display": false
  }
 },
 "nbformat": 4,
 "nbformat_minor": 5
}
