{
 "cells": [
  {
   "cell_type": "markdown",
   "id": "61c606c7",
   "metadata": {},
   "source": [
    "# Exercícios - Fontes de Dados - Parte 2 💾 "
   ]
  },
  {
   "cell_type": "markdown",
   "id": "0747c590",
   "metadata": {},
   "source": [
    "## Web Scraping da lista das maiores cidades do Wikipedia\n",
    "\n",
    "O objetivo deste exercício é extrair da Wikipedia a lista das maiores cidades do mundo e sua população estimada, e organizar os dados para análises posteriores.\n",
    "\n",
    "A Wikipedia tem uma página intitulada \"Lista das cidades mais populosas do mundo\", que provê uma lista das cidades mais populosas do mundo e o tamanho da sua população. A sua tarefa é escrever um *script* para \"raspar\" esta página e extrair as seguintes informações:\n",
    "1. Nome da cidade\n",
    "2. População estimada em 2018 (de acordo com dados da ONU)\n",
    "3. País onde se situa a cidade\n",
    "\n",
    "Após raspar os dados, crie um arquivo do tipo .csv com o seguinte cabeçalho:\n",
    "\n",
    "```\n",
    "Cidade,População,País\n",
    "```\n",
    "\n",
    "Armazene os dados raspados neste arquivo."
   ]
  },
  {
   "cell_type": "markdown",
   "id": "c4349fd3",
   "metadata": {},
   "source": [
    "*Dicas*: Inspecione a página da Wikipedia antes usando as ferramentas do desenvolvedor em seu *web browser* para entender a estrutura da tabela e as tags que contêm os dados de que você necessita.\n",
    "\n",
    "Recursos:\n",
    "\n",
    "Lista das cidades mais populosas do mundo: https://pt.wikipedia.org/wiki/Lista_das_cidades_mais_populosas_do_mundo\n",
    "\n",
    "Documentação da biblioteca BeautifulSoup: https://pypi.org/project/beautifulsoup4/"
   ]
  },
  {
   "cell_type": "code",
   "execution_count": 10,
   "id": "510f973e",
   "metadata": {},
   "outputs": [],
   "source": [
    "import requests\n",
    "from bs4 import BeautifulSoup\n",
    "import csv\n",
    "\n",
    "def raspar_wikipedia_maiores_cidades():\n",
    "    url = \"https://pt.wikipedia.org/wiki/Lista_das_cidades_mais_populosas_do_mundo\"\n",
    "    response = requests.get(url)\n",
    "    response.raise_for_status()  # Levantar exceção para quaisquer erros HTTP.\n",
    "\n",
    "    soup = BeautifulSoup(response.text, 'html.parser')\n",
    "    \n",
    "    # Localizando a tabela com os dados da cidade\n",
    "    tabela = soup.find('table', {'class': 'wikitable'})\n",
    "    \n",
    "    # Extracting data from the table\n",
    "    dados_cidades = []\n",
    "    rows = tabela.find_all('tr')[1:]  # Skipping the header row\n",
    "    \n",
    "    for row in rows:\n",
    "        columns = row.find_all('td')\n",
    "        \n",
    "        if len(columns) >= 3:  # Garanta que há colunas suficientes para a extração de dados.\n",
    "            cidade = columns[0].get_text(strip=True)\n",
    "            populacao = columns[2].get_text(strip=True)\n",
    "            pais = columns[1].get_text(strip=True)\n",
    "            \n",
    "            dados_cidades.append([cidade, populacao, pais])\n",
    "    \n",
    "    # Escrevendo os dados no arquivo csv.\n",
    "    with open('./data/maiores_cidades.csv', 'w', newline='') as csvfile:\n",
    "        writer = csv.writer(csvfile)\n",
    "        writer.writerow(['cidade', 'populacao', 'pais'])\n",
    "        writer.writerows(dados_cidades)\n",
    "\n",
    "    "
   ]
  },
  {
   "cell_type": "code",
   "execution_count": 11,
   "id": "87b1029a",
   "metadata": {},
   "outputs": [],
   "source": [
    "raspar_wikipedia_maiores_cidades()"
   ]
  },
  {
   "cell_type": "markdown",
   "id": "200b5db7",
   "metadata": {},
   "source": [
    "## 🌶️ Desafio! De 👀 nas despesas do Governo Federal"
   ]
  },
  {
   "cell_type": "markdown",
   "id": "25d09d32",
   "metadata": {},
   "source": [
    "Já vimos, na aula passada, como acessar os dados de despesas dos deputados federais através do portal **Dados Abertos** da Câmara dos Deputados. Nós vamos agora prepara um *dataset* para analisar as despesas por função do Governo Federal. Apesar dos dados estarem em um portal de dados abertos, que também provê APIs para acessá-los, vamos utilizar também a técnica de *webscraping* para acessar e baixar os datasets para que possamos exercitar bem esse método."
   ]
  },
  {
   "cell_type": "markdown",
   "id": "001fcb7a-e134-47ed-8023-cfcb04c25dd6",
   "metadata": {},
   "source": [
    "O objetivo deste exercício é extrair do portal Tesouro Transparente as bases de despesas por Função do Governo Central, segundo a classificação COFOG (não se preocupe por enquanto com essa classificação). Você deverá buscar e baixar as últimas 3 bases disponíveis para análises posteriores. A função para baixar o arquivo em sua máquina local já foi dada.\n",
    "\n",
    "⚠️ Atenção! Baixe somente os arquivos do tipo .csv.\n",
    "\n",
    "*Dicas*: \n",
    "1. Inspecione a página dos datasets antes usando as ferramentas do desenvolvedor em seu *web browser* para entender a estrutura da página e as tags que contêm os arquivos de que você necessita.\n",
    "\n",
    "2. Insira um timer de 60s depois do download de cada arquivo para evitar bloqueio do servidor (vai que ele acha que você o está atacando... 🧐)\n",
    "\n",
    "Recursos:\n",
    "\n",
    "Url das bases de dados: https://www.tesourotransparente.gov.br/ckan/dataset/despesas-por-funcao-do-governo-central-classificacao-cofog"
   ]
  },
  {
   "cell_type": "code",
   "execution_count": 1,
   "id": "4f5ef36e-53a2-4c2a-acbf-5ecbef1c3b38",
   "metadata": {},
   "outputs": [],
   "source": [
    "import os\n",
    "\n",
    "def baixar_arquivo(url, local_filename=None):\n",
    "    \"\"\"Baixa e salva o arquivo de uma url.\"\"\"\n",
    "    # Se o nome do arquivo não foi passado como parâmetro, extrair da url.\n",
    "    if local_filename is None:\n",
    "        local_filename = os.path.join(\"./data\", url.split('/')[-1])\n",
    "\n",
    "    #verifica se arquivo já foi baixado\n",
    "    if os.path.exists(local_filename):\n",
    "        print(f'Arquivo {local_filename} já baixado!')\n",
    "        return None\n",
    "    else:\n",
    "        print('Solicitando arquivo do servidor.')\n",
    "        response = requests.get(url, stream=True)\n",
    "        response.raise_for_status()\n",
    "\n",
    "        with open(local_filename, 'wb') as f:\n",
    "            print(f\"Baixando arquivo da url: {url}\")\n",
    "            for chunk in response.iter_content(chunk_size=8192): \n",
    "                f.write(chunk)\n",
    "            return \"Arquivo baixado!\"\n",
    "\n",
    "def eh_arquivo_csv(link):\n",
    "    \"\"\"Verifica se arquivo é do tipo .csv.\"\"\"\n",
    "    term_link = link[len(link)-3:]\n",
    "    if term_link == 'csv':\n",
    "        return True\n",
    "    return False"
   ]
  },
  {
   "cell_type": "code",
   "execution_count": 2,
   "id": "0586e5e7-fa2e-456f-a0b0-a17e7ad44fc1",
   "metadata": {},
   "outputs": [],
   "source": [
    "def read_page(url):\n",
    "    print(f'Fazendo requisição GET para o link: {url}')\n",
    "    response = requests.get(url)\n",
    "    response.raise_for_status() #Levanta uma exceção caso haja erro na requisição.\n",
    "    \n",
    "    if response.status_code == 200:\n",
    "        content = response.text\n",
    "        return content"
   ]
  },
  {
   "cell_type": "code",
   "execution_count": 3,
   "id": "67f838fe",
   "metadata": {},
   "outputs": [
    {
     "name": "stdout",
     "output_type": "stream",
     "text": [
      "Fazendo requisição GET para o link: https://www.tesourotransparente.gov.br/ckan/dataset/despesas-por-funcao-do-governo-central-classificacao-cofog\n"
     ]
    }
   ],
   "source": [
    "import requests\n",
    "from bs4 import BeautifulSoup\n",
    "import time\n",
    "\n",
    "TIME_TO_SLEEP = 120\n",
    "\n",
    "url = 'https://www.tesourotransparente.gov.br/ckan/dataset/despesas-por-funcao-do-governo-central-classificacao-cofog'\n",
    "\n",
    "content = read_page(url)\n",
    "soup = BeautifulSoup(content, 'html.parser')"
   ]
  },
  {
   "cell_type": "code",
   "execution_count": 4,
   "id": "3a3d1e66-8bbc-45a7-94bd-3a600ea63bb1",
   "metadata": {},
   "outputs": [
    {
     "name": "stdout",
     "output_type": "stream",
     "text": [
      "https://www.tesourotransparente.gov.br/ckan/dataset/22d13d17-bf69-4a1a-add2-25cc1e25f2d7/resource/db8d7b1d-b581-4bc9-a9aa-447f0d29f301/download/Base-COFOG-2022.csv\n",
      "Solicitando arquivo do servidor.\n",
      "Baixando arquivo da url: https://www.tesourotransparente.gov.br/ckan/dataset/22d13d17-bf69-4a1a-add2-25cc1e25f2d7/resource/db8d7b1d-b581-4bc9-a9aa-447f0d29f301/download/Base-COFOG-2022.csv\n",
      "Esperando 120s para solicitar próximo download...\n",
      "https://www.tesourotransparente.gov.br/ckan/dataset/22d13d17-bf69-4a1a-add2-25cc1e25f2d7/resource/83b16dfe-9fbb-44ea-8b89-1f8d1b5d78e3/download/Base-COFOG-2021.csv\n",
      "Solicitando arquivo do servidor.\n",
      "Baixando arquivo da url: https://www.tesourotransparente.gov.br/ckan/dataset/22d13d17-bf69-4a1a-add2-25cc1e25f2d7/resource/83b16dfe-9fbb-44ea-8b89-1f8d1b5d78e3/download/Base-COFOG-2021.csv\n",
      "Esperando 120s para solicitar próximo download...\n",
      "https://www.tesourotransparente.gov.br/ckan/dataset/22d13d17-bf69-4a1a-add2-25cc1e25f2d7/resource/b258f856-b80e-4cad-a4bb-dc570b7f5659/download/Base-COFOG-2020.csv\n",
      "Solicitando arquivo do servidor.\n",
      "Baixando arquivo da url: https://www.tesourotransparente.gov.br/ckan/dataset/22d13d17-bf69-4a1a-add2-25cc1e25f2d7/resource/b258f856-b80e-4cad-a4bb-dc570b7f5659/download/Base-COFOG-2020.csv\n",
      "Esperando 120s para solicitar próximo download...\n"
     ]
    }
   ],
   "source": [
    "# Primeiro, busca a tag <section> com id 'dataset-resources'\n",
    "section = soup.find('section', id='dataset-resources')\n",
    "\n",
    "# Se encontrada, então busque os elementos <ul> dentro dela.\n",
    "if section:\n",
    "    resource_list = section.find('ul', class_='resource-list')\n",
    "    \n",
    "    # If the <ul> is found, target <li> tags with class 'resource-item' inside it\n",
    "    if resource_list:\n",
    "        resource_items = resource_list.find_all('li', class_='resource-item')\n",
    "\n",
    "        #Vamos pegar os 3 primeiros arquivos .csv. Sempre verifique a estrutura da página web\n",
    "        #para evitar erros!\n",
    "        for i in range(1,4):\n",
    "            item = resource_items[i]\n",
    "            \n",
    "            # Busca a tag <a> dentro da tag <div> de id = 'dropdown btn-group'\n",
    "            div_class = item.find('div', class_=\"dropdown btn-group\")\n",
    "            \n",
    "            #busca a referência de download do arquivo\n",
    "            if div_class:\n",
    "                download_link = div_class.find('a', class_='resource-url-analytics')\n",
    "                if download_link:\n",
    "                    #Vamos baixar somentes os arquivos cs\n",
    "                    link = download_link['href']\n",
    "                    print(link)\n",
    "                    \n",
    "                    if eh_arquivo_csv(link):\n",
    "                        if baixar_arquivo(link):\n",
    "                            print('Esperando 120s para solicitar próximo download...')\n",
    "                            time.sleep(TIME_TO_SLEEP)\n",
    "\n",
    "                else:\n",
    "                    print(\"Link para download não encontrado.\")"
   ]
  },
  {
   "cell_type": "code",
   "execution_count": null,
   "id": "350c74ea-fd83-481e-b221-959a6bc46eb5",
   "metadata": {},
   "outputs": [],
   "source": []
  },
  {
   "cell_type": "code",
   "execution_count": null,
   "id": "e4b63dae-f719-425b-9793-c6ce795fe7d0",
   "metadata": {},
   "outputs": [],
   "source": []
  }
 ],
 "metadata": {
  "kernelspec": {
   "display_name": "Python 3 (ipykernel)",
   "language": "python",
   "name": "python3"
  },
  "language_info": {
   "codemirror_mode": {
    "name": "ipython",
    "version": 3
   },
   "file_extension": ".py",
   "mimetype": "text/x-python",
   "name": "python",
   "nbconvert_exporter": "python",
   "pygments_lexer": "ipython3",
   "version": "3.10.6"
  },
  "toc": {
   "base_numbering": 1,
   "nav_menu": {},
   "number_sections": true,
   "sideBar": true,
   "skip_h1_title": false,
   "title_cell": "Table of Contents",
   "title_sidebar": "Contents",
   "toc_cell": false,
   "toc_position": {},
   "toc_section_display": true,
   "toc_window_display": false
  }
 },
 "nbformat": 4,
 "nbformat_minor": 5
}
