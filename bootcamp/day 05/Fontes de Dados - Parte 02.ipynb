{
 "cells": [
  {
   "cell_type": "markdown",
   "id": "3232bfff-9aeb-4256-ab92-07e6692b11d0",
   "metadata": {
    "slideshow": {
     "slide_type": "slide"
    },
    "tags": []
   },
   "source": [
    "# Fontes de Dados 🚰 🎲"
   ]
  },
  {
   "cell_type": "markdown",
   "id": "46b60c40-9f06-46b5-95f4-72fb36fcca10",
   "metadata": {
    "slideshow": {
     "slide_type": "-"
    }
   },
   "source": [
    "## Sumário da Aula"
   ]
  },
  {
   "cell_type": "markdown",
   "id": "822cec3a-0514-4f6f-9ee2-a2b1c4004e1b",
   "metadata": {
    "slideshow": {
     "slide_type": "-"
    }
   },
   "source": [
    "<ul>\n",
    "    <li>Raspagem Básica de Dados ✂️</li>\n",
    "    <ul>\n",
    "        <li>BeautifulSoup</li>\n",
    "        <li>Selenium</li>\n",
    "    </ul>\n",
    "    <li>Juntando as Peças 🧩</li>\n",
    "    <ul>\n",
    "        <li>Raspagem Avançada de Dados ✂️</li>\n",
    "        <ul>\n",
    "            <li>BeautifulSoup</li>\n",
    "            <li>Selenium</li>\n",
    "        </ul>\n",
    "        <li>API Avançada 📝</li>\n",
    "    </ul>\n",
    "</ul>"
   ]
  },
  {
   "cell_type": "markdown",
   "id": "c045e797-091d-43af-969f-54021f41be86",
   "metadata": {
    "slideshow": {
     "slide_type": "slide"
    }
   },
   "source": [
    "## Raspagem Básica de Dados ✂️"
   ]
  },
  {
   "cell_type": "markdown",
   "id": "7436629f-6ff9-450b-a242-7cd7b4986023",
   "metadata": {
    "slideshow": {
     "slide_type": "-"
    }
   },
   "source": [
    "\"Web scraping, web harvesting, or web data extraction is data scraping used for extracting data from websites.\""
   ]
  },
  {
   "cell_type": "markdown",
   "id": "42700c00-551f-4184-b9c4-c17387cef09e",
   "metadata": {
    "slideshow": {
     "slide_type": "-"
    }
   },
   "source": [
    "👉 Web Scraping \\& Data Analysis <a href='https://gist.github.com/kmcelwee/309ec6b3eae932530c1ef7b15fb325dc'>cheat sheet</a>"
   ]
  },
  {
   "cell_type": "markdown",
   "id": "2ec9ad19-00e1-4948-8dcd-0930e12449e3",
   "metadata": {
    "slideshow": {
     "slide_type": "subslide"
    }
   },
   "source": [
    "<pre>Inicialmente, vamos criar um protótipo de página HTML para entender como funciona sua estrutura para rasparmos os dados</pre>"
   ]
  },
  {
   "cell_type": "markdown",
   "id": "105cae73-a363-4e88-b43c-6e54703dbbcb",
   "metadata": {
    "slideshow": {
     "slide_type": "-"
    }
   },
   "source": [
    "```html\n",
    "<!DOCTYPE html>\n",
    "<html>\n",
    "<head>\n",
    "    <title>Exemplo de Pagina HTML</title>\n",
    "</head>\n",
    "<body>\n",
    "    <h1>Minha Primeira Pagina HTML</h1>\n",
    "    \n",
    "    <ul>\n",
    "        <li><a href=\"https://www.enap.gov.br/pt/\">Home</a></li>\n",
    "        <li><a href=\"#\">Sobre</a></li>\n",
    "        <li><a href=\"#\">Contato</a></li>\n",
    "    </ul>\n",
    "    \n",
    "    <p>Bem-vindo 'a minha primeira pagina HTML!</p>\n",
    "    <p>Esta é uma pagina de exemplo para demonstrar a estrutura basica do HTML.</p>\n",
    "    \n",
    "    <footer>\n",
    "        <p>&copy;Thais Company. Rua XXX</p>\n",
    "    </footer>\n",
    "</body>\n",
    "</html>\n",
    "````"
   ]
  },
  {
   "cell_type": "markdown",
   "id": "abb75f34-cc51-41b0-8be2-dd9346e6a710",
   "metadata": {
    "slideshow": {
     "slide_type": "subslide"
    }
   },
   "source": [
    "<pre>Agora, vamos explicar algumas tags</pre>"
   ]
  },
  {
   "cell_type": "markdown",
   "id": "0f8c4972-c931-4e1a-aa10-2a7e56cc1854",
   "metadata": {
    "slideshow": {
     "slide_type": "-"
    }
   },
   "source": [
    "```html\n",
    "\n",
    "```<!DOCTYPE html>```: define o tipo de documento como HTML5.\n",
    "\n",
    "```<html>...</html>```: define o início e o fim do documento HTML.\n",
    "\n",
    "```<head>...</head>```: contém informações sobre o documento, como o título da página.\n",
    "\n",
    "```<title>...</title>```: define o título da página exibido na aba do navegador.\n",
    "\n",
    "```<body>...</body>```: contém o conteúdo visível da página.\n",
    "\n",
    "```<h1>...</h1>```: cria um cabeçalho de nível 1 (o maior).\n",
    "\n",
    "```<ul>...</ul>```: cria uma lista não ordenada.\n",
    "\n",
    "```<li>...</li>```: define um item da lista.\n",
    "\n",
    "```<a href=\"#\">...</a>```: cria um link vazio para fins de exemplo.\n",
    "\n",
    "```<p>...</p>```: cria parágrafos de texto.\n",
    "\n",
    "```<footer>...</footer>```: define o rodapé da página.\n",
    "\n",
    "```&copy;```: entidade HTML para o símbolo de direitos autorais."
   ]
  },
  {
   "cell_type": "markdown",
   "id": "d7768ab3-a9fa-428c-8fed-fb6c238ace57",
   "metadata": {
    "slideshow": {
     "slide_type": "-"
    }
   },
   "source": [
    "👉 dica: aprenda mais em <a href='https://www.w3schools.com/html/'>HTML Tutorials</a>"
   ]
  },
  {
   "cell_type": "markdown",
   "id": "2c2fbfd7-b81a-425e-9ee0-168163484cd0",
   "metadata": {
    "slideshow": {
     "slide_type": "subslide"
    }
   },
   "source": [
    "<pre>Um site clássico da Internet brasileira, é o <a href='http://www.pudim.com.br'>http://pudim.com.br/</a>."
   ]
  },
  {
   "cell_type": "markdown",
   "id": "3d796577-4b6c-4ad7-adf9-435d514731f4",
   "metadata": {
    "slideshow": {
     "slide_type": "-"
    }
   },
   "source": [
    "👉 dica: <a href='https://support.google.com/campaignmanager/answer/2828688?hl=pt-BR'>aprenda a usar a ferramenta de desenvolvedor</a> para ver as tags do HTML"
   ]
  },
  {
   "cell_type": "markdown",
   "id": "0a34b1ce-f2ba-4713-a6f8-ed485c58c6f2",
   "metadata": {
    "slideshow": {
     "slide_type": "-"
    }
   },
   "source": [
    "<center><img src='http://www.pudim.com.br/pudim.jpg' width=600></center>"
   ]
  },
  {
   "cell_type": "markdown",
   "id": "f7ba6d78",
   "metadata": {
    "slideshow": {
     "slide_type": "slide"
    }
   },
   "source": [
    "### BeautifulSoup"
   ]
  },
  {
   "cell_type": "markdown",
   "id": "d059edcf-d1a6-4a55-a6b7-972ee11ea1a1",
   "metadata": {
    "slideshow": {
     "slide_type": "-"
    }
   },
   "source": [
    "\"Beautiful Soup is a Python package for parsing HTML and XML documents (including having malformed markup, i.e. non-closed tags, so named after tag soup).\""
   ]
  },
  {
   "cell_type": "markdown",
   "id": "321ab262-952a-47c7-b7dd-597f3bf337dd",
   "metadata": {
    "slideshow": {
     "slide_type": "-"
    }
   },
   "source": [
    "👉 BeautifulSoup <a href='https://michaelcurrin.github.io/dev-cheatsheets/cheatsheets/python/libraries/beautifulsoup.html'>cheat sheet</a>"
   ]
  },
  {
   "cell_type": "markdown",
   "id": "108aacc1-5a4b-4d6c-8ced-c4407b5d10fa",
   "metadata": {
    "slideshow": {
     "slide_type": "-"
    }
   },
   "source": [
    "#### Biblioteca Principal 📚: <a href='https://beautiful-soup-4.readthedocs.io/en/latest/'>BeautifulSoup</a>"
   ]
  },
  {
   "cell_type": "code",
   "execution_count": 1,
   "id": "66803b25-5a59-4fc0-b954-806727b9bca6",
   "metadata": {
    "slideshow": {
     "slide_type": "-"
    }
   },
   "outputs": [],
   "source": [
    "from bs4 import BeautifulSoup"
   ]
  },
  {
   "cell_type": "markdown",
   "id": "2e36d69b-2992-4681-847b-07bf1c133f63",
   "metadata": {
    "slideshow": {
     "slide_type": "-"
    }
   },
   "source": [
    "Resumidamente, o roteiro de uma raspagem de dados se dá com os seguintes passos:\n",
    "<ul>\n",
    "    <li>Escolher a URL;</li>\n",
    "    <li>Acessar os dados dessa página;</li>\n",
    "    <li>Extrair as informações que precisamos; e</li>\n",
    "    <li>Armazenar essas informações.</li>\n",
    "</ul>"
   ]
  },
  {
   "cell_type": "markdown",
   "id": "9644277a-0978-4cd1-9ced-0059e6fb0d2b",
   "metadata": {
    "slideshow": {
     "slide_type": "subslide"
    }
   },
   "source": [
    "#### Passo 1 - Escolher a URL"
   ]
  },
  {
   "cell_type": "markdown",
   "id": "4838afd0-56bc-4e3c-979e-d8ebc75d3968",
   "metadata": {
    "slideshow": {
     "slide_type": "-"
    }
   },
   "source": [
    "<pre>Vamos usar como exemplo a página <a href='https://www.imdb.com/list/ls055386972/'><i>Top 50 Best Movies Ever Made</i></a> do site do IMDB</pre>"
   ]
  },
  {
   "cell_type": "code",
   "execution_count": 2,
   "id": "9b8d52b0-a3fe-4a74-853d-ba1dad95bb65",
   "metadata": {
    "slideshow": {
     "slide_type": "-"
    }
   },
   "outputs": [],
   "source": [
    "url = 'https://www.imdb.com/list/ls055386972/'"
   ]
  },
  {
   "cell_type": "markdown",
   "id": "4e56bf83-51f6-49b8-b1fc-69aea1b0fb44",
   "metadata": {
    "slideshow": {
     "slide_type": "subslide"
    }
   },
   "source": [
    "#### Passo 2 - Acessar os dados dessa página"
   ]
  },
  {
   "cell_type": "markdown",
   "id": "a5e21d56-0a29-4a61-aa06-d37ca668aaf6",
   "metadata": {
    "slideshow": {
     "slide_type": "-"
    }
   },
   "source": [
    "<pre>Agora, vamos reaproveitar a função de ler uma página na Internet, construída na aula passada</pre>"
   ]
  },
  {
   "cell_type": "code",
   "execution_count": 3,
   "id": "5620fde7-dfda-4895-b2cc-dddc2eeda0a8",
   "metadata": {
    "slideshow": {
     "slide_type": "-"
    }
   },
   "outputs": [],
   "source": [
    "import requests\n",
    "\n",
    "def read_file(url):\n",
    "    response = requests.get(url)\n",
    "\n",
    "    if response.status_code == 200:\n",
    "        content = response.content\n",
    "        return content"
   ]
  },
  {
   "cell_type": "code",
   "execution_count": 4,
   "id": "ca45c5ea-1c90-457f-a511-6529b5983bbb",
   "metadata": {
    "slideshow": {
     "slide_type": "-"
    }
   },
   "outputs": [
    {
     "data": {
      "text/plain": [
       "b'\\n\\n\\n<!DOCTYPE html>\\n<html\\n    xmlns:og=\"http://ogp.me/ns#\"\\n    xmlns:fb=\"http://www.facebook.com/2008/fbml\">\\n    <head>\\n         \\n\\n        <meta charset=\"utf-8\">\\n\\n\\n\\n\\n        <script type=\"text/javascri'"
      ]
     },
     "execution_count": 4,
     "metadata": {},
     "output_type": "execute_result"
    }
   ],
   "source": [
    "content = read_file(url)\n",
    "content[:200]"
   ]
  },
  {
   "cell_type": "markdown",
   "id": "fbc2f22f-ccef-4c6b-9a99-271bba40cda5",
   "metadata": {
    "slideshow": {
     "slide_type": "subslide"
    }
   },
   "source": [
    "#### Passo 3 - Extrair as informações que precisamos"
   ]
  },
  {
   "cell_type": "markdown",
   "id": "e4dc80b5-0e62-4189-b8ba-9fd65280d3db",
   "metadata": {
    "slideshow": {
     "slide_type": "-"
    }
   },
   "source": [
    "<pre>Começamos por usar o BeautifulSoup, fazendo a leitura da página HTML com a biblioteca...</pre>"
   ]
  },
  {
   "cell_type": "code",
   "execution_count": 5,
   "id": "126f81e8-f907-4aec-b387-94bfd479f9f9",
   "metadata": {
    "slideshow": {
     "slide_type": "-"
    }
   },
   "outputs": [],
   "source": [
    "soup = BeautifulSoup(content, 'html.parser')"
   ]
  },
  {
   "cell_type": "markdown",
   "id": "23119403-76f6-467a-9dc8-0421253235eb",
   "metadata": {
    "slideshow": {
     "slide_type": "-"
    }
   },
   "source": [
    "<pre>... e passamos a extrair os dados conforme nossas necessidades, usando as tags do HTML.</pre>"
   ]
  },
  {
   "cell_type": "code",
   "execution_count": 6,
   "id": "81a8fce7-748a-48f6-8e88-34e05bc710e2",
   "metadata": {
    "slideshow": {
     "slide_type": "-"
    }
   },
   "outputs": [
    {
     "data": {
      "text/plain": [
       "'O Poderoso Chefão'"
      ]
     },
     "execution_count": 6,
     "metadata": {},
     "output_type": "execute_result"
    }
   ],
   "source": [
    "# Encontrando o título do primeiro filme\n",
    "soup.find(\"h3\").find(\"a\").string"
   ]
  },
  {
   "cell_type": "code",
   "execution_count": 7,
   "id": "d2e50f9a-346a-4733-8a7a-5f8d711c2877",
   "metadata": {
    "slideshow": {
     "slide_type": "-"
    }
   },
   "outputs": [
    {
     "data": {
      "text/plain": [
       "'175 min'"
      ]
     },
     "execution_count": 7,
     "metadata": {},
     "output_type": "execute_result"
    }
   ],
   "source": [
    "# Encontrando a duração do primeiro filme\n",
    "soup.find(\"span\", class_=\"runtime\").string"
   ]
  },
  {
   "cell_type": "markdown",
   "id": "a1dd9c72-e2a3-46ac-bc88-8866834262cf",
   "metadata": {
    "slideshow": {
     "slide_type": "subslide"
    }
   },
   "source": [
    "#### Passo 4 - Armazenar as informações"
   ]
  },
  {
   "cell_type": "markdown",
   "id": "29b629e9-607d-451a-a2c5-040c25ff37f4",
   "metadata": {
    "slideshow": {
     "slide_type": "-"
    }
   },
   "source": [
    "<pre>Por fim, com o BeautifulSoup, podemos percorrer todos os filmes e armazenar seus títulos e durações...</pre>"
   ]
  },
  {
   "cell_type": "code",
   "execution_count": 8,
   "id": "56d52972-e71c-436b-a68f-9557d8f593d4",
   "metadata": {
    "slideshow": {
     "slide_type": "-"
    }
   },
   "outputs": [],
   "source": [
    "filmes = []\n",
    "\n",
    "for filme in soup.find_all(\"div\", class_=\"lister-item-content\"):\n",
    "    title = filme.find(\"h3\").find(\"a\").string\n",
    "    duration = filme.find(\"span\", class_=\"runtime\").string\n",
    "    filmes.append({'titulo': title, 'duração': duration})"
   ]
  },
  {
   "cell_type": "markdown",
   "id": "99704fae-d844-4054-a91b-0cba9c4f3276",
   "metadata": {
    "slideshow": {
     "slide_type": "-"
    }
   },
   "source": [
    "... bem como utilizar as informações armazenadas."
   ]
  },
  {
   "cell_type": "code",
   "execution_count": 9,
   "id": "32f648ff-ff1e-4967-a260-b81255edd328",
   "metadata": {
    "slideshow": {
     "slide_type": "-"
    }
   },
   "outputs": [
    {
     "name": "stdout",
     "output_type": "stream",
     "text": [
      "Título: O Poderoso Chefão\n",
      "Duração: 175 min\n",
      "\n",
      "Título: A Lista de Schindler\n",
      "Duração: 195 min\n",
      "\n",
      "Título: 12 Homens e uma Sentença\n",
      "Duração: 96 min\n",
      "\n"
     ]
    }
   ],
   "source": [
    "for filme in filmes[0:3]:\n",
    "    print(f\"Título: {filme['titulo']}\")\n",
    "    print(f\"Duração: {filme['duração']}\", end='\\n\\n')"
   ]
  },
  {
   "cell_type": "markdown",
   "id": "5de09d00-dbe7-4186-90bb-fd1b42c2e345",
   "metadata": {
    "slideshow": {
     "slide_type": "slide"
    }
   },
   "source": [
    "### Selenium"
   ]
  },
  {
   "cell_type": "markdown",
   "id": "a31f0317-1f0f-499a-bbc6-71c690572b16",
   "metadata": {
    "slideshow": {
     "slide_type": "-"
    }
   },
   "source": [
    "\"Selenium is an open source umbrella project for a range of tools and libraries aimed at supporting browser automation.\""
   ]
  },
  {
   "cell_type": "markdown",
   "id": "355ecdad-d4a1-4b98-b10e-b2841cd3182b",
   "metadata": {
    "slideshow": {
     "slide_type": "-"
    }
   },
   "source": [
    "Alguns exemplos do uso do Selenium:\n",
    "<ul>\n",
    "    <li>Preencher formulários;</li>\n",
    "    <li>Automatizar tarefas repetitivas;</li>\n",
    "    <li>Automatizar teste de software de aplicativos web.</li>\n",
    "</ul>"
   ]
  },
  {
   "cell_type": "markdown",
   "id": "71bcfbe7-d3dc-45c5-bb4a-5a264d016fca",
   "metadata": {
    "slideshow": {
     "slide_type": "-"
    }
   },
   "source": [
    "👉 Selenium <a href='https://intellipaat.com/blog/wp-content/uploads/2022/10/Selenium-Cheat-Sheet-2022.jpg'>cheat sheet</a>"
   ]
  },
  {
   "cell_type": "markdown",
   "id": "c3ef37bb-a862-45a9-b39d-b833cce46ed2",
   "metadata": {
    "slideshow": {
     "slide_type": "subslide"
    }
   },
   "source": [
    "#### Biblioteca Principal 📚: <a href='https://selenium-python.readthedocs.io/getting-started.html'>Selenium</a>"
   ]
  },
  {
   "cell_type": "markdown",
   "id": "45a66f8d-6a84-43d1-901c-526d257411a0",
   "metadata": {
    "slideshow": {
     "slide_type": "-"
    }
   },
   "source": [
    "<img src=\"https://avatars.githubusercontent.com/u/983927\" width=\"100\" style=\"float: right;\">"
   ]
  },
  {
   "cell_type": "code",
   "execution_count": 10,
   "id": "ce8c1f9a-54b8-41bf-b4b5-9c36b31a3a22",
   "metadata": {
    "slideshow": {
     "slide_type": "-"
    }
   },
   "outputs": [],
   "source": [
    "!pip install --upgrade selenium --quiet"
   ]
  },
  {
   "cell_type": "code",
   "execution_count": 11,
   "id": "60b0bf5e-7e59-4d13-8e48-fd483bdcf377",
   "metadata": {
    "slideshow": {
     "slide_type": "-"
    }
   },
   "outputs": [],
   "source": [
    "from selenium import webdriver"
   ]
  },
  {
   "cell_type": "markdown",
   "id": "41b1d1cd-930e-48ea-8897-a8132b67208d",
   "metadata": {
    "slideshow": {
     "slide_type": "-"
    }
   },
   "source": [
    "Resumidamente, o roteiro de uma automatização com o Selenium se dá com os seguintes passos:\n",
    "\n",
    "<ul>\n",
    "    <li>Crie uma instância do navegador que você deseja automatizar com o webdriver;</li>\n",
    "    <ul>\n",
    "        <li>Você pode escolher entre vários: Chrome, Firefox, Edge, Safari, etc.</li>\n",
    "    </ul>\n",
    "    <li>Defina a página que ele vai navegar (usando o .get);</li>\n",
    "    <li>Encontre o elemento para interação na página de navegação (usualmente com o .find_element);</li>\n",
    "    <li>Interaja simulando clique(s) com o mouse (usualmente com o .click); e</li>\n",
    "    <li>Destrua a instância do navegador que foi utilizado para automatizar a tarefa (com o .quit).</li>\n",
    "</ul>"
   ]
  },
  {
   "cell_type": "markdown",
   "id": "c23814b8-f994-468e-abfc-cfc84a715662",
   "metadata": {
    "slideshow": {
     "slide_type": "subslide"
    }
   },
   "source": [
    "#### Passo 1 - Criar Instância do Navegador"
   ]
  },
  {
   "cell_type": "markdown",
   "id": "96bd4c57-3ad2-4d61-89a9-6995103f3a7a",
   "metadata": {
    "slideshow": {
     "slide_type": "-"
    }
   },
   "source": [
    "<pre>Vamos usar como exemplo a página https://covid.saude.gov.br/ do Ministério da Saúde</pre>"
   ]
  },
  {
   "cell_type": "code",
   "execution_count": 12,
   "id": "35abdd3b-e861-4432-a638-4caa65da0433",
   "metadata": {
    "slideshow": {
     "slide_type": "-"
    }
   },
   "outputs": [],
   "source": [
    "driver = webdriver.Chrome() "
   ]
  },
  {
   "cell_type": "markdown",
   "id": "dad4b996-2c17-499f-afad-05525373b3a8",
   "metadata": {
    "slideshow": {
     "slide_type": "-"
    }
   },
   "source": [
    "<img src='figs/chrome.png'>"
   ]
  },
  {
   "cell_type": "markdown",
   "id": "6b6dbc32-e3d0-45e8-9a30-22beb6afc0fc",
   "metadata": {
    "slideshow": {
     "slide_type": "subslide"
    }
   },
   "source": [
    "#### Passo 2 - Definir a Página a Navegar"
   ]
  },
  {
   "cell_type": "markdown",
   "id": "5b43be58-4668-4cf0-9d37-9bdec97de75c",
   "metadata": {
    "slideshow": {
     "slide_type": "-"
    }
   },
   "source": [
    "<pre>Agora, vamos inserir o endereço que o Selenium realizará sua tarefa</pre>"
   ]
  },
  {
   "cell_type": "code",
   "execution_count": 13,
   "id": "083793b8-6c8c-47e8-ae3b-aaac4b6e76fc",
   "metadata": {
    "slideshow": {
     "slide_type": "-"
    }
   },
   "outputs": [],
   "source": [
    "driver.get(\"https://covid.saude.gov.br/\")"
   ]
  },
  {
   "cell_type": "markdown",
   "id": "14fc556b-0ab3-47d4-a2b0-5908b1bacb51",
   "metadata": {
    "slideshow": {
     "slide_type": "-"
    }
   },
   "source": [
    "<img src='figs/covid.png'>"
   ]
  },
  {
   "cell_type": "markdown",
   "id": "fc013f00-1ddd-48ff-921d-b6111bfaceeb",
   "metadata": {
    "slideshow": {
     "slide_type": "subslide"
    }
   },
   "source": [
    "#### Passo 3 - Encontrar Elemento para Interagir"
   ]
  },
  {
   "cell_type": "markdown",
   "id": "5bff3e0f-1550-43e8-af12-61fe200160f0",
   "metadata": {
    "slideshow": {
     "slide_type": "-"
    }
   },
   "source": [
    "👉 Xpath <a href='https://devhints.io/xpath'>cheat sheet</a>"
   ]
  },
  {
   "cell_type": "markdown",
   "id": "ca802611-c2b9-4329-8a1a-4a59be89de94",
   "metadata": {
    "slideshow": {
     "slide_type": "-"
    }
   },
   "source": [
    "<pre>Vamos definir o caminho que será percorrido na página, usando Xpath, para encontrar o botão da página para baixarmos os arquivos csv...</pre>"
   ]
  },
  {
   "cell_type": "code",
   "execution_count": 14,
   "id": "ac76c962-90ba-478a-b340-1f2d38c4b14c",
   "metadata": {
    "slideshow": {
     "slide_type": "-"
    }
   },
   "outputs": [],
   "source": [
    "caminho = './html/body/app-root/ion-app/ion-router-outlet/app-home/'\n",
    "caminho += 'ion-content/div[1]/div[2]/ion-button'\n",
    "file = driver.find_element('xpath', caminho)"
   ]
  },
  {
   "cell_type": "markdown",
   "id": "6aff7892-0066-416c-9f33-d46685b69cf4",
   "metadata": {
    "slideshow": {
     "slide_type": "subslide"
    }
   },
   "source": [
    "#### Passo 4 - Simule clique do mouse"
   ]
  },
  {
   "cell_type": "markdown",
   "id": "ff09a043-4dc1-41df-8377-761ff05646a0",
   "metadata": {
    "slideshow": {
     "slide_type": "-"
    }
   },
   "source": [
    "<pre>... e simulamos o clique do mouse para efetivamente baixarmos os arquivos.</pre>"
   ]
  },
  {
   "cell_type": "code",
   "execution_count": 15,
   "id": "9de57eb8-12ff-4a76-a301-e505f868cd2b",
   "metadata": {
    "slideshow": {
     "slide_type": "-"
    }
   },
   "outputs": [],
   "source": [
    "file.click()"
   ]
  },
  {
   "cell_type": "markdown",
   "id": "27b5cbf6-9083-444d-b4b6-14015787507c",
   "metadata": {
    "slideshow": {
     "slide_type": "-"
    }
   },
   "source": [
    "<img src='figs/click.png'>"
   ]
  },
  {
   "cell_type": "markdown",
   "id": "84c2096a-b02c-40e4-bc9e-20672d75dba7",
   "metadata": {
    "slideshow": {
     "slide_type": "subslide"
    }
   },
   "source": [
    "#### Passo 5 - Destrua a instância do navegador"
   ]
  },
  {
   "cell_type": "markdown",
   "id": "fd1a56ff-76af-42eb-abab-58c0b5723e31",
   "metadata": {
    "slideshow": {
     "slide_type": "-"
    }
   },
   "source": [
    "<pre>Por fim, com a tarefa concluída, precisamos destruir a instância do navegador.</pre>"
   ]
  },
  {
   "cell_type": "code",
   "execution_count": 16,
   "id": "61e4bb97-278a-4db2-8c7d-574cf21c909f",
   "metadata": {
    "slideshow": {
     "slide_type": "-"
    }
   },
   "outputs": [],
   "source": [
    "driver.quit()"
   ]
  },
  {
   "cell_type": "markdown",
   "id": "bb7707a2",
   "metadata": {
    "slideshow": {
     "slide_type": "slide"
    }
   },
   "source": [
    "## Juntando as Peças 🧩"
   ]
  },
  {
   "cell_type": "markdown",
   "id": "48da4c41-ba67-4928-9383-0390fb3a6539",
   "metadata": {
    "slideshow": {
     "slide_type": "subslide"
    }
   },
   "source": [
    "### Raspagem Avançada de Dados ✂️"
   ]
  },
  {
   "cell_type": "markdown",
   "id": "f5b8498b-d19f-44fd-8eb2-bae43c6dce13",
   "metadata": {
    "slideshow": {
     "slide_type": "-"
    }
   },
   "source": [
    "#### BeautifulSoup"
   ]
  },
  {
   "cell_type": "code",
   "execution_count": 17,
   "id": "d991abf6-f03d-4347-893d-c7ef6cb0fd1e",
   "metadata": {
    "slideshow": {
     "slide_type": "-"
    }
   },
   "outputs": [],
   "source": [
    "import os, json"
   ]
  },
  {
   "cell_type": "markdown",
   "id": "a367af93-d4af-4cab-964d-033d29382c27",
   "metadata": {
    "slideshow": {
     "slide_type": "skip"
    }
   },
   "source": [
    "##### Funções Auxiliares"
   ]
  },
  {
   "cell_type": "code",
   "execution_count": 18,
   "id": "54344095-a5ac-4070-96c9-89e5970a354f",
   "metadata": {
    "slideshow": {
     "slide_type": "skip"
    },
    "tags": []
   },
   "outputs": [],
   "source": [
    "\"\"\"\n",
    "workaround para contornar a exceção: \\\n",
    "    SSLError: [SSL: UNSAFE_LEGACY_RENEGOTIATION_DISABLED] \\\n",
    "    unsafe legacy renegotiation disabled (_ssl.c:997)\n",
    "\n",
    "é possível considerando que estamos tratando apenas de dados públicos\n",
    "\"\"\"\n",
    "\n",
    "import requests, urllib3, ssl\n",
    "\n",
    "class CustomHttpAdapter (requests.adapters.HTTPAdapter):\n",
    "    def __init__(self, ssl_context=None, **kwargs):\n",
    "        self.ssl_context = ssl_context\n",
    "        super().__init__(**kwargs)\n",
    "    def init_poolmanager(self, connections, maxsize, block=False):\n",
    "        self.poolmanager = urllib3.poolmanager.PoolManager(\n",
    "            num_pools=connections, maxsize=maxsize,\n",
    "            block=block, ssl_context=self.ssl_context)\n",
    "def get_legacy_session():\n",
    "    ctx = ssl.create_default_context(ssl.Purpose.SERVER_AUTH)\n",
    "    ctx.options |= 0x4  # OP_LEGACY_SERVER_CONNECT\n",
    "    session = requests.session()\n",
    "    session.mount('https://', CustomHttpAdapter(ctx))\n",
    "    return session"
   ]
  },
  {
   "cell_type": "code",
   "execution_count": 19,
   "id": "a4d61ac6-e4cd-4920-a729-0ba5c3e512f2",
   "metadata": {
    "slideshow": {
     "slide_type": "skip"
    }
   },
   "outputs": [],
   "source": [
    "def build_path(subfolder = 'raw'):\n",
    "    folderpath = os.path.join(os.getcwd(), os.pardir, \n",
    "                              'project', 'data', subfolder)\n",
    "    folderpath = os.path.abspath(folderpath)\n",
    "    if not os.path.exists(folderpath): os.makedirs(folderpath)\n",
    "    return folderpath"
   ]
  },
  {
   "cell_type": "markdown",
   "id": "6979bf86",
   "metadata": {
    "slideshow": {
     "slide_type": "-"
    }
   },
   "source": [
    "<pre>Agora, vamos raspar os dados do IBGE disponíveis em https://ibge.gov.br/cidades-e-estados/</pre>"
   ]
  },
  {
   "cell_type": "markdown",
   "id": "a97c9f4a",
   "metadata": {
    "slideshow": {
     "slide_type": "-"
    }
   },
   "source": [
    "<pre>Vamos escolher arbitrariamente um estado como nosso estudo de caso...</pre>"
   ]
  },
  {
   "cell_type": "markdown",
   "id": "82d3b24d",
   "metadata": {
    "slideshow": {
     "slide_type": "-"
    }
   },
   "source": [
    "<pre>... e vamos acessar o conteúdo da página correspondente.</pre>"
   ]
  },
  {
   "cell_type": "code",
   "execution_count": 20,
   "id": "177e763e",
   "metadata": {
    "slideshow": {
     "slide_type": "-"
    }
   },
   "outputs": [
    {
     "data": {
      "text/plain": [
       "b'\\xef\\xbb\\xbf\\n<!DOCTYPE HTML>\\n\\n<html lang=\"pt-BR\">\\n\\n<head>\\n\\t<meta name=\"viewport\" content=\"width=device-width, initial-scale=1.0\">\\n\\t<meta http-equiv=\"X-UA-Compatible\" content=\"IE=edge\">\\n  \\n    <!-- Global site '"
      ]
     },
     "execution_count": 20,
     "metadata": {},
     "output_type": "execute_result"
    }
   ],
   "source": [
    "lower_state = 'ce'\n",
    "url = f'https://ibge.gov.br/cidades-e-estados/{lower_state}.html'\n",
    "\n",
    "response = get_legacy_session().get(url)\n",
    "content = response.content\n",
    "content[:200]"
   ]
  },
  {
   "cell_type": "markdown",
   "id": "520cada4",
   "metadata": {
    "slideshow": {
     "slide_type": "subslide"
    }
   },
   "source": [
    "<pre>pausa para transformar em função o que fizemos até agora, com a finalidade de reúso...</pre>"
   ]
  },
  {
   "cell_type": "code",
   "execution_count": 21,
   "id": "cdeadd94",
   "metadata": {
    "slideshow": {
     "slide_type": "-"
    }
   },
   "outputs": [],
   "source": [
    "def scrape_from_internet(url, lower_state):\n",
    "    URL_STATE = f'{url}/{lower_state}.html'\n",
    "    try:\n",
    "        response = requests.get(f'{URL_STATE}')\n",
    "    except requests.exceptions.SSLError:\n",
    "        response = get_legacy_session().get(f'{URL_STATE}')\n",
    "    return response.content"
   ]
  },
  {
   "cell_type": "markdown",
   "id": "58d872b0",
   "metadata": {
    "slideshow": {
     "slide_type": "-"
    }
   },
   "source": [
    "<pre>... e testar nosso código</pre>"
   ]
  },
  {
   "cell_type": "code",
   "execution_count": 22,
   "id": "6e35777a",
   "metadata": {
    "slideshow": {
     "slide_type": "-"
    }
   },
   "outputs": [
    {
     "data": {
      "text/plain": [
       "b'\\xef\\xbb\\xbf\\n<!DOCTYPE HTML>\\n\\n<html lang=\"pt-BR\">\\n\\n<head>\\n\\t<meta name=\"viewport\" content=\"width=device-width, initial-scale=1.0\">\\n\\t<meta http-equiv=\"X-UA-Compatible\" content=\"IE=edge\">\\n  \\n    <!-- Global site '"
      ]
     },
     "execution_count": 22,
     "metadata": {},
     "output_type": "execute_result"
    }
   ],
   "source": [
    "url = 'https://ibge.gov.br/cidades-e-estados'\n",
    "lower_state = 'ce'\n",
    "content = scrape_from_internet(url, lower_state)\n",
    "content[:200]"
   ]
  },
  {
   "cell_type": "markdown",
   "id": "69251fae",
   "metadata": {
    "slideshow": {
     "slide_type": "subslide"
    }
   },
   "source": [
    "<pre>... segundo, vamos descobrir os indicadores disponibilizados no sítio...</pre>"
   ]
  },
  {
   "cell_type": "code",
   "execution_count": 23,
   "id": "85e5ce73",
   "metadata": {
    "slideshow": {
     "slide_type": "-"
    }
   },
   "outputs": [
    {
     "data": {
      "text/plain": [
       "<div class=\"indicador\"><div class=\"ind-label\"><p>Governador</p></div><p class=\"ind-value\">ELMANO DE FREITAS DA COSTA<small>   [2023]</small></p></div>"
      ]
     },
     "execution_count": 23,
     "metadata": {},
     "output_type": "execute_result"
    }
   ],
   "source": [
    "#código novo (continuando o anterior)\n",
    "indicators_soup = BeautifulSoup(content, 'html.parser')\n",
    "all_indicators = indicators_soup.find_all('div', class_='indicador')\n",
    "indicator = all_indicators[0]\n",
    "indicator"
   ]
  },
  {
   "cell_type": "markdown",
   "id": "20d2379c",
   "metadata": {
    "slideshow": {
     "slide_type": "subslide"
    }
   },
   "source": [
    "<pre>pausa para transformar em função o que fizemos até agora, com a finalidade de reúso...</pre>"
   ]
  },
  {
   "cell_type": "code",
   "execution_count": 24,
   "id": "f3559869",
   "metadata": {
    "slideshow": {
     "slide_type": "-"
    }
   },
   "outputs": [],
   "source": [
    "def html_indicators(content):\n",
    "    indicators_soup = BeautifulSoup(content, 'html.parser')\n",
    "    all_indicators = indicators_soup.find_all('div', \n",
    "                                              class_='indicador')\n",
    "    return all_indicators"
   ]
  },
  {
   "cell_type": "markdown",
   "id": "2fd3a1de",
   "metadata": {
    "slideshow": {
     "slide_type": "-"
    }
   },
   "source": [
    "<pre>... e testar nosso código</pre>"
   ]
  },
  {
   "cell_type": "code",
   "execution_count": 25,
   "id": "b836b227",
   "metadata": {
    "slideshow": {
     "slide_type": "-"
    }
   },
   "outputs": [
    {
     "data": {
      "text/plain": [
       "<div class=\"indicador\"><div class=\"ind-label\"><p>Governador</p></div><p class=\"ind-value\">ELMANO DE FREITAS DA COSTA<small>   [2023]</small></p></div>"
      ]
     },
     "execution_count": 25,
     "metadata": {},
     "output_type": "execute_result"
    }
   ],
   "source": [
    "url = 'https://ibge.gov.br/cidades-e-estados'\n",
    "lower_state = 'ce'\n",
    "content = scrape_from_internet(url, lower_state)\n",
    "indicators = html_indicators(content)\n",
    "indicators[0]"
   ]
  },
  {
   "cell_type": "markdown",
   "id": "49bcd2bd",
   "metadata": {
    "slideshow": {
     "slide_type": "subslide"
    }
   },
   "source": [
    "<pre>... terceiro, no indicador, vamos extrair os pedaços de informação que nos interessam...</pre>"
   ]
  },
  {
   "cell_type": "markdown",
   "id": "81c5a638",
   "metadata": {
    "slideshow": {
     "slide_type": "-"
    }
   },
   "source": [
    "<pre>... inicialmente, pela prova de conceito de extrair informações do primeiro indicador...</pre>"
   ]
  },
  {
   "cell_type": "code",
   "execution_count": 26,
   "id": "5df5c32d",
   "metadata": {
    "slideshow": {
     "slide_type": "-"
    }
   },
   "outputs": [],
   "source": [
    "indicator = all_indicators[0]"
   ]
  },
  {
   "cell_type": "code",
   "execution_count": 27,
   "id": "4a3a8957",
   "metadata": {
    "slideshow": {
     "slide_type": "-"
    }
   },
   "outputs": [
    {
     "data": {
      "text/plain": [
       "{'label': 'Governador', 'value': 'ELMANO DE FREITAS DA COSTA', 'measure': ''}"
      ]
     },
     "execution_count": 27,
     "metadata": {},
     "output_type": "execute_result"
    }
   ],
   "source": [
    "#código novo (continuando o anterior)\n",
    "label = indicator.find('div', class_='ind-label')\n",
    "value = indicator.find('p', class_='ind-value').\\\n",
    "                    get_text(strip=False)\n",
    "measure = indicator.find('span', class_='indicador-unidade')\n",
    "measure = measure.get_text(strip=True) if measure else '\\xa0'\n",
    "{'label': label.get_text(strip=True), \\\n",
    "        'value': [x.strip() for x in value.split(measure)][0], \\\n",
    "        'measure': measure.strip()}"
   ]
  },
  {
   "cell_type": "markdown",
   "id": "46283edb",
   "metadata": {
    "slideshow": {
     "slide_type": "subslide"
    }
   },
   "source": [
    "<pre>pausa para transformar em função o que fizemos até agora, com a finalidade de reúso...</pre>"
   ]
  },
  {
   "cell_type": "code",
   "execution_count": 28,
   "id": "ae7e3ad3",
   "metadata": {
    "slideshow": {
     "slide_type": "-"
    }
   },
   "outputs": [],
   "source": [
    "def parse_indicator(indicator):\n",
    "    label = indicator.find('div', class_='ind-label')\n",
    "    value = indicator.find('p', class_='ind-value').get_text(strip=False)\n",
    "    measure = indicator.find('span', class_='indicador-unidade')\n",
    "    measure = measure.get_text(strip=True) if measure else '\\xa0'\n",
    "\n",
    "    return {'label': label.get_text(strip=True), \\\n",
    "            'value': [x.strip() for x in value.split(measure)][0], \\\n",
    "            'measure': measure.strip()}"
   ]
  },
  {
   "cell_type": "markdown",
   "id": "c1485c92",
   "metadata": {
    "slideshow": {
     "slide_type": "-"
    }
   },
   "source": [
    "<pre>... e testar nosso código</pre>"
   ]
  },
  {
   "cell_type": "code",
   "execution_count": 29,
   "id": "eb664d7f",
   "metadata": {
    "slideshow": {
     "slide_type": "-"
    }
   },
   "outputs": [
    {
     "data": {
      "text/plain": [
       "{'label': 'Governador', 'value': 'ELMANO DE FREITAS DA COSTA', 'measure': ''}"
      ]
     },
     "execution_count": 29,
     "metadata": {},
     "output_type": "execute_result"
    }
   ],
   "source": [
    "url = 'https://ibge.gov.br/cidades-e-estados'\n",
    "lower_state = 'ce'\n",
    "content = scrape_from_internet(url, lower_state)\n",
    "all_indicators = html_indicators(content)\n",
    "indicator = all_indicators[0]\n",
    "parse_indicator(indicator)"
   ]
  },
  {
   "cell_type": "markdown",
   "id": "508a61be",
   "metadata": {
    "slideshow": {
     "slide_type": "subslide"
    }
   },
   "source": [
    "<pre>... posteriomente, pela extração de informações de todos os indicadores...</pre>"
   ]
  },
  {
   "cell_type": "code",
   "execution_count": 30,
   "id": "b413f276",
   "metadata": {
    "slideshow": {
     "slide_type": "-"
    }
   },
   "outputs": [],
   "source": [
    "#novo código\n",
    "list_of_indicators = []\n",
    "\n",
    "for indicator in all_indicators:\n",
    "    list_of_indicators.append(parse_indicator(indicator))"
   ]
  },
  {
   "cell_type": "code",
   "execution_count": 31,
   "id": "c025fe89",
   "metadata": {
    "slideshow": {
     "slide_type": "-"
    }
   },
   "outputs": [
    {
     "data": {
      "text/plain": [
       "[{'label': 'Governador', 'value': 'ELMANO DE FREITAS DA COSTA', 'measure': ''},\n",
       " {'label': 'Capital', 'value': 'Fortaleza', 'measure': ''},\n",
       " {'label': 'Gentílico', 'value': 'cearense', 'measure': ''}]"
      ]
     },
     "execution_count": 31,
     "metadata": {},
     "output_type": "execute_result"
    }
   ],
   "source": [
    "list_of_indicators[:3]"
   ]
  },
  {
   "cell_type": "markdown",
   "id": "e59bffb7",
   "metadata": {
    "slideshow": {
     "slide_type": "subslide"
    }
   },
   "source": [
    "<pre>pausa para transformar em função o que fizemos até agora, com a finalidade de reúso...</pre>"
   ]
  },
  {
   "cell_type": "code",
   "execution_count": 32,
   "id": "29b0fbb5",
   "metadata": {
    "slideshow": {
     "slide_type": "-"
    }
   },
   "outputs": [],
   "source": [
    "def parse_indicators(all_indicators):\n",
    "    list_of_indicators = []\n",
    "\n",
    "    for indicator in all_indicators:\n",
    "        list_of_indicators.append(parse_indicator(indicator))\n",
    "        \n",
    "    return list_of_indicators"
   ]
  },
  {
   "cell_type": "markdown",
   "id": "70ab578a",
   "metadata": {
    "slideshow": {
     "slide_type": "-"
    }
   },
   "source": [
    "<pre>... e testar nosso código</pre>"
   ]
  },
  {
   "cell_type": "code",
   "execution_count": 33,
   "id": "b00f19cc",
   "metadata": {
    "slideshow": {
     "slide_type": "-"
    }
   },
   "outputs": [
    {
     "data": {
      "text/plain": [
       "[{'label': 'Governador', 'value': 'ELMANO DE FREITAS DA COSTA', 'measure': ''},\n",
       " {'label': 'Capital', 'value': 'Fortaleza', 'measure': ''},\n",
       " {'label': 'Gentílico', 'value': 'cearense', 'measure': ''}]"
      ]
     },
     "execution_count": 33,
     "metadata": {},
     "output_type": "execute_result"
    }
   ],
   "source": [
    "url = 'https://ibge.gov.br/cidades-e-estados'\n",
    "lower_state = 'ce'\n",
    "content = scrape_from_internet(url, lower_state)\n",
    "all_indicators = html_indicators(content)\n",
    "parsed_indicators = parse_indicators(all_indicators)\n",
    "parsed_indicators[:3]"
   ]
  },
  {
   "cell_type": "markdown",
   "id": "35ea46b2",
   "metadata": {
    "slideshow": {
     "slide_type": "subslide"
    }
   },
   "source": [
    "<pre>... agora, observe que podemos condensar os passos anteriores em uma única função...</pre>"
   ]
  },
  {
   "cell_type": "code",
   "execution_count": 34,
   "id": "7a8ae1f1",
   "metadata": {
    "slideshow": {
     "slide_type": "-"
    }
   },
   "outputs": [],
   "source": [
    "def parse_page(url, lower_state):\n",
    "    content = scrape_from_internet(url, lower_state)\n",
    "    all_indicators = html_indicators(content)\n",
    "    return parse_indicators(all_indicators)"
   ]
  },
  {
   "cell_type": "code",
   "execution_count": 35,
   "id": "29e9edb5",
   "metadata": {
    "slideshow": {
     "slide_type": "-"
    }
   },
   "outputs": [
    {
     "data": {
      "text/plain": [
       "[{'label': 'Governador', 'value': 'ELMANO DE FREITAS DA COSTA', 'measure': ''},\n",
       " {'label': 'Capital', 'value': 'Fortaleza', 'measure': ''},\n",
       " {'label': 'Gentílico', 'value': 'cearense', 'measure': ''}]"
      ]
     },
     "execution_count": 35,
     "metadata": {},
     "output_type": "execute_result"
    }
   ],
   "source": [
    "parse_page('https://ibge.gov.br/cidades-e-estados', 'ce')[:3]"
   ]
  },
  {
   "cell_type": "markdown",
   "id": "e6004f7d",
   "metadata": {
    "slideshow": {
     "slide_type": "subslide"
    }
   },
   "source": [
    "<pre>por fim, precisamos da lista de estados para consolidar a raspagem estado por estado...</pre>"
   ]
  },
  {
   "cell_type": "code",
   "execution_count": 37,
   "id": "be1277a4",
   "metadata": {
    "slideshow": {
     "slide_type": "-"
    }
   },
   "outputs": [
    {
     "data": {
      "text/plain": [
       "['ro', 'ac', 'am']"
      ]
     },
     "execution_count": 37,
     "metadata": {},
     "output_type": "execute_result"
    }
   ],
   "source": [
    "input_filename = 'estados_codigos.json'\n",
    "\n",
    "folderpath = build_path()\n",
    "inputpath = os.path.join(folderpath, input_filename)\n",
    "\n",
    "lower_states = []\n",
    "with open(inputpath) as jsonfile:\n",
    "    json_states = json.load(jsonfile)\n",
    "    for json_state in json_states:\n",
    "        lower_state = json_state['sigla'].lower()\n",
    "        lower_states.append(lower_state)\n",
    "\n",
    "lower_states[:3]"
   ]
  },
  {
   "cell_type": "markdown",
   "id": "30dd6648",
   "metadata": {
    "slideshow": {
     "slide_type": "subslide"
    }
   },
   "source": [
    "<pre>... para percorrermos todos os estados, raspar todos os dados, e armazenar tudo em dicionário...</pre>"
   ]
  },
  {
   "cell_type": "code",
   "execution_count": 38,
   "id": "1e38dec0",
   "metadata": {
    "slideshow": {
     "slide_type": "-"
    }
   },
   "outputs": [],
   "source": [
    "json_states_characteristics = []\n",
    "for lower_state in lower_states:\n",
    "    json_states_characteristics.append(\\\n",
    "        {'state': lower_state,\\\n",
    "         'characteristics': parse_page(url, lower_state)})"
   ]
  },
  {
   "cell_type": "code",
   "execution_count": 39,
   "id": "d4af8e4b",
   "metadata": {
    "slideshow": {
     "slide_type": "-"
    }
   },
   "outputs": [
    {
     "data": {
      "text/plain": [
       "'ro'"
      ]
     },
     "execution_count": 39,
     "metadata": {},
     "output_type": "execute_result"
    }
   ],
   "source": [
    "json_states_characteristics[0]['state']"
   ]
  },
  {
   "cell_type": "code",
   "execution_count": 40,
   "id": "6a16e479",
   "metadata": {
    "slideshow": {
     "slide_type": "-"
    }
   },
   "outputs": [
    {
     "data": {
      "text/plain": [
       "[{'label': 'Governador',\n",
       "  'value': 'MARCOS JOSÉ ROCHA DOS SANTOS',\n",
       "  'measure': ''},\n",
       " {'label': 'Capital', 'value': 'Porto Velho', 'measure': ''},\n",
       " {'label': 'Gentílico', 'value': 'rondoniense ou rondoniano', 'measure': ''}]"
      ]
     },
     "execution_count": 40,
     "metadata": {},
     "output_type": "execute_result"
    }
   ],
   "source": [
    "json_states_characteristics[0]['characteristics'][:3]"
   ]
  },
  {
   "cell_type": "markdown",
   "id": "d06dc57d",
   "metadata": {
    "slideshow": {
     "slide_type": "subslide"
    }
   },
   "source": [
    "<pre>... e armazenar tudo no sistema de arquivos.</pre>"
   ]
  },
  {
   "cell_type": "code",
   "execution_count": 41,
   "id": "f89c2136",
   "metadata": {
    "slideshow": {
     "slide_type": "-"
    }
   },
   "outputs": [],
   "source": [
    "output_filename = 'estados_caracteristicas.json'\n",
    "\n",
    "outputpath = os.path.join(folderpath, output_filename)\n",
    "with open(outputpath, mode='w') as jsonfile:\n",
    "    json.dump(json_states_characteristics, jsonfile)"
   ]
  },
  {
   "cell_type": "markdown",
   "id": "204ebe17",
   "metadata": {
    "slideshow": {
     "slide_type": "subslide"
    }
   },
   "source": [
    "<pre>pausa para transformar em função o que fizemos até agora, com a finalidade de reúso...</pre>"
   ]
  },
  {
   "cell_type": "code",
   "execution_count": 42,
   "id": "e7a51d21-e11d-42a8-b028-986a8f33e843",
   "metadata": {
    "slideshow": {
     "slide_type": "-"
    }
   },
   "outputs": [],
   "source": [
    "import json\n",
    "\n",
    "def access_pages_and_save(url, input_filename, output_filename):\n",
    "\n",
    "    folderpath = build_path()\n",
    "    inputpath = os.path.join(folderpath, input_filename)\n",
    "\n",
    "    lower_states = []\n",
    "    with open(inputpath) as jsonfile:\n",
    "        json_states = json.load(jsonfile)\n",
    "        for json_state in json_states:\n",
    "            lower_state = json_state['sigla'].lower()\n",
    "            lower_states.append(lower_state)        \n",
    "\n",
    "    json_states_characteristics = []\n",
    "    for lower_state in lower_states:\n",
    "        json_states_characteristics.append(\\\n",
    "            {'state': lower_state,\\\n",
    "             'characteristics': parse_page(url, lower_state)})\n",
    "\n",
    "    outputpath = os.path.join(folderpath, output_filename)\n",
    "    with open(outputpath, mode='w') as jsonfile:\n",
    "        json.dump(json_states_characteristics, jsonfile)"
   ]
  },
  {
   "cell_type": "markdown",
   "id": "19a4fa97",
   "metadata": {
    "slideshow": {
     "slide_type": "subslide"
    }
   },
   "source": [
    "<pre>... e testar nosso código</pre>"
   ]
  },
  {
   "cell_type": "code",
   "execution_count": 43,
   "id": "6645c312-f88b-46f4-8075-830564d56d3d",
   "metadata": {
    "slideshow": {
     "slide_type": "-"
    }
   },
   "outputs": [],
   "source": [
    "access_pages_and_save(url = 'https://ibge.gov.br/cidades-e-estados',\n",
    "                      input_filename = 'estados_codigos.json',\n",
    "                      output_filename = 'estados_caracteristicas.json')"
   ]
  },
  {
   "cell_type": "markdown",
   "id": "b03616d5",
   "metadata": {
    "slideshow": {
     "slide_type": "slide"
    }
   },
   "source": [
    "### Raspagem Avançada de Dados ✂️"
   ]
  },
  {
   "cell_type": "markdown",
   "id": "1160e0af-4c41-47a5-8f1e-f1ea6b2f6f36",
   "metadata": {
    "slideshow": {
     "slide_type": "-"
    }
   },
   "source": [
    "#### Selenium"
   ]
  },
  {
   "cell_type": "markdown",
   "id": "f1f8d719-1490-4aed-9d26-89f4ea4ef78e",
   "metadata": {
    "slideshow": {
     "slide_type": "-"
    }
   },
   "source": [
    "##### Funções Auxiliares"
   ]
  },
  {
   "cell_type": "code",
   "execution_count": 44,
   "id": "ae2e0382-a532-4da8-9f69-c52e261f1a00",
   "metadata": {
    "slideshow": {
     "slide_type": "-"
    }
   },
   "outputs": [],
   "source": [
    "import os, time, csv"
   ]
  },
  {
   "cell_type": "markdown",
   "id": "8e8fe912-efde-4063-ab0b-5d5378c300b1",
   "metadata": {
    "slideshow": {
     "slide_type": "-"
    }
   },
   "source": [
    "<pre>Agora, vamos raspar os dados de Covid disponíveis em https://covid.saude.gov.br/ com Selenium</pre>"
   ]
  },
  {
   "cell_type": "markdown",
   "id": "913c16a6-5f16-4cbd-874b-75e92f216c38",
   "metadata": {
    "slideshow": {
     "slide_type": "subslide"
    }
   },
   "source": [
    "<pre>Inicialmente, vamos baixar os dados em uma pasta temporária em project/tmp</pre>"
   ]
  },
  {
   "cell_type": "code",
   "execution_count": 45,
   "id": "241d1321-be08-4d37-ac82-f64af0b1c86f",
   "metadata": {
    "slideshow": {
     "slide_type": "-"
    }
   },
   "outputs": [],
   "source": [
    "from selenium import webdriver\n",
    "from selenium.webdriver.chrome.options import Options\n",
    "from selenium.webdriver.common.by import By"
   ]
  },
  {
   "cell_type": "code",
   "execution_count": 46,
   "id": "c7373fe7-bcc3-4054-8e62-5fbbf4bf4dcb",
   "metadata": {
    "slideshow": {
     "slide_type": "-"
    }
   },
   "outputs": [],
   "source": [
    "url = 'https://covid.saude.gov.br/'\n",
    "folderpath = build_path('tmp')\n",
    "\n",
    "options = Options()\n",
    "prefs = {'download.default_directory' : folderpath}\n",
    "options.add_experimental_option('prefs', prefs)\n",
    "driver = webdriver.Chrome(options=options)\n",
    "driver.get(url)\n",
    "\n",
    "button = driver.find_element(By.XPATH, \n",
    "                             \"//*[contains(text(), 'Arquivo CSV')]\")\n",
    "time.sleep(2) #precisamos pausar 2 segundos para não travar o download\n",
    "button.click()"
   ]
  },
  {
   "cell_type": "markdown",
   "id": "c82b7257-c62e-462f-a2f6-b7a9c6c8fe48",
   "metadata": {
    "slideshow": {
     "slide_type": "subslide"
    }
   },
   "source": [
    "<pre>Vamos ver se o arquivo foi baixado.</pre>"
   ]
  },
  {
   "cell_type": "code",
   "execution_count": 47,
   "id": "31bbbd91-6208-4c33-847a-06d09d9ef526",
   "metadata": {
    "slideshow": {
     "slide_type": "-"
    }
   },
   "outputs": [
    {
     "name": "stdout",
     "output_type": "stream",
     "text": [
      "\u001b[1;36m/Users/heliomacedofilho/code/heliomacedofilho/aspectos-de-programacao-para-ciencia-de-dados/bootcamp/project/data/tmp\u001b[0m\n",
      "\n",
      "0 directories, 0 files\n"
     ]
    }
   ],
   "source": [
    "!tree {folderpath}"
   ]
  },
  {
   "cell_type": "markdown",
   "id": "d84ebf15-f1db-4136-b858-54d2073c5d63",
   "metadata": {
    "slideshow": {
     "slide_type": "subslide"
    }
   },
   "source": [
    "<pre>Alternativamente, podemos fazer uma função para verificar se o arquivo foi baixado e obter o seu caminho absoluto</pre>"
   ]
  },
  {
   "cell_type": "code",
   "execution_count": 48,
   "id": "f14b98c9-cc2a-48d2-a665-f4a6a514a96a",
   "metadata": {
    "slideshow": {
     "slide_type": "-"
    }
   },
   "outputs": [],
   "source": [
    "def file_exists(filename_start = 'HIST_PAINEL_COVID'):\n",
    "    folderpath = build_path('tmp')\n",
    "    compressed_filepath = None\n",
    "\n",
    "    for file in os.listdir(folderpath):\n",
    "        if file.startswith(filename_start) and file.endswith('.zip'):\n",
    "            compressed_filepath = os.path.join(folderpath, file)\n",
    "    \n",
    "    return compressed_filepath"
   ]
  },
  {
   "cell_type": "code",
   "execution_count": 49,
   "id": "f563bf99-3384-447a-97f6-21edcbea1cd1",
   "metadata": {
    "slideshow": {
     "slide_type": "-"
    }
   },
   "outputs": [
    {
     "data": {
      "text/plain": [
       "'/Users/heliomacedofilho/code/heliomacedofilho/aspectos-de-programacao-para-ciencia-de-dados/bootcamp/project/data/tmp/HIST_PAINEL_COVIDBR_29set2023.zip'"
      ]
     },
     "execution_count": 49,
     "metadata": {},
     "output_type": "execute_result"
    }
   ],
   "source": [
    "compressed_filepath = None\n",
    "while compressed_filepath is None:\n",
    "    time.sleep(1)\n",
    "    compressed_filepath = file_exists()\n",
    "compressed_filepath"
   ]
  },
  {
   "cell_type": "markdown",
   "id": "476cd991-27c1-4138-b44a-6d79afd97d4c",
   "metadata": {
    "slideshow": {
     "slide_type": "-"
    }
   },
   "source": [
    "<pre>Com a certeza de que o arquivo foi finalmente baixado, podemos fechar a janela do navegador.</pre>"
   ]
  },
  {
   "cell_type": "code",
   "execution_count": 50,
   "id": "ba2de5b0-56de-4e98-b452-a15fa763deaf",
   "metadata": {
    "slideshow": {
     "slide_type": "-"
    }
   },
   "outputs": [],
   "source": [
    "driver.close()"
   ]
  },
  {
   "cell_type": "markdown",
   "id": "e1ad3eda-cef3-437b-a910-40e77621c644",
   "metadata": {
    "slideshow": {
     "slide_type": "subslide"
    }
   },
   "source": [
    "<pre>pausa para transformar em função o que fizemos até agora, com a finalidade de reúso...</pre>"
   ]
  },
  {
   "cell_type": "code",
   "execution_count": 51,
   "id": "aad3fcac-2ea6-4412-8ae9-15482eecd962",
   "metadata": {
    "slideshow": {
     "slide_type": "-"
    }
   },
   "outputs": [],
   "source": [
    "def open_browser_and_save(url = 'https://covid.saude.gov.br/',\n",
    "                          filename_start = 'HIST_PAINEL_COVID'):\n",
    "    folderpath = build_path('tmp')\n",
    "\n",
    "    #trecho incluído para limpar a pasta tmp\n",
    "    for file in os.listdir(folderpath):\n",
    "        if file.startswith('HIST_PAINEL_COVID'):\n",
    "            filepath = os.path.join(folderpath, file)\n",
    "            os.remove(filepath)\n",
    "    \n",
    "    options = Options()\n",
    "    prefs = {'download.default_directory' : folderpath}\n",
    "    options.add_experimental_option('prefs', prefs)\n",
    "    driver = webdriver.Chrome(options=options)\n",
    "    driver.get(url)\n",
    "\n",
    "    button = driver.find_element(By.XPATH,\n",
    "                                 \"//*[contains(text(), 'Arquivo CSV')]\")\n",
    "    time.sleep(2)\n",
    "    button.click()\n",
    "\n",
    "    #código aperfeiçoado para fechar a janela no fim do download\n",
    "    compressed_filepath = None\n",
    "    while compressed_filepath is None:\n",
    "        time.sleep(1)\n",
    "        compressed_filepath = file_exists()\n",
    "\n",
    "    driver.close()\n",
    "    \n",
    "    return compressed_filepath"
   ]
  },
  {
   "cell_type": "markdown",
   "id": "ef0a81c9-e303-4e09-9585-c066073d45a9",
   "metadata": {
    "slideshow": {
     "slide_type": "subslide"
    }
   },
   "source": [
    "<pre>... e testar nosso código</pre>"
   ]
  },
  {
   "cell_type": "code",
   "execution_count": 52,
   "id": "2e0138e4-ef32-4705-9de7-82e85dc961d3",
   "metadata": {
    "slideshow": {
     "slide_type": "-"
    }
   },
   "outputs": [
    {
     "data": {
      "text/plain": [
       "'/Users/heliomacedofilho/code/heliomacedofilho/aspectos-de-programacao-para-ciencia-de-dados/bootcamp/project/data/tmp/HIST_PAINEL_COVIDBR_29set2023.zip'"
      ]
     },
     "execution_count": 52,
     "metadata": {},
     "output_type": "execute_result"
    }
   ],
   "source": [
    "compressed_filepath = open_browser_and_save()\n",
    "compressed_filepath"
   ]
  },
  {
   "cell_type": "markdown",
   "id": "5077ce21-dd57-4c78-ba05-c8b8c9db4da5",
   "metadata": {
    "slideshow": {
     "slide_type": "subslide"
    }
   },
   "source": [
    "<pre>Neste momento, precisamos extrair todos os arquivos que estão inclusos no arquivo zipado...</pre>"
   ]
  },
  {
   "cell_type": "code",
   "execution_count": 53,
   "id": "e6f74d96-f84e-4b4d-b7d0-913a2acde183",
   "metadata": {
    "slideshow": {
     "slide_type": "-"
    }
   },
   "outputs": [],
   "source": [
    "from zipfile import ZipFile\n",
    "\n",
    "compressed_folderpath = os.path.split(compressed_filepath)[0]\n",
    "\n",
    "if compressed_filepath.endswith('.zip'):\n",
    "    with ZipFile(compressed_filepath, 'r') as file:\n",
    "        file.extractall(path=compressed_folderpath)\n",
    "        file.close()"
   ]
  },
  {
   "cell_type": "markdown",
   "id": "d896a1b3-438e-4240-8b6f-ed6aef2cc83f",
   "metadata": {
    "slideshow": {
     "slide_type": "subslide"
    }
   },
   "source": [
    "<pre>... e remover o arquivo zipado</pre>"
   ]
  },
  {
   "cell_type": "code",
   "execution_count": 54,
   "id": "58ab5545-daff-4ff9-bc30-564876858c44",
   "metadata": {
    "slideshow": {
     "slide_type": "-"
    }
   },
   "outputs": [],
   "source": [
    "os.remove(compressed_filepath)"
   ]
  },
  {
   "cell_type": "markdown",
   "id": "dd413f16-e122-4709-8011-b96d13d7d920",
   "metadata": {
    "slideshow": {
     "slide_type": "subslide"
    }
   },
   "source": [
    "<pre>pausa para transformar em função o que fizemos até agora, com a finalidade de reúso...</pre>"
   ]
  },
  {
   "cell_type": "code",
   "execution_count": 55,
   "id": "3af810d7-6d86-4039-a6b3-3fd218121f42",
   "metadata": {
    "slideshow": {
     "slide_type": "-"
    }
   },
   "outputs": [],
   "source": [
    "from zipfile import ZipFile\n",
    "\n",
    "def extract_folder(compressed_filepath, \n",
    "                   filename_start = 'HIST_PAINEL_COVID'):\n",
    "    compressed_folderpath = os.path.split(compressed_filepath)[0]\n",
    "    \n",
    "    if compressed_filepath.endswith('.zip'):\n",
    "        with ZipFile(compressed_filepath, 'r') as file:\n",
    "            file.extractall(path=compressed_folderpath)\n",
    "            file.close()\n",
    "\n",
    "    os.remove(compressed_filepath)"
   ]
  },
  {
   "cell_type": "markdown",
   "id": "76acc919-bbab-4f1c-9cb9-60b1b12be335",
   "metadata": {
    "slideshow": {
     "slide_type": "-"
    }
   },
   "source": [
    "<pre>... e testar nosso código</pre>"
   ]
  },
  {
   "cell_type": "code",
   "execution_count": 56,
   "id": "8a193641-59f4-47a0-b437-7fa3da751c86",
   "metadata": {
    "slideshow": {
     "slide_type": "-"
    }
   },
   "outputs": [],
   "source": [
    "compressed_filepath = open_browser_and_save()\n",
    "extract_folder(compressed_filepath)"
   ]
  },
  {
   "cell_type": "markdown",
   "id": "2cfa3195-84b7-45df-bb95-6c60eda28ab1",
   "metadata": {
    "slideshow": {
     "slide_type": "subslide"
    }
   },
   "source": [
    "<pre>por fim, veja que os arquivos têm a mesma estrutura e agora podemos juntá-los, bem como salvá-los na pasta raw</pre>"
   ]
  },
  {
   "cell_type": "markdown",
   "id": "00204f7b-482d-4ea4-9c4a-1f3c9788f847",
   "metadata": {
    "slideshow": {
     "slide_type": "-"
    }
   },
   "source": [
    "<pre>primeiro, lemos os arquivos csv e armazenamos em memória...</pre>"
   ]
  },
  {
   "cell_type": "code",
   "execution_count": 57,
   "id": "29e0dc0e-e39e-4ea3-a191-64481a98a1fb",
   "metadata": {
    "slideshow": {
     "slide_type": "-"
    }
   },
   "outputs": [],
   "source": [
    "folderpath = build_path('tmp')\n",
    "\n",
    "header, rows = None, []\n",
    "for file in os.listdir(folderpath):\n",
    "    if file.startswith('HIST_PAINEL_COVID') and file.endswith('.csv'):\n",
    "        filepath = os.path.join(folderpath, file)\n",
    "        with open(filepath, encoding='utf-8') as csvfile:\n",
    "            csvreader = csv.DictReader(csvfile, delimiter=';')\n",
    "            header = csvreader.fieldnames\n",
    "            for row in csvreader: rows.append(row)"
   ]
  },
  {
   "cell_type": "markdown",
   "id": "d3048300-7c85-42ea-b762-f891fe469ea4",
   "metadata": {
    "slideshow": {
     "slide_type": "subslide"
    }
   },
   "source": [
    "<pre>... depois, escrevemos da memória para o arquivo csv que ficará armazenado na pasta project/raw.</pre>"
   ]
  },
  {
   "cell_type": "code",
   "execution_count": 58,
   "id": "22afa185-c6ac-4f4e-8573-9f660a36b2bf",
   "metadata": {
    "slideshow": {
     "slide_type": "-"
    }
   },
   "outputs": [],
   "source": [
    "filepath = os.path.join(build_path('raw'), 'ALL_HIST_PAINEL_COVID.csv')\n",
    "with open(filepath, 'w', newline='', encoding='utf-8') as csvfile:\n",
    "    writer = csv.DictWriter(csvfile, fieldnames=header, delimiter=';')\n",
    "    writer.writeheader()\n",
    "    for row in rows: writer.writerow(row)"
   ]
  },
  {
   "cell_type": "code",
   "execution_count": 59,
   "id": "9d7d04f2-342e-4364-82eb-5b1e74a5f5c5",
   "metadata": {
    "slideshow": {
     "slide_type": "subslide"
    }
   },
   "outputs": [
    {
     "data": {
      "text/plain": [
       "'vamos ler a linha 3602213'"
      ]
     },
     "execution_count": 59,
     "metadata": {},
     "output_type": "execute_result"
    }
   ],
   "source": [
    "f'vamos ler a linha {len(rows) // 2}'"
   ]
  },
  {
   "cell_type": "code",
   "execution_count": 60,
   "id": "a5ad0c49-494d-4d74-b9bd-85ac67f965bb",
   "metadata": {
    "slideshow": {
     "slide_type": "-"
    }
   },
   "outputs": [
    {
     "data": {
      "text/plain": [
       "{'regiao': 'Centro-Oeste',\n",
       " 'estado': 'GO',\n",
       " 'municipio': 'Itapuranga',\n",
       " 'coduf': '52',\n",
       " 'codmun': '521120',\n",
       " 'codRegiaoSaude': '52012',\n",
       " 'nomeRegiaoSaude': 'RIO VERMELHO',\n",
       " 'data': '2021-03-19',\n",
       " 'semanaEpi': '11',\n",
       " 'populacaoTCU2019': '25768',\n",
       " 'casosAcumulado': '1757',\n",
       " 'casosNovos': '7',\n",
       " 'obitosAcumulado': '42',\n",
       " 'obitosNovos': '0',\n",
       " 'Recuperadosnovos': '',\n",
       " 'emAcompanhamentoNovos': '',\n",
       " 'interior/metropolitana': '0'}"
      ]
     },
     "execution_count": 60,
     "metadata": {},
     "output_type": "execute_result"
    }
   ],
   "source": [
    "rows[len(rows) // 2]"
   ]
  },
  {
   "cell_type": "markdown",
   "id": "4ec81429-e72b-41e7-876b-7cabf3ebe7a5",
   "metadata": {
    "slideshow": {
     "slide_type": "subslide"
    }
   },
   "source": [
    "<pre>pausa para transformar em função o que fizemos até agora, com a finalidade de reúso...</pre>"
   ]
  },
  {
   "cell_type": "code",
   "execution_count": 61,
   "id": "8ee5f91b-7e1e-42db-a9ec-bdd2eacde6c5",
   "metadata": {
    "slideshow": {
     "slide_type": "-"
    }
   },
   "outputs": [],
   "source": [
    "def concatenate_datasets(filename_start = 'HIST_PAINEL_COVID'):\n",
    "    folderpath = build_path('tmp')\n",
    "\n",
    "    header, rows = None, []\n",
    "    for file in os.listdir(folderpath):\n",
    "        if file.startswith(filename_start) and file.endswith('.csv'):\n",
    "            filepath = os.path.join(folderpath, file)\n",
    "            with open(filepath, encoding='utf-8') as csvfile:\n",
    "                csvreader = csv.DictReader(csvfile, delimiter=';')\n",
    "                header = csvreader.fieldnames\n",
    "                for row in csvreader: rows.append(row)\n",
    "            #os.remove(filepath)\n",
    "\n",
    "    folderpath = build_path('raw')\n",
    "    filepath = os.path.join(folderpath, 'ALL_' + filename_start + '.csv')\n",
    "    with open(filepath, 'w', newline='', encoding='utf-8') as csvfile:\n",
    "        writer = csv.DictWriter(csvfile, fieldnames=header, delimiter=';')\n",
    "        writer.writeheader()\n",
    "        for row in rows: writer.writerow(row)"
   ]
  },
  {
   "cell_type": "markdown",
   "id": "bfb935cb-f6dc-4d26-9f9c-0d7591e331b2",
   "metadata": {
    "slideshow": {
     "slide_type": "subslide"
    }
   },
   "source": [
    "<pre>... e testar nosso código</pre>"
   ]
  },
  {
   "cell_type": "code",
   "execution_count": 62,
   "id": "ae773415-3cef-4796-b529-8eaf35ee2bc1",
   "metadata": {
    "slideshow": {
     "slide_type": "-"
    }
   },
   "outputs": [],
   "source": [
    "compressed_filepath = open_browser_and_save()\n",
    "extract_folder(compressed_filepath)\n",
    "concatenate_datasets()"
   ]
  },
  {
   "cell_type": "code",
   "execution_count": 63,
   "id": "63ab3555-8606-4dfc-99ff-8117cbc0afa0",
   "metadata": {
    "slideshow": {
     "slide_type": "-"
    }
   },
   "outputs": [
    {
     "name": "stdout",
     "output_type": "stream",
     "text": [
      "\u001b[1;36m/Users/heliomacedofilho/code/heliomacedofilho/aspectos-de-programacao-para-ciencia-de-dados/bootcamp/project/data/raw\u001b[0m\n",
      "├── ALL_HIST_PAINEL_COVID.csv\n",
      "├── estados_caracteristicas.json\n",
      "└── estados_codigos.json\n",
      "\n",
      "1 directory, 3 files\n"
     ]
    }
   ],
   "source": [
    "folderpath = build_path()\n",
    "!tree {folderpath}"
   ]
  },
  {
   "cell_type": "markdown",
   "id": "f1dd3515-a1fb-4339-bcab-be9292af7458",
   "metadata": {
    "slideshow": {
     "slide_type": "subslide"
    }
   },
   "source": [
    "<pre>🚨 spoiler: nós ainda não aprendemos pandas 🐼, mas veja como será simples e amigável ler o csv de covid</pre>"
   ]
  },
  {
   "cell_type": "code",
   "execution_count": 64,
   "id": "eac56a5c-2882-4f1c-9070-813620b0e49b",
   "metadata": {
    "slideshow": {
     "slide_type": "-"
    }
   },
   "outputs": [
    {
     "data": {
      "text/html": [
       "<div>\n",
       "<style scoped>\n",
       "    .dataframe tbody tr th:only-of-type {\n",
       "        vertical-align: middle;\n",
       "    }\n",
       "\n",
       "    .dataframe tbody tr th {\n",
       "        vertical-align: top;\n",
       "    }\n",
       "\n",
       "    .dataframe thead th {\n",
       "        text-align: right;\n",
       "    }\n",
       "</style>\n",
       "<table border=\"1\" class=\"dataframe\">\n",
       "  <thead>\n",
       "    <tr style=\"text-align: right;\">\n",
       "      <th></th>\n",
       "      <th>regiao</th>\n",
       "      <th>estado</th>\n",
       "      <th>municipio</th>\n",
       "      <th>coduf</th>\n",
       "      <th>codmun</th>\n",
       "      <th>codRegiaoSaude</th>\n",
       "      <th>nomeRegiaoSaude</th>\n",
       "      <th>data</th>\n",
       "      <th>semanaEpi</th>\n",
       "      <th>populacaoTCU2019</th>\n",
       "      <th>casosAcumulado</th>\n",
       "      <th>casosNovos</th>\n",
       "      <th>obitosAcumulado</th>\n",
       "      <th>obitosNovos</th>\n",
       "      <th>Recuperadosnovos</th>\n",
       "      <th>emAcompanhamentoNovos</th>\n",
       "      <th>interior/metropolitana</th>\n",
       "    </tr>\n",
       "  </thead>\n",
       "  <tbody>\n",
       "    <tr>\n",
       "      <th>0</th>\n",
       "      <td>Brasil</td>\n",
       "      <td>NaN</td>\n",
       "      <td>NaN</td>\n",
       "      <td>76</td>\n",
       "      <td>NaN</td>\n",
       "      <td>NaN</td>\n",
       "      <td>NaN</td>\n",
       "      <td>2020-08-01</td>\n",
       "      <td>31</td>\n",
       "      <td>210147125.0</td>\n",
       "      <td>2707877.0</td>\n",
       "      <td>45392</td>\n",
       "      <td>93563</td>\n",
       "      <td>1088</td>\n",
       "      <td>1865729.0</td>\n",
       "      <td>748585.0</td>\n",
       "      <td>NaN</td>\n",
       "    </tr>\n",
       "    <tr>\n",
       "      <th>1</th>\n",
       "      <td>Brasil</td>\n",
       "      <td>NaN</td>\n",
       "      <td>NaN</td>\n",
       "      <td>76</td>\n",
       "      <td>NaN</td>\n",
       "      <td>NaN</td>\n",
       "      <td>NaN</td>\n",
       "      <td>2020-08-02</td>\n",
       "      <td>32</td>\n",
       "      <td>210147125.0</td>\n",
       "      <td>2733677.0</td>\n",
       "      <td>25800</td>\n",
       "      <td>94104</td>\n",
       "      <td>541</td>\n",
       "      <td>1883677.0</td>\n",
       "      <td>755896.0</td>\n",
       "      <td>NaN</td>\n",
       "    </tr>\n",
       "    <tr>\n",
       "      <th>2</th>\n",
       "      <td>Brasil</td>\n",
       "      <td>NaN</td>\n",
       "      <td>NaN</td>\n",
       "      <td>76</td>\n",
       "      <td>NaN</td>\n",
       "      <td>NaN</td>\n",
       "      <td>NaN</td>\n",
       "      <td>2020-08-03</td>\n",
       "      <td>32</td>\n",
       "      <td>210147125.0</td>\n",
       "      <td>2750318.0</td>\n",
       "      <td>16641</td>\n",
       "      <td>94665</td>\n",
       "      <td>561</td>\n",
       "      <td>1912319.0</td>\n",
       "      <td>743334.0</td>\n",
       "      <td>NaN</td>\n",
       "    </tr>\n",
       "    <tr>\n",
       "      <th>3</th>\n",
       "      <td>Brasil</td>\n",
       "      <td>NaN</td>\n",
       "      <td>NaN</td>\n",
       "      <td>76</td>\n",
       "      <td>NaN</td>\n",
       "      <td>NaN</td>\n",
       "      <td>NaN</td>\n",
       "      <td>2020-08-04</td>\n",
       "      <td>32</td>\n",
       "      <td>210147125.0</td>\n",
       "      <td>2801921.0</td>\n",
       "      <td>51603</td>\n",
       "      <td>95819</td>\n",
       "      <td>1154</td>\n",
       "      <td>1970767.0</td>\n",
       "      <td>735335.0</td>\n",
       "      <td>NaN</td>\n",
       "    </tr>\n",
       "    <tr>\n",
       "      <th>4</th>\n",
       "      <td>Brasil</td>\n",
       "      <td>NaN</td>\n",
       "      <td>NaN</td>\n",
       "      <td>76</td>\n",
       "      <td>NaN</td>\n",
       "      <td>NaN</td>\n",
       "      <td>NaN</td>\n",
       "      <td>2020-08-05</td>\n",
       "      <td>32</td>\n",
       "      <td>210147125.0</td>\n",
       "      <td>2857597.0</td>\n",
       "      <td>55676</td>\n",
       "      <td>97240</td>\n",
       "      <td>1421</td>\n",
       "      <td>2020637.0</td>\n",
       "      <td>741180.0</td>\n",
       "      <td>NaN</td>\n",
       "    </tr>\n",
       "    <tr>\n",
       "      <th>...</th>\n",
       "      <td>...</td>\n",
       "      <td>...</td>\n",
       "      <td>...</td>\n",
       "      <td>...</td>\n",
       "      <td>...</td>\n",
       "      <td>...</td>\n",
       "      <td>...</td>\n",
       "      <td>...</td>\n",
       "      <td>...</td>\n",
       "      <td>...</td>\n",
       "      <td>...</td>\n",
       "      <td>...</td>\n",
       "      <td>...</td>\n",
       "      <td>...</td>\n",
       "      <td>...</td>\n",
       "      <td>...</td>\n",
       "      <td>...</td>\n",
       "    </tr>\n",
       "    <tr>\n",
       "      <th>7204421</th>\n",
       "      <td>Centro-Oeste</td>\n",
       "      <td>DF</td>\n",
       "      <td>Brasília</td>\n",
       "      <td>53</td>\n",
       "      <td>530010.0</td>\n",
       "      <td>53001.0</td>\n",
       "      <td>DISTRITO FEDERAL</td>\n",
       "      <td>2023-09-25</td>\n",
       "      <td>39</td>\n",
       "      <td>3015268.0</td>\n",
       "      <td>916276.0</td>\n",
       "      <td>0</td>\n",
       "      <td>11896</td>\n",
       "      <td>0</td>\n",
       "      <td>NaN</td>\n",
       "      <td>NaN</td>\n",
       "      <td>1.0</td>\n",
       "    </tr>\n",
       "    <tr>\n",
       "      <th>7204422</th>\n",
       "      <td>Centro-Oeste</td>\n",
       "      <td>DF</td>\n",
       "      <td>Brasília</td>\n",
       "      <td>53</td>\n",
       "      <td>530010.0</td>\n",
       "      <td>53001.0</td>\n",
       "      <td>DISTRITO FEDERAL</td>\n",
       "      <td>2023-09-26</td>\n",
       "      <td>39</td>\n",
       "      <td>3015268.0</td>\n",
       "      <td>916276.0</td>\n",
       "      <td>0</td>\n",
       "      <td>11896</td>\n",
       "      <td>0</td>\n",
       "      <td>NaN</td>\n",
       "      <td>NaN</td>\n",
       "      <td>1.0</td>\n",
       "    </tr>\n",
       "    <tr>\n",
       "      <th>7204423</th>\n",
       "      <td>Centro-Oeste</td>\n",
       "      <td>DF</td>\n",
       "      <td>Brasília</td>\n",
       "      <td>53</td>\n",
       "      <td>530010.0</td>\n",
       "      <td>53001.0</td>\n",
       "      <td>DISTRITO FEDERAL</td>\n",
       "      <td>2023-09-27</td>\n",
       "      <td>39</td>\n",
       "      <td>3015268.0</td>\n",
       "      <td>916276.0</td>\n",
       "      <td>0</td>\n",
       "      <td>11896</td>\n",
       "      <td>0</td>\n",
       "      <td>NaN</td>\n",
       "      <td>NaN</td>\n",
       "      <td>1.0</td>\n",
       "    </tr>\n",
       "    <tr>\n",
       "      <th>7204424</th>\n",
       "      <td>Centro-Oeste</td>\n",
       "      <td>DF</td>\n",
       "      <td>Brasília</td>\n",
       "      <td>53</td>\n",
       "      <td>530010.0</td>\n",
       "      <td>53001.0</td>\n",
       "      <td>DISTRITO FEDERAL</td>\n",
       "      <td>2023-09-28</td>\n",
       "      <td>39</td>\n",
       "      <td>3015268.0</td>\n",
       "      <td>916276.0</td>\n",
       "      <td>0</td>\n",
       "      <td>11896</td>\n",
       "      <td>0</td>\n",
       "      <td>NaN</td>\n",
       "      <td>NaN</td>\n",
       "      <td>1.0</td>\n",
       "    </tr>\n",
       "    <tr>\n",
       "      <th>7204425</th>\n",
       "      <td>Centro-Oeste</td>\n",
       "      <td>DF</td>\n",
       "      <td>Brasília</td>\n",
       "      <td>53</td>\n",
       "      <td>530010.0</td>\n",
       "      <td>53001.0</td>\n",
       "      <td>DISTRITO FEDERAL</td>\n",
       "      <td>2023-09-29</td>\n",
       "      <td>39</td>\n",
       "      <td>3015268.0</td>\n",
       "      <td>916276.0</td>\n",
       "      <td>0</td>\n",
       "      <td>11896</td>\n",
       "      <td>0</td>\n",
       "      <td>NaN</td>\n",
       "      <td>NaN</td>\n",
       "      <td>1.0</td>\n",
       "    </tr>\n",
       "  </tbody>\n",
       "</table>\n",
       "<p>7204426 rows × 17 columns</p>\n",
       "</div>"
      ],
      "text/plain": [
       "               regiao estado municipio  coduf    codmun  codRegiaoSaude  \\\n",
       "0              Brasil    NaN       NaN     76       NaN             NaN   \n",
       "1              Brasil    NaN       NaN     76       NaN             NaN   \n",
       "2              Brasil    NaN       NaN     76       NaN             NaN   \n",
       "3              Brasil    NaN       NaN     76       NaN             NaN   \n",
       "4              Brasil    NaN       NaN     76       NaN             NaN   \n",
       "...               ...    ...       ...    ...       ...             ...   \n",
       "7204421  Centro-Oeste     DF  Brasília     53  530010.0         53001.0   \n",
       "7204422  Centro-Oeste     DF  Brasília     53  530010.0         53001.0   \n",
       "7204423  Centro-Oeste     DF  Brasília     53  530010.0         53001.0   \n",
       "7204424  Centro-Oeste     DF  Brasília     53  530010.0         53001.0   \n",
       "7204425  Centro-Oeste     DF  Brasília     53  530010.0         53001.0   \n",
       "\n",
       "          nomeRegiaoSaude        data  semanaEpi  populacaoTCU2019  \\\n",
       "0                     NaN  2020-08-01         31       210147125.0   \n",
       "1                     NaN  2020-08-02         32       210147125.0   \n",
       "2                     NaN  2020-08-03         32       210147125.0   \n",
       "3                     NaN  2020-08-04         32       210147125.0   \n",
       "4                     NaN  2020-08-05         32       210147125.0   \n",
       "...                   ...         ...        ...               ...   \n",
       "7204421  DISTRITO FEDERAL  2023-09-25         39         3015268.0   \n",
       "7204422  DISTRITO FEDERAL  2023-09-26         39         3015268.0   \n",
       "7204423  DISTRITO FEDERAL  2023-09-27         39         3015268.0   \n",
       "7204424  DISTRITO FEDERAL  2023-09-28         39         3015268.0   \n",
       "7204425  DISTRITO FEDERAL  2023-09-29         39         3015268.0   \n",
       "\n",
       "         casosAcumulado  casosNovos  obitosAcumulado  obitosNovos  \\\n",
       "0             2707877.0       45392            93563         1088   \n",
       "1             2733677.0       25800            94104          541   \n",
       "2             2750318.0       16641            94665          561   \n",
       "3             2801921.0       51603            95819         1154   \n",
       "4             2857597.0       55676            97240         1421   \n",
       "...                 ...         ...              ...          ...   \n",
       "7204421        916276.0           0            11896            0   \n",
       "7204422        916276.0           0            11896            0   \n",
       "7204423        916276.0           0            11896            0   \n",
       "7204424        916276.0           0            11896            0   \n",
       "7204425        916276.0           0            11896            0   \n",
       "\n",
       "         Recuperadosnovos  emAcompanhamentoNovos  interior/metropolitana  \n",
       "0               1865729.0               748585.0                     NaN  \n",
       "1               1883677.0               755896.0                     NaN  \n",
       "2               1912319.0               743334.0                     NaN  \n",
       "3               1970767.0               735335.0                     NaN  \n",
       "4               2020637.0               741180.0                     NaN  \n",
       "...                   ...                    ...                     ...  \n",
       "7204421               NaN                    NaN                     1.0  \n",
       "7204422               NaN                    NaN                     1.0  \n",
       "7204423               NaN                    NaN                     1.0  \n",
       "7204424               NaN                    NaN                     1.0  \n",
       "7204425               NaN                    NaN                     1.0  \n",
       "\n",
       "[7204426 rows x 17 columns]"
      ]
     },
     "execution_count": 64,
     "metadata": {},
     "output_type": "execute_result"
    }
   ],
   "source": [
    "from pandas import read_csv\n",
    "\n",
    "covid_df = read_csv(filepath, delimiter=';')\n",
    "covid_df"
   ]
  },
  {
   "cell_type": "markdown",
   "id": "e231ac87-b546-47e1-948d-2a0b757a3874",
   "metadata": {
    "slideshow": {
     "slide_type": "slide"
    }
   },
   "source": [
    "## API Avançada 📝"
   ]
  },
  {
   "cell_type": "code",
   "execution_count": 65,
   "id": "b5663a88-4209-4eac-bc0d-0b0958321b78",
   "metadata": {
    "slideshow": {
     "slide_type": "-"
    }
   },
   "outputs": [],
   "source": [
    "#https://opendatasus.saude.gov.br/dataset/covid-19-vacinacao"
   ]
  },
  {
   "cell_type": "markdown",
   "id": "85fbaf6c-f62e-42f5-b13a-76996ffbfc24",
   "metadata": {
    "slideshow": {
     "slide_type": "-"
    }
   },
   "source": [
    "### Biblioteca Principal 📚: <a href='https://elasticsearch-py.readthedocs.io/en/v8.6.0/'>ElasticSearch</a>"
   ]
  },
  {
   "cell_type": "code",
   "execution_count": 66,
   "id": "19fecac9-2b9a-4ec3-a4a0-0e5a317a4304",
   "metadata": {
    "slideshow": {
     "slide_type": "subslide"
    }
   },
   "outputs": [],
   "source": [
    "!pip install --upgrade elasticsearch --quiet"
   ]
  },
  {
   "cell_type": "code",
   "execution_count": 67,
   "id": "5ddfbb52-ad86-449f-9662-ce00c14fa9c6",
   "metadata": {
    "slideshow": {
     "slide_type": "-"
    }
   },
   "outputs": [],
   "source": [
    "from elasticsearch import Elasticsearch"
   ]
  },
  {
   "cell_type": "markdown",
   "id": "b2b192fd-27e2-49d7-b4f1-b7fefdc37cd8",
   "metadata": {
    "slideshow": {
     "slide_type": "-"
    }
   },
   "source": [
    "<img src=\"https://images.contentstack.io/v3/assets/bltefdd0b53724fa2ce/blt280217a63b82a734/6202d3378b1f312528798412/elastic-logo.svg\" width=\"100\" style=\"float: right;\">"
   ]
  },
  {
   "cell_type": "code",
   "execution_count": 68,
   "id": "c08a3c36-cdc9-41a2-9391-cfcaa1193fd0",
   "metadata": {
    "slideshow": {
     "slide_type": "-"
    }
   },
   "outputs": [
    {
     "data": {
      "image/jpeg": "[encoded data removed]",
      "text/html": [
       "\n",
       "        <iframe\n",
       "            width=\"400\"\n",
       "            height=\"300\"\n",
       "            src=\"https://www.youtube.com/embed/nKsM1sog1wI\"\n",
       "            frameborder=\"0\"\n",
       "            allowfullscreen\n",
       "            \n",
       "        ></iframe>\n",
       "        "
      ],
      "text/plain": [
       "<IPython.lib.display.YouTubeVideo at 0x1290f2d10>"
      ]
     },
     "execution_count": 68,
     "metadata": {},
     "output_type": "execute_result"
    }
   ],
   "source": [
    "from IPython.display import YouTubeVideo\n",
    "YouTubeVideo(id='nKsM1sog1wI')"
   ]
  },
  {
   "cell_type": "markdown",
   "id": "9327024d-56e0-4adb-adbb-58fd5d96d736",
   "metadata": {
    "slideshow": {
     "slide_type": "subslide"
    }
   },
   "source": [
    "#### Funções Auxiliares"
   ]
  },
  {
   "cell_type": "code",
   "execution_count": 69,
   "id": "c5c64ea3-612b-403e-b1e8-5f5328471206",
   "metadata": {
    "slideshow": {
     "slide_type": "-"
    }
   },
   "outputs": [],
   "source": [
    "import os, json\n",
    "\n",
    "def access_elasticsearch_and_save(url, filename):\n",
    "    folderpath = build_path()\n",
    "    filepath = os.path.join(folderpath, filename)\n",
    "    \n",
    "    es = Elasticsearch([{'scheme': 'https', 'host': url, 'port': 443}], \\\n",
    "                       basic_auth=('imunizacao_public', \n",
    "                                   'qlto5t&7r_@+#Tlstigi'),\n",
    "                       request_timeout=60)\n",
    "\n",
    "    #apenas cidades acima de 300k habitantes estão no índice\n",
    "    #quando consulta mais de 83 municípios, \n",
    "    #a API apresenta a exceção \"ApiError\"\n",
    "    \n",
    "    aggs = {\n",
    "        'Paciente_Estado' if 'estado' in filename else 'Paciente_Municipio': {\n",
    "            'terms': {'field': 'paciente_endereco_uf' if 'estado' in filename else 'paciente_endereco_coIbgeMunicipio', \n",
    "                      'min_doc_count': 1, \n",
    "                      'order': {'_count': 'desc'},\n",
    "                      'size': 27 if 'estados' in filename else 60},\n",
    "            'aggs': {\n",
    "                'Data_Aplicacao_Vacina': {\n",
    "                    'date_histogram': {'field': 'vacina_dataAplicacao', \n",
    "                                       'calendar_interval': 'day', \n",
    "                                       'min_doc_count': 1, \n",
    "                                       'order': {'_key': 'desc'}},\n",
    "                }\n",
    "            }\n",
    "        }\n",
    "    }\n",
    "\n",
    "    res = es.search(size = 0, aggs = aggs)\n",
    "\n",
    "    with open(filepath, mode='w') as jsonfile:\n",
    "        json.dump(res['aggregations'], jsonfile)"
   ]
  },
  {
   "cell_type": "code",
   "execution_count": 70,
   "id": "64b386a9-dd2e-4373-ac8d-9a7374107d7e",
   "metadata": {
    "slideshow": {
     "slide_type": "subslide"
    },
    "tags": []
   },
   "outputs": [],
   "source": [
    "access_elasticsearch_and_save('imunizacao-es.saude.gov.br', \n",
    "                              'estados_vacinacao.json')"
   ]
  },
  {
   "cell_type": "code",
   "execution_count": 71,
   "id": "8798d35a-18f7-4bf9-a1f1-be77b87eb2af",
   "metadata": {
    "slideshow": {
     "slide_type": "-"
    }
   },
   "outputs": [],
   "source": [
    "access_elasticsearch_and_save('imunizacao-es.saude.gov.br', \n",
    "                              'municipios_vacinacao.json')"
   ]
  }
 ],
 "metadata": {
  "celltoolbar": "Slideshow",
  "kernelspec": {
   "display_name": "Python 3 (ipykernel)",
   "language": "python",
   "name": "python3"
  },
  "language_info": {
   "codemirror_mode": {
    "name": "ipython",
    "version": 3
   },
   "file_extension": ".py",
   "mimetype": "text/x-python",
   "name": "python",
   "nbconvert_exporter": "python",
   "pygments_lexer": "ipython3",
   "version": "3.10.6"
  },
  "toc": {
   "base_numbering": 1,
   "nav_menu": {},
   "number_sections": true,
   "sideBar": true,
   "skip_h1_title": false,
   "title_cell": "Table of Contents",
   "title_sidebar": "Contents",
   "toc_cell": false,
   "toc_position": {},
   "toc_section_display": true,
   "toc_window_display": false
  }
 },
 "nbformat": 4,
 "nbformat_minor": 5
}
