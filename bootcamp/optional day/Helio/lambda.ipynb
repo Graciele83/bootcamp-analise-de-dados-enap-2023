{
 "cells": [
  {
   "cell_type": "code",
   "execution_count": 9,
   "id": "6674fe9b-b38b-459d-a00f-2a67f1b6a3c8",
   "metadata": {},
   "outputs": [],
   "source": [
    "import pandas as pd"
   ]
  },
  {
   "cell_type": "code",
   "execution_count": 1,
   "id": "9428f884-c303-4bf9-a746-81bc72356c18",
   "metadata": {},
   "outputs": [],
   "source": [
    "def bruna(x, y, z):\n",
    "    return x + y + z"
   ]
  },
  {
   "cell_type": "code",
   "execution_count": 2,
   "id": "bfb1918e-27a5-4873-9914-cd6c8a1eeb0c",
   "metadata": {},
   "outputs": [
    {
     "data": {
      "text/plain": [
       "9"
      ]
     },
     "execution_count": 2,
     "metadata": {},
     "output_type": "execute_result"
    }
   ],
   "source": [
    "bruna(2, 3, 4)"
   ]
  },
  {
   "cell_type": "code",
   "execution_count": 4,
   "id": "dc9910c7-d718-4ea6-9529-a72597e51335",
   "metadata": {},
   "outputs": [],
   "source": [
    "bruna = lambda x, y, z: x + y + z"
   ]
  },
  {
   "cell_type": "code",
   "execution_count": 5,
   "id": "867aee3e-ff80-489e-b6b4-608a10c370bc",
   "metadata": {},
   "outputs": [
    {
     "data": {
      "text/plain": [
       "9"
      ]
     },
     "execution_count": 5,
     "metadata": {},
     "output_type": "execute_result"
    }
   ],
   "source": [
    "bruna(2, 3, 4)"
   ]
  },
  {
   "cell_type": "code",
   "execution_count": null,
   "id": "b518ff7d-c71c-4edc-9edf-c3b5216008f1",
   "metadata": {},
   "outputs": [],
   "source": []
  },
  {
   "cell_type": "code",
   "execution_count": 7,
   "id": "da9252c2-f99e-4b3f-896a-435c7768839b",
   "metadata": {},
   "outputs": [
    {
     "data": {
      "text/plain": [
       "<function __main__.<lambda>(x)>"
      ]
     },
     "execution_count": 7,
     "metadata": {},
     "output_type": "execute_result"
    }
   ],
   "source": []
  },
  {
   "cell_type": "code",
   "execution_count": 15,
   "id": "042b89c3-5ced-473e-a682-7ba4412b3d58",
   "metadata": {},
   "outputs": [
    {
     "data": {
      "text/html": [
       "<div>\n",
       "<style scoped>\n",
       "    .dataframe tbody tr th:only-of-type {\n",
       "        vertical-align: middle;\n",
       "    }\n",
       "\n",
       "    .dataframe tbody tr th {\n",
       "        vertical-align: top;\n",
       "    }\n",
       "\n",
       "    .dataframe thead th {\n",
       "        text-align: right;\n",
       "    }\n",
       "</style>\n",
       "<table border=\"1\" class=\"dataframe\">\n",
       "  <thead>\n",
       "    <tr style=\"text-align: right;\">\n",
       "      <th></th>\n",
       "      <th>salario</th>\n",
       "      <th>pessoas</th>\n",
       "    </tr>\n",
       "  </thead>\n",
       "  <tbody>\n",
       "    <tr>\n",
       "      <th>0</th>\n",
       "      <td>100</td>\n",
       "      <td>monica</td>\n",
       "    </tr>\n",
       "    <tr>\n",
       "      <th>1</th>\n",
       "      <td>200</td>\n",
       "      <td>bruna</td>\n",
       "    </tr>\n",
       "    <tr>\n",
       "      <th>2</th>\n",
       "      <td>300</td>\n",
       "      <td>ricardo</td>\n",
       "    </tr>\n",
       "    <tr>\n",
       "      <th>3</th>\n",
       "      <td>100</td>\n",
       "      <td>monica</td>\n",
       "    </tr>\n",
       "    <tr>\n",
       "      <th>4</th>\n",
       "      <td>200</td>\n",
       "      <td>bruna</td>\n",
       "    </tr>\n",
       "    <tr>\n",
       "      <th>...</th>\n",
       "      <td>...</td>\n",
       "      <td>...</td>\n",
       "    </tr>\n",
       "    <tr>\n",
       "      <th>895</th>\n",
       "      <td>200</td>\n",
       "      <td>bruna</td>\n",
       "    </tr>\n",
       "    <tr>\n",
       "      <th>896</th>\n",
       "      <td>300</td>\n",
       "      <td>ricardo</td>\n",
       "    </tr>\n",
       "    <tr>\n",
       "      <th>897</th>\n",
       "      <td>100</td>\n",
       "      <td>monica</td>\n",
       "    </tr>\n",
       "    <tr>\n",
       "      <th>898</th>\n",
       "      <td>200</td>\n",
       "      <td>bruna</td>\n",
       "    </tr>\n",
       "    <tr>\n",
       "      <th>899</th>\n",
       "      <td>300</td>\n",
       "      <td>ricardo</td>\n",
       "    </tr>\n",
       "  </tbody>\n",
       "</table>\n",
       "<p>900 rows × 2 columns</p>\n",
       "</div>"
      ],
      "text/plain": [
       "     salario  pessoas\n",
       "0        100   monica\n",
       "1        200    bruna\n",
       "2        300  ricardo\n",
       "3        100   monica\n",
       "4        200    bruna\n",
       "..       ...      ...\n",
       "895      200    bruna\n",
       "896      300  ricardo\n",
       "897      100   monica\n",
       "898      200    bruna\n",
       "899      300  ricardo\n",
       "\n",
       "[900 rows x 2 columns]"
      ]
     },
     "execution_count": 15,
     "metadata": {},
     "output_type": "execute_result"
    }
   ],
   "source": [
    "df = pd.DataFrame({'salario': [100, 200, 300]*300, 'pessoas': ['monica', 'bruna', 'ricardo']*300})\n",
    "df"
   ]
  },
  {
   "cell_type": "code",
   "execution_count": 16,
   "id": "3c8a6274-549a-4635-9eac-af74ad818750",
   "metadata": {},
   "outputs": [],
   "source": [
    "df['salario'] = df['salario'].map(lambda x: 10*x)"
   ]
  },
  {
   "cell_type": "code",
   "execution_count": 17,
   "id": "bef2d332-71ae-4c3e-9171-0585f6456fd2",
   "metadata": {},
   "outputs": [
    {
     "data": {
      "text/html": [
       "<div>\n",
       "<style scoped>\n",
       "    .dataframe tbody tr th:only-of-type {\n",
       "        vertical-align: middle;\n",
       "    }\n",
       "\n",
       "    .dataframe tbody tr th {\n",
       "        vertical-align: top;\n",
       "    }\n",
       "\n",
       "    .dataframe thead th {\n",
       "        text-align: right;\n",
       "    }\n",
       "</style>\n",
       "<table border=\"1\" class=\"dataframe\">\n",
       "  <thead>\n",
       "    <tr style=\"text-align: right;\">\n",
       "      <th></th>\n",
       "      <th>salario</th>\n",
       "      <th>pessoas</th>\n",
       "    </tr>\n",
       "  </thead>\n",
       "  <tbody>\n",
       "    <tr>\n",
       "      <th>0</th>\n",
       "      <td>1000</td>\n",
       "      <td>monica</td>\n",
       "    </tr>\n",
       "    <tr>\n",
       "      <th>1</th>\n",
       "      <td>2000</td>\n",
       "      <td>bruna</td>\n",
       "    </tr>\n",
       "    <tr>\n",
       "      <th>2</th>\n",
       "      <td>3000</td>\n",
       "      <td>ricardo</td>\n",
       "    </tr>\n",
       "    <tr>\n",
       "      <th>3</th>\n",
       "      <td>1000</td>\n",
       "      <td>monica</td>\n",
       "    </tr>\n",
       "    <tr>\n",
       "      <th>4</th>\n",
       "      <td>2000</td>\n",
       "      <td>bruna</td>\n",
       "    </tr>\n",
       "    <tr>\n",
       "      <th>...</th>\n",
       "      <td>...</td>\n",
       "      <td>...</td>\n",
       "    </tr>\n",
       "    <tr>\n",
       "      <th>895</th>\n",
       "      <td>2000</td>\n",
       "      <td>bruna</td>\n",
       "    </tr>\n",
       "    <tr>\n",
       "      <th>896</th>\n",
       "      <td>3000</td>\n",
       "      <td>ricardo</td>\n",
       "    </tr>\n",
       "    <tr>\n",
       "      <th>897</th>\n",
       "      <td>1000</td>\n",
       "      <td>monica</td>\n",
       "    </tr>\n",
       "    <tr>\n",
       "      <th>898</th>\n",
       "      <td>2000</td>\n",
       "      <td>bruna</td>\n",
       "    </tr>\n",
       "    <tr>\n",
       "      <th>899</th>\n",
       "      <td>3000</td>\n",
       "      <td>ricardo</td>\n",
       "    </tr>\n",
       "  </tbody>\n",
       "</table>\n",
       "<p>900 rows × 2 columns</p>\n",
       "</div>"
      ],
      "text/plain": [
       "     salario  pessoas\n",
       "0       1000   monica\n",
       "1       2000    bruna\n",
       "2       3000  ricardo\n",
       "3       1000   monica\n",
       "4       2000    bruna\n",
       "..       ...      ...\n",
       "895     2000    bruna\n",
       "896     3000  ricardo\n",
       "897     1000   monica\n",
       "898     2000    bruna\n",
       "899     3000  ricardo\n",
       "\n",
       "[900 rows x 2 columns]"
      ]
     },
     "execution_count": 17,
     "metadata": {},
     "output_type": "execute_result"
    }
   ],
   "source": [
    "df"
   ]
  },
  {
   "cell_type": "code",
   "execution_count": 18,
   "id": "8c5c352d-9775-4d87-8d34-2070c8c497a2",
   "metadata": {},
   "outputs": [],
   "source": [
    "serie = pd.Series(range(10))"
   ]
  },
  {
   "cell_type": "code",
   "execution_count": 22,
   "id": "e6ac3832-c160-4fb5-9320-56fd58b6040c",
   "metadata": {},
   "outputs": [
    {
     "data": {
      "text/plain": [
       "0     0\n",
       "1    10\n",
       "2    20\n",
       "3    30\n",
       "4    40\n",
       "5    50\n",
       "6    60\n",
       "7    70\n",
       "8    80\n",
       "9    90\n",
       "dtype: int64"
      ]
     },
     "execution_count": 22,
     "metadata": {},
     "output_type": "execute_result"
    }
   ],
   "source": [
    "serie.map(lambda x: 10*x)"
   ]
  },
  {
   "cell_type": "code",
   "execution_count": null,
   "id": "55ea0f31-e40e-4435-9960-e00f71e5c160",
   "metadata": {},
   "outputs": [],
   "source": [
    "df.apply(lambda x: print( f'{x[0]*10}' + x[1].capitalize()), axis=1)"
   ]
  },
  {
   "cell_type": "code",
   "execution_count": null,
   "id": "0424af59-2d0e-45bd-ab78-1a2d2e36ee6b",
   "metadata": {},
   "outputs": [],
   "source": []
  },
  {
   "cell_type": "code",
   "execution_count": null,
   "id": "2efc8065-9b84-4114-b24c-98432f839c54",
   "metadata": {},
   "outputs": [],
   "source": []
  },
  {
   "cell_type": "code",
   "execution_count": null,
   "id": "27e3a010-3e61-40b3-87ae-f071a3cb2683",
   "metadata": {},
   "outputs": [],
   "source": []
  },
  {
   "cell_type": "code",
   "execution_count": null,
   "id": "4aa67e5c-0f79-4829-b341-d10717b1ae9b",
   "metadata": {},
   "outputs": [],
   "source": []
  },
  {
   "cell_type": "code",
   "execution_count": 45,
   "id": "55e24265-c3e6-46c0-865b-e72e0dd33dab",
   "metadata": {},
   "outputs": [],
   "source": [
    "from bs4 import BeautifulSoup\n",
    "import requests\n",
    "\n",
    "url = 'http://pudim.com.br/'\n",
    "content = requests.get(url).content\n",
    "soup = BeautifulSoup(content, 'html.parser')\n",
    "email = soup.find_all('div', class_='email')[0].find('a').get_text()"
   ]
  },
  {
   "cell_type": "code",
   "execution_count": 46,
   "id": "ae32b38b-0b9c-44b5-a125-85ff4c06341c",
   "metadata": {},
   "outputs": [
    {
     "data": {
      "text/plain": [
       "'pudim@pudim.com.br'"
      ]
     },
     "execution_count": 46,
     "metadata": {},
     "output_type": "execute_result"
    }
   ],
   "source": [
    "email"
   ]
  },
  {
   "cell_type": "code",
   "execution_count": null,
   "id": "53fd4351-5c43-4389-8e00-21a185bc8358",
   "metadata": {},
   "outputs": [],
   "source": []
  },
  {
   "cell_type": "code",
   "execution_count": 50,
   "id": "79244b1c-813c-4a5b-a74a-c6e533d55550",
   "metadata": {},
   "outputs": [],
   "source": [
    "content = requests.get('https://www.prefeitura.sp.gov.br/cidade/secretarias/upload/saude/hospital_do_servidor_publico_municipal/imagens/2021/Not%C3%ADcias/zegotinha_foto.jpg')"
   ]
  },
  {
   "cell_type": "code",
   "execution_count": 51,
   "id": "6e08be9f-8e49-4a5f-a0c5-dda17f7443b5",
   "metadata": {},
   "outputs": [],
   "source": [
    "resposta = requests.get('https://www.prefeitura.sp.gov.br/cidade/secretarias/upload/saude/hospital_do_servidor_publico_municipal/imagens/2021/Not%C3%ADcias/zegotinha_foto.jpg')"
   ]
  },
  {
   "cell_type": "code",
   "execution_count": 52,
   "id": "4387aafb-b466-48b9-af8b-dc638038d66f",
   "metadata": {},
   "outputs": [
    {
     "data": {
      "text/plain": [
       "<Response [200]>"
      ]
     },
     "execution_count": 52,
     "metadata": {},
     "output_type": "execute_result"
    }
   ],
   "source": [
    "resposta"
   ]
  },
  {
   "cell_type": "code",
   "execution_count": null,
   "id": "030ba7f8-21d9-4771-8897-429a643a9f31",
   "metadata": {},
   "outputs": [],
   "source": []
  },
  {
   "cell_type": "code",
   "execution_count": 54,
   "id": "8a1abf16-cc57-45ce-9b30-f29728792910",
   "metadata": {},
   "outputs": [
    {
     "data": {
      "text/plain": [
       "<Response [404]>"
      ]
     },
     "execution_count": 54,
     "metadata": {},
     "output_type": "execute_result"
    }
   ],
   "source": [
    "requests.get('https://www.prefeitura.sp.gov.br/cidade/secretarias/upload/saude/hospital_do_servidor_publico_municipal/imagens/2021/Not%C3%ADcias/zegotinha_foto347.jpg')"
   ]
  },
  {
   "cell_type": "code",
   "execution_count": null,
   "id": "59299cb0-5c60-4e0f-972f-039c17e27d20",
   "metadata": {},
   "outputs": [],
   "source": []
  },
  {
   "cell_type": "code",
   "execution_count": null,
   "id": "dc52e0e0-b9d8-43e0-83fa-96609608aab5",
   "metadata": {},
   "outputs": [],
   "source": []
  },
  {
   "cell_type": "code",
   "execution_count": null,
   "id": "9f24c630-7dd5-422f-8c68-3d6ba1beb935",
   "metadata": {},
   "outputs": [],
   "source": []
  },
  {
   "cell_type": "code",
   "execution_count": null,
   "id": "b75ff665-5e00-43ca-a822-fdfcbb69cdef",
   "metadata": {},
   "outputs": [],
   "source": []
  },
  {
   "cell_type": "code",
   "execution_count": 56,
   "id": "eece0468-0836-429b-9ba7-b0b8c273e38f",
   "metadata": {},
   "outputs": [],
   "source": [
    "dicionario = {'monica': 10, 'helio': 0}"
   ]
  },
  {
   "cell_type": "code",
   "execution_count": 62,
   "id": "1214b7d2-c4a2-40e4-9d7d-b01c57358f6b",
   "metadata": {},
   "outputs": [],
   "source": [
    "lista1 = ['monica', 'helio']"
   ]
  },
  {
   "cell_type": "code",
   "execution_count": 63,
   "id": "25fefd65-8d66-4ee6-a972-8bc27d92d070",
   "metadata": {},
   "outputs": [],
   "source": [
    "lista2 = [10, 0]"
   ]
  },
  {
   "cell_type": "code",
   "execution_count": 65,
   "id": "42eb99a1-0c9c-4d59-8a6b-90df0201eada",
   "metadata": {},
   "outputs": [
    {
     "data": {
      "text/plain": [
       "{'monica': 10, 'helio': 0}"
      ]
     },
     "execution_count": 65,
     "metadata": {},
     "output_type": "execute_result"
    }
   ],
   "source": [
    "{chave: valor for chave, valor in zip(lista1, lista2)}"
   ]
  },
  {
   "cell_type": "code",
   "execution_count": null,
   "id": "362d0668-845b-4336-bf8b-24ad92a62897",
   "metadata": {},
   "outputs": [],
   "source": []
  },
  {
   "cell_type": "code",
   "execution_count": null,
   "id": "ce4fd16b-059b-498d-b71a-35bf6effe47d",
   "metadata": {},
   "outputs": [],
   "source": []
  },
  {
   "cell_type": "code",
   "execution_count": null,
   "id": "f046ce2e-4cbe-43ed-80c9-4c4ffe5ca9c7",
   "metadata": {},
   "outputs": [],
   "source": []
  },
  {
   "cell_type": "code",
   "execution_count": null,
   "id": "b999f7b0-2f84-448a-a89c-cee590e8b9cd",
   "metadata": {},
   "outputs": [],
   "source": []
  },
  {
   "cell_type": "code",
   "execution_count": null,
   "id": "51437745-476b-4dc3-870d-8037acb4d8e0",
   "metadata": {},
   "outputs": [],
   "source": []
  }
 ],
 "metadata": {
  "kernelspec": {
   "display_name": "Python 3 (ipykernel)",
   "language": "python",
   "name": "python3"
  },
  "language_info": {
   "codemirror_mode": {
    "name": "ipython",
    "version": 3
   },
   "file_extension": ".py",
   "mimetype": "text/x-python",
   "name": "python",
   "nbconvert_exporter": "python",
   "pygments_lexer": "ipython3",
   "version": "3.11.2"
  }
 },
 "nbformat": 4,
 "nbformat_minor": 5
}
