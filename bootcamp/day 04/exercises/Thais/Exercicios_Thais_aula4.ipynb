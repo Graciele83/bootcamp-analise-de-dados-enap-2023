{
 "cells": [
  {
   "cell_type": "markdown",
   "id": "56b0e70e",
   "metadata": {},
   "source": [
    "# Usando a API do BACEN\n",
    "\n",
    "# Exercício: \n",
    "\n",
    "### a) Usando a API do BACEN, importe a série do IPCA mensal. A série se inicia em 01/01/1980.\n",
    " \n",
    "### b) Crie uma função que recebe a data como parâmetro (no formato 01/XX/XXX) e retorna o valor do IPCA referente à data. \n",
    " \n",
    "\n",
    "O Sistema Gerenciador de Séries Temporais (SGS)é um sistema que apresenta informações econômicas, financeiras e sociais do país  de forma consolidada.\n",
    "\n",
    "Ele é oferecido pelo BACEN mas as fontes das informações são diversas (bacen, ibge, etc)\n",
    "\n",
    "As informações podem ser extraídas por meio de importação direta no site: https://www3.bcb.gov.br/sgspub/localizarseries/localizarSeries.do?method=prepararTelaLocalizarSeries\n",
    "\n",
    "Ou podem ser extraídas de forma automatizada, utilizando sua API (codigo IPCA = 433).\n",
    "- API para acesso ao dado de IPCA: \n",
    "- Endereço padrão:https://api.bcb.gov.br/dados/serie/bcdata.sgs.{codigo_serie}/dados?formato=json\n",
    "\n",
    "Dica: Você precisa trocar o {codigo_serie} dentro do endereço pelo codigo da variável que deseja. No presente caso, é o código do IPCA (433)\n",
    "\n"
   ]
  },
  {
   "cell_type": "code",
   "execution_count": null,
   "id": "836d8140",
   "metadata": {},
   "outputs": [],
   "source": []
  },
  {
   "cell_type": "code",
   "execution_count": null,
   "id": "529c0e38",
   "metadata": {},
   "outputs": [],
   "source": []
  },
  {
   "cell_type": "code",
   "execution_count": null,
   "id": "2fa3a2ad",
   "metadata": {},
   "outputs": [],
   "source": []
  },
  {
   "cell_type": "markdown",
   "id": "f99f48d3",
   "metadata": {},
   "source": [
    "# Extra (se der tempo)\n",
    "\n",
    "Usando ainda o SGS:\n",
    "\n",
    "### a) Usando a API do BACEN, importe, agora, a série do IGP-M mensal. Você vai precisar buscar o codigo do IGP-M. \n",
    " \n",
    "### b) Crie uma função que recebe a data como parâmetro (no formato 01/XX/XXX) e retorna o valor do IGP-M referente à data. "
   ]
  },
  {
   "cell_type": "code",
   "execution_count": null,
   "id": "4ecc7e9c",
   "metadata": {},
   "outputs": [],
   "source": []
  }
 ],
 "metadata": {
  "kernelspec": {
   "display_name": "Python 3 (ipykernel)",
   "language": "python",
   "name": "python3"
  },
  "language_info": {
   "codemirror_mode": {
    "name": "ipython",
    "version": 3
   },
   "file_extension": ".py",
   "mimetype": "text/x-python",
   "name": "python",
   "nbconvert_exporter": "python",
   "pygments_lexer": "ipython3",
   "version": "3.9.13"
  }
 },
 "nbformat": 4,
 "nbformat_minor": 5
}
