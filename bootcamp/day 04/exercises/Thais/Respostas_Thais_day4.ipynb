{
 "cells": [
  {
   "cell_type": "markdown",
   "id": "f4662b43",
   "metadata": {},
   "source": [
    "# Usando a API do BACEN\n",
    "\n",
    "# Exercício: \n",
    "\n",
    "### a) Usando a API do BACEN, importe a série do IPCA mensal. A série se inicia em 01/01/1980.\n",
    " \n",
    "### b) Crie uma função que recebe a data como parâmetro (no formato 01/XX/XXX) e retorna o valor do IPCA referente à data. \n",
    " "
   ]
  },
  {
   "cell_type": "markdown",
   "id": "410fc90e",
   "metadata": {},
   "source": [
    "O Sistema Gerenciador de Séries Temporais (SGS)é um sistema que apresenta informações econômicas, financeiras e sociais do país  de forma consolidada.\n",
    "\n",
    "Ele é oferecido pelo BACEN mas as fontes das informações são diversas (bacen, ibge, etc)\n",
    "\n",
    "As informações podem ser extraídas por meio de importação direta no site: https://www3.bcb.gov.br/sgspub/localizarseries/localizarSeries.do?method=prepararTelaLocalizarSeries\n",
    "\n",
    "Ou podem ser extraídas de forma automatizada, utilizando sua API (codigo IPCA = 433).\n",
    "- API para acesso ao dado de IPCA: \n",
    "- Endereço padrão:https://api.bcb.gov.br/dados/serie/bcdata.sgs.{codigo_serie}/dados?formato=json\n",
    "\n",
    "Dica: Você precisa trocar o {codigo_serie} dentro do endereço pelo codigo da variável que deseja. No presente caso, é o código do IPCA (433)"
   ]
  },
  {
   "cell_type": "markdown",
   "id": "62f4e66c-746e-46a8-be8d-35247399b446",
   "metadata": {},
   "source": [
    "para quem nunca usou a biblioteca requests, precisa fazer a instalação antes usando:"
   ]
  },
  {
   "cell_type": "code",
   "execution_count": null,
   "id": "af9604e4-305d-4a2e-b5f7-e16158cce9d9",
   "metadata": {},
   "outputs": [],
   "source": [
    "!pip install requests # instalação só precisa ser feita 1 vez"
   ]
  },
  {
   "cell_type": "code",
   "execution_count": 2,
   "id": "8b544dc2",
   "metadata": {},
   "outputs": [
    {
     "data": {
      "text/plain": [
       "[{'data': '01/01/1980', 'valor': '6.62'},\n",
       " {'data': '01/02/1980', 'valor': '4.62'},\n",
       " {'data': '01/03/1980', 'valor': '6.04'},\n",
       " {'data': '01/04/1980', 'valor': '5.29'},\n",
       " {'data': '01/05/1980', 'valor': '5.70'}]"
      ]
     },
     "execution_count": 2,
     "metadata": {},
     "output_type": "execute_result"
    }
   ],
   "source": [
    "# Importando a série do IPCA mensal (a)\n",
    "#importa a bibliotaca\n",
    "import requests\n",
    "\n",
    "#define a url a ser usada\n",
    "url = 'https://api.bcb.gov.br/dados/serie/bcdata.sgs.433/dados?formato=json'\n",
    "# fazendo a requisição à url e trazendo em formato json\n",
    "response = requests.get(url).json() \n",
    "#response é o nome da 'variável'. Pode ser qualquer outro nome\n",
    "\n",
    "# visualizando os primeiros elementos da base\n",
    "response[0:5] "
   ]
  },
  {
   "cell_type": "code",
   "execution_count": 2,
   "id": "f0ffd53e",
   "metadata": {},
   "outputs": [],
   "source": [
    "# Criando a função (b)\n",
    "# forma mais simples:\n",
    "\n",
    "#definindo uma função que retorna o IPCA a partir da data informada\n",
    "\n",
    "def obter_ipca_por_data(data):\n",
    "    for item in response:\n",
    "        if item['data'] == data:\n",
    "            return item['valor']\n",
    "    return \"data não encontrada ou fora do padrão\"\n",
    "# Se a data não for encontrada, você pode retornar um valor padrão ou levantar uma exceção, conforme necessário."
   ]
  },
  {
   "cell_type": "code",
   "execution_count": 3,
   "id": "0854eb9f",
   "metadata": {},
   "outputs": [
    {
     "data": {
      "text/plain": [
       "'1.24'"
      ]
     },
     "execution_count": 3,
     "metadata": {},
     "output_type": "execute_result"
    }
   ],
   "source": [
    "#usando a função\n",
    "obter_ipca_por_data('01/01/2015')"
   ]
  },
  {
   "cell_type": "markdown",
   "id": "1e347848-4d2e-4182-ac62-b007e11f4290",
   "metadata": {},
   "source": [
    "## Outra forma de responder a questão"
   ]
  },
  {
   "cell_type": "code",
   "execution_count": 3,
   "id": "2f3a0afb",
   "metadata": {},
   "outputs": [],
   "source": [
    "import requests\n",
    "\n",
    "def obter_ipca_por_data(data):\n",
    "    # Define a URL da API do Banco Central\n",
    "    url = f'https://api.bcb.gov.br/dados/serie/bcdata.sgs.433/dados?formato=json&dataInicial={data}&dataFinal={data}'\n",
    "\n",
    "        # Faz a solicitação à API\n",
    "    response = requests.get(url)\n",
    "        \n",
    "        # Verifica se a solicitação foi bem-sucedida\n",
    "    if response.status_code == 200:\n",
    "            # Analisa a resposta JSON\n",
    "        dados = response.json()\n",
    "            \n",
    "        for item in dados:\n",
    "            if item['data'] == data:\n",
    "                valor = item['valor']\n",
    "                return valor\n",
    "            else:\n",
    "                print('erro no formato da data - a data deve ser no formato \"01/0X/XXXX\"')\n",
    "        \n",
    "    else:\n",
    "        print(f\"Erro na solicitação: Código {response.status_code}\")\n",
    "        return None\n"
   ]
  },
  {
   "cell_type": "code",
   "execution_count": 4,
   "id": "61d1891b",
   "metadata": {},
   "outputs": [
    {
     "data": {
      "text/plain": [
       "'1.22'"
      ]
     },
     "execution_count": 4,
     "metadata": {},
     "output_type": "execute_result"
    }
   ],
   "source": [
    "obter_ipca_por_data('01/02/2015')"
   ]
  },
  {
   "cell_type": "markdown",
   "id": "d2d72f86",
   "metadata": {},
   "source": [
    "# Extra (se der tempo)\n",
    "\n",
    "Usando ainda o SGS:\n",
    "\n",
    "### a) Importe, agora, a série do IGP-M mensal. \n",
    " \n",
    "### b) Crie uma função que recebe a data como parâmetro (no formato 01/XX/XXX) e retorna o valor do IGP-M referente à data. "
   ]
  },
  {
   "cell_type": "code",
   "execution_count": 6,
   "id": "ace0e126",
   "metadata": {},
   "outputs": [
    {
     "data": {
      "text/plain": [
       "[{'data': '01/06/1989', 'valor': '19.68'},\n",
       " {'data': '01/07/1989', 'valor': '35.90'},\n",
       " {'data': '01/08/1989', 'valor': '36.92'},\n",
       " {'data': '01/09/1989', 'valor': '39.92'},\n",
       " {'data': '01/10/1989', 'valor': '40.64'}]"
      ]
     },
     "execution_count": 6,
     "metadata": {},
     "output_type": "execute_result"
    }
   ],
   "source": [
    "# Importando a série do IGP-M\n",
    "#observe que é o mesmo passo a passo da questão anterior\n",
    "\n",
    "url2 = 'https://api.bcb.gov.br/dados/serie/bcdata.sgs.189/dados?formato=json'\n",
    "response2 = requests.get(url2).json()\n",
    "response2[0:5]"
   ]
  },
  {
   "cell_type": "code",
   "execution_count": 7,
   "id": "6c996b7e",
   "metadata": {},
   "outputs": [],
   "source": [
    "def obter_igpm_por_data(data):\n",
    "    for item in response2:\n",
    "        if item['data'] == data:\n",
    "            return item['valor']\n",
    "    return \"data não encontrada ou fora do padrão\"\n",
    "# Se a data não for encontrada, você pode retornar um valor padrão ou levantar uma exceção, conforme necessário."
   ]
  },
  {
   "cell_type": "code",
   "execution_count": 8,
   "id": "88d3555c",
   "metadata": {},
   "outputs": [
    {
     "data": {
      "text/plain": [
       "'0.21'"
      ]
     },
     "execution_count": 8,
     "metadata": {},
     "output_type": "execute_result"
    }
   ],
   "source": [
    "obter_igpm_por_data(\"01/01/2023\")"
   ]
  },
  {
   "cell_type": "code",
   "execution_count": null,
   "id": "d8abcc0a",
   "metadata": {},
   "outputs": [],
   "source": []
  }
 ],
 "metadata": {
  "kernelspec": {
   "display_name": "Python 3 (ipykernel)",
   "language": "python",
   "name": "python3"
  },
  "language_info": {
   "codemirror_mode": {
    "name": "ipython",
    "version": 3
   },
   "file_extension": ".py",
   "mimetype": "text/x-python",
   "name": "python",
   "nbconvert_exporter": "python",
   "pygments_lexer": "ipython3",
   "version": "3.11.5"
  }
 },
 "nbformat": 4,
 "nbformat_minor": 5
}
