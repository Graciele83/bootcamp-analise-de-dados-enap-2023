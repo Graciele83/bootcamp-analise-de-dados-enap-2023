{
 "cells": [
  {
   "cell_type": "markdown",
   "id": "44c4b053-ac41-4a42-9d29-e9b84e040d93",
   "metadata": {},
   "source": [
    "# Exercícios - Fontes de dados 💾"
   ]
  },
  {
   "cell_type": "markdown",
   "id": "904c3109-88f7-448e-9456-a9cc46c381fb",
   "metadata": {},
   "source": [
    "## 🔎 Você é uma cientista de dados e cidadã consciente do seu dever de monitorar os poderes legislativo e executivo quanto à utilização dos recursos públicos. "
   ]
  },
  {
   "cell_type": "markdown",
   "id": "51171ebc-6576-4493-8d26-e1bc162258c4",
   "metadata": {},
   "source": [
    "### Uma forma bastante interessante de se obter dados para realizar o seu trabalho é utilizando as APIs dos portais de dados abertos disponibilizados pelos órgãos públicos. "
   ]
  },
  {
   "cell_type": "markdown",
   "id": "5d1d67ad-baf3-47d0-a146-256feeaded80",
   "metadata": {},
   "source": [
    "### 👀 De olho nas despesas dos deputados federais!\n",
    "A Câmara dos Deputados, como vimos na aula de hoje, disponibiliza o portal **Dados Abertos**, que provê diferentes conjuntos de dados, incluindo detalhes sobre atividades legislativas, deputados e suas despesas, junto com uma API que permite ao usuário recuperar dados de forma programática. Você pode navegar pelo portal através da seguinte URL: \n",
    "```\n",
    "https://dadosabertos.camara.leg.br/\n",
    "```\n",
    "Nele, você poderá obter informações sobre como utilizá-lo, conhecer os dados disponíveis, acessar a documentação da API e entender como ela funciona. Para acessar diretamente a documentação da API, utilize a URL abaixo:\n",
    "```\n",
    "https://dadosabertos.camara.leg.br/swagger/api.html\n",
    "```\n",
    "Antes de iniciar os exercícios abaixo, navegue pela documentação da API; vá até a seção que lista os serviços que permitem acessar os dados dos **deputados**, prestando atenção na URL de acesso e nos parâmetros obrigatórios de cada um deles (se existirem)."
   ]
  },
  {
   "cell_type": "markdown",
   "id": "952fbdb2-9103-4e40-9cce-71642dad170a",
   "metadata": {},
   "source": [
    "<img src='./img/loading-thinking.gif' width='20%'>"
   ]
  },
  {
   "cell_type": "markdown",
   "id": "89c08de9-0a3f-4a85-b161-5b7de065554f",
   "metadata": {},
   "source": [
    "Ok, agora vamos aos exercícios! 💪🏻 Queremos analisar as despesas realizadas pelos deputados da legislatura atual eleitos por um determinado  Estado. Vimos como obter a lista completa dos 513 deputados. Crie uma função denominada **listar_deputados_por_estado**, que receberá como parâmetro a sigla de um Estado brasileiro e retornará uma lista contendo todos os deputados federais eleitos por esse Estado."
   ]
  },
  {
   "cell_type": "code",
   "execution_count": 21,
   "id": "7acc0e13-0932-4801-9f53-b5af5766d67c",
   "metadata": {},
   "outputs": [],
   "source": [
    "def read_api(url, params=None):\n",
    "    response = requests.get(url, params=params)\n",
    "    \n",
    "    if response.status_code == 200:\n",
    "        content = response.json()\n",
    "        return content"
   ]
  },
  {
   "cell_type": "code",
   "execution_count": null,
   "id": "e12946e0-3d68-4c4a-947d-cae6a920320f",
   "metadata": {},
   "outputs": [],
   "source": []
  },
  {
   "cell_type": "markdown",
   "id": "2d3db3d0-0638-49a4-991e-57e73e8e7b1c",
   "metadata": {},
   "source": [
    "Quantos deputados representam o estado de Minas Gerais?"
   ]
  },
  {
   "cell_type": "code",
   "execution_count": null,
   "id": "3c521b2c-2f30-4294-94b6-415c96866b54",
   "metadata": {},
   "outputs": [],
   "source": []
  },
  {
   "cell_type": "markdown",
   "id": "1d4bf834-5cbd-4d0c-a241-3f620ca8619c",
   "metadata": {},
   "source": [
    "Agora, crie uma função denominada **despesas_por_deputado**, que receberá como parâmetro o identificador (id) de um parlamentar e retornará a lista de despesas desse parlamentar **nos últimos seis meses**.\n",
    "\n",
    "<p>Obs.: O intervalo de seis meses anteriores à requisição é a resposta padrão da API quando o período não é informado como parâmetro, conforme informado pela documentação, portanto, para este exercício, não há necessidade de manipular datas."
   ]
  },
  {
   "cell_type": "code",
   "execution_count": null,
   "id": "96c48c6d-2538-4dea-9146-3cb5d495feb3",
   "metadata": {},
   "outputs": [],
   "source": []
  },
  {
   "cell_type": "markdown",
   "id": "336ca9bc-c446-424b-a634-cb289292bcd1",
   "metadata": {},
   "source": [
    "🌶️ Desafio! Faça a consulta de despesas para um deputado qualquer da lista de deputados que representam o estado de Minas Gerais. Qual o valor total das despesas do deputado no período consultado (seis meses anteriores à data da consulta)? Qual o maior valor pago no período e para qual empresa fornecedora?"
   ]
  },
  {
   "cell_type": "code",
   "execution_count": null,
   "id": "0f81fe4f-6222-45f7-935f-65a3fcd9a1f7",
   "metadata": {},
   "outputs": [],
   "source": []
  },
  {
   "cell_type": "markdown",
   "id": "ef8bd142-0457-4912-a8ef-3b0cab9eea56",
   "metadata": {},
   "source": [
    "🌶️🌶️ Duplo desafio! Faça uma função que receberá como parâmetro a sigla de um Estado e retornará uma lista de dicionários contendo o nome do deputado e sua respectiva lista de despesas.<p>\n",
    "*Dica*: Ao acessar serviços de uma API, é essencial que implementemos mecanismos para garantir que não o estejamos sobrecarregando ou violando os seus limites de taxas de requisição. Muitos servidores limitam o número de requisições feitas por um mesmo endereço IP em um espaço específico de tempo, por exemplo, 15 requisições por min., e se um programa de computador exceder esses limites, ele pode ser temporariamente bloqueado ou permanentemente suspenso de acessar a API. A documentação da API que estamos utilizando não nos informa a sua taxa limite de requisições, mas podemos implementar preventivamente um mecanismo para evitar o bloqueio do seu programa. Uma das formas de se fazer isso é inserir um timer com um determinado atraso (normalmente de 60 segundos, mas depende do serviço) quando o número de requisições que você estiver fazendo chegar a um limite. Faça uma pesquisa sobre como inserir um timer em sua função. Determine um tempo de atraso de 60 seg. e um número máximo de disparo de requisições de 15."
   ]
  },
  {
   "cell_type": "code",
   "execution_count": null,
   "id": "5a0a6596-5416-4a6d-bc8c-e0d1d39a1861",
   "metadata": {},
   "outputs": [],
   "source": []
  },
  {
   "cell_type": "markdown",
   "id": "520cf9cd-430b-4346-a482-572d4bda4efd",
   "metadata": {},
   "source": [
    "Se conseguiu implementar a função, busque as despesas dos deputados eleitos pelo estado de Minas Gerais e tente responder às seguintes perguntas: que deputado gastou mais (em valores totais) durante o período pesquisado? Qual foi o maior valor de despesa única entre todos os deputados?"
   ]
  },
  {
   "cell_type": "code",
   "execution_count": null,
   "id": "53ac5fb5-d0dc-411b-8f1e-4f88ffa59006",
   "metadata": {},
   "outputs": [],
   "source": []
  }
 ],
 "metadata": {
  "kernelspec": {
   "display_name": "enap",
   "language": "python",
   "name": "enap"
  },
  "language_info": {
   "codemirror_mode": {
    "name": "ipython",
    "version": 3
   },
   "file_extension": ".py",
   "mimetype": "text/x-python",
   "name": "python",
   "nbconvert_exporter": "python",
   "pygments_lexer": "ipython3",
   "version": "3.10.6"
  }
 },
 "nbformat": 4,
 "nbformat_minor": 5
}
