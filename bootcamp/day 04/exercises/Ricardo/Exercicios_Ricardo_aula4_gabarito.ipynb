{
 "cells": [
  {
   "cell_type": "markdown",
   "id": "44c4b053-ac41-4a42-9d29-e9b84e040d93",
   "metadata": {},
   "source": [
    "# Exercícios - Fontes de dados 💾"
   ]
  },
  {
   "cell_type": "markdown",
   "id": "904c3109-88f7-448e-9456-a9cc46c381fb",
   "metadata": {},
   "source": [
    "## 🔎 Você é uma cientista de dados e cidadã consciente do seu dever de monitorar os poderes legislativo e executivo quanto à utilização dos recursos públicos. "
   ]
  },
  {
   "cell_type": "markdown",
   "id": "51171ebc-6576-4493-8d26-e1bc162258c4",
   "metadata": {},
   "source": [
    "### Uma forma bastante interessante de se obter dados para realizar o seu trabalho é utilizando as APIs dos portais de dados abertos disponibilizados pelos órgãos públicos. "
   ]
  },
  {
   "cell_type": "markdown",
   "id": "5d1d67ad-baf3-47d0-a146-256feeaded80",
   "metadata": {},
   "source": [
    "### 👀 De olho nas despesas dos deputados federais!\n",
    "A Câmara dos Deputados, como vimos na aula de hoje, disponibiliza o portal **Dados Abertos**, que provê diferentes conjuntos de dados, incluindo detalhes sobre atividades legislativas, deputados e suas despesas, junto com uma API que permite ao usuário recuperar dados de forma programática. Você pode navegar pelo portal através da seguinte URL: \n",
    "```\n",
    "https://dadosabertos.camara.leg.br/\n",
    "```\n",
    "Nele, você poderá obter informações sobre como utilizá-lo, conhecer os dados disponíveis, acessar a documentação da API e entender como ela funciona. Para acessar diretamente a documentação da API, utilize a URL abaixo:\n",
    "```\n",
    "https://dadosabertos.camara.leg.br/swagger/api.html\n",
    "```\n",
    "Antes de iniciar os exercícios abaixo, navegue pela documentação da API; vá até a seção que lista os serviços que permitem acessar os dados dos **deputados**, prestando atenção na URL de acesso e nos parâmetros obrigatórios de cada um deles (se existirem)."
   ]
  },
  {
   "cell_type": "markdown",
   "id": "952fbdb2-9103-4e40-9cce-71642dad170a",
   "metadata": {},
   "source": [
    "<img src='./img/loading-thinking.gif' width='20%'>"
   ]
  },
  {
   "cell_type": "markdown",
   "id": "89c08de9-0a3f-4a85-b161-5b7de065554f",
   "metadata": {},
   "source": [
    "Ok, agora vamos aos exercícios! 💪🏻 Queremos analisar as despesas realizadas pelos deputados da legislatura atual eleitos por um determinado  Estado. Vimos como obter a lista completa dos 513 deputados. Crie uma função denominada **listar_deputados_por_estado**, que receberá como parâmetro a sigla de um Estado brasileiro e retornará uma lista contendo todos os deputados federais eleitos por esse Estado."
   ]
  },
  {
   "cell_type": "code",
   "execution_count": 1,
   "id": "04445747-e130-4c46-9697-39a01f9aa729",
   "metadata": {},
   "outputs": [],
   "source": [
    "import requests"
   ]
  },
  {
   "cell_type": "code",
   "execution_count": 2,
   "id": "7acc0e13-0932-4801-9f53-b5af5766d67c",
   "metadata": {},
   "outputs": [],
   "source": [
    "def read_api(url, params=None):\n",
    "    response = requests.get(url, params=params)\n",
    "    \n",
    "    if response.status_code == 200:\n",
    "        content = response.json()\n",
    "        return content"
   ]
  },
  {
   "cell_type": "code",
   "execution_count": 3,
   "id": "264b8439-ce0c-43d0-b25d-d6f35b74683c",
   "metadata": {},
   "outputs": [],
   "source": [
    "def listar_deputados_por_estado(sigla_uf):\n",
    "    url_api_dep = 'https://dadosabertos.camara.leg.br/api/v2/deputados'\n",
    "    params={'siglaUf':f'{sigla_uf}'}\n",
    "    data = read_api(url_api_dep, params)\n",
    "    if data:\n",
    "        return data['dados']    "
   ]
  },
  {
   "cell_type": "markdown",
   "id": "2d3db3d0-0638-49a4-991e-57e73e8e7b1c",
   "metadata": {},
   "source": [
    "Quantos deputados representam o estado de Minas Gerais?"
   ]
  },
  {
   "cell_type": "code",
   "execution_count": 4,
   "id": "a6d4fa40-dff6-48b7-8775-1b13ad9c1376",
   "metadata": {},
   "outputs": [],
   "source": [
    "dep_mg = listar_deputados_por_estado('MG')"
   ]
  },
  {
   "cell_type": "code",
   "execution_count": 5,
   "id": "5f205172-a692-4f25-b461-89a1cc827958",
   "metadata": {},
   "outputs": [
    {
     "name": "stdout",
     "output_type": "stream",
     "text": [
      "53\n"
     ]
    }
   ],
   "source": [
    "print(len(dep_mg))"
   ]
  },
  {
   "cell_type": "markdown",
   "id": "1d4bf834-5cbd-4d0c-a241-3f620ca8619c",
   "metadata": {},
   "source": [
    "Agora, crie uma função denominada **despesas_por_deputado**, que receberá como parâmetro o identificador (id) de um parlamentar e retornará a lista de despesas desse parlamentar **nos últimos seis meses**.\n",
    "\n",
    "<p>Obs.: O intervalo de seis meses anteriores à requisição é a resposta padrão da API quando o período não é informado como parâmetro, conforme informado pela documentação, portanto, para este exercício, não há necessidade de manipular datas."
   ]
  },
  {
   "cell_type": "code",
   "execution_count": 28,
   "id": "c90e5322-f780-40c4-b60a-7496cb15e5a9",
   "metadata": {},
   "outputs": [
    {
     "name": "stdout",
     "output_type": "stream",
     "text": [
      "74646\n",
      "Aécio Neves\n"
     ]
    }
   ],
   "source": [
    "#seleciona o id e o nome do primeiro deputado da lista para teste\n",
    "dep_id = dep_mg[0]['id']\n",
    "dep_nome = dep_mg[0]['nome']\n",
    "print(dep_id)\n",
    "print(dep_nome)"
   ]
  },
  {
   "cell_type": "code",
   "execution_count": 41,
   "id": "1f7e4fee-f5b5-480b-8674-1a50a2b39f9c",
   "metadata": {},
   "outputs": [],
   "source": [
    "def despesas_por_deputado(idDep):\n",
    "    url_api_dep = f'https://dadosabertos.camara.leg.br/api/v2/deputados/{idDep}/despesas'\n",
    "    \n",
    "    data = read_api(url_api_dep)\n",
    "    if data:\n",
    "        return data['dados']"
   ]
  },
  {
   "cell_type": "markdown",
   "id": "336ca9bc-c446-424b-a634-cb289292bcd1",
   "metadata": {},
   "source": [
    "🌶️ Desafio! Faça a consulta de despesas para um deputado qualquer da lista de deputados que representam o estado de Minas Gerais. Qual o valor total das despesas do deputado no período consultado (seis meses anteriores à data da consulta)? Qual o maior valor pago no período e para qual empresa fornecedora?"
   ]
  },
  {
   "cell_type": "code",
   "execution_count": 44,
   "id": "48eecbcd-f809-4eb2-99dd-6cfc826c464e",
   "metadata": {},
   "outputs": [
    {
     "name": "stdout",
     "output_type": "stream",
     "text": [
      "[{'ano': 2023, 'mes': 3, 'tipoDespesa': 'MANUTENÇÃO DE ESCRITÓRIO DE APOIO À ATIVIDADE PARLAMENTAR', 'codDocumento': 7520058, 'tipoDocumento': 'Recibos/Outros', 'codTipoDocumento': 1, 'dataDocumento': '2023-03-31', 'numDocumento': '71897', 'valorDocumento': 6515.4, 'urlDocumento': 'https://www.camara.leg.br/cota-parlamentar/documentos/publ/233/2023/7520058.pdf', 'nomeFornecedor': 'ANUAR DONATO CONSULT. IMOBILIARIA', 'cnpjCpfFornecedor': '04292201000160', 'valorLiquido': 6515.4, 'valorGlosa': 0.0, 'numRessarcimento': '', 'codLote': 1920596, 'parcela': 0}, {'ano': 2023, 'mes': 5, 'tipoDespesa': 'MANUTENÇÃO DE ESCRITÓRIO DE APOIO À ATIVIDADE PARLAMENTAR', 'codDocumento': 7553631, 'tipoDocumento': 'Recibos/Outros', 'codTipoDocumento': 1, 'dataDocumento': '2023-05-25', 'numDocumento': '75319', 'valorDocumento': 6515.4, 'urlDocumento': 'https://www.camara.leg.br/cota-parlamentar/documentos/publ/233/2023/7553631.pdf', 'nomeFornecedor': 'ANUAR DONATO CONSULT. IMOBILIARIA', 'cnpjCpfFornecedor': '04292201000160', 'valorLiquido': 6515.4, 'valorGlosa': 0.0, 'numRessarcimento': '', 'codLote': 1939225, 'parcela': 0}, {'ano': 2023, 'mes': 6, 'tipoDespesa': 'MANUTENÇÃO DE ESCRITÓRIO DE APOIO À ATIVIDADE PARLAMENTAR', 'codDocumento': 7570073, 'tipoDocumento': 'Recibos/Outros', 'codTipoDocumento': 1, 'dataDocumento': '2023-06-26', 'numDocumento': '77085', 'valorDocumento': 6515.4, 'urlDocumento': 'https://www.camara.leg.br/cota-parlamentar/documentos/publ/233/2023/7570073.pdf', 'nomeFornecedor': 'ANUAR DONATO CONSULT. IMOBILIARIA', 'cnpjCpfFornecedor': '04292201000160', 'valorLiquido': 6515.4, 'valorGlosa': 0.0, 'numRessarcimento': '', 'codLote': 1948225, 'parcela': 0}, {'ano': 2023, 'mes': 7, 'tipoDespesa': 'MANUTENÇÃO DE ESCRITÓRIO DE APOIO À ATIVIDADE PARLAMENTAR', 'codDocumento': 7584291, 'tipoDocumento': 'Recibos/Outros', 'codTipoDocumento': 1, 'dataDocumento': '2023-07-27', 'numDocumento': '78800', 'valorDocumento': 7566.27, 'urlDocumento': 'https://www.camara.leg.br/cota-parlamentar/documentos/publ/233/2023/7584291.pdf', 'nomeFornecedor': 'ANUAR DONATO CONSULT. IMOBILIARIA', 'cnpjCpfFornecedor': '04292201000160', 'valorLiquido': 7566.27, 'valorGlosa': 0.0, 'numRessarcimento': '', 'codLote': 1955967, 'parcela': 0}, {'ano': 2023, 'mes': 8, 'tipoDespesa': 'MANUTENÇÃO DE ESCRITÓRIO DE APOIO À ATIVIDADE PARLAMENTAR', 'codDocumento': 7601596, 'tipoDocumento': 'Recibos/Outros', 'codTipoDocumento': 1, 'dataDocumento': '2023-08-25', 'numDocumento': '80548', 'valorDocumento': 6515.4, 'urlDocumento': 'https://www.camara.leg.br/cota-parlamentar/documentos/publ/233/2023/7601596.pdf', 'nomeFornecedor': 'ANUAR DONATO CONSULT. IMOBILIARIA', 'cnpjCpfFornecedor': '04292201000160', 'valorLiquido': 6515.4, 'valorGlosa': 0.0, 'numRessarcimento': '', 'codLote': 1964573, 'parcela': 0}, {'ano': 2023, 'mes': 4, 'tipoDespesa': 'MANUTENÇÃO DE ESCRITÓRIO DE APOIO À ATIVIDADE PARLAMENTAR', 'codDocumento': 7539493, 'tipoDocumento': 'Recibos/Outros', 'codTipoDocumento': 1, 'dataDocumento': '2023-05-04', 'numDocumento': '74108', 'valorDocumento': 6515.4, 'urlDocumento': 'https://www.camara.leg.br/cota-parlamentar/documentos/publ/233/2023/7539493.pdf', 'nomeFornecedor': 'ANUAR DONATO CONSULTORIA IMOBILIARIA LTDA', 'cnpjCpfFornecedor': '04292201000160', 'valorLiquido': 6515.4, 'valorGlosa': 0.0, 'numRessarcimento': '', 'codLote': 1931681, 'parcela': 0}, {'ano': 2023, 'mes': 4, 'tipoDespesa': 'MANUTENÇÃO DE ESCRITÓRIO DE APOIO À ATIVIDADE PARLAMENTAR', 'codDocumento': 7529535, 'tipoDocumento': 'Nota Fiscal', 'codTipoDocumento': 0, 'dataDocumento': '2023-04-05', 'numDocumento': '020419135', 'valorDocumento': 333.43, 'urlDocumento': 'https://www.camara.leg.br/cota-parlamentar/documentos/publ/233/2023/7529535.pdf', 'nomeFornecedor': 'CEMIG DISTRIBUIÇÃO S.A.', 'cnpjCpfFornecedor': '06981180000116', 'valorLiquido': 333.43, 'valorGlosa': 0.0, 'numRessarcimento': '', 'codLote': 1926050, 'parcela': 0}, {'ano': 2023, 'mes': 6, 'tipoDespesa': 'MANUTENÇÃO DE ESCRITÓRIO DE APOIO À ATIVIDADE PARLAMENTAR', 'codDocumento': 7560314, 'tipoDocumento': 'Nota Fiscal', 'codTipoDocumento': 0, 'dataDocumento': '2023-06-06', 'numDocumento': '039558626', 'valorDocumento': 383.92, 'urlDocumento': 'https://www.camara.leg.br/cota-parlamentar/documentos/publ/233/2023/7560314.pdf', 'nomeFornecedor': 'CEMIG DISTRIBUIÇÃO S.A.', 'cnpjCpfFornecedor': '06981180000116', 'valorLiquido': 383.92, 'valorGlosa': 0.0, 'numRessarcimento': '', 'codLote': 1943311, 'parcela': 0}, {'ano': 2023, 'mes': 7, 'tipoDespesa': 'MANUTENÇÃO DE ESCRITÓRIO DE APOIO À ATIVIDADE PARLAMENTAR', 'codDocumento': 7576944, 'tipoDocumento': 'Nota Fiscal', 'codTipoDocumento': 0, 'dataDocumento': '2023-07-07', 'numDocumento': '049212548', 'valorDocumento': 356.65, 'urlDocumento': 'https://www.camara.leg.br/cota-parlamentar/documentos/publ/233/2023/7576944.pdf', 'nomeFornecedor': 'CEMIG DISTRIBUIÇÃO S.A.', 'cnpjCpfFornecedor': '06981180000116', 'valorLiquido': 356.65, 'valorGlosa': 0.0, 'numRessarcimento': '', 'codLote': 1952029, 'parcela': 0}, {'ano': 2023, 'mes': 8, 'tipoDespesa': 'MANUTENÇÃO DE ESCRITÓRIO DE APOIO À ATIVIDADE PARLAMENTAR', 'codDocumento': 7594256, 'tipoDocumento': 'Nota Fiscal', 'codTipoDocumento': 0, 'dataDocumento': '2023-08-08', 'numDocumento': '058859880', 'valorDocumento': 375.93, 'urlDocumento': 'https://www.camara.leg.br/cota-parlamentar/documentos/publ/233/2023/7594256.pdf', 'nomeFornecedor': 'CEMIG DISTRIBUIÇÃO S.A.', 'cnpjCpfFornecedor': '06981180000116', 'valorLiquido': 375.93, 'valorGlosa': 0.0, 'numRessarcimento': '', 'codLote': 1960754, 'parcela': 0}, {'ano': 2023, 'mes': 5, 'tipoDespesa': 'MANUTENÇÃO DE ESCRITÓRIO DE APOIO À ATIVIDADE PARLAMENTAR', 'codDocumento': 7545076, 'tipoDocumento': 'Nota Fiscal', 'codTipoDocumento': 0, 'dataDocumento': '2023-05-06', 'numDocumento': '29992237', 'valorDocumento': 339.19, 'urlDocumento': 'https://www.camara.leg.br/cota-parlamentar/documentos/publ/233/2023/7545076.pdf', 'nomeFornecedor': 'CEMIG DISTRIBUIÇÃO S.A.', 'cnpjCpfFornecedor': '06981180000116', 'valorLiquido': 339.19, 'valorGlosa': 0.0, 'numRessarcimento': '', 'codLote': 1934728, 'parcela': 0}, {'ano': 2023, 'mes': 4, 'tipoDespesa': 'MANUTENÇÃO DE ESCRITÓRIO DE APOIO À ATIVIDADE PARLAMENTAR', 'codDocumento': 7536718, 'tipoDocumento': 'Nota Fiscal', 'codTipoDocumento': 0, 'dataDocumento': '2023-04-18', 'numDocumento': '0013016519', 'valorDocumento': 370.9, 'urlDocumento': 'https://www.camara.leg.br/cota-parlamentar/documentos/publ/233/2023/7536718.pdf', 'nomeFornecedor': 'CLARO NEXTEL TELECOMUNICAÇÕES S.A', 'cnpjCpfFornecedor': '66970229002100', 'valorLiquido': 370.9, 'valorGlosa': 0.0, 'numRessarcimento': '', 'codLote': 1929669, 'parcela': 0}, {'ano': 2023, 'mes': 5, 'tipoDespesa': 'MANUTENÇÃO DE ESCRITÓRIO DE APOIO À ATIVIDADE PARLAMENTAR', 'codDocumento': 7553743, 'tipoDocumento': 'Nota Fiscal', 'codTipoDocumento': 0, 'dataDocumento': '2023-05-18', 'numDocumento': '0013621314', 'valorDocumento': 460.9, 'urlDocumento': 'https://www.camara.leg.br/cota-parlamentar/documentos/publ/233/2023/7553743.pdf', 'nomeFornecedor': 'CLARO NEXTEL TELECOMUNICAÇÕES S.A', 'cnpjCpfFornecedor': '66970229002100', 'valorLiquido': 460.9, 'valorGlosa': 0.0, 'numRessarcimento': '', 'codLote': 1939273, 'parcela': 0}, {'ano': 2023, 'mes': 6, 'tipoDespesa': 'MANUTENÇÃO DE ESCRITÓRIO DE APOIO À ATIVIDADE PARLAMENTAR', 'codDocumento': 7570091, 'tipoDocumento': 'Nota Fiscal', 'codTipoDocumento': 0, 'dataDocumento': '2023-06-16', 'numDocumento': '0014249582', 'valorDocumento': 370.9, 'urlDocumento': 'https://www.camara.leg.br/cota-parlamentar/documentos/publ/233/2023/7570091.pdf', 'nomeFornecedor': 'CLARO NEXTEL TELECOMUNICAÇÕES S.A', 'cnpjCpfFornecedor': '66970229002100', 'valorLiquido': 370.9, 'valorGlosa': 0.0, 'numRessarcimento': '', 'codLote': 1948224, 'parcela': 0}, {'ano': 2023, 'mes': 7, 'tipoDespesa': 'MANUTENÇÃO DE ESCRITÓRIO DE APOIO À ATIVIDADE PARLAMENTAR', 'codDocumento': 7585450, 'tipoDocumento': 'Nota Fiscal', 'codTipoDocumento': 0, 'dataDocumento': '2023-07-18', 'numDocumento': '0014881422', 'valorDocumento': 370.9, 'urlDocumento': 'https://www.camara.leg.br/cota-parlamentar/documentos/publ/233/2023/7585450.pdf', 'nomeFornecedor': 'CLARO NEXTEL TELECOMUNICAÇÕES S.A', 'cnpjCpfFornecedor': '66970229002100', 'valorLiquido': 370.9, 'valorGlosa': 0.0, 'numRessarcimento': '', 'codLote': 1956553, 'parcela': 0}]\n"
     ]
    }
   ],
   "source": [
    "desp_dep = despesas_por_deputado(dep_id)\n",
    "print(desp_dep)"
   ]
  },
  {
   "cell_type": "code",
   "execution_count": 95,
   "id": "bb3a6768-68af-4b6d-b3a2-ece467f2caea",
   "metadata": {},
   "outputs": [],
   "source": [
    "def calcula_valor_total_despesas(lista_desp):\n",
    "    valor_total = sum([desp['valorLiquido'] for desp in lista_desp])\n",
    "    return valor_total"
   ]
  },
  {
   "cell_type": "code",
   "execution_count": 96,
   "id": "64e741ca-ddcc-45d3-8bc5-c8adcabe235e",
   "metadata": {},
   "outputs": [
    {
     "name": "stdout",
     "output_type": "stream",
     "text": [
      "O deputado Aécio Neves gastou R$ 43505.99 de cota parlamentar nos ultimos 6 meses\n"
     ]
    }
   ],
   "source": [
    "valor_total = calcula_valor_total_despesas(desp_dep)\n",
    "print(f'O deputado {dep_nome} gastou R$ {valor_total:.2f} de cota parlamentar nos ultimos 6 meses')"
   ]
  },
  {
   "cell_type": "code",
   "execution_count": 97,
   "id": "6353a8f0-1563-484f-a49d-e48394a67d10",
   "metadata": {},
   "outputs": [],
   "source": [
    "from operator import itemgetter\n",
    "\n",
    "def retorna_maior_valor_gasto(lista_desp):\n",
    "    lista_desp_ord = sorted(lista_desp, key=itemgetter('valorLiquido'), reverse=True)\n",
    "    val_maior_desp = lista_desp_ord[0]['valorDocumento']\n",
    "    empresa = lista_desp_ord[0]['nomeFornecedor']\n",
    "    return val_maior_desp,empresa\n"
   ]
  },
  {
   "cell_type": "code",
   "execution_count": 98,
   "id": "51fbf7ca-078e-4f53-ad34-cc4f64908173",
   "metadata": {},
   "outputs": [
    {
     "name": "stdout",
     "output_type": "stream",
     "text": [
      "O maior valor gasto pelo deputado Aécio Neves foi R$ 7566.27, pago à empresa ANUAR DONATO CONSULT. IMOBILIARIA.\n"
     ]
    }
   ],
   "source": [
    "val_maior_desp, empresa = retorna_maior_valor_gasto(desp_dep)\n",
    "print(f'O maior valor gasto pelo deputado {dep_nome} foi R$ {val_maior_desp:.2f}, pago à empresa {empresa}.')"
   ]
  },
  {
   "cell_type": "markdown",
   "id": "ef8bd142-0457-4912-a8ef-3b0cab9eea56",
   "metadata": {},
   "source": [
    "🌶️🌶️ Duplo desafio! Faça uma função que receberá como parâmetro a sigla de um Estado e retornará uma lista de dicionários contendo o nome do deputado e sua respectiva lista de despesas.<p>\n",
    "*Dica*: Ao acessar serviços de uma API, é essencial que implementemos mecanismos para garantir que não o estejamos sobrecarregando ou violando os seus limites de taxas de requisição. Muitos servidores limitam o número de requisições feitas por um mesmo endereço IP em um espaço específico de tempo, por exemplo, 15 requisições por min., e se um programa de computador exceder esses limites, ele pode ser temporariamente bloqueado ou permanentemente suspenso de acessar a API. A documentação da API que estamos utilizando não nos informa a sua taxa limite de requisições, mas podemos implementar preventivamente um mecanismo para evitar o bloqueio do seu programa. Uma das formas de se fazer isso é inserir um timer com um determinado atraso (normalmente de 60 segundos, mas depende do serviço) quando o número de requisições que você estiver fazendo chegar a um limite. Faça uma pesquisa sobre como inserir um timer em sua função. Determine um tempo de atraso de 60 seg. e um número máximo de disparo de requisições de 15."
   ]
  },
  {
   "cell_type": "code",
   "execution_count": 93,
   "id": "130f4473-956b-4252-9720-ab41040f1939",
   "metadata": {},
   "outputs": [],
   "source": [
    "import time\n",
    "\n",
    "DELAY_IN_SECONDS = 60\n",
    "\n",
    "def lista_despesas_deputados_por_estado(siglaUf):\n",
    "    dep_por_estado = listar_deputados_por_estado(siglaUf)\n",
    "    cont = 0\n",
    "    lista_dep_desp = []\n",
    "    for dep in dep_por_estado:\n",
    "        #print(dep['id']\n",
    "        cont += 1\n",
    "        despesas = despesas_por_deputado(dep['id'])\n",
    "        if despesas:\n",
    "            novo_dep = {'deputado':dep['nome'], 'despesas':despesas}\n",
    "            lista_dep_desp.append(novo_dep)\n",
    "        if cont == 15:\n",
    "            time.sleep(DELAY_IN_SECONDS)\n",
    "            count = 0\n",
    "    return lista_dep_desp"
   ]
  },
  {
   "cell_type": "code",
   "execution_count": 90,
   "id": "eda8ea3e-84aa-44bc-a737-3771ee125fe2",
   "metadata": {},
   "outputs": [],
   "source": [
    "lista_desp_dep = lista_despesas_deputados_por_estado('MG')"
   ]
  },
  {
   "cell_type": "code",
   "execution_count": 92,
   "id": "f620bc42-1dfd-4eb3-b90c-372b7184ff14",
   "metadata": {},
   "outputs": [
    {
     "data": {
      "text/plain": [
       "53"
      ]
     },
     "execution_count": 92,
     "metadata": {},
     "output_type": "execute_result"
    }
   ],
   "source": [
    "len(lista_desp_dep)"
   ]
  },
  {
   "cell_type": "markdown",
   "id": "520cf9cd-430b-4346-a482-572d4bda4efd",
   "metadata": {},
   "source": [
    "Se conseguiu implementar a função, busque as despesas dos deputados eleitos pelo estado de Minas Gerais e tente responder às seguintes perguntas: que deputado gastou mais (em valores totais) durante o período pesquisado? Qual foi o maior valor de despesa única entre todos os deputados?"
   ]
  },
  {
   "cell_type": "code",
   "execution_count": 108,
   "id": "52cacc36-93c7-4767-a6df-d7e52ac1b941",
   "metadata": {},
   "outputs": [
    {
     "name": "stdout",
     "output_type": "stream",
     "text": [
      "O deputado Mário Heringer foi o que mais gastou durante o periodo pesquisado, um total de R$ 104758.10.\n"
     ]
    }
   ],
   "source": [
    "dep = lista_desp_dep[0]\n",
    "nome_dep = dep['deputado']\n",
    "maior_valor_total = calcula_valor_total_despesas(dep['despesas'])\n",
    "for i in range(1,len(lista_desp_dep)):\n",
    "    dep = lista_desp_dep[i]\n",
    "    valor_atual = calcula_valor_total_despesas(dep['despesas'])\n",
    "    if maior_valor_total < valor_atual:\n",
    "        nome_dep = dep['deputado']\n",
    "        maior_valor_total = valor_atual\n",
    "\n",
    "print(f'O deputado {nome_dep} foi o que mais gastou durante o periodo pesquisado, um total de R$ {maior_valor_total:.2f}.')   "
   ]
  },
  {
   "cell_type": "code",
   "execution_count": 111,
   "id": "8e1cc262-d061-44f7-bfb5-5024f88b2ff5",
   "metadata": {},
   "outputs": [
    {
     "name": "stdout",
     "output_type": "stream",
     "text": [
      "O deputado Hercílio Coelho Diniz foi o que gastou o maior valor em uma única despesa durante o periodo pesquisado, um total de R$ 30000.00 para a empresa FRAMIN - AGENCIA DE COMUNICACAO LTDA.\n"
     ]
    }
   ],
   "source": [
    "lista_maiores_valores_gastos_por_deputado = []\n",
    "for dep in lista_desp_dep:\n",
    "    valor, empresa = retorna_maior_valor_gasto(dep['despesas'])\n",
    "    lista_maiores_valores_gastos_por_deputado.append({'deputado':dep['deputado'],'valor':valor,'empresa':empresa})\n",
    "lista_ordenada = sorted(lista_maiores_valores_gastos_por_deputado, key=itemgetter('valor'), reverse=True)\n",
    "nome_dep = lista_ordenada[0]['deputado']\n",
    "valor = lista_ordenada[0]['valor']\n",
    "empresa = lista_ordenada[0]['empresa']\n",
    "print(f'O deputado {nome_dep} foi o que gastou o maior valor em uma única despesa durante o periodo pesquisado, um total de R$ {valor:.2f} para a empresa {empresa}.') "
   ]
  },
  {
   "cell_type": "code",
   "execution_count": null,
   "id": "53ac5fb5-d0dc-411b-8f1e-4f88ffa59006",
   "metadata": {},
   "outputs": [],
   "source": []
  }
 ],
 "metadata": {
  "kernelspec": {
   "display_name": "enap",
   "language": "python",
   "name": "enap"
  },
  "language_info": {
   "codemirror_mode": {
    "name": "ipython",
    "version": 3
   },
   "file_extension": ".py",
   "mimetype": "text/x-python",
   "name": "python",
   "nbconvert_exporter": "python",
   "pygments_lexer": "ipython3",
   "version": "3.10.6"
  }
 },
 "nbformat": 4,
 "nbformat_minor": 5
}
