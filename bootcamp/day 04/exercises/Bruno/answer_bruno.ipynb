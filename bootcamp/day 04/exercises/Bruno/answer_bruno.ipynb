{
 "cells": [
  {
   "cell_type": "markdown",
   "id": "9d2ccd02-3f89-4032-aac7-c1023b719b71",
   "metadata": {
    "tags": []
   },
   "source": [
    "# Exercícios: Fontes de Dados"
   ]
  },
  {
   "cell_type": "markdown",
   "id": "03775d8b-afc3-4a6f-8e5a-77069c42152a",
   "metadata": {
    "tags": []
   },
   "source": [
    "### Frequência de Palavras - Arquivo Local"
   ]
  },
  {
   "cell_type": "markdown",
   "id": "4ae0745c-4f69-446e-850c-559c7796c4c0",
   "metadata": {
    "tags": []
   },
   "source": [
    "Um arquivo de texto local pode ser uma fonte de dados ainda que não esteja em formato estruturado em linhas e colunas.<br>\n",
    "Nesse exercício vamos analisar as palavras mais frequentes em um arquivo de texto em linguagem natural.<br>"
   ]
  },
  {
   "cell_type": "markdown",
   "id": "50ce44af-6c53-483a-bffd-752dc9c1996f",
   "metadata": {
    "tags": []
   },
   "source": [
    "#### Função Auxiliar de Limpeza\n",
    "Utilizaremos a seguinte função para converter o texto para letras minúsculas e remover caracteres especiais, como a pontuação:"
   ]
  },
  {
   "cell_type": "code",
   "execution_count": 28,
   "id": "839b3fac-ec8f-4e62-8931-ca2af70fec1c",
   "metadata": {
    "tags": []
   },
   "outputs": [],
   "source": [
    "import re\n",
    "def limpa_texto(linha):\n",
    "    return re.sub(r'[^\\w\\s]', '', linha.lower())"
   ]
  },
  {
   "cell_type": "markdown",
   "id": "063200d2-e374-4521-8589-61b94578c507",
   "metadata": {
    "tags": []
   },
   "source": [
    "#### Função Dicionário de Frequência\n",
    "Defina uma função com o nome \"dicionario_frequencia()\", tal qual a do exercício da Aula 02, que receba uma lista de itens e retorne um dicionário com a frequência de cada uma dos itens da lista:"
   ]
  },
  {
   "cell_type": "code",
   "execution_count": 2,
   "id": "22bd6cfe-0613-43b8-bc6e-655c9d4ca213",
   "metadata": {
    "tags": []
   },
   "outputs": [],
   "source": [
    "def dicionario_frequencia(lista_itens=None):\n",
    "    frequencia = {}\n",
    "    for item in lista_itens:\n",
    "        frequencia[item] = frequencia.get(item,0)+1\n",
    "    return frequencia"
   ]
  },
  {
   "cell_type": "markdown",
   "id": "883250c0-2608-4e96-b338-30dd6c40cb71",
   "metadata": {
    "tags": []
   },
   "source": [
    "#### Leitura do Arquivo e Cálculo das Frequências\n",
    "Analisaremos o arquivo \"data/memorias_postumas_bras_cubas.txt\", em formato texto e codificação 'utf-8'.<br>\n",
    "Primeiramente, leia o arquivo, linha por linha, executando a função \"limpa_texto\", e armazene o resultado numa variável denominada \"texto\".\n",
    "Gere uma lista com as palavras e calcule a frequência das mesmas por meio da função dicionario_frequencia()."
   ]
  },
  {
   "cell_type": "code",
   "execution_count": 30,
   "id": "14af5f32-72e6-4962-9a0f-f49ad1af0cc9",
   "metadata": {
    "tags": []
   },
   "outputs": [],
   "source": [
    "texto=''\n",
    "with open('data/memorias_postumas_bras_cubas.txt', 'r',encoding='utf-8') as arquivo:\n",
    "    for linha in arquivo:\n",
    "        texto += limpa_texto(linha)\n",
    "lista_palavras = texto.split()\n",
    "freq_palavras = dicionario_frequencia(lista_palavras)"
   ]
  },
  {
   "cell_type": "markdown",
   "id": "9d4b5cf8-8ff4-4cb8-acd2-ff3480703930",
   "metadata": {
    "tags": []
   },
   "source": [
    "#### Saída 1: Liste as 20 palavras mais frequentes no texto\n",
    "Defina e execute uma função para exibir as 20 palavras mais frequentes do texto, com base no dicionário criado."
   ]
  },
  {
   "cell_type": "code",
   "execution_count": 31,
   "id": "be867124-cde5-499d-ac90-f88d25e365e3",
   "metadata": {
    "tags": []
   },
   "outputs": [
    {
     "name": "stdout",
     "output_type": "stream",
     "text": [
      "['a', 'que', 'de', 'e', 'o', 'não', 'um', 'do', 'uma', 'da', 'com', 'é', 'era', 'os', 'eu', 'se', 'as', 'mas', 'ao', 'me']\n"
     ]
    }
   ],
   "source": [
    "def top20(freq_palavras=None):\n",
    "    lista_ordenada = sorted(freq_palavras.items(), key=lambda x: x[1], reverse=True)\n",
    "    lista_ordenada = [ i[0] for i in lista_ordenada]\n",
    "    return lista_ordenada[0:20] \n",
    "\n",
    "print(top20(freq_palavras))"
   ]
  },
  {
   "cell_type": "markdown",
   "id": "d30d7541-141a-43cb-97df-51b78829fb3e",
   "metadata": {
    "tags": []
   },
   "source": [
    "#### Saída 2: Liste as 20 palavras mais frequentes no texto - Palavras Irrelevantes\n",
    "Como visto, as palavras mais frequentes não revelam muito sobre o texto.<br>\n",
    "Utilize a seguinte lista de palavras irrelevantes (\"stop words\") que devem ser desconsideradas:"
   ]
  },
  {
   "cell_type": "code",
   "execution_count": 32,
   "id": "ff30417c-9687-4c4c-b53c-9f84138d450c",
   "metadata": {
    "tags": []
   },
   "outputs": [],
   "source": [
    "stopwords=['a', 'à', 'ao', 'aos', 'aquela', 'aquelas', 'aquele', 'aqueles', 'aquilo', 'as', 'às', 'até', 'com', 'como', 'da', 'das', 'de', 'dela', 'delas', 'dele', 'deles', 'depois', \n",
    "           'do', 'dos', 'e', 'é', 'ela', 'elas', 'ele', 'eles', 'em', 'entre', 'era', 'eram', 'éramos', 'essa', 'essas', 'esse', 'esses', 'esta', 'está', 'estamos', 'estão', 'estar',\n",
    "           'estas', 'estava', 'estavam', 'estávamos', 'este', 'esteja', 'estejam', 'estejamos', 'estes', 'esteve', 'estive', 'estivemos', 'estiver', 'estivera', 'estiveram', 'estivéramos',\n",
    "           'estiverem', 'estivermos', 'estivesse', 'estivessem', 'estivéssemos', 'estou', 'eu', 'foi', 'fomos', 'for', 'fora', 'foram', 'fôramos', 'forem', 'formos', 'fosse', 'fossem',\n",
    "           'fôssemos', 'fui', 'há', 'haja', 'hajam', 'hajamos', 'hão', 'havemos', 'haver', 'hei', 'houve', 'houvemos', 'houver', 'houvera', 'houverá', 'houveram', 'houvéramos', 'houverão',\n",
    "           'houverei', 'houverem', 'houveremos', 'houveria', 'houveriam', 'houveríamos', 'houvermos', 'houvesse', 'houvessem', 'houvéssemos', 'isso', 'isto', 'já', 'lhe', 'lhes', 'mais',\n",
    "           'mas', 'me', 'mesmo', 'meu', 'meus', 'minha', 'minhas', 'muito', 'na', 'não', 'nas', 'nem', 'no', 'nos', 'nós', 'nossa', 'nossas', 'nosso', 'nossos', 'num', 'numa', 'o', 'os',\n",
    "           'ou', 'para', 'pela', 'pelas', 'pelo', 'pelos', 'por', 'qual', 'quando', 'que', 'quem', 'são', 'se', 'seja', 'sejam', 'sejamos', 'sem', 'ser', 'será', 'serão', 'serei', 'seremos', 'seria',\n",
    "           'seriam', 'seríamos', 'seu', 'seus', 'só', 'somos', 'sou', 'sua', 'suas', 'também', 'te', 'tem', 'tém', 'temos', 'tenha', 'tenham', 'tenhamos', 'tenho', 'terá', 'terão', 'terei',\n",
    "           'teremos', 'teria', 'teriam', 'teríamos', 'teu', 'teus', 'teve', 'tinha', 'tinham', 'tínhamos', 'tive', 'tivemos', 'tiver', 'tivera', 'tiveram', 'tivéramos', 'tiverem', 'tivermos',\n",
    "           'tivesse', 'tivessem', 'tivéssemos', 'tu', 'tua', 'tuas', 'um', 'uma', 'você', 'vocês', 'vos','outro','outra','porque','então','ainda','d','alguma', 'talvez','alguns','ia','tudo','nada',\n",
    "           'todos','logo','lá','tão','assim']"
   ]
  },
  {
   "cell_type": "markdown",
   "id": "5d77fb17-0c12-4c64-b88d-b05f490de21a",
   "metadata": {},
   "source": [
    "Crie uma lista de palavras nova, desconsiderando as stopwords, e calcule novamente as 20 palavras masi frequentes no texto:"
   ]
  },
  {
   "cell_type": "code",
   "execution_count": 33,
   "id": "50a03ddc-a100-4177-ad7e-75a38c059bf9",
   "metadata": {
    "tags": []
   },
   "outputs": [
    {
     "name": "stdout",
     "output_type": "stream",
     "text": [
      "['capítulo', 'virgília', 'coisa', 'olhos', 'disse', 'vida', 'tempo', 'menos', 'homem', 'casa', 'mim', 'pouco', 'dia', 'vez', 'anos', 'pai', 'agora', 'borba', 'grande', 'bem']\n"
     ]
    }
   ],
   "source": [
    "lista_palavras_limpa = [palavra for palavra in lista_palavras if palavra not in stopwords]\n",
    "freq_palavras = dicionario_frequencia(lista_palavras_limpa)\n",
    "print(top20(freq_palavras))"
   ]
  },
  {
   "cell_type": "markdown",
   "id": "62a1f1f4-d4a6-4f5e-a62d-1ca88ee2c02c",
   "metadata": {
    "tags": []
   },
   "source": [
    "### Download de Base CSV"
   ]
  },
  {
   "cell_type": "markdown",
   "id": "9a1127fa-a768-4fbe-8b04-7aec17a9120e",
   "metadata": {
    "tags": []
   },
   "source": [
    "Parte das bases de dados do Governo Federal é disponibilizada no formato de arquivos CSV e, muitas vezes, são disponibilizadas de forma fracionada.<br>\n",
    "A base de dados \"<a href=\"https://dados.gov.br/dados/conjuntos-dados/comercializacao-de-gas-natural\">Série Histórica de Preços de Combustíveis e de GLP\"</a> relativa a Etanol + Gasolina Comum\", Agência Nacional do Petróleo, Gás Natural e Biocombustíveis, é fornecida em arquivos mensais.\n",
    "Utilizando o módulo requests, escreva uma programa para baixar o arquivo \"Etanol + Gasolina Comum - Janeiro/2023\" e armazená-lo em um arquivo local."
   ]
  },
  {
   "cell_type": "code",
   "execution_count": 23,
   "id": "1dbd3efb-9e5b-4dcc-9359-cb5598dcaf1d",
   "metadata": {
    "tags": []
   },
   "outputs": [],
   "source": [
    "import os\n",
    "import requests\n",
    "\n",
    "url= \"https://www.gov.br/anp/pt-br/centrais-de-conteudo/dados-abertos/arquivos/shpc/dsan/2023/precos-gasolina-etanol-01.csv\"\n",
    "\n",
    "def download_file(url=None):\n",
    "    try:\n",
    "        webfile=requests.get(url)\n",
    "        webfile.raise_for_status()\n",
    "    except (requests.RequestException) as e:\n",
    "        print('Falha:'+str(e))\n",
    "    return webfile.content\n",
    "\n",
    "def save_file(filename=None,content=None):\n",
    "    if filename and len(filename)>0 and not os.path.exists(filename):\n",
    "        with open(filename, 'wb') as file:\n",
    "            file.write(content)\n",
    "\n",
    "filename = url.split('/')[-1]\n",
    "content = download_file(url)\n",
    "save_file(filename,content)"
   ]
  },
  {
   "cell_type": "markdown",
   "id": "b826a2d7-14d9-4f90-895d-61e830e33426",
   "metadata": {
    "tags": []
   },
   "source": [
    "Considerando o padrão do formato da URL em que os dados da base foram disponibilizados, faça um programa para baixar todos os arquivos da base referentes ao ano de 2023, até a data presente."
   ]
  },
  {
   "cell_type": "code",
   "execution_count": 27,
   "id": "a1061d0a-d35b-49c9-aa43-6b160b6f002e",
   "metadata": {
    "tags": []
   },
   "outputs": [
    {
     "name": "stdout",
     "output_type": "stream",
     "text": [
      "Falha:404 Client Error: Not Found for url: https://www.gov.br/anp/pt-br/centrais-de-conteudo/dados-abertos/arquivos/shpc/dsan/2023/precos-gasolina-etanol-10.csv\n"
     ]
    }
   ],
   "source": [
    "from datetime import date\n",
    "\n",
    "url_base=\"https://www.gov.br/anp/pt-br/centrais-de-conteudo/dados-abertos/arquivos/shpc/dsan/2023/precos-gasolina-etanol-\"\n",
    "mes_atual = date.today().month\n",
    "\n",
    "urls = [ f'{url_base}{mes:02d}.csv' for mes in range(1,mes_atual)]\n",
    "\n",
    "for url in urls:\n",
    "    filename = url.split('/')[-1]\n",
    "    content = download_file(url)\n",
    "    save_file(filename,content)"
   ]
  },
  {
   "cell_type": "markdown",
   "id": "3c3b34a0-923c-416b-85da-1a7821add401",
   "metadata": {},
   "source": [
    "### Análise Básica CSV"
   ]
  },
  {
   "cell_type": "markdown",
   "id": "64fc83e3-b871-4716-9320-b3665dc12782",
   "metadata": {},
   "source": [
    "Escreva uma função para ler e imprimir a primeira linha do arquivo \"precos-gasolina-etanol-01.csv\" para identificar o nome das colunas e o separador utilizado no arquivo.\n",
    "Utilize o parâmetro encoding=arquivo_encoding na função open()."
   ]
  },
  {
   "cell_type": "code",
   "execution_count": 9,
   "id": "ee548850-e353-4f4e-9403-04e34158cd8c",
   "metadata": {},
   "outputs": [],
   "source": [
    "arquivo = \"precos-gasolina-etanol-01.csv\"\n",
    "arquivo_encoding = \"utf-8-sig\""
   ]
  },
  {
   "cell_type": "code",
   "execution_count": 10,
   "id": "dfce898c-c885-40b6-98b5-7901f8ccc889",
   "metadata": {
    "tags": []
   },
   "outputs": [
    {
     "name": "stdout",
     "output_type": "stream",
     "text": [
      "Regiao - Sigla;Estado - Sigla;Municipio;Revenda;CNPJ da Revenda;Nome da Rua;Numero Rua;Complemento;Bairro;Cep;Produto;Data da Coleta;Valor de Venda;Valor de Compra;Unidade de Medida;Bandeira\n",
      "\n"
     ]
    }
   ],
   "source": [
    "import os\n",
    "\n",
    "def print_header(filename=None):\n",
    "    if filename and len(filename)>0 and os.path.exists(filename):\n",
    "        with open(filename, 'r',encoding='utf-8-sig') as file:\n",
    "            print(file.readline())\n",
    "\n",
    "print_header(arquivo)"
   ]
  },
  {
   "cell_type": "markdown",
   "id": "8b7c2cb3-ab69-443c-9882-ae38a923e08e",
   "metadata": {},
   "source": [
    "A linguagem Python possui um módulo denominado CSV que permite a extração de dados de arquivos desse formato.<br>\n",
    "Leia a <a href='https://docs.python.org/3/library/csv.html'>documentação do módulo CSV</a> e desenvolva uma função para ler o arquivo \"precos-gasolina-etanol-01.csv\" e imprima o total de linhas presentes no arquivo."
   ]
  },
  {
   "cell_type": "code",
   "execution_count": 11,
   "id": "a53d55c7-4bee-4dbf-b0c8-57db6150e225",
   "metadata": {
    "tags": []
   },
   "outputs": [
    {
     "name": "stdout",
     "output_type": "stream",
     "text": [
      "Total de Linhas:47067\n"
     ]
    }
   ],
   "source": [
    "arquivo = \"precos-gasolina-etanol-01.csv\"\n",
    "\n",
    "import csv\n",
    "import os\n",
    "\n",
    "def readCSV(filename=None):\n",
    "    linhas = []\n",
    "    if filename and len(filename)>0 and os.path.exists(filename):\n",
    "        with open(filename, encoding='utf-8-sig') as csvfile:\n",
    "            reader = csv.reader(csvfile,delimiter=';')\n",
    "            for linha in reader:\n",
    "                linhas.append(linha)\n",
    "        return linhas\n",
    "    \n",
    "precos_combustiveis = readCSV(arquivo)\n",
    "print(f'Total de Linhas:{len(precos_combustiveis)}')\n"
   ]
  },
  {
   "cell_type": "code",
   "execution_count": 12,
   "id": "6830d2a1-465d-4bf5-9e81-81fddd216242",
   "metadata": {
    "tags": []
   },
   "outputs": [
    {
     "data": {
      "text/plain": [
       "47067"
      ]
     },
     "execution_count": 12,
     "metadata": {},
     "output_type": "execute_result"
    }
   ],
   "source": [
    "len(precos_combustiveis)"
   ]
  },
  {
   "cell_type": "markdown",
   "id": "5824c0f3-3270-4e07-9093-3ecfd2387c05",
   "metadata": {
    "tags": []
   },
   "source": [
    "Crie uma nova lista contendo as colunas \"Produto\" e \"Valor de Venda\" com somente registros do município de \"UBATUBA\".\n",
    "Imprima a lista ordenadas por tipo de produto."
   ]
  },
  {
   "cell_type": "code",
   "execution_count": 13,
   "id": "7aab2207-9a0a-49f9-890f-5c36af4473ef",
   "metadata": {
    "tags": []
   },
   "outputs": [
    {
     "name": "stdout",
     "output_type": "stream",
     "text": [
      "['ETANOL', '3,85']\n",
      "['ETANOL', '3,86']\n",
      "['ETANOL', '4,07']\n",
      "['ETANOL', '4,19']\n",
      "['ETANOL', '4,19']\n",
      "['ETANOL', '4,29']\n",
      "['ETANOL', '4,29']\n",
      "['ETANOL', '4,29']\n",
      "['GASOLINA', '4,94']\n",
      "['GASOLINA', '4,95']\n",
      "['GASOLINA', '4,97']\n",
      "['GASOLINA', '5,14']\n",
      "['GASOLINA', '5,19']\n",
      "['GASOLINA', '5,29']\n",
      "['GASOLINA', '5,29']\n",
      "['GASOLINA', '5,29']\n",
      "['GASOLINA ADITIVADA', '4,94']\n",
      "['GASOLINA ADITIVADA', '5,02']\n",
      "['GASOLINA ADITIVADA', '5,05']\n",
      "['GASOLINA ADITIVADA', '5,14']\n",
      "['GASOLINA ADITIVADA', '5,19']\n",
      "['GASOLINA ADITIVADA', '5,34']\n",
      "['GASOLINA ADITIVADA', '5,34']\n",
      "['GASOLINA ADITIVADA', '5,39']\n"
     ]
    }
   ],
   "source": [
    "preco_ubatuba = [ [linha[10],linha[12]] for linha in precos_combustiveis if linha[2]==\"UBATUBA\"]\n",
    "\n",
    "for linha in sorted(preco_ubatuba):\n",
    "    print(linha)"
   ]
  },
  {
   "cell_type": "markdown",
   "id": "b8d00c7d-ec80-47f7-9245-058303fcda48",
   "metadata": {
    "tags": []
   },
   "source": [
    "Calcule o preço médio do produto \"GASOLINA\" no município de \"UBATUBA\"."
   ]
  },
  {
   "cell_type": "code",
   "execution_count": 14,
   "id": "3899522a-1744-4345-b123-d8fd14de7443",
   "metadata": {
    "tags": []
   },
   "outputs": [
    {
     "name": "stdout",
     "output_type": "stream",
     "text": [
      "Preço Médio:5.1325\n"
     ]
    }
   ],
   "source": [
    "precos_gasolina = [ float(linha[1].replace(',','.')) for linha in preco_ubatuba if linha[0]==\"GASOLINA\"]\n",
    "print(f'Preço Médio:{sum(precos_gasolina)/len(precos_gasolina)}')"
   ]
  }
 ],
 "metadata": {
  "kernelspec": {
   "display_name": "Python 3 (ipykernel)",
   "language": "python",
   "name": "python3"
  },
  "language_info": {
   "codemirror_mode": {
    "name": "ipython",
    "version": 3
   },
   "file_extension": ".py",
   "mimetype": "text/x-python",
   "name": "python",
   "nbconvert_exporter": "python",
   "pygments_lexer": "ipython3",
   "version": "3.11.5"
  }
 },
 "nbformat": 4,
 "nbformat_minor": 5
}
