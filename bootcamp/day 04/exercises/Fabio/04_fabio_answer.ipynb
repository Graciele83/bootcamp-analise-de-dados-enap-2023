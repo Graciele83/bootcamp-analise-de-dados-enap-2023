{
 "cells": [
  {
   "cell_type": "markdown",
   "id": "4824ea65",
   "metadata": {},
   "source": [
    "# Explorando as estatísticas de comércio exterior brasileiras"
   ]
  },
  {
   "cell_type": "markdown",
   "id": "616ab7e4",
   "metadata": {},
   "source": [
    "As bases de dados exportações e importações brasileiras podem ser encontradas no seguinte endereço:\n",
    "\n",
    "https://www.gov.br/produtividade-e-comercio-exterior/pt-br/assuntos/comercio-exterior/estatisticas/base-de-dados-bruta\n",
    "\n",
    "Observe que na primeira seção - Base de dados detalhada por NCM - encontramos links para os arquivos .csv para cada ano.\n",
    "\n",
    "Crie uma função que gere uma lista com os urls de todos os anos disponíveis (1997 a 2023), tanto para importação quanto para exportação."
   ]
  },
  {
   "cell_type": "code",
   "execution_count": 1,
   "id": "f01513dc",
   "metadata": {},
   "outputs": [],
   "source": [
    "url_base = \"https://balanca.economia.gov.br/balanca/bd/comexstat-bd/ncm/\"\n",
    "\n",
    "def cria_url(fluxo, ano):\n",
    "    return f\"{url_base}{fluxo.upper()}_{str(ano)}.csv\""
   ]
  },
  {
   "cell_type": "code",
   "execution_count": 2,
   "id": "62d68ebf",
   "metadata": {},
   "outputs": [],
   "source": [
    "urls_balanca = [cria_url(f, a) for f in [\"exp\", \"imp\"] for a in range(1997, 2024)]"
   ]
  },
  {
   "cell_type": "markdown",
   "id": "ee6da849",
   "metadata": {},
   "source": [
    "Aproveitando os códigos da aula, baixe e salve o arquivo de exportações de 1997."
   ]
  },
  {
   "cell_type": "code",
   "execution_count": 4,
   "id": "4dc1b8b9",
   "metadata": {},
   "outputs": [],
   "source": [
    "import os\n",
    "import requests\n",
    "\n",
    "def build_path(folder):\n",
    "    current_folder = os.getcwd()\n",
    "    folderpath = os.path.join(current_folder, folder)\n",
    "    folderpath = os.path.abspath(folderpath)\n",
    "    if not os.path.exists(folderpath): os.makedirs(folderpath)\n",
    "    return folderpath\n",
    "\n",
    "\n",
    "# folder é uma subpasta do seu diretório atual\n",
    "# o nome do arquivo é gerado automaticamente\n",
    "def download_save_unverified(url, folder):\n",
    "    \n",
    "    folderpath = build_path(folder)\n",
    "    filepath = os.path.join(folderpath, url.split('/')[-1])\n",
    "\n",
    "    # bypass da validação para evitar SSLCertVerificationError\n",
    "    response = requests.get(url, verify = False) \n",
    "\n",
    "    if response.status_code == 200:\n",
    "        content = response.content\n",
    "\n",
    "        with open(filepath, mode='wb') as csvfile:\n",
    "            csvfile.write(content)"
   ]
  },
  {
   "cell_type": "code",
   "execution_count": 5,
   "id": "62149eca",
   "metadata": {
    "collapsed": true
   },
   "outputs": [
    {
     "name": "stderr",
     "output_type": "stream",
     "text": [
      "C:\\Anaconda3\\envs\\bootcamp_enap\\lib\\site-packages\\urllib3\\connectionpool.py:1052: InsecureRequestWarning: Unverified HTTPS request is being made to host 'balanca.economia.gov.br'. Adding certificate verification is strongly advised. See: https://urllib3.readthedocs.io/en/1.26.x/advanced-usage.html#ssl-warnings\n",
      "  InsecureRequestWarning,\n"
     ]
    }
   ],
   "source": [
    "download_save_unverified(urls_balanca[0], \"data/arquivos_exp\")"
   ]
  },
  {
   "cell_type": "markdown",
   "id": "39b96457",
   "metadata": {},
   "source": [
    "Importe a função **read_csv** da biblioteca **pandas** e tente abrir o arquivo baixado. "
   ]
  },
  {
   "cell_type": "code",
   "execution_count": 6,
   "id": "2becd005",
   "metadata": {
    "collapsed": true
   },
   "outputs": [
    {
     "data": {
      "text/html": [
       "<div>\n",
       "<style scoped>\n",
       "    .dataframe tbody tr th:only-of-type {\n",
       "        vertical-align: middle;\n",
       "    }\n",
       "\n",
       "    .dataframe tbody tr th {\n",
       "        vertical-align: top;\n",
       "    }\n",
       "\n",
       "    .dataframe thead th {\n",
       "        text-align: right;\n",
       "    }\n",
       "</style>\n",
       "<table border=\"1\" class=\"dataframe\">\n",
       "  <thead>\n",
       "    <tr style=\"text-align: right;\">\n",
       "      <th></th>\n",
       "      <th>CO_ANO;\"CO_MES\";\"CO_NCM\";\"CO_UNID\";\"CO_PAIS\";\"SG_UF_NCM\";\"CO_VIA\";\"CO_URF\";\"QT_ESTAT\";\"KG_LIQUIDO\";\"VL_FOB\"</th>\n",
       "    </tr>\n",
       "  </thead>\n",
       "  <tbody>\n",
       "    <tr>\n",
       "      <th>0</th>\n",
       "      <td>1997;\"11\";\"20079990\";\"10\";\"158\";\"RJ\";\"04\";\"071...</td>\n",
       "    </tr>\n",
       "    <tr>\n",
       "      <th>1</th>\n",
       "      <td>1997;\"11\";\"48064000\";\"10\";\"063\";\"SP\";\"07\";\"101...</td>\n",
       "    </tr>\n",
       "    <tr>\n",
       "      <th>2</th>\n",
       "      <td>1997;\"11\";\"02071300\";\"10\";\"351\";\"SC\";\"01\";\"092...</td>\n",
       "    </tr>\n",
       "    <tr>\n",
       "      <th>3</th>\n",
       "      <td>1997;\"11\";\"19021100\";\"10\";\"586\";\"MS\";\"09\";\"091...</td>\n",
       "    </tr>\n",
       "    <tr>\n",
       "      <th>4</th>\n",
       "      <td>1997;\"11\";\"90319090\";\"10\";\"040\";\"ND\";\"04\";\"071...</td>\n",
       "    </tr>\n",
       "    <tr>\n",
       "      <th>...</th>\n",
       "      <td>...</td>\n",
       "    </tr>\n",
       "    <tr>\n",
       "      <th>529810</th>\n",
       "      <td>1997;\"05\";\"34021190\";\"10\";\"845\";\"SP\";\"07\";\"101...</td>\n",
       "    </tr>\n",
       "    <tr>\n",
       "      <th>529811</th>\n",
       "      <td>1997;\"05\";\"20058000\";\"10\";\"158\";\"GO\";\"01\";\"081...</td>\n",
       "    </tr>\n",
       "    <tr>\n",
       "      <th>529812</th>\n",
       "      <td>1997;\"05\";\"40119110\";\"11\";\"589\";\"SP\";\"04\";\"081...</td>\n",
       "    </tr>\n",
       "    <tr>\n",
       "      <th>529813</th>\n",
       "      <td>1997;\"05\";\"02023000\";\"10\";\"245\";\"RS\";\"01\";\"101...</td>\n",
       "    </tr>\n",
       "    <tr>\n",
       "      <th>529814</th>\n",
       "      <td>1997;\"05\";\"90189010\";\"11\";\"573\";\"SP\";\"04\";\"081...</td>\n",
       "    </tr>\n",
       "  </tbody>\n",
       "</table>\n",
       "<p>529815 rows × 1 columns</p>\n",
       "</div>"
      ],
      "text/plain": [
       "       CO_ANO;\"CO_MES\";\"CO_NCM\";\"CO_UNID\";\"CO_PAIS\";\"SG_UF_NCM\";\"CO_VIA\";\"CO_URF\";\"QT_ESTAT\";\"KG_LIQUIDO\";\"VL_FOB\"\n",
       "0       1997;\"11\";\"20079990\";\"10\";\"158\";\"RJ\";\"04\";\"071...                                                         \n",
       "1       1997;\"11\";\"48064000\";\"10\";\"063\";\"SP\";\"07\";\"101...                                                         \n",
       "2       1997;\"11\";\"02071300\";\"10\";\"351\";\"SC\";\"01\";\"092...                                                         \n",
       "3       1997;\"11\";\"19021100\";\"10\";\"586\";\"MS\";\"09\";\"091...                                                         \n",
       "4       1997;\"11\";\"90319090\";\"10\";\"040\";\"ND\";\"04\";\"071...                                                         \n",
       "...                                                   ...                                                         \n",
       "529810  1997;\"05\";\"34021190\";\"10\";\"845\";\"SP\";\"07\";\"101...                                                         \n",
       "529811  1997;\"05\";\"20058000\";\"10\";\"158\";\"GO\";\"01\";\"081...                                                         \n",
       "529812  1997;\"05\";\"40119110\";\"11\";\"589\";\"SP\";\"04\";\"081...                                                         \n",
       "529813  1997;\"05\";\"02023000\";\"10\";\"245\";\"RS\";\"01\";\"101...                                                         \n",
       "529814  1997;\"05\";\"90189010\";\"11\";\"573\";\"SP\";\"04\";\"081...                                                         \n",
       "\n",
       "[529815 rows x 1 columns]"
      ]
     },
     "execution_count": 6,
     "metadata": {},
     "output_type": "execute_result"
    }
   ],
   "source": [
    "from pandas import read_csv\n",
    "\n",
    "read_csv(\"data/arquivos_exp/EXP_1997.csv\")"
   ]
  },
  {
   "cell_type": "markdown",
   "id": "fea8f85e",
   "metadata": {},
   "source": [
    "Algo estranho na formatação da tabela? Investigue a primeira linha do arquivo baixado e tente ajustar algum parâmetro da função **read_csv**."
   ]
  },
  {
   "cell_type": "code",
   "execution_count": 7,
   "id": "04ef7f3a",
   "metadata": {
    "scrolled": true
   },
   "outputs": [
    {
     "data": {
      "text/plain": [
       "['\"CO_ANO\";\"CO_MES\";\"CO_NCM\";\"CO_UNID\";\"CO_PAIS\";\"SG_UF_NCM\";\"CO_VIA\";\"CO_URF\";\"QT_ESTAT\";\"KG_LIQUIDO\";\"VL_FOB\"\\n']"
      ]
     },
     "execution_count": 7,
     "metadata": {},
     "output_type": "execute_result"
    }
   ],
   "source": [
    "import csv\n",
    "filepath = \"data/arquivos_exp/EXP_1997.csv\"\n",
    "\n",
    "with open(filepath) as csvfile:\n",
    "    lines = csvfile.readlines()\n",
    "    \n",
    "lines[:1]"
   ]
  },
  {
   "cell_type": "code",
   "execution_count": 8,
   "id": "44e686c1",
   "metadata": {},
   "outputs": [
    {
     "data": {
      "text/html": [
       "<div>\n",
       "<style scoped>\n",
       "    .dataframe tbody tr th:only-of-type {\n",
       "        vertical-align: middle;\n",
       "    }\n",
       "\n",
       "    .dataframe tbody tr th {\n",
       "        vertical-align: top;\n",
       "    }\n",
       "\n",
       "    .dataframe thead th {\n",
       "        text-align: right;\n",
       "    }\n",
       "</style>\n",
       "<table border=\"1\" class=\"dataframe\">\n",
       "  <thead>\n",
       "    <tr style=\"text-align: right;\">\n",
       "      <th></th>\n",
       "      <th>CO_ANO</th>\n",
       "      <th>CO_MES</th>\n",
       "      <th>CO_NCM</th>\n",
       "      <th>CO_UNID</th>\n",
       "      <th>CO_PAIS</th>\n",
       "      <th>SG_UF_NCM</th>\n",
       "      <th>CO_VIA</th>\n",
       "      <th>CO_URF</th>\n",
       "      <th>QT_ESTAT</th>\n",
       "      <th>KG_LIQUIDO</th>\n",
       "      <th>VL_FOB</th>\n",
       "    </tr>\n",
       "  </thead>\n",
       "  <tbody>\n",
       "    <tr>\n",
       "      <th>0</th>\n",
       "      <td>1997</td>\n",
       "      <td>11</td>\n",
       "      <td>20079990</td>\n",
       "      <td>10</td>\n",
       "      <td>158</td>\n",
       "      <td>RJ</td>\n",
       "      <td>4</td>\n",
       "      <td>717700</td>\n",
       "      <td>0</td>\n",
       "      <td>200</td>\n",
       "      <td>540</td>\n",
       "    </tr>\n",
       "    <tr>\n",
       "      <th>1</th>\n",
       "      <td>1997</td>\n",
       "      <td>11</td>\n",
       "      <td>48064000</td>\n",
       "      <td>10</td>\n",
       "      <td>63</td>\n",
       "      <td>SP</td>\n",
       "      <td>7</td>\n",
       "      <td>1010900</td>\n",
       "      <td>0</td>\n",
       "      <td>58792</td>\n",
       "      <td>90186</td>\n",
       "    </tr>\n",
       "    <tr>\n",
       "      <th>2</th>\n",
       "      <td>1997</td>\n",
       "      <td>11</td>\n",
       "      <td>2071300</td>\n",
       "      <td>10</td>\n",
       "      <td>351</td>\n",
       "      <td>SC</td>\n",
       "      <td>1</td>\n",
       "      <td>925100</td>\n",
       "      <td>0</td>\n",
       "      <td>57165</td>\n",
       "      <td>20767</td>\n",
       "    </tr>\n",
       "    <tr>\n",
       "      <th>3</th>\n",
       "      <td>1997</td>\n",
       "      <td>11</td>\n",
       "      <td>19021100</td>\n",
       "      <td>10</td>\n",
       "      <td>586</td>\n",
       "      <td>MS</td>\n",
       "      <td>9</td>\n",
       "      <td>910600</td>\n",
       "      <td>0</td>\n",
       "      <td>12</td>\n",
       "      <td>9</td>\n",
       "    </tr>\n",
       "    <tr>\n",
       "      <th>4</th>\n",
       "      <td>1997</td>\n",
       "      <td>11</td>\n",
       "      <td>90319090</td>\n",
       "      <td>10</td>\n",
       "      <td>40</td>\n",
       "      <td>ND</td>\n",
       "      <td>4</td>\n",
       "      <td>717700</td>\n",
       "      <td>0</td>\n",
       "      <td>6</td>\n",
       "      <td>250</td>\n",
       "    </tr>\n",
       "    <tr>\n",
       "      <th>...</th>\n",
       "      <td>...</td>\n",
       "      <td>...</td>\n",
       "      <td>...</td>\n",
       "      <td>...</td>\n",
       "      <td>...</td>\n",
       "      <td>...</td>\n",
       "      <td>...</td>\n",
       "      <td>...</td>\n",
       "      <td>...</td>\n",
       "      <td>...</td>\n",
       "      <td>...</td>\n",
       "    </tr>\n",
       "    <tr>\n",
       "      <th>529810</th>\n",
       "      <td>1997</td>\n",
       "      <td>5</td>\n",
       "      <td>34021190</td>\n",
       "      <td>10</td>\n",
       "      <td>845</td>\n",
       "      <td>SP</td>\n",
       "      <td>7</td>\n",
       "      <td>1015300</td>\n",
       "      <td>0</td>\n",
       "      <td>830</td>\n",
       "      <td>1153</td>\n",
       "    </tr>\n",
       "    <tr>\n",
       "      <th>529811</th>\n",
       "      <td>1997</td>\n",
       "      <td>5</td>\n",
       "      <td>20058000</td>\n",
       "      <td>10</td>\n",
       "      <td>158</td>\n",
       "      <td>GO</td>\n",
       "      <td>1</td>\n",
       "      <td>817800</td>\n",
       "      <td>0</td>\n",
       "      <td>192</td>\n",
       "      <td>340</td>\n",
       "    </tr>\n",
       "    <tr>\n",
       "      <th>529812</th>\n",
       "      <td>1997</td>\n",
       "      <td>5</td>\n",
       "      <td>40119110</td>\n",
       "      <td>11</td>\n",
       "      <td>589</td>\n",
       "      <td>SP</td>\n",
       "      <td>4</td>\n",
       "      <td>817700</td>\n",
       "      <td>1</td>\n",
       "      <td>99</td>\n",
       "      <td>1680</td>\n",
       "    </tr>\n",
       "    <tr>\n",
       "      <th>529813</th>\n",
       "      <td>1997</td>\n",
       "      <td>5</td>\n",
       "      <td>2023000</td>\n",
       "      <td>10</td>\n",
       "      <td>245</td>\n",
       "      <td>RS</td>\n",
       "      <td>1</td>\n",
       "      <td>1010500</td>\n",
       "      <td>0</td>\n",
       "      <td>22102</td>\n",
       "      <td>68583</td>\n",
       "    </tr>\n",
       "    <tr>\n",
       "      <th>529814</th>\n",
       "      <td>1997</td>\n",
       "      <td>5</td>\n",
       "      <td>90189010</td>\n",
       "      <td>11</td>\n",
       "      <td>573</td>\n",
       "      <td>SP</td>\n",
       "      <td>4</td>\n",
       "      <td>817600</td>\n",
       "      <td>6</td>\n",
       "      <td>127</td>\n",
       "      <td>2767</td>\n",
       "    </tr>\n",
       "  </tbody>\n",
       "</table>\n",
       "<p>529815 rows × 11 columns</p>\n",
       "</div>"
      ],
      "text/plain": [
       "        CO_ANO  CO_MES    CO_NCM  CO_UNID  CO_PAIS SG_UF_NCM  CO_VIA   CO_URF  \\\n",
       "0         1997      11  20079990       10      158        RJ       4   717700   \n",
       "1         1997      11  48064000       10       63        SP       7  1010900   \n",
       "2         1997      11   2071300       10      351        SC       1   925100   \n",
       "3         1997      11  19021100       10      586        MS       9   910600   \n",
       "4         1997      11  90319090       10       40        ND       4   717700   \n",
       "...        ...     ...       ...      ...      ...       ...     ...      ...   \n",
       "529810    1997       5  34021190       10      845        SP       7  1015300   \n",
       "529811    1997       5  20058000       10      158        GO       1   817800   \n",
       "529812    1997       5  40119110       11      589        SP       4   817700   \n",
       "529813    1997       5   2023000       10      245        RS       1  1010500   \n",
       "529814    1997       5  90189010       11      573        SP       4   817600   \n",
       "\n",
       "        QT_ESTAT  KG_LIQUIDO  VL_FOB  \n",
       "0              0         200     540  \n",
       "1              0       58792   90186  \n",
       "2              0       57165   20767  \n",
       "3              0          12       9  \n",
       "4              0           6     250  \n",
       "...          ...         ...     ...  \n",
       "529810         0         830    1153  \n",
       "529811         0         192     340  \n",
       "529812         1          99    1680  \n",
       "529813         0       22102   68583  \n",
       "529814         6         127    2767  \n",
       "\n",
       "[529815 rows x 11 columns]"
      ]
     },
     "execution_count": 8,
     "metadata": {},
     "output_type": "execute_result"
    }
   ],
   "source": [
    "read_csv(\"data/arquivos_exp/EXP_1997.csv\", sep = \";\")"
   ]
  },
  {
   "cell_type": "markdown",
   "id": "c6c9ef0f",
   "metadata": {},
   "source": [
    "# IBGE - Frequência de nomes\n"
   ]
  },
  {
   "cell_type": "markdown",
   "id": "e0475400",
   "metadata": {},
   "source": [
    "A API do IBGE permite a consulta, com base em dados do Censo, da frequência de nomes por sexo, localidade e década de nascimento. Consulte sua documentação em:\n",
    "\n",
    "https://servicodados.ibge.gov.br/api/docs/nomes?versao=2\n"
   ]
  },
  {
   "cell_type": "markdown",
   "id": "7b816dbc",
   "metadata": {},
   "source": [
    "Crie uma função que busque a frequência de um dado nome, agrupando por UF, e retorne um dicionário onde a chave é o nome da UF e o valor é a frequência do nome. Inclua um parâmetro na função para alterar a frequência pela proporção (frequência por 100.000 habitantes).\n",
    "\n",
    "*dica*: você pode consultar a correspondência entre código e nome da UF pelo endpoint \"https://servicodados.ibge.gov.br/api/v1/localidades/estados\"."
   ]
  },
  {
   "cell_type": "code",
   "execution_count": 21,
   "id": "b2f5bdca",
   "metadata": {},
   "outputs": [],
   "source": [
    "estados = requests.get(\"https://servicodados.ibge.gov.br/api/v1/localidades/estados\").json()\n",
    "codigo_estado = {str(i.get(\"id\")): i.get(\"nome\") for i in estados}"
   ]
  },
  {
   "cell_type": "code",
   "execution_count": 24,
   "id": "1a406493",
   "metadata": {},
   "outputs": [],
   "source": [
    "def cria_ranking_nome_estado(nome, metrica = \"frequencia\"):\n",
    "    nome_query = f\"https://servicodados.ibge.gov.br/api/v2/censos/nomes/{nome}?groupBy=UF\"\n",
    "    resp = requests.get(nome_query).json()\n",
    "    ranking = {codigo_estado[nome.get(\"localidade\")]: nome.get(\"res\")[0].get(f\"{metrica}\") \n",
    "               for nome in resp}\n",
    "    \n",
    "    return ranking"
   ]
  }
 ],
 "metadata": {
  "kernelspec": {
   "display_name": "Python 3 (ipykernel)",
   "language": "python",
   "name": "python3"
  },
  "language_info": {
   "codemirror_mode": {
    "name": "ipython",
    "version": 3
   },
   "file_extension": ".py",
   "mimetype": "text/x-python",
   "name": "python",
   "nbconvert_exporter": "python",
   "pygments_lexer": "ipython3",
   "version": "3.7.3"
  },
  "toc": {
   "base_numbering": 1,
   "nav_menu": {},
   "number_sections": true,
   "sideBar": true,
   "skip_h1_title": false,
   "title_cell": "Table of Contents",
   "title_sidebar": "Contents",
   "toc_cell": false,
   "toc_position": {},
   "toc_section_display": true,
   "toc_window_display": false
  }
 },
 "nbformat": 4,
 "nbformat_minor": 5
}
