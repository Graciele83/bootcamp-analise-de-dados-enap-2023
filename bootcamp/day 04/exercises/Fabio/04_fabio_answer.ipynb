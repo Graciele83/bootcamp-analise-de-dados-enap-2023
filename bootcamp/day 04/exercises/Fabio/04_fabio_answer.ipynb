{
 "cells": [
  {
   "cell_type": "markdown",
   "id": "4824ea65",
   "metadata": {},
   "source": [
    "# Explorando as estatísticas de comércio exterior brasileiras"
   ]
  },
  {
   "cell_type": "markdown",
   "id": "616ab7e4",
   "metadata": {},
   "source": [
    "As bases de dados exportações e importações brasileiras podem ser encontradas no seguinte endereço:\n",
    "\n",
    "https://www.gov.br/produtividade-e-comercio-exterior/pt-br/assuntos/comercio-exterior/estatisticas/base-de-dados-bruta\n",
    "\n",
    "Observe que na primeira seção - Base de dados detalhada por NCM - encontramos links para os arquivos .csv para cada ano.\n",
    "\n",
    "Crie uma função que gere uma lista com os urls de todos os anos disponíveis (1997 a 2023), tanto para importação quanto para exportação."
   ]
  },
  {
   "cell_type": "code",
   "execution_count": null,
   "id": "f01513dc",
   "metadata": {},
   "outputs": [],
   "source": [
    "def cria_url(fluxo, ano):\n",
    "    url_base = \"https://balanca.economia.gov.br/balanca/bd/comexstat-bd/ncm/\"\n",
    "    return f\"{url_base}{fluxo.upper()}_{str(ano)}.csv\""
   ]
  },
  {
   "cell_type": "code",
   "execution_count": null,
   "id": "62d68ebf",
   "metadata": {},
   "outputs": [],
   "source": [
    "urls_balanca = [cria_url(f, a) for f in [\"exp\", \"imp\"] for a in range(1997, 2024)]"
   ]
  },
  {
   "cell_type": "markdown",
   "id": "ee6da849",
   "metadata": {},
   "source": [
    "Aproveitando os códigos da aula, baixe e salve o arquivo de exportações de 1997."
   ]
  },
  {
   "cell_type": "code",
   "execution_count": null,
   "id": "4dc1b8b9",
   "metadata": {},
   "outputs": [],
   "source": [
    "import os\n",
    "import requests\n",
    "\n",
    "def build_path(folder):\n",
    "    current_folder = os.getcwd()\n",
    "    folderpath = os.path.join(current_folder, folder)\n",
    "    folderpath = os.path.abspath(folderpath)\n",
    "    if not os.path.exists(folderpath): os.makedirs(folderpath)\n",
    "    return folderpath\n",
    "\n",
    "\n",
    "# folder é uma subpasta do seu diretório atual\n",
    "# o nome do arquivo é gerado automaticamente\n",
    "def download_save_unverified(url, folder):\n",
    "    \n",
    "    folderpath = build_path(folder)\n",
    "    filepath = os.path.join(folderpath, url.split('/')[-1])\n",
    "\n",
    "    # bypass da validação para evitar SSLCertVerificationError\n",
    "    response = requests.get(url, verify = False) \n",
    "\n",
    "    if response.status_code == 200:\n",
    "        content = response.content\n",
    "\n",
    "        with open(filepath, mode='wb') as csvfile:\n",
    "            csvfile.write(content)"
   ]
  },
  {
   "cell_type": "code",
   "execution_count": null,
   "id": "62149eca",
   "metadata": {},
   "outputs": [],
   "source": [
    "download_save_unverified(urls_balanca[0], \"data/arquivos_exp\")"
   ]
  },
  {
   "cell_type": "markdown",
   "id": "39b96457",
   "metadata": {},
   "source": [
    "Importe a função **read_csv** da biblioteca **pandas** e tente abrir o arquivo baixado. "
   ]
  },
  {
   "cell_type": "code",
   "execution_count": null,
   "id": "2becd005",
   "metadata": {},
   "outputs": [],
   "source": [
    "from pandas import read_csv\n",
    "\n",
    "read_csv(\"data/arquivos_exp/EXP_1997.csv\")"
   ]
  },
  {
   "cell_type": "markdown",
   "id": "fea8f85e",
   "metadata": {},
   "source": [
    "Algo estranho na formatação da tabela? Investigue a primeira linha do arquivo baixado e tente ajustar algum parâmetro da função **read_csv**."
   ]
  },
  {
   "cell_type": "code",
   "execution_count": null,
   "id": "04ef7f3a",
   "metadata": {
    "scrolled": true
   },
   "outputs": [],
   "source": [
    "import csv\n",
    "filepath = \"data/arquivos_exp/EXP_1997.csv\"\n",
    "\n",
    "with open(filepath) as csvfile:\n",
    "    lines = csvfile.readlines()\n",
    "    \n",
    "lines[:1]"
   ]
  },
  {
   "cell_type": "code",
   "execution_count": null,
   "id": "44e686c1",
   "metadata": {},
   "outputs": [],
   "source": [
    "read_csv(\"data/arquivos_exp/EXP_1997.csv\", sep = \";\")"
   ]
  },
  {
   "cell_type": "markdown",
   "id": "c6c9ef0f",
   "metadata": {},
   "source": [
    "# IBGE - Frequência de nomes\n"
   ]
  },
  {
   "cell_type": "markdown",
   "id": "e0475400",
   "metadata": {},
   "source": [
    "A API do IBGE permite a consulta, com base em dados do Censo, da frequência de nomes por sexo, localidade e década de nascimento. Consulte sua documentação em:\n",
    "\n",
    "https://servicodados.ibge.gov.br/api/docs/nomes?versao=2\n"
   ]
  },
  {
   "cell_type": "markdown",
   "id": "7b816dbc",
   "metadata": {},
   "source": [
    "Crie uma função que busque a frequência de um dado nome, agrupando por UF, e retorne um dicionário onde a chave é o nome da UF e o valor é a frequência do nome. Inclua um parâmetro na função para alterar a frequência pela proporção (frequência por 100.000 habitantes).\n",
    "\n",
    "*dica*: você pode consultar a correspondência entre código e nome da UF pelo endpoint \"https://servicodados.ibge.gov.br/api/v1/localidades/estados\"."
   ]
  },
  {
   "cell_type": "code",
   "execution_count": null,
   "id": "2d55ded7",
   "metadata": {},
   "outputs": [],
   "source": [
    "\"\"\"\n",
    "workaround para contornar a exceção: \\\n",
    "    SSLError: [SSL: UNSAFE_LEGACY_RENEGOTIATION_DISABLED] \\\n",
    "    unsafe legacy renegotiation disabled (_ssl.c:997)\n",
    "\n",
    "é possível considerando que estamos tratando apenas de dados públicos\n",
    "\"\"\"\n",
    "\n",
    "import requests, urllib3, ssl\n",
    "\n",
    "class CustomHttpAdapter (requests.adapters.HTTPAdapter):\n",
    "    def __init__(self, ssl_context=None, **kwargs):\n",
    "        self.ssl_context = ssl_context\n",
    "        super().__init__(**kwargs)\n",
    "    def init_poolmanager(self, connections, maxsize, block=False):\n",
    "        self.poolmanager = urllib3.poolmanager.PoolManager(\n",
    "            num_pools=connections, maxsize=maxsize,\n",
    "            block=block, ssl_context=self.ssl_context)\n",
    "def get_legacy_session():\n",
    "    ctx = ssl.create_default_context(ssl.Purpose.SERVER_AUTH)\n",
    "    ctx.options |= 0x4  # OP_LEGACY_SERVER_CONNECT\n",
    "    session = requests.session()\n",
    "    session.mount('https://', CustomHttpAdapter(ctx))\n",
    "    return session"
   ]
  },
  {
   "cell_type": "code",
   "execution_count": null,
   "id": "b2f5bdca",
   "metadata": {
    "scrolled": true
   },
   "outputs": [],
   "source": [
    "estados = get_legacy_session().get(\"https://servicodados.ibge.gov.br/api/v1/localidades/estados\").json()\n",
    "codigos_estados = {str(i.get(\"id\")): i.get(\"nome\") for i in estados}"
   ]
  },
  {
   "cell_type": "code",
   "execution_count": null,
   "id": "1a406493",
   "metadata": {},
   "outputs": [],
   "source": [
    "def cria_ranking_nome_estado(nome, metrica = \"frequencia\", codigo_estado = codigos_estados):\n",
    "    nome_query = f\"https://servicodados.ibge.gov.br/api/v2/censos/nomes/{nome}?groupBy=UF\"\n",
    "    resp = get_legacy_session().get(nome_query).json()\n",
    "    ranking = {codigo_estado[uf.get(\"localidade\")]: uf.get(\"res\")[0].get(metrica) \n",
    "               for uf in resp}\n",
    "    \n",
    "    return ranking"
   ]
  }
 ],
 "metadata": {
  "kernelspec": {
   "display_name": "Python 3 (ipykernel)",
   "language": "python",
   "name": "python3"
  },
  "language_info": {
   "codemirror_mode": {
    "name": "ipython",
    "version": 3
   },
   "file_extension": ".py",
   "mimetype": "text/x-python",
   "name": "python",
   "nbconvert_exporter": "python",
   "pygments_lexer": "ipython3",
   "version": "3.11.5"
  },
  "toc": {
   "base_numbering": 1,
   "nav_menu": {},
   "number_sections": true,
   "sideBar": true,
   "skip_h1_title": false,
   "title_cell": "Table of Contents",
   "title_sidebar": "Contents",
   "toc_cell": false,
   "toc_position": {},
   "toc_section_display": true,
   "toc_window_display": false
  }
 },
 "nbformat": 4,
 "nbformat_minor": 5
}
