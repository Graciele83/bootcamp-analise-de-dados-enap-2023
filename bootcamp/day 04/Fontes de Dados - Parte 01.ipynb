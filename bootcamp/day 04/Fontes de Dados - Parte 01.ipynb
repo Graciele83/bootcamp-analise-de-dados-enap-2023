{
 "cells": [
  {
   "cell_type": "markdown",
   "id": "3232bfff-9aeb-4256-ab92-07e6692b11d0",
   "metadata": {
    "slideshow": {
     "slide_type": "slide"
    },
    "tags": []
   },
   "source": [
    "# Fontes de Dados 🚰 🎲"
   ]
  },
  {
   "cell_type": "markdown",
   "id": "caebfdf3-eba9-4737-bd79-2fed9230b45d",
   "metadata": {
    "slideshow": {
     "slide_type": "-"
    }
   },
   "source": [
    "## Sumário da Aula"
   ]
  },
  {
   "cell_type": "markdown",
   "id": "ed59612e-a61e-46d7-84ab-59daff936dbd",
   "metadata": {
    "slideshow": {
     "slide_type": "-"
    }
   },
   "source": [
    "<ul>\n",
    "    <li>Aspectos de Fontes de Dados 🚰 🎲</li>\n",
    "    <li>HTTP(S) 🕸️</li>\n",
    "    <li>Sistema de Arquivos 🗂️</li>\n",
    "    <li>Aspectos de Banco de Dados 🏦 🎲</li>\n",
    "    <li>Aspectos de Application Programming Interface (API) 📝</li>\n",
    "</ul>"
   ]
  },
  {
   "cell_type": "markdown",
   "id": "81af6b4d-bcdd-452f-a590-26e787b15f96",
   "metadata": {
    "slideshow": {
     "slide_type": "subslide"
    }
   },
   "source": [
    "## Aspectos de Fontes de Dados ⛲️🎲"
   ]
  },
  {
   "cell_type": "markdown",
   "id": "47c02172-65b3-463d-96ae-4b40b6e4d51a",
   "metadata": {
    "slideshow": {
     "slide_type": "-"
    }
   },
   "source": [
    "Acessar dados é o primeiro passo necessário para usar a maior parte das ferramentas deste curso. \n",
    "\n",
    "Há várias ferramentas em bibliotecas para ajudar na leitura e na escrita de dados em diversos formatos.\n",
    "\n",
    "A entrada e a saída de dados geralmente se enquadram nas principais categorias a seguir:\n",
    "\n",
    "<ul>\n",
    "    <li>Leitura de arquivos-texto e outros formatos mais eficientes em disco;</li>\n",
    "    <li>Carga de dados de bancos de dados relacionais baseados em SQL (como SQL Server, PostgreSQL e MySQL); e</li>\n",
    "    <li>Interação com fontes de dados da Internet.</li>\n",
    "    <ul>\n",
    "        <li>Application Programming Interface (API);e </li>\n",
    "        <li><i>web</i> scraping ou raspagem de dados</li>\n",
    "    </ul>\n",
    "</ul>"
   ]
  },
  {
   "cell_type": "markdown",
   "id": "94f30a05-19fe-474b-a42d-4fc0628509df",
   "metadata": {
    "slideshow": {
     "slide_type": "slide"
    }
   },
   "source": [
    "## HTTP(S) 🕸️"
   ]
  },
  {
   "cell_type": "markdown",
   "id": "2d20b132-fac3-45c2-b3eb-80b1ab85a0bd",
   "metadata": {
    "slideshow": {
     "slide_type": "-"
    }
   },
   "source": [
    "<img src='https://user-images.githubusercontent.com/27566113/235280863-84da73df-55c8-48b7-820e-9a179dff588d.png' width='100%'>"
   ]
  },
  {
   "cell_type": "markdown",
   "id": "44ac5fee-a89b-4684-b9a6-b1d115cdd761",
   "metadata": {
    "slideshow": {
     "slide_type": "subslide"
    }
   },
   "source": [
    "### Biblioteca Principal 📚: <a href='https://requests.readthedocs.io/en/latest/'>requests</a>"
   ]
  },
  {
   "cell_type": "markdown",
   "id": "640b66ef-1fd6-45cc-9a63-b78dc2ac5638",
   "metadata": {
    "slideshow": {
     "slide_type": "-"
    }
   },
   "source": [
    "<img src=\"https://requests.readthedocs.io/en/latest/_static/requests-sidebar.png\" width=\"100\" style=\"float: right;\">"
   ]
  },
  {
   "cell_type": "code",
   "execution_count": 1,
   "id": "908f8913-e3f2-4f8f-b1a9-c4c858f3c174",
   "metadata": {
    "slideshow": {
     "slide_type": "subslide"
    }
   },
   "outputs": [],
   "source": [
    "import requests"
   ]
  },
  {
   "cell_type": "markdown",
   "id": "5c4787c6-4f4a-4e47-9095-dd4b4eae5aa6",
   "metadata": {
    "slideshow": {
     "slide_type": "-"
    }
   },
   "source": [
    "<pre>Você pode acessar uma página da Internet com requests e baixá-la.</pre>"
   ]
  },
  {
   "cell_type": "code",
   "execution_count": 2,
   "id": "fabd183b-7c8f-4744-84dd-2e9d4d9b31ec",
   "metadata": {
    "slideshow": {
     "slide_type": "-"
    }
   },
   "outputs": [
    {
     "data": {
      "text/plain": [
       "<Response [200]>"
      ]
     },
     "execution_count": 2,
     "metadata": {},
     "output_type": "execute_result"
    }
   ],
   "source": [
    "url = 'https://bvsms.saude.gov.br/wp-content/uploads/2020/12/'\n",
    "url += 'ze_gotinha.jpg'\n",
    "response = requests.get(url)\n",
    "response"
   ]
  },
  {
   "cell_type": "markdown",
   "id": "ad233c77-068f-4488-837b-2f9b20a8a660",
   "metadata": {
    "slideshow": {
     "slide_type": "-"
    }
   },
   "source": [
    "👉 dica: o número que acompanha a resposta <code>Response [<b>200</b>]</code> tem significado; \n",
    "\n",
    "consulte os possíveis <a href='https://en.wikipedia.org/wiki/List_of_HTTP_status_codes'>números e seus significados</a>"
   ]
  },
  {
   "cell_type": "markdown",
   "id": "43b61d80-6cd6-4958-ad46-219ba80337ff",
   "metadata": {
    "slideshow": {
     "slide_type": "subslide"
    }
   },
   "source": [
    "<pre>Na sequência, você pode acessar o conteúdo da resposta.</pre>"
   ]
  },
  {
   "cell_type": "code",
   "execution_count": 3,
   "id": "a397671a-3a15-4208-ac55-a9bc0f0d58f5",
   "metadata": {
    "slideshow": {
     "slide_type": "-"
    }
   },
   "outputs": [
    {
     "data": {
      "text/plain": [
       "b'\\xff\\xd8\\xff\\xe0\\x00\\x10JFIF\\x00\\x01\\x01\\x01\\x00H\\x00H\\x00\\x00\\xff\\xe1\\nLExif\\x00\\x00MM\\x00*\\x00\\x00\\x00\\x08\\x00\\x07\\x01\\x12\\x00\\x03\\x00\\x00\\x00\\x01\\x00\\x01\\x00\\x00\\x01\\x1a\\x00\\x05\\x00\\x00\\x00\\x01\\x00\\x00\\x00b\\x01\\x1b\\x00\\x05\\x00\\x00\\x00\\x01\\x00\\x00\\x00j\\x01(\\x00\\x03\\x00\\x00\\x00\\x01\\x00\\x02\\x00\\x00\\x011\\x00\\x02\\x00\\x00\\x00\\x1e\\x00\\x00\\x00r'"
      ]
     },
     "execution_count": 3,
     "metadata": {},
     "output_type": "execute_result"
    }
   ],
   "source": [
    "conteudo = response.content\n",
    "conteudo[:100]"
   ]
  },
  {
   "cell_type": "markdown",
   "id": "0e0e48d3-29bd-4335-bd9c-ca808b2ca898",
   "metadata": {
    "slideshow": {
     "slide_type": "-"
    }
   },
   "source": [
    "<img src='https://bvsms.saude.gov.br/wp-content/uploads/2020/12/ze_gotinha.jpg'>"
   ]
  },
  {
   "cell_type": "markdown",
   "id": "91e19423-4efc-43f4-8a8c-bb8ab0521707",
   "metadata": {
    "slideshow": {
     "slide_type": "subslide"
    }
   },
   "source": [
    "#### Função Auxiliar"
   ]
  },
  {
   "cell_type": "markdown",
   "id": "d5a2633d-2a29-4b23-bcae-7c632821ac32",
   "metadata": {
    "slideshow": {
     "slide_type": "-"
    }
   },
   "source": [
    "<pre>Baseado nas instruções anteriores, vamos criar uma função que acesse um arquivo na Internet, recebendo url como parâmetro</pre>"
   ]
  },
  {
   "cell_type": "code",
   "execution_count": 4,
   "id": "1323aa63-8f9c-48b8-8800-c326addbca8d",
   "metadata": {
    "slideshow": {
     "slide_type": "-"
    }
   },
   "outputs": [],
   "source": [
    "def read_file(url):\n",
    "    response = requests.get(url)\n",
    "\n",
    "    if response.status_code == 200:\n",
    "        content = response.content\n",
    "        return content"
   ]
  },
  {
   "cell_type": "code",
   "execution_count": 5,
   "id": "8242491a-73a4-4adf-a01e-928fc2df3463",
   "metadata": {
    "slideshow": {
     "slide_type": "-"
    }
   },
   "outputs": [
    {
     "data": {
      "text/plain": [
       "b'\\xff\\xd8\\xff\\xe0\\x00\\x10JFIF\\x00\\x01\\x01\\x01\\x00H\\x00H\\x00\\x00\\xff\\xe1\\nLExif\\x00\\x00MM\\x00*\\x00\\x00\\x00\\x08\\x00\\x07\\x01\\x12\\x00\\x03\\x00\\x00\\x00\\x01\\x00\\x01\\x00\\x00\\x01\\x1a\\x00\\x05\\x00\\x00\\x00\\x01\\x00\\x00\\x00b\\x01\\x1b\\x00\\x05\\x00\\x00\\x00\\x01\\x00\\x00\\x00j\\x01(\\x00\\x03\\x00\\x00\\x00\\x01\\x00\\x02\\x00\\x00\\x011\\x00\\x02\\x00\\x00\\x00\\x1e\\x00\\x00\\x00r'"
      ]
     },
     "execution_count": 5,
     "metadata": {},
     "output_type": "execute_result"
    }
   ],
   "source": [
    "read_file(url)[:100]"
   ]
  },
  {
   "cell_type": "markdown",
   "id": "ee4a95c9-dcbb-4ff0-8559-3282a4b3a9b3",
   "metadata": {
    "slideshow": {
     "slide_type": "slide"
    },
    "tags": []
   },
   "source": [
    "## Sistema de Arquivos 🗂️"
   ]
  },
  {
   "cell_type": "markdown",
   "id": "ca91d39c-b46c-4927-96c3-9b66e6e81385",
   "metadata": {
    "slideshow": {
     "slide_type": "-"
    }
   },
   "source": [
    "### Biblioteca(s) Principal(is) 📚: <a href='https://docs.python.org/3/library/os.html'>os</a>, <a href='https://docs.python.org/3/library/csv.html'>csv</a>, <a href='https://docs.python.org/3/library/json.html'>json</a>"
   ]
  },
  {
   "cell_type": "markdown",
   "id": "5ecb4e90-8ce9-4a87-b7b8-acd1bfa16e4b",
   "metadata": {
    "slideshow": {
     "slide_type": "-"
    }
   },
   "source": [
    "(e outras bibliotecas para leitura de arquivos)"
   ]
  },
  {
   "cell_type": "code",
   "execution_count": 6,
   "id": "7c149622-a168-479c-8e70-6f25f0714b29",
   "metadata": {
    "slideshow": {
     "slide_type": "-"
    },
    "tags": []
   },
   "outputs": [],
   "source": [
    "import os\n",
    "import csv\n",
    "import json"
   ]
  },
  {
   "cell_type": "markdown",
   "id": "5d421fd3-9329-475b-91df-38a8ad984eac",
   "metadata": {
    "slideshow": {
     "slide_type": "subslide"
    }
   },
   "source": [
    "<pre>Você pode acessar seu sistema de arquivos para ler e salvar arquivos</pre>"
   ]
  },
  {
   "cell_type": "code",
   "execution_count": 7,
   "id": "6c4b3da8-483c-44d2-83c7-74eeab1ece59",
   "metadata": {
    "slideshow": {
     "slide_type": "-"
    }
   },
   "outputs": [
    {
     "data": {
      "text/plain": [
       "'/Users/heliomacedofilho/code/heliomacedofilho/aspectos-de-programacao-para-ciencia-de-dados/bootcamp/day 04'"
      ]
     },
     "execution_count": 7,
     "metadata": {},
     "output_type": "execute_result"
    }
   ],
   "source": [
    "current_folder = os.getcwd()\n",
    "current_folder"
   ]
  },
  {
   "cell_type": "markdown",
   "id": "1d3b1287-c60e-4dbe-a55b-70283e8d2adf",
   "metadata": {
    "slideshow": {
     "slide_type": "-"
    }
   },
   "source": [
    "<pre>Inicialmente, vamos criar uma pasta que armazenará todos os arquivos que utilizaremos nas aulas do bootcamp: <code>project</code></pre>"
   ]
  },
  {
   "cell_type": "code",
   "execution_count": 8,
   "id": "f2e92315-5e57-4a08-91d5-a4e0897bb8b8",
   "metadata": {
    "slideshow": {
     "slide_type": "-"
    }
   },
   "outputs": [
    {
     "data": {
      "text/plain": [
       "'/Users/heliomacedofilho/code/heliomacedofilho/aspectos-de-programacao-para-ciencia-de-dados/bootcamp/day 04/../project'"
      ]
     },
     "execution_count": 8,
     "metadata": {},
     "output_type": "execute_result"
    }
   ],
   "source": [
    "folderpath = os.path.join(current_folder, os.pardir, 'project')\n",
    "folderpath"
   ]
  },
  {
   "cell_type": "markdown",
   "id": "ef69c92b-e368-4f67-8d92-35d5f45d347a",
   "metadata": {
    "slideshow": {
     "slide_type": "-"
    }
   },
   "source": [
    "<pre>Veja que '..' sinaliza sair do subdiretório corrente, então vamos retificar o caminho por inteiro</pre>"
   ]
  },
  {
   "cell_type": "code",
   "execution_count": 9,
   "id": "93ce19ee-41db-4aad-8801-349c8a38b5eb",
   "metadata": {
    "slideshow": {
     "slide_type": "-"
    }
   },
   "outputs": [
    {
     "data": {
      "text/plain": [
       "'/Users/heliomacedofilho/code/heliomacedofilho/aspectos-de-programacao-para-ciencia-de-dados/bootcamp/project'"
      ]
     },
     "execution_count": 9,
     "metadata": {},
     "output_type": "execute_result"
    }
   ],
   "source": [
    "folderpath = os.path.abspath(folderpath)\n",
    "folderpath"
   ]
  },
  {
   "cell_type": "markdown",
   "id": "93c81803-1ecc-4f70-b18b-548a6afdc57e",
   "metadata": {
    "slideshow": {
     "slide_type": "subslide"
    }
   },
   "source": [
    "<pre>Agora vamos criar uma estrutura de pastas a partir desse ponto: na pasta data/raw, colocaremos os dados brutos das aulas.</pre>"
   ]
  },
  {
   "cell_type": "code",
   "execution_count": 10,
   "id": "62a1631a-47e7-4a1d-a811-86aad33fa131",
   "metadata": {
    "slideshow": {
     "slide_type": "-"
    }
   },
   "outputs": [
    {
     "data": {
      "text/plain": [
       "'/Users/heliomacedofilho/code/heliomacedofilho/aspectos-de-programacao-para-ciencia-de-dados/bootcamp/project/data/raw'"
      ]
     },
     "execution_count": 10,
     "metadata": {},
     "output_type": "execute_result"
    }
   ],
   "source": [
    "folderpath = os.path.join(folderpath, 'data', 'raw')\n",
    "folderpath"
   ]
  },
  {
   "cell_type": "markdown",
   "id": "f73abaf9-9688-4500-8a33-e5943225dc95",
   "metadata": {
    "slideshow": {
     "slide_type": "-"
    }
   },
   "source": [
    "<pre>Caso a estrutura de pastas não exista, nós a criaremos para armazenar nossos dados brutos.</pre>"
   ]
  },
  {
   "cell_type": "code",
   "execution_count": 11,
   "id": "b9f73292-9145-4743-9ba2-a5ed51b761a0",
   "metadata": {
    "slideshow": {
     "slide_type": "-"
    }
   },
   "outputs": [],
   "source": [
    "if not os.path.exists(folderpath): \n",
    "    os.makedirs(folderpath)"
   ]
  },
  {
   "cell_type": "code",
   "execution_count": 12,
   "id": "bbc84efe-463d-446d-9936-44500d81e121",
   "metadata": {
    "slideshow": {
     "slide_type": "-"
    }
   },
   "outputs": [
    {
     "data": {
      "text/plain": [
       "True"
      ]
     },
     "execution_count": 12,
     "metadata": {},
     "output_type": "execute_result"
    }
   ],
   "source": [
    "#verifica se a estrutura de pasta agora existe\n",
    "os.path.exists(folderpath)"
   ]
  },
  {
   "cell_type": "markdown",
   "id": "a5ba5f0c-ed59-4c82-bb4e-34571c6b8c45",
   "metadata": {
    "slideshow": {
     "slide_type": "subslide"
    }
   },
   "source": [
    "<pre>Agora, vamos baixar e salvar a foto do Zé Gotinha no nosso sistema de arquivos.</pre>"
   ]
  },
  {
   "cell_type": "code",
   "execution_count": 13,
   "id": "4453f95a-849a-4363-a223-dc4702365b50",
   "metadata": {
    "slideshow": {
     "slide_type": "-"
    }
   },
   "outputs": [],
   "source": [
    "ze_gotinha = read_file(url)"
   ]
  },
  {
   "cell_type": "code",
   "execution_count": 14,
   "id": "4c8af81f-d87e-403c-b027-b7060bf71e36",
   "metadata": {
    "slideshow": {
     "slide_type": "-"
    }
   },
   "outputs": [],
   "source": [
    "filepath = os.path.join(folderpath, 'ze_gotinha.jpg')\n",
    "\n",
    "with open(filepath, mode='wb') as file:\n",
    "    file.write(ze_gotinha)"
   ]
  },
  {
   "cell_type": "code",
   "execution_count": 15,
   "id": "45ba7ff7-52f2-40a4-b96d-2b78e3a3c562",
   "metadata": {
    "slideshow": {
     "slide_type": "-"
    }
   },
   "outputs": [
    {
     "name": "stdout",
     "output_type": "stream",
     "text": [
      "\u001b[1;36m../project/data/raw\u001b[0m\n",
      "└── ze_gotinha.jpg\n",
      "\n",
      "1 directory, 1 file\n"
     ]
    }
   ],
   "source": [
    "!tree ../project/data/raw"
   ]
  },
  {
   "cell_type": "markdown",
   "id": "01857c6c-4d91-4ac0-874e-8375f43ed65a",
   "metadata": {
    "slideshow": {
     "slide_type": "subslide"
    }
   },
   "source": [
    "<pre>Como baixamos e salvamos a foto do Zé Gotinha apenas para testes, podemos apagar o arquivo.</pre>"
   ]
  },
  {
   "cell_type": "code",
   "execution_count": 16,
   "id": "b5203ff3-412a-4346-8287-3d770899a8e5",
   "metadata": {
    "slideshow": {
     "slide_type": "-"
    }
   },
   "outputs": [],
   "source": [
    "os.remove(filepath)"
   ]
  },
  {
   "cell_type": "code",
   "execution_count": 17,
   "id": "18e81453-1aef-4efb-aa4f-b72b9e23143d",
   "metadata": {
    "slideshow": {
     "slide_type": "-"
    }
   },
   "outputs": [
    {
     "name": "stdout",
     "output_type": "stream",
     "text": [
      "\u001b[1;36m../project/data/raw\u001b[0m\n",
      "\n",
      "0 directories, 0 files\n"
     ]
    }
   ],
   "source": [
    "!tree ../project/data/raw"
   ]
  },
  {
   "cell_type": "markdown",
   "id": "bbbc205e-c02f-4971-8277-6486f535f3ec",
   "metadata": {
    "slideshow": {
     "slide_type": "subslide"
    },
    "tags": []
   },
   "source": [
    "#### Função Auxiliar"
   ]
  },
  {
   "cell_type": "markdown",
   "id": "a8f8068e-9ebe-4139-9e1a-1d7a00bedf08",
   "metadata": {
    "slideshow": {
     "slide_type": "-"
    }
   },
   "source": [
    "<pre>Baseado nas instruções anteriores, vamos criar uma função que crie a estrutura de pastas...</pre>"
   ]
  },
  {
   "cell_type": "code",
   "execution_count": 18,
   "id": "e1c1e5ea-2fb8-47b1-85b3-6171dee77ac6",
   "metadata": {
    "slideshow": {
     "slide_type": "-"
    }
   },
   "outputs": [],
   "source": [
    "def build_path(subfolder = 'raw'):\n",
    "    current_folder = os.getcwd()\n",
    "    folderpath = os.path.join(current_folder, os.pardir, 'project', 'data', subfolder)\n",
    "    folderpath = os.path.abspath(folderpath)\n",
    "    if not os.path.exists(folderpath): os.makedirs(folderpath)\n",
    "    return folderpath"
   ]
  },
  {
   "cell_type": "markdown",
   "id": "fff7b16d-f8ec-4144-a8c7-61fe2eab0e01",
   "metadata": {
    "slideshow": {
     "slide_type": "-"
    }
   },
   "source": [
    "<pre>... e que baixe e salve o arquivo.</pre>"
   ]
  },
  {
   "cell_type": "code",
   "execution_count": 19,
   "id": "e455d9fe-0106-4093-b865-5f00daa8c6ea",
   "metadata": {
    "slideshow": {
     "slide_type": "-"
    },
    "tags": []
   },
   "outputs": [],
   "source": [
    "def download_file_and_save(url, filename):\n",
    "    folderpath = build_path()\n",
    "    filepath = os.path.join(folderpath, filename)\n",
    "    \n",
    "    content = read_file(url)\n",
    "\n",
    "    if not os.path.exists(folderpath):\n",
    "        os.makedirs(folderpath)\n",
    "    with open(filepath, mode='wb') as file:\n",
    "        file.write(content)"
   ]
  },
  {
   "cell_type": "markdown",
   "id": "361a023a-8841-4bb5-884f-8100d8c9d0c8",
   "metadata": {
    "slideshow": {
     "slide_type": "subslide"
    }
   },
   "source": [
    "#### Georreferenciamento"
   ]
  },
  {
   "cell_type": "markdown",
   "id": "4c0cc07d-ee97-4fd4-a607-3139a6469ffc",
   "metadata": {
    "slideshow": {
     "slide_type": "-"
    }
   },
   "source": [
    "<pre>Vamos baixar os dados de georreferenciamento de estados e municípios brasileiros para o nosso sistema de arquivos... nós os utilizaremos no decorrer das aulas!</pre>"
   ]
  },
  {
   "cell_type": "markdown",
   "id": "4b061af9-2e56-4f6e-a761-9a66ef1e05dd",
   "metadata": {
    "slideshow": {
     "slide_type": "-"
    }
   },
   "source": [
    "👉 dados de <a href='https://raw.githubusercontent.com/kelvins/Municipios-Brasileiros/main/csv/estados.csv'>georreferenciamento dos estados brasileiros</a>"
   ]
  },
  {
   "cell_type": "markdown",
   "id": "cc32df7b-9482-4383-b30e-5523b245ecca",
   "metadata": {
    "slideshow": {
     "slide_type": "-"
    }
   },
   "source": [
    "👉 dados de <a href='https://raw.githubusercontent.com/kelvins/Municipios-Brasileiros/main/csv/municipios.csv'>georreferenciamento dos municípios brasileiros</a>"
   ]
  },
  {
   "cell_type": "code",
   "execution_count": 20,
   "id": "ab5a26aa-028a-4688-8450-8f6faccd0612",
   "metadata": {
    "slideshow": {
     "slide_type": "-"
    }
   },
   "outputs": [],
   "source": [
    "download_file_and_save(\n",
    "    'https://raw.githubusercontent.com/'+\n",
    "    'kelvins/Municipios-Brasileiros/main/csv/estados.csv',\n",
    "    'estados_georreferenciamento.csv')\n",
    "download_file_and_save(\n",
    "    'https://raw.githubusercontent.com/'+\n",
    "    'kelvins/Municipios-Brasileiros/main/csv/municipios.csv',\n",
    "    'municipios_georreferenciamento.csv')"
   ]
  },
  {
   "cell_type": "code",
   "execution_count": 21,
   "id": "431890f3-a029-469a-b5d7-23f099888fc3",
   "metadata": {
    "slideshow": {
     "slide_type": "-"
    }
   },
   "outputs": [
    {
     "name": "stdout",
     "output_type": "stream",
     "text": [
      "\u001b[1;36m../project/data/raw\u001b[0m\n",
      "├── estados_georreferenciamento.csv\n",
      "└── municipios_georreferenciamento.csv\n",
      "\n",
      "1 directory, 2 files\n"
     ]
    }
   ],
   "source": [
    "!tree ../project/data/raw"
   ]
  },
  {
   "cell_type": "markdown",
   "id": "8119367a-dfe4-45a5-90ac-7cb0f61677de",
   "metadata": {
    "slideshow": {
     "slide_type": "-"
    }
   },
   "source": [
    "👉 Saiba mais sobre arquivos <a href='https://en.wikipedia.org/wiki/Comma-separated_values'>CSV</a>"
   ]
  },
  {
   "cell_type": "markdown",
   "id": "47598293-91cc-4f90-b1c2-58dfb47ae20a",
   "metadata": {
    "slideshow": {
     "slide_type": "subslide"
    }
   },
   "source": [
    "<pre>Vamos ler as linhas de um dos arquivos que nós baixamos para testar nosso procedimento</pre>"
   ]
  },
  {
   "cell_type": "code",
   "execution_count": 22,
   "id": "af1506a9-0c12-494a-a72f-1db46d53948d",
   "metadata": {
    "slideshow": {
     "slide_type": "-"
    }
   },
   "outputs": [
    {
     "name": "stdout",
     "output_type": "stream",
     "text": [
      "﻿codigo_uf,uf,nome,latitude,longitude,regiao\n",
      "\n",
      "11,RO,Rondônia,-10.83,-63.34,Norte\n",
      "\n",
      "12,AC,Acre,-8.77,-70.55,Norte\n",
      "\n",
      "13,AM,Amazonas,-3.47,-65.1,Norte\n",
      "\n",
      "14,RR,Roraima,1.99,-61.33,Norte\n",
      "\n",
      "15,PA,Pará,-3.79,-52.48,Norte\n",
      "\n",
      "16,AP,Amapá,1.41,-51.77,Norte\n",
      "\n",
      "17,TO,Tocantins,-9.46,-48.26,Norte\n",
      "\n",
      "21,MA,Maranhão,-5.42,-45.44,Nordeste\n",
      "\n",
      "22,PI,Piauí,-6.6,-42.28,Nordeste\n",
      "\n",
      "23,CE,Ceará,-5.2,-39.53,Nordeste\n",
      "\n",
      "24,RN,Rio Grande do Norte,-5.81,-36.59,Nordeste\n",
      "\n",
      "25,PB,Paraíba,-7.28,-36.72,Nordeste\n",
      "\n",
      "26,PE,Pernambuco,-8.38,-37.86,Nordeste\n",
      "\n",
      "27,AL,Alagoas,-9.62,-36.82,Nordeste\n",
      "\n",
      "28,SE,Sergipe,-10.57,-37.45,Nordeste\n",
      "\n",
      "29,BA,Bahia,-13.29,-41.71,Nordeste\n",
      "\n",
      "31,MG,Minas Gerais,-18.1,-44.38,Sudeste\n",
      "\n",
      "32,ES,Espírito Santo,-19.19,-40.34,Sudeste\n",
      "\n",
      "33,RJ,Rio de Janeiro,-22.25,-42.66,Sudeste\n",
      "\n",
      "35,SP,São Paulo,-22.19,-48.79,Sudeste\n",
      "\n",
      "41,PR,Paraná,-24.89,-51.55,Sul\n",
      "\n",
      "42,SC,Santa Catarina,-27.45,-50.95,Sul\n",
      "\n",
      "43,RS,Rio Grande do Sul,-30.17,-53.5,Sul\n",
      "\n",
      "50,MS,Mato Grosso do Sul,-20.51,-54.54,Centro-Oeste\n",
      "\n",
      "51,MT,Mato Grosso,-12.64,-55.42,Centro-Oeste\n",
      "\n",
      "52,GO,Goiás,-15.98,-49.86,Centro-Oeste\n",
      "\n",
      "53,DF,Distrito Federal,-15.83,-47.86,Centro-Oeste\n"
     ]
    }
   ],
   "source": [
    "filepath = os.path.join(os.getcwd(), os.pardir, \n",
    "                            'project', 'data', 'raw', \n",
    "                            'estados_georreferenciamento.csv')\n",
    "\n",
    "with open(filepath) as csvfile:\n",
    "    for line in csvfile:\n",
    "        print(line)"
   ]
  },
  {
   "cell_type": "markdown",
   "id": "4ce17506-7213-4914-b8db-afffa0034555",
   "metadata": {
    "slideshow": {
     "slide_type": "subslide"
    }
   },
   "source": [
    "<pre>🚨 spoiler: nós ainda não aprendemos pandas 🐼, mas veja como será simples e amigável ler csv</pre>"
   ]
  },
  {
   "cell_type": "code",
   "execution_count": 23,
   "id": "aae475d6-78a4-44e0-acf8-ba44d9c5ea2e",
   "metadata": {
    "slideshow": {
     "slide_type": "-"
    }
   },
   "outputs": [
    {
     "data": {
      "text/html": [
       "<div>\n",
       "<style scoped>\n",
       "    .dataframe tbody tr th:only-of-type {\n",
       "        vertical-align: middle;\n",
       "    }\n",
       "\n",
       "    .dataframe tbody tr th {\n",
       "        vertical-align: top;\n",
       "    }\n",
       "\n",
       "    .dataframe thead th {\n",
       "        text-align: right;\n",
       "    }\n",
       "</style>\n",
       "<table border=\"1\" class=\"dataframe\">\n",
       "  <thead>\n",
       "    <tr style=\"text-align: right;\">\n",
       "      <th></th>\n",
       "      <th>codigo_uf</th>\n",
       "      <th>uf</th>\n",
       "      <th>nome</th>\n",
       "      <th>latitude</th>\n",
       "      <th>longitude</th>\n",
       "      <th>regiao</th>\n",
       "    </tr>\n",
       "  </thead>\n",
       "  <tbody>\n",
       "    <tr>\n",
       "      <th>0</th>\n",
       "      <td>11</td>\n",
       "      <td>RO</td>\n",
       "      <td>Rondônia</td>\n",
       "      <td>-10.83</td>\n",
       "      <td>-63.34</td>\n",
       "      <td>Norte</td>\n",
       "    </tr>\n",
       "    <tr>\n",
       "      <th>1</th>\n",
       "      <td>12</td>\n",
       "      <td>AC</td>\n",
       "      <td>Acre</td>\n",
       "      <td>-8.77</td>\n",
       "      <td>-70.55</td>\n",
       "      <td>Norte</td>\n",
       "    </tr>\n",
       "    <tr>\n",
       "      <th>2</th>\n",
       "      <td>13</td>\n",
       "      <td>AM</td>\n",
       "      <td>Amazonas</td>\n",
       "      <td>-3.47</td>\n",
       "      <td>-65.10</td>\n",
       "      <td>Norte</td>\n",
       "    </tr>\n",
       "    <tr>\n",
       "      <th>3</th>\n",
       "      <td>14</td>\n",
       "      <td>RR</td>\n",
       "      <td>Roraima</td>\n",
       "      <td>1.99</td>\n",
       "      <td>-61.33</td>\n",
       "      <td>Norte</td>\n",
       "    </tr>\n",
       "    <tr>\n",
       "      <th>4</th>\n",
       "      <td>15</td>\n",
       "      <td>PA</td>\n",
       "      <td>Pará</td>\n",
       "      <td>-3.79</td>\n",
       "      <td>-52.48</td>\n",
       "      <td>Norte</td>\n",
       "    </tr>\n",
       "    <tr>\n",
       "      <th>5</th>\n",
       "      <td>16</td>\n",
       "      <td>AP</td>\n",
       "      <td>Amapá</td>\n",
       "      <td>1.41</td>\n",
       "      <td>-51.77</td>\n",
       "      <td>Norte</td>\n",
       "    </tr>\n",
       "    <tr>\n",
       "      <th>6</th>\n",
       "      <td>17</td>\n",
       "      <td>TO</td>\n",
       "      <td>Tocantins</td>\n",
       "      <td>-9.46</td>\n",
       "      <td>-48.26</td>\n",
       "      <td>Norte</td>\n",
       "    </tr>\n",
       "    <tr>\n",
       "      <th>7</th>\n",
       "      <td>21</td>\n",
       "      <td>MA</td>\n",
       "      <td>Maranhão</td>\n",
       "      <td>-5.42</td>\n",
       "      <td>-45.44</td>\n",
       "      <td>Nordeste</td>\n",
       "    </tr>\n",
       "    <tr>\n",
       "      <th>8</th>\n",
       "      <td>22</td>\n",
       "      <td>PI</td>\n",
       "      <td>Piauí</td>\n",
       "      <td>-6.60</td>\n",
       "      <td>-42.28</td>\n",
       "      <td>Nordeste</td>\n",
       "    </tr>\n",
       "    <tr>\n",
       "      <th>9</th>\n",
       "      <td>23</td>\n",
       "      <td>CE</td>\n",
       "      <td>Ceará</td>\n",
       "      <td>-5.20</td>\n",
       "      <td>-39.53</td>\n",
       "      <td>Nordeste</td>\n",
       "    </tr>\n",
       "    <tr>\n",
       "      <th>10</th>\n",
       "      <td>24</td>\n",
       "      <td>RN</td>\n",
       "      <td>Rio Grande do Norte</td>\n",
       "      <td>-5.81</td>\n",
       "      <td>-36.59</td>\n",
       "      <td>Nordeste</td>\n",
       "    </tr>\n",
       "    <tr>\n",
       "      <th>11</th>\n",
       "      <td>25</td>\n",
       "      <td>PB</td>\n",
       "      <td>Paraíba</td>\n",
       "      <td>-7.28</td>\n",
       "      <td>-36.72</td>\n",
       "      <td>Nordeste</td>\n",
       "    </tr>\n",
       "    <tr>\n",
       "      <th>12</th>\n",
       "      <td>26</td>\n",
       "      <td>PE</td>\n",
       "      <td>Pernambuco</td>\n",
       "      <td>-8.38</td>\n",
       "      <td>-37.86</td>\n",
       "      <td>Nordeste</td>\n",
       "    </tr>\n",
       "    <tr>\n",
       "      <th>13</th>\n",
       "      <td>27</td>\n",
       "      <td>AL</td>\n",
       "      <td>Alagoas</td>\n",
       "      <td>-9.62</td>\n",
       "      <td>-36.82</td>\n",
       "      <td>Nordeste</td>\n",
       "    </tr>\n",
       "    <tr>\n",
       "      <th>14</th>\n",
       "      <td>28</td>\n",
       "      <td>SE</td>\n",
       "      <td>Sergipe</td>\n",
       "      <td>-10.57</td>\n",
       "      <td>-37.45</td>\n",
       "      <td>Nordeste</td>\n",
       "    </tr>\n",
       "    <tr>\n",
       "      <th>15</th>\n",
       "      <td>29</td>\n",
       "      <td>BA</td>\n",
       "      <td>Bahia</td>\n",
       "      <td>-13.29</td>\n",
       "      <td>-41.71</td>\n",
       "      <td>Nordeste</td>\n",
       "    </tr>\n",
       "    <tr>\n",
       "      <th>16</th>\n",
       "      <td>31</td>\n",
       "      <td>MG</td>\n",
       "      <td>Minas Gerais</td>\n",
       "      <td>-18.10</td>\n",
       "      <td>-44.38</td>\n",
       "      <td>Sudeste</td>\n",
       "    </tr>\n",
       "    <tr>\n",
       "      <th>17</th>\n",
       "      <td>32</td>\n",
       "      <td>ES</td>\n",
       "      <td>Espírito Santo</td>\n",
       "      <td>-19.19</td>\n",
       "      <td>-40.34</td>\n",
       "      <td>Sudeste</td>\n",
       "    </tr>\n",
       "    <tr>\n",
       "      <th>18</th>\n",
       "      <td>33</td>\n",
       "      <td>RJ</td>\n",
       "      <td>Rio de Janeiro</td>\n",
       "      <td>-22.25</td>\n",
       "      <td>-42.66</td>\n",
       "      <td>Sudeste</td>\n",
       "    </tr>\n",
       "    <tr>\n",
       "      <th>19</th>\n",
       "      <td>35</td>\n",
       "      <td>SP</td>\n",
       "      <td>São Paulo</td>\n",
       "      <td>-22.19</td>\n",
       "      <td>-48.79</td>\n",
       "      <td>Sudeste</td>\n",
       "    </tr>\n",
       "    <tr>\n",
       "      <th>20</th>\n",
       "      <td>41</td>\n",
       "      <td>PR</td>\n",
       "      <td>Paraná</td>\n",
       "      <td>-24.89</td>\n",
       "      <td>-51.55</td>\n",
       "      <td>Sul</td>\n",
       "    </tr>\n",
       "    <tr>\n",
       "      <th>21</th>\n",
       "      <td>42</td>\n",
       "      <td>SC</td>\n",
       "      <td>Santa Catarina</td>\n",
       "      <td>-27.45</td>\n",
       "      <td>-50.95</td>\n",
       "      <td>Sul</td>\n",
       "    </tr>\n",
       "    <tr>\n",
       "      <th>22</th>\n",
       "      <td>43</td>\n",
       "      <td>RS</td>\n",
       "      <td>Rio Grande do Sul</td>\n",
       "      <td>-30.17</td>\n",
       "      <td>-53.50</td>\n",
       "      <td>Sul</td>\n",
       "    </tr>\n",
       "    <tr>\n",
       "      <th>23</th>\n",
       "      <td>50</td>\n",
       "      <td>MS</td>\n",
       "      <td>Mato Grosso do Sul</td>\n",
       "      <td>-20.51</td>\n",
       "      <td>-54.54</td>\n",
       "      <td>Centro-Oeste</td>\n",
       "    </tr>\n",
       "    <tr>\n",
       "      <th>24</th>\n",
       "      <td>51</td>\n",
       "      <td>MT</td>\n",
       "      <td>Mato Grosso</td>\n",
       "      <td>-12.64</td>\n",
       "      <td>-55.42</td>\n",
       "      <td>Centro-Oeste</td>\n",
       "    </tr>\n",
       "    <tr>\n",
       "      <th>25</th>\n",
       "      <td>52</td>\n",
       "      <td>GO</td>\n",
       "      <td>Goiás</td>\n",
       "      <td>-15.98</td>\n",
       "      <td>-49.86</td>\n",
       "      <td>Centro-Oeste</td>\n",
       "    </tr>\n",
       "    <tr>\n",
       "      <th>26</th>\n",
       "      <td>53</td>\n",
       "      <td>DF</td>\n",
       "      <td>Distrito Federal</td>\n",
       "      <td>-15.83</td>\n",
       "      <td>-47.86</td>\n",
       "      <td>Centro-Oeste</td>\n",
       "    </tr>\n",
       "  </tbody>\n",
       "</table>\n",
       "</div>"
      ],
      "text/plain": [
       "    codigo_uf  uf                 nome  latitude  longitude        regiao\n",
       "0          11  RO             Rondônia    -10.83     -63.34         Norte\n",
       "1          12  AC                 Acre     -8.77     -70.55         Norte\n",
       "2          13  AM             Amazonas     -3.47     -65.10         Norte\n",
       "3          14  RR              Roraima      1.99     -61.33         Norte\n",
       "4          15  PA                 Pará     -3.79     -52.48         Norte\n",
       "5          16  AP                Amapá      1.41     -51.77         Norte\n",
       "6          17  TO            Tocantins     -9.46     -48.26         Norte\n",
       "7          21  MA             Maranhão     -5.42     -45.44      Nordeste\n",
       "8          22  PI                Piauí     -6.60     -42.28      Nordeste\n",
       "9          23  CE                Ceará     -5.20     -39.53      Nordeste\n",
       "10         24  RN  Rio Grande do Norte     -5.81     -36.59      Nordeste\n",
       "11         25  PB              Paraíba     -7.28     -36.72      Nordeste\n",
       "12         26  PE           Pernambuco     -8.38     -37.86      Nordeste\n",
       "13         27  AL              Alagoas     -9.62     -36.82      Nordeste\n",
       "14         28  SE              Sergipe    -10.57     -37.45      Nordeste\n",
       "15         29  BA                Bahia    -13.29     -41.71      Nordeste\n",
       "16         31  MG         Minas Gerais    -18.10     -44.38       Sudeste\n",
       "17         32  ES       Espírito Santo    -19.19     -40.34       Sudeste\n",
       "18         33  RJ       Rio de Janeiro    -22.25     -42.66       Sudeste\n",
       "19         35  SP            São Paulo    -22.19     -48.79       Sudeste\n",
       "20         41  PR               Paraná    -24.89     -51.55           Sul\n",
       "21         42  SC       Santa Catarina    -27.45     -50.95           Sul\n",
       "22         43  RS    Rio Grande do Sul    -30.17     -53.50           Sul\n",
       "23         50  MS   Mato Grosso do Sul    -20.51     -54.54  Centro-Oeste\n",
       "24         51  MT          Mato Grosso    -12.64     -55.42  Centro-Oeste\n",
       "25         52  GO                Goiás    -15.98     -49.86  Centro-Oeste\n",
       "26         53  DF     Distrito Federal    -15.83     -47.86  Centro-Oeste"
      ]
     },
     "execution_count": 23,
     "metadata": {},
     "output_type": "execute_result"
    }
   ],
   "source": [
    "from pandas import read_csv\n",
    "\n",
    "read_csv(filepath)"
   ]
  },
  {
   "cell_type": "code",
   "execution_count": 24,
   "id": "d7a70c62-c38b-40ec-ab86-43c683be4259",
   "metadata": {
    "slideshow": {
     "slide_type": "subslide"
    }
   },
   "outputs": [
    {
     "data": {
      "text/html": [
       "<div>\n",
       "<style scoped>\n",
       "    .dataframe tbody tr th:only-of-type {\n",
       "        vertical-align: middle;\n",
       "    }\n",
       "\n",
       "    .dataframe tbody tr th {\n",
       "        vertical-align: top;\n",
       "    }\n",
       "\n",
       "    .dataframe thead th {\n",
       "        text-align: right;\n",
       "    }\n",
       "</style>\n",
       "<table border=\"1\" class=\"dataframe\">\n",
       "  <thead>\n",
       "    <tr style=\"text-align: right;\">\n",
       "      <th></th>\n",
       "      <th>codigo_uf</th>\n",
       "      <th>uf</th>\n",
       "      <th>nome</th>\n",
       "      <th>latitude</th>\n",
       "      <th>longitude</th>\n",
       "      <th>regiao</th>\n",
       "    </tr>\n",
       "  </thead>\n",
       "  <tbody>\n",
       "    <tr>\n",
       "      <th>0</th>\n",
       "      <td>11</td>\n",
       "      <td>RO</td>\n",
       "      <td>Rondônia</td>\n",
       "      <td>-10.83</td>\n",
       "      <td>-63.34</td>\n",
       "      <td>Norte</td>\n",
       "    </tr>\n",
       "    <tr>\n",
       "      <th>1</th>\n",
       "      <td>12</td>\n",
       "      <td>AC</td>\n",
       "      <td>Acre</td>\n",
       "      <td>-8.77</td>\n",
       "      <td>-70.55</td>\n",
       "      <td>Norte</td>\n",
       "    </tr>\n",
       "    <tr>\n",
       "      <th>2</th>\n",
       "      <td>13</td>\n",
       "      <td>AM</td>\n",
       "      <td>Amazonas</td>\n",
       "      <td>-3.47</td>\n",
       "      <td>-65.10</td>\n",
       "      <td>Norte</td>\n",
       "    </tr>\n",
       "    <tr>\n",
       "      <th>3</th>\n",
       "      <td>14</td>\n",
       "      <td>RR</td>\n",
       "      <td>Roraima</td>\n",
       "      <td>1.99</td>\n",
       "      <td>-61.33</td>\n",
       "      <td>Norte</td>\n",
       "    </tr>\n",
       "    <tr>\n",
       "      <th>4</th>\n",
       "      <td>15</td>\n",
       "      <td>PA</td>\n",
       "      <td>Pará</td>\n",
       "      <td>-3.79</td>\n",
       "      <td>-52.48</td>\n",
       "      <td>Norte</td>\n",
       "    </tr>\n",
       "    <tr>\n",
       "      <th>5</th>\n",
       "      <td>16</td>\n",
       "      <td>AP</td>\n",
       "      <td>Amapá</td>\n",
       "      <td>1.41</td>\n",
       "      <td>-51.77</td>\n",
       "      <td>Norte</td>\n",
       "    </tr>\n",
       "    <tr>\n",
       "      <th>6</th>\n",
       "      <td>17</td>\n",
       "      <td>TO</td>\n",
       "      <td>Tocantins</td>\n",
       "      <td>-9.46</td>\n",
       "      <td>-48.26</td>\n",
       "      <td>Norte</td>\n",
       "    </tr>\n",
       "    <tr>\n",
       "      <th>7</th>\n",
       "      <td>21</td>\n",
       "      <td>MA</td>\n",
       "      <td>Maranhão</td>\n",
       "      <td>-5.42</td>\n",
       "      <td>-45.44</td>\n",
       "      <td>Nordeste</td>\n",
       "    </tr>\n",
       "    <tr>\n",
       "      <th>8</th>\n",
       "      <td>22</td>\n",
       "      <td>PI</td>\n",
       "      <td>Piauí</td>\n",
       "      <td>-6.60</td>\n",
       "      <td>-42.28</td>\n",
       "      <td>Nordeste</td>\n",
       "    </tr>\n",
       "    <tr>\n",
       "      <th>9</th>\n",
       "      <td>23</td>\n",
       "      <td>CE</td>\n",
       "      <td>Ceará</td>\n",
       "      <td>-5.20</td>\n",
       "      <td>-39.53</td>\n",
       "      <td>Nordeste</td>\n",
       "    </tr>\n",
       "    <tr>\n",
       "      <th>10</th>\n",
       "      <td>24</td>\n",
       "      <td>RN</td>\n",
       "      <td>Rio Grande do Norte</td>\n",
       "      <td>-5.81</td>\n",
       "      <td>-36.59</td>\n",
       "      <td>Nordeste</td>\n",
       "    </tr>\n",
       "    <tr>\n",
       "      <th>11</th>\n",
       "      <td>25</td>\n",
       "      <td>PB</td>\n",
       "      <td>Paraíba</td>\n",
       "      <td>-7.28</td>\n",
       "      <td>-36.72</td>\n",
       "      <td>Nordeste</td>\n",
       "    </tr>\n",
       "    <tr>\n",
       "      <th>12</th>\n",
       "      <td>26</td>\n",
       "      <td>PE</td>\n",
       "      <td>Pernambuco</td>\n",
       "      <td>-8.38</td>\n",
       "      <td>-37.86</td>\n",
       "      <td>Nordeste</td>\n",
       "    </tr>\n",
       "    <tr>\n",
       "      <th>13</th>\n",
       "      <td>27</td>\n",
       "      <td>AL</td>\n",
       "      <td>Alagoas</td>\n",
       "      <td>-9.62</td>\n",
       "      <td>-36.82</td>\n",
       "      <td>Nordeste</td>\n",
       "    </tr>\n",
       "    <tr>\n",
       "      <th>14</th>\n",
       "      <td>28</td>\n",
       "      <td>SE</td>\n",
       "      <td>Sergipe</td>\n",
       "      <td>-10.57</td>\n",
       "      <td>-37.45</td>\n",
       "      <td>Nordeste</td>\n",
       "    </tr>\n",
       "    <tr>\n",
       "      <th>15</th>\n",
       "      <td>29</td>\n",
       "      <td>BA</td>\n",
       "      <td>Bahia</td>\n",
       "      <td>-13.29</td>\n",
       "      <td>-41.71</td>\n",
       "      <td>Nordeste</td>\n",
       "    </tr>\n",
       "    <tr>\n",
       "      <th>16</th>\n",
       "      <td>31</td>\n",
       "      <td>MG</td>\n",
       "      <td>Minas Gerais</td>\n",
       "      <td>-18.10</td>\n",
       "      <td>-44.38</td>\n",
       "      <td>Sudeste</td>\n",
       "    </tr>\n",
       "    <tr>\n",
       "      <th>17</th>\n",
       "      <td>32</td>\n",
       "      <td>ES</td>\n",
       "      <td>Espírito Santo</td>\n",
       "      <td>-19.19</td>\n",
       "      <td>-40.34</td>\n",
       "      <td>Sudeste</td>\n",
       "    </tr>\n",
       "    <tr>\n",
       "      <th>18</th>\n",
       "      <td>33</td>\n",
       "      <td>RJ</td>\n",
       "      <td>Rio de Janeiro</td>\n",
       "      <td>-22.25</td>\n",
       "      <td>-42.66</td>\n",
       "      <td>Sudeste</td>\n",
       "    </tr>\n",
       "    <tr>\n",
       "      <th>19</th>\n",
       "      <td>35</td>\n",
       "      <td>SP</td>\n",
       "      <td>São Paulo</td>\n",
       "      <td>-22.19</td>\n",
       "      <td>-48.79</td>\n",
       "      <td>Sudeste</td>\n",
       "    </tr>\n",
       "    <tr>\n",
       "      <th>20</th>\n",
       "      <td>41</td>\n",
       "      <td>PR</td>\n",
       "      <td>Paraná</td>\n",
       "      <td>-24.89</td>\n",
       "      <td>-51.55</td>\n",
       "      <td>Sul</td>\n",
       "    </tr>\n",
       "    <tr>\n",
       "      <th>21</th>\n",
       "      <td>42</td>\n",
       "      <td>SC</td>\n",
       "      <td>Santa Catarina</td>\n",
       "      <td>-27.45</td>\n",
       "      <td>-50.95</td>\n",
       "      <td>Sul</td>\n",
       "    </tr>\n",
       "    <tr>\n",
       "      <th>22</th>\n",
       "      <td>43</td>\n",
       "      <td>RS</td>\n",
       "      <td>Rio Grande do Sul</td>\n",
       "      <td>-30.17</td>\n",
       "      <td>-53.50</td>\n",
       "      <td>Sul</td>\n",
       "    </tr>\n",
       "    <tr>\n",
       "      <th>23</th>\n",
       "      <td>50</td>\n",
       "      <td>MS</td>\n",
       "      <td>Mato Grosso do Sul</td>\n",
       "      <td>-20.51</td>\n",
       "      <td>-54.54</td>\n",
       "      <td>Centro-Oeste</td>\n",
       "    </tr>\n",
       "    <tr>\n",
       "      <th>24</th>\n",
       "      <td>51</td>\n",
       "      <td>MT</td>\n",
       "      <td>Mato Grosso</td>\n",
       "      <td>-12.64</td>\n",
       "      <td>-55.42</td>\n",
       "      <td>Centro-Oeste</td>\n",
       "    </tr>\n",
       "    <tr>\n",
       "      <th>25</th>\n",
       "      <td>52</td>\n",
       "      <td>GO</td>\n",
       "      <td>Goiás</td>\n",
       "      <td>-15.98</td>\n",
       "      <td>-49.86</td>\n",
       "      <td>Centro-Oeste</td>\n",
       "    </tr>\n",
       "    <tr>\n",
       "      <th>26</th>\n",
       "      <td>53</td>\n",
       "      <td>DF</td>\n",
       "      <td>Distrito Federal</td>\n",
       "      <td>-15.83</td>\n",
       "      <td>-47.86</td>\n",
       "      <td>Centro-Oeste</td>\n",
       "    </tr>\n",
       "  </tbody>\n",
       "</table>\n",
       "</div>"
      ],
      "text/plain": [
       "    codigo_uf  uf                 nome  latitude  longitude        regiao\n",
       "0          11  RO             Rondônia    -10.83     -63.34         Norte\n",
       "1          12  AC                 Acre     -8.77     -70.55         Norte\n",
       "2          13  AM             Amazonas     -3.47     -65.10         Norte\n",
       "3          14  RR              Roraima      1.99     -61.33         Norte\n",
       "4          15  PA                 Pará     -3.79     -52.48         Norte\n",
       "5          16  AP                Amapá      1.41     -51.77         Norte\n",
       "6          17  TO            Tocantins     -9.46     -48.26         Norte\n",
       "7          21  MA             Maranhão     -5.42     -45.44      Nordeste\n",
       "8          22  PI                Piauí     -6.60     -42.28      Nordeste\n",
       "9          23  CE                Ceará     -5.20     -39.53      Nordeste\n",
       "10         24  RN  Rio Grande do Norte     -5.81     -36.59      Nordeste\n",
       "11         25  PB              Paraíba     -7.28     -36.72      Nordeste\n",
       "12         26  PE           Pernambuco     -8.38     -37.86      Nordeste\n",
       "13         27  AL              Alagoas     -9.62     -36.82      Nordeste\n",
       "14         28  SE              Sergipe    -10.57     -37.45      Nordeste\n",
       "15         29  BA                Bahia    -13.29     -41.71      Nordeste\n",
       "16         31  MG         Minas Gerais    -18.10     -44.38       Sudeste\n",
       "17         32  ES       Espírito Santo    -19.19     -40.34       Sudeste\n",
       "18         33  RJ       Rio de Janeiro    -22.25     -42.66       Sudeste\n",
       "19         35  SP            São Paulo    -22.19     -48.79       Sudeste\n",
       "20         41  PR               Paraná    -24.89     -51.55           Sul\n",
       "21         42  SC       Santa Catarina    -27.45     -50.95           Sul\n",
       "22         43  RS    Rio Grande do Sul    -30.17     -53.50           Sul\n",
       "23         50  MS   Mato Grosso do Sul    -20.51     -54.54  Centro-Oeste\n",
       "24         51  MT          Mato Grosso    -12.64     -55.42  Centro-Oeste\n",
       "25         52  GO                Goiás    -15.98     -49.86  Centro-Oeste\n",
       "26         53  DF     Distrito Federal    -15.83     -47.86  Centro-Oeste"
      ]
     },
     "execution_count": 24,
     "metadata": {},
     "output_type": "execute_result"
    }
   ],
   "source": [
    "from pandas import read_csv\n",
    "\n",
    "read_csv('https://raw.githubusercontent.com/'+\n",
    "             'kelvins/Municipios-Brasileiros/main/csv/estados.csv')"
   ]
  },
  {
   "cell_type": "markdown",
   "id": "9a2b16ec-c233-454a-9e7d-6e1c73a9803d",
   "metadata": {
    "slideshow": {
     "slide_type": "slide"
    }
   },
   "source": [
    "## Aspectos de API 📝"
   ]
  },
  {
   "cell_type": "markdown",
   "id": "c66eda4b-323b-4494-be3b-72b9b838786c",
   "metadata": {
    "slideshow": {
     "slide_type": "-"
    }
   },
   "source": [
    "\"É um conjunto de serviços/funções que foram implementadas em um programa de computador que são disponibilizados para que outros programas/aplicativos possam utiliza-los diretamente de forma simplificada; sem envolver-se em detalhes da implementação do programa de computador principal\""
   ]
  },
  {
   "cell_type": "markdown",
   "id": "231efa0d-4bad-43ce-859d-53fdbbd8c212",
   "metadata": {
    "slideshow": {
     "slide_type": "-"
    }
   },
   "source": [
    "<pre>Muitos sites têm API públicas que oferecem feeds de dados usando JSON ou outro formato.</pre>"
   ]
  },
  {
   "cell_type": "markdown",
   "id": "9c072e5c-6c47-4c79-9c46-122fe8c8ccec",
   "metadata": {
    "slideshow": {
     "slide_type": "-"
    }
   },
   "source": [
    "👉 Saiba mais sobre <a href='https://en.wikipedia.org/wiki/JSON'>JSON</a>"
   ]
  },
  {
   "cell_type": "markdown",
   "id": "fa2a0e9c-98aa-4eb9-904d-5b1996780786",
   "metadata": {
    "slideshow": {
     "slide_type": "-"
    }
   },
   "source": [
    "👉 Lista de <a href='https://www.gov.br/conecta/catalogo/'>API do Governo Federal</a>"
   ]
  },
  {
   "cell_type": "markdown",
   "id": "85a500d8-fa7c-41c0-b48a-7b024e858597",
   "metadata": {
    "slideshow": {
     "slide_type": "-"
    }
   },
   "source": [
    "👉 Lista de <a href='https://opencollective.com/public-apis'>API públicas</a> para uso em software"
   ]
  },
  {
   "cell_type": "markdown",
   "id": "19937eec-13eb-44c0-bc1b-90701d49e98d",
   "metadata": {
    "slideshow": {
     "slide_type": "subslide"
    }
   },
   "source": [
    "<pre>Um método fácil de usar API é com o <a href='http://docs.python-requests.org'>requests</a>, que vimos em HTTP(S) 🕸️</pre>"
   ]
  },
  {
   "cell_type": "markdown",
   "id": "f6c21f0a-3df4-467c-98f1-38ff33217765",
   "metadata": {
    "slideshow": {
     "slide_type": "-"
    }
   },
   "source": [
    "👉 Dados Abertos da <a href='https://dadosabertos.camara.leg.br/'>Câmara dos Deputados</a>"
   ]
  },
  {
   "cell_type": "markdown",
   "id": "3e58ed99-9ca1-4eb5-a006-4d5bc1ca6d96",
   "metadata": {
    "slideshow": {
     "slide_type": "-"
    }
   },
   "source": [
    "🚨 Vamos usar a API <a href='https://dadosabertos.camara.leg.br/swagger/api.html'>Deputados</a>: listagem e busca de deputados, segundo critérios"
   ]
  },
  {
   "cell_type": "code",
   "execution_count": 25,
   "id": "dd6cf1a4-e532-4b2d-b0bf-9e9051f0580d",
   "metadata": {
    "slideshow": {
     "slide_type": "-"
    }
   },
   "outputs": [
    {
     "data": {
      "text/plain": [
       "<Response [200]>"
      ]
     },
     "execution_count": 25,
     "metadata": {},
     "output_type": "execute_result"
    }
   ],
   "source": [
    "response = requests.get('https://dadosabertos.camara.leg.br/'+\n",
    "                        'api/v2/deputados')\n",
    "response"
   ]
  },
  {
   "cell_type": "markdown",
   "id": "9e43cfc3-8e88-4898-96c3-7684fdc7d040",
   "metadata": {
    "slideshow": {
     "slide_type": "-"
    }
   },
   "source": [
    "<pre>Dessa vez, em vez de abrirmos o conteúdo da resposta, vamos converter a resposta em dicionário</pre>"
   ]
  },
  {
   "cell_type": "code",
   "execution_count": 26,
   "id": "3b0aa75e-0ec1-4730-b389-6441b1035211",
   "metadata": {
    "slideshow": {
     "slide_type": "-"
    }
   },
   "outputs": [
    {
     "data": {
      "text/plain": [
       "dict_keys(['dados', 'links'])"
      ]
     },
     "execution_count": 26,
     "metadata": {},
     "output_type": "execute_result"
    }
   ],
   "source": [
    "content = response.json() #em vez de response.content\n",
    "content.keys()"
   ]
  },
  {
   "cell_type": "code",
   "execution_count": 27,
   "id": "08ce56c9-376f-4d1f-805e-8cfd1f1c7d11",
   "metadata": {
    "slideshow": {
     "slide_type": "-"
    }
   },
   "outputs": [],
   "source": [
    "deputados = content['dados']"
   ]
  },
  {
   "cell_type": "markdown",
   "id": "b21afe54-b4e8-44d6-8691-3429033ee841",
   "metadata": {
    "slideshow": {
     "slide_type": "subslide"
    }
   },
   "source": [
    "<pre>Vamos listar dois deputados federais...</pre>"
   ]
  },
  {
   "cell_type": "code",
   "execution_count": 28,
   "id": "1faa867c-2874-450a-a111-5807d8867282",
   "metadata": {
    "slideshow": {
     "slide_type": "-"
    }
   },
   "outputs": [
    {
     "name": "stdout",
     "output_type": "stream",
     "text": [
      "Abilio Brunini\n",
      "Acácio Favacho\n"
     ]
    }
   ],
   "source": [
    "for deputado in deputados[:2]:\n",
    "    print(deputado['nome'])"
   ]
  },
  {
   "cell_type": "markdown",
   "id": "e4142a82-4852-4fb0-9383-96fbc443e314",
   "metadata": {
    "slideshow": {
     "slide_type": "-"
    }
   },
   "source": [
    "<pre>... ou contar os deputados federais de uma unidade da federação escolhida arbitrariamente...</pre>"
   ]
  },
  {
   "cell_type": "code",
   "execution_count": 29,
   "id": "7201eb36-def1-4f84-b89d-65e3c4a97b5b",
   "metadata": {
    "slideshow": {
     "slide_type": "-"
    }
   },
   "outputs": [
    {
     "name": "stdout",
     "output_type": "stream",
     "text": [
      "São 53 deputados federais mineiros\n"
     ]
    }
   ],
   "source": [
    "deputados_mineiros = [deputado for deputado in deputados \n",
    "                      if deputado['siglaUf']=='MG']\n",
    "\n",
    "print(f'São {len(deputados_mineiros)} deputados federais mineiros')"
   ]
  },
  {
   "cell_type": "code",
   "execution_count": 30,
   "id": "e42f1a5b-aa64-4dd6-84f8-4d6bf4a42d2b",
   "metadata": {
    "slideshow": {
     "slide_type": "-"
    }
   },
   "outputs": [
    {
     "name": "stdout",
     "output_type": "stream",
     "text": [
      "Aécio Neves; Ana Paula Leão; Ana Pimentel; André Janones; Bruno Farias; Célia Xakriabá; Dandara; Delegada Ione; Delegado Marcelo Freitas; Diego Andrade; Dimas Fabiano; Domingos Sávio; Dr. Frederico; Duda Salabert; Emidinho Madeira; Eros Biondini; Euclydes Pettersen; Fred Costa; Gilberto Abramo; Greyce Elias; Hercílio Coelho Diniz; Igor Timo; Junio Amaral; Lafayette de Andrada; Leonardo Monteiro; Lincoln Portela; Luis Tibé; Luiz Fernando Faria; Marcelo Álvaro Antônio; Mário Heringer; Mauricio do Vôlei; Miguel Ângelo; Misael Varella; Nely Aquino; Newton Cardoso Jr; Nikolas Ferreira; Odair Cunha; Padre João; Patrus Ananias; Paulo Abi-Ackel; Paulo Guedes; Pedro Aihara; Pinheirinho; Rafael Simoes; Reginaldo Lopes; Rodrigo de Castro; Rogério Correia; Rosângela Reis; Samuel Viana; Stefano Aguiar; Weliton Prado; Zé Silva; Zé Vitor; "
     ]
    }
   ],
   "source": [
    "for deputado in deputados_mineiros:\n",
    "    print(deputado['nome'], end='; ')"
   ]
  },
  {
   "cell_type": "markdown",
   "id": "b2d7ed01-1e95-467a-979b-c646f3cf3c3c",
   "metadata": {
    "slideshow": {
     "slide_type": "-"
    }
   },
   "source": [
    "<pre>Alternativamente, vamos averiguar a quantidade de projetos que tramitaram nas últimas 24 horas...</pre>"
   ]
  },
  {
   "cell_type": "markdown",
   "id": "4b4fc8f9-299f-4f3b-9ffb-04f7f411debf",
   "metadata": {
    "slideshow": {
     "slide_type": "subslide"
    }
   },
   "source": [
    "🚨 Agora, vamos usar a API <a href='https://dadosabertos.camara.leg.br/swagger/api.html'>Proposições</a>: Lista configurável de proposições na Câmara"
   ]
  },
  {
   "cell_type": "markdown",
   "id": "0c58200f-7636-453f-80ee-82b7ac639ae8",
   "metadata": {
    "slideshow": {
     "slide_type": "-"
    }
   },
   "source": [
    "<pre>Dessa vez, vamos qualificar a resposta com a passagem de parâmetros por meio da API</pre>"
   ]
  },
  {
   "cell_type": "markdown",
   "id": "5057a8ab-74e7-4972-b07f-d295f0312fbd",
   "metadata": {
    "slideshow": {
     "slide_type": "-"
    }
   },
   "source": [
    "<pre>Já que queremos as últimas 24 horas, calculamos a data de hoje...</pre>"
   ]
  },
  {
   "cell_type": "code",
   "execution_count": 31,
   "id": "db75832b-1060-4a7d-a481-2a7dd3189be2",
   "metadata": {
    "slideshow": {
     "slide_type": "-"
    }
   },
   "outputs": [
    {
     "data": {
      "text/plain": [
       "datetime.date(2023, 9, 28)"
      ]
     },
     "execution_count": 31,
     "metadata": {},
     "output_type": "execute_result"
    }
   ],
   "source": [
    "from datetime import date\n",
    "\n",
    "hoje = date.today()\n",
    "hoje"
   ]
  },
  {
   "cell_type": "markdown",
   "id": "7f281b74-a7dd-40c1-a8b8-0dc513776664",
   "metadata": {
    "slideshow": {
     "slide_type": "-"
    }
   },
   "source": [
    "<pre>... e calculamos a data de ontem</pre>"
   ]
  },
  {
   "cell_type": "code",
   "execution_count": 32,
   "id": "8ef1ce7e-5b6e-45ae-9b96-ecac3a1eb95b",
   "metadata": {
    "slideshow": {
     "slide_type": "-"
    }
   },
   "outputs": [
    {
     "data": {
      "text/plain": [
       "datetime.date(2023, 9, 27)"
      ]
     },
     "execution_count": 32,
     "metadata": {},
     "output_type": "execute_result"
    }
   ],
   "source": [
    "from dateutil.relativedelta import relativedelta\n",
    "\n",
    "ontem = hoje + relativedelta(days=-1)\n",
    "ontem"
   ]
  },
  {
   "cell_type": "markdown",
   "id": "dd6cfcf8-56b7-4492-ac68-3ba59b9e291c",
   "metadata": {
    "slideshow": {
     "slide_type": "subslide"
    }
   },
   "source": [
    "<pre>Agora consultamos a API, passando os parâmetros, conforme <a href='https://dadosabertos.camara.leg.br/swagger/api.html'>documentação da API</a></pre>"
   ]
  },
  {
   "cell_type": "code",
   "execution_count": 33,
   "id": "076389b5-baf3-4e08-9a90-8693dd961fa0",
   "metadata": {
    "slideshow": {
     "slide_type": "-"
    }
   },
   "outputs": [],
   "source": [
    "response = requests.get('https://dadosabertos.camara.leg.br/'+\n",
    "                        'api/v2/proposicoes', \n",
    "                         params={'dataInicio':f'{ontem}', \n",
    "                                 'dataFim':f'{hoje}', \n",
    "                                 'pagina': 1})\n",
    "content = response.json()"
   ]
  },
  {
   "cell_type": "code",
   "execution_count": 34,
   "id": "43d87f58-42fd-4202-92b7-80a3ec2de7ac",
   "metadata": {
    "slideshow": {
     "slide_type": "-"
    }
   },
   "outputs": [
    {
     "data": {
      "text/plain": [
       "dict_keys(['dados', 'links'])"
      ]
     },
     "execution_count": 34,
     "metadata": {},
     "output_type": "execute_result"
    }
   ],
   "source": [
    "content.keys()"
   ]
  },
  {
   "cell_type": "markdown",
   "id": "183f98c1-87aa-4fb4-8322-3055070c8cfe",
   "metadata": {
    "slideshow": {
     "slide_type": "subslide"
    },
    "tags": []
   },
   "source": [
    "### Função Auxiliar"
   ]
  },
  {
   "cell_type": "markdown",
   "id": "7361b711-41f1-474a-9ac4-384d5ae623a6",
   "metadata": {
    "slideshow": {
     "slide_type": "-"
    }
   },
   "source": [
    "<pre>Baseado nas instruções anteriores, vamos criar uma função que acesse uma API na Internet, recebendo url e parâmetros de consulta como parâmetros da função</pre>"
   ]
  },
  {
   "cell_type": "code",
   "execution_count": 35,
   "id": "94630c27-7908-42a2-b6d8-5ef1e5d702f5",
   "metadata": {
    "slideshow": {
     "slide_type": "-"
    },
    "tags": []
   },
   "outputs": [],
   "source": [
    "def read_api(url, params=None):\n",
    "    response = requests.get(url, params=params)\n",
    "\n",
    "    if response.status_code == 200:\n",
    "        content = response.json()\n",
    "        return content"
   ]
  },
  {
   "cell_type": "markdown",
   "id": "71a9bac2-74db-4cac-b00f-57ecbd973e4b",
   "metadata": {
    "slideshow": {
     "slide_type": "subslide"
    }
   },
   "source": [
    "<pre>Vamos listar dois projetos que tramitaram...</pre>"
   ]
  },
  {
   "cell_type": "code",
   "execution_count": 36,
   "id": "ac2a4067-ceb6-4f30-9c69-f509e1de04fc",
   "metadata": {
    "slideshow": {
     "slide_type": "-"
    }
   },
   "outputs": [],
   "source": [
    "projetos = read_api('https://dadosabertos.camara.leg.br/'+\n",
    "                    'api/v2/proposicoes', \n",
    "                    params={'dataInicio':f'{ontem}', \n",
    "                            'dataFim':f'{hoje}',\n",
    "                            'pagina': 1})"
   ]
  },
  {
   "cell_type": "code",
   "execution_count": 37,
   "id": "2b28de9a-cca9-4ff3-995f-23dc03438340",
   "metadata": {
    "slideshow": {
     "slide_type": "-"
    }
   },
   "outputs": [
    {
     "name": "stdout",
     "output_type": "stream",
     "text": [
      "Dispõem sobre os parcelamentos do solo urbano realizados na forma de condomínio.\n",
      "Institui o Programa Nacional de Estímulo ao Emprego de Trabalhadores Experientes - PNETE.\n"
     ]
    }
   ],
   "source": [
    "for projeto in projetos['dados'][:2]:\n",
    "    print(projeto['ementa'])"
   ]
  },
  {
   "cell_type": "markdown",
   "id": "afd485af-f20d-4546-bb65-87b69f7f335c",
   "metadata": {
    "slideshow": {
     "slide_type": "-"
    }
   },
   "source": [
    "<pre>No entanto, veja que nem todos os resultados retornaram na consulta inicial</pre>"
   ]
  },
  {
   "cell_type": "code",
   "execution_count": 38,
   "id": "ccd6b6bc-1c41-41f9-bc27-e377bb3a23c6",
   "metadata": {
    "slideshow": {
     "slide_type": "-"
    }
   },
   "outputs": [
    {
     "data": {
      "text/plain": [
       "15"
      ]
     },
     "execution_count": 38,
     "metadata": {},
     "output_type": "execute_result"
    }
   ],
   "source": [
    "len(projetos['dados'])"
   ]
  },
  {
   "cell_type": "code",
   "execution_count": 39,
   "id": "3ab9633f-9d3a-44b3-84e4-26545fb9d650",
   "metadata": {
    "slideshow": {
     "slide_type": "-"
    }
   },
   "outputs": [
    {
     "data": {
      "text/plain": [
       "{'rel': 'last',\n",
       " 'href': 'https://dadosabertos.camara.leg.br/api/v2/proposicoes?dataInicio=2023-09-27&dataFim=2023-09-28&pagina=141&itens=15'}"
      ]
     },
     "execution_count": 39,
     "metadata": {},
     "output_type": "execute_result"
    }
   ],
   "source": [
    "projetos['links'][-1]"
   ]
  },
  {
   "cell_type": "markdown",
   "id": "4c608db7-e78b-4a60-b272-42fa03f517c0",
   "metadata": {
    "slideshow": {
     "slide_type": "subslide"
    }
   },
   "source": [
    "<pre>Vamos extrair o número da página para buscar todos os resultados, percorrendo todas as páginas...</pre>"
   ]
  },
  {
   "cell_type": "markdown",
   "id": "c829faf0-249a-476f-aa2e-5b7339869c30",
   "metadata": {
    "slideshow": {
     "slide_type": "-"
    }
   },
   "source": [
    "<pre>... da forma simples, mas elementar;</pre>"
   ]
  },
  {
   "cell_type": "code",
   "execution_count": 40,
   "id": "7746adce",
   "metadata": {
    "slideshow": {
     "slide_type": "-"
    }
   },
   "outputs": [
    {
     "data": {
      "text/plain": [
       "{'rel': 'last',\n",
       " 'href': 'https://dadosabertos.camara.leg.br/api/v2/proposicoes?dataInicio=2023-09-27&dataFim=2023-09-28&pagina=141&itens=15'}"
      ]
     },
     "execution_count": 40,
     "metadata": {},
     "output_type": "execute_result"
    }
   ],
   "source": [
    "api_urls = projetos['links'][-1]\n",
    "api_urls"
   ]
  },
  {
   "cell_type": "code",
   "execution_count": 41,
   "id": "6ba5e46e",
   "metadata": {
    "slideshow": {
     "slide_type": "-"
    }
   },
   "outputs": [
    {
     "data": {
      "text/plain": [
       "'https://dadosabertos.camara.leg.br/api/v2/proposicoes?dataInicio=2023-09-27&dataFim=2023-09-28&pagina=141&itens=15'"
      ]
     },
     "execution_count": 41,
     "metadata": {},
     "output_type": "execute_result"
    }
   ],
   "source": [
    "url = api_urls['href']\n",
    "url"
   ]
  },
  {
   "cell_type": "code",
   "execution_count": 42,
   "id": "986f5a99",
   "metadata": {},
   "outputs": [
    {
     "data": {
      "text/plain": [
       "'141'"
      ]
     },
     "execution_count": 42,
     "metadata": {},
     "output_type": "execute_result"
    }
   ],
   "source": [
    "paginas_str = url.split('pagina=')[1]\n",
    "paginas_str = paginas_str.split('&')[0]\n",
    "paginas_str"
   ]
  },
  {
   "cell_type": "code",
   "execution_count": 43,
   "id": "ebf37fad-906b-4c13-ab0e-b12a28bde70f",
   "metadata": {
    "slideshow": {
     "slide_type": "-"
    }
   },
   "outputs": [
    {
     "data": {
      "text/plain": [
       "141"
      ]
     },
     "execution_count": 43,
     "metadata": {},
     "output_type": "execute_result"
    }
   ],
   "source": [
    "paginas = int(paginas_str)\n",
    "paginas"
   ]
  },
  {
   "cell_type": "markdown",
   "id": "c60e7a0e-fb95-4d3d-b5c8-3a8e36c4bff3",
   "metadata": {
    "slideshow": {
     "slide_type": "subslide"
    }
   },
   "source": [
    "<pre>... ou da forma complexa, mas robusta.</pre>"
   ]
  },
  {
   "cell_type": "markdown",
   "id": "7be8565c",
   "metadata": {
    "slideshow": {
     "slide_type": "-"
    }
   },
   "source": [
    "👉 dica: conheça <a href='https://docs.python.org/3/library/re.html'>expressões regulares</a>"
   ]
  },
  {
   "cell_type": "code",
   "execution_count": 44,
   "id": "b323faae",
   "metadata": {},
   "outputs": [
    {
     "data": {
      "text/plain": [
       "'https://dadosabertos.camara.leg.br/api/v2/proposicoes?dataInicio=2023-09-27&dataFim=2023-09-28&pagina=141&itens=15'"
      ]
     },
     "execution_count": 44,
     "metadata": {},
     "output_type": "execute_result"
    }
   ],
   "source": [
    "url"
   ]
  },
  {
   "cell_type": "code",
   "execution_count": 45,
   "id": "5bbd5b41",
   "metadata": {
    "slideshow": {
     "slide_type": "-"
    }
   },
   "outputs": [
    {
     "data": {
      "text/plain": [
       "'141'"
      ]
     },
     "execution_count": 45,
     "metadata": {},
     "output_type": "execute_result"
    }
   ],
   "source": [
    "import re\n",
    "\n",
    "[paginas] = re.findall('pagina=(\\d+)', url)\n",
    "paginas"
   ]
  },
  {
   "cell_type": "code",
   "execution_count": 46,
   "id": "2a8968c1",
   "metadata": {},
   "outputs": [
    {
     "data": {
      "text/plain": [
       "141"
      ]
     },
     "execution_count": 46,
     "metadata": {},
     "output_type": "execute_result"
    }
   ],
   "source": [
    "paginas = int(paginas)\n",
    "paginas"
   ]
  },
  {
   "cell_type": "markdown",
   "id": "e7ea40ad-1a09-4135-9dbf-2eb6fce82e50",
   "metadata": {
    "slideshow": {
     "slide_type": "subslide"
    }
   },
   "source": [
    "<pre>Agora, podemos percorrer página por página da API e retornar o número total de projetos</pre>"
   ]
  },
  {
   "cell_type": "code",
   "execution_count": 47,
   "id": "3912077e-ca27-4a78-8717-795874e33787",
   "metadata": {
    "slideshow": {
     "slide_type": "-"
    }
   },
   "outputs": [],
   "source": [
    "projetos = []\n",
    "for i in range(1, paginas+1):\n",
    "    parcial_projetos = read_api('https://dadosabertos.camara.leg.br/'+\n",
    "                                'api/v2/proposicoes',\n",
    "                                params={'dataInicio':f'{ontem}', \n",
    "                                        'dataFim':f'{hoje}', \n",
    "                                        'pagina': i})\n",
    "    projetos += parcial_projetos['dados']"
   ]
  },
  {
   "cell_type": "code",
   "execution_count": 48,
   "id": "d6d5aa8a-80f5-4169-83a8-5460acbf72db",
   "metadata": {
    "slideshow": {
     "slide_type": "-"
    }
   },
   "outputs": [
    {
     "name": "stdout",
     "output_type": "stream",
     "text": [
      "2108 projetos tramitaram na câmara desde ontem\n"
     ]
    }
   ],
   "source": [
    "print(f'{len(projetos)} projetos tramitaram na câmara desde ontem')"
   ]
  },
  {
   "cell_type": "markdown",
   "id": "49130bdd-3028-4593-a4bd-8b7b04db9bf9",
   "metadata": {
    "slideshow": {
     "slide_type": "-"
    }
   },
   "source": [
    "<pre>Vamos listar três projetos que tramitaram...</pre>"
   ]
  },
  {
   "cell_type": "code",
   "execution_count": 49,
   "id": "c879e3a5-527e-4be6-8726-e5dc134bb7a4",
   "metadata": {
    "slideshow": {
     "slide_type": "-"
    }
   },
   "outputs": [
    {
     "name": "stdout",
     "output_type": "stream",
     "text": [
      "PL 2454/2003 Dispõem sobre os parcelamentos do solo urbano realizados na forma de condomínio.\n",
      "PL 6930/2006 Institui o Programa Nacional de Estímulo ao Emprego de Trabalhadores Experientes - PNETE.\n",
      "PL 7243/2006 Erige em monumento nacional o Caminho da Estrada Real que abrange os Estados de Minas Gerais, Rio de Janeiro e São Paulo.\n"
     ]
    }
   ],
   "source": [
    "for projeto in projetos[:3]:\n",
    "    print(f'{projeto[\"siglaTipo\"]} {projeto[\"numero\"]}/{projeto[\"ano\"]} {projeto[\"ementa\"]}')"
   ]
  },
  {
   "cell_type": "markdown",
   "id": "a3f512eb-dde5-4a4f-8925-b9cf93ccade1",
   "metadata": {
    "slideshow": {
     "slide_type": "slide"
    }
   },
   "source": [
    "## Aspectos de Banco de Dados 🏦 🎲"
   ]
  },
  {
   "cell_type": "markdown",
   "id": "23f896f4-5e45-4cc3-9a5f-ada5c9fe5519",
   "metadata": {
    "slideshow": {
     "slide_type": "-"
    }
   },
   "source": [
    "<pre>Em um ambiente de negócios, a maior parte dos dados talvez não esteja armazenada em arquivos-texto nem em arquivos Excel, mas em banco de dados.</pre>"
   ]
  },
  {
   "cell_type": "markdown",
   "id": "cbe2c497-89cc-437f-9a12-ee4ccda1a9da",
   "metadata": {
    "slideshow": {
     "slide_type": "-"
    }
   },
   "source": [
    "### Biblioteca(s) Principal(is) 📚: <a href='https://docs.python.org/3/library/sqlite3.html'>sqlite3</a>"
   ]
  },
  {
   "cell_type": "markdown",
   "id": "bd35ed08-d274-4f17-b6f8-8f4296ae46de",
   "metadata": {
    "slideshow": {
     "slide_type": "-"
    }
   },
   "source": [
    "(e bibliotecas de outros bancos de dados)"
   ]
  },
  {
   "cell_type": "code",
   "execution_count": 50,
   "id": "ed5bfd55-03cb-457b-b700-13a1247a1716",
   "metadata": {
    "slideshow": {
     "slide_type": "-"
    }
   },
   "outputs": [],
   "source": [
    "import sqlite3"
   ]
  },
  {
   "cell_type": "markdown",
   "id": "cf609581-e562-4a68-84fa-6420e0d91232",
   "metadata": {
    "slideshow": {
     "slide_type": "subslide"
    }
   },
   "source": [
    "#### Código IBGE de Município"
   ]
  },
  {
   "cell_type": "markdown",
   "id": "09ca5d12-50c0-43df-b2af-dee43186ed0c",
   "metadata": {
    "slideshow": {
     "slide_type": "-"
    }
   },
   "source": [
    "<pre>Vamos baixar os scripts de banco de dados para criar e popular a tabela de códigos IBGE dos municípios brasileiros... nós os utilizaremos no decorrer das aulas!</pre>"
   ]
  },
  {
   "cell_type": "markdown",
   "id": "bc8493f0-ffd8-45ac-a83a-10a782d23a88",
   "metadata": {
    "slideshow": {
     "slide_type": "-"
    }
   },
   "source": [
    "👉 script de banco de dados para <a href='https://raw.githubusercontent.com/andrebaltieri/ibge/main/SQLite/Schema.sql'>criar a estrutura da tabela</a> de código IBGE do Município"
   ]
  },
  {
   "cell_type": "markdown",
   "id": "2d54e970-25d8-4dd9-8594-a166b29346ea",
   "metadata": {
    "slideshow": {
     "slide_type": "-"
    }
   },
   "source": [
    "👉 script de banco de dados para <a href='https://raw.githubusercontent.com/andrebaltieri/ibge/main/SQLite/Data.sql'>popular a tabela</a> de código IBGE do Município"
   ]
  },
  {
   "cell_type": "code",
   "execution_count": 51,
   "id": "eef20ce2-650d-4dce-b205-8fc93b212d1a",
   "metadata": {
    "slideshow": {
     "slide_type": "-"
    }
   },
   "outputs": [],
   "source": [
    "download_file_and_save(\\\n",
    "    'https://raw.githubusercontent.com/andrebaltieri/ibge/main/SQLite/Schema.sql',\\\n",
    "    'schema.sql')\n",
    "download_file_and_save(\\\n",
    "    'https://raw.githubusercontent.com/andrebaltieri/ibge/main/SQLite/Data.sql',\\\n",
    "    'data.sql')"
   ]
  },
  {
   "cell_type": "code",
   "execution_count": 52,
   "id": "392c479b-1e1e-4d9a-a54e-60e4707787e1",
   "metadata": {
    "slideshow": {
     "slide_type": "-"
    }
   },
   "outputs": [
    {
     "name": "stdout",
     "output_type": "stream",
     "text": [
      "\u001b[1;36m../project/data/raw\u001b[0m\n",
      "├── data.sql\n",
      "├── estados_georreferenciamento.csv\n",
      "├── municipios_georreferenciamento.csv\n",
      "└── schema.sql\n",
      "\n",
      "1 directory, 4 files\n"
     ]
    }
   ],
   "source": [
    "!tree ../project/data/raw"
   ]
  },
  {
   "cell_type": "markdown",
   "id": "fdcb0906-41a3-4426-be79-4b1105f23e84",
   "metadata": {
    "slideshow": {
     "slide_type": "subslide"
    }
   },
   "source": [
    "<pre>Agora, vamos criar o arquivo que armazenará o banco de dados (propriamente dito) dos códigos IBGE dos municípios brasileiros...</pre>"
   ]
  },
  {
   "cell_type": "code",
   "execution_count": 53,
   "id": "b8046811-3b4e-4d8d-b30a-eced7b0a225c",
   "metadata": {
    "slideshow": {
     "slide_type": "-"
    }
   },
   "outputs": [
    {
     "data": {
      "text/plain": [
       "<sqlite3.Cursor at 0x13e382740>"
      ]
     },
     "execution_count": 53,
     "metadata": {},
     "output_type": "execute_result"
    }
   ],
   "source": [
    "folderpath = build_path()\n",
    "filepath = os.path.join(folderpath, 'municipios_codigos.db')\n",
    "\n",
    "with sqlite3.connect(filepath) as conn:\n",
    "    cursor = conn.cursor()\n",
    "cursor"
   ]
  },
  {
   "cell_type": "markdown",
   "id": "84989ae0-0cd8-4ed2-9adf-4d2754fcaba0",
   "metadata": {
    "slideshow": {
     "slide_type": "-"
    }
   },
   "source": [
    "<pre>... e carregar os scripts do nosso sistema de arquivos...</pre>"
   ]
  },
  {
   "cell_type": "markdown",
   "id": "cf865343",
   "metadata": {
    "slideshow": {
     "slide_type": "subslide"
    }
   },
   "source": [
    "<pre>... primeiro, o script de banco de dados para criar a estrutura da tabela de código IBGE do Município...</pre>"
   ]
  },
  {
   "cell_type": "code",
   "execution_count": 54,
   "id": "17de8b48-cfb8-4316-abd9-6eef788a3131",
   "metadata": {
    "slideshow": {
     "slide_type": "-"
    }
   },
   "outputs": [
    {
     "data": {
      "text/plain": [
       "'PRAGMA foreign_keys = off;\\nBEGIN TRANSACTION;\\n\\n-- Table: ibge\\nDROP TABLE IF EXISTS ibge;\\nCREATE TABLE ibge (id CHAR (7) PRIMARY KEY ASC NOT NULL, state CHAR (2) NOT NULL, city VARCHAR (80) NOT NULL);\\n\\n-- Index: IX_IBGE_City\\nDROP INDEX IF EXISTS IX_IBGE_City;\\nCREATE INDEX IX_IBGE_City ON ibge (city A'"
      ]
     },
     "execution_count": 54,
     "metadata": {},
     "output_type": "execute_result"
    }
   ],
   "source": [
    "schema_file = os.path.join(folderpath, 'Schema.sql')\n",
    "with open(schema_file, encoding='utf8') as sqlfile:\n",
    "    schema_sql = sqlfile.read()\n",
    "schema_sql[:300]"
   ]
  },
  {
   "cell_type": "markdown",
   "id": "295e24ae",
   "metadata": {
    "slideshow": {
     "slide_type": "subslide"
    }
   },
   "source": [
    "<pre>segundo, o script de banco de dados para popular a tabela de código IBGE do Município.</pre>"
   ]
  },
  {
   "cell_type": "code",
   "execution_count": 55,
   "id": "57facd2d",
   "metadata": {
    "slideshow": {
     "slide_type": "-"
    }
   },
   "outputs": [
    {
     "data": {
      "text/plain": [
       "\"--\\n-- File generated with SQLiteStudio v3.2.1 on qui mar 11 13:15:09 2021\\n--\\n-- Text encoding used: UTF-8\\n--\\nPRAGMA foreign_keys = off;\\nBEGIN TRANSACTION;\\n\\nINSERT INTO ibge (id, state, city) VALUES ('1100015', 'RO', 'Alta Floresta D''''Oeste');\\nINSERT INTO ibge (id, state, city) VALUES ('1100379', '\""
      ]
     },
     "execution_count": 55,
     "metadata": {},
     "output_type": "execute_result"
    }
   ],
   "source": [
    "data_file = os.path.join(folderpath, 'Data.sql')\n",
    "with open(data_file, encoding='utf8') as sqlfile:\n",
    "    data_sql = sqlfile.read()\n",
    "data_sql[:300]"
   ]
  },
  {
   "cell_type": "markdown",
   "id": "21ed0ddd-2bd0-4927-aafe-04bfbd997d90",
   "metadata": {
    "slideshow": {
     "slide_type": "subslide"
    }
   },
   "source": [
    "<pre>Por fim, executar o script para criar a estrutura e popular os dados no banco de dados.</pre>"
   ]
  },
  {
   "cell_type": "code",
   "execution_count": 56,
   "id": "1b17c2e6-db38-43b0-87a6-02aefa215358",
   "metadata": {
    "slideshow": {
     "slide_type": "-"
    }
   },
   "outputs": [],
   "source": [
    "cursor = cursor.executescript(schema_sql)\n",
    "cursor = cursor.executescript(data_sql)\n",
    "conn.commit()\n",
    "conn.close()"
   ]
  },
  {
   "cell_type": "markdown",
   "id": "0ce28d44-2346-47b3-8661-e3644d251702",
   "metadata": {
    "slideshow": {
     "slide_type": "-"
    }
   },
   "source": [
    "<pre>Como não precisamos mais dos scripts, podemos apagá-lo e ficar com apenas o banco de dados</pre>"
   ]
  },
  {
   "cell_type": "code",
   "execution_count": 57,
   "id": "df474709-270f-4a26-bb39-17b93974de49",
   "metadata": {
    "slideshow": {
     "slide_type": "-"
    }
   },
   "outputs": [],
   "source": [
    "os.remove(schema_file)\n",
    "os.remove(data_file)"
   ]
  },
  {
   "cell_type": "code",
   "execution_count": 58,
   "id": "ee6043e5-da62-4bc1-8e8c-84aadf408d05",
   "metadata": {
    "slideshow": {
     "slide_type": "-"
    }
   },
   "outputs": [
    {
     "name": "stdout",
     "output_type": "stream",
     "text": [
      "\u001b[1;36m../project/data/raw\u001b[0m\n",
      "├── estados_georreferenciamento.csv\n",
      "├── municipios_codigos.db\n",
      "└── municipios_georreferenciamento.csv\n",
      "\n",
      "1 directory, 3 files\n"
     ]
    }
   ],
   "source": [
    "!tree ../project/data/raw"
   ]
  },
  {
   "cell_type": "markdown",
   "id": "2458ccda-1c48-4938-90c6-7ddf9a28cf66",
   "metadata": {
    "slideshow": {
     "slide_type": "subslide"
    }
   },
   "source": [
    "<pre>🚨 spoiler: novamente, nós ainda não aprendemos pandas 🐼, mas veja como será simples e amigável ler o banco</pre>"
   ]
  },
  {
   "cell_type": "code",
   "execution_count": 59,
   "id": "d382cb47-8878-4253-9dff-99ef1c65e7a7",
   "metadata": {
    "slideshow": {
     "slide_type": "-"
    }
   },
   "outputs": [
    {
     "data": {
      "text/html": [
       "<div>\n",
       "<style scoped>\n",
       "    .dataframe tbody tr th:only-of-type {\n",
       "        vertical-align: middle;\n",
       "    }\n",
       "\n",
       "    .dataframe tbody tr th {\n",
       "        vertical-align: top;\n",
       "    }\n",
       "\n",
       "    .dataframe thead th {\n",
       "        text-align: right;\n",
       "    }\n",
       "</style>\n",
       "<table border=\"1\" class=\"dataframe\">\n",
       "  <thead>\n",
       "    <tr style=\"text-align: right;\">\n",
       "      <th></th>\n",
       "      <th>id</th>\n",
       "      <th>state</th>\n",
       "      <th>city</th>\n",
       "    </tr>\n",
       "  </thead>\n",
       "  <tbody>\n",
       "    <tr>\n",
       "      <th>0</th>\n",
       "      <td>1100015</td>\n",
       "      <td>RO</td>\n",
       "      <td>Alta Floresta D''Oeste</td>\n",
       "    </tr>\n",
       "    <tr>\n",
       "      <th>1</th>\n",
       "      <td>1100379</td>\n",
       "      <td>RO</td>\n",
       "      <td>Alto Alegre dos Parecis</td>\n",
       "    </tr>\n",
       "    <tr>\n",
       "      <th>2</th>\n",
       "      <td>1100403</td>\n",
       "      <td>RO</td>\n",
       "      <td>Alto Paraíso</td>\n",
       "    </tr>\n",
       "    <tr>\n",
       "      <th>3</th>\n",
       "      <td>1100346</td>\n",
       "      <td>RO</td>\n",
       "      <td>Alvorada D''Oeste</td>\n",
       "    </tr>\n",
       "    <tr>\n",
       "      <th>4</th>\n",
       "      <td>1100023</td>\n",
       "      <td>RO</td>\n",
       "      <td>Ariquemes</td>\n",
       "    </tr>\n",
       "    <tr>\n",
       "      <th>...</th>\n",
       "      <td>...</td>\n",
       "      <td>...</td>\n",
       "      <td>...</td>\n",
       "    </tr>\n",
       "    <tr>\n",
       "      <th>5565</th>\n",
       "      <td>5222005</td>\n",
       "      <td>GO</td>\n",
       "      <td>Vianópolis</td>\n",
       "    </tr>\n",
       "    <tr>\n",
       "      <th>5566</th>\n",
       "      <td>5222054</td>\n",
       "      <td>GO</td>\n",
       "      <td>Vicentinópolis</td>\n",
       "    </tr>\n",
       "    <tr>\n",
       "      <th>5567</th>\n",
       "      <td>5222203</td>\n",
       "      <td>GO</td>\n",
       "      <td>Vila Boa</td>\n",
       "    </tr>\n",
       "    <tr>\n",
       "      <th>5568</th>\n",
       "      <td>5222302</td>\n",
       "      <td>GO</td>\n",
       "      <td>Vila Propício</td>\n",
       "    </tr>\n",
       "    <tr>\n",
       "      <th>5569</th>\n",
       "      <td>5300108</td>\n",
       "      <td>DF</td>\n",
       "      <td>Brasília</td>\n",
       "    </tr>\n",
       "  </tbody>\n",
       "</table>\n",
       "<p>5570 rows × 3 columns</p>\n",
       "</div>"
      ],
      "text/plain": [
       "           id state                     city\n",
       "0     1100015    RO   Alta Floresta D''Oeste\n",
       "1     1100379    RO  Alto Alegre dos Parecis\n",
       "2     1100403    RO             Alto Paraíso\n",
       "3     1100346    RO        Alvorada D''Oeste\n",
       "4     1100023    RO                Ariquemes\n",
       "...       ...   ...                      ...\n",
       "5565  5222005    GO               Vianópolis\n",
       "5566  5222054    GO           Vicentinópolis\n",
       "5567  5222203    GO                 Vila Boa\n",
       "5568  5222302    GO            Vila Propício\n",
       "5569  5300108    DF                 Brasília\n",
       "\n",
       "[5570 rows x 3 columns]"
      ]
     },
     "execution_count": 59,
     "metadata": {},
     "output_type": "execute_result"
    }
   ],
   "source": [
    "from pandas import read_sql\n",
    "\n",
    "read_sql('select * from ibge', sqlite3.connect(filepath))"
   ]
  },
  {
   "cell_type": "markdown",
   "id": "df6899d8-c1de-4fad-a25a-e1ad451ad5bc",
   "metadata": {
    "slideshow": {
     "slide_type": "subslide"
    }
   },
   "source": [
    "### Função Auxiliar"
   ]
  },
  {
   "cell_type": "markdown",
   "id": "6ccf011d-66c1-4268-86a0-5fc8368150cd",
   "metadata": {
    "slideshow": {
     "slide_type": "-"
    }
   },
   "source": [
    "<pre>Baseado nas instruções anteriores, vamos criar uma função que leia um script SQL e crie um banco de dados</pre>"
   ]
  },
  {
   "cell_type": "code",
   "execution_count": 60,
   "id": "7f35e73d-2d74-4324-a3e0-cc99d50a45ab",
   "metadata": {
    "slideshow": {
     "slide_type": "-"
    },
    "tags": []
   },
   "outputs": [],
   "source": [
    "def execute_script(db_filename, sql_filename, delete_script=False):\n",
    "    folderpath = build_path()\n",
    "    dbpath = os.path.join(folderpath, db_filename)\n",
    "    sqlpath = os.path.join(folderpath, sql_filename)\n",
    "    \n",
    "    with sqlite3.connect(dbpath) as conn:\n",
    "        cursor = conn.cursor()\n",
    "\n",
    "    with open(sqlpath, encoding='utf8') as sqlfile:\n",
    "        script = sqlfile.read()\n",
    "\n",
    "    cursor = cursor.executescript(script)\n",
    "\n",
    "    conn.commit()\n",
    "    conn.close()\n",
    "    \n",
    "    if delete_script: os.remove(sqlpath)"
   ]
  },
  {
   "cell_type": "code",
   "execution_count": 61,
   "id": "a6692a66-8bdd-48a2-a5b5-21be711fe196",
   "metadata": {
    "slideshow": {
     "slide_type": "subslide"
    }
   },
   "outputs": [
    {
     "name": "stdout",
     "output_type": "stream",
     "text": [
      "\u001b[1;36m../project/data/raw\u001b[0m\n",
      "├── estados_georreferenciamento.csv\n",
      "├── municipios_codigos.db\n",
      "└── municipios_georreferenciamento.csv\n",
      "\n",
      "1 directory, 3 files\n"
     ]
    }
   ],
   "source": [
    "!tree ../project/data/raw"
   ]
  },
  {
   "cell_type": "code",
   "execution_count": 62,
   "id": "c9ff68f8-4b74-4b00-b21a-cb994f57d235",
   "metadata": {
    "slideshow": {
     "slide_type": "-"
    }
   },
   "outputs": [],
   "source": [
    "os.remove(filepath)"
   ]
  },
  {
   "cell_type": "code",
   "execution_count": 63,
   "id": "ccfcb66c-5c97-46cc-bf6e-9fae8d87b31c",
   "metadata": {
    "slideshow": {
     "slide_type": "-"
    }
   },
   "outputs": [],
   "source": [
    "download_file_and_save('https://raw.githubusercontent.com/'+\n",
    "                       'andrebaltieri/ibge/main/SQLite/Schema.sql',\n",
    "                       'schema.sql')\n",
    "download_file_and_save('https://raw.githubusercontent.com/'+\n",
    "                       'andrebaltieri/ibge/main/SQLite/Data.sql',\n",
    "                       'data.sql')"
   ]
  },
  {
   "cell_type": "code",
   "execution_count": 64,
   "id": "ecac00f6-3e27-49a4-94f2-8d6f6fccbadc",
   "metadata": {
    "slideshow": {
     "slide_type": "-"
    }
   },
   "outputs": [
    {
     "name": "stdout",
     "output_type": "stream",
     "text": [
      "\u001b[1;36m../project/data/raw\u001b[0m\n",
      "├── data.sql\n",
      "├── estados_georreferenciamento.csv\n",
      "├── municipios_georreferenciamento.csv\n",
      "└── schema.sql\n",
      "\n",
      "1 directory, 4 files\n"
     ]
    }
   ],
   "source": [
    "!tree ../project/data/raw"
   ]
  },
  {
   "cell_type": "code",
   "execution_count": 65,
   "id": "bb26189a-cea5-4465-8803-caba251c2d02",
   "metadata": {
    "slideshow": {
     "slide_type": "subslide"
    }
   },
   "outputs": [],
   "source": [
    "execute_script('municipios_codigos.db', 'schema.sql', \n",
    "               delete_script=True)\n",
    "execute_script('municipios_codigos.db', 'data.sql', \n",
    "               delete_script=True)"
   ]
  },
  {
   "cell_type": "code",
   "execution_count": 66,
   "id": "7236cd37-b8e5-4a2d-97dd-d948bb27f1bf",
   "metadata": {
    "slideshow": {
     "slide_type": "-"
    }
   },
   "outputs": [
    {
     "name": "stdout",
     "output_type": "stream",
     "text": [
      "\u001b[1;36m../project/data/raw\u001b[0m\n",
      "├── estados_georreferenciamento.csv\n",
      "├── municipios_codigos.db\n",
      "└── municipios_georreferenciamento.csv\n",
      "\n",
      "1 directory, 3 files\n"
     ]
    }
   ],
   "source": [
    "!tree ../project/data/raw"
   ]
  },
  {
   "cell_type": "markdown",
   "id": "7467adbd-e90e-41b7-b0e4-4babe9462eba",
   "metadata": {
    "slideshow": {
     "slide_type": "slide"
    }
   },
   "source": [
    "## Juntando as Peças 🧩"
   ]
  },
  {
   "cell_type": "markdown",
   "id": "af322bb1-d9fe-4296-9fb2-22060918e443",
   "metadata": {
    "slideshow": {
     "slide_type": "-"
    },
    "tags": []
   },
   "source": [
    "### Código IBGE de Estado"
   ]
  },
  {
   "cell_type": "markdown",
   "id": "be806969",
   "metadata": {
    "slideshow": {
     "slide_type": "-"
    }
   },
   "source": [
    "👉 Lista de <a href='https://servicodados.ibge.gov.br/api/docs/'>API do IBGE</a>"
   ]
  },
  {
   "cell_type": "markdown",
   "id": "a4fdba09",
   "metadata": {
    "slideshow": {
     "slide_type": "-"
    }
   },
   "source": [
    "<pre>Vamos baixar os dados de códigos IBGE dos estados brasileiros... nós os utilizaremos no decorrer das aulas!</pre>"
   ]
  },
  {
   "cell_type": "markdown",
   "id": "a27a16e3-5cf6-4297-aa0e-fe0816cb64ad",
   "metadata": {
    "slideshow": {
     "slide_type": "subslide"
    }
   },
   "source": [
    "#### Função Auxiliar"
   ]
  },
  {
   "cell_type": "code",
   "execution_count": 67,
   "id": "8647208a-39ac-4eab-8a41-0f27de48cf83",
   "metadata": {
    "slideshow": {
     "slide_type": "-"
    }
   },
   "outputs": [],
   "source": [
    "\"\"\"\n",
    "workaround para contornar a exceção: \\\n",
    "    SSLError: [SSL: UNSAFE_LEGACY_RENEGOTIATION_DISABLED] \\\n",
    "    unsafe legacy renegotiation disabled (_ssl.c:997)\n",
    "\n",
    "é possível considerando que estamos tratando apenas de dados públicos\n",
    "\"\"\"\n",
    "\n",
    "import requests, urllib3, ssl\n",
    "\n",
    "class CustomHttpAdapter (requests.adapters.HTTPAdapter):\n",
    "    def __init__(self, ssl_context=None, **kwargs):\n",
    "        self.ssl_context = ssl_context\n",
    "        super().__init__(**kwargs)\n",
    "    def init_poolmanager(self, connections, maxsize, block=False):\n",
    "        self.poolmanager = urllib3.poolmanager.PoolManager(\n",
    "            num_pools=connections, maxsize=maxsize,\n",
    "            block=block, ssl_context=self.ssl_context)\n",
    "def get_legacy_session():\n",
    "    ctx = ssl.create_default_context(ssl.Purpose.SERVER_AUTH)\n",
    "    ctx.options |= 0x4  # OP_LEGACY_SERVER_CONNECT\n",
    "    session = requests.session()\n",
    "    session.mount('https://', CustomHttpAdapter(ctx))\n",
    "    return session"
   ]
  },
  {
   "cell_type": "code",
   "execution_count": 68,
   "id": "64d18fc6-5cd7-4f6d-9636-52d41374e57c",
   "metadata": {
    "slideshow": {
     "slide_type": "subslide"
    }
   },
   "outputs": [],
   "source": [
    "import json\n",
    "\n",
    "def access_api_and_save(url, filename):\n",
    "    response = get_legacy_session().get(url)\n",
    "\n",
    "    if response.status_code == 200:\n",
    "        content = response.json()\n",
    "        \n",
    "        folderpath = build_path()\n",
    "        filepath = os.path.join(folderpath, filename)\n",
    "        with open(filepath, mode='w') as jsonfile:\n",
    "            json.dump(content, jsonfile)"
   ]
  },
  {
   "cell_type": "markdown",
   "id": "037f5593-1dff-4360-a269-9e1daff7f156",
   "metadata": {
    "slideshow": {
     "slide_type": "subslide"
    }
   },
   "source": [
    "### (Fontes de Dados 🚰)"
   ]
  },
  {
   "cell_type": "code",
   "execution_count": 69,
   "id": "69201c71",
   "metadata": {
    "slideshow": {
     "slide_type": "-"
    }
   },
   "outputs": [],
   "source": [
    "access_api_and_save('https://servicodados.ibge.gov.br/'+\n",
    "                    'api/v1/localidades/estados', \n",
    "                    'estados_codigos.json')"
   ]
  },
  {
   "cell_type": "code",
   "execution_count": 70,
   "id": "cad47719-8a2f-4078-a105-a837866043d6",
   "metadata": {
    "slideshow": {
     "slide_type": "-"
    }
   },
   "outputs": [
    {
     "name": "stdout",
     "output_type": "stream",
     "text": [
      "\u001b[1;36m../project/data/raw\u001b[0m\n",
      "├── estados_codigos.json\n",
      "├── estados_georreferenciamento.csv\n",
      "├── municipios_codigos.db\n",
      "└── municipios_georreferenciamento.csv\n",
      "\n",
      "1 directory, 4 files\n"
     ]
    }
   ],
   "source": [
    "!tree ../project/data/raw"
   ]
  },
  {
   "cell_type": "markdown",
   "id": "e571d5b3",
   "metadata": {
    "slideshow": {
     "slide_type": "subslide"
    }
   },
   "source": [
    "🚨 spoiler: novamente, nós ainda não aprendemos pandas 🐼, mas veja como será simples e amigável ler o json"
   ]
  },
  {
   "cell_type": "code",
   "execution_count": 71,
   "id": "22130a9f",
   "metadata": {
    "slideshow": {
     "slide_type": "-"
    }
   },
   "outputs": [
    {
     "data": {
      "text/html": [
       "<div>\n",
       "<style scoped>\n",
       "    .dataframe tbody tr th:only-of-type {\n",
       "        vertical-align: middle;\n",
       "    }\n",
       "\n",
       "    .dataframe tbody tr th {\n",
       "        vertical-align: top;\n",
       "    }\n",
       "\n",
       "    .dataframe thead th {\n",
       "        text-align: right;\n",
       "    }\n",
       "</style>\n",
       "<table border=\"1\" class=\"dataframe\">\n",
       "  <thead>\n",
       "    <tr style=\"text-align: right;\">\n",
       "      <th></th>\n",
       "      <th>id</th>\n",
       "      <th>sigla</th>\n",
       "      <th>nome</th>\n",
       "      <th>regiao</th>\n",
       "    </tr>\n",
       "  </thead>\n",
       "  <tbody>\n",
       "    <tr>\n",
       "      <th>0</th>\n",
       "      <td>11</td>\n",
       "      <td>RO</td>\n",
       "      <td>Rondônia</td>\n",
       "      <td>{'id': 1, 'sigla': 'N', 'nome': 'Norte'}</td>\n",
       "    </tr>\n",
       "    <tr>\n",
       "      <th>1</th>\n",
       "      <td>12</td>\n",
       "      <td>AC</td>\n",
       "      <td>Acre</td>\n",
       "      <td>{'id': 1, 'sigla': 'N', 'nome': 'Norte'}</td>\n",
       "    </tr>\n",
       "    <tr>\n",
       "      <th>2</th>\n",
       "      <td>13</td>\n",
       "      <td>AM</td>\n",
       "      <td>Amazonas</td>\n",
       "      <td>{'id': 1, 'sigla': 'N', 'nome': 'Norte'}</td>\n",
       "    </tr>\n",
       "    <tr>\n",
       "      <th>3</th>\n",
       "      <td>14</td>\n",
       "      <td>RR</td>\n",
       "      <td>Roraima</td>\n",
       "      <td>{'id': 1, 'sigla': 'N', 'nome': 'Norte'}</td>\n",
       "    </tr>\n",
       "    <tr>\n",
       "      <th>4</th>\n",
       "      <td>15</td>\n",
       "      <td>PA</td>\n",
       "      <td>Pará</td>\n",
       "      <td>{'id': 1, 'sigla': 'N', 'nome': 'Norte'}</td>\n",
       "    </tr>\n",
       "    <tr>\n",
       "      <th>5</th>\n",
       "      <td>16</td>\n",
       "      <td>AP</td>\n",
       "      <td>Amapá</td>\n",
       "      <td>{'id': 1, 'sigla': 'N', 'nome': 'Norte'}</td>\n",
       "    </tr>\n",
       "    <tr>\n",
       "      <th>6</th>\n",
       "      <td>17</td>\n",
       "      <td>TO</td>\n",
       "      <td>Tocantins</td>\n",
       "      <td>{'id': 1, 'sigla': 'N', 'nome': 'Norte'}</td>\n",
       "    </tr>\n",
       "    <tr>\n",
       "      <th>7</th>\n",
       "      <td>21</td>\n",
       "      <td>MA</td>\n",
       "      <td>Maranhão</td>\n",
       "      <td>{'id': 2, 'sigla': 'NE', 'nome': 'Nordeste'}</td>\n",
       "    </tr>\n",
       "    <tr>\n",
       "      <th>8</th>\n",
       "      <td>22</td>\n",
       "      <td>PI</td>\n",
       "      <td>Piauí</td>\n",
       "      <td>{'id': 2, 'sigla': 'NE', 'nome': 'Nordeste'}</td>\n",
       "    </tr>\n",
       "    <tr>\n",
       "      <th>9</th>\n",
       "      <td>23</td>\n",
       "      <td>CE</td>\n",
       "      <td>Ceará</td>\n",
       "      <td>{'id': 2, 'sigla': 'NE', 'nome': 'Nordeste'}</td>\n",
       "    </tr>\n",
       "    <tr>\n",
       "      <th>10</th>\n",
       "      <td>24</td>\n",
       "      <td>RN</td>\n",
       "      <td>Rio Grande do Norte</td>\n",
       "      <td>{'id': 2, 'sigla': 'NE', 'nome': 'Nordeste'}</td>\n",
       "    </tr>\n",
       "    <tr>\n",
       "      <th>11</th>\n",
       "      <td>25</td>\n",
       "      <td>PB</td>\n",
       "      <td>Paraíba</td>\n",
       "      <td>{'id': 2, 'sigla': 'NE', 'nome': 'Nordeste'}</td>\n",
       "    </tr>\n",
       "    <tr>\n",
       "      <th>12</th>\n",
       "      <td>26</td>\n",
       "      <td>PE</td>\n",
       "      <td>Pernambuco</td>\n",
       "      <td>{'id': 2, 'sigla': 'NE', 'nome': 'Nordeste'}</td>\n",
       "    </tr>\n",
       "    <tr>\n",
       "      <th>13</th>\n",
       "      <td>27</td>\n",
       "      <td>AL</td>\n",
       "      <td>Alagoas</td>\n",
       "      <td>{'id': 2, 'sigla': 'NE', 'nome': 'Nordeste'}</td>\n",
       "    </tr>\n",
       "    <tr>\n",
       "      <th>14</th>\n",
       "      <td>28</td>\n",
       "      <td>SE</td>\n",
       "      <td>Sergipe</td>\n",
       "      <td>{'id': 2, 'sigla': 'NE', 'nome': 'Nordeste'}</td>\n",
       "    </tr>\n",
       "    <tr>\n",
       "      <th>15</th>\n",
       "      <td>29</td>\n",
       "      <td>BA</td>\n",
       "      <td>Bahia</td>\n",
       "      <td>{'id': 2, 'sigla': 'NE', 'nome': 'Nordeste'}</td>\n",
       "    </tr>\n",
       "    <tr>\n",
       "      <th>16</th>\n",
       "      <td>31</td>\n",
       "      <td>MG</td>\n",
       "      <td>Minas Gerais</td>\n",
       "      <td>{'id': 3, 'sigla': 'SE', 'nome': 'Sudeste'}</td>\n",
       "    </tr>\n",
       "    <tr>\n",
       "      <th>17</th>\n",
       "      <td>32</td>\n",
       "      <td>ES</td>\n",
       "      <td>Espírito Santo</td>\n",
       "      <td>{'id': 3, 'sigla': 'SE', 'nome': 'Sudeste'}</td>\n",
       "    </tr>\n",
       "    <tr>\n",
       "      <th>18</th>\n",
       "      <td>33</td>\n",
       "      <td>RJ</td>\n",
       "      <td>Rio de Janeiro</td>\n",
       "      <td>{'id': 3, 'sigla': 'SE', 'nome': 'Sudeste'}</td>\n",
       "    </tr>\n",
       "    <tr>\n",
       "      <th>19</th>\n",
       "      <td>35</td>\n",
       "      <td>SP</td>\n",
       "      <td>São Paulo</td>\n",
       "      <td>{'id': 3, 'sigla': 'SE', 'nome': 'Sudeste'}</td>\n",
       "    </tr>\n",
       "    <tr>\n",
       "      <th>20</th>\n",
       "      <td>41</td>\n",
       "      <td>PR</td>\n",
       "      <td>Paraná</td>\n",
       "      <td>{'id': 4, 'sigla': 'S', 'nome': 'Sul'}</td>\n",
       "    </tr>\n",
       "    <tr>\n",
       "      <th>21</th>\n",
       "      <td>42</td>\n",
       "      <td>SC</td>\n",
       "      <td>Santa Catarina</td>\n",
       "      <td>{'id': 4, 'sigla': 'S', 'nome': 'Sul'}</td>\n",
       "    </tr>\n",
       "    <tr>\n",
       "      <th>22</th>\n",
       "      <td>43</td>\n",
       "      <td>RS</td>\n",
       "      <td>Rio Grande do Sul</td>\n",
       "      <td>{'id': 4, 'sigla': 'S', 'nome': 'Sul'}</td>\n",
       "    </tr>\n",
       "    <tr>\n",
       "      <th>23</th>\n",
       "      <td>50</td>\n",
       "      <td>MS</td>\n",
       "      <td>Mato Grosso do Sul</td>\n",
       "      <td>{'id': 5, 'sigla': 'CO', 'nome': 'Centro-Oeste'}</td>\n",
       "    </tr>\n",
       "    <tr>\n",
       "      <th>24</th>\n",
       "      <td>51</td>\n",
       "      <td>MT</td>\n",
       "      <td>Mato Grosso</td>\n",
       "      <td>{'id': 5, 'sigla': 'CO', 'nome': 'Centro-Oeste'}</td>\n",
       "    </tr>\n",
       "    <tr>\n",
       "      <th>25</th>\n",
       "      <td>52</td>\n",
       "      <td>GO</td>\n",
       "      <td>Goiás</td>\n",
       "      <td>{'id': 5, 'sigla': 'CO', 'nome': 'Centro-Oeste'}</td>\n",
       "    </tr>\n",
       "    <tr>\n",
       "      <th>26</th>\n",
       "      <td>53</td>\n",
       "      <td>DF</td>\n",
       "      <td>Distrito Federal</td>\n",
       "      <td>{'id': 5, 'sigla': 'CO', 'nome': 'Centro-Oeste'}</td>\n",
       "    </tr>\n",
       "  </tbody>\n",
       "</table>\n",
       "</div>"
      ],
      "text/plain": [
       "    id sigla                 nome  \\\n",
       "0   11    RO             Rondônia   \n",
       "1   12    AC                 Acre   \n",
       "2   13    AM             Amazonas   \n",
       "3   14    RR              Roraima   \n",
       "4   15    PA                 Pará   \n",
       "5   16    AP                Amapá   \n",
       "6   17    TO            Tocantins   \n",
       "7   21    MA             Maranhão   \n",
       "8   22    PI                Piauí   \n",
       "9   23    CE                Ceará   \n",
       "10  24    RN  Rio Grande do Norte   \n",
       "11  25    PB              Paraíba   \n",
       "12  26    PE           Pernambuco   \n",
       "13  27    AL              Alagoas   \n",
       "14  28    SE              Sergipe   \n",
       "15  29    BA                Bahia   \n",
       "16  31    MG         Minas Gerais   \n",
       "17  32    ES       Espírito Santo   \n",
       "18  33    RJ       Rio de Janeiro   \n",
       "19  35    SP            São Paulo   \n",
       "20  41    PR               Paraná   \n",
       "21  42    SC       Santa Catarina   \n",
       "22  43    RS    Rio Grande do Sul   \n",
       "23  50    MS   Mato Grosso do Sul   \n",
       "24  51    MT          Mato Grosso   \n",
       "25  52    GO                Goiás   \n",
       "26  53    DF     Distrito Federal   \n",
       "\n",
       "                                              regiao  \n",
       "0           {'id': 1, 'sigla': 'N', 'nome': 'Norte'}  \n",
       "1           {'id': 1, 'sigla': 'N', 'nome': 'Norte'}  \n",
       "2           {'id': 1, 'sigla': 'N', 'nome': 'Norte'}  \n",
       "3           {'id': 1, 'sigla': 'N', 'nome': 'Norte'}  \n",
       "4           {'id': 1, 'sigla': 'N', 'nome': 'Norte'}  \n",
       "5           {'id': 1, 'sigla': 'N', 'nome': 'Norte'}  \n",
       "6           {'id': 1, 'sigla': 'N', 'nome': 'Norte'}  \n",
       "7       {'id': 2, 'sigla': 'NE', 'nome': 'Nordeste'}  \n",
       "8       {'id': 2, 'sigla': 'NE', 'nome': 'Nordeste'}  \n",
       "9       {'id': 2, 'sigla': 'NE', 'nome': 'Nordeste'}  \n",
       "10      {'id': 2, 'sigla': 'NE', 'nome': 'Nordeste'}  \n",
       "11      {'id': 2, 'sigla': 'NE', 'nome': 'Nordeste'}  \n",
       "12      {'id': 2, 'sigla': 'NE', 'nome': 'Nordeste'}  \n",
       "13      {'id': 2, 'sigla': 'NE', 'nome': 'Nordeste'}  \n",
       "14      {'id': 2, 'sigla': 'NE', 'nome': 'Nordeste'}  \n",
       "15      {'id': 2, 'sigla': 'NE', 'nome': 'Nordeste'}  \n",
       "16       {'id': 3, 'sigla': 'SE', 'nome': 'Sudeste'}  \n",
       "17       {'id': 3, 'sigla': 'SE', 'nome': 'Sudeste'}  \n",
       "18       {'id': 3, 'sigla': 'SE', 'nome': 'Sudeste'}  \n",
       "19       {'id': 3, 'sigla': 'SE', 'nome': 'Sudeste'}  \n",
       "20            {'id': 4, 'sigla': 'S', 'nome': 'Sul'}  \n",
       "21            {'id': 4, 'sigla': 'S', 'nome': 'Sul'}  \n",
       "22            {'id': 4, 'sigla': 'S', 'nome': 'Sul'}  \n",
       "23  {'id': 5, 'sigla': 'CO', 'nome': 'Centro-Oeste'}  \n",
       "24  {'id': 5, 'sigla': 'CO', 'nome': 'Centro-Oeste'}  \n",
       "25  {'id': 5, 'sigla': 'CO', 'nome': 'Centro-Oeste'}  \n",
       "26  {'id': 5, 'sigla': 'CO', 'nome': 'Centro-Oeste'}  "
      ]
     },
     "execution_count": 71,
     "metadata": {},
     "output_type": "execute_result"
    }
   ],
   "source": [
    "from pandas import read_json\n",
    "\n",
    "filepath = os.path.join(folderpath, 'estados_codigos.json')\n",
    "read_json(filepath)"
   ]
  }
 ],
 "metadata": {
  "celltoolbar": "Slideshow",
  "kernelspec": {
   "display_name": "Python 3 (ipykernel)",
   "language": "python",
   "name": "python3"
  },
  "language_info": {
   "codemirror_mode": {
    "name": "ipython",
    "version": 3
   },
   "file_extension": ".py",
   "mimetype": "text/x-python",
   "name": "python",
   "nbconvert_exporter": "python",
   "pygments_lexer": "ipython3",
   "version": "3.11.5"
  },
  "toc": {
   "base_numbering": 1,
   "nav_menu": {},
   "number_sections": true,
   "sideBar": true,
   "skip_h1_title": false,
   "title_cell": "Table of Contents",
   "title_sidebar": "Contents",
   "toc_cell": false,
   "toc_position": {},
   "toc_section_display": true,
   "toc_window_display": false
  }
 },
 "nbformat": 4,
 "nbformat_minor": 5
}
