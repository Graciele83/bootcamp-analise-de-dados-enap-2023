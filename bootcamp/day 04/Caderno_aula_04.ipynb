{
 "cells": [
  {
   "cell_type": "code",
   "execution_count": 1,
   "id": "68630303-c003-444f-85dc-4b6cdb0238c3",
   "metadata": {},
   "outputs": [],
   "source": [
    "#!pip install requests\n",
    "import requests"
   ]
  },
  {
   "cell_type": "code",
   "execution_count": 17,
   "id": "df31e9fa-a0e8-4fc8-9455-2da0131a2c9e",
   "metadata": {},
   "outputs": [],
   "source": [
    "url = 'https://bvsms.saude.gov.br/wp-content/uploads/2020/12/'\n",
    "url += 'ze_gotinha.jpg'"
   ]
  },
  {
   "cell_type": "code",
   "execution_count": 13,
   "id": "72bc9ec3-fab4-4fda-989b-c485c4b208e6",
   "metadata": {},
   "outputs": [],
   "source": [
    "response =requests.get(url)  #GET = queremos pegar algo do site"
   ]
  },
  {
   "cell_type": "code",
   "execution_count": 14,
   "id": "915077e8-569c-4ea8-95e5-42c09300813f",
   "metadata": {},
   "outputs": [
    {
     "data": {
      "text/plain": [
       "b'{\"login\":\"thaissalzer\",\"id\":106846359,\"node_id\":\"U_kgDOBl5Ylw\",\"avatar_url\":\"https://avatars.githubusercontent.com/u/106846359?v=4\",\"gravatar_id\":\"\",\"url\":\"https://api.github.com/users/thaissalzer\",\"html_url\":\"https://github.com/thaissalzer\",\"followers_url\":\"https://api.github.com/users/thaissalzer/followers\",\"following_url\":\"https://api.github.com/users/thaissalzer/following{/other_user}\",\"gists_url\":\"https://api.github.com/users/thaissalzer/gists{/gist_id}\",\"starred_url\":\"https://api.github.com/users/thaissalzer/starred{/owner}{/repo}\",\"subscriptions_url\":\"https://api.github.com/users/thaissalzer/subscriptions\",\"organizations_url\":\"https://api.github.com/users/thaissalzer/orgs\",\"repos_url\":\"https://api.github.com/users/thaissalzer/repos\",\"events_url\":\"https://api.github.com/users/thaissalzer/events{/privacy}\",\"received_events_url\":\"https://api.github.com/users/thaissalzer/received_events\",\"type\":\"User\",\"site_admin\":false,\"name\":\"Thais Salzer Procopio\",\"company\":\"Secretariat of Economic Policy\",\"blog\":\"\",\"location\":null,\"email\":null,\"hireable\":null,\"bio\":null,\"twitter_username\":null,\"public_repos\":2,\"public_gists\":0,\"followers\":0,\"following\":0,\"created_at\":\"2022-06-03T21:50:38Z\",\"updated_at\":\"2023-10-03T12:53:33Z\"}'"
      ]
     },
     "execution_count": 14,
     "metadata": {},
     "output_type": "execute_result"
    }
   ],
   "source": [
    "response.content"
   ]
  },
  {
   "cell_type": "code",
   "execution_count": 15,
   "id": "f106bff9-7c4e-43d2-b69f-9d53e2ac32d3",
   "metadata": {},
   "outputs": [],
   "source": [
    "def read_file(url):\n",
    "    response = requests.get(url)\n",
    "\n",
    "    if response.status_code == 200:\n",
    "        content = response.content\n",
    "        return content"
   ]
  },
  {
   "cell_type": "code",
   "execution_count": 20,
   "id": "1b50826c-f03a-4c1c-be22-3b9cf3625863",
   "metadata": {},
   "outputs": [],
   "source": [
    "url = 'https://dadosabertos.camara.leg.br/api/v2/deputados'"
   ]
  },
  {
   "cell_type": "code",
   "execution_count": 21,
   "id": "90a61ae8-dbbe-4612-ae08-12a90c9606d6",
   "metadata": {},
   "outputs": [
    {
     "data": {
      "text/plain": [
       "<Response [200]>"
      ]
     },
     "execution_count": 21,
     "metadata": {},
     "output_type": "execute_result"
    }
   ],
   "source": [
    "requests.get(url)"
   ]
  },
  {
   "cell_type": "code",
   "execution_count": 22,
   "id": "d2ccdb0c-8cbd-4311-b5ea-433d83e2763a",
   "metadata": {},
   "outputs": [],
   "source": [
    "response=requests.get(url)"
   ]
  },
  {
   "cell_type": "code",
   "execution_count": 26,
   "id": "55c7af24-0699-4dab-951c-7b4e8e6b4e8e",
   "metadata": {},
   "outputs": [],
   "source": [
    "content = response.json()"
   ]
  },
  {
   "cell_type": "code",
   "execution_count": 27,
   "id": "5d85d6aa-f7a1-48d1-975e-6f135205bc98",
   "metadata": {},
   "outputs": [
    {
     "data": {
      "text/plain": [
       "dict_keys(['dados', 'links'])"
      ]
     },
     "execution_count": 27,
     "metadata": {},
     "output_type": "execute_result"
    }
   ],
   "source": [
    "content.keys()"
   ]
  },
  {
   "cell_type": "code",
   "execution_count": 30,
   "id": "97186030-4133-49a3-b6f3-c0f0ac624ae1",
   "metadata": {},
   "outputs": [
    {
     "data": {
      "text/plain": [
       "{'id': 220593,\n",
       " 'uri': 'https://dadosabertos.camara.leg.br/api/v2/deputados/220593',\n",
       " 'nome': 'Abilio Brunini',\n",
       " 'siglaPartido': 'PL',\n",
       " 'uriPartido': 'https://dadosabertos.camara.leg.br/api/v2/partidos/37906',\n",
       " 'siglaUf': 'MT',\n",
       " 'idLegislatura': 57,\n",
       " 'urlFoto': 'https://www.camara.leg.br/internet/deputado/bandep/220593.jpg',\n",
       " 'email': 'dep.abiliobrunini@camara.leg.br'}"
      ]
     },
     "execution_count": 30,
     "metadata": {},
     "output_type": "execute_result"
    }
   ],
   "source": [
    "content['dados'][0]"
   ]
  },
  {
   "cell_type": "code",
   "execution_count": 33,
   "id": "764a0184-4bad-40b6-8fa5-88d726a7d4cc",
   "metadata": {},
   "outputs": [],
   "source": [
    "deputados = content['dados']"
   ]
  },
  {
   "cell_type": "code",
   "execution_count": 34,
   "id": "b528b9d3-bd18-48be-b27d-f1aa8bf65c5b",
   "metadata": {},
   "outputs": [
    {
     "data": {
      "text/plain": [
       "list"
      ]
     },
     "execution_count": 34,
     "metadata": {},
     "output_type": "execute_result"
    }
   ],
   "source": [
    "type(deputados)"
   ]
  },
  {
   "cell_type": "code",
   "execution_count": 37,
   "id": "d7c0858d-b47f-4b44-a67c-f4aab25b1bb3",
   "metadata": {},
   "outputs": [
    {
     "name": "stdout",
     "output_type": "stream",
     "text": [
      "Abilio Brunini,Acácio Favacho,Adail Filho,Adilson Barroso,Adolfo Viana,"
     ]
    }
   ],
   "source": [
    "for deputado in deputados[0:5]:\n",
    "    print(deputado['nome'], end=',')"
   ]
  },
  {
   "cell_type": "code",
   "execution_count": 46,
   "id": "d4851c33-05f5-41de-aeda-2b762848e428",
   "metadata": {},
   "outputs": [
    {
     "name": "stdout",
     "output_type": "stream",
     "text": [
      "Aécio Neves MG\n",
      "Ana Paula Leão MG\n",
      "Ana Pimentel MG\n",
      "André Janones MG\n",
      "Bruno Farias MG\n",
      "Célia Xakriabá MG\n",
      "Dandara MG\n",
      "Delegada Ione MG\n",
      "Delegado Marcelo Freitas MG\n",
      "Diego Andrade MG\n",
      "Dimas Fabiano MG\n",
      "Domingos Sávio MG\n",
      "Dr. Frederico MG\n",
      "Duda Salabert MG\n",
      "Emidinho Madeira MG\n",
      "Eros Biondini MG\n",
      "Euclydes Pettersen MG\n",
      "Fred Costa MG\n",
      "Gilberto Abramo MG\n",
      "Greyce Elias MG\n",
      "Hercílio Coelho Diniz MG\n",
      "Igor Timo MG\n",
      "Junio Amaral MG\n",
      "Lafayette de Andrada MG\n",
      "Leonardo Monteiro MG\n",
      "Lincoln Portela MG\n",
      "Luis Tibé MG\n",
      "Luiz Fernando Faria MG\n",
      "Marcelo Álvaro Antônio MG\n",
      "Mário Heringer MG\n",
      "Mauricio do Vôlei MG\n",
      "Miguel Ângelo MG\n",
      "Misael Varella MG\n",
      "Nely Aquino MG\n",
      "Newton Cardoso Jr MG\n",
      "Nikolas Ferreira MG\n",
      "Odair Cunha MG\n",
      "Padre João MG\n",
      "Patrus Ananias MG\n",
      "Paulo Abi-Ackel MG\n",
      "Paulo Guedes MG\n",
      "Pedro Aihara MG\n",
      "Pinheirinho MG\n",
      "Rafael Simoes MG\n",
      "Reginaldo Lopes MG\n",
      "Rodrigo de Castro MG\n",
      "Rogério Correia MG\n",
      "Rosângela Reis MG\n",
      "Samuel Viana MG\n",
      "Stefano Aguiar MG\n",
      "Weliton Prado MG\n",
      "Zé Silva MG\n",
      "Zé Vitor MG\n"
     ]
    }
   ],
   "source": [
    "lista= []\n",
    "for deputado in deputados:\n",
    "    if deputado['siglaUf']=='MG':\n",
    "        lista.append(deputado)\n",
    "        print(deputado['nome'] + \" \" + deputado['siglaUf'])"
   ]
  },
  {
   "cell_type": "code",
   "execution_count": 48,
   "id": "b6d3cbcb-5be0-4935-9ac6-2f269d043678",
   "metadata": {},
   "outputs": [],
   "source": [
    "url= 'https://dadosabertos.camara.leg.br/api/v2/proposicoes?siglaTipo=PL&siglaPartidoAutor=PSOL&dataInicio=2023-10-04&dataFim=2023-10-05&itens=100'"
   ]
  },
  {
   "cell_type": "code",
   "execution_count": null,
   "id": "98437995-0368-4193-ac5b-1cd498877c06",
   "metadata": {},
   "outputs": [],
   "source": []
  },
  {
   "cell_type": "code",
   "execution_count": null,
   "id": "cc9d74d4-a6ad-4745-aefe-8f5aaff2f39c",
   "metadata": {},
   "outputs": [],
   "source": []
  },
  {
   "cell_type": "code",
   "execution_count": 49,
   "id": "47c09d89-4097-49cb-a6c4-987a62376030",
   "metadata": {},
   "outputs": [
    {
     "data": {
      "text/plain": [
       "<Response [200]>"
      ]
     },
     "execution_count": 49,
     "metadata": {},
     "output_type": "execute_result"
    }
   ],
   "source": [
    "requests.get(url)"
   ]
  },
  {
   "cell_type": "code",
   "execution_count": 50,
   "id": "f8ee093e-7b96-47dd-ad2d-d0f3a7199288",
   "metadata": {},
   "outputs": [],
   "source": [
    "response =requests.get(url)"
   ]
  },
  {
   "cell_type": "code",
   "execution_count": 51,
   "id": "0f5a6f4a-48a1-4a48-a886-2262539bb1d3",
   "metadata": {},
   "outputs": [
    {
     "data": {
      "text/plain": [
       "{'dados': [{'id': 1672577,\n",
       "   'uri': 'https://dadosabertos.camara.leg.br/api/v2/proposicoes/1672577',\n",
       "   'siglaTipo': 'PL',\n",
       "   'codTipo': 139,\n",
       "   'numero': 2725,\n",
       "   'ano': 2015,\n",
       "   'ementa': 'Dispõe sobre a utilização dos dividendos e do superávit financeiro de fundos e de entidades da Administração Pública Federal indireta para a implementação do Custo Aluno Qualidade Inicial previsto na Lei nª 13005 de 2014.'},\n",
       "  {'id': 2253448,\n",
       "   'uri': 'https://dadosabertos.camara.leg.br/api/v2/proposicoes/2253448',\n",
       "   'siglaTipo': 'PL',\n",
       "   'codTipo': 139,\n",
       "   'numero': 2819,\n",
       "   'ano': 2020,\n",
       "   'ementa': 'Dispõe sobre medidas de garantia da equidade na atenção integral à saúde da população negra em casos de epidemias ou pandemias, surtos provocados por doenças contagiosas ou durante a decretação de Estado de Calamidade Pública.'},\n",
       "  {'id': 2260738,\n",
       "   'uri': 'https://dadosabertos.camara.leg.br/api/v2/proposicoes/2260738',\n",
       "   'siglaTipo': 'PL',\n",
       "   'codTipo': 139,\n",
       "   'numero': 4292,\n",
       "   'ano': 2020,\n",
       "   'ementa': 'Dispõe sobre ações emergenciais destinadas ao reforço do Sistema Único de Assistência Social (SUAS) para o atendimento e acompanhamento à população em situação de vulnerabilidade e risco social e pessoal durante o estado de calamidade pública reconhecido pelo Decreto Legislativo nº 6, de 20 de março de 2020.'},\n",
       "  {'id': 2284867,\n",
       "   'uri': 'https://dadosabertos.camara.leg.br/api/v2/proposicoes/2284867',\n",
       "   'siglaTipo': 'PL',\n",
       "   'codTipo': 139,\n",
       "   'numero': 1974,\n",
       "   'ano': 2021,\n",
       "   'ementa': 'Dispõe sobre o instituto da Parentalidade em todo Território Nacional e altera as Leis 5.452, de 1º de Maio de 1943 (Consolidação das Leis do Trabalho), 8112/1990 (Regime Jurídico dos Servidores), 8212/1991 (Lei Orgânica da Seguridade Social), 8213/1991 (Regime Geral da Previdência Social) e 11770/2008 (Empresa Cidadã).'},\n",
       "  {'id': 2306352,\n",
       "   'uri': 'https://dadosabertos.camara.leg.br/api/v2/proposicoes/2306352',\n",
       "   'siglaTipo': 'PL',\n",
       "   'codTipo': 139,\n",
       "   'numero': 3945,\n",
       "   'ano': 2021,\n",
       "   'ementa': 'Cria a Semana Nacional de Apoio à Amamentação Negra, a ser celebrada entre os dias 25 e 31 de agosto de cada ano.'},\n",
       "  {'id': 2309048,\n",
       "   'uri': 'https://dadosabertos.camara.leg.br/api/v2/proposicoes/2309048',\n",
       "   'siglaTipo': 'PL',\n",
       "   'codTipo': 139,\n",
       "   'numero': 4186,\n",
       "   'ano': 2021,\n",
       "   'ementa': 'Altera o art. 206 da Lei nº 10.406, de 10 de janeiro de 2002 (Código Civil), para o fim de fixar em 20 anos o prazo prescricional da pretensão de reparação civil das vítimas de crimes contra a dignidade sexual de crianças e adolescentes.'},\n",
       "  {'id': 2313797,\n",
       "   'uri': 'https://dadosabertos.camara.leg.br/api/v2/proposicoes/2313797',\n",
       "   'siglaTipo': 'PL',\n",
       "   'codTipo': 139,\n",
       "   'numero': 19,\n",
       "   'ano': 2022,\n",
       "   'ementa': 'Dispõe sobre medidas emergenciais de amparo aos agricultores familiares para mitigar os impactos socioeconômicos da seca e das enchentes que incidem sobre o país desde o ano de 2021, e dá outras providências.'},\n",
       "  {'id': 2314147,\n",
       "   'uri': 'https://dadosabertos.camara.leg.br/api/v2/proposicoes/2314147',\n",
       "   'siglaTipo': 'PL',\n",
       "   'codTipo': 139,\n",
       "   'numero': 161,\n",
       "   'ano': 2022,\n",
       "   'ementa': 'Concede pensão especial à Senhora Ivone Lotsove Lololav, mãe de Moïse Mugenyi Kabagambe, refugiado congolês assassinado no Rio de Janeiro.'},\n",
       "  {'id': 2331377,\n",
       "   'uri': 'https://dadosabertos.camara.leg.br/api/v2/proposicoes/2331377',\n",
       "   'siglaTipo': 'PL',\n",
       "   'codTipo': 139,\n",
       "   'numero': 1902,\n",
       "   'ano': 2022,\n",
       "   'ementa': 'Dispõe sobre assento de nascimento de filho havido por inseminação artificial heteróloga no  oficial de registro civil das pessoas naturais, independentemente do local onde a inseminação tenha ocorrido. Altera o inciso V do art. 1.597 da Lei nº 10.406, de 10 de janeiro de 2002 (Código Civil), para prever a necessidade de anuência de ambos os cônjuges ou, se o casal estiver em união estável, de ambos os companheiros, para fins de reconhecimento da filiação.'},\n",
       "  {'id': 2332174,\n",
       "   'uri': 'https://dadosabertos.camara.leg.br/api/v2/proposicoes/2332174',\n",
       "   'siglaTipo': 'PL',\n",
       "   'codTipo': 139,\n",
       "   'numero': 1969,\n",
       "   'ano': 2022,\n",
       "   'ementa': 'Reconhece a responsabilidade do Estado pelo desaparecimento forçado das 11 vítimas de Acari e estabelece Medidas de Reparação e Não-Repetição para vítimas e familiares da Chacina de Acari.'},\n",
       "  {'id': 2335003,\n",
       "   'uri': 'https://dadosabertos.camara.leg.br/api/v2/proposicoes/2335003',\n",
       "   'siglaTipo': 'PL',\n",
       "   'codTipo': 139,\n",
       "   'numero': 2448,\n",
       "   'ano': 2022,\n",
       "   'ementa': 'Altera a Lei nº 10.671, de 15 de Maio de 2003, para dispor sobre a proteção das vítimas em casos de assédio e importunação sexual ocorridas em estádios de futebol'},\n",
       "  {'id': 2338753,\n",
       "   'uri': 'https://dadosabertos.camara.leg.br/api/v2/proposicoes/2338753',\n",
       "   'siglaTipo': 'PL',\n",
       "   'codTipo': 139,\n",
       "   'numero': 2812,\n",
       "   'ano': 2022,\n",
       "   'ementa': 'Revoga a Lei no 12.318, de 26 de agosto de 2010 - Lei de Alienação Parental.'},\n",
       "  {'id': 2358915,\n",
       "   'uri': 'https://dadosabertos.camara.leg.br/api/v2/proposicoes/2358915',\n",
       "   'siglaTipo': 'PL',\n",
       "   'codTipo': 139,\n",
       "   'numero': 2245,\n",
       "   'ano': 2023,\n",
       "   'ementa': 'Institui a Política Nacional de Trabalho Digno e Cidadania para População em Situação de Rua - PNTC PopRua - e dá outras providências.'},\n",
       "  {'id': 2365133,\n",
       "   'uri': 'https://dadosabertos.camara.leg.br/api/v2/proposicoes/2365133',\n",
       "   'siglaTipo': 'PL',\n",
       "   'codTipo': 139,\n",
       "   'numero': 2789,\n",
       "   'ano': 2023,\n",
       "   'ementa': 'Altera a Lei nº 9.503, de 23 de setembro de 1997, que instituiu o Código de Trânsito Brasileiro (CTB), modificando o Artigo 61, que determina as velocidades em vias urbanas e rurais, o Artigo 218, que estabelece a fiscalização de velocidades e o Artigo 280, que prevê as autuações por excesso de velocidade.'},\n",
       "  {'id': 2386490,\n",
       "   'uri': 'https://dadosabertos.camara.leg.br/api/v2/proposicoes/2386490',\n",
       "   'siglaTipo': 'PL',\n",
       "   'codTipo': 139,\n",
       "   'numero': 4381,\n",
       "   'ano': 2023,\n",
       "   'ementa': 'Regulamenta sobre procedimentos a serem adotados pelas delegacias de polícia e demais órgãos responsáveis para o atendimento de mulheres indígenas vítimas de violências, nas hipóteses de medidas protetivas de urgência previstas na Lei n.º 11.340/2006 e Decreto 11.431/2023.'},\n",
       "  {'id': 2391490,\n",
       "   'uri': 'https://dadosabertos.camara.leg.br/api/v2/proposicoes/2391490',\n",
       "   'siglaTipo': 'PL',\n",
       "   'codTipo': 139,\n",
       "   'numero': 4724,\n",
       "   'ano': 2023,\n",
       "   'ementa': 'Estabelece políticas públicas de prevenção e promoção de saúde mental voltados aos profissionais de saúde e altera as leis nº 13.819, de 26 de abril de 2019 e nº 8.080, de 19 de setembro de 1990, a Lei Complementar nº 187, de 16 de dezembro de 2021 e o Decreto-Lei nº 5.452, de 1º de maio de 1943.'},\n",
       "  {'id': 2393501,\n",
       "   'uri': 'https://dadosabertos.camara.leg.br/api/v2/proposicoes/2393501',\n",
       "   'siglaTipo': 'PL',\n",
       "   'codTipo': 139,\n",
       "   'numero': 4830,\n",
       "   'ano': 2023,\n",
       "   'ementa': 'Institui o dia 28 de outubro como o Dia Nacional do Futebol de Várzea.'}],\n",
       " 'links': [{'rel': 'self',\n",
       "   'href': 'https://dadosabertos.camara.leg.br/api/v2/proposicoes?siglaTipo=PL&siglaPartidoAutor=PSOL&dataInicio=2023-10-04&dataFim=2023-10-05&itens=100'},\n",
       "  {'rel': 'first',\n",
       "   'href': 'https://dadosabertos.camara.leg.br/api/v2/proposicoes?siglaTipo=PL&siglaPartidoAutor=PSOL&dataInicio=2023-10-04&dataFim=2023-10-05&pagina=1&itens=100'},\n",
       "  {'rel': 'last',\n",
       "   'href': 'https://dadosabertos.camara.leg.br/api/v2/proposicoes?siglaTipo=PL&siglaPartidoAutor=PSOL&dataInicio=2023-10-04&dataFim=2023-10-05&pagina=1&itens=100'}]}"
      ]
     },
     "execution_count": 51,
     "metadata": {},
     "output_type": "execute_result"
    }
   ],
   "source": [
    "requests.get(url).json()"
   ]
  },
  {
   "cell_type": "code",
   "execution_count": 55,
   "id": "efd7b0a9-e9a7-4649-9ce6-c7dc1b2b9f76",
   "metadata": {},
   "outputs": [
    {
     "data": {
      "text/plain": [
       "datetime.date(2023, 10, 5)"
      ]
     },
     "execution_count": 55,
     "metadata": {},
     "output_type": "execute_result"
    }
   ],
   "source": [
    "from datetime import date\n",
    "\n",
    "hoje = date.today()\n",
    "hoje"
   ]
  },
  {
   "cell_type": "code",
   "execution_count": null,
   "id": "72a57bae-1fe4-4336-a85a-a603c87260d4",
   "metadata": {},
   "outputs": [],
   "source": []
  },
  {
   "cell_type": "code",
   "execution_count": 54,
   "id": "753038b2-20c7-48ca-8f4d-8606882be4c2",
   "metadata": {},
   "outputs": [
    {
     "ename": "NameError",
     "evalue": "name 'ontem' is not defined",
     "output_type": "error",
     "traceback": [
      "\u001b[1;31m---------------------------------------------------------------------------\u001b[0m",
      "\u001b[1;31mNameError\u001b[0m                                 Traceback (most recent call last)",
      "Cell \u001b[1;32mIn[54], line 3\u001b[0m\n\u001b[0;32m      1\u001b[0m projetos \u001b[38;5;241m=\u001b[39m read_api(\u001b[38;5;124m'\u001b[39m\u001b[38;5;124mhttps://dadosabertos.camara.leg.br/\u001b[39m\u001b[38;5;124m'\u001b[39m\u001b[38;5;241m+\u001b[39m\n\u001b[0;32m      2\u001b[0m                     \u001b[38;5;124m'\u001b[39m\u001b[38;5;124mapi/v2/proposicoes\u001b[39m\u001b[38;5;124m'\u001b[39m, \n\u001b[1;32m----> 3\u001b[0m                     params\u001b[38;5;241m=\u001b[39m{\u001b[38;5;124m'\u001b[39m\u001b[38;5;124mdataInicio\u001b[39m\u001b[38;5;124m'\u001b[39m:\u001b[38;5;124mf\u001b[39m\u001b[38;5;124m'\u001b[39m\u001b[38;5;132;01m{\u001b[39;00m\u001b[43montem\u001b[49m\u001b[38;5;132;01m}\u001b[39;00m\u001b[38;5;124m'\u001b[39m, \n\u001b[0;32m      4\u001b[0m                             \u001b[38;5;124m'\u001b[39m\u001b[38;5;124mdataFim\u001b[39m\u001b[38;5;124m'\u001b[39m:\u001b[38;5;124mf\u001b[39m\u001b[38;5;124m'\u001b[39m\u001b[38;5;132;01m{\u001b[39;00mhoje\u001b[38;5;132;01m}\u001b[39;00m\u001b[38;5;124m'\u001b[39m,\n\u001b[0;32m      5\u001b[0m                             \u001b[38;5;124m'\u001b[39m\u001b[38;5;124mpagina\u001b[39m\u001b[38;5;124m'\u001b[39m: \u001b[38;5;241m1\u001b[39m})\n",
      "\u001b[1;31mNameError\u001b[0m: name 'ontem' is not defined"
     ]
    }
   ],
   "source": [
    "projetos = read_api('https://dadosabertos.camara.leg.br/'+\n",
    "                    'api/v2/proposicoes', \n",
    "                    params={'dataInicio':f'{ontem}', \n",
    "                            'dataFim':f'{hoje}',\n",
    "                            'pagina': 1})"
   ]
  },
  {
   "cell_type": "code",
   "execution_count": 56,
   "id": "4eb32a17-99dc-4076-b1b1-0c7703407da8",
   "metadata": {},
   "outputs": [
    {
     "data": {
      "text/plain": [
       "['187367823', '8999', '77']"
      ]
     },
     "execution_count": 56,
     "metadata": {},
     "output_type": "execute_result"
    }
   ],
   "source": [
    "x = \"kbsdkbdihai187367823bnjke   akjhda8999da77\"\n",
    "import re\n",
    "re.findall('(\\d+)',x)"
   ]
  },
  {
   "cell_type": "code",
   "execution_count": null,
   "id": "84c8bd7c-9ddc-45cc-9058-aac4d5d1d7d4",
   "metadata": {},
   "outputs": [],
   "source": []
  },
  {
   "cell_type": "code",
   "execution_count": null,
   "id": "436a4985-f1e8-4a8e-b3ec-27af9ff7004c",
   "metadata": {},
   "outputs": [],
   "source": []
  },
  {
   "cell_type": "code",
   "execution_count": null,
   "id": "fe56e3bc-090f-4db3-bfb2-48be1c15c0e8",
   "metadata": {},
   "outputs": [],
   "source": []
  },
  {
   "cell_type": "code",
   "execution_count": null,
   "id": "def4c8eb-54b3-4dda-af16-58471b79b292",
   "metadata": {},
   "outputs": [],
   "source": []
  },
  {
   "cell_type": "code",
   "execution_count": null,
   "id": "ef9f4dab-5d9e-4753-9683-5a71dcf40ce4",
   "metadata": {},
   "outputs": [],
   "source": []
  },
  {
   "cell_type": "code",
   "execution_count": null,
   "id": "7d69a260-8892-4e74-ad6d-39cd5f74e3a7",
   "metadata": {},
   "outputs": [],
   "source": []
  },
  {
   "cell_type": "code",
   "execution_count": null,
   "id": "44c78774-d5fb-4fe8-84d9-aedcdc52c399",
   "metadata": {},
   "outputs": [],
   "source": []
  }
 ],
 "metadata": {
  "kernelspec": {
   "display_name": "Python 3 (ipykernel)",
   "language": "python",
   "name": "python3"
  },
  "language_info": {
   "codemirror_mode": {
    "name": "ipython",
    "version": 3
   },
   "file_extension": ".py",
   "mimetype": "text/x-python",
   "name": "python",
   "nbconvert_exporter": "python",
   "pygments_lexer": "ipython3",
   "version": "3.11.5"
  }
 },
 "nbformat": 4,
 "nbformat_minor": 5
}
