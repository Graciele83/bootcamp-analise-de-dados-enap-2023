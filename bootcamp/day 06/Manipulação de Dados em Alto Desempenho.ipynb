{
 "cells": [
  {
   "cell_type": "markdown",
   "id": "91aa5ee1-a52d-48eb-bdf7-4b2b75909587",
   "metadata": {
    "slideshow": {
     "slide_type": "slide"
    },
    "tags": []
   },
   "source": [
    "# Manipulação de Dados 🪡 🎲 em Alto Desempenho 🚀 🧞‍♂️"
   ]
  },
  {
   "cell_type": "markdown",
   "id": "7cb60145-de74-4dbc-915e-3c7f244fefa9",
   "metadata": {
    "slideshow": {
     "slide_type": "subslide"
    }
   },
   "source": [
    "## Sumário da Aula"
   ]
  },
  {
   "cell_type": "markdown",
   "id": "4ffdb2a8-9d0f-4915-9ff9-31de919c9217",
   "metadata": {
    "slideshow": {
     "slide_type": "-"
    }
   },
   "source": [
    "<ul>\n",
    "    <li>Computação Vetorizada 🧮</li>\n",
    "    <ul>\n",
    "        <li>Operandos n-dimensionais (Vetores 🗃️)</li>\n",
    "        <li>Operações n-dimensionais 🛠️</li>\n",
    "    </ul>\n",
    "    <li>Juntando as Peças 🧩</li>\n",
    "    <ul>\n",
    "        <li>(Fontes de Dados 🚰 ➕ Manipulação 🪡) <sup>Alto Desempenho 🚀 🧞‍♂️</sup></li>\n",
    "    </ul>\n",
    "</ul>"
   ]
  },
  {
   "cell_type": "markdown",
   "id": "b2aa530b-51dc-4c71-9c13-d9342aeb3efd",
   "metadata": {
    "slideshow": {
     "slide_type": "subslide"
    },
    "tags": []
   },
   "source": [
    "### Biblioteca Principal 📚: numpy"
   ]
  },
  {
   "cell_type": "markdown",
   "id": "dd1d9289-8c59-406e-a5db-c0636c2ea65b",
   "metadata": {
    "slideshow": {
     "slide_type": "-"
    }
   },
   "source": [
    "<img src=\"https://numpy.org/images/logo.svg\" width=\"100\" style=\"float: right;\">"
   ]
  },
  {
   "cell_type": "code",
   "execution_count": 1,
   "id": "8f2d3abb-b00b-47df-866c-3d0c32560e4a",
   "metadata": {
    "slideshow": {
     "slide_type": "-"
    }
   },
   "outputs": [],
   "source": [
    "!pip install --upgrade numpy --quiet"
   ]
  },
  {
   "cell_type": "code",
   "execution_count": 2,
   "id": "fe690a9d-5c37-42d5-a76c-0e2959dd8846",
   "metadata": {
    "slideshow": {
     "slide_type": "-"
    }
   },
   "outputs": [],
   "source": [
    "import numpy as np"
   ]
  },
  {
   "cell_type": "markdown",
   "id": "28ab7923-ddcf-4975-922c-8b8d124806a1",
   "metadata": {
    "slideshow": {
     "slide_type": "slide"
    },
    "tags": []
   },
   "source": [
    "## Computação Vetorizada 🧮"
   ]
  },
  {
   "cell_type": "markdown",
   "id": "b52c7c47-696d-4f45-9f06-7cf3903cb085",
   "metadata": {
    "slideshow": {
     "slide_type": "-"
    }
   },
   "source": [
    "<ul>\n",
    "    <li>Manipulação de Dados 🕵🏽 🎲 em Alto Desempenho 🚀 🧞‍♂️</li>\n",
    "    <li>NumPy (Numerical Python) é uma das bibliotecas de computação numérica mais importantes do Python.</li>\n",
    "    <li>Foi projetado para ser eficaz em vetores (muito grandes) de dados. São destaques do NumPy:\n",
    "        <ul>\n",
    "            <li><b>ndarray</b>: um array multidimensional eficaz que oferece operações aritméticas rápidas, orientadas a vetores e em alto desempenho, pois\n",
    "                <ul>\n",
    "                    <li>internamente, o NumPy armazena dados em um bloco contíguo de memória;</li>\n",
    "                    <li>seus algoritmos baseados em C evitam a sobrecarga presente com o código Python interpretado; e</li>\n",
    "                    <li>o NumPy é capaz de operar diretamente em memória, sem qualquer verificação de tipo ou outro\n",
    "                        <i>overhead</i>.</li>\n",
    "                </ul>\n",
    "            </li>\n",
    "            <li><b>funções matemáticas</b> para operações rápidas em vetores (inteiros) de dados, sem que seja necessário escrever laços;</li>\n",
    "            <li><b>recursos para álgebra linear</b>, geração de números aleatórios e transformadas de Fourier.</li>\n",
    "        </ul>\n",
    "    </li>\n",
    "</ul>"
   ]
  },
  {
   "cell_type": "markdown",
   "id": "3811b7e2-0f1f-452f-ad21-2e5dd8da4e0e",
   "metadata": {
    "slideshow": {
     "slide_type": "-"
    }
   },
   "source": [
    "👉 Referência: <a href='https://numpy.org/doc/stable/'>numpy.org</a>"
   ]
  },
  {
   "cell_type": "markdown",
   "id": "fd1a9fc3-bd2c-4b0e-a283-b549a5294d5f",
   "metadata": {
    "slideshow": {
     "slide_type": "-"
    }
   },
   "source": [
    "👉 NumPy <a href='https://s3.amazonaws.com/assets.datacamp.com/blog_assets/Numpy_Python_Cheat_Sheet.pdf'>cheat sheet</a>"
   ]
  },
  {
   "cell_type": "markdown",
   "id": "0402b9e1-8508-4960-9836-49033566eb4f",
   "metadata": {
    "slideshow": {
     "slide_type": "subslide"
    },
    "tags": []
   },
   "source": [
    "### Operandos n-dimensionais (Vetores 🗃️)"
   ]
  },
  {
   "cell_type": "markdown",
   "id": "81f58409-4de7-401c-a97e-2721dd70dd43",
   "metadata": {
    "slideshow": {
     "slide_type": "-"
    }
   },
   "source": [
    "<ul>\n",
    "    <li>O ndarray do NumPy é um contêiner rápido e flexível para conjuntos (grandes) de dados em Python; em síntese, são:\n",
    "        <ul>\n",
    "            <li>multidimensionais;</li>\n",
    "            <li>os dados são homogêneos; e</li>\n",
    "            <li>têm um tamanho fixo definido na criação.</li>\n",
    "        </ul>\n",
    "    </li>\n",
    "</ul>"
   ]
  },
  {
   "cell_type": "markdown",
   "id": "476d592c-2b0c-4dd7-a7c3-ac7203b36bff",
   "metadata": {
    "slideshow": {
     "slide_type": "-"
    }
   },
   "source": [
    "<img src=\"https://i1.wp.com/indianaiproduction.com/wp-content/uploads/2019/06/NumPy-array.png\"  width=\"600\" style=\"float: left;\">"
   ]
  },
  {
   "cell_type": "markdown",
   "id": "efd5d413-455a-4e2e-8dd8-1f47b9ead6c1",
   "metadata": {
    "slideshow": {
     "slide_type": "subslide"
    }
   },
   "source": [
    "<pre>Você pode criar um ndarray com a função array e usar uma sequência como parâmetro \n",
    "\n",
    "(e.g. lista, lista de listas, etc.)</pre>"
   ]
  },
  {
   "cell_type": "code",
   "execution_count": 3,
   "id": "526efb84-7477-4fb5-8059-bda1d799a30e",
   "metadata": {
    "slideshow": {
     "slide_type": "-"
    }
   },
   "outputs": [
    {
     "data": {
      "text/plain": [
       "array([1, 2, 3])"
      ]
     },
     "execution_count": 3,
     "metadata": {},
     "output_type": "execute_result"
    }
   ],
   "source": [
    "data1 = [1, 2, 3]\n",
    "arr1 = np.array(data1)\n",
    "arr1"
   ]
  },
  {
   "cell_type": "code",
   "execution_count": 4,
   "id": "5d0b8dec-6e7a-4836-9d0b-f9354b01bb5e",
   "metadata": {
    "slideshow": {
     "slide_type": "-"
    }
   },
   "outputs": [
    {
     "data": {
      "text/plain": [
       "array([[1, 2, 3],\n",
       "       [1, 2, 3],\n",
       "       [1, 2, 3]])"
      ]
     },
     "execution_count": 4,
     "metadata": {},
     "output_type": "execute_result"
    }
   ],
   "source": [
    "data2 = [[1, 2, 3],\n",
    "         [1, 2, 3],\n",
    "         [1, 2, 3]]\n",
    "arr2 = np.array(data2)\n",
    "arr2"
   ]
  },
  {
   "cell_type": "code",
   "execution_count": 5,
   "id": "0db4c3dc-8d77-43fd-b9a1-ff011462c28a",
   "metadata": {
    "slideshow": {
     "slide_type": "subslide"
    }
   },
   "outputs": [
    {
     "data": {
      "text/plain": [
       "array([[[1, 2, 3],\n",
       "        [1, 2, 3],\n",
       "        [1, 2, 3]],\n",
       "\n",
       "       [[1, 2, 3],\n",
       "        [1, 2, 3],\n",
       "        [1, 2, 3]],\n",
       "\n",
       "       [[1, 2, 3],\n",
       "        [1, 2, 3],\n",
       "        [1, 2, 3]]])"
      ]
     },
     "execution_count": 5,
     "metadata": {},
     "output_type": "execute_result"
    }
   ],
   "source": [
    "data3 = [[[1, 2, 3],\n",
    "          [1, 2, 3],\n",
    "          [1, 2, 3]],\n",
    "         [[1, 2, 3],\n",
    "          [1, 2, 3],\n",
    "          [1, 2, 3]],\n",
    "         [[1, 2, 3],\n",
    "          [1, 2, 3],\n",
    "          [1, 2, 3]]]\n",
    "arr3 = np.array(data3)\n",
    "arr3"
   ]
  },
  {
   "cell_type": "markdown",
   "id": "f26d3400-eb49-40cc-8ece-d9ff7585e818",
   "metadata": {
    "slideshow": {
     "slide_type": "subslide"
    }
   },
   "source": [
    "<pre>Você pode realizar operações matemáticas em lote como se fossem operações com escalares</pre>"
   ]
  },
  {
   "cell_type": "code",
   "execution_count": 6,
   "id": "a0b59b81-d27c-4258-95ea-f94b850d6e78",
   "metadata": {
    "slideshow": {
     "slide_type": "-"
    }
   },
   "outputs": [
    {
     "data": {
      "text/plain": [
       "array([    1,  1024, 59049])"
      ]
     },
     "execution_count": 6,
     "metadata": {},
     "output_type": "execute_result"
    }
   ],
   "source": [
    "arr1**10"
   ]
  },
  {
   "cell_type": "code",
   "execution_count": 7,
   "id": "225513a7-343e-4db5-8362-992ff928c019",
   "metadata": {
    "slideshow": {
     "slide_type": "-"
    }
   },
   "outputs": [
    {
     "data": {
      "text/plain": [
       "array([2, 4, 6])"
      ]
     },
     "execution_count": 7,
     "metadata": {},
     "output_type": "execute_result"
    }
   ],
   "source": [
    "arr1 + arr1"
   ]
  },
  {
   "cell_type": "markdown",
   "id": "7d613ea8-12a4-4cc1-8888-18fa8e064fc2",
   "metadata": {
    "slideshow": {
     "slide_type": "-"
    }
   },
   "source": [
    "<pre>Você pode especificar o tipo dos dados, mas por padrão ele é inferido</pre>"
   ]
  },
  {
   "cell_type": "code",
   "execution_count": 8,
   "id": "f2c337e9-6581-4d56-87af-84395bc590c9",
   "metadata": {
    "slideshow": {
     "slide_type": "-"
    }
   },
   "outputs": [
    {
     "data": {
      "text/plain": [
       "array([1, 2, 3])"
      ]
     },
     "execution_count": 8,
     "metadata": {},
     "output_type": "execute_result"
    }
   ],
   "source": [
    "arr1 = np.array(data1)\n",
    "arr1"
   ]
  },
  {
   "cell_type": "code",
   "execution_count": 9,
   "id": "c35b8b7b-a60f-4232-91e7-91ba3570d6ad",
   "metadata": {
    "slideshow": {
     "slide_type": "-"
    }
   },
   "outputs": [
    {
     "data": {
      "text/plain": [
       "array([1, 2, 3], dtype=uint8)"
      ]
     },
     "execution_count": 9,
     "metadata": {},
     "output_type": "execute_result"
    }
   ],
   "source": [
    "arr1 = np.array(data1, dtype=np.uint8)\n",
    "arr1"
   ]
  },
  {
   "cell_type": "markdown",
   "id": "9ea5a0f7-9ed0-422e-89e5-f99c7a1b881b",
   "metadata": {
    "slideshow": {
     "slide_type": "subslide"
    }
   },
   "source": [
    "<pre>Você pode converter o tipo dos dados</pre>"
   ]
  },
  {
   "cell_type": "code",
   "execution_count": 10,
   "id": "ca362e89-27a7-462d-84cc-095ccae77d1d",
   "metadata": {
    "slideshow": {
     "slide_type": "-"
    }
   },
   "outputs": [
    {
     "data": {
      "text/plain": [
       "array([1., 2., 3.])"
      ]
     },
     "execution_count": 10,
     "metadata": {},
     "output_type": "execute_result"
    }
   ],
   "source": [
    "arr1.astype(np.float64)"
   ]
  },
  {
   "cell_type": "code",
   "execution_count": 11,
   "id": "e822cc83-ba2d-411c-8e68-caa3f3c08532",
   "metadata": {
    "slideshow": {
     "slide_type": "-"
    }
   },
   "outputs": [
    {
     "data": {
      "text/plain": [
       "array([b'1', b'2', b'3'], dtype='|S3')"
      ]
     },
     "execution_count": 11,
     "metadata": {},
     "output_type": "execute_result"
    }
   ],
   "source": [
    "arr1.astype(np.string_)"
   ]
  },
  {
   "cell_type": "code",
   "execution_count": 12,
   "id": "9f164d83-13ca-4e75-a813-bafe3ca73f4b",
   "metadata": {
    "slideshow": {
     "slide_type": "-"
    }
   },
   "outputs": [
    {
     "data": {
      "text/plain": [
       "array(['1', '2', '3'], dtype='<U3')"
      ]
     },
     "execution_count": 12,
     "metadata": {},
     "output_type": "execute_result"
    }
   ],
   "source": [
    "arr1.astype(np.unicode_)"
   ]
  },
  {
   "cell_type": "code",
   "execution_count": 13,
   "id": "d6e7b10a-263b-482a-850a-40663f2bd241",
   "metadata": {
    "slideshow": {
     "slide_type": "-"
    }
   },
   "outputs": [
    {
     "data": {
      "text/plain": [
       "array([1.+0.j, 2.+0.j, 3.+0.j], dtype=complex64)"
      ]
     },
     "execution_count": 13,
     "metadata": {},
     "output_type": "execute_result"
    }
   ],
   "source": [
    "arr1.astype(np.complex64)"
   ]
  },
  {
   "cell_type": "markdown",
   "id": "28f62758-89c2-49fa-a3e8-fa3239d121ec",
   "metadata": {
    "slideshow": {
     "slide_type": "subslide"
    }
   },
   "source": [
    "<pre>Você pode inspecionar os atributos de um vetor n-dimensional</pre>"
   ]
  },
  {
   "cell_type": "markdown",
   "id": "c2e06439-398f-4d80-9794-65eb1a70c807",
   "metadata": {
    "slideshow": {
     "slide_type": "-"
    }
   },
   "source": [
    "👉 Tipo do Dado Armazenado"
   ]
  },
  {
   "cell_type": "code",
   "execution_count": 14,
   "id": "1182a13b-5557-4b1f-8e0c-787140d52e19",
   "metadata": {
    "slideshow": {
     "slide_type": "-"
    }
   },
   "outputs": [
    {
     "data": {
      "text/plain": [
       "dtype('uint8')"
      ]
     },
     "execution_count": 14,
     "metadata": {},
     "output_type": "execute_result"
    }
   ],
   "source": [
    "arr1.dtype"
   ]
  },
  {
   "cell_type": "code",
   "execution_count": 15,
   "id": "d8fda14b-b0b6-4202-b621-aa78a107d819",
   "metadata": {
    "slideshow": {
     "slide_type": "-"
    }
   },
   "outputs": [
    {
     "data": {
      "text/plain": [
       "dtype('int64')"
      ]
     },
     "execution_count": 15,
     "metadata": {},
     "output_type": "execute_result"
    }
   ],
   "source": [
    "arr2.dtype"
   ]
  },
  {
   "cell_type": "code",
   "execution_count": 16,
   "id": "92a4cb73-065f-4b0d-8191-b5e6b918fe1d",
   "metadata": {
    "slideshow": {
     "slide_type": "-"
    }
   },
   "outputs": [
    {
     "data": {
      "text/plain": [
       "dtype('int64')"
      ]
     },
     "execution_count": 16,
     "metadata": {},
     "output_type": "execute_result"
    }
   ],
   "source": [
    "arr3.dtype"
   ]
  },
  {
   "cell_type": "markdown",
   "id": "a19c1617-f22b-49a3-a99c-3b11ab4b8551",
   "metadata": {
    "slideshow": {
     "slide_type": "subslide"
    }
   },
   "source": [
    "👉 Formato do Dado Armazenado"
   ]
  },
  {
   "cell_type": "code",
   "execution_count": 17,
   "id": "599a4e0e-01c0-4ded-9681-deefe3596b0a",
   "metadata": {
    "slideshow": {
     "slide_type": "-"
    }
   },
   "outputs": [
    {
     "data": {
      "text/plain": [
       "(3,)"
      ]
     },
     "execution_count": 17,
     "metadata": {},
     "output_type": "execute_result"
    }
   ],
   "source": [
    "arr1.shape"
   ]
  },
  {
   "cell_type": "code",
   "execution_count": 18,
   "id": "6cce8da5-4c4a-4006-bee0-5ec5c7de9719",
   "metadata": {
    "slideshow": {
     "slide_type": "-"
    }
   },
   "outputs": [
    {
     "data": {
      "text/plain": [
       "(3, 3)"
      ]
     },
     "execution_count": 18,
     "metadata": {},
     "output_type": "execute_result"
    }
   ],
   "source": [
    "arr2.shape"
   ]
  },
  {
   "cell_type": "code",
   "execution_count": 19,
   "id": "abfd6cca-84e1-4de6-9d9b-ffea8dd62715",
   "metadata": {
    "slideshow": {
     "slide_type": "-"
    }
   },
   "outputs": [
    {
     "data": {
      "text/plain": [
       "(3, 3, 3)"
      ]
     },
     "execution_count": 19,
     "metadata": {},
     "output_type": "execute_result"
    }
   ],
   "source": [
    "arr3.shape"
   ]
  },
  {
   "cell_type": "markdown",
   "id": "2c4fba0d-dff5-4bff-8542-a2b1171824d7",
   "metadata": {
    "slideshow": {
     "slide_type": "-"
    }
   },
   "source": [
    "👉 Dimensão do Vetor"
   ]
  },
  {
   "cell_type": "code",
   "execution_count": 20,
   "id": "55caf8c6-38dc-41f6-9bb1-be4a1ad8ba95",
   "metadata": {
    "slideshow": {
     "slide_type": "-"
    }
   },
   "outputs": [
    {
     "data": {
      "text/plain": [
       "1"
      ]
     },
     "execution_count": 20,
     "metadata": {},
     "output_type": "execute_result"
    }
   ],
   "source": [
    "arr1.ndim"
   ]
  },
  {
   "cell_type": "code",
   "execution_count": 21,
   "id": "50fa7277-0569-4a11-b01d-9de423239e2f",
   "metadata": {
    "slideshow": {
     "slide_type": "-"
    }
   },
   "outputs": [
    {
     "data": {
      "text/plain": [
       "2"
      ]
     },
     "execution_count": 21,
     "metadata": {},
     "output_type": "execute_result"
    }
   ],
   "source": [
    "arr2.ndim"
   ]
  },
  {
   "cell_type": "code",
   "execution_count": 22,
   "id": "e9e162c1-a112-40dc-83be-f73cc9cbe681",
   "metadata": {
    "slideshow": {
     "slide_type": "-"
    }
   },
   "outputs": [
    {
     "data": {
      "text/plain": [
       "3"
      ]
     },
     "execution_count": 22,
     "metadata": {},
     "output_type": "execute_result"
    }
   ],
   "source": [
    "arr3.ndim"
   ]
  },
  {
   "cell_type": "markdown",
   "id": "5a200010-ed72-4546-a6d6-831b3bae5ab9",
   "metadata": {
    "slideshow": {
     "slide_type": "subslide"
    },
    "tags": []
   },
   "source": [
    "#### Quadro-resumo dos métodos de criação de vetores n-dimensionais"
   ]
  },
  {
   "cell_type": "markdown",
   "id": "14254055-4b1c-418e-b634-6f3b083a61ee",
   "metadata": {
    "slideshow": {
     "slide_type": "-"
    }
   },
   "source": [
    "<table>\n",
    "    <tr><th>Método</th><th>Descrição</th></tr>\n",
    "    <tr><td>array</td><td>Converte os dados de entrada (lista, tupla, array ou outro tipo de sequência) em um ndarray, seja inferindo um dtype ou especificando-o explicitamente; copia os dados de entrada, por padrão</td></tr>\n",
    "    <tr><td>asarray</td><td>Converte a entrada para um ndarray, mas não copia se a entrada já for um ndarray</td></tr>\n",
    "    <tr><td>arange</td><td>Como a função embutida range, porém devolve um ndarray em vez de uma lista</td></tr>\n",
    "    <tr><td>ones, ones_like</td><td>Gera um array somente com 1s, com o formato e o dtype especificados; ones_like aceita outro array e gera um array de 1s com o mesmo formato e o mesmo dtype</td></tr>\n",
    "    <tr><td>zeros, zeros_like</td><td>Como ones e ones_like, porém gerando arrays com 0s</td></tr>\n",
    "    <tr><td>empty, empty_like</td><td>Cria novos arrays alocando nova memória, mas não preenche com nenhum valor, como ones e zeros</td></tr>\n",
    "    <tr><td>full, full_like</td><td>Gera um array com o formato e o dtype especificados, com todos os valores definidos com o \"valor de preenchimento\" indicado. full_like aceita outro array e gera um array preenchido com o mesmo formato e o mesmo dtype</td></tr>\n",
    "    <tr><td>eye, identity</td><td>Cria uma matriz-identidade quadrada N x N (1s na diagonal e 0s nas demais posições)</td></tr>\n",
    "</table>"
   ]
  },
  {
   "cell_type": "markdown",
   "id": "517400fe-183e-4296-9724-e57262a6db76",
   "metadata": {
    "slideshow": {
     "slide_type": "subslide"
    },
    "tags": []
   },
   "source": [
    "#### Quadro-resumo dos tipos de dados"
   ]
  },
  {
   "cell_type": "markdown",
   "id": "3f5ccd11-bd7c-4676-86f4-ed8a578cefc3",
   "metadata": {
    "slideshow": {
     "slide_type": "-"
    }
   },
   "source": [
    "<table>\n",
    "    <tr><th>Tipo de Dado</th><th>Código do Tipo de Dado</th><th>Descrição</th></tr>\n",
    "    <tr><td>int8, uint8</td><td>i1, u1</td><td>Tipos inteiros de 8 bits (1 byte) com e sem sinal</td></tr>\n",
    "    <tr><td>int16, uint16</td><td>i2, u2</td><td>Tipos inteiros de 16 bits com e sem sinal</td></tr>\n",
    "    <tr><td>int32, uint32</td><td>i4, u4</td><td>Tipos inteiros de 32 bits com e sem sinal</td></tr>\n",
    "    <tr><td>int64, uint64</td><td>i8, u8</td><td>Tipos inteiros de 64 bits com e sem sinal</td></tr>\n",
    "    <tr><td>float16</td><td>f2</td><td>Ponto flutuante com metade da precisão</td></tr>\n",
    "    <tr><td>float32</td><td>f4 ou f</td><td>Ponto flutuante padrão com precisão única; compatível com o float de C</td></tr>\n",
    "    <tr><td>float64</td><td>f8 ou d</td><td>Ponto flutuante padrão com dupla precisão; compatível com o double de C e o objeto float de Python</td></tr>\n",
    "    <tr><td>float128</td><td>f16 ou g</td><td>Ponto flutuante com precisão estendida</td></tr>\n",
    "    <tr><td>complex64, complex128, complex256</td><td>c8, c16, c32</td><td>Números complexos representados por dois floats de 32, 64 ou 128, respectivamente</td></tr>\n",
    "    <tr><td>bool</td><td>?</td><td>Tipo booleano que armazena os valores True e False</td></tr>\n",
    "    <tr><td>object</td><td>O</td><td>Tipo objeto de Python; um valor pode ser qualquer objeto Python</td></tr>\n",
    "    <tr><td>string_</td><td>S</td><td>Tipo string ASCII de tamanho fixo (1 byte por caractere); por exemplo, para criar um dtype string com tamanho 1O, utilize 'S10'</td></tr>\n",
    "    <tr><td>unicode_</td><td>U</td><td>Tipo Unicode de tamanho fixo (número de bytes é específico de cada plataforma); a mesma semântica de especificação de string_ (por exemplo, 'U10')</td></tr>\n",
    "</table>"
   ]
  },
  {
   "cell_type": "markdown",
   "id": "ac8c8191-3b99-4e3a-94c9-2401462009b9",
   "metadata": {
    "slideshow": {
     "slide_type": "subslide"
    },
    "tags": []
   },
   "source": [
    "### Operações n-dimensionais 🛠️"
   ]
  },
  {
   "cell_type": "markdown",
   "id": "5034a514-b835-4a3e-9445-6bcbf80050cf",
   "metadata": {
    "slideshow": {
     "slide_type": "-"
    },
    "tags": []
   },
   "source": [
    "#### Aritmética Vetorial 👨🏻‍🏫"
   ]
  },
  {
   "cell_type": "markdown",
   "id": "e6d10588-20b9-417c-8657-a622fa38b8a3",
   "metadata": {
    "slideshow": {
     "slide_type": "-"
    }
   },
   "source": [
    "<pre>O ndarray do NumPy permite vetorização: realizar operações em lotes, sem escrever um laço <i>for</i> </pre>"
   ]
  },
  {
   "cell_type": "markdown",
   "id": "f4e48102-9b67-467c-91d4-29247b56d51e",
   "metadata": {
    "slideshow": {
     "slide_type": "subslide"
    }
   },
   "source": [
    "<pre>Você pode realizar qualquer operação aritmética entre vetores de mesmo tamanho -- a operação será realizada elemento a elemento</pre>"
   ]
  },
  {
   "cell_type": "code",
   "execution_count": 23,
   "id": "4a7c4dff-646d-4061-8a24-b3468fe90965",
   "metadata": {
    "slideshow": {
     "slide_type": "-"
    }
   },
   "outputs": [
    {
     "data": {
      "text/plain": [
       "array([1, 2, 3], dtype=uint8)"
      ]
     },
     "execution_count": 23,
     "metadata": {},
     "output_type": "execute_result"
    }
   ],
   "source": [
    "arr1"
   ]
  },
  {
   "cell_type": "code",
   "execution_count": 24,
   "id": "79ef35f8-2bd0-41df-b461-5bf3411cd397",
   "metadata": {
    "slideshow": {
     "slide_type": "-"
    }
   },
   "outputs": [
    {
     "data": {
      "text/plain": [
       "array([1, 4, 9], dtype=uint8)"
      ]
     },
     "execution_count": 24,
     "metadata": {},
     "output_type": "execute_result"
    }
   ],
   "source": [
    "arr1 * arr1"
   ]
  },
  {
   "cell_type": "code",
   "execution_count": 25,
   "id": "309d89cd-d27b-4354-a289-242be8c5d05f",
   "metadata": {
    "slideshow": {
     "slide_type": "-"
    }
   },
   "outputs": [
    {
     "data": {
      "text/plain": [
       "array([0, 0, 0], dtype=uint8)"
      ]
     },
     "execution_count": 25,
     "metadata": {},
     "output_type": "execute_result"
    }
   ],
   "source": [
    "arr1 - arr1"
   ]
  },
  {
   "cell_type": "markdown",
   "id": "51dacc06-d744-43df-b632-5c2d1f67c84c",
   "metadata": {
    "slideshow": {
     "slide_type": "subslide"
    }
   },
   "source": [
    "<pre>Você pode realizar operações aritméticas com escalares -- a operação com o escalar será realizada a cada elemento do vetor</pre>"
   ]
  },
  {
   "cell_type": "code",
   "execution_count": 26,
   "id": "8e53af67-8f7e-4b2a-9e63-6e2f5cb98f4a",
   "metadata": {
    "slideshow": {
     "slide_type": "-"
    }
   },
   "outputs": [
    {
     "data": {
      "text/plain": [
       "array([1.        , 0.5       , 0.33333333])"
      ]
     },
     "execution_count": 26,
     "metadata": {},
     "output_type": "execute_result"
    }
   ],
   "source": [
    "1 / arr1"
   ]
  },
  {
   "cell_type": "code",
   "execution_count": 27,
   "id": "dcd0ae7a-8069-4268-b557-897a8c142107",
   "metadata": {
    "slideshow": {
     "slide_type": "-"
    }
   },
   "outputs": [
    {
     "data": {
      "text/plain": [
       "array([1, 4, 9], dtype=uint8)"
      ]
     },
     "execution_count": 27,
     "metadata": {},
     "output_type": "execute_result"
    }
   ],
   "source": [
    "arr1 ** 2"
   ]
  },
  {
   "cell_type": "markdown",
   "id": "14d74c7f-a1b3-432d-9ecd-2f7f190f0176",
   "metadata": {
    "slideshow": {
     "slide_type": "-"
    }
   },
   "source": [
    "<pre>Você pode realizar comparações entre vetores de mesmo tamanho -- a operação resultará em vetores booleanos</pre>"
   ]
  },
  {
   "cell_type": "code",
   "execution_count": 28,
   "id": "8e9b86b7-9062-4eec-8ef5-975c3046e143",
   "metadata": {
    "slideshow": {
     "slide_type": "-"
    }
   },
   "outputs": [
    {
     "data": {
      "text/plain": [
       "array([ True,  True,  True])"
      ]
     },
     "execution_count": 28,
     "metadata": {},
     "output_type": "execute_result"
    }
   ],
   "source": [
    "arr1 >= arr1"
   ]
  },
  {
   "cell_type": "code",
   "execution_count": 29,
   "id": "fb2243f2-568b-4d60-a970-6b868a832892",
   "metadata": {
    "slideshow": {
     "slide_type": "-"
    }
   },
   "outputs": [
    {
     "data": {
      "text/plain": [
       "array([False, False, False])"
      ]
     },
     "execution_count": 29,
     "metadata": {},
     "output_type": "execute_result"
    }
   ],
   "source": [
    "arr1 > arr1"
   ]
  },
  {
   "cell_type": "markdown",
   "id": "e4783c57-b262-422e-821c-d472cc4bbd99",
   "metadata": {
    "slideshow": {
     "slide_type": "subslide"
    },
    "tags": []
   },
   "source": [
    "#### Funções Universais 🪐"
   ]
  },
  {
   "cell_type": "markdown",
   "id": "d1a1ba54-e637-4deb-b73b-a58f9cf9937d",
   "metadata": {
    "slideshow": {
     "slide_type": "-"
    }
   },
   "source": [
    "<pre>Uma função universal é uma função que executa operações em todos os elementos do vetor n-dimensional.</pre> "
   ]
  },
  {
   "cell_type": "code",
   "execution_count": 30,
   "id": "6269a139-9050-4c42-8681-266af4e78150",
   "metadata": {
    "slideshow": {
     "slide_type": "-"
    }
   },
   "outputs": [
    {
     "data": {
      "text/plain": [
       "array([1.   , 1.414, 1.732], dtype=float16)"
      ]
     },
     "execution_count": 30,
     "metadata": {},
     "output_type": "execute_result"
    }
   ],
   "source": [
    "np.sqrt(arr1)"
   ]
  },
  {
   "cell_type": "code",
   "execution_count": 31,
   "id": "856d642b-0dea-488d-b49f-61bd753d6be6",
   "metadata": {
    "slideshow": {
     "slide_type": "-"
    }
   },
   "outputs": [
    {
     "data": {
      "text/plain": [
       "array([ 2.719,  7.39 , 20.08 ], dtype=float16)"
      ]
     },
     "execution_count": 31,
     "metadata": {},
     "output_type": "execute_result"
    }
   ],
   "source": [
    "np.exp(arr1)"
   ]
  },
  {
   "cell_type": "markdown",
   "id": "d1ec604a-1e4f-4745-ae88-280f1389bcd4",
   "metadata": {
    "slideshow": {
     "slide_type": "subslide"
    }
   },
   "source": [
    "##### Quadro-resumo das funções universais"
   ]
  },
  {
   "cell_type": "markdown",
   "id": "aec36f37-4e2a-4482-9a14-1d73019b1ea2",
   "metadata": {
    "slideshow": {
     "slide_type": "-"
    }
   },
   "source": [
    "<table>\n",
    "    <tr><th>Função</th><th>Descrição</th></tr>\n",
    "    <tr><td>abs, fabs</td><td>Calcula o valor absoluto de inteiros, números de ponto flutuante e valores complexos para todos os elementos</td></tr>\n",
    "    <tr><td>sqrt</td><td>Calcula a raiz quadrada de cada elemento (equivalente a arr ** 0.5) </td></tr>\n",
    "    <tr><td>square</td><td>Calcula o quadrado de cada elemento (equivalente a arr ** 2)</td></tr>\n",
    "    <tr><td>exp</td><td>Calcula o exponencial ex de cada elemento</td></tr>\n",
    "    <tr><td>log, log10, log2, log1p</td><td>Logaritmo natural (base e), log na base 10, log na base 2 e log (1 + x), respectivamente</td></tr>\n",
    "    <tr><td>sign</td><td>Calcula o sinal de cada elemento: 1 (positivo), O (zero) ou -1 (negativo)</td></tr>\n",
    "    <tr><td>ceil</td><td>Calcula o teto de cada elemento (isto é, o menor inteiro maior ou igual ao número)</td></tr>\n",
    "    <tr><td>floor</td><td>Calcula o piso de cada elemento (isto é, o maior inteiro menor ou igual ao elemente)</td></tr>\n",
    "    <tr><td>rint</td><td>Arredonda os elementos para o inteiro mais próximo, preservando o dtype</td></tr>\n",
    "    <tr><td>modf</td><td>Devolve as partes fracionária e inteira do array como um array separado</td></tr>\n",
    "    <tr><td>isnan</td><td>Devolve um array booleano indicando se cada valor é NaN (Not a Number)</td></tr>\n",
    "    <tr><td>isfinite, isinf</td><td>Devolve um array booleano indicando se cada elemento é finito (não inf, não NaN) ou infinito, respectivamente</td></tr>\n",
    "    <tr><td>cos, cosh, sin, sinh, tan, tanh</td><td>Funções trigonométricas regulares e hiperbólicas</td></tr>\n",
    "    <tr><td>arccos, arccosh, arcsin, arcsinh, arctan, arctanh</td><td>Funções trigonométricas inversas</td></tr>\n",
    "    <tr><td>logical_not</td><td>Calcula o valor-verdade de not x para todos os elementos (equivalente a-arr). </td></tr>\n",
    "    <tr><td>add</td><td>Soma elementos correspondentes em arrays</td></tr>\n",
    "    <tr><td>subtract</td><td>Subtrai elementos do segundo array do primeiro</td></tr>\n",
    "    <tr><td>multiply</td><td>Multiplica elementos do array</td></tr>\n",
    "    <tr><td>divide, floor-divide</td><td>Faz a divisão ou a divisão pelo piso (truncando o resto)</td></tr>\n",
    "    <tr><td>power</td><td>Eleva os elementos do primeiro array às potências indicadas no segundo array</td></tr>\n",
    "    <tr><td>maximum, fmax</td><td>Máximo para todos os elementos; fmax ignora NaN</td></tr>\n",
    "    <tr><td>minimum, fmin</td><td>Mínimo para todos os elementos; fmin ignora NaN</td></tr>\n",
    "    <tr><td>mod</td><td>Módulo para todos os elementos (resto da divisão)</td></tr>\n",
    "    <tr><td>copysign</td><td>Copia o sinal dos valores do segundo argumento para os valores do primeiro argumento</td></tr>\n",
    "    <tr><td>greater, greater_equal, less, less_equal, equal, not_equal</td><td>Faz uma comparação para todos os elementos, produzindo um array booleano (equivalente aos operadores infixos >, >=, <, <=, ==, !=)</td></tr>\n",
    "    <tr><td>logical_and, logical_or, logical_xor</td><td>Calcula o valor-verdade da operação lógica (equivalente aos operadores infixos &, |, ^) para todos os elementos</td></tr>\n",
    "</table>"
   ]
  },
  {
   "cell_type": "markdown",
   "id": "9e04d844-e122-4785-8899-9fe5a8a21f23",
   "metadata": {
    "slideshow": {
     "slide_type": "subslide"
    },
    "tags": []
   },
   "source": [
    "#### Fatiamento Vetorial 🔪"
   ]
  },
  {
   "cell_type": "markdown",
   "id": "eea3436c-ad59-4538-8933-8bdf903295ab",
   "metadata": {
    "slideshow": {
     "slide_type": "-"
    }
   },
   "source": [
    "<pre>Você pode fatiar vetores 1-dimensionais -- da mesma forma que em Python nativo ---,</pre>"
   ]
  },
  {
   "cell_type": "code",
   "execution_count": 32,
   "id": "0553e931-7997-4f14-a295-a33350aadbc2",
   "metadata": {
    "slideshow": {
     "slide_type": "-"
    }
   },
   "outputs": [
    {
     "data": {
      "text/plain": [
       "array([1, 2, 3], dtype=uint8)"
      ]
     },
     "execution_count": 32,
     "metadata": {},
     "output_type": "execute_result"
    }
   ],
   "source": [
    "arr1"
   ]
  },
  {
   "cell_type": "code",
   "execution_count": 33,
   "id": "0c7d584c-a25e-4426-9c75-b3d2d5fcd20c",
   "metadata": {
    "slideshow": {
     "slide_type": "-"
    }
   },
   "outputs": [
    {
     "data": {
      "text/plain": [
       "1"
      ]
     },
     "execution_count": 33,
     "metadata": {},
     "output_type": "execute_result"
    }
   ],
   "source": [
    "arr1[0]"
   ]
  },
  {
   "cell_type": "code",
   "execution_count": 34,
   "id": "f57caab9-8504-4dac-8464-64828c8b9a44",
   "metadata": {
    "slideshow": {
     "slide_type": "-"
    }
   },
   "outputs": [
    {
     "data": {
      "text/plain": [
       "array([1, 2], dtype=uint8)"
      ]
     },
     "execution_count": 34,
     "metadata": {},
     "output_type": "execute_result"
    }
   ],
   "source": [
    "arr1[0:2]"
   ]
  },
  {
   "cell_type": "markdown",
   "id": "79970a15-f537-4cb1-85a6-e64a9edf8de5",
   "metadata": {
    "slideshow": {
     "slide_type": "subslide"
    }
   },
   "source": [
    "<pre>e inclusive compor a atribuição de um escalar que será realizada a cada elemento do vetor</pre>"
   ]
  },
  {
   "cell_type": "code",
   "execution_count": 35,
   "id": "43f0e945-ff97-42bb-9795-1c191fea64e9",
   "metadata": {
    "slideshow": {
     "slide_type": "-"
    }
   },
   "outputs": [],
   "source": [
    "arr1[0:2] = 12"
   ]
  },
  {
   "cell_type": "code",
   "execution_count": 36,
   "id": "54720069-4edd-4b48-85c5-00ce6d9a01da",
   "metadata": {
    "slideshow": {
     "slide_type": "-"
    }
   },
   "outputs": [
    {
     "data": {
      "text/plain": [
       "array([12, 12,  3], dtype=uint8)"
      ]
     },
     "execution_count": 36,
     "metadata": {},
     "output_type": "execute_result"
    }
   ],
   "source": [
    "arr1"
   ]
  },
  {
   "cell_type": "markdown",
   "id": "daa8de2a-a453-4176-b2aa-daa3435cbd16",
   "metadata": {
    "slideshow": {
     "slide_type": "subslide"
    }
   },
   "source": [
    "<pre>Você pode fatiar vetores 2-bidimensionais -- note que não há <b>todas</b> essas opções em Python nativo</pre>"
   ]
  },
  {
   "cell_type": "code",
   "execution_count": 37,
   "id": "fea9ae76-f3d7-4428-9927-f1b6c0c1d5a4",
   "metadata": {
    "slideshow": {
     "slide_type": "-"
    }
   },
   "outputs": [
    {
     "data": {
      "text/plain": [
       "array([[1, 2, 3],\n",
       "       [1, 2, 3],\n",
       "       [1, 2, 3]])"
      ]
     },
     "execution_count": 37,
     "metadata": {},
     "output_type": "execute_result"
    }
   ],
   "source": [
    "arr2"
   ]
  },
  {
   "cell_type": "code",
   "execution_count": 38,
   "id": "33d7f6bf-9858-43d1-9b73-e4af1bfba6f3",
   "metadata": {
    "slideshow": {
     "slide_type": "-"
    }
   },
   "outputs": [
    {
     "data": {
      "text/plain": [
       "array([1, 2, 3])"
      ]
     },
     "execution_count": 38,
     "metadata": {},
     "output_type": "execute_result"
    }
   ],
   "source": [
    "arr2[0]"
   ]
  },
  {
   "cell_type": "code",
   "execution_count": 39,
   "id": "c555a039-5feb-43b0-a2a7-56e028fa26d8",
   "metadata": {
    "slideshow": {
     "slide_type": "-"
    }
   },
   "outputs": [
    {
     "data": {
      "text/plain": [
       "array([[1, 2, 3],\n",
       "       [1, 2, 3]])"
      ]
     },
     "execution_count": 39,
     "metadata": {},
     "output_type": "execute_result"
    }
   ],
   "source": [
    "arr2[0:2]"
   ]
  },
  {
   "cell_type": "code",
   "execution_count": 40,
   "id": "94768042-9a57-4755-97a8-1c79182d7cc9",
   "metadata": {
    "slideshow": {
     "slide_type": "-"
    }
   },
   "outputs": [
    {
     "data": {
      "text/plain": [
       "array([[1, 2, 3],\n",
       "       [1, 2, 3]])"
      ]
     },
     "execution_count": 40,
     "metadata": {},
     "output_type": "execute_result"
    }
   ],
   "source": [
    "arr2[0:2,:]"
   ]
  },
  {
   "cell_type": "code",
   "execution_count": 41,
   "id": "2878a59c-3205-4884-a855-d4f6f162ff52",
   "metadata": {
    "slideshow": {
     "slide_type": "-"
    }
   },
   "outputs": [
    {
     "data": {
      "text/plain": [
       "array([[1, 2],\n",
       "       [1, 2]])"
      ]
     },
     "execution_count": 41,
     "metadata": {},
     "output_type": "execute_result"
    }
   ],
   "source": [
    "arr2[0:2,0:2]"
   ]
  },
  {
   "cell_type": "markdown",
   "id": "cae28af7-b9ab-43ca-bdc6-9bb5d4acf51e",
   "metadata": {
    "slideshow": {
     "slide_type": "subslide"
    }
   },
   "source": [
    "<pre>mais exemplos...</pre>"
   ]
  },
  {
   "cell_type": "markdown",
   "id": "6486d945-f34b-41c0-9acf-d28e8766304f",
   "metadata": {
    "slideshow": {
     "slide_type": "-"
    }
   },
   "source": [
    "<img src=\"https://www.oreilly.com/api/v2/epubs/9781449323592/files/httpatomoreillycomsourceoreillyimages2172114.png\" width=\"300\" style=\"float: left;\">"
   ]
  },
  {
   "cell_type": "markdown",
   "id": "bc2ebb71-b7f8-4040-aac1-5dad3f03f9b2",
   "metadata": {
    "slideshow": {
     "slide_type": "subslide"
    }
   },
   "source": [
    "<pre>em python nativo, as fatias são cópias...</pre>"
   ]
  },
  {
   "cell_type": "code",
   "execution_count": 42,
   "id": "2265bcfd-964c-4efd-b739-7cea67fa9d9d",
   "metadata": {
    "slideshow": {
     "slide_type": "-"
    }
   },
   "outputs": [
    {
     "data": {
      "text/plain": [
       "[1, 2, 3]"
      ]
     },
     "execution_count": 42,
     "metadata": {},
     "output_type": "execute_result"
    }
   ],
   "source": [
    "data1"
   ]
  },
  {
   "cell_type": "code",
   "execution_count": 43,
   "id": "35a46f52-6afc-4979-b072-a83441a6527b",
   "metadata": {
    "slideshow": {
     "slide_type": "-"
    }
   },
   "outputs": [
    {
     "data": {
      "text/plain": [
       "[3, 3, 3]"
      ]
     },
     "execution_count": 43,
     "metadata": {},
     "output_type": "execute_result"
    }
   ],
   "source": [
    "data1_copy = data1[:]\n",
    "data1_copy[:] = [3,3,3]\n",
    "data1_copy"
   ]
  },
  {
   "cell_type": "code",
   "execution_count": 44,
   "id": "39beda16-9019-4664-9587-d386faf2008f",
   "metadata": {
    "slideshow": {
     "slide_type": "-"
    }
   },
   "outputs": [
    {
     "data": {
      "text/plain": [
       "[1, 2, 3]"
      ]
     },
     "execution_count": 44,
     "metadata": {},
     "output_type": "execute_result"
    }
   ],
   "source": [
    "data1"
   ]
  },
  {
   "cell_type": "markdown",
   "id": "808db3a7-0ccc-45f6-83f9-38fbbee60f31",
   "metadata": {
    "slideshow": {
     "slide_type": "subslide"
    }
   },
   "source": [
    "<pre>... e em NumPy, as fatias são visualizações.</pre>"
   ]
  },
  {
   "cell_type": "code",
   "execution_count": 45,
   "id": "3d678370-68f6-477c-8812-914c2abd4a90",
   "metadata": {
    "slideshow": {
     "slide_type": "-"
    }
   },
   "outputs": [
    {
     "data": {
      "text/plain": [
       "array([12, 12,  3], dtype=uint8)"
      ]
     },
     "execution_count": 45,
     "metadata": {},
     "output_type": "execute_result"
    }
   ],
   "source": [
    "arr1"
   ]
  },
  {
   "cell_type": "code",
   "execution_count": 46,
   "id": "312bcfb7-6d31-4396-9751-adea407cd051",
   "metadata": {
    "slideshow": {
     "slide_type": "-"
    }
   },
   "outputs": [
    {
     "data": {
      "text/plain": [
       "array([3, 3, 3], dtype=uint8)"
      ]
     },
     "execution_count": 46,
     "metadata": {},
     "output_type": "execute_result"
    }
   ],
   "source": [
    "arr1_copy = arr1[:]\n",
    "arr1_copy[:] = [3,3,3]\n",
    "arr1_copy"
   ]
  },
  {
   "cell_type": "code",
   "execution_count": 47,
   "id": "a1a37718-7609-4def-94e6-12e6c00ea903",
   "metadata": {
    "slideshow": {
     "slide_type": "-"
    }
   },
   "outputs": [
    {
     "data": {
      "text/plain": [
       "array([3, 3, 3], dtype=uint8)"
      ]
     },
     "execution_count": 47,
     "metadata": {},
     "output_type": "execute_result"
    }
   ],
   "source": [
    "arr1"
   ]
  },
  {
   "cell_type": "markdown",
   "id": "1750b19d-e63e-4c78-b97e-b20822f44e22",
   "metadata": {
    "slideshow": {
     "slide_type": "subslide"
    }
   },
   "source": [
    "<pre>No entanto, você pode mudar o comportamento em NumPy utilizando a função copy()</pre>"
   ]
  },
  {
   "cell_type": "code",
   "execution_count": 48,
   "id": "693be77c-18a2-40ad-b14d-5384972fb840",
   "metadata": {
    "slideshow": {
     "slide_type": "-"
    }
   },
   "outputs": [],
   "source": [
    "arr1 = np.array([1,2,3], np.uint8)"
   ]
  },
  {
   "cell_type": "code",
   "execution_count": 49,
   "id": "7deea20e-fa4b-46d2-904f-614d4c0b70de",
   "metadata": {
    "slideshow": {
     "slide_type": "-"
    }
   },
   "outputs": [
    {
     "data": {
      "text/plain": [
       "array([3, 3, 3], dtype=uint8)"
      ]
     },
     "execution_count": 49,
     "metadata": {},
     "output_type": "execute_result"
    }
   ],
   "source": [
    "arr1_copy = arr1[:].copy()\n",
    "arr1_copy[:] = [3,3,3]\n",
    "arr1_copy"
   ]
  },
  {
   "cell_type": "code",
   "execution_count": 50,
   "id": "84f9a35f-bca9-4bdb-9099-bde37ace0f65",
   "metadata": {
    "slideshow": {
     "slide_type": "-"
    }
   },
   "outputs": [
    {
     "data": {
      "text/plain": [
       "array([1, 2, 3], dtype=uint8)"
      ]
     },
     "execution_count": 50,
     "metadata": {},
     "output_type": "execute_result"
    }
   ],
   "source": [
    "arr1"
   ]
  },
  {
   "cell_type": "markdown",
   "id": "4ae08694-5d47-4424-84a3-08bb28729fcc",
   "metadata": {
    "slideshow": {
     "slide_type": "subslide"
    },
    "tags": []
   },
   "source": [
    "#### Métodos Matemáticos e Estatísticos 👩‍🏫"
   ]
  },
  {
   "cell_type": "markdown",
   "id": "7c6abf02-4a03-468b-a82b-aead2c852621",
   "metadata": {
    "slideshow": {
     "slide_type": "-"
    }
   },
   "source": [
    "<img src=\"https://upload.wikimedia.org/wikipedia/pt/c/cd/Nazar%C3%A9_Confusa.jpg\" width=\"300\" style=\"float: right;\">"
   ]
  },
  {
   "cell_type": "markdown",
   "id": "0716efec-bede-476c-9650-9bce445e1091",
   "metadata": {
    "slideshow": {
     "slide_type": "subslide"
    }
   },
   "source": [
    "<ul>\n",
    "    <li>Um conjunto de funções matemáticas é acessível por meio de métodos do vetor n-dimensional e permite\n",
    "        <ul>\n",
    "            <li>calcular estatísticas sobre um vetor (inteiro) ou</li>\n",
    "            <li>calcular estatísticas sobre os dados ao longo de um eixo.</li>\n",
    "        </ul>\n",
    "    </li>\n",
    "    <li>Você pode usar agregações (com frequência chamadas de reduções), como sum, mean e std (desvio-padrão)</li>\n",
    "</ul>"
   ]
  },
  {
   "cell_type": "markdown",
   "id": "9607847f-af2a-4157-975f-060e2be7e8e7",
   "metadata": {
    "slideshow": {
     "slide_type": "-"
    }
   },
   "source": [
    "<img src=\"https://www.oreilly.com/api/v2/epubs/9781491922927/files/assets/elsp_0105.png\" width=\"300\" style=\"float: left;\">"
   ]
  },
  {
   "cell_type": "code",
   "execution_count": 51,
   "id": "496c4db6-5365-4cb0-bd6e-6aa842de2a46",
   "metadata": {
    "slideshow": {
     "slide_type": "subslide"
    }
   },
   "outputs": [
    {
     "data": {
      "text/plain": [
       "array([[[1, 2, 3],\n",
       "        [1, 2, 3],\n",
       "        [1, 2, 3]],\n",
       "\n",
       "       [[1, 2, 3],\n",
       "        [1, 2, 3],\n",
       "        [1, 2, 3]],\n",
       "\n",
       "       [[1, 2, 3],\n",
       "        [1, 2, 3],\n",
       "        [1, 2, 3]]])"
      ]
     },
     "execution_count": 51,
     "metadata": {},
     "output_type": "execute_result"
    }
   ],
   "source": [
    "arr3"
   ]
  },
  {
   "cell_type": "markdown",
   "id": "7dbb40f5-ac6d-4a7d-af16-b931169e43dc",
   "metadata": {
    "slideshow": {
     "slide_type": "-"
    }
   },
   "source": [
    "<pre>Você pode calcular a média do vetor 3-dimensional</pre>"
   ]
  },
  {
   "cell_type": "code",
   "execution_count": 52,
   "id": "f1e6d260-5d58-4a93-b4c2-db76562c047e",
   "metadata": {
    "slideshow": {
     "slide_type": "-"
    }
   },
   "outputs": [
    {
     "data": {
      "text/plain": [
       "2.0"
      ]
     },
     "execution_count": 52,
     "metadata": {},
     "output_type": "execute_result"
    }
   ],
   "source": [
    "arr3.mean()"
   ]
  },
  {
   "cell_type": "markdown",
   "id": "aedfbc37-3e71-46ce-8e4c-9aa1b2cc1a8c",
   "metadata": {
    "slideshow": {
     "slide_type": "subslide"
    }
   },
   "source": [
    "<pre>Você pode calcular a média ao longo das linhas do vetor 3-dimensional...</pre>"
   ]
  },
  {
   "cell_type": "code",
   "execution_count": 53,
   "id": "7dfa0646-d830-4eda-8874-332c4c01e2af",
   "metadata": {
    "slideshow": {
     "slide_type": "-"
    }
   },
   "outputs": [
    {
     "data": {
      "text/plain": [
       "array([[1., 2., 3.],\n",
       "       [1., 2., 3.],\n",
       "       [1., 2., 3.]])"
      ]
     },
     "execution_count": 53,
     "metadata": {},
     "output_type": "execute_result"
    }
   ],
   "source": [
    "arr3.mean(axis=0)"
   ]
  },
  {
   "cell_type": "markdown",
   "id": "57e44094-9717-49b0-b24a-82423c9b276a",
   "metadata": {
    "slideshow": {
     "slide_type": "-"
    }
   },
   "source": [
    "<pre>... que equivale ao cálculo a seguir.</pre>"
   ]
  },
  {
   "cell_type": "code",
   "execution_count": 54,
   "id": "0fadc21d-371b-4c86-af9d-ceb1722597f8",
   "metadata": {
    "slideshow": {
     "slide_type": "-"
    }
   },
   "outputs": [
    {
     "data": {
      "text/plain": [
       "array([[1., 2., 3.],\n",
       "       [1., 2., 3.],\n",
       "       [1., 2., 3.]])"
      ]
     },
     "execution_count": 54,
     "metadata": {},
     "output_type": "execute_result"
    }
   ],
   "source": [
    "(arr3[0,:,:] + arr3[1,:,:] + arr3[2,:,:])/3"
   ]
  },
  {
   "cell_type": "markdown",
   "id": "476ebecc-7ce9-4ca9-a042-2bf4844d7748",
   "metadata": {
    "slideshow": {
     "slide_type": "subslide"
    }
   },
   "source": [
    "<pre>Você pode calcular a média ao longo das colunas do vetor 3-dimensional...</pre>"
   ]
  },
  {
   "cell_type": "code",
   "execution_count": 55,
   "id": "4497466f-6244-4b09-be5f-c9ad0e331a68",
   "metadata": {
    "slideshow": {
     "slide_type": "-"
    }
   },
   "outputs": [
    {
     "data": {
      "text/plain": [
       "array([[1., 2., 3.],\n",
       "       [1., 2., 3.],\n",
       "       [1., 2., 3.]])"
      ]
     },
     "execution_count": 55,
     "metadata": {},
     "output_type": "execute_result"
    }
   ],
   "source": [
    "arr3.mean(axis=1)"
   ]
  },
  {
   "cell_type": "markdown",
   "id": "5fbed628-3db3-45ae-bdc5-55f0be333c29",
   "metadata": {
    "slideshow": {
     "slide_type": "-"
    }
   },
   "source": [
    "<pre>... que equivale ao cálculo a seguir.</pre>"
   ]
  },
  {
   "cell_type": "code",
   "execution_count": 56,
   "id": "5a7840a3-9d80-461e-926d-23de6b5128b5",
   "metadata": {
    "slideshow": {
     "slide_type": "-"
    }
   },
   "outputs": [
    {
     "data": {
      "text/plain": [
       "array([[1., 2., 3.],\n",
       "       [1., 2., 3.],\n",
       "       [1., 2., 3.]])"
      ]
     },
     "execution_count": 56,
     "metadata": {},
     "output_type": "execute_result"
    }
   ],
   "source": [
    "(arr3[:,0,:] + arr3[:,1,:] + arr3[:,2,:])/3"
   ]
  },
  {
   "cell_type": "markdown",
   "id": "7cc46d93-9542-489e-8ccd-9bbf927c8a2b",
   "metadata": {
    "slideshow": {
     "slide_type": "subslide"
    }
   },
   "source": [
    "<pre>Você pode calcular a média ao longo das profundidades do vetor 3-dimensional...</pre>"
   ]
  },
  {
   "cell_type": "code",
   "execution_count": 57,
   "id": "ce952fe8-c12c-481e-8854-d564128dff4f",
   "metadata": {
    "slideshow": {
     "slide_type": "-"
    }
   },
   "outputs": [
    {
     "data": {
      "text/plain": [
       "array([[2., 2., 2.],\n",
       "       [2., 2., 2.],\n",
       "       [2., 2., 2.]])"
      ]
     },
     "execution_count": 57,
     "metadata": {},
     "output_type": "execute_result"
    }
   ],
   "source": [
    "arr3.mean(axis=2)"
   ]
  },
  {
   "cell_type": "markdown",
   "id": "429d45aa-a91c-44e8-9167-a2f1fd1b0a51",
   "metadata": {
    "slideshow": {
     "slide_type": "-"
    }
   },
   "source": [
    "<pre>... que equivale ao cálculo a seguir.</pre>"
   ]
  },
  {
   "cell_type": "code",
   "execution_count": 58,
   "id": "bcb633e4-1e5b-41aa-b0bb-2655c6ff5f56",
   "metadata": {
    "slideshow": {
     "slide_type": "-"
    }
   },
   "outputs": [
    {
     "data": {
      "text/plain": [
       "array([[2., 2., 2.],\n",
       "       [2., 2., 2.],\n",
       "       [2., 2., 2.]])"
      ]
     },
     "execution_count": 58,
     "metadata": {},
     "output_type": "execute_result"
    }
   ],
   "source": [
    "(arr3[:,:,0] + arr3[:,:,1] + arr3[:,:,2])/3"
   ]
  },
  {
   "cell_type": "markdown",
   "id": "20c0650a-9b7a-4f93-888b-0bde653f9453",
   "metadata": {
    "slideshow": {
     "slide_type": "subslide"
    },
    "tags": []
   },
   "source": [
    "##### Quadro-resumo dos métodos estatísticos básicos"
   ]
  },
  {
   "cell_type": "markdown",
   "id": "f358bff8-0db5-4eb1-8068-e277efecd361",
   "metadata": {
    "slideshow": {
     "slide_type": "-"
    }
   },
   "source": [
    "<table>\n",
    "    <tr><th>Método</th><th>Descrição</th></tr>\n",
    "    <tr><td>sum</td><td>Soma de todos os elementos do array ou ao longo de um eixo; arrays de tamanho zero têm soma igual a O</td></tr>\n",
    "    <tr><td>mean</td><td>Média aritmética; arrays de tamanho zero têm média NaN</td></tr>\n",
    "    <tr><td>std, var</td><td>Desvio-padrão e variância, respectivamente, com graus opcionais de ajuste de liberdade (denominador padrão é n)</td></tr>\n",
    "    <tr><td>min, max</td><td>Mínimo e máximo</td></tr>\n",
    "    <tr><td>argmin, argmax</td><td>Índices dos elementos mínimo e máximo, respectivamente</td></tr>\n",
    "    <tr><td>cumsum</td><td>Soma cumulativa dos elementos, começando de O</td></tr>\n",
    "    <tr><td>cumprod</td><td>Produto cumulativo dos elementos, começando de 1</td></tr>\n",
    "</table>"
   ]
  },
  {
   "cell_type": "markdown",
   "id": "c2ee8eac-5c67-4700-942a-cb2200d9f470",
   "metadata": {
    "slideshow": {
     "slide_type": "subslide"
    },
    "tags": []
   },
   "source": [
    "#### Indexação Booleana 🗂️"
   ]
  },
  {
   "cell_type": "markdown",
   "id": "d27467a0-5efb-4399-9def-7d1648092e0e",
   "metadata": {
    "slideshow": {
     "slide_type": "-"
    }
   },
   "source": [
    "<pre>Lembre-se que você pode realizar operações aritméticas com escalares; igualmente é possível com comparações</pre>"
   ]
  },
  {
   "cell_type": "code",
   "execution_count": 59,
   "id": "3327bfc4-b2fd-4435-a268-0f811bf298c2",
   "metadata": {
    "slideshow": {
     "slide_type": "-"
    }
   },
   "outputs": [],
   "source": [
    "names = np.array(['Bob', 'Joe', 'Will', 'Bob', 'Will', 'Joe', 'Joe'])"
   ]
  },
  {
   "cell_type": "code",
   "execution_count": 60,
   "id": "bb0afbfc-4518-491d-9425-9dd1c1e41725",
   "metadata": {
    "slideshow": {
     "slide_type": "-"
    }
   },
   "outputs": [
    {
     "data": {
      "text/plain": [
       "array([ True, False, False,  True, False, False, False])"
      ]
     },
     "execution_count": 60,
     "metadata": {},
     "output_type": "execute_result"
    }
   ],
   "source": [
    "condition = (names == 'Bob')\n",
    "condition"
   ]
  },
  {
   "cell_type": "markdown",
   "id": "228007be-ca02-4d76-821d-7559166f3c67",
   "metadata": {
    "slideshow": {
     "slide_type": "-"
    }
   },
   "source": [
    "<pre>Você pode passar o vetor de booleanos para filtrar os elementos do vetor...</pre>"
   ]
  },
  {
   "cell_type": "code",
   "execution_count": 61,
   "id": "07883db5-01af-49b7-bc3e-6bc721410e6d",
   "metadata": {
    "slideshow": {
     "slide_type": "-"
    }
   },
   "outputs": [
    {
     "data": {
      "text/plain": [
       "array(['Bob', 'Bob'], dtype='<U4')"
      ]
     },
     "execution_count": 61,
     "metadata": {},
     "output_type": "execute_result"
    }
   ],
   "source": [
    "names[condition]"
   ]
  },
  {
   "cell_type": "markdown",
   "id": "51be7387-1cc7-4da0-8b1c-682f712f0a69",
   "metadata": {
    "slideshow": {
     "slide_type": "subslide"
    }
   },
   "source": [
    "<pre>e pode inclusive realizar operações no vetor de booleanos utilizados para filtrar os elementos do vetor</pre>"
   ]
  },
  {
   "cell_type": "markdown",
   "id": "0fd0f70b-0215-45fd-bb2f-a45c513f41f7",
   "metadata": {
    "slideshow": {
     "slide_type": "-"
    }
   },
   "source": [
    "<pre>Não use <b>not</b>, use <b>~</b></pre>"
   ]
  },
  {
   "cell_type": "code",
   "execution_count": 62,
   "id": "b821fce8-aeac-49e4-a221-251cbde9d228",
   "metadata": {
    "slideshow": {
     "slide_type": "-"
    }
   },
   "outputs": [
    {
     "data": {
      "text/plain": [
       "array([False,  True,  True, False,  True,  True,  True])"
      ]
     },
     "execution_count": 62,
     "metadata": {},
     "output_type": "execute_result"
    }
   ],
   "source": [
    "condition = ~condition\n",
    "condition"
   ]
  },
  {
   "cell_type": "code",
   "execution_count": 63,
   "id": "652a616d-0440-4fd3-89f2-77fc29e790ef",
   "metadata": {
    "slideshow": {
     "slide_type": "-"
    }
   },
   "outputs": [
    {
     "data": {
      "text/plain": [
       "array(['Joe', 'Will', 'Will', 'Joe', 'Joe'], dtype='<U4')"
      ]
     },
     "execution_count": 63,
     "metadata": {},
     "output_type": "execute_result"
    }
   ],
   "source": [
    "names[condition]"
   ]
  },
  {
   "cell_type": "markdown",
   "id": "cdd3cf2d-335e-422b-9f19-b048a5bd6baa",
   "metadata": {
    "slideshow": {
     "slide_type": "subslide"
    }
   },
   "source": [
    "<pre>Não use <b>or</b>, use <b>|</b></pre>"
   ]
  },
  {
   "cell_type": "markdown",
   "id": "9c7607df-6e5b-418e-94e4-26480ae6bcf0",
   "metadata": {
    "slideshow": {
     "slide_type": "-"
    }
   },
   "source": [
    "👉 dica: sempre utilize parênteses para realizar operações lógicas com vetores de booleanos"
   ]
  },
  {
   "cell_type": "code",
   "execution_count": 64,
   "id": "d4ca644f-2b1f-4d7a-8159-d1e7398e24ea",
   "metadata": {
    "slideshow": {
     "slide_type": "-"
    }
   },
   "outputs": [
    {
     "data": {
      "text/plain": [
       "array([ True, False,  True,  True,  True, False, False])"
      ]
     },
     "execution_count": 64,
     "metadata": {},
     "output_type": "execute_result"
    }
   ],
   "source": [
    "condition = (names == 'Bob') | (names == 'Will')\n",
    "condition"
   ]
  },
  {
   "cell_type": "code",
   "execution_count": 65,
   "id": "071a0ec8-163d-4d72-8a86-e76ab9edc431",
   "metadata": {
    "slideshow": {
     "slide_type": "-"
    }
   },
   "outputs": [
    {
     "data": {
      "text/plain": [
       "array(['Bob', 'Will', 'Bob', 'Will'], dtype='<U4')"
      ]
     },
     "execution_count": 65,
     "metadata": {},
     "output_type": "execute_result"
    }
   ],
   "source": [
    "names[condition]"
   ]
  },
  {
   "cell_type": "markdown",
   "id": "9c3a9c98-a335-4276-adfe-a9424da127cd",
   "metadata": {
    "slideshow": {
     "slide_type": "subslide"
    }
   },
   "source": [
    "<pre>Não use <b>and</b>, use <b>&</b></pre>"
   ]
  },
  {
   "cell_type": "code",
   "execution_count": 66,
   "id": "6ffd94e1-b9c9-44a6-8a03-2c9e8278cfa5",
   "metadata": {
    "slideshow": {
     "slide_type": "-"
    }
   },
   "outputs": [
    {
     "data": {
      "text/plain": [
       "array([False, False, False, False, False, False, False])"
      ]
     },
     "execution_count": 66,
     "metadata": {},
     "output_type": "execute_result"
    }
   ],
   "source": [
    "condition = (names == 'Bob') & (names == 'Will')\n",
    "condition"
   ]
  },
  {
   "cell_type": "code",
   "execution_count": 67,
   "id": "8a50c3d1-3573-4a3c-8090-9188d9677c02",
   "metadata": {
    "slideshow": {
     "slide_type": "-"
    }
   },
   "outputs": [
    {
     "data": {
      "text/plain": [
       "array([], dtype='<U4')"
      ]
     },
     "execution_count": 67,
     "metadata": {},
     "output_type": "execute_result"
    }
   ],
   "source": [
    "names[condition]"
   ]
  },
  {
   "cell_type": "markdown",
   "id": "32cfbece-d50c-42cf-acfb-45e32ab80af8",
   "metadata": {
    "slideshow": {
     "slide_type": "subslide"
    }
   },
   "source": [
    "<ul>\n",
    "    <li>Limitações do NumPy:</li>\n",
    "        <ul>\n",
    "            <li>Não há suporte para nomes de colunas;</li>\n",
    "            <li>NumPy é desenhado para trabalhar com dados homogêneos (apenas um tipo de dados por vetor n-dimensional!); e</li>\n",
    "            <li>Ausência de métodos úteis de processamento.</li>\n",
    "        </ul>\n",
    "    <li>Na próxima aula, veremos uma biblioteca baseada em NumPy para resolver essas limitações: Pandas 🐼</li>\n",
    "</ul>"
   ]
  },
  {
   "cell_type": "markdown",
   "id": "7a0553c9-ea43-47d8-87da-361e78588999",
   "metadata": {
    "slideshow": {
     "slide_type": "slide"
    },
    "tags": []
   },
   "source": [
    "## Juntando as Peças 🧩"
   ]
  },
  {
   "cell_type": "markdown",
   "id": "3189d231-3aa1-480d-86ed-11a277c3d6cd",
   "metadata": {
    "slideshow": {
     "slide_type": "-"
    },
    "tags": []
   },
   "source": [
    "### (Fontes de Dados 🚰 ➕ Manipulação 🪡) <sup>Alto Desempenho 🚀 🧞‍♂️</sup>"
   ]
  },
  {
   "cell_type": "markdown",
   "id": "fddcbee2-06f8-494b-b399-e11b77954918",
   "metadata": {
    "slideshow": {
     "slide_type": "subslide"
    },
    "tags": []
   },
   "source": [
    "### Funções Auxiliares"
   ]
  },
  {
   "cell_type": "code",
   "execution_count": 68,
   "id": "4e50ff55",
   "metadata": {
    "slideshow": {
     "slide_type": "-"
    },
    "tags": []
   },
   "outputs": [],
   "source": [
    "import csv, os\n",
    "\n",
    "def build_path(subfolder = 'raw', filename = ''):\n",
    "    folderpath = os.path.join(os.getcwd(), os.pardir, \n",
    "                              'project', 'data', subfolder)\n",
    "    folderpath = os.path.abspath(folderpath)\n",
    "    if not os.path.exists(folderpath): \n",
    "        os.makedirs(folderpath)\n",
    "    return folderpath"
   ]
  },
  {
   "cell_type": "code",
   "execution_count": 69,
   "id": "62dc9ee2-417f-4d9c-91e0-ea5b93ce9664",
   "metadata": {
    "slideshow": {
     "slide_type": "subslide"
    },
    "tags": []
   },
   "outputs": [],
   "source": [
    "def covid_infections_and_deaths(\n",
    "        filename = 'ALL_HIST_PAINEL_COVID.csv'):\n",
    "    filepath = os.path.join(build_path(), filename)\n",
    "    \n",
    "    covid_infections_and_deaths_data = []\n",
    "    with open(filepath) as csvfile:\n",
    "        csvfile_iterator = csv.reader(csvfile)\n",
    "        header = next(csvfile_iterator)[0].split(';')\n",
    "        idx_municipio, idx_casos, idx_obitos = \\\n",
    "            header.index('municipio'), \\\n",
    "            header.index('casosNovos'), \\\n",
    "            header.index('obitosNovos')\n",
    "\n",
    "        for csvfile_row in csvfile_iterator:\n",
    "            row = csvfile_row[0].split(';')\n",
    "            if len(header) == len(row) and row[idx_municipio] != '':\n",
    "                covid_infections_and_deaths_data.append(\\\n",
    "                    [int(row[idx_casos]), int(row[idx_obitos])])\n",
    "\n",
    "    return covid_infections_and_deaths_data"
   ]
  },
  {
   "cell_type": "code",
   "execution_count": 70,
   "id": "ac17a098-b303-499a-a812-68f97d10d6d2",
   "metadata": {
    "slideshow": {
     "slide_type": "subslide"
    }
   },
   "outputs": [],
   "source": [
    "def case_fatality_rate_pure_python(covid_infections_and_deaths):\n",
    "    infections = sum(row[0] for row in covid_infections_and_deaths)\n",
    "    deaths = sum(row[1] for row in covid_infections_and_deaths)\n",
    "    return deaths/infections\n",
    "\n",
    "def case_fatality_rate_numpy(covid_infections_and_deaths):\n",
    "    infections, deaths = covid_infections_and_deaths.sum(axis=0)\n",
    "    return deaths/infections"
   ]
  },
  {
   "cell_type": "markdown",
   "id": "3c6b753e-c859-4970-b93d-fa77286ac24b",
   "metadata": {
    "slideshow": {
     "slide_type": "subslide"
    }
   },
   "source": [
    "<pre>Você pode demonstrar a diferença de desempenho do Python Puro e do NumPy com o caso concreto a seguir</pre>"
   ]
  },
  {
   "cell_type": "code",
   "execution_count": 71,
   "id": "a836a62e-4bfc-470c-837b-daef1693dadc",
   "metadata": {
    "slideshow": {
     "slide_type": "-"
    },
    "tags": []
   },
   "outputs": [],
   "source": [
    "pure_python_dataset = covid_infections_and_deaths()\n",
    "numpy_dataset = np.array(pure_python_dataset)"
   ]
  },
  {
   "cell_type": "code",
   "execution_count": 72,
   "id": "74f92588",
   "metadata": {
    "slideshow": {
     "slide_type": "-"
    }
   },
   "outputs": [
    {
     "name": "stdout",
     "output_type": "stream",
     "text": [
      "Com Python Puro;\n",
      "Taxa de Letalidade da Covid no Brasil: 1.86%.\n",
      "CPU times: user 390 ms, sys: 2.48 ms, total: 392 ms\n",
      "Wall time: 391 ms\n"
     ]
    }
   ],
   "source": [
    "%%time\n",
    "\n",
    "rate = case_fatality_rate_pure_python(pure_python_dataset)\n",
    "\n",
    "print('Com Python Puro;')\n",
    "print('Taxa de Letalidade da Covid no Brasil: ' +\n",
    "      f'{rate:.2%}.')"
   ]
  },
  {
   "cell_type": "code",
   "execution_count": 73,
   "id": "2791e1b5",
   "metadata": {
    "slideshow": {
     "slide_type": "-"
    }
   },
   "outputs": [
    {
     "name": "stdout",
     "output_type": "stream",
     "text": [
      "Com NumPy;\n",
      "Taxa de Letalidade da Covid no Brasil: 1.86%.\n",
      "CPU times: user 40.8 ms, sys: 5.6 ms, total: 46.4 ms\n",
      "Wall time: 45.5 ms\n"
     ]
    }
   ],
   "source": [
    "%%time\n",
    "\n",
    "rate = case_fatality_rate_numpy(numpy_dataset)\n",
    "\n",
    "print('Com NumPy;')\n",
    "print('Taxa de Letalidade da Covid no Brasil: ' +\n",
    "      f'{rate:.2%}.')"
   ]
  },
  {
   "cell_type": "code",
   "execution_count": 74,
   "id": "be63cfb7",
   "metadata": {
    "slideshow": {
     "slide_type": "subslide"
    }
   },
   "outputs": [],
   "source": [
    "import time\n",
    "\n",
    "def case_fatality_rate(case_fatality_rate_function, dataset):\n",
    "    return case_fatality_rate_function(dataset)\n",
    "\n",
    "def case_fatality_rate_timing(case_fatality_rate_function, dataset):\n",
    "    start = time.time()\n",
    "    rate = case_fatality_rate(case_fatality_rate_function, dataset)\n",
    "    end = time.time()\n",
    "    return end-start"
   ]
  },
  {
   "cell_type": "code",
   "execution_count": 75,
   "id": "600a7e10",
   "metadata": {
    "slideshow": {
     "slide_type": "-"
    }
   },
   "outputs": [
    {
     "name": "stdout",
     "output_type": "stream",
     "text": [
      "Tempo de execução em python puro: 0.39 segundos.\n",
      "Tempo de execução em numpy: 0.038 segundos.\n",
      "Observe que a mesma manipulação de dados em NumPy foi 9 vezes mais rápido do que no python nativo.\n"
     ]
    }
   ],
   "source": [
    "pure_python_timing = case_fatality_rate_timing(\n",
    "    case_fatality_rate_pure_python, pure_python_dataset)\n",
    "\n",
    "numpy_timing = case_fatality_rate_timing(\n",
    "    case_fatality_rate_numpy, numpy_dataset)\n",
    "\n",
    "faster = round(pure_python_timing/numpy_timing)\n",
    "\n",
    "print('Tempo de execução em python puro: ' +\n",
    "      f'{pure_python_timing:.2} segundos.')\n",
    "print('Tempo de execução em numpy: ' +\n",
    "      f'{numpy_timing:.2} segundos.')\n",
    "print('Observe que a mesma manipulação de dados em NumPy foi ' +\n",
    "      f'{faster-1} vezes mais rápido do que no python nativo.')"
   ]
  }
 ],
 "metadata": {
  "celltoolbar": "Slideshow",
  "kernelspec": {
   "display_name": "Python 3 (ipykernel)",
   "language": "python",
   "name": "python3"
  },
  "language_info": {
   "codemirror_mode": {
    "name": "ipython",
    "version": 3
   },
   "file_extension": ".py",
   "mimetype": "text/x-python",
   "name": "python",
   "nbconvert_exporter": "python",
   "pygments_lexer": "ipython3",
   "version": "3.10.6"
  },
  "toc": {
   "base_numbering": 1,
   "nav_menu": {},
   "number_sections": true,
   "sideBar": true,
   "skip_h1_title": false,
   "title_cell": "Table of Contents",
   "title_sidebar": "Contents",
   "toc_cell": false,
   "toc_position": {},
   "toc_section_display": true,
   "toc_window_display": false
  }
 },
 "nbformat": 4,
 "nbformat_minor": 5
}
