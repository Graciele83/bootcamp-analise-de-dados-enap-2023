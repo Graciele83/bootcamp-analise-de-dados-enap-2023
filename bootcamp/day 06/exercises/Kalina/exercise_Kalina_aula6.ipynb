{
 "cells": [
  {
   "cell_type": "markdown",
   "id": "f773e7bb",
   "metadata": {},
   "source": [
    "# Exercícios - Manipulação de Dados 🎲 em Alto Desempenho 🚀 🧞‍♂️\n",
    "\n",
    "## Familiarizando-se com a biblioteca Numpy"
   ]
  },
  {
   "cell_type": "markdown",
   "id": "88f756a1",
   "metadata": {},
   "source": [
    "O objetivo dessa série de exercícios iniciais é familiarizar-se com as funcionalidades e operações básicas da biblioteca Numpy."
   ]
  },
  {
   "cell_type": "markdown",
   "id": "d6285c15",
   "metadata": {},
   "source": [
    "### Criação e inspeção de arrays"
   ]
  },
  {
   "cell_type": "markdown",
   "id": "f58177a1",
   "metadata": {},
   "source": [
    "Importe a biblioteca Numpy. Escreva uma função que receba como parâmetros o número de elementos **n** e retorne um array uni-dimensional preenchido com **n** números inteiros aleatórios entre 1 e 1000."
   ]
  },
  {
   "cell_type": "code",
   "execution_count": null,
   "id": "5218b127",
   "metadata": {},
   "outputs": [],
   "source": []
  },
  {
   "cell_type": "markdown",
   "id": "fcc2fc19",
   "metadata": {},
   "source": [
    "Agora crie uma função que receba como parâmetros o número de linhas e de colunas e retorne um array bi-dimensional preenchidos com números aleatórios inteiros entre 1 e 1000."
   ]
  },
  {
   "cell_type": "code",
   "execution_count": null,
   "id": "0294ac06",
   "metadata": {},
   "outputs": [],
   "source": []
  },
  {
   "cell_type": "markdown",
   "id": "e66852cb",
   "metadata": {},
   "source": [
    "Utilizando as funções criadas acima, crie dois arrays, um dimensional e o outro bi-dimensional. Visualize o formato, o tamanho e os tipos de dados de ambos os arrays."
   ]
  },
  {
   "cell_type": "code",
   "execution_count": null,
   "id": "b8a2c927",
   "metadata": {},
   "outputs": [],
   "source": []
  },
  {
   "cell_type": "markdown",
   "id": "6bf1a24c",
   "metadata": {},
   "source": [
    "### Indexação, Slicing, e Iteração\n",
    "\n",
    "Execute os seguintes passos:\n",
    "1. Crie um array uni-dimensional com 20 elementos. Acesse e imprima o terceiro elemento.\n",
    "2. Crie um array bi-dimensional (4,4). Acesse e imprima o elemento da segunda linha e terceira coluna.\n",
    "3. Fatie (faça o slicing) e imprima os 5 primeiros elementos do array uni-dimensional.\n",
    "4. Itere sobre o array bi-dimensional linha a linha e imprima cada linha inteira."
   ]
  },
  {
   "cell_type": "code",
   "execution_count": null,
   "id": "e658d517",
   "metadata": {},
   "outputs": [],
   "source": []
  },
  {
   "cell_type": "markdown",
   "id": "aeba0e2a",
   "metadata": {},
   "source": [
    "### Operações estatísticas e matemáticas\n",
    "\n",
    "Execute os seguintes passos:\n",
    "1. Calcule e imprima a média, a mediana, a soma e o desvio padrão do array uni-dimensional criado no exercício acima.\n",
    "2. Ache e imprima os valores mínimo e máximo do array bi-dimensional criado no exercício acima.\n",
    "3. Use uma função universal, como np.sqrt, sobre o array uni-dimensional criado no exercício anterior e imprima o resultado."
   ]
  },
  {
   "cell_type": "code",
   "execution_count": null,
   "id": "28bb5fd4",
   "metadata": {},
   "outputs": [],
   "source": []
  },
  {
   "cell_type": "markdown",
   "id": "e3622d7f",
   "metadata": {},
   "source": [
    "## Manipulação de dados com Numpy"
   ]
  },
  {
   "cell_type": "markdown",
   "id": "217b6b2a",
   "metadata": {},
   "source": [
    "Vamos comparar o desempenho de um array Python e um array numpy. Carregue o arquivo 'Base-COFOG-2022.csv', que contém a base de despesas da União classificadas de acordo com o padrão COFOG (classificação por função), utilizando o pacote **csv**. Retorne um array a lista do valor das despesa realizadas no ano de 2022.\n",
    "\n",
    "Utilize o seguinte caminho para o arquivo:\n",
    "```\n",
    "caminho_arquivo = './data/Base-COFOG-2022.csv'\n",
    "```"
   ]
  },
  {
   "cell_type": "code",
   "execution_count": null,
   "id": "6fe84b31",
   "metadata": {},
   "outputs": [],
   "source": []
  },
  {
   "cell_type": "markdown",
   "id": "f27e5a47",
   "metadata": {},
   "source": [
    "Crie uma função que receberá como parâmetro o array criado e retornará a despesa total realizada pela União"
   ]
  },
  {
   "cell_type": "code",
   "execution_count": null,
   "id": "0c96919e",
   "metadata": {},
   "outputs": [],
   "source": []
  },
  {
   "cell_type": "markdown",
   "id": "76f95791",
   "metadata": {},
   "source": [
    "Agora crie um array **numpy** a partir do array anterior.."
   ]
  },
  {
   "cell_type": "code",
   "execution_count": null,
   "id": "994e73ce",
   "metadata": {},
   "outputs": [],
   "source": []
  },
  {
   "cell_type": "markdown",
   "id": "9d62ea3e",
   "metadata": {},
   "source": [
    "Agora crie a função para calcular o valor total das despesas da União, recebendo como parâmetro o array numpy. Imprima também o tempo necessário para execução do cálculo utilizando Python nativo e Numpy."
   ]
  },
  {
   "cell_type": "code",
   "execution_count": null,
   "id": "4a3e89d6",
   "metadata": {},
   "outputs": [],
   "source": []
  },
  {
   "cell_type": "markdown",
   "id": "4b9875a5",
   "metadata": {},
   "source": [
    "Por fim, calcule a razão entre os tempos de execução das duas funções acima."
   ]
  },
  {
   "cell_type": "code",
   "execution_count": null,
   "id": "a59ff7ad",
   "metadata": {},
   "outputs": [],
   "source": []
  }
 ],
 "metadata": {
  "kernelspec": {
   "display_name": "Python 3 (ipykernel)",
   "language": "python",
   "name": "python3"
  },
  "language_info": {
   "codemirror_mode": {
    "name": "ipython",
    "version": 3
   },
   "file_extension": ".py",
   "mimetype": "text/x-python",
   "name": "python",
   "nbconvert_exporter": "python",
   "pygments_lexer": "ipython3",
   "version": "3.11.3"
  },
  "toc": {
   "base_numbering": 1,
   "nav_menu": {},
   "number_sections": true,
   "sideBar": true,
   "skip_h1_title": false,
   "title_cell": "Table of Contents",
   "title_sidebar": "Contents",
   "toc_cell": false,
   "toc_position": {},
   "toc_section_display": true,
   "toc_window_display": false
  }
 },
 "nbformat": 4,
 "nbformat_minor": 5
}
