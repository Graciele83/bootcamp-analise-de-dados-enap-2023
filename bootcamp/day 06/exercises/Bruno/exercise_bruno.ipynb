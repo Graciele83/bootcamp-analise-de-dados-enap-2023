{
 "cells": [
  {
   "cell_type": "markdown",
   "id": "9d2ccd02-3f89-4032-aac7-c1023b719b71",
   "metadata": {
    "tags": []
   },
   "source": [
    "# Exercícios: Séries Pandas"
   ]
  },
  {
   "cell_type": "markdown",
   "id": "96fc3304-fd34-4d02-9c3d-36ac8cf6e52d",
   "metadata": {
    "tags": []
   },
   "source": [
    "### Somando Notas com Dicionários"
   ]
  },
  {
   "cell_type": "markdown",
   "id": "44f24290-ebae-4e8c-894e-145c3cafcc08",
   "metadata": {},
   "source": [
    "Para demonstrar as capacidades das Séries Pandas, vamos solucionar um problema com as estrutura Nativa do Python e, em seguida, utilizando uma série do Pandas.<br>\n",
    "Dados os seguintes dicionários contendo a nota dos alunos em duas disciplinas distintas, escreva uma função que gere um novo dicionário contendo o nome do aluno e a soma das notas nas duas disciplinas.<br>\n",
    "Utilize a função criada para imprimir a soma das notas das duas disciplinas."
   ]
  },
  {
   "cell_type": "code",
   "execution_count": null,
   "id": "8754081e-856d-493d-941f-77a1621be2fa",
   "metadata": {
    "tags": []
   },
   "outputs": [],
   "source": [
    "notas_d1 = {'José': 6, 'Maria': 10, 'João': 8, 'Ana': 7, 'Carlos': 3, 'Luiza': 6, 'Pedro': 6, 'Mariana': 8, 'Fernando': 7, 'Isabela': 1, 'Francisco':6}\n",
    "notas_d2 = {'Ana': 8,'Isabela': 6, 'Fernando': 4, 'Pedro': 5, 'Luiza': 4,'Maria': 1, 'Carlos': 2,  'João': 1,  'José': 10, 'Mariana': 5,'Henrique':8}"
   ]
  },
  {
   "cell_type": "code",
   "execution_count": null,
   "id": "8a2c2f3a-62d5-4a8c-b7a0-1b7ab6f8e4d4",
   "metadata": {
    "tags": []
   },
   "outputs": [],
   "source": []
  },
  {
   "cell_type": "markdown",
   "id": "023f7a78-994f-471f-84a3-33a79e79868a",
   "metadata": {
    "tags": []
   },
   "source": [
    "Com base no dicionário gerado, defina uma função para calcular a média das notas.<br>\n",
    "Utilize-a para imprimir, em ordem alfabértica, o nome dos alunos cuja soma das notas é menor que a média da turma."
   ]
  },
  {
   "cell_type": "code",
   "execution_count": null,
   "id": "e8509a5a-b802-4d9a-b9cf-e47052afdfd1",
   "metadata": {
    "tags": []
   },
   "outputs": [],
   "source": []
  },
  {
   "cell_type": "markdown",
   "id": "dca5664c-47b6-485d-8ade-10a2da0f5761",
   "metadata": {},
   "source": [
    "### Somando Notas com Séries Pandas"
   ]
  },
  {
   "cell_type": "markdown",
   "id": "598e29b8-ca92-4c06-98c7-562baf1afeee",
   "metadata": {
    "tags": []
   },
   "source": [
    "Converta os dicionários para Séries Pandas e faça a soma das notas dos alunos em ambas as disciplinas e imprima o resultado.<br>\n",
    "Verifique o que ocorre com os valores que não se encontram em ambas as séries e pesquise o parâmetro do método pd.Series.add() para solucionar o problema.\n",
    "Se necessário, consulte a documentação em: https://pandas.pydata.org/docs/reference/api/pandas.Series.html"
   ]
  },
  {
   "cell_type": "code",
   "execution_count": null,
   "id": "4617365a-5579-4f92-b660-3cfd9c695672",
   "metadata": {
    "tags": []
   },
   "outputs": [],
   "source": []
  },
  {
   "cell_type": "markdown",
   "id": "ed31a6ec-2c2d-4268-bc9d-20f3fd9f2bd7",
   "metadata": {
    "tags": []
   },
   "source": [
    "Utilizando a série, imprima o nome dos alunos cujas notas estão abaixo da média da turma."
   ]
  },
  {
   "cell_type": "code",
   "execution_count": null,
   "id": "b61eb235-5574-43e8-8f58-c6b08676f004",
   "metadata": {
    "tags": []
   },
   "outputs": [],
   "source": []
  },
  {
   "cell_type": "markdown",
   "id": "76a3e984-3241-4908-89f9-7d326617c862",
   "metadata": {
    "tags": []
   },
   "source": [
    "Remova da lista de notas totais os alunos cujas notas são inferiores à média."
   ]
  },
  {
   "cell_type": "code",
   "execution_count": null,
   "id": "7ed7315f-d3cf-4018-83d4-e4804d16d7c9",
   "metadata": {
    "tags": []
   },
   "outputs": [],
   "source": []
  },
  {
   "cell_type": "markdown",
   "id": "3785f6d8-f327-446f-881a-5ae60625e5e6",
   "metadata": {},
   "source": [
    "### Benchmark: Dicionários x Séries Pandas"
   ]
  },
  {
   "cell_type": "markdown",
   "id": "2f31f776-8b1a-4205-af0b-c67f19009595",
   "metadata": {
    "tags": []
   },
   "source": [
    "O Jupyter permite, por meio da inclusão do termo %%time no início da célula de código, analisar o tempo necessário para execução de um trecho de código.<br>\n",
    "A fim de comparar o desempenho das versões do código, vamos gerar listas de notas com milhões de entradas executando o código abaixo.<br>\n",
    "* Atenção: a geração dos dados pode demorar alguns minutos para ser executada."
   ]
  },
  {
   "cell_type": "code",
   "execution_count": null,
   "id": "e7deb1aa-3395-4cf9-9cbb-2c9cbb882a3c",
   "metadata": {
    "tags": []
   },
   "outputs": [],
   "source": [
    "%%time\n",
    "import secrets\n",
    "import string\n",
    "from random import randrange\n",
    "\n",
    "def generate_random_string(n):\n",
    "    characters = string.ascii_uppercase\n",
    "    random_string = ''.join(secrets.choice(characters) for _ in range(n))\n",
    "\n",
    "    return random_string\n",
    "\n",
    "notas_d1={ generate_random_string(5): randrange(10) for i in range(0,12**6) }\n",
    "notas_d2={ generate_random_string(5): randrange(10) for i in range(0,12**6) }\n",
    "\n",
    "notas_p1 = pd.Series(notas_d1)\n",
    "notas_p2 = pd.Series(notas_d2)"
   ]
  },
  {
   "cell_type": "markdown",
   "id": "420df6d2-4834-4b12-bf49-9976abb46142",
   "metadata": {
    "tags": []
   },
   "source": [
    "Utilizando a função criada no primeiro exercício, analise o tempo necessário para execução da soma das notas e compare com o desempenho da soma utilizando Séries Pandas."
   ]
  },
  {
   "cell_type": "code",
   "execution_count": null,
   "id": "c3e0e391-e05d-46cf-9e20-d361cb866390",
   "metadata": {
    "tags": []
   },
   "outputs": [],
   "source": []
  },
  {
   "cell_type": "code",
   "execution_count": null,
   "id": "c8261c8e-b9f3-40c2-a746-144cfd9735fe",
   "metadata": {
    "tags": []
   },
   "outputs": [],
   "source": []
  },
  {
   "cell_type": "markdown",
   "id": "095a0549-c91d-4037-b7d2-a9cea6005caa",
   "metadata": {},
   "source": [
    "Compare agora o tempo necessário para cálculo das médias utilizando a função definida no exercício 1 e com Pandas."
   ]
  },
  {
   "cell_type": "code",
   "execution_count": null,
   "id": "5105da98-2f41-4425-ad9c-acc42ee8e41e",
   "metadata": {
    "tags": []
   },
   "outputs": [],
   "source": []
  },
  {
   "cell_type": "code",
   "execution_count": null,
   "id": "11ddc86c-73a1-46e4-91a9-7d13ba26bb2a",
   "metadata": {
    "tags": []
   },
   "outputs": [],
   "source": []
  },
  {
   "cell_type": "markdown",
   "id": "c3130a41-78b4-4118-a1be-b3679ef1c76b",
   "metadata": {},
   "source": [
    "Compare agora o tempo necessário para soma das notas da turma 1 com as próprias notas da turma 1 utilizando as duas implementações.<br>\n",
    "O que pode explicar a diferença observada?"
   ]
  },
  {
   "cell_type": "code",
   "execution_count": null,
   "id": "bd64c01b-9911-4d03-9ac0-104d49ca5119",
   "metadata": {
    "tags": []
   },
   "outputs": [],
   "source": []
  },
  {
   "cell_type": "code",
   "execution_count": null,
   "id": "d42e9658-a591-45dd-a1f4-b17ce9dedffa",
   "metadata": {
    "tags": []
   },
   "outputs": [],
   "source": []
  },
  {
   "cell_type": "markdown",
   "id": "178447b6-f92c-4774-a8d3-eac4f9473dc6",
   "metadata": {
    "tags": []
   },
   "source": [
    "### Tipos de Dados Séries Pandas & Numpy"
   ]
  },
  {
   "cell_type": "markdown",
   "id": "ff23e760-26c3-4383-b095-1db21dcb93fc",
   "metadata": {
    "tags": []
   },
   "source": [
    "Conforme visto em aula, as séries armazenam tipos uniformes de dados, tais como:\n",
    "<table>\n",
    "    <tr><th>Tipo de Dado</th><th>Código do Tipo de Dado</th><th>Descrição</th></tr>\n",
    "    <tr><td>int8, uint8</td><td>i1, u1</td><td>Tipos inteiros de 8 bits (1 byte) com e sem sinal</td></tr>\n",
    "    <tr><td>int16, uint16</td><td>i2, u2</td><td>Tipos inteiros de 16 bits com e sem sinal</td></tr>\n",
    "    <tr><td>int32, uint32</td><td>i4, u4</td><td>Tipos inteiros de 32 bits com e sem sinal</td></tr>\n",
    "    <tr><td>int64, uint64</td><td>i8, u8</td><td>Tipos inteiros de 64 bits com e sem sinal</td></tr>\n",
    "    <tr><td>float16</td><td>f2</td><td>Ponto flutuante com metade da precisão</td></tr>\n",
    "    <tr><td>float32</td><td>f4 ou f</td><td>Ponto flutuante padrão com precisão única; compatível com o float de C</td></tr>\n",
    "    <tr><td>float64</td><td>f8 ou d</td><td>Ponto flutuante padrão com dupla precisão; compatível com o double de C e o objeto float de Python</td></tr>\n",
    "    <tr><td>float128</td><td>f16 ou g</td><td>Ponto flutuante com precisão estendida</td></tr>\n",
    "    <tr><td>complex64, complex128, complex256</td><td>c8, c16, c32</td><td>Números complexos representados por dois floats de 32, 64 ou 128, respectivamente</td></tr>\n",
    "    <tr><td>bool</td><td>?</td><td>Tipo booleano que armazena os valores True e False</td></tr>\n",
    "    <tr><td>object</td><td>O</td><td>Tipo objeto de Python; um valor pode ser qualquer objeto Python</td></tr>\n",
    "    <tr><td>string_</td><td>S</td><td>Tipo string ASCII de tamanho fixo (1 byte por caractere); por exemplo, para criar um dtype string com tamanho 1O, utilize 'S10'</td></tr>\n",
    "    <tr><td>unicode_</td><td>U</td><td>Tipo Unicode de tamanho fixo (número de bytes é específico de cada plataforma); a mesma semântica de especificação de string_ (por exemplo, 'U10')</td></tr>\n",
    "</table>"
   ]
  },
  {
   "cell_type": "markdown",
   "id": "1a747fff-8db9-40c4-96f0-8de0675f57ac",
   "metadata": {},
   "source": [
    "Dados os dois dicionários abaixo, converta-os para séries pandas e verifique o tipo de dados resultante, imprimindo o atributo pd.Series.dtype."
   ]
  },
  {
   "cell_type": "code",
   "execution_count": null,
   "id": "a542c71f-0e66-486f-aa77-078838fb2105",
   "metadata": {},
   "outputs": [],
   "source": [
    "notas1 = {'Ana': 8,'Isabela': 6, 'Fernando': 4, 'Pedro': 5}\n",
    "notas2 = {'Ana': 5,'Isabela': 'N/D', 'Fernando': 3, 'Pedro': 'N/D'}"
   ]
  },
  {
   "cell_type": "code",
   "execution_count": null,
   "id": "3b0f8900-b7e2-4671-8185-d3bfef3c59c3",
   "metadata": {
    "tags": []
   },
   "outputs": [],
   "source": []
  },
  {
   "cell_type": "markdown",
   "id": "0e3c7a95-7d0e-4e7c-9438-a1f1ad4a22de",
   "metadata": {},
   "source": [
    "Faça a soma das séries e observe o que ocorre."
   ]
  },
  {
   "cell_type": "code",
   "execution_count": null,
   "id": "9c867143-72b9-476d-a111-26505e54d191",
   "metadata": {
    "tags": []
   },
   "outputs": [],
   "source": []
  },
  {
   "cell_type": "markdown",
   "id": "22c47750-321c-491a-972b-d4b6899e68e5",
   "metadata": {},
   "source": [
    "Substitua, utilizando indexação booleana, os valores 'N/D' pelo valor 0 e tente novamente fazer a soma."
   ]
  },
  {
   "cell_type": "code",
   "execution_count": null,
   "id": "211fd58e-a673-4435-975d-03185f6c2007",
   "metadata": {
    "tags": []
   },
   "outputs": [],
   "source": []
  },
  {
   "cell_type": "markdown",
   "id": "91f714ef-a397-46c9-af6f-983ddf7c2a71",
   "metadata": {},
   "source": [
    "Converta a o tipo de dados da série para um tipo inteiro."
   ]
  },
  {
   "cell_type": "code",
   "execution_count": null,
   "id": "de6be0ba-f357-4caa-b0b2-bda771d4634b",
   "metadata": {
    "tags": []
   },
   "outputs": [],
   "source": []
  }
 ],
 "metadata": {
  "kernelspec": {
   "display_name": "Python 3 (ipykernel)",
   "language": "python",
   "name": "python3"
  },
  "language_info": {
   "codemirror_mode": {
    "name": "ipython",
    "version": 3
   },
   "file_extension": ".py",
   "mimetype": "text/x-python",
   "name": "python",
   "nbconvert_exporter": "python",
   "pygments_lexer": "ipython3",
   "version": "3.11.3"
  }
 },
 "nbformat": 4,
 "nbformat_minor": 5
}
