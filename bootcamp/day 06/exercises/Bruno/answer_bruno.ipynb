{
 "cells": [
  {
   "cell_type": "markdown",
   "id": "9d2ccd02-3f89-4032-aac7-c1023b719b71",
   "metadata": {
    "tags": []
   },
   "source": [
    "# Exercícios: Séries Pandas"
   ]
  },
  {
   "cell_type": "markdown",
   "id": "96fc3304-fd34-4d02-9c3d-36ac8cf6e52d",
   "metadata": {
    "tags": []
   },
   "source": [
    "### Somando Notas com Dicionários"
   ]
  },
  {
   "cell_type": "markdown",
   "id": "44f24290-ebae-4e8c-894e-145c3cafcc08",
   "metadata": {},
   "source": [
    "Para demonstrar as capacidades das Séries Pandas, vamos solucionar um problema com as estrutura Nativa do Python e, em seguida, utilizando uma série do Pandas.<br>\n",
    "Dados os seguintes dicionários contendo a nota dos alunos em duas disciplinas distintas, escreva uma função que gere um novo dicionário contendo o nome do aluno e a soma das notas nas duas disciplinas.<br>\n",
    "Utilize a função criada para imprimir a soma das notas das duas disciplinas."
   ]
  },
  {
   "cell_type": "code",
   "execution_count": 1,
   "id": "8754081e-856d-493d-941f-77a1621be2fa",
   "metadata": {
    "tags": []
   },
   "outputs": [],
   "source": [
    "notas_d1 = {'José': 6, 'Maria': 10, 'João': 8, 'Ana': 7, 'Carlos': 3, 'Luiza': 6, 'Pedro': 6, 'Mariana': 8, 'Fernando': 7, 'Isabela': 1, 'Francisco':6}\n",
    "notas_d2 = {'Ana': 8,'Isabela': 6, 'Fernando': 4, 'Pedro': 5, 'Luiza': 4,'Maria': 1, 'Carlos': 2,  'João': 1,  'José': 10, 'Mariana': 5,'Henrique':8}"
   ]
  },
  {
   "cell_type": "code",
   "execution_count": 2,
   "id": "8a2c2f3a-62d5-4a8c-b7a0-1b7ab6f8e4d4",
   "metadata": {
    "tags": []
   },
   "outputs": [
    {
     "name": "stdout",
     "output_type": "stream",
     "text": [
      "{'Francisco': 6, 'Maria': 11, 'Henrique': 8, 'Mariana': 13, 'Isabela': 7, 'Ana': 15, 'Fernando': 11, 'Luiza': 10, 'João': 9, 'Carlos': 5, 'José': 16, 'Pedro': 11}\n"
     ]
    }
   ],
   "source": [
    "def soma_notas(d1={},d2={}):\n",
    "    soma = {}\n",
    "    alunos1 = set(d1.keys())\n",
    "    alunos2 = set(d2.keys())  \n",
    "    alunos = alunos1.union(alunos2)\n",
    "    for aluno in alunos:\n",
    "        soma[aluno] = d1.get(aluno,0) + d2.get(aluno,0)    \n",
    "    return soma\n",
    "\n",
    "soma_dict = soma_notas(notas_d1,notas_d2)\n",
    "print(soma_dict)"
   ]
  },
  {
   "cell_type": "markdown",
   "id": "023f7a78-994f-471f-84a3-33a79e79868a",
   "metadata": {
    "tags": []
   },
   "source": [
    "Com base no dicionário gerado, defina uma função para calcular a média das notas.<br>\n",
    "Utilize-a para imprimir, em ordem alfabértica, o nome dos alunos cuja soma das notas é menor que a média da turma."
   ]
  },
  {
   "cell_type": "code",
   "execution_count": 3,
   "id": "e8509a5a-b802-4d9a-b9cf-e47052afdfd1",
   "metadata": {
    "tags": []
   },
   "outputs": [
    {
     "name": "stdout",
     "output_type": "stream",
     "text": [
      "['Carlos', 'Francisco', 'Henrique', 'Isabela', 'João', 'Luiza']\n"
     ]
    }
   ],
   "source": [
    "def media_notas(soma_dict={}):\n",
    "    return sum(list(soma_dict.values())) / len(soma_dict.values())\n",
    "\n",
    "nomes = [ nome for nome in soma_dict if soma_dict[nome] < media_notas(soma_dict)]\n",
    "print(sorted(nomes))"
   ]
  },
  {
   "cell_type": "markdown",
   "id": "dca5664c-47b6-485d-8ade-10a2da0f5761",
   "metadata": {},
   "source": [
    "### Somando Notas com Séries Pandas"
   ]
  },
  {
   "cell_type": "markdown",
   "id": "598e29b8-ca92-4c06-98c7-562baf1afeee",
   "metadata": {
    "tags": []
   },
   "source": [
    "Converta os dicionários para Séries Pandas e faça a soma das notas dos alunos em ambas as disciplinas e imprima o resultado.<br>\n",
    "Verifique o que ocorre com os valores que não se encontram em ambas as séries e pesquise o parâmetro do método pd.Series.add() para solucionar o problema.\n",
    "Se necessário, consulte a documentação em: https://pandas.pydata.org/docs/reference/api/pandas.Series.html"
   ]
  },
  {
   "cell_type": "code",
   "execution_count": 4,
   "id": "4617365a-5579-4f92-b660-3cfd9c695672",
   "metadata": {
    "tags": []
   },
   "outputs": [
    {
     "name": "stdout",
     "output_type": "stream",
     "text": [
      "Ana          15.0\n",
      "Carlos        5.0\n",
      "Fernando     11.0\n",
      "Francisco     6.0\n",
      "Henrique      8.0\n",
      "Isabela       7.0\n",
      "José         16.0\n",
      "João          9.0\n",
      "Luiza        10.0\n",
      "Maria        11.0\n",
      "Mariana      13.0\n",
      "Pedro        11.0\n",
      "dtype: float64\n"
     ]
    }
   ],
   "source": [
    "import pandas as pd\n",
    "soma_pd = pd.Series(notas_d1).add(pd.Series(notas_d2),fill_value=0)\n",
    "print(soma_pd)"
   ]
  },
  {
   "cell_type": "markdown",
   "id": "ed31a6ec-2c2d-4268-bc9d-20f3fd9f2bd7",
   "metadata": {
    "tags": []
   },
   "source": [
    "Utilizando a série, imprima o nome dos alunos cujas notas estão abaixo da média da turma."
   ]
  },
  {
   "cell_type": "code",
   "execution_count": 5,
   "id": "b61eb235-5574-43e8-8f58-c6b08676f004",
   "metadata": {
    "tags": []
   },
   "outputs": [
    {
     "data": {
      "text/plain": [
       "['Carlos', 'Francisco', 'Henrique', 'Isabela', 'João', 'Luiza']"
      ]
     },
     "execution_count": 5,
     "metadata": {},
     "output_type": "execute_result"
    }
   ],
   "source": [
    "list(soma_pd[soma_pd<soma_pd.mean()].index)"
   ]
  },
  {
   "cell_type": "markdown",
   "id": "76a3e984-3241-4908-89f9-7d326617c862",
   "metadata": {
    "tags": []
   },
   "source": [
    "Remova da lista de notas totais os alunos cujas notas são inferiores à média."
   ]
  },
  {
   "cell_type": "code",
   "execution_count": 6,
   "id": "7ed7315f-d3cf-4018-83d4-e4804d16d7c9",
   "metadata": {
    "tags": []
   },
   "outputs": [],
   "source": [
    "soma_pd = soma_pd.drop(soma_pd[soma_pd<soma_pd.mean()].index)"
   ]
  },
  {
   "cell_type": "markdown",
   "id": "3785f6d8-f327-446f-881a-5ae60625e5e6",
   "metadata": {},
   "source": [
    "### Benchmark: Dicionários x Séries Pandas"
   ]
  },
  {
   "cell_type": "markdown",
   "id": "2f31f776-8b1a-4205-af0b-c67f19009595",
   "metadata": {
    "tags": []
   },
   "source": [
    "O Jupyter permite, por meio da inclusão do termo %%time no início da célula de código, analisar o tempo necessário para execução de um trecho de código.<br>\n",
    "A fim de comparar o desempenho das versões do código, vamos gerar listas de notas com milhões de entradas executando o código abaixo.<br>\n",
    "* Atenção: a geração dos dados pode demorar alguns minutos para ser executada."
   ]
  },
  {
   "cell_type": "code",
   "execution_count": 47,
   "id": "e7deb1aa-3395-4cf9-9cbb-2c9cbb882a3c",
   "metadata": {
    "tags": []
   },
   "outputs": [
    {
     "name": "stdout",
     "output_type": "stream",
     "text": [
      "CPU times: total: 32.5 s\n",
      "Wall time: 32.6 s\n"
     ]
    }
   ],
   "source": [
    "%%time\n",
    "import secrets\n",
    "import string\n",
    "from random import randrange\n",
    "\n",
    "def generate_random_string(n):\n",
    "    characters = string.ascii_uppercase\n",
    "    random_string = ''.join(secrets.choice(characters) for _ in range(n))\n",
    "\n",
    "    return random_string\n",
    "\n",
    "notas_d1={ generate_random_string(5): randrange(10) for i in range(0,12**6) }\n",
    "notas_d2={ generate_random_string(5): randrange(10) for i in range(0,12**6) }\n",
    "\n",
    "notas_p1 = pd.Series(notas_d1)\n",
    "notas_p2 = pd.Series(notas_d2)"
   ]
  },
  {
   "cell_type": "markdown",
   "id": "420df6d2-4834-4b12-bf49-9976abb46142",
   "metadata": {
    "tags": []
   },
   "source": [
    "Utilizando a função criada no primeiro exercício, analise o tempo necessário para execução da soma das notas e compare com o desempenho da soma utilizando Séries Pandas."
   ]
  },
  {
   "cell_type": "code",
   "execution_count": 48,
   "id": "c3e0e391-e05d-46cf-9e20-d361cb866390",
   "metadata": {
    "tags": []
   },
   "outputs": [
    {
     "name": "stdout",
     "output_type": "stream",
     "text": [
      "CPU times: total: 4.72 s\n",
      "Wall time: 4.79 s\n"
     ]
    }
   ],
   "source": [
    "%%time\n",
    "dsum_=soma_notas(notas_d1,notas_d2)"
   ]
  },
  {
   "cell_type": "code",
   "execution_count": 49,
   "id": "c8261c8e-b9f3-40c2-a746-144cfd9735fe",
   "metadata": {
    "tags": []
   },
   "outputs": [
    {
     "name": "stdout",
     "output_type": "stream",
     "text": [
      "CPU times: total: 13.3 s\n",
      "Wall time: 13.3 s\n"
     ]
    }
   ],
   "source": [
    "%%time\n",
    "pd_sum=notas_p1+notas_p2"
   ]
  },
  {
   "cell_type": "markdown",
   "id": "095a0549-c91d-4037-b7d2-a9cea6005caa",
   "metadata": {},
   "source": [
    "Compare agora o tempo necessário para cálculo das médias utilizando a função definida no exercício 1 e com Pandas."
   ]
  },
  {
   "cell_type": "code",
   "execution_count": 50,
   "id": "5105da98-2f41-4425-ad9c-acc42ee8e41e",
   "metadata": {
    "tags": []
   },
   "outputs": [
    {
     "name": "stdout",
     "output_type": "stream",
     "text": [
      "CPU times: total: 15.6 ms\n",
      "Wall time: 50.8 ms\n"
     ]
    }
   ],
   "source": [
    "%%time\n",
    "media = sum(list(dsum_.values())) / len(dsum_.values())"
   ]
  },
  {
   "cell_type": "code",
   "execution_count": 51,
   "id": "11ddc86c-73a1-46e4-91a9-7d13ba26bb2a",
   "metadata": {
    "tags": []
   },
   "outputs": [
    {
     "name": "stdout",
     "output_type": "stream",
     "text": [
      "CPU times: total: 15.6 ms\n",
      "Wall time: 30.1 ms\n"
     ]
    },
    {
     "data": {
      "text/plain": [
       "8.999461398829053"
      ]
     },
     "execution_count": 51,
     "metadata": {},
     "output_type": "execute_result"
    }
   ],
   "source": [
    "%%time\n",
    "pd_sum.mean()"
   ]
  },
  {
   "cell_type": "markdown",
   "id": "c3130a41-78b4-4118-a1be-b3679ef1c76b",
   "metadata": {},
   "source": [
    "Compare agora o tempo necessário para soma das notas da turma 1 com as próprias notas da turma 1 utilizando as duas implementações.<br>\n",
    "O que pode explicar a diferença observada?"
   ]
  },
  {
   "cell_type": "code",
   "execution_count": 52,
   "id": "bd64c01b-9911-4d03-9ac0-104d49ca5119",
   "metadata": {
    "tags": []
   },
   "outputs": [
    {
     "name": "stdout",
     "output_type": "stream",
     "text": [
      "CPU times: total: 2.5 s\n",
      "Wall time: 2.52 s\n"
     ]
    }
   ],
   "source": [
    "%%time\n",
    "dsum11=soma_notas(notas_d1,notas_d1)"
   ]
  },
  {
   "cell_type": "code",
   "execution_count": 54,
   "id": "d42e9658-a591-45dd-a1f4-b17ce9dedffa",
   "metadata": {
    "tags": []
   },
   "outputs": [
    {
     "name": "stdout",
     "output_type": "stream",
     "text": [
      "CPU times: total: 62.5 ms\n",
      "Wall time: 59.1 ms\n"
     ]
    }
   ],
   "source": [
    "%%time\n",
    "pdsum11=notas_p1+notas_p1"
   ]
  },
  {
   "cell_type": "markdown",
   "id": "178447b6-f92c-4774-a8d3-eac4f9473dc6",
   "metadata": {
    "tags": []
   },
   "source": [
    "### Tipos de Dados Séries Pandas & Numpy"
   ]
  },
  {
   "cell_type": "markdown",
   "id": "ff23e760-26c3-4383-b095-1db21dcb93fc",
   "metadata": {
    "tags": []
   },
   "source": [
    "Conforme visto em aula, as séries armazenam tipos uniformes de dados, tais como:\n",
    "<table>\n",
    "    <tr><th>Tipo de Dado</th><th>Código do Tipo de Dado</th><th>Descrição</th></tr>\n",
    "    <tr><td>int8, uint8</td><td>i1, u1</td><td>Tipos inteiros de 8 bits (1 byte) com e sem sinal</td></tr>\n",
    "    <tr><td>int16, uint16</td><td>i2, u2</td><td>Tipos inteiros de 16 bits com e sem sinal</td></tr>\n",
    "    <tr><td>int32, uint32</td><td>i4, u4</td><td>Tipos inteiros de 32 bits com e sem sinal</td></tr>\n",
    "    <tr><td>int64, uint64</td><td>i8, u8</td><td>Tipos inteiros de 64 bits com e sem sinal</td></tr>\n",
    "    <tr><td>float16</td><td>f2</td><td>Ponto flutuante com metade da precisão</td></tr>\n",
    "    <tr><td>float32</td><td>f4 ou f</td><td>Ponto flutuante padrão com precisão única; compatível com o float de C</td></tr>\n",
    "    <tr><td>float64</td><td>f8 ou d</td><td>Ponto flutuante padrão com dupla precisão; compatível com o double de C e o objeto float de Python</td></tr>\n",
    "    <tr><td>float128</td><td>f16 ou g</td><td>Ponto flutuante com precisão estendida</td></tr>\n",
    "    <tr><td>complex64, complex128, complex256</td><td>c8, c16, c32</td><td>Números complexos representados por dois floats de 32, 64 ou 128, respectivamente</td></tr>\n",
    "    <tr><td>bool</td><td>?</td><td>Tipo booleano que armazena os valores True e False</td></tr>\n",
    "    <tr><td>object</td><td>O</td><td>Tipo objeto de Python; um valor pode ser qualquer objeto Python</td></tr>\n",
    "    <tr><td>string_</td><td>S</td><td>Tipo string ASCII de tamanho fixo (1 byte por caractere); por exemplo, para criar um dtype string com tamanho 1O, utilize 'S10'</td></tr>\n",
    "    <tr><td>unicode_</td><td>U</td><td>Tipo Unicode de tamanho fixo (número de bytes é específico de cada plataforma); a mesma semântica de especificação de string_ (por exemplo, 'U10')</td></tr>\n",
    "</table>"
   ]
  },
  {
   "cell_type": "markdown",
   "id": "1a747fff-8db9-40c4-96f0-8de0675f57ac",
   "metadata": {},
   "source": [
    "Dados os dois dicionários abaixo, converta-os para séries pandas e verifique o tipo de dados resultante, imprimindo o atributo pd.Series.dtype."
   ]
  },
  {
   "cell_type": "code",
   "execution_count": 59,
   "id": "a542c71f-0e66-486f-aa77-078838fb2105",
   "metadata": {},
   "outputs": [],
   "source": [
    "notas1 = {'Ana': 8,'Isabela': 6, 'Fernando': 4, 'Pedro': 5}\n",
    "notas2 = {'Ana': 5,'Isabela': 'N/D', 'Fernando': 3, 'Pedro': 'N/D'}"
   ]
  },
  {
   "cell_type": "code",
   "execution_count": 80,
   "id": "3b0f8900-b7e2-4671-8185-d3bfef3c59c3",
   "metadata": {
    "tags": []
   },
   "outputs": [
    {
     "name": "stdout",
     "output_type": "stream",
     "text": [
      "int64\n",
      "object\n"
     ]
    }
   ],
   "source": [
    "np1 = pd.Series(notas1)\n",
    "print(np1.dtype)\n",
    "np2 = pd.Series(notas2)\n",
    "print(np2.dtype)"
   ]
  },
  {
   "cell_type": "markdown",
   "id": "0e3c7a95-7d0e-4e7c-9438-a1f1ad4a22de",
   "metadata": {},
   "source": [
    "Faça a soma das séries e observe o que ocorre."
   ]
  },
  {
   "cell_type": "code",
   "execution_count": 71,
   "id": "9c867143-72b9-476d-a111-26505e54d191",
   "metadata": {
    "tags": []
   },
   "outputs": [
    {
     "ename": "TypeError",
     "evalue": "unsupported operand type(s) for +: 'int' and 'str'",
     "output_type": "error",
     "traceback": [
      "\u001b[1;31m---------------------------------------------------------------------------\u001b[0m",
      "\u001b[1;31mTypeError\u001b[0m                                 Traceback (most recent call last)",
      "File \u001b[1;32m~\\.conda\\envs\\curso_enap\\Lib\\site-packages\\pandas\\core\\ops\\array_ops.py:220\u001b[0m, in \u001b[0;36m_na_arithmetic_op\u001b[1;34m(left, right, op, is_cmp)\u001b[0m\n\u001b[0;32m    219\u001b[0m \u001b[38;5;28;01mtry\u001b[39;00m:\n\u001b[1;32m--> 220\u001b[0m     result \u001b[38;5;241m=\u001b[39m func(left, right)\n\u001b[0;32m    221\u001b[0m \u001b[38;5;28;01mexcept\u001b[39;00m \u001b[38;5;167;01mTypeError\u001b[39;00m:\n",
      "File \u001b[1;32m~\\.conda\\envs\\curso_enap\\Lib\\site-packages\\pandas\\core\\computation\\expressions.py:242\u001b[0m, in \u001b[0;36mevaluate\u001b[1;34m(op, a, b, use_numexpr)\u001b[0m\n\u001b[0;32m    240\u001b[0m     \u001b[38;5;28;01mif\u001b[39;00m use_numexpr:\n\u001b[0;32m    241\u001b[0m         \u001b[38;5;66;03m# error: \"None\" not callable\u001b[39;00m\n\u001b[1;32m--> 242\u001b[0m         \u001b[38;5;28;01mreturn\u001b[39;00m _evaluate(op, op_str, a, b)  \u001b[38;5;66;03m# type: ignore[misc]\u001b[39;00m\n\u001b[0;32m    243\u001b[0m \u001b[38;5;28;01mreturn\u001b[39;00m _evaluate_standard(op, op_str, a, b)\n",
      "File \u001b[1;32m~\\.conda\\envs\\curso_enap\\Lib\\site-packages\\pandas\\core\\computation\\expressions.py:131\u001b[0m, in \u001b[0;36m_evaluate_numexpr\u001b[1;34m(op, op_str, a, b)\u001b[0m\n\u001b[0;32m    130\u001b[0m \u001b[38;5;28;01mif\u001b[39;00m result \u001b[38;5;129;01mis\u001b[39;00m \u001b[38;5;28;01mNone\u001b[39;00m:\n\u001b[1;32m--> 131\u001b[0m     result \u001b[38;5;241m=\u001b[39m _evaluate_standard(op, op_str, a, b)\n\u001b[0;32m    133\u001b[0m \u001b[38;5;28;01mreturn\u001b[39;00m result\n",
      "File \u001b[1;32m~\\.conda\\envs\\curso_enap\\Lib\\site-packages\\pandas\\core\\computation\\expressions.py:73\u001b[0m, in \u001b[0;36m_evaluate_standard\u001b[1;34m(op, op_str, a, b)\u001b[0m\n\u001b[0;32m     72\u001b[0m     _store_test_result(\u001b[38;5;28;01mFalse\u001b[39;00m)\n\u001b[1;32m---> 73\u001b[0m \u001b[38;5;28;01mreturn\u001b[39;00m op(a, b)\n",
      "\u001b[1;31mTypeError\u001b[0m: unsupported operand type(s) for +: 'int' and 'str'",
      "\nDuring handling of the above exception, another exception occurred:\n",
      "\u001b[1;31mTypeError\u001b[0m                                 Traceback (most recent call last)",
      "Cell \u001b[1;32mIn[71], line 1\u001b[0m\n\u001b[1;32m----> 1\u001b[0m np1\u001b[38;5;241m+\u001b[39mnp2\n",
      "File \u001b[1;32m~\\.conda\\envs\\curso_enap\\Lib\\site-packages\\pandas\\core\\ops\\common.py:76\u001b[0m, in \u001b[0;36m_unpack_zerodim_and_defer.<locals>.new_method\u001b[1;34m(self, other)\u001b[0m\n\u001b[0;32m     72\u001b[0m             \u001b[38;5;28;01mreturn\u001b[39;00m \u001b[38;5;28mNotImplemented\u001b[39m\n\u001b[0;32m     74\u001b[0m other \u001b[38;5;241m=\u001b[39m item_from_zerodim(other)\n\u001b[1;32m---> 76\u001b[0m \u001b[38;5;28;01mreturn\u001b[39;00m method(\u001b[38;5;28mself\u001b[39m, other)\n",
      "File \u001b[1;32m~\\.conda\\envs\\curso_enap\\Lib\\site-packages\\pandas\\core\\arraylike.py:186\u001b[0m, in \u001b[0;36mOpsMixin.__add__\u001b[1;34m(self, other)\u001b[0m\n\u001b[0;32m     98\u001b[0m \u001b[38;5;129m@unpack_zerodim_and_defer\u001b[39m(\u001b[38;5;124m\"\u001b[39m\u001b[38;5;124m__add__\u001b[39m\u001b[38;5;124m\"\u001b[39m)\n\u001b[0;32m     99\u001b[0m \u001b[38;5;28;01mdef\u001b[39;00m \u001b[38;5;21m__add__\u001b[39m(\u001b[38;5;28mself\u001b[39m, other):\n\u001b[0;32m    100\u001b[0m \u001b[38;5;250m    \u001b[39m\u001b[38;5;124;03m\"\"\"\u001b[39;00m\n\u001b[0;32m    101\u001b[0m \u001b[38;5;124;03m    Get Addition of DataFrame and other, column-wise.\u001b[39;00m\n\u001b[0;32m    102\u001b[0m \n\u001b[1;32m   (...)\u001b[0m\n\u001b[0;32m    184\u001b[0m \u001b[38;5;124;03m    moose     3.0     NaN\u001b[39;00m\n\u001b[0;32m    185\u001b[0m \u001b[38;5;124;03m    \"\"\"\u001b[39;00m\n\u001b[1;32m--> 186\u001b[0m     \u001b[38;5;28;01mreturn\u001b[39;00m \u001b[38;5;28mself\u001b[39m\u001b[38;5;241m.\u001b[39m_arith_method(other, operator\u001b[38;5;241m.\u001b[39madd)\n",
      "File \u001b[1;32m~\\.conda\\envs\\curso_enap\\Lib\\site-packages\\pandas\\core\\series.py:5815\u001b[0m, in \u001b[0;36mSeries._arith_method\u001b[1;34m(self, other, op)\u001b[0m\n\u001b[0;32m   5813\u001b[0m \u001b[38;5;28;01mdef\u001b[39;00m \u001b[38;5;21m_arith_method\u001b[39m(\u001b[38;5;28mself\u001b[39m, other, op):\n\u001b[0;32m   5814\u001b[0m     \u001b[38;5;28mself\u001b[39m, other \u001b[38;5;241m=\u001b[39m \u001b[38;5;28mself\u001b[39m\u001b[38;5;241m.\u001b[39m_align_for_op(other)\n\u001b[1;32m-> 5815\u001b[0m     \u001b[38;5;28;01mreturn\u001b[39;00m base\u001b[38;5;241m.\u001b[39mIndexOpsMixin\u001b[38;5;241m.\u001b[39m_arith_method(\u001b[38;5;28mself\u001b[39m, other, op)\n",
      "File \u001b[1;32m~\\.conda\\envs\\curso_enap\\Lib\\site-packages\\pandas\\core\\base.py:1381\u001b[0m, in \u001b[0;36mIndexOpsMixin._arith_method\u001b[1;34m(self, other, op)\u001b[0m\n\u001b[0;32m   1378\u001b[0m     rvalues \u001b[38;5;241m=\u001b[39m np\u001b[38;5;241m.\u001b[39marange(rvalues\u001b[38;5;241m.\u001b[39mstart, rvalues\u001b[38;5;241m.\u001b[39mstop, rvalues\u001b[38;5;241m.\u001b[39mstep)\n\u001b[0;32m   1380\u001b[0m \u001b[38;5;28;01mwith\u001b[39;00m np\u001b[38;5;241m.\u001b[39merrstate(\u001b[38;5;28mall\u001b[39m\u001b[38;5;241m=\u001b[39m\u001b[38;5;124m\"\u001b[39m\u001b[38;5;124mignore\u001b[39m\u001b[38;5;124m\"\u001b[39m):\n\u001b[1;32m-> 1381\u001b[0m     result \u001b[38;5;241m=\u001b[39m ops\u001b[38;5;241m.\u001b[39marithmetic_op(lvalues, rvalues, op)\n\u001b[0;32m   1383\u001b[0m \u001b[38;5;28;01mreturn\u001b[39;00m \u001b[38;5;28mself\u001b[39m\u001b[38;5;241m.\u001b[39m_construct_result(result, name\u001b[38;5;241m=\u001b[39mres_name)\n",
      "File \u001b[1;32m~\\.conda\\envs\\curso_enap\\Lib\\site-packages\\pandas\\core\\ops\\array_ops.py:285\u001b[0m, in \u001b[0;36marithmetic_op\u001b[1;34m(left, right, op)\u001b[0m\n\u001b[0;32m    281\u001b[0m     _bool_arith_check(op, left, right)  \u001b[38;5;66;03m# type: ignore[arg-type]\u001b[39;00m\n\u001b[0;32m    283\u001b[0m     \u001b[38;5;66;03m# error: Argument 1 to \"_na_arithmetic_op\" has incompatible type\u001b[39;00m\n\u001b[0;32m    284\u001b[0m     \u001b[38;5;66;03m# \"Union[ExtensionArray, ndarray[Any, Any]]\"; expected \"ndarray[Any, Any]\"\u001b[39;00m\n\u001b[1;32m--> 285\u001b[0m     res_values \u001b[38;5;241m=\u001b[39m _na_arithmetic_op(left, right, op)  \u001b[38;5;66;03m# type: ignore[arg-type]\u001b[39;00m\n\u001b[0;32m    287\u001b[0m \u001b[38;5;28;01mreturn\u001b[39;00m res_values\n",
      "File \u001b[1;32m~\\.conda\\envs\\curso_enap\\Lib\\site-packages\\pandas\\core\\ops\\array_ops.py:229\u001b[0m, in \u001b[0;36m_na_arithmetic_op\u001b[1;34m(left, right, op, is_cmp)\u001b[0m\n\u001b[0;32m    221\u001b[0m \u001b[38;5;28;01mexcept\u001b[39;00m \u001b[38;5;167;01mTypeError\u001b[39;00m:\n\u001b[0;32m    222\u001b[0m     \u001b[38;5;28;01mif\u001b[39;00m \u001b[38;5;129;01mnot\u001b[39;00m is_cmp \u001b[38;5;129;01mand\u001b[39;00m (\n\u001b[0;32m    223\u001b[0m         left\u001b[38;5;241m.\u001b[39mdtype \u001b[38;5;241m==\u001b[39m \u001b[38;5;28mobject\u001b[39m \u001b[38;5;129;01mor\u001b[39;00m \u001b[38;5;28mgetattr\u001b[39m(right, \u001b[38;5;124m\"\u001b[39m\u001b[38;5;124mdtype\u001b[39m\u001b[38;5;124m\"\u001b[39m, \u001b[38;5;28;01mNone\u001b[39;00m) \u001b[38;5;241m==\u001b[39m \u001b[38;5;28mobject\u001b[39m\n\u001b[0;32m    224\u001b[0m     ):\n\u001b[1;32m   (...)\u001b[0m\n\u001b[0;32m    227\u001b[0m         \u001b[38;5;66;03m# Don't do this for comparisons, as that will handle complex numbers\u001b[39;00m\n\u001b[0;32m    228\u001b[0m         \u001b[38;5;66;03m#  incorrectly, see GH#32047\u001b[39;00m\n\u001b[1;32m--> 229\u001b[0m         result \u001b[38;5;241m=\u001b[39m _masked_arith_op(left, right, op)\n\u001b[0;32m    230\u001b[0m     \u001b[38;5;28;01melse\u001b[39;00m:\n\u001b[0;32m    231\u001b[0m         \u001b[38;5;28;01mraise\u001b[39;00m\n",
      "File \u001b[1;32m~\\.conda\\envs\\curso_enap\\Lib\\site-packages\\pandas\\core\\ops\\array_ops.py:165\u001b[0m, in \u001b[0;36m_masked_arith_op\u001b[1;34m(x, y, op)\u001b[0m\n\u001b[0;32m    163\u001b[0m     \u001b[38;5;66;03m# See GH#5284, GH#5035, GH#19448 for historical reference\u001b[39;00m\n\u001b[0;32m    164\u001b[0m     \u001b[38;5;28;01mif\u001b[39;00m mask\u001b[38;5;241m.\u001b[39many():\n\u001b[1;32m--> 165\u001b[0m         result[mask] \u001b[38;5;241m=\u001b[39m op(xrav[mask], yrav[mask])\n\u001b[0;32m    167\u001b[0m \u001b[38;5;28;01melse\u001b[39;00m:\n\u001b[0;32m    168\u001b[0m     \u001b[38;5;28;01mif\u001b[39;00m \u001b[38;5;129;01mnot\u001b[39;00m is_scalar(y):\n",
      "\u001b[1;31mTypeError\u001b[0m: unsupported operand type(s) for +: 'int' and 'str'"
     ]
    }
   ],
   "source": [
    "np1+np2"
   ]
  },
  {
   "cell_type": "code",
   "execution_count": null,
   "id": "31855c18-670d-4070-9f88-c8c7ef17e292",
   "metadata": {},
   "outputs": [],
   "source": [
    "Substitua, utilizando indexação booleana, os valores 'N/D' pelo valor 0 e tente novamente fazer a soma."
   ]
  },
  {
   "cell_type": "code",
   "execution_count": 84,
   "id": "211fd58e-a673-4435-975d-03185f6c2007",
   "metadata": {
    "tags": []
   },
   "outputs": [
    {
     "data": {
      "text/plain": [
       "Ana         13\n",
       "Isabela     15\n",
       "Fernando     7\n",
       "Pedro        5\n",
       "dtype: object"
      ]
     },
     "execution_count": 84,
     "metadata": {},
     "output_type": "execute_result"
    }
   ],
   "source": [
    "np2[np2=='N/D']=0\n",
    "soma= np2+np1"
   ]
  },
  {
   "cell_type": "markdown",
   "id": "91f714ef-a397-46c9-af6f-983ddf7c2a71",
   "metadata": {},
   "source": [
    "Converta a o tipo de dados da série para um tipo inteiro."
   ]
  },
  {
   "cell_type": "code",
   "execution_count": 85,
   "id": "de6be0ba-f357-4caa-b0b2-bda771d4634b",
   "metadata": {
    "tags": []
   },
   "outputs": [
    {
     "data": {
      "text/plain": [
       "Ana         5\n",
       "Isabela     9\n",
       "Fernando    3\n",
       "Pedro       0\n",
       "dtype: int8"
      ]
     },
     "execution_count": 85,
     "metadata": {},
     "output_type": "execute_result"
    }
   ],
   "source": [
    "np2.astype('int8')"
   ]
  }
 ],
 "metadata": {
  "kernelspec": {
   "display_name": "Python 3 (ipykernel)",
   "language": "python",
   "name": "python3"
  },
  "language_info": {
   "codemirror_mode": {
    "name": "ipython",
    "version": 3
   },
   "file_extension": ".py",
   "mimetype": "text/x-python",
   "name": "python",
   "nbconvert_exporter": "python",
   "pygments_lexer": "ipython3",
   "version": "3.11.5"
  }
 },
 "nbformat": 4,
 "nbformat_minor": 5
}
