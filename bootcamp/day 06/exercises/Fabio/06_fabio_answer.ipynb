{
 "cells": [
  {
   "cell_type": "markdown",
   "id": "fe9bc6da",
   "metadata": {},
   "source": [
    "# Explorando estatísticas brasileiras de comércio exterior"
   ]
  },
  {
   "cell_type": "markdown",
   "id": "bb7b38e9",
   "metadata": {},
   "source": [
    "Vamos carregar as séries de exportações e importações totais do Brasil de 2013 a 2022 (em milhões de dólares americanos)."
   ]
  },
  {
   "cell_type": "code",
   "execution_count": null,
   "id": "acd89b56",
   "metadata": {},
   "outputs": [],
   "source": [
    "import numpy as np\n",
    "#                          2013,    2014,   2015,   2016,   2017,   2018,   2019,    2020,   2021,   2022\n",
    "exp_2013_2022 = np.array([232544, 220923, 186782, 179526, 214988, 231890, 221127 , 209180, 280815, 334136])\n",
    "imp_2013_2022 = np.array([241501, 230823, 173104, 139321, 158951, 185322, 185928 , 185928, 219408, 272611])"
   ]
  },
  {
   "cell_type": "markdown",
   "id": "ba84131f",
   "metadata": {},
   "source": [
    "Identifique o tipo de dado atribuido automaticamente aos arrays pelo NumPy"
   ]
  },
  {
   "cell_type": "code",
   "execution_count": null,
   "id": "053590fb",
   "metadata": {},
   "outputs": [],
   "source": [
    "print(exp_2013_2022.dtype)\n",
    "print(imp_2013_2022.dtype)"
   ]
  },
  {
   "cell_type": "markdown",
   "id": "5c5d1ec2",
   "metadata": {},
   "source": [
    "Identifique os valores máximos de exportação e importação ao longo da série."
   ]
  },
  {
   "cell_type": "code",
   "execution_count": null,
   "id": "2cdd6692",
   "metadata": {
    "scrolled": true
   },
   "outputs": [],
   "source": [
    "print(np.max(exp_2013_2022))\n",
    "print(np.max(imp_2013_2022))"
   ]
  },
  {
   "cell_type": "markdown",
   "id": "44c2995e",
   "metadata": {},
   "source": [
    "Some o total de anos em que as exportações foram maiores que as importações."
   ]
  },
  {
   "cell_type": "code",
   "execution_count": null,
   "id": "2d9e0aec",
   "metadata": {
    "scrolled": false
   },
   "outputs": [],
   "source": [
    "np.greater(exp_2013_2022, imp_2013_2022).sum()"
   ]
  },
  {
   "cell_type": "markdown",
   "id": "ccc0ccff",
   "metadata": {},
   "source": [
    "Crie um novo array com o saldo (exportações - importações) para cada ano da série"
   ]
  },
  {
   "cell_type": "code",
   "execution_count": null,
   "id": "fc683fc6",
   "metadata": {},
   "outputs": [],
   "source": [
    "saldo_2013_2022 = np.subtract(exp_2013_2022, imp_2013_2022)\n",
    "# ou\n",
    "saldo_2013_2022 = exp_2013_2022 - imp_2013_2022"
   ]
  },
  {
   "cell_type": "markdown",
   "id": "7fa36b87",
   "metadata": {},
   "source": [
    "Concatene os três arrays em um único array de duas dimensões."
   ]
  },
  {
   "cell_type": "code",
   "execution_count": null,
   "id": "d80a8032",
   "metadata": {
    "scrolled": true
   },
   "outputs": [],
   "source": [
    "exp_imp_saldo = np.vstack([exp_2013_2022, imp_2013_2022, saldo_2013_2022])"
   ]
  },
  {
   "cell_type": "markdown",
   "id": "55b6426e",
   "metadata": {},
   "source": [
    "Retorne, em um array, as médias das exportações, importações e do saldo."
   ]
  },
  {
   "cell_type": "code",
   "execution_count": null,
   "id": "0e29af15",
   "metadata": {
    "scrolled": true
   },
   "outputs": [],
   "source": [
    "np.mean(exp_imp_saldo, axis = 1)"
   ]
  },
  {
   "cell_type": "markdown",
   "id": "1d216be9",
   "metadata": {},
   "source": [
    "Crie um array com os anos da série, ordenados de 2013 a 2022."
   ]
  },
  {
   "cell_type": "code",
   "execution_count": null,
   "id": "06ef5569",
   "metadata": {},
   "outputs": [],
   "source": [
    "anos = np.array([2013, 2014, 2015, 2016, 2017, 2018, 2019, 2020, 2021, 2022])"
   ]
  },
  {
   "cell_type": "markdown",
   "id": "c9237d98",
   "metadata": {},
   "source": [
    "Retorne um array com o ano em que as exportações tiveram seu maior máximo."
   ]
  },
  {
   "cell_type": "code",
   "execution_count": null,
   "id": "90b64cf9",
   "metadata": {},
   "outputs": [],
   "source": [
    "anos[exp_2013_2022 == np.max(exp_2013_2022)]"
   ]
  },
  {
   "cell_type": "markdown",
   "id": "fbd3b4d2",
   "metadata": {},
   "source": [
    "Retorne um array com os anos em que as importações superaram as exportações."
   ]
  },
  {
   "cell_type": "code",
   "execution_count": null,
   "id": "2724dcc6",
   "metadata": {},
   "outputs": [],
   "source": [
    "anos[imp_2013_2022 > exp_2013_2022]\n",
    "# ou\n",
    "anos[np.greater(imp_2013_2022, exp_2013_2022)]"
   ]
  },
  {
   "cell_type": "markdown",
   "id": "1002e92c",
   "metadata": {},
   "source": [
    "Crie um novo array de duas dimensões com as exportações, importações e saldo, mas com valores em bilhões de dólares. Identifique seu tipo de dado."
   ]
  },
  {
   "cell_type": "code",
   "execution_count": null,
   "id": "9d3e0e90",
   "metadata": {},
   "outputs": [],
   "source": [
    "exp_imp_saldo_bi = exp_imp_saldo / 1e3"
   ]
  },
  {
   "cell_type": "code",
   "execution_count": null,
   "id": "d9318a8b",
   "metadata": {
    "scrolled": true
   },
   "outputs": [],
   "source": [
    "exp_imp_saldo_bi.dtype"
   ]
  }
 ],
 "metadata": {
  "kernelspec": {
   "display_name": "Python 3 (ipykernel)",
   "language": "python",
   "name": "python3"
  },
  "language_info": {
   "codemirror_mode": {
    "name": "ipython",
    "version": 3
   },
   "file_extension": ".py",
   "mimetype": "text/x-python",
   "name": "python",
   "nbconvert_exporter": "python",
   "pygments_lexer": "ipython3",
   "version": "3.11.5"
  },
  "toc": {
   "base_numbering": 1,
   "nav_menu": {},
   "number_sections": true,
   "sideBar": true,
   "skip_h1_title": false,
   "title_cell": "Table of Contents",
   "title_sidebar": "Contents",
   "toc_cell": false,
   "toc_position": {},
   "toc_section_display": true,
   "toc_window_display": false
  }
 },
 "nbformat": 4,
 "nbformat_minor": 5
}
