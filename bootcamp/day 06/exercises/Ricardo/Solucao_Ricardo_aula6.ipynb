{
 "cells": [
  {
   "cell_type": "markdown",
   "id": "493263f6",
   "metadata": {},
   "source": [
    "# Analisando informações do Portal da Trasparência - (Lista nível fácil) \n",
    "\n",
    "Lançado pela Controladoria-Geral da União (CGU), em 2004, o Portal da Transparência do Governo Federal é um site de acesso livre. Nele, encontramos informações relacionadas à dados da gestão pública do Brasil.\n",
    "\n",
    "Vamos analisar alguns dados de órgãos superiores referentes ao ano de 2022.\n",
    "\n",
    "\n",
    "https://portaldatransparencia.gov.br/orgaos-superiores"
   ]
  },
  {
   "cell_type": "code",
   "execution_count": 1,
   "id": "56b95180-5879-48be-b5cd-f130017f739c",
   "metadata": {},
   "outputs": [],
   "source": [
    "import numpy as np"
   ]
  },
  {
   "cell_type": "markdown",
   "id": "17228490",
   "metadata": {},
   "source": [
    "1- A partir da lista de informações sobre o número de servidores por orgão superior abaixo, extraídas do portal da transparência (link acima), crie um vetor ndarray de nome 'orgaos_numpy', bem como um vetor ndarray de nome 'servidores_numpy' usando a biblioteca numpy. Essas listas armazenam, respectivamente, o órgão e a quantidade correspondente de vínculos de servidores em exercício (dados de 2022)."
   ]
  },
  {
   "cell_type": "code",
   "execution_count": 2,
   "id": "5c7c8db3-e128-44e1-a6b3-012c560a3e0a",
   "metadata": {},
   "outputs": [],
   "source": [
    "orgaos = ['Ministério da Educação', 'Ministério da Defesa', 'Ministério da Gestão e da Inovação em Serviços Públicos', 'Ministério da Justiça e Segurança Pública', 'Ministério da Saúde', 'Ministério da Fazenda', 'Ministério da Agricultura e Pecuária', 'Ministério da Previdência Social', 'Advocacia-Geral da União', 'Banco Central do Brasil - Orçamento Fiscal e Seguridade Social', 'Ministério de Minas e Energia', 'Ministério das Relações Exteriores', 'Ministério do Desenvolvimento Agrário e Agricultura Familiar', 'Ministério das Cidades', 'Ministério do Meio Ambiente e Mudança do Clima', 'Ministério do Planejamento e Orçamento', 'Ministério dos Transportes', 'Ministério do Trabalho e Emprego', 'Presidência da República', 'Ministério da Ciência, Tecnologia e Inovação', 'Controladoria-Geral da União', 'Ministério da Integração e do Desenvolvimento Regional', 'Ministério das Comunicações', 'Ministério do Desenvolvimento, Indústria, Comércio e Serviços', 'Ministério de Portos e Aeroportos', 'Ministério da Cultura', 'Ministério do Desenvolvimento e Assistência Social, Família e Combate à Fome', 'Ministério do Turismo', 'Ministério dos Povos Indígenas', 'Ministério dos Direitos Humanos e Cidadania', 'Governo do Distrito Federal - DAR', 'Prefeitura de São Luis - DAR', 'Ministério do Planejamento e Orçamento']\n",
    "servidores = [374209, 373860, 454, 35465, 44762, 50820, 15275, 29076, 9579, 4442, 8283, 1845, 6941, 3985, 11838, 12345, 6781, 253, 5621, 5945, 2766, 3809, 1926, 2423, 0, 3042, 1143, 382, 2780, 576, 1, 1, 514]"
   ]
  },
  {
   "cell_type": "code",
   "execution_count": 3,
   "id": "0fc0008d-e5a4-4b76-bcad-ceeadb578aef",
   "metadata": {},
   "outputs": [
    {
     "data": {
      "text/plain": [
       "array([['Ministério da Educação', '374209'],\n",
       "       ['Ministério da Defesa', '373860'],\n",
       "       ['Ministério da Gestão e da Inovação em Serviços Públicos', '454'],\n",
       "       ['Ministério da Justiça e Segurança Pública', '35465'],\n",
       "       ['Ministério da Saúde', '44762'],\n",
       "       ['Ministério da Fazenda', '50820'],\n",
       "       ['Ministério da Agricultura e Pecuária', '15275'],\n",
       "       ['Ministério da Previdência Social', '29076'],\n",
       "       ['Advocacia-Geral da União', '9579'],\n",
       "       ['Banco Central do Brasil - Orçamento Fiscal e Seguridade Social',\n",
       "        '4442'],\n",
       "       ['Ministério de Minas e Energia', '8283'],\n",
       "       ['Ministério das Relações Exteriores', '1845'],\n",
       "       ['Ministério do Desenvolvimento Agrário e Agricultura Familiar',\n",
       "        '6941'],\n",
       "       ['Ministério das Cidades', '3985'],\n",
       "       ['Ministério do Meio Ambiente e Mudança do Clima', '11838'],\n",
       "       ['Ministério do Planejamento e Orçamento', '12345'],\n",
       "       ['Ministério dos Transportes', '6781'],\n",
       "       ['Ministério do Trabalho e Emprego', '253'],\n",
       "       ['Presidência da República', '5621'],\n",
       "       ['Ministério da Ciência, Tecnologia e Inovação', '5945'],\n",
       "       ['Controladoria-Geral da União', '2766'],\n",
       "       ['Ministério da Integração e do Desenvolvimento Regional', '3809'],\n",
       "       ['Ministério das Comunicações', '1926'],\n",
       "       ['Ministério do Desenvolvimento, Indústria, Comércio e Serviços',\n",
       "        '2423'],\n",
       "       ['Ministério de Portos e Aeroportos', '0'],\n",
       "       ['Ministério da Cultura', '3042'],\n",
       "       ['Ministério do Desenvolvimento e Assistência Social, Família e Combate à Fome',\n",
       "        '1143'],\n",
       "       ['Ministério do Turismo', '382'],\n",
       "       ['Ministério dos Povos Indígenas', '2780'],\n",
       "       ['Ministério dos Direitos Humanos e Cidadania', '576'],\n",
       "       ['Governo do Distrito Federal - DAR', '1'],\n",
       "       ['Prefeitura de São Luis - DAR', '1'],\n",
       "       ['Ministério do Planejamento e Orçamento', '514']], dtype='<U76')"
      ]
     },
     "execution_count": 3,
     "metadata": {},
     "output_type": "execute_result"
    }
   ],
   "source": [
    "matriz = np.stack([orgaos, servidores], axis=1)\n",
    "matriz"
   ]
  },
  {
   "cell_type": "markdown",
   "id": "39845dbc",
   "metadata": {},
   "source": [
    "2 - Obtenha a informação sobre o total de vínculos de servidores em exercício da Saúde."
   ]
  },
  {
   "cell_type": "code",
   "execution_count": 4,
   "id": "c24aa543-f031-4e6f-8eaa-a1c802b7b2e3",
   "metadata": {},
   "outputs": [
    {
     "data": {
      "text/plain": [
       "array([['Ministério da Saúde', '44762']], dtype='<U76')"
      ]
     },
     "execution_count": 4,
     "metadata": {},
     "output_type": "execute_result"
    }
   ],
   "source": [
    "busca_ms = np.char.find(matriz[:,0], 'Saúde') >= 0\n",
    "matriz[busca_ms]"
   ]
  },
  {
   "cell_type": "markdown",
   "id": "86a4ceb8",
   "metadata": {},
   "source": [
    "3- Verifique se 'Planejamento' é um órgão que pertence ao ndarray 'orgaos_numpy' criada."
   ]
  },
  {
   "cell_type": "code",
   "execution_count": 5,
   "id": "3e275299-9c1b-44f5-942b-a013ae15634d",
   "metadata": {},
   "outputs": [
    {
     "data": {
      "text/plain": [
       "array([['Ministério do Planejamento e Orçamento', '12345'],\n",
       "       ['Ministério do Planejamento e Orçamento', '514']], dtype='<U76')"
      ]
     },
     "execution_count": 5,
     "metadata": {},
     "output_type": "execute_result"
    }
   ],
   "source": [
    "busca_mp = np.char.find(matriz[:,0], 'Planejamento') >= 0\n",
    "matriz[busca_mp]"
   ]
  },
  {
   "cell_type": "markdown",
   "id": "d2f22515",
   "metadata": {},
   "source": [
    "4- Verifique se 'Justica' é um órgão que pertence ao ndarray 'servidores_numpy' criada."
   ]
  },
  {
   "cell_type": "code",
   "execution_count": 6,
   "id": "854391c9",
   "metadata": {},
   "outputs": [
    {
     "data": {
      "text/plain": [
       "array([['Ministério da Justiça e Segurança Pública', '35465']],\n",
       "      dtype='<U76')"
      ]
     },
     "execution_count": 6,
     "metadata": {},
     "output_type": "execute_result"
    }
   ],
   "source": [
    "busca_mj = np.char.find(matriz[:,0], 'Justiça') >= 0\n",
    "matriz[busca_mj]"
   ]
  },
  {
   "cell_type": "markdown",
   "id": "738e4087",
   "metadata": {},
   "source": [
    "5 - Verifique quantos órgãos apresentam mais de 50 mil servidores."
   ]
  },
  {
   "cell_type": "code",
   "execution_count": 7,
   "id": "572741d1-dbf1-4ec7-a080-4a9f9b428969",
   "metadata": {},
   "outputs": [],
   "source": [
    "busca_numerica = matriz[:,1].astype(int) > 50_000"
   ]
  },
  {
   "cell_type": "code",
   "execution_count": 8,
   "id": "514edafd-7ed3-40f1-bc38-a34961325602",
   "metadata": {},
   "outputs": [
    {
     "data": {
      "text/plain": [
       "3"
      ]
     },
     "execution_count": 8,
     "metadata": {},
     "output_type": "execute_result"
    }
   ],
   "source": [
    "matriz[busca_numerica].shape[0]"
   ]
  },
  {
   "cell_type": "markdown",
   "id": "1645c594",
   "metadata": {},
   "source": [
    "6- Qual o total de servidores de todos os ministérios do ndarray 'servidores_numpy', somados?"
   ]
  },
  {
   "cell_type": "code",
   "execution_count": null,
   "id": "1dcb8b1d-a10b-4428-bb92-1234deb9bf0b",
   "metadata": {},
   "outputs": [],
   "source": []
  },
  {
   "cell_type": "code",
   "execution_count": 9,
   "id": "defd41c1-7108-4bcd-b2f5-f178d3bef6fd",
   "metadata": {},
   "outputs": [
    {
     "data": {
      "text/plain": [
       "998732"
      ]
     },
     "execution_count": 9,
     "metadata": {},
     "output_type": "execute_result"
    }
   ],
   "source": [
    "lista_de_ministerios = np.char.find(matriz[:,0], 'Ministério') >= 0\n",
    "np.sum(matriz[lista_de_ministerios][:,1].astype('int'))"
   ]
  },
  {
   "cell_type": "markdown",
   "id": "fa63c643",
   "metadata": {},
   "source": [
    "7- A partir da lista de informações sobre o valor pago com folha de pagamento dos servidores por orgão superior, abaixo, também extraídos do portal da transparência, crie um ndarray de nome 'folha_pagamento_numpy' usando a biblioteca numpy. Essa lista armazena valores correspondentes aos órgãos da lista 'orgaos_numpy' na mesma ordem em que aparecem (dados de 2022)."
   ]
  },
  {
   "cell_type": "code",
   "execution_count": 10,
   "id": "3c3d522c-3054-4b77-8d5e-ea10df0ab5ec",
   "metadata": {},
   "outputs": [],
   "source": [
    "folha_pagamento = [29905581441, 18646688527, 6062051391, 5260114108, 4015583724, 3002748351, 2741338080, 1517197677, 1506456183, 1265548977, 1102582529, 1044772102, 1014615126, 927201398.1, 761366841.2, 702581926.8, 613378383.9, 606553394.8, 605755788.9, 449376002.6, 416806003.1, 403988682.6, 260483610.5, 258662221.9, 213340636.5, 189280742, 55762849.19, 50954735.07, 33652681.77, 16114057.36, 0, 0, 0]"
   ]
  },
  {
   "cell_type": "code",
   "execution_count": 11,
   "id": "6498799e-d94c-42ce-b131-87fab4980a1f",
   "metadata": {},
   "outputs": [
    {
     "data": {
      "text/plain": [
       "array([['Ministério da Educação', '374209', '29905581441.0'],\n",
       "       ['Ministério da Defesa', '373860', '18646688527.0'],\n",
       "       ['Ministério da Gestão e da Inovação em Serviços Públicos', '454',\n",
       "        '6062051391.0'],\n",
       "       ['Ministério da Justiça e Segurança Pública', '35465',\n",
       "        '5260114108.0'],\n",
       "       ['Ministério da Saúde', '44762', '4015583724.0'],\n",
       "       ['Ministério da Fazenda', '50820', '3002748351.0'],\n",
       "       ['Ministério da Agricultura e Pecuária', '15275', '2741338080.0'],\n",
       "       ['Ministério da Previdência Social', '29076', '1517197677.0'],\n",
       "       ['Advocacia-Geral da União', '9579', '1506456183.0'],\n",
       "       ['Banco Central do Brasil - Orçamento Fiscal e Seguridade Social',\n",
       "        '4442', '1265548977.0'],\n",
       "       ['Ministério de Minas e Energia', '8283', '1102582529.0'],\n",
       "       ['Ministério das Relações Exteriores', '1845', '1044772102.0'],\n",
       "       ['Ministério do Desenvolvimento Agrário e Agricultura Familiar',\n",
       "        '6941', '1014615126.0'],\n",
       "       ['Ministério das Cidades', '3985', '927201398.1'],\n",
       "       ['Ministério do Meio Ambiente e Mudança do Clima', '11838',\n",
       "        '761366841.2'],\n",
       "       ['Ministério do Planejamento e Orçamento', '12345', '702581926.8'],\n",
       "       ['Ministério dos Transportes', '6781', '613378383.9'],\n",
       "       ['Ministério do Trabalho e Emprego', '253', '606553394.8'],\n",
       "       ['Presidência da República', '5621', '605755788.9'],\n",
       "       ['Ministério da Ciência, Tecnologia e Inovação', '5945',\n",
       "        '449376002.6'],\n",
       "       ['Controladoria-Geral da União', '2766', '416806003.1'],\n",
       "       ['Ministério da Integração e do Desenvolvimento Regional', '3809',\n",
       "        '403988682.6'],\n",
       "       ['Ministério das Comunicações', '1926', '260483610.5'],\n",
       "       ['Ministério do Desenvolvimento, Indústria, Comércio e Serviços',\n",
       "        '2423', '258662221.9'],\n",
       "       ['Ministério de Portos e Aeroportos', '0', '213340636.5'],\n",
       "       ['Ministério da Cultura', '3042', '189280742.0'],\n",
       "       ['Ministério do Desenvolvimento e Assistência Social, Família e Combate à Fome',\n",
       "        '1143', '55762849.19'],\n",
       "       ['Ministério do Turismo', '382', '50954735.07'],\n",
       "       ['Ministério dos Povos Indígenas', '2780', '33652681.77'],\n",
       "       ['Ministério dos Direitos Humanos e Cidadania', '576',\n",
       "        '16114057.36'],\n",
       "       ['Governo do Distrito Federal - DAR', '1', '0.0'],\n",
       "       ['Prefeitura de São Luis - DAR', '1', '0.0'],\n",
       "       ['Ministério do Planejamento e Orçamento', '514', '0.0']],\n",
       "      dtype='<U76')"
      ]
     },
     "execution_count": 11,
     "metadata": {},
     "output_type": "execute_result"
    }
   ],
   "source": [
    "matriz_completa = np.stack([orgaos, servidores, folha_pagamento], axis=1)\n",
    "matriz_completa"
   ]
  },
  {
   "cell_type": "markdown",
   "id": "b4307608",
   "metadata": {},
   "source": [
    "8- Faça a divisão do ndarray 'folha_pagamento_numpy' pelo ndarray 'servidores_numpy' para encontrar o pagamento médio anual por servidor, por orgão superior."
   ]
  },
  {
   "cell_type": "code",
   "execution_count": 12,
   "id": "2eee9500-3040-4149-8b5c-46178e32c751",
   "metadata": {},
   "outputs": [
    {
     "name": "stderr",
     "output_type": "stream",
     "text": [
      "/var/folders/3k/5x2j3hkx6x3f717k3344mgpm0000gn/T/ipykernel_64831/3654747271.py:4: RuntimeWarning: divide by zero encountered in divide\n",
      "  coluna_da_media_da_folha_de_pagamento = coluna_da_folha_de_pagamento / coluna_do_n_de_servidores\n"
     ]
    },
    {
     "data": {
      "text/plain": [
       "array([['Ministério da Educação', '79916.78832149948'],\n",
       "       ['Ministério da Defesa', '49876.126162199755'],\n",
       "       ['Ministério da Gestão e da Inovação em Serviços Públicos',\n",
       "        '13352536.103524229'],\n",
       "       ['Ministério da Justiça e Segurança Pública',\n",
       "        '148318.45785986184'],\n",
       "       ['Ministério da Saúde', '89709.65828157813'],\n",
       "       ['Ministério da Fazenda', '59085.95731995277'],\n",
       "       ['Ministério da Agricultura e Pecuária', '179465.6680851064'],\n",
       "       ['Ministério da Previdência Social', '52180.412608336774'],\n",
       "       ['Advocacia-Geral da União', '157266.53961791418'],\n",
       "       ['Banco Central do Brasil - Orçamento Fiscal e Seguridade Social',\n",
       "        '284905.2176947321'],\n",
       "       ['Ministério de Minas e Energia', '133113.9115054932'],\n",
       "       ['Ministério das Relações Exteriores', '566272.14200542'],\n",
       "       ['Ministério do Desenvolvimento Agrário e Agricultura Familiar',\n",
       "        '146177.0819766604'],\n",
       "       ['Ministério das Cidades', '232672.8727979925'],\n",
       "       ['Ministério do Meio Ambiente e Mudança do Clima',\n",
       "        '64315.49596215577'],\n",
       "       ['Ministério do Planejamento e Orçamento', '56912.2662454435'],\n",
       "       ['Ministério dos Transportes', '90455.44667453178'],\n",
       "       ['Ministério do Trabalho e Emprego', '2397444.248221344'],\n",
       "       ['Presidência da República', '107766.55201921366'],\n",
       "       ['Ministério da Ciência, Tecnologia e Inovação',\n",
       "        '75588.89867115223'],\n",
       "       ['Controladoria-Geral da União', '150689.0828271873'],\n",
       "       ['Ministério da Integração e do Desenvolvimento Regional',\n",
       "        '106061.61265423996'],\n",
       "       ['Ministério das Comunicações', '135245.9036863967'],\n",
       "       ['Ministério do Desenvolvimento, Indústria, Comércio e Serviços',\n",
       "        '106752.877383409'],\n",
       "       ['Ministério de Portos e Aeroportos', 'inf'],\n",
       "       ['Ministério da Cultura', '62222.46614069691'],\n",
       "       ['Ministério do Desenvolvimento e Assistência Social, Família e Combate à Fome',\n",
       "        '48786.39474190726'],\n",
       "       ['Ministério do Turismo', '133389.35882198953'],\n",
       "       ['Ministério dos Povos Indígenas', '12105.281212230217'],\n",
       "       ['Ministério dos Direitos Humanos e Cidadania',\n",
       "        '27975.794027777778'],\n",
       "       ['Governo do Distrito Federal - DAR', '0.0'],\n",
       "       ['Prefeitura de São Luis - DAR', '0.0'],\n",
       "       ['Ministério do Planejamento e Orçamento', '0.0']], dtype='<U76')"
      ]
     },
     "execution_count": 12,
     "metadata": {},
     "output_type": "execute_result"
    }
   ],
   "source": [
    "coluna_do_orgao = matriz_completa[:,0]\n",
    "coluna_da_folha_de_pagamento = matriz_completa[:,2].astype('float')\n",
    "coluna_do_n_de_servidores = matriz_completa[:,1].astype('int')\n",
    "coluna_da_media_da_folha_de_pagamento = coluna_da_folha_de_pagamento / coluna_do_n_de_servidores\n",
    "ministerios = np.stack([coluna_do_orgao, coluna_da_media_da_folha_de_pagamento], axis=1)\n",
    "ministerios"
   ]
  },
  {
   "cell_type": "markdown",
   "id": "b47713ff",
   "metadata": {},
   "source": [
    "9- Crie um ndarray de nome 'pagamento_por_servidor_numpy' com o resultado da operação anterior."
   ]
  },
  {
   "cell_type": "code",
   "execution_count": 13,
   "id": "524a8d97",
   "metadata": {},
   "outputs": [
    {
     "data": {
      "text/plain": [
       "array(['79916.78832149948', '49876.126162199755', '13352536.103524229',\n",
       "       '148318.45785986184', '89709.65828157813', '59085.95731995277',\n",
       "       '179465.6680851064', '52180.412608336774', '157266.53961791418',\n",
       "       '284905.2176947321', '133113.9115054932', '566272.14200542',\n",
       "       '146177.0819766604', '232672.8727979925', '64315.49596215577',\n",
       "       '56912.2662454435', '90455.44667453178', '2397444.248221344',\n",
       "       '107766.55201921366', '75588.89867115223', '150689.0828271873',\n",
       "       '106061.61265423996', '135245.9036863967', '106752.877383409',\n",
       "       'inf', '62222.46614069691', '48786.39474190726',\n",
       "       '133389.35882198953', '12105.281212230217', '27975.794027777778',\n",
       "       '0.0', '0.0', '0.0'], dtype='<U76')"
      ]
     },
     "execution_count": 13,
     "metadata": {},
     "output_type": "execute_result"
    }
   ],
   "source": [
    "pagamento_por_servidor_numpy = \\\n",
    "    np.stack([coluna_do_orgao, coluna_da_media_da_folha_de_pagamento], axis=1)[:,1]\n",
    "pagamento_por_servidor_numpy"
   ]
  },
  {
   "cell_type": "markdown",
   "id": "21e44ee5",
   "metadata": {},
   "source": [
    "10- Verifique quais valores são divisões por zero (inf) e quais não são na ndarray 'pagamento_por_servidor_numpy'."
   ]
  },
  {
   "cell_type": "code",
   "execution_count": 14,
   "id": "5be9b0a0",
   "metadata": {},
   "outputs": [
    {
     "data": {
      "text/plain": [
       "array([False, False, False, False, False, False, False, False, False,\n",
       "       False, False, False, False, False, False, False, False, False,\n",
       "       False, False, False, False, False, False,  True, False, False,\n",
       "       False, False, False, False, False, False])"
      ]
     },
     "execution_count": 14,
     "metadata": {},
     "output_type": "execute_result"
    }
   ],
   "source": [
    "pagamento_por_servidor_inf = (pagamento_por_servidor_numpy == 'inf')\n",
    "pagamento_por_servidor_inf"
   ]
  },
  {
   "cell_type": "markdown",
   "id": "aa6aefad",
   "metadata": {},
   "source": [
    "11- Remova o Ministério que teve valor identificado como inf do ndarray \"pagamento_por_servidor_numpy\"."
   ]
  },
  {
   "cell_type": "code",
   "execution_count": 15,
   "id": "2f803773",
   "metadata": {},
   "outputs": [
    {
     "data": {
      "text/plain": [
       "array([['Ministério da Educação', '79916.78832149948'],\n",
       "       ['Ministério da Defesa', '49876.126162199755'],\n",
       "       ['Ministério da Gestão e da Inovação em Serviços Públicos',\n",
       "        '13352536.103524229'],\n",
       "       ['Ministério da Justiça e Segurança Pública',\n",
       "        '148318.45785986184'],\n",
       "       ['Ministério da Saúde', '89709.65828157813'],\n",
       "       ['Ministério da Fazenda', '59085.95731995277'],\n",
       "       ['Ministério da Agricultura e Pecuária', '179465.6680851064'],\n",
       "       ['Ministério da Previdência Social', '52180.412608336774'],\n",
       "       ['Advocacia-Geral da União', '157266.53961791418'],\n",
       "       ['Banco Central do Brasil - Orçamento Fiscal e Seguridade Social',\n",
       "        '284905.2176947321'],\n",
       "       ['Ministério de Minas e Energia', '133113.9115054932'],\n",
       "       ['Ministério das Relações Exteriores', '566272.14200542'],\n",
       "       ['Ministério do Desenvolvimento Agrário e Agricultura Familiar',\n",
       "        '146177.0819766604'],\n",
       "       ['Ministério das Cidades', '232672.8727979925'],\n",
       "       ['Ministério do Meio Ambiente e Mudança do Clima',\n",
       "        '64315.49596215577'],\n",
       "       ['Ministério do Planejamento e Orçamento', '56912.2662454435'],\n",
       "       ['Ministério dos Transportes', '90455.44667453178'],\n",
       "       ['Ministério do Trabalho e Emprego', '2397444.248221344'],\n",
       "       ['Presidência da República', '107766.55201921366'],\n",
       "       ['Ministério da Ciência, Tecnologia e Inovação',\n",
       "        '75588.89867115223'],\n",
       "       ['Controladoria-Geral da União', '150689.0828271873'],\n",
       "       ['Ministério da Integração e do Desenvolvimento Regional',\n",
       "        '106061.61265423996'],\n",
       "       ['Ministério das Comunicações', '135245.9036863967'],\n",
       "       ['Ministério do Desenvolvimento, Indústria, Comércio e Serviços',\n",
       "        '106752.877383409'],\n",
       "       ['Ministério da Cultura', '62222.46614069691'],\n",
       "       ['Ministério do Desenvolvimento e Assistência Social, Família e Combate à Fome',\n",
       "        '48786.39474190726'],\n",
       "       ['Ministério do Turismo', '133389.35882198953'],\n",
       "       ['Ministério dos Povos Indígenas', '12105.281212230217'],\n",
       "       ['Ministério dos Direitos Humanos e Cidadania',\n",
       "        '27975.794027777778'],\n",
       "       ['Governo do Distrito Federal - DAR', '0.0'],\n",
       "       ['Prefeitura de São Luis - DAR', '0.0'],\n",
       "       ['Ministério do Planejamento e Orçamento', '0.0']], dtype='<U76')"
      ]
     },
     "execution_count": 15,
     "metadata": {},
     "output_type": "execute_result"
    }
   ],
   "source": [
    "ministerios_restantes = ministerios[~pagamento_por_servidor_inf]\n",
    "ministerios_restantes"
   ]
  },
  {
   "cell_type": "markdown",
   "id": "31b7a95e",
   "metadata": {},
   "source": [
    "12- Confira se o ndarray foi atualizado."
   ]
  },
  {
   "cell_type": "code",
   "execution_count": 16,
   "id": "453bada2",
   "metadata": {},
   "outputs": [
    {
     "data": {
      "text/plain": [
       "(33, 2)"
      ]
     },
     "execution_count": 16,
     "metadata": {},
     "output_type": "execute_result"
    }
   ],
   "source": [
    "ministerios.shape"
   ]
  },
  {
   "cell_type": "code",
   "execution_count": 17,
   "id": "8369ee6a-68a2-4650-b2a8-d07051d8f112",
   "metadata": {},
   "outputs": [
    {
     "data": {
      "text/plain": [
       "(32, 2)"
      ]
     },
     "execution_count": 17,
     "metadata": {},
     "output_type": "execute_result"
    }
   ],
   "source": [
    "ministerios_restantes.shape"
   ]
  }
 ],
 "metadata": {
  "kernelspec": {
   "display_name": "Python 3 (ipykernel)",
   "language": "python",
   "name": "python3"
  },
  "language_info": {
   "codemirror_mode": {
    "name": "ipython",
    "version": 3
   },
   "file_extension": ".py",
   "mimetype": "text/x-python",
   "name": "python",
   "nbconvert_exporter": "python",
   "pygments_lexer": "ipython3",
   "version": "3.11.2"
  }
 },
 "nbformat": 4,
 "nbformat_minor": 5
}
