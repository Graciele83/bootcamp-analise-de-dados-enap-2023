{
 "cells": [
  {
   "cell_type": "markdown",
   "id": "493263f6",
   "metadata": {},
   "source": [
    "# Analisando informações do Portal da Trasparência - (Lista nível fácil) \n",
    "\n",
    "Lançado pela Controladoria-Geral da União (CGU), em 2004, o Portal da Transparência do Governo Federal é um site de acesso livre. Nele, encontramos informações relacionadas à dados da gestão pública do Brasil.\n",
    "\n",
    "Vamos analisar alguns dados de órgãos superiores referentes ao ano de 2022.\n",
    "\n",
    "\n",
    "https://portaldatransparencia.gov.br/orgaos-superiores"
   ]
  },
  {
   "cell_type": "markdown",
   "id": "17228490",
   "metadata": {},
   "source": [
    "1- A partir da lista de informações sobre o número de servidores por orgão superior abaixo, extraídas do portal da transparência (link acima), crie um vetor ndarray de nome 'orgaos_numpy', bem como um vetor ndarray de nome 'servidores_numpy' usando a biblioteca numpy. Essas listas armazenam, respectivamente, o órgão e a quantidade correspondente de vínculos de servidores em exercício (dados de 2022)."
   ]
  },
  {
   "cell_type": "code",
   "execution_count": 3,
   "id": "5c7c8db3-e128-44e1-a6b3-012c560a3e0a",
   "metadata": {},
   "outputs": [],
   "source": [
    "orgaos = ['Ministério da Educação', 'Ministério da Defesa', 'Ministério da Gestão e da Inovação em Serviços Públicos', 'Ministério da Justiça e Segurança Pública', 'Ministério da Saúde', 'Ministério da Fazenda', 'Ministério da Agricultura e Pecuária', 'Ministério da Previdência Social', 'Advocacia-Geral da União', 'Banco Central do Brasil - Orçamento Fiscal e Seguridade Social', 'Ministério de Minas e Energia', 'Ministério das Relações Exteriores', 'Ministério do Desenvolvimento Agrário e Agricultura Familiar', 'Ministério das Cidades', 'Ministério do Meio Ambiente e Mudança do Clima', 'Ministério do Planejamento e Orçamento', 'Ministério dos Transportes', 'Ministério do Trabalho e Emprego', 'Presidência da República', 'Ministério da Ciência, Tecnologia e Inovação', 'Controladoria-Geral da União', 'Ministério da Integração e do Desenvolvimento Regional', 'Ministério das Comunicações', 'Ministério do Desenvolvimento, Indústria, Comércio e Serviços', 'Ministério de Portos e Aeroportos', 'Ministério da Cultura', 'Ministério do Desenvolvimento e Assistência Social, Família e Combate à Fome', 'Ministério do Turismo', 'Ministério dos Povos Indígenas', 'Ministério dos Direitos Humanos e Cidadania', 'Governo do Distrito Federal - DAR', 'Prefeitura de São Luis - DAR', 'Ministério do Planejamento e Orçamento']\n",
    "servidores = [374209, 373860, 454, 35465, 44762, 50820, 15275, 29076, 9579, 4442, 8283, 1845, 6941, 3985, 11838, 12345, 6781, 253, 5621, 5945, 2766, 3809, 1926, 2423, 0, 3042, 1143, 382, 2780, 576, 1, 1, 514]"
   ]
  },
  {
   "cell_type": "code",
   "execution_count": null,
   "id": "56b95180-5879-48be-b5cd-f130017f739c",
   "metadata": {},
   "outputs": [],
   "source": []
  },
  {
   "cell_type": "code",
   "execution_count": null,
   "id": "0fc0008d-e5a4-4b76-bcad-ceeadb578aef",
   "metadata": {},
   "outputs": [],
   "source": []
  },
  {
   "cell_type": "markdown",
   "id": "39845dbc",
   "metadata": {},
   "source": [
    "2 - Obtenha a informação sobre o total de vínculos de servidores em exercício da Saúde."
   ]
  },
  {
   "cell_type": "code",
   "execution_count": null,
   "id": "d1272c64",
   "metadata": {},
   "outputs": [],
   "source": []
  },
  {
   "cell_type": "markdown",
   "id": "86a4ceb8",
   "metadata": {},
   "source": [
    "3- Verifique se 'Planejamento' é um órgão que pertence ao ndarray 'orgaos_numpy' criada."
   ]
  },
  {
   "cell_type": "code",
   "execution_count": null,
   "id": "2c598544",
   "metadata": {},
   "outputs": [],
   "source": []
  },
  {
   "cell_type": "markdown",
   "id": "d2f22515",
   "metadata": {},
   "source": [
    "4- Verifique se 'Justica' é um órgão que pertence ao ndarray 'servidores_numpy' criada."
   ]
  },
  {
   "cell_type": "code",
   "execution_count": null,
   "id": "854391c9",
   "metadata": {},
   "outputs": [],
   "source": []
  },
  {
   "cell_type": "markdown",
   "id": "738e4087",
   "metadata": {},
   "source": [
    "5 - Verifique quantos órgãos apresentam mais de 50 mil servidores."
   ]
  },
  {
   "cell_type": "code",
   "execution_count": null,
   "id": "b28ff7f3",
   "metadata": {},
   "outputs": [],
   "source": []
  },
  {
   "cell_type": "markdown",
   "id": "1645c594",
   "metadata": {},
   "source": [
    "6- Qual o total de servidores de todos os ministérios do ndarray 'servidores_numpy', somados?"
   ]
  },
  {
   "cell_type": "code",
   "execution_count": null,
   "id": "20503edc",
   "metadata": {},
   "outputs": [],
   "source": []
  },
  {
   "cell_type": "markdown",
   "id": "fa63c643",
   "metadata": {},
   "source": [
    "7- A partir da lista de informações sobre o valor pago com folha de pagamento dos servidores por orgão superior, abaixo, também extraídos do portal da transparência, crie um ndarray de nome 'folha_pagamento_numpy' usando a biblioteca numpy. Essa lista armazena valores correspondentes aos órgãos da lista 'orgaos_numpy' na mesma ordem em que aparecem (dados de 2022)."
   ]
  },
  {
   "cell_type": "code",
   "execution_count": 4,
   "id": "3c3d522c-3054-4b77-8d5e-ea10df0ab5ec",
   "metadata": {},
   "outputs": [],
   "source": [
    "folha_pagamento = [29905581441, 18646688527, 6062051391, 5260114108, 4015583724, 3002748351, 2741338080, 1517197677, 1506456183, 1265548977, 1102582529, 1044772102, 1014615126, 927201398.1, 761366841.2, 702581926.8, 613378383.9, 606553394.8, 605755788.9, 449376002.6, 416806003.1, 403988682.6, 260483610.5, 258662221.9, 213340636.5, 189280742, 55762849.19, 50954735.07, 33652681.77, 16114057.36, 0, 0, 0]"
   ]
  },
  {
   "cell_type": "code",
   "execution_count": null,
   "id": "a50873f7",
   "metadata": {},
   "outputs": [],
   "source": []
  },
  {
   "cell_type": "markdown",
   "id": "b4307608",
   "metadata": {},
   "source": [
    "8- Faça a divisão do ndarray 'folha_pagamento_numpy' pelo ndarray 'servidores_numpy' para encontrar o pagamento médio anual por servidor, por orgão superior."
   ]
  },
  {
   "cell_type": "code",
   "execution_count": null,
   "id": "2eee9500-3040-4149-8b5c-46178e32c751",
   "metadata": {},
   "outputs": [],
   "source": []
  },
  {
   "cell_type": "code",
   "execution_count": null,
   "id": "63cfe1cb-c4c0-4a90-9ab2-6c7a55466aa0",
   "metadata": {},
   "outputs": [],
   "source": []
  },
  {
   "cell_type": "code",
   "execution_count": 5,
   "id": "db9b8230-cdee-455d-868a-3bdf95ead403",
   "metadata": {},
   "outputs": [
    {
     "name": "stderr",
     "output_type": "stream",
     "text": [
      "/var/folders/3k/5x2j3hkx6x3f717k3344mgpm0000gn/T/ipykernel_31751/1858656925.py:2: RuntimeWarning: divide by zero encountered in divide\n",
      "  np.array(folha_pagamento)/np.array(servidores)\n"
     ]
    },
    {
     "data": {
      "text/plain": [
       "array([7.99167883e+04, 4.98761262e+04, 1.33525361e+07, 1.48318458e+05,\n",
       "       8.97096583e+04, 5.90859573e+04, 1.79465668e+05, 5.21804126e+04,\n",
       "       1.57266540e+05, 2.84905218e+05, 1.33113912e+05, 5.66272142e+05,\n",
       "       1.46177082e+05, 2.32672873e+05, 6.43154960e+04, 5.69122662e+04,\n",
       "       9.04554467e+04, 2.39744425e+06, 1.07766552e+05, 7.55888987e+04,\n",
       "       1.50689083e+05, 1.06061613e+05, 1.35245904e+05, 1.06752877e+05,\n",
       "                  inf, 6.22224661e+04, 4.87863947e+04, 1.33389359e+05,\n",
       "       1.21052812e+04, 2.79757940e+04, 0.00000000e+00, 0.00000000e+00,\n",
       "       0.00000000e+00])"
      ]
     },
     "execution_count": 5,
     "metadata": {},
     "output_type": "execute_result"
    }
   ],
   "source": [
    "import numpy as np\n",
    "np.array(folha_pagamento)/np.array(servidores)"
   ]
  },
  {
   "cell_type": "code",
   "execution_count": null,
   "id": "8f405cd3",
   "metadata": {},
   "outputs": [],
   "source": []
  },
  {
   "cell_type": "markdown",
   "id": "b47713ff",
   "metadata": {},
   "source": [
    "9- Crie um ndarray de nome 'pagamento_por_servidor_numpy' com o resultado da operação anterior."
   ]
  },
  {
   "cell_type": "code",
   "execution_count": null,
   "id": "524a8d97",
   "metadata": {},
   "outputs": [],
   "source": []
  },
  {
   "cell_type": "markdown",
   "id": "21e44ee5",
   "metadata": {},
   "source": [
    "10- Verifique quais valores são divis (NA) e quais não são na série 'pagamento_por_servidor_numpy'."
   ]
  },
  {
   "cell_type": "code",
   "execution_count": null,
   "id": "5be9b0a0",
   "metadata": {},
   "outputs": [],
   "source": []
  },
  {
   "cell_type": "markdown",
   "id": "aa6aefad",
   "metadata": {},
   "source": [
    "11- Remova o Ministério que teve valor identificado como ausente/indisponível da Serie \"pagamento_por_servidor\"."
   ]
  },
  {
   "cell_type": "code",
   "execution_count": null,
   "id": "2f803773",
   "metadata": {},
   "outputs": [],
   "source": []
  },
  {
   "cell_type": "markdown",
   "id": "31b7a95e",
   "metadata": {},
   "source": [
    "12- Confira se o ndarray foi atualizado."
   ]
  },
  {
   "cell_type": "code",
   "execution_count": null,
   "id": "453bada2",
   "metadata": {},
   "outputs": [],
   "source": []
  }
 ],
 "metadata": {
  "kernelspec": {
   "display_name": "Python 3 (ipykernel)",
   "language": "python",
   "name": "python3"
  },
  "language_info": {
   "codemirror_mode": {
    "name": "ipython",
    "version": 3
   },
   "file_extension": ".py",
   "mimetype": "text/x-python",
   "name": "python",
   "nbconvert_exporter": "python",
   "pygments_lexer": "ipython3",
   "version": "3.11.2"
  }
 },
 "nbformat": 4,
 "nbformat_minor": 5
}
