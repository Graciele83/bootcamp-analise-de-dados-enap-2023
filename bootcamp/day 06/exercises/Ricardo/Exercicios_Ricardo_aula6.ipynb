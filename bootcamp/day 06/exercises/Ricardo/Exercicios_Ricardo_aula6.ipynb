{
 "cells": [
  {
   "cell_type": "markdown",
   "id": "493263f6",
   "metadata": {},
   "source": [
    "# Analisando informações do Portal da Trasparência - (Lista nível fácil) \n",
    "\n",
    "Lançado pela Controladoria-Geral da União (CGU), em 2004, o Portal da Transparência do Governo Federal é um site de acesso livre. Nele, encontramos informações relacionadas à dados da gestão pública do Brasil.\n",
    "\n",
    "Vamos analisar alguns dados de órgãos superiores referentes ao ano de 2022.\n",
    "\n",
    "\n",
    "https://portaldatransparencia.gov.br/orgaos-superiores"
   ]
  },
  {
   "cell_type": "markdown",
   "id": "17228490",
   "metadata": {},
   "source": [
    "1- A partir do dicionário de informações sobre o número de servidores por orgão superior abaixo, extraídas do portal da transparência (link acima), crie uma Séries de nome 'servidores' usando a biblioteca pandas. Essa série armazena, para cada ministério, a quantidade de vínculos de servidores em exercício (dados de 2022).\n",
    "\n",
    "- {'Defesa': 373_860, 'Justica': 35_465, 'Saude': 44_762, 'Fazenda': 50_820}"
   ]
  },
  {
   "cell_type": "code",
   "execution_count": null,
   "id": "bb788fc5",
   "metadata": {},
   "outputs": [],
   "source": []
  },
  {
   "cell_type": "code",
   "execution_count": null,
   "id": "373a3c07",
   "metadata": {},
   "outputs": [],
   "source": []
  },
  {
   "cell_type": "markdown",
   "id": "39845dbc",
   "metadata": {},
   "source": [
    "2 - Obtenha a informação sobre o total de vínculos de servidores em exercício da Saúde."
   ]
  },
  {
   "cell_type": "code",
   "execution_count": null,
   "id": "d1272c64",
   "metadata": {},
   "outputs": [],
   "source": []
  },
  {
   "cell_type": "markdown",
   "id": "86a4ceb8",
   "metadata": {},
   "source": [
    "3- Verifique se 'Planejamento' é um ministério que pertence à Serie 'servidores' criada."
   ]
  },
  {
   "cell_type": "code",
   "execution_count": null,
   "id": "2c598544",
   "metadata": {},
   "outputs": [],
   "source": []
  },
  {
   "cell_type": "markdown",
   "id": "d2f22515",
   "metadata": {},
   "source": [
    "4- Verifique se 'Justica' é um ministério que pertence à Serie 'servidores' criada."
   ]
  },
  {
   "cell_type": "code",
   "execution_count": null,
   "id": "854391c9",
   "metadata": {},
   "outputs": [],
   "source": []
  },
  {
   "cell_type": "markdown",
   "id": "738e4087",
   "metadata": {},
   "source": [
    "5- Verifique quais ministérios da série 'servidores' apresentam mais de 50 mil servidores."
   ]
  },
  {
   "cell_type": "code",
   "execution_count": null,
   "id": "b28ff7f3",
   "metadata": {},
   "outputs": [],
   "source": []
  },
  {
   "cell_type": "markdown",
   "id": "1645c594",
   "metadata": {},
   "source": [
    "6- Qual o total de servidores de todos os ministérios da série 'servidores', somados?"
   ]
  },
  {
   "cell_type": "code",
   "execution_count": null,
   "id": "20503edc",
   "metadata": {},
   "outputs": [],
   "source": []
  },
  {
   "cell_type": "markdown",
   "id": "fa63c643",
   "metadata": {},
   "source": [
    "7- A partir do dicionário de informações sobre o valor pago com folha de pagamento dos servidores por orgão superior, abaixo, também extraídos do portal da transparência, crie uma Series de nome 'Folha_pagamento' usando a biblioteca pandas.\n",
    "\n",
    "- {'Defesa': 18_646_688_527, 'Justica': 5_260_114_108, 'Saude': 4_015_583_724, 'Fazenda': 3_002_748_351, 'Educacao': 29_905_581_440}"
   ]
  },
  {
   "cell_type": "code",
   "execution_count": null,
   "id": "a50873f7",
   "metadata": {},
   "outputs": [],
   "source": []
  },
  {
   "cell_type": "markdown",
   "id": "b4307608",
   "metadata": {},
   "source": [
    "8- Faça a divisão da série 'Folha_pagamento' pela série 'servidores' para encontrar o pagamento médio anual por servidor, por orgão superior."
   ]
  },
  {
   "cell_type": "code",
   "execution_count": null,
   "id": "8f405cd3",
   "metadata": {},
   "outputs": [],
   "source": []
  },
  {
   "cell_type": "markdown",
   "id": "b47713ff",
   "metadata": {},
   "source": [
    "9- Crie uma série de nome 'pagamento_por_servidor' com o resultado da operação anterior."
   ]
  },
  {
   "cell_type": "code",
   "execution_count": null,
   "id": "524a8d97",
   "metadata": {},
   "outputs": [],
   "source": []
  },
  {
   "cell_type": "markdown",
   "id": "21e44ee5",
   "metadata": {},
   "source": [
    "10- Verifique quais valores são ausentes/indisponíveis (NA) e quais não são na série 'pagamento_por_servidor'."
   ]
  },
  {
   "cell_type": "code",
   "execution_count": null,
   "id": "5be9b0a0",
   "metadata": {},
   "outputs": [],
   "source": []
  },
  {
   "cell_type": "markdown",
   "id": "aa6aefad",
   "metadata": {},
   "source": [
    "11- Remova o Ministério que teve valor identificado como ausente/indisponível da Serie \"pagamento_por_servidor\"."
   ]
  },
  {
   "cell_type": "code",
   "execution_count": null,
   "id": "2f803773",
   "metadata": {},
   "outputs": [],
   "source": []
  },
  {
   "cell_type": "markdown",
   "id": "31b7a95e",
   "metadata": {},
   "source": [
    "12- Confira se a série foi atualizada."
   ]
  },
  {
   "cell_type": "code",
   "execution_count": null,
   "id": "453bada2",
   "metadata": {},
   "outputs": [],
   "source": []
  }
 ],
 "metadata": {
  "kernelspec": {
   "display_name": "Python 3 (ipykernel)",
   "language": "python",
   "name": "python3"
  },
  "language_info": {
   "codemirror_mode": {
    "name": "ipython",
    "version": 3
   },
   "file_extension": ".py",
   "mimetype": "text/x-python",
   "name": "python",
   "nbconvert_exporter": "python",
   "pygments_lexer": "ipython3",
   "version": "3.9.13"
  }
 },
 "nbformat": 4,
 "nbformat_minor": 5
}
