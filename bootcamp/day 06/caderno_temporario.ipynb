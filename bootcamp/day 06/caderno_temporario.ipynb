{
 "cells": [
  {
   "cell_type": "code",
   "execution_count": 4,
   "id": "afaf7eba-bd81-4274-a0a0-9fcc4cb20884",
   "metadata": {},
   "outputs": [],
   "source": [
    "import numpy as np"
   ]
  },
  {
   "cell_type": "code",
   "execution_count": 5,
   "id": "3a85870e-b9a9-4f13-9b51-1b48b7fb2ad6",
   "metadata": {},
   "outputs": [],
   "source": [
    "lista = np.array([[1, 2, 3], [4, 5, 6]])"
   ]
  },
  {
   "cell_type": "code",
   "execution_count": 6,
   "id": "626b6afb-7e7b-4fa7-8928-0d300d6fcecb",
   "metadata": {},
   "outputs": [
    {
     "name": "stdout",
     "output_type": "stream",
     "text": [
      "1; 2; 3; \n",
      "4; 5; 6; \n"
     ]
    }
   ],
   "source": [
    "for linha in lista:\n",
    "    for celula in linha:\n",
    "        print(celula, end='; ')\n",
    "    print()"
   ]
  },
  {
   "cell_type": "code",
   "execution_count": 7,
   "id": "e700052f-b08f-49fe-b42c-a9c809a6dffb",
   "metadata": {},
   "outputs": [
    {
     "data": {
      "text/plain": [
       "array([[1, 2, 3],\n",
       "       [4, 5, 6]])"
      ]
     },
     "execution_count": 7,
     "metadata": {},
     "output_type": "execute_result"
    }
   ],
   "source": [
    "lista"
   ]
  },
  {
   "cell_type": "code",
   "execution_count": 8,
   "id": "48879076-3ab6-4dfa-8f65-50e57c77b3ae",
   "metadata": {},
   "outputs": [
    {
     "data": {
      "text/plain": [
       "array([[       1,     1024,    59049],\n",
       "       [ 1048576,  9765625, 60466176]])"
      ]
     },
     "execution_count": 8,
     "metadata": {},
     "output_type": "execute_result"
    }
   ],
   "source": [
    "lista**10"
   ]
  },
  {
   "cell_type": "code",
   "execution_count": null,
   "id": "daf771d0-55e2-4f8c-a530-a174ed73efdf",
   "metadata": {},
   "outputs": [],
   "source": []
  },
  {
   "cell_type": "code",
   "execution_count": 9,
   "id": "c2261cda-e54a-43d6-b052-e45a5032a981",
   "metadata": {},
   "outputs": [],
   "source": [
    "python_puro = [1, 2, 3]"
   ]
  },
  {
   "cell_type": "code",
   "execution_count": 12,
   "id": "eb8732ef-036a-4b3e-8c98-195138334cd7",
   "metadata": {},
   "outputs": [],
   "source": [
    "for idx, celula in enumerate(python_puro):\n",
    "    python_puro[idx] = celula**10"
   ]
  },
  {
   "cell_type": "code",
   "execution_count": 13,
   "id": "f0cd6e58-b7ed-443a-acdc-453551cb05f4",
   "metadata": {},
   "outputs": [
    {
     "data": {
      "text/plain": [
       "[1, 1024, 59049]"
      ]
     },
     "execution_count": 13,
     "metadata": {},
     "output_type": "execute_result"
    }
   ],
   "source": [
    "python_puro"
   ]
  },
  {
   "cell_type": "code",
   "execution_count": null,
   "id": "da21b458-f714-4f12-94da-cd2b0844bcce",
   "metadata": {},
   "outputs": [],
   "source": []
  },
  {
   "cell_type": "code",
   "execution_count": null,
   "id": "01601959-fbcd-4ae0-921f-62f2f204a54f",
   "metadata": {},
   "outputs": [],
   "source": []
  },
  {
   "cell_type": "code",
   "execution_count": null,
   "id": "12da12ba-b282-47ca-8d44-6ca536830f2a",
   "metadata": {},
   "outputs": [],
   "source": []
  },
  {
   "cell_type": "code",
   "execution_count": 14,
   "id": "4739c3eb-764d-43c4-a630-cadbcb20d833",
   "metadata": {},
   "outputs": [
    {
     "data": {
      "text/plain": [
       "array([5, 7, 9])"
      ]
     },
     "execution_count": 14,
     "metadata": {},
     "output_type": "execute_result"
    }
   ],
   "source": [
    "np.array([1, 2, 3]) + np.array([4, 5, 6])"
   ]
  },
  {
   "cell_type": "code",
   "execution_count": 15,
   "id": "49b695d8-033a-4fb3-b165-b7ae7f0d5407",
   "metadata": {},
   "outputs": [
    {
     "data": {
      "text/plain": [
       "[1, 2, 3, 4, 5, 6]"
      ]
     },
     "execution_count": 15,
     "metadata": {},
     "output_type": "execute_result"
    }
   ],
   "source": [
    "[1, 2, 3] + [4, 5, 6]"
   ]
  },
  {
   "cell_type": "code",
   "execution_count": null,
   "id": "fe7c4f2b-91f1-466f-9217-20fab2ab6893",
   "metadata": {},
   "outputs": [],
   "source": []
  },
  {
   "cell_type": "code",
   "execution_count": 16,
   "id": "20d785aa-96ea-4831-9ab2-73045932d2eb",
   "metadata": {},
   "outputs": [
    {
     "data": {
      "text/plain": [
       "1"
      ]
     },
     "execution_count": 16,
     "metadata": {},
     "output_type": "execute_result"
    }
   ],
   "source": [
    "int('1')"
   ]
  },
  {
   "cell_type": "code",
   "execution_count": 17,
   "id": "08414171-954e-4c33-ade7-bf64ae07e019",
   "metadata": {},
   "outputs": [
    {
     "ename": "TypeError",
     "evalue": "int() argument must be a string, a bytes-like object or a real number, not 'list'",
     "output_type": "error",
     "traceback": [
      "\u001b[0;31m---------------------------------------------------------------------------\u001b[0m",
      "\u001b[0;31mTypeError\u001b[0m                                 Traceback (most recent call last)",
      "Cell \u001b[0;32mIn[17], line 1\u001b[0m\n\u001b[0;32m----> 1\u001b[0m \u001b[38;5;28;43mint\u001b[39;49m\u001b[43m(\u001b[49m\u001b[43m[\u001b[49m\u001b[38;5;124;43m'\u001b[39;49m\u001b[38;5;124;43m1\u001b[39;49m\u001b[38;5;124;43m'\u001b[39;49m\u001b[43m,\u001b[49m\u001b[43m \u001b[49m\u001b[38;5;124;43m'\u001b[39;49m\u001b[38;5;124;43m2\u001b[39;49m\u001b[38;5;124;43m'\u001b[39;49m\u001b[43m,\u001b[49m\u001b[43m \u001b[49m\u001b[38;5;124;43m'\u001b[39;49m\u001b[38;5;124;43m3\u001b[39;49m\u001b[38;5;124;43m'\u001b[39;49m\u001b[43m]\u001b[49m\u001b[43m)\u001b[49m\n",
      "\u001b[0;31mTypeError\u001b[0m: int() argument must be a string, a bytes-like object or a real number, not 'list'"
     ]
    }
   ],
   "source": [
    "int(['1', '2', '3'])"
   ]
  },
  {
   "cell_type": "code",
   "execution_count": 23,
   "id": "b72b98ff-2852-4e3d-9e9e-d775a79941f9",
   "metadata": {},
   "outputs": [],
   "source": [
    "\n",
    "nova_lista = np.array([b'1', b'2', b'3'])"
   ]
  },
  {
   "cell_type": "code",
   "execution_count": 24,
   "id": "8ff52256-93a0-43ea-a270-be714b26ac44",
   "metadata": {},
   "outputs": [
    {
     "data": {
      "text/plain": [
       "dtype('S1')"
      ]
     },
     "execution_count": 24,
     "metadata": {},
     "output_type": "execute_result"
    }
   ],
   "source": [
    "nova_lista.dtype"
   ]
  },
  {
   "cell_type": "code",
   "execution_count": 25,
   "id": "e1023a38-7308-41e5-bf19-5db054e278c0",
   "metadata": {},
   "outputs": [],
   "source": [
    "lista_3d = np.array([[[1], [2], [1], [2]]])"
   ]
  },
  {
   "cell_type": "code",
   "execution_count": 26,
   "id": "0ac8da42-e98b-4301-909a-6cfd5794be1d",
   "metadata": {},
   "outputs": [
    {
     "data": {
      "text/plain": [
       "(1, 4, 1)"
      ]
     },
     "execution_count": 26,
     "metadata": {},
     "output_type": "execute_result"
    }
   ],
   "source": [
    "lista_3d.shape"
   ]
  },
  {
   "cell_type": "code",
   "execution_count": 28,
   "id": "6a56a0fe-abd8-48e9-b61e-6bceb4d72bf6",
   "metadata": {},
   "outputs": [
    {
     "data": {
      "text/plain": [
       "3"
      ]
     },
     "execution_count": 28,
     "metadata": {},
     "output_type": "execute_result"
    }
   ],
   "source": [
    "lista_3d.ndim"
   ]
  },
  {
   "cell_type": "code",
   "execution_count": 32,
   "id": "2246543f-9cf8-4bfb-92e2-0c0a75c44c40",
   "metadata": {},
   "outputs": [
    {
     "data": {
      "text/plain": [
       "array([[1., 0., 0.],\n",
       "       [0., 1., 0.],\n",
       "       [0., 0., 1.]])"
      ]
     },
     "execution_count": 32,
     "metadata": {},
     "output_type": "execute_result"
    }
   ],
   "source": [
    "np.identity(3)"
   ]
  },
  {
   "cell_type": "code",
   "execution_count": null,
   "id": "ab16a9d3-c623-4834-8502-4d2644a5de82",
   "metadata": {},
   "outputs": [],
   "source": []
  },
  {
   "cell_type": "code",
   "execution_count": null,
   "id": "f2853db4-76b7-45e5-b23b-b1f61270e328",
   "metadata": {},
   "outputs": [],
   "source": []
  },
  {
   "cell_type": "code",
   "execution_count": null,
   "id": "59b99622-37ed-4d72-a755-0f9ccf640a05",
   "metadata": {},
   "outputs": [],
   "source": []
  },
  {
   "cell_type": "code",
   "execution_count": 47,
   "id": "6c4cfc17-8606-443d-8d5b-fbe17ebfb45e",
   "metadata": {},
   "outputs": [
    {
     "data": {
      "text/plain": [
       "array([6, 0, 0, 2, 8, 7, 3, 4, 8, 0, 7])"
      ]
     },
     "execution_count": 47,
     "metadata": {},
     "output_type": "execute_result"
    }
   ],
   "source": [
    "lista_aleatoria = np.random.randint(0, 10, 11)\n",
    "lista_aleatoria"
   ]
  },
  {
   "cell_type": "code",
   "execution_count": 48,
   "id": "1282c963-c80c-4a1f-87b5-b5ca4e6f9a83",
   "metadata": {},
   "outputs": [],
   "source": [
    "lista_aleatoria[0:len(lista_aleatoria)//2] = 20"
   ]
  },
  {
   "cell_type": "code",
   "execution_count": 49,
   "id": "e82e8155-d181-497d-a88d-e13294538524",
   "metadata": {},
   "outputs": [
    {
     "data": {
      "text/plain": [
       "array([20, 20, 20, 20, 20,  7,  3,  4,  8,  0,  7])"
      ]
     },
     "execution_count": 49,
     "metadata": {},
     "output_type": "execute_result"
    }
   ],
   "source": [
    "lista_aleatoria"
   ]
  },
  {
   "cell_type": "code",
   "execution_count": null,
   "id": "1890b8e9-c72a-417b-ac4c-05d9e2dbf28f",
   "metadata": {},
   "outputs": [],
   "source": []
  },
  {
   "cell_type": "code",
   "execution_count": 40,
   "id": "cabf6d9c-518b-470a-adc4-f9f0cdf66a3f",
   "metadata": {},
   "outputs": [
    {
     "data": {
      "text/plain": [
       "11"
      ]
     },
     "execution_count": 40,
     "metadata": {},
     "output_type": "execute_result"
    }
   ],
   "source": [
    "len(lista_aleatoria)"
   ]
  },
  {
   "cell_type": "code",
   "execution_count": 41,
   "id": "55bf0a87-67f5-4626-b566-31dcf3d833cf",
   "metadata": {},
   "outputs": [
    {
     "data": {
      "text/plain": [
       "5.5"
      ]
     },
     "execution_count": 41,
     "metadata": {},
     "output_type": "execute_result"
    }
   ],
   "source": [
    "len(lista_aleatoria) / 2"
   ]
  },
  {
   "cell_type": "code",
   "execution_count": 42,
   "id": "d32cc811-d683-48f3-bcda-73d09e767c49",
   "metadata": {},
   "outputs": [
    {
     "data": {
      "text/plain": [
       "5"
      ]
     },
     "execution_count": 42,
     "metadata": {},
     "output_type": "execute_result"
    }
   ],
   "source": [
    "len(lista_aleatoria) // 2"
   ]
  },
  {
   "cell_type": "code",
   "execution_count": null,
   "id": "d6d3b904-02e9-46ce-a95e-1d8e540a1ba8",
   "metadata": {},
   "outputs": [],
   "source": []
  },
  {
   "cell_type": "code",
   "execution_count": null,
   "id": "b9d41fb4-8640-4204-9fd2-8ad298b8b958",
   "metadata": {},
   "outputs": [],
   "source": []
  },
  {
   "cell_type": "code",
   "execution_count": null,
   "id": "fb6178d3-9dba-4d37-9ce3-4f7ca7a68749",
   "metadata": {},
   "outputs": [],
   "source": []
  },
  {
   "cell_type": "code",
   "execution_count": null,
   "id": "7072a29c-d507-4350-a191-51bbd487ed16",
   "metadata": {},
   "outputs": [],
   "source": []
  },
  {
   "cell_type": "code",
   "execution_count": 50,
   "id": "68f162b4-2f92-413a-a992-750b66b609b6",
   "metadata": {},
   "outputs": [],
   "source": [
    "lista_3d = np.zeros(shape=(4, 4, 4))"
   ]
  },
  {
   "cell_type": "code",
   "execution_count": 51,
   "id": "d8c28efb-0ffe-46a6-aded-e1afece59d23",
   "metadata": {},
   "outputs": [
    {
     "data": {
      "text/plain": [
       "array([[[0., 0., 0., 0.],\n",
       "        [0., 0., 0., 0.],\n",
       "        [0., 0., 0., 0.],\n",
       "        [0., 0., 0., 0.]],\n",
       "\n",
       "       [[0., 0., 0., 0.],\n",
       "        [0., 0., 0., 0.],\n",
       "        [0., 0., 0., 0.],\n",
       "        [0., 0., 0., 0.]],\n",
       "\n",
       "       [[0., 0., 0., 0.],\n",
       "        [0., 0., 0., 0.],\n",
       "        [0., 0., 0., 0.],\n",
       "        [0., 0., 0., 0.]],\n",
       "\n",
       "       [[0., 0., 0., 0.],\n",
       "        [0., 0., 0., 0.],\n",
       "        [0., 0., 0., 0.],\n",
       "        [0., 0., 0., 0.]]])"
      ]
     },
     "execution_count": 51,
     "metadata": {},
     "output_type": "execute_result"
    }
   ],
   "source": [
    "lista_3d"
   ]
  },
  {
   "cell_type": "code",
   "execution_count": 52,
   "id": "2f5c3921-0937-4a38-adb5-63d029d7ad09",
   "metadata": {},
   "outputs": [],
   "source": [
    "lista_3d[1:3,1:3,1:3] = 5."
   ]
  },
  {
   "cell_type": "code",
   "execution_count": 53,
   "id": "a4b317ef-a69a-4481-9d36-a9f1dcb59c37",
   "metadata": {},
   "outputs": [
    {
     "data": {
      "text/plain": [
       "array([[[0., 0., 0., 0.],\n",
       "        [0., 0., 0., 0.],\n",
       "        [0., 0., 0., 0.],\n",
       "        [0., 0., 0., 0.]],\n",
       "\n",
       "       [[0., 0., 0., 0.],\n",
       "        [0., 5., 5., 0.],\n",
       "        [0., 5., 5., 0.],\n",
       "        [0., 0., 0., 0.]],\n",
       "\n",
       "       [[0., 0., 0., 0.],\n",
       "        [0., 5., 5., 0.],\n",
       "        [0., 5., 5., 0.],\n",
       "        [0., 0., 0., 0.]],\n",
       "\n",
       "       [[0., 0., 0., 0.],\n",
       "        [0., 0., 0., 0.],\n",
       "        [0., 0., 0., 0.],\n",
       "        [0., 0., 0., 0.]]])"
      ]
     },
     "execution_count": 53,
     "metadata": {},
     "output_type": "execute_result"
    }
   ],
   "source": [
    "lista_3d"
   ]
  },
  {
   "cell_type": "code",
   "execution_count": 55,
   "id": "efe409cf-85b6-4c00-9cc0-c5568ad08647",
   "metadata": {},
   "outputs": [
    {
     "data": {
      "text/plain": [
       "(4, 4, 4)"
      ]
     },
     "execution_count": 55,
     "metadata": {},
     "output_type": "execute_result"
    }
   ],
   "source": [
    "lista_3d.shape"
   ]
  },
  {
   "cell_type": "code",
   "execution_count": 56,
   "id": "0d44e0d5-4916-40d2-acf9-c2e3debe9059",
   "metadata": {},
   "outputs": [
    {
     "data": {
      "text/plain": [
       "(2, 2, 2)"
      ]
     },
     "execution_count": 56,
     "metadata": {},
     "output_type": "execute_result"
    }
   ],
   "source": [
    "lista_3d[1:3,1:3,1:3].shape"
   ]
  },
  {
   "cell_type": "code",
   "execution_count": null,
   "id": "0f0d15e9-a348-4573-9daf-aaf8fe879b00",
   "metadata": {},
   "outputs": [],
   "source": []
  },
  {
   "cell_type": "code",
   "execution_count": null,
   "id": "66569a22-75d1-467d-a03b-d165102667b6",
   "metadata": {},
   "outputs": [],
   "source": []
  },
  {
   "cell_type": "code",
   "execution_count": null,
   "id": "30495d71-eb02-49fd-801d-f41dd11995d7",
   "metadata": {},
   "outputs": [],
   "source": []
  },
  {
   "cell_type": "code",
   "execution_count": 57,
   "id": "1a6d1158-d767-4ec5-a6a6-fee55583831f",
   "metadata": {},
   "outputs": [],
   "source": [
    "lista_python = [1, 2, 3]"
   ]
  },
  {
   "cell_type": "code",
   "execution_count": 58,
   "id": "439c91c7-08e1-4488-bd06-6d1cb6da4db0",
   "metadata": {},
   "outputs": [],
   "source": [
    "lista_python2 = lista_python[0:2]"
   ]
  },
  {
   "cell_type": "code",
   "execution_count": 59,
   "id": "3e172890-107e-4d80-a7bd-9632a450e351",
   "metadata": {},
   "outputs": [],
   "source": [
    "lista_python2[0] = 10"
   ]
  },
  {
   "cell_type": "code",
   "execution_count": 60,
   "id": "2a74b3af-3689-43cc-b3ba-e595b76101f9",
   "metadata": {},
   "outputs": [
    {
     "data": {
      "text/plain": [
       "[1, 2, 3]"
      ]
     },
     "execution_count": 60,
     "metadata": {},
     "output_type": "execute_result"
    }
   ],
   "source": [
    "lista_python"
   ]
  },
  {
   "cell_type": "code",
   "execution_count": 61,
   "id": "61eb9cb1-4105-40ff-beaf-d0fcf6aa4dea",
   "metadata": {},
   "outputs": [
    {
     "data": {
      "text/plain": [
       "[10, 2]"
      ]
     },
     "execution_count": 61,
     "metadata": {},
     "output_type": "execute_result"
    }
   ],
   "source": [
    "lista_python2"
   ]
  },
  {
   "cell_type": "code",
   "execution_count": null,
   "id": "92ebe023-2c9f-4237-acd8-6bf22a3d8b21",
   "metadata": {},
   "outputs": [],
   "source": []
  },
  {
   "cell_type": "code",
   "execution_count": 67,
   "id": "13f5853b-067c-4e3a-99e8-9ca55ac1e789",
   "metadata": {},
   "outputs": [],
   "source": [
    "lista_numpy = np.array([1, 2, 3])"
   ]
  },
  {
   "cell_type": "code",
   "execution_count": 68,
   "id": "19b5d9dd-a0f6-4cc9-8b86-867e1904f6eb",
   "metadata": {},
   "outputs": [],
   "source": [
    "lista_numpy2 = lista_numpy[0:2].copy()"
   ]
  },
  {
   "cell_type": "code",
   "execution_count": 69,
   "id": "7debc1a4-03f6-48c0-88c6-70230a5dc4d8",
   "metadata": {},
   "outputs": [],
   "source": [
    "lista_numpy2[0] = 10"
   ]
  },
  {
   "cell_type": "code",
   "execution_count": 70,
   "id": "c494c8dc-369c-4cc8-b488-1486dcb3a741",
   "metadata": {},
   "outputs": [
    {
     "data": {
      "text/plain": [
       "array([1, 2, 3])"
      ]
     },
     "execution_count": 70,
     "metadata": {},
     "output_type": "execute_result"
    }
   ],
   "source": [
    "lista_numpy"
   ]
  },
  {
   "cell_type": "code",
   "execution_count": 71,
   "id": "5a1e2be8-6801-4e2e-8f79-c89f1c674059",
   "metadata": {},
   "outputs": [
    {
     "data": {
      "text/plain": [
       "array([10,  2])"
      ]
     },
     "execution_count": 71,
     "metadata": {},
     "output_type": "execute_result"
    }
   ],
   "source": [
    "lista_numpy2"
   ]
  },
  {
   "cell_type": "code",
   "execution_count": null,
   "id": "17d46b98-d19d-448d-88cd-eb277671262b",
   "metadata": {},
   "outputs": [],
   "source": []
  },
  {
   "cell_type": "code",
   "execution_count": 115,
   "id": "d0cddd5e-45d9-4000-8bac-609b86cd7b9e",
   "metadata": {},
   "outputs": [],
   "source": [
    "lista_3d = np.array([[\n",
    "        [1, 2, 3],\n",
    "        [4, 5, 6],\n",
    "        [7, 8, 9]],\n",
    "\n",
    "       [[10, 11, 12],\n",
    "        [13, 14, 15],\n",
    "        [16, 17, 18]],\n",
    "\n",
    "       [[19, 20, 21],\n",
    "        [22, 23, 24],\n",
    "        [25, 26, 27]]])"
   ]
  },
  {
   "cell_type": "code",
   "execution_count": 119,
   "id": "eb0fdda8-bb4b-447d-bbf8-4bdf7aac18cf",
   "metadata": {},
   "outputs": [
    {
     "data": {
      "text/plain": [
       "array([[[ 1,  2,  3],\n",
       "        [ 4,  5,  6],\n",
       "        [ 7,  8,  9]],\n",
       "\n",
       "       [[10, 11, 12],\n",
       "        [13, 14, 15],\n",
       "        [16, 17, 18]],\n",
       "\n",
       "       [[19, 20, 21],\n",
       "        [22, 23, 24],\n",
       "        [25, 26, 27]]])"
      ]
     },
     "execution_count": 119,
     "metadata": {},
     "output_type": "execute_result"
    }
   ],
   "source": [
    "lista_3d"
   ]
  },
  {
   "cell_type": "code",
   "execution_count": 128,
   "id": "f323b16c-8451-439f-aa27-e54964d65951",
   "metadata": {},
   "outputs": [
    {
     "data": {
      "text/plain": [
       "array([[ 2.,  5.,  8.],\n",
       "       [11., 14., 17.],\n",
       "       [20., 23., 26.]])"
      ]
     },
     "execution_count": 128,
     "metadata": {},
     "output_type": "execute_result"
    }
   ],
   "source": [
    "lista_3d.mean(axis=2)"
   ]
  },
  {
   "cell_type": "code",
   "execution_count": null,
   "id": "a536bb68-0848-41d0-94bd-ef5c0cade0d9",
   "metadata": {},
   "outputs": [],
   "source": []
  },
  {
   "cell_type": "code",
   "execution_count": null,
   "id": "ecebe2e4-5b7e-4c8d-b206-e0614696df09",
   "metadata": {},
   "outputs": [],
   "source": []
  },
  {
   "cell_type": "code",
   "execution_count": null,
   "id": "2c367a66-19ba-4c76-baaa-911c516e77c2",
   "metadata": {},
   "outputs": [],
   "source": []
  },
  {
   "cell_type": "code",
   "execution_count": null,
   "id": "281112d6-fce3-4eb3-b9f9-a563e987e87a",
   "metadata": {},
   "outputs": [],
   "source": []
  },
  {
   "cell_type": "code",
   "execution_count": null,
   "id": "858224f7-65af-429e-b221-5e7b13f4a66a",
   "metadata": {},
   "outputs": [],
   "source": []
  },
  {
   "cell_type": "code",
   "execution_count": null,
   "id": "90e65bf4-0c9a-42a2-9a2d-d26f0db0c425",
   "metadata": {},
   "outputs": [],
   "source": []
  },
  {
   "cell_type": "code",
   "execution_count": 171,
   "id": "5aa9bd12-024d-4002-bd7d-d3ab9dc72b81",
   "metadata": {},
   "outputs": [],
   "source": [
    "pessoas = np.array(['Monica', 'Adriana', 'Monica', 'Adriana'])"
   ]
  },
  {
   "cell_type": "code",
   "execution_count": 178,
   "id": "bd8b0c92-283a-4adb-8f64-448f8dc6ae4b",
   "metadata": {},
   "outputs": [],
   "source": [
    "filtro = ((pessoas == 'Adriana') & (pessoas == 'Monica'))"
   ]
  },
  {
   "cell_type": "code",
   "execution_count": 179,
   "id": "004da48c-8e0a-488a-a56f-37d162e334d2",
   "metadata": {},
   "outputs": [
    {
     "data": {
      "text/plain": [
       "array([False, False, False, False])"
      ]
     },
     "execution_count": 179,
     "metadata": {},
     "output_type": "execute_result"
    }
   ],
   "source": [
    "filtro"
   ]
  },
  {
   "cell_type": "code",
   "execution_count": 180,
   "id": "e8330865-088a-41a3-8385-71bfa793a4be",
   "metadata": {},
   "outputs": [
    {
     "data": {
      "text/plain": [
       "array([], dtype='<U7')"
      ]
     },
     "execution_count": 180,
     "metadata": {},
     "output_type": "execute_result"
    }
   ],
   "source": [
    "somente_adriana = pessoas[filtro]\n",
    "somente_adriana"
   ]
  },
  {
   "cell_type": "code",
   "execution_count": null,
   "id": "00f2e6d5-f10b-4db4-b5e7-7c57a2089f2d",
   "metadata": {},
   "outputs": [],
   "source": []
  },
  {
   "cell_type": "code",
   "execution_count": null,
   "id": "85672fc7-ae6e-476f-a316-8bad977a7d51",
   "metadata": {},
   "outputs": [],
   "source": []
  },
  {
   "cell_type": "code",
   "execution_count": null,
   "id": "25fea72c-0aba-467b-a119-f8c27d993c9a",
   "metadata": {},
   "outputs": [],
   "source": []
  },
  {
   "cell_type": "code",
   "execution_count": null,
   "id": "51a4359d-7094-4f06-9f37-f13967fd83af",
   "metadata": {},
   "outputs": [],
   "source": []
  },
  {
   "cell_type": "code",
   "execution_count": null,
   "id": "2b4e8605-c509-4e30-bced-02d202b2b44d",
   "metadata": {},
   "outputs": [],
   "source": []
  },
  {
   "cell_type": "code",
   "execution_count": 161,
   "id": "b1126719-cfee-4cf5-816c-e988a3a6073f",
   "metadata": {},
   "outputs": [
    {
     "data": {
      "text/plain": [
       "array(['Adriana', 'Adriana'], dtype='<U7')"
      ]
     },
     "execution_count": 161,
     "metadata": {},
     "output_type": "execute_result"
    }
   ],
   "source": [
    "somente_adriana"
   ]
  },
  {
   "cell_type": "code",
   "execution_count": 165,
   "id": "74c69b44-9537-4b82-9fc2-dba86c5264cb",
   "metadata": {},
   "outputs": [
    {
     "data": {
      "text/plain": [
       "numpy.ndarray"
      ]
     },
     "execution_count": 165,
     "metadata": {},
     "output_type": "execute_result"
    }
   ],
   "source": [
    "type(somente_adriana)"
   ]
  },
  {
   "cell_type": "code",
   "execution_count": 162,
   "id": "b1a5974f-55a7-4793-8be1-9a6594ba4219",
   "metadata": {},
   "outputs": [],
   "source": [
    "somente_adriana[:] = 'Joyce'"
   ]
  },
  {
   "cell_type": "code",
   "execution_count": 167,
   "id": "6ea1ef22-327b-42e3-b5df-54331bbdb564",
   "metadata": {},
   "outputs": [
    {
     "data": {
      "text/plain": [
       "['Joyce', 'Joyce']"
      ]
     },
     "execution_count": 167,
     "metadata": {},
     "output_type": "execute_result"
    }
   ],
   "source": [
    "somente_adriana_python_nativo = list(somente_adriana)\n",
    "somente_adriana_python_nativo"
   ]
  },
  {
   "cell_type": "code",
   "execution_count": 168,
   "id": "4e05942a-9081-423e-8374-dfac6c15027b",
   "metadata": {},
   "outputs": [
    {
     "data": {
      "text/plain": [
       "list"
      ]
     },
     "execution_count": 168,
     "metadata": {},
     "output_type": "execute_result"
    }
   ],
   "source": [
    "type(somente_adriana_python_nativo)"
   ]
  },
  {
   "cell_type": "code",
   "execution_count": 182,
   "id": "6df860c2-d8e1-4356-b783-37bcff6a213b",
   "metadata": {},
   "outputs": [
    {
     "name": "stdout",
     "output_type": "stream",
     "text": [
      "5283.17s - pydevd: Sending message related to process being replaced timed-out after 5 seconds\n",
      "remote: Enumerating objects: 20, done.\u001b[K\n",
      "remote: Counting objects: 100% (20/20), done.\u001b[K\n",
      "remote: Compressing objects: 100% (11/11), done.\u001b[K\n",
      "remote: Total 17 (delta 6), reused 8 (delta 3), pack-reused 0\u001b[K\n",
      "Unpacking objects: 100% (17/17), 660.93 KiB | 1.17 MiB/s, done.\n",
      "From github.com:heliomacedofilho/bootcamp-analise-de-dados-enap-2023\n",
      "   4a199eb..71a3233  main       -> origin/main\n",
      "Updating 4a199eb..71a3233\n",
      "Fast-forward\n",
      " .../day 06/exercises/Bruno/exercise_bruno.ipynb    |   422 \u001b[32m+\u001b[m\n",
      " .../Ricardo/Exercicios_Ricardo_aula6.ipynb         |   244 \u001b[32m+\u001b[m\n",
      " bootcamp/day 06/exercises/Ricardo/data/README.md   |     0\n",
      " .../exercises/Ricardo/data/salarios_RAIS.csv       | 43025 \u001b[32m+++++++++++++++++++\u001b[m\n",
      " 4 files changed, 43691 insertions(+)\n",
      " create mode 100644 bootcamp/day 06/exercises/Bruno/exercise_bruno.ipynb\n",
      " create mode 100644 bootcamp/day 06/exercises/Ricardo/Exercicios_Ricardo_aula6.ipynb\n",
      " create mode 100644 bootcamp/day 06/exercises/Ricardo/data/README.md\n",
      " create mode 100644 bootcamp/day 06/exercises/Ricardo/data/salarios_RAIS.csv\n"
     ]
    }
   ],
   "source": [
    "!git add cade"
   ]
  },
  {
   "cell_type": "code",
   "execution_count": null,
   "id": "7c3aa8c7-8bbc-48f2-b784-faf586771749",
   "metadata": {},
   "outputs": [],
   "source": []
  }
 ],
 "metadata": {
  "kernelspec": {
   "display_name": "Python 3 (ipykernel)",
   "language": "python",
   "name": "python3"
  },
  "language_info": {
   "codemirror_mode": {
    "name": "ipython",
    "version": 3
   },
   "file_extension": ".py",
   "mimetype": "text/x-python",
   "name": "python",
   "nbconvert_exporter": "python",
   "pygments_lexer": "ipython3",
   "version": "3.11.2"
  }
 },
 "nbformat": 4,
 "nbformat_minor": 5
}
