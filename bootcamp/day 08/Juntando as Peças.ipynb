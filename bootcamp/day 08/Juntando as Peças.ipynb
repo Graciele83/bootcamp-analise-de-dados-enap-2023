{
 "cells": [
  {
   "cell_type": "markdown",
   "id": "cf0e5718-56cc-4377-b54b-40642f829ac5",
   "metadata": {
    "slideshow": {
     "slide_type": "slide"
    },
    "tags": []
   },
   "source": [
    "# Juntando as Peças 🧩"
   ]
  },
  {
   "cell_type": "markdown",
   "id": "e9a3caec-f8f2-4670-8197-21f73bf41fe7",
   "metadata": {
    "slideshow": {
     "slide_type": "subslide"
    },
    "tags": [],
    "toc-hr-collapsed": true
   },
   "source": [
    "## (Fontes de Dados 🚰 ➕ Seleção 🍕 ➕ Filtro 🍝) <sup>Alto Desempenho 🚀 🧞‍♂️</sup>"
   ]
  },
  {
   "cell_type": "markdown",
   "id": "d5643aac-1c12-4e73-bd1f-e2a89148e932",
   "metadata": {
    "slideshow": {
     "slide_type": "-"
    },
    "tags": []
   },
   "source": [
    "### Funções Auxiliares"
   ]
  },
  {
   "cell_type": "code",
   "execution_count": 1,
   "id": "7f2aca87-f816-4017-bf7b-3dcd22905304",
   "metadata": {
    "slideshow": {
     "slide_type": "-"
    },
    "tags": []
   },
   "outputs": [],
   "source": [
    "import os, json, sqlite3, pandas as pd\n",
    "\n",
    "def build_path(subfolder = 'raw'):\n",
    "    folderpath = os.path.join(os.getcwd(), os.pardir, \n",
    "                              'project', 'data', subfolder)\n",
    "    folderpath = os.path.abspath(folderpath)\n",
    "    if not os.path.exists(folderpath): \n",
    "        os.makedirs(folderpath)\n",
    "    return folderpath\n",
    "\n",
    "def get_estados_georreferenciamento(filename='estados_georreferenciamento.csv'):\n",
    "    filepath = os.path.join(build_path(), filename)\n",
    "    return pd.read_csv(filepath)\n",
    "\n",
    "def get_municipios_georreferenciamento(filename='municipios_georreferenciamento.csv'):\n",
    "    filepath = os.path.join(build_path(), filename)\n",
    "    return pd.read_csv(filepath)\n",
    "\n",
    "def get_covid_infections_and_deaths(filename='ALL_HIST_PAINEL_COVID.csv'):\n",
    "    filepath = os.path.join(build_path(), filename)\n",
    "    return pd.read_csv(filepath, sep=';', parse_dates = ['data'],\\\n",
    "                       dtype={'codmun': 'Int64', \\\n",
    "                              'codRegiaoSaude': 'Int64', \\\n",
    "                              'populacaoTCU2019': 'Int64', \\\n",
    "                              'casosAcumulado': 'Int64', \\\n",
    "                              'Recuperadosnovos': 'Int64', \\\n",
    "                              'emAcompanhamentoNovos': 'Int64', \\\n",
    "                              'interior/metropolitana': 'Int64'})\n",
    "\n",
    "def get_estados_codigos(filename='estados_codigos.json'):\n",
    "    filepath = os.path.join(build_path(), filename)\n",
    "    with open(filepath) as jsonfile:\n",
    "        return pd.json_normalize(json.load(jsonfile))\n",
    "\n",
    "def get_estados_caracteristicas(filename='estados_caracteristicas.json'):\n",
    "    filepath = os.path.join(build_path(), filename)\n",
    "    with open(filepath) as jsonfile:\n",
    "        return pd.json_normalize(json.load(jsonfile), \\\n",
    "                                 record_path='characteristics', \\\n",
    "                                 record_prefix='characteristics_', \\\n",
    "                                 meta='state',\\\n",
    "                                 meta_prefix='state_')\n",
    "\n",
    "def get_estados_vacinacao(filename='estados_vacinacao.json'):\n",
    "    filepath = os.path.join(build_path(), filename)\n",
    "    with open(filepath) as jsonfile:\n",
    "        df = pd.json_normalize(json.load(jsonfile)['Paciente_Estado']['buckets'], \\\n",
    "                               record_path=['Data_Aplicacao_Vacina', ['buckets']], \\\n",
    "                               meta=['key', 'doc_count'], \\\n",
    "                               record_prefix='vacinacao_', \\\n",
    "                               meta_prefix='estado_').convert_dtypes()\n",
    "        df['vacinacao_key'] = pd.to_datetime(df['vacinacao_key'], unit='ms')\n",
    "        return df\n",
    "\n",
    "def get_municipios_vacinacao(filename='municipios_vacinacao.json'):\n",
    "    filepath = os.path.join(build_path(), filename)\n",
    "    with open(filepath) as jsonfile:\n",
    "        df = pd.json_normalize(json.load(jsonfile)['Paciente_Municipio']['buckets'], \\\n",
    "                               record_path=['Data_Aplicacao_Vacina', ['buckets']], \\\n",
    "                               meta=['key', 'doc_count'], \\\n",
    "                               record_prefix='vacinacao_', \\\n",
    "                               meta_prefix='municipio_',)\n",
    "        df['vacinacao_key'] = pd.to_datetime(df['vacinacao_key'], unit='ms')\n",
    "        return df[df['municipio_key'] != ''].convert_dtypes()\n",
    "\n",
    "def get_municipios_codigos(filename='municipios_codigos.db'):\n",
    "    filepath = os.path.join(build_path(), filename)\n",
    "    conn = sqlite3.connect(filepath)\n",
    "    municipios_codigos = pd.read_sql_query('select * from ibge', conn)\n",
    "    return municipios_codigos\n",
    "\n",
    "def load_data():\n",
    "    return {'estados_georreferenciamento': get_estados_georreferenciamento(),\n",
    "            'municipios_georreferenciamento': get_municipios_georreferenciamento(),\n",
    "            'infections_and_deaths': get_covid_infections_and_deaths(),\n",
    "            'estados_codigos': get_estados_codigos(),\n",
    "            'estados_caracteristicas': get_estados_caracteristicas(),\n",
    "            'estados_vacinacao': get_estados_vacinacao(),\n",
    "            'municipios_vacinacao': get_municipios_vacinacao(),\n",
    "            'municipios_codigos': get_municipios_codigos()}"
   ]
  },
  {
   "cell_type": "code",
   "execution_count": 2,
   "id": "1ccc7c42-82fa-42ec-bb69-e1e75e507409",
   "metadata": {
    "slideshow": {
     "slide_type": "subslide"
    },
    "tags": []
   },
   "outputs": [],
   "source": [
    "def clean_estados_georreferenciamento(df, filename='estados_georreferenciamento.json'):\n",
    "    filepath = os.path.join(build_path('clean'), filename)\n",
    "    df[['codigo_uf', 'latitude', 'longitude']].to_json(filepath)\n",
    "\n",
    "def clean_municipios_georreferenciamento(df, filename='municipios_georreferenciamento.json'):\n",
    "    filepath = os.path.join(build_path('clean'), filename)\n",
    "    df[['codigo_ibge', 'latitude', 'longitude']].to_json(filepath)\n",
    "\n",
    "def clean_covid_infections_and_deaths(df, filename='ALL_HIST_PAINEL_COVID.json'):\n",
    "    filepath = os.path.join(build_path('clean'), filename)\n",
    "    df[df['municipio'].notna()][['codmun', 'data', 'casosNovos', 'obitosNovos', 'populacaoTCU2019']].to_json(filepath)\n",
    "\n",
    "def clean_estados_codigos(df, filename='estados_codigos.json'):\n",
    "    filepath = os.path.join(build_path('clean'), filename)\n",
    "    df[['id', 'sigla', 'nome']].to_json(filepath)\n",
    "\n",
    "def clean_estados_caracteristicas(df, filename='estados_caracteristicas.json'):\n",
    "    filepath = os.path.join(build_path('clean'), filename)\n",
    "    df['characteristics_value'] = df['characteristics_value'] + ' ' + df['characteristics_measure']\n",
    "    df[['state_state', 'characteristics_label', 'characteristics_value']].to_json(filepath)\n",
    "\n",
    "def clean_estados_vacinacao(df, filename='estados_vacinacao.json'):\n",
    "    filepath = os.path.join(build_path('clean'), filename)\n",
    "    df['vacinacao_key'] = df['vacinacao_key'].dt.date\n",
    "    df[['estado_key', 'vacinacao_key', 'vacinacao_doc_count']].to_json(filepath)\n",
    "\n",
    "def clean_municipios_vacinacao(df, filename='municipios_vacinacao.json'):\n",
    "    filepath = os.path.join(build_path('clean'), filename)\n",
    "    df[['municipio_key', 'vacinacao_key', 'vacinacao_doc_count']].to_json(filepath)\n",
    "\n",
    "def clean_municipios_codigos(df, filename='municipios_codigos.json'):\n",
    "    filepath = os.path.join(build_path('clean'), filename)\n",
    "    df[['id', 'city']].to_json(filepath)"
   ]
  },
  {
   "cell_type": "markdown",
   "id": "6f40f4f8-ae2c-45c3-bec5-9f18c111bfd2",
   "metadata": {},
   "source": [
    "### Código"
   ]
  },
  {
   "cell_type": "code",
   "execution_count": 3,
   "id": "7c1219a1-d8f1-4a03-b79b-a93bea74e260",
   "metadata": {
    "slideshow": {
     "slide_type": "-"
    }
   },
   "outputs": [],
   "source": [
    "data = load_data()"
   ]
  },
  {
   "cell_type": "code",
   "execution_count": 4,
   "id": "b029171f-1d60-46bd-8d23-920e271e2415",
   "metadata": {
    "slideshow": {
     "slide_type": "-"
    },
    "tags": []
   },
   "outputs": [],
   "source": [
    "clean_estados_georreferenciamento(data['estados_georreferenciamento'])\n",
    "clean_municipios_georreferenciamento(data['municipios_georreferenciamento'])\n",
    "clean_estados_caracteristicas(data['estados_caracteristicas'])\n",
    "clean_estados_codigos(data['estados_codigos'])\n",
    "clean_municipios_codigos(data['municipios_codigos'])\n",
    "clean_estados_vacinacao(data['estados_vacinacao'])\n",
    "clean_municipios_vacinacao(data['municipios_vacinacao'])\n",
    "clean_covid_infections_and_deaths(data['infections_and_deaths'])"
   ]
  }
 ],
 "metadata": {
  "celltoolbar": "Slideshow",
  "kernelspec": {
   "display_name": "Python 3 (ipykernel)",
   "language": "python",
   "name": "python3"
  },
  "language_info": {
   "codemirror_mode": {
    "name": "ipython",
    "version": 3
   },
   "file_extension": ".py",
   "mimetype": "text/x-python",
   "name": "python",
   "nbconvert_exporter": "python",
   "pygments_lexer": "ipython3",
   "version": "3.11.2"
  },
  "toc": {
   "base_numbering": 1,
   "nav_menu": {},
   "number_sections": true,
   "sideBar": true,
   "skip_h1_title": false,
   "title_cell": "Table of Contents",
   "title_sidebar": "Contents",
   "toc_cell": false,
   "toc_position": {},
   "toc_section_display": true,
   "toc_window_display": false
  }
 },
 "nbformat": 4,
 "nbformat_minor": 5
}
