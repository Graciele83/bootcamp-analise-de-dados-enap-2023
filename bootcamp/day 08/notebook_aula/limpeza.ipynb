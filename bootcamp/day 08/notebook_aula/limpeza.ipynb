{
 "cells": [
  {
   "cell_type": "code",
   "execution_count": 1,
   "id": "0ab6a6d8-7e29-4a20-a6b5-f5f5aa397c99",
   "metadata": {},
   "outputs": [],
   "source": [
    "import pandas as pd\n",
    "import numpy as np"
   ]
  },
  {
   "cell_type": "code",
   "execution_count": 2,
   "id": "5c2f34da-afb6-4036-b7b0-345fb892b442",
   "metadata": {},
   "outputs": [],
   "source": [
    "ministerios = ['Educacao', 'Saude', 'Fazenda', 'Agricultura']\n",
    "servidores = [374_209, 44_762, 50_820, 15_275]\n",
    "folha_pagamento = [29_905, 4_015, 3_002, 2_741] # em R$ 1.000.000\n",
    "valor_arrecadado = [34_622, 2_430, 3_434_537, 6_128] # em R$ 1.000.000\n",
    "despesa = [139_593, 143_251, 2_308_118, 13_663] # em R$ 1.000.000"
   ]
  },
  {
   "cell_type": "code",
   "execution_count": 3,
   "id": "0fe372e1-4af9-42ee-9d45-6308ab473f14",
   "metadata": {},
   "outputs": [
    {
     "data": {
      "text/html": [
       "<div>\n",
       "<style scoped>\n",
       "    .dataframe tbody tr th:only-of-type {\n",
       "        vertical-align: middle;\n",
       "    }\n",
       "\n",
       "    .dataframe tbody tr th {\n",
       "        vertical-align: top;\n",
       "    }\n",
       "\n",
       "    .dataframe thead th {\n",
       "        text-align: right;\n",
       "    }\n",
       "</style>\n",
       "<table border=\"1\" class=\"dataframe\">\n",
       "  <thead>\n",
       "    <tr style=\"text-align: right;\">\n",
       "      <th></th>\n",
       "      <th>Servidores</th>\n",
       "      <th>Folha de Pagamento</th>\n",
       "      <th>Valor Arrecadado</th>\n",
       "      <th>Despesa</th>\n",
       "    </tr>\n",
       "  </thead>\n",
       "  <tbody>\n",
       "    <tr>\n",
       "      <th>Educacao</th>\n",
       "      <td>374209</td>\n",
       "      <td>29905</td>\n",
       "      <td>34622</td>\n",
       "      <td>139593</td>\n",
       "    </tr>\n",
       "    <tr>\n",
       "      <th>Saude</th>\n",
       "      <td>44762</td>\n",
       "      <td>4015</td>\n",
       "      <td>2430</td>\n",
       "      <td>143251</td>\n",
       "    </tr>\n",
       "    <tr>\n",
       "      <th>Fazenda</th>\n",
       "      <td>50820</td>\n",
       "      <td>3002</td>\n",
       "      <td>3434537</td>\n",
       "      <td>2308118</td>\n",
       "    </tr>\n",
       "    <tr>\n",
       "      <th>Agricultura</th>\n",
       "      <td>15275</td>\n",
       "      <td>2741</td>\n",
       "      <td>6128</td>\n",
       "      <td>13663</td>\n",
       "    </tr>\n",
       "  </tbody>\n",
       "</table>\n",
       "</div>"
      ],
      "text/plain": [
       "             Servidores  Folha de Pagamento  Valor Arrecadado  Despesa\n",
       "Educacao         374209               29905             34622   139593\n",
       "Saude             44762                4015              2430   143251\n",
       "Fazenda           50820                3002           3434537  2308118\n",
       "Agricultura       15275                2741              6128    13663"
      ]
     },
     "execution_count": 3,
     "metadata": {},
     "output_type": "execute_result"
    }
   ],
   "source": [
    "df = pd.DataFrame({\n",
    "    'Servidores': servidores,\n",
    "    'Folha de Pagamento': folha_pagamento,\n",
    "    'Valor Arrecadado': valor_arrecadado,\n",
    "    'Despesa': despesa\n",
    "}, index = ministerios)\n",
    "\n",
    "df"
   ]
  },
  {
   "cell_type": "code",
   "execution_count": 4,
   "id": "1bc9bc3b-46ff-498a-8f08-24b3555a8f1c",
   "metadata": {},
   "outputs": [
    {
     "data": {
      "text/plain": [
       "Educacao       374209\n",
       "Saude           44762\n",
       "Fazenda         50820\n",
       "Agricultura     15275\n",
       "Name: Servidores, dtype: int64"
      ]
     },
     "execution_count": 4,
     "metadata": {},
     "output_type": "execute_result"
    }
   ],
   "source": [
    "df['Servidores']"
   ]
  },
  {
   "cell_type": "code",
   "execution_count": 5,
   "id": "b765ac65-d142-4a8b-ade0-c1a1e5f96dda",
   "metadata": {},
   "outputs": [
    {
     "data": {
      "text/html": [
       "<div>\n",
       "<style scoped>\n",
       "    .dataframe tbody tr th:only-of-type {\n",
       "        vertical-align: middle;\n",
       "    }\n",
       "\n",
       "    .dataframe tbody tr th {\n",
       "        vertical-align: top;\n",
       "    }\n",
       "\n",
       "    .dataframe thead th {\n",
       "        text-align: right;\n",
       "    }\n",
       "</style>\n",
       "<table border=\"1\" class=\"dataframe\">\n",
       "  <thead>\n",
       "    <tr style=\"text-align: right;\">\n",
       "      <th></th>\n",
       "      <th>Servidores</th>\n",
       "      <th>Folha de Pagamento</th>\n",
       "    </tr>\n",
       "  </thead>\n",
       "  <tbody>\n",
       "    <tr>\n",
       "      <th>Educacao</th>\n",
       "      <td>374209</td>\n",
       "      <td>29905</td>\n",
       "    </tr>\n",
       "    <tr>\n",
       "      <th>Saude</th>\n",
       "      <td>44762</td>\n",
       "      <td>4015</td>\n",
       "    </tr>\n",
       "    <tr>\n",
       "      <th>Fazenda</th>\n",
       "      <td>50820</td>\n",
       "      <td>3002</td>\n",
       "    </tr>\n",
       "    <tr>\n",
       "      <th>Agricultura</th>\n",
       "      <td>15275</td>\n",
       "      <td>2741</td>\n",
       "    </tr>\n",
       "  </tbody>\n",
       "</table>\n",
       "</div>"
      ],
      "text/plain": [
       "             Servidores  Folha de Pagamento\n",
       "Educacao         374209               29905\n",
       "Saude             44762                4015\n",
       "Fazenda           50820                3002\n",
       "Agricultura       15275                2741"
      ]
     },
     "execution_count": 5,
     "metadata": {},
     "output_type": "execute_result"
    }
   ],
   "source": [
    "df[['Servidores', 'Folha de Pagamento']]"
   ]
  },
  {
   "cell_type": "code",
   "execution_count": 6,
   "id": "49184018-2dcb-4ebb-98e4-a3e1d2bc71c3",
   "metadata": {},
   "outputs": [
    {
     "data": {
      "text/html": [
       "<div>\n",
       "<style scoped>\n",
       "    .dataframe tbody tr th:only-of-type {\n",
       "        vertical-align: middle;\n",
       "    }\n",
       "\n",
       "    .dataframe tbody tr th {\n",
       "        vertical-align: top;\n",
       "    }\n",
       "\n",
       "    .dataframe thead th {\n",
       "        text-align: right;\n",
       "    }\n",
       "</style>\n",
       "<table border=\"1\" class=\"dataframe\">\n",
       "  <thead>\n",
       "    <tr style=\"text-align: right;\">\n",
       "      <th></th>\n",
       "      <th>Servidores</th>\n",
       "    </tr>\n",
       "  </thead>\n",
       "  <tbody>\n",
       "    <tr>\n",
       "      <th>Educacao</th>\n",
       "      <td>374209</td>\n",
       "    </tr>\n",
       "    <tr>\n",
       "      <th>Saude</th>\n",
       "      <td>44762</td>\n",
       "    </tr>\n",
       "    <tr>\n",
       "      <th>Fazenda</th>\n",
       "      <td>50820</td>\n",
       "    </tr>\n",
       "    <tr>\n",
       "      <th>Agricultura</th>\n",
       "      <td>15275</td>\n",
       "    </tr>\n",
       "  </tbody>\n",
       "</table>\n",
       "</div>"
      ],
      "text/plain": [
       "             Servidores\n",
       "Educacao         374209\n",
       "Saude             44762\n",
       "Fazenda           50820\n",
       "Agricultura       15275"
      ]
     },
     "execution_count": 6,
     "metadata": {},
     "output_type": "execute_result"
    }
   ],
   "source": [
    "df[['Servidores']]"
   ]
  },
  {
   "cell_type": "code",
   "execution_count": 7,
   "id": "998b5987-7e0c-4f4e-8f53-2ea9beb384cf",
   "metadata": {},
   "outputs": [
    {
     "data": {
      "text/plain": [
       "Educacao       374209\n",
       "Saude           44762\n",
       "Fazenda         50820\n",
       "Agricultura     15275\n",
       "Name: Servidores, dtype: int64"
      ]
     },
     "execution_count": 7,
     "metadata": {},
     "output_type": "execute_result"
    }
   ],
   "source": [
    "df['Servidores']"
   ]
  },
  {
   "cell_type": "code",
   "execution_count": 8,
   "id": "0965a0b5-88a2-4ad3-b764-8992f150b7be",
   "metadata": {},
   "outputs": [
    {
     "data": {
      "text/html": [
       "<div>\n",
       "<style scoped>\n",
       "    .dataframe tbody tr th:only-of-type {\n",
       "        vertical-align: middle;\n",
       "    }\n",
       "\n",
       "    .dataframe tbody tr th {\n",
       "        vertical-align: top;\n",
       "    }\n",
       "\n",
       "    .dataframe thead th {\n",
       "        text-align: right;\n",
       "    }\n",
       "</style>\n",
       "<table border=\"1\" class=\"dataframe\">\n",
       "  <thead>\n",
       "    <tr style=\"text-align: right;\">\n",
       "      <th></th>\n",
       "      <th>Servidores</th>\n",
       "      <th>Folha de Pagamento</th>\n",
       "      <th>Valor Arrecadado</th>\n",
       "      <th>Despesa</th>\n",
       "    </tr>\n",
       "  </thead>\n",
       "  <tbody>\n",
       "    <tr>\n",
       "      <th>Educacao</th>\n",
       "      <td>374209</td>\n",
       "      <td>29905</td>\n",
       "      <td>34622</td>\n",
       "      <td>139593</td>\n",
       "    </tr>\n",
       "    <tr>\n",
       "      <th>Fazenda</th>\n",
       "      <td>50820</td>\n",
       "      <td>3002</td>\n",
       "      <td>3434537</td>\n",
       "      <td>2308118</td>\n",
       "    </tr>\n",
       "  </tbody>\n",
       "</table>\n",
       "</div>"
      ],
      "text/plain": [
       "          Servidores  Folha de Pagamento  Valor Arrecadado  Despesa\n",
       "Educacao      374209               29905             34622   139593\n",
       "Fazenda        50820                3002           3434537  2308118"
      ]
     },
     "execution_count": 8,
     "metadata": {},
     "output_type": "execute_result"
    }
   ],
   "source": [
    "df[df['Servidores'] > 50000]"
   ]
  },
  {
   "cell_type": "code",
   "execution_count": 9,
   "id": "74c1bad9-c345-4044-a2c3-70b83d401827",
   "metadata": {},
   "outputs": [
    {
     "data": {
      "text/html": [
       "<div>\n",
       "<style scoped>\n",
       "    .dataframe tbody tr th:only-of-type {\n",
       "        vertical-align: middle;\n",
       "    }\n",
       "\n",
       "    .dataframe tbody tr th {\n",
       "        vertical-align: top;\n",
       "    }\n",
       "\n",
       "    .dataframe thead th {\n",
       "        text-align: right;\n",
       "    }\n",
       "</style>\n",
       "<table border=\"1\" class=\"dataframe\">\n",
       "  <thead>\n",
       "    <tr style=\"text-align: right;\">\n",
       "      <th></th>\n",
       "      <th>Servidores</th>\n",
       "      <th>Folha de Pagamento</th>\n",
       "      <th>Valor Arrecadado</th>\n",
       "      <th>Despesa</th>\n",
       "    </tr>\n",
       "  </thead>\n",
       "  <tbody>\n",
       "    <tr>\n",
       "      <th>Educacao</th>\n",
       "      <td>374209</td>\n",
       "      <td>29905</td>\n",
       "      <td>34622</td>\n",
       "      <td>139593</td>\n",
       "    </tr>\n",
       "    <tr>\n",
       "      <th>Saude</th>\n",
       "      <td>44762</td>\n",
       "      <td>4015</td>\n",
       "      <td>2430</td>\n",
       "      <td>143251</td>\n",
       "    </tr>\n",
       "    <tr>\n",
       "      <th>Fazenda</th>\n",
       "      <td>50820</td>\n",
       "      <td>3002</td>\n",
       "      <td>3434537</td>\n",
       "      <td>2308118</td>\n",
       "    </tr>\n",
       "    <tr>\n",
       "      <th>Agricultura</th>\n",
       "      <td>15275</td>\n",
       "      <td>2741</td>\n",
       "      <td>6128</td>\n",
       "      <td>13663</td>\n",
       "    </tr>\n",
       "  </tbody>\n",
       "</table>\n",
       "</div>"
      ],
      "text/plain": [
       "             Servidores  Folha de Pagamento  Valor Arrecadado  Despesa\n",
       "Educacao         374209               29905             34622   139593\n",
       "Saude             44762                4015              2430   143251\n",
       "Fazenda           50820                3002           3434537  2308118\n",
       "Agricultura       15275                2741              6128    13663"
      ]
     },
     "execution_count": 9,
     "metadata": {},
     "output_type": "execute_result"
    }
   ],
   "source": [
    "df"
   ]
  },
  {
   "cell_type": "code",
   "execution_count": 10,
   "id": "aa48165f-5214-4735-bb05-862fe2a27fbf",
   "metadata": {},
   "outputs": [],
   "source": [
    "df['Servidores'][df['Servidores'] > 50_000] = 0"
   ]
  },
  {
   "cell_type": "code",
   "execution_count": 11,
   "id": "a77c85c9-9e27-4f09-b1c9-a8fd702a6935",
   "metadata": {},
   "outputs": [
    {
     "data": {
      "text/html": [
       "<div>\n",
       "<style scoped>\n",
       "    .dataframe tbody tr th:only-of-type {\n",
       "        vertical-align: middle;\n",
       "    }\n",
       "\n",
       "    .dataframe tbody tr th {\n",
       "        vertical-align: top;\n",
       "    }\n",
       "\n",
       "    .dataframe thead th {\n",
       "        text-align: right;\n",
       "    }\n",
       "</style>\n",
       "<table border=\"1\" class=\"dataframe\">\n",
       "  <thead>\n",
       "    <tr style=\"text-align: right;\">\n",
       "      <th></th>\n",
       "      <th>Servidores</th>\n",
       "      <th>Folha de Pagamento</th>\n",
       "      <th>Valor Arrecadado</th>\n",
       "      <th>Despesa</th>\n",
       "    </tr>\n",
       "  </thead>\n",
       "  <tbody>\n",
       "    <tr>\n",
       "      <th>Educacao</th>\n",
       "      <td>0</td>\n",
       "      <td>29905</td>\n",
       "      <td>34622</td>\n",
       "      <td>139593</td>\n",
       "    </tr>\n",
       "    <tr>\n",
       "      <th>Saude</th>\n",
       "      <td>44762</td>\n",
       "      <td>4015</td>\n",
       "      <td>2430</td>\n",
       "      <td>143251</td>\n",
       "    </tr>\n",
       "    <tr>\n",
       "      <th>Fazenda</th>\n",
       "      <td>0</td>\n",
       "      <td>3002</td>\n",
       "      <td>3434537</td>\n",
       "      <td>2308118</td>\n",
       "    </tr>\n",
       "    <tr>\n",
       "      <th>Agricultura</th>\n",
       "      <td>15275</td>\n",
       "      <td>2741</td>\n",
       "      <td>6128</td>\n",
       "      <td>13663</td>\n",
       "    </tr>\n",
       "  </tbody>\n",
       "</table>\n",
       "</div>"
      ],
      "text/plain": [
       "             Servidores  Folha de Pagamento  Valor Arrecadado  Despesa\n",
       "Educacao              0               29905             34622   139593\n",
       "Saude             44762                4015              2430   143251\n",
       "Fazenda               0                3002           3434537  2308118\n",
       "Agricultura       15275                2741              6128    13663"
      ]
     },
     "execution_count": 11,
     "metadata": {},
     "output_type": "execute_result"
    }
   ],
   "source": [
    "df"
   ]
  },
  {
   "cell_type": "code",
   "execution_count": 12,
   "id": "a09e69b0-2e97-4427-9c27-71a2e22bad6e",
   "metadata": {},
   "outputs": [],
   "source": [
    "df.loc[['Educacao', 'Agricultura'], ['Servidores', 'Despesa']] = 0"
   ]
  },
  {
   "cell_type": "code",
   "execution_count": 13,
   "id": "41c5ae43-0416-4a5b-b769-5dd6b87ccf4a",
   "metadata": {},
   "outputs": [
    {
     "data": {
      "text/html": [
       "<div>\n",
       "<style scoped>\n",
       "    .dataframe tbody tr th:only-of-type {\n",
       "        vertical-align: middle;\n",
       "    }\n",
       "\n",
       "    .dataframe tbody tr th {\n",
       "        vertical-align: top;\n",
       "    }\n",
       "\n",
       "    .dataframe thead th {\n",
       "        text-align: right;\n",
       "    }\n",
       "</style>\n",
       "<table border=\"1\" class=\"dataframe\">\n",
       "  <thead>\n",
       "    <tr style=\"text-align: right;\">\n",
       "      <th></th>\n",
       "      <th>Despesa</th>\n",
       "      <th>Servidores</th>\n",
       "    </tr>\n",
       "  </thead>\n",
       "  <tbody>\n",
       "    <tr>\n",
       "      <th>Educacao</th>\n",
       "      <td>0</td>\n",
       "      <td>0</td>\n",
       "    </tr>\n",
       "    <tr>\n",
       "      <th>Agricultura</th>\n",
       "      <td>0</td>\n",
       "      <td>0</td>\n",
       "    </tr>\n",
       "  </tbody>\n",
       "</table>\n",
       "</div>"
      ],
      "text/plain": [
       "             Despesa  Servidores\n",
       "Educacao           0           0\n",
       "Agricultura        0           0"
      ]
     },
     "execution_count": 13,
     "metadata": {},
     "output_type": "execute_result"
    }
   ],
   "source": [
    "df.iloc[[0, 3], [3, 0]]"
   ]
  },
  {
   "cell_type": "code",
   "execution_count": 14,
   "id": "ba3e2440-9c94-4542-900a-22e127ebf6ef",
   "metadata": {},
   "outputs": [
    {
     "data": {
      "text/html": [
       "<div>\n",
       "<style scoped>\n",
       "    .dataframe tbody tr th:only-of-type {\n",
       "        vertical-align: middle;\n",
       "    }\n",
       "\n",
       "    .dataframe tbody tr th {\n",
       "        vertical-align: top;\n",
       "    }\n",
       "\n",
       "    .dataframe thead th {\n",
       "        text-align: right;\n",
       "    }\n",
       "</style>\n",
       "<table border=\"1\" class=\"dataframe\">\n",
       "  <thead>\n",
       "    <tr style=\"text-align: right;\">\n",
       "      <th></th>\n",
       "      <th>Servidores</th>\n",
       "      <th>Folha de Pagamento</th>\n",
       "      <th>Valor Arrecadado</th>\n",
       "      <th>Despesa</th>\n",
       "    </tr>\n",
       "  </thead>\n",
       "  <tbody>\n",
       "    <tr>\n",
       "      <th>Educacao</th>\n",
       "      <td>0</td>\n",
       "      <td>29905</td>\n",
       "      <td>34622</td>\n",
       "      <td>0</td>\n",
       "    </tr>\n",
       "    <tr>\n",
       "      <th>Saude</th>\n",
       "      <td>44762</td>\n",
       "      <td>4015</td>\n",
       "      <td>2430</td>\n",
       "      <td>143251</td>\n",
       "    </tr>\n",
       "    <tr>\n",
       "      <th>Fazenda</th>\n",
       "      <td>0</td>\n",
       "      <td>3002</td>\n",
       "      <td>3434537</td>\n",
       "      <td>2308118</td>\n",
       "    </tr>\n",
       "    <tr>\n",
       "      <th>Agricultura</th>\n",
       "      <td>0</td>\n",
       "      <td>2741</td>\n",
       "      <td>6128</td>\n",
       "      <td>0</td>\n",
       "    </tr>\n",
       "  </tbody>\n",
       "</table>\n",
       "</div>"
      ],
      "text/plain": [
       "             Servidores  Folha de Pagamento  Valor Arrecadado  Despesa\n",
       "Educacao              0               29905             34622        0\n",
       "Saude             44762                4015              2430   143251\n",
       "Fazenda               0                3002           3434537  2308118\n",
       "Agricultura           0                2741              6128        0"
      ]
     },
     "execution_count": 14,
     "metadata": {},
     "output_type": "execute_result"
    }
   ],
   "source": [
    "df"
   ]
  },
  {
   "cell_type": "code",
   "execution_count": 15,
   "id": "54f45957-d7b6-42db-bc85-b2cb19266bc7",
   "metadata": {},
   "outputs": [
    {
     "data": {
      "text/plain": [
       "Servidores  Folha de Pagamento  Valor Arrecadado  Despesa\n",
       "0           2741                6128              0          1\n",
       "            3002                3434537           2308118    1\n",
       "            29905               34622             0          1\n",
       "44762       4015                2430              143251     1\n",
       "Name: count, dtype: int64"
      ]
     },
     "execution_count": 15,
     "metadata": {},
     "output_type": "execute_result"
    }
   ],
   "source": [
    "df.value_counts()"
   ]
  },
  {
   "cell_type": "code",
   "execution_count": 16,
   "id": "b4e4fc2b-862f-475f-bbb5-2a8511db0d16",
   "metadata": {},
   "outputs": [
    {
     "data": {
      "text/plain": [
       "array([    0, 44762])"
      ]
     },
     "execution_count": 16,
     "metadata": {},
     "output_type": "execute_result"
    }
   ],
   "source": [
    "df['Servidores'].unique()"
   ]
  },
  {
   "cell_type": "code",
   "execution_count": null,
   "id": "5afb18bc-8bae-41e5-9ee4-e4de8f363038",
   "metadata": {},
   "outputs": [],
   "source": []
  },
  {
   "cell_type": "code",
   "execution_count": 17,
   "id": "ac46ea0e-822f-4ff1-b319-71038c12bcb7",
   "metadata": {},
   "outputs": [],
   "source": [
    "palavra = 'isadbfidasf\\n'"
   ]
  },
  {
   "cell_type": "code",
   "execution_count": 18,
   "id": "ecb61e0c-aad1-4cb1-92a6-0a2834503506",
   "metadata": {},
   "outputs": [],
   "source": [
    "None"
   ]
  },
  {
   "cell_type": "code",
   "execution_count": null,
   "id": "07c4d124-fc58-42c1-a3ad-e7dfdf1eab01",
   "metadata": {},
   "outputs": [],
   "source": []
  },
  {
   "cell_type": "code",
   "execution_count": null,
   "id": "c6dbf9e4-ab7d-46a7-bab4-2edb6ff45dfd",
   "metadata": {},
   "outputs": [],
   "source": []
  },
  {
   "cell_type": "code",
   "execution_count": 19,
   "id": "a4305f93-62fc-4ff7-8903-4dc38eace1ec",
   "metadata": {},
   "outputs": [
    {
     "data": {
      "text/html": [
       "<div>\n",
       "<style scoped>\n",
       "    .dataframe tbody tr th:only-of-type {\n",
       "        vertical-align: middle;\n",
       "    }\n",
       "\n",
       "    .dataframe tbody tr th {\n",
       "        vertical-align: top;\n",
       "    }\n",
       "\n",
       "    .dataframe thead th {\n",
       "        text-align: right;\n",
       "    }\n",
       "</style>\n",
       "<table border=\"1\" class=\"dataframe\">\n",
       "  <thead>\n",
       "    <tr style=\"text-align: right;\">\n",
       "      <th></th>\n",
       "      <th>Servidores</th>\n",
       "      <th>Folha de Pagamento</th>\n",
       "      <th>Valor Arrecadado</th>\n",
       "      <th>Despesa</th>\n",
       "    </tr>\n",
       "  </thead>\n",
       "  <tbody>\n",
       "    <tr>\n",
       "      <th>Educacao</th>\n",
       "      <td>0.0</td>\n",
       "      <td>NaN</td>\n",
       "      <td>NaN</td>\n",
       "      <td>0.0</td>\n",
       "    </tr>\n",
       "    <tr>\n",
       "      <th>Saude</th>\n",
       "      <td>44762.0</td>\n",
       "      <td>4015.0</td>\n",
       "      <td>2430.0</td>\n",
       "      <td>143251.0</td>\n",
       "    </tr>\n",
       "    <tr>\n",
       "      <th>Fazenda</th>\n",
       "      <td>NaN</td>\n",
       "      <td>NaN</td>\n",
       "      <td>NaN</td>\n",
       "      <td>NaN</td>\n",
       "    </tr>\n",
       "    <tr>\n",
       "      <th>Agricultura</th>\n",
       "      <td>NaN</td>\n",
       "      <td>2741.0</td>\n",
       "      <td>6128.0</td>\n",
       "      <td>0.0</td>\n",
       "    </tr>\n",
       "  </tbody>\n",
       "</table>\n",
       "</div>"
      ],
      "text/plain": [
       "             Servidores  Folha de Pagamento  Valor Arrecadado   Despesa\n",
       "Educacao            0.0                 NaN               NaN       0.0\n",
       "Saude           44762.0              4015.0            2430.0  143251.0\n",
       "Fazenda             NaN                 NaN               NaN       NaN\n",
       "Agricultura         NaN              2741.0            6128.0       0.0"
      ]
     },
     "execution_count": 19,
     "metadata": {},
     "output_type": "execute_result"
    }
   ],
   "source": [
    "df.iloc[2,:] = df.iloc[3,0] = df.iloc[0,1] = df.iloc[0,2] = np.nan\n",
    "df"
   ]
  },
  {
   "cell_type": "code",
   "execution_count": 20,
   "id": "8645923a-f957-4a63-84c9-ba157f297bdf",
   "metadata": {},
   "outputs": [
    {
     "name": "stderr",
     "output_type": "stream",
     "text": [
      "/var/folders/3k/5x2j3hkx6x3f717k3344mgpm0000gn/T/ipykernel_49030/3314729575.py:1: FutureWarning: DataFrame.fillna with 'method' is deprecated and will raise in a future version. Use obj.ffill() or obj.bfill() instead.\n",
      "  df.fillna(method='bfill', inplace=True)\n"
     ]
    }
   ],
   "source": [
    "df.fillna(method='bfill', inplace=True)"
   ]
  },
  {
   "cell_type": "code",
   "execution_count": 21,
   "id": "675d471a-3f11-4e61-a984-0ccabd88fc2f",
   "metadata": {},
   "outputs": [
    {
     "data": {
      "text/html": [
       "<div>\n",
       "<style scoped>\n",
       "    .dataframe tbody tr th:only-of-type {\n",
       "        vertical-align: middle;\n",
       "    }\n",
       "\n",
       "    .dataframe tbody tr th {\n",
       "        vertical-align: top;\n",
       "    }\n",
       "\n",
       "    .dataframe thead th {\n",
       "        text-align: right;\n",
       "    }\n",
       "</style>\n",
       "<table border=\"1\" class=\"dataframe\">\n",
       "  <thead>\n",
       "    <tr style=\"text-align: right;\">\n",
       "      <th></th>\n",
       "      <th>Servidores</th>\n",
       "      <th>Folha de Pagamento</th>\n",
       "      <th>Valor Arrecadado</th>\n",
       "      <th>Despesa</th>\n",
       "    </tr>\n",
       "  </thead>\n",
       "  <tbody>\n",
       "    <tr>\n",
       "      <th>Educacao</th>\n",
       "      <td>0.0</td>\n",
       "      <td>4015.0</td>\n",
       "      <td>2430.0</td>\n",
       "      <td>0.0</td>\n",
       "    </tr>\n",
       "    <tr>\n",
       "      <th>Saude</th>\n",
       "      <td>44762.0</td>\n",
       "      <td>4015.0</td>\n",
       "      <td>2430.0</td>\n",
       "      <td>143251.0</td>\n",
       "    </tr>\n",
       "    <tr>\n",
       "      <th>Fazenda</th>\n",
       "      <td>NaN</td>\n",
       "      <td>2741.0</td>\n",
       "      <td>6128.0</td>\n",
       "      <td>0.0</td>\n",
       "    </tr>\n",
       "    <tr>\n",
       "      <th>Agricultura</th>\n",
       "      <td>NaN</td>\n",
       "      <td>2741.0</td>\n",
       "      <td>6128.0</td>\n",
       "      <td>0.0</td>\n",
       "    </tr>\n",
       "  </tbody>\n",
       "</table>\n",
       "</div>"
      ],
      "text/plain": [
       "             Servidores  Folha de Pagamento  Valor Arrecadado   Despesa\n",
       "Educacao            0.0              4015.0            2430.0       0.0\n",
       "Saude           44762.0              4015.0            2430.0  143251.0\n",
       "Fazenda             NaN              2741.0            6128.0       0.0\n",
       "Agricultura         NaN              2741.0            6128.0       0.0"
      ]
     },
     "execution_count": 21,
     "metadata": {},
     "output_type": "execute_result"
    }
   ],
   "source": [
    "df"
   ]
  },
  {
   "cell_type": "code",
   "execution_count": 22,
   "id": "54eec855-76b1-4a9a-b3f1-1d49010aa737",
   "metadata": {},
   "outputs": [],
   "source": [
    "#!pip install matplotlib"
   ]
  },
  {
   "cell_type": "code",
   "execution_count": 23,
   "id": "ac4252b0-ecbb-4664-b728-2aa923cddc52",
   "metadata": {},
   "outputs": [],
   "source": [
    "normal_data = pd.DataFrame(np.random.standard_normal((1000, 1)))"
   ]
  },
  {
   "cell_type": "code",
   "execution_count": 24,
   "id": "eb5cbea8-b864-4846-994b-a1c38e73fbb8",
   "metadata": {},
   "outputs": [
    {
     "data": {
      "text/plain": [
       "<Axes: >"
      ]
     },
     "execution_count": 24,
     "metadata": {},
     "output_type": "execute_result"
    },
    {
     "data": {
      "image/png": "[encoded data removed]",
      "text/plain": [
       "<Figure size 640x480 with 1 Axes>"
      ]
     },
     "metadata": {},
     "output_type": "display_data"
    }
   ],
   "source": [
    "normal_data.boxplot()"
   ]
  },
  {
   "cell_type": "code",
   "execution_count": 25,
   "id": "b7a47cf7-dcd2-41ac-9c5f-232511abd09d",
   "metadata": {},
   "outputs": [],
   "source": [
    "normal_data[normal_data.abs() > 3] = np.sign(normal_data) * 3"
   ]
  },
  {
   "cell_type": "code",
   "execution_count": 26,
   "id": "6a383a7d-22f5-4bb9-801b-09c20199c550",
   "metadata": {},
   "outputs": [
    {
     "data": {
      "text/html": [
       "<div>\n",
       "<style scoped>\n",
       "    .dataframe tbody tr th:only-of-type {\n",
       "        vertical-align: middle;\n",
       "    }\n",
       "\n",
       "    .dataframe tbody tr th {\n",
       "        vertical-align: top;\n",
       "    }\n",
       "\n",
       "    .dataframe thead th {\n",
       "        text-align: right;\n",
       "    }\n",
       "</style>\n",
       "<table border=\"1\" class=\"dataframe\">\n",
       "  <thead>\n",
       "    <tr style=\"text-align: right;\">\n",
       "      <th></th>\n",
       "      <th>0</th>\n",
       "    </tr>\n",
       "  </thead>\n",
       "  <tbody>\n",
       "    <tr>\n",
       "      <th>312</th>\n",
       "      <td>-3.0</td>\n",
       "    </tr>\n",
       "  </tbody>\n",
       "</table>\n",
       "</div>"
      ],
      "text/plain": [
       "       0\n",
       "312 -3.0"
      ]
     },
     "execution_count": 26,
     "metadata": {},
     "output_type": "execute_result"
    }
   ],
   "source": [
    "normal_data[(normal_data.abs() == 3).any(axis=\"columns\")]"
   ]
  },
  {
   "cell_type": "code",
   "execution_count": 27,
   "id": "12f01315-7b66-4186-9dc2-54e0c692a612",
   "metadata": {},
   "outputs": [],
   "source": [
    "normal_data.boxplot();"
   ]
  },
  {
   "cell_type": "code",
   "execution_count": null,
   "id": "f00114ba-e7b0-4573-9f0e-9306d69e6f26",
   "metadata": {},
   "outputs": [],
   "source": []
  },
  {
   "cell_type": "code",
   "execution_count": 31,
   "id": "0ee292ae-9ad1-41b6-a6e9-63c2eedbb75c",
   "metadata": {},
   "outputs": [],
   "source": [
    "!pip install openpyxl --quiet"
   ]
  },
  {
   "cell_type": "code",
   "execution_count": null,
   "id": "101a919d-fe47-4d60-ac92-0a0f6d3e673b",
   "metadata": {},
   "outputs": [],
   "source": []
  },
  {
   "cell_type": "code",
   "execution_count": null,
   "id": "cbe57ef3-c4df-46b4-a033-d04d866ff809",
   "metadata": {},
   "outputs": [],
   "source": []
  },
  {
   "cell_type": "code",
   "execution_count": null,
   "id": "687110c1-2bc1-4a7f-b5d3-0078a51daddd",
   "metadata": {},
   "outputs": [],
   "source": []
  }
 ],
 "metadata": {
  "kernelspec": {
   "display_name": "Python 3 (ipykernel)",
   "language": "python",
   "name": "python3"
  },
  "language_info": {
   "codemirror_mode": {
    "name": "ipython",
    "version": 3
   },
   "file_extension": ".py",
   "mimetype": "text/x-python",
   "name": "python",
   "nbconvert_exporter": "python",
   "pygments_lexer": "ipython3",
   "version": "3.11.2"
  }
 },
 "nbformat": 4,
 "nbformat_minor": 5
}
