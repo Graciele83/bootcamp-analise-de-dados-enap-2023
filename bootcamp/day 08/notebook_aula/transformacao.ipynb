{
 "cells": [
  {
   "cell_type": "code",
   "execution_count": null,
   "id": "c769e00a-2f06-4957-8247-97e46386efff",
   "metadata": {},
   "outputs": [],
   "source": [
    "!pip install openpyxl --quiet"
   ]
  },
  {
   "cell_type": "code",
   "execution_count": null,
   "id": "5d58d42a-c957-496c-8635-711eea250368",
   "metadata": {},
   "outputs": [],
   "source": []
  },
  {
   "cell_type": "code",
   "execution_count": null,
   "id": "f4c667cd-16a6-4cf2-97bc-09ba94ee71f6",
   "metadata": {},
   "outputs": [],
   "source": []
  },
  {
   "cell_type": "code",
   "execution_count": 10,
   "id": "da454b20-126d-4f8b-b912-d868376142c1",
   "metadata": {},
   "outputs": [],
   "source": [
    "import numpy as np"
   ]
  },
  {
   "cell_type": "code",
   "execution_count": 40,
   "id": "24e903ab-3edc-415e-84b0-40099ee5b846",
   "metadata": {},
   "outputs": [
    {
     "data": {
      "text/plain": [
       "0        um\n",
       "1      dois\n",
       "2      tres\n",
       "3        um\n",
       "4      dois\n",
       "       ... \n",
       "595    dois\n",
       "596    tres\n",
       "597      um\n",
       "598    dois\n",
       "599    dois\n",
       "Length: 600, dtype: object"
      ]
     },
     "execution_count": 40,
     "metadata": {},
     "output_type": "execute_result"
    }
   ],
   "source": [
    "a = pd.Series(['um', 'dois', 'tres', 'um', 'dois', 'dois']*100)\n",
    "a"
   ]
  },
  {
   "cell_type": "code",
   "execution_count": 18,
   "id": "7eb0ebe0-981b-4ee0-aaf0-382057a82e39",
   "metadata": {},
   "outputs": [
    {
     "data": {
      "text/plain": [
       "0      1\n",
       "1      2\n",
       "2      3\n",
       "3      1\n",
       "4      2\n",
       "      ..\n",
       "595    2\n",
       "596    3\n",
       "597    1\n",
       "598    2\n",
       "599    2\n",
       "Length: 600, dtype: int64"
      ]
     },
     "execution_count": 18,
     "metadata": {},
     "output_type": "execute_result"
    }
   ],
   "source": [
    "a.map({'um': 1, 'dois': 2, 'tres': 3})"
   ]
  },
  {
   "cell_type": "code",
   "execution_count": 34,
   "id": "eabc31a3-da94-446b-9481-e14b9b9dce8d",
   "metadata": {},
   "outputs": [],
   "source": [
    "mapeamento_dict = {'um': 1, 'dois': 2, 'tres': 3}"
   ]
  },
  {
   "cell_type": "code",
   "execution_count": 38,
   "id": "6cd9e5eb-278c-4c74-84d6-34932542b6e4",
   "metadata": {},
   "outputs": [],
   "source": [
    "a = a.replace(mapeamento_dict)"
   ]
  },
  {
   "cell_type": "code",
   "execution_count": 41,
   "id": "fcdc8c97-7b2c-4d0b-b71b-fdeb017455b9",
   "metadata": {},
   "outputs": [
    {
     "data": {
      "text/plain": [
       "0        um\n",
       "1      dois\n",
       "2      tres\n",
       "3        um\n",
       "4      dois\n",
       "       ... \n",
       "595    dois\n",
       "596    tres\n",
       "597      um\n",
       "598    dois\n",
       "599    dois\n",
       "Length: 600, dtype: object"
      ]
     },
     "execution_count": 41,
     "metadata": {},
     "output_type": "execute_result"
    }
   ],
   "source": [
    "a"
   ]
  },
  {
   "cell_type": "code",
   "execution_count": null,
   "id": "cccde118-2674-437a-9fec-81d4e1c5f08d",
   "metadata": {},
   "outputs": [],
   "source": []
  },
  {
   "cell_type": "code",
   "execution_count": 42,
   "id": "312ce945-683e-4ef5-a8c3-2e393f484c13",
   "metadata": {},
   "outputs": [
    {
     "data": {
      "text/plain": [
       "0      1\n",
       "1      2\n",
       "2      3\n",
       "3      1\n",
       "4      2\n",
       "      ..\n",
       "595    2\n",
       "596    3\n",
       "597    1\n",
       "598    2\n",
       "599    2\n",
       "Length: 600, dtype: int64"
      ]
     },
     "execution_count": 42,
     "metadata": {},
     "output_type": "execute_result"
    }
   ],
   "source": [
    "a.replace(['um', 'dois', 'tres'], [1, 2, 3])"
   ]
  },
  {
   "cell_type": "code",
   "execution_count": null,
   "id": "3a59617d-34a6-405a-b2c0-6789e261f82e",
   "metadata": {},
   "outputs": [],
   "source": []
  },
  {
   "cell_type": "code",
   "execution_count": null,
   "id": "d1d33292-0c24-436a-b3ae-a10f7e08e9af",
   "metadata": {},
   "outputs": [],
   "source": []
  },
  {
   "cell_type": "code",
   "execution_count": null,
   "id": "9c3130d7-982e-47e0-b4bc-f43db99b2c0f",
   "metadata": {},
   "outputs": [],
   "source": []
  },
  {
   "cell_type": "code",
   "execution_count": null,
   "id": "03662320-6ee3-4201-989f-2789f87e13d8",
   "metadata": {},
   "outputs": [],
   "source": []
  },
  {
   "cell_type": "code",
   "execution_count": null,
   "id": "8cd6d381-a271-4ef7-b6c0-d7af4c0d0275",
   "metadata": {},
   "outputs": [],
   "source": []
  },
  {
   "cell_type": "code",
   "execution_count": 21,
   "id": "f745d2c3-18f1-4d53-8262-08b0729f9e40",
   "metadata": {},
   "outputs": [],
   "source": [
    "mapeamento = lambda x: 1 if x == 'um' else (2 if x == 'dois' else 3)"
   ]
  },
  {
   "cell_type": "code",
   "execution_count": 26,
   "id": "5bb0bf8d-1365-4c20-b2d9-ad3a28c4649f",
   "metadata": {},
   "outputs": [
    {
     "data": {
      "text/plain": [
       "0      1\n",
       "1      2\n",
       "2      3\n",
       "3      1\n",
       "4      2\n",
       "      ..\n",
       "595    2\n",
       "596    3\n",
       "597    1\n",
       "598    2\n",
       "599    2\n",
       "Length: 600, dtype: int64"
      ]
     },
     "execution_count": 26,
     "metadata": {},
     "output_type": "execute_result"
    }
   ],
   "source": [
    "a.map(mapeamento)"
   ]
  },
  {
   "cell_type": "code",
   "execution_count": 27,
   "id": "33e1a176-fe2c-4614-a15f-7b1e05e28908",
   "metadata": {},
   "outputs": [
    {
     "data": {
      "text/plain": [
       "0        homem\n",
       "1       mulher\n",
       "2        homem\n",
       "3       mulher\n",
       "4        homem\n",
       "         ...  \n",
       "3995    mulher\n",
       "3996     homem\n",
       "3997    mulher\n",
       "3998     homem\n",
       "3999    mulher\n",
       "Length: 4000, dtype: object"
      ]
     },
     "execution_count": 27,
     "metadata": {},
     "output_type": "execute_result"
    }
   ],
   "source": [
    "b = pd.Series(['homem', 'mulher']*2000)\n",
    "b"
   ]
  },
  {
   "cell_type": "code",
   "execution_count": 28,
   "id": "fafd678d-3350-4d5e-a323-a3bd0c4615e3",
   "metadata": {},
   "outputs": [
    {
     "data": {
      "text/plain": [
       "0       0\n",
       "1       1\n",
       "2       0\n",
       "3       1\n",
       "4       0\n",
       "       ..\n",
       "3995    1\n",
       "3996    0\n",
       "3997    1\n",
       "3998    0\n",
       "3999    1\n",
       "Length: 4000, dtype: int64"
      ]
     },
     "execution_count": 28,
     "metadata": {},
     "output_type": "execute_result"
    }
   ],
   "source": [
    "b.map(lambda x: 0 if x == 'homem' else 1)"
   ]
  },
  {
   "cell_type": "code",
   "execution_count": 30,
   "id": "ef097d62-430b-4d4a-9ac9-3ad239b11c64",
   "metadata": {},
   "outputs": [
    {
     "data": {
      "text/plain": [
       "'Homem'"
      ]
     },
     "execution_count": 30,
     "metadata": {},
     "output_type": "execute_result"
    }
   ],
   "source": [
    "str.capitalize('homem')"
   ]
  },
  {
   "cell_type": "code",
   "execution_count": 31,
   "id": "30ff053a-ba5d-4d41-9709-1b70166ca73e",
   "metadata": {},
   "outputs": [
    {
     "data": {
      "text/plain": [
       "0        Homem\n",
       "1       Mulher\n",
       "2        Homem\n",
       "3       Mulher\n",
       "4        Homem\n",
       "         ...  \n",
       "3995    Mulher\n",
       "3996     Homem\n",
       "3997    Mulher\n",
       "3998     Homem\n",
       "3999    Mulher\n",
       "Length: 4000, dtype: object"
      ]
     },
     "execution_count": 31,
     "metadata": {},
     "output_type": "execute_result"
    }
   ],
   "source": [
    "b.map(str.capitalize)"
   ]
  },
  {
   "cell_type": "code",
   "execution_count": null,
   "id": "e95d02b4-a763-4a92-9f7f-45b1bb55b5f4",
   "metadata": {},
   "outputs": [],
   "source": []
  },
  {
   "cell_type": "code",
   "execution_count": null,
   "id": "90916763-a924-421d-b919-7037e2447f2d",
   "metadata": {},
   "outputs": [],
   "source": []
  },
  {
   "cell_type": "code",
   "execution_count": null,
   "id": "4aaed1de-47df-4cbe-8fc8-bd1b872a42fd",
   "metadata": {},
   "outputs": [],
   "source": []
  },
  {
   "cell_type": "code",
   "execution_count": null,
   "id": "258e11b2-8b54-4846-bf9a-6d517ece077d",
   "metadata": {},
   "outputs": [],
   "source": []
  },
  {
   "cell_type": "code",
   "execution_count": 43,
   "id": "ac2eaad7-16b0-42f0-9d1e-6649e920af60",
   "metadata": {},
   "outputs": [
    {
     "data": {
      "text/html": [
       "<div>\n",
       "<style scoped>\n",
       "    .dataframe tbody tr th:only-of-type {\n",
       "        vertical-align: middle;\n",
       "    }\n",
       "\n",
       "    .dataframe tbody tr th {\n",
       "        vertical-align: top;\n",
       "    }\n",
       "\n",
       "    .dataframe thead th {\n",
       "        text-align: right;\n",
       "    }\n",
       "</style>\n",
       "<table border=\"1\" class=\"dataframe\">\n",
       "  <thead>\n",
       "    <tr style=\"text-align: right;\">\n",
       "      <th></th>\n",
       "      <th>idade</th>\n",
       "    </tr>\n",
       "  </thead>\n",
       "  <tbody>\n",
       "    <tr>\n",
       "      <th>0</th>\n",
       "      <td>20</td>\n",
       "    </tr>\n",
       "    <tr>\n",
       "      <th>1</th>\n",
       "      <td>22</td>\n",
       "    </tr>\n",
       "    <tr>\n",
       "      <th>2</th>\n",
       "      <td>25</td>\n",
       "    </tr>\n",
       "    <tr>\n",
       "      <th>3</th>\n",
       "      <td>27</td>\n",
       "    </tr>\n",
       "    <tr>\n",
       "      <th>4</th>\n",
       "      <td>1</td>\n",
       "    </tr>\n",
       "    <tr>\n",
       "      <th>5</th>\n",
       "      <td>23</td>\n",
       "    </tr>\n",
       "    <tr>\n",
       "      <th>6</th>\n",
       "      <td>37</td>\n",
       "    </tr>\n",
       "    <tr>\n",
       "      <th>7</th>\n",
       "      <td>31</td>\n",
       "    </tr>\n",
       "    <tr>\n",
       "      <th>8</th>\n",
       "      <td>61</td>\n",
       "    </tr>\n",
       "    <tr>\n",
       "      <th>9</th>\n",
       "      <td>45</td>\n",
       "    </tr>\n",
       "    <tr>\n",
       "      <th>10</th>\n",
       "      <td>41</td>\n",
       "    </tr>\n",
       "    <tr>\n",
       "      <th>11</th>\n",
       "      <td>32</td>\n",
       "    </tr>\n",
       "  </tbody>\n",
       "</table>\n",
       "</div>"
      ],
      "text/plain": [
       "    idade\n",
       "0      20\n",
       "1      22\n",
       "2      25\n",
       "3      27\n",
       "4       1\n",
       "5      23\n",
       "6      37\n",
       "7      31\n",
       "8      61\n",
       "9      45\n",
       "10     41\n",
       "11     32"
      ]
     },
     "execution_count": 43,
     "metadata": {},
     "output_type": "execute_result"
    }
   ],
   "source": [
    "idades = pd.DataFrame({'idade': [20, 22, 25, 27, 1, 23,\n",
    "                                 37, 31, 61, 45, 41, 32]})\n",
    "idades"
   ]
  },
  {
   "cell_type": "code",
   "execution_count": 46,
   "id": "e1b8fb29-30a4-474e-b726-2c68bac77c54",
   "metadata": {},
   "outputs": [
    {
     "data": {
      "text/html": [
       "<div>\n",
       "<style scoped>\n",
       "    .dataframe tbody tr th:only-of-type {\n",
       "        vertical-align: middle;\n",
       "    }\n",
       "\n",
       "    .dataframe tbody tr th {\n",
       "        vertical-align: top;\n",
       "    }\n",
       "\n",
       "    .dataframe thead th {\n",
       "        text-align: right;\n",
       "    }\n",
       "</style>\n",
       "<table border=\"1\" class=\"dataframe\">\n",
       "  <thead>\n",
       "    <tr style=\"text-align: right;\">\n",
       "      <th></th>\n",
       "      <th>idade</th>\n",
       "      <th>faixa_etaria</th>\n",
       "    </tr>\n",
       "  </thead>\n",
       "  <tbody>\n",
       "    <tr>\n",
       "      <th>0</th>\n",
       "      <td>(19.0, 25.0]</td>\n",
       "      <td>(19.0, 25.0]</td>\n",
       "    </tr>\n",
       "    <tr>\n",
       "      <th>1</th>\n",
       "      <td>(19.0, 25.0]</td>\n",
       "      <td>(19.0, 25.0]</td>\n",
       "    </tr>\n",
       "    <tr>\n",
       "      <th>2</th>\n",
       "      <td>(19.0, 25.0]</td>\n",
       "      <td>(19.0, 25.0]</td>\n",
       "    </tr>\n",
       "    <tr>\n",
       "      <th>3</th>\n",
       "      <td>(25.0, 31.0]</td>\n",
       "      <td>(25.0, 31.0]</td>\n",
       "    </tr>\n",
       "    <tr>\n",
       "      <th>4</th>\n",
       "      <td>(0.94, 7.0]</td>\n",
       "      <td>(0.94, 7.0]</td>\n",
       "    </tr>\n",
       "    <tr>\n",
       "      <th>5</th>\n",
       "      <td>(19.0, 25.0]</td>\n",
       "      <td>(19.0, 25.0]</td>\n",
       "    </tr>\n",
       "    <tr>\n",
       "      <th>6</th>\n",
       "      <td>(31.0, 37.0]</td>\n",
       "      <td>(31.0, 37.0]</td>\n",
       "    </tr>\n",
       "    <tr>\n",
       "      <th>7</th>\n",
       "      <td>(25.0, 31.0]</td>\n",
       "      <td>(25.0, 31.0]</td>\n",
       "    </tr>\n",
       "    <tr>\n",
       "      <th>8</th>\n",
       "      <td>(55.0, 61.0]</td>\n",
       "      <td>(55.0, 61.0]</td>\n",
       "    </tr>\n",
       "    <tr>\n",
       "      <th>9</th>\n",
       "      <td>(43.0, 49.0]</td>\n",
       "      <td>(43.0, 49.0]</td>\n",
       "    </tr>\n",
       "    <tr>\n",
       "      <th>10</th>\n",
       "      <td>(37.0, 43.0]</td>\n",
       "      <td>(37.0, 43.0]</td>\n",
       "    </tr>\n",
       "    <tr>\n",
       "      <th>11</th>\n",
       "      <td>(31.0, 37.0]</td>\n",
       "      <td>(31.0, 37.0]</td>\n",
       "    </tr>\n",
       "  </tbody>\n",
       "</table>\n",
       "</div>"
      ],
      "text/plain": [
       "           idade  faixa_etaria\n",
       "0   (19.0, 25.0]  (19.0, 25.0]\n",
       "1   (19.0, 25.0]  (19.0, 25.0]\n",
       "2   (19.0, 25.0]  (19.0, 25.0]\n",
       "3   (25.0, 31.0]  (25.0, 31.0]\n",
       "4    (0.94, 7.0]   (0.94, 7.0]\n",
       "5   (19.0, 25.0]  (19.0, 25.0]\n",
       "6   (31.0, 37.0]  (31.0, 37.0]\n",
       "7   (25.0, 31.0]  (25.0, 31.0]\n",
       "8   (55.0, 61.0]  (55.0, 61.0]\n",
       "9   (43.0, 49.0]  (43.0, 49.0]\n",
       "10  (37.0, 43.0]  (37.0, 43.0]\n",
       "11  (31.0, 37.0]  (31.0, 37.0]"
      ]
     },
     "execution_count": 46,
     "metadata": {},
     "output_type": "execute_result"
    }
   ],
   "source": [
    "idades['idade'] = pd.cut(idades['idade'], bins=10)\n",
    "idades"
   ]
  },
  {
   "cell_type": "code",
   "execution_count": null,
   "id": "f3b213ef-29e8-4f43-88ee-d18796086bec",
   "metadata": {},
   "outputs": [],
   "source": []
  },
  {
   "cell_type": "code",
   "execution_count": null,
   "id": "1314d391-5446-4ad0-80d8-d413714d7f4c",
   "metadata": {},
   "outputs": [],
   "source": []
  }
 ],
 "metadata": {
  "kernelspec": {
   "display_name": "Python 3 (ipykernel)",
   "language": "python",
   "name": "python3"
  },
  "language_info": {
   "codemirror_mode": {
    "name": "ipython",
    "version": 3
   },
   "file_extension": ".py",
   "mimetype": "text/x-python",
   "name": "python",
   "nbconvert_exporter": "python",
   "pygments_lexer": "ipython3",
   "version": "3.11.2"
  }
 },
 "nbformat": 4,
 "nbformat_minor": 5
}
