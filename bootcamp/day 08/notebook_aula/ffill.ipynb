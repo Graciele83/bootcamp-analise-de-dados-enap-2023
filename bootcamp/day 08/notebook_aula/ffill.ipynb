{
 "cells": [
  {
   "cell_type": "code",
   "execution_count": null,
   "id": "407e3a01-cc7a-4108-9cd7-260dce07b9e0",
   "metadata": {},
   "outputs": [],
   "source": [
    "#talvez você precise instalar uma biblioteca para ler arquivo excel\n",
    "#!pip install openpyxl --quiet"
   ]
  },
  {
   "cell_type": "code",
   "execution_count": null,
   "id": "1d89034a-d026-4b84-ba78-529d77d5e0e7",
   "metadata": {},
   "outputs": [],
   "source": [
    "import pandas as pd"
   ]
  },
  {
   "cell_type": "code",
   "execution_count": null,
   "id": "a69bff0e-2217-4b39-a14f-546dae22c9df",
   "metadata": {},
   "outputs": [],
   "source": [
    "#vamos abrir a tabela de população estimada obtida a partir do SIDRA do IBGE\n",
    "tabela6579 = pd.read_excel('tabela6579.xlsx', header=None)\n",
    "tabela6579"
   ]
  },
  {
   "cell_type": "code",
   "execution_count": null,
   "id": "94e4906b-29d1-43b0-91c8-d09584747e46",
   "metadata": {},
   "outputs": [],
   "source": [
    "#vamos utilizar o ffill para jogar todos os cabeçalhos em uma única linha\n",
    "tabela6579.ffill(inplace=True, limit=3)\n",
    "tabela6579"
   ]
  },
  {
   "cell_type": "code",
   "execution_count": null,
   "id": "3c6d3352-7ccc-4dc6-ae96-d4b0c7cef9a9",
   "metadata": {},
   "outputs": [],
   "source": [
    "#vamos eliminar as linhas que não tem conteúdo\n",
    "tabela6579 = tabela6579.dropna()\n",
    "tabela6579"
   ]
  },
  {
   "cell_type": "code",
   "execution_count": null,
   "id": "27479336-7d74-4829-988f-956c3655aee7",
   "metadata": {},
   "outputs": [],
   "source": [
    "#passamos a primeira linha para a coluna\n",
    "tabela6579.columns = tabela6579.iloc[0]\n",
    "#removemos a primeira linha e a última linha\n",
    "#para excluir a linha que virou cabeçalho; e\n",
    "#para excluir a linha que informa a fonte dos dados\n",
    "tabela6579 = tabela6579.iloc[1:-1]\n",
    "tabela6579"
   ]
  }
 ],
 "metadata": {
  "kernelspec": {
   "display_name": "Python 3 (ipykernel)",
   "language": "python",
   "name": "python3"
  },
  "language_info": {
   "codemirror_mode": {
    "name": "ipython",
    "version": 3
   },
   "file_extension": ".py",
   "mimetype": "text/x-python",
   "name": "python",
   "nbconvert_exporter": "python",
   "pygments_lexer": "ipython3",
   "version": "3.11.2"
  }
 },
 "nbformat": 4,
 "nbformat_minor": 5
}
