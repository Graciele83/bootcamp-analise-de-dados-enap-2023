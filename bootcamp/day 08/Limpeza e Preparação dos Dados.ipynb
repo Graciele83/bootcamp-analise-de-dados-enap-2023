{
 "cells": [
  {
   "cell_type": "markdown",
   "id": "f7919fdf-cb73-465a-9e1e-86f077d5eadd",
   "metadata": {
    "slideshow": {
     "slide_type": "slide"
    }
   },
   "source": [
    "# Limpeza e Preparação dos Dados 🏗️ 🎲"
   ]
  },
  {
   "cell_type": "markdown",
   "id": "fd3f1a8c-1581-4a7d-b7b6-eec55ac0ef7a",
   "metadata": {
    "slideshow": {
     "slide_type": "-"
    },
    "tags": []
   },
   "source": [
    "## Sumário da Aula"
   ]
  },
  {
   "cell_type": "markdown",
   "id": "4428a78d-47d5-454e-93ef-6ff4c2498d1c",
   "metadata": {
    "slideshow": {
     "slide_type": "-"
    }
   },
   "source": [
    "<ul>\n",
    "    <ul>\n",
    "    <li>Reorganização 🗂️</li>\n",
    "    <li>Limpeza 🧹</li>\n",
    "    <li>Transformação 🛠️</li>\n",
    "</ul>"
   ]
  },
  {
   "cell_type": "markdown",
   "id": "85af09a7-b173-4b38-849a-5e3829d88502",
   "metadata": {
    "slideshow": {
     "slide_type": "slide"
    }
   },
   "source": [
    "## Aspectos de Reorganização, Limpeza e Transformação dos Dados"
   ]
  },
  {
   "cell_type": "markdown",
   "id": "3104b822-f0bb-4f9f-89ae-49faaee0f3d5",
   "metadata": {
    "slideshow": {
     "slide_type": "-"
    }
   },
   "source": [
    "<ul>\n",
    "    <li>80% do tempo do analista de dados é investido em carga; reorganização; limpeza; e transformação.\n",
    "    <li>A maneira em que os dados estão armazenados em arquivos ou bancos de dados podem não corresponder ao formato apropriado para determinada tarefa;</li>\n",
    "    <li>É comum o uso de linguagens de programação para transformar os dados de um formato para outro.</li>\n",
    "        </ul>\n",
    "    </li>\n",
    "</ul>"
   ]
  },
  {
   "cell_type": "markdown",
   "id": "3dbad523-7894-420c-9a85-01d119433cb5",
   "metadata": {
    "slideshow": {
     "slide_type": "-"
    },
    "tags": []
   },
   "source": [
    "### Biblioteca Principal 📚: pandas"
   ]
  },
  {
   "cell_type": "markdown",
   "id": "13810009-1528-4ae8-88c3-3445ea97e3c6",
   "metadata": {
    "slideshow": {
     "slide_type": "-"
    }
   },
   "source": [
    "<img src=\"https://pandas.pydata.org/docs/_static/pandas.svg\" width=\"100\" style=\"float: right;\">"
   ]
  },
  {
   "cell_type": "code",
   "execution_count": 1,
   "id": "7526724a-1815-4e72-87d9-dc5b9728508c",
   "metadata": {
    "slideshow": {
     "slide_type": "-"
    }
   },
   "outputs": [],
   "source": [
    "import pandas as pd"
   ]
  },
  {
   "cell_type": "markdown",
   "id": "8ebdf57d-5959-46e3-b70c-84e7842c7618",
   "metadata": {
    "slideshow": {
     "slide_type": "subslide"
    }
   },
   "source": [
    "### Reorganização 🗂️ dos Dados 🎲"
   ]
  },
  {
   "cell_type": "markdown",
   "id": "6da2db7d-7dfa-45b2-b9b5-493bd5f6a780",
   "metadata": {
    "slideshow": {
     "slide_type": "-"
    },
    "tags": []
   },
   "source": [
    "#### Filtro 🍝 em Series 🎞️"
   ]
  },
  {
   "cell_type": "markdown",
   "id": "d6f61fc9-9bb3-4862-92af-6d9446146a4b",
   "metadata": {
    "slideshow": {
     "slide_type": "-"
    }
   },
   "source": [
    "<pre>Você pode <b>filtrar</b> os elementos de uma Serie de várias formas"
   ]
  },
  {
   "cell_type": "code",
   "execution_count": 2,
   "id": "473c4181-0c7f-44f4-984a-552d118b304f",
   "metadata": {
    "slideshow": {
     "slide_type": "-"
    }
   },
   "outputs": [
    {
     "data": {
      "text/plain": [
       "Brasil        6797\n",
       "EUA          63123\n",
       "Argentina     8476\n",
       "Canada       43258\n",
       "dtype: int64"
      ]
     },
     "execution_count": 2,
     "metadata": {},
     "output_type": "execute_result"
    }
   ],
   "source": [
    "pibpc = pd.Series(data=[6797, 63123, 8476, 43258], \n",
    "                  index=['Brasil', 'EUA', 'Argentina', 'Canada'])\n",
    "pibpc"
   ]
  },
  {
   "cell_type": "code",
   "execution_count": 3,
   "id": "e43739ce-f77c-4f47-a363-7289b7ca7823",
   "metadata": {
    "slideshow": {
     "slide_type": "-"
    }
   },
   "outputs": [
    {
     "data": {
      "text/plain": [
       "63123"
      ]
     },
     "execution_count": 3,
     "metadata": {},
     "output_type": "execute_result"
    }
   ],
   "source": [
    "pibpc['EUA']"
   ]
  },
  {
   "cell_type": "code",
   "execution_count": 4,
   "id": "4f7a1ebb-0e50-4e04-9c3f-49976b48c5d4",
   "metadata": {
    "slideshow": {
     "slide_type": "-"
    }
   },
   "outputs": [
    {
     "name": "stderr",
     "output_type": "stream",
     "text": [
      "/var/folders/3k/5x2j3hkx6x3f717k3344mgpm0000gn/T/ipykernel_10148/2533242086.py:1: FutureWarning: Series.__getitem__ treating keys as positions is deprecated. In a future version, integer keys will always be treated as labels (consistent with DataFrame behavior). To access a value by position, use `ser.iloc[pos]`\n",
      "  pibpc[1]\n"
     ]
    },
    {
     "data": {
      "text/plain": [
       "63123"
      ]
     },
     "execution_count": 4,
     "metadata": {},
     "output_type": "execute_result"
    }
   ],
   "source": [
    "pibpc[1]"
   ]
  },
  {
   "cell_type": "code",
   "execution_count": 5,
   "id": "42659c45-1697-4d4f-90ca-10406b5062e5",
   "metadata": {
    "slideshow": {
     "slide_type": "subslide"
    }
   },
   "outputs": [
    {
     "data": {
      "text/plain": [
       "Argentina     8476\n",
       "Canada       43258\n",
       "dtype: int64"
      ]
     },
     "execution_count": 5,
     "metadata": {},
     "output_type": "execute_result"
    }
   ],
   "source": [
    "pibpc[2:4]"
   ]
  },
  {
   "cell_type": "code",
   "execution_count": 6,
   "id": "b7dfff9e-c359-480c-8259-2859db44a823",
   "metadata": {
    "slideshow": {
     "slide_type": "-"
    }
   },
   "outputs": [
    {
     "data": {
      "text/plain": [
       "EUA       63123\n",
       "Brasil     6797\n",
       "Canada    43258\n",
       "dtype: int64"
      ]
     },
     "execution_count": 6,
     "metadata": {},
     "output_type": "execute_result"
    }
   ],
   "source": [
    "pibpc[['EUA', 'Brasil', 'Canada']]"
   ]
  },
  {
   "cell_type": "code",
   "execution_count": 7,
   "id": "aaccfb46-6f39-4b79-86a5-8b6f15675470",
   "metadata": {
    "slideshow": {
     "slide_type": "-"
    }
   },
   "outputs": [
    {
     "name": "stderr",
     "output_type": "stream",
     "text": [
      "/var/folders/3k/5x2j3hkx6x3f717k3344mgpm0000gn/T/ipykernel_10148/3175604461.py:1: FutureWarning: Series.__getitem__ treating keys as positions is deprecated. In a future version, integer keys will always be treated as labels (consistent with DataFrame behavior). To access a value by position, use `ser.iloc[pos]`\n",
      "  pibpc[[1, 3]]\n"
     ]
    },
    {
     "data": {
      "text/plain": [
       "EUA       63123\n",
       "Canada    43258\n",
       "dtype: int64"
      ]
     },
     "execution_count": 7,
     "metadata": {},
     "output_type": "execute_result"
    }
   ],
   "source": [
    "pibpc[[1, 3]]"
   ]
  },
  {
   "cell_type": "code",
   "execution_count": 8,
   "id": "712d7387-66e1-432a-aa2c-c9aa94ac6730",
   "metadata": {
    "slideshow": {
     "slide_type": "-"
    }
   },
   "outputs": [
    {
     "data": {
      "text/plain": [
       "Brasil       6797\n",
       "Argentina    8476\n",
       "dtype: int64"
      ]
     },
     "execution_count": 8,
     "metadata": {},
     "output_type": "execute_result"
    }
   ],
   "source": [
    "pibpc[pibpc < 10_000]"
   ]
  },
  {
   "cell_type": "markdown",
   "id": "34014928-d0a4-400d-9745-e71c18564c1c",
   "metadata": {
    "slideshow": {
     "slide_type": "subslide"
    }
   },
   "source": [
    "👉 dica: dependendo do tipo de dados do índice da Series, utilizar inteiro entre colchetes <b>[ ]</b> pode ser confuso. <br />O inteiro se refere ao valor do índice ou à posição da sequência no índice? Na dúvida, tenha preferência por usar as funções:\n",
    "    <ul>\n",
    "        <li><b>loc</b>: usa o valor do índice como elemento de filtro; e</li>\n",
    "        <li><b>iloc</b>: usa a posição da sequência no índice como elemento de filtro.</li>\n",
    "    </ul>"
   ]
  },
  {
   "cell_type": "code",
   "execution_count": 9,
   "id": "ca8be949-e731-4a21-a0cf-47414cb657b5",
   "metadata": {
    "slideshow": {
     "slide_type": "-"
    }
   },
   "outputs": [
    {
     "data": {
      "text/plain": [
       "Brasil     6797\n",
       "EUA       63123\n",
       "dtype: int64"
      ]
     },
     "execution_count": 9,
     "metadata": {},
     "output_type": "execute_result"
    }
   ],
   "source": [
    "pibpc.loc[['Brasil', 'EUA']]"
   ]
  },
  {
   "cell_type": "code",
   "execution_count": 10,
   "id": "5661ea59-46b2-43bc-b6cf-197f988991b7",
   "metadata": {
    "slideshow": {
     "slide_type": "-"
    }
   },
   "outputs": [
    {
     "data": {
      "text/plain": [
       "Brasil     6797\n",
       "EUA       63123\n",
       "dtype: int64"
      ]
     },
     "execution_count": 10,
     "metadata": {},
     "output_type": "execute_result"
    }
   ],
   "source": [
    "pibpc.iloc[[0, 1]]"
   ]
  },
  {
   "cell_type": "markdown",
   "id": "4017782f-a641-4987-a367-fafb495fcf67",
   "metadata": {
    "slideshow": {
     "slide_type": "subslide"
    },
    "tags": []
   },
   "source": [
    "#### Seleção 🍕 e Filtro 🍝 em DataFrame 📽️"
   ]
  },
  {
   "cell_type": "code",
   "execution_count": 11,
   "id": "83ae6f18-cd99-4ae1-8742-ac588ba18196",
   "metadata": {},
   "outputs": [],
   "source": [
    "# Vamos analisar alguns dados de orgãos superiores do governo (em 2022)\n",
    "# https://portaldatransparencia.gov.br/orgaos-superiores?ano=2022\n",
    "\n",
    "ministerios = ['Educacao', 'Saude', 'Fazenda', 'Agricultura']\n",
    "servidores = [374_209, 44_762, 50_820, 15_275]\n",
    "folha_pagamento = [29_905, 4_015, 3_002, 2_741] # em R$ 1.000.000\n",
    "valor_arrecadado = [34_622, 2_430, 3_434_537, 6_128] # em R$ 1.000.000\n",
    "despesa = [139_593, 143_251, 2_308_118, 13_663] # em R$ 1.000.000"
   ]
  },
  {
   "cell_type": "code",
   "execution_count": 12,
   "id": "70fee8bb-dc28-4c82-9013-986727983cf5",
   "metadata": {},
   "outputs": [
    {
     "data": {
      "text/html": [
       "<div>\n",
       "<style scoped>\n",
       "    .dataframe tbody tr th:only-of-type {\n",
       "        vertical-align: middle;\n",
       "    }\n",
       "\n",
       "    .dataframe tbody tr th {\n",
       "        vertical-align: top;\n",
       "    }\n",
       "\n",
       "    .dataframe thead th {\n",
       "        text-align: right;\n",
       "    }\n",
       "</style>\n",
       "<table border=\"1\" class=\"dataframe\">\n",
       "  <thead>\n",
       "    <tr style=\"text-align: right;\">\n",
       "      <th></th>\n",
       "      <th>Servidores</th>\n",
       "      <th>Folha de Pagamento</th>\n",
       "      <th>Valor Arrecadado</th>\n",
       "      <th>Despesa</th>\n",
       "    </tr>\n",
       "  </thead>\n",
       "  <tbody>\n",
       "    <tr>\n",
       "      <th>Educacao</th>\n",
       "      <td>374209</td>\n",
       "      <td>29905</td>\n",
       "      <td>34622</td>\n",
       "      <td>139593</td>\n",
       "    </tr>\n",
       "    <tr>\n",
       "      <th>Saude</th>\n",
       "      <td>44762</td>\n",
       "      <td>4015</td>\n",
       "      <td>2430</td>\n",
       "      <td>143251</td>\n",
       "    </tr>\n",
       "    <tr>\n",
       "      <th>Fazenda</th>\n",
       "      <td>50820</td>\n",
       "      <td>3002</td>\n",
       "      <td>3434537</td>\n",
       "      <td>2308118</td>\n",
       "    </tr>\n",
       "    <tr>\n",
       "      <th>Agricultura</th>\n",
       "      <td>15275</td>\n",
       "      <td>2741</td>\n",
       "      <td>6128</td>\n",
       "      <td>13663</td>\n",
       "    </tr>\n",
       "  </tbody>\n",
       "</table>\n",
       "</div>"
      ],
      "text/plain": [
       "             Servidores  Folha de Pagamento  Valor Arrecadado  Despesa\n",
       "Educacao         374209               29905             34622   139593\n",
       "Saude             44762                4015              2430   143251\n",
       "Fazenda           50820                3002           3434537  2308118\n",
       "Agricultura       15275                2741              6128    13663"
      ]
     },
     "execution_count": 12,
     "metadata": {},
     "output_type": "execute_result"
    }
   ],
   "source": [
    "df = pd.DataFrame({\n",
    "    'Servidores': servidores,\n",
    "    'Folha de Pagamento': folha_pagamento,\n",
    "    'Valor Arrecadado': valor_arrecadado,\n",
    "    'Despesa': despesa\n",
    "}, index = ministerios)\n",
    "\n",
    "df"
   ]
  },
  {
   "cell_type": "markdown",
   "id": "813e7e4c-5878-49ce-9d69-7fb301961256",
   "metadata": {
    "slideshow": {
     "slide_type": "subslide"
    }
   },
   "source": [
    "<pre> Você pode <b>selecionar</b> uma coluna de um DataFrame pelo nome da coluna -- e retornar Serie</pre>"
   ]
  },
  {
   "cell_type": "code",
   "execution_count": 13,
   "id": "2f8eb9b2-63b2-406b-871f-a2fc067a0870",
   "metadata": {
    "slideshow": {
     "slide_type": "-"
    }
   },
   "outputs": [
    {
     "data": {
      "text/plain": [
       "Educacao       29905\n",
       "Saude           4015\n",
       "Fazenda         3002\n",
       "Agricultura     2741\n",
       "Name: Folha de Pagamento, dtype: int64"
      ]
     },
     "execution_count": 13,
     "metadata": {},
     "output_type": "execute_result"
    }
   ],
   "source": [
    "df['Folha de Pagamento']"
   ]
  },
  {
   "cell_type": "markdown",
   "id": "2ab2b223-9ac9-4f91-8092-317f3f783eee",
   "metadata": {
    "slideshow": {
     "slide_type": "-"
    }
   },
   "source": [
    "<pre>Você pode <b>selecionar</b> colunas de um DataFrame pela lista dos nomes das colunas -- e retornar DataFrame</pre>"
   ]
  },
  {
   "cell_type": "code",
   "execution_count": 14,
   "id": "260a3e60-e309-4e85-af30-9052228a9c77",
   "metadata": {
    "slideshow": {
     "slide_type": "-"
    }
   },
   "outputs": [
    {
     "data": {
      "text/html": [
       "<div>\n",
       "<style scoped>\n",
       "    .dataframe tbody tr th:only-of-type {\n",
       "        vertical-align: middle;\n",
       "    }\n",
       "\n",
       "    .dataframe tbody tr th {\n",
       "        vertical-align: top;\n",
       "    }\n",
       "\n",
       "    .dataframe thead th {\n",
       "        text-align: right;\n",
       "    }\n",
       "</style>\n",
       "<table border=\"1\" class=\"dataframe\">\n",
       "  <thead>\n",
       "    <tr style=\"text-align: right;\">\n",
       "      <th></th>\n",
       "      <th>Valor Arrecadado</th>\n",
       "      <th>Servidores</th>\n",
       "    </tr>\n",
       "  </thead>\n",
       "  <tbody>\n",
       "    <tr>\n",
       "      <th>Educacao</th>\n",
       "      <td>34622</td>\n",
       "      <td>374209</td>\n",
       "    </tr>\n",
       "    <tr>\n",
       "      <th>Saude</th>\n",
       "      <td>2430</td>\n",
       "      <td>44762</td>\n",
       "    </tr>\n",
       "    <tr>\n",
       "      <th>Fazenda</th>\n",
       "      <td>3434537</td>\n",
       "      <td>50820</td>\n",
       "    </tr>\n",
       "    <tr>\n",
       "      <th>Agricultura</th>\n",
       "      <td>6128</td>\n",
       "      <td>15275</td>\n",
       "    </tr>\n",
       "  </tbody>\n",
       "</table>\n",
       "</div>"
      ],
      "text/plain": [
       "             Valor Arrecadado  Servidores\n",
       "Educacao                34622      374209\n",
       "Saude                    2430       44762\n",
       "Fazenda               3434537       50820\n",
       "Agricultura              6128       15275"
      ]
     },
     "execution_count": 14,
     "metadata": {},
     "output_type": "execute_result"
    }
   ],
   "source": [
    "df[['Valor Arrecadado', 'Servidores']]"
   ]
  },
  {
   "cell_type": "markdown",
   "id": "8d8bcc7d-6cf9-4613-aafe-415b82ccc285",
   "metadata": {
    "slideshow": {
     "slide_type": "subslide"
    }
   },
   "source": [
    "<pre>Você pode <b>filtrar</b> linhas de um DataFrame com slicing -- e retornar DataFrame</pre>"
   ]
  },
  {
   "cell_type": "code",
   "execution_count": 15,
   "id": "7abadd4f-22f2-4f55-9b4c-a0fc09d6c728",
   "metadata": {
    "slideshow": {
     "slide_type": "-"
    }
   },
   "outputs": [
    {
     "data": {
      "text/html": [
       "<div>\n",
       "<style scoped>\n",
       "    .dataframe tbody tr th:only-of-type {\n",
       "        vertical-align: middle;\n",
       "    }\n",
       "\n",
       "    .dataframe tbody tr th {\n",
       "        vertical-align: top;\n",
       "    }\n",
       "\n",
       "    .dataframe thead th {\n",
       "        text-align: right;\n",
       "    }\n",
       "</style>\n",
       "<table border=\"1\" class=\"dataframe\">\n",
       "  <thead>\n",
       "    <tr style=\"text-align: right;\">\n",
       "      <th></th>\n",
       "      <th>Servidores</th>\n",
       "      <th>Folha de Pagamento</th>\n",
       "      <th>Valor Arrecadado</th>\n",
       "      <th>Despesa</th>\n",
       "    </tr>\n",
       "  </thead>\n",
       "  <tbody>\n",
       "    <tr>\n",
       "      <th>Educacao</th>\n",
       "      <td>374209</td>\n",
       "      <td>29905</td>\n",
       "      <td>34622</td>\n",
       "      <td>139593</td>\n",
       "    </tr>\n",
       "    <tr>\n",
       "      <th>Saude</th>\n",
       "      <td>44762</td>\n",
       "      <td>4015</td>\n",
       "      <td>2430</td>\n",
       "      <td>143251</td>\n",
       "    </tr>\n",
       "  </tbody>\n",
       "</table>\n",
       "</div>"
      ],
      "text/plain": [
       "          Servidores  Folha de Pagamento  Valor Arrecadado  Despesa\n",
       "Educacao      374209               29905             34622   139593\n",
       "Saude          44762                4015              2430   143251"
      ]
     },
     "execution_count": 15,
     "metadata": {},
     "output_type": "execute_result"
    }
   ],
   "source": [
    "df[:2]"
   ]
  },
  {
   "cell_type": "markdown",
   "id": "3d02cdbc-d887-4544-b9c4-4d00c055432a",
   "metadata": {
    "slideshow": {
     "slide_type": "subslide"
    }
   },
   "source": [
    "<pre>Você pode combinar <b>seleção</b> e <b>filtro</b> de um DataFrame com <i>boolean indexing</i> -- e retornar DataFrame</pre>"
   ]
  },
  {
   "cell_type": "code",
   "execution_count": 16,
   "id": "6c50becf-7839-4808-a01f-c1536c720505",
   "metadata": {
    "slideshow": {
     "slide_type": "-"
    }
   },
   "outputs": [
    {
     "data": {
      "text/html": [
       "<div>\n",
       "<style scoped>\n",
       "    .dataframe tbody tr th:only-of-type {\n",
       "        vertical-align: middle;\n",
       "    }\n",
       "\n",
       "    .dataframe tbody tr th {\n",
       "        vertical-align: top;\n",
       "    }\n",
       "\n",
       "    .dataframe thead th {\n",
       "        text-align: right;\n",
       "    }\n",
       "</style>\n",
       "<table border=\"1\" class=\"dataframe\">\n",
       "  <thead>\n",
       "    <tr style=\"text-align: right;\">\n",
       "      <th></th>\n",
       "      <th>Servidores</th>\n",
       "      <th>Folha de Pagamento</th>\n",
       "      <th>Valor Arrecadado</th>\n",
       "      <th>Despesa</th>\n",
       "    </tr>\n",
       "  </thead>\n",
       "  <tbody>\n",
       "    <tr>\n",
       "      <th>Educacao</th>\n",
       "      <td>374209</td>\n",
       "      <td>29905</td>\n",
       "      <td>34622</td>\n",
       "      <td>139593</td>\n",
       "    </tr>\n",
       "    <tr>\n",
       "      <th>Fazenda</th>\n",
       "      <td>50820</td>\n",
       "      <td>3002</td>\n",
       "      <td>3434537</td>\n",
       "      <td>2308118</td>\n",
       "    </tr>\n",
       "  </tbody>\n",
       "</table>\n",
       "</div>"
      ],
      "text/plain": [
       "          Servidores  Folha de Pagamento  Valor Arrecadado  Despesa\n",
       "Educacao      374209               29905             34622   139593\n",
       "Fazenda        50820                3002           3434537  2308118"
      ]
     },
     "execution_count": 16,
     "metadata": {},
     "output_type": "execute_result"
    }
   ],
   "source": [
    "df[df['Servidores'] > 50000]"
   ]
  },
  {
   "cell_type": "markdown",
   "id": "31ea5ded-bf43-4694-8a7b-b3a61cafc321",
   "metadata": {
    "slideshow": {
     "slide_type": "-"
    }
   },
   "source": [
    "<pre>🍒 🎂 Você pode inclusive atribuir um valor às células <b>filtradas</b> pela operação imediatamente acima</pre>"
   ]
  },
  {
   "cell_type": "code",
   "execution_count": 17,
   "id": "c386a51d-8a41-4a66-9a1d-fe7c6bd0ed86",
   "metadata": {
    "slideshow": {
     "slide_type": "-"
    }
   },
   "outputs": [
    {
     "data": {
      "text/html": [
       "<div>\n",
       "<style scoped>\n",
       "    .dataframe tbody tr th:only-of-type {\n",
       "        vertical-align: middle;\n",
       "    }\n",
       "\n",
       "    .dataframe tbody tr th {\n",
       "        vertical-align: top;\n",
       "    }\n",
       "\n",
       "    .dataframe thead th {\n",
       "        text-align: right;\n",
       "    }\n",
       "</style>\n",
       "<table border=\"1\" class=\"dataframe\">\n",
       "  <thead>\n",
       "    <tr style=\"text-align: right;\">\n",
       "      <th></th>\n",
       "      <th>Servidores</th>\n",
       "      <th>Folha de Pagamento</th>\n",
       "      <th>Valor Arrecadado</th>\n",
       "      <th>Despesa</th>\n",
       "    </tr>\n",
       "  </thead>\n",
       "  <tbody>\n",
       "    <tr>\n",
       "      <th>Educacao</th>\n",
       "      <td>0</td>\n",
       "      <td>0</td>\n",
       "      <td>0</td>\n",
       "      <td>0</td>\n",
       "    </tr>\n",
       "    <tr>\n",
       "      <th>Saude</th>\n",
       "      <td>44762</td>\n",
       "      <td>4015</td>\n",
       "      <td>2430</td>\n",
       "      <td>143251</td>\n",
       "    </tr>\n",
       "    <tr>\n",
       "      <th>Fazenda</th>\n",
       "      <td>0</td>\n",
       "      <td>0</td>\n",
       "      <td>0</td>\n",
       "      <td>0</td>\n",
       "    </tr>\n",
       "    <tr>\n",
       "      <th>Agricultura</th>\n",
       "      <td>15275</td>\n",
       "      <td>2741</td>\n",
       "      <td>6128</td>\n",
       "      <td>13663</td>\n",
       "    </tr>\n",
       "  </tbody>\n",
       "</table>\n",
       "</div>"
      ],
      "text/plain": [
       "             Servidores  Folha de Pagamento  Valor Arrecadado  Despesa\n",
       "Educacao              0                   0                 0        0\n",
       "Saude             44762                4015              2430   143251\n",
       "Fazenda               0                   0                 0        0\n",
       "Agricultura       15275                2741              6128    13663"
      ]
     },
     "execution_count": 17,
     "metadata": {},
     "output_type": "execute_result"
    }
   ],
   "source": [
    "df[df['Servidores'] > 50000] = 0\n",
    "df"
   ]
  },
  {
   "cell_type": "markdown",
   "id": "874d7bb6-cbf4-460e-83f3-aa4dea6be7da",
   "metadata": {
    "slideshow": {
     "slide_type": "subslide"
    }
   },
   "source": [
    "👉 dica: dependendo do tipo de dados do índice do DataFrame, utilizar inteiro entre colchetes <b>[ ]</b> pode ser confuso. <br />O inteiro se refere ao valor do índice ou à posição da sequência no índice? na dúvida, tenha preferência por usar as funções:\n",
    "    <ul>\n",
    "        <li><b>loc</b>: usa o valor do índice como elemento de filtro; e</li>\n",
    "        <li><b>iloc</b>: usa a posição da sequência no índice como elemento de filtro.</li>\n",
    "    </ul>"
   ]
  },
  {
   "cell_type": "markdown",
   "id": "641d3de6-5a1d-4d87-a4a6-558c11cd5351",
   "metadata": {
    "slideshow": {
     "slide_type": "-"
    }
   },
   "source": [
    "<pre>Com loc, você pode ... </pre>"
   ]
  },
  {
   "cell_type": "markdown",
   "id": "d00530af-cae2-4c13-9792-e3c8993bc839",
   "metadata": {
    "slideshow": {
     "slide_type": "-"
    }
   },
   "source": [
    "<pre>... <b>filtrar</b> uma linha de um DataFrame pelo nome da linha -- e retornar Serie...</pre>"
   ]
  },
  {
   "cell_type": "code",
   "execution_count": 18,
   "id": "40d1fb9f-4d0c-47e6-9839-6a816899bd31",
   "metadata": {
    "slideshow": {
     "slide_type": "-"
    }
   },
   "outputs": [
    {
     "data": {
      "text/plain": [
       "Servidores             44762\n",
       "Folha de Pagamento      4015\n",
       "Valor Arrecadado        2430\n",
       "Despesa               143251\n",
       "Name: Saude, dtype: int64"
      ]
     },
     "execution_count": 18,
     "metadata": {},
     "output_type": "execute_result"
    }
   ],
   "source": [
    "df.loc['Saude']"
   ]
  },
  {
   "cell_type": "markdown",
   "id": "3eb0d73c-51e4-4258-bc74-46c14f2d36b1",
   "metadata": {
    "slideshow": {
     "slide_type": "subslide"
    }
   },
   "source": [
    "<pre>... <b>filtrar</b> linhas de um DataFrame pela lista dos nomes das linhas -- e retornar DataFrame...</pre>"
   ]
  },
  {
   "cell_type": "code",
   "execution_count": 19,
   "id": "cea629a3-e0f7-4b62-b25e-48a4434221a8",
   "metadata": {
    "slideshow": {
     "slide_type": "-"
    }
   },
   "outputs": [
    {
     "data": {
      "text/html": [
       "<div>\n",
       "<style scoped>\n",
       "    .dataframe tbody tr th:only-of-type {\n",
       "        vertical-align: middle;\n",
       "    }\n",
       "\n",
       "    .dataframe tbody tr th {\n",
       "        vertical-align: top;\n",
       "    }\n",
       "\n",
       "    .dataframe thead th {\n",
       "        text-align: right;\n",
       "    }\n",
       "</style>\n",
       "<table border=\"1\" class=\"dataframe\">\n",
       "  <thead>\n",
       "    <tr style=\"text-align: right;\">\n",
       "      <th></th>\n",
       "      <th>Servidores</th>\n",
       "      <th>Folha de Pagamento</th>\n",
       "      <th>Valor Arrecadado</th>\n",
       "      <th>Despesa</th>\n",
       "    </tr>\n",
       "  </thead>\n",
       "  <tbody>\n",
       "    <tr>\n",
       "      <th>Saude</th>\n",
       "      <td>44762</td>\n",
       "      <td>4015</td>\n",
       "      <td>2430</td>\n",
       "      <td>143251</td>\n",
       "    </tr>\n",
       "    <tr>\n",
       "      <th>Agricultura</th>\n",
       "      <td>15275</td>\n",
       "      <td>2741</td>\n",
       "      <td>6128</td>\n",
       "      <td>13663</td>\n",
       "    </tr>\n",
       "  </tbody>\n",
       "</table>\n",
       "</div>"
      ],
      "text/plain": [
       "             Servidores  Folha de Pagamento  Valor Arrecadado  Despesa\n",
       "Saude             44762                4015              2430   143251\n",
       "Agricultura       15275                2741              6128    13663"
      ]
     },
     "execution_count": 19,
     "metadata": {},
     "output_type": "execute_result"
    }
   ],
   "source": [
    "df.loc[[\"Saude\", \"Agricultura\"]]"
   ]
  },
  {
   "cell_type": "markdown",
   "id": "63741ce6-e58d-4879-a37c-97c0331d333a",
   "metadata": {
    "slideshow": {
     "slide_type": "-"
    }
   },
   "source": [
    "<pre>... combinar <b>seleção</b> e <b>filtro</b> de um DataFrame -- com vírgula separando linhas de colunas...</pre>"
   ]
  },
  {
   "cell_type": "code",
   "execution_count": 20,
   "id": "ab573197-8024-40b0-b782-003c82285061",
   "metadata": {
    "slideshow": {
     "slide_type": "-"
    }
   },
   "outputs": [
    {
     "data": {
      "text/plain": [
       "Folha de Pagamento    4015\n",
       "Valor Arrecadado      2430\n",
       "Name: Saude, dtype: int64"
      ]
     },
     "execution_count": 20,
     "metadata": {},
     "output_type": "execute_result"
    }
   ],
   "source": [
    "df.loc[\"Saude\", [\"Folha de Pagamento\", \"Valor Arrecadado\"]]"
   ]
  },
  {
   "cell_type": "markdown",
   "id": "cadc0024-f353-4b5d-a8e5-5249c822ef94",
   "metadata": {
    "slideshow": {
     "slide_type": "subslide"
    }
   },
   "source": [
    "<pre>Igualmente, com <i>iloc</i>, você pode repetir a sequência de operações imediatamente acima</pre>"
   ]
  },
  {
   "cell_type": "code",
   "execution_count": 21,
   "id": "b6bd3e31-0c06-4be3-895e-f5ca50dd6a37",
   "metadata": {
    "slideshow": {
     "slide_type": "-"
    }
   },
   "outputs": [
    {
     "data": {
      "text/plain": [
       "Servidores             44762\n",
       "Folha de Pagamento      4015\n",
       "Valor Arrecadado        2430\n",
       "Despesa               143251\n",
       "Name: Saude, dtype: int64"
      ]
     },
     "execution_count": 21,
     "metadata": {},
     "output_type": "execute_result"
    }
   ],
   "source": [
    "df.iloc[1]"
   ]
  },
  {
   "cell_type": "code",
   "execution_count": 22,
   "id": "1742d2db-c54f-445f-ba30-a198178f137a",
   "metadata": {
    "slideshow": {
     "slide_type": "-"
    }
   },
   "outputs": [
    {
     "data": {
      "text/html": [
       "<div>\n",
       "<style scoped>\n",
       "    .dataframe tbody tr th:only-of-type {\n",
       "        vertical-align: middle;\n",
       "    }\n",
       "\n",
       "    .dataframe tbody tr th {\n",
       "        vertical-align: top;\n",
       "    }\n",
       "\n",
       "    .dataframe thead th {\n",
       "        text-align: right;\n",
       "    }\n",
       "</style>\n",
       "<table border=\"1\" class=\"dataframe\">\n",
       "  <thead>\n",
       "    <tr style=\"text-align: right;\">\n",
       "      <th></th>\n",
       "      <th>Servidores</th>\n",
       "      <th>Folha de Pagamento</th>\n",
       "      <th>Valor Arrecadado</th>\n",
       "      <th>Despesa</th>\n",
       "    </tr>\n",
       "  </thead>\n",
       "  <tbody>\n",
       "    <tr>\n",
       "      <th>Saude</th>\n",
       "      <td>44762</td>\n",
       "      <td>4015</td>\n",
       "      <td>2430</td>\n",
       "      <td>143251</td>\n",
       "    </tr>\n",
       "    <tr>\n",
       "      <th>Agricultura</th>\n",
       "      <td>15275</td>\n",
       "      <td>2741</td>\n",
       "      <td>6128</td>\n",
       "      <td>13663</td>\n",
       "    </tr>\n",
       "  </tbody>\n",
       "</table>\n",
       "</div>"
      ],
      "text/plain": [
       "             Servidores  Folha de Pagamento  Valor Arrecadado  Despesa\n",
       "Saude             44762                4015              2430   143251\n",
       "Agricultura       15275                2741              6128    13663"
      ]
     },
     "execution_count": 22,
     "metadata": {},
     "output_type": "execute_result"
    }
   ],
   "source": [
    "df.iloc[[1, 3]]"
   ]
  },
  {
   "cell_type": "code",
   "execution_count": 23,
   "id": "bccf3fe7-55f1-43d1-ab6b-dc6b4a8e7850",
   "metadata": {
    "slideshow": {
     "slide_type": "subslide"
    }
   },
   "outputs": [
    {
     "data": {
      "text/plain": [
       "Despesa               13663\n",
       "Servidores            15275\n",
       "Folha de Pagamento     2741\n",
       "Name: Agricultura, dtype: int64"
      ]
     },
     "execution_count": 23,
     "metadata": {},
     "output_type": "execute_result"
    }
   ],
   "source": [
    "df.iloc[3, [3, 0, 1]]"
   ]
  },
  {
   "cell_type": "code",
   "execution_count": 24,
   "id": "c65adf4a-b2a9-4d45-bf10-c1d488af9ae6",
   "metadata": {
    "slideshow": {
     "slide_type": "-"
    }
   },
   "outputs": [
    {
     "data": {
      "text/html": [
       "<div>\n",
       "<style scoped>\n",
       "    .dataframe tbody tr th:only-of-type {\n",
       "        vertical-align: middle;\n",
       "    }\n",
       "\n",
       "    .dataframe tbody tr th {\n",
       "        vertical-align: top;\n",
       "    }\n",
       "\n",
       "    .dataframe thead th {\n",
       "        text-align: right;\n",
       "    }\n",
       "</style>\n",
       "<table border=\"1\" class=\"dataframe\">\n",
       "  <thead>\n",
       "    <tr style=\"text-align: right;\">\n",
       "      <th></th>\n",
       "      <th>Despesa</th>\n",
       "      <th>Servidores</th>\n",
       "      <th>Folha de Pagamento</th>\n",
       "    </tr>\n",
       "  </thead>\n",
       "  <tbody>\n",
       "    <tr>\n",
       "      <th>Saude</th>\n",
       "      <td>143251</td>\n",
       "      <td>44762</td>\n",
       "      <td>4015</td>\n",
       "    </tr>\n",
       "    <tr>\n",
       "      <th>Fazenda</th>\n",
       "      <td>0</td>\n",
       "      <td>0</td>\n",
       "      <td>0</td>\n",
       "    </tr>\n",
       "  </tbody>\n",
       "</table>\n",
       "</div>"
      ],
      "text/plain": [
       "         Despesa  Servidores  Folha de Pagamento\n",
       "Saude     143251       44762                4015\n",
       "Fazenda        0           0                   0"
      ]
     },
     "execution_count": 24,
     "metadata": {},
     "output_type": "execute_result"
    }
   ],
   "source": [
    "df.iloc[[1, 2], [3, 0, 1]]"
   ]
  },
  {
   "cell_type": "markdown",
   "id": "c0519eac-8764-48b8-8aed-e8b7514abe6d",
   "metadata": {
    "slideshow": {
     "slide_type": "subslide"
    },
    "tags": []
   },
   "source": [
    "##### Quadro-resumo dos métodos de Seleção 🍕 e Filtro 🍝 em DataFrame 📽️"
   ]
  },
  {
   "cell_type": "markdown",
   "id": "0390c049-26d5-4934-8e3e-b79bbf42d139",
   "metadata": {
    "slideshow": {
     "slide_type": "-"
    }
   },
   "source": [
    "<table>\n",
    "    <tr><th>Opção</th><th>Descrição</th></tr>\n",
    "    <tr><td>df[column]</td><td>Selecione uma única coluna ou sequência de colunas do DataFrame; <br />Os casos especiais: <ol><li>Vetor booleano: filtra linhas;</li><li>Slice: fatia linhas; e</li><li>DataFrame booleano: atribui valores com base em critérios.</li></ol></td></tr>\n",
    "    <tr><td>df.loc[rows]</td><td>Selecione uma única linha ou subconjunto de linhas do DataFrame pelos rótulos do índices</td></tr>\n",
    "    <tr><td>df.loc[:, cols]</td><td>Selecione uma única coluna ou subconjunto de colunas pelos rótulo dos índices</td></tr>\n",
    "    <tr><td>df.loc[rows, cols]</td><td>Selecione linha(s) e coluna(s) pelos rótulos do índices</td></tr>\n",
    "    <tr><td>df.iloc[rows]</td><td>Selecione uma única linha ou subconjunto de linhas do DataFrame pela posição na sequência do índice</td></tr>\n",
    "    <tr><td>df.iloc[:, cols]</td><td>Selecione uma única coluna ou subconjunto de colunas pela posições nas sequências dos índices</td></tr>\n",
    "    <tr><td>df.iloc[rows, cols]</td><td>Selecione tanto linha(s) quanto coluna(s) pela posições nas sequências dos índices</td></tr>\n",
    "    <tr><td>df.at[row, col]</td><td>Selecione um único valor escalar pelos rótulos do índices</td></tr>\n",
    "    <tr><td>df.iat[row, col]</td><td>Selecione um único valor escalar pela posições nas sequências dos índices</td></tr>\n",
    "    <tr><td>reindex method</td><td>Selecione linhas ou colunas pelos rótulos do índices</td></tr>\n",
    "</table>"
   ]
  },
  {
   "cell_type": "markdown",
   "id": "b67f7281-dbb2-495f-84da-9b439c893ec9",
   "metadata": {
    "slideshow": {
     "slide_type": "slide"
    },
    "tags": []
   },
   "source": [
    "### Limpeza 🧹 dos Dados 🎲"
   ]
  },
  {
   "cell_type": "markdown",
   "id": "d6e35845-e8db-40a3-8b72-bf28fd928083",
   "metadata": {
    "slideshow": {
     "slide_type": "-"
    },
    "tags": []
   },
   "source": [
    "<img src=\"https://pbs.twimg.com/media/EJZlTJ5W4AAeKtU?format=jpg\" width=\"800px\" style=\"margin-left: auto; margin-right: auto;\">"
   ]
  },
  {
   "cell_type": "markdown",
   "id": "d49c4db3-4f25-46d8-8b36-975df5910fd5",
   "metadata": {
    "slideshow": {
     "slide_type": "-"
    }
   },
   "source": [
    "<pre>Veremos, a seguir, operações que serão utilizadas para contemplar os itens da lista de verificação de limpeza de dados 👆.</pre>"
   ]
  },
  {
   "cell_type": "markdown",
   "id": "a54dde11-2a4f-4f5a-955e-41283739c9f0",
   "metadata": {
    "slideshow": {
     "slide_type": "subslide"
    }
   },
   "source": [
    "#### Dados Ausentes"
   ]
  },
  {
   "cell_type": "markdown",
   "id": "5821cdbc-9709-415c-97e4-efbc30e6ec82",
   "metadata": {
    "slideshow": {
     "slide_type": "-"
    }
   },
   "source": [
    "Dados ausentes são comuns em muitas análises de dados; o pandas tem como objetivo trabalhar com dados ausentes com a menor \"dor\" possível."
   ]
  },
  {
   "cell_type": "markdown",
   "id": "290b37aa",
   "metadata": {
    "slideshow": {
     "slide_type": "-"
    }
   },
   "source": [
    "Algumas das razões em termos dados ausentes:\n",
    "<ul>\n",
    "    <li>Falta da informação (Ex: países que não tem cultura de dados abertos)</li>\n",
    "    <li>Erro de programação 🧑🏻‍💻</li>\n",
    "    <li>Entrada de dados incorreta ❌</li>\n",
    "    <li>Eventos arbitrários (feriados/problemas climáticos) 🎲</li>\n",
    "</ul>"
   ]
  },
  {
   "cell_type": "markdown",
   "id": "1445f05e-8790-4293-ade9-81d20c26c205",
   "metadata": {
    "slideshow": {
     "slide_type": "-"
    }
   },
   "source": [
    "Nem sempre sua base de dados te indicará os dados ausentes. As vezes você terá que encontrá-los. Geralmente, estão representados da seguinte forma:\n",
    "\n",
    "<ul>\n",
    "    <li>NaN</li>\n",
    "    <li>999</li>\n",
    "    <li>.</li>\n",
    "    <li>..</li>\n",
    "    <li>?</li>\n",
    "    <li>faltante</li>\n",
    "    <li>\" \"</li>\n",
    "</ul>"
   ]
  },
  {
   "cell_type": "markdown",
   "id": "46609b58",
   "metadata": {
    "slideshow": {
     "slide_type": "subslide"
    }
   },
   "source": [
    "O que devemos fazer com os Dados Ausentes?\n",
    "\n",
    "<ul>\n",
    "    <li>Substituir manualmente por valores significativos (NaN?);</li>\n",
    "    <li>Filtrar/excluir a variável (coluna) ou a ocorrência (linha); ou</li>\n",
    "    <li>Preencher/imputar valores (média, mediana, etc).</li>\n",
    "</ul>"
   ]
  },
  {
   "cell_type": "markdown",
   "id": "ed9fc48c",
   "metadata": {
    "slideshow": {
     "slide_type": "-"
    }
   },
   "source": [
    "🚨 Tenha em mente que imputar valores é uma aproximação. Isso pode gerar viés para seu modelo."
   ]
  },
  {
   "cell_type": "code",
   "execution_count": 25,
   "id": "fa5c0d62-5069-4cd2-b589-844474d35e52",
   "metadata": {
    "slideshow": {
     "slide_type": "subslide"
    },
    "tags": []
   },
   "outputs": [],
   "source": [
    "import numpy as np"
   ]
  },
  {
   "cell_type": "markdown",
   "id": "e0298065-d2da-4e73-b295-1e009c24dbfe",
   "metadata": {
    "slideshow": {
     "slide_type": "-"
    }
   },
   "source": [
    "<pre>Você pode representar o valor ausente para ponto flutuante com <i>np.nan</i>...</pre>"
   ]
  },
  {
   "cell_type": "code",
   "execution_count": 26,
   "id": "973ca09a-6a90-488f-8af3-c9f0da88e2ab",
   "metadata": {
    "slideshow": {
     "slide_type": "-"
    },
    "tags": []
   },
   "outputs": [
    {
     "data": {
      "text/plain": [
       "0    374209.0\n",
       "1         NaN\n",
       "2     50820.0\n",
       "3     15275.0\n",
       "dtype: float64"
      ]
     },
     "execution_count": 26,
     "metadata": {},
     "output_type": "execute_result"
    }
   ],
   "source": [
    "servidores[1] = np.nan\n",
    "servidores_s = pd.Series(servidores)\n",
    "servidores_s"
   ]
  },
  {
   "cell_type": "markdown",
   "id": "f7f9d946-89f6-44f3-80c5-581595af3309",
   "metadata": {
    "slideshow": {
     "slide_type": "-"
    }
   },
   "source": [
    "<pre>Veja que você pode identificar os valores não disponíveis (<i>NA = Not Available</i>), incluso o NaN (<i>Not a Number</i>)</pre>"
   ]
  },
  {
   "cell_type": "code",
   "execution_count": 27,
   "id": "cdf0e6f9-16e8-4cb8-9821-c712cfd221c4",
   "metadata": {
    "slideshow": {
     "slide_type": "-"
    },
    "tags": []
   },
   "outputs": [
    {
     "data": {
      "text/plain": [
       "0    False\n",
       "1     True\n",
       "2    False\n",
       "3    False\n",
       "dtype: bool"
      ]
     },
     "execution_count": 27,
     "metadata": {},
     "output_type": "execute_result"
    }
   ],
   "source": [
    "servidores_s.isna()"
   ]
  },
  {
   "cell_type": "markdown",
   "id": "666a3551-e64a-480e-922a-351fd2410e83",
   "metadata": {
    "slideshow": {
     "slide_type": "subslide"
    }
   },
   "source": [
    "<pre>ou com o próprio valor <i>None</i> do Python.</pre>"
   ]
  },
  {
   "cell_type": "code",
   "execution_count": 28,
   "id": "38650ad1-8eda-4aed-9377-bd4e98a1f661",
   "metadata": {
    "slideshow": {
     "slide_type": "-"
    },
    "tags": []
   },
   "outputs": [
    {
     "data": {
      "text/plain": [
       "0       Educacao\n",
       "1           None\n",
       "2        Fazenda\n",
       "3    Agricultura\n",
       "dtype: object"
      ]
     },
     "execution_count": 28,
     "metadata": {},
     "output_type": "execute_result"
    }
   ],
   "source": [
    "ministerios[1] = None\n",
    "ministerios_s = pd.Series(ministerios)\n",
    "ministerios_s"
   ]
  },
  {
   "cell_type": "code",
   "execution_count": 29,
   "id": "cb8245cf-41f9-4dd0-a2c9-af97dbce01e6",
   "metadata": {
    "slideshow": {
     "slide_type": "-"
    },
    "tags": []
   },
   "outputs": [
    {
     "data": {
      "text/plain": [
       "0    False\n",
       "1     True\n",
       "2    False\n",
       "3    False\n",
       "dtype: bool"
      ]
     },
     "execution_count": 29,
     "metadata": {},
     "output_type": "execute_result"
    }
   ],
   "source": [
    "ministerios_s.isna()"
   ]
  },
  {
   "cell_type": "markdown",
   "id": "9878aade",
   "metadata": {
    "slideshow": {
     "slide_type": "subslide"
    }
   },
   "source": [
    "<pre> Você pode precisar transformar algum valor (no caso \"..\") em NaN.</pre>\n"
   ]
  },
  {
   "cell_type": "code",
   "execution_count": 30,
   "id": "7020f438",
   "metadata": {
    "slideshow": {
     "slide_type": "-"
    }
   },
   "outputs": [
    {
     "data": {
      "text/plain": [
       "0       Educacao\n",
       "1           None\n",
       "2            NaN\n",
       "3    Agricultura\n",
       "dtype: object"
      ]
     },
     "execution_count": 30,
     "metadata": {},
     "output_type": "execute_result"
    }
   ],
   "source": [
    "ministerios_s[2] = '..'\n",
    "ministerios_s.replace('..', np.nan, inplace=True)\n",
    "ministerios_s"
   ]
  },
  {
   "cell_type": "markdown",
   "id": "9e325ef2-24f1-4bb1-bb5f-c832d47d8b0e",
   "metadata": {
    "slideshow": {
     "slide_type": "subslide"
    }
   },
   "source": [
    "👉 dica: na ausência de <i>np.nan</i>, o <i>None</i> é automaticamente convertido para NaN"
   ]
  },
  {
   "cell_type": "code",
   "execution_count": 31,
   "id": "94a70fa5-7765-4f69-a4df-181ed20b41c3",
   "metadata": {
    "slideshow": {
     "slide_type": "-"
    },
    "tags": []
   },
   "outputs": [
    {
     "data": {
      "text/plain": [
       "[374209, None, 50820, 15275]"
      ]
     },
     "execution_count": 31,
     "metadata": {},
     "output_type": "execute_result"
    }
   ],
   "source": [
    "servidores[1] = None\n",
    "servidores"
   ]
  },
  {
   "cell_type": "code",
   "execution_count": 32,
   "id": "4d67e9eb-4138-4674-8216-cba0e3e8f0a3",
   "metadata": {
    "slideshow": {
     "slide_type": "-"
    },
    "tags": []
   },
   "outputs": [
    {
     "data": {
      "text/plain": [
       "0    374209.0\n",
       "1         NaN\n",
       "2     50820.0\n",
       "3     15275.0\n",
       "dtype: float64"
      ]
     },
     "execution_count": 32,
     "metadata": {},
     "output_type": "execute_result"
    }
   ],
   "source": [
    "servidores_s = pd.Series(servidores)\n",
    "servidores_s"
   ]
  },
  {
   "cell_type": "code",
   "execution_count": 33,
   "id": "712b1ed8-4a3f-4cb1-84af-b3a2b2fa8286",
   "metadata": {
    "slideshow": {
     "slide_type": "-"
    }
   },
   "outputs": [
    {
     "data": {
      "text/plain": [
       "0    False\n",
       "1     True\n",
       "2     True\n",
       "3    False\n",
       "dtype: bool"
      ]
     },
     "execution_count": 33,
     "metadata": {},
     "output_type": "execute_result"
    }
   ],
   "source": [
    "ministerios_s.isna()"
   ]
  },
  {
   "cell_type": "markdown",
   "id": "8248839b-c71f-41b2-9b3f-84832592a3e8",
   "metadata": {
    "slideshow": {
     "slide_type": "subslide"
    },
    "tags": []
   },
   "source": [
    "##### Filtrando Dados Ausentes"
   ]
  },
  {
   "cell_type": "markdown",
   "id": "48b6aa8f-5519-499b-84e4-da63851197c1",
   "metadata": {
    "slideshow": {
     "slide_type": "-"
    }
   },
   "source": [
    "<pre>... com Series 🎞️</pre>"
   ]
  },
  {
   "cell_type": "code",
   "execution_count": 34,
   "id": "7c673a93-1d2a-42b2-9ef3-cb62e58cd264",
   "metadata": {
    "slideshow": {
     "slide_type": "-"
    },
    "tags": []
   },
   "outputs": [
    {
     "data": {
      "text/plain": [
       "0    374209.0\n",
       "1         NaN\n",
       "2     50820.0\n",
       "3     15275.0\n",
       "dtype: float64"
      ]
     },
     "execution_count": 34,
     "metadata": {},
     "output_type": "execute_result"
    }
   ],
   "source": [
    "servidores_s"
   ]
  },
  {
   "cell_type": "code",
   "execution_count": 35,
   "id": "877129f0-3378-4f4f-b09e-b4afb23025b3",
   "metadata": {
    "slideshow": {
     "slide_type": "-"
    },
    "tags": []
   },
   "outputs": [
    {
     "data": {
      "text/plain": [
       "0    374209.0\n",
       "2     50820.0\n",
       "3     15275.0\n",
       "dtype: float64"
      ]
     },
     "execution_count": 35,
     "metadata": {},
     "output_type": "execute_result"
    }
   ],
   "source": [
    "#equivalentemente, servidores_s[servidores_s.notna()]\n",
    "servidores_s.dropna()"
   ]
  },
  {
   "cell_type": "markdown",
   "id": "0830b77c-fd57-48a0-92b7-b184919200e7",
   "metadata": {
    "slideshow": {
     "slide_type": "subslide"
    }
   },
   "source": [
    "<pre>... com DataFrame 📽️...</pre>"
   ]
  },
  {
   "cell_type": "code",
   "execution_count": 36,
   "id": "95115a6c-b737-4771-8712-8585824b0edb",
   "metadata": {
    "slideshow": {
     "slide_type": "-"
    },
    "tags": []
   },
   "outputs": [
    {
     "data": {
      "text/html": [
       "<div>\n",
       "<style scoped>\n",
       "    .dataframe tbody tr th:only-of-type {\n",
       "        vertical-align: middle;\n",
       "    }\n",
       "\n",
       "    .dataframe tbody tr th {\n",
       "        vertical-align: top;\n",
       "    }\n",
       "\n",
       "    .dataframe thead th {\n",
       "        text-align: right;\n",
       "    }\n",
       "</style>\n",
       "<table border=\"1\" class=\"dataframe\">\n",
       "  <thead>\n",
       "    <tr style=\"text-align: right;\">\n",
       "      <th></th>\n",
       "      <th>Servidores</th>\n",
       "      <th>Folha de Pagamento</th>\n",
       "      <th>Valor Arrecadado</th>\n",
       "      <th>Despesa</th>\n",
       "    </tr>\n",
       "  </thead>\n",
       "  <tbody>\n",
       "    <tr>\n",
       "      <th>Educacao</th>\n",
       "      <td>0</td>\n",
       "      <td>0</td>\n",
       "      <td>0</td>\n",
       "      <td>0</td>\n",
       "    </tr>\n",
       "    <tr>\n",
       "      <th>Saude</th>\n",
       "      <td>44762</td>\n",
       "      <td>4015</td>\n",
       "      <td>2430</td>\n",
       "      <td>143251</td>\n",
       "    </tr>\n",
       "    <tr>\n",
       "      <th>Fazenda</th>\n",
       "      <td>0</td>\n",
       "      <td>0</td>\n",
       "      <td>0</td>\n",
       "      <td>0</td>\n",
       "    </tr>\n",
       "    <tr>\n",
       "      <th>Agricultura</th>\n",
       "      <td>15275</td>\n",
       "      <td>2741</td>\n",
       "      <td>6128</td>\n",
       "      <td>13663</td>\n",
       "    </tr>\n",
       "  </tbody>\n",
       "</table>\n",
       "</div>"
      ],
      "text/plain": [
       "             Servidores  Folha de Pagamento  Valor Arrecadado  Despesa\n",
       "Educacao              0                   0                 0        0\n",
       "Saude             44762                4015              2430   143251\n",
       "Fazenda               0                   0                 0        0\n",
       "Agricultura       15275                2741              6128    13663"
      ]
     },
     "execution_count": 36,
     "metadata": {},
     "output_type": "execute_result"
    }
   ],
   "source": [
    "# Retomando o dataframe de dados dos orgãos superiores\n",
    "# https://portaldatransparencia.gov.br/orgaos-superiores?ano=2022\n",
    "\n",
    "df"
   ]
  },
  {
   "cell_type": "code",
   "execution_count": 37,
   "id": "ce5077ae-11f2-409c-b3f7-bf7667c5dfe0",
   "metadata": {
    "slideshow": {
     "slide_type": "-"
    }
   },
   "outputs": [
    {
     "data": {
      "text/html": [
       "<div>\n",
       "<style scoped>\n",
       "    .dataframe tbody tr th:only-of-type {\n",
       "        vertical-align: middle;\n",
       "    }\n",
       "\n",
       "    .dataframe tbody tr th {\n",
       "        vertical-align: top;\n",
       "    }\n",
       "\n",
       "    .dataframe thead th {\n",
       "        text-align: right;\n",
       "    }\n",
       "</style>\n",
       "<table border=\"1\" class=\"dataframe\">\n",
       "  <thead>\n",
       "    <tr style=\"text-align: right;\">\n",
       "      <th></th>\n",
       "      <th>Servidores</th>\n",
       "      <th>Folha de Pagamento</th>\n",
       "      <th>Valor Arrecadado</th>\n",
       "      <th>Despesa</th>\n",
       "    </tr>\n",
       "  </thead>\n",
       "  <tbody>\n",
       "    <tr>\n",
       "      <th>Educacao</th>\n",
       "      <td>0.0</td>\n",
       "      <td>NaN</td>\n",
       "      <td>NaN</td>\n",
       "      <td>0.0</td>\n",
       "    </tr>\n",
       "    <tr>\n",
       "      <th>Saude</th>\n",
       "      <td>44762.0</td>\n",
       "      <td>4015.0</td>\n",
       "      <td>2430.0</td>\n",
       "      <td>143251.0</td>\n",
       "    </tr>\n",
       "    <tr>\n",
       "      <th>Fazenda</th>\n",
       "      <td>NaN</td>\n",
       "      <td>NaN</td>\n",
       "      <td>NaN</td>\n",
       "      <td>NaN</td>\n",
       "    </tr>\n",
       "    <tr>\n",
       "      <th>Agricultura</th>\n",
       "      <td>NaN</td>\n",
       "      <td>2741.0</td>\n",
       "      <td>6128.0</td>\n",
       "      <td>13663.0</td>\n",
       "    </tr>\n",
       "  </tbody>\n",
       "</table>\n",
       "</div>"
      ],
      "text/plain": [
       "             Servidores  Folha de Pagamento  Valor Arrecadado   Despesa\n",
       "Educacao            0.0                 NaN               NaN       0.0\n",
       "Saude           44762.0              4015.0            2430.0  143251.0\n",
       "Fazenda             NaN                 NaN               NaN       NaN\n",
       "Agricultura         NaN              2741.0            6128.0   13663.0"
      ]
     },
     "execution_count": 37,
     "metadata": {},
     "output_type": "execute_result"
    }
   ],
   "source": [
    "# Vamos inserir alguns NaN\n",
    "df.iloc[2,:] = df.iloc[3,0] = df.iloc[0,1] = df.iloc[0,2] = np.nan\n",
    "df"
   ]
  },
  {
   "cell_type": "markdown",
   "id": "95cf64f4-69c0-4cd5-a2a4-137d868b2b12",
   "metadata": {
    "slideshow": {
     "slide_type": "subslide"
    }
   },
   "source": [
    "<pre>... você pode excluir as linhas que tenham ao menos um valor ausente...</pre>"
   ]
  },
  {
   "cell_type": "code",
   "execution_count": 38,
   "id": "2c03e382-b455-4a61-aee3-15d534ae1e27",
   "metadata": {
    "slideshow": {
     "slide_type": "-"
    },
    "tags": []
   },
   "outputs": [
    {
     "data": {
      "text/html": [
       "<div>\n",
       "<style scoped>\n",
       "    .dataframe tbody tr th:only-of-type {\n",
       "        vertical-align: middle;\n",
       "    }\n",
       "\n",
       "    .dataframe tbody tr th {\n",
       "        vertical-align: top;\n",
       "    }\n",
       "\n",
       "    .dataframe thead th {\n",
       "        text-align: right;\n",
       "    }\n",
       "</style>\n",
       "<table border=\"1\" class=\"dataframe\">\n",
       "  <thead>\n",
       "    <tr style=\"text-align: right;\">\n",
       "      <th></th>\n",
       "      <th>Servidores</th>\n",
       "      <th>Folha de Pagamento</th>\n",
       "      <th>Valor Arrecadado</th>\n",
       "      <th>Despesa</th>\n",
       "    </tr>\n",
       "  </thead>\n",
       "  <tbody>\n",
       "    <tr>\n",
       "      <th>Saude</th>\n",
       "      <td>44762.0</td>\n",
       "      <td>4015.0</td>\n",
       "      <td>2430.0</td>\n",
       "      <td>143251.0</td>\n",
       "    </tr>\n",
       "  </tbody>\n",
       "</table>\n",
       "</div>"
      ],
      "text/plain": [
       "       Servidores  Folha de Pagamento  Valor Arrecadado   Despesa\n",
       "Saude     44762.0              4015.0            2430.0  143251.0"
      ]
     },
     "execution_count": 38,
     "metadata": {},
     "output_type": "execute_result"
    }
   ],
   "source": [
    "df.dropna(how='any')"
   ]
  },
  {
   "cell_type": "markdown",
   "id": "9f2c4359-a074-4492-a382-784454216115",
   "metadata": {
    "slideshow": {
     "slide_type": "-"
    },
    "tags": []
   },
   "source": [
    "<pre>... as linhas que tenham todos os valores ausentes...</pre>"
   ]
  },
  {
   "cell_type": "code",
   "execution_count": 39,
   "id": "492d2031-9dcd-46d2-9221-fc8042bdfb8e",
   "metadata": {
    "slideshow": {
     "slide_type": "-"
    },
    "tags": []
   },
   "outputs": [
    {
     "data": {
      "text/html": [
       "<div>\n",
       "<style scoped>\n",
       "    .dataframe tbody tr th:only-of-type {\n",
       "        vertical-align: middle;\n",
       "    }\n",
       "\n",
       "    .dataframe tbody tr th {\n",
       "        vertical-align: top;\n",
       "    }\n",
       "\n",
       "    .dataframe thead th {\n",
       "        text-align: right;\n",
       "    }\n",
       "</style>\n",
       "<table border=\"1\" class=\"dataframe\">\n",
       "  <thead>\n",
       "    <tr style=\"text-align: right;\">\n",
       "      <th></th>\n",
       "      <th>Servidores</th>\n",
       "      <th>Folha de Pagamento</th>\n",
       "      <th>Valor Arrecadado</th>\n",
       "      <th>Despesa</th>\n",
       "    </tr>\n",
       "  </thead>\n",
       "  <tbody>\n",
       "    <tr>\n",
       "      <th>Educacao</th>\n",
       "      <td>0.0</td>\n",
       "      <td>NaN</td>\n",
       "      <td>NaN</td>\n",
       "      <td>0.0</td>\n",
       "    </tr>\n",
       "    <tr>\n",
       "      <th>Saude</th>\n",
       "      <td>44762.0</td>\n",
       "      <td>4015.0</td>\n",
       "      <td>2430.0</td>\n",
       "      <td>143251.0</td>\n",
       "    </tr>\n",
       "    <tr>\n",
       "      <th>Agricultura</th>\n",
       "      <td>NaN</td>\n",
       "      <td>2741.0</td>\n",
       "      <td>6128.0</td>\n",
       "      <td>13663.0</td>\n",
       "    </tr>\n",
       "  </tbody>\n",
       "</table>\n",
       "</div>"
      ],
      "text/plain": [
       "             Servidores  Folha de Pagamento  Valor Arrecadado   Despesa\n",
       "Educacao            0.0                 NaN               NaN       0.0\n",
       "Saude           44762.0              4015.0            2430.0  143251.0\n",
       "Agricultura         NaN              2741.0            6128.0   13663.0"
      ]
     },
     "execution_count": 39,
     "metadata": {},
     "output_type": "execute_result"
    }
   ],
   "source": [
    "df.dropna(how=\"all\")"
   ]
  },
  {
   "cell_type": "markdown",
   "id": "e6280a9b-e020-4f30-bfbe-1d0e3a0fd914",
   "metadata": {
    "slideshow": {
     "slide_type": "-"
    }
   },
   "source": [
    "<pre>... ou qualquer número de ocorrências entre os extremos.</pre>"
   ]
  },
  {
   "cell_type": "code",
   "execution_count": 40,
   "id": "ba8c46f0-e22c-4b30-9609-74089e744396",
   "metadata": {
    "slideshow": {
     "slide_type": "-"
    },
    "tags": []
   },
   "outputs": [
    {
     "data": {
      "text/html": [
       "<div>\n",
       "<style scoped>\n",
       "    .dataframe tbody tr th:only-of-type {\n",
       "        vertical-align: middle;\n",
       "    }\n",
       "\n",
       "    .dataframe tbody tr th {\n",
       "        vertical-align: top;\n",
       "    }\n",
       "\n",
       "    .dataframe thead th {\n",
       "        text-align: right;\n",
       "    }\n",
       "</style>\n",
       "<table border=\"1\" class=\"dataframe\">\n",
       "  <thead>\n",
       "    <tr style=\"text-align: right;\">\n",
       "      <th></th>\n",
       "      <th>Servidores</th>\n",
       "      <th>Folha de Pagamento</th>\n",
       "      <th>Valor Arrecadado</th>\n",
       "      <th>Despesa</th>\n",
       "    </tr>\n",
       "  </thead>\n",
       "  <tbody>\n",
       "    <tr>\n",
       "      <th>Saude</th>\n",
       "      <td>44762.0</td>\n",
       "      <td>4015.0</td>\n",
       "      <td>2430.0</td>\n",
       "      <td>143251.0</td>\n",
       "    </tr>\n",
       "    <tr>\n",
       "      <th>Agricultura</th>\n",
       "      <td>NaN</td>\n",
       "      <td>2741.0</td>\n",
       "      <td>6128.0</td>\n",
       "      <td>13663.0</td>\n",
       "    </tr>\n",
       "  </tbody>\n",
       "</table>\n",
       "</div>"
      ],
      "text/plain": [
       "             Servidores  Folha de Pagamento  Valor Arrecadado   Despesa\n",
       "Saude           44762.0              4015.0            2430.0  143251.0\n",
       "Agricultura         NaN              2741.0            6128.0   13663.0"
      ]
     },
     "execution_count": 40,
     "metadata": {},
     "output_type": "execute_result"
    }
   ],
   "source": [
    "df.dropna(thresh=3) #thresh = número mínimo de valores não ausentes"
   ]
  },
  {
   "cell_type": "markdown",
   "id": "0ca8f640-1ee0-43a0-9aac-d6c5792c8a5a",
   "metadata": {
    "slideshow": {
     "slide_type": "subslide"
    },
    "tags": []
   },
   "source": [
    "###### Quadro-resumo dos métodos para tratamento de <i>NA</i>"
   ]
  },
  {
   "cell_type": "markdown",
   "id": "e71dd907-caa3-4c3b-8e82-70ea72a5c31f",
   "metadata": {
    "slideshow": {
     "slide_type": "-"
    },
    "tags": []
   },
   "source": [
    "<table>\n",
    "    <tr><th>Argumento</th><th>Descrição</th></tr>\n",
    "    <tr><td>dropna</td><td>Filtra rótulos de eixos, baseado no fato de os valores para cada rótulo terem dados ausentes, com limites variados para a quantidade de dados ausentes a ser tolerada.</td></tr>\n",
    "    <tr><td>fillna</td><td>Preenche os dados ausentes com algum valor ou utilizando um método de interpolação como 'ffill' ou 'bfill'.</td></tr>\n",
    "    <tr><td>isnull</td><td>Devolve valores booleanos informando quais valores estão ausentes/são NA.</td></tr>\n",
    "    <tr><td>notnull</td><td>Negação de isnull.</td></tr>\n",
    "</table>"
   ]
  },
  {
   "cell_type": "markdown",
   "id": "25b11321-f518-4a51-8e06-65e909f1c90d",
   "metadata": {
    "slideshow": {
     "slide_type": "subslide"
    }
   },
   "source": [
    "##### Preenchendo Dados Ausentes"
   ]
  },
  {
   "cell_type": "markdown",
   "id": "cc517f45-3d10-4925-955a-229da274801a",
   "metadata": {
    "slideshow": {
     "slide_type": "-"
    }
   },
   "source": [
    "<pre>Veja que filtrar os dados ausentes pode incorrer em descartar outros dados (não-ausentes)</pre>\n",
    "<pre>Portanto, alternativamente ao descarte, você pode preencher as lacunas (de dados ausentes) de várias maneiras:</pre>"
   ]
  },
  {
   "cell_type": "markdown",
   "id": "40607a1b-424f-42c1-8282-f50000f902d5",
   "metadata": {
    "slideshow": {
     "slide_type": "-"
    }
   },
   "source": [
    "<pre>por uma constante;</pre>"
   ]
  },
  {
   "cell_type": "code",
   "execution_count": 41,
   "id": "886527ce-f451-42fe-806e-fc5ab8aab01e",
   "metadata": {
    "slideshow": {
     "slide_type": "-"
    },
    "tags": []
   },
   "outputs": [
    {
     "data": {
      "text/html": [
       "<div>\n",
       "<style scoped>\n",
       "    .dataframe tbody tr th:only-of-type {\n",
       "        vertical-align: middle;\n",
       "    }\n",
       "\n",
       "    .dataframe tbody tr th {\n",
       "        vertical-align: top;\n",
       "    }\n",
       "\n",
       "    .dataframe thead th {\n",
       "        text-align: right;\n",
       "    }\n",
       "</style>\n",
       "<table border=\"1\" class=\"dataframe\">\n",
       "  <thead>\n",
       "    <tr style=\"text-align: right;\">\n",
       "      <th></th>\n",
       "      <th>Servidores</th>\n",
       "      <th>Folha de Pagamento</th>\n",
       "      <th>Valor Arrecadado</th>\n",
       "      <th>Despesa</th>\n",
       "    </tr>\n",
       "  </thead>\n",
       "  <tbody>\n",
       "    <tr>\n",
       "      <th>Educacao</th>\n",
       "      <td>0.0</td>\n",
       "      <td>0.0</td>\n",
       "      <td>0.0</td>\n",
       "      <td>0.0</td>\n",
       "    </tr>\n",
       "    <tr>\n",
       "      <th>Saude</th>\n",
       "      <td>44762.0</td>\n",
       "      <td>4015.0</td>\n",
       "      <td>2430.0</td>\n",
       "      <td>143251.0</td>\n",
       "    </tr>\n",
       "    <tr>\n",
       "      <th>Fazenda</th>\n",
       "      <td>0.0</td>\n",
       "      <td>0.0</td>\n",
       "      <td>0.0</td>\n",
       "      <td>0.0</td>\n",
       "    </tr>\n",
       "    <tr>\n",
       "      <th>Agricultura</th>\n",
       "      <td>0.0</td>\n",
       "      <td>2741.0</td>\n",
       "      <td>6128.0</td>\n",
       "      <td>13663.0</td>\n",
       "    </tr>\n",
       "  </tbody>\n",
       "</table>\n",
       "</div>"
      ],
      "text/plain": [
       "             Servidores  Folha de Pagamento  Valor Arrecadado   Despesa\n",
       "Educacao            0.0                 0.0               0.0       0.0\n",
       "Saude           44762.0              4015.0            2430.0  143251.0\n",
       "Fazenda             0.0                 0.0               0.0       0.0\n",
       "Agricultura         0.0              2741.0            6128.0   13663.0"
      ]
     },
     "execution_count": 41,
     "metadata": {},
     "output_type": "execute_result"
    }
   ],
   "source": [
    "df.fillna(0)"
   ]
  },
  {
   "cell_type": "markdown",
   "id": "15d8f473-407f-46ca-8b0e-e0a73b5f62b3",
   "metadata": {
    "slideshow": {
     "slide_type": "subslide"
    },
    "tags": []
   },
   "source": [
    "<pre>por uma constante, de acordo com a coluna;</pre>"
   ]
  },
  {
   "cell_type": "code",
   "execution_count": 42,
   "id": "1063e0ea-35bd-4b4f-ae97-5e0880e87e3b",
   "metadata": {
    "slideshow": {
     "slide_type": "-"
    },
    "tags": []
   },
   "outputs": [
    {
     "data": {
      "text/html": [
       "<div>\n",
       "<style scoped>\n",
       "    .dataframe tbody tr th:only-of-type {\n",
       "        vertical-align: middle;\n",
       "    }\n",
       "\n",
       "    .dataframe tbody tr th {\n",
       "        vertical-align: top;\n",
       "    }\n",
       "\n",
       "    .dataframe thead th {\n",
       "        text-align: right;\n",
       "    }\n",
       "</style>\n",
       "<table border=\"1\" class=\"dataframe\">\n",
       "  <thead>\n",
       "    <tr style=\"text-align: right;\">\n",
       "      <th></th>\n",
       "      <th>Servidores</th>\n",
       "      <th>Folha de Pagamento</th>\n",
       "      <th>Valor Arrecadado</th>\n",
       "      <th>Despesa</th>\n",
       "    </tr>\n",
       "  </thead>\n",
       "  <tbody>\n",
       "    <tr>\n",
       "      <th>Educacao</th>\n",
       "      <td>0.0</td>\n",
       "      <td>3000.0</td>\n",
       "      <td>NaN</td>\n",
       "      <td>0.0</td>\n",
       "    </tr>\n",
       "    <tr>\n",
       "      <th>Saude</th>\n",
       "      <td>44762.0</td>\n",
       "      <td>4015.0</td>\n",
       "      <td>2430.0</td>\n",
       "      <td>143251.0</td>\n",
       "    </tr>\n",
       "    <tr>\n",
       "      <th>Fazenda</th>\n",
       "      <td>10000.0</td>\n",
       "      <td>3000.0</td>\n",
       "      <td>NaN</td>\n",
       "      <td>NaN</td>\n",
       "    </tr>\n",
       "    <tr>\n",
       "      <th>Agricultura</th>\n",
       "      <td>10000.0</td>\n",
       "      <td>2741.0</td>\n",
       "      <td>6128.0</td>\n",
       "      <td>13663.0</td>\n",
       "    </tr>\n",
       "  </tbody>\n",
       "</table>\n",
       "</div>"
      ],
      "text/plain": [
       "             Servidores  Folha de Pagamento  Valor Arrecadado   Despesa\n",
       "Educacao            0.0              3000.0               NaN       0.0\n",
       "Saude           44762.0              4015.0            2430.0  143251.0\n",
       "Fazenda         10000.0              3000.0               NaN       NaN\n",
       "Agricultura     10000.0              2741.0            6128.0   13663.0"
      ]
     },
     "execution_count": 42,
     "metadata": {},
     "output_type": "execute_result"
    }
   ],
   "source": [
    "df.fillna({'Servidores': 10_000, 'Folha de Pagamento': 3_000})"
   ]
  },
  {
   "cell_type": "markdown",
   "id": "44899dc3-fd62-4cb2-acdb-3134e586fab7",
   "metadata": {
    "slideshow": {
     "slide_type": "-"
    }
   },
   "source": [
    "<pre>por interpolação; </pre>"
   ]
  },
  {
   "cell_type": "code",
   "execution_count": 43,
   "id": "d53b2b72-4514-4531-a2ac-057373859c4e",
   "metadata": {
    "slideshow": {
     "slide_type": "-"
    },
    "tags": []
   },
   "outputs": [
    {
     "name": "stderr",
     "output_type": "stream",
     "text": [
      "/var/folders/3k/5x2j3hkx6x3f717k3344mgpm0000gn/T/ipykernel_10148/2686095795.py:1: FutureWarning: DataFrame.fillna with 'method' is deprecated and will raise in a future version. Use obj.ffill() or obj.bfill() instead.\n",
      "  df.fillna(method=\"ffill\")\n"
     ]
    },
    {
     "data": {
      "text/html": [
       "<div>\n",
       "<style scoped>\n",
       "    .dataframe tbody tr th:only-of-type {\n",
       "        vertical-align: middle;\n",
       "    }\n",
       "\n",
       "    .dataframe tbody tr th {\n",
       "        vertical-align: top;\n",
       "    }\n",
       "\n",
       "    .dataframe thead th {\n",
       "        text-align: right;\n",
       "    }\n",
       "</style>\n",
       "<table border=\"1\" class=\"dataframe\">\n",
       "  <thead>\n",
       "    <tr style=\"text-align: right;\">\n",
       "      <th></th>\n",
       "      <th>Servidores</th>\n",
       "      <th>Folha de Pagamento</th>\n",
       "      <th>Valor Arrecadado</th>\n",
       "      <th>Despesa</th>\n",
       "    </tr>\n",
       "  </thead>\n",
       "  <tbody>\n",
       "    <tr>\n",
       "      <th>Educacao</th>\n",
       "      <td>0.0</td>\n",
       "      <td>NaN</td>\n",
       "      <td>NaN</td>\n",
       "      <td>0.0</td>\n",
       "    </tr>\n",
       "    <tr>\n",
       "      <th>Saude</th>\n",
       "      <td>44762.0</td>\n",
       "      <td>4015.0</td>\n",
       "      <td>2430.0</td>\n",
       "      <td>143251.0</td>\n",
       "    </tr>\n",
       "    <tr>\n",
       "      <th>Fazenda</th>\n",
       "      <td>44762.0</td>\n",
       "      <td>4015.0</td>\n",
       "      <td>2430.0</td>\n",
       "      <td>143251.0</td>\n",
       "    </tr>\n",
       "    <tr>\n",
       "      <th>Agricultura</th>\n",
       "      <td>44762.0</td>\n",
       "      <td>2741.0</td>\n",
       "      <td>6128.0</td>\n",
       "      <td>13663.0</td>\n",
       "    </tr>\n",
       "  </tbody>\n",
       "</table>\n",
       "</div>"
      ],
      "text/plain": [
       "             Servidores  Folha de Pagamento  Valor Arrecadado   Despesa\n",
       "Educacao            0.0                 NaN               NaN       0.0\n",
       "Saude           44762.0              4015.0            2430.0  143251.0\n",
       "Fazenda         44762.0              4015.0            2430.0  143251.0\n",
       "Agricultura     44762.0              2741.0            6128.0   13663.0"
      ]
     },
     "execution_count": 43,
     "metadata": {},
     "output_type": "execute_result"
    }
   ],
   "source": [
    "df.fillna(method=\"ffill\")"
   ]
  },
  {
   "cell_type": "markdown",
   "id": "cbf1b944-e87f-40e3-aa46-1870c448759f",
   "metadata": {
    "slideshow": {
     "slide_type": "subslide"
    }
   },
   "source": [
    "<pre>ou imputando dado por alguma medida de centralidade estatística, <i>e.g.</i> média.</pre>"
   ]
  },
  {
   "cell_type": "code",
   "execution_count": 44,
   "id": "317bf8e1-6eb5-415d-96a9-e630da9b3626",
   "metadata": {
    "slideshow": {
     "slide_type": "-"
    },
    "tags": []
   },
   "outputs": [
    {
     "data": {
      "text/html": [
       "<div>\n",
       "<style scoped>\n",
       "    .dataframe tbody tr th:only-of-type {\n",
       "        vertical-align: middle;\n",
       "    }\n",
       "\n",
       "    .dataframe tbody tr th {\n",
       "        vertical-align: top;\n",
       "    }\n",
       "\n",
       "    .dataframe thead th {\n",
       "        text-align: right;\n",
       "    }\n",
       "</style>\n",
       "<table border=\"1\" class=\"dataframe\">\n",
       "  <thead>\n",
       "    <tr style=\"text-align: right;\">\n",
       "      <th></th>\n",
       "      <th>Servidores</th>\n",
       "      <th>Folha de Pagamento</th>\n",
       "      <th>Valor Arrecadado</th>\n",
       "      <th>Despesa</th>\n",
       "    </tr>\n",
       "  </thead>\n",
       "  <tbody>\n",
       "    <tr>\n",
       "      <th>Educacao</th>\n",
       "      <td>0.0</td>\n",
       "      <td>3378.0</td>\n",
       "      <td>4279.0</td>\n",
       "      <td>0.000000</td>\n",
       "    </tr>\n",
       "    <tr>\n",
       "      <th>Saude</th>\n",
       "      <td>44762.0</td>\n",
       "      <td>4015.0</td>\n",
       "      <td>2430.0</td>\n",
       "      <td>143251.000000</td>\n",
       "    </tr>\n",
       "    <tr>\n",
       "      <th>Fazenda</th>\n",
       "      <td>22381.0</td>\n",
       "      <td>3378.0</td>\n",
       "      <td>4279.0</td>\n",
       "      <td>52304.666667</td>\n",
       "    </tr>\n",
       "    <tr>\n",
       "      <th>Agricultura</th>\n",
       "      <td>22381.0</td>\n",
       "      <td>2741.0</td>\n",
       "      <td>6128.0</td>\n",
       "      <td>13663.000000</td>\n",
       "    </tr>\n",
       "  </tbody>\n",
       "</table>\n",
       "</div>"
      ],
      "text/plain": [
       "             Servidores  Folha de Pagamento  Valor Arrecadado        Despesa\n",
       "Educacao            0.0              3378.0            4279.0       0.000000\n",
       "Saude           44762.0              4015.0            2430.0  143251.000000\n",
       "Fazenda         22381.0              3378.0            4279.0   52304.666667\n",
       "Agricultura     22381.0              2741.0            6128.0   13663.000000"
      ]
     },
     "execution_count": 44,
     "metadata": {},
     "output_type": "execute_result"
    }
   ],
   "source": [
    "df.fillna(df.mean())"
   ]
  },
  {
   "cell_type": "markdown",
   "id": "8c3a7b68-ccfd-4444-b109-fc3ee3fd82b0",
   "metadata": {
    "slideshow": {
     "slide_type": "subslide"
    }
   },
   "source": [
    "##### Quadro-resumo dos argumentos da função <i>fillna</i>"
   ]
  },
  {
   "cell_type": "markdown",
   "id": "1e43538f-843b-41ed-83b2-9f749d5e3840",
   "metadata": {
    "slideshow": {
     "slide_type": "-"
    },
    "tags": []
   },
   "source": [
    "<table>\n",
    "    <tr><th>Argumento</th><th>Descrição</th></tr>\n",
    "    <tr><td>value</td><td>Valor escalar ou um objeto do tipo dicionário a ser usado para preencher valores ausentes</td></tr>\n",
    "    <tr><td>method</td><td>Interpolação; por padrão, será 'ffill' se a função for chamada sem outros argumentos</td></tr>\n",
    "    <tr><td>axis</td><td>Eixo a ser preenchido; o default é axis=0</td></tr>\n",
    "    <tr><td>inplace</td><td>Modifica o objeto que faz a chamada, sem gerar uma cópia</td></tr>\n",
    "    <tr><td>limit</td><td>Para preenchimento para a frente (forward) e para trás (backward), é o número máximo de valores consecutivos a serem preenchidos</td></tr>\n",
    "</table>"
   ]
  },
  {
   "cell_type": "markdown",
   "id": "91dd84d8-1ee6-4ef7-8f19-7c54fd3aa756",
   "metadata": {
    "slideshow": {
     "slide_type": "subslide"
    }
   },
   "source": [
    "#### Eliminando Dados Duplicados"
   ]
  },
  {
   "cell_type": "markdown",
   "id": "fc1e5efa-a9bb-4d87-a0b3-81d6d74a1356",
   "metadata": {
    "slideshow": {
     "slide_type": "-"
    }
   },
   "source": [
    "<pre>Alguns dados podem estar duplicados.</pre>"
   ]
  },
  {
   "cell_type": "code",
   "execution_count": 45,
   "id": "3f958da8-2b6e-4ae0-8152-06b73a53600d",
   "metadata": {
    "slideshow": {
     "slide_type": "-"
    },
    "tags": []
   },
   "outputs": [
    {
     "data": {
      "text/html": [
       "<div>\n",
       "<style scoped>\n",
       "    .dataframe tbody tr th:only-of-type {\n",
       "        vertical-align: middle;\n",
       "    }\n",
       "\n",
       "    .dataframe tbody tr th {\n",
       "        vertical-align: top;\n",
       "    }\n",
       "\n",
       "    .dataframe thead th {\n",
       "        text-align: right;\n",
       "    }\n",
       "</style>\n",
       "<table border=\"1\" class=\"dataframe\">\n",
       "  <thead>\n",
       "    <tr style=\"text-align: right;\">\n",
       "      <th></th>\n",
       "      <th>k1</th>\n",
       "      <th>k2</th>\n",
       "    </tr>\n",
       "  </thead>\n",
       "  <tbody>\n",
       "    <tr>\n",
       "      <th>0</th>\n",
       "      <td>one</td>\n",
       "      <td>1</td>\n",
       "    </tr>\n",
       "    <tr>\n",
       "      <th>1</th>\n",
       "      <td>two</td>\n",
       "      <td>1</td>\n",
       "    </tr>\n",
       "    <tr>\n",
       "      <th>2</th>\n",
       "      <td>one</td>\n",
       "      <td>2</td>\n",
       "    </tr>\n",
       "    <tr>\n",
       "      <th>3</th>\n",
       "      <td>two</td>\n",
       "      <td>3</td>\n",
       "    </tr>\n",
       "    <tr>\n",
       "      <th>4</th>\n",
       "      <td>one</td>\n",
       "      <td>3</td>\n",
       "    </tr>\n",
       "    <tr>\n",
       "      <th>5</th>\n",
       "      <td>two</td>\n",
       "      <td>4</td>\n",
       "    </tr>\n",
       "    <tr>\n",
       "      <th>6</th>\n",
       "      <td>two</td>\n",
       "      <td>4</td>\n",
       "    </tr>\n",
       "  </tbody>\n",
       "</table>\n",
       "</div>"
      ],
      "text/plain": [
       "    k1  k2\n",
       "0  one   1\n",
       "1  two   1\n",
       "2  one   2\n",
       "3  two   3\n",
       "4  one   3\n",
       "5  two   4\n",
       "6  two   4"
      ]
     },
     "execution_count": 45,
     "metadata": {},
     "output_type": "execute_result"
    }
   ],
   "source": [
    "data = pd.DataFrame({\"k1\": [\"one\", \"two\"] * 3 + [\"two\"], \n",
    "                     \"k2\": [1, 1, 2, 3, 3, 4, 4]})\n",
    "data"
   ]
  },
  {
   "cell_type": "markdown",
   "id": "e8c4ea08-3ea9-40c1-9e1b-57747a644db0",
   "metadata": {
    "slideshow": {
     "slide_type": "-"
    }
   },
   "source": [
    "<pre>Você pode identificar os valores duplicados (considerando toda a linha)...</pre>"
   ]
  },
  {
   "cell_type": "code",
   "execution_count": 43,
   "id": "6f4218d6-c6a5-4ad3-bcf5-f1dde7d1b319",
   "metadata": {
    "slideshow": {
     "slide_type": "-"
    },
    "tags": []
   },
   "outputs": [
    {
     "data": {
      "text/plain": [
       "0    False\n",
       "1    False\n",
       "2    False\n",
       "3    False\n",
       "4    False\n",
       "5    False\n",
       "6     True\n",
       "dtype: bool"
      ]
     },
     "execution_count": 43,
     "metadata": {},
     "output_type": "execute_result"
    }
   ],
   "source": [
    "data.duplicated()"
   ]
  },
  {
   "cell_type": "markdown",
   "id": "3bc8c106-2564-4510-bce5-7f59c163c664",
   "metadata": {
    "slideshow": {
     "slide_type": "subslide"
    }
   },
   "source": [
    "<pre>... e descartar as linhas repetidas...<//pre>"
   ]
  },
  {
   "cell_type": "code",
   "execution_count": 44,
   "id": "d5e5fa64-512b-4786-bd5a-88fce4ee782c",
   "metadata": {
    "slideshow": {
     "slide_type": "-"
    },
    "tags": []
   },
   "outputs": [
    {
     "data": {
      "text/html": [
       "<div>\n",
       "<style scoped>\n",
       "    .dataframe tbody tr th:only-of-type {\n",
       "        vertical-align: middle;\n",
       "    }\n",
       "\n",
       "    .dataframe tbody tr th {\n",
       "        vertical-align: top;\n",
       "    }\n",
       "\n",
       "    .dataframe thead th {\n",
       "        text-align: right;\n",
       "    }\n",
       "</style>\n",
       "<table border=\"1\" class=\"dataframe\">\n",
       "  <thead>\n",
       "    <tr style=\"text-align: right;\">\n",
       "      <th></th>\n",
       "      <th>k1</th>\n",
       "      <th>k2</th>\n",
       "    </tr>\n",
       "  </thead>\n",
       "  <tbody>\n",
       "    <tr>\n",
       "      <th>0</th>\n",
       "      <td>one</td>\n",
       "      <td>1</td>\n",
       "    </tr>\n",
       "    <tr>\n",
       "      <th>1</th>\n",
       "      <td>two</td>\n",
       "      <td>1</td>\n",
       "    </tr>\n",
       "    <tr>\n",
       "      <th>2</th>\n",
       "      <td>one</td>\n",
       "      <td>2</td>\n",
       "    </tr>\n",
       "    <tr>\n",
       "      <th>3</th>\n",
       "      <td>two</td>\n",
       "      <td>3</td>\n",
       "    </tr>\n",
       "    <tr>\n",
       "      <th>4</th>\n",
       "      <td>one</td>\n",
       "      <td>3</td>\n",
       "    </tr>\n",
       "    <tr>\n",
       "      <th>5</th>\n",
       "      <td>two</td>\n",
       "      <td>4</td>\n",
       "    </tr>\n",
       "  </tbody>\n",
       "</table>\n",
       "</div>"
      ],
      "text/plain": [
       "    k1  k2\n",
       "0  one   1\n",
       "1  two   1\n",
       "2  one   2\n",
       "3  two   3\n",
       "4  one   3\n",
       "5  two   4"
      ]
     },
     "execution_count": 44,
     "metadata": {},
     "output_type": "execute_result"
    }
   ],
   "source": [
    "data.drop_duplicates()"
   ]
  },
  {
   "cell_type": "markdown",
   "id": "e00271ea-3df1-4471-bf05-e2d0b3cf3cc4",
   "metadata": {
    "slideshow": {
     "slide_type": "-"
    }
   },
   "source": [
    "<pre>... ou descartar as linhas repetidas considerando parte das colunas.</pre>"
   ]
  },
  {
   "cell_type": "markdown",
   "id": "ffb669cb-91d1-4483-bf7c-ad1bbc623141",
   "metadata": {
    "slideshow": {
     "slide_type": "-"
    }
   },
   "source": [
    "👉 dica: o parâmetro <i>keep</i> pode ser usado para decidir qual ocorrência de linha duplicada será mantida"
   ]
  },
  {
   "cell_type": "code",
   "execution_count": 45,
   "id": "54617049-f412-47fb-819d-4a0340c41b0b",
   "metadata": {
    "slideshow": {
     "slide_type": "-"
    },
    "tags": []
   },
   "outputs": [
    {
     "data": {
      "text/html": [
       "<div>\n",
       "<style scoped>\n",
       "    .dataframe tbody tr th:only-of-type {\n",
       "        vertical-align: middle;\n",
       "    }\n",
       "\n",
       "    .dataframe tbody tr th {\n",
       "        vertical-align: top;\n",
       "    }\n",
       "\n",
       "    .dataframe thead th {\n",
       "        text-align: right;\n",
       "    }\n",
       "</style>\n",
       "<table border=\"1\" class=\"dataframe\">\n",
       "  <thead>\n",
       "    <tr style=\"text-align: right;\">\n",
       "      <th></th>\n",
       "      <th>k1</th>\n",
       "      <th>k2</th>\n",
       "    </tr>\n",
       "  </thead>\n",
       "  <tbody>\n",
       "    <tr>\n",
       "      <th>0</th>\n",
       "      <td>one</td>\n",
       "      <td>1</td>\n",
       "    </tr>\n",
       "    <tr>\n",
       "      <th>1</th>\n",
       "      <td>two</td>\n",
       "      <td>1</td>\n",
       "    </tr>\n",
       "  </tbody>\n",
       "</table>\n",
       "</div>"
      ],
      "text/plain": [
       "    k1  k2\n",
       "0  one   1\n",
       "1  two   1"
      ]
     },
     "execution_count": 45,
     "metadata": {},
     "output_type": "execute_result"
    }
   ],
   "source": [
    "data.drop_duplicates(subset=[\"k1\"], keep='first') #tente keep='last'"
   ]
  },
  {
   "cell_type": "markdown",
   "id": "77a9bd04",
   "metadata": {
    "slideshow": {
     "slide_type": "slide"
    }
   },
   "source": [
    "## Outliers"
   ]
  },
  {
   "cell_type": "markdown",
   "id": "81d1826b",
   "metadata": {
    "slideshow": {
     "slide_type": "-"
    }
   },
   "source": [
    "<pre>Outliers (valores discrepantes) são dados que se desviam do restante dos dados.</pre>"
   ]
  },
  {
   "cell_type": "markdown",
   "id": "333bfffe",
   "metadata": {
    "slideshow": {
     "slide_type": "-"
    }
   },
   "source": [
    "Outliers podem ser decorrentes de:\n"
   ]
  },
  {
   "cell_type": "markdown",
   "id": "c8e0e476",
   "metadata": {
    "slideshow": {
     "slide_type": "-"
    }
   },
   "source": [
    "   <ul>\n",
    "    <ul>\n",
    "    <li>❌ Erros de entrada de dados ou de medida</li>\n",
    "    <li>🆕 Dados fora da curva (Ex: salário do jogador de futebol)\n",
    " </li>\n",
    "    <li>🧑🏻‍🔬 Manipulação de dados e erros de pré-processamento </li>\n",
    "   </ul>"
   ]
  },
  {
   "cell_type": "markdown",
   "id": "41070c68",
   "metadata": {
    "slideshow": {
     "slide_type": "-"
    }
   },
   "source": [
    "👉 importante: outliers podem afetar a distribuição do conjunto de dados, afetar medidas de dispersão e prejudicar a análise de dados"
   ]
  },
  {
   "cell_type": "markdown",
   "id": "fe90b7e3",
   "metadata": {
    "slideshow": {
     "slide_type": "subslide"
    }
   },
   "source": [
    "### Detectando Outliers - Boxplot"
   ]
  },
  {
   "cell_type": "markdown",
   "id": "e475cccf",
   "metadata": {
    "slideshow": {
     "slide_type": "-"
    }
   },
   "source": [
    "<pre>Podemos usar boxplots para visualizar valores discrepantes em um conjunto de dados.</pre>"
   ]
  },
  {
   "cell_type": "code",
   "execution_count": 46,
   "id": "360be7a4",
   "metadata": {
    "slideshow": {
     "slide_type": "-"
    }
   },
   "outputs": [
    {
     "data": {
      "text/html": [
       "<div>\n",
       "<style scoped>\n",
       "    .dataframe tbody tr th:only-of-type {\n",
       "        vertical-align: middle;\n",
       "    }\n",
       "\n",
       "    .dataframe tbody tr th {\n",
       "        vertical-align: top;\n",
       "    }\n",
       "\n",
       "    .dataframe thead th {\n",
       "        text-align: right;\n",
       "    }\n",
       "</style>\n",
       "<table border=\"1\" class=\"dataframe\">\n",
       "  <thead>\n",
       "    <tr style=\"text-align: right;\">\n",
       "      <th></th>\n",
       "      <th>Servidores</th>\n",
       "      <th>Folha de Pagamento</th>\n",
       "      <th>Valor Arrecadado</th>\n",
       "      <th>Despesa</th>\n",
       "    </tr>\n",
       "  </thead>\n",
       "  <tbody>\n",
       "    <tr>\n",
       "      <th>Educacao</th>\n",
       "      <td>0.0</td>\n",
       "      <td>NaN</td>\n",
       "      <td>NaN</td>\n",
       "      <td>0.0</td>\n",
       "    </tr>\n",
       "    <tr>\n",
       "      <th>Saude</th>\n",
       "      <td>44762.0</td>\n",
       "      <td>4015.0</td>\n",
       "      <td>2430.0</td>\n",
       "      <td>143251.0</td>\n",
       "    </tr>\n",
       "    <tr>\n",
       "      <th>Fazenda</th>\n",
       "      <td>NaN</td>\n",
       "      <td>NaN</td>\n",
       "      <td>NaN</td>\n",
       "      <td>NaN</td>\n",
       "    </tr>\n",
       "    <tr>\n",
       "      <th>Agricultura</th>\n",
       "      <td>NaN</td>\n",
       "      <td>2741.0</td>\n",
       "      <td>6128.0</td>\n",
       "      <td>13663.0</td>\n",
       "    </tr>\n",
       "  </tbody>\n",
       "</table>\n",
       "</div>"
      ],
      "text/plain": [
       "             Servidores  Folha de Pagamento  Valor Arrecadado   Despesa\n",
       "Educacao            0.0                 NaN               NaN       0.0\n",
       "Saude           44762.0              4015.0            2430.0  143251.0\n",
       "Fazenda             NaN                 NaN               NaN       NaN\n",
       "Agricultura         NaN              2741.0            6128.0   13663.0"
      ]
     },
     "execution_count": 46,
     "metadata": {},
     "output_type": "execute_result"
    }
   ],
   "source": [
    "# Retomando o dataframe de dados dos orgãos superiores\n",
    "# https://portaldatransparencia.gov.br/orgaos-superiores?ano=2022\n",
    "\n",
    "df"
   ]
  },
  {
   "cell_type": "code",
   "execution_count": 47,
   "id": "3ae6a9bb",
   "metadata": {
    "slideshow": {
     "slide_type": "subslide"
    }
   },
   "outputs": [
    {
     "data": {
      "text/html": [
       "<div>\n",
       "<style scoped>\n",
       "    .dataframe tbody tr th:only-of-type {\n",
       "        vertical-align: middle;\n",
       "    }\n",
       "\n",
       "    .dataframe tbody tr th {\n",
       "        vertical-align: top;\n",
       "    }\n",
       "\n",
       "    .dataframe thead th {\n",
       "        text-align: right;\n",
       "    }\n",
       "</style>\n",
       "<table border=\"1\" class=\"dataframe\">\n",
       "  <thead>\n",
       "    <tr style=\"text-align: right;\">\n",
       "      <th></th>\n",
       "      <th>Servidores</th>\n",
       "      <th>Folha de Pagamento</th>\n",
       "      <th>Valor Arrecadado</th>\n",
       "      <th>Despesa</th>\n",
       "    </tr>\n",
       "  </thead>\n",
       "  <tbody>\n",
       "    <tr>\n",
       "      <th>Educacao</th>\n",
       "      <td>374209</td>\n",
       "      <td>29905000000</td>\n",
       "      <td>34622</td>\n",
       "      <td>139593</td>\n",
       "    </tr>\n",
       "    <tr>\n",
       "      <th>Saude</th>\n",
       "      <td>44762</td>\n",
       "      <td>4015</td>\n",
       "      <td>2430</td>\n",
       "      <td>143251</td>\n",
       "    </tr>\n",
       "    <tr>\n",
       "      <th>Fazenda</th>\n",
       "      <td>50820</td>\n",
       "      <td>3002</td>\n",
       "      <td>3434537</td>\n",
       "      <td>2308118</td>\n",
       "    </tr>\n",
       "    <tr>\n",
       "      <th>Agricultura</th>\n",
       "      <td>15275</td>\n",
       "      <td>2741</td>\n",
       "      <td>6128</td>\n",
       "      <td>13663</td>\n",
       "    </tr>\n",
       "  </tbody>\n",
       "</table>\n",
       "</div>"
      ],
      "text/plain": [
       "             Servidores  Folha de Pagamento  Valor Arrecadado  Despesa\n",
       "Educacao         374209         29905000000             34622   139593\n",
       "Saude             44762                4015              2430   143251\n",
       "Fazenda           50820                3002           3434537  2308118\n",
       "Agricultura       15275                2741              6128    13663"
      ]
     },
     "execution_count": 47,
     "metadata": {},
     "output_type": "execute_result"
    }
   ],
   "source": [
    "# Vamos inserir alguns outliers\n",
    "\n",
    "df.loc['Educacao'] = [374_209, 29_905_000_000, 34_622, 139_593]\n",
    "df.loc['Fazenda'] = [50_820, 3_002, 3_434_537, 2_308_118]\n",
    "df.loc['Agricultura', 'Servidores'] = 15_275\n",
    "df = df.astype('int64')\n",
    "df"
   ]
  },
  {
   "cell_type": "code",
   "execution_count": 48,
   "id": "e6403cdd-f998-410e-a8c4-80cd91c23e42",
   "metadata": {
    "slideshow": {
     "slide_type": "subslide"
    }
   },
   "outputs": [
    {
     "data": {
      "image/png": "[encoded data removed]",
      "text/plain": [
       "<Figure size 640x480 with 1 Axes>"
      ]
     },
     "metadata": {},
     "output_type": "display_data"
    }
   ],
   "source": [
    "df[['Folha de Pagamento']].boxplot();"
   ]
  },
  {
   "cell_type": "code",
   "execution_count": 50,
   "id": "8f3f0859",
   "metadata": {
    "slideshow": {
     "slide_type": "-"
    }
   },
   "outputs": [
    {
     "data": {
      "text/plain": [
       "29905000000"
      ]
     },
     "execution_count": 50,
     "metadata": {},
     "output_type": "execute_result"
    }
   ],
   "source": [
    "df['Folha de Pagamento'].max() "
   ]
  },
  {
   "cell_type": "markdown",
   "id": "bec591fd-3426-4c57-b9ad-a48917307d3b",
   "metadata": {
    "slideshow": {
     "slide_type": "subslide"
    },
    "tags": []
   },
   "source": [
    "#### Detectando e Filtrando Valores Discrepantes (<i>Outliers</i>)"
   ]
  },
  {
   "cell_type": "markdown",
   "id": "cf716edc-e8ea-4921-af10-edf56205faf0",
   "metadata": {
    "slideshow": {
     "slide_type": "-"
    }
   },
   "source": [
    "<pre>Detectar valores discrepantes é uma operação vetorial</pre>"
   ]
  },
  {
   "cell_type": "code",
   "execution_count": 51,
   "id": "61876b3a-bccf-4362-8daa-804c8d37c6e8",
   "metadata": {
    "slideshow": {
     "slide_type": "-"
    },
    "tags": []
   },
   "outputs": [
    {
     "data": {
      "text/html": [
       "<div>\n",
       "<style scoped>\n",
       "    .dataframe tbody tr th:only-of-type {\n",
       "        vertical-align: middle;\n",
       "    }\n",
       "\n",
       "    .dataframe tbody tr th {\n",
       "        vertical-align: top;\n",
       "    }\n",
       "\n",
       "    .dataframe thead th {\n",
       "        text-align: right;\n",
       "    }\n",
       "</style>\n",
       "<table border=\"1\" class=\"dataframe\">\n",
       "  <thead>\n",
       "    <tr style=\"text-align: right;\">\n",
       "      <th></th>\n",
       "      <th>0</th>\n",
       "      <th>1</th>\n",
       "      <th>2</th>\n",
       "      <th>3</th>\n",
       "    </tr>\n",
       "  </thead>\n",
       "  <tbody>\n",
       "    <tr>\n",
       "      <th>count</th>\n",
       "      <td>1000.000000</td>\n",
       "      <td>1000.000000</td>\n",
       "      <td>1000.000000</td>\n",
       "      <td>1000.000000</td>\n",
       "    </tr>\n",
       "    <tr>\n",
       "      <th>mean</th>\n",
       "      <td>-0.014231</td>\n",
       "      <td>0.003458</td>\n",
       "      <td>-0.002064</td>\n",
       "      <td>-0.004140</td>\n",
       "    </tr>\n",
       "    <tr>\n",
       "      <th>std</th>\n",
       "      <td>1.011130</td>\n",
       "      <td>1.009943</td>\n",
       "      <td>0.995083</td>\n",
       "      <td>1.018989</td>\n",
       "    </tr>\n",
       "    <tr>\n",
       "      <th>min</th>\n",
       "      <td>-3.227733</td>\n",
       "      <td>-2.902130</td>\n",
       "      <td>-4.155693</td>\n",
       "      <td>-3.299451</td>\n",
       "    </tr>\n",
       "    <tr>\n",
       "      <th>25%</th>\n",
       "      <td>-0.711934</td>\n",
       "      <td>-0.698663</td>\n",
       "      <td>-0.673368</td>\n",
       "      <td>-0.676823</td>\n",
       "    </tr>\n",
       "    <tr>\n",
       "      <th>50%</th>\n",
       "      <td>-0.015396</td>\n",
       "      <td>0.001395</td>\n",
       "      <td>-0.006214</td>\n",
       "      <td>-0.045461</td>\n",
       "    </tr>\n",
       "    <tr>\n",
       "      <th>75%</th>\n",
       "      <td>0.671789</td>\n",
       "      <td>0.680058</td>\n",
       "      <td>0.667618</td>\n",
       "      <td>0.696960</td>\n",
       "    </tr>\n",
       "    <tr>\n",
       "      <th>max</th>\n",
       "      <td>3.007495</td>\n",
       "      <td>2.908480</td>\n",
       "      <td>2.943735</td>\n",
       "      <td>3.491653</td>\n",
       "    </tr>\n",
       "  </tbody>\n",
       "</table>\n",
       "</div>"
      ],
      "text/plain": [
       "                 0            1            2            3\n",
       "count  1000.000000  1000.000000  1000.000000  1000.000000\n",
       "mean     -0.014231     0.003458    -0.002064    -0.004140\n",
       "std       1.011130     1.009943     0.995083     1.018989\n",
       "min      -3.227733    -2.902130    -4.155693    -3.299451\n",
       "25%      -0.711934    -0.698663    -0.673368    -0.676823\n",
       "50%      -0.015396     0.001395    -0.006214    -0.045461\n",
       "75%       0.671789     0.680058     0.667618     0.696960\n",
       "max       3.007495     2.908480     2.943735     3.491653"
      ]
     },
     "execution_count": 51,
     "metadata": {},
     "output_type": "execute_result"
    }
   ],
   "source": [
    "# DataFrame com 4 colunas com valores amostrados\n",
    "# a partir de uma distribuição normal padrão\n",
    "normal_data = pd.DataFrame(np.random.standard_normal((1000, 4))) \n",
    "normal_data.describe()"
   ]
  },
  {
   "cell_type": "code",
   "execution_count": 53,
   "id": "ea365a32-d914-40d7-8f72-c287dcf4ca92",
   "metadata": {
    "slideshow": {
     "slide_type": "subslide"
    },
    "tags": []
   },
   "outputs": [
    {
     "data": {
      "text/html": [
       "<div>\n",
       "<style scoped>\n",
       "    .dataframe tbody tr th:only-of-type {\n",
       "        vertical-align: middle;\n",
       "    }\n",
       "\n",
       "    .dataframe tbody tr th {\n",
       "        vertical-align: top;\n",
       "    }\n",
       "\n",
       "    .dataframe thead th {\n",
       "        text-align: right;\n",
       "    }\n",
       "</style>\n",
       "<table border=\"1\" class=\"dataframe\">\n",
       "  <thead>\n",
       "    <tr style=\"text-align: right;\">\n",
       "      <th></th>\n",
       "      <th>0</th>\n",
       "      <th>1</th>\n",
       "      <th>2</th>\n",
       "      <th>3</th>\n",
       "    </tr>\n",
       "  </thead>\n",
       "  <tbody>\n",
       "    <tr>\n",
       "      <th>30</th>\n",
       "      <td>-3.227733</td>\n",
       "      <td>0.354035</td>\n",
       "      <td>-0.043670</td>\n",
       "      <td>0.055673</td>\n",
       "    </tr>\n",
       "    <tr>\n",
       "      <th>114</th>\n",
       "      <td>-3.031185</td>\n",
       "      <td>-1.039535</td>\n",
       "      <td>1.336338</td>\n",
       "      <td>-1.070168</td>\n",
       "    </tr>\n",
       "    <tr>\n",
       "      <th>122</th>\n",
       "      <td>-0.949251</td>\n",
       "      <td>-1.042370</td>\n",
       "      <td>-0.807583</td>\n",
       "      <td>3.491653</td>\n",
       "    </tr>\n",
       "    <tr>\n",
       "      <th>140</th>\n",
       "      <td>-0.701577</td>\n",
       "      <td>-0.177537</td>\n",
       "      <td>1.654535</td>\n",
       "      <td>-3.132084</td>\n",
       "    </tr>\n",
       "    <tr>\n",
       "      <th>223</th>\n",
       "      <td>0.591401</td>\n",
       "      <td>1.038632</td>\n",
       "      <td>-3.089560</td>\n",
       "      <td>0.365002</td>\n",
       "    </tr>\n",
       "    <tr>\n",
       "      <th>291</th>\n",
       "      <td>-3.045477</td>\n",
       "      <td>0.328600</td>\n",
       "      <td>0.963027</td>\n",
       "      <td>1.070331</td>\n",
       "    </tr>\n",
       "    <tr>\n",
       "      <th>495</th>\n",
       "      <td>-1.039046</td>\n",
       "      <td>1.169561</td>\n",
       "      <td>1.749309</td>\n",
       "      <td>-3.218256</td>\n",
       "    </tr>\n",
       "    <tr>\n",
       "      <th>536</th>\n",
       "      <td>-0.016321</td>\n",
       "      <td>0.972970</td>\n",
       "      <td>-0.082395</td>\n",
       "      <td>-3.299451</td>\n",
       "    </tr>\n",
       "    <tr>\n",
       "      <th>647</th>\n",
       "      <td>-1.757834</td>\n",
       "      <td>-1.626881</td>\n",
       "      <td>-4.155693</td>\n",
       "      <td>-0.878936</td>\n",
       "    </tr>\n",
       "    <tr>\n",
       "      <th>663</th>\n",
       "      <td>-1.014018</td>\n",
       "      <td>-0.675109</td>\n",
       "      <td>-0.417123</td>\n",
       "      <td>3.234995</td>\n",
       "    </tr>\n",
       "    <tr>\n",
       "      <th>699</th>\n",
       "      <td>-0.857968</td>\n",
       "      <td>-1.394497</td>\n",
       "      <td>-3.700533</td>\n",
       "      <td>-0.868416</td>\n",
       "    </tr>\n",
       "    <tr>\n",
       "      <th>700</th>\n",
       "      <td>3.007495</td>\n",
       "      <td>-0.418611</td>\n",
       "      <td>-0.204212</td>\n",
       "      <td>-0.261709</td>\n",
       "    </tr>\n",
       "    <tr>\n",
       "      <th>967</th>\n",
       "      <td>-2.234106</td>\n",
       "      <td>-0.353461</td>\n",
       "      <td>0.391098</td>\n",
       "      <td>-3.206274</td>\n",
       "    </tr>\n",
       "  </tbody>\n",
       "</table>\n",
       "</div>"
      ],
      "text/plain": [
       "            0         1         2         3\n",
       "30  -3.227733  0.354035 -0.043670  0.055673\n",
       "114 -3.031185 -1.039535  1.336338 -1.070168\n",
       "122 -0.949251 -1.042370 -0.807583  3.491653\n",
       "140 -0.701577 -0.177537  1.654535 -3.132084\n",
       "223  0.591401  1.038632 -3.089560  0.365002\n",
       "291 -3.045477  0.328600  0.963027  1.070331\n",
       "495 -1.039046  1.169561  1.749309 -3.218256\n",
       "536 -0.016321  0.972970 -0.082395 -3.299451\n",
       "647 -1.757834 -1.626881 -4.155693 -0.878936\n",
       "663 -1.014018 -0.675109 -0.417123  3.234995\n",
       "699 -0.857968 -1.394497 -3.700533 -0.868416\n",
       "700  3.007495 -0.418611 -0.204212 -0.261709\n",
       "967 -2.234106 -0.353461  0.391098 -3.206274"
      ]
     },
     "execution_count": 53,
     "metadata": {},
     "output_type": "execute_result"
    }
   ],
   "source": [
    "# fato: 99% dos valores de uma \n",
    "#    distribuição normal padrão está entre -3 e 3.\n",
    "\n",
    "# vamos identificar todas as linhas que têm valores\n",
    "#    fora desse intervalo (e considerá-los nossos outliers)\n",
    "normal_data[(normal_data.abs() > 3).any(axis=\"columns\")]"
   ]
  },
  {
   "cell_type": "code",
   "execution_count": 51,
   "id": "a15c8cae-8773-4800-84b3-23257ba5b3bc",
   "metadata": {
    "slideshow": {
     "slide_type": "subslide"
    },
    "tags": []
   },
   "outputs": [],
   "source": [
    "# para os valores que estão fora do intervalo entre -3 e 3, \n",
    "# podemos modificá-los para o valor mais próximo do intervalo\n",
    "normal_data[normal_data.abs() > 3] = np.sign(normal_data) * 3"
   ]
  },
  {
   "cell_type": "code",
   "execution_count": 52,
   "id": "b111bc33-404c-4c83-ad14-7d2eb16d23d5",
   "metadata": {
    "slideshow": {
     "slide_type": "-"
    },
    "tags": []
   },
   "outputs": [
    {
     "data": {
      "text/html": [
       "<div>\n",
       "<style scoped>\n",
       "    .dataframe tbody tr th:only-of-type {\n",
       "        vertical-align: middle;\n",
       "    }\n",
       "\n",
       "    .dataframe tbody tr th {\n",
       "        vertical-align: top;\n",
       "    }\n",
       "\n",
       "    .dataframe thead th {\n",
       "        text-align: right;\n",
       "    }\n",
       "</style>\n",
       "<table border=\"1\" class=\"dataframe\">\n",
       "  <thead>\n",
       "    <tr style=\"text-align: right;\">\n",
       "      <th></th>\n",
       "      <th>0</th>\n",
       "      <th>1</th>\n",
       "      <th>2</th>\n",
       "      <th>3</th>\n",
       "    </tr>\n",
       "  </thead>\n",
       "  <tbody>\n",
       "    <tr>\n",
       "      <th>8</th>\n",
       "      <td>3.000000</td>\n",
       "      <td>-1.902412</td>\n",
       "      <td>-1.303853</td>\n",
       "      <td>0.562848</td>\n",
       "    </tr>\n",
       "    <tr>\n",
       "      <th>87</th>\n",
       "      <td>-0.186065</td>\n",
       "      <td>-1.315669</td>\n",
       "      <td>-1.416567</td>\n",
       "      <td>3.000000</td>\n",
       "    </tr>\n",
       "    <tr>\n",
       "      <th>95</th>\n",
       "      <td>3.000000</td>\n",
       "      <td>-2.538058</td>\n",
       "      <td>1.092340</td>\n",
       "      <td>-1.022015</td>\n",
       "    </tr>\n",
       "    <tr>\n",
       "      <th>227</th>\n",
       "      <td>3.000000</td>\n",
       "      <td>1.352343</td>\n",
       "      <td>-1.023091</td>\n",
       "      <td>-0.510337</td>\n",
       "    </tr>\n",
       "    <tr>\n",
       "      <th>263</th>\n",
       "      <td>0.711676</td>\n",
       "      <td>0.262585</td>\n",
       "      <td>-1.675502</td>\n",
       "      <td>3.000000</td>\n",
       "    </tr>\n",
       "    <tr>\n",
       "      <th>380</th>\n",
       "      <td>0.466709</td>\n",
       "      <td>-0.398783</td>\n",
       "      <td>1.804423</td>\n",
       "      <td>-3.000000</td>\n",
       "    </tr>\n",
       "    <tr>\n",
       "      <th>822</th>\n",
       "      <td>0.087511</td>\n",
       "      <td>3.000000</td>\n",
       "      <td>0.579510</td>\n",
       "      <td>-0.816864</td>\n",
       "    </tr>\n",
       "    <tr>\n",
       "      <th>899</th>\n",
       "      <td>-0.989561</td>\n",
       "      <td>3.000000</td>\n",
       "      <td>-0.740969</td>\n",
       "      <td>0.176396</td>\n",
       "    </tr>\n",
       "    <tr>\n",
       "      <th>924</th>\n",
       "      <td>-0.689304</td>\n",
       "      <td>-0.007101</td>\n",
       "      <td>-3.000000</td>\n",
       "      <td>-1.181661</td>\n",
       "    </tr>\n",
       "  </tbody>\n",
       "</table>\n",
       "</div>"
      ],
      "text/plain": [
       "            0         1         2         3\n",
       "8    3.000000 -1.902412 -1.303853  0.562848\n",
       "87  -0.186065 -1.315669 -1.416567  3.000000\n",
       "95   3.000000 -2.538058  1.092340 -1.022015\n",
       "227  3.000000  1.352343 -1.023091 -0.510337\n",
       "263  0.711676  0.262585 -1.675502  3.000000\n",
       "380  0.466709 -0.398783  1.804423 -3.000000\n",
       "822  0.087511  3.000000  0.579510 -0.816864\n",
       "899 -0.989561  3.000000 -0.740969  0.176396\n",
       "924 -0.689304 -0.007101 -3.000000 -1.181661"
      ]
     },
     "execution_count": 52,
     "metadata": {},
     "output_type": "execute_result"
    }
   ],
   "source": [
    "normal_data[(normal_data.abs() == 3).any(axis=\"columns\")]"
   ]
  },
  {
   "cell_type": "code",
   "execution_count": 53,
   "id": "befe7b3f-40f7-4532-96ca-2c3951a82e0f",
   "metadata": {
    "slideshow": {
     "slide_type": "subslide"
    },
    "tags": []
   },
   "outputs": [
    {
     "data": {
      "text/html": [
       "<div>\n",
       "<style scoped>\n",
       "    .dataframe tbody tr th:only-of-type {\n",
       "        vertical-align: middle;\n",
       "    }\n",
       "\n",
       "    .dataframe tbody tr th {\n",
       "        vertical-align: top;\n",
       "    }\n",
       "\n",
       "    .dataframe thead th {\n",
       "        text-align: right;\n",
       "    }\n",
       "</style>\n",
       "<table border=\"1\" class=\"dataframe\">\n",
       "  <thead>\n",
       "    <tr style=\"text-align: right;\">\n",
       "      <th></th>\n",
       "      <th>0</th>\n",
       "      <th>1</th>\n",
       "      <th>2</th>\n",
       "      <th>3</th>\n",
       "    </tr>\n",
       "  </thead>\n",
       "  <tbody>\n",
       "    <tr>\n",
       "      <th>count</th>\n",
       "      <td>1000.000000</td>\n",
       "      <td>1000.000000</td>\n",
       "      <td>1000.000000</td>\n",
       "      <td>1000.000000</td>\n",
       "    </tr>\n",
       "    <tr>\n",
       "      <th>mean</th>\n",
       "      <td>0.023851</td>\n",
       "      <td>-0.017970</td>\n",
       "      <td>0.038931</td>\n",
       "      <td>0.041197</td>\n",
       "    </tr>\n",
       "    <tr>\n",
       "      <th>std</th>\n",
       "      <td>0.958433</td>\n",
       "      <td>1.004925</td>\n",
       "      <td>0.982774</td>\n",
       "      <td>1.021587</td>\n",
       "    </tr>\n",
       "    <tr>\n",
       "      <th>min</th>\n",
       "      <td>-2.471032</td>\n",
       "      <td>-2.954173</td>\n",
       "      <td>-3.000000</td>\n",
       "      <td>-3.000000</td>\n",
       "    </tr>\n",
       "    <tr>\n",
       "      <th>25%</th>\n",
       "      <td>-0.593089</td>\n",
       "      <td>-0.712130</td>\n",
       "      <td>-0.600410</td>\n",
       "      <td>-0.653380</td>\n",
       "    </tr>\n",
       "    <tr>\n",
       "      <th>50%</th>\n",
       "      <td>0.007526</td>\n",
       "      <td>-0.005422</td>\n",
       "      <td>0.062574</td>\n",
       "      <td>0.029091</td>\n",
       "    </tr>\n",
       "    <tr>\n",
       "      <th>75%</th>\n",
       "      <td>0.675762</td>\n",
       "      <td>0.655206</td>\n",
       "      <td>0.704870</td>\n",
       "      <td>0.716440</td>\n",
       "    </tr>\n",
       "    <tr>\n",
       "      <th>max</th>\n",
       "      <td>3.000000</td>\n",
       "      <td>3.000000</td>\n",
       "      <td>2.895931</td>\n",
       "      <td>3.000000</td>\n",
       "    </tr>\n",
       "  </tbody>\n",
       "</table>\n",
       "</div>"
      ],
      "text/plain": [
       "                 0            1            2            3\n",
       "count  1000.000000  1000.000000  1000.000000  1000.000000\n",
       "mean      0.023851    -0.017970     0.038931     0.041197\n",
       "std       0.958433     1.004925     0.982774     1.021587\n",
       "min      -2.471032    -2.954173    -3.000000    -3.000000\n",
       "25%      -0.593089    -0.712130    -0.600410    -0.653380\n",
       "50%       0.007526    -0.005422     0.062574     0.029091\n",
       "75%       0.675762     0.655206     0.704870     0.716440\n",
       "max       3.000000     3.000000     2.895931     3.000000"
      ]
     },
     "execution_count": 53,
     "metadata": {},
     "output_type": "execute_result"
    }
   ],
   "source": [
    "normal_data.describe()"
   ]
  },
  {
   "cell_type": "markdown",
   "id": "201837c6-2fd0-4544-98cc-32223fe937c8",
   "metadata": {
    "slideshow": {
     "slide_type": "slide"
    }
   },
   "source": [
    "### Transformação 🛠️ dos Dados 🎲"
   ]
  },
  {
   "cell_type": "markdown",
   "id": "9680a5bd-dc58-4425-bbf4-6287ae4cca50",
   "metadata": {
    "slideshow": {
     "slide_type": "-"
    }
   },
   "source": [
    "<pre>Operações além de reorganização de dados e limpeza, vistos até agora, são importantes operações de preparação.</pre>"
   ]
  },
  {
   "cell_type": "markdown",
   "id": "57d73de1-a1e5-4f0a-b316-61fa15d32829",
   "metadata": {
    "slideshow": {
     "slide_type": "-"
    }
   },
   "source": [
    "#### Transformando Dados com Mapeamento (De/Para)"
   ]
  },
  {
   "cell_type": "markdown",
   "id": "83695962-4298-4699-bc96-6357be5e4caa",
   "metadata": {
    "slideshow": {
     "slide_type": "-"
    }
   },
   "source": [
    "<pre>Por alguma razão, você pode precisar mapear valores de um vetor, Series ou coluna de um DataFrame</pre>"
   ]
  },
  {
   "cell_type": "code",
   "execution_count": 54,
   "id": "81c12fc8-e9d0-4714-a170-ee8b152ecac0",
   "metadata": {
    "slideshow": {
     "slide_type": "-"
    },
    "tags": []
   },
   "outputs": [
    {
     "data": {
      "text/plain": [
       "0    one\n",
       "1    two\n",
       "2    one\n",
       "3    two\n",
       "4    one\n",
       "5    two\n",
       "6    two\n",
       "Name: k1, dtype: object"
      ]
     },
     "execution_count": 54,
     "metadata": {},
     "output_type": "execute_result"
    }
   ],
   "source": [
    "data['k1']"
   ]
  },
  {
   "cell_type": "markdown",
   "id": "eae9dfa4-576d-4add-9847-fa8e41f1cdcf",
   "metadata": {
    "slideshow": {
     "slide_type": "subslide"
    }
   },
   "source": [
    "<pre>Você pode fazer isso com o uso de um dicionário...</pre>"
   ]
  },
  {
   "cell_type": "code",
   "execution_count": 55,
   "id": "0bd3a8df-5c68-4d0d-8dc6-24ad868aa4cb",
   "metadata": {
    "slideshow": {
     "slide_type": "-"
    },
    "tags": []
   },
   "outputs": [
    {
     "data": {
      "text/plain": [
       "0      um\n",
       "1    dois\n",
       "2      um\n",
       "3    dois\n",
       "4      um\n",
       "5    dois\n",
       "6    dois\n",
       "Name: k1, dtype: object"
      ]
     },
     "execution_count": 55,
     "metadata": {},
     "output_type": "execute_result"
    }
   ],
   "source": [
    "en_to_pt = {'one': 'um', 'two': 'dois'}\n",
    "data['k1'].map(en_to_pt)"
   ]
  },
  {
   "cell_type": "markdown",
   "id": "f9aded6a-143d-47fe-bb3c-5197a6b1d4e2",
   "metadata": {
    "slideshow": {
     "slide_type": "-"
    }
   },
   "source": [
    "<pre>... ou de uma função.</pre>"
   ]
  },
  {
   "cell_type": "code",
   "execution_count": 56,
   "id": "0ce81ada-ce90-457d-8bab-9837a23dd44e",
   "metadata": {
    "slideshow": {
     "slide_type": "-"
    },
    "tags": []
   },
   "outputs": [
    {
     "data": {
      "text/plain": [
       "0      um\n",
       "1    dois\n",
       "2      um\n",
       "3    dois\n",
       "4      um\n",
       "5    dois\n",
       "6    dois\n",
       "Name: k1, dtype: object"
      ]
     },
     "execution_count": 56,
     "metadata": {},
     "output_type": "execute_result"
    }
   ],
   "source": [
    "data['k1'].map(lambda x: 'um' if x == 'one' else 'dois')"
   ]
  },
  {
   "cell_type": "code",
   "execution_count": 57,
   "id": "387edd78-2d0e-44d7-9e3e-b744ad8c7dbd",
   "metadata": {
    "slideshow": {
     "slide_type": "subslide"
    },
    "tags": []
   },
   "outputs": [
    {
     "data": {
      "text/plain": [
       "0    One\n",
       "1    Two\n",
       "2    One\n",
       "3    Two\n",
       "4    One\n",
       "5    Two\n",
       "6    Two\n",
       "Name: k1, dtype: object"
      ]
     },
     "execution_count": 57,
     "metadata": {},
     "output_type": "execute_result"
    }
   ],
   "source": [
    "data['k1'].map(str.capitalize)"
   ]
  },
  {
   "cell_type": "markdown",
   "id": "6c1494ef-55a1-4b6b-9d82-801d2bccb55e",
   "metadata": {
    "slideshow": {
     "slide_type": "subslide"
    },
    "tags": []
   },
   "source": [
    "#### Substituindo Valores"
   ]
  },
  {
   "cell_type": "markdown",
   "id": "deff194d-96e2-4668-a473-18ac9528468f",
   "metadata": {
    "slideshow": {
     "slide_type": "-"
    }
   },
   "source": [
    "<pre>Por alguma razão, você pode precisar substituir valores do DataFrame (operação mais ampla que o <i>map</i>)</pre>"
   ]
  },
  {
   "cell_type": "markdown",
   "id": "0a9d7b71-6233-424d-97cb-31e1ac6e3997",
   "metadata": {
    "slideshow": {
     "slide_type": "-"
    }
   },
   "source": [
    "<pre>Você pode fazer isso com o uso de um dicionário...</pre>"
   ]
  },
  {
   "cell_type": "code",
   "execution_count": 58,
   "id": "4c1cdcdc-a10f-4823-ab3a-fea359562b4d",
   "metadata": {
    "slideshow": {
     "slide_type": "-"
    },
    "tags": []
   },
   "outputs": [
    {
     "data": {
      "text/html": [
       "<div>\n",
       "<style scoped>\n",
       "    .dataframe tbody tr th:only-of-type {\n",
       "        vertical-align: middle;\n",
       "    }\n",
       "\n",
       "    .dataframe tbody tr th {\n",
       "        vertical-align: top;\n",
       "    }\n",
       "\n",
       "    .dataframe thead th {\n",
       "        text-align: right;\n",
       "    }\n",
       "</style>\n",
       "<table border=\"1\" class=\"dataframe\">\n",
       "  <thead>\n",
       "    <tr style=\"text-align: right;\">\n",
       "      <th></th>\n",
       "      <th>k1</th>\n",
       "      <th>k2</th>\n",
       "    </tr>\n",
       "  </thead>\n",
       "  <tbody>\n",
       "    <tr>\n",
       "      <th>0</th>\n",
       "      <td>um</td>\n",
       "      <td>1</td>\n",
       "    </tr>\n",
       "    <tr>\n",
       "      <th>1</th>\n",
       "      <td>dois</td>\n",
       "      <td>1</td>\n",
       "    </tr>\n",
       "    <tr>\n",
       "      <th>2</th>\n",
       "      <td>um</td>\n",
       "      <td>2</td>\n",
       "    </tr>\n",
       "    <tr>\n",
       "      <th>3</th>\n",
       "      <td>dois</td>\n",
       "      <td>3</td>\n",
       "    </tr>\n",
       "    <tr>\n",
       "      <th>4</th>\n",
       "      <td>um</td>\n",
       "      <td>3</td>\n",
       "    </tr>\n",
       "    <tr>\n",
       "      <th>5</th>\n",
       "      <td>dois</td>\n",
       "      <td>4</td>\n",
       "    </tr>\n",
       "    <tr>\n",
       "      <th>6</th>\n",
       "      <td>dois</td>\n",
       "      <td>4</td>\n",
       "    </tr>\n",
       "  </tbody>\n",
       "</table>\n",
       "</div>"
      ],
      "text/plain": [
       "     k1  k2\n",
       "0    um   1\n",
       "1  dois   1\n",
       "2    um   2\n",
       "3  dois   3\n",
       "4    um   3\n",
       "5  dois   4\n",
       "6  dois   4"
      ]
     },
     "execution_count": 58,
     "metadata": {},
     "output_type": "execute_result"
    }
   ],
   "source": [
    "data.replace(en_to_pt)"
   ]
  },
  {
   "cell_type": "markdown",
   "id": "9760d1bc-91be-462e-83a9-4fedb4d54c72",
   "metadata": {
    "slideshow": {
     "slide_type": "subslide"
    }
   },
   "source": [
    "<pre>... ou de duas listas de valores: uma com valores a serem substituídos e outra com seus respectivos substitutos.</pre>"
   ]
  },
  {
   "cell_type": "code",
   "execution_count": 59,
   "id": "f028ce4b-cfe5-479c-857f-7b6c7b392724",
   "metadata": {
    "slideshow": {
     "slide_type": "-"
    },
    "tags": []
   },
   "outputs": [
    {
     "data": {
      "text/html": [
       "<div>\n",
       "<style scoped>\n",
       "    .dataframe tbody tr th:only-of-type {\n",
       "        vertical-align: middle;\n",
       "    }\n",
       "\n",
       "    .dataframe tbody tr th {\n",
       "        vertical-align: top;\n",
       "    }\n",
       "\n",
       "    .dataframe thead th {\n",
       "        text-align: right;\n",
       "    }\n",
       "</style>\n",
       "<table border=\"1\" class=\"dataframe\">\n",
       "  <thead>\n",
       "    <tr style=\"text-align: right;\">\n",
       "      <th></th>\n",
       "      <th>k1</th>\n",
       "      <th>k2</th>\n",
       "    </tr>\n",
       "  </thead>\n",
       "  <tbody>\n",
       "    <tr>\n",
       "      <th>0</th>\n",
       "      <td>um</td>\n",
       "      <td>1</td>\n",
       "    </tr>\n",
       "    <tr>\n",
       "      <th>1</th>\n",
       "      <td>dois</td>\n",
       "      <td>1</td>\n",
       "    </tr>\n",
       "    <tr>\n",
       "      <th>2</th>\n",
       "      <td>um</td>\n",
       "      <td>2</td>\n",
       "    </tr>\n",
       "    <tr>\n",
       "      <th>3</th>\n",
       "      <td>dois</td>\n",
       "      <td>3</td>\n",
       "    </tr>\n",
       "    <tr>\n",
       "      <th>4</th>\n",
       "      <td>um</td>\n",
       "      <td>3</td>\n",
       "    </tr>\n",
       "    <tr>\n",
       "      <th>5</th>\n",
       "      <td>dois</td>\n",
       "      <td>4</td>\n",
       "    </tr>\n",
       "    <tr>\n",
       "      <th>6</th>\n",
       "      <td>dois</td>\n",
       "      <td>4</td>\n",
       "    </tr>\n",
       "  </tbody>\n",
       "</table>\n",
       "</div>"
      ],
      "text/plain": [
       "     k1  k2\n",
       "0    um   1\n",
       "1  dois   1\n",
       "2    um   2\n",
       "3  dois   3\n",
       "4    um   3\n",
       "5  dois   4\n",
       "6  dois   4"
      ]
     },
     "execution_count": 59,
     "metadata": {},
     "output_type": "execute_result"
    }
   ],
   "source": [
    "data.replace(['one', 'two'], ['um', 'dois'])"
   ]
  },
  {
   "cell_type": "markdown",
   "id": "44f35e39-f6fa-43d4-a7bf-bc239afe71c6",
   "metadata": {
    "slideshow": {
     "slide_type": "subslide"
    }
   },
   "source": [
    "#### Discretizando e Compartimentalizando (<i>Bin</i>)"
   ]
  },
  {
   "cell_type": "markdown",
   "id": "f059d8a2-99bd-421a-8465-2c4f96ac13cb",
   "metadata": {
    "slideshow": {
     "slide_type": "-"
    }
   },
   "source": [
    "<pre>Dados contínuos com frequência são discretizados ou, alternativamente, separados em compartimentos</pre>"
   ]
  },
  {
   "cell_type": "code",
   "execution_count": 60,
   "id": "054e1914-1b4a-4ab6-aeda-4beebb278ba6",
   "metadata": {
    "slideshow": {
     "slide_type": "-"
    },
    "tags": []
   },
   "outputs": [
    {
     "data": {
      "text/html": [
       "<div>\n",
       "<style scoped>\n",
       "    .dataframe tbody tr th:only-of-type {\n",
       "        vertical-align: middle;\n",
       "    }\n",
       "\n",
       "    .dataframe tbody tr th {\n",
       "        vertical-align: top;\n",
       "    }\n",
       "\n",
       "    .dataframe thead th {\n",
       "        text-align: right;\n",
       "    }\n",
       "</style>\n",
       "<table border=\"1\" class=\"dataframe\">\n",
       "  <thead>\n",
       "    <tr style=\"text-align: right;\">\n",
       "      <th></th>\n",
       "      <th>idade</th>\n",
       "    </tr>\n",
       "  </thead>\n",
       "  <tbody>\n",
       "    <tr>\n",
       "      <th>0</th>\n",
       "      <td>20</td>\n",
       "    </tr>\n",
       "    <tr>\n",
       "      <th>1</th>\n",
       "      <td>22</td>\n",
       "    </tr>\n",
       "    <tr>\n",
       "      <th>2</th>\n",
       "      <td>25</td>\n",
       "    </tr>\n",
       "    <tr>\n",
       "      <th>3</th>\n",
       "      <td>27</td>\n",
       "    </tr>\n",
       "    <tr>\n",
       "      <th>4</th>\n",
       "      <td>21</td>\n",
       "    </tr>\n",
       "    <tr>\n",
       "      <th>5</th>\n",
       "      <td>23</td>\n",
       "    </tr>\n",
       "    <tr>\n",
       "      <th>6</th>\n",
       "      <td>37</td>\n",
       "    </tr>\n",
       "    <tr>\n",
       "      <th>7</th>\n",
       "      <td>31</td>\n",
       "    </tr>\n",
       "    <tr>\n",
       "      <th>8</th>\n",
       "      <td>61</td>\n",
       "    </tr>\n",
       "    <tr>\n",
       "      <th>9</th>\n",
       "      <td>45</td>\n",
       "    </tr>\n",
       "    <tr>\n",
       "      <th>10</th>\n",
       "      <td>41</td>\n",
       "    </tr>\n",
       "    <tr>\n",
       "      <th>11</th>\n",
       "      <td>32</td>\n",
       "    </tr>\n",
       "  </tbody>\n",
       "</table>\n",
       "</div>"
      ],
      "text/plain": [
       "    idade\n",
       "0      20\n",
       "1      22\n",
       "2      25\n",
       "3      27\n",
       "4      21\n",
       "5      23\n",
       "6      37\n",
       "7      31\n",
       "8      61\n",
       "9      45\n",
       "10     41\n",
       "11     32"
      ]
     },
     "execution_count": 60,
     "metadata": {},
     "output_type": "execute_result"
    }
   ],
   "source": [
    "idades = pd.DataFrame({'idade': [20, 22, 25, 27, 1, 23,\n",
    "                                 37, 31, 61, 45, 41, 32]})\n",
    "idades"
   ]
  },
  {
   "cell_type": "code",
   "execution_count": 61,
   "id": "170ee7b4-efaa-4c82-8e64-960717cd543f",
   "metadata": {
    "slideshow": {
     "slide_type": "subslide"
    },
    "tags": []
   },
   "outputs": [
    {
     "data": {
      "text/html": [
       "<div>\n",
       "<style scoped>\n",
       "    .dataframe tbody tr th:only-of-type {\n",
       "        vertical-align: middle;\n",
       "    }\n",
       "\n",
       "    .dataframe tbody tr th {\n",
       "        vertical-align: top;\n",
       "    }\n",
       "\n",
       "    .dataframe thead th {\n",
       "        text-align: right;\n",
       "    }\n",
       "</style>\n",
       "<table border=\"1\" class=\"dataframe\">\n",
       "  <thead>\n",
       "    <tr style=\"text-align: right;\">\n",
       "      <th></th>\n",
       "      <th>idade</th>\n",
       "      <th>faixa_etaria</th>\n",
       "    </tr>\n",
       "  </thead>\n",
       "  <tbody>\n",
       "    <tr>\n",
       "      <th>0</th>\n",
       "      <td>20</td>\n",
       "      <td>(18, 25]</td>\n",
       "    </tr>\n",
       "    <tr>\n",
       "      <th>1</th>\n",
       "      <td>22</td>\n",
       "      <td>(18, 25]</td>\n",
       "    </tr>\n",
       "    <tr>\n",
       "      <th>2</th>\n",
       "      <td>25</td>\n",
       "      <td>(18, 25]</td>\n",
       "    </tr>\n",
       "    <tr>\n",
       "      <th>3</th>\n",
       "      <td>27</td>\n",
       "      <td>(25, 35]</td>\n",
       "    </tr>\n",
       "    <tr>\n",
       "      <th>4</th>\n",
       "      <td>21</td>\n",
       "      <td>(18, 25]</td>\n",
       "    </tr>\n",
       "    <tr>\n",
       "      <th>5</th>\n",
       "      <td>23</td>\n",
       "      <td>(18, 25]</td>\n",
       "    </tr>\n",
       "    <tr>\n",
       "      <th>6</th>\n",
       "      <td>37</td>\n",
       "      <td>(35, 60]</td>\n",
       "    </tr>\n",
       "    <tr>\n",
       "      <th>7</th>\n",
       "      <td>31</td>\n",
       "      <td>(25, 35]</td>\n",
       "    </tr>\n",
       "    <tr>\n",
       "      <th>8</th>\n",
       "      <td>61</td>\n",
       "      <td>(60, 100]</td>\n",
       "    </tr>\n",
       "    <tr>\n",
       "      <th>9</th>\n",
       "      <td>45</td>\n",
       "      <td>(35, 60]</td>\n",
       "    </tr>\n",
       "    <tr>\n",
       "      <th>10</th>\n",
       "      <td>41</td>\n",
       "      <td>(35, 60]</td>\n",
       "    </tr>\n",
       "    <tr>\n",
       "      <th>11</th>\n",
       "      <td>32</td>\n",
       "      <td>(25, 35]</td>\n",
       "    </tr>\n",
       "  </tbody>\n",
       "</table>\n",
       "</div>"
      ],
      "text/plain": [
       "    idade faixa_etaria\n",
       "0      20     (18, 25]\n",
       "1      22     (18, 25]\n",
       "2      25     (18, 25]\n",
       "3      27     (25, 35]\n",
       "4      21     (18, 25]\n",
       "5      23     (18, 25]\n",
       "6      37     (35, 60]\n",
       "7      31     (25, 35]\n",
       "8      61    (60, 100]\n",
       "9      45     (35, 60]\n",
       "10     41     (35, 60]\n",
       "11     32     (25, 35]"
      ]
     },
     "execution_count": 61,
     "metadata": {},
     "output_type": "execute_result"
    }
   ],
   "source": [
    "idades['faixa_etaria'] = pd.cut(idades['idade'], [18, 25, 35, 60, 100])\n",
    "idades"
   ]
  },
  {
   "cell_type": "markdown",
   "id": "72cb3687-5074-4352-8c08-5055127d3b99",
   "metadata": {
    "editable": true,
    "slideshow": {
     "slide_type": "slide"
    },
    "tags": []
   },
   "source": [
    "<font size=7><center><code>Executem todo este caderno...</code></center></font>\n",
    "\n",
    "<font size=7><center><code>... bem como o caderno Juntando as Peças</code></center></font>"
   ]
  }
 ],
 "metadata": {
  "celltoolbar": "Slideshow",
  "kernelspec": {
   "display_name": "Python 3 (ipykernel)",
   "language": "python",
   "name": "python3"
  },
  "language_info": {
   "codemirror_mode": {
    "name": "ipython",
    "version": 3
   },
   "file_extension": ".py",
   "mimetype": "text/x-python",
   "name": "python",
   "nbconvert_exporter": "python",
   "pygments_lexer": "ipython3",
   "version": "3.11.2"
  },
  "toc": {
   "base_numbering": 1,
   "nav_menu": {},
   "number_sections": true,
   "sideBar": true,
   "skip_h1_title": false,
   "title_cell": "Table of Contents",
   "title_sidebar": "Contents",
   "toc_cell": false,
   "toc_position": {},
   "toc_section_display": true,
   "toc_window_display": false
  }
 },
 "nbformat": 4,
 "nbformat_minor": 5
}
