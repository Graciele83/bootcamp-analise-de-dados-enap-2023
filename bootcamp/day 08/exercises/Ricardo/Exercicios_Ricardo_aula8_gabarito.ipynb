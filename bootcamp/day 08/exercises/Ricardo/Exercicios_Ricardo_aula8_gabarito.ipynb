{
 "cells": [
  {
   "cell_type": "markdown",
   "id": "947a6d29",
   "metadata": {},
   "source": [
    "# O que explica o nível de pobreza/riqueza de determinada sociedade? \n",
    "\n",
    "Existem diversas teorias que tentam explicar essa pergunta. \n",
    "\n",
    "Mas vamos analisar dados dos países do mundo, suas características de acordo com seu nível de riqueza e tentar entender melhor essa questão"
   ]
  },
  {
   "cell_type": "markdown",
   "id": "c0b6d5a9",
   "metadata": {},
   "source": [
    "A presente análise será realizada com base nos dados dos países pertencentes à base de dados do banco mundial (Link : https://databank.worldbank.org/source/world-development-indicators) que possuem a informação de PIB per capita (current US$) disponível para o ano de 2020.\n",
    "\n"
   ]
  },
  {
   "cell_type": "markdown",
   "id": "78fa13cf",
   "metadata": {},
   "source": [
    "# Limpeza e Preparação dos Dados\n",
    "\n",
    "Missing, outliers, duplicadas\n",
    "\n",
    "Crie um dataframe de nome \"df\" com as informações do arquivo Excel contido na url abaixo, usando a biblioteca pandas:\n",
    "\n"
   ]
  },
  {
   "cell_type": "code",
   "execution_count": 1,
   "id": "0d1191cd",
   "metadata": {},
   "outputs": [],
   "source": [
    "url= ('https://github.com/thaissalzer/thaissalzer/blob/89c1f805aff7c82383eb2b95185d46e2c3b454ba/dados.xlsx?raw=true')"
   ]
  },
  {
   "cell_type": "code",
   "execution_count": 2,
   "id": "3561535f",
   "metadata": {},
   "outputs": [
    {
     "data": {
      "text/html": [
       "<div>\n",
       "<style scoped>\n",
       "    .dataframe tbody tr th:only-of-type {\n",
       "        vertical-align: middle;\n",
       "    }\n",
       "\n",
       "    .dataframe tbody tr th {\n",
       "        vertical-align: top;\n",
       "    }\n",
       "\n",
       "    .dataframe thead th {\n",
       "        text-align: right;\n",
       "    }\n",
       "</style>\n",
       "<table border=\"1\" class=\"dataframe\">\n",
       "  <thead>\n",
       "    <tr style=\"text-align: right;\">\n",
       "      <th></th>\n",
       "      <th>Time</th>\n",
       "      <th>Time Code</th>\n",
       "      <th>Country Name</th>\n",
       "      <th>Country Code</th>\n",
       "      <th>GDP per capita (current US$) [NY.GDP.PCAP.CD]</th>\n",
       "      <th>Labor force participation rate, total (% of total population ages 15+) (national estimate) [SL.TLF.CACT.NE.ZS]</th>\n",
       "      <th>Gross fixed capital formation (% of GDP) [NE.GDI.FTOT.ZS]</th>\n",
       "      <th>Gross fixed capital formation (current US$) [NE.GDI.FTOT.CD]</th>\n",
       "      <th>Population, total [SP.POP.TOTL]</th>\n",
       "      <th>Labor force with advanced education (% of total working-age population with advanced education) [SL.TLF.ADVN.ZS]</th>\n",
       "      <th>Arable land (hectares per person) [AG.LND.ARBL.HA.PC]</th>\n",
       "      <th>Industry (including construction), value added (% of GDP) [NV.IND.TOTL.ZS]</th>\n",
       "      <th>Government expenditure on education, total (% of GDP) [SE.XPD.TOTL.GD.ZS]</th>\n",
       "    </tr>\n",
       "  </thead>\n",
       "  <tbody>\n",
       "    <tr>\n",
       "      <th>0</th>\n",
       "      <td>2020</td>\n",
       "      <td>YR2020</td>\n",
       "      <td>Argentina</td>\n",
       "      <td>ARG</td>\n",
       "      <td>8496.424142</td>\n",
       "      <td>56.02</td>\n",
       "      <td>14.016196</td>\n",
       "      <td>54038074345.895622</td>\n",
       "      <td>45376763</td>\n",
       "      <td>77.239998</td>\n",
       "      <td>0.719151</td>\n",
       "      <td>22.180573</td>\n",
       "      <td>5.01605</td>\n",
       "    </tr>\n",
       "    <tr>\n",
       "      <th>1</th>\n",
       "      <td>2020</td>\n",
       "      <td>YR2020</td>\n",
       "      <td>Australia</td>\n",
       "      <td>AUS</td>\n",
       "      <td>51720.370763</td>\n",
       "      <td>65.029999</td>\n",
       "      <td>22.635947</td>\n",
       "      <td>300356616168.387207</td>\n",
       "      <td>25655289</td>\n",
       "      <td>76.830002</td>\n",
       "      <td>1.194452</td>\n",
       "      <td>25.406283</td>\n",
       "      <td>6.1</td>\n",
       "    </tr>\n",
       "    <tr>\n",
       "      <th>2</th>\n",
       "      <td>2020</td>\n",
       "      <td>YR2020</td>\n",
       "      <td>Brazil</td>\n",
       "      <td>BRA</td>\n",
       "      <td>6794.489159</td>\n",
       "      <td>60.290001</td>\n",
       "      <td>16.60727</td>\n",
       "      <td>240566271977.808838</td>\n",
       "      <td>213196304</td>\n",
       "      <td>79.400002</td>\n",
       "      <td>0.261552</td>\n",
       "      <td>17.701653</td>\n",
       "      <td>..</td>\n",
       "    </tr>\n",
       "    <tr>\n",
       "      <th>3</th>\n",
       "      <td>2020</td>\n",
       "      <td>YR2020</td>\n",
       "      <td>China</td>\n",
       "      <td>CHN</td>\n",
       "      <td>10408.669756</td>\n",
       "      <td>..</td>\n",
       "      <td>42.486081</td>\n",
       "      <td>6240217076281.010742</td>\n",
       "      <td>1411100000</td>\n",
       "      <td>..</td>\n",
       "      <td>0.084667</td>\n",
       "      <td>37.842826</td>\n",
       "      <td>3.57</td>\n",
       "    </tr>\n",
       "    <tr>\n",
       "      <th>4</th>\n",
       "      <td>2020</td>\n",
       "      <td>YR2020</td>\n",
       "      <td>France</td>\n",
       "      <td>FRA</td>\n",
       "      <td>39055.282928</td>\n",
       "      <td>54.529999</td>\n",
       "      <td>22.932747</td>\n",
       "      <td>605197177111.285767</td>\n",
       "      <td>67571107</td>\n",
       "      <td>75.650002</td>\n",
       "      <td>0.265743</td>\n",
       "      <td>16.495439</td>\n",
       "      <td>5.5</td>\n",
       "    </tr>\n",
       "  </tbody>\n",
       "</table>\n",
       "</div>"
      ],
      "text/plain": [
       "   Time Time Code Country Name Country Code  \\\n",
       "0  2020    YR2020    Argentina          ARG   \n",
       "1  2020    YR2020    Australia          AUS   \n",
       "2  2020    YR2020       Brazil          BRA   \n",
       "3  2020    YR2020        China          CHN   \n",
       "4  2020    YR2020       France          FRA   \n",
       "\n",
       "  GDP per capita (current US$) [NY.GDP.PCAP.CD]  \\\n",
       "0                                   8496.424142   \n",
       "1                                  51720.370763   \n",
       "2                                   6794.489159   \n",
       "3                                  10408.669756   \n",
       "4                                  39055.282928   \n",
       "\n",
       "  Labor force participation rate, total (% of total population ages 15+) (national estimate) [SL.TLF.CACT.NE.ZS]  \\\n",
       "0                                              56.02                                                               \n",
       "1                                          65.029999                                                               \n",
       "2                                          60.290001                                                               \n",
       "3                                                 ..                                                               \n",
       "4                                          54.529999                                                               \n",
       "\n",
       "  Gross fixed capital formation (% of GDP) [NE.GDI.FTOT.ZS]  \\\n",
       "0                                          14.016196          \n",
       "1                                          22.635947          \n",
       "2                                           16.60727          \n",
       "3                                          42.486081          \n",
       "4                                          22.932747          \n",
       "\n",
       "  Gross fixed capital formation (current US$) [NE.GDI.FTOT.CD]  \\\n",
       "0                                 54038074345.895622             \n",
       "1                                300356616168.387207             \n",
       "2                                240566271977.808838             \n",
       "3                               6240217076281.010742             \n",
       "4                                605197177111.285767             \n",
       "\n",
       "  Population, total [SP.POP.TOTL]  \\\n",
       "0                        45376763   \n",
       "1                        25655289   \n",
       "2                       213196304   \n",
       "3                      1411100000   \n",
       "4                        67571107   \n",
       "\n",
       "  Labor force with advanced education (% of total working-age population with advanced education) [SL.TLF.ADVN.ZS]  \\\n",
       "0                                          77.239998                                                                 \n",
       "1                                          76.830002                                                                 \n",
       "2                                          79.400002                                                                 \n",
       "3                                                 ..                                                                 \n",
       "4                                          75.650002                                                                 \n",
       "\n",
       "  Arable land (hectares per person) [AG.LND.ARBL.HA.PC]  \\\n",
       "0                                           0.719151      \n",
       "1                                           1.194452      \n",
       "2                                           0.261552      \n",
       "3                                           0.084667      \n",
       "4                                           0.265743      \n",
       "\n",
       "  Industry (including construction), value added (% of GDP) [NV.IND.TOTL.ZS]  \\\n",
       "0                                          22.180573                           \n",
       "1                                          25.406283                           \n",
       "2                                          17.701653                           \n",
       "3                                          37.842826                           \n",
       "4                                          16.495439                           \n",
       "\n",
       "  Government expenditure on education, total (% of GDP) [SE.XPD.TOTL.GD.ZS]  \n",
       "0                                            5.01605                         \n",
       "1                                                6.1                         \n",
       "2                                                 ..                         \n",
       "3                                               3.57                         \n",
       "4                                                5.5                         "
      ]
     },
     "execution_count": 2,
     "metadata": {},
     "output_type": "execute_result"
    }
   ],
   "source": [
    "# Abrindo o arquivo que utilizaremos\n",
    "\n",
    "import pandas as pd\n",
    "url= ('https://github.com/thaissalzer/thaissalzer/blob/89c1f805aff7c82383eb2b95185d46e2c3b454ba/dados.xlsx?raw=true')\n",
    "df= pd.read_excel(url) #caso ocorra um erro na execução dessa linha\n",
    "#execute esse comando em uma célula anterior: !pip install --upgrade openpyxl --quiet\n",
    "df.head()"
   ]
  },
  {
   "cell_type": "markdown",
   "id": "b7ca6c34",
   "metadata": {},
   "source": [
    "## Relembrando a ultima aula, vamos excluir algumas variáveis, e renomear as demais:"
   ]
  },
  {
   "cell_type": "code",
   "execution_count": 3,
   "id": "173dcfdd",
   "metadata": {},
   "outputs": [],
   "source": [
    "# Excluindo algumas colunas:\n",
    "df = df.drop(columns=['Time Code',\n",
    "                      'Country Code',\n",
    "                      'Labor force participation rate, total (% of total population ages 15+) (national estimate) [SL.TLF.CACT.NE.ZS]',\n",
    "                      'Gross fixed capital formation (% of GDP) [NE.GDI.FTOT.ZS]'])"
   ]
  },
  {
   "cell_type": "code",
   "execution_count": 4,
   "id": "7fb71ad8",
   "metadata": {},
   "outputs": [],
   "source": [
    "#renomeando:\n",
    "df = df.rename(columns={\n",
    "    \"GDP per capita (current US$) [NY.GDP.PCAP.CD]\": \"GDP_PC\",\n",
    "    \"Labor force with advanced education (% of total working-age population with advanced education) [SL.TLF.ADVN.ZS]\" :'forca_trab_educ',\n",
    "    \"Arable land (hectares per person) [AG.LND.ARBL.HA.PC]\":'arable_land',\n",
    "    'Industry (including construction), value added (% of GDP) [NV.IND.TOTL.ZS]':'industria_PERCPIB',\n",
    "    'Government expenditure on education, total (% of GDP) [SE.XPD.TOTL.GD.ZS]': 'gasto_educ_PERCPIB',\n",
    "    'Gross fixed capital formation (current US$) [NE.GDI.FTOT.CD]': 'FBKF',\n",
    "    'Population, total [SP.POP.TOTL]': 'populacao'})"
   ]
  },
  {
   "cell_type": "markdown",
   "id": "5b6271c8",
   "metadata": {},
   "source": [
    "# Tente compreender, de forma geral, informações do dataframe"
   ]
  },
  {
   "cell_type": "code",
   "execution_count": 5,
   "id": "2d3269fe",
   "metadata": {},
   "outputs": [
    {
     "data": {
      "text/html": [
       "<div>\n",
       "<style scoped>\n",
       "    .dataframe tbody tr th:only-of-type {\n",
       "        vertical-align: middle;\n",
       "    }\n",
       "\n",
       "    .dataframe tbody tr th {\n",
       "        vertical-align: top;\n",
       "    }\n",
       "\n",
       "    .dataframe thead th {\n",
       "        text-align: right;\n",
       "    }\n",
       "</style>\n",
       "<table border=\"1\" class=\"dataframe\">\n",
       "  <thead>\n",
       "    <tr style=\"text-align: right;\">\n",
       "      <th></th>\n",
       "      <th>Time</th>\n",
       "      <th>Country Name</th>\n",
       "      <th>GDP_PC</th>\n",
       "      <th>FBKF</th>\n",
       "      <th>populacao</th>\n",
       "      <th>forca_trab_educ</th>\n",
       "      <th>arable_land</th>\n",
       "      <th>industria_PERCPIB</th>\n",
       "      <th>gasto_educ_PERCPIB</th>\n",
       "    </tr>\n",
       "  </thead>\n",
       "  <tbody>\n",
       "    <tr>\n",
       "      <th>0</th>\n",
       "      <td>2020</td>\n",
       "      <td>Argentina</td>\n",
       "      <td>8496.424142</td>\n",
       "      <td>54038074345.895622</td>\n",
       "      <td>45376763</td>\n",
       "      <td>77.239998</td>\n",
       "      <td>0.719151</td>\n",
       "      <td>22.180573</td>\n",
       "      <td>5.01605</td>\n",
       "    </tr>\n",
       "    <tr>\n",
       "      <th>1</th>\n",
       "      <td>2020</td>\n",
       "      <td>Australia</td>\n",
       "      <td>51720.370763</td>\n",
       "      <td>300356616168.387207</td>\n",
       "      <td>25655289</td>\n",
       "      <td>76.830002</td>\n",
       "      <td>1.194452</td>\n",
       "      <td>25.406283</td>\n",
       "      <td>6.1</td>\n",
       "    </tr>\n",
       "    <tr>\n",
       "      <th>2</th>\n",
       "      <td>2020</td>\n",
       "      <td>Brazil</td>\n",
       "      <td>6794.489159</td>\n",
       "      <td>240566271977.808838</td>\n",
       "      <td>213196304</td>\n",
       "      <td>79.400002</td>\n",
       "      <td>0.261552</td>\n",
       "      <td>17.701653</td>\n",
       "      <td>..</td>\n",
       "    </tr>\n",
       "    <tr>\n",
       "      <th>3</th>\n",
       "      <td>2020</td>\n",
       "      <td>China</td>\n",
       "      <td>10408.669756</td>\n",
       "      <td>6240217076281.010742</td>\n",
       "      <td>1411100000</td>\n",
       "      <td>..</td>\n",
       "      <td>0.084667</td>\n",
       "      <td>37.842826</td>\n",
       "      <td>3.57</td>\n",
       "    </tr>\n",
       "    <tr>\n",
       "      <th>4</th>\n",
       "      <td>2020</td>\n",
       "      <td>France</td>\n",
       "      <td>39055.282928</td>\n",
       "      <td>605197177111.285767</td>\n",
       "      <td>67571107</td>\n",
       "      <td>75.650002</td>\n",
       "      <td>0.265743</td>\n",
       "      <td>16.495439</td>\n",
       "      <td>5.5</td>\n",
       "    </tr>\n",
       "  </tbody>\n",
       "</table>\n",
       "</div>"
      ],
      "text/plain": [
       "   Time Country Name        GDP_PC                  FBKF   populacao  \\\n",
       "0  2020    Argentina   8496.424142    54038074345.895622    45376763   \n",
       "1  2020    Australia  51720.370763   300356616168.387207    25655289   \n",
       "2  2020       Brazil   6794.489159   240566271977.808838   213196304   \n",
       "3  2020        China  10408.669756  6240217076281.010742  1411100000   \n",
       "4  2020       France  39055.282928   605197177111.285767    67571107   \n",
       "\n",
       "  forca_trab_educ arable_land industria_PERCPIB gasto_educ_PERCPIB  \n",
       "0       77.239998    0.719151         22.180573            5.01605  \n",
       "1       76.830002    1.194452         25.406283                6.1  \n",
       "2       79.400002    0.261552         17.701653                 ..  \n",
       "3              ..    0.084667         37.842826               3.57  \n",
       "4       75.650002    0.265743         16.495439                5.5  "
      ]
     },
     "execution_count": 5,
     "metadata": {},
     "output_type": "execute_result"
    }
   ],
   "source": [
    "df.head()"
   ]
  },
  {
   "cell_type": "markdown",
   "id": "a58e3729",
   "metadata": {},
   "source": [
    "# Quantos países e quantas variáveis temos no nosso banco de dados?"
   ]
  },
  {
   "cell_type": "code",
   "execution_count": 6,
   "id": "1b70780a",
   "metadata": {},
   "outputs": [
    {
     "data": {
      "text/plain": [
       "(266, 9)"
      ]
     },
     "execution_count": 6,
     "metadata": {},
     "output_type": "execute_result"
    }
   ],
   "source": [
    "df.shape"
   ]
  },
  {
   "cell_type": "markdown",
   "id": "baa56d0e",
   "metadata": {},
   "source": [
    "# Faça uma análise dos dados usando o df.describe()"
   ]
  },
  {
   "cell_type": "code",
   "execution_count": 7,
   "id": "d334543f",
   "metadata": {},
   "outputs": [
    {
     "data": {
      "text/html": [
       "<div>\n",
       "<style scoped>\n",
       "    .dataframe tbody tr th:only-of-type {\n",
       "        vertical-align: middle;\n",
       "    }\n",
       "\n",
       "    .dataframe tbody tr th {\n",
       "        vertical-align: top;\n",
       "    }\n",
       "\n",
       "    .dataframe thead th {\n",
       "        text-align: right;\n",
       "    }\n",
       "</style>\n",
       "<table border=\"1\" class=\"dataframe\">\n",
       "  <thead>\n",
       "    <tr style=\"text-align: right;\">\n",
       "      <th></th>\n",
       "      <th>Time</th>\n",
       "    </tr>\n",
       "  </thead>\n",
       "  <tbody>\n",
       "    <tr>\n",
       "      <th>count</th>\n",
       "      <td>266.0</td>\n",
       "    </tr>\n",
       "    <tr>\n",
       "      <th>mean</th>\n",
       "      <td>2020.0</td>\n",
       "    </tr>\n",
       "    <tr>\n",
       "      <th>std</th>\n",
       "      <td>0.0</td>\n",
       "    </tr>\n",
       "    <tr>\n",
       "      <th>min</th>\n",
       "      <td>2020.0</td>\n",
       "    </tr>\n",
       "    <tr>\n",
       "      <th>25%</th>\n",
       "      <td>2020.0</td>\n",
       "    </tr>\n",
       "    <tr>\n",
       "      <th>50%</th>\n",
       "      <td>2020.0</td>\n",
       "    </tr>\n",
       "    <tr>\n",
       "      <th>75%</th>\n",
       "      <td>2020.0</td>\n",
       "    </tr>\n",
       "    <tr>\n",
       "      <th>max</th>\n",
       "      <td>2020.0</td>\n",
       "    </tr>\n",
       "  </tbody>\n",
       "</table>\n",
       "</div>"
      ],
      "text/plain": [
       "         Time\n",
       "count   266.0\n",
       "mean   2020.0\n",
       "std       0.0\n",
       "min    2020.0\n",
       "25%    2020.0\n",
       "50%    2020.0\n",
       "75%    2020.0\n",
       "max    2020.0"
      ]
     },
     "execution_count": 7,
     "metadata": {},
     "output_type": "execute_result"
    }
   ],
   "source": [
    "df.describe()"
   ]
  },
  {
   "cell_type": "markdown",
   "id": "0fa6f5e9",
   "metadata": {},
   "source": [
    "### Por que você acha que só vieram informações de ano (time)? \n",
    "tente descobrir usando o df.info()"
   ]
  },
  {
   "cell_type": "code",
   "execution_count": 8,
   "id": "2ef9ca72",
   "metadata": {},
   "outputs": [
    {
     "name": "stdout",
     "output_type": "stream",
     "text": [
      "<class 'pandas.core.frame.DataFrame'>\n",
      "RangeIndex: 266 entries, 0 to 265\n",
      "Data columns (total 9 columns):\n",
      " #   Column              Non-Null Count  Dtype \n",
      "---  ------              --------------  ----- \n",
      " 0   Time                266 non-null    int64 \n",
      " 1   Country Name        266 non-null    object\n",
      " 2   GDP_PC              266 non-null    object\n",
      " 3   FBKF                266 non-null    object\n",
      " 4   populacao           266 non-null    object\n",
      " 5   forca_trab_educ     266 non-null    object\n",
      " 6   arable_land         266 non-null    object\n",
      " 7   industria_PERCPIB   266 non-null    object\n",
      " 8   gasto_educ_PERCPIB  266 non-null    object\n",
      "dtypes: int64(1), object(8)\n",
      "memory usage: 18.8+ KB\n"
     ]
    }
   ],
   "source": [
    "df.info()"
   ]
  },
  {
   "cell_type": "markdown",
   "id": "15ec66b9",
   "metadata": {},
   "source": [
    "O tipo de dado object é usado para representar strings em DataFrames do pandas quando essas strings não têm um formato homogêneo ou são uma combinação de diferentes tipos de dados, como números e letras."
   ]
  },
  {
   "cell_type": "markdown",
   "id": "98954d68",
   "metadata": {},
   "source": [
    "Isso ocorre pois, como vimos na aula passada, muitas vezes temos  dados ausentes (Missing values/ NaNs) na nossa base de dados. Além da representação padrão (NaN), e eles podem ter diversas outras representações"
   ]
  },
  {
   "cell_type": "markdown",
   "id": "5117b34f",
   "metadata": {},
   "source": [
    "# Representações comuns de Missing values (Dados ausentes)\n",
    "\n",
    " - NaN \n",
    " - 999 \n",
    " - .\n",
    " - ..\n",
    " - ?\n",
    " - faltante\n",
    " - \" \""
   ]
  },
  {
   "cell_type": "markdown",
   "id": "02cca553",
   "metadata": {},
   "source": [
    "# Identifique qual padrão essa base utiliza para os Missing values. Coloque os dados ausentes no formato padrão do Python (NaN)"
   ]
  },
  {
   "cell_type": "code",
   "execution_count": 9,
   "id": "23bcf280",
   "metadata": {},
   "outputs": [
    {
     "data": {
      "text/plain": [
       "FBKF\n",
       "..                    0.199248\n",
       "906668955850.5645     0.007519\n",
       "54038074345.89562     0.003759\n",
       "288942459.8826308     0.003759\n",
       "59146135721.017914    0.003759\n",
       "                        ...   \n",
       "579045648.9785774     0.003759\n",
       "3545923015.0818405    0.003759\n",
       "12370152384.866951    0.003759\n",
       "22591224996.236637    0.003759\n",
       "22066377047798.223    0.003759\n",
       "Name: count, Length: 213, dtype: float64"
      ]
     },
     "execution_count": 9,
     "metadata": {},
     "output_type": "execute_result"
    }
   ],
   "source": [
    "df.FBKF.value_counts()/len(df)"
   ]
  },
  {
   "cell_type": "code",
   "execution_count": 10,
   "id": "9e12c216",
   "metadata": {},
   "outputs": [
    {
     "data": {
      "text/plain": [
       "0.19924812030075187"
      ]
     },
     "execution_count": 10,
     "metadata": {},
     "output_type": "execute_result"
    }
   ],
   "source": [
    "import numpy as np\n",
    "df.FBKF.replace(\"..\",np.nan, inplace=True) # colocando missing values no formato padrão\n",
    "df.FBKF.isnull().sum()/len(df) # fazendo a verificação"
   ]
  },
  {
   "cell_type": "code",
   "execution_count": 11,
   "id": "cfb1c515",
   "metadata": {},
   "outputs": [
    {
     "data": {
      "text/plain": [
       "0.0037593984962406013"
      ]
     },
     "execution_count": 11,
     "metadata": {},
     "output_type": "execute_result"
    }
   ],
   "source": [
    "df.populacao.value_counts(dropna=False)/len(df)\n",
    "df.populacao.replace(\"..\",np.nan, inplace=True)\n",
    "df.populacao.isnull().sum()/len(df)"
   ]
  },
  {
   "cell_type": "code",
   "execution_count": 12,
   "id": "04c11c82",
   "metadata": {},
   "outputs": [
    {
     "data": {
      "text/plain": [
       "0.23308270676691728"
      ]
     },
     "execution_count": 12,
     "metadata": {},
     "output_type": "execute_result"
    }
   ],
   "source": [
    "df.gasto_educ_PERCPIB.replace(\"..\",np.nan, inplace=True)\n",
    "df.gasto_educ_PERCPIB.isnull().sum()/len(df)"
   ]
  },
  {
   "cell_type": "code",
   "execution_count": 13,
   "id": "7df8a0e0",
   "metadata": {},
   "outputs": [
    {
     "data": {
      "text/plain": [
       "0.05263157894736842"
      ]
     },
     "execution_count": 13,
     "metadata": {},
     "output_type": "execute_result"
    }
   ],
   "source": [
    "#GDP \n",
    "df.GDP_PC.value_counts(dropna=False)/len(df)\n",
    "df.GDP_PC.replace(\"..\",np.nan, inplace=True)\n",
    "df.GDP_PC.isnull().sum()/len(df)"
   ]
  },
  {
   "cell_type": "code",
   "execution_count": 14,
   "id": "9451c685",
   "metadata": {},
   "outputs": [
    {
     "data": {
      "text/plain": [
       "0.5827067669172933"
      ]
     },
     "execution_count": 14,
     "metadata": {},
     "output_type": "execute_result"
    }
   ],
   "source": [
    "#forca_trab_educ\n",
    "df.forca_trab_educ.value_counts(dropna=False)/len(df)\n",
    "df.forca_trab_educ.replace(\"..\",np.nan, inplace=True)\n",
    "df.forca_trab_educ.isnull().sum()/len(df)"
   ]
  },
  {
   "cell_type": "code",
   "execution_count": 15,
   "id": "41e82896",
   "metadata": {},
   "outputs": [
    {
     "data": {
      "text/plain": [
       "0.045112781954887216"
      ]
     },
     "execution_count": 15,
     "metadata": {},
     "output_type": "execute_result"
    }
   ],
   "source": [
    "#arable_land\n",
    "df.arable_land.value_counts(dropna=False)/len(df)\n",
    "df.arable_land.replace(\"..\",np.nan, inplace=True)\n",
    "df.arable_land.isnull().sum()/len(df)"
   ]
  },
  {
   "cell_type": "code",
   "execution_count": 16,
   "id": "5842704a",
   "metadata": {},
   "outputs": [
    {
     "data": {
      "text/plain": [
       "0.10902255639097744"
      ]
     },
     "execution_count": 16,
     "metadata": {},
     "output_type": "execute_result"
    }
   ],
   "source": [
    "#industria_PERCPIB\n",
    "df.industria_PERCPIB.value_counts(dropna=False)/len(df)\n",
    "df.industria_PERCPIB.replace(\"..\",np.nan, inplace=True)\n",
    "df.industria_PERCPIB.isnull().sum()/len(df)"
   ]
  },
  {
   "cell_type": "code",
   "execution_count": 17,
   "id": "255fb3b1",
   "metadata": {},
   "outputs": [
    {
     "data": {
      "text/plain": [
       "0.23308270676691728"
      ]
     },
     "execution_count": 17,
     "metadata": {},
     "output_type": "execute_result"
    }
   ],
   "source": [
    "#gasto_educ_PERCPIB\n",
    "df.gasto_educ_PERCPIB.value_counts(dropna=False)/len(df)\n",
    "df.gasto_educ_PERCPIB.replace(\"..\",np.nan, inplace=True)\n",
    "df.gasto_educ_PERCPIB.isnull().sum()/len(df)"
   ]
  },
  {
   "cell_type": "markdown",
   "id": "dd69cc4c",
   "metadata": {},
   "source": [
    "# Faça, novamente, uma análise dos dados usando o df.describe()"
   ]
  },
  {
   "cell_type": "code",
   "execution_count": 18,
   "id": "98ee5f73",
   "metadata": {
    "scrolled": true
   },
   "outputs": [
    {
     "data": {
      "text/html": [
       "<div>\n",
       "<style scoped>\n",
       "    .dataframe tbody tr th:only-of-type {\n",
       "        vertical-align: middle;\n",
       "    }\n",
       "\n",
       "    .dataframe tbody tr th {\n",
       "        vertical-align: top;\n",
       "    }\n",
       "\n",
       "    .dataframe thead th {\n",
       "        text-align: right;\n",
       "    }\n",
       "</style>\n",
       "<table border=\"1\" class=\"dataframe\">\n",
       "  <thead>\n",
       "    <tr style=\"text-align: right;\">\n",
       "      <th></th>\n",
       "      <th>Time</th>\n",
       "      <th>GDP_PC</th>\n",
       "      <th>FBKF</th>\n",
       "      <th>populacao</th>\n",
       "      <th>forca_trab_educ</th>\n",
       "      <th>arable_land</th>\n",
       "      <th>industria_PERCPIB</th>\n",
       "      <th>gasto_educ_PERCPIB</th>\n",
       "    </tr>\n",
       "  </thead>\n",
       "  <tbody>\n",
       "    <tr>\n",
       "      <th>count</th>\n",
       "      <td>266.0</td>\n",
       "      <td>252.000000</td>\n",
       "      <td>2.130000e+02</td>\n",
       "      <td>2.650000e+02</td>\n",
       "      <td>111.000000</td>\n",
       "      <td>254.000000</td>\n",
       "      <td>237.000000</td>\n",
       "      <td>204.000000</td>\n",
       "    </tr>\n",
       "    <tr>\n",
       "      <th>mean</th>\n",
       "      <td>2020.0</td>\n",
       "      <td>15773.923985</td>\n",
       "      <td>8.918633e+11</td>\n",
       "      <td>3.190983e+08</td>\n",
       "      <td>75.470018</td>\n",
       "      <td>0.184742</td>\n",
       "      <td>25.259199</td>\n",
       "      <td>4.510586</td>\n",
       "    </tr>\n",
       "    <tr>\n",
       "      <th>std</th>\n",
       "      <td>0.0</td>\n",
       "      <td>24065.495556</td>\n",
       "      <td>2.728344e+12</td>\n",
       "      <td>9.950997e+08</td>\n",
       "      <td>8.260972</td>\n",
       "      <td>0.200940</td>\n",
       "      <td>9.263793</td>\n",
       "      <td>1.773589</td>\n",
       "    </tr>\n",
       "    <tr>\n",
       "      <th>min</th>\n",
       "      <td>2020.0</td>\n",
       "      <td>216.826741</td>\n",
       "      <td>3.230906e+07</td>\n",
       "      <td>1.106900e+04</td>\n",
       "      <td>29.629999</td>\n",
       "      <td>0.000098</td>\n",
       "      <td>4.885343</td>\n",
       "      <td>0.000012</td>\n",
       "    </tr>\n",
       "    <tr>\n",
       "      <th>25%</th>\n",
       "      <td>2020.0</td>\n",
       "      <td>2139.636129</td>\n",
       "      <td>3.138959e+09</td>\n",
       "      <td>1.790133e+06</td>\n",
       "      <td>71.712743</td>\n",
       "      <td>0.062987</td>\n",
       "      <td>19.400455</td>\n",
       "      <td>3.323817</td>\n",
       "    </tr>\n",
       "    <tr>\n",
       "      <th>50%</th>\n",
       "      <td>2020.0</td>\n",
       "      <td>6034.203335</td>\n",
       "      <td>2.106872e+10</td>\n",
       "      <td>1.060623e+07</td>\n",
       "      <td>76.980003</td>\n",
       "      <td>0.135040</td>\n",
       "      <td>24.554311</td>\n",
       "      <td>4.301025</td>\n",
       "    </tr>\n",
       "    <tr>\n",
       "      <th>75%</th>\n",
       "      <td>2020.0</td>\n",
       "      <td>18652.166722</td>\n",
       "      <td>2.405663e+11</td>\n",
       "      <td>6.170452e+07</td>\n",
       "      <td>80.395000</td>\n",
       "      <td>0.222371</td>\n",
       "      <td>31.673638</td>\n",
       "      <td>5.270000</td>\n",
       "    </tr>\n",
       "    <tr>\n",
       "      <th>max</th>\n",
       "      <td>2020.0</td>\n",
       "      <td>182538.638340</td>\n",
       "      <td>2.206638e+13</td>\n",
       "      <td>7.820982e+09</td>\n",
       "      <td>90.599998</td>\n",
       "      <td>1.575695</td>\n",
       "      <td>59.133630</td>\n",
       "      <td>13.625004</td>\n",
       "    </tr>\n",
       "  </tbody>\n",
       "</table>\n",
       "</div>"
      ],
      "text/plain": [
       "         Time         GDP_PC          FBKF     populacao  forca_trab_educ  \\\n",
       "count   266.0     252.000000  2.130000e+02  2.650000e+02       111.000000   \n",
       "mean   2020.0   15773.923985  8.918633e+11  3.190983e+08        75.470018   \n",
       "std       0.0   24065.495556  2.728344e+12  9.950997e+08         8.260972   \n",
       "min    2020.0     216.826741  3.230906e+07  1.106900e+04        29.629999   \n",
       "25%    2020.0    2139.636129  3.138959e+09  1.790133e+06        71.712743   \n",
       "50%    2020.0    6034.203335  2.106872e+10  1.060623e+07        76.980003   \n",
       "75%    2020.0   18652.166722  2.405663e+11  6.170452e+07        80.395000   \n",
       "max    2020.0  182538.638340  2.206638e+13  7.820982e+09        90.599998   \n",
       "\n",
       "       arable_land  industria_PERCPIB  gasto_educ_PERCPIB  \n",
       "count   254.000000         237.000000          204.000000  \n",
       "mean      0.184742          25.259199            4.510586  \n",
       "std       0.200940           9.263793            1.773589  \n",
       "min       0.000098           4.885343            0.000012  \n",
       "25%       0.062987          19.400455            3.323817  \n",
       "50%       0.135040          24.554311            4.301025  \n",
       "75%       0.222371          31.673638            5.270000  \n",
       "max       1.575695          59.133630           13.625004  "
      ]
     },
     "execution_count": 18,
     "metadata": {},
     "output_type": "execute_result"
    }
   ],
   "source": [
    "df.describe()"
   ]
  },
  {
   "cell_type": "markdown",
   "id": "56810974",
   "metadata": {},
   "source": [
    "# O que fazer com os dados ausentes?"
   ]
  },
  {
   "cell_type": "markdown",
   "id": "3cb1940b",
   "metadata": {},
   "source": [
    "Como vimos na aula, alguns tratamentos para os dados ausentes podem ser:\n",
    "\n",
    "Excluir a variável inteira\n",
    "\n",
    "Imputar valores (média, mediana, etc).\n",
    "\n",
    "Substituir a mão por valores significativos\n"
   ]
  },
  {
   "cell_type": "markdown",
   "id": "ff974924",
   "metadata": {},
   "source": [
    "## Substitua os valores ausentes da variável GDP_PC, pela média dos valores disponíveis dessa variável"
   ]
  },
  {
   "cell_type": "code",
   "execution_count": 22,
   "id": "4cb395fa",
   "metadata": {},
   "outputs": [],
   "source": [
    "df['GDP_PC'].fillna(df['GDP_PC'].mean(), inplace=True)"
   ]
  },
  {
   "cell_type": "code",
   "execution_count": null,
   "id": "a144e904",
   "metadata": {},
   "outputs": [],
   "source": []
  },
  {
   "cell_type": "markdown",
   "id": "96160e4c",
   "metadata": {},
   "source": [
    "## Exercício extra (se der tempo)\n",
    "\n",
    "Além do método que aprendemos na aula de substituir valores ausentes, existe o SimpleImputer, que também pode ser usado para substituir os valores ausentes de determinada variável, usando uma estatística descritiva escolhida.\n",
    "\n",
    "Se tiver interesse e tempo, leia sua documentação e tente substituir os missing values existentes da variável gasto_educ_PERCPIB pela mediana da variável, usando o SimpleImputer\n",
    "\n",
    "Documentação: https://scikit-learn.org/stable/modules/generated/sklearn.impute.SimpleImputer.html"
   ]
  },
  {
   "cell_type": "code",
   "execution_count": 28,
   "id": "ab316840",
   "metadata": {},
   "outputs": [
    {
     "data": {
      "text/plain": [
       "0.23308270676691728"
      ]
     },
     "execution_count": 28,
     "metadata": {},
     "output_type": "execute_result"
    }
   ],
   "source": [
    "df.gasto_educ_PERCPIB.isnull().sum()/len(df)"
   ]
  },
  {
   "cell_type": "code",
   "execution_count": 29,
   "id": "c47ecc1e",
   "metadata": {},
   "outputs": [],
   "source": [
    "from sklearn.impute import SimpleImputer\n",
    "\n",
    "imputer = SimpleImputer(strategy=\"median\") # Instanciate a SimpleImputer object with strategy of choice\n",
    "\n",
    "imputer.fit(df[['gasto_educ_PERCPIB']]) # Call the \"fit\" method on the object\n",
    "\n",
    "df['gasto_educ_PERCPIB'] = imputer.transform(df[['gasto_educ_PERCPIB']]) # Call the \"transform\" method on the object"
   ]
  },
  {
   "cell_type": "code",
   "execution_count": 30,
   "id": "14e03089",
   "metadata": {},
   "outputs": [
    {
     "data": {
      "text/plain": [
       "0.0"
      ]
     },
     "execution_count": 30,
     "metadata": {},
     "output_type": "execute_result"
    }
   ],
   "source": [
    "df.gasto_educ_PERCPIB.isnull().sum()/len(df)"
   ]
  },
  {
   "cell_type": "markdown",
   "id": "34012e42",
   "metadata": {},
   "source": [
    "# Salve o Dataframe em um arquivo excel. Vamos usa-lo na próxima aula"
   ]
  },
  {
   "cell_type": "code",
   "execution_count": 21,
   "id": "b7458747",
   "metadata": {},
   "outputs": [],
   "source": [
    "\n",
    "# Salvar o DataFrame em um arquivo Excel\n",
    "aula8 = 'aula8.xlsx'\n",
    "df.to_excel(aula8, index=False)"
   ]
  }
 ],
 "metadata": {
  "kernelspec": {
   "display_name": "Python 3 (ipykernel)",
   "language": "python",
   "name": "python3"
  },
  "language_info": {
   "codemirror_mode": {
    "name": "ipython",
    "version": 3
   },
   "file_extension": ".py",
   "mimetype": "text/x-python",
   "name": "python",
   "nbconvert_exporter": "python",
   "pygments_lexer": "ipython3",
   "version": "3.9.13"
  }
 },
 "nbformat": 4,
 "nbformat_minor": 5
}
