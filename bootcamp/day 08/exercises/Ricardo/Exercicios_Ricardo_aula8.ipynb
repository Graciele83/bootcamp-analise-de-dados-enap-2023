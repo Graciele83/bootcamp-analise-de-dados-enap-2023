{
 "cells": [
  {
   "cell_type": "markdown",
   "id": "ea6402c7",
   "metadata": {},
   "source": [
    "# O que explica o nível de pobreza/riqueza de determinada sociedade? \n",
    "\n",
    "Existem diversas teorias que tentam explicar essa pergunta. \n",
    "\n",
    "Mas vamos analisar dados dos países do mundo, suas características de acordo com seu nível de riqueza e tentar entender melhor essa questão"
   ]
  },
  {
   "cell_type": "markdown",
   "id": "ff3bb578",
   "metadata": {},
   "source": [
    "A presente análise será realizada com base nos dados dos países pertencentes à base de dados do banco mundial (Link : https://databank.worldbank.org/source/world-development-indicators) que possuem a informação de PIB per capita (current US$) disponível para o ano de 2020.\n"
   ]
  },
  {
   "cell_type": "markdown",
   "id": "78fa13cf",
   "metadata": {},
   "source": [
    "# Limpeza e Preparação dos Dados\n",
    "\n",
    "Missing\n",
    "\n",
    "Crie um dataframe de nome \"df\" com as informações do arquivo Excel contido na url abaixo, usando a biblioteca pandas:\n",
    "\n"
   ]
  },
  {
   "cell_type": "code",
   "execution_count": null,
   "id": "fd61708c",
   "metadata": {},
   "outputs": [],
   "source": [
    "url= ('https://github.com/thaissalzer/thaissalzer/blob/89c1f805aff7c82383eb2b95185d46e2c3b454ba/dados.xlsx?raw=true')"
   ]
  },
  {
   "cell_type": "code",
   "execution_count": null,
   "id": "069e1873",
   "metadata": {},
   "outputs": [],
   "source": []
  },
  {
   "cell_type": "markdown",
   "id": "b7ca6c34",
   "metadata": {},
   "source": [
    "## Relembrando a ultima aula, vamos excluir algumas variáveis, e renomear as demais:"
   ]
  },
  {
   "cell_type": "code",
   "execution_count": null,
   "id": "173dcfdd",
   "metadata": {},
   "outputs": [],
   "source": [
    "# Excluindo algumas colunas:\n",
    "df = df.drop(columns=['Time Code',\n",
    "                      'Country Code',\n",
    "                      'Labor force participation rate, total (% of total population ages 15+) (national estimate) [SL.TLF.CACT.NE.ZS]',\n",
    "                      'Gross fixed capital formation (% of GDP) [NE.GDI.FTOT.ZS]'])"
   ]
  },
  {
   "cell_type": "code",
   "execution_count": null,
   "id": "7fb71ad8",
   "metadata": {},
   "outputs": [],
   "source": [
    "#renomeando:\n",
    "df = df.rename(columns={\n",
    "    \"GDP per capita (current US$) [NY.GDP.PCAP.CD]\": \"GDP_PC\",\n",
    "    \"Labor force with advanced education (% of total working-age population with advanced education) [SL.TLF.ADVN.ZS]\" :'forca_trab_educ',\n",
    "    \"Arable land (hectares per person) [AG.LND.ARBL.HA.PC]\":'arable_land',\n",
    "    'Industry (including construction), value added (% of GDP) [NV.IND.TOTL.ZS]':'industria_PERCPIB',\n",
    "    'Government expenditure on education, total (% of GDP) [SE.XPD.TOTL.GD.ZS]': 'gasto_educ_PERCPIB',\n",
    "    'Gross fixed capital formation (current US$) [NE.GDI.FTOT.CD]': 'FBKF',\n",
    "    'Population, total [SP.POP.TOTL]': 'populacao'})"
   ]
  },
  {
   "cell_type": "markdown",
   "id": "768fdde3",
   "metadata": {},
   "source": [
    "# Tente compreender, de forma geral, informações do dataframe, usando df.head()"
   ]
  },
  {
   "cell_type": "code",
   "execution_count": null,
   "id": "fdaedb88",
   "metadata": {},
   "outputs": [],
   "source": []
  },
  {
   "cell_type": "markdown",
   "id": "a58e3729",
   "metadata": {},
   "source": [
    "# Quantos países e quantas variáveis temos no nosso banco de dados?"
   ]
  },
  {
   "cell_type": "code",
   "execution_count": null,
   "id": "6c445f41",
   "metadata": {},
   "outputs": [],
   "source": []
  },
  {
   "cell_type": "markdown",
   "id": "baa56d0e",
   "metadata": {},
   "source": [
    "# Faça uma análise dos dados usando o df.describe()"
   ]
  },
  {
   "cell_type": "code",
   "execution_count": null,
   "id": "d334543f",
   "metadata": {},
   "outputs": [],
   "source": []
  },
  {
   "cell_type": "markdown",
   "id": "0fa6f5e9",
   "metadata": {},
   "source": [
    "### Por que você acha que só vieram informações de ano (time)? \n",
    "tente descobrir usando o df.info()"
   ]
  },
  {
   "cell_type": "code",
   "execution_count": null,
   "id": "2ef9ca72",
   "metadata": {},
   "outputs": [],
   "source": []
  },
  {
   "cell_type": "markdown",
   "id": "15ec66b9",
   "metadata": {},
   "source": [
    "O tipo de dado object é usado para representar strings em DataFrames do pandas quando essas strings não têm um formato homogêneo ou são uma combinação de diferentes tipos de dados, como números e letras."
   ]
  },
  {
   "cell_type": "markdown",
   "id": "98954d68",
   "metadata": {},
   "source": [
    "Isso ocorre pois, como vimos na aula passada, muitas vezes temos  dados ausentes (Missing values/ NaNs) na nossa base de dados. Além da representação padrão (NaN), e eles podem ter diversas outras representações"
   ]
  },
  {
   "cell_type": "markdown",
   "id": "5117b34f",
   "metadata": {},
   "source": [
    "# Representações comuns de Missing values (Dados ausentes)\n",
    "\n",
    " - NaN \n",
    " - 999 \n",
    " - .\n",
    " - ..\n",
    " - ?\n",
    " - faltante\n",
    " - \" \""
   ]
  },
  {
   "cell_type": "markdown",
   "id": "02cca553",
   "metadata": {},
   "source": [
    "# Identifique qual padrão essa base utiliza para os Missing values. Coloque os dados ausentes no formato padrão do Python (NaN)"
   ]
  },
  {
   "cell_type": "code",
   "execution_count": null,
   "id": "2b32a311",
   "metadata": {},
   "outputs": [],
   "source": []
  },
  {
   "cell_type": "code",
   "execution_count": null,
   "id": "41f65af6",
   "metadata": {},
   "outputs": [],
   "source": []
  },
  {
   "cell_type": "code",
   "execution_count": null,
   "id": "d063ed76",
   "metadata": {},
   "outputs": [],
   "source": []
  },
  {
   "cell_type": "code",
   "execution_count": null,
   "id": "d073576c",
   "metadata": {},
   "outputs": [],
   "source": []
  },
  {
   "cell_type": "code",
   "execution_count": null,
   "id": "7b1a18df",
   "metadata": {},
   "outputs": [],
   "source": []
  },
  {
   "cell_type": "markdown",
   "id": "dd69cc4c",
   "metadata": {},
   "source": [
    "# Faça, novamente, uma análise dos dados usando o df.describe()"
   ]
  },
  {
   "cell_type": "code",
   "execution_count": null,
   "id": "98ee5f73",
   "metadata": {
    "scrolled": true
   },
   "outputs": [],
   "source": []
  },
  {
   "cell_type": "markdown",
   "id": "56810974",
   "metadata": {},
   "source": [
    "# O que fazer com os dados ausentes?"
   ]
  },
  {
   "cell_type": "markdown",
   "id": "3cb1940b",
   "metadata": {},
   "source": [
    "Como vimos na aula, alguns tratamentos para os dados ausentes podem ser:\n",
    "\n",
    "Excluir a variável inteira\n",
    "\n",
    "Imputar valores (média, mediana, etc).\n",
    "\n",
    "Substituir a mão por valores significativos\n"
   ]
  },
  {
   "cell_type": "markdown",
   "id": "cdd794e2",
   "metadata": {},
   "source": [
    "## Substitua os valores ausentes da variável GDP_PC, pela média dos valores disponíveis dessa variável"
   ]
  },
  {
   "cell_type": "code",
   "execution_count": null,
   "id": "bbf6a418",
   "metadata": {},
   "outputs": [],
   "source": []
  },
  {
   "cell_type": "code",
   "execution_count": null,
   "id": "2c39c0b7",
   "metadata": {},
   "outputs": [],
   "source": []
  },
  {
   "cell_type": "markdown",
   "id": "8ebafd41",
   "metadata": {},
   "source": [
    "## Exercício extra (se der tempo)\n",
    "\n",
    "Além do método que aprendemos na aula de substituir valores ausentes, existe o SimpleImputer, que também pode ser usado para substituir os valores ausentes de determinada variável, usando uma estatística descritiva escolhida.\n",
    "\n",
    "Se tiver interesse e tempo, leia sua documentação e tente substituir os missing values existentes da variável gasto_educ_PERCPIB pela mediana da variável, usando o SimpleImputer\n",
    "\n",
    "Documentação: https://scikit-learn.org/stable/modules/generated/sklearn.impute.SimpleImputer.html"
   ]
  },
  {
   "cell_type": "code",
   "execution_count": null,
   "id": "c47ecc1e",
   "metadata": {},
   "outputs": [],
   "source": []
  },
  {
   "cell_type": "code",
   "execution_count": null,
   "id": "14e03089",
   "metadata": {},
   "outputs": [],
   "source": []
  },
  {
   "cell_type": "markdown",
   "id": "256fc06e",
   "metadata": {},
   "source": [
    "# Salve o Dataframe em um arquivo excel. Vamos usa-lo na próxima aula"
   ]
  },
  {
   "cell_type": "code",
   "execution_count": null,
   "id": "b7458747",
   "metadata": {},
   "outputs": [],
   "source": [
    "\n",
    "# Salvar o DataFrame em um arquivo Excel\n",
    "aula8 = 'aula8.xlsx'\n",
    "df.to_excel(aula8, index=False)"
   ]
  }
 ],
 "metadata": {
  "kernelspec": {
   "display_name": "Python 3 (ipykernel)",
   "language": "python",
   "name": "python3"
  },
  "language_info": {
   "codemirror_mode": {
    "name": "ipython",
    "version": 3
   },
   "file_extension": ".py",
   "mimetype": "text/x-python",
   "name": "python",
   "nbconvert_exporter": "python",
   "pygments_lexer": "ipython3",
   "version": "3.9.13"
  }
 },
 "nbformat": 4,
 "nbformat_minor": 5
}
