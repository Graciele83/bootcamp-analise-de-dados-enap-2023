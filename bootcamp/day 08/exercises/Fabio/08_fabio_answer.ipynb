{
 "cells": [
  {
   "cell_type": "markdown",
   "id": "b5e22c1a",
   "metadata": {},
   "source": [
    "# Explorando as estatísticas de gênero do Banco Mundial"
   ]
  },
  {
   "cell_type": "markdown",
   "id": "2e5f6c62",
   "metadata": {},
   "source": [
    "Vamos começar resgatando os dados que produzimos na última aula."
   ]
  },
  {
   "cell_type": "code",
   "execution_count": 2,
   "id": "0ed57932",
   "metadata": {},
   "outputs": [],
   "source": [
    "import wbgapi as wb\n",
    "import pandas as pd"
   ]
  },
  {
   "cell_type": "code",
   "execution_count": 3,
   "id": "0bd4f7db",
   "metadata": {},
   "outputs": [],
   "source": [
    "labor_force_country = pd.read_csv(\"data/labor_force_country.csv\", index_col = 0)\n",
    "labor_force_income = pd.read_csv(\"data/labor_force_income.csv\", index_col = 0)"
   ]
  },
  {
   "cell_type": "code",
   "execution_count": 4,
   "id": "59d1de76",
   "metadata": {},
   "outputs": [],
   "source": [
    "economy_info = wb.economy.info()\n",
    "income_info = wb.income.info()"
   ]
  },
  {
   "cell_type": "code",
   "execution_count": null,
   "id": "4015e995",
   "metadata": {},
   "outputs": [],
   "source": [
    "country_codes = [pais.get('id') \n",
    "                 for pais in economy_info.items\n",
    "                 if pais.get('region') != ''] # códigos que não são países têm o campo region e income em branco\n",
    "\n",
    "income_levels = [item.get('id') for item in income_info.items]"
   ]
  },
  {
   "cell_type": "markdown",
   "id": "02bd068c",
   "metadata": {},
   "source": [
    "Antes de mais nada, remova dos DataFrames as linhas sem dados disponíveis (no caso, com valores 'NaN')."
   ]
  },
  {
   "cell_type": "code",
   "execution_count": null,
   "id": "415d6fcb",
   "metadata": {},
   "outputs": [],
   "source": [
    "labor_force_country.dropna(inplace = True)\n",
    "labor_force_income.dropna(inplace = True)"
   ]
  },
  {
   "cell_type": "markdown",
   "id": "fa6f087c",
   "metadata": {},
   "source": [
    "Para facilitar a compreensão das tabelas, vamos acrescentar colunas com os nomes dos países ou dos grupos de renda.\n",
    "\n",
    "Primeiro, crie dois dicionários no formato {'código': 'nome'}\n",
    "relacionando os códigos aos nomes dos países em um, e aos dos grupos de renda em outro, a partir dos objetos economy_info e income_info."
   ]
  },
  {
   "cell_type": "code",
   "execution_count": 10,
   "id": "27027a16",
   "metadata": {},
   "outputs": [],
   "source": [
    "country_codes_names = {pais.get('id'): pais.get('value') \n",
    "                       for pais in economy_info.items \n",
    "                       if pais.get('region') != ''}\n",
    "\n",
    "income_level_names = {grupo.get('id'): grupo.get('value')\n",
    "                      for grupo in income_info.items}"
   ]
  },
  {
   "cell_type": "code",
   "execution_count": null,
   "id": "dbd676f0",
   "metadata": {},
   "outputs": [],
   "source": [
    "country_codes_names"
   ]
  },
  {
   "cell_type": "code",
   "execution_count": 12,
   "id": "9e1c764d",
   "metadata": {
    "collapsed": true
   },
   "outputs": [
    {
     "data": {
      "text/plain": [
       "{'HIC': 'High income',\n",
       " 'INX': 'Not classified',\n",
       " 'LIC': 'Low income',\n",
       " 'LMC': 'Lower middle income',\n",
       " 'LMY': 'Low & middle income',\n",
       " 'MIC': 'Middle income',\n",
       " 'UMC': 'Upper middle income'}"
      ]
     },
     "execution_count": 12,
     "metadata": {},
     "output_type": "execute_result"
    }
   ],
   "source": [
    "income_level_names"
   ]
  },
  {
   "cell_type": "markdown",
   "id": "910c844b",
   "metadata": {},
   "source": [
    "Agora, usando a função map, crie as novas colunas nos dois DataFrames."
   ]
  },
  {
   "cell_type": "code",
   "execution_count": 13,
   "id": "feccd613",
   "metadata": {},
   "outputs": [],
   "source": [
    "labor_force_country['country'] = labor_force_country.index.map(country_codes_names)\n",
    "labor_force_income['group'] = labor_force_income.index.map(income_level_names)"
   ]
  },
  {
   "cell_type": "markdown",
   "id": "30d432f4",
   "metadata": {},
   "source": [
    "Nos exercícios anteriores, comparamos as estatísticas entre grupos de países fazendo recortes nas séries. Agora vamos trabalhar com os DataFrames.\n",
    "\n",
    "Obtenha as médias para o grupo Brasil, Argentina, Uruguai e Paraguai e para o grupo Estados Unidos e Canadá, de todas as colunas do DataFrame."
   ]
  },
  {
   "cell_type": "code",
   "execution_count": null,
   "id": "05de56d2",
   "metadata": {
    "scrolled": true
   },
   "outputs": [],
   "source": [
    "labor_force_country.loc[[\"BRA\", \"ARG\", \"URY\", \"PRY\"]].mean()"
   ]
  },
  {
   "cell_type": "code",
   "execution_count": null,
   "id": "9e29599e",
   "metadata": {
    "scrolled": true
   },
   "outputs": [],
   "source": [
    "labor_force_country.loc[[\"CAN\", \"USA\"]].mean()"
   ]
  },
  {
   "cell_type": "markdown",
   "id": "e425728c",
   "metadata": {},
   "source": [
    "Crie um DataFrame com as colunas de nome do país e diferença na taxa de participação, mantendo somente os países com diferença nas taxas de participação maiores que 50 pontos percentuais."
   ]
  },
  {
   "cell_type": "code",
   "execution_count": null,
   "id": "a325785f",
   "metadata": {},
   "outputs": [],
   "source": [
    "gap_acima_50 = (labor_force_country\n",
    "                .loc[labor_force_country['rate_gap'] > 50, ['country', 'rate_gap']]\n",
    "                .sort_values('rate_gap'))"
   ]
  },
  {
   "cell_type": "markdown",
   "id": "2ae9bd03",
   "metadata": {},
   "source": [
    "Crie um Dataframe com os países que apresentam as 10 maiores taxas de participação masculina na força trabalho e seus respectivos valores, ordenando-os de forma descrescente."
   ]
  },
  {
   "cell_type": "code",
   "execution_count": null,
   "id": "909f420e",
   "metadata": {},
   "outputs": [],
   "source": [
    "maiores_taxas_masculino = (labor_force_country\n",
    "                           .sort_values(\"male_rate\", ascending = False)\n",
    "                           .head(10)\n",
    "                           .loc[:, ['country', 'male_rate']])"
   ]
  }
 ],
 "metadata": {
  "kernelspec": {
   "display_name": "Python 3 (ipykernel)",
   "language": "python",
   "name": "python3"
  },
  "language_info": {
   "codemirror_mode": {
    "name": "ipython",
    "version": 3
   },
   "file_extension": ".py",
   "mimetype": "text/x-python",
   "name": "python",
   "nbconvert_exporter": "python",
   "pygments_lexer": "ipython3",
   "version": "3.11.5"
  },
  "toc": {
   "base_numbering": 1,
   "nav_menu": {},
   "number_sections": true,
   "sideBar": true,
   "skip_h1_title": false,
   "title_cell": "Table of Contents",
   "title_sidebar": "Contents",
   "toc_cell": false,
   "toc_position": {},
   "toc_section_display": true,
   "toc_window_display": false
  }
 },
 "nbformat": 4,
 "nbformat_minor": 5
}
