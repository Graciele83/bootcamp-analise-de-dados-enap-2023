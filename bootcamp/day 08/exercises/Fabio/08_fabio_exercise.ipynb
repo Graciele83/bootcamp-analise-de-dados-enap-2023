{
 "cells": [
  {
   "cell_type": "markdown",
   "id": "b478c223",
   "metadata": {},
   "source": [
    "# Explorando as estatísticas de gênero do Banco Mundial"
   ]
  },
  {
   "cell_type": "markdown",
   "id": "70224f01",
   "metadata": {},
   "source": [
    "Vamos começar resgatando os dados que produzimos na última aula."
   ]
  },
  {
   "cell_type": "code",
   "execution_count": null,
   "id": "f3ae3bba",
   "metadata": {},
   "outputs": [],
   "source": [
    "import wbgapi as wb\n",
    "import pandas as pd"
   ]
  },
  {
   "cell_type": "code",
   "execution_count": null,
   "id": "9731f750",
   "metadata": {},
   "outputs": [],
   "source": [
    "labor_force_country = pd.read_csv(\"data/labor_force_country.csv\", index_col = 0)\n",
    "labor_force_income = pd.read_csv(\"data/labor_force_income.csv\", index_col = 0)"
   ]
  },
  {
   "cell_type": "code",
   "execution_count": null,
   "id": "5d265507",
   "metadata": {},
   "outputs": [],
   "source": [
    "economy_info = wb.economy.info()\n",
    "income_info = wb.income.info()"
   ]
  },
  {
   "cell_type": "code",
   "execution_count": null,
   "id": "e8584a12",
   "metadata": {},
   "outputs": [],
   "source": [
    "country_codes = [pais.get('id') \n",
    "                 for pais in economy_info.items\n",
    "                 if pais.get('region') != ''] # códigos que não são países têm o campo region e income em branco\n",
    "\n",
    "income_levels = [item.get('id') for item in income_info.items]"
   ]
  },
  {
   "cell_type": "markdown",
   "id": "6ac7e7d6",
   "metadata": {},
   "source": [
    "Antes de mais nada, remova dos DataFrames as linhas sem dados disponíveis (no caso, com valores 'NaN'). "
   ]
  },
  {
   "cell_type": "code",
   "execution_count": null,
   "id": "d8ed7776",
   "metadata": {},
   "outputs": [],
   "source": []
  },
  {
   "cell_type": "markdown",
   "id": "f1533b40",
   "metadata": {},
   "source": [
    "Para facilitar a compreensão das tabelas, vamos acrescentar colunas com os nomes dos países ou dos grupos de renda.\n",
    "\n",
    "Primeiro, crie dois dicionários no formato {'código': 'nome'}\n",
    "relacionando os códigos aos nomes dos países em um, e aos dos grupos de renda em outro, a partir dos objetos economy_info e income_info."
   ]
  },
  {
   "cell_type": "code",
   "execution_count": null,
   "id": "d1b3011d",
   "metadata": {},
   "outputs": [],
   "source": []
  },
  {
   "cell_type": "markdown",
   "id": "c438be05",
   "metadata": {},
   "source": [
    "Agora, usando a função map, crie as novas colunas nos dois DataFrames."
   ]
  },
  {
   "cell_type": "code",
   "execution_count": null,
   "id": "18593de5",
   "metadata": {},
   "outputs": [],
   "source": []
  },
  {
   "cell_type": "markdown",
   "id": "b6c5c1fa",
   "metadata": {},
   "source": [
    "Nos exercícios anteriores, comparamos as estatísticas entre grupos de países fazendo recortes nas séries. Agora vamos trabalhar com os DataFrames.\n",
    "\n",
    "Obtenha as médias para o grupo Brasil, Argentina, Uruguai e Paraguai e para o grupo Estados Unidos e Canadá, de todas as colunas do DataFrame."
   ]
  },
  {
   "cell_type": "code",
   "execution_count": null,
   "id": "45236bdc",
   "metadata": {
    "scrolled": true
   },
   "outputs": [],
   "source": []
  },
  {
   "cell_type": "code",
   "execution_count": null,
   "id": "edbbe087",
   "metadata": {
    "scrolled": true
   },
   "outputs": [],
   "source": []
  },
  {
   "cell_type": "markdown",
   "id": "66286d5b",
   "metadata": {},
   "source": [
    "Crie um DataFrame com as colunas de nome do país e diferença na taxa de participação, mantendo somente os países com diferença nas taxas de participação maiores que 50 pontos percentuais."
   ]
  },
  {
   "cell_type": "code",
   "execution_count": null,
   "id": "5e61d33a",
   "metadata": {},
   "outputs": [],
   "source": []
  },
  {
   "cell_type": "markdown",
   "id": "31d22370",
   "metadata": {},
   "source": [
    "Crie um Dataframe com os países que apresentam as 10 maiores taxas de participação masculina na força trabalho e seus respectivos valores, ordenando-os de forma descrescente."
   ]
  },
  {
   "cell_type": "code",
   "execution_count": null,
   "id": "0235f6d0",
   "metadata": {},
   "outputs": [],
   "source": []
  }
 ],
 "metadata": {
  "kernelspec": {
   "display_name": "Python 3 (ipykernel)",
   "language": "python",
   "name": "python3"
  },
  "language_info": {
   "codemirror_mode": {
    "name": "ipython",
    "version": 3
   },
   "file_extension": ".py",
   "mimetype": "text/x-python",
   "name": "python",
   "nbconvert_exporter": "python",
   "pygments_lexer": "ipython3",
   "version": "3.8.12"
  },
  "toc": {
   "base_numbering": 1,
   "nav_menu": {},
   "number_sections": true,
   "sideBar": true,
   "skip_h1_title": false,
   "title_cell": "Table of Contents",
   "title_sidebar": "Contents",
   "toc_cell": false,
   "toc_position": {},
   "toc_section_display": true,
   "toc_window_display": false
  }
 },
 "nbformat": 4,
 "nbformat_minor": 5
}
