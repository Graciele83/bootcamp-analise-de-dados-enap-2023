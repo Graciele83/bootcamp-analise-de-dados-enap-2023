{
 "cells": [
  {
   "cell_type": "markdown",
   "id": "9d2ccd02-3f89-4032-aac7-c1023b719b71",
   "metadata": {
    "tags": []
   },
   "source": [
    "# Exercícios: Limpeza e Preparação dos Dados"
   ]
  },
  {
   "cell_type": "markdown",
   "id": "fec908a2-47c1-4db5-86b6-afd741cbf148",
   "metadata": {},
   "source": [
    "### Instalação Extra - Para Importação de Arquivo Excel"
   ]
  },
  {
   "cell_type": "code",
   "execution_count": 1,
   "id": "7dd92356-0619-4d43-ba94-e0835c499d26",
   "metadata": {},
   "outputs": [
    {
     "name": "stdout",
     "output_type": "stream",
     "text": [
      "Requirement already satisfied: openpyxl in c:\\users\\bootcamp_enap\\venv_bootcamp\\lib\\site-packages (3.1.2)\n",
      "Requirement already satisfied: et-xmlfile in c:\\users\\bootcamp_enap\\venv_bootcamp\\lib\\site-packages (from openpyxl) (1.1.0)\n"
     ]
    }
   ],
   "source": [
    "!pip install openpyxl"
   ]
  },
  {
   "cell_type": "markdown",
   "id": "f0bfb8fd-6d9a-4b05-a76e-7b97e41437ab",
   "metadata": {
    "tags": []
   },
   "source": [
    "#### Carga da Base de Dados Sintética"
   ]
  },
  {
   "cell_type": "markdown",
   "id": "70083d63-44ee-486e-8936-96979687e267",
   "metadata": {
    "tags": []
   },
   "source": [
    "Utilizaremos, nessa aula, uma base de dados sintética, inspirada na base de dados da aula anterior, para fins didádicos.<br>"
   ]
  },
  {
   "cell_type": "code",
   "execution_count": 2,
   "id": "331dd56e-707b-415c-aa09-50acfaa644b3",
   "metadata": {
    "tags": []
   },
   "outputs": [
    {
     "data": {
      "text/html": [
       "<div>\n",
       "<style scoped>\n",
       "    .dataframe tbody tr th:only-of-type {\n",
       "        vertical-align: middle;\n",
       "    }\n",
       "\n",
       "    .dataframe tbody tr th {\n",
       "        vertical-align: top;\n",
       "    }\n",
       "\n",
       "    .dataframe thead th {\n",
       "        text-align: right;\n",
       "    }\n",
       "</style>\n",
       "<table border=\"1\" class=\"dataframe\">\n",
       "  <thead>\n",
       "    <tr style=\"text-align: right;\">\n",
       "      <th></th>\n",
       "      <th>Ano</th>\n",
       "      <th>OrgN1</th>\n",
       "      <th>OrgN2</th>\n",
       "      <th>Valor</th>\n",
       "    </tr>\n",
       "  </thead>\n",
       "  <tbody>\n",
       "    <tr>\n",
       "      <th>0</th>\n",
       "      <td>2015</td>\n",
       "      <td>MINISTERIO DA SAUDE</td>\n",
       "      <td>AGENCIA NACIONAL DE SAUDE SUPLEMENTAR</td>\n",
       "      <td>540948943</td>\n",
       "    </tr>\n",
       "    <tr>\n",
       "      <th>1</th>\n",
       "      <td>2016</td>\n",
       "      <td>MINISTERIO DA SAUDE</td>\n",
       "      <td>AGENCIA NACIONAL DE SAUDE SUPLEMENTAR</td>\n",
       "      <td>567996390.2</td>\n",
       "    </tr>\n",
       "    <tr>\n",
       "      <th>2</th>\n",
       "      <td>2017</td>\n",
       "      <td>MINISTERIO DA SAUDE</td>\n",
       "      <td>AGENCIA NACIONAL DE SAUDE SUPLEMENTAR</td>\n",
       "      <td>AUSENTE</td>\n",
       "    </tr>\n",
       "    <tr>\n",
       "      <th>3</th>\n",
       "      <td>2018</td>\n",
       "      <td>MINISTERIO DA SAUDE</td>\n",
       "      <td>AGENCIA NACIONAL DE SAUDE SUPLEMENTAR</td>\n",
       "      <td>626216020.1</td>\n",
       "    </tr>\n",
       "    <tr>\n",
       "      <th>4</th>\n",
       "      <td>2019</td>\n",
       "      <td>MINISTERIO DA SAUDE</td>\n",
       "      <td>AGENCIA NACIONAL DE SAUDE SUPLEMENTAR</td>\n",
       "      <td>657526821.1</td>\n",
       "    </tr>\n",
       "    <tr>\n",
       "      <th>5</th>\n",
       "      <td>2020</td>\n",
       "      <td>MINISTERIO DA SAUDE</td>\n",
       "      <td>AGENCIA NACIONAL DE SAUDE SUPLEMENTAR</td>\n",
       "      <td>690403162.2</td>\n",
       "    </tr>\n",
       "    <tr>\n",
       "      <th>6</th>\n",
       "      <td>2021</td>\n",
       "      <td>MINISTERIO DA SAUDE</td>\n",
       "      <td>AGENCIA NACIONAL DE SAUDE SUPLEMENTAR</td>\n",
       "      <td>None</td>\n",
       "    </tr>\n",
       "    <tr>\n",
       "      <th>7</th>\n",
       "      <td>2015</td>\n",
       "      <td>MINISTERIO DO MEIO AMBIENTE</td>\n",
       "      <td>INSTITUTO BRASILEIRO DO MEIO AMBIENTE E DOS RE...</td>\n",
       "      <td>41006442494</td>\n",
       "    </tr>\n",
       "    <tr>\n",
       "      <th>8</th>\n",
       "      <td>2016</td>\n",
       "      <td>MINISTERIO DO MEIO AMBIENTE</td>\n",
       "      <td>INSTITUTO BRASILEIRO DO MEIO AMBIENTE E DOS RE...</td>\n",
       "      <td>43056764619</td>\n",
       "    </tr>\n",
       "    <tr>\n",
       "      <th>9</th>\n",
       "      <td>2017</td>\n",
       "      <td>MINISTERIO DO MEIO AMBIENTE</td>\n",
       "      <td>INSTITUTO BRASILEIRO DO MEIO AMBIENTE E DOS RE...</td>\n",
       "      <td>45209602850</td>\n",
       "    </tr>\n",
       "    <tr>\n",
       "      <th>10</th>\n",
       "      <td>2018</td>\n",
       "      <td>MINISTERIO DO MEIO AMBIENTE</td>\n",
       "      <td>INSTITUTO BRASILEIRO DO MEIO AMBIENTE E DOS RE...</td>\n",
       "      <td>47470082992</td>\n",
       "    </tr>\n",
       "    <tr>\n",
       "      <th>11</th>\n",
       "      <td>2019</td>\n",
       "      <td>MINISTERIO DO MEIO AMBIENTE</td>\n",
       "      <td>INSTITUTO BRASILEIRO DO MEIO AMBIENTE E DOS RE...</td>\n",
       "      <td>49843587142</td>\n",
       "    </tr>\n",
       "    <tr>\n",
       "      <th>12</th>\n",
       "      <td>2020</td>\n",
       "      <td>MINISTERIO DO MEIO AMBIENTE</td>\n",
       "      <td>INSTITUTO BRASILEIRO DO MEIO AMBIENTE E DOS RE...</td>\n",
       "      <td>52335766499</td>\n",
       "    </tr>\n",
       "    <tr>\n",
       "      <th>13</th>\n",
       "      <td>2021</td>\n",
       "      <td>MINISTERIO DO MEIO AMBIENTE</td>\n",
       "      <td>INSTITUTO BRASILEIRO DO MEIO AMBIENTE E DOS RE...</td>\n",
       "      <td>None</td>\n",
       "    </tr>\n",
       "    <tr>\n",
       "      <th>14</th>\n",
       "      <td>2015</td>\n",
       "      <td>MINISTERIO DA EDUCACAO</td>\n",
       "      <td>FUNDACAO UNIVERSIDADE DE BRASILIA</td>\n",
       "      <td>37905684828</td>\n",
       "    </tr>\n",
       "    <tr>\n",
       "      <th>15</th>\n",
       "      <td>2016</td>\n",
       "      <td>MINISTERIO DA EDUCACAO</td>\n",
       "      <td>FUNDACAO UNIVERSIDADE DE BRASILIA</td>\n",
       "      <td>39800969069</td>\n",
       "    </tr>\n",
       "    <tr>\n",
       "      <th>16</th>\n",
       "      <td>2017</td>\n",
       "      <td>MINISTERIO DA EDUCACAO</td>\n",
       "      <td>FUNDACAO UNIVERSIDADE DE BRASILIA</td>\n",
       "      <td>None</td>\n",
       "    </tr>\n",
       "    <tr>\n",
       "      <th>17</th>\n",
       "      <td>2018</td>\n",
       "      <td>MINISTERIO DA EDUCACAO</td>\n",
       "      <td>FUNDACAO UNIVERSIDADE DE BRASILIA</td>\n",
       "      <td>43880568399</td>\n",
       "    </tr>\n",
       "    <tr>\n",
       "      <th>18</th>\n",
       "      <td>2019</td>\n",
       "      <td>MINISTERIO DA EDUCACAO</td>\n",
       "      <td>FUNDACAO UNIVERSIDADE DE BRASILIA</td>\n",
       "      <td>46074596819</td>\n",
       "    </tr>\n",
       "    <tr>\n",
       "      <th>19</th>\n",
       "      <td>2020</td>\n",
       "      <td>MINISTERIO DA EDUCACAO</td>\n",
       "      <td>FUNDACAO UNIVERSIDADE DE BRASILIA</td>\n",
       "      <td>48378326660</td>\n",
       "    </tr>\n",
       "    <tr>\n",
       "      <th>20</th>\n",
       "      <td>2021</td>\n",
       "      <td>MINISTERIO DA EDUCACAO</td>\n",
       "      <td>FUNDACAO UNIVERSIDADE DE BRASILIA</td>\n",
       "      <td>AUSENTE</td>\n",
       "    </tr>\n",
       "    <tr>\n",
       "      <th>21</th>\n",
       "      <td>2019</td>\n",
       "      <td>MINISTERIO DA SAUDE</td>\n",
       "      <td>AGENCIA NACIONAL DE SAUDE SUPLEMENTAR</td>\n",
       "      <td>657526821.1</td>\n",
       "    </tr>\n",
       "    <tr>\n",
       "      <th>22</th>\n",
       "      <td>2018</td>\n",
       "      <td>MINISTERIO DO MEIO AMBIENTE</td>\n",
       "      <td>INSTITUTO BRASILEIRO DO MEIO AMBIENTE E DOS RE...</td>\n",
       "      <td>47470082992</td>\n",
       "    </tr>\n",
       "    <tr>\n",
       "      <th>23</th>\n",
       "      <td>2019</td>\n",
       "      <td>MINISTERIO DA EDUCACAO</td>\n",
       "      <td>FUNDACAO UNIVERSIDADE DE BRASILIA</td>\n",
       "      <td>46074596819</td>\n",
       "    </tr>\n",
       "  </tbody>\n",
       "</table>\n",
       "</div>"
      ],
      "text/plain": [
       "     Ano                        OrgN1  \\\n",
       "0   2015          MINISTERIO DA SAUDE   \n",
       "1   2016          MINISTERIO DA SAUDE   \n",
       "2   2017          MINISTERIO DA SAUDE   \n",
       "3   2018          MINISTERIO DA SAUDE   \n",
       "4   2019          MINISTERIO DA SAUDE   \n",
       "5   2020          MINISTERIO DA SAUDE   \n",
       "6   2021          MINISTERIO DA SAUDE   \n",
       "7   2015  MINISTERIO DO MEIO AMBIENTE   \n",
       "8   2016  MINISTERIO DO MEIO AMBIENTE   \n",
       "9   2017  MINISTERIO DO MEIO AMBIENTE   \n",
       "10  2018  MINISTERIO DO MEIO AMBIENTE   \n",
       "11  2019  MINISTERIO DO MEIO AMBIENTE   \n",
       "12  2020  MINISTERIO DO MEIO AMBIENTE   \n",
       "13  2021  MINISTERIO DO MEIO AMBIENTE   \n",
       "14  2015       MINISTERIO DA EDUCACAO   \n",
       "15  2016       MINISTERIO DA EDUCACAO   \n",
       "16  2017       MINISTERIO DA EDUCACAO   \n",
       "17  2018       MINISTERIO DA EDUCACAO   \n",
       "18  2019       MINISTERIO DA EDUCACAO   \n",
       "19  2020       MINISTERIO DA EDUCACAO   \n",
       "20  2021       MINISTERIO DA EDUCACAO   \n",
       "21  2019          MINISTERIO DA SAUDE   \n",
       "22  2018  MINISTERIO DO MEIO AMBIENTE   \n",
       "23  2019       MINISTERIO DA EDUCACAO   \n",
       "\n",
       "                                                OrgN2        Valor  \n",
       "0               AGENCIA NACIONAL DE SAUDE SUPLEMENTAR    540948943  \n",
       "1               AGENCIA NACIONAL DE SAUDE SUPLEMENTAR  567996390.2  \n",
       "2               AGENCIA NACIONAL DE SAUDE SUPLEMENTAR      AUSENTE  \n",
       "3               AGENCIA NACIONAL DE SAUDE SUPLEMENTAR  626216020.1  \n",
       "4               AGENCIA NACIONAL DE SAUDE SUPLEMENTAR  657526821.1  \n",
       "5               AGENCIA NACIONAL DE SAUDE SUPLEMENTAR  690403162.2  \n",
       "6               AGENCIA NACIONAL DE SAUDE SUPLEMENTAR         None  \n",
       "7   INSTITUTO BRASILEIRO DO MEIO AMBIENTE E DOS RE...  41006442494  \n",
       "8   INSTITUTO BRASILEIRO DO MEIO AMBIENTE E DOS RE...  43056764619  \n",
       "9   INSTITUTO BRASILEIRO DO MEIO AMBIENTE E DOS RE...  45209602850  \n",
       "10  INSTITUTO BRASILEIRO DO MEIO AMBIENTE E DOS RE...  47470082992  \n",
       "11  INSTITUTO BRASILEIRO DO MEIO AMBIENTE E DOS RE...  49843587142  \n",
       "12  INSTITUTO BRASILEIRO DO MEIO AMBIENTE E DOS RE...  52335766499  \n",
       "13  INSTITUTO BRASILEIRO DO MEIO AMBIENTE E DOS RE...         None  \n",
       "14                  FUNDACAO UNIVERSIDADE DE BRASILIA  37905684828  \n",
       "15                  FUNDACAO UNIVERSIDADE DE BRASILIA  39800969069  \n",
       "16                  FUNDACAO UNIVERSIDADE DE BRASILIA         None  \n",
       "17                  FUNDACAO UNIVERSIDADE DE BRASILIA  43880568399  \n",
       "18                  FUNDACAO UNIVERSIDADE DE BRASILIA  46074596819  \n",
       "19                  FUNDACAO UNIVERSIDADE DE BRASILIA  48378326660  \n",
       "20                  FUNDACAO UNIVERSIDADE DE BRASILIA      AUSENTE  \n",
       "21              AGENCIA NACIONAL DE SAUDE SUPLEMENTAR  657526821.1  \n",
       "22  INSTITUTO BRASILEIRO DO MEIO AMBIENTE E DOS RE...  47470082992  \n",
       "23                  FUNDACAO UNIVERSIDADE DE BRASILIA  46074596819  "
      ]
     },
     "execution_count": 2,
     "metadata": {},
     "output_type": "execute_result"
    }
   ],
   "source": [
    "import pandas as pd\n",
    "from pandas import DataFrame\n",
    "\n",
    "arquivo = './data/df_inativos_sintetica.json'\n",
    "\n",
    "df_inativos = pd.read_json(arquivo)\n",
    "df_inativos"
   ]
  },
  {
   "cell_type": "markdown",
   "id": "906173fd-4684-4b24-b4a1-346ce0d402d2",
   "metadata": {
    "tags": []
   },
   "source": [
    "#### Limpeza de Dados"
   ]
  },
  {
   "cell_type": "markdown",
   "id": "94c4353f-ab51-43d6-9e50-db5993cfa6fb",
   "metadata": {},
   "source": [
    "O trabalho do analista de dados é feito, muitas vezes, em bases de dados fornecidas por terceiros em que não há garantia de consistência e completude. A presença de dados duplicados ou incompletos pode prejudicar o resultado da análise realizada, portanto é necessário fazer certas verificações preliminares.<br>"
   ]
  },
  {
   "cell_type": "markdown",
   "id": "517fdee9-11c1-4ec9-9257-47082bfec2c0",
   "metadata": {
    "tags": []
   },
   "source": [
    "##### Verificando por Duplicatas"
   ]
  },
  {
   "cell_type": "markdown",
   "id": "9b82b02d-25af-49b7-980f-0c4c85d31720",
   "metadata": {},
   "source": [
    "Primeiramente, liste as linhas duplicadas na base de dados."
   ]
  },
  {
   "cell_type": "code",
   "execution_count": 3,
   "id": "493652f0-2ef1-49a5-a018-dc11e9d47b5d",
   "metadata": {
    "tags": []
   },
   "outputs": [
    {
     "data": {
      "text/html": [
       "<div>\n",
       "<style scoped>\n",
       "    .dataframe tbody tr th:only-of-type {\n",
       "        vertical-align: middle;\n",
       "    }\n",
       "\n",
       "    .dataframe tbody tr th {\n",
       "        vertical-align: top;\n",
       "    }\n",
       "\n",
       "    .dataframe thead th {\n",
       "        text-align: right;\n",
       "    }\n",
       "</style>\n",
       "<table border=\"1\" class=\"dataframe\">\n",
       "  <thead>\n",
       "    <tr style=\"text-align: right;\">\n",
       "      <th></th>\n",
       "      <th>Ano</th>\n",
       "      <th>OrgN1</th>\n",
       "      <th>OrgN2</th>\n",
       "      <th>Valor</th>\n",
       "    </tr>\n",
       "  </thead>\n",
       "  <tbody>\n",
       "    <tr>\n",
       "      <th>21</th>\n",
       "      <td>2019</td>\n",
       "      <td>MINISTERIO DA SAUDE</td>\n",
       "      <td>AGENCIA NACIONAL DE SAUDE SUPLEMENTAR</td>\n",
       "      <td>657526821.1</td>\n",
       "    </tr>\n",
       "    <tr>\n",
       "      <th>22</th>\n",
       "      <td>2018</td>\n",
       "      <td>MINISTERIO DO MEIO AMBIENTE</td>\n",
       "      <td>INSTITUTO BRASILEIRO DO MEIO AMBIENTE E DOS RE...</td>\n",
       "      <td>47470082992</td>\n",
       "    </tr>\n",
       "    <tr>\n",
       "      <th>23</th>\n",
       "      <td>2019</td>\n",
       "      <td>MINISTERIO DA EDUCACAO</td>\n",
       "      <td>FUNDACAO UNIVERSIDADE DE BRASILIA</td>\n",
       "      <td>46074596819</td>\n",
       "    </tr>\n",
       "  </tbody>\n",
       "</table>\n",
       "</div>"
      ],
      "text/plain": [
       "     Ano                        OrgN1  \\\n",
       "21  2019          MINISTERIO DA SAUDE   \n",
       "22  2018  MINISTERIO DO MEIO AMBIENTE   \n",
       "23  2019       MINISTERIO DA EDUCACAO   \n",
       "\n",
       "                                                OrgN2        Valor  \n",
       "21              AGENCIA NACIONAL DE SAUDE SUPLEMENTAR  657526821.1  \n",
       "22  INSTITUTO BRASILEIRO DO MEIO AMBIENTE E DOS RE...  47470082992  \n",
       "23                  FUNDACAO UNIVERSIDADE DE BRASILIA  46074596819  "
      ]
     },
     "execution_count": 3,
     "metadata": {},
     "output_type": "execute_result"
    }
   ],
   "source": [
    "df_inativos[df_inativos.duplicated()]"
   ]
  },
  {
   "cell_type": "markdown",
   "id": "711fcf93-d525-426f-b658-4d4a55adbffd",
   "metadata": {},
   "source": [
    "Crie um novo dataframe eliminando as linhas de dados duplicadas e verifique não haver mais linhas duplicadas."
   ]
  },
  {
   "cell_type": "code",
   "execution_count": 4,
   "id": "2964c0c2-7d87-44e1-bcfb-a68c02ee0306",
   "metadata": {
    "tags": []
   },
   "outputs": [
    {
     "data": {
      "text/html": [
       "<div>\n",
       "<style scoped>\n",
       "    .dataframe tbody tr th:only-of-type {\n",
       "        vertical-align: middle;\n",
       "    }\n",
       "\n",
       "    .dataframe tbody tr th {\n",
       "        vertical-align: top;\n",
       "    }\n",
       "\n",
       "    .dataframe thead th {\n",
       "        text-align: right;\n",
       "    }\n",
       "</style>\n",
       "<table border=\"1\" class=\"dataframe\">\n",
       "  <thead>\n",
       "    <tr style=\"text-align: right;\">\n",
       "      <th></th>\n",
       "      <th>Ano</th>\n",
       "      <th>OrgN1</th>\n",
       "      <th>OrgN2</th>\n",
       "      <th>Valor</th>\n",
       "    </tr>\n",
       "  </thead>\n",
       "  <tbody>\n",
       "  </tbody>\n",
       "</table>\n",
       "</div>"
      ],
      "text/plain": [
       "Empty DataFrame\n",
       "Columns: [Ano, OrgN1, OrgN2, Valor]\n",
       "Index: []"
      ]
     },
     "execution_count": 4,
     "metadata": {},
     "output_type": "execute_result"
    }
   ],
   "source": [
    "df_inativos = df_inativos.drop_duplicates()\n",
    "df_inativos[df_inativos.duplicated()]"
   ]
  },
  {
   "cell_type": "markdown",
   "id": "4312db57-9b49-40d8-904a-18927489f5b4",
   "metadata": {
    "tags": []
   },
   "source": [
    "##### Verificando Valores Nulos e Faltantes"
   ]
  },
  {
   "cell_type": "markdown",
   "id": "4ed4608b-6499-4bfa-97f5-25f5183587c0",
   "metadata": {
    "tags": []
   },
   "source": [
    "Liste, se existirem, as linhas com valores nulos na coluna valor da base."
   ]
  },
  {
   "cell_type": "code",
   "execution_count": 5,
   "id": "a656445b-c1a9-4426-b6d2-cc085e666f68",
   "metadata": {
    "tags": []
   },
   "outputs": [
    {
     "data": {
      "text/html": [
       "<div>\n",
       "<style scoped>\n",
       "    .dataframe tbody tr th:only-of-type {\n",
       "        vertical-align: middle;\n",
       "    }\n",
       "\n",
       "    .dataframe tbody tr th {\n",
       "        vertical-align: top;\n",
       "    }\n",
       "\n",
       "    .dataframe thead th {\n",
       "        text-align: right;\n",
       "    }\n",
       "</style>\n",
       "<table border=\"1\" class=\"dataframe\">\n",
       "  <thead>\n",
       "    <tr style=\"text-align: right;\">\n",
       "      <th></th>\n",
       "      <th>Ano</th>\n",
       "      <th>OrgN1</th>\n",
       "      <th>OrgN2</th>\n",
       "      <th>Valor</th>\n",
       "    </tr>\n",
       "  </thead>\n",
       "  <tbody>\n",
       "    <tr>\n",
       "      <th>6</th>\n",
       "      <td>2021</td>\n",
       "      <td>MINISTERIO DA SAUDE</td>\n",
       "      <td>AGENCIA NACIONAL DE SAUDE SUPLEMENTAR</td>\n",
       "      <td>None</td>\n",
       "    </tr>\n",
       "    <tr>\n",
       "      <th>13</th>\n",
       "      <td>2021</td>\n",
       "      <td>MINISTERIO DO MEIO AMBIENTE</td>\n",
       "      <td>INSTITUTO BRASILEIRO DO MEIO AMBIENTE E DOS RE...</td>\n",
       "      <td>None</td>\n",
       "    </tr>\n",
       "    <tr>\n",
       "      <th>16</th>\n",
       "      <td>2017</td>\n",
       "      <td>MINISTERIO DA EDUCACAO</td>\n",
       "      <td>FUNDACAO UNIVERSIDADE DE BRASILIA</td>\n",
       "      <td>None</td>\n",
       "    </tr>\n",
       "  </tbody>\n",
       "</table>\n",
       "</div>"
      ],
      "text/plain": [
       "     Ano                        OrgN1  \\\n",
       "6   2021          MINISTERIO DA SAUDE   \n",
       "13  2021  MINISTERIO DO MEIO AMBIENTE   \n",
       "16  2017       MINISTERIO DA EDUCACAO   \n",
       "\n",
       "                                                OrgN2 Valor  \n",
       "6               AGENCIA NACIONAL DE SAUDE SUPLEMENTAR  None  \n",
       "13  INSTITUTO BRASILEIRO DO MEIO AMBIENTE E DOS RE...  None  \n",
       "16                  FUNDACAO UNIVERSIDADE DE BRASILIA  None  "
      ]
     },
     "execution_count": 5,
     "metadata": {},
     "output_type": "execute_result"
    }
   ],
   "source": [
    "df_inativos[df_inativos['Valor'].isna()]"
   ]
  },
  {
   "cell_type": "markdown",
   "id": "19f2caa0-5e97-468e-88e9-a30b83095f02",
   "metadata": {},
   "source": [
    "Utilize o método map() e uma função lambda para testar e filtrar as linhas do DataFrame cujos valores sejam textuais e diferentes de None, a fim de identificar eventuais valores inválidos presentes na coluna Valor."
   ]
  },
  {
   "cell_type": "code",
   "execution_count": 6,
   "id": "8e52d515-9005-4601-aa79-eb8a45589c34",
   "metadata": {
    "tags": []
   },
   "outputs": [
    {
     "data": {
      "text/html": [
       "<div>\n",
       "<style scoped>\n",
       "    .dataframe tbody tr th:only-of-type {\n",
       "        vertical-align: middle;\n",
       "    }\n",
       "\n",
       "    .dataframe tbody tr th {\n",
       "        vertical-align: top;\n",
       "    }\n",
       "\n",
       "    .dataframe thead th {\n",
       "        text-align: right;\n",
       "    }\n",
       "</style>\n",
       "<table border=\"1\" class=\"dataframe\">\n",
       "  <thead>\n",
       "    <tr style=\"text-align: right;\">\n",
       "      <th></th>\n",
       "      <th>Ano</th>\n",
       "      <th>OrgN1</th>\n",
       "      <th>OrgN2</th>\n",
       "      <th>Valor</th>\n",
       "    </tr>\n",
       "  </thead>\n",
       "  <tbody>\n",
       "    <tr>\n",
       "      <th>2</th>\n",
       "      <td>2017</td>\n",
       "      <td>MINISTERIO DA SAUDE</td>\n",
       "      <td>AGENCIA NACIONAL DE SAUDE SUPLEMENTAR</td>\n",
       "      <td>AUSENTE</td>\n",
       "    </tr>\n",
       "    <tr>\n",
       "      <th>20</th>\n",
       "      <td>2021</td>\n",
       "      <td>MINISTERIO DA EDUCACAO</td>\n",
       "      <td>FUNDACAO UNIVERSIDADE DE BRASILIA</td>\n",
       "      <td>AUSENTE</td>\n",
       "    </tr>\n",
       "  </tbody>\n",
       "</table>\n",
       "</div>"
      ],
      "text/plain": [
       "     Ano                   OrgN1                                  OrgN2  \\\n",
       "2   2017     MINISTERIO DA SAUDE  AGENCIA NACIONAL DE SAUDE SUPLEMENTAR   \n",
       "20  2021  MINISTERIO DA EDUCACAO      FUNDACAO UNIVERSIDADE DE BRASILIA   \n",
       "\n",
       "      Valor  \n",
       "2   AUSENTE  \n",
       "20  AUSENTE  "
      ]
     },
     "execution_count": 6,
     "metadata": {},
     "output_type": "execute_result"
    }
   ],
   "source": [
    "df_inativos[df_inativos.Valor.map(lambda x: True if (str(x).isalpha() and x is not None) else False)]"
   ]
  },
  {
   "cell_type": "markdown",
   "id": "b19f1a8b-dce7-49e2-8012-1da8a1a471b7",
   "metadata": {},
   "source": [
    "Substitua o valor inválido identificado na base por None."
   ]
  },
  {
   "cell_type": "code",
   "execution_count": 7,
   "id": "bf754f3b-6f6b-4d1c-b755-cc507859b2fe",
   "metadata": {
    "tags": []
   },
   "outputs": [],
   "source": [
    "df_inativos=df_inativos.replace('AUSENTE',None)"
   ]
  },
  {
   "cell_type": "markdown",
   "id": "2af85fc0-089f-4b9d-9708-87288bd961f0",
   "metadata": {},
   "source": [
    "Verifique, por meio do atributo \"dtypes\" do DataFrame, o tipo de dados da coluna Valor."
   ]
  },
  {
   "cell_type": "code",
   "execution_count": 8,
   "id": "5b441f5e-432c-4bab-a321-1b0e7c90cf96",
   "metadata": {
    "tags": []
   },
   "outputs": [
    {
     "data": {
      "text/plain": [
       "Ano       int64\n",
       "OrgN1    object\n",
       "OrgN2    object\n",
       "Valor    object\n",
       "dtype: object"
      ]
     },
     "execution_count": 8,
     "metadata": {},
     "output_type": "execute_result"
    }
   ],
   "source": [
    "df_inativos.dtypes"
   ]
  },
  {
   "cell_type": "markdown",
   "id": "6967f17e-e09b-4179-8ca7-01c66a662b52",
   "metadata": {},
   "source": [
    "Note que o tipo de dados da coluna Valor é object uma vez que, quando da importação, havia strings no campo.<br>\n",
    "Utilize o método \"astype(float)\" para converter a coluna para o tipo numérico float. Verifique novamente os tipos de dados das colunas do DataFrame.<br>\n",
    "Se necessário, consulte a documentação do método: https://pandas.pydata.org/docs/reference/api/pandas.DataFrame.astype.html"
   ]
  },
  {
   "cell_type": "code",
   "execution_count": 9,
   "id": "3fd6fd63-5d9b-4fdb-b556-708556b46391",
   "metadata": {
    "tags": []
   },
   "outputs": [
    {
     "data": {
      "text/plain": [
       "Ano        int64\n",
       "OrgN1     object\n",
       "OrgN2     object\n",
       "Valor    float64\n",
       "dtype: object"
      ]
     },
     "execution_count": 9,
     "metadata": {},
     "output_type": "execute_result"
    }
   ],
   "source": [
    "df_inativos.Valor=df_inativos.Valor.astype(float)\n",
    "df_inativos.dtypes"
   ]
  },
  {
   "cell_type": "markdown",
   "id": "867c6db0-fdde-458d-9c8a-73103c5f1654",
   "metadata": {
    "tags": []
   },
   "source": [
    "#### Tratamento de Valores Faltantes"
   ]
  },
  {
   "cell_type": "markdown",
   "id": "89945711-6b94-4a5e-9e59-b8db81f4c73b",
   "metadata": {},
   "source": [
    "Há várias possíveis estratégias para tratar dados faltantes.<br>\n",
    "A melhor solução, nem sempre viável, é solicitar ao responsável pela disponibilização da base de dados que apresente os dados completos.<br>\n",
    "Caso isso não seja possível ou caso os valores estejam ausentes na base original, é inevitável que haja alguma imprecisão na análise.<br>\n",
    "Dependendo do contexto pode ser aceitável imputar valores aos dados faltantes e isso pode ser feito por diversos métodos.\n",
    "\n",
    "Vamos ilustrá-los nos dados referentes \"AGENCIA NACIONAL DE SAUDE SUPLEMENTAR\"."
   ]
  },
  {
   "cell_type": "code",
   "execution_count": 10,
   "id": "3ed89567-f04e-4cf0-8ec4-fd714cda2d0d",
   "metadata": {
    "tags": []
   },
   "outputs": [
    {
     "data": {
      "text/html": [
       "<div>\n",
       "<style scoped>\n",
       "    .dataframe tbody tr th:only-of-type {\n",
       "        vertical-align: middle;\n",
       "    }\n",
       "\n",
       "    .dataframe tbody tr th {\n",
       "        vertical-align: top;\n",
       "    }\n",
       "\n",
       "    .dataframe thead th {\n",
       "        text-align: right;\n",
       "    }\n",
       "</style>\n",
       "<table border=\"1\" class=\"dataframe\">\n",
       "  <thead>\n",
       "    <tr style=\"text-align: right;\">\n",
       "      <th></th>\n",
       "      <th>Ano</th>\n",
       "      <th>OrgN1</th>\n",
       "      <th>OrgN2</th>\n",
       "      <th>Valor</th>\n",
       "    </tr>\n",
       "  </thead>\n",
       "  <tbody>\n",
       "    <tr>\n",
       "      <th>0</th>\n",
       "      <td>2015</td>\n",
       "      <td>MINISTERIO DA SAUDE</td>\n",
       "      <td>AGENCIA NACIONAL DE SAUDE SUPLEMENTAR</td>\n",
       "      <td>540948943.0</td>\n",
       "    </tr>\n",
       "    <tr>\n",
       "      <th>1</th>\n",
       "      <td>2016</td>\n",
       "      <td>MINISTERIO DA SAUDE</td>\n",
       "      <td>AGENCIA NACIONAL DE SAUDE SUPLEMENTAR</td>\n",
       "      <td>567996390.2</td>\n",
       "    </tr>\n",
       "    <tr>\n",
       "      <th>2</th>\n",
       "      <td>2017</td>\n",
       "      <td>MINISTERIO DA SAUDE</td>\n",
       "      <td>AGENCIA NACIONAL DE SAUDE SUPLEMENTAR</td>\n",
       "      <td>NaN</td>\n",
       "    </tr>\n",
       "    <tr>\n",
       "      <th>3</th>\n",
       "      <td>2018</td>\n",
       "      <td>MINISTERIO DA SAUDE</td>\n",
       "      <td>AGENCIA NACIONAL DE SAUDE SUPLEMENTAR</td>\n",
       "      <td>626216020.1</td>\n",
       "    </tr>\n",
       "    <tr>\n",
       "      <th>4</th>\n",
       "      <td>2019</td>\n",
       "      <td>MINISTERIO DA SAUDE</td>\n",
       "      <td>AGENCIA NACIONAL DE SAUDE SUPLEMENTAR</td>\n",
       "      <td>657526821.1</td>\n",
       "    </tr>\n",
       "    <tr>\n",
       "      <th>5</th>\n",
       "      <td>2020</td>\n",
       "      <td>MINISTERIO DA SAUDE</td>\n",
       "      <td>AGENCIA NACIONAL DE SAUDE SUPLEMENTAR</td>\n",
       "      <td>690403162.2</td>\n",
       "    </tr>\n",
       "    <tr>\n",
       "      <th>6</th>\n",
       "      <td>2021</td>\n",
       "      <td>MINISTERIO DA SAUDE</td>\n",
       "      <td>AGENCIA NACIONAL DE SAUDE SUPLEMENTAR</td>\n",
       "      <td>NaN</td>\n",
       "    </tr>\n",
       "  </tbody>\n",
       "</table>\n",
       "</div>"
      ],
      "text/plain": [
       "    Ano                OrgN1                                  OrgN2  \\\n",
       "0  2015  MINISTERIO DA SAUDE  AGENCIA NACIONAL DE SAUDE SUPLEMENTAR   \n",
       "1  2016  MINISTERIO DA SAUDE  AGENCIA NACIONAL DE SAUDE SUPLEMENTAR   \n",
       "2  2017  MINISTERIO DA SAUDE  AGENCIA NACIONAL DE SAUDE SUPLEMENTAR   \n",
       "3  2018  MINISTERIO DA SAUDE  AGENCIA NACIONAL DE SAUDE SUPLEMENTAR   \n",
       "4  2019  MINISTERIO DA SAUDE  AGENCIA NACIONAL DE SAUDE SUPLEMENTAR   \n",
       "5  2020  MINISTERIO DA SAUDE  AGENCIA NACIONAL DE SAUDE SUPLEMENTAR   \n",
       "6  2021  MINISTERIO DA SAUDE  AGENCIA NACIONAL DE SAUDE SUPLEMENTAR   \n",
       "\n",
       "         Valor  \n",
       "0  540948943.0  \n",
       "1  567996390.2  \n",
       "2          NaN  \n",
       "3  626216020.1  \n",
       "4  657526821.1  \n",
       "5  690403162.2  \n",
       "6          NaN  "
      ]
     },
     "execution_count": 10,
     "metadata": {},
     "output_type": "execute_result"
    }
   ],
   "source": [
    "df_inativos_ans = df_inativos[df_inativos.OrgN2==\"AGENCIA NACIONAL DE SAUDE SUPLEMENTAR\"]\n",
    "df_inativos_ans"
   ]
  },
  {
   "cell_type": "markdown",
   "id": "179a131a-bb25-4081-af3f-ecb00b9ab567",
   "metadata": {
    "tags": []
   },
   "source": [
    "Utiize o método apropriado para substituir os valores faltantes por zero, sem sobrescrever o DataFrame Original."
   ]
  },
  {
   "cell_type": "code",
   "execution_count": 11,
   "id": "12483279-9992-425f-9c28-7c1f5548568b",
   "metadata": {
    "tags": []
   },
   "outputs": [
    {
     "data": {
      "text/plain": [
       "0    540948943.0\n",
       "1    567996390.2\n",
       "2            0.0\n",
       "3    626216020.1\n",
       "4    657526821.1\n",
       "5    690403162.2\n",
       "6            0.0\n",
       "Name: Valor, dtype: float64"
      ]
     },
     "execution_count": 11,
     "metadata": {},
     "output_type": "execute_result"
    }
   ],
   "source": [
    "df_inativos_ans.Valor.fillna(0)"
   ]
  },
  {
   "cell_type": "markdown",
   "id": "d07b9545-29e2-46fe-8cfd-ab6283fc786d",
   "metadata": {
    "tags": []
   },
   "source": [
    "Outra possibilidade é utilizar o valor da linha anterior para preencher os valores faltantes, sem sobrescrever o DataFrame Original."
   ]
  },
  {
   "cell_type": "code",
   "execution_count": 12,
   "id": "c72e7868-59ba-4cf2-a5e8-e3f3c8f7f09d",
   "metadata": {
    "tags": []
   },
   "outputs": [
    {
     "data": {
      "text/plain": [
       "0    540948943.0\n",
       "1    567996390.2\n",
       "2    567996390.2\n",
       "3    626216020.1\n",
       "4    657526821.1\n",
       "5    690403162.2\n",
       "6    690403162.2\n",
       "Name: Valor, dtype: float64"
      ]
     },
     "execution_count": 12,
     "metadata": {},
     "output_type": "execute_result"
    }
   ],
   "source": [
    "df_inativos_ans.Valor.ffill()"
   ]
  },
  {
   "cell_type": "markdown",
   "id": "16893dc1-a14c-4443-b848-d24cb2a6da5f",
   "metadata": {},
   "source": [
    "Um outro método disponível no DataFrame é o interpolate(), que utiliza os valores existentes para calcular um valor intermediário, com base nos valores presentes na base.<br>\n",
    "Substitua os valores faltantes utilizando o método iterpolate(), sobrescrevendo o DataFrame Original.\n",
    "Se necesário, consulte a documentação em: https://pandas.pydata.org/docs/reference/api/pandas.DataFrame.interpolate.html"
   ]
  },
  {
   "cell_type": "code",
   "execution_count": 34,
   "id": "727990bd-75d9-443a-aa7e-b7628a3be395",
   "metadata": {
    "tags": []
   },
   "outputs": [
    {
     "data": {
      "text/html": [
       "<div>\n",
       "<style scoped>\n",
       "    .dataframe tbody tr th:only-of-type {\n",
       "        vertical-align: middle;\n",
       "    }\n",
       "\n",
       "    .dataframe tbody tr th {\n",
       "        vertical-align: top;\n",
       "    }\n",
       "\n",
       "    .dataframe thead th {\n",
       "        text-align: right;\n",
       "    }\n",
       "</style>\n",
       "<table border=\"1\" class=\"dataframe\">\n",
       "  <thead>\n",
       "    <tr style=\"text-align: right;\">\n",
       "      <th></th>\n",
       "      <th>Ano</th>\n",
       "      <th>OrgN1</th>\n",
       "      <th>OrgN2</th>\n",
       "      <th>Valor</th>\n",
       "    </tr>\n",
       "  </thead>\n",
       "  <tbody>\n",
       "    <tr>\n",
       "      <th>0</th>\n",
       "      <td>2015</td>\n",
       "      <td>MINISTERIO DA SAUDE</td>\n",
       "      <td>AGENCIA NACIONAL DE SAUDE SUPLEMENTAR</td>\n",
       "      <td>5.409489e+08</td>\n",
       "    </tr>\n",
       "    <tr>\n",
       "      <th>1</th>\n",
       "      <td>2016</td>\n",
       "      <td>MINISTERIO DA SAUDE</td>\n",
       "      <td>AGENCIA NACIONAL DE SAUDE SUPLEMENTAR</td>\n",
       "      <td>5.679964e+08</td>\n",
       "    </tr>\n",
       "    <tr>\n",
       "      <th>2</th>\n",
       "      <td>2017</td>\n",
       "      <td>MINISTERIO DA SAUDE</td>\n",
       "      <td>AGENCIA NACIONAL DE SAUDE SUPLEMENTAR</td>\n",
       "      <td>5.971062e+08</td>\n",
       "    </tr>\n",
       "    <tr>\n",
       "      <th>3</th>\n",
       "      <td>2018</td>\n",
       "      <td>MINISTERIO DA SAUDE</td>\n",
       "      <td>AGENCIA NACIONAL DE SAUDE SUPLEMENTAR</td>\n",
       "      <td>6.262160e+08</td>\n",
       "    </tr>\n",
       "    <tr>\n",
       "      <th>4</th>\n",
       "      <td>2019</td>\n",
       "      <td>MINISTERIO DA SAUDE</td>\n",
       "      <td>AGENCIA NACIONAL DE SAUDE SUPLEMENTAR</td>\n",
       "      <td>6.575268e+08</td>\n",
       "    </tr>\n",
       "    <tr>\n",
       "      <th>5</th>\n",
       "      <td>2020</td>\n",
       "      <td>MINISTERIO DA SAUDE</td>\n",
       "      <td>AGENCIA NACIONAL DE SAUDE SUPLEMENTAR</td>\n",
       "      <td>6.904032e+08</td>\n",
       "    </tr>\n",
       "    <tr>\n",
       "      <th>6</th>\n",
       "      <td>2021</td>\n",
       "      <td>MINISTERIO DA SAUDE</td>\n",
       "      <td>AGENCIA NACIONAL DE SAUDE SUPLEMENTAR</td>\n",
       "      <td>6.904032e+08</td>\n",
       "    </tr>\n",
       "  </tbody>\n",
       "</table>\n",
       "</div>"
      ],
      "text/plain": [
       "    Ano                OrgN1                                  OrgN2  \\\n",
       "0  2015  MINISTERIO DA SAUDE  AGENCIA NACIONAL DE SAUDE SUPLEMENTAR   \n",
       "1  2016  MINISTERIO DA SAUDE  AGENCIA NACIONAL DE SAUDE SUPLEMENTAR   \n",
       "2  2017  MINISTERIO DA SAUDE  AGENCIA NACIONAL DE SAUDE SUPLEMENTAR   \n",
       "3  2018  MINISTERIO DA SAUDE  AGENCIA NACIONAL DE SAUDE SUPLEMENTAR   \n",
       "4  2019  MINISTERIO DA SAUDE  AGENCIA NACIONAL DE SAUDE SUPLEMENTAR   \n",
       "5  2020  MINISTERIO DA SAUDE  AGENCIA NACIONAL DE SAUDE SUPLEMENTAR   \n",
       "6  2021  MINISTERIO DA SAUDE  AGENCIA NACIONAL DE SAUDE SUPLEMENTAR   \n",
       "\n",
       "          Valor  \n",
       "0  5.409489e+08  \n",
       "1  5.679964e+08  \n",
       "2  5.971062e+08  \n",
       "3  6.262160e+08  \n",
       "4  6.575268e+08  \n",
       "5  6.904032e+08  \n",
       "6  6.904032e+08  "
      ]
     },
     "execution_count": 34,
     "metadata": {},
     "output_type": "execute_result"
    }
   ],
   "source": [
    "df_inativos_ans['Valor'].interpolate(inPlace=True)\n",
    "df_inativos_ans"
   ]
  },
  {
   "cell_type": "markdown",
   "id": "e2d2c2f1-90cd-430d-a774-86a6f96aef70",
   "metadata": {},
   "source": [
    "Note que cada um dos métodos propostos resultará em valores distintos que podem não guardar relação com os valores reais.<br>\n",
    "A imputação de valores, se realizada, deve ser documentada e explicitada quando da apresentação do resultado da análise de dados."
   ]
  },
  {
   "cell_type": "markdown",
   "id": "79285f89-78f4-4a68-bb98-bffc14593f7c",
   "metadata": {},
   "source": [
    "#### Transformação de Dados"
   ]
  },
  {
   "cell_type": "markdown",
   "id": "adc60238-d405-45af-9ccc-206e8867a4a0",
   "metadata": {},
   "source": [
    "Considerando os valores dos anos presentes na base, crie uma coluna indicando a faixa de década referente ao dado. Ex: 2000,2010,2020,2030\n",
    "Utilize o método cut apresentado na aula.\n"
   ]
  },
  {
   "cell_type": "code",
   "execution_count": 14,
   "id": "32078cff-3dc4-48d2-bea4-6f2ea8c3f19a",
   "metadata": {
    "tags": []
   },
   "outputs": [
    {
     "data": {
      "text/html": [
       "<div>\n",
       "<style scoped>\n",
       "    .dataframe tbody tr th:only-of-type {\n",
       "        vertical-align: middle;\n",
       "    }\n",
       "\n",
       "    .dataframe tbody tr th {\n",
       "        vertical-align: top;\n",
       "    }\n",
       "\n",
       "    .dataframe thead th {\n",
       "        text-align: right;\n",
       "    }\n",
       "</style>\n",
       "<table border=\"1\" class=\"dataframe\">\n",
       "  <thead>\n",
       "    <tr style=\"text-align: right;\">\n",
       "      <th></th>\n",
       "      <th>Ano</th>\n",
       "      <th>OrgN1</th>\n",
       "      <th>OrgN2</th>\n",
       "      <th>Valor</th>\n",
       "      <th>Década</th>\n",
       "    </tr>\n",
       "  </thead>\n",
       "  <tbody>\n",
       "    <tr>\n",
       "      <th>0</th>\n",
       "      <td>2015</td>\n",
       "      <td>MINISTERIO DA SAUDE</td>\n",
       "      <td>AGENCIA NACIONAL DE SAUDE SUPLEMENTAR</td>\n",
       "      <td>5.409489e+08</td>\n",
       "      <td>2010</td>\n",
       "    </tr>\n",
       "    <tr>\n",
       "      <th>1</th>\n",
       "      <td>2016</td>\n",
       "      <td>MINISTERIO DA SAUDE</td>\n",
       "      <td>AGENCIA NACIONAL DE SAUDE SUPLEMENTAR</td>\n",
       "      <td>5.679964e+08</td>\n",
       "      <td>2010</td>\n",
       "    </tr>\n",
       "    <tr>\n",
       "      <th>2</th>\n",
       "      <td>2017</td>\n",
       "      <td>MINISTERIO DA SAUDE</td>\n",
       "      <td>AGENCIA NACIONAL DE SAUDE SUPLEMENTAR</td>\n",
       "      <td>NaN</td>\n",
       "      <td>2010</td>\n",
       "    </tr>\n",
       "    <tr>\n",
       "      <th>3</th>\n",
       "      <td>2018</td>\n",
       "      <td>MINISTERIO DA SAUDE</td>\n",
       "      <td>AGENCIA NACIONAL DE SAUDE SUPLEMENTAR</td>\n",
       "      <td>6.262160e+08</td>\n",
       "      <td>2010</td>\n",
       "    </tr>\n",
       "    <tr>\n",
       "      <th>4</th>\n",
       "      <td>2019</td>\n",
       "      <td>MINISTERIO DA SAUDE</td>\n",
       "      <td>AGENCIA NACIONAL DE SAUDE SUPLEMENTAR</td>\n",
       "      <td>6.575268e+08</td>\n",
       "      <td>2010</td>\n",
       "    </tr>\n",
       "    <tr>\n",
       "      <th>5</th>\n",
       "      <td>2020</td>\n",
       "      <td>MINISTERIO DA SAUDE</td>\n",
       "      <td>AGENCIA NACIONAL DE SAUDE SUPLEMENTAR</td>\n",
       "      <td>6.904032e+08</td>\n",
       "      <td>2020</td>\n",
       "    </tr>\n",
       "    <tr>\n",
       "      <th>6</th>\n",
       "      <td>2021</td>\n",
       "      <td>MINISTERIO DA SAUDE</td>\n",
       "      <td>AGENCIA NACIONAL DE SAUDE SUPLEMENTAR</td>\n",
       "      <td>NaN</td>\n",
       "      <td>2020</td>\n",
       "    </tr>\n",
       "    <tr>\n",
       "      <th>7</th>\n",
       "      <td>2015</td>\n",
       "      <td>MINISTERIO DO MEIO AMBIENTE</td>\n",
       "      <td>INSTITUTO BRASILEIRO DO MEIO AMBIENTE E DOS RE...</td>\n",
       "      <td>4.100644e+10</td>\n",
       "      <td>2010</td>\n",
       "    </tr>\n",
       "    <tr>\n",
       "      <th>8</th>\n",
       "      <td>2016</td>\n",
       "      <td>MINISTERIO DO MEIO AMBIENTE</td>\n",
       "      <td>INSTITUTO BRASILEIRO DO MEIO AMBIENTE E DOS RE...</td>\n",
       "      <td>4.305676e+10</td>\n",
       "      <td>2010</td>\n",
       "    </tr>\n",
       "    <tr>\n",
       "      <th>9</th>\n",
       "      <td>2017</td>\n",
       "      <td>MINISTERIO DO MEIO AMBIENTE</td>\n",
       "      <td>INSTITUTO BRASILEIRO DO MEIO AMBIENTE E DOS RE...</td>\n",
       "      <td>4.520960e+10</td>\n",
       "      <td>2010</td>\n",
       "    </tr>\n",
       "    <tr>\n",
       "      <th>10</th>\n",
       "      <td>2018</td>\n",
       "      <td>MINISTERIO DO MEIO AMBIENTE</td>\n",
       "      <td>INSTITUTO BRASILEIRO DO MEIO AMBIENTE E DOS RE...</td>\n",
       "      <td>4.747008e+10</td>\n",
       "      <td>2010</td>\n",
       "    </tr>\n",
       "    <tr>\n",
       "      <th>11</th>\n",
       "      <td>2019</td>\n",
       "      <td>MINISTERIO DO MEIO AMBIENTE</td>\n",
       "      <td>INSTITUTO BRASILEIRO DO MEIO AMBIENTE E DOS RE...</td>\n",
       "      <td>4.984359e+10</td>\n",
       "      <td>2010</td>\n",
       "    </tr>\n",
       "    <tr>\n",
       "      <th>12</th>\n",
       "      <td>2020</td>\n",
       "      <td>MINISTERIO DO MEIO AMBIENTE</td>\n",
       "      <td>INSTITUTO BRASILEIRO DO MEIO AMBIENTE E DOS RE...</td>\n",
       "      <td>5.233577e+10</td>\n",
       "      <td>2020</td>\n",
       "    </tr>\n",
       "    <tr>\n",
       "      <th>13</th>\n",
       "      <td>2021</td>\n",
       "      <td>MINISTERIO DO MEIO AMBIENTE</td>\n",
       "      <td>INSTITUTO BRASILEIRO DO MEIO AMBIENTE E DOS RE...</td>\n",
       "      <td>NaN</td>\n",
       "      <td>2020</td>\n",
       "    </tr>\n",
       "    <tr>\n",
       "      <th>14</th>\n",
       "      <td>2015</td>\n",
       "      <td>MINISTERIO DA EDUCACAO</td>\n",
       "      <td>FUNDACAO UNIVERSIDADE DE BRASILIA</td>\n",
       "      <td>3.790568e+10</td>\n",
       "      <td>2010</td>\n",
       "    </tr>\n",
       "    <tr>\n",
       "      <th>15</th>\n",
       "      <td>2016</td>\n",
       "      <td>MINISTERIO DA EDUCACAO</td>\n",
       "      <td>FUNDACAO UNIVERSIDADE DE BRASILIA</td>\n",
       "      <td>3.980097e+10</td>\n",
       "      <td>2010</td>\n",
       "    </tr>\n",
       "    <tr>\n",
       "      <th>16</th>\n",
       "      <td>2017</td>\n",
       "      <td>MINISTERIO DA EDUCACAO</td>\n",
       "      <td>FUNDACAO UNIVERSIDADE DE BRASILIA</td>\n",
       "      <td>NaN</td>\n",
       "      <td>2010</td>\n",
       "    </tr>\n",
       "    <tr>\n",
       "      <th>17</th>\n",
       "      <td>2018</td>\n",
       "      <td>MINISTERIO DA EDUCACAO</td>\n",
       "      <td>FUNDACAO UNIVERSIDADE DE BRASILIA</td>\n",
       "      <td>4.388057e+10</td>\n",
       "      <td>2010</td>\n",
       "    </tr>\n",
       "    <tr>\n",
       "      <th>18</th>\n",
       "      <td>2019</td>\n",
       "      <td>MINISTERIO DA EDUCACAO</td>\n",
       "      <td>FUNDACAO UNIVERSIDADE DE BRASILIA</td>\n",
       "      <td>4.607460e+10</td>\n",
       "      <td>2010</td>\n",
       "    </tr>\n",
       "    <tr>\n",
       "      <th>19</th>\n",
       "      <td>2020</td>\n",
       "      <td>MINISTERIO DA EDUCACAO</td>\n",
       "      <td>FUNDACAO UNIVERSIDADE DE BRASILIA</td>\n",
       "      <td>4.837833e+10</td>\n",
       "      <td>2020</td>\n",
       "    </tr>\n",
       "    <tr>\n",
       "      <th>20</th>\n",
       "      <td>2021</td>\n",
       "      <td>MINISTERIO DA EDUCACAO</td>\n",
       "      <td>FUNDACAO UNIVERSIDADE DE BRASILIA</td>\n",
       "      <td>NaN</td>\n",
       "      <td>2020</td>\n",
       "    </tr>\n",
       "  </tbody>\n",
       "</table>\n",
       "</div>"
      ],
      "text/plain": [
       "     Ano                        OrgN1  \\\n",
       "0   2015          MINISTERIO DA SAUDE   \n",
       "1   2016          MINISTERIO DA SAUDE   \n",
       "2   2017          MINISTERIO DA SAUDE   \n",
       "3   2018          MINISTERIO DA SAUDE   \n",
       "4   2019          MINISTERIO DA SAUDE   \n",
       "5   2020          MINISTERIO DA SAUDE   \n",
       "6   2021          MINISTERIO DA SAUDE   \n",
       "7   2015  MINISTERIO DO MEIO AMBIENTE   \n",
       "8   2016  MINISTERIO DO MEIO AMBIENTE   \n",
       "9   2017  MINISTERIO DO MEIO AMBIENTE   \n",
       "10  2018  MINISTERIO DO MEIO AMBIENTE   \n",
       "11  2019  MINISTERIO DO MEIO AMBIENTE   \n",
       "12  2020  MINISTERIO DO MEIO AMBIENTE   \n",
       "13  2021  MINISTERIO DO MEIO AMBIENTE   \n",
       "14  2015       MINISTERIO DA EDUCACAO   \n",
       "15  2016       MINISTERIO DA EDUCACAO   \n",
       "16  2017       MINISTERIO DA EDUCACAO   \n",
       "17  2018       MINISTERIO DA EDUCACAO   \n",
       "18  2019       MINISTERIO DA EDUCACAO   \n",
       "19  2020       MINISTERIO DA EDUCACAO   \n",
       "20  2021       MINISTERIO DA EDUCACAO   \n",
       "\n",
       "                                                OrgN2         Valor Década  \n",
       "0               AGENCIA NACIONAL DE SAUDE SUPLEMENTAR  5.409489e+08   2010  \n",
       "1               AGENCIA NACIONAL DE SAUDE SUPLEMENTAR  5.679964e+08   2010  \n",
       "2               AGENCIA NACIONAL DE SAUDE SUPLEMENTAR           NaN   2010  \n",
       "3               AGENCIA NACIONAL DE SAUDE SUPLEMENTAR  6.262160e+08   2010  \n",
       "4               AGENCIA NACIONAL DE SAUDE SUPLEMENTAR  6.575268e+08   2010  \n",
       "5               AGENCIA NACIONAL DE SAUDE SUPLEMENTAR  6.904032e+08   2020  \n",
       "6               AGENCIA NACIONAL DE SAUDE SUPLEMENTAR           NaN   2020  \n",
       "7   INSTITUTO BRASILEIRO DO MEIO AMBIENTE E DOS RE...  4.100644e+10   2010  \n",
       "8   INSTITUTO BRASILEIRO DO MEIO AMBIENTE E DOS RE...  4.305676e+10   2010  \n",
       "9   INSTITUTO BRASILEIRO DO MEIO AMBIENTE E DOS RE...  4.520960e+10   2010  \n",
       "10  INSTITUTO BRASILEIRO DO MEIO AMBIENTE E DOS RE...  4.747008e+10   2010  \n",
       "11  INSTITUTO BRASILEIRO DO MEIO AMBIENTE E DOS RE...  4.984359e+10   2010  \n",
       "12  INSTITUTO BRASILEIRO DO MEIO AMBIENTE E DOS RE...  5.233577e+10   2020  \n",
       "13  INSTITUTO BRASILEIRO DO MEIO AMBIENTE E DOS RE...           NaN   2020  \n",
       "14                  FUNDACAO UNIVERSIDADE DE BRASILIA  3.790568e+10   2010  \n",
       "15                  FUNDACAO UNIVERSIDADE DE BRASILIA  3.980097e+10   2010  \n",
       "16                  FUNDACAO UNIVERSIDADE DE BRASILIA           NaN   2010  \n",
       "17                  FUNDACAO UNIVERSIDADE DE BRASILIA  4.388057e+10   2010  \n",
       "18                  FUNDACAO UNIVERSIDADE DE BRASILIA  4.607460e+10   2010  \n",
       "19                  FUNDACAO UNIVERSIDADE DE BRASILIA  4.837833e+10   2020  \n",
       "20                  FUNDACAO UNIVERSIDADE DE BRASILIA           NaN   2020  "
      ]
     },
     "execution_count": 14,
     "metadata": {},
     "output_type": "execute_result"
    }
   ],
   "source": [
    "df_inativos['Década'] =pd.cut(df_inativos.Ano,[2000,2009,2019,2029],right = True, include_lowest=True,labels=[2000,2010,2020])\n",
    "df_inativos"
   ]
  },
  {
   "cell_type": "markdown",
   "id": "a60629f6-9140-4e52-b566-b15e3fbf6c24",
   "metadata": {},
   "source": [
    "Utiilize as seguintes tabelas para converter as coluna 'OrgN1' e 'OrgN2' para as siglas que os identificam.\n",
    "<table>\n",
    "    <tr>\n",
    "        <th>Ministério</th>\n",
    "        <th>SIGLA</th>\n",
    "    </tr>\n",
    "    <tr>\n",
    "        <td>MINISTERIO DA SAUDE</td>\n",
    "        <td>MS</td>\n",
    "    </tr>\n",
    "    <tr>\n",
    "        <td>MINISTERIO DA EDUCACAO</td>\n",
    "        <td>MEC</td>\n",
    "    </tr>\n",
    "    <tr>\n",
    "        <td>MINISTERIO DO MEIO AMBIENTE'</td>\n",
    "        <td>MMA</td>\n",
    "    </tr>\n",
    "</table>\n",
    "<table>\n",
    "    <tr>\n",
    "        <th>Órgão</th>\n",
    "        <th>SIGLA</th>\n",
    "    </tr>\n",
    "    <tr>\n",
    "        <td>AGENCIA NACIONAL DE SAUDE SUPLEMENTAR</td>\n",
    "        <td>ANS</td>\n",
    "    </tr>\n",
    "    <tr>\n",
    "        <td>FUNDACAO UNIVERSIDADE DE BRASILIA</td>\n",
    "        <td>FUB</td>\n",
    "    </tr>\n",
    "    <tr>\n",
    "        <td>INSTITUTO BRASILEIRO DO MEIO AMBIENTE E DOS RECURSOS NATURAIS RENOVAVEIS</td>\n",
    "        <td>IBAMA</td>\n",
    "    </tr>\n",
    "</table>"
   ]
  },
  {
   "cell_type": "code",
   "execution_count": 15,
   "id": "4965ccd0-206e-4724-ac4f-30a45da9a879",
   "metadata": {
    "tags": []
   },
   "outputs": [
    {
     "data": {
      "text/html": [
       "<div>\n",
       "<style scoped>\n",
       "    .dataframe tbody tr th:only-of-type {\n",
       "        vertical-align: middle;\n",
       "    }\n",
       "\n",
       "    .dataframe tbody tr th {\n",
       "        vertical-align: top;\n",
       "    }\n",
       "\n",
       "    .dataframe thead th {\n",
       "        text-align: right;\n",
       "    }\n",
       "</style>\n",
       "<table border=\"1\" class=\"dataframe\">\n",
       "  <thead>\n",
       "    <tr style=\"text-align: right;\">\n",
       "      <th></th>\n",
       "      <th>Ano</th>\n",
       "      <th>OrgN1</th>\n",
       "      <th>OrgN2</th>\n",
       "      <th>Valor</th>\n",
       "      <th>Década</th>\n",
       "    </tr>\n",
       "  </thead>\n",
       "  <tbody>\n",
       "    <tr>\n",
       "      <th>0</th>\n",
       "      <td>2015</td>\n",
       "      <td>MS</td>\n",
       "      <td>ANS</td>\n",
       "      <td>5.409489e+08</td>\n",
       "      <td>2010</td>\n",
       "    </tr>\n",
       "    <tr>\n",
       "      <th>1</th>\n",
       "      <td>2016</td>\n",
       "      <td>MS</td>\n",
       "      <td>ANS</td>\n",
       "      <td>5.679964e+08</td>\n",
       "      <td>2010</td>\n",
       "    </tr>\n",
       "    <tr>\n",
       "      <th>2</th>\n",
       "      <td>2017</td>\n",
       "      <td>MS</td>\n",
       "      <td>ANS</td>\n",
       "      <td>NaN</td>\n",
       "      <td>2010</td>\n",
       "    </tr>\n",
       "    <tr>\n",
       "      <th>3</th>\n",
       "      <td>2018</td>\n",
       "      <td>MS</td>\n",
       "      <td>ANS</td>\n",
       "      <td>6.262160e+08</td>\n",
       "      <td>2010</td>\n",
       "    </tr>\n",
       "    <tr>\n",
       "      <th>4</th>\n",
       "      <td>2019</td>\n",
       "      <td>MS</td>\n",
       "      <td>ANS</td>\n",
       "      <td>6.575268e+08</td>\n",
       "      <td>2010</td>\n",
       "    </tr>\n",
       "    <tr>\n",
       "      <th>5</th>\n",
       "      <td>2020</td>\n",
       "      <td>MS</td>\n",
       "      <td>ANS</td>\n",
       "      <td>6.904032e+08</td>\n",
       "      <td>2020</td>\n",
       "    </tr>\n",
       "    <tr>\n",
       "      <th>6</th>\n",
       "      <td>2021</td>\n",
       "      <td>MS</td>\n",
       "      <td>ANS</td>\n",
       "      <td>NaN</td>\n",
       "      <td>2020</td>\n",
       "    </tr>\n",
       "    <tr>\n",
       "      <th>7</th>\n",
       "      <td>2015</td>\n",
       "      <td>MMA</td>\n",
       "      <td>IBAMA</td>\n",
       "      <td>4.100644e+10</td>\n",
       "      <td>2010</td>\n",
       "    </tr>\n",
       "    <tr>\n",
       "      <th>8</th>\n",
       "      <td>2016</td>\n",
       "      <td>MMA</td>\n",
       "      <td>IBAMA</td>\n",
       "      <td>4.305676e+10</td>\n",
       "      <td>2010</td>\n",
       "    </tr>\n",
       "    <tr>\n",
       "      <th>9</th>\n",
       "      <td>2017</td>\n",
       "      <td>MMA</td>\n",
       "      <td>IBAMA</td>\n",
       "      <td>4.520960e+10</td>\n",
       "      <td>2010</td>\n",
       "    </tr>\n",
       "    <tr>\n",
       "      <th>10</th>\n",
       "      <td>2018</td>\n",
       "      <td>MMA</td>\n",
       "      <td>IBAMA</td>\n",
       "      <td>4.747008e+10</td>\n",
       "      <td>2010</td>\n",
       "    </tr>\n",
       "    <tr>\n",
       "      <th>11</th>\n",
       "      <td>2019</td>\n",
       "      <td>MMA</td>\n",
       "      <td>IBAMA</td>\n",
       "      <td>4.984359e+10</td>\n",
       "      <td>2010</td>\n",
       "    </tr>\n",
       "    <tr>\n",
       "      <th>12</th>\n",
       "      <td>2020</td>\n",
       "      <td>MMA</td>\n",
       "      <td>IBAMA</td>\n",
       "      <td>5.233577e+10</td>\n",
       "      <td>2020</td>\n",
       "    </tr>\n",
       "    <tr>\n",
       "      <th>13</th>\n",
       "      <td>2021</td>\n",
       "      <td>MMA</td>\n",
       "      <td>IBAMA</td>\n",
       "      <td>NaN</td>\n",
       "      <td>2020</td>\n",
       "    </tr>\n",
       "    <tr>\n",
       "      <th>14</th>\n",
       "      <td>2015</td>\n",
       "      <td>MEC</td>\n",
       "      <td>FUB</td>\n",
       "      <td>3.790568e+10</td>\n",
       "      <td>2010</td>\n",
       "    </tr>\n",
       "    <tr>\n",
       "      <th>15</th>\n",
       "      <td>2016</td>\n",
       "      <td>MEC</td>\n",
       "      <td>FUB</td>\n",
       "      <td>3.980097e+10</td>\n",
       "      <td>2010</td>\n",
       "    </tr>\n",
       "    <tr>\n",
       "      <th>16</th>\n",
       "      <td>2017</td>\n",
       "      <td>MEC</td>\n",
       "      <td>FUB</td>\n",
       "      <td>NaN</td>\n",
       "      <td>2010</td>\n",
       "    </tr>\n",
       "    <tr>\n",
       "      <th>17</th>\n",
       "      <td>2018</td>\n",
       "      <td>MEC</td>\n",
       "      <td>FUB</td>\n",
       "      <td>4.388057e+10</td>\n",
       "      <td>2010</td>\n",
       "    </tr>\n",
       "    <tr>\n",
       "      <th>18</th>\n",
       "      <td>2019</td>\n",
       "      <td>MEC</td>\n",
       "      <td>FUB</td>\n",
       "      <td>4.607460e+10</td>\n",
       "      <td>2010</td>\n",
       "    </tr>\n",
       "    <tr>\n",
       "      <th>19</th>\n",
       "      <td>2020</td>\n",
       "      <td>MEC</td>\n",
       "      <td>FUB</td>\n",
       "      <td>4.837833e+10</td>\n",
       "      <td>2020</td>\n",
       "    </tr>\n",
       "    <tr>\n",
       "      <th>20</th>\n",
       "      <td>2021</td>\n",
       "      <td>MEC</td>\n",
       "      <td>FUB</td>\n",
       "      <td>NaN</td>\n",
       "      <td>2020</td>\n",
       "    </tr>\n",
       "  </tbody>\n",
       "</table>\n",
       "</div>"
      ],
      "text/plain": [
       "     Ano OrgN1  OrgN2         Valor Década\n",
       "0   2015    MS    ANS  5.409489e+08   2010\n",
       "1   2016    MS    ANS  5.679964e+08   2010\n",
       "2   2017    MS    ANS           NaN   2010\n",
       "3   2018    MS    ANS  6.262160e+08   2010\n",
       "4   2019    MS    ANS  6.575268e+08   2010\n",
       "5   2020    MS    ANS  6.904032e+08   2020\n",
       "6   2021    MS    ANS           NaN   2020\n",
       "7   2015   MMA  IBAMA  4.100644e+10   2010\n",
       "8   2016   MMA  IBAMA  4.305676e+10   2010\n",
       "9   2017   MMA  IBAMA  4.520960e+10   2010\n",
       "10  2018   MMA  IBAMA  4.747008e+10   2010\n",
       "11  2019   MMA  IBAMA  4.984359e+10   2010\n",
       "12  2020   MMA  IBAMA  5.233577e+10   2020\n",
       "13  2021   MMA  IBAMA           NaN   2020\n",
       "14  2015   MEC    FUB  3.790568e+10   2010\n",
       "15  2016   MEC    FUB  3.980097e+10   2010\n",
       "16  2017   MEC    FUB           NaN   2010\n",
       "17  2018   MEC    FUB  4.388057e+10   2010\n",
       "18  2019   MEC    FUB  4.607460e+10   2010\n",
       "19  2020   MEC    FUB  4.837833e+10   2020\n",
       "20  2021   MEC    FUB           NaN   2020"
      ]
     },
     "execution_count": 15,
     "metadata": {},
     "output_type": "execute_result"
    }
   ],
   "source": [
    "mapa_org1 = { 'MINISTERIO DA SAUDE':'MS', 'MINISTERIO DA EDUCACAO':'MEC','MINISTERIO DO MEIO AMBIENTE':'MMA'}\n",
    "mapa_org2 = { 'AGENCIA NACIONAL DE SAUDE SUPLEMENTAR': 'ANS','FUNDACAO UNIVERSIDADE DE BRASILIA':'FUB','INSTITUTO BRASILEIRO DO MEIO AMBIENTE E DOS RECURSOS NATURAIS RENOVAVEIS':'IBAMA' }\n",
    "df_inativos['OrgN1'] = df_inativos['OrgN1'].map(mapa_org1)\n",
    "df_inativos['OrgN2'] = df_inativos['OrgN2'].map(mapa_org2)\n",
    "df_inativos"
   ]
  },
  {
   "cell_type": "markdown",
   "id": "e3aae3fb-70dc-492e-b3ce-51499ab5ef28",
   "metadata": {},
   "source": [
    "### Indicadores Criminais RS - Excel"
   ]
  },
  {
   "cell_type": "markdown",
   "id": "36726392-f725-4477-90af-ed9877df3e08",
   "metadata": {},
   "source": [
    "#### Leitura de Arquivo Excel"
   ]
  },
  {
   "attachments": {
    "3811fb5a-72b3-44b5-ae93-167330e64457.png": {
     "image/png": "[encoded data removed]"
    }
   },
   "cell_type": "markdown",
   "id": "b81196ad-e9ee-4e0f-acee-077df98f42ba",
   "metadata": {
    "tags": []
   },
   "source": [
    "O módulo Pandas permite a leitura de diversos formatos de arquivos, inclusive planilhas Excel, muito utilizadas para o armazenamento e publicação de pequenas bases de dados.<br>\n",
    "A base de indicadores criminais por município e ano do Estado do Rio Grande do Sul, publicada no endereço https://ssp.rs.gov.br/indicadores-criminais, é publicada no formato Excel.<br>\n",
    "O arquivo contém dados consolidados na planilha denominada \"Geral\" e dados para cada município com periodicidade anual e mensal.<br>\n",
    "![image.png](attachment:3811fb5a-72b3-44b5-ae93-167330e64457.png)"
   ]
  },
  {
   "cell_type": "markdown",
   "id": "01cb12d1-3824-4c5c-be67-637c6edfd1ce",
   "metadata": {},
   "source": [
    "O arquivo de 2022 está localizado no seguinte arquivo:"
   ]
  },
  {
   "cell_type": "code",
   "execution_count": 16,
   "id": "3d57f869-e5ff-40ac-9975-6e5bbbc10945",
   "metadata": {
    "tags": []
   },
   "outputs": [],
   "source": [
    "arquivo_2022 =  \"./data/indicadores_criminais_rs/14101106-site-geral-e-municipios-ano-2022-atualizado-em-04-set-2023-dados-cvli-atualizado-publicacao.xlsx\""
   ]
  },
  {
   "attachments": {
    "b1b4addc-7bdc-4bee-b949-0b9d28b663dd.png": {
     "image/png": "[encoded data removed]"
    }
   },
   "cell_type": "markdown",
   "id": "405c155c-a2e9-406e-a679-6498dfcf94f2",
   "metadata": {},
   "source": [
    "Leia a documentação do método pandas.read_excel(), disponível no endereço https://pandas.pydata.org/docs/reference/api/pandas.read_excel.html, e escreva uma função para ler os dados da planilha \"2022\", que contém os indicadores separados por município consolidados no ano.<br>\n",
    "Note que os dados, com o cabeçalho, se iniciam na linha 12 da planilha:\n",
    "![image.png](attachment:b1b4addc-7bdc-4bee-b949-0b9d28b663dd.png)<br>\n",
    "Utilize os parâmetros sheet_name, skiprows, nrows e header para especificar as linhas da planilha que deverão ser importadas. Liste o nome das colunas do DataFrame."
   ]
  },
  {
   "cell_type": "code",
   "execution_count": 17,
   "id": "d8429bc6-f00d-4a24-b355-4e2c2bbdc665",
   "metadata": {
    "tags": []
   },
   "outputs": [
    {
     "data": {
      "text/plain": [
       "Index(['Municípios', ' Homicídio  Doloso',\n",
       "       'Total de vítimas de Homicidio Doloso', ' Latrocínio', ' Furtos',\n",
       "       'Abigeato*', 'Furto de Veículo ', ' Roubos', ' Roubo de Veículo',\n",
       "       ' Estelionato', ' Delitos Relacionados à Armas e Munições',\n",
       "       ' Entorpecentes - Posse', ' Entorpecentes - Tráfico',\n",
       "       'Vítimas de Latrocínio', 'Vítimas de Lesão Corp. Seg. Morte',\n",
       "       'Total de Vítimas de CVLI*'],\n",
       "      dtype='object')"
      ]
     },
     "execution_count": 17,
     "metadata": {},
     "output_type": "execute_result"
    }
   ],
   "source": [
    "import pandas as pd\n",
    "from pandas import DataFrame\n",
    "\n",
    "df_2022 =  pd.read_excel(arquivo_2022,sheet_name='2022', skiprows=10, header=1,nrows=497)\n",
    "df_2022.columns"
   ]
  },
  {
   "cell_type": "code",
   "execution_count": 18,
   "id": "cb0eff6a-12dc-4170-8de4-6c652fafa5b3",
   "metadata": {},
   "outputs": [
    {
     "name": "stdout",
     "output_type": "stream",
     "text": [
      "Requirement already satisfied: openpyxl in c:\\users\\bootcamp_enap\\venv_bootcamp\\lib\\site-packages (3.1.2)\n",
      "Requirement already satisfied: et-xmlfile in c:\\users\\bootcamp_enap\\venv_bootcamp\\lib\\site-packages (from openpyxl) (1.1.0)\n"
     ]
    }
   ],
   "source": [
    "!pip install openpyxl"
   ]
  },
  {
   "cell_type": "markdown",
   "id": "4b5f9023-ef9e-4df4-9ea9-19c0cebba2cf",
   "metadata": {
    "tags": []
   },
   "source": [
    "Utilizando as duas funções a seguir, que retornam uma lista dos arquivos excel presentes na pasta e o ano referente a cada um deles, escreva um programa para ler todos os arquivos e agrupar os dados em um mesmo DataFrame utilizando o método DataFrame.concat().<br>\n",
    "Lembre-se de acrescentar uma coluna informando o ano a que se refere cada linha antes de juntar os dados."
   ]
  },
  {
   "cell_type": "code",
   "execution_count": 19,
   "id": "0720c77b-14de-418e-9e01-7fbac6043dce",
   "metadata": {
    "tags": []
   },
   "outputs": [],
   "source": [
    "import os\n",
    "import glob\n",
    "\n",
    "def lista_arquivos_xlsx(diretorio='./data/indicadores_criminais_rs/'):\n",
    "    return(glob.glob(os.path.join(diretorio, '*.xlsx')))\n",
    "\n",
    "def ano_arquivo(nome_arquivo):\n",
    "    parte6 = (nome_arquivo.split('-')[6])\n",
    "    \n",
    "    if  (parte6).isdecimal():\n",
    "        return parte6\n",
    "    else:\n",
    "        return (nome_arquivo.split('-')[5])"
   ]
  },
  {
   "cell_type": "code",
   "execution_count": 20,
   "id": "88913008-daec-4484-90bc-22318bad4c3b",
   "metadata": {
    "tags": []
   },
   "outputs": [],
   "source": [
    "def le_baseRS():\n",
    "    df_consolidado = DataFrame()\n",
    "    for arquivo in lista_arquivos_xlsx():\n",
    "        ano = ano_arquivo(arquivo)\n",
    "        df_ano = pd.read_excel(arquivo,sheet_name=ano, skiprows=10, header=1,nrows=497)\n",
    "        df_ano['ano']=ano\n",
    "        df_consolidado = pd.concat([df_consolidado,df_ano])\n",
    "    return df_consolidado\n",
    "\n",
    "df_crimesRS = le_baseRS()"
   ]
  },
  {
   "cell_type": "markdown",
   "id": "0ea25936-486a-4197-8e01-1d590cb25b88",
   "metadata": {},
   "source": [
    "Verifique o nome das colunas do DataFrame resultante. O número de colunas é o esperado?<br>"
   ]
  },
  {
   "cell_type": "code",
   "execution_count": 21,
   "id": "b582f373-4893-41b8-bf7d-6a18ed3b06df",
   "metadata": {
    "tags": []
   },
   "outputs": [
    {
     "data": {
      "text/plain": [
       "Index(['Municípios', ' Homicídio  Doloso',\n",
       "       'Total de vítimas de Homicidio Doloso', ' Latrocínio', ' Furtos',\n",
       "       'Abigeato*', 'Furto de Veículo ', ' Roubos', ' Roubo de Veículo',\n",
       "       ' Estelionato', ' Delitos Relacionados à Armas e Munições',\n",
       "       ' Entorpecentes - Posse', ' Entorpecentes - Tráfico',\n",
       "       'Vítimas de Latrocínio', 'Vítimas de Lesão Corp. Seg. Morte', 'ano',\n",
       "       ' Total de Vítimas de CVLI*', 'Total de Vítimas de CVLI*'],\n",
       "      dtype='object')"
      ]
     },
     "execution_count": 21,
     "metadata": {},
     "output_type": "execute_result"
    }
   ],
   "source": [
    "df_crimesRS.columns"
   ]
  },
  {
   "cell_type": "markdown",
   "id": "497f52ae-6896-4116-bc92-7b4dcc9cd00d",
   "metadata": {
    "tags": []
   },
   "source": [
    "Modifique o código para remover os espaços dos nomes do DataFrame lido antes de combiná-lo com o DataFrame consolidado.<br>\n",
    "Verifique novamente o nome das colunas.<br>\n",
    "Dica: utilize o método str.strip() no nome das colunas."
   ]
  },
  {
   "cell_type": "code",
   "execution_count": 22,
   "id": "8b511361-b7d6-4e4f-8867-9d1ba1498e05",
   "metadata": {
    "tags": []
   },
   "outputs": [
    {
     "data": {
      "text/plain": [
       "Index(['Municípios', 'Homicídio  Doloso',\n",
       "       'Total de vítimas de Homicidio Doloso', 'Latrocínio', 'Furtos',\n",
       "       'Abigeato*', 'Furto de Veículo', 'Roubos', 'Roubo de Veículo',\n",
       "       'Estelionato', 'Delitos Relacionados à Armas e Munições',\n",
       "       'Entorpecentes - Posse', 'Entorpecentes - Tráfico',\n",
       "       'Vítimas de Latrocínio', 'Vítimas de Lesão Corp. Seg. Morte', 'ano',\n",
       "       'Total de Vítimas de CVLI*'],\n",
       "      dtype='object')"
      ]
     },
     "execution_count": 22,
     "metadata": {},
     "output_type": "execute_result"
    }
   ],
   "source": [
    "def le_baseRS():\n",
    "    df_consolidado = DataFrame()\n",
    "    for arquivo in lista_arquivos_xlsx():\n",
    "        ano = ano_arquivo(arquivo)\n",
    "        df_ano = pd.read_excel(arquivo,sheet_name=ano, skiprows=10, header=1,nrows=497)\n",
    "        df_ano.columns = [ str.strip(column_name) for column_name in df_ano.columns]\n",
    "        df_ano['ano']=ano\n",
    "        df_consolidado = pd.concat([df_consolidado,df_ano])\n",
    "    return df_consolidado\n",
    "\n",
    "df_crimesRS = le_baseRS()\n",
    "\n",
    "df_crimesRS.columns"
   ]
  },
  {
   "cell_type": "markdown",
   "id": "cc025561-f76e-437d-acf4-0d9012b4bd2a",
   "metadata": {},
   "source": [
    "Exiba a soma da quantidade total vítimas de homicídio doloso registrados na base de dados:"
   ]
  },
  {
   "cell_type": "code",
   "execution_count": 23,
   "id": "767746bc-07e7-4915-bc6d-82bf44f035c3",
   "metadata": {
    "tags": []
   },
   "outputs": [
    {
     "data": {
      "text/plain": [
       "22929"
      ]
     },
     "execution_count": 23,
     "metadata": {},
     "output_type": "execute_result"
    }
   ],
   "source": [
    "df_crimesRS['Homicídio  Doloso'].sum()"
   ]
  },
  {
   "cell_type": "markdown",
   "id": "22685166-7f8e-4b1b-96a5-88853d0e19d8",
   "metadata": {},
   "source": [
    "Utilizando o metodo isnull(), verifique se há valores nulos em alguma das colunas da base:"
   ]
  },
  {
   "cell_type": "code",
   "execution_count": 24,
   "id": "a0631e6c-1452-4288-b6e5-2a7f37465a64",
   "metadata": {
    "tags": []
   },
   "outputs": [
    {
     "data": {
      "text/plain": [
       "Municípios                                 False\n",
       "Homicídio  Doloso                          False\n",
       "Total de vítimas de Homicidio Doloso       False\n",
       "Latrocínio                                 False\n",
       "Furtos                                     False\n",
       "Abigeato*                                  False\n",
       "Furto de Veículo                           False\n",
       "Roubos                                     False\n",
       "Roubo de Veículo                           False\n",
       "Estelionato                                False\n",
       "Delitos Relacionados à Armas e Munições    False\n",
       "Entorpecentes - Posse                      False\n",
       "Entorpecentes - Tráfico                    False\n",
       "Vítimas de Latrocínio                      False\n",
       "Vítimas de Lesão Corp. Seg. Morte          False\n",
       "ano                                        False\n",
       "Total de Vítimas de CVLI*                   True\n",
       "dtype: bool"
      ]
     },
     "execution_count": 24,
     "metadata": {},
     "output_type": "execute_result"
    }
   ],
   "source": [
    "df_crimesRS.isnull().any()"
   ]
  },
  {
   "cell_type": "markdown",
   "id": "42514066-ad82-4755-9850-270a4501a823",
   "metadata": {},
   "source": [
    "Utilizando o método drop_duplicates(), liste os anos nos quais a coluna 'Total de Vítimas de CVLI*' possui valores nulos.<br>\n",
    "Em seguida, verifique nas planilhas originais se a coluna estava presente nesses anos."
   ]
  },
  {
   "cell_type": "code",
   "execution_count": 25,
   "id": "516b8a63-6a4c-45f0-9d6c-22dfc5c9f09f",
   "metadata": {
    "tags": []
   },
   "outputs": [
    {
     "data": {
      "text/html": [
       "<div>\n",
       "<style scoped>\n",
       "    .dataframe tbody tr th:only-of-type {\n",
       "        vertical-align: middle;\n",
       "    }\n",
       "\n",
       "    .dataframe tbody tr th {\n",
       "        vertical-align: top;\n",
       "    }\n",
       "\n",
       "    .dataframe thead th {\n",
       "        text-align: right;\n",
       "    }\n",
       "</style>\n",
       "<table border=\"1\" class=\"dataframe\">\n",
       "  <thead>\n",
       "    <tr style=\"text-align: right;\">\n",
       "      <th></th>\n",
       "      <th>Total de Vítimas de CVLI*</th>\n",
       "      <th>ano</th>\n",
       "    </tr>\n",
       "  </thead>\n",
       "  <tbody>\n",
       "    <tr>\n",
       "      <th>0</th>\n",
       "      <td>NaN</td>\n",
       "      <td>2018</td>\n",
       "    </tr>\n",
       "    <tr>\n",
       "      <th>0</th>\n",
       "      <td>NaN</td>\n",
       "      <td>2019</td>\n",
       "    </tr>\n",
       "    <tr>\n",
       "      <th>0</th>\n",
       "      <td>NaN</td>\n",
       "      <td>2017</td>\n",
       "    </tr>\n",
       "    <tr>\n",
       "      <th>0</th>\n",
       "      <td>NaN</td>\n",
       "      <td>2016</td>\n",
       "    </tr>\n",
       "    <tr>\n",
       "      <th>0</th>\n",
       "      <td>NaN</td>\n",
       "      <td>2015</td>\n",
       "    </tr>\n",
       "    <tr>\n",
       "      <th>0</th>\n",
       "      <td>NaN</td>\n",
       "      <td>2014</td>\n",
       "    </tr>\n",
       "    <tr>\n",
       "      <th>0</th>\n",
       "      <td>NaN</td>\n",
       "      <td>2013</td>\n",
       "    </tr>\n",
       "    <tr>\n",
       "      <th>0</th>\n",
       "      <td>NaN</td>\n",
       "      <td>2012</td>\n",
       "    </tr>\n",
       "  </tbody>\n",
       "</table>\n",
       "</div>"
      ],
      "text/plain": [
       "   Total de Vítimas de CVLI*   ano\n",
       "0                        NaN  2018\n",
       "0                        NaN  2019\n",
       "0                        NaN  2017\n",
       "0                        NaN  2016\n",
       "0                        NaN  2015\n",
       "0                        NaN  2014\n",
       "0                        NaN  2013\n",
       "0                        NaN  2012"
      ]
     },
     "execution_count": 25,
     "metadata": {},
     "output_type": "execute_result"
    }
   ],
   "source": [
    "df_crimesRS[df_crimesRS['Total de Vítimas de CVLI*'].isna()][[ 'Total de Vítimas de CVLI*','ano']].drop_duplicates()"
   ]
  },
  {
   "cell_type": "markdown",
   "id": "4b40864f-a067-44cc-a24d-afc500b2276b",
   "metadata": {},
   "source": [
    "Elimine a coluna que possui valores nulos e armazene a DataFrame em um arquivo denominado \"df_crimesRS.json\" para uso nas próximas aulas."
   ]
  },
  {
   "cell_type": "code",
   "execution_count": 26,
   "id": "db4140c2-ff9b-45fd-83d6-91fd71b9da50",
   "metadata": {
    "tags": []
   },
   "outputs": [],
   "source": [
    "df_crimesRS = df_crimesRS.drop('Total de Vítimas de CVLI*', axis=1)"
   ]
  },
  {
   "cell_type": "code",
   "execution_count": 27,
   "id": "3d22a7fa-bbcc-4f29-ab92-261e95a67e04",
   "metadata": {
    "tags": []
   },
   "outputs": [],
   "source": [
    "df_crimesRS=df_crimesRS.reset_index()\n",
    "df_crimesRS.to_json('df_crimesRS.json')"
   ]
  }
 ],
 "metadata": {
  "kernelspec": {
   "display_name": "Python 3 (ipykernel)",
   "language": "python",
   "name": "python3"
  },
  "language_info": {
   "codemirror_mode": {
    "name": "ipython",
    "version": 3
   },
   "file_extension": ".py",
   "mimetype": "text/x-python",
   "name": "python",
   "nbconvert_exporter": "python",
   "pygments_lexer": "ipython3",
   "version": "3.11.5"
  }
 },
 "nbformat": 4,
 "nbformat_minor": 5
}
