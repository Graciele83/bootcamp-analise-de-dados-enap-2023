{
 "cells": [
  {
   "cell_type": "markdown",
   "id": "fa31426e-b1a5-4eaf-84af-c2bb9d68d503",
   "metadata": {},
   "source": [
    "# Exercícios - Limpeza e Preparação dos Dados 🏗️ 🎲"
   ]
  },
  {
   "cell_type": "markdown",
   "id": "df4d1f13",
   "metadata": {},
   "source": [
    "Vamos trabalhar hoje com a limpeza e a organização de um *dataset* de qualidade de vinhos 🍷. Iremos recordar alguns conceitos vistos na aula passada e exercitar a detecção e o tratamento de *outliers*. Você pode conferir a descrição do conjunto de dados através do *link* abaixo: \n",
    "\n",
    "```\n",
    "Dataset de qualidade de vinhos: https://archive.ics.uci.edu/dataset/186/wine+quality\n",
    "```"
   ]
  },
  {
   "cell_type": "markdown",
   "id": "debd119f",
   "metadata": {},
   "source": [
    "## Carga e preparação do dataset\n",
    "Carregue o *dataset* que descreve a qualidade de vinhos tintos a partir da seguinte url:\n",
    "```\n",
    "url_red = \"https://archive.ics.uci.edu/ml/machine-learning-databases/wine-quality/winequality-red.csv\"\n",
    "```\n"
   ]
  },
  {
   "cell_type": "code",
   "execution_count": null,
   "id": "a600cdb0",
   "metadata": {},
   "outputs": [],
   "source": []
  },
  {
   "cell_type": "markdown",
   "id": "66305150",
   "metadata": {},
   "source": [
    "Estude o *dataset* com as funções vistas nas aulas passadas (como **head()**, **describe()** e **info()**)."
   ]
  },
  {
   "cell_type": "code",
   "execution_count": null,
   "id": "26ab8807",
   "metadata": {},
   "outputs": [],
   "source": []
  },
  {
   "cell_type": "markdown",
   "id": "1ff469b5",
   "metadata": {},
   "source": [
    "Verifique e remova, se houver, linhas duplicadas no *dataset*."
   ]
  },
  {
   "cell_type": "code",
   "execution_count": null,
   "id": "3f9ed555",
   "metadata": {},
   "outputs": [],
   "source": []
  },
  {
   "cell_type": "markdown",
   "id": "776058ea",
   "metadata": {},
   "source": [
    "Você percebeu que este *dataset* não possui valores nulos? Assim não tem graça! Dificilmente encontraremos *datasets* assim como analistas de dados... 🤷🏻‍♀️ Então vamos introduzir alguns valores nulos só para tratarmos deles. Atribua o valor `None` das linhas 10 a 20 na coluna `fixed acidity` e verifique novamente a presença de valores nulos imprimindo na saída a quantidade de linhas nulas por coluna."
   ]
  },
  {
   "cell_type": "code",
   "execution_count": null,
   "id": "29359acb",
   "metadata": {},
   "outputs": [],
   "source": []
  },
  {
   "cell_type": "markdown",
   "id": "df40c252",
   "metadata": {},
   "source": [
    "Agora precisamos decidir o que faremos com os valores nulos. Vamos verificar como é a distribuição da variável `fixed acidity`? Plote um boxplot desta coluna. Decida que método você utilizará para preencher os valores nulos (ou você prefere descartá-los?)"
   ]
  },
  {
   "cell_type": "code",
   "execution_count": null,
   "id": "45aaf21d",
   "metadata": {},
   "outputs": [],
   "source": []
  },
  {
   "cell_type": "markdown",
   "id": "89d111f5",
   "metadata": {},
   "source": [
    "Detectando e filtrando os valores outliers.\n",
    "1. Calcule o IQR para a coluna ```fixed acidity``` e identifique os outliers.\n",
    "2. Determine o que você fará com os outliers (substituir os valores ou removê-los?)"
   ]
  },
  {
   "cell_type": "code",
   "execution_count": null,
   "id": "ef8bc718",
   "metadata": {},
   "outputs": [],
   "source": []
  }
 ],
 "metadata": {
  "kernelspec": {
   "display_name": "Python 3 (ipykernel)",
   "language": "python",
   "name": "python3"
  },
  "language_info": {
   "codemirror_mode": {
    "name": "ipython",
    "version": 3
   },
   "file_extension": ".py",
   "mimetype": "text/x-python",
   "name": "python",
   "nbconvert_exporter": "python",
   "pygments_lexer": "ipython3",
   "version": "3.10.6"
  }
 },
 "nbformat": 4,
 "nbformat_minor": 5
}
