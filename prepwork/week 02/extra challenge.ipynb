{
 "cells": [
  {
   "cell_type": "markdown",
   "id": "4c13bcfb-b110-4efa-af15-137efc89e598",
   "metadata": {},
   "source": [
    "# Desafio Continuado (Semana 02): Duas Menores Notas"
   ]
  },
  {
   "cell_type": "markdown",
   "id": "8c3dfaa3-702d-4dc6-ba2e-5b99385f975c",
   "metadata": {
    "tags": []
   },
   "source": [
    "## Faça um programa que calcule as duas menores notas de um aluno com base em todas as suas notas de faculdade"
   ]
  },
  {
   "cell_type": "markdown",
   "id": "d6ea29cb-b200-451c-b131-1688a491e57f",
   "metadata": {},
   "source": [
    "<b>Atenção: presumimos que a parte anterior deste desafio foi solucionada</b>\n",
    "\n",
    "Este desafio tem como pretensão avaliar seu vocabulário no Python.\n",
    "\n",
    "Programadoras mais avançadas têm distintas soluções para um mesmo problema.\n",
    "\n",
    "Incentivamos o exercício da criatividade, mas saiba que prover ao menos uma solução é suficiente para este desafio."
   ]
  },
  {
   "cell_type": "markdown",
   "id": "e2385eb3-ea01-4888-8c17-f957cb5e7276",
   "metadata": {},
   "source": [
    "## Entrada dos Dados"
   ]
  },
  {
   "cell_type": "markdown",
   "id": "9f5bb20f-5566-4a3e-a7f2-65d690fa6b9d",
   "metadata": {},
   "source": [
    "Considere as notas geradas aleatoriamente pelo código abaixo"
   ]
  },
  {
   "cell_type": "code",
   "execution_count": 1,
   "id": "5b36144e-9f5a-41ca-a1aa-57b4d5c18c43",
   "metadata": {
    "tags": []
   },
   "outputs": [],
   "source": [
    "import random\n",
    "notas = [round(random.uniform(0, 10), 2) for _ in range(100)]"
   ]
  },
  {
   "cell_type": "markdown",
   "id": "f9242b88-8ec1-4e65-ad1f-56d03c2e6425",
   "metadata": {},
   "source": [
    "Veja que é difícil encontrar as menores notas \"manualmente\""
   ]
  },
  {
   "cell_type": "code",
   "execution_count": 2,
   "id": "662fd21c-5f63-46a3-90ff-510378063fd7",
   "metadata": {
    "tags": []
   },
   "outputs": [
    {
     "name": "stdout",
     "output_type": "stream",
     "text": [
      "6.95; 4.52; 4.56; 3.14; 0.02; 0.28; 6.11; 1.51; 8.68; 8.32; 2.17; 3.26; 8.97; 0.31; 9.18; 1.64; 7.51; 7.75; 2.69; 4.84; 3.39; 0.87; 9.81; 4.86; 5.51; 4.0; 6.43; 2.78; 2.45; 6.17; 7.13; 3.47; 7.42; 0.92; 6.42; 5.4; 4.31; 0.16; 3.11; 3.64; 1.82; 2.69; 5.61; 0.16; 7.48; 0.23; 5.17; 9.38; 1.75; 6.2; 9.0; 4.56; 9.5; 0.21; 4.98; 1.54; 8.13; 0.48; 3.56; 4.5; 5.66; 2.98; 6.16; 4.18; 4.47; 6.12; 0.09; 7.25; 3.48; 7.44; 2.16; 4.99; 6.03; 9.0; 4.83; 2.11; 6.46; 8.26; 9.81; 8.18; 4.11; 5.47; 5.17; 2.06; 2.98; 6.91; 9.68; 7.12; 8.37; 3.37; 0.2; 6.63; 4.21; 1.39; 4.99; 8.29; 9.74; 5.05; 1.32; 4.1; "
     ]
    }
   ],
   "source": [
    "for nota in notas: print(nota, end='; ')"
   ]
  },
  {
   "cell_type": "markdown",
   "id": "34ba3964-d65b-49fa-ab33-83cecc3820b6",
   "metadata": {},
   "source": [
    "## Soluções"
   ]
  },
  {
   "cell_type": "markdown",
   "id": "28afef33-c6c1-40e6-b31e-d6bc530f3efb",
   "metadata": {},
   "source": [
    "### Solução 01"
   ]
  },
  {
   "cell_type": "markdown",
   "id": "e2d5ded9-f91a-4c71-b980-dd2d36bb7e22",
   "metadata": {},
   "source": [
    "Use uma função matemática nativa e a função 'remove' de listas"
   ]
  },
  {
   "cell_type": "markdown",
   "id": "3eba1dd4-5915-4f13-aaa3-542d5c5eb5ad",
   "metadata": {},
   "source": [
    "👉 Nível de dificuldade: 🌶️🌶️🌶️"
   ]
  },
  {
   "cell_type": "code",
   "execution_count": 3,
   "id": "edb9577f-a144-4fa0-942f-a4a5d0c57a30",
   "metadata": {
    "tags": []
   },
   "outputs": [],
   "source": [
    "def duas_menores_notas(notas):\n",
    "    #copie as notas para uma lista auxiliar de modo a não alterar a estrutura original ao remover a menor nota\n",
    "    notas_copia = notas[:]\n",
    "    \n",
    "    #busque a menor nota\n",
    "    menor_nota = min(notas_copia)\n",
    "    \n",
    "    #remova a menor nota da lista auxiliar\n",
    "    notas_copia.remove(menor_nota)\n",
    "    \n",
    "    #a segunda menor nota será a menor nota da lista de notas remanescente\n",
    "    segunda_menor_nota = min(notas_copia)\n",
    "    \n",
    "    return [menor_nota, segunda_menor_nota]"
   ]
  },
  {
   "cell_type": "code",
   "execution_count": 4,
   "id": "4c5426ff-75da-4b36-8d39-b63f5f227c5b",
   "metadata": {
    "tags": []
   },
   "outputs": [
    {
     "data": {
      "text/plain": [
       "[0.02, 0.09]"
      ]
     },
     "execution_count": 4,
     "metadata": {},
     "output_type": "execute_result"
    }
   ],
   "source": [
    "duas_menores_notas(notas)"
   ]
  },
  {
   "cell_type": "markdown",
   "id": "8c095685-c68b-4855-babf-6b8f47a63a43",
   "metadata": {
    "tags": []
   },
   "source": [
    "### Solução 02"
   ]
  },
  {
   "cell_type": "markdown",
   "id": "2d2333e1-c959-46d2-988b-0b49a1d42a8a",
   "metadata": {},
   "source": [
    "Use estruturas de repetição e controle"
   ]
  },
  {
   "cell_type": "markdown",
   "id": "90709815-c011-4b0d-b096-d37192c31fe7",
   "metadata": {
    "tags": []
   },
   "source": [
    "👉 Nível de dificuldade: 🌶️🌶️🌶️"
   ]
  },
  {
   "cell_type": "code",
   "execution_count": 5,
   "id": "82dcf32e-3ddc-4d10-844e-025893faae43",
   "metadata": {
    "tags": []
   },
   "outputs": [],
   "source": [
    "def duas_menores_notas(notas):\n",
    "    #crie uma variável que armazenará a menor nota e outra para armazenar seu índice\n",
    "    menor_nota, idx_menor_nota = float('+inf'), None\n",
    "    \n",
    "    #percorra a lista de notas e obtenha a menor nota e o seu índice\n",
    "    for idx, nota in enumerate(notas):\n",
    "        if nota < menor_nota:\n",
    "            idx_menor_nota, menor_nota = idx, nota\n",
    "    \n",
    "    #crie uma variável que armazenará a segunda menor nota\n",
    "    segunda_menor_nota = float('+inf')\n",
    "    \n",
    "    #percorra a lista de notas e obtenha a (segunda) menor nota ao se certificar que pulamos o índice da menor nota\n",
    "    for idx, nota in enumerate(notas):\n",
    "        if nota < segunda_menor_nota and idx != idx_menor_nota:\n",
    "            segunda_menor_nota = nota\n",
    "\n",
    "    return [menor_nota, segunda_menor_nota]"
   ]
  },
  {
   "cell_type": "code",
   "execution_count": 6,
   "id": "9c3b7b36-2d1b-4985-aad5-e2923535dc7e",
   "metadata": {
    "tags": []
   },
   "outputs": [
    {
     "data": {
      "text/plain": [
       "[0.02, 0.09]"
      ]
     },
     "execution_count": 6,
     "metadata": {},
     "output_type": "execute_result"
    }
   ],
   "source": [
    "duas_menores_notas(notas)"
   ]
  },
  {
   "cell_type": "markdown",
   "id": "bec70f89-9c13-4d67-b248-15a8d28273b4",
   "metadata": {},
   "source": [
    "### Solução 03"
   ]
  },
  {
   "cell_type": "markdown",
   "id": "be4c080f-a345-4670-950f-1b5db733ee49",
   "metadata": {},
   "source": [
    "Use função de ordenação nativa e extraia os dois primeiros elementos com fatiamento"
   ]
  },
  {
   "cell_type": "markdown",
   "id": "e3f1cd29-8af9-49fc-b30a-d77f92d0b832",
   "metadata": {},
   "source": [
    "👉 Nível de dificuldade: 🌶️"
   ]
  },
  {
   "cell_type": "code",
   "execution_count": 7,
   "id": "27b9191c-ea51-401c-b7e7-806bcde69057",
   "metadata": {
    "tags": []
   },
   "outputs": [],
   "source": [
    "def duas_menores_notas(notas):\n",
    "    #ordene as notas para uma lista auxiliar de modo a não alterar a estrutura original ao construir a heap\n",
    "    notas_copia_ordenada = sorted(notas)\n",
    "    \n",
    "    #extraia as 2 menores notas da lista ordenada resultante\n",
    "    return notas_copia_ordenada[0:2]"
   ]
  },
  {
   "cell_type": "code",
   "execution_count": 8,
   "id": "5e4d420f-d2f6-41b2-9afc-6efb7b55fdc8",
   "metadata": {
    "tags": []
   },
   "outputs": [
    {
     "data": {
      "text/plain": [
       "[0.02, 0.09]"
      ]
     },
     "execution_count": 8,
     "metadata": {},
     "output_type": "execute_result"
    }
   ],
   "source": [
    "duas_menores_notas(notas)"
   ]
  },
  {
   "cell_type": "markdown",
   "id": "ec4784de-7ff1-4de1-8dd8-a4dbd373a176",
   "metadata": {},
   "source": [
    "### Solução 04"
   ]
  },
  {
   "cell_type": "markdown",
   "id": "97c86d60-3b9e-4b1b-af76-9218652668e5",
   "metadata": {},
   "source": [
    "Use biblioteca de estrutura de dados mais avançada, chamada heap, e extraia duas vezes uma nota da heap"
   ]
  },
  {
   "cell_type": "markdown",
   "id": "b3dd264d-a577-44ab-9360-3ad6357116b6",
   "metadata": {},
   "source": [
    "👉 Nível de dificuldade: 🌶️🌶️"
   ]
  },
  {
   "cell_type": "code",
   "execution_count": 9,
   "id": "37290204-2da4-43ef-881e-11a43f169428",
   "metadata": {},
   "outputs": [],
   "source": [
    "import heapq\n",
    "\n",
    "def duas_menores_notas(notas):\n",
    "    #copie as notas para uma lista auxiliar de modo a não alterar a estrutura original ao construir a heap\n",
    "    notas_copia = notas[:]\n",
    "    \n",
    "    #construa uma heap a partir da lista de notas\n",
    "    heapq.heapify(notas_copia)\n",
    "    \n",
    "    #extraia a menor nota 2 vezes (que será a menor e a segunda menor nota, respectivamente)\n",
    "    return [heapq.heappop(notas_copia), heapq.heappop(notas_copia)]"
   ]
  },
  {
   "cell_type": "code",
   "execution_count": 10,
   "id": "50447e44-b9fb-441c-82ce-3c2e673096c2",
   "metadata": {},
   "outputs": [
    {
     "data": {
      "text/plain": [
       "[0.02, 0.09]"
      ]
     },
     "execution_count": 10,
     "metadata": {},
     "output_type": "execute_result"
    }
   ],
   "source": [
    "duas_menores_notas(notas)"
   ]
  }
 ],
 "metadata": {
  "kernelspec": {
   "display_name": "Python 3 (ipykernel)",
   "language": "python",
   "name": "python3"
  },
  "language_info": {
   "codemirror_mode": {
    "name": "ipython",
    "version": 3
   },
   "file_extension": ".py",
   "mimetype": "text/x-python",
   "name": "python",
   "nbconvert_exporter": "python",
   "pygments_lexer": "ipython3",
   "version": "3.10.6"
  }
 },
 "nbformat": 4,
 "nbformat_minor": 5
}
