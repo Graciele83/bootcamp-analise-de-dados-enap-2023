{
 "cells": [
  {
   "cell_type": "markdown",
   "id": "77747bdd-3861-4037-a075-e705b10e40de",
   "metadata": {},
   "source": [
    "# Questão 1 - Formatando Prazos"
   ]
  },
  {
   "cell_type": "markdown",
   "id": "7eb5e0fa-6427-4ac5-85e0-c812eff4473c",
   "metadata": {},
   "source": [
    "Em um sistema, determinada função retorna o prazo como um número inteiro de meses, da seguinte forma: prazoInvestimento(1000,10) = 89\n",
    "\n",
    "Para tornar a saídam mais amigável para os usuários do sistema, escreva uma função que converta o prazo em meses para uma string no  formato \"X anos e Y meses\".\n",
    "\n",
    "É um requisito que a função trate corretamente o singular e o plural, e não exiba expressões como \"0 ano\" ou \"0 mês\".\n",
    "\n",
    "Saídas esperadas:\n",
    "\n",
    "$1 \\rightarrow 1$ mês\n",
    "\n",
    "$2 \\rightarrow 2$ meses\n",
    "\n",
    "$12 \\rightarrow 1$ ano\n",
    "\n",
    "$13 \\rightarrow 1$ ano e $1$ mês\n",
    "\n",
    "$24 \\rightarrow 2$ anos\n",
    "\n",
    "$26 \\rightarrow 2$ anos e 2 meses"
   ]
  },
  {
   "cell_type": "code",
   "execution_count": 1,
   "id": "c08aaef7",
   "metadata": {
    "tags": []
   },
   "outputs": [],
   "source": [
    "def prazo_mesesAnos(prazo=0):\n",
    "    prazo = abs(prazo)\n",
    "    anos = prazo//12\n",
    "    meses = prazo%12\n",
    "    saida = ''\n",
    "    if anos >0:\n",
    "        if anos == 1:\n",
    "            saida += f'{anos} ano'\n",
    "        else:\n",
    "            saida += f'{anos} anos'\n",
    "        if meses > 0:\n",
    "            saida += ' e '\n",
    "    if meses > 0:\n",
    "        if meses == 1:\n",
    "            saida += f'{meses} mês'\n",
    "        else:\n",
    "            saida +=f'{meses} meses'\n",
    "    return (saida)"
   ]
  },
  {
   "cell_type": "markdown",
   "id": "a795151c-50b1-4abe-b0ee-ef39dad17699",
   "metadata": {
    "tags": []
   },
   "source": [
    "# Questão 2 - Corrida do Milhão"
   ]
  },
  {
   "cell_type": "markdown",
   "id": "1f7b92b7-ea04-4fd8-a28c-8a397eb328eb",
   "metadata": {
    "tags": []
   },
   "source": [
    "Dois investidores desejam acumular um valor igual ou superior a um milhão de reais e adotam duas diferentes estratégias.\n",
    "\n",
    "O primeiro investe 5 mil reais mensalmente em uma aplicação com rendimento de 1% ao mês.\n",
    "\n",
    "O segundo optou por investir mensalmente 3 mil reais em uma aplicação com rendimento de 1,5% ao mês.\n",
    "\n",
    "Quantos anos e meses cada um deles demorará para acumular tais valores?\n",
    "\n",
    "A fórmula para atualização monetária mensal, antes dos aportes, é: $$Vf = Vp \\left(1 + {i}\\right)^{t},$$\n",
    "\n",
    "Em que $V_f$ é o valor corrigido, $V_p$ é o valor inicial, $i$ é a taxa mensal de rendimento e $t$ é o número de meses.\n",
    "\n"
   ]
  },
  {
   "cell_type": "markdown",
   "id": "e3bde2eb-55cd-4ecb-b52e-7f40192f66fe",
   "metadata": {
    "tags": []
   },
   "source": [
    "Defina uma função que retorna o prazo em meses dados como parâmetros os valores do aporte mensal, a taxa de rendimento mensal e o valor a ser alcançado."
   ]
  },
  {
   "cell_type": "code",
   "execution_count": 2,
   "id": "ff18ba69-f0d2-447f-bea4-50beb6ca4e7f",
   "metadata": {
    "tags": []
   },
   "outputs": [],
   "source": [
    "def prazoInvestimento(aporte=0,taxa=0,objetivo=0):\n",
    "    total = aporte\n",
    "    prazo = 0\n",
    "    while(total < objetivo):\n",
    "        prazo +=1\n",
    "        total = total*(1+taxa)+aporte\n",
    "    return prazo"
   ]
  },
  {
   "cell_type": "markdown",
   "id": "7c5fd167-b6e0-4d4d-b0f7-e809a99d90eb",
   "metadata": {
    "tags": []
   },
   "source": [
    "Calcule o prazo necessário para o Investidor 1:"
   ]
  },
  {
   "cell_type": "code",
   "execution_count": 3,
   "id": "7b461dad-3524-4986-85ca-96dfa2189ed1",
   "metadata": {
    "tags": []
   },
   "outputs": [
    {
     "data": {
      "text/plain": [
       "'9 anos e 2 meses'"
      ]
     },
     "execution_count": 3,
     "metadata": {},
     "output_type": "execute_result"
    }
   ],
   "source": [
    "prazo_mesesAnos(prazoInvestimento(5000,1/100,1000000))"
   ]
  },
  {
   "cell_type": "markdown",
   "id": "ac8a63e3-758e-4d6f-bf92-b9f0edbfda5a",
   "metadata": {
    "tags": []
   },
   "source": [
    "Calcule o prazo necessário para o Investidor 2:"
   ]
  },
  {
   "cell_type": "code",
   "execution_count": 4,
   "id": "e6c50012-0a26-4cf9-b3b5-43400df92a0e",
   "metadata": {
    "tags": []
   },
   "outputs": [
    {
     "data": {
      "text/plain": [
       "'10 anos'"
      ]
     },
     "execution_count": 4,
     "metadata": {},
     "output_type": "execute_result"
    }
   ],
   "source": [
    "prazo_mesesAnos(prazoInvestimento(3000,15/1000,1000000))"
   ]
  },
  {
   "cell_type": "markdown",
   "id": "fb9ae6aa-4497-4b13-aff1-d8bede4fe455",
   "metadata": {
    "tags": []
   },
   "source": [
    "# Questão 3 - Cálculo Financiamento"
   ]
  },
  {
   "cell_type": "markdown",
   "id": "20bae99a-330f-4487-a5c5-ab991b9da7c7",
   "metadata": {
    "tags": []
   },
   "source": [
    "Diversos financiamentos costumam ser realizados pelo sistema PRICE, em que a amortização é feita em parcelas fixas.\n",
    "\n",
    "O valor dos pagamentos é calculado pela seguinte fórmula: $$P = \\frac{V \\times i}{1 - (1 + i)^{-n}},$$\n",
    "\n",
    "em que $P$ é o valor da prestação, $V$ é o valor do bem, $i$ é a taxa de juros mensal e $n$ é o número de prestações.\n",
    "\n",
    "Escreva uma função para calcular o valor da prestação em função das variáveis citadas."
   ]
  },
  {
   "cell_type": "code",
   "execution_count": 5,
   "id": "e26f04b1-1c82-4e32-bb50-38ff2ed154e2",
   "metadata": {
    "tags": []
   },
   "outputs": [],
   "source": [
    "def parcelaPrice(v=0,i=1,n=1):\n",
    "    return (v*i)/(1-(1+i)**-n)"
   ]
  },
  {
   "cell_type": "markdown",
   "id": "e18b0291-47e6-4bf9-be46-bce3f28f2286",
   "metadata": {
    "tags": []
   },
   "source": [
    "Imprima o valor e a diferença das prestações de um bem de R$80.000,00 financiado em 36 prestações com taxas de juros de 1% e 2% ao mês.<br>"
   ]
  },
  {
   "cell_type": "code",
   "execution_count": 6,
   "id": "9abbc32d-8182-4186-a0ac-b257f0a52c2e",
   "metadata": {
    "tags": []
   },
   "outputs": [
    {
     "name": "stdout",
     "output_type": "stream",
     "text": [
      "R$2657.14\n"
     ]
    }
   ],
   "source": [
    "parcela1 = parcelaPrice(80000,1/100,36)\n",
    "print(f'R${parcela1:.2f}')"
   ]
  },
  {
   "cell_type": "code",
   "execution_count": 7,
   "id": "64c02707-1e66-4956-b3f6-c573367a7d5b",
   "metadata": {
    "tags": []
   },
   "outputs": [
    {
     "name": "stdout",
     "output_type": "stream",
     "text": [
      "R$3138.63\n"
     ]
    }
   ],
   "source": [
    "parcela2 = parcelaPrice(80000,2/100,36)\n",
    "print(f'R${parcela2:.2f}')"
   ]
  },
  {
   "cell_type": "code",
   "execution_count": 8,
   "id": "c61bb376-3f3e-4680-9af0-afeb03865080",
   "metadata": {
    "tags": []
   },
   "outputs": [
    {
     "name": "stdout",
     "output_type": "stream",
     "text": [
      "R$481.48\n"
     ]
    }
   ],
   "source": [
    "diferenca = parcela2-parcela1\n",
    "print(f'R${diferenca:.2f}')"
   ]
  },
  {
   "cell_type": "markdown",
   "id": "ab81cb4e-6b27-467d-a46c-684e69250e09",
   "metadata": {
    "tags": []
   },
   "source": [
    "Imprima o valor total do financiamento e a diferença do valor nos dois cenários."
   ]
  },
  {
   "cell_type": "code",
   "execution_count": 9,
   "id": "7320dd4f-e66c-4921-85fa-c480c7b1575f",
   "metadata": {
    "tags": []
   },
   "outputs": [
    {
     "name": "stdout",
     "output_type": "stream",
     "text": [
      "R$95657.21\n"
     ]
    }
   ],
   "source": [
    "total1 = 36*parcela1\n",
    "print(f'R${total1:.2f}')"
   ]
  },
  {
   "cell_type": "code",
   "execution_count": 10,
   "id": "2b15f154-09d6-454e-8413-11c3edae5926",
   "metadata": {
    "tags": []
   },
   "outputs": [
    {
     "name": "stdout",
     "output_type": "stream",
     "text": [
      "R$112990.62\n"
     ]
    }
   ],
   "source": [
    "total2 = 36*parcela2\n",
    "print(f'R${total2:.2f}')"
   ]
  },
  {
   "cell_type": "code",
   "execution_count": 11,
   "id": "807d7736-b591-4a86-95f6-42ffae2bf32e",
   "metadata": {
    "tags": []
   },
   "outputs": [
    {
     "name": "stdout",
     "output_type": "stream",
     "text": [
      "R$17333.40\n"
     ]
    }
   ],
   "source": [
    "print(f'R${total2-total1:.2f}')"
   ]
  }
 ],
 "metadata": {
  "kernelspec": {
   "display_name": "Python 3 (ipykernel)",
   "language": "python",
   "name": "python3"
  },
  "language_info": {
   "codemirror_mode": {
    "name": "ipython",
    "version": 3
   },
   "file_extension": ".py",
   "mimetype": "text/x-python",
   "name": "python",
   "nbconvert_exporter": "python",
   "pygments_lexer": "ipython3",
   "version": "3.10.6"
  }
 },
 "nbformat": 4,
 "nbformat_minor": 5
}
