{
 "cells": [
  {
   "cell_type": "markdown",
   "id": "4ab6ee00",
   "metadata": {},
   "source": [
    "# Desafio Prepwork Semana 4!"
   ]
  },
  {
   "cell_type": "markdown",
   "id": "87e470e1",
   "metadata": {},
   "source": [
    "## Questão 1"
   ]
  },
  {
   "cell_type": "markdown",
   "id": "68873674",
   "metadata": {},
   "source": [
    "Neste desafio, vamos começar simulando um jogo de dados. \n",
    "\n",
    "Vamos lançar dois dados independentes, não viciados, de seis lados.\n",
    "\n",
    "A biblioteca [random](https://docs.python.org/3/library/random.html) fornece funções que geram números (pseudo) aleatórios de diversas distribuições.\n",
    "\n",
    "Encontre e teste alguma função que nos permita criar uma lista com dois números sorteados (inteiros de 1 a 6)."
   ]
  },
  {
   "cell_type": "code",
   "execution_count": null,
   "id": "c0d8063a",
   "metadata": {},
   "outputs": [],
   "source": [
    "from random import randint\n",
    "\n",
    "print([randint(1,6), randint(1, 6)])"
   ]
  },
  {
   "cell_type": "code",
   "execution_count": null,
   "id": "51d50c15",
   "metadata": {},
   "outputs": [],
   "source": [
    "# ou\n",
    "from random import choices\n",
    "\n",
    "print(choices([1, 2, 3, 4, 5, 6], k = 2))"
   ]
  },
  {
   "cell_type": "markdown",
   "id": "4d419835",
   "metadata": {},
   "source": [
    "Usando essa função, crie um programa que simule o seguinte jogo:\n",
    "\n",
    "- Lançam-se os dados;\n",
    "\n",
    "- Se a soma dos dados for maior ou igual a 10, você ganha R$ 10;\n",
    "\n",
    "- Se a soma for maior ou igual a 8 e menor que 10, você ganha R$ 8;\n",
    "\n",
    "- Se for qualquer outro valor, você não ganha nada.\n",
    "\n",
    "Imprima o resultado do jogo."
   ]
  },
  {
   "cell_type": "code",
   "execution_count": null,
   "id": "5c453df5",
   "metadata": {},
   "outputs": [],
   "source": [
    "dados = [randint(1,6), randint(1, 6)]\n",
    "\n",
    "if sum(dados) >= 10:\n",
    "    resultado = 10\n",
    "elif sum(dados) >= 8:\n",
    "    resultado = 8\n",
    "else: \n",
    "    resultado = 0\n",
    "    \n",
    "print(resultado)"
   ]
  },
  {
   "cell_type": "markdown",
   "id": "b295253a",
   "metadata": {},
   "source": [
    "Agora esse jogo tem um preço. Você paga R$ 4 para jogar. \n",
    "\n",
    "Vamos estimar o retorno esperado do jogo. Crie um programa que repita a aposta *n* vezes e calcule o resultado médio. Simule repetir o jogo 100000 vezes. Vale a pena jogar?\n",
    "\n",
    "Lembre-se de pagar por cada rodada!"
   ]
  },
  {
   "cell_type": "code",
   "execution_count": null,
   "id": "5d56825e",
   "metadata": {},
   "outputs": [],
   "source": [
    "n_jogos = 100000\n",
    "resultado = 0\n",
    "\n",
    "for _ in range(n_jogos):\n",
    "    \n",
    "    resultado -= 4\n",
    "    \n",
    "    dados = [randint(1, 6), randint(1, 6)]    \n",
    "\n",
    "    if sum(dados) >= 10:\n",
    "        resultado += 10\n",
    "        \n",
    "    elif sum(dados) >= 8:\n",
    "        resultado += 8\n",
    "\n",
    "resultado_medio = resultado / n_jogos\n",
    "print(resultado_medio)"
   ]
  },
  {
   "cell_type": "markdown",
   "id": "a29b7e3f",
   "metadata": {},
   "source": [
    "## Questão 2"
   ]
  },
  {
   "cell_type": "markdown",
   "id": "c5a07549",
   "metadata": {},
   "source": [
    "Você começou a trabalhar em um projeto envolvendo análise de dados e já obteve alguns dados para a explorar!\n",
    "\n",
    "A base de dados que você obteve veio separada em diversos arquivos '.csv', cada um contendo dados socioeconômicos de um país para um determinado ano. \n",
    "\n",
    "Há um arquivo de descrição informando os dados disponíveis na base. O conteúdo deste arquivo é uma lista em que cada elemento é também uma lista. Estas listas contêm os nomes dos arquivos disponívels para cada país:"
   ]
  },
  {
   "cell_type": "code",
   "execution_count": null,
   "id": "f105e016",
   "metadata": {},
   "outputs": [],
   "source": [
    "arquivos_de_dados = [['ARG_2016.csv', 'ARG_2019.csv', 'ARG_2021.csv', 'ARG_2022.csv'],\n",
    "                     ['BRA_2015.csv', 'BRA_2016.csv', 'BRA_2017.csv', 'BRA_2018.csv', 'BRA_2020.csv', 'BRA_2022.csv'],\n",
    "                     ['CHN_2016.csv', 'CHN_2017.csv', 'CHN_2018.csv', 'CHN_2019.csv'],\n",
    "                     ['MEX_2014.csv', 'MEX_2015.csv', 'MEX_2016.csv', 'MEX_2017.csv', 'MEX_2018.csv', 'MEX_2019.csv', 'MEX_2020.csv', 'MEX_2021.csv', 'MEX_2022.csv'],\n",
    "                     ['JPN_2014.csv', 'JPN_2015.csv', 'JPN_2017.csv', 'JPN_2018.csv', 'JPN_2019.csv', 'JPN_2020.csv'],\n",
    "                     ['USA_2013.csv', 'USA_2015.csv', 'USA_2018.csv', 'USA_2020.csv']]"
   ]
  },
  {
   "cell_type": "markdown",
   "id": "6fcecc59",
   "metadata": {},
   "source": [
    "Para começar a planejar sua análise, imprima um resumo do conteúdo dos dados obtidos, com o código, o primeiro e o último ano disponíveis para cada país, no seguinte formato:"
   ]
  },
  {
   "cell_type": "markdown",
   "id": "cd2a2729",
   "metadata": {},
   "source": [
    "Séries disponíveis:\n",
    "\n",
    "ARG - 2016 a 2022\n",
    "\n",
    "BRA - 2015 a 2022\n",
    "\n",
    "CHN - 2016 a 2019\n",
    "\n",
    "..."
   ]
  },
  {
   "cell_type": "code",
   "execution_count": null,
   "id": "6d1e1dc9",
   "metadata": {
    "scrolled": true
   },
   "outputs": [],
   "source": [
    "print(\"Séries disponíves:\")\n",
    "\n",
    "for serie in arquivos_de_dados:\n",
    "    codigo_pais = serie[0][:3]\n",
    "    primeiro_ano = serie[0][4:8]\n",
    "    ultimo_ano = serie[-1][4:8]\n",
    "    \n",
    "    print(f'{codigo_pais} - {primeiro_ano} a {ultimo_ano}')"
   ]
  },
  {
   "cell_type": "markdown",
   "id": "5879c75c",
   "metadata": {},
   "source": [
    "Você logo percebe que, para vários países, há arquivos/anos ausentes entre o começo e o final da série. Liste os anos que estão faltando na sua base para cada um destes países, e imprima-as no formato a seguir:"
   ]
  },
  {
   "cell_type": "markdown",
   "id": "24fac760",
   "metadata": {},
   "source": [
    "Anos faltando:\n",
    "\n",
    "ARG - 2017, 2018, 2020\n",
    "\n",
    "BRA - 2019, 2021\n",
    "\n",
    "..."
   ]
  },
  {
   "cell_type": "code",
   "execution_count": null,
   "id": "b5c782fe",
   "metadata": {
    "scrolled": true
   },
   "outputs": [],
   "source": [
    "print(\"Anos faltando:\")\n",
    "\n",
    "for serie in arquivos_de_dados:\n",
    "       \n",
    "    codigo_pais = serie[0][:3]\n",
    "    primeiro_ano = int(serie[0][4:8])\n",
    "    ultimo_ano = int(serie[-1][4:8])   \n",
    "    \n",
    "    range_serie = range(primeiro_ano, ultimo_ano + 1)\n",
    "    \n",
    "    anos_pais = []\n",
    "    for arquivo in serie:\n",
    "        anos_pais.append(int(arquivo[4:8]))              \n",
    "            \n",
    "    anos_faltando = []    \n",
    "    for ano in range_serie:\n",
    "        if (ano not in anos_pais):\n",
    "            anos_faltando.append(str(ano))                  \n",
    "    \n",
    "    if len(anos_faltando) > 0:        \n",
    "        print(f'{codigo_pais} - {\", \".join(anos_faltando)}')"
   ]
  }
 ],
 "metadata": {
  "kernelspec": {
   "display_name": "Python 3 (ipykernel)",
   "language": "python",
   "name": "python3"
  },
  "language_info": {
   "codemirror_mode": {
    "name": "ipython",
    "version": 3
   },
   "file_extension": ".py",
   "mimetype": "text/x-python",
   "name": "python",
   "nbconvert_exporter": "python",
   "pygments_lexer": "ipython3",
   "version": "3.8.12"
  },
  "toc": {
   "base_numbering": 1,
   "nav_menu": {},
   "number_sections": true,
   "sideBar": true,
   "skip_h1_title": false,
   "title_cell": "Table of Contents",
   "title_sidebar": "Contents",
   "toc_cell": false,
   "toc_position": {},
   "toc_section_display": true,
   "toc_window_display": false
  }
 },
 "nbformat": 4,
 "nbformat_minor": 5
}
