{
 "cells": [
  {
   "cell_type": "markdown",
   "id": "4c13bcfb-b110-4efa-af15-137efc89e598",
   "metadata": {},
   "source": [
    "# Desafio Continuado (Semana 04): $i$ Maiores Notas"
   ]
  },
  {
   "cell_type": "markdown",
   "id": "8c3dfaa3-702d-4dc6-ba2e-5b99385f975c",
   "metadata": {
    "tags": []
   },
   "source": [
    "## Faça um programa que calcule as $1 \\leq i \\leq 100$ maiores notas de um aluno com base em todas as suas notas de faculdade"
   ]
  },
  {
   "cell_type": "markdown",
   "id": "d6ea29cb-b200-451c-b131-1688a491e57f",
   "metadata": {},
   "source": [
    "<b>Atenção: presumimos que a parte anterior deste desafio foi solucionada</b>\n",
    "\n",
    "Este desafio tem como pretensão avaliar seu vocabulário no Python.\n",
    "\n",
    "Programadoras mais avançadas têm distintas soluções para um mesmo problema.\n",
    "\n",
    "Incentivamos o exercício da criatividade, mas saiba que prover ao menos uma solução é suficiente para este desafio."
   ]
  },
  {
   "cell_type": "markdown",
   "id": "e2385eb3-ea01-4888-8c17-f957cb5e7276",
   "metadata": {},
   "source": [
    "## Entrada dos Dados"
   ]
  },
  {
   "cell_type": "markdown",
   "id": "9f5bb20f-5566-4a3e-a7f2-65d690fa6b9d",
   "metadata": {},
   "source": [
    "Considere as notas geradas aleatoriamente pelo código abaixo"
   ]
  },
  {
   "cell_type": "code",
   "execution_count": 1,
   "id": "5b36144e-9f5a-41ca-a1aa-57b4d5c18c43",
   "metadata": {
    "tags": []
   },
   "outputs": [],
   "source": [
    "import random\n",
    "notas = [round(random.uniform(0, 10), 2) for _ in range(100)]"
   ]
  },
  {
   "cell_type": "markdown",
   "id": "f9242b88-8ec1-4e65-ad1f-56d03c2e6425",
   "metadata": {},
   "source": [
    "Veja que é difícil encontrar as maiores notas \"manualmente\""
   ]
  },
  {
   "cell_type": "code",
   "execution_count": 2,
   "id": "662fd21c-5f63-46a3-90ff-510378063fd7",
   "metadata": {
    "tags": []
   },
   "outputs": [
    {
     "name": "stdout",
     "output_type": "stream",
     "text": [
      "4.66; 9.78; 8.34; 6.68; 5.48; 7.06; 5.98; 7.02; 2.14; 0.76; 4.68; 5.03; 6.92; 3.81; 8.56; 7.75; 3.8; 4.66; 6.51; 0.93; 3.61; 3.05; 4.02; 4.88; 0.74; 4.13; 8.72; 5.95; 0.22; 0.79; 8.55; 0.72; 4.28; 9.52; 9.22; 7.95; 5.51; 7.41; 4.63; 6.49; 3.12; 0.25; 5.24; 2.42; 3.47; 4.09; 4.06; 2.09; 1.4; 0.35; 9.07; 2.16; 6.93; 6.66; 6.81; 9.36; 3.72; 3.93; 0.88; 0.84; 0.32; 4.68; 1.81; 2.54; 1.41; 7.09; 5.68; 0.2; 8.1; 4.42; 6.09; 1.6; 4.93; 7.46; 9.16; 2.79; 2.5; 3.46; 5.64; 0.97; 8.65; 9.82; 2.45; 9.68; 5.05; 7.0; 5.05; 0.08; 0.08; 1.54; 1.36; 0.4; 5.43; 1.01; 5.02; 2.58; 9.76; 2.33; 1.87; 9.93; "
     ]
    }
   ],
   "source": [
    "for nota in notas: print(nota, end='; ')"
   ]
  },
  {
   "cell_type": "markdown",
   "id": "34ba3964-d65b-49fa-ab33-83cecc3820b6",
   "metadata": {},
   "source": [
    "## Soluções"
   ]
  },
  {
   "cell_type": "markdown",
   "id": "28afef33-c6c1-40e6-b31e-d6bc530f3efb",
   "metadata": {},
   "source": [
    "### Solução 01"
   ]
  },
  {
   "cell_type": "markdown",
   "id": "e2d5ded9-f91a-4c71-b980-dd2d36bb7e22",
   "metadata": {},
   "source": [
    "Use uma solução do caderno anterior e modifique um código de sua escolha"
   ]
  },
  {
   "cell_type": "markdown",
   "id": "3eba1dd4-5915-4f13-aaa3-542d5c5eb5ad",
   "metadata": {},
   "source": [
    "👉 Nível de dificuldade: 🌶️🌶️🌶️"
   ]
  },
  {
   "cell_type": "code",
   "execution_count": 3,
   "id": "edb9577f-a144-4fa0-942f-a4a5d0c57a30",
   "metadata": {
    "tags": []
   },
   "outputs": [],
   "source": [
    "#escolhemos a Solução 03 do caderno anterior por ser o mais facilmente adaptável\n",
    "\n",
    "def i_maiores_notas(notas, i):\n",
    "    #ajustamos para ordernar a lista de forma decrescente e extraímos as primeiras i notas\n",
    "    notas.sort(reverse=True)\n",
    "    return notas[:i]"
   ]
  },
  {
   "cell_type": "code",
   "execution_count": 4,
   "id": "4c5426ff-75da-4b36-8d39-b63f5f227c5b",
   "metadata": {
    "tags": []
   },
   "outputs": [
    {
     "data": {
      "text/plain": [
       "[9.93, 9.82, 9.78, 9.76, 9.68]"
      ]
     },
     "execution_count": 4,
     "metadata": {},
     "output_type": "execute_result"
    }
   ],
   "source": [
    "i_maiores_notas(notas, 5)"
   ]
  },
  {
   "cell_type": "code",
   "execution_count": 5,
   "id": "0e06ced8-8c32-42af-9427-585f769b83d5",
   "metadata": {
    "tags": []
   },
   "outputs": [],
   "source": [
    "#equivalentemente, podemos extrair as últimas i notas da lista ordenada de forma crescente\n",
    "#desta maneira, a solução fica ainda melhor porque os números saem na ordem crescente (mais natural para o brasileiro)\n",
    "\n",
    "def i_maiores_notas(notas, i):\n",
    "    #ajustamos para ordernar a lista de forma crescente e extraímos as últimas i notas\n",
    "    notas.sort()\n",
    "    return notas[-i:]"
   ]
  },
  {
   "cell_type": "code",
   "execution_count": 6,
   "id": "d550a382-9a56-4169-a112-b1a4657fbc70",
   "metadata": {
    "tags": []
   },
   "outputs": [
    {
     "data": {
      "text/plain": [
       "[9.68, 9.76, 9.78, 9.82, 9.93]"
      ]
     },
     "execution_count": 6,
     "metadata": {},
     "output_type": "execute_result"
    }
   ],
   "source": [
    "i_maiores_notas(notas, 5)"
   ]
  },
  {
   "cell_type": "markdown",
   "id": "8c095685-c68b-4855-babf-6b8f47a63a43",
   "metadata": {
    "tags": []
   },
   "source": [
    "### Solução 02"
   ]
  },
  {
   "cell_type": "markdown",
   "id": "2d2333e1-c959-46d2-988b-0b49a1d42a8a",
   "metadata": {},
   "source": [
    "Descubra um truque de manipulação das notas para obter as $i$ maiores notas a partir das $i$ menores notas\n",
    "\n",
    "Isto é, para a sua solução, reutilize a função abaixo exatamente como está, obtendo a resposta apenas com a manipulação dos valores das notas"
   ]
  },
  {
   "cell_type": "code",
   "execution_count": 7,
   "id": "5ce09a92-c613-426a-9c4e-4e48f96a935b",
   "metadata": {
    "tags": []
   },
   "outputs": [],
   "source": [
    "def i_menores_notas(notas, i):\n",
    "    notas.sort()\n",
    "    return notas[:i]"
   ]
  },
  {
   "cell_type": "markdown",
   "id": "90709815-c011-4b0d-b096-d37192c31fe7",
   "metadata": {
    "tags": []
   },
   "source": [
    "👉 Nível de dificuldade: 🌶️🌶️🌶️🌶️"
   ]
  },
  {
   "cell_type": "code",
   "execution_count": 8,
   "id": "ad205164-58c3-4246-a01d-cd56b7db15c6",
   "metadata": {
    "tags": []
   },
   "outputs": [],
   "source": [
    "def i_maiores_notas(notas, i):\n",
    "    notas = [-nota for nota in notas]\n",
    "    menores_notas = i_menores_notas(notas, i)\n",
    "    maiores_notas = [-nota for nota in menores_notas]\n",
    "    return maiores_notas"
   ]
  },
  {
   "cell_type": "code",
   "execution_count": 9,
   "id": "9c3b7b36-2d1b-4985-aad5-e2923535dc7e",
   "metadata": {
    "tags": []
   },
   "outputs": [
    {
     "data": {
      "text/plain": [
       "[9.93, 9.82, 9.78, 9.76, 9.68]"
      ]
     },
     "execution_count": 9,
     "metadata": {},
     "output_type": "execute_result"
    }
   ],
   "source": [
    "i_maiores_notas(notas, 5)"
   ]
  },
  {
   "cell_type": "markdown",
   "id": "bec70f89-9c13-4d67-b248-15a8d28273b4",
   "metadata": {},
   "source": [
    "### Solução 03"
   ]
  },
  {
   "cell_type": "markdown",
   "id": "be4c080f-a345-4670-950f-1b5db733ee49",
   "metadata": {},
   "source": [
    "Use a biblioteca pandas 🐼 para computar a solução de todos os desafios continuados"
   ]
  },
  {
   "cell_type": "code",
   "execution_count": 10,
   "id": "06284e30-7c05-4d14-a6ef-2737b3417852",
   "metadata": {
    "tags": []
   },
   "outputs": [],
   "source": [
    "import pandas as pd"
   ]
  },
  {
   "cell_type": "markdown",
   "id": "e3f1cd29-8af9-49fc-b30a-d77f92d0b832",
   "metadata": {},
   "source": [
    "👉 Nível de dificuldade: 🌶️ (apenas para quem conhece pandas)"
   ]
  },
  {
   "cell_type": "markdown",
   "id": "aeea8fb1-48f1-4b6d-a865-bc7e7637dffc",
   "metadata": {
    "tags": []
   },
   "source": [
    "#### Desafio Continuado - Semana 01"
   ]
  },
  {
   "cell_type": "code",
   "execution_count": 11,
   "id": "27b9191c-ea51-401c-b7e7-806bcde69057",
   "metadata": {
    "tags": []
   },
   "outputs": [],
   "source": [
    "def menor_nota(notas):\n",
    "    return pd.Series(notas).min()"
   ]
  },
  {
   "cell_type": "code",
   "execution_count": 12,
   "id": "5e4d420f-d2f6-41b2-9afc-6efb7b55fdc8",
   "metadata": {
    "tags": []
   },
   "outputs": [
    {
     "data": {
      "text/plain": [
       "0.08"
      ]
     },
     "execution_count": 12,
     "metadata": {},
     "output_type": "execute_result"
    }
   ],
   "source": [
    "menor_nota(notas)"
   ]
  },
  {
   "cell_type": "markdown",
   "id": "41984e2e-1a7b-4ef1-8a47-2a7095fd55ba",
   "metadata": {},
   "source": [
    "#### Desafio Continuado - Semana 02"
   ]
  },
  {
   "cell_type": "code",
   "execution_count": 13,
   "id": "5f9819b2-2805-4aa5-a196-4f50f08c5fc9",
   "metadata": {
    "tags": []
   },
   "outputs": [],
   "source": [
    "def duas_menores_notas(notas):\n",
    "    return pd.Series(notas).nsmallest(2)"
   ]
  },
  {
   "cell_type": "code",
   "execution_count": 14,
   "id": "051d3ade-ebe9-49c1-88d5-6adbef5f2d39",
   "metadata": {
    "tags": []
   },
   "outputs": [
    {
     "data": {
      "text/plain": [
       "0    0.08\n",
       "1    0.08\n",
       "dtype: float64"
      ]
     },
     "execution_count": 14,
     "metadata": {},
     "output_type": "execute_result"
    }
   ],
   "source": [
    "duas_menores_notas(notas)"
   ]
  },
  {
   "cell_type": "markdown",
   "id": "9146959f-663a-4460-8ec6-f8943f473e1f",
   "metadata": {},
   "source": [
    "#### Desafio Continuado - Semana 03"
   ]
  },
  {
   "cell_type": "code",
   "execution_count": 15,
   "id": "7429b003-dd29-44e9-befe-399321b85c35",
   "metadata": {
    "tags": []
   },
   "outputs": [],
   "source": [
    "def i_menores_notas(notas, i):\n",
    "    return pd.Series(notas).nsmallest(i)"
   ]
  },
  {
   "cell_type": "code",
   "execution_count": 16,
   "id": "9c55caed-eecc-4dfa-b95a-b18fd0935af8",
   "metadata": {
    "tags": []
   },
   "outputs": [
    {
     "data": {
      "text/plain": [
       "0    0.08\n",
       "1    0.08\n",
       "2    0.20\n",
       "3    0.22\n",
       "4    0.25\n",
       "dtype: float64"
      ]
     },
     "execution_count": 16,
     "metadata": {},
     "output_type": "execute_result"
    }
   ],
   "source": [
    "i_menores_notas(notas, 5)"
   ]
  },
  {
   "cell_type": "markdown",
   "id": "8475e0da-b9c1-4737-b903-1c4749707cfd",
   "metadata": {},
   "source": [
    "#### Desafio Continuado - Semana 04"
   ]
  },
  {
   "cell_type": "code",
   "execution_count": 17,
   "id": "f3bfc65d-6865-4154-baf5-6e834b90b06e",
   "metadata": {
    "tags": []
   },
   "outputs": [],
   "source": [
    "def i_maiores_notas(notas, i):\n",
    "    return pd.Series(notas).nlargest(i)"
   ]
  },
  {
   "cell_type": "code",
   "execution_count": 18,
   "id": "297bbd2e-be6b-42be-bd12-3cd3c689e708",
   "metadata": {
    "tags": []
   },
   "outputs": [
    {
     "data": {
      "text/plain": [
       "99    9.93\n",
       "98    9.82\n",
       "97    9.78\n",
       "96    9.76\n",
       "95    9.68\n",
       "dtype: float64"
      ]
     },
     "execution_count": 18,
     "metadata": {},
     "output_type": "execute_result"
    }
   ],
   "source": [
    "i_maiores_notas(notas, 5)"
   ]
  }
 ],
 "metadata": {
  "kernelspec": {
   "display_name": "Python 3 (ipykernel)",
   "language": "python",
   "name": "python3"
  },
  "language_info": {
   "codemirror_mode": {
    "name": "ipython",
    "version": 3
   },
   "file_extension": ".py",
   "mimetype": "text/x-python",
   "name": "python",
   "nbconvert_exporter": "python",
   "pygments_lexer": "ipython3",
   "version": "3.10.6"
  }
 },
 "nbformat": 4,
 "nbformat_minor": 5
}
