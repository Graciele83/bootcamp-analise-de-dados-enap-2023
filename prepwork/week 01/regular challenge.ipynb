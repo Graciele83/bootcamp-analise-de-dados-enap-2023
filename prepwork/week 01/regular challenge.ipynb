{
 "cells": [
  {
   "cell_type": "markdown",
   "id": "69ada1a7",
   "metadata": {},
   "source": [
    "# Questão 1\n",
    "\n",
    "Qual o tipo de dado de cada argumento dentro da função print a seguir:\n",
    "\n",
    "print(56, 5.1, -10, True)\n",
    "\n",
    "- a) int, float, int, str\n",
    "- b) int, float, float, bool\n",
    "- c) int, float, str, bool\n",
    "- d) int, float, int, bool"
   ]
  },
  {
   "cell_type": "code",
   "execution_count": 1,
   "id": "c08aaef7",
   "metadata": {},
   "outputs": [
    {
     "data": {
      "text/plain": [
       "int"
      ]
     },
     "execution_count": 1,
     "metadata": {},
     "output_type": "execute_result"
    }
   ],
   "source": [
    "type(56)"
   ]
  },
  {
   "cell_type": "code",
   "execution_count": 2,
   "id": "25665560",
   "metadata": {},
   "outputs": [
    {
     "data": {
      "text/plain": [
       "float"
      ]
     },
     "execution_count": 2,
     "metadata": {},
     "output_type": "execute_result"
    }
   ],
   "source": [
    "type(5.1)"
   ]
  },
  {
   "cell_type": "code",
   "execution_count": 3,
   "id": "000e11de",
   "metadata": {},
   "outputs": [
    {
     "data": {
      "text/plain": [
       "int"
      ]
     },
     "execution_count": 3,
     "metadata": {},
     "output_type": "execute_result"
    }
   ],
   "source": [
    "type(-10)"
   ]
  },
  {
   "cell_type": "code",
   "execution_count": 4,
   "id": "0cdc1662",
   "metadata": {},
   "outputs": [
    {
     "data": {
      "text/plain": [
       "bool"
      ]
     },
     "execution_count": 4,
     "metadata": {},
     "output_type": "execute_result"
    }
   ],
   "source": [
    "type(True)"
   ]
  },
  {
   "cell_type": "markdown",
   "id": "5cc51477",
   "metadata": {},
   "source": [
    "# Questão 2\n",
    "\n",
    "Faça um programa que pergunte a hora ao usuário e, com base na resposta dele, exiba a resposta apropriada:\n",
    "\n",
    "- horário: 1-11       - resposta:Bom dia\n",
    "\n",
    "- horário: 12-17      - resposta:Boa tarde\n",
    "\n",
    "- horário: 18-24      - resposta:Boa noite\n",
    "\n",
    "- outro horário       - resposta: \"não conheço essa hora\"\n"
   ]
  },
  {
   "cell_type": "code",
   "execution_count": 5,
   "id": "22f2d301",
   "metadata": {},
   "outputs": [
    {
     "name": "stdout",
     "output_type": "stream",
     "text": [
      "Digite a hora em números inteiros: 6\n",
      "Bom dia\n"
     ]
    }
   ],
   "source": [
    "entrada = input('Digite a hora em números inteiros: ')\n",
    "hora = int(entrada)\n",
    "\n",
    "if hora >= 1 and hora <= 11:\n",
    "    print('Bom dia')\n",
    "elif hora >= 12 and hora <= 17:\n",
    "    print('Bom tarde')\n",
    "elif hora >= 18 and hora <= 24:\n",
    "    print('Bom noite')\n",
    "else:\n",
    "    print('Não conheço essa hora')"
   ]
  },
  {
   "cell_type": "markdown",
   "id": "31201456",
   "metadata": {},
   "source": [
    "# Questão 3 - Desafio do calculo do IMC (índice de massa corporal)\n",
    "\n",
    "Sua ajuda foi requisitada para desenvolver o programa que realiza o calculo do IMC.\n",
    "\n",
    "O IMC (Índice de Massa Corporal) é uma medida usada para avaliar se uma pessoa está com peso adequado para sua altura. Ele é calculado dividindo o peso (em kg) pela altura ao quadrado (em m), de acordo com a seguinte fórmula:\n",
    "\n",
    " IMC = peso / (altura x altura).\n",
    "\n",
    "O resultado de IMC é dado em kg/m2. \n",
    "\n",
    "Escreva uma função em Python chamada \"calculo_imc\" que recebe dois parâmetros: \"peso\" em quilogramas (kg) e \"altura\" em metros (m). A função deve calcular o IMC da pessoa e retornar o resultado.\n"
   ]
  },
  {
   "cell_type": "code",
   "execution_count": 7,
   "id": "a9600300",
   "metadata": {},
   "outputs": [],
   "source": [
    "def calculo_imc(peso, altura):\n",
    "    imc = peso / (altura * altura)\n",
    "    return imc\n"
   ]
  },
  {
   "cell_type": "markdown",
   "id": "e85e8ec5",
   "metadata": {},
   "source": [
    "# Questão 4 - Desafio do calculo do IMC (continuação)\n",
    "\n",
    "Crie um programa que solicite ao usuário que insira seu peso (em KG) e depois sua altura (em metros) (você pode usar \"input\" para isso). Em seguida, use a função calculo_imc(criada no exercício anterior) para calcular e exibir a interpretação do IMC da pessoa, conforme legenda abaixo.\n",
    "\n",
    "\n",
    "- IMC abaixo de 18.5: Abaixo do peso\n",
    "- IMC entre 18.5 e 24.9: Peso normal\n",
    "- IMC entre 25 e 29.9: Sobrepeso\n",
    "- IMC entre 30 e 34.9: Obesidade grau 1\n",
    "- IMC entre 35 e 39.9: Obesidade grau 2\n",
    "- IMC igual ou acima de 40: Obesidade grau 3 (obesidade mórbida)"
   ]
  },
  {
   "cell_type": "code",
   "execution_count": 9,
   "id": "7936b31d",
   "metadata": {},
   "outputs": [
    {
     "name": "stdout",
     "output_type": "stream",
     "text": [
      "Digite seu peso (em kg): 53\n",
      "Digite sua altura (em metros): 1.6\n",
      "Seu IMC é: 20.703124999999996\n",
      "Você está dentro da faixa de peso normal.\n"
     ]
    }
   ],
   "source": [
    "peso = float(input(\"Digite seu peso (em kg): \"))\n",
    "altura = float(input(\"Digite sua altura (em metros): \"))\n",
    "\n",
    "imc = calculo_imc(peso, altura)\n",
    "print(f\"Seu IMC é: {imc}\")\n",
    "\n",
    "if imc < 18.5:\n",
    "    print(\"Você está abaixo do peso.\")\n",
    "elif 18.5 <= imc < 25:\n",
    "    print(\"Você está dentro da faixa de peso normal.\")\n",
    "elif 25 <= imc < 30:\n",
    "    print(\"Você está com sobrepeso.\")\n",
    "elif 30 <= imc < 35:\n",
    "    print(\"Você está com obesidade grau 1.\")\n",
    "elif 35 <= imc < 40:\n",
    "    print(\"Você está com obesidade grau 2.\")\n",
    "else:\n",
    "    print(\"Você está com obesidade grau 3 (obesidade mórbida).\")"
   ]
  },
  {
   "cell_type": "code",
   "execution_count": null,
   "id": "a6328ad2",
   "metadata": {},
   "outputs": [],
   "source": []
  }
 ],
 "metadata": {
  "kernelspec": {
   "display_name": "Python 3 (ipykernel)",
   "language": "python",
   "name": "python3"
  },
  "language_info": {
   "codemirror_mode": {
    "name": "ipython",
    "version": 3
   },
   "file_extension": ".py",
   "mimetype": "text/x-python",
   "name": "python",
   "nbconvert_exporter": "python",
   "pygments_lexer": "ipython3",
   "version": "3.10.6"
  }
 },
 "nbformat": 4,
 "nbformat_minor": 5
}
