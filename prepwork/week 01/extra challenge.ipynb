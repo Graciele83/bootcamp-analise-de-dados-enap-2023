{
 "cells": [
  {
   "cell_type": "markdown",
   "id": "4c13bcfb-b110-4efa-af15-137efc89e598",
   "metadata": {},
   "source": [
    "# Desafio Continuado (Semana 01): Menor Nota"
   ]
  },
  {
   "cell_type": "markdown",
   "id": "8c3dfaa3-702d-4dc6-ba2e-5b99385f975c",
   "metadata": {
    "tags": []
   },
   "source": [
    "## Faça um programa que recupere a menor nota de um aluno com base em todas as suas notas de faculdade"
   ]
  },
  {
   "cell_type": "markdown",
   "id": "d6ea29cb-b200-451c-b131-1688a491e57f",
   "metadata": {},
   "source": [
    "Este desafio tem como pretensão avaliar seu vocabulário no Python.\n",
    "\n",
    "Programadoras mais avançadas têm distintas soluções para um mesmo problema.\n",
    "\n",
    "Incentivamos o exercício da criatividade, mas saiba que prover ao menos uma solução é suficiente para este desafio."
   ]
  },
  {
   "cell_type": "markdown",
   "id": "e2385eb3-ea01-4888-8c17-f957cb5e7276",
   "metadata": {},
   "source": [
    "## Entrada dos Dados"
   ]
  },
  {
   "cell_type": "markdown",
   "id": "9f5bb20f-5566-4a3e-a7f2-65d690fa6b9d",
   "metadata": {},
   "source": [
    "Considere as notas geradas aleatoriamente pelo código abaixo"
   ]
  },
  {
   "cell_type": "code",
   "execution_count": 1,
   "id": "5b36144e-9f5a-41ca-a1aa-57b4d5c18c43",
   "metadata": {
    "tags": []
   },
   "outputs": [],
   "source": [
    "import random\n",
    "notas = [round(random.uniform(0, 10), 2) for _ in range(100)]"
   ]
  },
  {
   "cell_type": "markdown",
   "id": "f9242b88-8ec1-4e65-ad1f-56d03c2e6425",
   "metadata": {},
   "source": [
    "Veja que é difícil encontrar a menor nota \"manualmente\""
   ]
  },
  {
   "cell_type": "code",
   "execution_count": 2,
   "id": "662fd21c-5f63-46a3-90ff-510378063fd7",
   "metadata": {
    "tags": []
   },
   "outputs": [
    {
     "name": "stdout",
     "output_type": "stream",
     "text": [
      "3.51; 1.21; 3.86; 9.27; 5.48; 3.22; 7.33; 0.33; 0.6; 1.38; 8.97; 1.33; 1.88; 1.02; 1.22; 0.17; 2.69; 4.53; 4.58; 2.67; 5.37; 0.1; 5.01; 1.75; 9.12; 1.9; 1.02; 4.58; 5.61; 6.39; 8.71; 3.74; 1.54; 6.27; 5.35; 0.51; 3.73; 4.83; 0.63; 8.26; 2.0; 0.59; 0.87; 4.29; 8.01; 4.56; 7.61; 8.26; 4.76; 7.85; 2.94; 6.01; 7.63; 7.62; 1.2; 3.03; 8.22; 6.1; 5.89; 4.19; 8.27; 7.77; 3.14; 6.53; 5.87; 8.57; 8.4; 7.78; 4.51; 6.71; 7.66; 8.45; 8.73; 0.28; 1.92; 1.98; 4.13; 6.32; 9.11; 5.68; 8.46; 0.3; 6.78; 6.9; 6.92; 9.43; 4.93; 6.36; 4.47; 6.63; 8.36; 5.27; 4.43; 3.27; 4.29; 9.43; 1.39; 1.49; 4.69; 5.49; "
     ]
    }
   ],
   "source": [
    "for nota in notas: print(nota, end='; ')"
   ]
  },
  {
   "cell_type": "markdown",
   "id": "34ba3964-d65b-49fa-ab33-83cecc3820b6",
   "metadata": {},
   "source": [
    "## Soluções"
   ]
  },
  {
   "cell_type": "markdown",
   "id": "28afef33-c6c1-40e6-b31e-d6bc530f3efb",
   "metadata": {},
   "source": [
    "### Solução 01"
   ]
  },
  {
   "cell_type": "markdown",
   "id": "e2d5ded9-f91a-4c71-b980-dd2d36bb7e22",
   "metadata": {},
   "source": [
    "Use uma função matemática nativa"
   ]
  },
  {
   "cell_type": "markdown",
   "id": "3eba1dd4-5915-4f13-aaa3-542d5c5eb5ad",
   "metadata": {},
   "source": [
    "👉 Nível de dificuldade: 🌶️"
   ]
  },
  {
   "cell_type": "code",
   "execution_count": 3,
   "id": "edb9577f-a144-4fa0-942f-a4a5d0c57a30",
   "metadata": {
    "tags": []
   },
   "outputs": [],
   "source": [
    "def menor_nota(notas):\n",
    "    #busque a menor nota\n",
    "    return min(notas)"
   ]
  },
  {
   "cell_type": "code",
   "execution_count": 4,
   "id": "4c5426ff-75da-4b36-8d39-b63f5f227c5b",
   "metadata": {
    "tags": []
   },
   "outputs": [
    {
     "data": {
      "text/plain": [
       "0.1"
      ]
     },
     "execution_count": 4,
     "metadata": {},
     "output_type": "execute_result"
    }
   ],
   "source": [
    "menor_nota(notas)"
   ]
  },
  {
   "cell_type": "markdown",
   "id": "8c095685-c68b-4855-babf-6b8f47a63a43",
   "metadata": {
    "tags": []
   },
   "source": [
    "### Solução 02"
   ]
  },
  {
   "cell_type": "markdown",
   "id": "2d2333e1-c959-46d2-988b-0b49a1d42a8a",
   "metadata": {},
   "source": [
    "Use estruturas de repetição e controle"
   ]
  },
  {
   "cell_type": "markdown",
   "id": "90709815-c011-4b0d-b096-d37192c31fe7",
   "metadata": {
    "tags": []
   },
   "source": [
    "👉 Nível de dificuldade: 🌶️🌶️"
   ]
  },
  {
   "cell_type": "code",
   "execution_count": 5,
   "id": "82dcf32e-3ddc-4d10-844e-025893faae43",
   "metadata": {
    "tags": []
   },
   "outputs": [],
   "source": [
    "def menor_nota(notas):\n",
    "    #crie uma variável que armazenará a menor nota\n",
    "    menor_nota = float('+inf')\n",
    "    \n",
    "    #percorra todas as notas\n",
    "    for nota in notas:\n",
    "        \n",
    "        #caso a nota corrente seja menor que a menor nota até agora, ela se torna a nova candidata a menor nota\n",
    "        if menor_nota > nota:\n",
    "            menor_nota = nota\n",
    "\n",
    "    return menor_nota"
   ]
  },
  {
   "cell_type": "code",
   "execution_count": 6,
   "id": "9c3b7b36-2d1b-4985-aad5-e2923535dc7e",
   "metadata": {
    "tags": []
   },
   "outputs": [
    {
     "data": {
      "text/plain": [
       "0.1"
      ]
     },
     "execution_count": 6,
     "metadata": {},
     "output_type": "execute_result"
    }
   ],
   "source": [
    "menor_nota(notas)"
   ]
  },
  {
   "cell_type": "markdown",
   "id": "bec70f89-9c13-4d67-b248-15a8d28273b4",
   "metadata": {},
   "source": [
    "### Solução 03"
   ]
  },
  {
   "cell_type": "markdown",
   "id": "be4c080f-a345-4670-950f-1b5db733ee49",
   "metadata": {},
   "source": [
    "Use função de ordenação nativa e extraia o primeiro elemento com indexação"
   ]
  },
  {
   "cell_type": "markdown",
   "id": "e3f1cd29-8af9-49fc-b30a-d77f92d0b832",
   "metadata": {},
   "source": [
    "👉 Nível de dificuldade: 🌶️🌶️🌶️"
   ]
  },
  {
   "cell_type": "code",
   "execution_count": 7,
   "id": "27b9191c-ea51-401c-b7e7-806bcde69057",
   "metadata": {
    "tags": []
   },
   "outputs": [],
   "source": [
    "def menor_nota(notas):\n",
    "    #copie as notas para uma lista auxiliar de modo a não alterar a estrutura original ao construir a heap\n",
    "    notas_copia = notas[:]\n",
    "    \n",
    "    #ordene a lista e extraia a menor nota da lista ordenada resultante\n",
    "    notas_copia.sort()\n",
    "    return notas_copia[0]"
   ]
  },
  {
   "cell_type": "code",
   "execution_count": 8,
   "id": "5e4d420f-d2f6-41b2-9afc-6efb7b55fdc8",
   "metadata": {
    "tags": []
   },
   "outputs": [
    {
     "data": {
      "text/plain": [
       "0.1"
      ]
     },
     "execution_count": 8,
     "metadata": {},
     "output_type": "execute_result"
    }
   ],
   "source": [
    "menor_nota(notas)"
   ]
  },
  {
   "cell_type": "markdown",
   "id": "ec4784de-7ff1-4de1-8dd8-a4dbd373a176",
   "metadata": {},
   "source": [
    "### Solução 04"
   ]
  },
  {
   "cell_type": "markdown",
   "id": "97c86d60-3b9e-4b1b-af76-9218652668e5",
   "metadata": {},
   "source": [
    "Use biblioteca de estrutura de dados mais avançada, chamada heap"
   ]
  },
  {
   "cell_type": "markdown",
   "id": "b3dd264d-a577-44ab-9360-3ad6357116b6",
   "metadata": {},
   "source": [
    "👉 Nível de dificuldade: 🌶️🌶️🌶️🌶️"
   ]
  },
  {
   "cell_type": "code",
   "execution_count": 9,
   "id": "37290204-2da4-43ef-881e-11a43f169428",
   "metadata": {},
   "outputs": [],
   "source": [
    "import heapq\n",
    "\n",
    "def menor_nota(notas):\n",
    "    #copie as notas para uma lista auxiliar de modo a não alterar a estrutura original ao construir a heap\n",
    "    notas_copia = notas[:]\n",
    "    \n",
    "    #construa uma heap a partir da lista de notas\n",
    "    heapq.heapify(notas_copia)\n",
    "    \n",
    "    #extraia a menor nota\n",
    "    return heapq.heappop(notas_copia)"
   ]
  },
  {
   "cell_type": "code",
   "execution_count": 10,
   "id": "50447e44-b9fb-441c-82ce-3c2e673096c2",
   "metadata": {
    "tags": []
   },
   "outputs": [
    {
     "data": {
      "text/plain": [
       "0.1"
      ]
     },
     "execution_count": 10,
     "metadata": {},
     "output_type": "execute_result"
    }
   ],
   "source": [
    "menor_nota(notas)"
   ]
  }
 ],
 "metadata": {
  "kernelspec": {
   "display_name": "Python 3 (ipykernel)",
   "language": "python",
   "name": "python3"
  },
  "language_info": {
   "codemirror_mode": {
    "name": "ipython",
    "version": 3
   },
   "file_extension": ".py",
   "mimetype": "text/x-python",
   "name": "python",
   "nbconvert_exporter": "python",
   "pygments_lexer": "ipython3",
   "version": "3.10.6"
  }
 },
 "nbformat": 4,
 "nbformat_minor": 5
}
