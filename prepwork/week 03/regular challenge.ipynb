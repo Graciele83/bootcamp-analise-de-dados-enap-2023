{
 "cells": [
  {
   "cell_type": "markdown",
   "id": "284e519c-5a83-489e-b2c8-5244b23b66fe",
   "metadata": {},
   "source": [
    "# Questão 1: Manipulação de listas "
   ]
  },
  {
   "cell_type": "markdown",
   "id": "7dfc7119-f31c-4c1e-9135-2e265a90db8a",
   "metadata": {},
   "source": [
    "Um *string* é considerado como uma lista ordenada de caracteres e, portanto, poderá ser percorrido da mesma forma que uma lista de objetos em Python. Por exemplo, o código abaixo:\n",
    "<p>\n",
    "\n",
    "```python\n",
    "palavra = 'string'\n",
    "for c in palavra:\n",
    "    print(c)\n",
    "```\n",
    "\n",
    "irá resultar na seguintes saída:\n",
    "```\n",
    "s\n",
    "t\n",
    "r\n",
    "i\n",
    "n\n",
    "g\n",
    "```\n",
    "</p>"
   ]
  },
  {
   "cell_type": "markdown",
   "id": "3e524b30-5a49-4297-9d69-6a64e1740a4c",
   "metadata": {},
   "source": [
    "Crie um programa para gerar o inverso de um string SEM utilizar a função nativa **reverse( )**; ou seja, se o seu string é 'banana', a saída do seu programa deverá ser 'ananab'."
   ]
  },
  {
   "cell_type": "code",
   "execution_count": 1,
   "id": "dd8bb663-9187-4192-8345-bb5da8c16905",
   "metadata": {},
   "outputs": [
    {
     "name": "stdout",
     "output_type": "stream",
     "text": [
      "ananab\n"
     ]
    }
   ],
   "source": [
    "palavra = 'banana'\n",
    "rev_palavra = ''\n",
    "for letra in palavra:\n",
    "    rev_palavra = letra + rev_palavra\n",
    "print(rev_palavra)"
   ]
  },
  {
   "cell_type": "markdown",
   "id": "a3772e18-8609-41c6-bd2e-f91f66dcee11",
   "metadata": {},
   "source": [
    "# Questão 2: Fatorial de um número"
   ]
  },
  {
   "cell_type": "markdown",
   "id": "fb497aa0-7a5f-4b3a-bf47-61d28c84d6cb",
   "metadata": {},
   "source": [
    "O fatorial de um número *n*, representado em linguagem matemática como *n!*, é calculado da seguinte forma:\n",
    "$$ n! = n * (n-1) * (n-2) * ... * 1 $$\n",
    "Crie um programa que calcule o fatorial de um número inteiro positivo *n*. Teste o seu código com vários valores de *n* para ter certeza que ele funciona bem direitinho, considerando que $$ 0! = 1 $$."
   ]
  },
  {
   "cell_type": "code",
   "execution_count": 2,
   "id": "52470f1b-8787-46d6-9dd6-8d076c526671",
   "metadata": {},
   "outputs": [
    {
     "name": "stdout",
     "output_type": "stream",
     "text": [
      "\n",
      "6! = 720\n"
     ]
    }
   ],
   "source": [
    "n = 6\n",
    "resultado = 1\n",
    "for i in range(n):\n",
    "    resultado = resultado * (i+1)\n",
    "\n",
    "print(f'\\n{n}! = {resultado}')"
   ]
  },
  {
   "cell_type": "markdown",
   "id": "0ede41b1-4178-4710-a833-9b3a623f3a3a",
   "metadata": {},
   "source": [
    "# Questão 3: Conversor de temperatura 🌡️"
   ]
  },
  {
   "cell_type": "markdown",
   "id": "d2687d78-daf6-46f2-8714-14e34364d633",
   "metadata": {},
   "source": [
    "O laboratório de pesquisa onde você trabalha faz o monitoramento da temperatura do freezer onde são armazenadas amostras de vírus perigosos! Infelizmente os sensores só lêem as temperaturas em Fahrenheit, e toda vez que uma temperatura é lida, os cientistas têm que fazer a conversão para graus Celsius de cabeça 😰 \n",
    "<p>A sua missão é criar um código em python que percorra uma lista de temperaturas em $^\\circ$F e imprima as temperaturas em $^\\circ$C.</p>\n",
    "<p>A fórmula para converter temperaturas de $^\\circ$F para $^\\circ$C: $$\\frac{(F - 32) * 5.0}{9.0}$$</p>\n",
    "<p>Exemplo: Para essa lista de temperaturas: [32, 212, 98.6, 68], seu código deverá produzir a seguinte saída:</p>\n",
    "<p>\n",
    "    <p>32F: 0C\n",
    "    <p>212F: 100C \n",
    "    <p>98.6F: 37C \n",
    "    <p>68F: 20C"
   ]
  },
  {
   "cell_type": "code",
   "execution_count": 3,
   "id": "752f14a3-4548-4ac2-b39a-f30b0d7acb27",
   "metadata": {},
   "outputs": [
    {
     "name": "stdout",
     "output_type": "stream",
     "text": [
      "32F: 0.0C\n",
      "212F: 100.0C\n",
      "98.6F: 37.0C\n",
      "68F: 20.0C\n"
     ]
    }
   ],
   "source": [
    "lista_temp = [32, 212, 98.6, 68]\n",
    "for tf in lista_temp:\n",
    "    tc = ((tf - 32) * 5)/9\n",
    "    print(f'{tf}F: {tc}C')"
   ]
  }
 ],
 "metadata": {
  "kernelspec": {
   "display_name": "Python 3 (ipykernel)",
   "language": "python",
   "name": "python3"
  },
  "language_info": {
   "codemirror_mode": {
    "name": "ipython",
    "version": 3
   },
   "file_extension": ".py",
   "mimetype": "text/x-python",
   "name": "python",
   "nbconvert_exporter": "python",
   "pygments_lexer": "ipython3",
   "version": "3.10.6"
  },
  "toc": {
   "base_numbering": 1,
   "nav_menu": {},
   "number_sections": true,
   "sideBar": true,
   "skip_h1_title": false,
   "title_cell": "Table of Contents",
   "title_sidebar": "Contents",
   "toc_cell": false,
   "toc_position": {},
   "toc_section_display": true,
   "toc_window_display": false
  }
 },
 "nbformat": 4,
 "nbformat_minor": 5
}
