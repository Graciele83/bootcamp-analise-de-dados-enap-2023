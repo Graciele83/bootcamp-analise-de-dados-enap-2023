{
 "cells": [
  {
   "cell_type": "markdown",
   "id": "4c13bcfb-b110-4efa-af15-137efc89e598",
   "metadata": {},
   "source": [
    "# Desafio Continuado (Semana 03): $i$ Menores Notas"
   ]
  },
  {
   "cell_type": "markdown",
   "id": "8c3dfaa3-702d-4dc6-ba2e-5b99385f975c",
   "metadata": {
    "tags": []
   },
   "source": [
    "## Faça um programa que calcule as $1 \\leq i \\leq 100$ menores notas de um aluno com base em todas as suas notas de faculdade"
   ]
  },
  {
   "cell_type": "markdown",
   "id": "d6ea29cb-b200-451c-b131-1688a491e57f",
   "metadata": {},
   "source": [
    "<b>Atenção: presumimos que a parte anterior deste desafio foi solucionada</b>\n",
    "\n",
    "Este desafio tem como pretensão avaliar seu vocabulário no Python.\n",
    "\n",
    "Programadoras mais avançadas têm distintas soluções para um mesmo problema.\n",
    "\n",
    "Incentivamos o exercício da criatividade, mas saiba que prover ao menos uma solução é suficiente para este desafio."
   ]
  },
  {
   "cell_type": "markdown",
   "id": "e2385eb3-ea01-4888-8c17-f957cb5e7276",
   "metadata": {},
   "source": [
    "## Entrada dos Dados"
   ]
  },
  {
   "cell_type": "markdown",
   "id": "9f5bb20f-5566-4a3e-a7f2-65d690fa6b9d",
   "metadata": {},
   "source": [
    "Considere as notas geradas aleatoriamente pelo código abaixo"
   ]
  },
  {
   "cell_type": "code",
   "execution_count": 1,
   "id": "5b36144e-9f5a-41ca-a1aa-57b4d5c18c43",
   "metadata": {
    "tags": []
   },
   "outputs": [],
   "source": [
    "import random\n",
    "notas = [round(random.uniform(0, 10), 2) for _ in range(100)]"
   ]
  },
  {
   "cell_type": "markdown",
   "id": "f9242b88-8ec1-4e65-ad1f-56d03c2e6425",
   "metadata": {},
   "source": [
    "Veja que é difícil encontrar as menores notas \"manualmente\""
   ]
  },
  {
   "cell_type": "code",
   "execution_count": 2,
   "id": "662fd21c-5f63-46a3-90ff-510378063fd7",
   "metadata": {
    "tags": []
   },
   "outputs": [
    {
     "name": "stdout",
     "output_type": "stream",
     "text": [
      "2.45; 4.31; 8.51; 2.28; 0.84; 6.96; 4.03; 7.36; 4.09; 0.41; 9.96; 5.43; 4.73; 5.96; 5.95; 5.04; 5.06; 1.88; 9.8; 2.0; 3.35; 6.02; 7.72; 8.48; 2.95; 0.08; 2.17; 6.06; 4.17; 6.69; 3.97; 6.99; 7.26; 1.93; 1.81; 0.43; 3.5; 6.41; 8.25; 4.52; 8.9; 3.57; 6.06; 5.7; 8.46; 5.49; 7.58; 4.47; 0.29; 7.41; 2.3; 5.64; 6.52; 3.71; 2.9; 8.9; 1.8; 8.23; 5.97; 6.37; 6.49; 2.35; 8.55; 5.26; 8.25; 8.74; 2.6; 2.95; 6.77; 7.94; 5.08; 4.21; 0.35; 2.45; 0.18; 5.75; 3.39; 1.67; 5.98; 3.87; 8.58; 1.89; 4.44; 4.61; 8.51; 7.71; 8.87; 9.76; 7.92; 8.2; 6.5; 5.45; 3.87; 4.98; 7.35; 2.83; 2.57; 3.68; 9.51; 5.66; "
     ]
    }
   ],
   "source": [
    "for nota in notas: print(nota, end='; ')"
   ]
  },
  {
   "cell_type": "markdown",
   "id": "34ba3964-d65b-49fa-ab33-83cecc3820b6",
   "metadata": {},
   "source": [
    "## Soluções"
   ]
  },
  {
   "cell_type": "markdown",
   "id": "28afef33-c6c1-40e6-b31e-d6bc530f3efb",
   "metadata": {},
   "source": [
    "### Solução 01"
   ]
  },
  {
   "cell_type": "markdown",
   "id": "e2d5ded9-f91a-4c71-b980-dd2d36bb7e22",
   "metadata": {},
   "source": [
    "Use uma função matemática nativa, fatiamento, a função 'remove' de listas e recursividade"
   ]
  },
  {
   "cell_type": "markdown",
   "id": "3eba1dd4-5915-4f13-aaa3-542d5c5eb5ad",
   "metadata": {},
   "source": [
    "👉 Nível de dificuldade: 🌶️🌶️🌶️"
   ]
  },
  {
   "cell_type": "code",
   "execution_count": 3,
   "id": "edb9577f-a144-4fa0-942f-a4a5d0c57a30",
   "metadata": {
    "tags": []
   },
   "outputs": [],
   "source": [
    "def i_menores_notas(notas, i):\n",
    "    #caso não haja nenhuma nota para retornar, retorna nenhuma nota\n",
    "    if i == 0: return []\n",
    "\n",
    "    #busque a menor nota\n",
    "    menor_nota = min(notas)\n",
    "    \n",
    "    #copie as notas para uma lista auxiliar de modo a não alterar a estrutura original ao remover a menor nota\n",
    "    notas_copia = notas[:]\n",
    "    \n",
    "    #remova a menor nota da lista auxiliar\n",
    "    notas_copia.remove(menor_nota)\n",
    "    \n",
    "    #continue descobrindo as demais i-1 menores notas\n",
    "    return [menor_nota] + i_menores_notas(notas_copia, i-1)"
   ]
  },
  {
   "cell_type": "code",
   "execution_count": 4,
   "id": "4c5426ff-75da-4b36-8d39-b63f5f227c5b",
   "metadata": {
    "tags": []
   },
   "outputs": [
    {
     "data": {
      "text/plain": [
       "[0.08, 0.18, 0.29, 0.35, 0.41]"
      ]
     },
     "execution_count": 4,
     "metadata": {},
     "output_type": "execute_result"
    }
   ],
   "source": [
    "i_menores_notas(notas, 5)"
   ]
  },
  {
   "cell_type": "markdown",
   "id": "8c095685-c68b-4855-babf-6b8f47a63a43",
   "metadata": {
    "tags": []
   },
   "source": [
    "### Solução 02"
   ]
  },
  {
   "cell_type": "markdown",
   "id": "2d2333e1-c959-46d2-988b-0b49a1d42a8a",
   "metadata": {},
   "source": [
    "Use estruturas de repetição e controle"
   ]
  },
  {
   "cell_type": "markdown",
   "id": "90709815-c011-4b0d-b096-d37192c31fe7",
   "metadata": {
    "tags": []
   },
   "source": [
    "👉 Nível de dificuldade: 🌶️🌶️🌶️🌶️"
   ]
  },
  {
   "cell_type": "code",
   "execution_count": 5,
   "id": "ad205164-58c3-4246-a01d-cd56b7db15c6",
   "metadata": {
    "tags": []
   },
   "outputs": [],
   "source": [
    "def i_menores_notas(notas, i):\n",
    "    #crie listas que armazenarão as i menores notas e os seus índices (respectivamente)\n",
    "    menores_notas, idx_menores_notas = [], []\n",
    "    \n",
    "    #repita a operação i vezes\n",
    "    for _ in range(i):\n",
    "        idx_menores_notas.append(-1)\n",
    "        menores_notas.append(float('+inf'))\n",
    "    \n",
    "        #percorra a lista de notas e obtenha a (i-esima) menor nota ao se certificar que pulamos o índice das i-1 menores notas\n",
    "        for idx, nota in enumerate(notas):\n",
    "            if nota < menores_notas[-1] and idx not in idx_menores_notas:\n",
    "                idx_menores_notas[-1], menores_notas[-1] = idx, nota\n",
    "            \n",
    "    return menores_notas"
   ]
  },
  {
   "cell_type": "code",
   "execution_count": 6,
   "id": "9c3b7b36-2d1b-4985-aad5-e2923535dc7e",
   "metadata": {
    "tags": []
   },
   "outputs": [
    {
     "data": {
      "text/plain": [
       "[0.08, 0.18, 0.29, 0.35, 0.41]"
      ]
     },
     "execution_count": 6,
     "metadata": {},
     "output_type": "execute_result"
    }
   ],
   "source": [
    "i_menores_notas(notas, 5)"
   ]
  },
  {
   "cell_type": "markdown",
   "id": "bec70f89-9c13-4d67-b248-15a8d28273b4",
   "metadata": {},
   "source": [
    "### Solução 03"
   ]
  },
  {
   "cell_type": "markdown",
   "id": "be4c080f-a345-4670-950f-1b5db733ee49",
   "metadata": {},
   "source": [
    "Use função de ordenação nativa e extraia os primeiros $i$ elementos com fatiamento"
   ]
  },
  {
   "cell_type": "markdown",
   "id": "e3f1cd29-8af9-49fc-b30a-d77f92d0b832",
   "metadata": {},
   "source": [
    "👉 Nível de dificuldade: 🌶️"
   ]
  },
  {
   "cell_type": "code",
   "execution_count": 7,
   "id": "27b9191c-ea51-401c-b7e7-806bcde69057",
   "metadata": {
    "tags": []
   },
   "outputs": [],
   "source": [
    "def i_menores_notas(notas, i):\n",
    "    return sorted(notas)[:i]"
   ]
  },
  {
   "cell_type": "code",
   "execution_count": 8,
   "id": "5e4d420f-d2f6-41b2-9afc-6efb7b55fdc8",
   "metadata": {
    "tags": []
   },
   "outputs": [
    {
     "data": {
      "text/plain": [
       "[0.08, 0.18, 0.29, 0.35, 0.41]"
      ]
     },
     "execution_count": 8,
     "metadata": {},
     "output_type": "execute_result"
    }
   ],
   "source": [
    "i_menores_notas(notas, 5)"
   ]
  },
  {
   "cell_type": "markdown",
   "id": "ec4784de-7ff1-4de1-8dd8-a4dbd373a176",
   "metadata": {},
   "source": [
    "### Solução 04"
   ]
  },
  {
   "cell_type": "markdown",
   "id": "97c86d60-3b9e-4b1b-af76-9218652668e5",
   "metadata": {},
   "source": [
    "Use biblioteca de estrutura de dados mais avançada, chamada heap, e extraia $i$ vezes um elementos da heap"
   ]
  },
  {
   "cell_type": "markdown",
   "id": "b3dd264d-a577-44ab-9360-3ad6357116b6",
   "metadata": {},
   "source": [
    "👉 Nível de dificuldade: 🌶️🌶️"
   ]
  },
  {
   "cell_type": "code",
   "execution_count": 9,
   "id": "37290204-2da4-43ef-881e-11a43f169428",
   "metadata": {},
   "outputs": [],
   "source": [
    "import heapq\n",
    "\n",
    "def i_menores_notas(notas, i):\n",
    "    return heapq.nsmallest(i, notas)"
   ]
  },
  {
   "cell_type": "code",
   "execution_count": 10,
   "id": "50447e44-b9fb-441c-82ce-3c2e673096c2",
   "metadata": {},
   "outputs": [
    {
     "data": {
      "text/plain": [
       "[0.08, 0.18, 0.29, 0.35, 0.41]"
      ]
     },
     "execution_count": 10,
     "metadata": {},
     "output_type": "execute_result"
    }
   ],
   "source": [
    "i_menores_notas(notas, 5)"
   ]
  }
 ],
 "metadata": {
  "kernelspec": {
   "display_name": "Python 3 (ipykernel)",
   "language": "python",
   "name": "python3"
  },
  "language_info": {
   "codemirror_mode": {
    "name": "ipython",
    "version": 3
   },
   "file_extension": ".py",
   "mimetype": "text/x-python",
   "name": "python",
   "nbconvert_exporter": "python",
   "pygments_lexer": "ipython3",
   "version": "3.10.6"
  }
 },
 "nbformat": 4,
 "nbformat_minor": 5
}
